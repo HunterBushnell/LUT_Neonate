{
  "nbformat": 4,
  "nbformat_minor": 0,
  "metadata": {
    "colab": {
      "provenance": [],
      "authorship_tag": "ABX9TyNUj6sYeMyq7OifIYrCItti",
      "include_colab_link": true
    },
    "kernelspec": {
      "name": "python3",
      "display_name": "Python 3"
    },
    "language_info": {
      "name": "python"
    }
  },
  "cells": [
    {
      "cell_type": "markdown",
      "metadata": {
        "id": "view-in-github",
        "colab_type": "text"
      },
      "source": [
        "<a href=\"https://colab.research.google.com/github/HunterBushnell/LUT_Neonate/blob/main/LUT_NeonateP0.ipynb\" target=\"_parent\"><img src=\"https://colab.research.google.com/assets/colab-badge.svg\" alt=\"Open In Colab\"/></a>"
      ]
    },
    {
      "cell_type": "code",
      "source": [
        "# Install\n",
        "!pip install neuron==8.2.2\n",
        "!pip install bmtk==1.0.7"
      ],
      "metadata": {
        "colab": {
          "base_uri": "https://localhost:8080/"
        },
        "id": "EN3eGs0MVhJr",
        "outputId": "195aa50c-43db-489e-f8ee-cae4526f360c"
      },
      "execution_count": null,
      "outputs": [
        {
          "output_type": "stream",
          "name": "stdout",
          "text": [
            "Looking in indexes: https://pypi.org/simple, https://us-python.pkg.dev/colab-wheels/public/simple/\n",
            "Requirement already satisfied: neuron==8.2.2 in /usr/local/lib/python3.10/dist-packages (8.2.2)\n",
            "Requirement already satisfied: numpy>=1.9.3 in /usr/local/lib/python3.10/dist-packages (from neuron==8.2.2) (1.22.4)\n",
            "Looking in indexes: https://pypi.org/simple, https://us-python.pkg.dev/colab-wheels/public/simple/\n",
            "Requirement already satisfied: bmtk==1.0.7 in /usr/local/lib/python3.10/dist-packages (1.0.7)\n",
            "Requirement already satisfied: jsonschema in /usr/local/lib/python3.10/dist-packages (from bmtk==1.0.7) (4.3.3)\n",
            "Requirement already satisfied: pandas in /usr/local/lib/python3.10/dist-packages (from bmtk==1.0.7) (1.5.3)\n",
            "Requirement already satisfied: numpy in /usr/local/lib/python3.10/dist-packages (from bmtk==1.0.7) (1.22.4)\n",
            "Requirement already satisfied: six in /usr/local/lib/python3.10/dist-packages (from bmtk==1.0.7) (1.16.0)\n",
            "Requirement already satisfied: h5py in /usr/local/lib/python3.10/dist-packages (from bmtk==1.0.7) (3.8.0)\n",
            "Requirement already satisfied: matplotlib in /usr/local/lib/python3.10/dist-packages (from bmtk==1.0.7) (3.7.1)\n",
            "Requirement already satisfied: scipy in /usr/local/lib/python3.10/dist-packages (from bmtk==1.0.7) (1.10.1)\n",
            "Requirement already satisfied: scikit-image in /usr/local/lib/python3.10/dist-packages (from bmtk==1.0.7) (0.19.3)\n",
            "Requirement already satisfied: sympy in /usr/local/lib/python3.10/dist-packages (from bmtk==1.0.7) (1.11.1)\n",
            "Requirement already satisfied: attrs>=17.4.0 in /usr/local/lib/python3.10/dist-packages (from jsonschema->bmtk==1.0.7) (23.1.0)\n",
            "Requirement already satisfied: pyrsistent!=0.17.0,!=0.17.1,!=0.17.2,>=0.14.0 in /usr/local/lib/python3.10/dist-packages (from jsonschema->bmtk==1.0.7) (0.19.3)\n",
            "Requirement already satisfied: contourpy>=1.0.1 in /usr/local/lib/python3.10/dist-packages (from matplotlib->bmtk==1.0.7) (1.0.7)\n",
            "Requirement already satisfied: cycler>=0.10 in /usr/local/lib/python3.10/dist-packages (from matplotlib->bmtk==1.0.7) (0.11.0)\n",
            "Requirement already satisfied: fonttools>=4.22.0 in /usr/local/lib/python3.10/dist-packages (from matplotlib->bmtk==1.0.7) (4.39.3)\n",
            "Requirement already satisfied: kiwisolver>=1.0.1 in /usr/local/lib/python3.10/dist-packages (from matplotlib->bmtk==1.0.7) (1.4.4)\n",
            "Requirement already satisfied: packaging>=20.0 in /usr/local/lib/python3.10/dist-packages (from matplotlib->bmtk==1.0.7) (23.1)\n",
            "Requirement already satisfied: pillow>=6.2.0 in /usr/local/lib/python3.10/dist-packages (from matplotlib->bmtk==1.0.7) (8.4.0)\n",
            "Requirement already satisfied: pyparsing>=2.3.1 in /usr/local/lib/python3.10/dist-packages (from matplotlib->bmtk==1.0.7) (3.0.9)\n",
            "Requirement already satisfied: python-dateutil>=2.7 in /usr/local/lib/python3.10/dist-packages (from matplotlib->bmtk==1.0.7) (2.8.2)\n",
            "Requirement already satisfied: pytz>=2020.1 in /usr/local/lib/python3.10/dist-packages (from pandas->bmtk==1.0.7) (2022.7.1)\n",
            "Requirement already satisfied: networkx>=2.2 in /usr/local/lib/python3.10/dist-packages (from scikit-image->bmtk==1.0.7) (3.1)\n",
            "Requirement already satisfied: imageio>=2.4.1 in /usr/local/lib/python3.10/dist-packages (from scikit-image->bmtk==1.0.7) (2.25.1)\n",
            "Requirement already satisfied: tifffile>=2019.7.26 in /usr/local/lib/python3.10/dist-packages (from scikit-image->bmtk==1.0.7) (2023.4.12)\n",
            "Requirement already satisfied: PyWavelets>=1.1.1 in /usr/local/lib/python3.10/dist-packages (from scikit-image->bmtk==1.0.7) (1.4.1)\n",
            "Requirement already satisfied: mpmath>=0.19 in /usr/local/lib/python3.10/dist-packages (from sympy->bmtk==1.0.7) (1.3.0)\n"
          ]
        }
      ]
    },
    {
      "cell_type": "code",
      "source": [
        "# Download Files\n",
        "\n",
        "import os\n",
        "\n",
        "if os.path.basename(os.getcwd())!='LUT_Neonate':\n",
        "  !git clone https://github.com/HunterBushnell/LUT_Neonate\n",
        "  %cd LUT_Neonate/\n",
        "else:\n",
        "  print('Mod files have already been downloaded.')\n",
        "%ls"
      ],
      "metadata": {
        "colab": {
          "base_uri": "https://localhost:8080/"
        },
        "id": "-gSQxFa_L5V7",
        "outputId": "2dba1f7b-e508-4f1e-e0d5-bd0a00225df8"
      },
      "execution_count": null,
      "outputs": [
        {
          "output_type": "stream",
          "name": "stdout",
          "text": [
            "fatal: destination path 'LUT_Neonate' already exists and is not an empty directory.\n",
            "/content/LUT_Neonate\n",
            "\u001b[0m\u001b[01;34mbiophys_components\u001b[0m/  \u001b[01;34mimages\u001b[0m/              \u001b[01;34mP0\u001b[0m/              \u001b[01;34m__pycache__\u001b[0m/\n",
            "Blad_spikes.csv      \u001b[01;34mjsons\u001b[0m/               \u001b[01;34mP14\u001b[0m/             README.md\n",
            "build_network.py     LUT_Baseline.ipynb   \u001b[01;34mP21\u001b[0m/             requirements.txt\n",
            "\u001b[01;34merror_logs\u001b[0m/          LUT_Neonate.ipynb    \u001b[01;34mP3\u001b[0m/              run_bionet.py\n",
            "EUS_spikes.csv       LUT_NeonateP0.ipynb  PAG_spikes.csv   run.sh\n",
            "feedback_loop.py     \u001b[01;34mnetwork\u001b[0m/             plot_results.py  spikes.csv\n",
            "generate_input.py    \u001b[01;34mnotes\u001b[0m/               plotting.pkl     spikes_pag.csv\n",
            "\u001b[01;34mgraphs\u001b[0m/              \u001b[01;34moutput\u001b[0m/              plotting.py      synapses.py\n"
          ]
        }
      ]
    },
    {
      "cell_type": "code",
      "source": [
        "# Compile Files\n",
        "\n",
        "import os \n",
        "# move to the mechanisms folder\n",
        "%cd biophys_components/mechanisms/\n",
        "os.system(\"rm -rf x86_64\") # deletes x86_64 if its there\n",
        "%ls # just to make sure its gone\n",
        "print(os.system('nrnivmodl modfiles')) # compile modfiles. Return 0 for success, 1 for failure.\n",
        "%ls # check to make sure the folder is there now\n",
        "%cd ../..\n",
        "%ls"
      ],
      "metadata": {
        "colab": {
          "base_uri": "https://localhost:8080/"
        },
        "id": "gYmb2C9NC_R0",
        "outputId": "f55a9575-b98c-43fb-c84a-c2ed410562bf"
      },
      "execution_count": null,
      "outputs": [
        {
          "output_type": "stream",
          "name": "stdout",
          "text": [
            "/content/LUT_Neonate/biophys_components/mechanisms\n",
            "filess  \u001b[0m\u001b[01;34mmodfiles\u001b[0m/\n",
            "0\n",
            "filess  \u001b[0m\u001b[01;34mmodfiles\u001b[0m/  \u001b[01;34mx86_64\u001b[0m/\n",
            "/content/LUT_Neonate\n",
            "\u001b[0m\u001b[01;34mbiophys_components\u001b[0m/  \u001b[01;34mimages\u001b[0m/              \u001b[01;34mP0\u001b[0m/              \u001b[01;34m__pycache__\u001b[0m/\n",
            "Blad_spikes.csv      \u001b[01;34mjsons\u001b[0m/               \u001b[01;34mP14\u001b[0m/             README.md\n",
            "build_network.py     LUT_Baseline.ipynb   \u001b[01;34mP21\u001b[0m/             requirements.txt\n",
            "\u001b[01;34merror_logs\u001b[0m/          LUT_Neonate.ipynb    \u001b[01;34mP3\u001b[0m/              run_bionet.py\n",
            "EUS_spikes.csv       LUT_NeonateP0.ipynb  PAG_spikes.csv   run.sh\n",
            "feedback_loop.py     \u001b[01;34mnetwork\u001b[0m/             plot_results.py  spikes.csv\n",
            "generate_input.py    \u001b[01;34mnotes\u001b[0m/               plotting.pkl     spikes_pag.csv\n",
            "\u001b[01;34mgraphs\u001b[0m/              \u001b[01;34moutput\u001b[0m/              plotting.py      synapses.py\n"
          ]
        }
      ]
    },
    {
      "cell_type": "code",
      "source": [
        "# Build Network\n",
        "\n",
        "import numpy as np\n",
        "from bmtk.builder.networks import NetworkBuilder\n",
        "import math\n",
        "import random\n",
        "\n",
        "random.seed(42)\n",
        "output_dir='network'\n",
        "\n",
        "#######################################################################\n",
        "##################### Create the cells ################################\n",
        "#######################################################################\n",
        "print(\"\\nCreating Cells\")\n",
        "\n",
        "# Build the main network\n",
        "net = NetworkBuilder('LUT')\n",
        "\n",
        "# Specify number of cells in each population #\n",
        "\n",
        "numBladaff  = 10\n",
        "numPAGaff   = 10\n",
        "#numEUSaff   = 10\n",
        "numIND      = 10\n",
        "numHypo     = 10\n",
        "#numINmplus  = 10\n",
        "#numINmminus = 10\n",
        "numPGN      = 10\n",
        "numFB       = 10\n",
        "numIMG      = 10 \n",
        "numMPG      = 10\n",
        "#numEUSmn    = 10\n",
        "#numBladmn   = 10\n",
        "# Create the nodes ----------------------------------------\n",
        "net.add_nodes(N=numBladaff, level='high',pop_name='Bladaff',model_type='biophysical',model_template='hoc:PUD',morphology='blank.swc')\n",
        "net.add_nodes(N=numPAGaff, pop_name='PAGaff',model_type='biophysical',model_template='hoc:PUD',morphology='blank.swc')\n",
        "# net.add_nodes(N=numEUSaff, level='high',pop_name='EUSaff',model_type='biophysical',model_template='hoc:PUD',morphology='blank.swc')\n",
        "net.add_nodes(N=numIND, pop_name='IND',model_type='biophysical',model_template='hoc:IND',morphology='blank.swc')\n",
        "net.add_nodes(N=numHypo, pop_name='Hypo',model_type='biophysical',model_template='hoc:HYPO',morphology='blank.swc')\n",
        "# net.add_nodes(N=numINmplus, pop_name='INmplus',model_type='biophysical',model_template='hoc:INM',morphology='blank.swc')\n",
        "# net.add_nodes(N=numINmminus, pop_name='INmminus',model_type='biophysical',model_template='hoc:INM',morphology='blank.swc')\n",
        "net.add_nodes(N=numPGN, level='low', pop_name='PGN',model_type='biophysical',model_template='hoc:PGN',morphology='blank.swc') \n",
        "net.add_nodes(N=numFB, pop_name='FB',model_type='biophysical',model_template='hoc:PUD',morphology='blank.swc')\n",
        "net.add_nodes(N=numIMG, pop_name='IMG',model_type='biophysical',model_template='hoc:IMG',morphology='blank.swc')\n",
        "net.add_nodes(N=numMPG, pop_name='MPG',model_type='biophysical',model_template='hoc:MPG',morphology='blank.swc') \n",
        "# net.add_nodes(N=numEUSmn, pop_name='EUSmn',model_type='biophysical',model_template='hoc:PUD',morphology='blank.swc')\n",
        "# net.add_nodes(N=numBladmn, pop_name='Bladmn',model_type='biophysical',model_template='hoc:PUD',morphology='blank.swc')\n",
        "\n",
        "##################################################################################\n",
        "####################### Connect the cells ########################################\n",
        "##################################################################################\n",
        "print(\"\\nConnecting Cells\")\n",
        "\n",
        "# Connectivity function\n",
        "# To use this function, the number of cells in the source population must be the same\n",
        "# as the number of cells in the target population.\n",
        "def one_to_one(source, target):\n",
        "    sid = source.node_id\n",
        "    tid = target.node_id\n",
        "    source_name = source['pop_name']\n",
        "    target_name = target['pop_name']\n",
        "    # if source_name=='EUSaff':\n",
        "    #     sid = sid-(numBladaff)\n",
        "    if source_name=='PAGaff':\n",
        "        sid = sid-(numBladaff)\n",
        "    if source_name=='IND':\n",
        "        sid = sid-(numBladaff+numPAGaff)\n",
        "    if source_name=='Hypo':\n",
        "        sid = sid-(numBladaff+numPAGaff+numIND)\n",
        "    # if source_name=='INmplus':\n",
        "        # sid = sid-(numBladaff+numEUSaff+numPAGaff+numIND+numHypo)\n",
        "    # if source_name=='INmminus':\n",
        "        # sid = sid-(numBladaff+numEUSaff+numPAGaff+numIND+numHypo+numINmplus)\n",
        "    if source_name=='PGN':\n",
        "        sid = sid-(numBladaff+numPAGaff+numIND+numHypo)\n",
        "    if source_name=='FB':\n",
        "        sid = sid-(numBladaff+numPAGaff+numIND+numHypo+numPGN)\n",
        "    if source_name=='IMG':\n",
        "        sid = sid-(numBladaff+numPAGaff+numIND+numHypo+numPGN+numFB)\n",
        "    if source_name=='MPG':\n",
        "        sid = sid-(numBladaff+numPAGaff+numIND+numHypo+numPGN+numFB+numIMG)\n",
        "    # if source_name=='EUSmn':\n",
        "        # sid = sid-(numBladaff+numEUSaff+numPAGaff+numIND+numHypo+numINmplus+numINmminus+numPGN+numFB+numIMG+numMPG)\n",
        "    # if source_name=='Bladmn':\n",
        "        # sid = sid-(numBladaff+numEUSaff+numPAGaff+numIND+numHypo+numINmplus+numINmminus+numPGN+numFB+numIMG+numMPG+numEUSmn)\n",
        "    \n",
        "    # if target_name=='EUSaff':\n",
        "        # tid = tid-(numBladaff)\n",
        "    if target_name=='PAGaff':\n",
        "        tid = tid-(numBladaff)\n",
        "    if target_name=='IND':\n",
        "        tid = tid-(numBladaff+numPAGaff)\n",
        "    if target_name=='Hypo':\n",
        "        tid = tid-(numBladaff+numPAGaff+numIND)\n",
        "    # if target_name=='INmplus':\n",
        "    #     tid = tid-(numBladaff+numEUSaff+numPAGaff+numIND+numHypo)\n",
        "    # if target_name=='INmminus':\n",
        "    #     tid = tid-(numBladaff+numEUSaff+numPAGaff+numIND+numHypo+numINmplus)\n",
        "    if target_name=='PGN':\n",
        "        tid = tid-(numBladaff+numPAGaff+numIND+numHypo)\n",
        "    if target_name=='FB':\n",
        "        tid = tid-(numBladaff+numPAGaff+numIND+numHypo+numPGN)\n",
        "    if target_name=='IMG':\n",
        "        tid = tid-(numBladaff+numPAGaff+numIND+numHypo+numPGN+numFB)\n",
        "    if target_name=='MPG':\n",
        "        tid = tid-(numBladaff+numPAGaff+numIND+numHypo+numPGN+numFB+numIMG)\n",
        "    # if target_name=='EUSmn':\n",
        "    #     tid = tid-(numBladaff+numEUSaff+numPAGaff+numIND+numHypo+numINmplus+numINmminus+numPGN+numFB+numIMG+numMPG)\n",
        "    # if target_name=='Bladmn':\n",
        "    #     tid = tid-(numBladaff+numEUSaff+numPAGaff+numIND+numHypo+numINmplus+numINmminus+numPGN+numFB+numIMG+numMPG+numEUSmn)\n",
        "    \n",
        "    if sid == tid:\n",
        "        print(\"connecting {} cell {} to {} cell {}\".format(source_name,sid,target_name,tid))\n",
        "        tmp_nsyn = 1\n",
        "    else:\n",
        "        return None\n",
        "\n",
        "    return tmp_nsyn\n",
        "\n",
        "\n",
        "def percent_connector(source,target,percent):\n",
        "    \"\"\"\n",
        "    For connections where types don't have the same number of cells\n",
        "    And positions are undefined for one type\n",
        "    \"\"\"\n",
        "    sid = source.node_id\n",
        "    tid = target.node_id\n",
        "    source_name = source['pop_name']\n",
        "    target_name = target['pop_name']\n",
        "\n",
        "    # if source_name=='EUSaff':\n",
        "    #     sid = sid-(numBladaff)\n",
        "    if source_name=='PAGaff':\n",
        "        sid = sid-(numBladaff)\n",
        "    if source_name=='IND':\n",
        "        sid = sid-(numBladaff+numPAGaff)\n",
        "    if source_name=='Hypo':\n",
        "        sid = sid-(numBladaff+numPAGaff+numIND)\n",
        "    # if source_name=='INmplus':\n",
        "        # sid = sid-(numBladaff+numEUSaff+numPAGaff+numIND+numHypo)\n",
        "    # if source_name=='INmminus':\n",
        "        # sid = sid-(numBladaff+numEUSaff+numPAGaff+numIND+numHypo+numINmplus)\n",
        "    if source_name=='PGN':\n",
        "        sid = sid-(numBladaff+numPAGaff+numIND+numHypo)\n",
        "    if source_name=='FB':\n",
        "        sid = sid-(numBladaff+numPAGaff+numIND+numHypo+numPGN)\n",
        "    if source_name=='IMG':\n",
        "        sid = sid-(numBladaff+numPAGaff+numIND+numHypo+numPGN+numFB)\n",
        "    if source_name=='MPG':\n",
        "        sid = sid-(numBladaff+numPAGaff+numIND+numHypo+numPGN+numFB+numIMG)\n",
        "    # if source_name=='EUSmn':\n",
        "        # sid = sid-(numBladaff+numEUSaff+numPAGaff+numIND+numHypo+numINmplus+numINmminus+numPGN+numFB+numIMG+numMPG)\n",
        "    # if source_name=='Bladmn':\n",
        "        # sid = sid-(numBladaff+numEUSaff+numPAGaff+numIND+numHypo+numINmplus+numINmminus+numPGN+numFB+numIMG+numMPG+numEUSmn)\n",
        "    \n",
        "    # if target_name=='EUSaff':\n",
        "        # tid = tid-(numBladaff)\n",
        "    if target_name=='PAGaff':\n",
        "        tid = tid-(numBladaff)\n",
        "    if target_name=='IND':\n",
        "        tid = tid-(numBladaff+numPAGaff)\n",
        "    if target_name=='Hypo':\n",
        "        tid = tid-(numBladaff+numPAGaff+numIND)\n",
        "    # if target_name=='INmplus':\n",
        "    #     tid = tid-(numBladaff+numEUSaff+numPAGaff+numIND+numHypo)\n",
        "    # if target_name=='INmminus':\n",
        "    #     tid = tid-(numBladaff+numEUSaff+numPAGaff+numIND+numHypo+numINmplus)\n",
        "    if target_name=='PGN':\n",
        "        tid = tid-(numBladaff+numPAGaff+numIND+numHypo)\n",
        "    if target_name=='FB':\n",
        "        tid = tid-(numBladaff+numPAGaff+numIND+numHypo+numPGN)\n",
        "    if target_name=='IMG':\n",
        "        tid = tid-(numBladaff+numPAGaff+numIND+numHypo+numPGN+numFB)\n",
        "    if target_name=='MPG':\n",
        "        tid = tid-(numBladaff+numPAGaff+numIND+numHypo+numPGN+numFB+numIMG)\n",
        "    # if target_name=='EUSmn':\n",
        "    #     tid = tid-(numBladaff+numEUSaff+numPAGaff+numIND+numHypo+numINmplus+numINmminus+numPGN+numFB+numIMG+numMPG)\n",
        "    # if target_name=='Bladmn':\n",
        "    #     tid = tid-(numBladaff+numEUSaff+numPAGaff+numIND+numHypo+numINmplus+numINmminus+numPGN+numFB+numIMG+numMPG+numEUSmn)\n",
        "\n",
        "    # if source_name=='EUSaff':\n",
        "    #     sid = sid-(numBladaff)\n",
        "    # if source_name=='PAGaff':\n",
        "    #     sid = sid-(numBladaff+numEUSaff)\n",
        "    # if source_name=='IND':\n",
        "    #     sid = sid-(numBladaff+numEUSaff+numPAGaff)\n",
        "    # if source_name=='Hypo':\n",
        "    #     sid = sid-(numBladaff+numEUSaff+numPAGaff+numIND)\n",
        "    # if source_name=='INmplus':\n",
        "    #     sid = sid-(numBladaff+numEUSaff+numPAGaff+numIND+numHypo)\n",
        "    # if source_name=='INmminus':\n",
        "    #     sid = sid-(numBladaff+numEUSaff+numPAGaff+numIND+numHypo+numINmplus)\n",
        "    # if source_name=='PGN':\n",
        "    #     sid = sid-(numBladaff+numEUSaff+numPAGaff+numIND+numHypo+numINmplus+numINmminus)\n",
        "    # if source_name=='FB':\n",
        "    #     sid = sid-(numBladaff+numEUSaff+numPAGaff+numIND+numHypo+numINmplus+numINmminus+numPGN)\n",
        "    # if source_name=='IMG':\n",
        "    #     sid = sid-(numBladaff+numEUSaff+numPAGaff+numIND+numHypo+numINmplus+numINmminus+numPGN+numFB)\n",
        "    # if source_name=='MPG':\n",
        "    #     sid = sid-(numBladaff+numEUSaff+numPAGaff+numIND+numHypo+numINmplus+numINmminus+numPGN+numFB+numIMG)\n",
        "    # if source_name=='EUSmn':\n",
        "    #     sid = sid-(numBladaff+numEUSaff+numPAGaff+numIND+numHypo+numINmplus+numINmminus+numPGN+numFB+numIMG+numMPG)\n",
        "    # if source_name=='Bladmn':\n",
        "    #     sid = sid-(numBladaff+numEUSaff+numPAGaff+numIND+numHypo+numINmplus+numINmminus+numPGN+numFB+numIMG+numMPG+numEUSmn)\n",
        "    \n",
        "    # if target_name=='EUSaff':\n",
        "    #     tid = tid-(numBladaff)\n",
        "    # if target_name=='PAGaff':\n",
        "    #     tid = tid-(numBladaff+numEUSaff)\n",
        "    # if target_name=='IND':\n",
        "    #     tid = tid-(numBladaff+numEUSaff+numPAGaff)\n",
        "    # if target_name=='Hypo':\n",
        "    #     tid = tid-(numBladaff+numEUSaff+numPAGaff+numIND)\n",
        "    # if target_name=='INmplus':\n",
        "    #     tid = tid-(numBladaff+numEUSaff+numPAGaff+numIND+numHypo)\n",
        "    # if target_name=='INmminus':\n",
        "    #     tid = tid-(numBladaff+numEUSaff+numPAGaff+numIND+numHypo+numINmplus)\n",
        "    # if target_name=='PGN':\n",
        "    #     tid = tid-(numBladaff+numEUSaff+numPAGaff+numIND+numHypo+numINmplus+numINmminus)\n",
        "    # if target_name=='FB':\n",
        "    #     tid = tid-(numBladaff+numEUSaff+numPAGaff+numIND+numHypo+numINmplus+numINmminus+numPGN)\n",
        "    # if target_name=='IMG':\n",
        "    #     tid = tid-(numBladaff+numEUSaff+numPAGaff+numIND+numHypo+numINmplus+numINmminus+numPGN+numFB)\n",
        "    # if target_name=='MPG':\n",
        "    #     tid = tid-(numBladaff+numEUSaff+numPAGaff+numIND+numHypo+numINmplus+numINmminus+numPGN+numFB+numIMG)\n",
        "    # if target_name=='EUSmn':\n",
        "    #     tid = tid-(numBladaff+numEUSaff+numPAGaff+numIND+numHypo+numINmplus+numINmminus+numPGN+numFB+numIMG+numMPG)\n",
        "    # if target_name=='Bladmn':\n",
        "    #     tid = tid-(numBladaff+numEUSaff+numPAGaff+numIND+numHypo+numINmplus+numINmminus+numPGN+numFB+numIMG+numMPG+numEUSmn)\n",
        "\n",
        "    if random.random() < (float(percent)/100):\n",
        "        print(\"connecting {} cell {} to {} cell {}\".format(source_name,sid,target_name,tid))\n",
        "        return 1\n",
        "    else:\n",
        "        return 0\n",
        "\n",
        "def conn_props(source,target,mu,sigma):\n",
        "    \"\"\"\n",
        "    Simply add connection properties as normal\n",
        "    https://github.com/AllenInstitute/bmtk/blob/develop/docs/tutorial/NetworkBuilder_Intro.ipynb\n",
        "    Can also adjust weights before running the network.\n",
        "    See https://github.com/AllenInstitute/bmtk/blob/develop/docs/tutorial/02_single_cell_syn.ipynb\n",
        "    Section 5\n",
        "    If done this way the function will need to be imported in the run script, consider refactoring?\n",
        "    \"\"\"\n",
        "\n",
        "    #syn_weight = np.random.lognormal(mean=mu,sigma=sigma)\n",
        "    syn_weight = mu\n",
        "\n",
        "    return syn_weight,0,0.5\n",
        "\n",
        "\n",
        "# Add connections -----------------------------------------\n",
        "\n",
        "# Blad afferent --> INd (Grill et al. 2016)\n",
        "conn = net.add_edges(source=net.nodes(pop_name='Bladaff'), target=net.nodes(pop_name='IND'),\n",
        "                   connection_rule=percent_connector,\n",
        "                   connection_params={'percent':100.0}, \n",
        "\t\t\t\t   target_sections=['somatic'],\n",
        "                   delay=2.0,\n",
        "                   distance_range=[0.0, 300.0],\n",
        "                   dynamics_params='AMPA_ExcToExc.json',\n",
        "                   model_template='Exp2Syn')\n",
        "\t\t\t\t\n",
        "conn.add_properties(names=['syn_weight', 'sec_id', 'sec_x'],\n",
        "                    rule=conn_props,\n",
        "                    rule_params={'mu':1.0e-3,'sigma':1},\n",
        "                    dtypes=[np.float, np.int32, np.float])\n",
        "\n",
        " # Blad afferent --> Hypogastric (Hou et al. 2014)\n",
        "conn = net.add_edges(source=net.nodes(pop_name='Bladaff'), target=net.nodes(pop_name='Hypo'),\n",
        "                    connection_rule=percent_connector,\n",
        "                    connection_params={'percent':10.0},\n",
        "                    target_sections=['somatic'],\n",
        "                    delay=2.0,\n",
        "                    distance_range=[0.0, 300.0],\n",
        "                    dynamics_params='AMPA_ExcToExc.json',\n",
        "                    model_template='Exp2Syn')\n",
        "\n",
        "conn.add_properties(names=['syn_weight', 'sec_id', 'sec_x'],\n",
        "                     rule=conn_props,\n",
        "                     rule_params={'mu':12.0e-3,'sigma':1},\n",
        "                     dtypes=[np.float, np.int32, np.float])\n",
        "\n",
        "######## EUS afferent --> INd (Grill et al. 2016)\n",
        "# conn = net.add_edges(source=net.nodes(pop_name='EUSaff'), target=net.nodes(pop_name='IND'),\n",
        "#                    connection_rule=percent_connector,\n",
        "#                    connection_params={'percent':100.0},\n",
        "#                    target_sections=['somatic'],\n",
        "#                    delay=2.0,\n",
        "#                    distance_range=[0.0, 300.0],\n",
        "#                    dynamics_params='AMPA_ExcToExc.json',\n",
        "#                    model_template='Exp2Syn')\n",
        "\n",
        "# conn.add_properties(names=['syn_weight', 'sec_id', 'sec_x'],\n",
        "#                     rule=conn_props,\n",
        "#                     rule_params={'mu':1.0e-3,'sigma':1},\n",
        "#                     dtypes=[np.float, np.int32, np.float])\n",
        "\n",
        "# PAG afferent --> INd (Grill et al. 2016)\n",
        "conn = net.add_edges(source=net.nodes(pop_name='PAGaff'), target=net.nodes(pop_name='IND'),\n",
        "                   connection_rule=percent_connector,\n",
        "                   connection_params={'percent':100.0},\n",
        "                   target_sections=['somatic'],\n",
        "                   delay=2.0,\n",
        "                   distance_range=[0.0, 300.0],\n",
        "                   dynamics_params='AMPA_ExcToExc.json',\n",
        "                   model_template='Exp2Syn')\n",
        "\n",
        "conn.add_properties(names=['syn_weight', 'sec_id', 'sec_x'],\n",
        "                    rule=conn_props,\n",
        "                    rule_params={'mu':12.0e-3,'sigma':1},  # was 20.0e-3\n",
        "                    dtypes=[np.float, np.int32, np.float])\n",
        "\n",
        "# INd --> PGN (Grill et al. 2016)\n",
        "conn = net.add_edges(source=net.nodes(pop_name='IND'), target=net.nodes(pop_name='PGN'),\n",
        "                   connection_rule=percent_connector,\n",
        "                   connection_params={'percent':100.0},\n",
        "                   target_sections=['somatic'],\n",
        "                   delay=2.0,\n",
        "                   distance_range=[0.0, 300.0],\n",
        "                   dynamics_params='AMPA_ExcToExc.json',\n",
        "                   model_template='Exp2Syn')\n",
        "\n",
        "conn.add_properties(names=['syn_weight', 'sec_id', 'sec_x'],\n",
        "                    rule=conn_props,\n",
        "                    rule_params={'mu':9.0e-3,'sigma':1},\n",
        "                    dtypes=[np.float, np.int32, np.float])\n",
        "\n",
        " # Hypogastric --> IMG (Beckel et al. 2015)\n",
        "conn = net.add_edges(source=net.nodes(pop_name='Hypo'), target=net.nodes(pop_name='IMG'),\n",
        "                    connection_rule=percent_connector,\n",
        "                    connection_params={'percent':10.0},\n",
        "                    target_sections=['somatic'],\n",
        "                    delay=2.0,\n",
        "                    distance_range=[0.0, 300.0],\n",
        "                    dynamics_params='AMPA_ExcToExc.json',\n",
        "                    model_template='Exp2Syn')\n",
        "\n",
        "conn.add_properties(names=['syn_weight', 'sec_id', 'sec_x'],\n",
        "                     rule=conn_props,\n",
        "                     rule_params={'mu':12.0e-3,'sigma':1},\n",
        "                     dtypes=[np.float, np.int32, np.float])\n",
        "\n",
        "## STSP synapse ##\n",
        "# # EUS afferent --> INm+ (Grill et al. 2016) **Low pass filter**\n",
        "# conn = net.add_edges(source=net.nodes(pop_name='EUSaff'), target=net.nodes(pop_name='INmplus'),\n",
        "                   # connection_rule=percent_connector,\n",
        "                   # connection_params={'percent':100.0},\n",
        "                   # target_sections=['somatic'],\n",
        "                   # delay=2.0,\n",
        "                   # distance_range=[0.0, 300.0],\n",
        "                   # dynamics_params='stsp.json', \n",
        "                   # model_template='Exp2Syn1_STSP')\n",
        "\n",
        "# conn.add_properties(names=['syn_weight', 'sec_id', 'sec_x'],\n",
        "                    # rule=conn_props,\n",
        "                    # rule_params={'mu':0.5,'sigma':1},\n",
        "                    # dtypes=[np.float, np.int32, np.float])\n",
        "\n",
        "######## EUS afferent --> INm+(Grill et al. 2016)\n",
        "# conn = net.add_edges(source=net.nodes(pop_name='EUSaff'), target=net.nodes(pop_name='INmplus'),\n",
        "#                    connection_rule=percent_connector,\n",
        "#                    connection_params={'percent':100.0},\n",
        "#                    target_sections=['somatic'],\n",
        "#                    delay=2.0,\n",
        "#                    distance_range=[0.0, 300.0],\n",
        "#                    dynamics_params='AMPA_ExcToExc.json',\n",
        "#                    model_template='Exp2Syn')\n",
        "\n",
        "# conn.add_properties(names=['syn_weight', 'sec_id', 'sec_x'],\n",
        "#                     rule=conn_props,\n",
        "#                     rule_params={'mu':16.5e-3,'sigma':1},\n",
        "#                     dtypes=[np.float, np.int32, np.float])\n",
        "# PAG afferent --> INm+ (Source?)\n",
        "# Using this connection instead of synaptic depression for low pass filtering\n",
        "# conn = net.add_edges(source=net.nodes(pop_name='PAGaff'), target=net.nodes(pop_name='PGN'),\n",
        "                   # connection_rule=percent_connector,\n",
        "                   # connection_params={'percent':100.0},\n",
        "                   # target_sections=['somatic'],\n",
        "                   # delay=2.0,\n",
        "                   # distance_range=[0.0, 300.0],\n",
        "                   # dynamics_params='AMPA_ExcToExc.json',\n",
        "                   # model_template='Exp2Syn')\n",
        "\n",
        "# conn.add_properties(names=['syn_weight', 'sec_id', 'sec_x'],\n",
        "                    # rule=conn_props,\n",
        "                    # rule_params={'mu':11.0e-3,'sigma':1},\n",
        "                    # dtypes=[np.float, np.int32, np.float])\n",
        "\n",
        "######## EUS afferent --> INm-(Grill et al. 2016)\n",
        "# conn = net.add_edges(source=net.nodes(pop_name='EUSaff'), target=net.nodes(pop_name='INmminus'),\n",
        "#                    connection_rule=percent_connector,\n",
        "#                    connection_params={'percent':100.0},\n",
        "#                    target_sections=['somatic'],\n",
        "#                    delay=2.0,\n",
        "#                    distance_range=[0.0, 300.0],\n",
        "#                    dynamics_params='AMPA_ExcToExc.json',\n",
        "#                    model_template='Exp2Syn')\n",
        "\n",
        "# conn.add_properties(names=['syn_weight', 'sec_id', 'sec_x'],\n",
        "#                     rule=conn_props,\n",
        "#                     rule_params={'mu':16.0e-3,'sigma':1},\n",
        "#                     dtypes=[np.float, np.int32, np.float])\n",
        "\n",
        "######## INm+ --> PGN (Grill et al. 2016)\n",
        "# conn = net.add_edges(source=net.nodes(pop_name='INmplus'), target=net.nodes(pop_name='PGN'),\n",
        "#                    cconnection_rule=percent_connector,\n",
        "#                    connection_params={'percent':10.0},\n",
        "#                    target_sections=['somatic'],\n",
        "#                    delay=2.0,\n",
        "#                    distance_range=[0.0, 300.0],\n",
        "#                    dynamics_params='AMPA_ExcToExc.json',\n",
        "#                    model_template='Exp2Syn')\n",
        "\n",
        "# conn.add_properties(names=['syn_weight', 'sec_id', 'sec_x'],\n",
        "#                     rule=conn_props,\n",
        "#                     rule_params={'mu':1.0e-3,'sigma':1},\n",
        "#                     dtypes=[np.float, np.int32, np.float])\n",
        "\n",
        "######## INm- --> PGN (Grill et al. 2016)\n",
        "# conn = net.add_edges(source=net.nodes(pop_name='INmminus'), target=net.nodes(pop_name='PGN'),\n",
        "#                    connection_rule=percent_connector,\n",
        "#                    connection_params={'percent':10.0},\n",
        "#                    target_sections=['somatic'],\n",
        "#                    delay=2.0,\n",
        "#                    distance_range=[0.0, 300.0],\n",
        "#                    dynamics_params='GABA_InhToExc.json',\n",
        "#                    model_template='Exp2Syn')\n",
        "\n",
        "# conn.add_properties(names=['syn_weight', 'sec_id', 'sec_x'],\n",
        "#                     rule=conn_props,\n",
        "#                     rule_params={'mu':20.0e-3,'sigma':1},\n",
        "#                     dtypes=[np.float, np.int32, np.float])\n",
        "\n",
        "# PGN --> MPG (Beckel et al. 2015)\n",
        "conn = net.add_edges(source=net.nodes(pop_name='PGN'), target=net.nodes(pop_name='MPG'),\n",
        "                   connection_rule=percent_connector,\n",
        "                   connection_params={'percent':100.0},\n",
        "                   target_sections=['somatic'],\n",
        "                   delay=2.0,\n",
        "                   distance_range=[0.0, 300.0],\n",
        "                   dynamics_params='AMPA_ExcToExc.json',\n",
        "                   model_template='Exp2Syn')\n",
        "\n",
        "conn.add_properties(names=['syn_weight', 'sec_id', 'sec_x'],\n",
        "                    rule=conn_props,\n",
        "                    rule_params={'mu':12.0e-3,'sigma':1},\n",
        "                    dtypes=[np.float, np.int32, np.float])\n",
        "\n",
        "# PGN --> FB (Grill et al. 2016)\n",
        "conn = net.add_edges(source=net.nodes(pop_name='PGN'), target=net.nodes(pop_name='FB'),\n",
        "                   connection_rule=percent_connector,\n",
        "                   connection_params={'percent':100.0},\n",
        "                   target_sections=['somatic'],\n",
        "                   delay=2.0,\n",
        "                   distance_range=[0.0, 300.0],\n",
        "                   dynamics_params='AMPA_ExcToExc.json',\n",
        "                   model_template='Exp2Syn')\n",
        "\n",
        "conn.add_properties(names=['syn_weight', 'sec_id', 'sec_x'],\n",
        "                    rule=conn_props,\n",
        "                    rule_params={'mu':16.0e-3,'sigma':1}, #was 12.0e-3\n",
        "                    dtypes=[np.float, np.int32, np.float])\n",
        "\n",
        "# FB --> INd (Grill et al. 2016)\n",
        "conn = net.add_edges(source=net.nodes(pop_name='FB'), target=net.nodes(pop_name='IND'),\n",
        "                   connection_rule=percent_connector,\n",
        "                   connection_params={'percent':100.0},\n",
        "                   target_sections=['somatic'],\n",
        "                   delay=2.0,\n",
        "                   distance_range=[0.0, 300.0],\n",
        "                   dynamics_params='GABA_InhToInh.json',\n",
        "                   model_template='Exp2Syn')\n",
        "\n",
        "conn.add_properties(names=['syn_weight', 'sec_id', 'sec_x'],\n",
        "                    rule=conn_props,\n",
        "                    rule_params={'mu':20.0e-3,'sigma':1},       # was 12.0e-3\n",
        "                    dtypes=[np.float, np.int32, np.float])\n",
        "\n",
        "# # MPG --> Bladder MN (Beckel et al. 2015)\n",
        "# conn = net.add_edges(source=net.nodes(pop_name='MPG'), target=net.nodes(pop_name='Bladmn'),\n",
        "                   # connection_rule=percent_connector,\n",
        "                   # connection_params={'percent':10.0},\n",
        "                   # target_sections=['somatic'],\n",
        "                   # delay=2.0,\n",
        "                   # distance_range=[0.0, 300.0],\n",
        "                   # dynamics_params='AMPA_ExcToExc.json',\n",
        "                   # model_template='Exp2Syn')\n",
        "\n",
        "# conn.add_properties(names=['syn_weight', 'sec_id', 'sec_x'],\n",
        "                    # rule=conn_props,\n",
        "                    # rule_params={'mu':16.0e-3,'sigma':1},\n",
        "                    # dtypes=[np.float, np.int32, np.float])\n",
        "\n",
        "# # IMG --> Bladder MN (Beckel et al. 2015)\n",
        "# conn = net.add_edges(source=net.nodes(pop_name='IMG'), target=net.nodes(pop_name='Bladmn'),\n",
        "                   # connection_rule=percent_connector,\n",
        "                   # connection_params={'percent':10.0},\n",
        "                   # target_sections=['somatic'],\n",
        "                   # delay=2.0,\n",
        "                   # distance_range=[0.0, 300.0],\n",
        "                   # dynamics_params='GABA_InhToInh.json',\n",
        "                   # model_template='Exp2Syn')\n",
        "\n",
        "# conn.add_properties(names=['syn_weight', 'sec_id', 'sec_x'],\n",
        "                    # rule=conn_props,\n",
        "                    # rule_params={'mu':10.0e-3,'sigma':1},\n",
        "                    # dtypes=[np.float, np.int32, np.float])\n",
        "\n",
        "# PAG aff --> Hypogastric (de Groat, et al. 2015)\n",
        "conn = net.add_edges(source=net.nodes(pop_name='PAGaff'), target=net.nodes(pop_name='Hypo'),\n",
        "                    connection_rule=percent_connector,\n",
        "                    connection_params={'percent':100.0},\n",
        "                    target_sections=['somatic'],\n",
        "                    delay=2.0,\n",
        "                    distance_range=[0.0, 300.0],\n",
        "                    dynamics_params='GABA_InhToInh.json',\n",
        "                    model_template='Exp2Syn')\n",
        "\n",
        "conn.add_properties(names=['syn_weight', 'sec_id', 'sec_x'],\n",
        "                     rule=conn_props,\n",
        "                     rule_params={'mu':12.0e-3,'sigma':1},\n",
        "                     dtypes=[np.float, np.int32, np.float])\n",
        "\n",
        "# PAG aff --> EUS MN (Shefchyk et al. 2001)\n",
        "# conn = net.add_edges(source=net.nodes(pop_name='PAGaff'), target=net.nodes(pop_name='EUSmn'),\n",
        "                   # connection_rule=percent_connector,\n",
        "                   # connection_params={'percent':100.0},\n",
        "                   # target_sections=['somatic'],\n",
        "                   # delay=2.0,\n",
        "                   # distance_range=[0.0, 300.0],\n",
        "                   # dynamics_params='GABA_InhToInh.json',\n",
        "                   # model_template='Exp2Syn')\n",
        "\n",
        "# conn.add_properties(names=['syn_weight', 'sec_id', 'sec_x'],\n",
        "                    # rule=conn_props,\n",
        "                    # rule_params={'mu':12.0e-3,'sigma':1},\n",
        "                    # dtypes=[np.float, np.int32, np.float])\n",
        "\n",
        "# EUS afferent --> EUS MN (Beckel et al. 2015)\n",
        "# conn = net.add_edges(source=net.nodes(pop_name='EUSaff'), target=net.nodes(pop_name='EUSmn'),\n",
        "                   # connection_rule=percent_connector,\n",
        "                   # connection_params={'percent':100.0},\n",
        "                   # target_sections=['somatic'],\n",
        "                   # delay=2.0,\n",
        "                   # distance_range=[0.0, 300.0],\n",
        "                   # dynamics_params='AMPA_ExcToExc.json',\n",
        "                   # model_template='Exp2Syn')\n",
        "\n",
        "# conn.add_properties(names=['syn_weight', 'sec_id', 'sec_x'],\n",
        "                    # rule=conn_props,\n",
        "                    # rule_params={'mu':12.0e-3,'sigma':1},\n",
        "                    # dtypes=[np.float, np.int32, np.float])\n",
        "\n",
        "# Connect virtual cells to EUS, Bladder, and PAG/PMC\n",
        "Blad_aff_virt = NetworkBuilder('Blad_aff_virt') # Virtual cells delivering input to Bladder\n",
        "# EUS_aff_virt = NetworkBuilder('EUS_aff_virt')   # Virtual cells delivering input to EUS\n",
        "PAG_aff_virt = NetworkBuilder('PAG_aff_virt')   # Virtual cells delivering input to PAG/PMC\n",
        "\n",
        "Blad_aff_virt.add_nodes(N=numBladaff, pop_name = 'Blad_aff_virt', model_type='virtual', potential='exc')\n",
        "# EUS_aff_virt.add_nodes(N=numEUSaff, pop_name = 'EUS_aff_virt', model_type='virtual', potential='exc')\n",
        "PAG_aff_virt.add_nodes(N=numPAGaff, pop_name = 'PAG_aff_virt', model_type='virtual', potential='exc')\n",
        "\n",
        "Blad_aff_virt.add_edges(source=Blad_aff_virt.nodes(), target=net.nodes(pop_name='Bladaff'),\n",
        "                   connection_rule=percent_connector,\n",
        "                   connection_params={'percent':100.0},\n",
        "                   syn_weight=12.0e-03,\n",
        "                   target_sections=['somatic'],\n",
        "\t\t\t\t   delay=2.0,\n",
        "                   distance_range=[0.0, 300.0],\n",
        "                   dynamics_params='AMPA_ExcToExc.json',\n",
        "                   model_template='Exp2Syn')\n",
        "\n",
        "\t\t\t\t\t\n",
        "# EUS_aff_virt.add_edges(source=EUS_aff_virt.nodes(), target=net.nodes(pop_name='EUSaff'),\n",
        "#                    connection_rule=percent_connector,\n",
        "#                    connection_params={'percent':100.0},\n",
        "#                    syn_weight=12.0e-03,\n",
        "#                    target_sections=['somatic'],\n",
        "#                    delay=2.0,\n",
        "#                    distance_range=[0.0, 300.0],\n",
        "#                    dynamics_params='AMPA_ExcToExc.json',\n",
        "#                    model_template='Exp2Syn')\n",
        "\n",
        "PAG_aff_virt.add_edges(source=PAG_aff_virt.nodes(), target=net.nodes(pop_name='PAGaff'),\n",
        "                   connection_rule=percent_connector,\n",
        "                   connection_params={'percent':100.0},\n",
        "                   syn_weight=20.0e-03,\n",
        "                   target_sections=['somatic'],\n",
        "                   delay=2.0,\n",
        "                   distance_range=[0.0, 300.0],\n",
        "                   dynamics_params='AMPA_ExcToExc.json',\n",
        "                   model_template='Exp2Syn')\n",
        "\n",
        "####################################################################################\n",
        "########################## Build and save network ##################################\n",
        "####################################################################################\n",
        "\n",
        "print(\"\\nBuilding network and saving to directory \\\"\" + output_dir + \"\\\"\")\n",
        "net.build()\n",
        "Blad_aff_virt.build()\n",
        "# EUS_aff_virt.build()\n",
        "PAG_aff_virt.build()\n",
        "\n",
        "net.save_nodes(output_dir=output_dir)\n",
        "net.save_edges(output_dir=output_dir)\n",
        "\n",
        "Blad_aff_virt.save_nodes(output_dir=output_dir)\n",
        "Blad_aff_virt.save_edges(output_dir=output_dir)\n",
        "\n",
        "# EUS_aff_virt.save_nodes(output_dir=output_dir)\n",
        "# EUS_aff_virt.save_edges(output_dir=output_dir)\n",
        "\n",
        "PAG_aff_virt.save_nodes(output_dir=output_dir)\n",
        "PAG_aff_virt.save_edges(output_dir=output_dir)\n",
        "\n",
        "print(\"Done\")"
      ],
      "metadata": {
        "colab": {
          "base_uri": "https://localhost:8080/"
        },
        "id": "OwFAcOVDTxGn",
        "outputId": "ad8baf94-6dc6-43ee-da3c-215b81556f8d"
      },
      "execution_count": null,
      "outputs": [
        {
          "output_type": "stream",
          "name": "stdout",
          "text": [
            "\n",
            "Creating Cells\n",
            "\n",
            "Connecting Cells\n",
            "\n",
            "Building network and saving to directory \"network\"\n",
            "connecting Bladaff cell 0 to IND cell 0\n",
            "connecting Bladaff cell 0 to IND cell 1\n",
            "connecting Bladaff cell 0 to IND cell 2\n",
            "connecting Bladaff cell 0 to IND cell 3\n",
            "connecting Bladaff cell 0 to IND cell 4\n",
            "connecting Bladaff cell 0 to IND cell 5\n",
            "connecting Bladaff cell 0 to IND cell 6\n",
            "connecting Bladaff cell 0 to IND cell 7\n",
            "connecting Bladaff cell 0 to IND cell 8\n",
            "connecting Bladaff cell 0 to IND cell 9\n",
            "connecting Bladaff cell 1 to IND cell 0\n",
            "connecting Bladaff cell 1 to IND cell 1\n",
            "connecting Bladaff cell 1 to IND cell 2\n",
            "connecting Bladaff cell 1 to IND cell 3\n",
            "connecting Bladaff cell 1 to IND cell 4\n",
            "connecting Bladaff cell 1 to IND cell 5\n",
            "connecting Bladaff cell 1 to IND cell 6\n",
            "connecting Bladaff cell 1 to IND cell 7\n",
            "connecting Bladaff cell 1 to IND cell 8\n",
            "connecting Bladaff cell 1 to IND cell 9\n",
            "connecting Bladaff cell 2 to IND cell 0\n",
            "connecting Bladaff cell 2 to IND cell 1\n",
            "connecting Bladaff cell 2 to IND cell 2\n",
            "connecting Bladaff cell 2 to IND cell 3\n",
            "connecting Bladaff cell 2 to IND cell 4\n",
            "connecting Bladaff cell 2 to IND cell 5\n",
            "connecting Bladaff cell 2 to IND cell 6\n",
            "connecting Bladaff cell 2 to IND cell 7\n",
            "connecting Bladaff cell 2 to IND cell 8\n",
            "connecting Bladaff cell 2 to IND cell 9\n",
            "connecting Bladaff cell 3 to IND cell 0\n",
            "connecting Bladaff cell 3 to IND cell 1\n",
            "connecting Bladaff cell 3 to IND cell 2\n",
            "connecting Bladaff cell 3 to IND cell 3\n",
            "connecting Bladaff cell 3 to IND cell 4\n",
            "connecting Bladaff cell 3 to IND cell 5\n",
            "connecting Bladaff cell 3 to IND cell 6\n",
            "connecting Bladaff cell 3 to IND cell 7\n",
            "connecting Bladaff cell 3 to IND cell 8\n",
            "connecting Bladaff cell 3 to IND cell 9\n",
            "connecting Bladaff cell 4 to IND cell 0\n",
            "connecting Bladaff cell 4 to IND cell 1\n",
            "connecting Bladaff cell 4 to IND cell 2\n",
            "connecting Bladaff cell 4 to IND cell 3\n",
            "connecting Bladaff cell 4 to IND cell 4\n",
            "connecting Bladaff cell 4 to IND cell 5\n",
            "connecting Bladaff cell 4 to IND cell 6\n",
            "connecting Bladaff cell 4 to IND cell 7\n",
            "connecting Bladaff cell 4 to IND cell 8\n",
            "connecting Bladaff cell 4 to IND cell 9\n",
            "connecting Bladaff cell 5 to IND cell 0\n",
            "connecting Bladaff cell 5 to IND cell 1\n",
            "connecting Bladaff cell 5 to IND cell 2\n",
            "connecting Bladaff cell 5 to IND cell 3\n",
            "connecting Bladaff cell 5 to IND cell 4\n",
            "connecting Bladaff cell 5 to IND cell 5\n",
            "connecting Bladaff cell 5 to IND cell 6\n",
            "connecting Bladaff cell 5 to IND cell 7\n",
            "connecting Bladaff cell 5 to IND cell 8\n",
            "connecting Bladaff cell 5 to IND cell 9\n",
            "connecting Bladaff cell 6 to IND cell 0\n",
            "connecting Bladaff cell 6 to IND cell 1\n",
            "connecting Bladaff cell 6 to IND cell 2\n",
            "connecting Bladaff cell 6 to IND cell 3\n",
            "connecting Bladaff cell 6 to IND cell 4\n",
            "connecting Bladaff cell 6 to IND cell 5\n",
            "connecting Bladaff cell 6 to IND cell 6\n",
            "connecting Bladaff cell 6 to IND cell 7\n",
            "connecting Bladaff cell 6 to IND cell 8\n",
            "connecting Bladaff cell 6 to IND cell 9\n",
            "connecting Bladaff cell 7 to IND cell 0\n",
            "connecting Bladaff cell 7 to IND cell 1\n",
            "connecting Bladaff cell 7 to IND cell 2\n",
            "connecting Bladaff cell 7 to IND cell 3\n",
            "connecting Bladaff cell 7 to IND cell 4\n",
            "connecting Bladaff cell 7 to IND cell 5\n",
            "connecting Bladaff cell 7 to IND cell 6\n",
            "connecting Bladaff cell 7 to IND cell 7\n",
            "connecting Bladaff cell 7 to IND cell 8\n",
            "connecting Bladaff cell 7 to IND cell 9\n",
            "connecting Bladaff cell 8 to IND cell 0\n",
            "connecting Bladaff cell 8 to IND cell 1\n",
            "connecting Bladaff cell 8 to IND cell 2\n",
            "connecting Bladaff cell 8 to IND cell 3\n",
            "connecting Bladaff cell 8 to IND cell 4\n",
            "connecting Bladaff cell 8 to IND cell 5\n",
            "connecting Bladaff cell 8 to IND cell 6\n",
            "connecting Bladaff cell 8 to IND cell 7\n",
            "connecting Bladaff cell 8 to IND cell 8\n",
            "connecting Bladaff cell 8 to IND cell 9\n",
            "connecting Bladaff cell 9 to IND cell 0\n",
            "connecting Bladaff cell 9 to IND cell 1\n",
            "connecting Bladaff cell 9 to IND cell 2\n",
            "connecting Bladaff cell 9 to IND cell 3\n",
            "connecting Bladaff cell 9 to IND cell 4\n",
            "connecting Bladaff cell 9 to IND cell 5\n",
            "connecting Bladaff cell 9 to IND cell 6\n",
            "connecting Bladaff cell 9 to IND cell 7\n",
            "connecting Bladaff cell 9 to IND cell 8\n",
            "connecting Bladaff cell 9 to IND cell 9\n",
            "connecting Bladaff cell 0 to Hypo cell 0\n",
            "connecting Bladaff cell 2 to Hypo cell 4\n",
            "connecting Bladaff cell 2 to Hypo cell 6\n",
            "connecting Bladaff cell 3 to Hypo cell 1\n",
            "connecting Bladaff cell 3 to Hypo cell 4\n",
            "connecting Bladaff cell 3 to Hypo cell 6\n",
            "connecting Bladaff cell 6 to Hypo cell 0\n",
            "connecting Bladaff cell 6 to Hypo cell 5\n",
            "connecting Bladaff cell 7 to Hypo cell 6\n",
            "connecting Bladaff cell 8 to Hypo cell 3\n",
            "connecting Bladaff cell 9 to Hypo cell 7\n",
            "connecting PAGaff cell 0 to IND cell 0\n",
            "connecting PAGaff cell 0 to IND cell 1\n",
            "connecting PAGaff cell 0 to IND cell 2\n",
            "connecting PAGaff cell 0 to IND cell 3\n",
            "connecting PAGaff cell 0 to IND cell 4\n",
            "connecting PAGaff cell 0 to IND cell 5\n",
            "connecting PAGaff cell 0 to IND cell 6\n",
            "connecting PAGaff cell 0 to IND cell 7\n",
            "connecting PAGaff cell 0 to IND cell 8\n",
            "connecting PAGaff cell 0 to IND cell 9\n",
            "connecting PAGaff cell 1 to IND cell 0\n",
            "connecting PAGaff cell 1 to IND cell 1\n",
            "connecting PAGaff cell 1 to IND cell 2\n",
            "connecting PAGaff cell 1 to IND cell 3\n",
            "connecting PAGaff cell 1 to IND cell 4\n",
            "connecting PAGaff cell 1 to IND cell 5\n",
            "connecting PAGaff cell 1 to IND cell 6\n",
            "connecting PAGaff cell 1 to IND cell 7\n",
            "connecting PAGaff cell 1 to IND cell 8\n",
            "connecting PAGaff cell 1 to IND cell 9\n",
            "connecting PAGaff cell 2 to IND cell 0\n",
            "connecting PAGaff cell 2 to IND cell 1\n",
            "connecting PAGaff cell 2 to IND cell 2\n",
            "connecting PAGaff cell 2 to IND cell 3\n",
            "connecting PAGaff cell 2 to IND cell 4\n",
            "connecting PAGaff cell 2 to IND cell 5\n",
            "connecting PAGaff cell 2 to IND cell 6\n",
            "connecting PAGaff cell 2 to IND cell 7\n",
            "connecting PAGaff cell 2 to IND cell 8\n",
            "connecting PAGaff cell 2 to IND cell 9\n",
            "connecting PAGaff cell 3 to IND cell 0\n",
            "connecting PAGaff cell 3 to IND cell 1\n",
            "connecting PAGaff cell 3 to IND cell 2\n",
            "connecting PAGaff cell 3 to IND cell 3\n",
            "connecting PAGaff cell 3 to IND cell 4\n",
            "connecting PAGaff cell 3 to IND cell 5\n",
            "connecting PAGaff cell 3 to IND cell 6\n",
            "connecting PAGaff cell 3 to IND cell 7\n",
            "connecting PAGaff cell 3 to IND cell 8\n",
            "connecting PAGaff cell 3 to IND cell 9\n",
            "connecting PAGaff cell 4 to IND cell 0\n",
            "connecting PAGaff cell 4 to IND cell 1\n",
            "connecting PAGaff cell 4 to IND cell 2\n",
            "connecting PAGaff cell 4 to IND cell 3\n",
            "connecting PAGaff cell 4 to IND cell 4\n",
            "connecting PAGaff cell 4 to IND cell 5\n",
            "connecting PAGaff cell 4 to IND cell 6\n",
            "connecting PAGaff cell 4 to IND cell 7\n",
            "connecting PAGaff cell 4 to IND cell 8\n",
            "connecting PAGaff cell 4 to IND cell 9\n",
            "connecting PAGaff cell 5 to IND cell 0\n",
            "connecting PAGaff cell 5 to IND cell 1\n",
            "connecting PAGaff cell 5 to IND cell 2\n",
            "connecting PAGaff cell 5 to IND cell 3\n",
            "connecting PAGaff cell 5 to IND cell 4\n",
            "connecting PAGaff cell 5 to IND cell 5\n",
            "connecting PAGaff cell 5 to IND cell 6\n",
            "connecting PAGaff cell 5 to IND cell 7\n",
            "connecting PAGaff cell 5 to IND cell 8\n",
            "connecting PAGaff cell 5 to IND cell 9\n",
            "connecting PAGaff cell 6 to IND cell 0\n",
            "connecting PAGaff cell 6 to IND cell 1\n",
            "connecting PAGaff cell 6 to IND cell 2\n",
            "connecting PAGaff cell 6 to IND cell 3\n",
            "connecting PAGaff cell 6 to IND cell 4\n",
            "connecting PAGaff cell 6 to IND cell 5\n",
            "connecting PAGaff cell 6 to IND cell 6\n",
            "connecting PAGaff cell 6 to IND cell 7\n",
            "connecting PAGaff cell 6 to IND cell 8\n",
            "connecting PAGaff cell 6 to IND cell 9\n",
            "connecting PAGaff cell 7 to IND cell 0\n",
            "connecting PAGaff cell 7 to IND cell 1\n",
            "connecting PAGaff cell 7 to IND cell 2\n",
            "connecting PAGaff cell 7 to IND cell 3\n",
            "connecting PAGaff cell 7 to IND cell 4\n",
            "connecting PAGaff cell 7 to IND cell 5\n",
            "connecting PAGaff cell 7 to IND cell 6\n",
            "connecting PAGaff cell 7 to IND cell 7\n",
            "connecting PAGaff cell 7 to IND cell 8\n",
            "connecting PAGaff cell 7 to IND cell 9\n",
            "connecting PAGaff cell 8 to IND cell 0\n",
            "connecting PAGaff cell 8 to IND cell 1\n",
            "connecting PAGaff cell 8 to IND cell 2\n",
            "connecting PAGaff cell 8 to IND cell 3\n",
            "connecting PAGaff cell 8 to IND cell 4\n",
            "connecting PAGaff cell 8 to IND cell 5\n",
            "connecting PAGaff cell 8 to IND cell 6\n",
            "connecting PAGaff cell 8 to IND cell 7\n",
            "connecting PAGaff cell 8 to IND cell 8\n",
            "connecting PAGaff cell 8 to IND cell 9\n",
            "connecting PAGaff cell 9 to IND cell 0\n",
            "connecting PAGaff cell 9 to IND cell 1\n",
            "connecting PAGaff cell 9 to IND cell 2\n",
            "connecting PAGaff cell 9 to IND cell 3\n",
            "connecting PAGaff cell 9 to IND cell 4\n",
            "connecting PAGaff cell 9 to IND cell 5\n",
            "connecting PAGaff cell 9 to IND cell 6\n",
            "connecting PAGaff cell 9 to IND cell 7\n",
            "connecting PAGaff cell 9 to IND cell 8\n",
            "connecting PAGaff cell 9 to IND cell 9\n",
            "connecting IND cell 0 to PGN cell 0\n",
            "connecting IND cell 0 to PGN cell 1\n",
            "connecting IND cell 0 to PGN cell 2\n",
            "connecting IND cell 0 to PGN cell 3\n",
            "connecting IND cell 0 to PGN cell 4\n",
            "connecting IND cell 0 to PGN cell 5\n",
            "connecting IND cell 0 to PGN cell 6\n",
            "connecting IND cell 0 to PGN cell 7\n",
            "connecting IND cell 0 to PGN cell 8\n",
            "connecting IND cell 0 to PGN cell 9\n",
            "connecting IND cell 1 to PGN cell 0\n",
            "connecting IND cell 1 to PGN cell 1\n",
            "connecting IND cell 1 to PGN cell 2\n",
            "connecting IND cell 1 to PGN cell 3\n",
            "connecting IND cell 1 to PGN cell 4\n",
            "connecting IND cell 1 to PGN cell 5\n",
            "connecting IND cell 1 to PGN cell 6\n",
            "connecting IND cell 1 to PGN cell 7\n",
            "connecting IND cell 1 to PGN cell 8\n",
            "connecting IND cell 1 to PGN cell 9\n",
            "connecting IND cell 2 to PGN cell 0\n",
            "connecting IND cell 2 to PGN cell 1\n",
            "connecting IND cell 2 to PGN cell 2\n",
            "connecting IND cell 2 to PGN cell 3\n",
            "connecting IND cell 2 to PGN cell 4\n",
            "connecting IND cell 2 to PGN cell 5\n",
            "connecting IND cell 2 to PGN cell 6\n",
            "connecting IND cell 2 to PGN cell 7\n",
            "connecting IND cell 2 to PGN cell 8\n",
            "connecting IND cell 2 to PGN cell 9\n",
            "connecting IND cell 3 to PGN cell 0\n",
            "connecting IND cell 3 to PGN cell 1\n",
            "connecting IND cell 3 to PGN cell 2\n",
            "connecting IND cell 3 to PGN cell 3\n",
            "connecting IND cell 3 to PGN cell 4\n",
            "connecting IND cell 3 to PGN cell 5\n",
            "connecting IND cell 3 to PGN cell 6\n",
            "connecting IND cell 3 to PGN cell 7\n",
            "connecting IND cell 3 to PGN cell 8\n",
            "connecting IND cell 3 to PGN cell 9\n",
            "connecting IND cell 4 to PGN cell 0\n",
            "connecting IND cell 4 to PGN cell 1\n",
            "connecting IND cell 4 to PGN cell 2\n",
            "connecting IND cell 4 to PGN cell 3\n",
            "connecting IND cell 4 to PGN cell 4\n",
            "connecting IND cell 4 to PGN cell 5\n",
            "connecting IND cell 4 to PGN cell 6\n",
            "connecting IND cell 4 to PGN cell 7\n",
            "connecting IND cell 4 to PGN cell 8\n",
            "connecting IND cell 4 to PGN cell 9\n",
            "connecting IND cell 5 to PGN cell 0\n",
            "connecting IND cell 5 to PGN cell 1\n",
            "connecting IND cell 5 to PGN cell 2\n",
            "connecting IND cell 5 to PGN cell 3\n",
            "connecting IND cell 5 to PGN cell 4\n",
            "connecting IND cell 5 to PGN cell 5\n",
            "connecting IND cell 5 to PGN cell 6\n",
            "connecting IND cell 5 to PGN cell 7\n",
            "connecting IND cell 5 to PGN cell 8\n",
            "connecting IND cell 5 to PGN cell 9\n",
            "connecting IND cell 6 to PGN cell 0\n",
            "connecting IND cell 6 to PGN cell 1\n",
            "connecting IND cell 6 to PGN cell 2\n",
            "connecting IND cell 6 to PGN cell 3\n",
            "connecting IND cell 6 to PGN cell 4\n",
            "connecting IND cell 6 to PGN cell 5\n",
            "connecting IND cell 6 to PGN cell 6\n",
            "connecting IND cell 6 to PGN cell 7\n",
            "connecting IND cell 6 to PGN cell 8\n",
            "connecting IND cell 6 to PGN cell 9\n",
            "connecting IND cell 7 to PGN cell 0\n",
            "connecting IND cell 7 to PGN cell 1\n",
            "connecting IND cell 7 to PGN cell 2\n",
            "connecting IND cell 7 to PGN cell 3\n",
            "connecting IND cell 7 to PGN cell 4\n",
            "connecting IND cell 7 to PGN cell 5\n",
            "connecting IND cell 7 to PGN cell 6\n",
            "connecting IND cell 7 to PGN cell 7\n",
            "connecting IND cell 7 to PGN cell 8\n",
            "connecting IND cell 7 to PGN cell 9\n",
            "connecting IND cell 8 to PGN cell 0\n",
            "connecting IND cell 8 to PGN cell 1\n",
            "connecting IND cell 8 to PGN cell 2\n",
            "connecting IND cell 8 to PGN cell 3\n",
            "connecting IND cell 8 to PGN cell 4\n",
            "connecting IND cell 8 to PGN cell 5\n",
            "connecting IND cell 8 to PGN cell 6\n",
            "connecting IND cell 8 to PGN cell 7\n",
            "connecting IND cell 8 to PGN cell 8\n",
            "connecting IND cell 8 to PGN cell 9\n",
            "connecting IND cell 9 to PGN cell 0\n",
            "connecting IND cell 9 to PGN cell 1\n",
            "connecting IND cell 9 to PGN cell 2\n",
            "connecting IND cell 9 to PGN cell 3\n",
            "connecting IND cell 9 to PGN cell 4\n",
            "connecting IND cell 9 to PGN cell 5\n",
            "connecting IND cell 9 to PGN cell 6\n",
            "connecting IND cell 9 to PGN cell 7\n",
            "connecting IND cell 9 to PGN cell 8\n",
            "connecting IND cell 9 to PGN cell 9\n",
            "connecting Hypo cell 0 to IMG cell 6\n",
            "connecting Hypo cell 1 to IMG cell 5\n",
            "connecting Hypo cell 1 to IMG cell 9\n",
            "connecting Hypo cell 2 to IMG cell 7\n",
            "connecting Hypo cell 3 to IMG cell 5\n",
            "connecting Hypo cell 6 to IMG cell 0\n",
            "connecting Hypo cell 6 to IMG cell 9\n",
            "connecting Hypo cell 8 to IMG cell 1\n",
            "connecting Hypo cell 9 to IMG cell 3\n",
            "connecting PGN cell 0 to MPG cell 0\n",
            "connecting PGN cell 0 to MPG cell 1\n",
            "connecting PGN cell 0 to MPG cell 2\n",
            "connecting PGN cell 0 to MPG cell 3\n",
            "connecting PGN cell 0 to MPG cell 4\n",
            "connecting PGN cell 0 to MPG cell 5\n",
            "connecting PGN cell 0 to MPG cell 6\n",
            "connecting PGN cell 0 to MPG cell 7\n",
            "connecting PGN cell 0 to MPG cell 8\n",
            "connecting PGN cell 0 to MPG cell 9\n",
            "connecting PGN cell 1 to MPG cell 0\n",
            "connecting PGN cell 1 to MPG cell 1\n",
            "connecting PGN cell 1 to MPG cell 2\n",
            "connecting PGN cell 1 to MPG cell 3\n",
            "connecting PGN cell 1 to MPG cell 4\n",
            "connecting PGN cell 1 to MPG cell 5\n",
            "connecting PGN cell 1 to MPG cell 6\n",
            "connecting PGN cell 1 to MPG cell 7\n",
            "connecting PGN cell 1 to MPG cell 8\n",
            "connecting PGN cell 1 to MPG cell 9\n",
            "connecting PGN cell 2 to MPG cell 0\n",
            "connecting PGN cell 2 to MPG cell 1\n",
            "connecting PGN cell 2 to MPG cell 2\n",
            "connecting PGN cell 2 to MPG cell 3\n",
            "connecting PGN cell 2 to MPG cell 4\n",
            "connecting PGN cell 2 to MPG cell 5\n",
            "connecting PGN cell 2 to MPG cell 6\n",
            "connecting PGN cell 2 to MPG cell 7\n",
            "connecting PGN cell 2 to MPG cell 8\n",
            "connecting PGN cell 2 to MPG cell 9\n",
            "connecting PGN cell 3 to MPG cell 0\n",
            "connecting PGN cell 3 to MPG cell 1\n",
            "connecting PGN cell 3 to MPG cell 2\n",
            "connecting PGN cell 3 to MPG cell 3\n",
            "connecting PGN cell 3 to MPG cell 4\n",
            "connecting PGN cell 3 to MPG cell 5\n",
            "connecting PGN cell 3 to MPG cell 6\n",
            "connecting PGN cell 3 to MPG cell 7\n",
            "connecting PGN cell 3 to MPG cell 8\n",
            "connecting PGN cell 3 to MPG cell 9\n",
            "connecting PGN cell 4 to MPG cell 0\n",
            "connecting PGN cell 4 to MPG cell 1\n",
            "connecting PGN cell 4 to MPG cell 2\n",
            "connecting PGN cell 4 to MPG cell 3\n",
            "connecting PGN cell 4 to MPG cell 4\n",
            "connecting PGN cell 4 to MPG cell 5\n",
            "connecting PGN cell 4 to MPG cell 6\n",
            "connecting PGN cell 4 to MPG cell 7\n",
            "connecting PGN cell 4 to MPG cell 8\n",
            "connecting PGN cell 4 to MPG cell 9\n",
            "connecting PGN cell 5 to MPG cell 0\n",
            "connecting PGN cell 5 to MPG cell 1\n",
            "connecting PGN cell 5 to MPG cell 2\n",
            "connecting PGN cell 5 to MPG cell 3\n",
            "connecting PGN cell 5 to MPG cell 4\n",
            "connecting PGN cell 5 to MPG cell 5\n",
            "connecting PGN cell 5 to MPG cell 6\n",
            "connecting PGN cell 5 to MPG cell 7\n",
            "connecting PGN cell 5 to MPG cell 8\n",
            "connecting PGN cell 5 to MPG cell 9\n",
            "connecting PGN cell 6 to MPG cell 0\n",
            "connecting PGN cell 6 to MPG cell 1\n",
            "connecting PGN cell 6 to MPG cell 2\n",
            "connecting PGN cell 6 to MPG cell 3\n",
            "connecting PGN cell 6 to MPG cell 4\n",
            "connecting PGN cell 6 to MPG cell 5\n",
            "connecting PGN cell 6 to MPG cell 6\n",
            "connecting PGN cell 6 to MPG cell 7\n",
            "connecting PGN cell 6 to MPG cell 8\n",
            "connecting PGN cell 6 to MPG cell 9\n",
            "connecting PGN cell 7 to MPG cell 0\n",
            "connecting PGN cell 7 to MPG cell 1\n",
            "connecting PGN cell 7 to MPG cell 2\n",
            "connecting PGN cell 7 to MPG cell 3\n",
            "connecting PGN cell 7 to MPG cell 4\n",
            "connecting PGN cell 7 to MPG cell 5\n",
            "connecting PGN cell 7 to MPG cell 6\n",
            "connecting PGN cell 7 to MPG cell 7\n",
            "connecting PGN cell 7 to MPG cell 8\n",
            "connecting PGN cell 7 to MPG cell 9\n",
            "connecting PGN cell 8 to MPG cell 0\n",
            "connecting PGN cell 8 to MPG cell 1\n",
            "connecting PGN cell 8 to MPG cell 2\n",
            "connecting PGN cell 8 to MPG cell 3\n",
            "connecting PGN cell 8 to MPG cell 4\n",
            "connecting PGN cell 8 to MPG cell 5\n",
            "connecting PGN cell 8 to MPG cell 6\n",
            "connecting PGN cell 8 to MPG cell 7\n",
            "connecting PGN cell 8 to MPG cell 8\n",
            "connecting PGN cell 8 to MPG cell 9\n",
            "connecting PGN cell 9 to MPG cell 0\n",
            "connecting PGN cell 9 to MPG cell 1\n",
            "connecting PGN cell 9 to MPG cell 2\n",
            "connecting PGN cell 9 to MPG cell 3\n",
            "connecting PGN cell 9 to MPG cell 4\n",
            "connecting PGN cell 9 to MPG cell 5\n",
            "connecting PGN cell 9 to MPG cell 6\n",
            "connecting PGN cell 9 to MPG cell 7\n",
            "connecting PGN cell 9 to MPG cell 8\n",
            "connecting PGN cell 9 to MPG cell 9\n",
            "connecting PGN cell 0 to FB cell 0\n",
            "connecting PGN cell 0 to FB cell 1\n",
            "connecting PGN cell 0 to FB cell 2\n",
            "connecting PGN cell 0 to FB cell 3\n",
            "connecting PGN cell 0 to FB cell 4\n",
            "connecting PGN cell 0 to FB cell 5\n",
            "connecting PGN cell 0 to FB cell 6\n",
            "connecting PGN cell 0 to FB cell 7\n",
            "connecting PGN cell 0 to FB cell 8\n",
            "connecting PGN cell 0 to FB cell 9\n",
            "connecting PGN cell 1 to FB cell 0\n",
            "connecting PGN cell 1 to FB cell 1\n",
            "connecting PGN cell 1 to FB cell 2\n",
            "connecting PGN cell 1 to FB cell 3\n",
            "connecting PGN cell 1 to FB cell 4\n",
            "connecting PGN cell 1 to FB cell 5\n",
            "connecting PGN cell 1 to FB cell 6\n",
            "connecting PGN cell 1 to FB cell 7\n",
            "connecting PGN cell 1 to FB cell 8\n",
            "connecting PGN cell 1 to FB cell 9\n",
            "connecting PGN cell 2 to FB cell 0\n",
            "connecting PGN cell 2 to FB cell 1\n",
            "connecting PGN cell 2 to FB cell 2\n",
            "connecting PGN cell 2 to FB cell 3\n",
            "connecting PGN cell 2 to FB cell 4\n",
            "connecting PGN cell 2 to FB cell 5\n",
            "connecting PGN cell 2 to FB cell 6\n",
            "connecting PGN cell 2 to FB cell 7\n",
            "connecting PGN cell 2 to FB cell 8\n",
            "connecting PGN cell 2 to FB cell 9\n",
            "connecting PGN cell 3 to FB cell 0\n",
            "connecting PGN cell 3 to FB cell 1\n",
            "connecting PGN cell 3 to FB cell 2\n",
            "connecting PGN cell 3 to FB cell 3\n",
            "connecting PGN cell 3 to FB cell 4\n",
            "connecting PGN cell 3 to FB cell 5\n",
            "connecting PGN cell 3 to FB cell 6\n",
            "connecting PGN cell 3 to FB cell 7\n",
            "connecting PGN cell 3 to FB cell 8\n",
            "connecting PGN cell 3 to FB cell 9\n",
            "connecting PGN cell 4 to FB cell 0\n",
            "connecting PGN cell 4 to FB cell 1\n",
            "connecting PGN cell 4 to FB cell 2\n",
            "connecting PGN cell 4 to FB cell 3\n",
            "connecting PGN cell 4 to FB cell 4\n",
            "connecting PGN cell 4 to FB cell 5\n",
            "connecting PGN cell 4 to FB cell 6\n",
            "connecting PGN cell 4 to FB cell 7\n",
            "connecting PGN cell 4 to FB cell 8\n",
            "connecting PGN cell 4 to FB cell 9\n",
            "connecting PGN cell 5 to FB cell 0\n",
            "connecting PGN cell 5 to FB cell 1\n",
            "connecting PGN cell 5 to FB cell 2\n",
            "connecting PGN cell 5 to FB cell 3\n",
            "connecting PGN cell 5 to FB cell 4\n",
            "connecting PGN cell 5 to FB cell 5\n",
            "connecting PGN cell 5 to FB cell 6\n",
            "connecting PGN cell 5 to FB cell 7\n",
            "connecting PGN cell 5 to FB cell 8\n",
            "connecting PGN cell 5 to FB cell 9\n",
            "connecting PGN cell 6 to FB cell 0\n",
            "connecting PGN cell 6 to FB cell 1\n",
            "connecting PGN cell 6 to FB cell 2\n",
            "connecting PGN cell 6 to FB cell 3\n",
            "connecting PGN cell 6 to FB cell 4\n",
            "connecting PGN cell 6 to FB cell 5\n",
            "connecting PGN cell 6 to FB cell 6\n",
            "connecting PGN cell 6 to FB cell 7\n",
            "connecting PGN cell 6 to FB cell 8\n",
            "connecting PGN cell 6 to FB cell 9\n",
            "connecting PGN cell 7 to FB cell 0\n",
            "connecting PGN cell 7 to FB cell 1\n",
            "connecting PGN cell 7 to FB cell 2\n",
            "connecting PGN cell 7 to FB cell 3\n",
            "connecting PGN cell 7 to FB cell 4\n",
            "connecting PGN cell 7 to FB cell 5\n",
            "connecting PGN cell 7 to FB cell 6\n",
            "connecting PGN cell 7 to FB cell 7\n",
            "connecting PGN cell 7 to FB cell 8\n",
            "connecting PGN cell 7 to FB cell 9\n",
            "connecting PGN cell 8 to FB cell 0\n",
            "connecting PGN cell 8 to FB cell 1\n",
            "connecting PGN cell 8 to FB cell 2\n",
            "connecting PGN cell 8 to FB cell 3\n",
            "connecting PGN cell 8 to FB cell 4\n",
            "connecting PGN cell 8 to FB cell 5\n",
            "connecting PGN cell 8 to FB cell 6\n",
            "connecting PGN cell 8 to FB cell 7\n",
            "connecting PGN cell 8 to FB cell 8\n",
            "connecting PGN cell 8 to FB cell 9\n",
            "connecting PGN cell 9 to FB cell 0\n",
            "connecting PGN cell 9 to FB cell 1\n",
            "connecting PGN cell 9 to FB cell 2\n",
            "connecting PGN cell 9 to FB cell 3\n",
            "connecting PGN cell 9 to FB cell 4\n",
            "connecting PGN cell 9 to FB cell 5\n",
            "connecting PGN cell 9 to FB cell 6\n",
            "connecting PGN cell 9 to FB cell 7\n",
            "connecting PGN cell 9 to FB cell 8\n",
            "connecting PGN cell 9 to FB cell 9\n",
            "connecting FB cell 0 to IND cell 0\n",
            "connecting FB cell 0 to IND cell 1\n",
            "connecting FB cell 0 to IND cell 2\n",
            "connecting FB cell 0 to IND cell 3\n",
            "connecting FB cell 0 to IND cell 4\n",
            "connecting FB cell 0 to IND cell 5\n",
            "connecting FB cell 0 to IND cell 6\n",
            "connecting FB cell 0 to IND cell 7\n",
            "connecting FB cell 0 to IND cell 8\n",
            "connecting FB cell 0 to IND cell 9\n",
            "connecting FB cell 1 to IND cell 0\n",
            "connecting FB cell 1 to IND cell 1\n",
            "connecting FB cell 1 to IND cell 2\n",
            "connecting FB cell 1 to IND cell 3\n",
            "connecting FB cell 1 to IND cell 4\n",
            "connecting FB cell 1 to IND cell 5\n",
            "connecting FB cell 1 to IND cell 6\n",
            "connecting FB cell 1 to IND cell 7\n",
            "connecting FB cell 1 to IND cell 8\n",
            "connecting FB cell 1 to IND cell 9\n",
            "connecting FB cell 2 to IND cell 0\n",
            "connecting FB cell 2 to IND cell 1\n",
            "connecting FB cell 2 to IND cell 2\n",
            "connecting FB cell 2 to IND cell 3\n",
            "connecting FB cell 2 to IND cell 4\n",
            "connecting FB cell 2 to IND cell 5\n",
            "connecting FB cell 2 to IND cell 6\n",
            "connecting FB cell 2 to IND cell 7\n",
            "connecting FB cell 2 to IND cell 8\n",
            "connecting FB cell 2 to IND cell 9\n",
            "connecting FB cell 3 to IND cell 0\n",
            "connecting FB cell 3 to IND cell 1\n",
            "connecting FB cell 3 to IND cell 2\n",
            "connecting FB cell 3 to IND cell 3\n",
            "connecting FB cell 3 to IND cell 4\n",
            "connecting FB cell 3 to IND cell 5\n",
            "connecting FB cell 3 to IND cell 6\n",
            "connecting FB cell 3 to IND cell 7\n",
            "connecting FB cell 3 to IND cell 8\n",
            "connecting FB cell 3 to IND cell 9\n",
            "connecting FB cell 4 to IND cell 0\n",
            "connecting FB cell 4 to IND cell 1\n",
            "connecting FB cell 4 to IND cell 2\n",
            "connecting FB cell 4 to IND cell 3\n",
            "connecting FB cell 4 to IND cell 4\n",
            "connecting FB cell 4 to IND cell 5\n",
            "connecting FB cell 4 to IND cell 6\n",
            "connecting FB cell 4 to IND cell 7\n",
            "connecting FB cell 4 to IND cell 8\n",
            "connecting FB cell 4 to IND cell 9\n",
            "connecting FB cell 5 to IND cell 0\n",
            "connecting FB cell 5 to IND cell 1\n",
            "connecting FB cell 5 to IND cell 2\n",
            "connecting FB cell 5 to IND cell 3\n",
            "connecting FB cell 5 to IND cell 4\n",
            "connecting FB cell 5 to IND cell 5\n",
            "connecting FB cell 5 to IND cell 6\n",
            "connecting FB cell 5 to IND cell 7\n",
            "connecting FB cell 5 to IND cell 8\n",
            "connecting FB cell 5 to IND cell 9\n",
            "connecting FB cell 6 to IND cell 0\n",
            "connecting FB cell 6 to IND cell 1\n",
            "connecting FB cell 6 to IND cell 2\n",
            "connecting FB cell 6 to IND cell 3\n",
            "connecting FB cell 6 to IND cell 4\n",
            "connecting FB cell 6 to IND cell 5\n",
            "connecting FB cell 6 to IND cell 6\n",
            "connecting FB cell 6 to IND cell 7\n",
            "connecting FB cell 6 to IND cell 8\n",
            "connecting FB cell 6 to IND cell 9\n",
            "connecting FB cell 7 to IND cell 0\n",
            "connecting FB cell 7 to IND cell 1\n",
            "connecting FB cell 7 to IND cell 2\n",
            "connecting FB cell 7 to IND cell 3\n",
            "connecting FB cell 7 to IND cell 4\n",
            "connecting FB cell 7 to IND cell 5\n",
            "connecting FB cell 7 to IND cell 6\n",
            "connecting FB cell 7 to IND cell 7\n",
            "connecting FB cell 7 to IND cell 8\n",
            "connecting FB cell 7 to IND cell 9\n",
            "connecting FB cell 8 to IND cell 0\n",
            "connecting FB cell 8 to IND cell 1\n",
            "connecting FB cell 8 to IND cell 2\n",
            "connecting FB cell 8 to IND cell 3\n",
            "connecting FB cell 8 to IND cell 4\n",
            "connecting FB cell 8 to IND cell 5\n",
            "connecting FB cell 8 to IND cell 6\n",
            "connecting FB cell 8 to IND cell 7\n",
            "connecting FB cell 8 to IND cell 8\n",
            "connecting FB cell 8 to IND cell 9\n",
            "connecting FB cell 9 to IND cell 0\n",
            "connecting FB cell 9 to IND cell 1\n",
            "connecting FB cell 9 to IND cell 2\n",
            "connecting FB cell 9 to IND cell 3\n",
            "connecting FB cell 9 to IND cell 4\n",
            "connecting FB cell 9 to IND cell 5\n",
            "connecting FB cell 9 to IND cell 6\n",
            "connecting FB cell 9 to IND cell 7\n",
            "connecting FB cell 9 to IND cell 8\n",
            "connecting FB cell 9 to IND cell 9\n",
            "connecting PAGaff cell 0 to Hypo cell 0\n",
            "connecting PAGaff cell 0 to Hypo cell 1\n",
            "connecting PAGaff cell 0 to Hypo cell 2\n",
            "connecting PAGaff cell 0 to Hypo cell 3\n",
            "connecting PAGaff cell 0 to Hypo cell 4\n",
            "connecting PAGaff cell 0 to Hypo cell 5\n",
            "connecting PAGaff cell 0 to Hypo cell 6\n",
            "connecting PAGaff cell 0 to Hypo cell 7\n",
            "connecting PAGaff cell 0 to Hypo cell 8\n",
            "connecting PAGaff cell 0 to Hypo cell 9\n",
            "connecting PAGaff cell 1 to Hypo cell 0\n",
            "connecting PAGaff cell 1 to Hypo cell 1\n",
            "connecting PAGaff cell 1 to Hypo cell 2\n",
            "connecting PAGaff cell 1 to Hypo cell 3\n",
            "connecting PAGaff cell 1 to Hypo cell 4\n",
            "connecting PAGaff cell 1 to Hypo cell 5\n",
            "connecting PAGaff cell 1 to Hypo cell 6\n",
            "connecting PAGaff cell 1 to Hypo cell 7\n",
            "connecting PAGaff cell 1 to Hypo cell 8\n",
            "connecting PAGaff cell 1 to Hypo cell 9\n",
            "connecting PAGaff cell 2 to Hypo cell 0\n",
            "connecting PAGaff cell 2 to Hypo cell 1\n",
            "connecting PAGaff cell 2 to Hypo cell 2\n",
            "connecting PAGaff cell 2 to Hypo cell 3\n",
            "connecting PAGaff cell 2 to Hypo cell 4\n",
            "connecting PAGaff cell 2 to Hypo cell 5\n",
            "connecting PAGaff cell 2 to Hypo cell 6\n",
            "connecting PAGaff cell 2 to Hypo cell 7\n",
            "connecting PAGaff cell 2 to Hypo cell 8\n",
            "connecting PAGaff cell 2 to Hypo cell 9\n",
            "connecting PAGaff cell 3 to Hypo cell 0\n",
            "connecting PAGaff cell 3 to Hypo cell 1\n",
            "connecting PAGaff cell 3 to Hypo cell 2\n",
            "connecting PAGaff cell 3 to Hypo cell 3\n",
            "connecting PAGaff cell 3 to Hypo cell 4\n",
            "connecting PAGaff cell 3 to Hypo cell 5\n",
            "connecting PAGaff cell 3 to Hypo cell 6\n",
            "connecting PAGaff cell 3 to Hypo cell 7\n",
            "connecting PAGaff cell 3 to Hypo cell 8\n",
            "connecting PAGaff cell 3 to Hypo cell 9\n",
            "connecting PAGaff cell 4 to Hypo cell 0\n",
            "connecting PAGaff cell 4 to Hypo cell 1\n",
            "connecting PAGaff cell 4 to Hypo cell 2\n",
            "connecting PAGaff cell 4 to Hypo cell 3\n",
            "connecting PAGaff cell 4 to Hypo cell 4\n",
            "connecting PAGaff cell 4 to Hypo cell 5\n",
            "connecting PAGaff cell 4 to Hypo cell 6\n",
            "connecting PAGaff cell 4 to Hypo cell 7\n",
            "connecting PAGaff cell 4 to Hypo cell 8\n",
            "connecting PAGaff cell 4 to Hypo cell 9\n",
            "connecting PAGaff cell 5 to Hypo cell 0\n",
            "connecting PAGaff cell 5 to Hypo cell 1\n",
            "connecting PAGaff cell 5 to Hypo cell 2\n",
            "connecting PAGaff cell 5 to Hypo cell 3\n",
            "connecting PAGaff cell 5 to Hypo cell 4\n",
            "connecting PAGaff cell 5 to Hypo cell 5\n",
            "connecting PAGaff cell 5 to Hypo cell 6\n",
            "connecting PAGaff cell 5 to Hypo cell 7\n",
            "connecting PAGaff cell 5 to Hypo cell 8\n",
            "connecting PAGaff cell 5 to Hypo cell 9\n",
            "connecting PAGaff cell 6 to Hypo cell 0\n",
            "connecting PAGaff cell 6 to Hypo cell 1\n",
            "connecting PAGaff cell 6 to Hypo cell 2\n",
            "connecting PAGaff cell 6 to Hypo cell 3\n",
            "connecting PAGaff cell 6 to Hypo cell 4\n",
            "connecting PAGaff cell 6 to Hypo cell 5\n",
            "connecting PAGaff cell 6 to Hypo cell 6\n",
            "connecting PAGaff cell 6 to Hypo cell 7\n",
            "connecting PAGaff cell 6 to Hypo cell 8\n",
            "connecting PAGaff cell 6 to Hypo cell 9\n",
            "connecting PAGaff cell 7 to Hypo cell 0\n",
            "connecting PAGaff cell 7 to Hypo cell 1\n",
            "connecting PAGaff cell 7 to Hypo cell 2\n",
            "connecting PAGaff cell 7 to Hypo cell 3\n",
            "connecting PAGaff cell 7 to Hypo cell 4\n",
            "connecting PAGaff cell 7 to Hypo cell 5\n",
            "connecting PAGaff cell 7 to Hypo cell 6\n",
            "connecting PAGaff cell 7 to Hypo cell 7\n",
            "connecting PAGaff cell 7 to Hypo cell 8\n",
            "connecting PAGaff cell 7 to Hypo cell 9\n",
            "connecting PAGaff cell 8 to Hypo cell 0\n",
            "connecting PAGaff cell 8 to Hypo cell 1\n",
            "connecting PAGaff cell 8 to Hypo cell 2\n",
            "connecting PAGaff cell 8 to Hypo cell 3\n",
            "connecting PAGaff cell 8 to Hypo cell 4\n",
            "connecting PAGaff cell 8 to Hypo cell 5\n",
            "connecting PAGaff cell 8 to Hypo cell 6\n",
            "connecting PAGaff cell 8 to Hypo cell 7\n",
            "connecting PAGaff cell 8 to Hypo cell 8\n",
            "connecting PAGaff cell 8 to Hypo cell 9\n",
            "connecting PAGaff cell 9 to Hypo cell 0\n",
            "connecting PAGaff cell 9 to Hypo cell 1\n",
            "connecting PAGaff cell 9 to Hypo cell 2\n",
            "connecting PAGaff cell 9 to Hypo cell 3\n",
            "connecting PAGaff cell 9 to Hypo cell 4\n",
            "connecting PAGaff cell 9 to Hypo cell 5\n",
            "connecting PAGaff cell 9 to Hypo cell 6\n",
            "connecting PAGaff cell 9 to Hypo cell 7\n",
            "connecting PAGaff cell 9 to Hypo cell 8\n",
            "connecting PAGaff cell 9 to Hypo cell 9\n",
            "connecting Blad_aff_virt cell 0 to Bladaff cell 0\n",
            "connecting Blad_aff_virt cell 0 to Bladaff cell 1\n",
            "connecting Blad_aff_virt cell 0 to Bladaff cell 2\n",
            "connecting Blad_aff_virt cell 0 to Bladaff cell 3\n",
            "connecting Blad_aff_virt cell 0 to Bladaff cell 4\n",
            "connecting Blad_aff_virt cell 0 to Bladaff cell 5\n",
            "connecting Blad_aff_virt cell 0 to Bladaff cell 6\n",
            "connecting Blad_aff_virt cell 0 to Bladaff cell 7\n",
            "connecting Blad_aff_virt cell 0 to Bladaff cell 8\n",
            "connecting Blad_aff_virt cell 0 to Bladaff cell 9\n",
            "connecting Blad_aff_virt cell 1 to Bladaff cell 0\n",
            "connecting Blad_aff_virt cell 1 to Bladaff cell 1\n",
            "connecting Blad_aff_virt cell 1 to Bladaff cell 2\n",
            "connecting Blad_aff_virt cell 1 to Bladaff cell 3\n",
            "connecting Blad_aff_virt cell 1 to Bladaff cell 4\n",
            "connecting Blad_aff_virt cell 1 to Bladaff cell 5\n",
            "connecting Blad_aff_virt cell 1 to Bladaff cell 6\n",
            "connecting Blad_aff_virt cell 1 to Bladaff cell 7\n",
            "connecting Blad_aff_virt cell 1 to Bladaff cell 8\n",
            "connecting Blad_aff_virt cell 1 to Bladaff cell 9\n",
            "connecting Blad_aff_virt cell 2 to Bladaff cell 0\n",
            "connecting Blad_aff_virt cell 2 to Bladaff cell 1\n",
            "connecting Blad_aff_virt cell 2 to Bladaff cell 2\n",
            "connecting Blad_aff_virt cell 2 to Bladaff cell 3\n",
            "connecting Blad_aff_virt cell 2 to Bladaff cell 4\n",
            "connecting Blad_aff_virt cell 2 to Bladaff cell 5\n",
            "connecting Blad_aff_virt cell 2 to Bladaff cell 6\n",
            "connecting Blad_aff_virt cell 2 to Bladaff cell 7\n",
            "connecting Blad_aff_virt cell 2 to Bladaff cell 8\n",
            "connecting Blad_aff_virt cell 2 to Bladaff cell 9\n",
            "connecting Blad_aff_virt cell 3 to Bladaff cell 0\n",
            "connecting Blad_aff_virt cell 3 to Bladaff cell 1\n",
            "connecting Blad_aff_virt cell 3 to Bladaff cell 2\n",
            "connecting Blad_aff_virt cell 3 to Bladaff cell 3\n",
            "connecting Blad_aff_virt cell 3 to Bladaff cell 4\n",
            "connecting Blad_aff_virt cell 3 to Bladaff cell 5\n",
            "connecting Blad_aff_virt cell 3 to Bladaff cell 6\n",
            "connecting Blad_aff_virt cell 3 to Bladaff cell 7\n",
            "connecting Blad_aff_virt cell 3 to Bladaff cell 8\n",
            "connecting Blad_aff_virt cell 3 to Bladaff cell 9\n",
            "connecting Blad_aff_virt cell 4 to Bladaff cell 0\n",
            "connecting Blad_aff_virt cell 4 to Bladaff cell 1\n",
            "connecting Blad_aff_virt cell 4 to Bladaff cell 2\n",
            "connecting Blad_aff_virt cell 4 to Bladaff cell 3\n",
            "connecting Blad_aff_virt cell 4 to Bladaff cell 4\n",
            "connecting Blad_aff_virt cell 4 to Bladaff cell 5\n",
            "connecting Blad_aff_virt cell 4 to Bladaff cell 6\n",
            "connecting Blad_aff_virt cell 4 to Bladaff cell 7\n",
            "connecting Blad_aff_virt cell 4 to Bladaff cell 8\n",
            "connecting Blad_aff_virt cell 4 to Bladaff cell 9\n",
            "connecting Blad_aff_virt cell 5 to Bladaff cell 0\n",
            "connecting Blad_aff_virt cell 5 to Bladaff cell 1\n",
            "connecting Blad_aff_virt cell 5 to Bladaff cell 2\n",
            "connecting Blad_aff_virt cell 5 to Bladaff cell 3\n",
            "connecting Blad_aff_virt cell 5 to Bladaff cell 4\n",
            "connecting Blad_aff_virt cell 5 to Bladaff cell 5\n",
            "connecting Blad_aff_virt cell 5 to Bladaff cell 6\n",
            "connecting Blad_aff_virt cell 5 to Bladaff cell 7\n",
            "connecting Blad_aff_virt cell 5 to Bladaff cell 8\n",
            "connecting Blad_aff_virt cell 5 to Bladaff cell 9\n",
            "connecting Blad_aff_virt cell 6 to Bladaff cell 0\n",
            "connecting Blad_aff_virt cell 6 to Bladaff cell 1\n",
            "connecting Blad_aff_virt cell 6 to Bladaff cell 2\n",
            "connecting Blad_aff_virt cell 6 to Bladaff cell 3\n",
            "connecting Blad_aff_virt cell 6 to Bladaff cell 4\n",
            "connecting Blad_aff_virt cell 6 to Bladaff cell 5\n",
            "connecting Blad_aff_virt cell 6 to Bladaff cell 6\n",
            "connecting Blad_aff_virt cell 6 to Bladaff cell 7\n",
            "connecting Blad_aff_virt cell 6 to Bladaff cell 8\n",
            "connecting Blad_aff_virt cell 6 to Bladaff cell 9\n",
            "connecting Blad_aff_virt cell 7 to Bladaff cell 0\n",
            "connecting Blad_aff_virt cell 7 to Bladaff cell 1\n",
            "connecting Blad_aff_virt cell 7 to Bladaff cell 2\n",
            "connecting Blad_aff_virt cell 7 to Bladaff cell 3\n",
            "connecting Blad_aff_virt cell 7 to Bladaff cell 4\n",
            "connecting Blad_aff_virt cell 7 to Bladaff cell 5\n",
            "connecting Blad_aff_virt cell 7 to Bladaff cell 6\n",
            "connecting Blad_aff_virt cell 7 to Bladaff cell 7\n",
            "connecting Blad_aff_virt cell 7 to Bladaff cell 8\n",
            "connecting Blad_aff_virt cell 7 to Bladaff cell 9\n",
            "connecting Blad_aff_virt cell 8 to Bladaff cell 0\n",
            "connecting Blad_aff_virt cell 8 to Bladaff cell 1\n",
            "connecting Blad_aff_virt cell 8 to Bladaff cell 2\n",
            "connecting Blad_aff_virt cell 8 to Bladaff cell 3\n",
            "connecting Blad_aff_virt cell 8 to Bladaff cell 4\n",
            "connecting Blad_aff_virt cell 8 to Bladaff cell 5\n",
            "connecting Blad_aff_virt cell 8 to Bladaff cell 6\n",
            "connecting Blad_aff_virt cell 8 to Bladaff cell 7\n",
            "connecting Blad_aff_virt cell 8 to Bladaff cell 8\n",
            "connecting Blad_aff_virt cell 8 to Bladaff cell 9\n",
            "connecting Blad_aff_virt cell 9 to Bladaff cell 0\n",
            "connecting Blad_aff_virt cell 9 to Bladaff cell 1\n",
            "connecting Blad_aff_virt cell 9 to Bladaff cell 2\n",
            "connecting Blad_aff_virt cell 9 to Bladaff cell 3\n",
            "connecting Blad_aff_virt cell 9 to Bladaff cell 4\n",
            "connecting Blad_aff_virt cell 9 to Bladaff cell 5\n",
            "connecting Blad_aff_virt cell 9 to Bladaff cell 6\n",
            "connecting Blad_aff_virt cell 9 to Bladaff cell 7\n",
            "connecting Blad_aff_virt cell 9 to Bladaff cell 8\n",
            "connecting Blad_aff_virt cell 9 to Bladaff cell 9\n",
            "connecting PAG_aff_virt cell 0 to PAGaff cell 0\n",
            "connecting PAG_aff_virt cell 0 to PAGaff cell 1\n",
            "connecting PAG_aff_virt cell 0 to PAGaff cell 2\n",
            "connecting PAG_aff_virt cell 0 to PAGaff cell 3\n",
            "connecting PAG_aff_virt cell 0 to PAGaff cell 4\n",
            "connecting PAG_aff_virt cell 0 to PAGaff cell 5\n",
            "connecting PAG_aff_virt cell 0 to PAGaff cell 6\n",
            "connecting PAG_aff_virt cell 0 to PAGaff cell 7\n",
            "connecting PAG_aff_virt cell 0 to PAGaff cell 8\n",
            "connecting PAG_aff_virt cell 0 to PAGaff cell 9\n",
            "connecting PAG_aff_virt cell 1 to PAGaff cell 0\n",
            "connecting PAG_aff_virt cell 1 to PAGaff cell 1\n",
            "connecting PAG_aff_virt cell 1 to PAGaff cell 2\n",
            "connecting PAG_aff_virt cell 1 to PAGaff cell 3\n",
            "connecting PAG_aff_virt cell 1 to PAGaff cell 4\n",
            "connecting PAG_aff_virt cell 1 to PAGaff cell 5\n",
            "connecting PAG_aff_virt cell 1 to PAGaff cell 6\n",
            "connecting PAG_aff_virt cell 1 to PAGaff cell 7\n",
            "connecting PAG_aff_virt cell 1 to PAGaff cell 8\n",
            "connecting PAG_aff_virt cell 1 to PAGaff cell 9\n",
            "connecting PAG_aff_virt cell 2 to PAGaff cell 0\n",
            "connecting PAG_aff_virt cell 2 to PAGaff cell 1\n",
            "connecting PAG_aff_virt cell 2 to PAGaff cell 2\n",
            "connecting PAG_aff_virt cell 2 to PAGaff cell 3\n",
            "connecting PAG_aff_virt cell 2 to PAGaff cell 4\n",
            "connecting PAG_aff_virt cell 2 to PAGaff cell 5\n",
            "connecting PAG_aff_virt cell 2 to PAGaff cell 6\n",
            "connecting PAG_aff_virt cell 2 to PAGaff cell 7\n",
            "connecting PAG_aff_virt cell 2 to PAGaff cell 8\n",
            "connecting PAG_aff_virt cell 2 to PAGaff cell 9\n",
            "connecting PAG_aff_virt cell 3 to PAGaff cell 0\n",
            "connecting PAG_aff_virt cell 3 to PAGaff cell 1\n",
            "connecting PAG_aff_virt cell 3 to PAGaff cell 2\n",
            "connecting PAG_aff_virt cell 3 to PAGaff cell 3\n",
            "connecting PAG_aff_virt cell 3 to PAGaff cell 4\n",
            "connecting PAG_aff_virt cell 3 to PAGaff cell 5\n",
            "connecting PAG_aff_virt cell 3 to PAGaff cell 6\n",
            "connecting PAG_aff_virt cell 3 to PAGaff cell 7\n",
            "connecting PAG_aff_virt cell 3 to PAGaff cell 8\n",
            "connecting PAG_aff_virt cell 3 to PAGaff cell 9\n",
            "connecting PAG_aff_virt cell 4 to PAGaff cell 0\n",
            "connecting PAG_aff_virt cell 4 to PAGaff cell 1\n",
            "connecting PAG_aff_virt cell 4 to PAGaff cell 2\n",
            "connecting PAG_aff_virt cell 4 to PAGaff cell 3\n",
            "connecting PAG_aff_virt cell 4 to PAGaff cell 4\n",
            "connecting PAG_aff_virt cell 4 to PAGaff cell 5\n",
            "connecting PAG_aff_virt cell 4 to PAGaff cell 6\n",
            "connecting PAG_aff_virt cell 4 to PAGaff cell 7\n",
            "connecting PAG_aff_virt cell 4 to PAGaff cell 8\n"
          ]
        },
        {
          "output_type": "stream",
          "name": "stderr",
          "text": [
            "<ipython-input-4-3ced5f12cc94>:268: DeprecationWarning: `np.float` is a deprecated alias for the builtin `float`. To silence this warning, use `float` by itself. Doing this will not modify any behavior and is safe. If you specifically wanted the numpy scalar type, use `np.float64` here.\n",
            "Deprecated in NumPy 1.20; for more details and guidance: https://numpy.org/devdocs/release/1.20.0-notes.html#deprecations\n",
            "  dtypes=[np.float, np.int32, np.float])\n",
            "<ipython-input-4-3ced5f12cc94>:283: DeprecationWarning: `np.float` is a deprecated alias for the builtin `float`. To silence this warning, use `float` by itself. Doing this will not modify any behavior and is safe. If you specifically wanted the numpy scalar type, use `np.float64` here.\n",
            "Deprecated in NumPy 1.20; for more details and guidance: https://numpy.org/devdocs/release/1.20.0-notes.html#deprecations\n",
            "  dtypes=[np.float, np.int32, np.float])\n",
            "<ipython-input-4-3ced5f12cc94>:313: DeprecationWarning: `np.float` is a deprecated alias for the builtin `float`. To silence this warning, use `float` by itself. Doing this will not modify any behavior and is safe. If you specifically wanted the numpy scalar type, use `np.float64` here.\n",
            "Deprecated in NumPy 1.20; for more details and guidance: https://numpy.org/devdocs/release/1.20.0-notes.html#deprecations\n",
            "  dtypes=[np.float, np.int32, np.float])\n",
            "<ipython-input-4-3ced5f12cc94>:328: DeprecationWarning: `np.float` is a deprecated alias for the builtin `float`. To silence this warning, use `float` by itself. Doing this will not modify any behavior and is safe. If you specifically wanted the numpy scalar type, use `np.float64` here.\n",
            "Deprecated in NumPy 1.20; for more details and guidance: https://numpy.org/devdocs/release/1.20.0-notes.html#deprecations\n",
            "  dtypes=[np.float, np.int32, np.float])\n",
            "<ipython-input-4-3ced5f12cc94>:343: DeprecationWarning: `np.float` is a deprecated alias for the builtin `float`. To silence this warning, use `float` by itself. Doing this will not modify any behavior and is safe. If you specifically wanted the numpy scalar type, use `np.float64` here.\n",
            "Deprecated in NumPy 1.20; for more details and guidance: https://numpy.org/devdocs/release/1.20.0-notes.html#deprecations\n",
            "  dtypes=[np.float, np.int32, np.float])\n",
            "<ipython-input-4-3ced5f12cc94>:449: DeprecationWarning: `np.float` is a deprecated alias for the builtin `float`. To silence this warning, use `float` by itself. Doing this will not modify any behavior and is safe. If you specifically wanted the numpy scalar type, use `np.float64` here.\n",
            "Deprecated in NumPy 1.20; for more details and guidance: https://numpy.org/devdocs/release/1.20.0-notes.html#deprecations\n",
            "  dtypes=[np.float, np.int32, np.float])\n",
            "<ipython-input-4-3ced5f12cc94>:464: DeprecationWarning: `np.float` is a deprecated alias for the builtin `float`. To silence this warning, use `float` by itself. Doing this will not modify any behavior and is safe. If you specifically wanted the numpy scalar type, use `np.float64` here.\n",
            "Deprecated in NumPy 1.20; for more details and guidance: https://numpy.org/devdocs/release/1.20.0-notes.html#deprecations\n",
            "  dtypes=[np.float, np.int32, np.float])\n",
            "<ipython-input-4-3ced5f12cc94>:479: DeprecationWarning: `np.float` is a deprecated alias for the builtin `float`. To silence this warning, use `float` by itself. Doing this will not modify any behavior and is safe. If you specifically wanted the numpy scalar type, use `np.float64` here.\n",
            "Deprecated in NumPy 1.20; for more details and guidance: https://numpy.org/devdocs/release/1.20.0-notes.html#deprecations\n",
            "  dtypes=[np.float, np.int32, np.float])\n",
            "<ipython-input-4-3ced5f12cc94>:524: DeprecationWarning: `np.float` is a deprecated alias for the builtin `float`. To silence this warning, use `float` by itself. Doing this will not modify any behavior and is safe. If you specifically wanted the numpy scalar type, use `np.float64` here.\n",
            "Deprecated in NumPy 1.20; for more details and guidance: https://numpy.org/devdocs/release/1.20.0-notes.html#deprecations\n",
            "  dtypes=[np.float, np.int32, np.float])\n"
          ]
        },
        {
          "output_type": "stream",
          "name": "stdout",
          "text": [
            "connecting PAG_aff_virt cell 4 to PAGaff cell 9\n",
            "connecting PAG_aff_virt cell 5 to PAGaff cell 0\n",
            "connecting PAG_aff_virt cell 5 to PAGaff cell 1\n",
            "connecting PAG_aff_virt cell 5 to PAGaff cell 2\n",
            "connecting PAG_aff_virt cell 5 to PAGaff cell 3\n",
            "connecting PAG_aff_virt cell 5 to PAGaff cell 4\n",
            "connecting PAG_aff_virt cell 5 to PAGaff cell 5\n",
            "connecting PAG_aff_virt cell 5 to PAGaff cell 6\n",
            "connecting PAG_aff_virt cell 5 to PAGaff cell 7\n",
            "connecting PAG_aff_virt cell 5 to PAGaff cell 8\n",
            "connecting PAG_aff_virt cell 5 to PAGaff cell 9\n",
            "connecting PAG_aff_virt cell 6 to PAGaff cell 0\n",
            "connecting PAG_aff_virt cell 6 to PAGaff cell 1\n",
            "connecting PAG_aff_virt cell 6 to PAGaff cell 2\n",
            "connecting PAG_aff_virt cell 6 to PAGaff cell 3\n",
            "connecting PAG_aff_virt cell 6 to PAGaff cell 4\n",
            "connecting PAG_aff_virt cell 6 to PAGaff cell 5\n",
            "connecting PAG_aff_virt cell 6 to PAGaff cell 6\n",
            "connecting PAG_aff_virt cell 6 to PAGaff cell 7\n",
            "connecting PAG_aff_virt cell 6 to PAGaff cell 8\n",
            "connecting PAG_aff_virt cell 6 to PAGaff cell 9\n",
            "connecting PAG_aff_virt cell 7 to PAGaff cell 0\n",
            "connecting PAG_aff_virt cell 7 to PAGaff cell 1\n",
            "connecting PAG_aff_virt cell 7 to PAGaff cell 2\n",
            "connecting PAG_aff_virt cell 7 to PAGaff cell 3\n",
            "connecting PAG_aff_virt cell 7 to PAGaff cell 4\n",
            "connecting PAG_aff_virt cell 7 to PAGaff cell 5\n",
            "connecting PAG_aff_virt cell 7 to PAGaff cell 6\n",
            "connecting PAG_aff_virt cell 7 to PAGaff cell 7\n",
            "connecting PAG_aff_virt cell 7 to PAGaff cell 8\n",
            "connecting PAG_aff_virt cell 7 to PAGaff cell 9\n",
            "connecting PAG_aff_virt cell 8 to PAGaff cell 0\n",
            "connecting PAG_aff_virt cell 8 to PAGaff cell 1\n",
            "connecting PAG_aff_virt cell 8 to PAGaff cell 2\n",
            "connecting PAG_aff_virt cell 8 to PAGaff cell 3\n",
            "connecting PAG_aff_virt cell 8 to PAGaff cell 4\n",
            "connecting PAG_aff_virt cell 8 to PAGaff cell 5\n",
            "connecting PAG_aff_virt cell 8 to PAGaff cell 6\n",
            "connecting PAG_aff_virt cell 8 to PAGaff cell 7\n",
            "connecting PAG_aff_virt cell 8 to PAGaff cell 8\n",
            "connecting PAG_aff_virt cell 8 to PAGaff cell 9\n",
            "connecting PAG_aff_virt cell 9 to PAGaff cell 0\n",
            "connecting PAG_aff_virt cell 9 to PAGaff cell 1\n",
            "connecting PAG_aff_virt cell 9 to PAGaff cell 2\n",
            "connecting PAG_aff_virt cell 9 to PAGaff cell 3\n",
            "connecting PAG_aff_virt cell 9 to PAGaff cell 4\n",
            "connecting PAG_aff_virt cell 9 to PAGaff cell 5\n",
            "connecting PAG_aff_virt cell 9 to PAGaff cell 6\n",
            "connecting PAG_aff_virt cell 9 to PAGaff cell 7\n",
            "connecting PAG_aff_virt cell 9 to PAGaff cell 8\n",
            "connecting PAG_aff_virt cell 9 to PAGaff cell 9\n",
            "Done\n"
          ]
        }
      ]
    },
    {
      "cell_type": "code",
      "source": [
        "import os, sys, logging, faulthandler\n",
        "from bmtk.simulator import bionet\n",
        "from bmtk.simulator.bionet.default_setters.cell_models import loadHOC\n",
        "from bmtk.simulator.bionet.modules.sim_module import SimulatorMod\n",
        "from bmtk.utils.reports.spike_trains import SpikeTrains\n",
        "from bmtk.utils.reports.spike_trains import PoissonSpikeGenerator\n",
        "from bmtk.simulator.bionet.io_tools import io\n",
        "import numpy as np\n",
        "from neuron import h\n",
        "import pandas as pd\n",
        "# from bmtk.analyzer.cell_vars import plot_report\n",
        "from feedback_loop import FeedbackLoop\n",
        "from plotting import plot_figure, plotting_calculator\n",
        "# Import the synaptic depression/facilitation model\n",
        "import synapses\n",
        "\n",
        "import plot_results\n",
        "\n",
        "\n",
        "\"\"\"\n",
        "Basic Logging features, disable faulthandler if you don't want stacktraces printed\n",
        "logging determines the level and file to save logs to (might be worth moving location)\n",
        "\"\"\"\n",
        "faulthandler.enable()\n",
        "logging.basicConfig(filename='error_logs/debug_run.log', level=logging.DEBUG)\n",
        "\n",
        "synapses.load()\n",
        "logging.info('Synapses Loaded')\n",
        "\n",
        "press_thres = 17 #17 # cm H20 #40\n",
        "                 # Lingala, et al. 2016\n",
        "change_thres = 10 #10 # cm H20 #10\n",
        "                 # Need biological value for this\n",
        "\n",
        "bionet.pyfunction_cache.add_cell_model(loadHOC, directive='hoc', model_type='biophysical')\n",
        "logging.info('Cell model added')\n",
        "\n",
        "def run(config_file):\n",
        "\n",
        "    conf = bionet.Config.from_json(config_file, validate=True)\n",
        "    conf.build_env()\n",
        "\n",
        "    fbmod = FeedbackLoop()\n",
        "\n",
        "    graph = bionet.BioNetwork.from_config(conf)\n",
        "    sim = bionet.BioSimulator.from_config(conf, network=graph)\n",
        "    sim.add_mod(fbmod)  # Attach the above module to the simulator.\n",
        "    sim.run()\n",
        "\n",
        "    #fbmod.save_aff(conf.output_dir)\n",
        "    plot_results.run(sim=sim,conf=conf)\n",
        "\n",
        "# if __name__ == '__main__':\n",
        "#     if __file__ != sys.argv[-1]:\n",
        "#         run(sys.argv[-1])\n",
        "#     else:\n",
        "#         run('config.json')\n",
        "\n",
        "run(config_file='jsons/simulation_config.json')"
      ],
      "metadata": {
        "colab": {
          "base_uri": "https://localhost:8080/",
          "height": 1000
        },
        "id": "e_3NrK_WWFRx",
        "outputId": "dbb122b6-13b1-4948-adbe-8a4667f68c02"
      },
      "execution_count": null,
      "outputs": [
        {
          "output_type": "stream",
          "name": "stdout",
          "text": [
            "2023-05-12 22:17:09,860 [INFO] Created log file\n"
          ]
        },
        {
          "output_type": "stream",
          "name": "stderr",
          "text": [
            "INFO:NEURONIOUtils:Created log file\n"
          ]
        },
        {
          "output_type": "stream",
          "name": "stdout",
          "text": [
            "2023-05-12 22:17:10,102 [INFO] Building cells.\n"
          ]
        },
        {
          "output_type": "stream",
          "name": "stderr",
          "text": [
            "INFO:NEURONIOUtils:Building cells.\n"
          ]
        },
        {
          "output_type": "stream",
          "name": "stdout",
          "text": [
            "2023-05-12 22:17:10,163 [INFO] Building recurrent connections\n"
          ]
        },
        {
          "output_type": "stream",
          "name": "stderr",
          "text": [
            "INFO:NEURONIOUtils:Building recurrent connections\n"
          ]
        },
        {
          "output_type": "stream",
          "name": "stdout",
          "text": [
            "2023-05-12 22:17:10,310 [INFO] Building virtual cell stimulations for Blad_spikes\n"
          ]
        },
        {
          "output_type": "stream",
          "name": "stderr",
          "text": [
            "INFO:NEURONIOUtils:Building virtual cell stimulations for Blad_spikes\n"
          ]
        },
        {
          "output_type": "stream",
          "name": "stdout",
          "text": [
            "2023-05-12 22:17:10,355 [INFO] Building virtual cell stimulations for EUS_spikes\n"
          ]
        },
        {
          "output_type": "stream",
          "name": "stderr",
          "text": [
            "INFO:NEURONIOUtils:Building virtual cell stimulations for EUS_spikes\n"
          ]
        },
        {
          "output_type": "stream",
          "name": "stdout",
          "text": [
            "2023-05-12 22:17:10,415 [INFO] Building virtual cell stimulations for PAG_spikes\n"
          ]
        },
        {
          "output_type": "stream",
          "name": "stderr",
          "text": [
            "INFO:NEURONIOUtils:Building virtual cell stimulations for PAG_spikes\n"
          ]
        },
        {
          "output_type": "stream",
          "name": "stdout",
          "text": [
            "2023-05-12 22:17:10,480 [INFO] Running simulation for 40500.000 ms with the time step 0.200 ms\n"
          ]
        },
        {
          "output_type": "stream",
          "name": "stderr",
          "text": [
            "INFO:NEURONIOUtils:Running simulation for 40500.000 ms with the time step 0.200 ms\n"
          ]
        },
        {
          "output_type": "stream",
          "name": "stdout",
          "text": [
            "2023-05-12 22:17:10,484 [INFO] Starting timestep: 0 at t_sim: 0.000 ms\n"
          ]
        },
        {
          "output_type": "stream",
          "name": "stderr",
          "text": [
            "INFO:NEURONIOUtils:Starting timestep: 0 at t_sim: 0.000 ms\n"
          ]
        },
        {
          "output_type": "stream",
          "name": "stdout",
          "text": [
            "2023-05-12 22:17:10,490 [INFO] Block save every 2500 steps\n"
          ]
        },
        {
          "output_type": "stream",
          "name": "stderr",
          "text": [
            "INFO:NEURONIOUtils:Block save every 2500 steps\n"
          ]
        },
        {
          "output_type": "stream",
          "name": "stdout",
          "text": [
            "2023-05-12 22:17:11,234 [INFO]     step:2500 t_sim:500.00 ms\n"
          ]
        },
        {
          "output_type": "stream",
          "name": "stderr",
          "text": [
            "INFO:NEURONIOUtils:    step:2500 t_sim:500.00 ms\n"
          ]
        },
        {
          "output_type": "stream",
          "name": "stdout",
          "text": [
            "2023-05-12 22:17:11,247 [INFO] Timestep 0.0 to 500.0 ms\n"
          ]
        },
        {
          "output_type": "stream",
          "name": "stderr",
          "text": [
            "INFO:NEURONIOUtils:Timestep 0.0 to 500.0 ms\n"
          ]
        },
        {
          "output_type": "stream",
          "name": "stdout",
          "text": [
            "2023-05-12 22:17:11,252 [INFO] PGN node_id\t  Hz\n"
          ]
        },
        {
          "output_type": "stream",
          "name": "stderr",
          "text": [
            "INFO:NEURONIOUtils:PGN node_id\t  Hz\n"
          ]
        },
        {
          "output_type": "stream",
          "name": "stdout",
          "text": [
            "2023-05-12 22:17:11,260 [INFO] 70\t\t4.0\n"
          ]
        },
        {
          "output_type": "stream",
          "name": "stderr",
          "text": [
            "INFO:NEURONIOUtils:70\t\t4.0\n"
          ]
        },
        {
          "output_type": "stream",
          "name": "stdout",
          "text": [
            "2023-05-12 22:17:11,265 [INFO] 71\t\t4.0\n"
          ]
        },
        {
          "output_type": "stream",
          "name": "stderr",
          "text": [
            "INFO:NEURONIOUtils:71\t\t4.0\n"
          ]
        },
        {
          "output_type": "stream",
          "name": "stdout",
          "text": [
            "2023-05-12 22:17:11,267 [INFO] 72\t\t4.0\n"
          ]
        },
        {
          "output_type": "stream",
          "name": "stderr",
          "text": [
            "INFO:NEURONIOUtils:72\t\t4.0\n"
          ]
        },
        {
          "output_type": "stream",
          "name": "stdout",
          "text": [
            "2023-05-12 22:17:11,270 [INFO] 73\t\t4.0\n"
          ]
        },
        {
          "output_type": "stream",
          "name": "stderr",
          "text": [
            "INFO:NEURONIOUtils:73\t\t4.0\n"
          ]
        },
        {
          "output_type": "stream",
          "name": "stdout",
          "text": [
            "2023-05-12 22:17:11,272 [INFO] 74\t\t4.0\n"
          ]
        },
        {
          "output_type": "stream",
          "name": "stderr",
          "text": [
            "INFO:NEURONIOUtils:74\t\t4.0\n"
          ]
        },
        {
          "output_type": "stream",
          "name": "stdout",
          "text": [
            "2023-05-12 22:17:11,275 [INFO] 75\t\t4.0\n"
          ]
        },
        {
          "output_type": "stream",
          "name": "stderr",
          "text": [
            "INFO:NEURONIOUtils:75\t\t4.0\n"
          ]
        },
        {
          "output_type": "stream",
          "name": "stdout",
          "text": [
            "2023-05-12 22:17:11,279 [INFO] 76\t\t4.0\n"
          ]
        },
        {
          "output_type": "stream",
          "name": "stderr",
          "text": [
            "INFO:NEURONIOUtils:76\t\t4.0\n"
          ]
        },
        {
          "output_type": "stream",
          "name": "stdout",
          "text": [
            "2023-05-12 22:17:11,282 [INFO] 77\t\t4.0\n"
          ]
        },
        {
          "output_type": "stream",
          "name": "stderr",
          "text": [
            "INFO:NEURONIOUtils:77\t\t4.0\n"
          ]
        },
        {
          "output_type": "stream",
          "name": "stdout",
          "text": [
            "2023-05-12 22:17:11,284 [INFO] 78\t\t4.0\n"
          ]
        },
        {
          "output_type": "stream",
          "name": "stderr",
          "text": [
            "INFO:NEURONIOUtils:78\t\t4.0\n"
          ]
        },
        {
          "output_type": "stream",
          "name": "stdout",
          "text": [
            "2023-05-12 22:17:11,287 [INFO] 79\t\t4.0\n"
          ]
        },
        {
          "output_type": "stream",
          "name": "stderr",
          "text": [
            "INFO:NEURONIOUtils:79\t\t4.0\n"
          ]
        },
        {
          "output_type": "stream",
          "name": "stdout",
          "text": [
            "2023-05-12 22:17:11,289 [INFO] PGN firing rate avg: 4.0 Hz\n"
          ]
        },
        {
          "output_type": "stream",
          "name": "stderr",
          "text": [
            "INFO:NEURONIOUtils:PGN firing rate avg: 4.0 Hz\n"
          ]
        },
        {
          "output_type": "stream",
          "name": "stdout",
          "text": [
            "2023-05-12 22:17:11,291 [INFO] Grill PGN fr = 3.15 Hz\n"
          ]
        },
        {
          "output_type": "stream",
          "name": "stderr",
          "text": [
            "INFO:NEURONIOUtils:Grill PGN fr = 3.15 Hz\n"
          ]
        },
        {
          "output_type": "stream",
          "name": "stdout",
          "text": [
            "2023-05-12 22:17:11,294 [INFO] IMG node_gid\t  Hz\n"
          ]
        },
        {
          "output_type": "stream",
          "name": "stderr",
          "text": [
            "INFO:NEURONIOUtils:IMG node_gid\t  Hz\n"
          ]
        },
        {
          "output_type": "stream",
          "name": "stdout",
          "text": [
            "2023-05-12 22:17:11,297 [INFO] IMG firing rate avg: 4.0 Hz\n"
          ]
        },
        {
          "output_type": "stream",
          "name": "stderr",
          "text": [
            "INFO:NEURONIOUtils:IMG firing rate avg: 4.0 Hz\n"
          ]
        },
        {
          "output_type": "stream",
          "name": "stdout",
          "text": [
            "2023-05-12 22:17:11,311 [INFO] PGN firing rate = 4.00 Hz\n"
          ]
        },
        {
          "output_type": "stream",
          "name": "stderr",
          "text": [
            "/usr/local/lib/python3.10/dist-packages/bmtk/utils/reports/spike_trains/spike_trains.py:183: RuntimeWarning: divide by zero encountered in double_scalars\n",
            "  interval = -np.log(1.0 - np.random.uniform()) / fr\n",
            "INFO:NEURONIOUtils:PGN firing rate = 4.00 Hz\n"
          ]
        },
        {
          "output_type": "stream",
          "name": "stdout",
          "text": [
            "2023-05-12 22:17:11,313 [INFO] Volume = 0.0000 ml\n"
          ]
        },
        {
          "output_type": "stream",
          "name": "stderr",
          "text": [
            "INFO:NEURONIOUtils:Volume = 0.0000 ml\n"
          ]
        },
        {
          "output_type": "stream",
          "name": "stdout",
          "text": [
            "2023-05-12 22:17:11,316 [INFO] Pressure = 7.00 mmHg\n"
          ]
        },
        {
          "output_type": "stream",
          "name": "stderr",
          "text": [
            "INFO:NEURONIOUtils:Pressure = 7.00 mmHg\n"
          ]
        },
        {
          "output_type": "stream",
          "name": "stdout",
          "text": [
            "2023-05-12 22:17:11,321 [INFO] Calculated bladder afferent firing rate for the next time step = 0.00 Hz \n",
            " \n",
            "\n"
          ]
        },
        {
          "output_type": "stream",
          "name": "stderr",
          "text": [
            "INFO:NEURONIOUtils:Calculated bladder afferent firing rate for the next time step = 0.00 Hz \n",
            " \n",
            "\n"
          ]
        },
        {
          "output_type": "stream",
          "name": "stdout",
          "text": [
            "2023-05-12 22:17:12,070 [INFO]     step:5000 t_sim:1000.00 ms\n"
          ]
        },
        {
          "output_type": "stream",
          "name": "stderr",
          "text": [
            "INFO:NEURONIOUtils:    step:5000 t_sim:1000.00 ms\n"
          ]
        },
        {
          "output_type": "stream",
          "name": "stdout",
          "text": [
            "2023-05-12 22:17:12,083 [INFO] Timestep 500.0 to 1000.0 ms\n"
          ]
        },
        {
          "output_type": "stream",
          "name": "stderr",
          "text": [
            "INFO:NEURONIOUtils:Timestep 500.0 to 1000.0 ms\n"
          ]
        },
        {
          "output_type": "stream",
          "name": "stdout",
          "text": [
            "2023-05-12 22:17:12,089 [INFO] PGN node_id\t  Hz\n"
          ]
        },
        {
          "output_type": "stream",
          "name": "stderr",
          "text": [
            "INFO:NEURONIOUtils:PGN node_id\t  Hz\n"
          ]
        },
        {
          "output_type": "stream",
          "name": "stdout",
          "text": [
            "2023-05-12 22:17:12,094 [INFO] 70\t\t2.0\n"
          ]
        },
        {
          "output_type": "stream",
          "name": "stderr",
          "text": [
            "INFO:NEURONIOUtils:70\t\t2.0\n"
          ]
        },
        {
          "output_type": "stream",
          "name": "stdout",
          "text": [
            "2023-05-12 22:17:12,098 [INFO] 71\t\t2.0\n"
          ]
        },
        {
          "output_type": "stream",
          "name": "stderr",
          "text": [
            "INFO:NEURONIOUtils:71\t\t2.0\n"
          ]
        },
        {
          "output_type": "stream",
          "name": "stdout",
          "text": [
            "2023-05-12 22:17:12,102 [INFO] 72\t\t2.0\n"
          ]
        },
        {
          "output_type": "stream",
          "name": "stderr",
          "text": [
            "INFO:NEURONIOUtils:72\t\t2.0\n"
          ]
        },
        {
          "output_type": "stream",
          "name": "stdout",
          "text": [
            "2023-05-12 22:17:12,107 [INFO] 73\t\t2.0\n"
          ]
        },
        {
          "output_type": "stream",
          "name": "stderr",
          "text": [
            "INFO:NEURONIOUtils:73\t\t2.0\n"
          ]
        },
        {
          "output_type": "stream",
          "name": "stdout",
          "text": [
            "2023-05-12 22:17:12,111 [INFO] 74\t\t2.0\n"
          ]
        },
        {
          "output_type": "stream",
          "name": "stderr",
          "text": [
            "INFO:NEURONIOUtils:74\t\t2.0\n"
          ]
        },
        {
          "output_type": "stream",
          "name": "stdout",
          "text": [
            "2023-05-12 22:17:12,117 [INFO] 75\t\t2.0\n"
          ]
        },
        {
          "output_type": "stream",
          "name": "stderr",
          "text": [
            "INFO:NEURONIOUtils:75\t\t2.0\n"
          ]
        },
        {
          "output_type": "stream",
          "name": "stdout",
          "text": [
            "2023-05-12 22:17:12,124 [INFO] 76\t\t2.0\n"
          ]
        },
        {
          "output_type": "stream",
          "name": "stderr",
          "text": [
            "INFO:NEURONIOUtils:76\t\t2.0\n"
          ]
        },
        {
          "output_type": "stream",
          "name": "stdout",
          "text": [
            "2023-05-12 22:17:12,130 [INFO] 77\t\t2.0\n"
          ]
        },
        {
          "output_type": "stream",
          "name": "stderr",
          "text": [
            "INFO:NEURONIOUtils:77\t\t2.0\n"
          ]
        },
        {
          "output_type": "stream",
          "name": "stdout",
          "text": [
            "2023-05-12 22:17:12,135 [INFO] 78\t\t2.0\n"
          ]
        },
        {
          "output_type": "stream",
          "name": "stderr",
          "text": [
            "INFO:NEURONIOUtils:78\t\t2.0\n"
          ]
        },
        {
          "output_type": "stream",
          "name": "stdout",
          "text": [
            "2023-05-12 22:17:12,140 [INFO] 79\t\t2.0\n"
          ]
        },
        {
          "output_type": "stream",
          "name": "stderr",
          "text": [
            "INFO:NEURONIOUtils:79\t\t2.0\n"
          ]
        },
        {
          "output_type": "stream",
          "name": "stdout",
          "text": [
            "2023-05-12 22:17:12,145 [INFO] PGN firing rate avg: 2.0 Hz\n"
          ]
        },
        {
          "output_type": "stream",
          "name": "stderr",
          "text": [
            "INFO:NEURONIOUtils:PGN firing rate avg: 2.0 Hz\n"
          ]
        },
        {
          "output_type": "stream",
          "name": "stdout",
          "text": [
            "2023-05-12 22:17:12,149 [INFO] Grill PGN fr = 1.492 Hz\n"
          ]
        },
        {
          "output_type": "stream",
          "name": "stderr",
          "text": [
            "INFO:NEURONIOUtils:Grill PGN fr = 1.492 Hz\n"
          ]
        },
        {
          "output_type": "stream",
          "name": "stdout",
          "text": [
            "2023-05-12 22:17:12,155 [INFO] IMG node_gid\t  Hz\n"
          ]
        },
        {
          "output_type": "stream",
          "name": "stderr",
          "text": [
            "INFO:NEURONIOUtils:IMG node_gid\t  Hz\n"
          ]
        },
        {
          "output_type": "stream",
          "name": "stdout",
          "text": [
            "2023-05-12 22:17:12,161 [INFO] IMG firing rate avg: 2.0 Hz\n"
          ]
        },
        {
          "output_type": "stream",
          "name": "stderr",
          "text": [
            "INFO:NEURONIOUtils:IMG firing rate avg: 2.0 Hz\n"
          ]
        },
        {
          "output_type": "stream",
          "name": "stdout",
          "text": [
            "2023-05-12 22:17:12,200 [INFO] PGN firing rate = 2.00 Hz\n"
          ]
        },
        {
          "output_type": "stream",
          "name": "stderr",
          "text": [
            "/usr/local/lib/python3.10/dist-packages/bmtk/utils/reports/spike_trains/spike_trains.py:183: RuntimeWarning: divide by zero encountered in double_scalars\n",
            "  interval = -np.log(1.0 - np.random.uniform()) / fr\n",
            "INFO:NEURONIOUtils:PGN firing rate = 2.00 Hz\n"
          ]
        },
        {
          "output_type": "stream",
          "name": "stdout",
          "text": [
            "2023-05-12 22:17:12,204 [INFO] Volume = 1.0417 ml\n"
          ]
        },
        {
          "output_type": "stream",
          "name": "stderr",
          "text": [
            "INFO:NEURONIOUtils:Volume = 1.0417 ml\n"
          ]
        },
        {
          "output_type": "stream",
          "name": "stdout",
          "text": [
            "2023-05-12 22:17:12,208 [INFO] Pressure = 7.00 mmHg\n"
          ]
        },
        {
          "output_type": "stream",
          "name": "stderr",
          "text": [
            "INFO:NEURONIOUtils:Pressure = 7.00 mmHg\n"
          ]
        },
        {
          "output_type": "stream",
          "name": "stdout",
          "text": [
            "2023-05-12 22:17:12,215 [INFO] Calculated bladder afferent firing rate for the next time step = 0.00 Hz \n",
            " \n",
            "\n"
          ]
        },
        {
          "output_type": "stream",
          "name": "stderr",
          "text": [
            "INFO:NEURONIOUtils:Calculated bladder afferent firing rate for the next time step = 0.00 Hz \n",
            " \n",
            "\n"
          ]
        },
        {
          "output_type": "stream",
          "name": "stdout",
          "text": [
            "2023-05-12 22:17:13,192 [INFO]     step:7500 t_sim:1500.00 ms\n"
          ]
        },
        {
          "output_type": "stream",
          "name": "stderr",
          "text": [
            "INFO:NEURONIOUtils:    step:7500 t_sim:1500.00 ms\n"
          ]
        },
        {
          "output_type": "stream",
          "name": "stdout",
          "text": [
            "2023-05-12 22:17:13,205 [INFO] Timestep 1000.0 to 1500.0 ms\n"
          ]
        },
        {
          "output_type": "stream",
          "name": "stderr",
          "text": [
            "INFO:NEURONIOUtils:Timestep 1000.0 to 1500.0 ms\n"
          ]
        },
        {
          "output_type": "stream",
          "name": "stdout",
          "text": [
            "2023-05-12 22:17:13,209 [INFO] PGN node_id\t  Hz\n"
          ]
        },
        {
          "output_type": "stream",
          "name": "stderr",
          "text": [
            "INFO:NEURONIOUtils:PGN node_id\t  Hz\n"
          ]
        },
        {
          "output_type": "stream",
          "name": "stdout",
          "text": [
            "2023-05-12 22:17:13,213 [INFO] 70\t\t2.0\n"
          ]
        },
        {
          "output_type": "stream",
          "name": "stderr",
          "text": [
            "INFO:NEURONIOUtils:70\t\t2.0\n"
          ]
        },
        {
          "output_type": "stream",
          "name": "stdout",
          "text": [
            "2023-05-12 22:17:13,216 [INFO] 71\t\t2.0\n"
          ]
        },
        {
          "output_type": "stream",
          "name": "stderr",
          "text": [
            "INFO:NEURONIOUtils:71\t\t2.0\n"
          ]
        },
        {
          "output_type": "stream",
          "name": "stdout",
          "text": [
            "2023-05-12 22:17:13,218 [INFO] 72\t\t2.0\n"
          ]
        },
        {
          "output_type": "stream",
          "name": "stderr",
          "text": [
            "INFO:NEURONIOUtils:72\t\t2.0\n"
          ]
        },
        {
          "output_type": "stream",
          "name": "stdout",
          "text": [
            "2023-05-12 22:17:13,220 [INFO] 73\t\t2.0\n"
          ]
        },
        {
          "output_type": "stream",
          "name": "stderr",
          "text": [
            "INFO:NEURONIOUtils:73\t\t2.0\n"
          ]
        },
        {
          "output_type": "stream",
          "name": "stdout",
          "text": [
            "2023-05-12 22:17:13,222 [INFO] 74\t\t2.0\n"
          ]
        },
        {
          "output_type": "stream",
          "name": "stderr",
          "text": [
            "INFO:NEURONIOUtils:74\t\t2.0\n"
          ]
        },
        {
          "output_type": "stream",
          "name": "stdout",
          "text": [
            "2023-05-12 22:17:13,224 [INFO] 75\t\t2.0\n"
          ]
        },
        {
          "output_type": "stream",
          "name": "stderr",
          "text": [
            "INFO:NEURONIOUtils:75\t\t2.0\n"
          ]
        },
        {
          "output_type": "stream",
          "name": "stdout",
          "text": [
            "2023-05-12 22:17:13,226 [INFO] 76\t\t2.0\n"
          ]
        },
        {
          "output_type": "stream",
          "name": "stderr",
          "text": [
            "INFO:NEURONIOUtils:76\t\t2.0\n"
          ]
        },
        {
          "output_type": "stream",
          "name": "stdout",
          "text": [
            "2023-05-12 22:17:13,228 [INFO] 77\t\t2.0\n"
          ]
        },
        {
          "output_type": "stream",
          "name": "stderr",
          "text": [
            "INFO:NEURONIOUtils:77\t\t2.0\n"
          ]
        },
        {
          "output_type": "stream",
          "name": "stdout",
          "text": [
            "2023-05-12 22:17:13,230 [INFO] 78\t\t2.0\n"
          ]
        },
        {
          "output_type": "stream",
          "name": "stderr",
          "text": [
            "INFO:NEURONIOUtils:78\t\t2.0\n"
          ]
        },
        {
          "output_type": "stream",
          "name": "stdout",
          "text": [
            "2023-05-12 22:17:13,233 [INFO] 79\t\t2.0\n"
          ]
        },
        {
          "output_type": "stream",
          "name": "stderr",
          "text": [
            "INFO:NEURONIOUtils:79\t\t2.0\n"
          ]
        },
        {
          "output_type": "stream",
          "name": "stdout",
          "text": [
            "2023-05-12 22:17:13,235 [INFO] PGN firing rate avg: 2.0 Hz\n"
          ]
        },
        {
          "output_type": "stream",
          "name": "stderr",
          "text": [
            "INFO:NEURONIOUtils:PGN firing rate avg: 2.0 Hz\n"
          ]
        },
        {
          "output_type": "stream",
          "name": "stdout",
          "text": [
            "2023-05-12 22:17:13,237 [INFO] Grill PGN fr = 1.492 Hz\n"
          ]
        },
        {
          "output_type": "stream",
          "name": "stderr",
          "text": [
            "INFO:NEURONIOUtils:Grill PGN fr = 1.492 Hz\n"
          ]
        },
        {
          "output_type": "stream",
          "name": "stdout",
          "text": [
            "2023-05-12 22:17:13,239 [INFO] IMG node_gid\t  Hz\n"
          ]
        },
        {
          "output_type": "stream",
          "name": "stderr",
          "text": [
            "INFO:NEURONIOUtils:IMG node_gid\t  Hz\n"
          ]
        },
        {
          "output_type": "stream",
          "name": "stdout",
          "text": [
            "2023-05-12 22:17:13,241 [INFO] IMG firing rate avg: 2.0 Hz\n"
          ]
        },
        {
          "output_type": "stream",
          "name": "stderr",
          "text": [
            "INFO:NEURONIOUtils:IMG firing rate avg: 2.0 Hz\n"
          ]
        },
        {
          "output_type": "stream",
          "name": "stdout",
          "text": [
            "2023-05-12 22:17:13,250 [INFO] PGN firing rate = 2.00 Hz\n"
          ]
        },
        {
          "output_type": "stream",
          "name": "stderr",
          "text": [
            "/usr/local/lib/python3.10/dist-packages/bmtk/utils/reports/spike_trains/spike_trains.py:183: RuntimeWarning: divide by zero encountered in double_scalars\n",
            "  interval = -np.log(1.0 - np.random.uniform()) / fr\n",
            "INFO:NEURONIOUtils:PGN firing rate = 2.00 Hz\n"
          ]
        },
        {
          "output_type": "stream",
          "name": "stdout",
          "text": [
            "2023-05-12 22:17:13,253 [INFO] Volume = 2.0833 ml\n"
          ]
        },
        {
          "output_type": "stream",
          "name": "stderr",
          "text": [
            "INFO:NEURONIOUtils:Volume = 2.0833 ml\n"
          ]
        },
        {
          "output_type": "stream",
          "name": "stdout",
          "text": [
            "2023-05-12 22:17:13,255 [INFO] Pressure = 7.37 mmHg\n"
          ]
        },
        {
          "output_type": "stream",
          "name": "stderr",
          "text": [
            "INFO:NEURONIOUtils:Pressure = 7.37 mmHg\n"
          ]
        },
        {
          "output_type": "stream",
          "name": "stdout",
          "text": [
            "2023-05-12 22:17:13,257 [INFO] Calculated bladder afferent firing rate for the next time step = 0.00 Hz \n",
            " \n",
            "\n"
          ]
        },
        {
          "output_type": "stream",
          "name": "stderr",
          "text": [
            "INFO:NEURONIOUtils:Calculated bladder afferent firing rate for the next time step = 0.00 Hz \n",
            " \n",
            "\n"
          ]
        },
        {
          "output_type": "stream",
          "name": "stdout",
          "text": [
            "2023-05-12 22:17:14,099 [INFO]     step:10000 t_sim:2000.00 ms\n"
          ]
        },
        {
          "output_type": "stream",
          "name": "stderr",
          "text": [
            "INFO:NEURONIOUtils:    step:10000 t_sim:2000.00 ms\n"
          ]
        },
        {
          "output_type": "stream",
          "name": "stdout",
          "text": [
            "2023-05-12 22:17:14,113 [INFO] Timestep 1500.0 to 2000.0 ms\n"
          ]
        },
        {
          "output_type": "stream",
          "name": "stderr",
          "text": [
            "INFO:NEURONIOUtils:Timestep 1500.0 to 2000.0 ms\n"
          ]
        },
        {
          "output_type": "stream",
          "name": "stdout",
          "text": [
            "2023-05-12 22:17:14,117 [INFO] PGN node_id\t  Hz\n"
          ]
        },
        {
          "output_type": "stream",
          "name": "stderr",
          "text": [
            "INFO:NEURONIOUtils:PGN node_id\t  Hz\n"
          ]
        },
        {
          "output_type": "stream",
          "name": "stdout",
          "text": [
            "2023-05-12 22:17:14,122 [INFO] 70\t\t4.0\n"
          ]
        },
        {
          "output_type": "stream",
          "name": "stderr",
          "text": [
            "INFO:NEURONIOUtils:70\t\t4.0\n"
          ]
        },
        {
          "output_type": "stream",
          "name": "stdout",
          "text": [
            "2023-05-12 22:17:14,125 [INFO] 71\t\t4.0\n"
          ]
        },
        {
          "output_type": "stream",
          "name": "stderr",
          "text": [
            "INFO:NEURONIOUtils:71\t\t4.0\n"
          ]
        },
        {
          "output_type": "stream",
          "name": "stdout",
          "text": [
            "2023-05-12 22:17:14,128 [INFO] 72\t\t4.0\n"
          ]
        },
        {
          "output_type": "stream",
          "name": "stderr",
          "text": [
            "INFO:NEURONIOUtils:72\t\t4.0\n"
          ]
        },
        {
          "output_type": "stream",
          "name": "stdout",
          "text": [
            "2023-05-12 22:17:14,130 [INFO] 73\t\t4.0\n"
          ]
        },
        {
          "output_type": "stream",
          "name": "stderr",
          "text": [
            "INFO:NEURONIOUtils:73\t\t4.0\n"
          ]
        },
        {
          "output_type": "stream",
          "name": "stdout",
          "text": [
            "2023-05-12 22:17:14,133 [INFO] 74\t\t4.0\n"
          ]
        },
        {
          "output_type": "stream",
          "name": "stderr",
          "text": [
            "INFO:NEURONIOUtils:74\t\t4.0\n"
          ]
        },
        {
          "output_type": "stream",
          "name": "stdout",
          "text": [
            "2023-05-12 22:17:14,135 [INFO] 75\t\t4.0\n"
          ]
        },
        {
          "output_type": "stream",
          "name": "stderr",
          "text": [
            "INFO:NEURONIOUtils:75\t\t4.0\n"
          ]
        },
        {
          "output_type": "stream",
          "name": "stdout",
          "text": [
            "2023-05-12 22:17:14,138 [INFO] 76\t\t4.0\n"
          ]
        },
        {
          "output_type": "stream",
          "name": "stderr",
          "text": [
            "INFO:NEURONIOUtils:76\t\t4.0\n"
          ]
        },
        {
          "output_type": "stream",
          "name": "stdout",
          "text": [
            "2023-05-12 22:17:14,140 [INFO] 77\t\t4.0\n"
          ]
        },
        {
          "output_type": "stream",
          "name": "stderr",
          "text": [
            "INFO:NEURONIOUtils:77\t\t4.0\n"
          ]
        },
        {
          "output_type": "stream",
          "name": "stdout",
          "text": [
            "2023-05-12 22:17:14,143 [INFO] 78\t\t4.0\n"
          ]
        },
        {
          "output_type": "stream",
          "name": "stderr",
          "text": [
            "INFO:NEURONIOUtils:78\t\t4.0\n"
          ]
        },
        {
          "output_type": "stream",
          "name": "stdout",
          "text": [
            "2023-05-12 22:17:14,145 [INFO] 79\t\t4.0\n"
          ]
        },
        {
          "output_type": "stream",
          "name": "stderr",
          "text": [
            "INFO:NEURONIOUtils:79\t\t4.0\n"
          ]
        },
        {
          "output_type": "stream",
          "name": "stdout",
          "text": [
            "2023-05-12 22:17:14,148 [INFO] PGN firing rate avg: 4.0 Hz\n"
          ]
        },
        {
          "output_type": "stream",
          "name": "stderr",
          "text": [
            "INFO:NEURONIOUtils:PGN firing rate avg: 4.0 Hz\n"
          ]
        },
        {
          "output_type": "stream",
          "name": "stdout",
          "text": [
            "2023-05-12 22:17:14,156 [INFO] Grill PGN fr = 3.15 Hz\n"
          ]
        },
        {
          "output_type": "stream",
          "name": "stderr",
          "text": [
            "INFO:NEURONIOUtils:Grill PGN fr = 3.15 Hz\n"
          ]
        },
        {
          "output_type": "stream",
          "name": "stdout",
          "text": [
            "2023-05-12 22:17:14,158 [INFO] IMG node_gid\t  Hz\n"
          ]
        },
        {
          "output_type": "stream",
          "name": "stderr",
          "text": [
            "INFO:NEURONIOUtils:IMG node_gid\t  Hz\n"
          ]
        },
        {
          "output_type": "stream",
          "name": "stdout",
          "text": [
            "2023-05-12 22:17:14,160 [INFO] IMG firing rate avg: 4.0 Hz\n"
          ]
        },
        {
          "output_type": "stream",
          "name": "stderr",
          "text": [
            "INFO:NEURONIOUtils:IMG firing rate avg: 4.0 Hz\n"
          ]
        },
        {
          "output_type": "stream",
          "name": "stdout",
          "text": [
            "2023-05-12 22:17:14,169 [INFO] PGN firing rate = 4.00 Hz\n"
          ]
        },
        {
          "output_type": "stream",
          "name": "stderr",
          "text": [
            "/usr/local/lib/python3.10/dist-packages/bmtk/utils/reports/spike_trains/spike_trains.py:183: RuntimeWarning: divide by zero encountered in double_scalars\n",
            "  interval = -np.log(1.0 - np.random.uniform()) / fr\n",
            "INFO:NEURONIOUtils:PGN firing rate = 4.00 Hz\n"
          ]
        },
        {
          "output_type": "stream",
          "name": "stdout",
          "text": [
            "2023-05-12 22:17:14,173 [INFO] Volume = 3.1250 ml\n"
          ]
        },
        {
          "output_type": "stream",
          "name": "stderr",
          "text": [
            "INFO:NEURONIOUtils:Volume = 3.1250 ml\n"
          ]
        },
        {
          "output_type": "stream",
          "name": "stdout",
          "text": [
            "2023-05-12 22:17:14,176 [INFO] Pressure = 7.79 mmHg\n"
          ]
        },
        {
          "output_type": "stream",
          "name": "stderr",
          "text": [
            "INFO:NEURONIOUtils:Pressure = 7.79 mmHg\n"
          ]
        },
        {
          "output_type": "stream",
          "name": "stdout",
          "text": [
            "2023-05-12 22:17:14,178 [INFO] Calculated bladder afferent firing rate for the next time step = 0.00 Hz \n",
            " \n",
            "\n"
          ]
        },
        {
          "output_type": "stream",
          "name": "stderr",
          "text": [
            "INFO:NEURONIOUtils:Calculated bladder afferent firing rate for the next time step = 0.00 Hz \n",
            " \n",
            "\n"
          ]
        },
        {
          "output_type": "stream",
          "name": "stdout",
          "text": [
            "2023-05-12 22:17:15,539 [INFO]     step:12500 t_sim:2500.00 ms\n"
          ]
        },
        {
          "output_type": "stream",
          "name": "stderr",
          "text": [
            "INFO:NEURONIOUtils:    step:12500 t_sim:2500.00 ms\n"
          ]
        },
        {
          "output_type": "stream",
          "name": "stdout",
          "text": [
            "2023-05-12 22:17:15,547 [INFO] Timestep 2000.0 to 2500.0 ms\n"
          ]
        },
        {
          "output_type": "stream",
          "name": "stderr",
          "text": [
            "INFO:NEURONIOUtils:Timestep 2000.0 to 2500.0 ms\n"
          ]
        },
        {
          "output_type": "stream",
          "name": "stdout",
          "text": [
            "2023-05-12 22:17:15,555 [INFO] PGN node_id\t  Hz\n"
          ]
        },
        {
          "output_type": "stream",
          "name": "stderr",
          "text": [
            "INFO:NEURONIOUtils:PGN node_id\t  Hz\n"
          ]
        },
        {
          "output_type": "stream",
          "name": "stdout",
          "text": [
            "2023-05-12 22:17:15,564 [INFO] 70\t\t2.0\n"
          ]
        },
        {
          "output_type": "stream",
          "name": "stderr",
          "text": [
            "INFO:NEURONIOUtils:70\t\t2.0\n"
          ]
        },
        {
          "output_type": "stream",
          "name": "stdout",
          "text": [
            "2023-05-12 22:17:15,569 [INFO] 71\t\t2.0\n"
          ]
        },
        {
          "output_type": "stream",
          "name": "stderr",
          "text": [
            "INFO:NEURONIOUtils:71\t\t2.0\n"
          ]
        },
        {
          "output_type": "stream",
          "name": "stdout",
          "text": [
            "2023-05-12 22:17:15,571 [INFO] 72\t\t2.0\n"
          ]
        },
        {
          "output_type": "stream",
          "name": "stderr",
          "text": [
            "INFO:NEURONIOUtils:72\t\t2.0\n"
          ]
        },
        {
          "output_type": "stream",
          "name": "stdout",
          "text": [
            "2023-05-12 22:17:15,573 [INFO] 73\t\t2.0\n"
          ]
        },
        {
          "output_type": "stream",
          "name": "stderr",
          "text": [
            "INFO:NEURONIOUtils:73\t\t2.0\n"
          ]
        },
        {
          "output_type": "stream",
          "name": "stdout",
          "text": [
            "2023-05-12 22:17:15,575 [INFO] 74\t\t2.0\n"
          ]
        },
        {
          "output_type": "stream",
          "name": "stderr",
          "text": [
            "INFO:NEURONIOUtils:74\t\t2.0\n"
          ]
        },
        {
          "output_type": "stream",
          "name": "stdout",
          "text": [
            "2023-05-12 22:17:15,578 [INFO] 75\t\t2.0\n"
          ]
        },
        {
          "output_type": "stream",
          "name": "stderr",
          "text": [
            "INFO:NEURONIOUtils:75\t\t2.0\n"
          ]
        },
        {
          "output_type": "stream",
          "name": "stdout",
          "text": [
            "2023-05-12 22:17:15,580 [INFO] 76\t\t2.0\n"
          ]
        },
        {
          "output_type": "stream",
          "name": "stderr",
          "text": [
            "INFO:NEURONIOUtils:76\t\t2.0\n"
          ]
        },
        {
          "output_type": "stream",
          "name": "stdout",
          "text": [
            "2023-05-12 22:17:15,582 [INFO] 77\t\t2.0\n"
          ]
        },
        {
          "output_type": "stream",
          "name": "stderr",
          "text": [
            "INFO:NEURONIOUtils:77\t\t2.0\n"
          ]
        },
        {
          "output_type": "stream",
          "name": "stdout",
          "text": [
            "2023-05-12 22:17:15,584 [INFO] 78\t\t2.0\n"
          ]
        },
        {
          "output_type": "stream",
          "name": "stderr",
          "text": [
            "INFO:NEURONIOUtils:78\t\t2.0\n"
          ]
        },
        {
          "output_type": "stream",
          "name": "stdout",
          "text": [
            "2023-05-12 22:17:15,586 [INFO] 79\t\t2.0\n"
          ]
        },
        {
          "output_type": "stream",
          "name": "stderr",
          "text": [
            "INFO:NEURONIOUtils:79\t\t2.0\n"
          ]
        },
        {
          "output_type": "stream",
          "name": "stdout",
          "text": [
            "2023-05-12 22:17:15,588 [INFO] PGN firing rate avg: 2.0 Hz\n"
          ]
        },
        {
          "output_type": "stream",
          "name": "stderr",
          "text": [
            "INFO:NEURONIOUtils:PGN firing rate avg: 2.0 Hz\n"
          ]
        },
        {
          "output_type": "stream",
          "name": "stdout",
          "text": [
            "2023-05-12 22:17:15,590 [INFO] Grill PGN fr = 1.492 Hz\n"
          ]
        },
        {
          "output_type": "stream",
          "name": "stderr",
          "text": [
            "INFO:NEURONIOUtils:Grill PGN fr = 1.492 Hz\n"
          ]
        },
        {
          "output_type": "stream",
          "name": "stdout",
          "text": [
            "2023-05-12 22:17:15,592 [INFO] IMG node_gid\t  Hz\n"
          ]
        },
        {
          "output_type": "stream",
          "name": "stderr",
          "text": [
            "INFO:NEURONIOUtils:IMG node_gid\t  Hz\n"
          ]
        },
        {
          "output_type": "stream",
          "name": "stdout",
          "text": [
            "2023-05-12 22:17:15,594 [INFO] IMG firing rate avg: 2.0 Hz\n"
          ]
        },
        {
          "output_type": "stream",
          "name": "stderr",
          "text": [
            "INFO:NEURONIOUtils:IMG firing rate avg: 2.0 Hz\n"
          ]
        },
        {
          "output_type": "stream",
          "name": "stdout",
          "text": [
            "2023-05-12 22:17:15,605 [INFO] PGN firing rate = 2.00 Hz\n"
          ]
        },
        {
          "output_type": "stream",
          "name": "stderr",
          "text": [
            "/usr/local/lib/python3.10/dist-packages/bmtk/utils/reports/spike_trains/spike_trains.py:183: RuntimeWarning: divide by zero encountered in double_scalars\n",
            "  interval = -np.log(1.0 - np.random.uniform()) / fr\n",
            "INFO:NEURONIOUtils:PGN firing rate = 2.00 Hz\n"
          ]
        },
        {
          "output_type": "stream",
          "name": "stdout",
          "text": [
            "2023-05-12 22:17:15,612 [INFO] Volume = 4.1667 ml\n"
          ]
        },
        {
          "output_type": "stream",
          "name": "stderr",
          "text": [
            "INFO:NEURONIOUtils:Volume = 4.1667 ml\n"
          ]
        },
        {
          "output_type": "stream",
          "name": "stdout",
          "text": [
            "2023-05-12 22:17:15,615 [INFO] Pressure = 7.37 mmHg\n"
          ]
        },
        {
          "output_type": "stream",
          "name": "stderr",
          "text": [
            "INFO:NEURONIOUtils:Pressure = 7.37 mmHg\n"
          ]
        },
        {
          "output_type": "stream",
          "name": "stdout",
          "text": [
            "2023-05-12 22:17:15,617 [INFO] Calculated bladder afferent firing rate for the next time step = 0.00 Hz \n",
            " \n",
            "\n"
          ]
        },
        {
          "output_type": "stream",
          "name": "stderr",
          "text": [
            "INFO:NEURONIOUtils:Calculated bladder afferent firing rate for the next time step = 0.00 Hz \n",
            " \n",
            "\n"
          ]
        },
        {
          "output_type": "stream",
          "name": "stdout",
          "text": [
            "2023-05-12 22:17:16,834 [INFO]     step:15000 t_sim:3000.00 ms\n"
          ]
        },
        {
          "output_type": "stream",
          "name": "stderr",
          "text": [
            "INFO:NEURONIOUtils:    step:15000 t_sim:3000.00 ms\n"
          ]
        },
        {
          "output_type": "stream",
          "name": "stdout",
          "text": [
            "2023-05-12 22:17:16,849 [INFO] Timestep 2500.0 to 3000.0 ms\n"
          ]
        },
        {
          "output_type": "stream",
          "name": "stderr",
          "text": [
            "INFO:NEURONIOUtils:Timestep 2500.0 to 3000.0 ms\n"
          ]
        },
        {
          "output_type": "stream",
          "name": "stdout",
          "text": [
            "2023-05-12 22:17:16,855 [INFO] PGN node_id\t  Hz\n"
          ]
        },
        {
          "output_type": "stream",
          "name": "stderr",
          "text": [
            "INFO:NEURONIOUtils:PGN node_id\t  Hz\n"
          ]
        },
        {
          "output_type": "stream",
          "name": "stdout",
          "text": [
            "2023-05-12 22:17:16,859 [INFO] 70\t\t6.0\n"
          ]
        },
        {
          "output_type": "stream",
          "name": "stderr",
          "text": [
            "INFO:NEURONIOUtils:70\t\t6.0\n"
          ]
        },
        {
          "output_type": "stream",
          "name": "stdout",
          "text": [
            "2023-05-12 22:17:16,865 [INFO] 71\t\t6.0\n"
          ]
        },
        {
          "output_type": "stream",
          "name": "stderr",
          "text": [
            "INFO:NEURONIOUtils:71\t\t6.0\n"
          ]
        },
        {
          "output_type": "stream",
          "name": "stdout",
          "text": [
            "2023-05-12 22:17:16,867 [INFO] 72\t\t6.0\n"
          ]
        },
        {
          "output_type": "stream",
          "name": "stderr",
          "text": [
            "INFO:NEURONIOUtils:72\t\t6.0\n"
          ]
        },
        {
          "output_type": "stream",
          "name": "stdout",
          "text": [
            "2023-05-12 22:17:16,869 [INFO] 73\t\t6.0\n"
          ]
        },
        {
          "output_type": "stream",
          "name": "stderr",
          "text": [
            "INFO:NEURONIOUtils:73\t\t6.0\n"
          ]
        },
        {
          "output_type": "stream",
          "name": "stdout",
          "text": [
            "2023-05-12 22:17:16,872 [INFO] 74\t\t6.0\n"
          ]
        },
        {
          "output_type": "stream",
          "name": "stderr",
          "text": [
            "INFO:NEURONIOUtils:74\t\t6.0\n"
          ]
        },
        {
          "output_type": "stream",
          "name": "stdout",
          "text": [
            "2023-05-12 22:17:16,878 [INFO] 75\t\t6.0\n"
          ]
        },
        {
          "output_type": "stream",
          "name": "stderr",
          "text": [
            "INFO:NEURONIOUtils:75\t\t6.0\n"
          ]
        },
        {
          "output_type": "stream",
          "name": "stdout",
          "text": [
            "2023-05-12 22:17:16,880 [INFO] 76\t\t6.0\n"
          ]
        },
        {
          "output_type": "stream",
          "name": "stderr",
          "text": [
            "INFO:NEURONIOUtils:76\t\t6.0\n"
          ]
        },
        {
          "output_type": "stream",
          "name": "stdout",
          "text": [
            "2023-05-12 22:17:16,882 [INFO] 77\t\t6.0\n"
          ]
        },
        {
          "output_type": "stream",
          "name": "stderr",
          "text": [
            "INFO:NEURONIOUtils:77\t\t6.0\n"
          ]
        },
        {
          "output_type": "stream",
          "name": "stdout",
          "text": [
            "2023-05-12 22:17:16,884 [INFO] 78\t\t6.0\n"
          ]
        },
        {
          "output_type": "stream",
          "name": "stderr",
          "text": [
            "INFO:NEURONIOUtils:78\t\t6.0\n"
          ]
        },
        {
          "output_type": "stream",
          "name": "stdout",
          "text": [
            "2023-05-12 22:17:16,888 [INFO] 79\t\t6.0\n"
          ]
        },
        {
          "output_type": "stream",
          "name": "stderr",
          "text": [
            "INFO:NEURONIOUtils:79\t\t6.0\n"
          ]
        },
        {
          "output_type": "stream",
          "name": "stdout",
          "text": [
            "2023-05-12 22:17:16,890 [INFO] PGN firing rate avg: 6.0 Hz\n"
          ]
        },
        {
          "output_type": "stream",
          "name": "stderr",
          "text": [
            "INFO:NEURONIOUtils:PGN firing rate avg: 6.0 Hz\n"
          ]
        },
        {
          "output_type": "stream",
          "name": "stdout",
          "text": [
            "2023-05-12 22:17:16,893 [INFO] Grill PGN fr = 4.772 Hz\n"
          ]
        },
        {
          "output_type": "stream",
          "name": "stderr",
          "text": [
            "INFO:NEURONIOUtils:Grill PGN fr = 4.772 Hz\n"
          ]
        },
        {
          "output_type": "stream",
          "name": "stdout",
          "text": [
            "2023-05-12 22:17:16,898 [INFO] IMG node_gid\t  Hz\n"
          ]
        },
        {
          "output_type": "stream",
          "name": "stderr",
          "text": [
            "INFO:NEURONIOUtils:IMG node_gid\t  Hz\n"
          ]
        },
        {
          "output_type": "stream",
          "name": "stdout",
          "text": [
            "2023-05-12 22:17:16,900 [INFO] IMG firing rate avg: 6.0 Hz\n"
          ]
        },
        {
          "output_type": "stream",
          "name": "stderr",
          "text": [
            "INFO:NEURONIOUtils:IMG firing rate avg: 6.0 Hz\n"
          ]
        },
        {
          "output_type": "stream",
          "name": "stdout",
          "text": [
            "2023-05-12 22:17:16,908 [INFO] PGN firing rate = 6.00 Hz\n"
          ]
        },
        {
          "output_type": "stream",
          "name": "stderr",
          "text": [
            "/usr/local/lib/python3.10/dist-packages/bmtk/utils/reports/spike_trains/spike_trains.py:183: RuntimeWarning: divide by zero encountered in double_scalars\n",
            "  interval = -np.log(1.0 - np.random.uniform()) / fr\n",
            "INFO:NEURONIOUtils:PGN firing rate = 6.00 Hz\n"
          ]
        },
        {
          "output_type": "stream",
          "name": "stdout",
          "text": [
            "2023-05-12 22:17:16,912 [INFO] Volume = 5.2083 ml\n"
          ]
        },
        {
          "output_type": "stream",
          "name": "stderr",
          "text": [
            "INFO:NEURONIOUtils:Volume = 5.2083 ml\n"
          ]
        },
        {
          "output_type": "stream",
          "name": "stdout",
          "text": [
            "2023-05-12 22:17:16,914 [INFO] Pressure = 8.19 mmHg\n"
          ]
        },
        {
          "output_type": "stream",
          "name": "stderr",
          "text": [
            "INFO:NEURONIOUtils:Pressure = 8.19 mmHg\n"
          ]
        },
        {
          "output_type": "stream",
          "name": "stdout",
          "text": [
            "2023-05-12 22:17:16,916 [INFO] Calculated bladder afferent firing rate for the next time step = 0.00 Hz \n",
            " \n",
            "\n"
          ]
        },
        {
          "output_type": "stream",
          "name": "stderr",
          "text": [
            "INFO:NEURONIOUtils:Calculated bladder afferent firing rate for the next time step = 0.00 Hz \n",
            " \n",
            "\n"
          ]
        },
        {
          "output_type": "stream",
          "name": "stdout",
          "text": [
            "2023-05-12 22:17:18,135 [INFO]     step:17500 t_sim:3500.00 ms\n"
          ]
        },
        {
          "output_type": "stream",
          "name": "stderr",
          "text": [
            "INFO:NEURONIOUtils:    step:17500 t_sim:3500.00 ms\n"
          ]
        },
        {
          "output_type": "stream",
          "name": "stdout",
          "text": [
            "2023-05-12 22:17:18,144 [INFO] Timestep 3000.0 to 3500.0 ms\n"
          ]
        },
        {
          "output_type": "stream",
          "name": "stderr",
          "text": [
            "INFO:NEURONIOUtils:Timestep 3000.0 to 3500.0 ms\n"
          ]
        },
        {
          "output_type": "stream",
          "name": "stdout",
          "text": [
            "2023-05-12 22:17:18,148 [INFO] PGN node_id\t  Hz\n"
          ]
        },
        {
          "output_type": "stream",
          "name": "stderr",
          "text": [
            "INFO:NEURONIOUtils:PGN node_id\t  Hz\n"
          ]
        },
        {
          "output_type": "stream",
          "name": "stdout",
          "text": [
            "2023-05-12 22:17:18,151 [INFO] 70\t\t6.0\n"
          ]
        },
        {
          "output_type": "stream",
          "name": "stderr",
          "text": [
            "INFO:NEURONIOUtils:70\t\t6.0\n"
          ]
        },
        {
          "output_type": "stream",
          "name": "stdout",
          "text": [
            "2023-05-12 22:17:18,154 [INFO] 71\t\t6.0\n"
          ]
        },
        {
          "output_type": "stream",
          "name": "stderr",
          "text": [
            "INFO:NEURONIOUtils:71\t\t6.0\n"
          ]
        },
        {
          "output_type": "stream",
          "name": "stdout",
          "text": [
            "2023-05-12 22:17:18,156 [INFO] 72\t\t6.0\n"
          ]
        },
        {
          "output_type": "stream",
          "name": "stderr",
          "text": [
            "INFO:NEURONIOUtils:72\t\t6.0\n"
          ]
        },
        {
          "output_type": "stream",
          "name": "stdout",
          "text": [
            "2023-05-12 22:17:18,158 [INFO] 73\t\t6.0\n"
          ]
        },
        {
          "output_type": "stream",
          "name": "stderr",
          "text": [
            "INFO:NEURONIOUtils:73\t\t6.0\n"
          ]
        },
        {
          "output_type": "stream",
          "name": "stdout",
          "text": [
            "2023-05-12 22:17:18,160 [INFO] 74\t\t6.0\n"
          ]
        },
        {
          "output_type": "stream",
          "name": "stderr",
          "text": [
            "INFO:NEURONIOUtils:74\t\t6.0\n"
          ]
        },
        {
          "output_type": "stream",
          "name": "stdout",
          "text": [
            "2023-05-12 22:17:18,162 [INFO] 75\t\t6.0\n"
          ]
        },
        {
          "output_type": "stream",
          "name": "stderr",
          "text": [
            "INFO:NEURONIOUtils:75\t\t6.0\n"
          ]
        },
        {
          "output_type": "stream",
          "name": "stdout",
          "text": [
            "2023-05-12 22:17:18,165 [INFO] 76\t\t6.0\n"
          ]
        },
        {
          "output_type": "stream",
          "name": "stderr",
          "text": [
            "INFO:NEURONIOUtils:76\t\t6.0\n"
          ]
        },
        {
          "output_type": "stream",
          "name": "stdout",
          "text": [
            "2023-05-12 22:17:18,167 [INFO] 77\t\t6.0\n"
          ]
        },
        {
          "output_type": "stream",
          "name": "stderr",
          "text": [
            "INFO:NEURONIOUtils:77\t\t6.0\n"
          ]
        },
        {
          "output_type": "stream",
          "name": "stdout",
          "text": [
            "2023-05-12 22:17:18,169 [INFO] 78\t\t6.0\n"
          ]
        },
        {
          "output_type": "stream",
          "name": "stderr",
          "text": [
            "INFO:NEURONIOUtils:78\t\t6.0\n"
          ]
        },
        {
          "output_type": "stream",
          "name": "stdout",
          "text": [
            "2023-05-12 22:17:18,170 [INFO] 79\t\t6.0\n"
          ]
        },
        {
          "output_type": "stream",
          "name": "stderr",
          "text": [
            "INFO:NEURONIOUtils:79\t\t6.0\n"
          ]
        },
        {
          "output_type": "stream",
          "name": "stdout",
          "text": [
            "2023-05-12 22:17:18,178 [INFO] PGN firing rate avg: 6.0 Hz\n"
          ]
        },
        {
          "output_type": "stream",
          "name": "stderr",
          "text": [
            "INFO:NEURONIOUtils:PGN firing rate avg: 6.0 Hz\n"
          ]
        },
        {
          "output_type": "stream",
          "name": "stdout",
          "text": [
            "2023-05-12 22:17:18,182 [INFO] Grill PGN fr = 4.772 Hz\n"
          ]
        },
        {
          "output_type": "stream",
          "name": "stderr",
          "text": [
            "INFO:NEURONIOUtils:Grill PGN fr = 4.772 Hz\n"
          ]
        },
        {
          "output_type": "stream",
          "name": "stdout",
          "text": [
            "2023-05-12 22:17:18,184 [INFO] IMG node_gid\t  Hz\n"
          ]
        },
        {
          "output_type": "stream",
          "name": "stderr",
          "text": [
            "INFO:NEURONIOUtils:IMG node_gid\t  Hz\n"
          ]
        },
        {
          "output_type": "stream",
          "name": "stdout",
          "text": [
            "2023-05-12 22:17:18,186 [INFO] IMG firing rate avg: 6.0 Hz\n"
          ]
        },
        {
          "output_type": "stream",
          "name": "stderr",
          "text": [
            "INFO:NEURONIOUtils:IMG firing rate avg: 6.0 Hz\n"
          ]
        },
        {
          "output_type": "stream",
          "name": "stdout",
          "text": [
            "2023-05-12 22:17:18,194 [INFO] PGN firing rate = 6.00 Hz\n"
          ]
        },
        {
          "output_type": "stream",
          "name": "stderr",
          "text": [
            "/usr/local/lib/python3.10/dist-packages/bmtk/utils/reports/spike_trains/spike_trains.py:183: RuntimeWarning: divide by zero encountered in double_scalars\n",
            "  interval = -np.log(1.0 - np.random.uniform()) / fr\n",
            "INFO:NEURONIOUtils:PGN firing rate = 6.00 Hz\n"
          ]
        },
        {
          "output_type": "stream",
          "name": "stdout",
          "text": [
            "2023-05-12 22:17:18,230 [INFO] Volume = 6.2500 ml\n"
          ]
        },
        {
          "output_type": "stream",
          "name": "stderr",
          "text": [
            "INFO:NEURONIOUtils:Volume = 6.2500 ml\n"
          ]
        },
        {
          "output_type": "stream",
          "name": "stdout",
          "text": [
            "2023-05-12 22:17:18,237 [INFO] Pressure = 8.19 mmHg\n"
          ]
        },
        {
          "output_type": "stream",
          "name": "stderr",
          "text": [
            "INFO:NEURONIOUtils:Pressure = 8.19 mmHg\n"
          ]
        },
        {
          "output_type": "stream",
          "name": "stdout",
          "text": [
            "2023-05-12 22:17:18,240 [INFO] Calculated bladder afferent firing rate for the next time step = 0.00 Hz \n",
            " \n",
            "\n"
          ]
        },
        {
          "output_type": "stream",
          "name": "stderr",
          "text": [
            "INFO:NEURONIOUtils:Calculated bladder afferent firing rate for the next time step = 0.00 Hz \n",
            " \n",
            "\n"
          ]
        },
        {
          "output_type": "stream",
          "name": "stdout",
          "text": [
            "2023-05-12 22:17:19,067 [INFO]     step:20000 t_sim:4000.00 ms\n"
          ]
        },
        {
          "output_type": "stream",
          "name": "stderr",
          "text": [
            "INFO:NEURONIOUtils:    step:20000 t_sim:4000.00 ms\n"
          ]
        },
        {
          "output_type": "stream",
          "name": "stdout",
          "text": [
            "2023-05-12 22:17:19,080 [INFO] Timestep 3500.0 to 4000.0 ms\n"
          ]
        },
        {
          "output_type": "stream",
          "name": "stderr",
          "text": [
            "INFO:NEURONIOUtils:Timestep 3500.0 to 4000.0 ms\n"
          ]
        },
        {
          "output_type": "stream",
          "name": "stdout",
          "text": [
            "2023-05-12 22:17:19,087 [INFO] PGN node_id\t  Hz\n"
          ]
        },
        {
          "output_type": "stream",
          "name": "stderr",
          "text": [
            "INFO:NEURONIOUtils:PGN node_id\t  Hz\n"
          ]
        },
        {
          "output_type": "stream",
          "name": "stdout",
          "text": [
            "2023-05-12 22:17:19,093 [INFO] 70\t\t2.0\n"
          ]
        },
        {
          "output_type": "stream",
          "name": "stderr",
          "text": [
            "INFO:NEURONIOUtils:70\t\t2.0\n"
          ]
        },
        {
          "output_type": "stream",
          "name": "stdout",
          "text": [
            "2023-05-12 22:17:19,098 [INFO] 71\t\t2.0\n"
          ]
        },
        {
          "output_type": "stream",
          "name": "stderr",
          "text": [
            "INFO:NEURONIOUtils:71\t\t2.0\n"
          ]
        },
        {
          "output_type": "stream",
          "name": "stdout",
          "text": [
            "2023-05-12 22:17:19,107 [INFO] 72\t\t2.0\n"
          ]
        },
        {
          "output_type": "stream",
          "name": "stderr",
          "text": [
            "INFO:NEURONIOUtils:72\t\t2.0\n"
          ]
        },
        {
          "output_type": "stream",
          "name": "stdout",
          "text": [
            "2023-05-12 22:17:19,111 [INFO] 73\t\t2.0\n"
          ]
        },
        {
          "output_type": "stream",
          "name": "stderr",
          "text": [
            "INFO:NEURONIOUtils:73\t\t2.0\n"
          ]
        },
        {
          "output_type": "stream",
          "name": "stdout",
          "text": [
            "2023-05-12 22:17:19,120 [INFO] 74\t\t2.0\n"
          ]
        },
        {
          "output_type": "stream",
          "name": "stderr",
          "text": [
            "INFO:NEURONIOUtils:74\t\t2.0\n"
          ]
        },
        {
          "output_type": "stream",
          "name": "stdout",
          "text": [
            "2023-05-12 22:17:19,122 [INFO] 75\t\t2.0\n"
          ]
        },
        {
          "output_type": "stream",
          "name": "stderr",
          "text": [
            "INFO:NEURONIOUtils:75\t\t2.0\n"
          ]
        },
        {
          "output_type": "stream",
          "name": "stdout",
          "text": [
            "2023-05-12 22:17:19,124 [INFO] 76\t\t2.0\n"
          ]
        },
        {
          "output_type": "stream",
          "name": "stderr",
          "text": [
            "INFO:NEURONIOUtils:76\t\t2.0\n"
          ]
        },
        {
          "output_type": "stream",
          "name": "stdout",
          "text": [
            "2023-05-12 22:17:19,126 [INFO] 77\t\t2.0\n"
          ]
        },
        {
          "output_type": "stream",
          "name": "stderr",
          "text": [
            "INFO:NEURONIOUtils:77\t\t2.0\n"
          ]
        },
        {
          "output_type": "stream",
          "name": "stdout",
          "text": [
            "2023-05-12 22:17:19,128 [INFO] 78\t\t2.0\n"
          ]
        },
        {
          "output_type": "stream",
          "name": "stderr",
          "text": [
            "INFO:NEURONIOUtils:78\t\t2.0\n"
          ]
        },
        {
          "output_type": "stream",
          "name": "stdout",
          "text": [
            "2023-05-12 22:17:19,130 [INFO] 79\t\t2.0\n"
          ]
        },
        {
          "output_type": "stream",
          "name": "stderr",
          "text": [
            "INFO:NEURONIOUtils:79\t\t2.0\n"
          ]
        },
        {
          "output_type": "stream",
          "name": "stdout",
          "text": [
            "2023-05-12 22:17:19,133 [INFO] PGN firing rate avg: 2.0 Hz\n"
          ]
        },
        {
          "output_type": "stream",
          "name": "stderr",
          "text": [
            "INFO:NEURONIOUtils:PGN firing rate avg: 2.0 Hz\n"
          ]
        },
        {
          "output_type": "stream",
          "name": "stdout",
          "text": [
            "2023-05-12 22:17:19,134 [INFO] Grill PGN fr = 1.492 Hz\n"
          ]
        },
        {
          "output_type": "stream",
          "name": "stderr",
          "text": [
            "INFO:NEURONIOUtils:Grill PGN fr = 1.492 Hz\n"
          ]
        },
        {
          "output_type": "stream",
          "name": "stdout",
          "text": [
            "2023-05-12 22:17:19,137 [INFO] IMG node_gid\t  Hz\n"
          ]
        },
        {
          "output_type": "stream",
          "name": "stderr",
          "text": [
            "INFO:NEURONIOUtils:IMG node_gid\t  Hz\n"
          ]
        },
        {
          "output_type": "stream",
          "name": "stdout",
          "text": [
            "2023-05-12 22:17:19,139 [INFO] IMG firing rate avg: 2.0 Hz\n"
          ]
        },
        {
          "output_type": "stream",
          "name": "stderr",
          "text": [
            "INFO:NEURONIOUtils:IMG firing rate avg: 2.0 Hz\n"
          ]
        },
        {
          "output_type": "stream",
          "name": "stdout",
          "text": [
            "2023-05-12 22:17:19,147 [INFO] PGN firing rate = 2.00 Hz\n"
          ]
        },
        {
          "output_type": "stream",
          "name": "stderr",
          "text": [
            "/usr/local/lib/python3.10/dist-packages/bmtk/utils/reports/spike_trains/spike_trains.py:183: RuntimeWarning: divide by zero encountered in double_scalars\n",
            "  interval = -np.log(1.0 - np.random.uniform()) / fr\n",
            "INFO:NEURONIOUtils:PGN firing rate = 2.00 Hz\n"
          ]
        },
        {
          "output_type": "stream",
          "name": "stdout",
          "text": [
            "2023-05-12 22:17:19,152 [INFO] Volume = 7.2917 ml\n"
          ]
        },
        {
          "output_type": "stream",
          "name": "stderr",
          "text": [
            "INFO:NEURONIOUtils:Volume = 7.2917 ml\n"
          ]
        },
        {
          "output_type": "stream",
          "name": "stdout",
          "text": [
            "2023-05-12 22:17:19,154 [INFO] Pressure = 7.37 mmHg\n"
          ]
        },
        {
          "output_type": "stream",
          "name": "stderr",
          "text": [
            "INFO:NEURONIOUtils:Pressure = 7.37 mmHg\n"
          ]
        },
        {
          "output_type": "stream",
          "name": "stdout",
          "text": [
            "2023-05-12 22:17:19,157 [INFO] Calculated bladder afferent firing rate for the next time step = 0.00 Hz \n",
            " \n",
            "\n"
          ]
        },
        {
          "output_type": "stream",
          "name": "stderr",
          "text": [
            "INFO:NEURONIOUtils:Calculated bladder afferent firing rate for the next time step = 0.00 Hz \n",
            " \n",
            "\n"
          ]
        },
        {
          "output_type": "stream",
          "name": "stdout",
          "text": [
            "2023-05-12 22:17:20,059 [INFO]     step:22500 t_sim:4500.00 ms\n"
          ]
        },
        {
          "output_type": "stream",
          "name": "stderr",
          "text": [
            "INFO:NEURONIOUtils:    step:22500 t_sim:4500.00 ms\n"
          ]
        },
        {
          "output_type": "stream",
          "name": "stdout",
          "text": [
            "2023-05-12 22:17:20,075 [INFO] Timestep 4000.0 to 4500.0 ms\n"
          ]
        },
        {
          "output_type": "stream",
          "name": "stderr",
          "text": [
            "INFO:NEURONIOUtils:Timestep 4000.0 to 4500.0 ms\n"
          ]
        },
        {
          "output_type": "stream",
          "name": "stdout",
          "text": [
            "2023-05-12 22:17:20,078 [INFO] PGN node_id\t  Hz\n"
          ]
        },
        {
          "output_type": "stream",
          "name": "stderr",
          "text": [
            "INFO:NEURONIOUtils:PGN node_id\t  Hz\n"
          ]
        },
        {
          "output_type": "stream",
          "name": "stdout",
          "text": [
            "2023-05-12 22:17:20,093 [INFO] 70\t\t4.0\n"
          ]
        },
        {
          "output_type": "stream",
          "name": "stderr",
          "text": [
            "INFO:NEURONIOUtils:70\t\t4.0\n"
          ]
        },
        {
          "output_type": "stream",
          "name": "stdout",
          "text": [
            "2023-05-12 22:17:20,095 [INFO] 71\t\t4.0\n"
          ]
        },
        {
          "output_type": "stream",
          "name": "stderr",
          "text": [
            "INFO:NEURONIOUtils:71\t\t4.0\n"
          ]
        },
        {
          "output_type": "stream",
          "name": "stdout",
          "text": [
            "2023-05-12 22:17:20,097 [INFO] 72\t\t4.0\n"
          ]
        },
        {
          "output_type": "stream",
          "name": "stderr",
          "text": [
            "INFO:NEURONIOUtils:72\t\t4.0\n"
          ]
        },
        {
          "output_type": "stream",
          "name": "stdout",
          "text": [
            "2023-05-12 22:17:20,099 [INFO] 73\t\t4.0\n"
          ]
        },
        {
          "output_type": "stream",
          "name": "stderr",
          "text": [
            "INFO:NEURONIOUtils:73\t\t4.0\n"
          ]
        },
        {
          "output_type": "stream",
          "name": "stdout",
          "text": [
            "2023-05-12 22:17:20,101 [INFO] 74\t\t4.0\n"
          ]
        },
        {
          "output_type": "stream",
          "name": "stderr",
          "text": [
            "INFO:NEURONIOUtils:74\t\t4.0\n"
          ]
        },
        {
          "output_type": "stream",
          "name": "stdout",
          "text": [
            "2023-05-12 22:17:20,103 [INFO] 75\t\t4.0\n"
          ]
        },
        {
          "output_type": "stream",
          "name": "stderr",
          "text": [
            "INFO:NEURONIOUtils:75\t\t4.0\n"
          ]
        },
        {
          "output_type": "stream",
          "name": "stdout",
          "text": [
            "2023-05-12 22:17:20,105 [INFO] 76\t\t4.0\n"
          ]
        },
        {
          "output_type": "stream",
          "name": "stderr",
          "text": [
            "INFO:NEURONIOUtils:76\t\t4.0\n"
          ]
        },
        {
          "output_type": "stream",
          "name": "stdout",
          "text": [
            "2023-05-12 22:17:20,107 [INFO] 77\t\t4.0\n"
          ]
        },
        {
          "output_type": "stream",
          "name": "stderr",
          "text": [
            "INFO:NEURONIOUtils:77\t\t4.0\n"
          ]
        },
        {
          "output_type": "stream",
          "name": "stdout",
          "text": [
            "2023-05-12 22:17:20,109 [INFO] 78\t\t4.0\n"
          ]
        },
        {
          "output_type": "stream",
          "name": "stderr",
          "text": [
            "INFO:NEURONIOUtils:78\t\t4.0\n"
          ]
        },
        {
          "output_type": "stream",
          "name": "stdout",
          "text": [
            "2023-05-12 22:17:20,111 [INFO] 79\t\t4.0\n"
          ]
        },
        {
          "output_type": "stream",
          "name": "stderr",
          "text": [
            "INFO:NEURONIOUtils:79\t\t4.0\n"
          ]
        },
        {
          "output_type": "stream",
          "name": "stdout",
          "text": [
            "2023-05-12 22:17:20,113 [INFO] PGN firing rate avg: 4.0 Hz\n"
          ]
        },
        {
          "output_type": "stream",
          "name": "stderr",
          "text": [
            "INFO:NEURONIOUtils:PGN firing rate avg: 4.0 Hz\n"
          ]
        },
        {
          "output_type": "stream",
          "name": "stdout",
          "text": [
            "2023-05-12 22:17:20,115 [INFO] Grill PGN fr = 3.15 Hz\n"
          ]
        },
        {
          "output_type": "stream",
          "name": "stderr",
          "text": [
            "INFO:NEURONIOUtils:Grill PGN fr = 3.15 Hz\n"
          ]
        },
        {
          "output_type": "stream",
          "name": "stdout",
          "text": [
            "2023-05-12 22:17:20,117 [INFO] IMG node_gid\t  Hz\n"
          ]
        },
        {
          "output_type": "stream",
          "name": "stderr",
          "text": [
            "INFO:NEURONIOUtils:IMG node_gid\t  Hz\n"
          ]
        },
        {
          "output_type": "stream",
          "name": "stdout",
          "text": [
            "2023-05-12 22:17:20,119 [INFO] IMG firing rate avg: 4.0 Hz\n"
          ]
        },
        {
          "output_type": "stream",
          "name": "stderr",
          "text": [
            "INFO:NEURONIOUtils:IMG firing rate avg: 4.0 Hz\n"
          ]
        },
        {
          "output_type": "stream",
          "name": "stdout",
          "text": [
            "2023-05-12 22:17:20,127 [INFO] PGN firing rate = 4.00 Hz\n"
          ]
        },
        {
          "output_type": "stream",
          "name": "stderr",
          "text": [
            "/usr/local/lib/python3.10/dist-packages/bmtk/utils/reports/spike_trains/spike_trains.py:183: RuntimeWarning: divide by zero encountered in double_scalars\n",
            "  interval = -np.log(1.0 - np.random.uniform()) / fr\n",
            "INFO:NEURONIOUtils:PGN firing rate = 4.00 Hz\n"
          ]
        },
        {
          "output_type": "stream",
          "name": "stdout",
          "text": [
            "2023-05-12 22:17:20,130 [INFO] Volume = 8.3333 ml\n"
          ]
        },
        {
          "output_type": "stream",
          "name": "stderr",
          "text": [
            "INFO:NEURONIOUtils:Volume = 8.3333 ml\n"
          ]
        },
        {
          "output_type": "stream",
          "name": "stdout",
          "text": [
            "2023-05-12 22:17:20,132 [INFO] Pressure = 7.79 mmHg\n"
          ]
        },
        {
          "output_type": "stream",
          "name": "stderr",
          "text": [
            "INFO:NEURONIOUtils:Pressure = 7.79 mmHg\n"
          ]
        },
        {
          "output_type": "stream",
          "name": "stdout",
          "text": [
            "2023-05-12 22:17:20,134 [INFO] Calculated bladder afferent firing rate for the next time step = 0.00 Hz \n",
            " \n",
            "\n"
          ]
        },
        {
          "output_type": "stream",
          "name": "stderr",
          "text": [
            "INFO:NEURONIOUtils:Calculated bladder afferent firing rate for the next time step = 0.00 Hz \n",
            " \n",
            "\n"
          ]
        },
        {
          "output_type": "stream",
          "name": "stdout",
          "text": [
            "2023-05-12 22:17:21,691 [INFO]     step:25000 t_sim:5000.00 ms\n"
          ]
        },
        {
          "output_type": "stream",
          "name": "stderr",
          "text": [
            "INFO:NEURONIOUtils:    step:25000 t_sim:5000.00 ms\n"
          ]
        },
        {
          "output_type": "stream",
          "name": "stdout",
          "text": [
            "2023-05-12 22:17:21,712 [INFO] Timestep 4500.0 to 5000.0 ms\n"
          ]
        },
        {
          "output_type": "stream",
          "name": "stderr",
          "text": [
            "INFO:NEURONIOUtils:Timestep 4500.0 to 5000.0 ms\n"
          ]
        },
        {
          "output_type": "stream",
          "name": "stdout",
          "text": [
            "2023-05-12 22:17:21,717 [INFO] PGN node_id\t  Hz\n"
          ]
        },
        {
          "output_type": "stream",
          "name": "stderr",
          "text": [
            "INFO:NEURONIOUtils:PGN node_id\t  Hz\n"
          ]
        },
        {
          "output_type": "stream",
          "name": "stdout",
          "text": [
            "2023-05-12 22:17:21,721 [INFO] 70\t\t6.0\n"
          ]
        },
        {
          "output_type": "stream",
          "name": "stderr",
          "text": [
            "INFO:NEURONIOUtils:70\t\t6.0\n"
          ]
        },
        {
          "output_type": "stream",
          "name": "stdout",
          "text": [
            "2023-05-12 22:17:21,724 [INFO] 71\t\t6.0\n"
          ]
        },
        {
          "output_type": "stream",
          "name": "stderr",
          "text": [
            "INFO:NEURONIOUtils:71\t\t6.0\n"
          ]
        },
        {
          "output_type": "stream",
          "name": "stdout",
          "text": [
            "2023-05-12 22:17:21,730 [INFO] 72\t\t6.0\n"
          ]
        },
        {
          "output_type": "stream",
          "name": "stderr",
          "text": [
            "INFO:NEURONIOUtils:72\t\t6.0\n"
          ]
        },
        {
          "output_type": "stream",
          "name": "stdout",
          "text": [
            "2023-05-12 22:17:21,741 [INFO] 73\t\t6.0\n"
          ]
        },
        {
          "output_type": "stream",
          "name": "stderr",
          "text": [
            "INFO:NEURONIOUtils:73\t\t6.0\n"
          ]
        },
        {
          "output_type": "stream",
          "name": "stdout",
          "text": [
            "2023-05-12 22:17:21,746 [INFO] 74\t\t6.0\n"
          ]
        },
        {
          "output_type": "stream",
          "name": "stderr",
          "text": [
            "INFO:NEURONIOUtils:74\t\t6.0\n"
          ]
        },
        {
          "output_type": "stream",
          "name": "stdout",
          "text": [
            "2023-05-12 22:17:21,766 [INFO] 75\t\t6.0\n"
          ]
        },
        {
          "output_type": "stream",
          "name": "stderr",
          "text": [
            "INFO:NEURONIOUtils:75\t\t6.0\n"
          ]
        },
        {
          "output_type": "stream",
          "name": "stdout",
          "text": [
            "2023-05-12 22:17:21,774 [INFO] 76\t\t6.0\n"
          ]
        },
        {
          "output_type": "stream",
          "name": "stderr",
          "text": [
            "INFO:NEURONIOUtils:76\t\t6.0\n"
          ]
        },
        {
          "output_type": "stream",
          "name": "stdout",
          "text": [
            "2023-05-12 22:17:21,776 [INFO] 77\t\t6.0\n"
          ]
        },
        {
          "output_type": "stream",
          "name": "stderr",
          "text": [
            "INFO:NEURONIOUtils:77\t\t6.0\n"
          ]
        },
        {
          "output_type": "stream",
          "name": "stdout",
          "text": [
            "2023-05-12 22:17:21,778 [INFO] 78\t\t6.0\n"
          ]
        },
        {
          "output_type": "stream",
          "name": "stderr",
          "text": [
            "INFO:NEURONIOUtils:78\t\t6.0\n"
          ]
        },
        {
          "output_type": "stream",
          "name": "stdout",
          "text": [
            "2023-05-12 22:17:21,782 [INFO] 79\t\t6.0\n"
          ]
        },
        {
          "output_type": "stream",
          "name": "stderr",
          "text": [
            "INFO:NEURONIOUtils:79\t\t6.0\n"
          ]
        },
        {
          "output_type": "stream",
          "name": "stdout",
          "text": [
            "2023-05-12 22:17:21,784 [INFO] PGN firing rate avg: 6.0 Hz\n"
          ]
        },
        {
          "output_type": "stream",
          "name": "stderr",
          "text": [
            "INFO:NEURONIOUtils:PGN firing rate avg: 6.0 Hz\n"
          ]
        },
        {
          "output_type": "stream",
          "name": "stdout",
          "text": [
            "2023-05-12 22:17:21,787 [INFO] Grill PGN fr = 4.772 Hz\n"
          ]
        },
        {
          "output_type": "stream",
          "name": "stderr",
          "text": [
            "INFO:NEURONIOUtils:Grill PGN fr = 4.772 Hz\n"
          ]
        },
        {
          "output_type": "stream",
          "name": "stdout",
          "text": [
            "2023-05-12 22:17:21,789 [INFO] IMG node_gid\t  Hz\n"
          ]
        },
        {
          "output_type": "stream",
          "name": "stderr",
          "text": [
            "INFO:NEURONIOUtils:IMG node_gid\t  Hz\n"
          ]
        },
        {
          "output_type": "stream",
          "name": "stdout",
          "text": [
            "2023-05-12 22:17:21,791 [INFO] IMG firing rate avg: 6.0 Hz\n"
          ]
        },
        {
          "output_type": "stream",
          "name": "stderr",
          "text": [
            "INFO:NEURONIOUtils:IMG firing rate avg: 6.0 Hz\n"
          ]
        },
        {
          "output_type": "stream",
          "name": "stdout",
          "text": [
            "2023-05-12 22:17:21,807 [INFO] PGN firing rate = 6.00 Hz\n"
          ]
        },
        {
          "output_type": "stream",
          "name": "stderr",
          "text": [
            "/usr/local/lib/python3.10/dist-packages/bmtk/utils/reports/spike_trains/spike_trains.py:183: RuntimeWarning: divide by zero encountered in double_scalars\n",
            "  interval = -np.log(1.0 - np.random.uniform()) / fr\n",
            "INFO:NEURONIOUtils:PGN firing rate = 6.00 Hz\n"
          ]
        },
        {
          "output_type": "stream",
          "name": "stdout",
          "text": [
            "2023-05-12 22:17:21,825 [INFO] Volume = 9.3750 ml\n"
          ]
        },
        {
          "output_type": "stream",
          "name": "stderr",
          "text": [
            "INFO:NEURONIOUtils:Volume = 9.3750 ml\n"
          ]
        },
        {
          "output_type": "stream",
          "name": "stdout",
          "text": [
            "2023-05-12 22:17:21,831 [INFO] Pressure = 8.19 mmHg\n"
          ]
        },
        {
          "output_type": "stream",
          "name": "stderr",
          "text": [
            "INFO:NEURONIOUtils:Pressure = 8.19 mmHg\n"
          ]
        },
        {
          "output_type": "stream",
          "name": "stdout",
          "text": [
            "2023-05-12 22:17:21,833 [INFO] Calculated bladder afferent firing rate for the next time step = 0.00 Hz \n",
            " \n",
            "\n"
          ]
        },
        {
          "output_type": "stream",
          "name": "stderr",
          "text": [
            "INFO:NEURONIOUtils:Calculated bladder afferent firing rate for the next time step = 0.00 Hz \n",
            " \n",
            "\n"
          ]
        },
        {
          "output_type": "stream",
          "name": "stdout",
          "text": [
            "2023-05-12 22:17:23,505 [INFO]     step:27500 t_sim:5500.00 ms\n"
          ]
        },
        {
          "output_type": "stream",
          "name": "stderr",
          "text": [
            "INFO:NEURONIOUtils:    step:27500 t_sim:5500.00 ms\n"
          ]
        },
        {
          "output_type": "stream",
          "name": "stdout",
          "text": [
            "2023-05-12 22:17:23,519 [INFO] Timestep 5000.0 to 5500.0 ms\n"
          ]
        },
        {
          "output_type": "stream",
          "name": "stderr",
          "text": [
            "INFO:NEURONIOUtils:Timestep 5000.0 to 5500.0 ms\n"
          ]
        },
        {
          "output_type": "stream",
          "name": "stdout",
          "text": [
            "2023-05-12 22:17:23,529 [INFO] PGN node_id\t  Hz\n"
          ]
        },
        {
          "output_type": "stream",
          "name": "stderr",
          "text": [
            "INFO:NEURONIOUtils:PGN node_id\t  Hz\n"
          ]
        },
        {
          "output_type": "stream",
          "name": "stdout",
          "text": [
            "2023-05-12 22:17:23,537 [INFO] 70\t\t2.0\n"
          ]
        },
        {
          "output_type": "stream",
          "name": "stderr",
          "text": [
            "INFO:NEURONIOUtils:70\t\t2.0\n"
          ]
        },
        {
          "output_type": "stream",
          "name": "stdout",
          "text": [
            "2023-05-12 22:17:23,543 [INFO] 71\t\t2.0\n"
          ]
        },
        {
          "output_type": "stream",
          "name": "stderr",
          "text": [
            "INFO:NEURONIOUtils:71\t\t2.0\n"
          ]
        },
        {
          "output_type": "stream",
          "name": "stdout",
          "text": [
            "2023-05-12 22:17:23,549 [INFO] 72\t\t2.0\n"
          ]
        },
        {
          "output_type": "stream",
          "name": "stderr",
          "text": [
            "INFO:NEURONIOUtils:72\t\t2.0\n"
          ]
        },
        {
          "output_type": "stream",
          "name": "stdout",
          "text": [
            "2023-05-12 22:17:23,554 [INFO] 73\t\t2.0\n"
          ]
        },
        {
          "output_type": "stream",
          "name": "stderr",
          "text": [
            "INFO:NEURONIOUtils:73\t\t2.0\n"
          ]
        },
        {
          "output_type": "stream",
          "name": "stdout",
          "text": [
            "2023-05-12 22:17:23,559 [INFO] 74\t\t2.0\n"
          ]
        },
        {
          "output_type": "stream",
          "name": "stderr",
          "text": [
            "INFO:NEURONIOUtils:74\t\t2.0\n"
          ]
        },
        {
          "output_type": "stream",
          "name": "stdout",
          "text": [
            "2023-05-12 22:17:23,566 [INFO] 75\t\t2.0\n"
          ]
        },
        {
          "output_type": "stream",
          "name": "stderr",
          "text": [
            "INFO:NEURONIOUtils:75\t\t2.0\n"
          ]
        },
        {
          "output_type": "stream",
          "name": "stdout",
          "text": [
            "2023-05-12 22:17:23,568 [INFO] 76\t\t2.0\n"
          ]
        },
        {
          "output_type": "stream",
          "name": "stderr",
          "text": [
            "INFO:NEURONIOUtils:76\t\t2.0\n"
          ]
        },
        {
          "output_type": "stream",
          "name": "stdout",
          "text": [
            "2023-05-12 22:17:23,574 [INFO] 77\t\t2.0\n"
          ]
        },
        {
          "output_type": "stream",
          "name": "stderr",
          "text": [
            "INFO:NEURONIOUtils:77\t\t2.0\n"
          ]
        },
        {
          "output_type": "stream",
          "name": "stdout",
          "text": [
            "2023-05-12 22:17:23,576 [INFO] 78\t\t2.0\n"
          ]
        },
        {
          "output_type": "stream",
          "name": "stderr",
          "text": [
            "INFO:NEURONIOUtils:78\t\t2.0\n"
          ]
        },
        {
          "output_type": "stream",
          "name": "stdout",
          "text": [
            "2023-05-12 22:17:23,582 [INFO] 79\t\t2.0\n"
          ]
        },
        {
          "output_type": "stream",
          "name": "stderr",
          "text": [
            "INFO:NEURONIOUtils:79\t\t2.0\n"
          ]
        },
        {
          "output_type": "stream",
          "name": "stdout",
          "text": [
            "2023-05-12 22:17:23,588 [INFO] PGN firing rate avg: 2.0 Hz\n"
          ]
        },
        {
          "output_type": "stream",
          "name": "stderr",
          "text": [
            "INFO:NEURONIOUtils:PGN firing rate avg: 2.0 Hz\n"
          ]
        },
        {
          "output_type": "stream",
          "name": "stdout",
          "text": [
            "2023-05-12 22:17:23,590 [INFO] Grill PGN fr = 1.492 Hz\n"
          ]
        },
        {
          "output_type": "stream",
          "name": "stderr",
          "text": [
            "INFO:NEURONIOUtils:Grill PGN fr = 1.492 Hz\n"
          ]
        },
        {
          "output_type": "stream",
          "name": "stdout",
          "text": [
            "2023-05-12 22:17:23,595 [INFO] IMG node_gid\t  Hz\n"
          ]
        },
        {
          "output_type": "stream",
          "name": "stderr",
          "text": [
            "INFO:NEURONIOUtils:IMG node_gid\t  Hz\n"
          ]
        },
        {
          "output_type": "stream",
          "name": "stdout",
          "text": [
            "2023-05-12 22:17:23,601 [INFO] IMG firing rate avg: 2.0 Hz\n"
          ]
        },
        {
          "output_type": "stream",
          "name": "stderr",
          "text": [
            "INFO:NEURONIOUtils:IMG firing rate avg: 2.0 Hz\n"
          ]
        },
        {
          "output_type": "stream",
          "name": "stdout",
          "text": [
            "2023-05-12 22:17:23,621 [INFO] PGN firing rate = 2.00 Hz\n"
          ]
        },
        {
          "output_type": "stream",
          "name": "stderr",
          "text": [
            "/usr/local/lib/python3.10/dist-packages/bmtk/utils/reports/spike_trains/spike_trains.py:183: RuntimeWarning: divide by zero encountered in double_scalars\n",
            "  interval = -np.log(1.0 - np.random.uniform()) / fr\n",
            "INFO:NEURONIOUtils:PGN firing rate = 2.00 Hz\n"
          ]
        },
        {
          "output_type": "stream",
          "name": "stdout",
          "text": [
            "2023-05-12 22:17:23,637 [INFO] Volume = 10.4167 ml\n"
          ]
        },
        {
          "output_type": "stream",
          "name": "stderr",
          "text": [
            "INFO:NEURONIOUtils:Volume = 10.4167 ml\n"
          ]
        },
        {
          "output_type": "stream",
          "name": "stdout",
          "text": [
            "2023-05-12 22:17:23,646 [INFO] Pressure = 7.37 mmHg\n"
          ]
        },
        {
          "output_type": "stream",
          "name": "stderr",
          "text": [
            "INFO:NEURONIOUtils:Pressure = 7.37 mmHg\n"
          ]
        },
        {
          "output_type": "stream",
          "name": "stdout",
          "text": [
            "2023-05-12 22:17:23,652 [INFO] Calculated bladder afferent firing rate for the next time step = 0.00 Hz \n",
            " \n",
            "\n"
          ]
        },
        {
          "output_type": "stream",
          "name": "stderr",
          "text": [
            "INFO:NEURONIOUtils:Calculated bladder afferent firing rate for the next time step = 0.00 Hz \n",
            " \n",
            "\n"
          ]
        },
        {
          "output_type": "stream",
          "name": "stdout",
          "text": [
            "2023-05-12 22:17:25,612 [INFO]     step:30000 t_sim:6000.00 ms\n"
          ]
        },
        {
          "output_type": "stream",
          "name": "stderr",
          "text": [
            "INFO:NEURONIOUtils:    step:30000 t_sim:6000.00 ms\n"
          ]
        },
        {
          "output_type": "stream",
          "name": "stdout",
          "text": [
            "2023-05-12 22:17:25,627 [INFO] Timestep 5500.0 to 6000.0 ms\n"
          ]
        },
        {
          "output_type": "stream",
          "name": "stderr",
          "text": [
            "INFO:NEURONIOUtils:Timestep 5500.0 to 6000.0 ms\n"
          ]
        },
        {
          "output_type": "stream",
          "name": "stdout",
          "text": [
            "2023-05-12 22:17:25,637 [INFO] PGN node_id\t  Hz\n"
          ]
        },
        {
          "output_type": "stream",
          "name": "stderr",
          "text": [
            "INFO:NEURONIOUtils:PGN node_id\t  Hz\n"
          ]
        },
        {
          "output_type": "stream",
          "name": "stdout",
          "text": [
            "2023-05-12 22:17:25,645 [INFO] 70\t\t2.0\n"
          ]
        },
        {
          "output_type": "stream",
          "name": "stderr",
          "text": [
            "INFO:NEURONIOUtils:70\t\t2.0\n"
          ]
        },
        {
          "output_type": "stream",
          "name": "stdout",
          "text": [
            "2023-05-12 22:17:25,650 [INFO] 71\t\t2.0\n"
          ]
        },
        {
          "output_type": "stream",
          "name": "stderr",
          "text": [
            "INFO:NEURONIOUtils:71\t\t2.0\n"
          ]
        },
        {
          "output_type": "stream",
          "name": "stdout",
          "text": [
            "2023-05-12 22:17:25,656 [INFO] 72\t\t2.0\n"
          ]
        },
        {
          "output_type": "stream",
          "name": "stderr",
          "text": [
            "INFO:NEURONIOUtils:72\t\t2.0\n"
          ]
        },
        {
          "output_type": "stream",
          "name": "stdout",
          "text": [
            "2023-05-12 22:17:25,659 [INFO] 73\t\t2.0\n"
          ]
        },
        {
          "output_type": "stream",
          "name": "stderr",
          "text": [
            "INFO:NEURONIOUtils:73\t\t2.0\n"
          ]
        },
        {
          "output_type": "stream",
          "name": "stdout",
          "text": [
            "2023-05-12 22:17:25,665 [INFO] 74\t\t2.0\n"
          ]
        },
        {
          "output_type": "stream",
          "name": "stderr",
          "text": [
            "INFO:NEURONIOUtils:74\t\t2.0\n"
          ]
        },
        {
          "output_type": "stream",
          "name": "stdout",
          "text": [
            "2023-05-12 22:17:25,667 [INFO] 75\t\t2.0\n"
          ]
        },
        {
          "output_type": "stream",
          "name": "stderr",
          "text": [
            "INFO:NEURONIOUtils:75\t\t2.0\n"
          ]
        },
        {
          "output_type": "stream",
          "name": "stdout",
          "text": [
            "2023-05-12 22:17:25,672 [INFO] 76\t\t2.0\n"
          ]
        },
        {
          "output_type": "stream",
          "name": "stderr",
          "text": [
            "INFO:NEURONIOUtils:76\t\t2.0\n"
          ]
        },
        {
          "output_type": "stream",
          "name": "stdout",
          "text": [
            "2023-05-12 22:17:25,674 [INFO] 77\t\t2.0\n"
          ]
        },
        {
          "output_type": "stream",
          "name": "stderr",
          "text": [
            "INFO:NEURONIOUtils:77\t\t2.0\n"
          ]
        },
        {
          "output_type": "stream",
          "name": "stdout",
          "text": [
            "2023-05-12 22:17:25,679 [INFO] 78\t\t2.0\n"
          ]
        },
        {
          "output_type": "stream",
          "name": "stderr",
          "text": [
            "INFO:NEURONIOUtils:78\t\t2.0\n"
          ]
        },
        {
          "output_type": "stream",
          "name": "stdout",
          "text": [
            "2023-05-12 22:17:25,682 [INFO] 79\t\t2.0\n"
          ]
        },
        {
          "output_type": "stream",
          "name": "stderr",
          "text": [
            "INFO:NEURONIOUtils:79\t\t2.0\n"
          ]
        },
        {
          "output_type": "stream",
          "name": "stdout",
          "text": [
            "2023-05-12 22:17:25,688 [INFO] PGN firing rate avg: 2.0 Hz\n"
          ]
        },
        {
          "output_type": "stream",
          "name": "stderr",
          "text": [
            "INFO:NEURONIOUtils:PGN firing rate avg: 2.0 Hz\n"
          ]
        },
        {
          "output_type": "stream",
          "name": "stdout",
          "text": [
            "2023-05-12 22:17:25,691 [INFO] Grill PGN fr = 1.492 Hz\n"
          ]
        },
        {
          "output_type": "stream",
          "name": "stderr",
          "text": [
            "INFO:NEURONIOUtils:Grill PGN fr = 1.492 Hz\n"
          ]
        },
        {
          "output_type": "stream",
          "name": "stdout",
          "text": [
            "2023-05-12 22:17:25,695 [INFO] IMG node_gid\t  Hz\n"
          ]
        },
        {
          "output_type": "stream",
          "name": "stderr",
          "text": [
            "INFO:NEURONIOUtils:IMG node_gid\t  Hz\n"
          ]
        },
        {
          "output_type": "stream",
          "name": "stdout",
          "text": [
            "2023-05-12 22:17:25,697 [INFO] IMG firing rate avg: 2.0 Hz\n"
          ]
        },
        {
          "output_type": "stream",
          "name": "stderr",
          "text": [
            "INFO:NEURONIOUtils:IMG firing rate avg: 2.0 Hz\n"
          ]
        },
        {
          "output_type": "stream",
          "name": "stdout",
          "text": [
            "2023-05-12 22:17:25,710 [INFO] PGN firing rate = 2.00 Hz\n"
          ]
        },
        {
          "output_type": "stream",
          "name": "stderr",
          "text": [
            "/usr/local/lib/python3.10/dist-packages/bmtk/utils/reports/spike_trains/spike_trains.py:183: RuntimeWarning: divide by zero encountered in double_scalars\n",
            "  interval = -np.log(1.0 - np.random.uniform()) / fr\n",
            "INFO:NEURONIOUtils:PGN firing rate = 2.00 Hz\n"
          ]
        },
        {
          "output_type": "stream",
          "name": "stdout",
          "text": [
            "2023-05-12 22:17:25,719 [INFO] Volume = 11.4583 ml\n"
          ]
        },
        {
          "output_type": "stream",
          "name": "stderr",
          "text": [
            "INFO:NEURONIOUtils:Volume = 11.4583 ml\n"
          ]
        },
        {
          "output_type": "stream",
          "name": "stdout",
          "text": [
            "2023-05-12 22:17:25,723 [INFO] Pressure = 7.37 mmHg\n"
          ]
        },
        {
          "output_type": "stream",
          "name": "stderr",
          "text": [
            "INFO:NEURONIOUtils:Pressure = 7.37 mmHg\n"
          ]
        },
        {
          "output_type": "stream",
          "name": "stdout",
          "text": [
            "2023-05-12 22:17:25,727 [INFO] Calculated bladder afferent firing rate for the next time step = 0.00 Hz \n",
            " \n",
            "\n"
          ]
        },
        {
          "output_type": "stream",
          "name": "stderr",
          "text": [
            "INFO:NEURONIOUtils:Calculated bladder afferent firing rate for the next time step = 0.00 Hz \n",
            " \n",
            "\n"
          ]
        },
        {
          "output_type": "stream",
          "name": "stdout",
          "text": [
            "2023-05-12 22:17:27,387 [INFO]     step:32500 t_sim:6500.00 ms\n"
          ]
        },
        {
          "output_type": "stream",
          "name": "stderr",
          "text": [
            "INFO:NEURONIOUtils:    step:32500 t_sim:6500.00 ms\n"
          ]
        },
        {
          "output_type": "stream",
          "name": "stdout",
          "text": [
            "2023-05-12 22:17:27,402 [INFO] Timestep 6000.0 to 6500.0 ms\n"
          ]
        },
        {
          "output_type": "stream",
          "name": "stderr",
          "text": [
            "INFO:NEURONIOUtils:Timestep 6000.0 to 6500.0 ms\n"
          ]
        },
        {
          "output_type": "stream",
          "name": "stdout",
          "text": [
            "2023-05-12 22:17:27,416 [INFO] PGN node_id\t  Hz\n"
          ]
        },
        {
          "output_type": "stream",
          "name": "stderr",
          "text": [
            "INFO:NEURONIOUtils:PGN node_id\t  Hz\n"
          ]
        },
        {
          "output_type": "stream",
          "name": "stdout",
          "text": [
            "2023-05-12 22:17:27,424 [INFO] 70\t\t2.0\n"
          ]
        },
        {
          "output_type": "stream",
          "name": "stderr",
          "text": [
            "INFO:NEURONIOUtils:70\t\t2.0\n"
          ]
        },
        {
          "output_type": "stream",
          "name": "stdout",
          "text": [
            "2023-05-12 22:17:27,430 [INFO] 71\t\t2.0\n"
          ]
        },
        {
          "output_type": "stream",
          "name": "stderr",
          "text": [
            "INFO:NEURONIOUtils:71\t\t2.0\n"
          ]
        },
        {
          "output_type": "stream",
          "name": "stdout",
          "text": [
            "2023-05-12 22:17:27,432 [INFO] 72\t\t2.0\n"
          ]
        },
        {
          "output_type": "stream",
          "name": "stderr",
          "text": [
            "INFO:NEURONIOUtils:72\t\t2.0\n"
          ]
        },
        {
          "output_type": "stream",
          "name": "stdout",
          "text": [
            "2023-05-12 22:17:27,437 [INFO] 73\t\t2.0\n"
          ]
        },
        {
          "output_type": "stream",
          "name": "stderr",
          "text": [
            "INFO:NEURONIOUtils:73\t\t2.0\n"
          ]
        },
        {
          "output_type": "stream",
          "name": "stdout",
          "text": [
            "2023-05-12 22:17:27,441 [INFO] 74\t\t2.0\n"
          ]
        },
        {
          "output_type": "stream",
          "name": "stderr",
          "text": [
            "INFO:NEURONIOUtils:74\t\t2.0\n"
          ]
        },
        {
          "output_type": "stream",
          "name": "stdout",
          "text": [
            "2023-05-12 22:17:27,445 [INFO] 75\t\t2.0\n"
          ]
        },
        {
          "output_type": "stream",
          "name": "stderr",
          "text": [
            "INFO:NEURONIOUtils:75\t\t2.0\n"
          ]
        },
        {
          "output_type": "stream",
          "name": "stdout",
          "text": [
            "2023-05-12 22:17:27,447 [INFO] 76\t\t2.0\n"
          ]
        },
        {
          "output_type": "stream",
          "name": "stderr",
          "text": [
            "INFO:NEURONIOUtils:76\t\t2.0\n"
          ]
        },
        {
          "output_type": "stream",
          "name": "stdout",
          "text": [
            "2023-05-12 22:17:27,449 [INFO] 77\t\t2.0\n"
          ]
        },
        {
          "output_type": "stream",
          "name": "stderr",
          "text": [
            "INFO:NEURONIOUtils:77\t\t2.0\n"
          ]
        },
        {
          "output_type": "stream",
          "name": "stdout",
          "text": [
            "2023-05-12 22:17:27,451 [INFO] 78\t\t2.0\n"
          ]
        },
        {
          "output_type": "stream",
          "name": "stderr",
          "text": [
            "INFO:NEURONIOUtils:78\t\t2.0\n"
          ]
        },
        {
          "output_type": "stream",
          "name": "stdout",
          "text": [
            "2023-05-12 22:17:27,453 [INFO] 79\t\t2.0\n"
          ]
        },
        {
          "output_type": "stream",
          "name": "stderr",
          "text": [
            "INFO:NEURONIOUtils:79\t\t2.0\n"
          ]
        },
        {
          "output_type": "stream",
          "name": "stdout",
          "text": [
            "2023-05-12 22:17:27,456 [INFO] PGN firing rate avg: 2.0 Hz\n"
          ]
        },
        {
          "output_type": "stream",
          "name": "stderr",
          "text": [
            "INFO:NEURONIOUtils:PGN firing rate avg: 2.0 Hz\n"
          ]
        },
        {
          "output_type": "stream",
          "name": "stdout",
          "text": [
            "2023-05-12 22:17:27,458 [INFO] Grill PGN fr = 1.492 Hz\n"
          ]
        },
        {
          "output_type": "stream",
          "name": "stderr",
          "text": [
            "INFO:NEURONIOUtils:Grill PGN fr = 1.492 Hz\n"
          ]
        },
        {
          "output_type": "stream",
          "name": "stdout",
          "text": [
            "2023-05-12 22:17:27,461 [INFO] IMG node_gid\t  Hz\n"
          ]
        },
        {
          "output_type": "stream",
          "name": "stderr",
          "text": [
            "INFO:NEURONIOUtils:IMG node_gid\t  Hz\n"
          ]
        },
        {
          "output_type": "stream",
          "name": "stdout",
          "text": [
            "2023-05-12 22:17:27,463 [INFO] IMG firing rate avg: 2.0 Hz\n"
          ]
        },
        {
          "output_type": "stream",
          "name": "stderr",
          "text": [
            "INFO:NEURONIOUtils:IMG firing rate avg: 2.0 Hz\n"
          ]
        },
        {
          "output_type": "stream",
          "name": "stdout",
          "text": [
            "2023-05-12 22:17:27,474 [INFO] PGN firing rate = 2.00 Hz\n"
          ]
        },
        {
          "output_type": "stream",
          "name": "stderr",
          "text": [
            "/usr/local/lib/python3.10/dist-packages/bmtk/utils/reports/spike_trains/spike_trains.py:183: RuntimeWarning: divide by zero encountered in double_scalars\n",
            "  interval = -np.log(1.0 - np.random.uniform()) / fr\n",
            "INFO:NEURONIOUtils:PGN firing rate = 2.00 Hz\n"
          ]
        },
        {
          "output_type": "stream",
          "name": "stdout",
          "text": [
            "2023-05-12 22:17:27,478 [INFO] Volume = 12.5000 ml\n"
          ]
        },
        {
          "output_type": "stream",
          "name": "stderr",
          "text": [
            "INFO:NEURONIOUtils:Volume = 12.5000 ml\n"
          ]
        },
        {
          "output_type": "stream",
          "name": "stdout",
          "text": [
            "2023-05-12 22:17:27,481 [INFO] Pressure = 7.37 mmHg\n"
          ]
        },
        {
          "output_type": "stream",
          "name": "stderr",
          "text": [
            "INFO:NEURONIOUtils:Pressure = 7.37 mmHg\n"
          ]
        },
        {
          "output_type": "stream",
          "name": "stdout",
          "text": [
            "2023-05-12 22:17:27,483 [INFO] Calculated bladder afferent firing rate for the next time step = 0.00 Hz \n",
            " \n",
            "\n"
          ]
        },
        {
          "output_type": "stream",
          "name": "stderr",
          "text": [
            "INFO:NEURONIOUtils:Calculated bladder afferent firing rate for the next time step = 0.00 Hz \n",
            " \n",
            "\n"
          ]
        },
        {
          "output_type": "stream",
          "name": "stdout",
          "text": [
            "2023-05-12 22:17:30,524 [INFO]     step:35000 t_sim:7000.00 ms\n"
          ]
        },
        {
          "output_type": "stream",
          "name": "stderr",
          "text": [
            "INFO:NEURONIOUtils:    step:35000 t_sim:7000.00 ms\n"
          ]
        },
        {
          "output_type": "stream",
          "name": "stdout",
          "text": [
            "2023-05-12 22:17:30,541 [INFO] Timestep 6500.0 to 7000.0 ms\n"
          ]
        },
        {
          "output_type": "stream",
          "name": "stderr",
          "text": [
            "INFO:NEURONIOUtils:Timestep 6500.0 to 7000.0 ms\n"
          ]
        },
        {
          "output_type": "stream",
          "name": "stdout",
          "text": [
            "2023-05-12 22:17:30,557 [INFO] PGN node_id\t  Hz\n"
          ]
        },
        {
          "output_type": "stream",
          "name": "stderr",
          "text": [
            "INFO:NEURONIOUtils:PGN node_id\t  Hz\n"
          ]
        },
        {
          "output_type": "stream",
          "name": "stdout",
          "text": [
            "2023-05-12 22:17:30,561 [INFO] 70\t\t4.0\n"
          ]
        },
        {
          "output_type": "stream",
          "name": "stderr",
          "text": [
            "INFO:NEURONIOUtils:70\t\t4.0\n"
          ]
        },
        {
          "output_type": "stream",
          "name": "stdout",
          "text": [
            "2023-05-12 22:17:30,563 [INFO] 71\t\t4.0\n"
          ]
        },
        {
          "output_type": "stream",
          "name": "stderr",
          "text": [
            "INFO:NEURONIOUtils:71\t\t4.0\n"
          ]
        },
        {
          "output_type": "stream",
          "name": "stdout",
          "text": [
            "2023-05-12 22:17:30,566 [INFO] 72\t\t4.0\n"
          ]
        },
        {
          "output_type": "stream",
          "name": "stderr",
          "text": [
            "INFO:NEURONIOUtils:72\t\t4.0\n"
          ]
        },
        {
          "output_type": "stream",
          "name": "stdout",
          "text": [
            "2023-05-12 22:17:30,568 [INFO] 73\t\t4.0\n"
          ]
        },
        {
          "output_type": "stream",
          "name": "stderr",
          "text": [
            "INFO:NEURONIOUtils:73\t\t4.0\n"
          ]
        },
        {
          "output_type": "stream",
          "name": "stdout",
          "text": [
            "2023-05-12 22:17:30,574 [INFO] 74\t\t4.0\n"
          ]
        },
        {
          "output_type": "stream",
          "name": "stderr",
          "text": [
            "INFO:NEURONIOUtils:74\t\t4.0\n"
          ]
        },
        {
          "output_type": "stream",
          "name": "stdout",
          "text": [
            "2023-05-12 22:17:30,576 [INFO] 75\t\t4.0\n"
          ]
        },
        {
          "output_type": "stream",
          "name": "stderr",
          "text": [
            "INFO:NEURONIOUtils:75\t\t4.0\n"
          ]
        },
        {
          "output_type": "stream",
          "name": "stdout",
          "text": [
            "2023-05-12 22:17:30,585 [INFO] 76\t\t4.0\n"
          ]
        },
        {
          "output_type": "stream",
          "name": "stderr",
          "text": [
            "INFO:NEURONIOUtils:76\t\t4.0\n"
          ]
        },
        {
          "output_type": "stream",
          "name": "stdout",
          "text": [
            "2023-05-12 22:17:30,587 [INFO] 77\t\t4.0\n"
          ]
        },
        {
          "output_type": "stream",
          "name": "stderr",
          "text": [
            "INFO:NEURONIOUtils:77\t\t4.0\n"
          ]
        },
        {
          "output_type": "stream",
          "name": "stdout",
          "text": [
            "2023-05-12 22:17:30,590 [INFO] 78\t\t4.0\n"
          ]
        },
        {
          "output_type": "stream",
          "name": "stderr",
          "text": [
            "INFO:NEURONIOUtils:78\t\t4.0\n"
          ]
        },
        {
          "output_type": "stream",
          "name": "stdout",
          "text": [
            "2023-05-12 22:17:30,599 [INFO] 79\t\t4.0\n"
          ]
        },
        {
          "output_type": "stream",
          "name": "stderr",
          "text": [
            "INFO:NEURONIOUtils:79\t\t4.0\n"
          ]
        },
        {
          "output_type": "stream",
          "name": "stdout",
          "text": [
            "2023-05-12 22:17:30,602 [INFO] PGN firing rate avg: 4.0 Hz\n"
          ]
        },
        {
          "output_type": "stream",
          "name": "stderr",
          "text": [
            "INFO:NEURONIOUtils:PGN firing rate avg: 4.0 Hz\n"
          ]
        },
        {
          "output_type": "stream",
          "name": "stdout",
          "text": [
            "2023-05-12 22:17:30,604 [INFO] Grill PGN fr = 3.15 Hz\n"
          ]
        },
        {
          "output_type": "stream",
          "name": "stderr",
          "text": [
            "INFO:NEURONIOUtils:Grill PGN fr = 3.15 Hz\n"
          ]
        },
        {
          "output_type": "stream",
          "name": "stdout",
          "text": [
            "2023-05-12 22:17:30,606 [INFO] IMG node_gid\t  Hz\n"
          ]
        },
        {
          "output_type": "stream",
          "name": "stderr",
          "text": [
            "INFO:NEURONIOUtils:IMG node_gid\t  Hz\n"
          ]
        },
        {
          "output_type": "stream",
          "name": "stdout",
          "text": [
            "2023-05-12 22:17:30,610 [INFO] IMG firing rate avg: 4.0 Hz\n"
          ]
        },
        {
          "output_type": "stream",
          "name": "stderr",
          "text": [
            "INFO:NEURONIOUtils:IMG firing rate avg: 4.0 Hz\n"
          ]
        },
        {
          "output_type": "stream",
          "name": "stdout",
          "text": [
            "2023-05-12 22:17:30,622 [INFO] PGN firing rate = 4.00 Hz\n"
          ]
        },
        {
          "output_type": "stream",
          "name": "stderr",
          "text": [
            "/usr/local/lib/python3.10/dist-packages/bmtk/utils/reports/spike_trains/spike_trains.py:183: RuntimeWarning: divide by zero encountered in double_scalars\n",
            "  interval = -np.log(1.0 - np.random.uniform()) / fr\n",
            "INFO:NEURONIOUtils:PGN firing rate = 4.00 Hz\n"
          ]
        },
        {
          "output_type": "stream",
          "name": "stdout",
          "text": [
            "2023-05-12 22:17:30,625 [INFO] Volume = 13.5417 ml\n"
          ]
        },
        {
          "output_type": "stream",
          "name": "stderr",
          "text": [
            "INFO:NEURONIOUtils:Volume = 13.5417 ml\n"
          ]
        },
        {
          "output_type": "stream",
          "name": "stdout",
          "text": [
            "2023-05-12 22:17:30,629 [INFO] Pressure = 7.79 mmHg\n"
          ]
        },
        {
          "output_type": "stream",
          "name": "stderr",
          "text": [
            "INFO:NEURONIOUtils:Pressure = 7.79 mmHg\n"
          ]
        },
        {
          "output_type": "stream",
          "name": "stdout",
          "text": [
            "2023-05-12 22:17:30,635 [INFO] Calculated bladder afferent firing rate for the next time step = 0.00 Hz \n",
            " \n",
            "\n"
          ]
        },
        {
          "output_type": "stream",
          "name": "stderr",
          "text": [
            "INFO:NEURONIOUtils:Calculated bladder afferent firing rate for the next time step = 0.00 Hz \n",
            " \n",
            "\n"
          ]
        },
        {
          "output_type": "stream",
          "name": "stdout",
          "text": [
            "2023-05-12 22:17:32,893 [INFO]     step:37500 t_sim:7500.00 ms\n"
          ]
        },
        {
          "output_type": "stream",
          "name": "stderr",
          "text": [
            "INFO:NEURONIOUtils:    step:37500 t_sim:7500.00 ms\n"
          ]
        },
        {
          "output_type": "stream",
          "name": "stdout",
          "text": [
            "2023-05-12 22:17:32,902 [INFO] Timestep 7000.0 to 7500.0 ms\n"
          ]
        },
        {
          "output_type": "stream",
          "name": "stderr",
          "text": [
            "INFO:NEURONIOUtils:Timestep 7000.0 to 7500.0 ms\n"
          ]
        },
        {
          "output_type": "stream",
          "name": "stdout",
          "text": [
            "2023-05-12 22:17:32,916 [INFO] PGN node_id\t  Hz\n"
          ]
        },
        {
          "output_type": "stream",
          "name": "stderr",
          "text": [
            "INFO:NEURONIOUtils:PGN node_id\t  Hz\n"
          ]
        },
        {
          "output_type": "stream",
          "name": "stdout",
          "text": [
            "2023-05-12 22:17:32,924 [INFO] 70\t\t2.0\n"
          ]
        },
        {
          "output_type": "stream",
          "name": "stderr",
          "text": [
            "INFO:NEURONIOUtils:70\t\t2.0\n"
          ]
        },
        {
          "output_type": "stream",
          "name": "stdout",
          "text": [
            "2023-05-12 22:17:32,929 [INFO] 71\t\t2.0\n"
          ]
        },
        {
          "output_type": "stream",
          "name": "stderr",
          "text": [
            "INFO:NEURONIOUtils:71\t\t2.0\n"
          ]
        },
        {
          "output_type": "stream",
          "name": "stdout",
          "text": [
            "2023-05-12 22:17:32,934 [INFO] 72\t\t2.0\n"
          ]
        },
        {
          "output_type": "stream",
          "name": "stderr",
          "text": [
            "INFO:NEURONIOUtils:72\t\t2.0\n"
          ]
        },
        {
          "output_type": "stream",
          "name": "stdout",
          "text": [
            "2023-05-12 22:17:32,944 [INFO] 73\t\t2.0\n"
          ]
        },
        {
          "output_type": "stream",
          "name": "stderr",
          "text": [
            "INFO:NEURONIOUtils:73\t\t2.0\n"
          ]
        },
        {
          "output_type": "stream",
          "name": "stdout",
          "text": [
            "2023-05-12 22:17:32,951 [INFO] 74\t\t2.0\n"
          ]
        },
        {
          "output_type": "stream",
          "name": "stderr",
          "text": [
            "INFO:NEURONIOUtils:74\t\t2.0\n"
          ]
        },
        {
          "output_type": "stream",
          "name": "stdout",
          "text": [
            "2023-05-12 22:17:32,953 [INFO] 75\t\t2.0\n"
          ]
        },
        {
          "output_type": "stream",
          "name": "stderr",
          "text": [
            "INFO:NEURONIOUtils:75\t\t2.0\n"
          ]
        },
        {
          "output_type": "stream",
          "name": "stdout",
          "text": [
            "2023-05-12 22:17:32,960 [INFO] 76\t\t2.0\n"
          ]
        },
        {
          "output_type": "stream",
          "name": "stderr",
          "text": [
            "INFO:NEURONIOUtils:76\t\t2.0\n"
          ]
        },
        {
          "output_type": "stream",
          "name": "stdout",
          "text": [
            "2023-05-12 22:17:32,962 [INFO] 77\t\t2.0\n"
          ]
        },
        {
          "output_type": "stream",
          "name": "stderr",
          "text": [
            "INFO:NEURONIOUtils:77\t\t2.0\n"
          ]
        },
        {
          "output_type": "stream",
          "name": "stdout",
          "text": [
            "2023-05-12 22:17:32,967 [INFO] 78\t\t2.0\n"
          ]
        },
        {
          "output_type": "stream",
          "name": "stderr",
          "text": [
            "INFO:NEURONIOUtils:78\t\t2.0\n"
          ]
        },
        {
          "output_type": "stream",
          "name": "stdout",
          "text": [
            "2023-05-12 22:17:32,973 [INFO] 79\t\t2.0\n"
          ]
        },
        {
          "output_type": "stream",
          "name": "stderr",
          "text": [
            "INFO:NEURONIOUtils:79\t\t2.0\n"
          ]
        },
        {
          "output_type": "stream",
          "name": "stdout",
          "text": [
            "2023-05-12 22:17:32,977 [INFO] PGN firing rate avg: 2.0 Hz\n"
          ]
        },
        {
          "output_type": "stream",
          "name": "stderr",
          "text": [
            "INFO:NEURONIOUtils:PGN firing rate avg: 2.0 Hz\n"
          ]
        },
        {
          "output_type": "stream",
          "name": "stdout",
          "text": [
            "2023-05-12 22:17:32,991 [INFO] Grill PGN fr = 1.492 Hz\n"
          ]
        },
        {
          "output_type": "stream",
          "name": "stderr",
          "text": [
            "INFO:NEURONIOUtils:Grill PGN fr = 1.492 Hz\n"
          ]
        },
        {
          "output_type": "stream",
          "name": "stdout",
          "text": [
            "2023-05-12 22:17:32,994 [INFO] IMG node_gid\t  Hz\n"
          ]
        },
        {
          "output_type": "stream",
          "name": "stderr",
          "text": [
            "INFO:NEURONIOUtils:IMG node_gid\t  Hz\n"
          ]
        },
        {
          "output_type": "stream",
          "name": "stdout",
          "text": [
            "2023-05-12 22:17:33,002 [INFO] IMG firing rate avg: 2.0 Hz\n"
          ]
        },
        {
          "output_type": "stream",
          "name": "stderr",
          "text": [
            "INFO:NEURONIOUtils:IMG firing rate avg: 2.0 Hz\n"
          ]
        },
        {
          "output_type": "stream",
          "name": "stdout",
          "text": [
            "2023-05-12 22:17:33,027 [INFO] PGN firing rate = 2.00 Hz\n"
          ]
        },
        {
          "output_type": "stream",
          "name": "stderr",
          "text": [
            "/usr/local/lib/python3.10/dist-packages/bmtk/utils/reports/spike_trains/spike_trains.py:183: RuntimeWarning: divide by zero encountered in double_scalars\n",
            "  interval = -np.log(1.0 - np.random.uniform()) / fr\n",
            "INFO:NEURONIOUtils:PGN firing rate = 2.00 Hz\n"
          ]
        },
        {
          "output_type": "stream",
          "name": "stdout",
          "text": [
            "2023-05-12 22:17:33,057 [INFO] Volume = 14.5833 ml\n"
          ]
        },
        {
          "output_type": "stream",
          "name": "stderr",
          "text": [
            "INFO:NEURONIOUtils:Volume = 14.5833 ml\n"
          ]
        },
        {
          "output_type": "stream",
          "name": "stdout",
          "text": [
            "2023-05-12 22:17:33,063 [INFO] Pressure = 7.37 mmHg\n"
          ]
        },
        {
          "output_type": "stream",
          "name": "stderr",
          "text": [
            "INFO:NEURONIOUtils:Pressure = 7.37 mmHg\n"
          ]
        },
        {
          "output_type": "stream",
          "name": "stdout",
          "text": [
            "2023-05-12 22:17:33,065 [INFO] Calculated bladder afferent firing rate for the next time step = 0.00 Hz \n",
            " \n",
            "\n"
          ]
        },
        {
          "output_type": "stream",
          "name": "stderr",
          "text": [
            "INFO:NEURONIOUtils:Calculated bladder afferent firing rate for the next time step = 0.00 Hz \n",
            " \n",
            "\n"
          ]
        },
        {
          "output_type": "stream",
          "name": "stdout",
          "text": [
            "2023-05-12 22:17:35,233 [INFO]     step:40000 t_sim:8000.00 ms\n"
          ]
        },
        {
          "output_type": "stream",
          "name": "stderr",
          "text": [
            "INFO:NEURONIOUtils:    step:40000 t_sim:8000.00 ms\n"
          ]
        },
        {
          "output_type": "stream",
          "name": "stdout",
          "text": [
            "2023-05-12 22:17:35,253 [INFO] Timestep 7500.0 to 8000.0 ms\n"
          ]
        },
        {
          "output_type": "stream",
          "name": "stderr",
          "text": [
            "INFO:NEURONIOUtils:Timestep 7500.0 to 8000.0 ms\n"
          ]
        },
        {
          "output_type": "stream",
          "name": "stdout",
          "text": [
            "2023-05-12 22:17:35,264 [INFO] PGN node_id\t  Hz\n"
          ]
        },
        {
          "output_type": "stream",
          "name": "stderr",
          "text": [
            "INFO:NEURONIOUtils:PGN node_id\t  Hz\n"
          ]
        },
        {
          "output_type": "stream",
          "name": "stdout",
          "text": [
            "2023-05-12 22:17:35,270 [INFO] 70\t\t4.0\n"
          ]
        },
        {
          "output_type": "stream",
          "name": "stderr",
          "text": [
            "INFO:NEURONIOUtils:70\t\t4.0\n"
          ]
        },
        {
          "output_type": "stream",
          "name": "stdout",
          "text": [
            "2023-05-12 22:17:35,278 [INFO] 71\t\t4.0\n"
          ]
        },
        {
          "output_type": "stream",
          "name": "stderr",
          "text": [
            "INFO:NEURONIOUtils:71\t\t4.0\n"
          ]
        },
        {
          "output_type": "stream",
          "name": "stdout",
          "text": [
            "2023-05-12 22:17:35,284 [INFO] 72\t\t4.0\n"
          ]
        },
        {
          "output_type": "stream",
          "name": "stderr",
          "text": [
            "INFO:NEURONIOUtils:72\t\t4.0\n"
          ]
        },
        {
          "output_type": "stream",
          "name": "stdout",
          "text": [
            "2023-05-12 22:17:35,294 [INFO] 73\t\t4.0\n"
          ]
        },
        {
          "output_type": "stream",
          "name": "stderr",
          "text": [
            "INFO:NEURONIOUtils:73\t\t4.0\n"
          ]
        },
        {
          "output_type": "stream",
          "name": "stdout",
          "text": [
            "2023-05-12 22:17:35,304 [INFO] 74\t\t4.0\n"
          ]
        },
        {
          "output_type": "stream",
          "name": "stderr",
          "text": [
            "INFO:NEURONIOUtils:74\t\t4.0\n"
          ]
        },
        {
          "output_type": "stream",
          "name": "stdout",
          "text": [
            "2023-05-12 22:17:35,306 [INFO] 75\t\t4.0\n"
          ]
        },
        {
          "output_type": "stream",
          "name": "stderr",
          "text": [
            "INFO:NEURONIOUtils:75\t\t4.0\n"
          ]
        },
        {
          "output_type": "stream",
          "name": "stdout",
          "text": [
            "2023-05-12 22:17:35,313 [INFO] 76\t\t4.0\n"
          ]
        },
        {
          "output_type": "stream",
          "name": "stderr",
          "text": [
            "INFO:NEURONIOUtils:76\t\t4.0\n"
          ]
        },
        {
          "output_type": "stream",
          "name": "stdout",
          "text": [
            "2023-05-12 22:17:35,315 [INFO] 77\t\t4.0\n"
          ]
        },
        {
          "output_type": "stream",
          "name": "stderr",
          "text": [
            "INFO:NEURONIOUtils:77\t\t4.0\n"
          ]
        },
        {
          "output_type": "stream",
          "name": "stdout",
          "text": [
            "2023-05-12 22:17:35,322 [INFO] 78\t\t4.0\n"
          ]
        },
        {
          "output_type": "stream",
          "name": "stderr",
          "text": [
            "INFO:NEURONIOUtils:78\t\t4.0\n"
          ]
        },
        {
          "output_type": "stream",
          "name": "stdout",
          "text": [
            "2023-05-12 22:17:35,324 [INFO] 79\t\t4.0\n"
          ]
        },
        {
          "output_type": "stream",
          "name": "stderr",
          "text": [
            "INFO:NEURONIOUtils:79\t\t4.0\n"
          ]
        },
        {
          "output_type": "stream",
          "name": "stdout",
          "text": [
            "2023-05-12 22:17:35,329 [INFO] PGN firing rate avg: 4.0 Hz\n"
          ]
        },
        {
          "output_type": "stream",
          "name": "stderr",
          "text": [
            "INFO:NEURONIOUtils:PGN firing rate avg: 4.0 Hz\n"
          ]
        },
        {
          "output_type": "stream",
          "name": "stdout",
          "text": [
            "2023-05-12 22:17:35,331 [INFO] Grill PGN fr = 3.15 Hz\n"
          ]
        },
        {
          "output_type": "stream",
          "name": "stderr",
          "text": [
            "INFO:NEURONIOUtils:Grill PGN fr = 3.15 Hz\n"
          ]
        },
        {
          "output_type": "stream",
          "name": "stdout",
          "text": [
            "2023-05-12 22:17:35,334 [INFO] IMG node_gid\t  Hz\n"
          ]
        },
        {
          "output_type": "stream",
          "name": "stderr",
          "text": [
            "INFO:NEURONIOUtils:IMG node_gid\t  Hz\n"
          ]
        },
        {
          "output_type": "stream",
          "name": "stdout",
          "text": [
            "2023-05-12 22:17:35,340 [INFO] IMG firing rate avg: 4.0 Hz\n"
          ]
        },
        {
          "output_type": "stream",
          "name": "stderr",
          "text": [
            "INFO:NEURONIOUtils:IMG firing rate avg: 4.0 Hz\n"
          ]
        },
        {
          "output_type": "stream",
          "name": "stdout",
          "text": [
            "2023-05-12 22:17:35,352 [INFO] PGN firing rate = 4.00 Hz\n"
          ]
        },
        {
          "output_type": "stream",
          "name": "stderr",
          "text": [
            "/usr/local/lib/python3.10/dist-packages/bmtk/utils/reports/spike_trains/spike_trains.py:183: RuntimeWarning: divide by zero encountered in double_scalars\n",
            "  interval = -np.log(1.0 - np.random.uniform()) / fr\n",
            "INFO:NEURONIOUtils:PGN firing rate = 4.00 Hz\n"
          ]
        },
        {
          "output_type": "stream",
          "name": "stdout",
          "text": [
            "2023-05-12 22:17:35,358 [INFO] Volume = 15.6250 ml\n"
          ]
        },
        {
          "output_type": "stream",
          "name": "stderr",
          "text": [
            "INFO:NEURONIOUtils:Volume = 15.6250 ml\n"
          ]
        },
        {
          "output_type": "stream",
          "name": "stdout",
          "text": [
            "2023-05-12 22:17:35,360 [INFO] Pressure = 7.79 mmHg\n"
          ]
        },
        {
          "output_type": "stream",
          "name": "stderr",
          "text": [
            "INFO:NEURONIOUtils:Pressure = 7.79 mmHg\n"
          ]
        },
        {
          "output_type": "stream",
          "name": "stdout",
          "text": [
            "2023-05-12 22:17:35,365 [INFO] Calculated bladder afferent firing rate for the next time step = 0.00 Hz \n",
            " \n",
            "\n"
          ]
        },
        {
          "output_type": "stream",
          "name": "stderr",
          "text": [
            "INFO:NEURONIOUtils:Calculated bladder afferent firing rate for the next time step = 0.00 Hz \n",
            " \n",
            "\n"
          ]
        },
        {
          "output_type": "stream",
          "name": "stdout",
          "text": [
            "2023-05-12 22:17:37,331 [INFO]     step:42500 t_sim:8500.00 ms\n"
          ]
        },
        {
          "output_type": "stream",
          "name": "stderr",
          "text": [
            "INFO:NEURONIOUtils:    step:42500 t_sim:8500.00 ms\n"
          ]
        },
        {
          "output_type": "stream",
          "name": "stdout",
          "text": [
            "2023-05-12 22:17:37,347 [INFO] Timestep 8000.0 to 8500.0 ms\n"
          ]
        },
        {
          "output_type": "stream",
          "name": "stderr",
          "text": [
            "INFO:NEURONIOUtils:Timestep 8000.0 to 8500.0 ms\n"
          ]
        },
        {
          "output_type": "stream",
          "name": "stdout",
          "text": [
            "2023-05-12 22:17:37,356 [INFO] PGN node_id\t  Hz\n"
          ]
        },
        {
          "output_type": "stream",
          "name": "stderr",
          "text": [
            "INFO:NEURONIOUtils:PGN node_id\t  Hz\n"
          ]
        },
        {
          "output_type": "stream",
          "name": "stdout",
          "text": [
            "2023-05-12 22:17:37,362 [INFO] 70\t\t0.0\n"
          ]
        },
        {
          "output_type": "stream",
          "name": "stderr",
          "text": [
            "INFO:NEURONIOUtils:70\t\t0.0\n"
          ]
        },
        {
          "output_type": "stream",
          "name": "stdout",
          "text": [
            "2023-05-12 22:17:37,370 [INFO] 71\t\t0.0\n"
          ]
        },
        {
          "output_type": "stream",
          "name": "stderr",
          "text": [
            "INFO:NEURONIOUtils:71\t\t0.0\n"
          ]
        },
        {
          "output_type": "stream",
          "name": "stdout",
          "text": [
            "2023-05-12 22:17:37,383 [INFO] 72\t\t0.0\n"
          ]
        },
        {
          "output_type": "stream",
          "name": "stderr",
          "text": [
            "INFO:NEURONIOUtils:72\t\t0.0\n"
          ]
        },
        {
          "output_type": "stream",
          "name": "stdout",
          "text": [
            "2023-05-12 22:17:37,385 [INFO] 73\t\t0.0\n"
          ]
        },
        {
          "output_type": "stream",
          "name": "stderr",
          "text": [
            "INFO:NEURONIOUtils:73\t\t0.0\n"
          ]
        },
        {
          "output_type": "stream",
          "name": "stdout",
          "text": [
            "2023-05-12 22:17:37,387 [INFO] 74\t\t0.0\n"
          ]
        },
        {
          "output_type": "stream",
          "name": "stderr",
          "text": [
            "INFO:NEURONIOUtils:74\t\t0.0\n"
          ]
        },
        {
          "output_type": "stream",
          "name": "stdout",
          "text": [
            "2023-05-12 22:17:37,390 [INFO] 75\t\t0.0\n"
          ]
        },
        {
          "output_type": "stream",
          "name": "stderr",
          "text": [
            "INFO:NEURONIOUtils:75\t\t0.0\n"
          ]
        },
        {
          "output_type": "stream",
          "name": "stdout",
          "text": [
            "2023-05-12 22:17:37,397 [INFO] 76\t\t0.0\n"
          ]
        },
        {
          "output_type": "stream",
          "name": "stderr",
          "text": [
            "INFO:NEURONIOUtils:76\t\t0.0\n"
          ]
        },
        {
          "output_type": "stream",
          "name": "stdout",
          "text": [
            "2023-05-12 22:17:37,404 [INFO] 77\t\t0.0\n"
          ]
        },
        {
          "output_type": "stream",
          "name": "stderr",
          "text": [
            "INFO:NEURONIOUtils:77\t\t0.0\n"
          ]
        },
        {
          "output_type": "stream",
          "name": "stdout",
          "text": [
            "2023-05-12 22:17:37,406 [INFO] 78\t\t0.0\n"
          ]
        },
        {
          "output_type": "stream",
          "name": "stderr",
          "text": [
            "INFO:NEURONIOUtils:78\t\t0.0\n"
          ]
        },
        {
          "output_type": "stream",
          "name": "stdout",
          "text": [
            "2023-05-12 22:17:37,411 [INFO] 79\t\t0.0\n"
          ]
        },
        {
          "output_type": "stream",
          "name": "stderr",
          "text": [
            "INFO:NEURONIOUtils:79\t\t0.0\n"
          ]
        },
        {
          "output_type": "stream",
          "name": "stdout",
          "text": [
            "2023-05-12 22:17:37,414 [INFO] PGN firing rate avg: 0.0 Hz\n"
          ]
        },
        {
          "output_type": "stream",
          "name": "stderr",
          "text": [
            "INFO:NEURONIOUtils:PGN firing rate avg: 0.0 Hz\n"
          ]
        },
        {
          "output_type": "stream",
          "name": "stdout",
          "text": [
            "2023-05-12 22:17:37,422 [INFO] Grill PGN fr = 0.0 Hz\n"
          ]
        },
        {
          "output_type": "stream",
          "name": "stderr",
          "text": [
            "INFO:NEURONIOUtils:Grill PGN fr = 0.0 Hz\n"
          ]
        },
        {
          "output_type": "stream",
          "name": "stdout",
          "text": [
            "2023-05-12 22:17:37,426 [INFO] IMG node_gid\t  Hz\n"
          ]
        },
        {
          "output_type": "stream",
          "name": "stderr",
          "text": [
            "INFO:NEURONIOUtils:IMG node_gid\t  Hz\n"
          ]
        },
        {
          "output_type": "stream",
          "name": "stdout",
          "text": [
            "2023-05-12 22:17:37,434 [INFO] IMG firing rate avg: 0.0 Hz\n"
          ]
        },
        {
          "output_type": "stream",
          "name": "stderr",
          "text": [
            "INFO:NEURONIOUtils:IMG firing rate avg: 0.0 Hz\n"
          ]
        },
        {
          "output_type": "stream",
          "name": "stdout",
          "text": [
            "2023-05-12 22:17:37,453 [INFO] PGN firing rate = 0.00 Hz\n"
          ]
        },
        {
          "output_type": "stream",
          "name": "stderr",
          "text": [
            "/usr/local/lib/python3.10/dist-packages/bmtk/utils/reports/spike_trains/spike_trains.py:183: RuntimeWarning: divide by zero encountered in double_scalars\n",
            "  interval = -np.log(1.0 - np.random.uniform()) / fr\n",
            "INFO:NEURONIOUtils:PGN firing rate = 0.00 Hz\n"
          ]
        },
        {
          "output_type": "stream",
          "name": "stdout",
          "text": [
            "2023-05-12 22:17:37,458 [INFO] Volume = 16.6667 ml\n"
          ]
        },
        {
          "output_type": "stream",
          "name": "stderr",
          "text": [
            "INFO:NEURONIOUtils:Volume = 16.6667 ml\n"
          ]
        },
        {
          "output_type": "stream",
          "name": "stdout",
          "text": [
            "2023-05-12 22:17:37,466 [INFO] Pressure = 7.00 mmHg\n"
          ]
        },
        {
          "output_type": "stream",
          "name": "stderr",
          "text": [
            "INFO:NEURONIOUtils:Pressure = 7.00 mmHg\n"
          ]
        },
        {
          "output_type": "stream",
          "name": "stdout",
          "text": [
            "2023-05-12 22:17:37,471 [INFO] Calculated bladder afferent firing rate for the next time step = 0.00 Hz \n",
            " \n",
            "\n"
          ]
        },
        {
          "output_type": "stream",
          "name": "stderr",
          "text": [
            "INFO:NEURONIOUtils:Calculated bladder afferent firing rate for the next time step = 0.00 Hz \n",
            " \n",
            "\n"
          ]
        },
        {
          "output_type": "stream",
          "name": "stdout",
          "text": [
            "2023-05-12 22:17:39,420 [INFO]     step:45000 t_sim:9000.00 ms\n"
          ]
        },
        {
          "output_type": "stream",
          "name": "stderr",
          "text": [
            "INFO:NEURONIOUtils:    step:45000 t_sim:9000.00 ms\n"
          ]
        },
        {
          "output_type": "stream",
          "name": "stdout",
          "text": [
            "2023-05-12 22:17:39,435 [INFO] Timestep 8500.0 to 9000.0 ms\n"
          ]
        },
        {
          "output_type": "stream",
          "name": "stderr",
          "text": [
            "INFO:NEURONIOUtils:Timestep 8500.0 to 9000.0 ms\n"
          ]
        },
        {
          "output_type": "stream",
          "name": "stdout",
          "text": [
            "2023-05-12 22:17:39,444 [INFO] PGN node_id\t  Hz\n"
          ]
        },
        {
          "output_type": "stream",
          "name": "stderr",
          "text": [
            "INFO:NEURONIOUtils:PGN node_id\t  Hz\n"
          ]
        },
        {
          "output_type": "stream",
          "name": "stdout",
          "text": [
            "2023-05-12 22:17:39,452 [INFO] 70\t\t4.0\n"
          ]
        },
        {
          "output_type": "stream",
          "name": "stderr",
          "text": [
            "INFO:NEURONIOUtils:70\t\t4.0\n"
          ]
        },
        {
          "output_type": "stream",
          "name": "stdout",
          "text": [
            "2023-05-12 22:17:39,457 [INFO] 71\t\t4.0\n"
          ]
        },
        {
          "output_type": "stream",
          "name": "stderr",
          "text": [
            "INFO:NEURONIOUtils:71\t\t4.0\n"
          ]
        },
        {
          "output_type": "stream",
          "name": "stdout",
          "text": [
            "2023-05-12 22:17:39,462 [INFO] 72\t\t4.0\n"
          ]
        },
        {
          "output_type": "stream",
          "name": "stderr",
          "text": [
            "INFO:NEURONIOUtils:72\t\t4.0\n"
          ]
        },
        {
          "output_type": "stream",
          "name": "stdout",
          "text": [
            "2023-05-12 22:17:39,464 [INFO] 73\t\t4.0\n"
          ]
        },
        {
          "output_type": "stream",
          "name": "stderr",
          "text": [
            "INFO:NEURONIOUtils:73\t\t4.0\n"
          ]
        },
        {
          "output_type": "stream",
          "name": "stdout",
          "text": [
            "2023-05-12 22:17:39,469 [INFO] 74\t\t4.0\n"
          ]
        },
        {
          "output_type": "stream",
          "name": "stderr",
          "text": [
            "INFO:NEURONIOUtils:74\t\t4.0\n"
          ]
        },
        {
          "output_type": "stream",
          "name": "stdout",
          "text": [
            "2023-05-12 22:17:39,473 [INFO] 75\t\t4.0\n"
          ]
        },
        {
          "output_type": "stream",
          "name": "stderr",
          "text": [
            "INFO:NEURONIOUtils:75\t\t4.0\n"
          ]
        },
        {
          "output_type": "stream",
          "name": "stdout",
          "text": [
            "2023-05-12 22:17:39,476 [INFO] 76\t\t4.0\n"
          ]
        },
        {
          "output_type": "stream",
          "name": "stderr",
          "text": [
            "INFO:NEURONIOUtils:76\t\t4.0\n"
          ]
        },
        {
          "output_type": "stream",
          "name": "stdout",
          "text": [
            "2023-05-12 22:17:39,481 [INFO] 77\t\t4.0\n"
          ]
        },
        {
          "output_type": "stream",
          "name": "stderr",
          "text": [
            "INFO:NEURONIOUtils:77\t\t4.0\n"
          ]
        },
        {
          "output_type": "stream",
          "name": "stdout",
          "text": [
            "2023-05-12 22:17:39,485 [INFO] 78\t\t4.0\n"
          ]
        },
        {
          "output_type": "stream",
          "name": "stderr",
          "text": [
            "INFO:NEURONIOUtils:78\t\t4.0\n"
          ]
        },
        {
          "output_type": "stream",
          "name": "stdout",
          "text": [
            "2023-05-12 22:17:39,488 [INFO] 79\t\t4.0\n"
          ]
        },
        {
          "output_type": "stream",
          "name": "stderr",
          "text": [
            "INFO:NEURONIOUtils:79\t\t4.0\n"
          ]
        },
        {
          "output_type": "stream",
          "name": "stdout",
          "text": [
            "2023-05-12 22:17:39,493 [INFO] PGN firing rate avg: 4.0 Hz\n"
          ]
        },
        {
          "output_type": "stream",
          "name": "stderr",
          "text": [
            "INFO:NEURONIOUtils:PGN firing rate avg: 4.0 Hz\n"
          ]
        },
        {
          "output_type": "stream",
          "name": "stdout",
          "text": [
            "2023-05-12 22:17:39,496 [INFO] Grill PGN fr = 3.15 Hz\n"
          ]
        },
        {
          "output_type": "stream",
          "name": "stderr",
          "text": [
            "INFO:NEURONIOUtils:Grill PGN fr = 3.15 Hz\n"
          ]
        },
        {
          "output_type": "stream",
          "name": "stdout",
          "text": [
            "2023-05-12 22:17:39,498 [INFO] IMG node_gid\t  Hz\n"
          ]
        },
        {
          "output_type": "stream",
          "name": "stderr",
          "text": [
            "INFO:NEURONIOUtils:IMG node_gid\t  Hz\n"
          ]
        },
        {
          "output_type": "stream",
          "name": "stdout",
          "text": [
            "2023-05-12 22:17:39,503 [INFO] IMG firing rate avg: 4.0 Hz\n"
          ]
        },
        {
          "output_type": "stream",
          "name": "stderr",
          "text": [
            "INFO:NEURONIOUtils:IMG firing rate avg: 4.0 Hz\n"
          ]
        },
        {
          "output_type": "stream",
          "name": "stdout",
          "text": [
            "2023-05-12 22:17:39,516 [INFO] PGN firing rate = 4.00 Hz\n"
          ]
        },
        {
          "output_type": "stream",
          "name": "stderr",
          "text": [
            "/usr/local/lib/python3.10/dist-packages/bmtk/utils/reports/spike_trains/spike_trains.py:183: RuntimeWarning: divide by zero encountered in double_scalars\n",
            "  interval = -np.log(1.0 - np.random.uniform()) / fr\n",
            "INFO:NEURONIOUtils:PGN firing rate = 4.00 Hz\n"
          ]
        },
        {
          "output_type": "stream",
          "name": "stdout",
          "text": [
            "2023-05-12 22:17:39,528 [INFO] Volume = 17.7083 ml\n"
          ]
        },
        {
          "output_type": "stream",
          "name": "stderr",
          "text": [
            "INFO:NEURONIOUtils:Volume = 17.7083 ml\n"
          ]
        },
        {
          "output_type": "stream",
          "name": "stdout",
          "text": [
            "2023-05-12 22:17:39,530 [INFO] Pressure = 7.79 mmHg\n"
          ]
        },
        {
          "output_type": "stream",
          "name": "stderr",
          "text": [
            "INFO:NEURONIOUtils:Pressure = 7.79 mmHg\n"
          ]
        },
        {
          "output_type": "stream",
          "name": "stdout",
          "text": [
            "2023-05-12 22:17:39,537 [INFO] Calculated bladder afferent firing rate for the next time step = 0.00 Hz \n",
            " \n",
            "\n"
          ]
        },
        {
          "output_type": "stream",
          "name": "stderr",
          "text": [
            "INFO:NEURONIOUtils:Calculated bladder afferent firing rate for the next time step = 0.00 Hz \n",
            " \n",
            "\n"
          ]
        },
        {
          "output_type": "stream",
          "name": "stdout",
          "text": [
            "2023-05-12 22:17:41,648 [INFO]     step:47500 t_sim:9500.00 ms\n"
          ]
        },
        {
          "output_type": "stream",
          "name": "stderr",
          "text": [
            "INFO:NEURONIOUtils:    step:47500 t_sim:9500.00 ms\n"
          ]
        },
        {
          "output_type": "stream",
          "name": "stdout",
          "text": [
            "2023-05-12 22:17:41,661 [INFO] Timestep 9000.0 to 9500.0 ms\n"
          ]
        },
        {
          "output_type": "stream",
          "name": "stderr",
          "text": [
            "INFO:NEURONIOUtils:Timestep 9000.0 to 9500.0 ms\n"
          ]
        },
        {
          "output_type": "stream",
          "name": "stdout",
          "text": [
            "2023-05-12 22:17:41,665 [INFO] PGN node_id\t  Hz\n"
          ]
        },
        {
          "output_type": "stream",
          "name": "stderr",
          "text": [
            "INFO:NEURONIOUtils:PGN node_id\t  Hz\n"
          ]
        },
        {
          "output_type": "stream",
          "name": "stdout",
          "text": [
            "2023-05-12 22:17:41,670 [INFO] 70\t\t4.0\n"
          ]
        },
        {
          "output_type": "stream",
          "name": "stderr",
          "text": [
            "INFO:NEURONIOUtils:70\t\t4.0\n"
          ]
        },
        {
          "output_type": "stream",
          "name": "stdout",
          "text": [
            "2023-05-12 22:17:41,677 [INFO] 71\t\t4.0\n"
          ]
        },
        {
          "output_type": "stream",
          "name": "stderr",
          "text": [
            "INFO:NEURONIOUtils:71\t\t4.0\n"
          ]
        },
        {
          "output_type": "stream",
          "name": "stdout",
          "text": [
            "2023-05-12 22:17:41,682 [INFO] 72\t\t4.0\n"
          ]
        },
        {
          "output_type": "stream",
          "name": "stderr",
          "text": [
            "INFO:NEURONIOUtils:72\t\t4.0\n"
          ]
        },
        {
          "output_type": "stream",
          "name": "stdout",
          "text": [
            "2023-05-12 22:17:41,684 [INFO] 73\t\t4.0\n"
          ]
        },
        {
          "output_type": "stream",
          "name": "stderr",
          "text": [
            "INFO:NEURONIOUtils:73\t\t4.0\n"
          ]
        },
        {
          "output_type": "stream",
          "name": "stdout",
          "text": [
            "2023-05-12 22:17:41,687 [INFO] 74\t\t4.0\n"
          ]
        },
        {
          "output_type": "stream",
          "name": "stderr",
          "text": [
            "INFO:NEURONIOUtils:74\t\t4.0\n"
          ]
        },
        {
          "output_type": "stream",
          "name": "stdout",
          "text": [
            "2023-05-12 22:17:41,689 [INFO] 75\t\t4.0\n"
          ]
        },
        {
          "output_type": "stream",
          "name": "stderr",
          "text": [
            "INFO:NEURONIOUtils:75\t\t4.0\n"
          ]
        },
        {
          "output_type": "stream",
          "name": "stdout",
          "text": [
            "2023-05-12 22:17:41,692 [INFO] 76\t\t4.0\n"
          ]
        },
        {
          "output_type": "stream",
          "name": "stderr",
          "text": [
            "INFO:NEURONIOUtils:76\t\t4.0\n"
          ]
        },
        {
          "output_type": "stream",
          "name": "stdout",
          "text": [
            "2023-05-12 22:17:41,694 [INFO] 77\t\t4.0\n"
          ]
        },
        {
          "output_type": "stream",
          "name": "stderr",
          "text": [
            "INFO:NEURONIOUtils:77\t\t4.0\n"
          ]
        },
        {
          "output_type": "stream",
          "name": "stdout",
          "text": [
            "2023-05-12 22:17:41,700 [INFO] 78\t\t4.0\n"
          ]
        },
        {
          "output_type": "stream",
          "name": "stderr",
          "text": [
            "INFO:NEURONIOUtils:78\t\t4.0\n"
          ]
        },
        {
          "output_type": "stream",
          "name": "stdout",
          "text": [
            "2023-05-12 22:17:41,702 [INFO] 79\t\t4.0\n"
          ]
        },
        {
          "output_type": "stream",
          "name": "stderr",
          "text": [
            "INFO:NEURONIOUtils:79\t\t4.0\n"
          ]
        },
        {
          "output_type": "stream",
          "name": "stdout",
          "text": [
            "2023-05-12 22:17:41,704 [INFO] PGN firing rate avg: 4.0 Hz\n"
          ]
        },
        {
          "output_type": "stream",
          "name": "stderr",
          "text": [
            "INFO:NEURONIOUtils:PGN firing rate avg: 4.0 Hz\n"
          ]
        },
        {
          "output_type": "stream",
          "name": "stdout",
          "text": [
            "2023-05-12 22:17:41,706 [INFO] Grill PGN fr = 3.15 Hz\n"
          ]
        },
        {
          "output_type": "stream",
          "name": "stderr",
          "text": [
            "INFO:NEURONIOUtils:Grill PGN fr = 3.15 Hz\n"
          ]
        },
        {
          "output_type": "stream",
          "name": "stdout",
          "text": [
            "2023-05-12 22:17:41,709 [INFO] IMG node_gid\t  Hz\n"
          ]
        },
        {
          "output_type": "stream",
          "name": "stderr",
          "text": [
            "INFO:NEURONIOUtils:IMG node_gid\t  Hz\n"
          ]
        },
        {
          "output_type": "stream",
          "name": "stdout",
          "text": [
            "2023-05-12 22:17:41,710 [INFO] IMG firing rate avg: 4.0 Hz\n"
          ]
        },
        {
          "output_type": "stream",
          "name": "stderr",
          "text": [
            "INFO:NEURONIOUtils:IMG firing rate avg: 4.0 Hz\n"
          ]
        },
        {
          "output_type": "stream",
          "name": "stdout",
          "text": [
            "2023-05-12 22:17:41,720 [INFO] PGN firing rate = 4.00 Hz\n"
          ]
        },
        {
          "output_type": "stream",
          "name": "stderr",
          "text": [
            "/usr/local/lib/python3.10/dist-packages/bmtk/utils/reports/spike_trains/spike_trains.py:183: RuntimeWarning: divide by zero encountered in double_scalars\n",
            "  interval = -np.log(1.0 - np.random.uniform()) / fr\n",
            "INFO:NEURONIOUtils:PGN firing rate = 4.00 Hz\n"
          ]
        },
        {
          "output_type": "stream",
          "name": "stdout",
          "text": [
            "2023-05-12 22:17:41,723 [INFO] Volume = 18.7500 ml\n"
          ]
        },
        {
          "output_type": "stream",
          "name": "stderr",
          "text": [
            "INFO:NEURONIOUtils:Volume = 18.7500 ml\n"
          ]
        },
        {
          "output_type": "stream",
          "name": "stdout",
          "text": [
            "2023-05-12 22:17:41,725 [INFO] Pressure = 7.79 mmHg\n"
          ]
        },
        {
          "output_type": "stream",
          "name": "stderr",
          "text": [
            "INFO:NEURONIOUtils:Pressure = 7.79 mmHg\n"
          ]
        },
        {
          "output_type": "stream",
          "name": "stdout",
          "text": [
            "2023-05-12 22:17:41,726 [INFO] Calculated bladder afferent firing rate for the next time step = 0.00 Hz \n",
            " \n",
            "\n"
          ]
        },
        {
          "output_type": "stream",
          "name": "stderr",
          "text": [
            "INFO:NEURONIOUtils:Calculated bladder afferent firing rate for the next time step = 0.00 Hz \n",
            " \n",
            "\n"
          ]
        },
        {
          "output_type": "stream",
          "name": "stdout",
          "text": [
            "2023-05-12 22:17:43,001 [INFO]     step:50000 t_sim:10000.00 ms\n"
          ]
        },
        {
          "output_type": "stream",
          "name": "stderr",
          "text": [
            "INFO:NEURONIOUtils:    step:50000 t_sim:10000.00 ms\n"
          ]
        },
        {
          "output_type": "stream",
          "name": "stdout",
          "text": [
            "2023-05-12 22:17:43,011 [INFO] Timestep 9500.0 to 10000.0 ms\n"
          ]
        },
        {
          "output_type": "stream",
          "name": "stderr",
          "text": [
            "INFO:NEURONIOUtils:Timestep 9500.0 to 10000.0 ms\n"
          ]
        },
        {
          "output_type": "stream",
          "name": "stdout",
          "text": [
            "2023-05-12 22:17:43,015 [INFO] PGN node_id\t  Hz\n"
          ]
        },
        {
          "output_type": "stream",
          "name": "stderr",
          "text": [
            "INFO:NEURONIOUtils:PGN node_id\t  Hz\n"
          ]
        },
        {
          "output_type": "stream",
          "name": "stdout",
          "text": [
            "2023-05-12 22:17:43,019 [INFO] 70\t\t2.0\n"
          ]
        },
        {
          "output_type": "stream",
          "name": "stderr",
          "text": [
            "INFO:NEURONIOUtils:70\t\t2.0\n"
          ]
        },
        {
          "output_type": "stream",
          "name": "stdout",
          "text": [
            "2023-05-12 22:17:43,021 [INFO] 71\t\t2.0\n"
          ]
        },
        {
          "output_type": "stream",
          "name": "stderr",
          "text": [
            "INFO:NEURONIOUtils:71\t\t2.0\n"
          ]
        },
        {
          "output_type": "stream",
          "name": "stdout",
          "text": [
            "2023-05-12 22:17:43,023 [INFO] 72\t\t2.0\n"
          ]
        },
        {
          "output_type": "stream",
          "name": "stderr",
          "text": [
            "INFO:NEURONIOUtils:72\t\t2.0\n"
          ]
        },
        {
          "output_type": "stream",
          "name": "stdout",
          "text": [
            "2023-05-12 22:17:43,025 [INFO] 73\t\t2.0\n"
          ]
        },
        {
          "output_type": "stream",
          "name": "stderr",
          "text": [
            "INFO:NEURONIOUtils:73\t\t2.0\n"
          ]
        },
        {
          "output_type": "stream",
          "name": "stdout",
          "text": [
            "2023-05-12 22:17:43,027 [INFO] 74\t\t2.0\n"
          ]
        },
        {
          "output_type": "stream",
          "name": "stderr",
          "text": [
            "INFO:NEURONIOUtils:74\t\t2.0\n"
          ]
        },
        {
          "output_type": "stream",
          "name": "stdout",
          "text": [
            "2023-05-12 22:17:43,029 [INFO] 75\t\t2.0\n"
          ]
        },
        {
          "output_type": "stream",
          "name": "stderr",
          "text": [
            "INFO:NEURONIOUtils:75\t\t2.0\n"
          ]
        },
        {
          "output_type": "stream",
          "name": "stdout",
          "text": [
            "2023-05-12 22:17:43,031 [INFO] 76\t\t2.0\n"
          ]
        },
        {
          "output_type": "stream",
          "name": "stderr",
          "text": [
            "INFO:NEURONIOUtils:76\t\t2.0\n"
          ]
        },
        {
          "output_type": "stream",
          "name": "stdout",
          "text": [
            "2023-05-12 22:17:43,033 [INFO] 77\t\t2.0\n"
          ]
        },
        {
          "output_type": "stream",
          "name": "stderr",
          "text": [
            "INFO:NEURONIOUtils:77\t\t2.0\n"
          ]
        },
        {
          "output_type": "stream",
          "name": "stdout",
          "text": [
            "2023-05-12 22:17:43,035 [INFO] 78\t\t2.0\n"
          ]
        },
        {
          "output_type": "stream",
          "name": "stderr",
          "text": [
            "INFO:NEURONIOUtils:78\t\t2.0\n"
          ]
        },
        {
          "output_type": "stream",
          "name": "stdout",
          "text": [
            "2023-05-12 22:17:43,037 [INFO] 79\t\t2.0\n"
          ]
        },
        {
          "output_type": "stream",
          "name": "stderr",
          "text": [
            "INFO:NEURONIOUtils:79\t\t2.0\n"
          ]
        },
        {
          "output_type": "stream",
          "name": "stdout",
          "text": [
            "2023-05-12 22:17:43,039 [INFO] PGN firing rate avg: 2.0 Hz\n"
          ]
        },
        {
          "output_type": "stream",
          "name": "stderr",
          "text": [
            "INFO:NEURONIOUtils:PGN firing rate avg: 2.0 Hz\n"
          ]
        },
        {
          "output_type": "stream",
          "name": "stdout",
          "text": [
            "2023-05-12 22:17:43,041 [INFO] Grill PGN fr = 1.492 Hz\n"
          ]
        },
        {
          "output_type": "stream",
          "name": "stderr",
          "text": [
            "INFO:NEURONIOUtils:Grill PGN fr = 1.492 Hz\n"
          ]
        },
        {
          "output_type": "stream",
          "name": "stdout",
          "text": [
            "2023-05-12 22:17:43,043 [INFO] IMG node_gid\t  Hz\n"
          ]
        },
        {
          "output_type": "stream",
          "name": "stderr",
          "text": [
            "INFO:NEURONIOUtils:IMG node_gid\t  Hz\n"
          ]
        },
        {
          "output_type": "stream",
          "name": "stdout",
          "text": [
            "2023-05-12 22:17:43,045 [INFO] IMG firing rate avg: 2.0 Hz\n"
          ]
        },
        {
          "output_type": "stream",
          "name": "stderr",
          "text": [
            "INFO:NEURONIOUtils:IMG firing rate avg: 2.0 Hz\n"
          ]
        },
        {
          "output_type": "stream",
          "name": "stdout",
          "text": [
            "2023-05-12 22:17:43,054 [INFO] PGN firing rate = 2.00 Hz\n"
          ]
        },
        {
          "output_type": "stream",
          "name": "stderr",
          "text": [
            "/usr/local/lib/python3.10/dist-packages/bmtk/utils/reports/spike_trains/spike_trains.py:183: RuntimeWarning: divide by zero encountered in double_scalars\n",
            "  interval = -np.log(1.0 - np.random.uniform()) / fr\n",
            "INFO:NEURONIOUtils:PGN firing rate = 2.00 Hz\n"
          ]
        },
        {
          "output_type": "stream",
          "name": "stdout",
          "text": [
            "2023-05-12 22:17:43,056 [INFO] Volume = 19.7917 ml\n"
          ]
        },
        {
          "output_type": "stream",
          "name": "stderr",
          "text": [
            "INFO:NEURONIOUtils:Volume = 19.7917 ml\n"
          ]
        },
        {
          "output_type": "stream",
          "name": "stdout",
          "text": [
            "2023-05-12 22:17:43,058 [INFO] Pressure = 7.37 mmHg\n"
          ]
        },
        {
          "output_type": "stream",
          "name": "stderr",
          "text": [
            "INFO:NEURONIOUtils:Pressure = 7.37 mmHg\n"
          ]
        },
        {
          "output_type": "stream",
          "name": "stdout",
          "text": [
            "2023-05-12 22:17:43,060 [INFO] Calculated bladder afferent firing rate for the next time step = 0.00 Hz \n",
            " \n",
            "\n"
          ]
        },
        {
          "output_type": "stream",
          "name": "stderr",
          "text": [
            "INFO:NEURONIOUtils:Calculated bladder afferent firing rate for the next time step = 0.00 Hz \n",
            " \n",
            "\n"
          ]
        },
        {
          "output_type": "stream",
          "name": "stdout",
          "text": [
            "2023-05-12 22:17:44,356 [INFO]     step:52500 t_sim:10500.00 ms\n"
          ]
        },
        {
          "output_type": "stream",
          "name": "stderr",
          "text": [
            "INFO:NEURONIOUtils:    step:52500 t_sim:10500.00 ms\n"
          ]
        },
        {
          "output_type": "stream",
          "name": "stdout",
          "text": [
            "2023-05-12 22:17:44,370 [INFO] Timestep 10000.0 to 10500.0 ms\n"
          ]
        },
        {
          "output_type": "stream",
          "name": "stderr",
          "text": [
            "INFO:NEURONIOUtils:Timestep 10000.0 to 10500.0 ms\n"
          ]
        },
        {
          "output_type": "stream",
          "name": "stdout",
          "text": [
            "2023-05-12 22:17:44,378 [INFO] PGN node_id\t  Hz\n"
          ]
        },
        {
          "output_type": "stream",
          "name": "stderr",
          "text": [
            "INFO:NEURONIOUtils:PGN node_id\t  Hz\n"
          ]
        },
        {
          "output_type": "stream",
          "name": "stdout",
          "text": [
            "2023-05-12 22:17:44,382 [INFO] 70\t\t2.0\n"
          ]
        },
        {
          "output_type": "stream",
          "name": "stderr",
          "text": [
            "INFO:NEURONIOUtils:70\t\t2.0\n"
          ]
        },
        {
          "output_type": "stream",
          "name": "stdout",
          "text": [
            "2023-05-12 22:17:44,385 [INFO] 71\t\t2.0\n"
          ]
        },
        {
          "output_type": "stream",
          "name": "stderr",
          "text": [
            "INFO:NEURONIOUtils:71\t\t2.0\n"
          ]
        },
        {
          "output_type": "stream",
          "name": "stdout",
          "text": [
            "2023-05-12 22:17:44,390 [INFO] 72\t\t2.0\n"
          ]
        },
        {
          "output_type": "stream",
          "name": "stderr",
          "text": [
            "INFO:NEURONIOUtils:72\t\t2.0\n"
          ]
        },
        {
          "output_type": "stream",
          "name": "stdout",
          "text": [
            "2023-05-12 22:17:44,395 [INFO] 73\t\t2.0\n"
          ]
        },
        {
          "output_type": "stream",
          "name": "stderr",
          "text": [
            "INFO:NEURONIOUtils:73\t\t2.0\n"
          ]
        },
        {
          "output_type": "stream",
          "name": "stdout",
          "text": [
            "2023-05-12 22:17:44,397 [INFO] 74\t\t2.0\n"
          ]
        },
        {
          "output_type": "stream",
          "name": "stderr",
          "text": [
            "INFO:NEURONIOUtils:74\t\t2.0\n"
          ]
        },
        {
          "output_type": "stream",
          "name": "stdout",
          "text": [
            "2023-05-12 22:17:44,401 [INFO] 75\t\t2.0\n"
          ]
        },
        {
          "output_type": "stream",
          "name": "stderr",
          "text": [
            "INFO:NEURONIOUtils:75\t\t2.0\n"
          ]
        },
        {
          "output_type": "stream",
          "name": "stdout",
          "text": [
            "2023-05-12 22:17:44,405 [INFO] 76\t\t2.0\n"
          ]
        },
        {
          "output_type": "stream",
          "name": "stderr",
          "text": [
            "INFO:NEURONIOUtils:76\t\t2.0\n"
          ]
        },
        {
          "output_type": "stream",
          "name": "stdout",
          "text": [
            "2023-05-12 22:17:44,410 [INFO] 77\t\t2.0\n"
          ]
        },
        {
          "output_type": "stream",
          "name": "stderr",
          "text": [
            "INFO:NEURONIOUtils:77\t\t2.0\n"
          ]
        },
        {
          "output_type": "stream",
          "name": "stdout",
          "text": [
            "2023-05-12 22:17:44,413 [INFO] 78\t\t2.0\n"
          ]
        },
        {
          "output_type": "stream",
          "name": "stderr",
          "text": [
            "INFO:NEURONIOUtils:78\t\t2.0\n"
          ]
        },
        {
          "output_type": "stream",
          "name": "stdout",
          "text": [
            "2023-05-12 22:17:44,415 [INFO] 79\t\t2.0\n"
          ]
        },
        {
          "output_type": "stream",
          "name": "stderr",
          "text": [
            "INFO:NEURONIOUtils:79\t\t2.0\n"
          ]
        },
        {
          "output_type": "stream",
          "name": "stdout",
          "text": [
            "2023-05-12 22:17:44,420 [INFO] PGN firing rate avg: 2.0 Hz\n"
          ]
        },
        {
          "output_type": "stream",
          "name": "stderr",
          "text": [
            "INFO:NEURONIOUtils:PGN firing rate avg: 2.0 Hz\n"
          ]
        },
        {
          "output_type": "stream",
          "name": "stdout",
          "text": [
            "2023-05-12 22:17:44,424 [INFO] Grill PGN fr = 1.492 Hz\n"
          ]
        },
        {
          "output_type": "stream",
          "name": "stderr",
          "text": [
            "INFO:NEURONIOUtils:Grill PGN fr = 1.492 Hz\n"
          ]
        },
        {
          "output_type": "stream",
          "name": "stdout",
          "text": [
            "2023-05-12 22:17:44,429 [INFO] IMG node_gid\t  Hz\n"
          ]
        },
        {
          "output_type": "stream",
          "name": "stderr",
          "text": [
            "INFO:NEURONIOUtils:IMG node_gid\t  Hz\n"
          ]
        },
        {
          "output_type": "stream",
          "name": "stdout",
          "text": [
            "2023-05-12 22:17:44,432 [INFO] IMG firing rate avg: 2.0 Hz\n"
          ]
        },
        {
          "output_type": "stream",
          "name": "stderr",
          "text": [
            "INFO:NEURONIOUtils:IMG firing rate avg: 2.0 Hz\n"
          ]
        },
        {
          "output_type": "stream",
          "name": "stdout",
          "text": [
            "2023-05-12 22:17:44,465 [INFO] PGN firing rate = 2.00 Hz\n"
          ]
        },
        {
          "output_type": "stream",
          "name": "stderr",
          "text": [
            "/usr/local/lib/python3.10/dist-packages/bmtk/utils/reports/spike_trains/spike_trains.py:183: RuntimeWarning: divide by zero encountered in double_scalars\n",
            "  interval = -np.log(1.0 - np.random.uniform()) / fr\n",
            "INFO:NEURONIOUtils:PGN firing rate = 2.00 Hz\n"
          ]
        },
        {
          "output_type": "stream",
          "name": "stdout",
          "text": [
            "2023-05-12 22:17:44,469 [INFO] Volume = 20.8333 ml\n"
          ]
        },
        {
          "output_type": "stream",
          "name": "stderr",
          "text": [
            "INFO:NEURONIOUtils:Volume = 20.8333 ml\n"
          ]
        },
        {
          "output_type": "stream",
          "name": "stdout",
          "text": [
            "2023-05-12 22:17:44,474 [INFO] Pressure = 7.37 mmHg\n"
          ]
        },
        {
          "output_type": "stream",
          "name": "stderr",
          "text": [
            "INFO:NEURONIOUtils:Pressure = 7.37 mmHg\n"
          ]
        },
        {
          "output_type": "stream",
          "name": "stdout",
          "text": [
            "2023-05-12 22:17:44,477 [INFO] Calculated bladder afferent firing rate for the next time step = 0.00 Hz \n",
            " \n",
            "\n"
          ]
        },
        {
          "output_type": "stream",
          "name": "stderr",
          "text": [
            "INFO:NEURONIOUtils:Calculated bladder afferent firing rate for the next time step = 0.00 Hz \n",
            " \n",
            "\n"
          ]
        },
        {
          "output_type": "stream",
          "name": "stdout",
          "text": [
            "2023-05-12 22:17:45,790 [INFO]     step:55000 t_sim:11000.00 ms\n"
          ]
        },
        {
          "output_type": "stream",
          "name": "stderr",
          "text": [
            "INFO:NEURONIOUtils:    step:55000 t_sim:11000.00 ms\n"
          ]
        },
        {
          "output_type": "stream",
          "name": "stdout",
          "text": [
            "2023-05-12 22:17:45,806 [INFO] Timestep 10500.0 to 11000.0 ms\n"
          ]
        },
        {
          "output_type": "stream",
          "name": "stderr",
          "text": [
            "INFO:NEURONIOUtils:Timestep 10500.0 to 11000.0 ms\n"
          ]
        },
        {
          "output_type": "stream",
          "name": "stdout",
          "text": [
            "2023-05-12 22:17:45,821 [INFO] PGN node_id\t  Hz\n"
          ]
        },
        {
          "output_type": "stream",
          "name": "stderr",
          "text": [
            "INFO:NEURONIOUtils:PGN node_id\t  Hz\n"
          ]
        },
        {
          "output_type": "stream",
          "name": "stdout",
          "text": [
            "2023-05-12 22:17:45,825 [INFO] 70\t\t6.0\n"
          ]
        },
        {
          "output_type": "stream",
          "name": "stderr",
          "text": [
            "INFO:NEURONIOUtils:70\t\t6.0\n"
          ]
        },
        {
          "output_type": "stream",
          "name": "stdout",
          "text": [
            "2023-05-12 22:17:45,829 [INFO] 71\t\t6.0\n"
          ]
        },
        {
          "output_type": "stream",
          "name": "stderr",
          "text": [
            "INFO:NEURONIOUtils:71\t\t6.0\n"
          ]
        },
        {
          "output_type": "stream",
          "name": "stdout",
          "text": [
            "2023-05-12 22:17:45,834 [INFO] 72\t\t6.0\n"
          ]
        },
        {
          "output_type": "stream",
          "name": "stderr",
          "text": [
            "INFO:NEURONIOUtils:72\t\t6.0\n"
          ]
        },
        {
          "output_type": "stream",
          "name": "stdout",
          "text": [
            "2023-05-12 22:17:45,837 [INFO] 73\t\t6.0\n"
          ]
        },
        {
          "output_type": "stream",
          "name": "stderr",
          "text": [
            "INFO:NEURONIOUtils:73\t\t6.0\n"
          ]
        },
        {
          "output_type": "stream",
          "name": "stdout",
          "text": [
            "2023-05-12 22:17:45,839 [INFO] 74\t\t6.0\n"
          ]
        },
        {
          "output_type": "stream",
          "name": "stderr",
          "text": [
            "INFO:NEURONIOUtils:74\t\t6.0\n"
          ]
        },
        {
          "output_type": "stream",
          "name": "stdout",
          "text": [
            "2023-05-12 22:17:45,841 [INFO] 75\t\t6.0\n"
          ]
        },
        {
          "output_type": "stream",
          "name": "stderr",
          "text": [
            "INFO:NEURONIOUtils:75\t\t6.0\n"
          ]
        },
        {
          "output_type": "stream",
          "name": "stdout",
          "text": [
            "2023-05-12 22:17:45,843 [INFO] 76\t\t6.0\n"
          ]
        },
        {
          "output_type": "stream",
          "name": "stderr",
          "text": [
            "INFO:NEURONIOUtils:76\t\t6.0\n"
          ]
        },
        {
          "output_type": "stream",
          "name": "stdout",
          "text": [
            "2023-05-12 22:17:45,845 [INFO] 77\t\t6.0\n"
          ]
        },
        {
          "output_type": "stream",
          "name": "stderr",
          "text": [
            "INFO:NEURONIOUtils:77\t\t6.0\n"
          ]
        },
        {
          "output_type": "stream",
          "name": "stdout",
          "text": [
            "2023-05-12 22:17:45,847 [INFO] 78\t\t6.0\n"
          ]
        },
        {
          "output_type": "stream",
          "name": "stderr",
          "text": [
            "INFO:NEURONIOUtils:78\t\t6.0\n"
          ]
        },
        {
          "output_type": "stream",
          "name": "stdout",
          "text": [
            "2023-05-12 22:17:45,849 [INFO] 79\t\t6.0\n"
          ]
        },
        {
          "output_type": "stream",
          "name": "stderr",
          "text": [
            "INFO:NEURONIOUtils:79\t\t6.0\n"
          ]
        },
        {
          "output_type": "stream",
          "name": "stdout",
          "text": [
            "2023-05-12 22:17:45,851 [INFO] PGN firing rate avg: 6.0 Hz\n"
          ]
        },
        {
          "output_type": "stream",
          "name": "stderr",
          "text": [
            "INFO:NEURONIOUtils:PGN firing rate avg: 6.0 Hz\n"
          ]
        },
        {
          "output_type": "stream",
          "name": "stdout",
          "text": [
            "2023-05-12 22:17:45,853 [INFO] Grill PGN fr = 4.772 Hz\n"
          ]
        },
        {
          "output_type": "stream",
          "name": "stderr",
          "text": [
            "INFO:NEURONIOUtils:Grill PGN fr = 4.772 Hz\n"
          ]
        },
        {
          "output_type": "stream",
          "name": "stdout",
          "text": [
            "2023-05-12 22:17:45,855 [INFO] IMG node_gid\t  Hz\n"
          ]
        },
        {
          "output_type": "stream",
          "name": "stderr",
          "text": [
            "INFO:NEURONIOUtils:IMG node_gid\t  Hz\n"
          ]
        },
        {
          "output_type": "stream",
          "name": "stdout",
          "text": [
            "2023-05-12 22:17:45,862 [INFO] IMG firing rate avg: 6.0 Hz\n"
          ]
        },
        {
          "output_type": "stream",
          "name": "stderr",
          "text": [
            "INFO:NEURONIOUtils:IMG firing rate avg: 6.0 Hz\n"
          ]
        },
        {
          "output_type": "stream",
          "name": "stdout",
          "text": [
            "2023-05-12 22:17:45,871 [INFO] PGN firing rate = 6.00 Hz\n"
          ]
        },
        {
          "output_type": "stream",
          "name": "stderr",
          "text": [
            "/usr/local/lib/python3.10/dist-packages/bmtk/utils/reports/spike_trains/spike_trains.py:183: RuntimeWarning: divide by zero encountered in double_scalars\n",
            "  interval = -np.log(1.0 - np.random.uniform()) / fr\n",
            "INFO:NEURONIOUtils:PGN firing rate = 6.00 Hz\n"
          ]
        },
        {
          "output_type": "stream",
          "name": "stdout",
          "text": [
            "2023-05-12 22:17:45,874 [INFO] Volume = 21.8750 ml\n"
          ]
        },
        {
          "output_type": "stream",
          "name": "stderr",
          "text": [
            "INFO:NEURONIOUtils:Volume = 21.8750 ml\n"
          ]
        },
        {
          "output_type": "stream",
          "name": "stdout",
          "text": [
            "2023-05-12 22:17:45,876 [INFO] Pressure = 8.19 mmHg\n"
          ]
        },
        {
          "output_type": "stream",
          "name": "stderr",
          "text": [
            "INFO:NEURONIOUtils:Pressure = 8.19 mmHg\n"
          ]
        },
        {
          "output_type": "stream",
          "name": "stdout",
          "text": [
            "2023-05-12 22:17:45,879 [INFO] Calculated bladder afferent firing rate for the next time step = 0.00 Hz \n",
            " \n",
            "\n"
          ]
        },
        {
          "output_type": "stream",
          "name": "stderr",
          "text": [
            "INFO:NEURONIOUtils:Calculated bladder afferent firing rate for the next time step = 0.00 Hz \n",
            " \n",
            "\n"
          ]
        },
        {
          "output_type": "stream",
          "name": "stdout",
          "text": [
            "2023-05-12 22:17:47,052 [INFO]     step:57500 t_sim:11500.00 ms\n"
          ]
        },
        {
          "output_type": "stream",
          "name": "stderr",
          "text": [
            "INFO:NEURONIOUtils:    step:57500 t_sim:11500.00 ms\n"
          ]
        },
        {
          "output_type": "stream",
          "name": "stdout",
          "text": [
            "2023-05-12 22:17:47,065 [INFO] Timestep 11000.0 to 11500.0 ms\n"
          ]
        },
        {
          "output_type": "stream",
          "name": "stderr",
          "text": [
            "INFO:NEURONIOUtils:Timestep 11000.0 to 11500.0 ms\n"
          ]
        },
        {
          "output_type": "stream",
          "name": "stdout",
          "text": [
            "2023-05-12 22:17:47,070 [INFO] PGN node_id\t  Hz\n"
          ]
        },
        {
          "output_type": "stream",
          "name": "stderr",
          "text": [
            "INFO:NEURONIOUtils:PGN node_id\t  Hz\n"
          ]
        },
        {
          "output_type": "stream",
          "name": "stdout",
          "text": [
            "2023-05-12 22:17:47,073 [INFO] 70\t\t0.0\n"
          ]
        },
        {
          "output_type": "stream",
          "name": "stderr",
          "text": [
            "INFO:NEURONIOUtils:70\t\t0.0\n"
          ]
        },
        {
          "output_type": "stream",
          "name": "stdout",
          "text": [
            "2023-05-12 22:17:47,077 [INFO] 71\t\t0.0\n"
          ]
        },
        {
          "output_type": "stream",
          "name": "stderr",
          "text": [
            "INFO:NEURONIOUtils:71\t\t0.0\n"
          ]
        },
        {
          "output_type": "stream",
          "name": "stdout",
          "text": [
            "2023-05-12 22:17:47,078 [INFO] 72\t\t0.0\n"
          ]
        },
        {
          "output_type": "stream",
          "name": "stderr",
          "text": [
            "INFO:NEURONIOUtils:72\t\t0.0\n"
          ]
        },
        {
          "output_type": "stream",
          "name": "stdout",
          "text": [
            "2023-05-12 22:17:47,080 [INFO] 73\t\t0.0\n"
          ]
        },
        {
          "output_type": "stream",
          "name": "stderr",
          "text": [
            "INFO:NEURONIOUtils:73\t\t0.0\n"
          ]
        },
        {
          "output_type": "stream",
          "name": "stdout",
          "text": [
            "2023-05-12 22:17:47,082 [INFO] 74\t\t0.0\n"
          ]
        },
        {
          "output_type": "stream",
          "name": "stderr",
          "text": [
            "INFO:NEURONIOUtils:74\t\t0.0\n"
          ]
        },
        {
          "output_type": "stream",
          "name": "stdout",
          "text": [
            "2023-05-12 22:17:47,083 [INFO] 75\t\t0.0\n"
          ]
        },
        {
          "output_type": "stream",
          "name": "stderr",
          "text": [
            "INFO:NEURONIOUtils:75\t\t0.0\n"
          ]
        },
        {
          "output_type": "stream",
          "name": "stdout",
          "text": [
            "2023-05-12 22:17:47,085 [INFO] 76\t\t0.0\n"
          ]
        },
        {
          "output_type": "stream",
          "name": "stderr",
          "text": [
            "INFO:NEURONIOUtils:76\t\t0.0\n"
          ]
        },
        {
          "output_type": "stream",
          "name": "stdout",
          "text": [
            "2023-05-12 22:17:47,087 [INFO] 77\t\t0.0\n"
          ]
        },
        {
          "output_type": "stream",
          "name": "stderr",
          "text": [
            "INFO:NEURONIOUtils:77\t\t0.0\n"
          ]
        },
        {
          "output_type": "stream",
          "name": "stdout",
          "text": [
            "2023-05-12 22:17:47,089 [INFO] 78\t\t0.0\n"
          ]
        },
        {
          "output_type": "stream",
          "name": "stderr",
          "text": [
            "INFO:NEURONIOUtils:78\t\t0.0\n"
          ]
        },
        {
          "output_type": "stream",
          "name": "stdout",
          "text": [
            "2023-05-12 22:17:47,090 [INFO] 79\t\t0.0\n"
          ]
        },
        {
          "output_type": "stream",
          "name": "stderr",
          "text": [
            "INFO:NEURONIOUtils:79\t\t0.0\n"
          ]
        },
        {
          "output_type": "stream",
          "name": "stdout",
          "text": [
            "2023-05-12 22:17:47,092 [INFO] PGN firing rate avg: 0.0 Hz\n"
          ]
        },
        {
          "output_type": "stream",
          "name": "stderr",
          "text": [
            "INFO:NEURONIOUtils:PGN firing rate avg: 0.0 Hz\n"
          ]
        },
        {
          "output_type": "stream",
          "name": "stdout",
          "text": [
            "2023-05-12 22:17:47,094 [INFO] Grill PGN fr = 0.0 Hz\n"
          ]
        },
        {
          "output_type": "stream",
          "name": "stderr",
          "text": [
            "INFO:NEURONIOUtils:Grill PGN fr = 0.0 Hz\n"
          ]
        },
        {
          "output_type": "stream",
          "name": "stdout",
          "text": [
            "2023-05-12 22:17:47,096 [INFO] IMG node_gid\t  Hz\n"
          ]
        },
        {
          "output_type": "stream",
          "name": "stderr",
          "text": [
            "INFO:NEURONIOUtils:IMG node_gid\t  Hz\n"
          ]
        },
        {
          "output_type": "stream",
          "name": "stdout",
          "text": [
            "2023-05-12 22:17:47,098 [INFO] IMG firing rate avg: 0.0 Hz\n"
          ]
        },
        {
          "output_type": "stream",
          "name": "stderr",
          "text": [
            "INFO:NEURONIOUtils:IMG firing rate avg: 0.0 Hz\n"
          ]
        },
        {
          "output_type": "stream",
          "name": "stdout",
          "text": [
            "2023-05-12 22:17:47,107 [INFO] PGN firing rate = 0.00 Hz\n"
          ]
        },
        {
          "output_type": "stream",
          "name": "stderr",
          "text": [
            "/usr/local/lib/python3.10/dist-packages/bmtk/utils/reports/spike_trains/spike_trains.py:183: RuntimeWarning: divide by zero encountered in double_scalars\n",
            "  interval = -np.log(1.0 - np.random.uniform()) / fr\n",
            "INFO:NEURONIOUtils:PGN firing rate = 0.00 Hz\n"
          ]
        },
        {
          "output_type": "stream",
          "name": "stdout",
          "text": [
            "2023-05-12 22:17:47,115 [INFO] Volume = 22.9167 ml\n"
          ]
        },
        {
          "output_type": "stream",
          "name": "stderr",
          "text": [
            "INFO:NEURONIOUtils:Volume = 22.9167 ml\n"
          ]
        },
        {
          "output_type": "stream",
          "name": "stdout",
          "text": [
            "2023-05-12 22:17:47,117 [INFO] Pressure = 7.00 mmHg\n"
          ]
        },
        {
          "output_type": "stream",
          "name": "stderr",
          "text": [
            "INFO:NEURONIOUtils:Pressure = 7.00 mmHg\n"
          ]
        },
        {
          "output_type": "stream",
          "name": "stdout",
          "text": [
            "2023-05-12 22:17:47,119 [INFO] Calculated bladder afferent firing rate for the next time step = 0.00 Hz \n",
            " \n",
            "\n"
          ]
        },
        {
          "output_type": "stream",
          "name": "stderr",
          "text": [
            "INFO:NEURONIOUtils:Calculated bladder afferent firing rate for the next time step = 0.00 Hz \n",
            " \n",
            "\n"
          ]
        },
        {
          "output_type": "stream",
          "name": "stdout",
          "text": [
            "2023-05-12 22:17:48,146 [INFO]     step:60000 t_sim:12000.00 ms\n"
          ]
        },
        {
          "output_type": "stream",
          "name": "stderr",
          "text": [
            "INFO:NEURONIOUtils:    step:60000 t_sim:12000.00 ms\n"
          ]
        },
        {
          "output_type": "stream",
          "name": "stdout",
          "text": [
            "2023-05-12 22:17:48,155 [INFO] Timestep 11500.0 to 12000.0 ms\n"
          ]
        },
        {
          "output_type": "stream",
          "name": "stderr",
          "text": [
            "INFO:NEURONIOUtils:Timestep 11500.0 to 12000.0 ms\n"
          ]
        },
        {
          "output_type": "stream",
          "name": "stdout",
          "text": [
            "2023-05-12 22:17:48,159 [INFO] PGN node_id\t  Hz\n"
          ]
        },
        {
          "output_type": "stream",
          "name": "stderr",
          "text": [
            "INFO:NEURONIOUtils:PGN node_id\t  Hz\n"
          ]
        },
        {
          "output_type": "stream",
          "name": "stdout",
          "text": [
            "2023-05-12 22:17:48,163 [INFO] 70\t\t4.0\n"
          ]
        },
        {
          "output_type": "stream",
          "name": "stderr",
          "text": [
            "INFO:NEURONIOUtils:70\t\t4.0\n"
          ]
        },
        {
          "output_type": "stream",
          "name": "stdout",
          "text": [
            "2023-05-12 22:17:48,166 [INFO] 71\t\t4.0\n"
          ]
        },
        {
          "output_type": "stream",
          "name": "stderr",
          "text": [
            "INFO:NEURONIOUtils:71\t\t4.0\n"
          ]
        },
        {
          "output_type": "stream",
          "name": "stdout",
          "text": [
            "2023-05-12 22:17:48,169 [INFO] 72\t\t4.0\n"
          ]
        },
        {
          "output_type": "stream",
          "name": "stderr",
          "text": [
            "INFO:NEURONIOUtils:72\t\t4.0\n"
          ]
        },
        {
          "output_type": "stream",
          "name": "stdout",
          "text": [
            "2023-05-12 22:17:48,171 [INFO] 73\t\t4.0\n"
          ]
        },
        {
          "output_type": "stream",
          "name": "stderr",
          "text": [
            "INFO:NEURONIOUtils:73\t\t4.0\n"
          ]
        },
        {
          "output_type": "stream",
          "name": "stdout",
          "text": [
            "2023-05-12 22:17:48,173 [INFO] 74\t\t4.0\n"
          ]
        },
        {
          "output_type": "stream",
          "name": "stderr",
          "text": [
            "INFO:NEURONIOUtils:74\t\t4.0\n"
          ]
        },
        {
          "output_type": "stream",
          "name": "stdout",
          "text": [
            "2023-05-12 22:17:48,175 [INFO] 75\t\t4.0\n"
          ]
        },
        {
          "output_type": "stream",
          "name": "stderr",
          "text": [
            "INFO:NEURONIOUtils:75\t\t4.0\n"
          ]
        },
        {
          "output_type": "stream",
          "name": "stdout",
          "text": [
            "2023-05-12 22:17:48,177 [INFO] 76\t\t4.0\n"
          ]
        },
        {
          "output_type": "stream",
          "name": "stderr",
          "text": [
            "INFO:NEURONIOUtils:76\t\t4.0\n"
          ]
        },
        {
          "output_type": "stream",
          "name": "stdout",
          "text": [
            "2023-05-12 22:17:48,179 [INFO] 77\t\t4.0\n"
          ]
        },
        {
          "output_type": "stream",
          "name": "stderr",
          "text": [
            "INFO:NEURONIOUtils:77\t\t4.0\n"
          ]
        },
        {
          "output_type": "stream",
          "name": "stdout",
          "text": [
            "2023-05-12 22:17:48,181 [INFO] 78\t\t4.0\n"
          ]
        },
        {
          "output_type": "stream",
          "name": "stderr",
          "text": [
            "INFO:NEURONIOUtils:78\t\t4.0\n"
          ]
        },
        {
          "output_type": "stream",
          "name": "stdout",
          "text": [
            "2023-05-12 22:17:48,183 [INFO] 79\t\t4.0\n"
          ]
        },
        {
          "output_type": "stream",
          "name": "stderr",
          "text": [
            "INFO:NEURONIOUtils:79\t\t4.0\n"
          ]
        },
        {
          "output_type": "stream",
          "name": "stdout",
          "text": [
            "2023-05-12 22:17:48,185 [INFO] PGN firing rate avg: 4.0 Hz\n"
          ]
        },
        {
          "output_type": "stream",
          "name": "stderr",
          "text": [
            "INFO:NEURONIOUtils:PGN firing rate avg: 4.0 Hz\n"
          ]
        },
        {
          "output_type": "stream",
          "name": "stdout",
          "text": [
            "2023-05-12 22:17:48,186 [INFO] Grill PGN fr = 3.15 Hz\n"
          ]
        },
        {
          "output_type": "stream",
          "name": "stderr",
          "text": [
            "INFO:NEURONIOUtils:Grill PGN fr = 3.15 Hz\n"
          ]
        },
        {
          "output_type": "stream",
          "name": "stdout",
          "text": [
            "2023-05-12 22:17:48,188 [INFO] IMG node_gid\t  Hz\n"
          ]
        },
        {
          "output_type": "stream",
          "name": "stderr",
          "text": [
            "INFO:NEURONIOUtils:IMG node_gid\t  Hz\n"
          ]
        },
        {
          "output_type": "stream",
          "name": "stdout",
          "text": [
            "2023-05-12 22:17:48,189 [INFO] IMG firing rate avg: 4.0 Hz\n"
          ]
        },
        {
          "output_type": "stream",
          "name": "stderr",
          "text": [
            "INFO:NEURONIOUtils:IMG firing rate avg: 4.0 Hz\n"
          ]
        },
        {
          "output_type": "stream",
          "name": "stdout",
          "text": [
            "2023-05-12 22:17:48,197 [INFO] PGN firing rate = 4.00 Hz\n"
          ]
        },
        {
          "output_type": "stream",
          "name": "stderr",
          "text": [
            "/usr/local/lib/python3.10/dist-packages/bmtk/utils/reports/spike_trains/spike_trains.py:183: RuntimeWarning: divide by zero encountered in double_scalars\n",
            "  interval = -np.log(1.0 - np.random.uniform()) / fr\n",
            "INFO:NEURONIOUtils:PGN firing rate = 4.00 Hz\n"
          ]
        },
        {
          "output_type": "stream",
          "name": "stdout",
          "text": [
            "2023-05-12 22:17:48,207 [INFO] Volume = 23.9583 ml\n"
          ]
        },
        {
          "output_type": "stream",
          "name": "stderr",
          "text": [
            "INFO:NEURONIOUtils:Volume = 23.9583 ml\n"
          ]
        },
        {
          "output_type": "stream",
          "name": "stdout",
          "text": [
            "2023-05-12 22:17:48,210 [INFO] Pressure = 7.79 mmHg\n"
          ]
        },
        {
          "output_type": "stream",
          "name": "stderr",
          "text": [
            "INFO:NEURONIOUtils:Pressure = 7.79 mmHg\n"
          ]
        },
        {
          "output_type": "stream",
          "name": "stdout",
          "text": [
            "2023-05-12 22:17:48,212 [INFO] Calculated bladder afferent firing rate for the next time step = 0.00 Hz \n",
            " \n",
            "\n"
          ]
        },
        {
          "output_type": "stream",
          "name": "stderr",
          "text": [
            "INFO:NEURONIOUtils:Calculated bladder afferent firing rate for the next time step = 0.00 Hz \n",
            " \n",
            "\n"
          ]
        },
        {
          "output_type": "stream",
          "name": "stdout",
          "text": [
            "2023-05-12 22:17:49,256 [INFO]     step:62500 t_sim:12500.00 ms\n"
          ]
        },
        {
          "output_type": "stream",
          "name": "stderr",
          "text": [
            "INFO:NEURONIOUtils:    step:62500 t_sim:12500.00 ms\n"
          ]
        },
        {
          "output_type": "stream",
          "name": "stdout",
          "text": [
            "2023-05-12 22:17:49,275 [INFO] Timestep 12000.0 to 12500.0 ms\n"
          ]
        },
        {
          "output_type": "stream",
          "name": "stderr",
          "text": [
            "INFO:NEURONIOUtils:Timestep 12000.0 to 12500.0 ms\n"
          ]
        },
        {
          "output_type": "stream",
          "name": "stdout",
          "text": [
            "2023-05-12 22:17:49,282 [INFO] PGN node_id\t  Hz\n"
          ]
        },
        {
          "output_type": "stream",
          "name": "stderr",
          "text": [
            "INFO:NEURONIOUtils:PGN node_id\t  Hz\n"
          ]
        },
        {
          "output_type": "stream",
          "name": "stdout",
          "text": [
            "2023-05-12 22:17:49,289 [INFO] 70\t\t4.0\n"
          ]
        },
        {
          "output_type": "stream",
          "name": "stderr",
          "text": [
            "INFO:NEURONIOUtils:70\t\t4.0\n"
          ]
        },
        {
          "output_type": "stream",
          "name": "stdout",
          "text": [
            "2023-05-12 22:17:49,295 [INFO] 71\t\t4.0\n"
          ]
        },
        {
          "output_type": "stream",
          "name": "stderr",
          "text": [
            "INFO:NEURONIOUtils:71\t\t4.0\n"
          ]
        },
        {
          "output_type": "stream",
          "name": "stdout",
          "text": [
            "2023-05-12 22:17:49,297 [INFO] 72\t\t4.0\n"
          ]
        },
        {
          "output_type": "stream",
          "name": "stderr",
          "text": [
            "INFO:NEURONIOUtils:72\t\t4.0\n"
          ]
        },
        {
          "output_type": "stream",
          "name": "stdout",
          "text": [
            "2023-05-12 22:17:49,299 [INFO] 73\t\t4.0\n"
          ]
        },
        {
          "output_type": "stream",
          "name": "stderr",
          "text": [
            "INFO:NEURONIOUtils:73\t\t4.0\n"
          ]
        },
        {
          "output_type": "stream",
          "name": "stdout",
          "text": [
            "2023-05-12 22:17:49,304 [INFO] 74\t\t4.0\n"
          ]
        },
        {
          "output_type": "stream",
          "name": "stderr",
          "text": [
            "INFO:NEURONIOUtils:74\t\t4.0\n"
          ]
        },
        {
          "output_type": "stream",
          "name": "stdout",
          "text": [
            "2023-05-12 22:17:49,306 [INFO] 75\t\t4.0\n"
          ]
        },
        {
          "output_type": "stream",
          "name": "stderr",
          "text": [
            "INFO:NEURONIOUtils:75\t\t4.0\n"
          ]
        },
        {
          "output_type": "stream",
          "name": "stdout",
          "text": [
            "2023-05-12 22:17:49,308 [INFO] 76\t\t4.0\n"
          ]
        },
        {
          "output_type": "stream",
          "name": "stderr",
          "text": [
            "INFO:NEURONIOUtils:76\t\t4.0\n"
          ]
        },
        {
          "output_type": "stream",
          "name": "stdout",
          "text": [
            "2023-05-12 22:17:49,309 [INFO] 77\t\t4.0\n"
          ]
        },
        {
          "output_type": "stream",
          "name": "stderr",
          "text": [
            "INFO:NEURONIOUtils:77\t\t4.0\n"
          ]
        },
        {
          "output_type": "stream",
          "name": "stdout",
          "text": [
            "2023-05-12 22:17:49,315 [INFO] 78\t\t4.0\n"
          ]
        },
        {
          "output_type": "stream",
          "name": "stderr",
          "text": [
            "INFO:NEURONIOUtils:78\t\t4.0\n"
          ]
        },
        {
          "output_type": "stream",
          "name": "stdout",
          "text": [
            "2023-05-12 22:17:49,317 [INFO] 79\t\t4.0\n"
          ]
        },
        {
          "output_type": "stream",
          "name": "stderr",
          "text": [
            "INFO:NEURONIOUtils:79\t\t4.0\n"
          ]
        },
        {
          "output_type": "stream",
          "name": "stdout",
          "text": [
            "2023-05-12 22:17:49,318 [INFO] PGN firing rate avg: 4.0 Hz\n"
          ]
        },
        {
          "output_type": "stream",
          "name": "stderr",
          "text": [
            "INFO:NEURONIOUtils:PGN firing rate avg: 4.0 Hz\n"
          ]
        },
        {
          "output_type": "stream",
          "name": "stdout",
          "text": [
            "2023-05-12 22:17:49,320 [INFO] Grill PGN fr = 3.15 Hz\n"
          ]
        },
        {
          "output_type": "stream",
          "name": "stderr",
          "text": [
            "INFO:NEURONIOUtils:Grill PGN fr = 3.15 Hz\n"
          ]
        },
        {
          "output_type": "stream",
          "name": "stdout",
          "text": [
            "2023-05-12 22:17:49,322 [INFO] IMG node_gid\t  Hz\n"
          ]
        },
        {
          "output_type": "stream",
          "name": "stderr",
          "text": [
            "INFO:NEURONIOUtils:IMG node_gid\t  Hz\n"
          ]
        },
        {
          "output_type": "stream",
          "name": "stdout",
          "text": [
            "2023-05-12 22:17:49,324 [INFO] IMG firing rate avg: 4.0 Hz\n"
          ]
        },
        {
          "output_type": "stream",
          "name": "stderr",
          "text": [
            "INFO:NEURONIOUtils:IMG firing rate avg: 4.0 Hz\n"
          ]
        },
        {
          "output_type": "stream",
          "name": "stdout",
          "text": [
            "2023-05-12 22:17:49,332 [INFO] PGN firing rate = 4.00 Hz\n"
          ]
        },
        {
          "output_type": "stream",
          "name": "stderr",
          "text": [
            "/usr/local/lib/python3.10/dist-packages/bmtk/utils/reports/spike_trains/spike_trains.py:183: RuntimeWarning: divide by zero encountered in double_scalars\n",
            "  interval = -np.log(1.0 - np.random.uniform()) / fr\n",
            "INFO:NEURONIOUtils:PGN firing rate = 4.00 Hz\n"
          ]
        },
        {
          "output_type": "stream",
          "name": "stdout",
          "text": [
            "2023-05-12 22:17:49,337 [INFO] Volume = 25.0000 ml\n"
          ]
        },
        {
          "output_type": "stream",
          "name": "stderr",
          "text": [
            "INFO:NEURONIOUtils:Volume = 25.0000 ml\n"
          ]
        },
        {
          "output_type": "stream",
          "name": "stdout",
          "text": [
            "2023-05-12 22:17:49,339 [INFO] Pressure = 7.79 mmHg\n"
          ]
        },
        {
          "output_type": "stream",
          "name": "stderr",
          "text": [
            "INFO:NEURONIOUtils:Pressure = 7.79 mmHg\n"
          ]
        },
        {
          "output_type": "stream",
          "name": "stdout",
          "text": [
            "2023-05-12 22:17:49,341 [INFO] Calculated bladder afferent firing rate for the next time step = 0.00 Hz \n",
            " \n",
            "\n"
          ]
        },
        {
          "output_type": "stream",
          "name": "stderr",
          "text": [
            "INFO:NEURONIOUtils:Calculated bladder afferent firing rate for the next time step = 0.00 Hz \n",
            " \n",
            "\n"
          ]
        },
        {
          "output_type": "stream",
          "name": "stdout",
          "text": [
            "2023-05-12 22:17:50,467 [INFO]     step:65000 t_sim:13000.00 ms\n"
          ]
        },
        {
          "output_type": "stream",
          "name": "stderr",
          "text": [
            "INFO:NEURONIOUtils:    step:65000 t_sim:13000.00 ms\n"
          ]
        },
        {
          "output_type": "stream",
          "name": "stdout",
          "text": [
            "2023-05-12 22:17:50,480 [INFO] Timestep 12500.0 to 13000.0 ms\n"
          ]
        },
        {
          "output_type": "stream",
          "name": "stderr",
          "text": [
            "INFO:NEURONIOUtils:Timestep 12500.0 to 13000.0 ms\n"
          ]
        },
        {
          "output_type": "stream",
          "name": "stdout",
          "text": [
            "2023-05-12 22:17:50,486 [INFO] PGN node_id\t  Hz\n"
          ]
        },
        {
          "output_type": "stream",
          "name": "stderr",
          "text": [
            "INFO:NEURONIOUtils:PGN node_id\t  Hz\n"
          ]
        },
        {
          "output_type": "stream",
          "name": "stdout",
          "text": [
            "2023-05-12 22:17:50,490 [INFO] 70\t\t6.0\n"
          ]
        },
        {
          "output_type": "stream",
          "name": "stderr",
          "text": [
            "INFO:NEURONIOUtils:70\t\t6.0\n"
          ]
        },
        {
          "output_type": "stream",
          "name": "stdout",
          "text": [
            "2023-05-12 22:17:50,503 [INFO] 71\t\t6.0\n"
          ]
        },
        {
          "output_type": "stream",
          "name": "stderr",
          "text": [
            "INFO:NEURONIOUtils:71\t\t6.0\n"
          ]
        },
        {
          "output_type": "stream",
          "name": "stdout",
          "text": [
            "2023-05-12 22:17:50,507 [INFO] 72\t\t6.0\n"
          ]
        },
        {
          "output_type": "stream",
          "name": "stderr",
          "text": [
            "INFO:NEURONIOUtils:72\t\t6.0\n"
          ]
        },
        {
          "output_type": "stream",
          "name": "stdout",
          "text": [
            "2023-05-12 22:17:50,513 [INFO] 73\t\t6.0\n"
          ]
        },
        {
          "output_type": "stream",
          "name": "stderr",
          "text": [
            "INFO:NEURONIOUtils:73\t\t6.0\n"
          ]
        },
        {
          "output_type": "stream",
          "name": "stdout",
          "text": [
            "2023-05-12 22:17:50,517 [INFO] 74\t\t6.0\n"
          ]
        },
        {
          "output_type": "stream",
          "name": "stderr",
          "text": [
            "INFO:NEURONIOUtils:74\t\t6.0\n"
          ]
        },
        {
          "output_type": "stream",
          "name": "stdout",
          "text": [
            "2023-05-12 22:17:50,521 [INFO] 75\t\t6.0\n"
          ]
        },
        {
          "output_type": "stream",
          "name": "stderr",
          "text": [
            "INFO:NEURONIOUtils:75\t\t6.0\n"
          ]
        },
        {
          "output_type": "stream",
          "name": "stdout",
          "text": [
            "2023-05-12 22:17:50,529 [INFO] 76\t\t6.0\n"
          ]
        },
        {
          "output_type": "stream",
          "name": "stderr",
          "text": [
            "INFO:NEURONIOUtils:76\t\t6.0\n"
          ]
        },
        {
          "output_type": "stream",
          "name": "stdout",
          "text": [
            "2023-05-12 22:17:50,542 [INFO] 77\t\t6.0\n"
          ]
        },
        {
          "output_type": "stream",
          "name": "stderr",
          "text": [
            "INFO:NEURONIOUtils:77\t\t6.0\n"
          ]
        },
        {
          "output_type": "stream",
          "name": "stdout",
          "text": [
            "2023-05-12 22:17:50,546 [INFO] 78\t\t6.0\n"
          ]
        },
        {
          "output_type": "stream",
          "name": "stderr",
          "text": [
            "INFO:NEURONIOUtils:78\t\t6.0\n"
          ]
        },
        {
          "output_type": "stream",
          "name": "stdout",
          "text": [
            "2023-05-12 22:17:50,556 [INFO] 79\t\t6.0\n"
          ]
        },
        {
          "output_type": "stream",
          "name": "stderr",
          "text": [
            "INFO:NEURONIOUtils:79\t\t6.0\n"
          ]
        },
        {
          "output_type": "stream",
          "name": "stdout",
          "text": [
            "2023-05-12 22:17:50,559 [INFO] PGN firing rate avg: 6.0 Hz\n"
          ]
        },
        {
          "output_type": "stream",
          "name": "stderr",
          "text": [
            "INFO:NEURONIOUtils:PGN firing rate avg: 6.0 Hz\n"
          ]
        },
        {
          "output_type": "stream",
          "name": "stdout",
          "text": [
            "2023-05-12 22:17:50,562 [INFO] Grill PGN fr = 4.772 Hz\n"
          ]
        },
        {
          "output_type": "stream",
          "name": "stderr",
          "text": [
            "INFO:NEURONIOUtils:Grill PGN fr = 4.772 Hz\n"
          ]
        },
        {
          "output_type": "stream",
          "name": "stdout",
          "text": [
            "2023-05-12 22:17:50,565 [INFO] IMG node_gid\t  Hz\n"
          ]
        },
        {
          "output_type": "stream",
          "name": "stderr",
          "text": [
            "INFO:NEURONIOUtils:IMG node_gid\t  Hz\n"
          ]
        },
        {
          "output_type": "stream",
          "name": "stdout",
          "text": [
            "2023-05-12 22:17:50,567 [INFO] IMG firing rate avg: 6.0 Hz\n"
          ]
        },
        {
          "output_type": "stream",
          "name": "stderr",
          "text": [
            "INFO:NEURONIOUtils:IMG firing rate avg: 6.0 Hz\n"
          ]
        },
        {
          "output_type": "stream",
          "name": "stdout",
          "text": [
            "2023-05-12 22:17:50,576 [INFO] PGN firing rate = 6.00 Hz\n"
          ]
        },
        {
          "output_type": "stream",
          "name": "stderr",
          "text": [
            "/usr/local/lib/python3.10/dist-packages/bmtk/utils/reports/spike_trains/spike_trains.py:183: RuntimeWarning: divide by zero encountered in double_scalars\n",
            "  interval = -np.log(1.0 - np.random.uniform()) / fr\n",
            "INFO:NEURONIOUtils:PGN firing rate = 6.00 Hz\n"
          ]
        },
        {
          "output_type": "stream",
          "name": "stdout",
          "text": [
            "2023-05-12 22:17:50,582 [INFO] Volume = 26.0417 ml\n"
          ]
        },
        {
          "output_type": "stream",
          "name": "stderr",
          "text": [
            "INFO:NEURONIOUtils:Volume = 26.0417 ml\n"
          ]
        },
        {
          "output_type": "stream",
          "name": "stdout",
          "text": [
            "2023-05-12 22:17:50,584 [INFO] Pressure = 8.19 mmHg\n"
          ]
        },
        {
          "output_type": "stream",
          "name": "stderr",
          "text": [
            "INFO:NEURONIOUtils:Pressure = 8.19 mmHg\n"
          ]
        },
        {
          "output_type": "stream",
          "name": "stdout",
          "text": [
            "2023-05-12 22:17:50,586 [INFO] Calculated bladder afferent firing rate for the next time step = 0.00 Hz \n",
            " \n",
            "\n"
          ]
        },
        {
          "output_type": "stream",
          "name": "stderr",
          "text": [
            "INFO:NEURONIOUtils:Calculated bladder afferent firing rate for the next time step = 0.00 Hz \n",
            " \n",
            "\n"
          ]
        },
        {
          "output_type": "stream",
          "name": "stdout",
          "text": [
            "2023-05-12 22:17:51,598 [INFO]     step:67500 t_sim:13500.00 ms\n"
          ]
        },
        {
          "output_type": "stream",
          "name": "stderr",
          "text": [
            "INFO:NEURONIOUtils:    step:67500 t_sim:13500.00 ms\n"
          ]
        },
        {
          "output_type": "stream",
          "name": "stdout",
          "text": [
            "2023-05-12 22:17:51,608 [INFO] Timestep 13000.0 to 13500.0 ms\n"
          ]
        },
        {
          "output_type": "stream",
          "name": "stderr",
          "text": [
            "INFO:NEURONIOUtils:Timestep 13000.0 to 13500.0 ms\n"
          ]
        },
        {
          "output_type": "stream",
          "name": "stdout",
          "text": [
            "2023-05-12 22:17:51,611 [INFO] PGN node_id\t  Hz\n"
          ]
        },
        {
          "output_type": "stream",
          "name": "stderr",
          "text": [
            "INFO:NEURONIOUtils:PGN node_id\t  Hz\n"
          ]
        },
        {
          "output_type": "stream",
          "name": "stdout",
          "text": [
            "2023-05-12 22:17:51,615 [INFO] 70\t\t2.0\n"
          ]
        },
        {
          "output_type": "stream",
          "name": "stderr",
          "text": [
            "INFO:NEURONIOUtils:70\t\t2.0\n"
          ]
        },
        {
          "output_type": "stream",
          "name": "stdout",
          "text": [
            "2023-05-12 22:17:51,618 [INFO] 71\t\t2.0\n"
          ]
        },
        {
          "output_type": "stream",
          "name": "stderr",
          "text": [
            "INFO:NEURONIOUtils:71\t\t2.0\n"
          ]
        },
        {
          "output_type": "stream",
          "name": "stdout",
          "text": [
            "2023-05-12 22:17:51,620 [INFO] 72\t\t2.0\n"
          ]
        },
        {
          "output_type": "stream",
          "name": "stderr",
          "text": [
            "INFO:NEURONIOUtils:72\t\t2.0\n"
          ]
        },
        {
          "output_type": "stream",
          "name": "stdout",
          "text": [
            "2023-05-12 22:17:51,622 [INFO] 73\t\t2.0\n"
          ]
        },
        {
          "output_type": "stream",
          "name": "stderr",
          "text": [
            "INFO:NEURONIOUtils:73\t\t2.0\n"
          ]
        },
        {
          "output_type": "stream",
          "name": "stdout",
          "text": [
            "2023-05-12 22:17:51,624 [INFO] 74\t\t2.0\n"
          ]
        },
        {
          "output_type": "stream",
          "name": "stderr",
          "text": [
            "INFO:NEURONIOUtils:74\t\t2.0\n"
          ]
        },
        {
          "output_type": "stream",
          "name": "stdout",
          "text": [
            "2023-05-12 22:17:51,627 [INFO] 75\t\t2.0\n"
          ]
        },
        {
          "output_type": "stream",
          "name": "stderr",
          "text": [
            "INFO:NEURONIOUtils:75\t\t2.0\n"
          ]
        },
        {
          "output_type": "stream",
          "name": "stdout",
          "text": [
            "2023-05-12 22:17:51,629 [INFO] 76\t\t2.0\n"
          ]
        },
        {
          "output_type": "stream",
          "name": "stderr",
          "text": [
            "INFO:NEURONIOUtils:76\t\t2.0\n"
          ]
        },
        {
          "output_type": "stream",
          "name": "stdout",
          "text": [
            "2023-05-12 22:17:51,631 [INFO] 77\t\t2.0\n"
          ]
        },
        {
          "output_type": "stream",
          "name": "stderr",
          "text": [
            "INFO:NEURONIOUtils:77\t\t2.0\n"
          ]
        },
        {
          "output_type": "stream",
          "name": "stdout",
          "text": [
            "2023-05-12 22:17:51,633 [INFO] 78\t\t2.0\n"
          ]
        },
        {
          "output_type": "stream",
          "name": "stderr",
          "text": [
            "INFO:NEURONIOUtils:78\t\t2.0\n"
          ]
        },
        {
          "output_type": "stream",
          "name": "stdout",
          "text": [
            "2023-05-12 22:17:51,635 [INFO] 79\t\t2.0\n"
          ]
        },
        {
          "output_type": "stream",
          "name": "stderr",
          "text": [
            "INFO:NEURONIOUtils:79\t\t2.0\n"
          ]
        },
        {
          "output_type": "stream",
          "name": "stdout",
          "text": [
            "2023-05-12 22:17:51,637 [INFO] PGN firing rate avg: 2.0 Hz\n"
          ]
        },
        {
          "output_type": "stream",
          "name": "stderr",
          "text": [
            "INFO:NEURONIOUtils:PGN firing rate avg: 2.0 Hz\n"
          ]
        },
        {
          "output_type": "stream",
          "name": "stdout",
          "text": [
            "2023-05-12 22:17:51,640 [INFO] Grill PGN fr = 1.492 Hz\n"
          ]
        },
        {
          "output_type": "stream",
          "name": "stderr",
          "text": [
            "INFO:NEURONIOUtils:Grill PGN fr = 1.492 Hz\n"
          ]
        },
        {
          "output_type": "stream",
          "name": "stdout",
          "text": [
            "2023-05-12 22:17:51,643 [INFO] IMG node_gid\t  Hz\n"
          ]
        },
        {
          "output_type": "stream",
          "name": "stderr",
          "text": [
            "INFO:NEURONIOUtils:IMG node_gid\t  Hz\n"
          ]
        },
        {
          "output_type": "stream",
          "name": "stdout",
          "text": [
            "2023-05-12 22:17:51,646 [INFO] IMG firing rate avg: 2.0 Hz\n"
          ]
        },
        {
          "output_type": "stream",
          "name": "stderr",
          "text": [
            "INFO:NEURONIOUtils:IMG firing rate avg: 2.0 Hz\n"
          ]
        },
        {
          "output_type": "stream",
          "name": "stdout",
          "text": [
            "2023-05-12 22:17:51,653 [INFO] PGN firing rate = 2.00 Hz\n"
          ]
        },
        {
          "output_type": "stream",
          "name": "stderr",
          "text": [
            "/usr/local/lib/python3.10/dist-packages/bmtk/utils/reports/spike_trains/spike_trains.py:183: RuntimeWarning: divide by zero encountered in double_scalars\n",
            "  interval = -np.log(1.0 - np.random.uniform()) / fr\n",
            "INFO:NEURONIOUtils:PGN firing rate = 2.00 Hz\n"
          ]
        },
        {
          "output_type": "stream",
          "name": "stdout",
          "text": [
            "2023-05-12 22:17:51,655 [INFO] Volume = 27.0833 ml\n"
          ]
        },
        {
          "output_type": "stream",
          "name": "stderr",
          "text": [
            "INFO:NEURONIOUtils:Volume = 27.0833 ml\n"
          ]
        },
        {
          "output_type": "stream",
          "name": "stdout",
          "text": [
            "2023-05-12 22:17:51,657 [INFO] Pressure = 7.37 mmHg\n"
          ]
        },
        {
          "output_type": "stream",
          "name": "stderr",
          "text": [
            "INFO:NEURONIOUtils:Pressure = 7.37 mmHg\n"
          ]
        },
        {
          "output_type": "stream",
          "name": "stdout",
          "text": [
            "2023-05-12 22:17:51,659 [INFO] Calculated bladder afferent firing rate for the next time step = 0.00 Hz \n",
            " \n",
            "\n"
          ]
        },
        {
          "output_type": "stream",
          "name": "stderr",
          "text": [
            "INFO:NEURONIOUtils:Calculated bladder afferent firing rate for the next time step = 0.00 Hz \n",
            " \n",
            "\n"
          ]
        },
        {
          "output_type": "stream",
          "name": "stdout",
          "text": [
            "2023-05-12 22:17:52,836 [INFO]     step:70000 t_sim:14000.00 ms\n"
          ]
        },
        {
          "output_type": "stream",
          "name": "stderr",
          "text": [
            "INFO:NEURONIOUtils:    step:70000 t_sim:14000.00 ms\n"
          ]
        },
        {
          "output_type": "stream",
          "name": "stdout",
          "text": [
            "2023-05-12 22:17:52,846 [INFO] Timestep 13500.0 to 14000.0 ms\n"
          ]
        },
        {
          "output_type": "stream",
          "name": "stderr",
          "text": [
            "INFO:NEURONIOUtils:Timestep 13500.0 to 14000.0 ms\n"
          ]
        },
        {
          "output_type": "stream",
          "name": "stdout",
          "text": [
            "2023-05-12 22:17:52,850 [INFO] PGN node_id\t  Hz\n"
          ]
        },
        {
          "output_type": "stream",
          "name": "stderr",
          "text": [
            "INFO:NEURONIOUtils:PGN node_id\t  Hz\n"
          ]
        },
        {
          "output_type": "stream",
          "name": "stdout",
          "text": [
            "2023-05-12 22:17:52,853 [INFO] 70\t\t6.0\n"
          ]
        },
        {
          "output_type": "stream",
          "name": "stderr",
          "text": [
            "INFO:NEURONIOUtils:70\t\t6.0\n"
          ]
        },
        {
          "output_type": "stream",
          "name": "stdout",
          "text": [
            "2023-05-12 22:17:52,856 [INFO] 71\t\t6.0\n"
          ]
        },
        {
          "output_type": "stream",
          "name": "stderr",
          "text": [
            "INFO:NEURONIOUtils:71\t\t6.0\n"
          ]
        },
        {
          "output_type": "stream",
          "name": "stdout",
          "text": [
            "2023-05-12 22:17:52,858 [INFO] 72\t\t6.0\n"
          ]
        },
        {
          "output_type": "stream",
          "name": "stderr",
          "text": [
            "INFO:NEURONIOUtils:72\t\t6.0\n"
          ]
        },
        {
          "output_type": "stream",
          "name": "stdout",
          "text": [
            "2023-05-12 22:17:52,860 [INFO] 73\t\t6.0\n"
          ]
        },
        {
          "output_type": "stream",
          "name": "stderr",
          "text": [
            "INFO:NEURONIOUtils:73\t\t6.0\n"
          ]
        },
        {
          "output_type": "stream",
          "name": "stdout",
          "text": [
            "2023-05-12 22:17:52,861 [INFO] 74\t\t6.0\n"
          ]
        },
        {
          "output_type": "stream",
          "name": "stderr",
          "text": [
            "INFO:NEURONIOUtils:74\t\t6.0\n"
          ]
        },
        {
          "output_type": "stream",
          "name": "stdout",
          "text": [
            "2023-05-12 22:17:52,864 [INFO] 75\t\t6.0\n"
          ]
        },
        {
          "output_type": "stream",
          "name": "stderr",
          "text": [
            "INFO:NEURONIOUtils:75\t\t6.0\n"
          ]
        },
        {
          "output_type": "stream",
          "name": "stdout",
          "text": [
            "2023-05-12 22:17:52,866 [INFO] 76\t\t6.0\n"
          ]
        },
        {
          "output_type": "stream",
          "name": "stderr",
          "text": [
            "INFO:NEURONIOUtils:76\t\t6.0\n"
          ]
        },
        {
          "output_type": "stream",
          "name": "stdout",
          "text": [
            "2023-05-12 22:17:52,867 [INFO] 77\t\t6.0\n"
          ]
        },
        {
          "output_type": "stream",
          "name": "stderr",
          "text": [
            "INFO:NEURONIOUtils:77\t\t6.0\n"
          ]
        },
        {
          "output_type": "stream",
          "name": "stdout",
          "text": [
            "2023-05-12 22:17:52,869 [INFO] 78\t\t6.0\n"
          ]
        },
        {
          "output_type": "stream",
          "name": "stderr",
          "text": [
            "INFO:NEURONIOUtils:78\t\t6.0\n"
          ]
        },
        {
          "output_type": "stream",
          "name": "stdout",
          "text": [
            "2023-05-12 22:17:52,871 [INFO] 79\t\t6.0\n"
          ]
        },
        {
          "output_type": "stream",
          "name": "stderr",
          "text": [
            "INFO:NEURONIOUtils:79\t\t6.0\n"
          ]
        },
        {
          "output_type": "stream",
          "name": "stdout",
          "text": [
            "2023-05-12 22:17:52,874 [INFO] PGN firing rate avg: 6.0 Hz\n"
          ]
        },
        {
          "output_type": "stream",
          "name": "stderr",
          "text": [
            "INFO:NEURONIOUtils:PGN firing rate avg: 6.0 Hz\n"
          ]
        },
        {
          "output_type": "stream",
          "name": "stdout",
          "text": [
            "2023-05-12 22:17:52,876 [INFO] Grill PGN fr = 4.772 Hz\n"
          ]
        },
        {
          "output_type": "stream",
          "name": "stderr",
          "text": [
            "INFO:NEURONIOUtils:Grill PGN fr = 4.772 Hz\n"
          ]
        },
        {
          "output_type": "stream",
          "name": "stdout",
          "text": [
            "2023-05-12 22:17:52,878 [INFO] IMG node_gid\t  Hz\n"
          ]
        },
        {
          "output_type": "stream",
          "name": "stderr",
          "text": [
            "INFO:NEURONIOUtils:IMG node_gid\t  Hz\n"
          ]
        },
        {
          "output_type": "stream",
          "name": "stdout",
          "text": [
            "2023-05-12 22:17:52,880 [INFO] IMG firing rate avg: 6.0 Hz\n"
          ]
        },
        {
          "output_type": "stream",
          "name": "stderr",
          "text": [
            "INFO:NEURONIOUtils:IMG firing rate avg: 6.0 Hz\n"
          ]
        },
        {
          "output_type": "stream",
          "name": "stdout",
          "text": [
            "2023-05-12 22:17:52,889 [INFO] PGN firing rate = 6.00 Hz\n"
          ]
        },
        {
          "output_type": "stream",
          "name": "stderr",
          "text": [
            "/usr/local/lib/python3.10/dist-packages/bmtk/utils/reports/spike_trains/spike_trains.py:183: RuntimeWarning: divide by zero encountered in double_scalars\n",
            "  interval = -np.log(1.0 - np.random.uniform()) / fr\n",
            "INFO:NEURONIOUtils:PGN firing rate = 6.00 Hz\n"
          ]
        },
        {
          "output_type": "stream",
          "name": "stdout",
          "text": [
            "2023-05-12 22:17:52,892 [INFO] Volume = 28.1250 ml\n"
          ]
        },
        {
          "output_type": "stream",
          "name": "stderr",
          "text": [
            "INFO:NEURONIOUtils:Volume = 28.1250 ml\n"
          ]
        },
        {
          "output_type": "stream",
          "name": "stdout",
          "text": [
            "2023-05-12 22:17:52,895 [INFO] Pressure = 8.19 mmHg\n"
          ]
        },
        {
          "output_type": "stream",
          "name": "stderr",
          "text": [
            "INFO:NEURONIOUtils:Pressure = 8.19 mmHg\n"
          ]
        },
        {
          "output_type": "stream",
          "name": "stdout",
          "text": [
            "2023-05-12 22:17:52,897 [INFO] Calculated bladder afferent firing rate for the next time step = 0.00 Hz \n",
            " \n",
            "\n"
          ]
        },
        {
          "output_type": "stream",
          "name": "stderr",
          "text": [
            "INFO:NEURONIOUtils:Calculated bladder afferent firing rate for the next time step = 0.00 Hz \n",
            " \n",
            "\n"
          ]
        },
        {
          "output_type": "stream",
          "name": "stdout",
          "text": [
            "2023-05-12 22:17:53,962 [INFO]     step:72500 t_sim:14500.00 ms\n"
          ]
        },
        {
          "output_type": "stream",
          "name": "stderr",
          "text": [
            "INFO:NEURONIOUtils:    step:72500 t_sim:14500.00 ms\n"
          ]
        },
        {
          "output_type": "stream",
          "name": "stdout",
          "text": [
            "2023-05-12 22:17:53,971 [INFO] Timestep 14000.0 to 14500.0 ms\n"
          ]
        },
        {
          "output_type": "stream",
          "name": "stderr",
          "text": [
            "INFO:NEURONIOUtils:Timestep 14000.0 to 14500.0 ms\n"
          ]
        },
        {
          "output_type": "stream",
          "name": "stdout",
          "text": [
            "2023-05-12 22:17:53,975 [INFO] PGN node_id\t  Hz\n"
          ]
        },
        {
          "output_type": "stream",
          "name": "stderr",
          "text": [
            "INFO:NEURONIOUtils:PGN node_id\t  Hz\n"
          ]
        },
        {
          "output_type": "stream",
          "name": "stdout",
          "text": [
            "2023-05-12 22:17:53,979 [INFO] 70\t\t2.0\n"
          ]
        },
        {
          "output_type": "stream",
          "name": "stderr",
          "text": [
            "INFO:NEURONIOUtils:70\t\t2.0\n"
          ]
        },
        {
          "output_type": "stream",
          "name": "stdout",
          "text": [
            "2023-05-12 22:17:53,981 [INFO] 71\t\t2.0\n"
          ]
        },
        {
          "output_type": "stream",
          "name": "stderr",
          "text": [
            "INFO:NEURONIOUtils:71\t\t2.0\n"
          ]
        },
        {
          "output_type": "stream",
          "name": "stdout",
          "text": [
            "2023-05-12 22:17:53,983 [INFO] 72\t\t2.0\n"
          ]
        },
        {
          "output_type": "stream",
          "name": "stderr",
          "text": [
            "INFO:NEURONIOUtils:72\t\t2.0\n"
          ]
        },
        {
          "output_type": "stream",
          "name": "stdout",
          "text": [
            "2023-05-12 22:17:53,985 [INFO] 73\t\t2.0\n"
          ]
        },
        {
          "output_type": "stream",
          "name": "stderr",
          "text": [
            "INFO:NEURONIOUtils:73\t\t2.0\n"
          ]
        },
        {
          "output_type": "stream",
          "name": "stdout",
          "text": [
            "2023-05-12 22:17:53,987 [INFO] 74\t\t2.0\n"
          ]
        },
        {
          "output_type": "stream",
          "name": "stderr",
          "text": [
            "INFO:NEURONIOUtils:74\t\t2.0\n"
          ]
        },
        {
          "output_type": "stream",
          "name": "stdout",
          "text": [
            "2023-05-12 22:17:53,990 [INFO] 75\t\t2.0\n"
          ]
        },
        {
          "output_type": "stream",
          "name": "stderr",
          "text": [
            "INFO:NEURONIOUtils:75\t\t2.0\n"
          ]
        },
        {
          "output_type": "stream",
          "name": "stdout",
          "text": [
            "2023-05-12 22:17:53,992 [INFO] 76\t\t2.0\n"
          ]
        },
        {
          "output_type": "stream",
          "name": "stderr",
          "text": [
            "INFO:NEURONIOUtils:76\t\t2.0\n"
          ]
        },
        {
          "output_type": "stream",
          "name": "stdout",
          "text": [
            "2023-05-12 22:17:53,998 [INFO] 77\t\t2.0\n"
          ]
        },
        {
          "output_type": "stream",
          "name": "stderr",
          "text": [
            "INFO:NEURONIOUtils:77\t\t2.0\n"
          ]
        },
        {
          "output_type": "stream",
          "name": "stdout",
          "text": [
            "2023-05-12 22:17:53,999 [INFO] 78\t\t2.0\n"
          ]
        },
        {
          "output_type": "stream",
          "name": "stderr",
          "text": [
            "INFO:NEURONIOUtils:78\t\t2.0\n"
          ]
        },
        {
          "output_type": "stream",
          "name": "stdout",
          "text": [
            "2023-05-12 22:17:54,001 [INFO] 79\t\t2.0\n"
          ]
        },
        {
          "output_type": "stream",
          "name": "stderr",
          "text": [
            "INFO:NEURONIOUtils:79\t\t2.0\n"
          ]
        },
        {
          "output_type": "stream",
          "name": "stdout",
          "text": [
            "2023-05-12 22:17:54,006 [INFO] PGN firing rate avg: 2.0 Hz\n"
          ]
        },
        {
          "output_type": "stream",
          "name": "stderr",
          "text": [
            "INFO:NEURONIOUtils:PGN firing rate avg: 2.0 Hz\n"
          ]
        },
        {
          "output_type": "stream",
          "name": "stdout",
          "text": [
            "2023-05-12 22:17:54,007 [INFO] Grill PGN fr = 1.492 Hz\n"
          ]
        },
        {
          "output_type": "stream",
          "name": "stderr",
          "text": [
            "INFO:NEURONIOUtils:Grill PGN fr = 1.492 Hz\n"
          ]
        },
        {
          "output_type": "stream",
          "name": "stdout",
          "text": [
            "2023-05-12 22:17:54,009 [INFO] IMG node_gid\t  Hz\n"
          ]
        },
        {
          "output_type": "stream",
          "name": "stderr",
          "text": [
            "INFO:NEURONIOUtils:IMG node_gid\t  Hz\n"
          ]
        },
        {
          "output_type": "stream",
          "name": "stdout",
          "text": [
            "2023-05-12 22:17:54,015 [INFO] IMG firing rate avg: 2.0 Hz\n"
          ]
        },
        {
          "output_type": "stream",
          "name": "stderr",
          "text": [
            "INFO:NEURONIOUtils:IMG firing rate avg: 2.0 Hz\n"
          ]
        },
        {
          "output_type": "stream",
          "name": "stdout",
          "text": [
            "2023-05-12 22:17:54,063 [INFO] PGN firing rate = 2.00 Hz\n"
          ]
        },
        {
          "output_type": "stream",
          "name": "stderr",
          "text": [
            "/usr/local/lib/python3.10/dist-packages/bmtk/utils/reports/spike_trains/spike_trains.py:183: RuntimeWarning: divide by zero encountered in double_scalars\n",
            "  interval = -np.log(1.0 - np.random.uniform()) / fr\n",
            "INFO:NEURONIOUtils:PGN firing rate = 2.00 Hz\n"
          ]
        },
        {
          "output_type": "stream",
          "name": "stdout",
          "text": [
            "2023-05-12 22:17:54,066 [INFO] Volume = 29.1667 ml\n"
          ]
        },
        {
          "output_type": "stream",
          "name": "stderr",
          "text": [
            "INFO:NEURONIOUtils:Volume = 29.1667 ml\n"
          ]
        },
        {
          "output_type": "stream",
          "name": "stdout",
          "text": [
            "2023-05-12 22:17:54,068 [INFO] Pressure = 7.37 mmHg\n"
          ]
        },
        {
          "output_type": "stream",
          "name": "stderr",
          "text": [
            "INFO:NEURONIOUtils:Pressure = 7.37 mmHg\n"
          ]
        },
        {
          "output_type": "stream",
          "name": "stdout",
          "text": [
            "2023-05-12 22:17:54,070 [INFO] Calculated bladder afferent firing rate for the next time step = 0.00 Hz \n",
            " \n",
            "\n"
          ]
        },
        {
          "output_type": "stream",
          "name": "stderr",
          "text": [
            "INFO:NEURONIOUtils:Calculated bladder afferent firing rate for the next time step = 0.00 Hz \n",
            " \n",
            "\n"
          ]
        },
        {
          "output_type": "stream",
          "name": "stdout",
          "text": [
            "2023-05-12 22:17:55,101 [INFO]     step:75000 t_sim:15000.00 ms\n"
          ]
        },
        {
          "output_type": "stream",
          "name": "stderr",
          "text": [
            "INFO:NEURONIOUtils:    step:75000 t_sim:15000.00 ms\n"
          ]
        },
        {
          "output_type": "stream",
          "name": "stdout",
          "text": [
            "2023-05-12 22:17:55,110 [INFO] Timestep 14500.0 to 15000.0 ms\n"
          ]
        },
        {
          "output_type": "stream",
          "name": "stderr",
          "text": [
            "INFO:NEURONIOUtils:Timestep 14500.0 to 15000.0 ms\n"
          ]
        },
        {
          "output_type": "stream",
          "name": "stdout",
          "text": [
            "2023-05-12 22:17:55,114 [INFO] PGN node_id\t  Hz\n"
          ]
        },
        {
          "output_type": "stream",
          "name": "stderr",
          "text": [
            "INFO:NEURONIOUtils:PGN node_id\t  Hz\n"
          ]
        },
        {
          "output_type": "stream",
          "name": "stdout",
          "text": [
            "2023-05-12 22:17:55,118 [INFO] 70\t\t2.0\n"
          ]
        },
        {
          "output_type": "stream",
          "name": "stderr",
          "text": [
            "INFO:NEURONIOUtils:70\t\t2.0\n"
          ]
        },
        {
          "output_type": "stream",
          "name": "stdout",
          "text": [
            "2023-05-12 22:17:55,120 [INFO] 71\t\t2.0\n"
          ]
        },
        {
          "output_type": "stream",
          "name": "stderr",
          "text": [
            "INFO:NEURONIOUtils:71\t\t2.0\n"
          ]
        },
        {
          "output_type": "stream",
          "name": "stdout",
          "text": [
            "2023-05-12 22:17:55,123 [INFO] 72\t\t2.0\n"
          ]
        },
        {
          "output_type": "stream",
          "name": "stderr",
          "text": [
            "INFO:NEURONIOUtils:72\t\t2.0\n"
          ]
        },
        {
          "output_type": "stream",
          "name": "stdout",
          "text": [
            "2023-05-12 22:17:55,125 [INFO] 73\t\t2.0\n"
          ]
        },
        {
          "output_type": "stream",
          "name": "stderr",
          "text": [
            "INFO:NEURONIOUtils:73\t\t2.0\n"
          ]
        },
        {
          "output_type": "stream",
          "name": "stdout",
          "text": [
            "2023-05-12 22:17:55,127 [INFO] 74\t\t2.0\n"
          ]
        },
        {
          "output_type": "stream",
          "name": "stderr",
          "text": [
            "INFO:NEURONIOUtils:74\t\t2.0\n"
          ]
        },
        {
          "output_type": "stream",
          "name": "stdout",
          "text": [
            "2023-05-12 22:17:55,129 [INFO] 75\t\t2.0\n"
          ]
        },
        {
          "output_type": "stream",
          "name": "stderr",
          "text": [
            "INFO:NEURONIOUtils:75\t\t2.0\n"
          ]
        },
        {
          "output_type": "stream",
          "name": "stdout",
          "text": [
            "2023-05-12 22:17:55,131 [INFO] 76\t\t2.0\n"
          ]
        },
        {
          "output_type": "stream",
          "name": "stderr",
          "text": [
            "INFO:NEURONIOUtils:76\t\t2.0\n"
          ]
        },
        {
          "output_type": "stream",
          "name": "stdout",
          "text": [
            "2023-05-12 22:17:55,133 [INFO] 77\t\t2.0\n"
          ]
        },
        {
          "output_type": "stream",
          "name": "stderr",
          "text": [
            "INFO:NEURONIOUtils:77\t\t2.0\n"
          ]
        },
        {
          "output_type": "stream",
          "name": "stdout",
          "text": [
            "2023-05-12 22:17:55,134 [INFO] 78\t\t2.0\n"
          ]
        },
        {
          "output_type": "stream",
          "name": "stderr",
          "text": [
            "INFO:NEURONIOUtils:78\t\t2.0\n"
          ]
        },
        {
          "output_type": "stream",
          "name": "stdout",
          "text": [
            "2023-05-12 22:17:55,136 [INFO] 79\t\t2.0\n"
          ]
        },
        {
          "output_type": "stream",
          "name": "stderr",
          "text": [
            "INFO:NEURONIOUtils:79\t\t2.0\n"
          ]
        },
        {
          "output_type": "stream",
          "name": "stdout",
          "text": [
            "2023-05-12 22:17:55,138 [INFO] PGN firing rate avg: 2.0 Hz\n"
          ]
        },
        {
          "output_type": "stream",
          "name": "stderr",
          "text": [
            "INFO:NEURONIOUtils:PGN firing rate avg: 2.0 Hz\n"
          ]
        },
        {
          "output_type": "stream",
          "name": "stdout",
          "text": [
            "2023-05-12 22:17:55,140 [INFO] Grill PGN fr = 1.492 Hz\n"
          ]
        },
        {
          "output_type": "stream",
          "name": "stderr",
          "text": [
            "INFO:NEURONIOUtils:Grill PGN fr = 1.492 Hz\n"
          ]
        },
        {
          "output_type": "stream",
          "name": "stdout",
          "text": [
            "2023-05-12 22:17:55,142 [INFO] IMG node_gid\t  Hz\n"
          ]
        },
        {
          "output_type": "stream",
          "name": "stderr",
          "text": [
            "INFO:NEURONIOUtils:IMG node_gid\t  Hz\n"
          ]
        },
        {
          "output_type": "stream",
          "name": "stdout",
          "text": [
            "2023-05-12 22:17:55,144 [INFO] IMG firing rate avg: 2.0 Hz\n"
          ]
        },
        {
          "output_type": "stream",
          "name": "stderr",
          "text": [
            "INFO:NEURONIOUtils:IMG firing rate avg: 2.0 Hz\n"
          ]
        },
        {
          "output_type": "stream",
          "name": "stdout",
          "text": [
            "2023-05-12 22:17:55,155 [INFO] PGN firing rate = 2.00 Hz\n"
          ]
        },
        {
          "output_type": "stream",
          "name": "stderr",
          "text": [
            "/usr/local/lib/python3.10/dist-packages/bmtk/utils/reports/spike_trains/spike_trains.py:183: RuntimeWarning: divide by zero encountered in double_scalars\n",
            "  interval = -np.log(1.0 - np.random.uniform()) / fr\n",
            "INFO:NEURONIOUtils:PGN firing rate = 2.00 Hz\n"
          ]
        },
        {
          "output_type": "stream",
          "name": "stdout",
          "text": [
            "2023-05-12 22:17:55,160 [INFO] Volume = 30.2083 ml\n"
          ]
        },
        {
          "output_type": "stream",
          "name": "stderr",
          "text": [
            "INFO:NEURONIOUtils:Volume = 30.2083 ml\n"
          ]
        },
        {
          "output_type": "stream",
          "name": "stdout",
          "text": [
            "2023-05-12 22:17:55,163 [INFO] Pressure = 7.37 mmHg\n"
          ]
        },
        {
          "output_type": "stream",
          "name": "stderr",
          "text": [
            "INFO:NEURONIOUtils:Pressure = 7.37 mmHg\n"
          ]
        },
        {
          "output_type": "stream",
          "name": "stdout",
          "text": [
            "2023-05-12 22:17:55,165 [INFO] Calculated bladder afferent firing rate for the next time step = 0.00 Hz \n",
            " \n",
            "\n"
          ]
        },
        {
          "output_type": "stream",
          "name": "stderr",
          "text": [
            "INFO:NEURONIOUtils:Calculated bladder afferent firing rate for the next time step = 0.00 Hz \n",
            " \n",
            "\n"
          ]
        },
        {
          "output_type": "stream",
          "name": "stdout",
          "text": [
            "2023-05-12 22:17:56,257 [INFO]     step:77500 t_sim:15500.00 ms\n"
          ]
        },
        {
          "output_type": "stream",
          "name": "stderr",
          "text": [
            "INFO:NEURONIOUtils:    step:77500 t_sim:15500.00 ms\n"
          ]
        },
        {
          "output_type": "stream",
          "name": "stdout",
          "text": [
            "2023-05-12 22:17:56,268 [INFO] Timestep 15000.0 to 15500.0 ms\n"
          ]
        },
        {
          "output_type": "stream",
          "name": "stderr",
          "text": [
            "INFO:NEURONIOUtils:Timestep 15000.0 to 15500.0 ms\n"
          ]
        },
        {
          "output_type": "stream",
          "name": "stdout",
          "text": [
            "2023-05-12 22:17:56,280 [INFO] PGN node_id\t  Hz\n"
          ]
        },
        {
          "output_type": "stream",
          "name": "stderr",
          "text": [
            "INFO:NEURONIOUtils:PGN node_id\t  Hz\n"
          ]
        },
        {
          "output_type": "stream",
          "name": "stdout",
          "text": [
            "2023-05-12 22:17:56,283 [INFO] 70\t\t2.0\n"
          ]
        },
        {
          "output_type": "stream",
          "name": "stderr",
          "text": [
            "INFO:NEURONIOUtils:70\t\t2.0\n"
          ]
        },
        {
          "output_type": "stream",
          "name": "stdout",
          "text": [
            "2023-05-12 22:17:56,286 [INFO] 71\t\t2.0\n"
          ]
        },
        {
          "output_type": "stream",
          "name": "stderr",
          "text": [
            "INFO:NEURONIOUtils:71\t\t2.0\n"
          ]
        },
        {
          "output_type": "stream",
          "name": "stdout",
          "text": [
            "2023-05-12 22:17:56,288 [INFO] 72\t\t2.0\n"
          ]
        },
        {
          "output_type": "stream",
          "name": "stderr",
          "text": [
            "INFO:NEURONIOUtils:72\t\t2.0\n"
          ]
        },
        {
          "output_type": "stream",
          "name": "stdout",
          "text": [
            "2023-05-12 22:17:56,289 [INFO] 73\t\t2.0\n"
          ]
        },
        {
          "output_type": "stream",
          "name": "stderr",
          "text": [
            "INFO:NEURONIOUtils:73\t\t2.0\n"
          ]
        },
        {
          "output_type": "stream",
          "name": "stdout",
          "text": [
            "2023-05-12 22:17:56,291 [INFO] 74\t\t2.0\n"
          ]
        },
        {
          "output_type": "stream",
          "name": "stderr",
          "text": [
            "INFO:NEURONIOUtils:74\t\t2.0\n"
          ]
        },
        {
          "output_type": "stream",
          "name": "stdout",
          "text": [
            "2023-05-12 22:17:56,293 [INFO] 75\t\t2.0\n"
          ]
        },
        {
          "output_type": "stream",
          "name": "stderr",
          "text": [
            "INFO:NEURONIOUtils:75\t\t2.0\n"
          ]
        },
        {
          "output_type": "stream",
          "name": "stdout",
          "text": [
            "2023-05-12 22:17:56,295 [INFO] 76\t\t2.0\n"
          ]
        },
        {
          "output_type": "stream",
          "name": "stderr",
          "text": [
            "INFO:NEURONIOUtils:76\t\t2.0\n"
          ]
        },
        {
          "output_type": "stream",
          "name": "stdout",
          "text": [
            "2023-05-12 22:17:56,296 [INFO] 77\t\t2.0\n"
          ]
        },
        {
          "output_type": "stream",
          "name": "stderr",
          "text": [
            "INFO:NEURONIOUtils:77\t\t2.0\n"
          ]
        },
        {
          "output_type": "stream",
          "name": "stdout",
          "text": [
            "2023-05-12 22:17:56,298 [INFO] 78\t\t2.0\n"
          ]
        },
        {
          "output_type": "stream",
          "name": "stderr",
          "text": [
            "INFO:NEURONIOUtils:78\t\t2.0\n"
          ]
        },
        {
          "output_type": "stream",
          "name": "stdout",
          "text": [
            "2023-05-12 22:17:56,300 [INFO] 79\t\t2.0\n"
          ]
        },
        {
          "output_type": "stream",
          "name": "stderr",
          "text": [
            "INFO:NEURONIOUtils:79\t\t2.0\n"
          ]
        },
        {
          "output_type": "stream",
          "name": "stdout",
          "text": [
            "2023-05-12 22:17:56,302 [INFO] PGN firing rate avg: 2.0 Hz\n"
          ]
        },
        {
          "output_type": "stream",
          "name": "stderr",
          "text": [
            "INFO:NEURONIOUtils:PGN firing rate avg: 2.0 Hz\n"
          ]
        },
        {
          "output_type": "stream",
          "name": "stdout",
          "text": [
            "2023-05-12 22:17:56,304 [INFO] Grill PGN fr = 1.492 Hz\n"
          ]
        },
        {
          "output_type": "stream",
          "name": "stderr",
          "text": [
            "INFO:NEURONIOUtils:Grill PGN fr = 1.492 Hz\n"
          ]
        },
        {
          "output_type": "stream",
          "name": "stdout",
          "text": [
            "2023-05-12 22:17:56,306 [INFO] IMG node_gid\t  Hz\n"
          ]
        },
        {
          "output_type": "stream",
          "name": "stderr",
          "text": [
            "INFO:NEURONIOUtils:IMG node_gid\t  Hz\n"
          ]
        },
        {
          "output_type": "stream",
          "name": "stdout",
          "text": [
            "2023-05-12 22:17:56,308 [INFO] IMG firing rate avg: 2.0 Hz\n"
          ]
        },
        {
          "output_type": "stream",
          "name": "stderr",
          "text": [
            "INFO:NEURONIOUtils:IMG firing rate avg: 2.0 Hz\n"
          ]
        },
        {
          "output_type": "stream",
          "name": "stdout",
          "text": [
            "2023-05-12 22:17:56,316 [INFO] PGN firing rate = 2.00 Hz\n"
          ]
        },
        {
          "output_type": "stream",
          "name": "stderr",
          "text": [
            "/usr/local/lib/python3.10/dist-packages/bmtk/utils/reports/spike_trains/spike_trains.py:183: RuntimeWarning: divide by zero encountered in double_scalars\n",
            "  interval = -np.log(1.0 - np.random.uniform()) / fr\n",
            "INFO:NEURONIOUtils:PGN firing rate = 2.00 Hz\n"
          ]
        },
        {
          "output_type": "stream",
          "name": "stdout",
          "text": [
            "2023-05-12 22:17:56,321 [INFO] Volume = 31.2500 ml\n"
          ]
        },
        {
          "output_type": "stream",
          "name": "stderr",
          "text": [
            "INFO:NEURONIOUtils:Volume = 31.2500 ml\n"
          ]
        },
        {
          "output_type": "stream",
          "name": "stdout",
          "text": [
            "2023-05-12 22:17:56,323 [INFO] Pressure = 7.37 mmHg\n"
          ]
        },
        {
          "output_type": "stream",
          "name": "stderr",
          "text": [
            "INFO:NEURONIOUtils:Pressure = 7.37 mmHg\n"
          ]
        },
        {
          "output_type": "stream",
          "name": "stdout",
          "text": [
            "2023-05-12 22:17:56,325 [INFO] Calculated bladder afferent firing rate for the next time step = 0.00 Hz \n",
            " \n",
            "\n"
          ]
        },
        {
          "output_type": "stream",
          "name": "stderr",
          "text": [
            "INFO:NEURONIOUtils:Calculated bladder afferent firing rate for the next time step = 0.00 Hz \n",
            " \n",
            "\n"
          ]
        },
        {
          "output_type": "stream",
          "name": "stdout",
          "text": [
            "2023-05-12 22:17:57,667 [INFO]     step:80000 t_sim:16000.00 ms\n"
          ]
        },
        {
          "output_type": "stream",
          "name": "stderr",
          "text": [
            "INFO:NEURONIOUtils:    step:80000 t_sim:16000.00 ms\n"
          ]
        },
        {
          "output_type": "stream",
          "name": "stdout",
          "text": [
            "2023-05-12 22:17:57,676 [INFO] Timestep 15500.0 to 16000.0 ms\n"
          ]
        },
        {
          "output_type": "stream",
          "name": "stderr",
          "text": [
            "INFO:NEURONIOUtils:Timestep 15500.0 to 16000.0 ms\n"
          ]
        },
        {
          "output_type": "stream",
          "name": "stdout",
          "text": [
            "2023-05-12 22:17:57,683 [INFO] PGN node_id\t  Hz\n"
          ]
        },
        {
          "output_type": "stream",
          "name": "stderr",
          "text": [
            "INFO:NEURONIOUtils:PGN node_id\t  Hz\n"
          ]
        },
        {
          "output_type": "stream",
          "name": "stdout",
          "text": [
            "2023-05-12 22:17:57,692 [INFO] 70\t\t2.0\n"
          ]
        },
        {
          "output_type": "stream",
          "name": "stderr",
          "text": [
            "INFO:NEURONIOUtils:70\t\t2.0\n"
          ]
        },
        {
          "output_type": "stream",
          "name": "stdout",
          "text": [
            "2023-05-12 22:17:57,694 [INFO] 71\t\t2.0\n"
          ]
        },
        {
          "output_type": "stream",
          "name": "stderr",
          "text": [
            "INFO:NEURONIOUtils:71\t\t2.0\n"
          ]
        },
        {
          "output_type": "stream",
          "name": "stdout",
          "text": [
            "2023-05-12 22:17:57,696 [INFO] 72\t\t2.0\n"
          ]
        },
        {
          "output_type": "stream",
          "name": "stderr",
          "text": [
            "INFO:NEURONIOUtils:72\t\t2.0\n"
          ]
        },
        {
          "output_type": "stream",
          "name": "stdout",
          "text": [
            "2023-05-12 22:17:57,700 [INFO] 73\t\t2.0\n"
          ]
        },
        {
          "output_type": "stream",
          "name": "stderr",
          "text": [
            "INFO:NEURONIOUtils:73\t\t2.0\n"
          ]
        },
        {
          "output_type": "stream",
          "name": "stdout",
          "text": [
            "2023-05-12 22:17:57,704 [INFO] 74\t\t2.0\n"
          ]
        },
        {
          "output_type": "stream",
          "name": "stderr",
          "text": [
            "INFO:NEURONIOUtils:74\t\t2.0\n"
          ]
        },
        {
          "output_type": "stream",
          "name": "stdout",
          "text": [
            "2023-05-12 22:17:57,723 [INFO] 75\t\t2.0\n"
          ]
        },
        {
          "output_type": "stream",
          "name": "stderr",
          "text": [
            "INFO:NEURONIOUtils:75\t\t2.0\n"
          ]
        },
        {
          "output_type": "stream",
          "name": "stdout",
          "text": [
            "2023-05-12 22:17:57,727 [INFO] 76\t\t2.0\n"
          ]
        },
        {
          "output_type": "stream",
          "name": "stderr",
          "text": [
            "INFO:NEURONIOUtils:76\t\t2.0\n"
          ]
        },
        {
          "output_type": "stream",
          "name": "stdout",
          "text": [
            "2023-05-12 22:17:57,731 [INFO] 77\t\t2.0\n"
          ]
        },
        {
          "output_type": "stream",
          "name": "stderr",
          "text": [
            "INFO:NEURONIOUtils:77\t\t2.0\n"
          ]
        },
        {
          "output_type": "stream",
          "name": "stdout",
          "text": [
            "2023-05-12 22:17:57,737 [INFO] 78\t\t2.0\n"
          ]
        },
        {
          "output_type": "stream",
          "name": "stderr",
          "text": [
            "INFO:NEURONIOUtils:78\t\t2.0\n"
          ]
        },
        {
          "output_type": "stream",
          "name": "stdout",
          "text": [
            "2023-05-12 22:17:57,742 [INFO] 79\t\t2.0\n"
          ]
        },
        {
          "output_type": "stream",
          "name": "stderr",
          "text": [
            "INFO:NEURONIOUtils:79\t\t2.0\n"
          ]
        },
        {
          "output_type": "stream",
          "name": "stdout",
          "text": [
            "2023-05-12 22:17:57,746 [INFO] PGN firing rate avg: 2.0 Hz\n"
          ]
        },
        {
          "output_type": "stream",
          "name": "stderr",
          "text": [
            "INFO:NEURONIOUtils:PGN firing rate avg: 2.0 Hz\n"
          ]
        },
        {
          "output_type": "stream",
          "name": "stdout",
          "text": [
            "2023-05-12 22:17:57,761 [INFO] Grill PGN fr = 1.492 Hz\n"
          ]
        },
        {
          "output_type": "stream",
          "name": "stderr",
          "text": [
            "INFO:NEURONIOUtils:Grill PGN fr = 1.492 Hz\n"
          ]
        },
        {
          "output_type": "stream",
          "name": "stdout",
          "text": [
            "2023-05-12 22:17:57,766 [INFO] IMG node_gid\t  Hz\n"
          ]
        },
        {
          "output_type": "stream",
          "name": "stderr",
          "text": [
            "INFO:NEURONIOUtils:IMG node_gid\t  Hz\n"
          ]
        },
        {
          "output_type": "stream",
          "name": "stdout",
          "text": [
            "2023-05-12 22:17:57,770 [INFO] IMG firing rate avg: 2.0 Hz\n"
          ]
        },
        {
          "output_type": "stream",
          "name": "stderr",
          "text": [
            "INFO:NEURONIOUtils:IMG firing rate avg: 2.0 Hz\n"
          ]
        },
        {
          "output_type": "stream",
          "name": "stdout",
          "text": [
            "2023-05-12 22:17:57,789 [INFO] PGN firing rate = 2.00 Hz\n"
          ]
        },
        {
          "output_type": "stream",
          "name": "stderr",
          "text": [
            "/usr/local/lib/python3.10/dist-packages/bmtk/utils/reports/spike_trains/spike_trains.py:183: RuntimeWarning: divide by zero encountered in double_scalars\n",
            "  interval = -np.log(1.0 - np.random.uniform()) / fr\n",
            "INFO:NEURONIOUtils:PGN firing rate = 2.00 Hz\n"
          ]
        },
        {
          "output_type": "stream",
          "name": "stdout",
          "text": [
            "2023-05-12 22:17:57,793 [INFO] Volume = 32.2917 ml\n"
          ]
        },
        {
          "output_type": "stream",
          "name": "stderr",
          "text": [
            "INFO:NEURONIOUtils:Volume = 32.2917 ml\n"
          ]
        },
        {
          "output_type": "stream",
          "name": "stdout",
          "text": [
            "2023-05-12 22:17:57,797 [INFO] Pressure = 7.37 mmHg\n"
          ]
        },
        {
          "output_type": "stream",
          "name": "stderr",
          "text": [
            "INFO:NEURONIOUtils:Pressure = 7.37 mmHg\n"
          ]
        },
        {
          "output_type": "stream",
          "name": "stdout",
          "text": [
            "2023-05-12 22:17:57,803 [INFO] Calculated bladder afferent firing rate for the next time step = 0.00 Hz \n",
            " \n",
            "\n"
          ]
        },
        {
          "output_type": "stream",
          "name": "stderr",
          "text": [
            "INFO:NEURONIOUtils:Calculated bladder afferent firing rate for the next time step = 0.00 Hz \n",
            " \n",
            "\n"
          ]
        },
        {
          "output_type": "stream",
          "name": "stdout",
          "text": [
            "2023-05-12 22:17:59,300 [INFO]     step:82500 t_sim:16500.00 ms\n"
          ]
        },
        {
          "output_type": "stream",
          "name": "stderr",
          "text": [
            "INFO:NEURONIOUtils:    step:82500 t_sim:16500.00 ms\n"
          ]
        },
        {
          "output_type": "stream",
          "name": "stdout",
          "text": [
            "2023-05-12 22:17:59,317 [INFO] Timestep 16000.0 to 16500.0 ms\n"
          ]
        },
        {
          "output_type": "stream",
          "name": "stderr",
          "text": [
            "INFO:NEURONIOUtils:Timestep 16000.0 to 16500.0 ms\n"
          ]
        },
        {
          "output_type": "stream",
          "name": "stdout",
          "text": [
            "2023-05-12 22:17:59,326 [INFO] PGN node_id\t  Hz\n"
          ]
        },
        {
          "output_type": "stream",
          "name": "stderr",
          "text": [
            "INFO:NEURONIOUtils:PGN node_id\t  Hz\n"
          ]
        },
        {
          "output_type": "stream",
          "name": "stdout",
          "text": [
            "2023-05-12 22:17:59,330 [INFO] 70\t\t2.0\n"
          ]
        },
        {
          "output_type": "stream",
          "name": "stderr",
          "text": [
            "INFO:NEURONIOUtils:70\t\t2.0\n"
          ]
        },
        {
          "output_type": "stream",
          "name": "stdout",
          "text": [
            "2023-05-12 22:17:59,339 [INFO] 71\t\t2.0\n"
          ]
        },
        {
          "output_type": "stream",
          "name": "stderr",
          "text": [
            "INFO:NEURONIOUtils:71\t\t2.0\n"
          ]
        },
        {
          "output_type": "stream",
          "name": "stdout",
          "text": [
            "2023-05-12 22:17:59,341 [INFO] 72\t\t2.0\n"
          ]
        },
        {
          "output_type": "stream",
          "name": "stderr",
          "text": [
            "INFO:NEURONIOUtils:72\t\t2.0\n"
          ]
        },
        {
          "output_type": "stream",
          "name": "stdout",
          "text": [
            "2023-05-12 22:17:59,346 [INFO] 73\t\t2.0\n"
          ]
        },
        {
          "output_type": "stream",
          "name": "stderr",
          "text": [
            "INFO:NEURONIOUtils:73\t\t2.0\n"
          ]
        },
        {
          "output_type": "stream",
          "name": "stdout",
          "text": [
            "2023-05-12 22:17:59,352 [INFO] 74\t\t2.0\n"
          ]
        },
        {
          "output_type": "stream",
          "name": "stderr",
          "text": [
            "INFO:NEURONIOUtils:74\t\t2.0\n"
          ]
        },
        {
          "output_type": "stream",
          "name": "stdout",
          "text": [
            "2023-05-12 22:17:59,356 [INFO] 75\t\t2.0\n"
          ]
        },
        {
          "output_type": "stream",
          "name": "stderr",
          "text": [
            "INFO:NEURONIOUtils:75\t\t2.0\n"
          ]
        },
        {
          "output_type": "stream",
          "name": "stdout",
          "text": [
            "2023-05-12 22:17:59,362 [INFO] 76\t\t2.0\n"
          ]
        },
        {
          "output_type": "stream",
          "name": "stderr",
          "text": [
            "INFO:NEURONIOUtils:76\t\t2.0\n"
          ]
        },
        {
          "output_type": "stream",
          "name": "stdout",
          "text": [
            "2023-05-12 22:17:59,365 [INFO] 77\t\t2.0\n"
          ]
        },
        {
          "output_type": "stream",
          "name": "stderr",
          "text": [
            "INFO:NEURONIOUtils:77\t\t2.0\n"
          ]
        },
        {
          "output_type": "stream",
          "name": "stdout",
          "text": [
            "2023-05-12 22:17:59,369 [INFO] 78\t\t2.0\n"
          ]
        },
        {
          "output_type": "stream",
          "name": "stderr",
          "text": [
            "INFO:NEURONIOUtils:78\t\t2.0\n"
          ]
        },
        {
          "output_type": "stream",
          "name": "stdout",
          "text": [
            "2023-05-12 22:17:59,374 [INFO] 79\t\t2.0\n"
          ]
        },
        {
          "output_type": "stream",
          "name": "stderr",
          "text": [
            "INFO:NEURONIOUtils:79\t\t2.0\n"
          ]
        },
        {
          "output_type": "stream",
          "name": "stdout",
          "text": [
            "2023-05-12 22:17:59,376 [INFO] PGN firing rate avg: 2.0 Hz\n"
          ]
        },
        {
          "output_type": "stream",
          "name": "stderr",
          "text": [
            "INFO:NEURONIOUtils:PGN firing rate avg: 2.0 Hz\n"
          ]
        },
        {
          "output_type": "stream",
          "name": "stdout",
          "text": [
            "2023-05-12 22:17:59,406 [INFO] Grill PGN fr = 1.492 Hz\n"
          ]
        },
        {
          "output_type": "stream",
          "name": "stderr",
          "text": [
            "INFO:NEURONIOUtils:Grill PGN fr = 1.492 Hz\n"
          ]
        },
        {
          "output_type": "stream",
          "name": "stdout",
          "text": [
            "2023-05-12 22:17:59,409 [INFO] IMG node_gid\t  Hz\n"
          ]
        },
        {
          "output_type": "stream",
          "name": "stderr",
          "text": [
            "INFO:NEURONIOUtils:IMG node_gid\t  Hz\n"
          ]
        },
        {
          "output_type": "stream",
          "name": "stdout",
          "text": [
            "2023-05-12 22:17:59,413 [INFO] IMG firing rate avg: 2.0 Hz\n"
          ]
        },
        {
          "output_type": "stream",
          "name": "stderr",
          "text": [
            "INFO:NEURONIOUtils:IMG firing rate avg: 2.0 Hz\n"
          ]
        },
        {
          "output_type": "stream",
          "name": "stdout",
          "text": [
            "2023-05-12 22:17:59,426 [INFO] PGN firing rate = 2.00 Hz\n"
          ]
        },
        {
          "output_type": "stream",
          "name": "stderr",
          "text": [
            "/usr/local/lib/python3.10/dist-packages/bmtk/utils/reports/spike_trains/spike_trains.py:183: RuntimeWarning: divide by zero encountered in double_scalars\n",
            "  interval = -np.log(1.0 - np.random.uniform()) / fr\n",
            "INFO:NEURONIOUtils:PGN firing rate = 2.00 Hz\n"
          ]
        },
        {
          "output_type": "stream",
          "name": "stdout",
          "text": [
            "2023-05-12 22:17:59,429 [INFO] Volume = 33.3333 ml\n"
          ]
        },
        {
          "output_type": "stream",
          "name": "stderr",
          "text": [
            "INFO:NEURONIOUtils:Volume = 33.3333 ml\n"
          ]
        },
        {
          "output_type": "stream",
          "name": "stdout",
          "text": [
            "2023-05-12 22:17:59,433 [INFO] Pressure = 7.37 mmHg\n"
          ]
        },
        {
          "output_type": "stream",
          "name": "stderr",
          "text": [
            "INFO:NEURONIOUtils:Pressure = 7.37 mmHg\n"
          ]
        },
        {
          "output_type": "stream",
          "name": "stdout",
          "text": [
            "2023-05-12 22:17:59,439 [INFO] Calculated bladder afferent firing rate for the next time step = 0.00 Hz \n",
            " \n",
            "\n"
          ]
        },
        {
          "output_type": "stream",
          "name": "stderr",
          "text": [
            "INFO:NEURONIOUtils:Calculated bladder afferent firing rate for the next time step = 0.00 Hz \n",
            " \n",
            "\n"
          ]
        },
        {
          "output_type": "stream",
          "name": "stdout",
          "text": [
            "2023-05-12 22:18:01,061 [INFO]     step:85000 t_sim:17000.00 ms\n"
          ]
        },
        {
          "output_type": "stream",
          "name": "stderr",
          "text": [
            "INFO:NEURONIOUtils:    step:85000 t_sim:17000.00 ms\n"
          ]
        },
        {
          "output_type": "stream",
          "name": "stdout",
          "text": [
            "2023-05-12 22:18:01,073 [INFO] Timestep 16500.0 to 17000.0 ms\n"
          ]
        },
        {
          "output_type": "stream",
          "name": "stderr",
          "text": [
            "INFO:NEURONIOUtils:Timestep 16500.0 to 17000.0 ms\n"
          ]
        },
        {
          "output_type": "stream",
          "name": "stdout",
          "text": [
            "2023-05-12 22:18:01,080 [INFO] PGN node_id\t  Hz\n"
          ]
        },
        {
          "output_type": "stream",
          "name": "stderr",
          "text": [
            "INFO:NEURONIOUtils:PGN node_id\t  Hz\n"
          ]
        },
        {
          "output_type": "stream",
          "name": "stdout",
          "text": [
            "2023-05-12 22:18:01,086 [INFO] 70\t\t4.0\n"
          ]
        },
        {
          "output_type": "stream",
          "name": "stderr",
          "text": [
            "INFO:NEURONIOUtils:70\t\t4.0\n"
          ]
        },
        {
          "output_type": "stream",
          "name": "stdout",
          "text": [
            "2023-05-12 22:18:01,089 [INFO] 71\t\t4.0\n"
          ]
        },
        {
          "output_type": "stream",
          "name": "stderr",
          "text": [
            "INFO:NEURONIOUtils:71\t\t4.0\n"
          ]
        },
        {
          "output_type": "stream",
          "name": "stdout",
          "text": [
            "2023-05-12 22:18:01,090 [INFO] 72\t\t4.0\n"
          ]
        },
        {
          "output_type": "stream",
          "name": "stderr",
          "text": [
            "INFO:NEURONIOUtils:72\t\t4.0\n"
          ]
        },
        {
          "output_type": "stream",
          "name": "stdout",
          "text": [
            "2023-05-12 22:18:01,094 [INFO] 73\t\t4.0\n"
          ]
        },
        {
          "output_type": "stream",
          "name": "stderr",
          "text": [
            "INFO:NEURONIOUtils:73\t\t4.0\n"
          ]
        },
        {
          "output_type": "stream",
          "name": "stdout",
          "text": [
            "2023-05-12 22:18:01,096 [INFO] 74\t\t4.0\n"
          ]
        },
        {
          "output_type": "stream",
          "name": "stderr",
          "text": [
            "INFO:NEURONIOUtils:74\t\t4.0\n"
          ]
        },
        {
          "output_type": "stream",
          "name": "stdout",
          "text": [
            "2023-05-12 22:18:01,098 [INFO] 75\t\t4.0\n"
          ]
        },
        {
          "output_type": "stream",
          "name": "stderr",
          "text": [
            "INFO:NEURONIOUtils:75\t\t4.0\n"
          ]
        },
        {
          "output_type": "stream",
          "name": "stdout",
          "text": [
            "2023-05-12 22:18:01,101 [INFO] 76\t\t4.0\n"
          ]
        },
        {
          "output_type": "stream",
          "name": "stderr",
          "text": [
            "INFO:NEURONIOUtils:76\t\t4.0\n"
          ]
        },
        {
          "output_type": "stream",
          "name": "stdout",
          "text": [
            "2023-05-12 22:18:01,103 [INFO] 77\t\t4.0\n"
          ]
        },
        {
          "output_type": "stream",
          "name": "stderr",
          "text": [
            "INFO:NEURONIOUtils:77\t\t4.0\n"
          ]
        },
        {
          "output_type": "stream",
          "name": "stdout",
          "text": [
            "2023-05-12 22:18:01,105 [INFO] 78\t\t4.0\n"
          ]
        },
        {
          "output_type": "stream",
          "name": "stderr",
          "text": [
            "INFO:NEURONIOUtils:78\t\t4.0\n"
          ]
        },
        {
          "output_type": "stream",
          "name": "stdout",
          "text": [
            "2023-05-12 22:18:01,109 [INFO] 79\t\t4.0\n"
          ]
        },
        {
          "output_type": "stream",
          "name": "stderr",
          "text": [
            "INFO:NEURONIOUtils:79\t\t4.0\n"
          ]
        },
        {
          "output_type": "stream",
          "name": "stdout",
          "text": [
            "2023-05-12 22:18:01,111 [INFO] PGN firing rate avg: 4.0 Hz\n"
          ]
        },
        {
          "output_type": "stream",
          "name": "stderr",
          "text": [
            "INFO:NEURONIOUtils:PGN firing rate avg: 4.0 Hz\n"
          ]
        },
        {
          "output_type": "stream",
          "name": "stdout",
          "text": [
            "2023-05-12 22:18:01,113 [INFO] Grill PGN fr = 3.15 Hz\n"
          ]
        },
        {
          "output_type": "stream",
          "name": "stderr",
          "text": [
            "INFO:NEURONIOUtils:Grill PGN fr = 3.15 Hz\n"
          ]
        },
        {
          "output_type": "stream",
          "name": "stdout",
          "text": [
            "2023-05-12 22:18:01,115 [INFO] IMG node_gid\t  Hz\n"
          ]
        },
        {
          "output_type": "stream",
          "name": "stderr",
          "text": [
            "INFO:NEURONIOUtils:IMG node_gid\t  Hz\n"
          ]
        },
        {
          "output_type": "stream",
          "name": "stdout",
          "text": [
            "2023-05-12 22:18:01,119 [INFO] IMG firing rate avg: 4.0 Hz\n"
          ]
        },
        {
          "output_type": "stream",
          "name": "stderr",
          "text": [
            "INFO:NEURONIOUtils:IMG firing rate avg: 4.0 Hz\n"
          ]
        },
        {
          "output_type": "stream",
          "name": "stdout",
          "text": [
            "2023-05-12 22:18:01,130 [INFO] PGN firing rate = 4.00 Hz\n"
          ]
        },
        {
          "output_type": "stream",
          "name": "stderr",
          "text": [
            "/usr/local/lib/python3.10/dist-packages/bmtk/utils/reports/spike_trains/spike_trains.py:183: RuntimeWarning: divide by zero encountered in double_scalars\n",
            "  interval = -np.log(1.0 - np.random.uniform()) / fr\n",
            "INFO:NEURONIOUtils:PGN firing rate = 4.00 Hz\n"
          ]
        },
        {
          "output_type": "stream",
          "name": "stdout",
          "text": [
            "2023-05-12 22:18:01,140 [INFO] Volume = 34.3750 ml\n"
          ]
        },
        {
          "output_type": "stream",
          "name": "stderr",
          "text": [
            "INFO:NEURONIOUtils:Volume = 34.3750 ml\n"
          ]
        },
        {
          "output_type": "stream",
          "name": "stdout",
          "text": [
            "2023-05-12 22:18:01,142 [INFO] Pressure = 7.79 mmHg\n"
          ]
        },
        {
          "output_type": "stream",
          "name": "stderr",
          "text": [
            "INFO:NEURONIOUtils:Pressure = 7.79 mmHg\n"
          ]
        },
        {
          "output_type": "stream",
          "name": "stdout",
          "text": [
            "2023-05-12 22:18:01,144 [INFO] Calculated bladder afferent firing rate for the next time step = 0.00 Hz \n",
            " \n",
            "\n"
          ]
        },
        {
          "output_type": "stream",
          "name": "stderr",
          "text": [
            "INFO:NEURONIOUtils:Calculated bladder afferent firing rate for the next time step = 0.00 Hz \n",
            " \n",
            "\n"
          ]
        },
        {
          "output_type": "stream",
          "name": "stdout",
          "text": [
            "2023-05-12 22:18:02,314 [INFO]     step:87500 t_sim:17500.00 ms\n"
          ]
        },
        {
          "output_type": "stream",
          "name": "stderr",
          "text": [
            "INFO:NEURONIOUtils:    step:87500 t_sim:17500.00 ms\n"
          ]
        },
        {
          "output_type": "stream",
          "name": "stdout",
          "text": [
            "2023-05-12 22:18:02,323 [INFO] Timestep 17000.0 to 17500.0 ms\n"
          ]
        },
        {
          "output_type": "stream",
          "name": "stderr",
          "text": [
            "INFO:NEURONIOUtils:Timestep 17000.0 to 17500.0 ms\n"
          ]
        },
        {
          "output_type": "stream",
          "name": "stdout",
          "text": [
            "2023-05-12 22:18:02,327 [INFO] PGN node_id\t  Hz\n"
          ]
        },
        {
          "output_type": "stream",
          "name": "stderr",
          "text": [
            "INFO:NEURONIOUtils:PGN node_id\t  Hz\n"
          ]
        },
        {
          "output_type": "stream",
          "name": "stdout",
          "text": [
            "2023-05-12 22:18:02,331 [INFO] 70\t\t2.0\n"
          ]
        },
        {
          "output_type": "stream",
          "name": "stderr",
          "text": [
            "INFO:NEURONIOUtils:70\t\t2.0\n"
          ]
        },
        {
          "output_type": "stream",
          "name": "stdout",
          "text": [
            "2023-05-12 22:18:02,334 [INFO] 71\t\t2.0\n"
          ]
        },
        {
          "output_type": "stream",
          "name": "stderr",
          "text": [
            "INFO:NEURONIOUtils:71\t\t2.0\n"
          ]
        },
        {
          "output_type": "stream",
          "name": "stdout",
          "text": [
            "2023-05-12 22:18:02,336 [INFO] 72\t\t2.0\n"
          ]
        },
        {
          "output_type": "stream",
          "name": "stderr",
          "text": [
            "INFO:NEURONIOUtils:72\t\t2.0\n"
          ]
        },
        {
          "output_type": "stream",
          "name": "stdout",
          "text": [
            "2023-05-12 22:18:02,338 [INFO] 73\t\t2.0\n"
          ]
        },
        {
          "output_type": "stream",
          "name": "stderr",
          "text": [
            "INFO:NEURONIOUtils:73\t\t2.0\n"
          ]
        },
        {
          "output_type": "stream",
          "name": "stdout",
          "text": [
            "2023-05-12 22:18:02,340 [INFO] 74\t\t2.0\n"
          ]
        },
        {
          "output_type": "stream",
          "name": "stderr",
          "text": [
            "INFO:NEURONIOUtils:74\t\t2.0\n"
          ]
        },
        {
          "output_type": "stream",
          "name": "stdout",
          "text": [
            "2023-05-12 22:18:02,342 [INFO] 75\t\t2.0\n"
          ]
        },
        {
          "output_type": "stream",
          "name": "stderr",
          "text": [
            "INFO:NEURONIOUtils:75\t\t2.0\n"
          ]
        },
        {
          "output_type": "stream",
          "name": "stdout",
          "text": [
            "2023-05-12 22:18:02,343 [INFO] 76\t\t2.0\n"
          ]
        },
        {
          "output_type": "stream",
          "name": "stderr",
          "text": [
            "INFO:NEURONIOUtils:76\t\t2.0\n"
          ]
        },
        {
          "output_type": "stream",
          "name": "stdout",
          "text": [
            "2023-05-12 22:18:02,345 [INFO] 77\t\t2.0\n"
          ]
        },
        {
          "output_type": "stream",
          "name": "stderr",
          "text": [
            "INFO:NEURONIOUtils:77\t\t2.0\n"
          ]
        },
        {
          "output_type": "stream",
          "name": "stdout",
          "text": [
            "2023-05-12 22:18:02,346 [INFO] 78\t\t2.0\n"
          ]
        },
        {
          "output_type": "stream",
          "name": "stderr",
          "text": [
            "INFO:NEURONIOUtils:78\t\t2.0\n"
          ]
        },
        {
          "output_type": "stream",
          "name": "stdout",
          "text": [
            "2023-05-12 22:18:02,348 [INFO] 79\t\t2.0\n"
          ]
        },
        {
          "output_type": "stream",
          "name": "stderr",
          "text": [
            "INFO:NEURONIOUtils:79\t\t2.0\n"
          ]
        },
        {
          "output_type": "stream",
          "name": "stdout",
          "text": [
            "2023-05-12 22:18:02,350 [INFO] PGN firing rate avg: 2.0 Hz\n"
          ]
        },
        {
          "output_type": "stream",
          "name": "stderr",
          "text": [
            "INFO:NEURONIOUtils:PGN firing rate avg: 2.0 Hz\n"
          ]
        },
        {
          "output_type": "stream",
          "name": "stdout",
          "text": [
            "2023-05-12 22:18:02,352 [INFO] Grill PGN fr = 1.492 Hz\n"
          ]
        },
        {
          "output_type": "stream",
          "name": "stderr",
          "text": [
            "INFO:NEURONIOUtils:Grill PGN fr = 1.492 Hz\n"
          ]
        },
        {
          "output_type": "stream",
          "name": "stdout",
          "text": [
            "2023-05-12 22:18:02,353 [INFO] IMG node_gid\t  Hz\n"
          ]
        },
        {
          "output_type": "stream",
          "name": "stderr",
          "text": [
            "INFO:NEURONIOUtils:IMG node_gid\t  Hz\n"
          ]
        },
        {
          "output_type": "stream",
          "name": "stdout",
          "text": [
            "2023-05-12 22:18:02,355 [INFO] IMG firing rate avg: 2.0 Hz\n"
          ]
        },
        {
          "output_type": "stream",
          "name": "stderr",
          "text": [
            "INFO:NEURONIOUtils:IMG firing rate avg: 2.0 Hz\n"
          ]
        },
        {
          "output_type": "stream",
          "name": "stdout",
          "text": [
            "2023-05-12 22:18:02,364 [INFO] PGN firing rate = 2.00 Hz\n"
          ]
        },
        {
          "output_type": "stream",
          "name": "stderr",
          "text": [
            "/usr/local/lib/python3.10/dist-packages/bmtk/utils/reports/spike_trains/spike_trains.py:183: RuntimeWarning: divide by zero encountered in double_scalars\n",
            "  interval = -np.log(1.0 - np.random.uniform()) / fr\n",
            "INFO:NEURONIOUtils:PGN firing rate = 2.00 Hz\n"
          ]
        },
        {
          "output_type": "stream",
          "name": "stdout",
          "text": [
            "2023-05-12 22:18:02,372 [INFO] Volume = 35.4167 ml\n"
          ]
        },
        {
          "output_type": "stream",
          "name": "stderr",
          "text": [
            "INFO:NEURONIOUtils:Volume = 35.4167 ml\n"
          ]
        },
        {
          "output_type": "stream",
          "name": "stdout",
          "text": [
            "2023-05-12 22:18:02,374 [INFO] Pressure = 7.37 mmHg\n"
          ]
        },
        {
          "output_type": "stream",
          "name": "stderr",
          "text": [
            "INFO:NEURONIOUtils:Pressure = 7.37 mmHg\n"
          ]
        },
        {
          "output_type": "stream",
          "name": "stdout",
          "text": [
            "2023-05-12 22:18:02,376 [INFO] Calculated bladder afferent firing rate for the next time step = 0.00 Hz \n",
            " \n",
            "\n"
          ]
        },
        {
          "output_type": "stream",
          "name": "stderr",
          "text": [
            "INFO:NEURONIOUtils:Calculated bladder afferent firing rate for the next time step = 0.00 Hz \n",
            " \n",
            "\n"
          ]
        },
        {
          "output_type": "stream",
          "name": "stdout",
          "text": [
            "2023-05-12 22:18:03,516 [INFO]     step:90000 t_sim:18000.00 ms\n"
          ]
        },
        {
          "output_type": "stream",
          "name": "stderr",
          "text": [
            "INFO:NEURONIOUtils:    step:90000 t_sim:18000.00 ms\n"
          ]
        },
        {
          "output_type": "stream",
          "name": "stdout",
          "text": [
            "2023-05-12 22:18:03,526 [INFO] Timestep 17500.0 to 18000.0 ms\n"
          ]
        },
        {
          "output_type": "stream",
          "name": "stderr",
          "text": [
            "INFO:NEURONIOUtils:Timestep 17500.0 to 18000.0 ms\n"
          ]
        },
        {
          "output_type": "stream",
          "name": "stdout",
          "text": [
            "2023-05-12 22:18:03,530 [INFO] PGN node_id\t  Hz\n"
          ]
        },
        {
          "output_type": "stream",
          "name": "stderr",
          "text": [
            "INFO:NEURONIOUtils:PGN node_id\t  Hz\n"
          ]
        },
        {
          "output_type": "stream",
          "name": "stdout",
          "text": [
            "2023-05-12 22:18:03,534 [INFO] 70\t\t4.0\n"
          ]
        },
        {
          "output_type": "stream",
          "name": "stderr",
          "text": [
            "INFO:NEURONIOUtils:70\t\t4.0\n"
          ]
        },
        {
          "output_type": "stream",
          "name": "stdout",
          "text": [
            "2023-05-12 22:18:03,537 [INFO] 71\t\t4.0\n"
          ]
        },
        {
          "output_type": "stream",
          "name": "stderr",
          "text": [
            "INFO:NEURONIOUtils:71\t\t4.0\n"
          ]
        },
        {
          "output_type": "stream",
          "name": "stdout",
          "text": [
            "2023-05-12 22:18:03,539 [INFO] 72\t\t4.0\n"
          ]
        },
        {
          "output_type": "stream",
          "name": "stderr",
          "text": [
            "INFO:NEURONIOUtils:72\t\t4.0\n"
          ]
        },
        {
          "output_type": "stream",
          "name": "stdout",
          "text": [
            "2023-05-12 22:18:03,541 [INFO] 73\t\t4.0\n"
          ]
        },
        {
          "output_type": "stream",
          "name": "stderr",
          "text": [
            "INFO:NEURONIOUtils:73\t\t4.0\n"
          ]
        },
        {
          "output_type": "stream",
          "name": "stdout",
          "text": [
            "2023-05-12 22:18:03,543 [INFO] 74\t\t4.0\n"
          ]
        },
        {
          "output_type": "stream",
          "name": "stderr",
          "text": [
            "INFO:NEURONIOUtils:74\t\t4.0\n"
          ]
        },
        {
          "output_type": "stream",
          "name": "stdout",
          "text": [
            "2023-05-12 22:18:03,544 [INFO] 75\t\t4.0\n"
          ]
        },
        {
          "output_type": "stream",
          "name": "stderr",
          "text": [
            "INFO:NEURONIOUtils:75\t\t4.0\n"
          ]
        },
        {
          "output_type": "stream",
          "name": "stdout",
          "text": [
            "2023-05-12 22:18:03,546 [INFO] 76\t\t4.0\n"
          ]
        },
        {
          "output_type": "stream",
          "name": "stderr",
          "text": [
            "INFO:NEURONIOUtils:76\t\t4.0\n"
          ]
        },
        {
          "output_type": "stream",
          "name": "stdout",
          "text": [
            "2023-05-12 22:18:03,548 [INFO] 77\t\t4.0\n"
          ]
        },
        {
          "output_type": "stream",
          "name": "stderr",
          "text": [
            "INFO:NEURONIOUtils:77\t\t4.0\n"
          ]
        },
        {
          "output_type": "stream",
          "name": "stdout",
          "text": [
            "2023-05-12 22:18:03,550 [INFO] 78\t\t4.0\n"
          ]
        },
        {
          "output_type": "stream",
          "name": "stderr",
          "text": [
            "INFO:NEURONIOUtils:78\t\t4.0\n"
          ]
        },
        {
          "output_type": "stream",
          "name": "stdout",
          "text": [
            "2023-05-12 22:18:03,552 [INFO] 79\t\t4.0\n"
          ]
        },
        {
          "output_type": "stream",
          "name": "stderr",
          "text": [
            "INFO:NEURONIOUtils:79\t\t4.0\n"
          ]
        },
        {
          "output_type": "stream",
          "name": "stdout",
          "text": [
            "2023-05-12 22:18:03,554 [INFO] PGN firing rate avg: 4.0 Hz\n"
          ]
        },
        {
          "output_type": "stream",
          "name": "stderr",
          "text": [
            "INFO:NEURONIOUtils:PGN firing rate avg: 4.0 Hz\n"
          ]
        },
        {
          "output_type": "stream",
          "name": "stdout",
          "text": [
            "2023-05-12 22:18:03,556 [INFO] Grill PGN fr = 3.15 Hz\n"
          ]
        },
        {
          "output_type": "stream",
          "name": "stderr",
          "text": [
            "INFO:NEURONIOUtils:Grill PGN fr = 3.15 Hz\n"
          ]
        },
        {
          "output_type": "stream",
          "name": "stdout",
          "text": [
            "2023-05-12 22:18:03,558 [INFO] IMG node_gid\t  Hz\n"
          ]
        },
        {
          "output_type": "stream",
          "name": "stderr",
          "text": [
            "INFO:NEURONIOUtils:IMG node_gid\t  Hz\n"
          ]
        },
        {
          "output_type": "stream",
          "name": "stdout",
          "text": [
            "2023-05-12 22:18:03,559 [INFO] IMG firing rate avg: 4.0 Hz\n"
          ]
        },
        {
          "output_type": "stream",
          "name": "stderr",
          "text": [
            "INFO:NEURONIOUtils:IMG firing rate avg: 4.0 Hz\n"
          ]
        },
        {
          "output_type": "stream",
          "name": "stdout",
          "text": [
            "2023-05-12 22:18:03,568 [INFO] PGN firing rate = 4.00 Hz\n"
          ]
        },
        {
          "output_type": "stream",
          "name": "stderr",
          "text": [
            "/usr/local/lib/python3.10/dist-packages/bmtk/utils/reports/spike_trains/spike_trains.py:183: RuntimeWarning: divide by zero encountered in double_scalars\n",
            "  interval = -np.log(1.0 - np.random.uniform()) / fr\n",
            "INFO:NEURONIOUtils:PGN firing rate = 4.00 Hz\n"
          ]
        },
        {
          "output_type": "stream",
          "name": "stdout",
          "text": [
            "2023-05-12 22:18:03,576 [INFO] Volume = 36.4583 ml\n"
          ]
        },
        {
          "output_type": "stream",
          "name": "stderr",
          "text": [
            "INFO:NEURONIOUtils:Volume = 36.4583 ml\n"
          ]
        },
        {
          "output_type": "stream",
          "name": "stdout",
          "text": [
            "2023-05-12 22:18:03,578 [INFO] Pressure = 7.79 mmHg\n"
          ]
        },
        {
          "output_type": "stream",
          "name": "stderr",
          "text": [
            "INFO:NEURONIOUtils:Pressure = 7.79 mmHg\n"
          ]
        },
        {
          "output_type": "stream",
          "name": "stdout",
          "text": [
            "2023-05-12 22:18:03,579 [INFO] Calculated bladder afferent firing rate for the next time step = 0.00 Hz \n",
            " \n",
            "\n"
          ]
        },
        {
          "output_type": "stream",
          "name": "stderr",
          "text": [
            "INFO:NEURONIOUtils:Calculated bladder afferent firing rate for the next time step = 0.00 Hz \n",
            " \n",
            "\n"
          ]
        },
        {
          "output_type": "stream",
          "name": "stdout",
          "text": [
            "2023-05-12 22:18:04,682 [INFO]     step:92500 t_sim:18500.00 ms\n"
          ]
        },
        {
          "output_type": "stream",
          "name": "stderr",
          "text": [
            "INFO:NEURONIOUtils:    step:92500 t_sim:18500.00 ms\n"
          ]
        },
        {
          "output_type": "stream",
          "name": "stdout",
          "text": [
            "2023-05-12 22:18:04,694 [INFO] Timestep 18000.0 to 18500.0 ms\n"
          ]
        },
        {
          "output_type": "stream",
          "name": "stderr",
          "text": [
            "INFO:NEURONIOUtils:Timestep 18000.0 to 18500.0 ms\n"
          ]
        },
        {
          "output_type": "stream",
          "name": "stdout",
          "text": [
            "2023-05-12 22:18:04,700 [INFO] PGN node_id\t  Hz\n"
          ]
        },
        {
          "output_type": "stream",
          "name": "stderr",
          "text": [
            "INFO:NEURONIOUtils:PGN node_id\t  Hz\n"
          ]
        },
        {
          "output_type": "stream",
          "name": "stdout",
          "text": [
            "2023-05-12 22:18:04,703 [INFO] 70\t\t6.0\n"
          ]
        },
        {
          "output_type": "stream",
          "name": "stderr",
          "text": [
            "INFO:NEURONIOUtils:70\t\t6.0\n"
          ]
        },
        {
          "output_type": "stream",
          "name": "stdout",
          "text": [
            "2023-05-12 22:18:04,706 [INFO] 71\t\t6.0\n"
          ]
        },
        {
          "output_type": "stream",
          "name": "stderr",
          "text": [
            "INFO:NEURONIOUtils:71\t\t6.0\n"
          ]
        },
        {
          "output_type": "stream",
          "name": "stdout",
          "text": [
            "2023-05-12 22:18:04,713 [INFO] 72\t\t6.0\n"
          ]
        },
        {
          "output_type": "stream",
          "name": "stderr",
          "text": [
            "INFO:NEURONIOUtils:72\t\t6.0\n"
          ]
        },
        {
          "output_type": "stream",
          "name": "stdout",
          "text": [
            "2023-05-12 22:18:04,715 [INFO] 73\t\t6.0\n"
          ]
        },
        {
          "output_type": "stream",
          "name": "stderr",
          "text": [
            "INFO:NEURONIOUtils:73\t\t6.0\n"
          ]
        },
        {
          "output_type": "stream",
          "name": "stdout",
          "text": [
            "2023-05-12 22:18:04,717 [INFO] 74\t\t6.0\n"
          ]
        },
        {
          "output_type": "stream",
          "name": "stderr",
          "text": [
            "INFO:NEURONIOUtils:74\t\t6.0\n"
          ]
        },
        {
          "output_type": "stream",
          "name": "stdout",
          "text": [
            "2023-05-12 22:18:04,723 [INFO] 75\t\t6.0\n"
          ]
        },
        {
          "output_type": "stream",
          "name": "stderr",
          "text": [
            "INFO:NEURONIOUtils:75\t\t6.0\n"
          ]
        },
        {
          "output_type": "stream",
          "name": "stdout",
          "text": [
            "2023-05-12 22:18:04,725 [INFO] 76\t\t6.0\n"
          ]
        },
        {
          "output_type": "stream",
          "name": "stderr",
          "text": [
            "INFO:NEURONIOUtils:76\t\t6.0\n"
          ]
        },
        {
          "output_type": "stream",
          "name": "stdout",
          "text": [
            "2023-05-12 22:18:04,727 [INFO] 77\t\t6.0\n"
          ]
        },
        {
          "output_type": "stream",
          "name": "stderr",
          "text": [
            "INFO:NEURONIOUtils:77\t\t6.0\n"
          ]
        },
        {
          "output_type": "stream",
          "name": "stdout",
          "text": [
            "2023-05-12 22:18:04,728 [INFO] 78\t\t6.0\n"
          ]
        },
        {
          "output_type": "stream",
          "name": "stderr",
          "text": [
            "INFO:NEURONIOUtils:78\t\t6.0\n"
          ]
        },
        {
          "output_type": "stream",
          "name": "stdout",
          "text": [
            "2023-05-12 22:18:04,730 [INFO] 79\t\t6.0\n"
          ]
        },
        {
          "output_type": "stream",
          "name": "stderr",
          "text": [
            "INFO:NEURONIOUtils:79\t\t6.0\n"
          ]
        },
        {
          "output_type": "stream",
          "name": "stdout",
          "text": [
            "2023-05-12 22:18:04,732 [INFO] PGN firing rate avg: 6.0 Hz\n"
          ]
        },
        {
          "output_type": "stream",
          "name": "stderr",
          "text": [
            "INFO:NEURONIOUtils:PGN firing rate avg: 6.0 Hz\n"
          ]
        },
        {
          "output_type": "stream",
          "name": "stdout",
          "text": [
            "2023-05-12 22:18:04,733 [INFO] Grill PGN fr = 4.772 Hz\n"
          ]
        },
        {
          "output_type": "stream",
          "name": "stderr",
          "text": [
            "INFO:NEURONIOUtils:Grill PGN fr = 4.772 Hz\n"
          ]
        },
        {
          "output_type": "stream",
          "name": "stdout",
          "text": [
            "2023-05-12 22:18:04,735 [INFO] IMG node_gid\t  Hz\n"
          ]
        },
        {
          "output_type": "stream",
          "name": "stderr",
          "text": [
            "INFO:NEURONIOUtils:IMG node_gid\t  Hz\n"
          ]
        },
        {
          "output_type": "stream",
          "name": "stdout",
          "text": [
            "2023-05-12 22:18:04,737 [INFO] IMG firing rate avg: 6.0 Hz\n"
          ]
        },
        {
          "output_type": "stream",
          "name": "stderr",
          "text": [
            "INFO:NEURONIOUtils:IMG firing rate avg: 6.0 Hz\n"
          ]
        },
        {
          "output_type": "stream",
          "name": "stdout",
          "text": [
            "2023-05-12 22:18:04,744 [INFO] PGN firing rate = 6.00 Hz\n"
          ]
        },
        {
          "output_type": "stream",
          "name": "stderr",
          "text": [
            "/usr/local/lib/python3.10/dist-packages/bmtk/utils/reports/spike_trains/spike_trains.py:183: RuntimeWarning: divide by zero encountered in double_scalars\n",
            "  interval = -np.log(1.0 - np.random.uniform()) / fr\n",
            "INFO:NEURONIOUtils:PGN firing rate = 6.00 Hz\n"
          ]
        },
        {
          "output_type": "stream",
          "name": "stdout",
          "text": [
            "2023-05-12 22:18:04,746 [INFO] Volume = 37.5000 ml\n"
          ]
        },
        {
          "output_type": "stream",
          "name": "stderr",
          "text": [
            "INFO:NEURONIOUtils:Volume = 37.5000 ml\n"
          ]
        },
        {
          "output_type": "stream",
          "name": "stdout",
          "text": [
            "2023-05-12 22:18:04,748 [INFO] Pressure = 8.19 mmHg\n"
          ]
        },
        {
          "output_type": "stream",
          "name": "stderr",
          "text": [
            "INFO:NEURONIOUtils:Pressure = 8.19 mmHg\n"
          ]
        },
        {
          "output_type": "stream",
          "name": "stdout",
          "text": [
            "2023-05-12 22:18:04,750 [INFO] Calculated bladder afferent firing rate for the next time step = 0.00 Hz \n",
            " \n",
            "\n"
          ]
        },
        {
          "output_type": "stream",
          "name": "stderr",
          "text": [
            "INFO:NEURONIOUtils:Calculated bladder afferent firing rate for the next time step = 0.00 Hz \n",
            " \n",
            "\n"
          ]
        },
        {
          "output_type": "stream",
          "name": "stdout",
          "text": [
            "2023-05-12 22:18:05,859 [INFO]     step:95000 t_sim:19000.00 ms\n"
          ]
        },
        {
          "output_type": "stream",
          "name": "stderr",
          "text": [
            "INFO:NEURONIOUtils:    step:95000 t_sim:19000.00 ms\n"
          ]
        },
        {
          "output_type": "stream",
          "name": "stdout",
          "text": [
            "2023-05-12 22:18:05,871 [INFO] Timestep 18500.0 to 19000.0 ms\n"
          ]
        },
        {
          "output_type": "stream",
          "name": "stderr",
          "text": [
            "INFO:NEURONIOUtils:Timestep 18500.0 to 19000.0 ms\n"
          ]
        },
        {
          "output_type": "stream",
          "name": "stdout",
          "text": [
            "2023-05-12 22:18:05,875 [INFO] PGN node_id\t  Hz\n"
          ]
        },
        {
          "output_type": "stream",
          "name": "stderr",
          "text": [
            "INFO:NEURONIOUtils:PGN node_id\t  Hz\n"
          ]
        },
        {
          "output_type": "stream",
          "name": "stdout",
          "text": [
            "2023-05-12 22:18:05,879 [INFO] 70\t\t4.0\n"
          ]
        },
        {
          "output_type": "stream",
          "name": "stderr",
          "text": [
            "INFO:NEURONIOUtils:70\t\t4.0\n"
          ]
        },
        {
          "output_type": "stream",
          "name": "stdout",
          "text": [
            "2023-05-12 22:18:05,881 [INFO] 71\t\t4.0\n"
          ]
        },
        {
          "output_type": "stream",
          "name": "stderr",
          "text": [
            "INFO:NEURONIOUtils:71\t\t4.0\n"
          ]
        },
        {
          "output_type": "stream",
          "name": "stdout",
          "text": [
            "2023-05-12 22:18:05,883 [INFO] 72\t\t4.0\n"
          ]
        },
        {
          "output_type": "stream",
          "name": "stderr",
          "text": [
            "INFO:NEURONIOUtils:72\t\t4.0\n"
          ]
        },
        {
          "output_type": "stream",
          "name": "stdout",
          "text": [
            "2023-05-12 22:18:05,885 [INFO] 73\t\t4.0\n"
          ]
        },
        {
          "output_type": "stream",
          "name": "stderr",
          "text": [
            "INFO:NEURONIOUtils:73\t\t4.0\n"
          ]
        },
        {
          "output_type": "stream",
          "name": "stdout",
          "text": [
            "2023-05-12 22:18:05,888 [INFO] 74\t\t4.0\n"
          ]
        },
        {
          "output_type": "stream",
          "name": "stderr",
          "text": [
            "INFO:NEURONIOUtils:74\t\t4.0\n"
          ]
        },
        {
          "output_type": "stream",
          "name": "stdout",
          "text": [
            "2023-05-12 22:18:05,890 [INFO] 75\t\t4.0\n"
          ]
        },
        {
          "output_type": "stream",
          "name": "stderr",
          "text": [
            "INFO:NEURONIOUtils:75\t\t4.0\n"
          ]
        },
        {
          "output_type": "stream",
          "name": "stdout",
          "text": [
            "2023-05-12 22:18:05,892 [INFO] 76\t\t4.0\n"
          ]
        },
        {
          "output_type": "stream",
          "name": "stderr",
          "text": [
            "INFO:NEURONIOUtils:76\t\t4.0\n"
          ]
        },
        {
          "output_type": "stream",
          "name": "stdout",
          "text": [
            "2023-05-12 22:18:05,894 [INFO] 77\t\t4.0\n"
          ]
        },
        {
          "output_type": "stream",
          "name": "stderr",
          "text": [
            "INFO:NEURONIOUtils:77\t\t4.0\n"
          ]
        },
        {
          "output_type": "stream",
          "name": "stdout",
          "text": [
            "2023-05-12 22:18:05,896 [INFO] 78\t\t4.0\n"
          ]
        },
        {
          "output_type": "stream",
          "name": "stderr",
          "text": [
            "INFO:NEURONIOUtils:78\t\t4.0\n"
          ]
        },
        {
          "output_type": "stream",
          "name": "stdout",
          "text": [
            "2023-05-12 22:18:05,898 [INFO] 79\t\t4.0\n"
          ]
        },
        {
          "output_type": "stream",
          "name": "stderr",
          "text": [
            "INFO:NEURONIOUtils:79\t\t4.0\n"
          ]
        },
        {
          "output_type": "stream",
          "name": "stdout",
          "text": [
            "2023-05-12 22:18:05,903 [INFO] PGN firing rate avg: 4.0 Hz\n"
          ]
        },
        {
          "output_type": "stream",
          "name": "stderr",
          "text": [
            "INFO:NEURONIOUtils:PGN firing rate avg: 4.0 Hz\n"
          ]
        },
        {
          "output_type": "stream",
          "name": "stdout",
          "text": [
            "2023-05-12 22:18:05,905 [INFO] Grill PGN fr = 3.15 Hz\n"
          ]
        },
        {
          "output_type": "stream",
          "name": "stderr",
          "text": [
            "INFO:NEURONIOUtils:Grill PGN fr = 3.15 Hz\n"
          ]
        },
        {
          "output_type": "stream",
          "name": "stdout",
          "text": [
            "2023-05-12 22:18:05,907 [INFO] IMG node_gid\t  Hz\n"
          ]
        },
        {
          "output_type": "stream",
          "name": "stderr",
          "text": [
            "INFO:NEURONIOUtils:IMG node_gid\t  Hz\n"
          ]
        },
        {
          "output_type": "stream",
          "name": "stdout",
          "text": [
            "2023-05-12 22:18:05,911 [INFO] IMG firing rate avg: 4.0 Hz\n"
          ]
        },
        {
          "output_type": "stream",
          "name": "stderr",
          "text": [
            "INFO:NEURONIOUtils:IMG firing rate avg: 4.0 Hz\n"
          ]
        },
        {
          "output_type": "stream",
          "name": "stdout",
          "text": [
            "2023-05-12 22:18:05,920 [INFO] PGN firing rate = 4.00 Hz\n"
          ]
        },
        {
          "output_type": "stream",
          "name": "stderr",
          "text": [
            "/usr/local/lib/python3.10/dist-packages/bmtk/utils/reports/spike_trains/spike_trains.py:183: RuntimeWarning: divide by zero encountered in double_scalars\n",
            "  interval = -np.log(1.0 - np.random.uniform()) / fr\n",
            "INFO:NEURONIOUtils:PGN firing rate = 4.00 Hz\n"
          ]
        },
        {
          "output_type": "stream",
          "name": "stdout",
          "text": [
            "2023-05-12 22:18:05,923 [INFO] Volume = 38.5417 ml\n"
          ]
        },
        {
          "output_type": "stream",
          "name": "stderr",
          "text": [
            "INFO:NEURONIOUtils:Volume = 38.5417 ml\n"
          ]
        },
        {
          "output_type": "stream",
          "name": "stdout",
          "text": [
            "2023-05-12 22:18:05,925 [INFO] Pressure = 7.79 mmHg\n"
          ]
        },
        {
          "output_type": "stream",
          "name": "stderr",
          "text": [
            "INFO:NEURONIOUtils:Pressure = 7.79 mmHg\n"
          ]
        },
        {
          "output_type": "stream",
          "name": "stdout",
          "text": [
            "2023-05-12 22:18:05,927 [INFO] Calculated bladder afferent firing rate for the next time step = 0.00 Hz \n",
            " \n",
            "\n"
          ]
        },
        {
          "output_type": "stream",
          "name": "stderr",
          "text": [
            "INFO:NEURONIOUtils:Calculated bladder afferent firing rate for the next time step = 0.00 Hz \n",
            " \n",
            "\n"
          ]
        },
        {
          "output_type": "stream",
          "name": "stdout",
          "text": [
            "2023-05-12 22:18:07,060 [INFO]     step:97500 t_sim:19500.00 ms\n"
          ]
        },
        {
          "output_type": "stream",
          "name": "stderr",
          "text": [
            "INFO:NEURONIOUtils:    step:97500 t_sim:19500.00 ms\n"
          ]
        },
        {
          "output_type": "stream",
          "name": "stdout",
          "text": [
            "2023-05-12 22:18:07,073 [INFO] Timestep 19000.0 to 19500.0 ms\n"
          ]
        },
        {
          "output_type": "stream",
          "name": "stderr",
          "text": [
            "INFO:NEURONIOUtils:Timestep 19000.0 to 19500.0 ms\n"
          ]
        },
        {
          "output_type": "stream",
          "name": "stdout",
          "text": [
            "2023-05-12 22:18:07,080 [INFO] PGN node_id\t  Hz\n"
          ]
        },
        {
          "output_type": "stream",
          "name": "stderr",
          "text": [
            "INFO:NEURONIOUtils:PGN node_id\t  Hz\n"
          ]
        },
        {
          "output_type": "stream",
          "name": "stdout",
          "text": [
            "2023-05-12 22:18:07,087 [INFO] 70\t\t4.0\n"
          ]
        },
        {
          "output_type": "stream",
          "name": "stderr",
          "text": [
            "INFO:NEURONIOUtils:70\t\t4.0\n"
          ]
        },
        {
          "output_type": "stream",
          "name": "stdout",
          "text": [
            "2023-05-12 22:18:07,089 [INFO] 71\t\t4.0\n"
          ]
        },
        {
          "output_type": "stream",
          "name": "stderr",
          "text": [
            "INFO:NEURONIOUtils:71\t\t4.0\n"
          ]
        },
        {
          "output_type": "stream",
          "name": "stdout",
          "text": [
            "2023-05-12 22:18:07,092 [INFO] 72\t\t4.0\n"
          ]
        },
        {
          "output_type": "stream",
          "name": "stderr",
          "text": [
            "INFO:NEURONIOUtils:72\t\t4.0\n"
          ]
        },
        {
          "output_type": "stream",
          "name": "stdout",
          "text": [
            "2023-05-12 22:18:07,094 [INFO] 73\t\t4.0\n"
          ]
        },
        {
          "output_type": "stream",
          "name": "stderr",
          "text": [
            "INFO:NEURONIOUtils:73\t\t4.0\n"
          ]
        },
        {
          "output_type": "stream",
          "name": "stdout",
          "text": [
            "2023-05-12 22:18:07,096 [INFO] 74\t\t4.0\n"
          ]
        },
        {
          "output_type": "stream",
          "name": "stderr",
          "text": [
            "INFO:NEURONIOUtils:74\t\t4.0\n"
          ]
        },
        {
          "output_type": "stream",
          "name": "stdout",
          "text": [
            "2023-05-12 22:18:07,099 [INFO] 75\t\t4.0\n"
          ]
        },
        {
          "output_type": "stream",
          "name": "stderr",
          "text": [
            "INFO:NEURONIOUtils:75\t\t4.0\n"
          ]
        },
        {
          "output_type": "stream",
          "name": "stdout",
          "text": [
            "2023-05-12 22:18:07,101 [INFO] 76\t\t4.0\n"
          ]
        },
        {
          "output_type": "stream",
          "name": "stderr",
          "text": [
            "INFO:NEURONIOUtils:76\t\t4.0\n"
          ]
        },
        {
          "output_type": "stream",
          "name": "stdout",
          "text": [
            "2023-05-12 22:18:07,103 [INFO] 77\t\t4.0\n"
          ]
        },
        {
          "output_type": "stream",
          "name": "stderr",
          "text": [
            "INFO:NEURONIOUtils:77\t\t4.0\n"
          ]
        },
        {
          "output_type": "stream",
          "name": "stdout",
          "text": [
            "2023-05-12 22:18:07,105 [INFO] 78\t\t4.0\n"
          ]
        },
        {
          "output_type": "stream",
          "name": "stderr",
          "text": [
            "INFO:NEURONIOUtils:78\t\t4.0\n"
          ]
        },
        {
          "output_type": "stream",
          "name": "stdout",
          "text": [
            "2023-05-12 22:18:07,108 [INFO] 79\t\t4.0\n"
          ]
        },
        {
          "output_type": "stream",
          "name": "stderr",
          "text": [
            "INFO:NEURONIOUtils:79\t\t4.0\n"
          ]
        },
        {
          "output_type": "stream",
          "name": "stdout",
          "text": [
            "2023-05-12 22:18:07,110 [INFO] PGN firing rate avg: 4.0 Hz\n"
          ]
        },
        {
          "output_type": "stream",
          "name": "stderr",
          "text": [
            "INFO:NEURONIOUtils:PGN firing rate avg: 4.0 Hz\n"
          ]
        },
        {
          "output_type": "stream",
          "name": "stdout",
          "text": [
            "2023-05-12 22:18:07,112 [INFO] Grill PGN fr = 3.15 Hz\n"
          ]
        },
        {
          "output_type": "stream",
          "name": "stderr",
          "text": [
            "INFO:NEURONIOUtils:Grill PGN fr = 3.15 Hz\n"
          ]
        },
        {
          "output_type": "stream",
          "name": "stdout",
          "text": [
            "2023-05-12 22:18:07,114 [INFO] IMG node_gid\t  Hz\n"
          ]
        },
        {
          "output_type": "stream",
          "name": "stderr",
          "text": [
            "INFO:NEURONIOUtils:IMG node_gid\t  Hz\n"
          ]
        },
        {
          "output_type": "stream",
          "name": "stdout",
          "text": [
            "2023-05-12 22:18:07,116 [INFO] IMG firing rate avg: 4.0 Hz\n"
          ]
        },
        {
          "output_type": "stream",
          "name": "stderr",
          "text": [
            "INFO:NEURONIOUtils:IMG firing rate avg: 4.0 Hz\n"
          ]
        },
        {
          "output_type": "stream",
          "name": "stdout",
          "text": [
            "2023-05-12 22:18:07,126 [INFO] PGN firing rate = 4.00 Hz\n"
          ]
        },
        {
          "output_type": "stream",
          "name": "stderr",
          "text": [
            "/usr/local/lib/python3.10/dist-packages/bmtk/utils/reports/spike_trains/spike_trains.py:183: RuntimeWarning: divide by zero encountered in double_scalars\n",
            "  interval = -np.log(1.0 - np.random.uniform()) / fr\n",
            "INFO:NEURONIOUtils:PGN firing rate = 4.00 Hz\n"
          ]
        },
        {
          "output_type": "stream",
          "name": "stdout",
          "text": [
            "2023-05-12 22:18:07,130 [INFO] Volume = 39.5833 ml\n"
          ]
        },
        {
          "output_type": "stream",
          "name": "stderr",
          "text": [
            "INFO:NEURONIOUtils:Volume = 39.5833 ml\n"
          ]
        },
        {
          "output_type": "stream",
          "name": "stdout",
          "text": [
            "2023-05-12 22:18:07,132 [INFO] Pressure = 7.79 mmHg\n"
          ]
        },
        {
          "output_type": "stream",
          "name": "stderr",
          "text": [
            "INFO:NEURONIOUtils:Pressure = 7.79 mmHg\n"
          ]
        },
        {
          "output_type": "stream",
          "name": "stdout",
          "text": [
            "2023-05-12 22:18:07,134 [INFO] Calculated bladder afferent firing rate for the next time step = 0.00 Hz \n",
            " \n",
            "\n"
          ]
        },
        {
          "output_type": "stream",
          "name": "stderr",
          "text": [
            "INFO:NEURONIOUtils:Calculated bladder afferent firing rate for the next time step = 0.00 Hz \n",
            " \n",
            "\n"
          ]
        },
        {
          "output_type": "stream",
          "name": "stdout",
          "text": [
            "2023-05-12 22:18:08,284 [INFO]     step:100000 t_sim:20000.00 ms\n"
          ]
        },
        {
          "output_type": "stream",
          "name": "stderr",
          "text": [
            "INFO:NEURONIOUtils:    step:100000 t_sim:20000.00 ms\n"
          ]
        },
        {
          "output_type": "stream",
          "name": "stdout",
          "text": [
            "2023-05-12 22:18:08,296 [INFO] Timestep 19500.0 to 20000.0 ms\n"
          ]
        },
        {
          "output_type": "stream",
          "name": "stderr",
          "text": [
            "INFO:NEURONIOUtils:Timestep 19500.0 to 20000.0 ms\n"
          ]
        },
        {
          "output_type": "stream",
          "name": "stdout",
          "text": [
            "2023-05-12 22:18:08,302 [INFO] PGN node_id\t  Hz\n"
          ]
        },
        {
          "output_type": "stream",
          "name": "stderr",
          "text": [
            "INFO:NEURONIOUtils:PGN node_id\t  Hz\n"
          ]
        },
        {
          "output_type": "stream",
          "name": "stdout",
          "text": [
            "2023-05-12 22:18:08,306 [INFO] 70\t\t2.0\n"
          ]
        },
        {
          "output_type": "stream",
          "name": "stderr",
          "text": [
            "INFO:NEURONIOUtils:70\t\t2.0\n"
          ]
        },
        {
          "output_type": "stream",
          "name": "stdout",
          "text": [
            "2023-05-12 22:18:08,308 [INFO] 71\t\t2.0\n"
          ]
        },
        {
          "output_type": "stream",
          "name": "stderr",
          "text": [
            "INFO:NEURONIOUtils:71\t\t2.0\n"
          ]
        },
        {
          "output_type": "stream",
          "name": "stdout",
          "text": [
            "2023-05-12 22:18:08,311 [INFO] 72\t\t2.0\n"
          ]
        },
        {
          "output_type": "stream",
          "name": "stderr",
          "text": [
            "INFO:NEURONIOUtils:72\t\t2.0\n"
          ]
        },
        {
          "output_type": "stream",
          "name": "stdout",
          "text": [
            "2023-05-12 22:18:08,313 [INFO] 73\t\t2.0\n"
          ]
        },
        {
          "output_type": "stream",
          "name": "stderr",
          "text": [
            "INFO:NEURONIOUtils:73\t\t2.0\n"
          ]
        },
        {
          "output_type": "stream",
          "name": "stdout",
          "text": [
            "2023-05-12 22:18:08,316 [INFO] 74\t\t2.0\n"
          ]
        },
        {
          "output_type": "stream",
          "name": "stderr",
          "text": [
            "INFO:NEURONIOUtils:74\t\t2.0\n"
          ]
        },
        {
          "output_type": "stream",
          "name": "stdout",
          "text": [
            "2023-05-12 22:18:08,318 [INFO] 75\t\t2.0\n"
          ]
        },
        {
          "output_type": "stream",
          "name": "stderr",
          "text": [
            "INFO:NEURONIOUtils:75\t\t2.0\n"
          ]
        },
        {
          "output_type": "stream",
          "name": "stdout",
          "text": [
            "2023-05-12 22:18:08,321 [INFO] 76\t\t2.0\n"
          ]
        },
        {
          "output_type": "stream",
          "name": "stderr",
          "text": [
            "INFO:NEURONIOUtils:76\t\t2.0\n"
          ]
        },
        {
          "output_type": "stream",
          "name": "stdout",
          "text": [
            "2023-05-12 22:18:08,323 [INFO] 77\t\t2.0\n"
          ]
        },
        {
          "output_type": "stream",
          "name": "stderr",
          "text": [
            "INFO:NEURONIOUtils:77\t\t2.0\n"
          ]
        },
        {
          "output_type": "stream",
          "name": "stdout",
          "text": [
            "2023-05-12 22:18:08,325 [INFO] 78\t\t2.0\n"
          ]
        },
        {
          "output_type": "stream",
          "name": "stderr",
          "text": [
            "INFO:NEURONIOUtils:78\t\t2.0\n"
          ]
        },
        {
          "output_type": "stream",
          "name": "stdout",
          "text": [
            "2023-05-12 22:18:08,326 [INFO] 79\t\t2.0\n"
          ]
        },
        {
          "output_type": "stream",
          "name": "stderr",
          "text": [
            "INFO:NEURONIOUtils:79\t\t2.0\n"
          ]
        },
        {
          "output_type": "stream",
          "name": "stdout",
          "text": [
            "2023-05-12 22:18:08,328 [INFO] PGN firing rate avg: 2.0 Hz\n"
          ]
        },
        {
          "output_type": "stream",
          "name": "stderr",
          "text": [
            "INFO:NEURONIOUtils:PGN firing rate avg: 2.0 Hz\n"
          ]
        },
        {
          "output_type": "stream",
          "name": "stdout",
          "text": [
            "2023-05-12 22:18:08,330 [INFO] Grill PGN fr = 1.492 Hz\n"
          ]
        },
        {
          "output_type": "stream",
          "name": "stderr",
          "text": [
            "INFO:NEURONIOUtils:Grill PGN fr = 1.492 Hz\n"
          ]
        },
        {
          "output_type": "stream",
          "name": "stdout",
          "text": [
            "2023-05-12 22:18:08,332 [INFO] IMG node_gid\t  Hz\n"
          ]
        },
        {
          "output_type": "stream",
          "name": "stderr",
          "text": [
            "INFO:NEURONIOUtils:IMG node_gid\t  Hz\n"
          ]
        },
        {
          "output_type": "stream",
          "name": "stdout",
          "text": [
            "2023-05-12 22:18:08,334 [INFO] IMG firing rate avg: 2.0 Hz\n"
          ]
        },
        {
          "output_type": "stream",
          "name": "stderr",
          "text": [
            "INFO:NEURONIOUtils:IMG firing rate avg: 2.0 Hz\n"
          ]
        },
        {
          "output_type": "stream",
          "name": "stdout",
          "text": [
            "2023-05-12 22:18:08,345 [INFO] PGN firing rate = 2.00 Hz\n"
          ]
        },
        {
          "output_type": "stream",
          "name": "stderr",
          "text": [
            "/usr/local/lib/python3.10/dist-packages/bmtk/utils/reports/spike_trains/spike_trains.py:183: RuntimeWarning: divide by zero encountered in double_scalars\n",
            "  interval = -np.log(1.0 - np.random.uniform()) / fr\n",
            "INFO:NEURONIOUtils:PGN firing rate = 2.00 Hz\n"
          ]
        },
        {
          "output_type": "stream",
          "name": "stdout",
          "text": [
            "2023-05-12 22:18:08,348 [INFO] Volume = 40.6250 ml\n"
          ]
        },
        {
          "output_type": "stream",
          "name": "stderr",
          "text": [
            "INFO:NEURONIOUtils:Volume = 40.6250 ml\n"
          ]
        },
        {
          "output_type": "stream",
          "name": "stdout",
          "text": [
            "2023-05-12 22:18:08,350 [INFO] Pressure = 7.37 mmHg\n"
          ]
        },
        {
          "output_type": "stream",
          "name": "stderr",
          "text": [
            "INFO:NEURONIOUtils:Pressure = 7.37 mmHg\n"
          ]
        },
        {
          "output_type": "stream",
          "name": "stdout",
          "text": [
            "2023-05-12 22:18:08,352 [INFO] Calculated bladder afferent firing rate for the next time step = 0.00 Hz \n",
            " \n",
            "\n"
          ]
        },
        {
          "output_type": "stream",
          "name": "stderr",
          "text": [
            "INFO:NEURONIOUtils:Calculated bladder afferent firing rate for the next time step = 0.00 Hz \n",
            " \n",
            "\n"
          ]
        },
        {
          "output_type": "stream",
          "name": "stdout",
          "text": [
            "2023-05-12 22:18:09,512 [INFO]     step:102500 t_sim:20500.00 ms\n"
          ]
        },
        {
          "output_type": "stream",
          "name": "stderr",
          "text": [
            "INFO:NEURONIOUtils:    step:102500 t_sim:20500.00 ms\n"
          ]
        },
        {
          "output_type": "stream",
          "name": "stdout",
          "text": [
            "2023-05-12 22:18:09,522 [INFO] Timestep 20000.0 to 20500.0 ms\n"
          ]
        },
        {
          "output_type": "stream",
          "name": "stderr",
          "text": [
            "INFO:NEURONIOUtils:Timestep 20000.0 to 20500.0 ms\n"
          ]
        },
        {
          "output_type": "stream",
          "name": "stdout",
          "text": [
            "2023-05-12 22:18:09,528 [INFO] PGN node_id\t  Hz\n"
          ]
        },
        {
          "output_type": "stream",
          "name": "stderr",
          "text": [
            "INFO:NEURONIOUtils:PGN node_id\t  Hz\n"
          ]
        },
        {
          "output_type": "stream",
          "name": "stdout",
          "text": [
            "2023-05-12 22:18:09,531 [INFO] 70\t\t4.0\n"
          ]
        },
        {
          "output_type": "stream",
          "name": "stderr",
          "text": [
            "INFO:NEURONIOUtils:70\t\t4.0\n"
          ]
        },
        {
          "output_type": "stream",
          "name": "stdout",
          "text": [
            "2023-05-12 22:18:09,535 [INFO] 71\t\t4.0\n"
          ]
        },
        {
          "output_type": "stream",
          "name": "stderr",
          "text": [
            "INFO:NEURONIOUtils:71\t\t4.0\n"
          ]
        },
        {
          "output_type": "stream",
          "name": "stdout",
          "text": [
            "2023-05-12 22:18:09,537 [INFO] 72\t\t4.0\n"
          ]
        },
        {
          "output_type": "stream",
          "name": "stderr",
          "text": [
            "INFO:NEURONIOUtils:72\t\t4.0\n"
          ]
        },
        {
          "output_type": "stream",
          "name": "stdout",
          "text": [
            "2023-05-12 22:18:09,540 [INFO] 73\t\t4.0\n"
          ]
        },
        {
          "output_type": "stream",
          "name": "stderr",
          "text": [
            "INFO:NEURONIOUtils:73\t\t4.0\n"
          ]
        },
        {
          "output_type": "stream",
          "name": "stdout",
          "text": [
            "2023-05-12 22:18:09,542 [INFO] 74\t\t4.0\n"
          ]
        },
        {
          "output_type": "stream",
          "name": "stderr",
          "text": [
            "INFO:NEURONIOUtils:74\t\t4.0\n"
          ]
        },
        {
          "output_type": "stream",
          "name": "stdout",
          "text": [
            "2023-05-12 22:18:09,545 [INFO] 75\t\t4.0\n"
          ]
        },
        {
          "output_type": "stream",
          "name": "stderr",
          "text": [
            "INFO:NEURONIOUtils:75\t\t4.0\n"
          ]
        },
        {
          "output_type": "stream",
          "name": "stdout",
          "text": [
            "2023-05-12 22:18:09,548 [INFO] 76\t\t4.0\n"
          ]
        },
        {
          "output_type": "stream",
          "name": "stderr",
          "text": [
            "INFO:NEURONIOUtils:76\t\t4.0\n"
          ]
        },
        {
          "output_type": "stream",
          "name": "stdout",
          "text": [
            "2023-05-12 22:18:09,554 [INFO] 77\t\t4.0\n"
          ]
        },
        {
          "output_type": "stream",
          "name": "stderr",
          "text": [
            "INFO:NEURONIOUtils:77\t\t4.0\n"
          ]
        },
        {
          "output_type": "stream",
          "name": "stdout",
          "text": [
            "2023-05-12 22:18:09,559 [INFO] 78\t\t4.0\n"
          ]
        },
        {
          "output_type": "stream",
          "name": "stderr",
          "text": [
            "INFO:NEURONIOUtils:78\t\t4.0\n"
          ]
        },
        {
          "output_type": "stream",
          "name": "stdout",
          "text": [
            "2023-05-12 22:18:09,563 [INFO] 79\t\t4.0\n"
          ]
        },
        {
          "output_type": "stream",
          "name": "stderr",
          "text": [
            "INFO:NEURONIOUtils:79\t\t4.0\n"
          ]
        },
        {
          "output_type": "stream",
          "name": "stdout",
          "text": [
            "2023-05-12 22:18:09,567 [INFO] PGN firing rate avg: 4.0 Hz\n"
          ]
        },
        {
          "output_type": "stream",
          "name": "stderr",
          "text": [
            "INFO:NEURONIOUtils:PGN firing rate avg: 4.0 Hz\n"
          ]
        },
        {
          "output_type": "stream",
          "name": "stdout",
          "text": [
            "2023-05-12 22:18:09,571 [INFO] Grill PGN fr = 3.15 Hz\n"
          ]
        },
        {
          "output_type": "stream",
          "name": "stderr",
          "text": [
            "INFO:NEURONIOUtils:Grill PGN fr = 3.15 Hz\n"
          ]
        },
        {
          "output_type": "stream",
          "name": "stdout",
          "text": [
            "2023-05-12 22:18:09,575 [INFO] IMG node_gid\t  Hz\n"
          ]
        },
        {
          "output_type": "stream",
          "name": "stderr",
          "text": [
            "INFO:NEURONIOUtils:IMG node_gid\t  Hz\n"
          ]
        },
        {
          "output_type": "stream",
          "name": "stdout",
          "text": [
            "2023-05-12 22:18:09,579 [INFO] IMG firing rate avg: 4.0 Hz\n"
          ]
        },
        {
          "output_type": "stream",
          "name": "stderr",
          "text": [
            "INFO:NEURONIOUtils:IMG firing rate avg: 4.0 Hz\n"
          ]
        },
        {
          "output_type": "stream",
          "name": "stdout",
          "text": [
            "2023-05-12 22:18:09,621 [INFO] PGN firing rate = 4.00 Hz\n"
          ]
        },
        {
          "output_type": "stream",
          "name": "stderr",
          "text": [
            "/usr/local/lib/python3.10/dist-packages/bmtk/utils/reports/spike_trains/spike_trains.py:183: RuntimeWarning: divide by zero encountered in double_scalars\n",
            "  interval = -np.log(1.0 - np.random.uniform()) / fr\n",
            "INFO:NEURONIOUtils:PGN firing rate = 4.00 Hz\n"
          ]
        },
        {
          "output_type": "stream",
          "name": "stdout",
          "text": [
            "2023-05-12 22:18:09,628 [INFO] Volume = 41.6667 ml\n"
          ]
        },
        {
          "output_type": "stream",
          "name": "stderr",
          "text": [
            "INFO:NEURONIOUtils:Volume = 41.6667 ml\n"
          ]
        },
        {
          "output_type": "stream",
          "name": "stdout",
          "text": [
            "2023-05-12 22:18:09,633 [INFO] Pressure = 7.79 mmHg\n"
          ]
        },
        {
          "output_type": "stream",
          "name": "stderr",
          "text": [
            "INFO:NEURONIOUtils:Pressure = 7.79 mmHg\n"
          ]
        },
        {
          "output_type": "stream",
          "name": "stdout",
          "text": [
            "2023-05-12 22:18:09,638 [INFO] Calculated bladder afferent firing rate for the next time step = 0.00 Hz \n",
            " \n",
            "\n"
          ]
        },
        {
          "output_type": "stream",
          "name": "stderr",
          "text": [
            "INFO:NEURONIOUtils:Calculated bladder afferent firing rate for the next time step = 0.00 Hz \n",
            " \n",
            "\n"
          ]
        },
        {
          "output_type": "stream",
          "name": "stdout",
          "text": [
            "2023-05-12 22:18:10,823 [INFO]     step:105000 t_sim:21000.00 ms\n"
          ]
        },
        {
          "output_type": "stream",
          "name": "stderr",
          "text": [
            "INFO:NEURONIOUtils:    step:105000 t_sim:21000.00 ms\n"
          ]
        },
        {
          "output_type": "stream",
          "name": "stdout",
          "text": [
            "2023-05-12 22:18:10,832 [INFO] Timestep 20500.0 to 21000.0 ms\n"
          ]
        },
        {
          "output_type": "stream",
          "name": "stderr",
          "text": [
            "INFO:NEURONIOUtils:Timestep 20500.0 to 21000.0 ms\n"
          ]
        },
        {
          "output_type": "stream",
          "name": "stdout",
          "text": [
            "2023-05-12 22:18:10,836 [INFO] PGN node_id\t  Hz\n"
          ]
        },
        {
          "output_type": "stream",
          "name": "stderr",
          "text": [
            "INFO:NEURONIOUtils:PGN node_id\t  Hz\n"
          ]
        },
        {
          "output_type": "stream",
          "name": "stdout",
          "text": [
            "2023-05-12 22:18:10,843 [INFO] 70\t\t4.0\n"
          ]
        },
        {
          "output_type": "stream",
          "name": "stderr",
          "text": [
            "INFO:NEURONIOUtils:70\t\t4.0\n"
          ]
        },
        {
          "output_type": "stream",
          "name": "stdout",
          "text": [
            "2023-05-12 22:18:10,850 [INFO] 71\t\t4.0\n"
          ]
        },
        {
          "output_type": "stream",
          "name": "stderr",
          "text": [
            "INFO:NEURONIOUtils:71\t\t4.0\n"
          ]
        },
        {
          "output_type": "stream",
          "name": "stdout",
          "text": [
            "2023-05-12 22:18:10,852 [INFO] 72\t\t4.0\n"
          ]
        },
        {
          "output_type": "stream",
          "name": "stderr",
          "text": [
            "INFO:NEURONIOUtils:72\t\t4.0\n"
          ]
        },
        {
          "output_type": "stream",
          "name": "stdout",
          "text": [
            "2023-05-12 22:18:10,854 [INFO] 73\t\t4.0\n"
          ]
        },
        {
          "output_type": "stream",
          "name": "stderr",
          "text": [
            "INFO:NEURONIOUtils:73\t\t4.0\n"
          ]
        },
        {
          "output_type": "stream",
          "name": "stdout",
          "text": [
            "2023-05-12 22:18:10,859 [INFO] 74\t\t4.0\n"
          ]
        },
        {
          "output_type": "stream",
          "name": "stderr",
          "text": [
            "INFO:NEURONIOUtils:74\t\t4.0\n"
          ]
        },
        {
          "output_type": "stream",
          "name": "stdout",
          "text": [
            "2023-05-12 22:18:10,861 [INFO] 75\t\t4.0\n"
          ]
        },
        {
          "output_type": "stream",
          "name": "stderr",
          "text": [
            "INFO:NEURONIOUtils:75\t\t4.0\n"
          ]
        },
        {
          "output_type": "stream",
          "name": "stdout",
          "text": [
            "2023-05-12 22:18:10,863 [INFO] 76\t\t4.0\n"
          ]
        },
        {
          "output_type": "stream",
          "name": "stderr",
          "text": [
            "INFO:NEURONIOUtils:76\t\t4.0\n"
          ]
        },
        {
          "output_type": "stream",
          "name": "stdout",
          "text": [
            "2023-05-12 22:18:10,865 [INFO] 77\t\t4.0\n"
          ]
        },
        {
          "output_type": "stream",
          "name": "stderr",
          "text": [
            "INFO:NEURONIOUtils:77\t\t4.0\n"
          ]
        },
        {
          "output_type": "stream",
          "name": "stdout",
          "text": [
            "2023-05-12 22:18:10,867 [INFO] 78\t\t4.0\n"
          ]
        },
        {
          "output_type": "stream",
          "name": "stderr",
          "text": [
            "INFO:NEURONIOUtils:78\t\t4.0\n"
          ]
        },
        {
          "output_type": "stream",
          "name": "stdout",
          "text": [
            "2023-05-12 22:18:10,872 [INFO] 79\t\t4.0\n"
          ]
        },
        {
          "output_type": "stream",
          "name": "stderr",
          "text": [
            "INFO:NEURONIOUtils:79\t\t4.0\n"
          ]
        },
        {
          "output_type": "stream",
          "name": "stdout",
          "text": [
            "2023-05-12 22:18:10,874 [INFO] PGN firing rate avg: 4.0 Hz\n"
          ]
        },
        {
          "output_type": "stream",
          "name": "stderr",
          "text": [
            "INFO:NEURONIOUtils:PGN firing rate avg: 4.0 Hz\n"
          ]
        },
        {
          "output_type": "stream",
          "name": "stdout",
          "text": [
            "2023-05-12 22:18:10,876 [INFO] Grill PGN fr = 3.15 Hz\n"
          ]
        },
        {
          "output_type": "stream",
          "name": "stderr",
          "text": [
            "INFO:NEURONIOUtils:Grill PGN fr = 3.15 Hz\n"
          ]
        },
        {
          "output_type": "stream",
          "name": "stdout",
          "text": [
            "2023-05-12 22:18:10,881 [INFO] IMG node_gid\t  Hz\n"
          ]
        },
        {
          "output_type": "stream",
          "name": "stderr",
          "text": [
            "INFO:NEURONIOUtils:IMG node_gid\t  Hz\n"
          ]
        },
        {
          "output_type": "stream",
          "name": "stdout",
          "text": [
            "2023-05-12 22:18:10,883 [INFO] IMG firing rate avg: 4.0 Hz\n"
          ]
        },
        {
          "output_type": "stream",
          "name": "stderr",
          "text": [
            "INFO:NEURONIOUtils:IMG firing rate avg: 4.0 Hz\n"
          ]
        },
        {
          "output_type": "stream",
          "name": "stdout",
          "text": [
            "2023-05-12 22:18:10,894 [INFO] PGN firing rate = 4.00 Hz\n"
          ]
        },
        {
          "output_type": "stream",
          "name": "stderr",
          "text": [
            "/usr/local/lib/python3.10/dist-packages/bmtk/utils/reports/spike_trains/spike_trains.py:183: RuntimeWarning: divide by zero encountered in double_scalars\n",
            "  interval = -np.log(1.0 - np.random.uniform()) / fr\n",
            "INFO:NEURONIOUtils:PGN firing rate = 4.00 Hz\n"
          ]
        },
        {
          "output_type": "stream",
          "name": "stdout",
          "text": [
            "2023-05-12 22:18:10,924 [INFO] Volume = 42.7083 ml\n"
          ]
        },
        {
          "output_type": "stream",
          "name": "stderr",
          "text": [
            "INFO:NEURONIOUtils:Volume = 42.7083 ml\n"
          ]
        },
        {
          "output_type": "stream",
          "name": "stdout",
          "text": [
            "2023-05-12 22:18:10,926 [INFO] Pressure = 7.79 mmHg\n"
          ]
        },
        {
          "output_type": "stream",
          "name": "stderr",
          "text": [
            "INFO:NEURONIOUtils:Pressure = 7.79 mmHg\n"
          ]
        },
        {
          "output_type": "stream",
          "name": "stdout",
          "text": [
            "2023-05-12 22:18:10,928 [INFO] Calculated bladder afferent firing rate for the next time step = 0.00 Hz \n",
            " \n",
            "\n"
          ]
        },
        {
          "output_type": "stream",
          "name": "stderr",
          "text": [
            "INFO:NEURONIOUtils:Calculated bladder afferent firing rate for the next time step = 0.00 Hz \n",
            " \n",
            "\n"
          ]
        },
        {
          "output_type": "stream",
          "name": "stdout",
          "text": [
            "2023-05-12 22:18:12,334 [INFO]     step:107500 t_sim:21500.00 ms\n"
          ]
        },
        {
          "output_type": "stream",
          "name": "stderr",
          "text": [
            "INFO:NEURONIOUtils:    step:107500 t_sim:21500.00 ms\n"
          ]
        },
        {
          "output_type": "stream",
          "name": "stdout",
          "text": [
            "2023-05-12 22:18:12,344 [INFO] Timestep 21000.0 to 21500.0 ms\n"
          ]
        },
        {
          "output_type": "stream",
          "name": "stderr",
          "text": [
            "INFO:NEURONIOUtils:Timestep 21000.0 to 21500.0 ms\n"
          ]
        },
        {
          "output_type": "stream",
          "name": "stdout",
          "text": [
            "2023-05-12 22:18:12,348 [INFO] PGN node_id\t  Hz\n"
          ]
        },
        {
          "output_type": "stream",
          "name": "stderr",
          "text": [
            "INFO:NEURONIOUtils:PGN node_id\t  Hz\n"
          ]
        },
        {
          "output_type": "stream",
          "name": "stdout",
          "text": [
            "2023-05-12 22:18:12,352 [INFO] 70\t\t6.0\n"
          ]
        },
        {
          "output_type": "stream",
          "name": "stderr",
          "text": [
            "INFO:NEURONIOUtils:70\t\t6.0\n"
          ]
        },
        {
          "output_type": "stream",
          "name": "stdout",
          "text": [
            "2023-05-12 22:18:12,356 [INFO] 71\t\t6.0\n"
          ]
        },
        {
          "output_type": "stream",
          "name": "stderr",
          "text": [
            "INFO:NEURONIOUtils:71\t\t6.0\n"
          ]
        },
        {
          "output_type": "stream",
          "name": "stdout",
          "text": [
            "2023-05-12 22:18:12,357 [INFO] 72\t\t6.0\n"
          ]
        },
        {
          "output_type": "stream",
          "name": "stderr",
          "text": [
            "INFO:NEURONIOUtils:72\t\t6.0\n"
          ]
        },
        {
          "output_type": "stream",
          "name": "stdout",
          "text": [
            "2023-05-12 22:18:12,359 [INFO] 73\t\t6.0\n"
          ]
        },
        {
          "output_type": "stream",
          "name": "stderr",
          "text": [
            "INFO:NEURONIOUtils:73\t\t6.0\n"
          ]
        },
        {
          "output_type": "stream",
          "name": "stdout",
          "text": [
            "2023-05-12 22:18:12,361 [INFO] 74\t\t6.0\n"
          ]
        },
        {
          "output_type": "stream",
          "name": "stderr",
          "text": [
            "INFO:NEURONIOUtils:74\t\t6.0\n"
          ]
        },
        {
          "output_type": "stream",
          "name": "stdout",
          "text": [
            "2023-05-12 22:18:12,363 [INFO] 75\t\t6.0\n"
          ]
        },
        {
          "output_type": "stream",
          "name": "stderr",
          "text": [
            "INFO:NEURONIOUtils:75\t\t6.0\n"
          ]
        },
        {
          "output_type": "stream",
          "name": "stdout",
          "text": [
            "2023-05-12 22:18:12,365 [INFO] 76\t\t6.0\n"
          ]
        },
        {
          "output_type": "stream",
          "name": "stderr",
          "text": [
            "INFO:NEURONIOUtils:76\t\t6.0\n"
          ]
        },
        {
          "output_type": "stream",
          "name": "stdout",
          "text": [
            "2023-05-12 22:18:12,367 [INFO] 77\t\t6.0\n"
          ]
        },
        {
          "output_type": "stream",
          "name": "stderr",
          "text": [
            "INFO:NEURONIOUtils:77\t\t6.0\n"
          ]
        },
        {
          "output_type": "stream",
          "name": "stdout",
          "text": [
            "2023-05-12 22:18:12,369 [INFO] 78\t\t6.0\n"
          ]
        },
        {
          "output_type": "stream",
          "name": "stderr",
          "text": [
            "INFO:NEURONIOUtils:78\t\t6.0\n"
          ]
        },
        {
          "output_type": "stream",
          "name": "stdout",
          "text": [
            "2023-05-12 22:18:12,371 [INFO] 79\t\t6.0\n"
          ]
        },
        {
          "output_type": "stream",
          "name": "stderr",
          "text": [
            "INFO:NEURONIOUtils:79\t\t6.0\n"
          ]
        },
        {
          "output_type": "stream",
          "name": "stdout",
          "text": [
            "2023-05-12 22:18:12,373 [INFO] PGN firing rate avg: 6.0 Hz\n"
          ]
        },
        {
          "output_type": "stream",
          "name": "stderr",
          "text": [
            "INFO:NEURONIOUtils:PGN firing rate avg: 6.0 Hz\n"
          ]
        },
        {
          "output_type": "stream",
          "name": "stdout",
          "text": [
            "2023-05-12 22:18:12,376 [INFO] Grill PGN fr = 4.772 Hz\n"
          ]
        },
        {
          "output_type": "stream",
          "name": "stderr",
          "text": [
            "INFO:NEURONIOUtils:Grill PGN fr = 4.772 Hz\n"
          ]
        },
        {
          "output_type": "stream",
          "name": "stdout",
          "text": [
            "2023-05-12 22:18:12,377 [INFO] IMG node_gid\t  Hz\n"
          ]
        },
        {
          "output_type": "stream",
          "name": "stderr",
          "text": [
            "INFO:NEURONIOUtils:IMG node_gid\t  Hz\n"
          ]
        },
        {
          "output_type": "stream",
          "name": "stdout",
          "text": [
            "2023-05-12 22:18:12,379 [INFO] IMG firing rate avg: 6.0 Hz\n"
          ]
        },
        {
          "output_type": "stream",
          "name": "stderr",
          "text": [
            "INFO:NEURONIOUtils:IMG firing rate avg: 6.0 Hz\n"
          ]
        },
        {
          "output_type": "stream",
          "name": "stdout",
          "text": [
            "2023-05-12 22:18:12,388 [INFO] PGN firing rate = 6.00 Hz\n"
          ]
        },
        {
          "output_type": "stream",
          "name": "stderr",
          "text": [
            "/usr/local/lib/python3.10/dist-packages/bmtk/utils/reports/spike_trains/spike_trains.py:183: RuntimeWarning: divide by zero encountered in double_scalars\n",
            "  interval = -np.log(1.0 - np.random.uniform()) / fr\n",
            "INFO:NEURONIOUtils:PGN firing rate = 6.00 Hz\n"
          ]
        },
        {
          "output_type": "stream",
          "name": "stdout",
          "text": [
            "2023-05-12 22:18:12,396 [INFO] Volume = 43.7500 ml\n"
          ]
        },
        {
          "output_type": "stream",
          "name": "stderr",
          "text": [
            "INFO:NEURONIOUtils:Volume = 43.7500 ml\n"
          ]
        },
        {
          "output_type": "stream",
          "name": "stdout",
          "text": [
            "2023-05-12 22:18:12,401 [INFO] Pressure = 8.19 mmHg\n"
          ]
        },
        {
          "output_type": "stream",
          "name": "stderr",
          "text": [
            "INFO:NEURONIOUtils:Pressure = 8.19 mmHg\n"
          ]
        },
        {
          "output_type": "stream",
          "name": "stdout",
          "text": [
            "2023-05-12 22:18:12,403 [INFO] Calculated bladder afferent firing rate for the next time step = 0.00 Hz \n",
            " \n",
            "\n"
          ]
        },
        {
          "output_type": "stream",
          "name": "stderr",
          "text": [
            "INFO:NEURONIOUtils:Calculated bladder afferent firing rate for the next time step = 0.00 Hz \n",
            " \n",
            "\n"
          ]
        },
        {
          "output_type": "stream",
          "name": "stdout",
          "text": [
            "2023-05-12 22:18:13,802 [INFO]     step:110000 t_sim:22000.00 ms\n"
          ]
        },
        {
          "output_type": "stream",
          "name": "stderr",
          "text": [
            "INFO:NEURONIOUtils:    step:110000 t_sim:22000.00 ms\n"
          ]
        },
        {
          "output_type": "stream",
          "name": "stdout",
          "text": [
            "2023-05-12 22:18:13,812 [INFO] Timestep 21500.0 to 22000.0 ms\n"
          ]
        },
        {
          "output_type": "stream",
          "name": "stderr",
          "text": [
            "INFO:NEURONIOUtils:Timestep 21500.0 to 22000.0 ms\n"
          ]
        },
        {
          "output_type": "stream",
          "name": "stdout",
          "text": [
            "2023-05-12 22:18:13,819 [INFO] PGN node_id\t  Hz\n"
          ]
        },
        {
          "output_type": "stream",
          "name": "stderr",
          "text": [
            "INFO:NEURONIOUtils:PGN node_id\t  Hz\n"
          ]
        },
        {
          "output_type": "stream",
          "name": "stdout",
          "text": [
            "2023-05-12 22:18:13,823 [INFO] 70\t\t2.0\n"
          ]
        },
        {
          "output_type": "stream",
          "name": "stderr",
          "text": [
            "INFO:NEURONIOUtils:70\t\t2.0\n"
          ]
        },
        {
          "output_type": "stream",
          "name": "stdout",
          "text": [
            "2023-05-12 22:18:13,826 [INFO] 71\t\t2.0\n"
          ]
        },
        {
          "output_type": "stream",
          "name": "stderr",
          "text": [
            "INFO:NEURONIOUtils:71\t\t2.0\n"
          ]
        },
        {
          "output_type": "stream",
          "name": "stdout",
          "text": [
            "2023-05-12 22:18:13,828 [INFO] 72\t\t2.0\n"
          ]
        },
        {
          "output_type": "stream",
          "name": "stderr",
          "text": [
            "INFO:NEURONIOUtils:72\t\t2.0\n"
          ]
        },
        {
          "output_type": "stream",
          "name": "stdout",
          "text": [
            "2023-05-12 22:18:13,830 [INFO] 73\t\t2.0\n"
          ]
        },
        {
          "output_type": "stream",
          "name": "stderr",
          "text": [
            "INFO:NEURONIOUtils:73\t\t2.0\n"
          ]
        },
        {
          "output_type": "stream",
          "name": "stdout",
          "text": [
            "2023-05-12 22:18:13,832 [INFO] 74\t\t2.0\n"
          ]
        },
        {
          "output_type": "stream",
          "name": "stderr",
          "text": [
            "INFO:NEURONIOUtils:74\t\t2.0\n"
          ]
        },
        {
          "output_type": "stream",
          "name": "stdout",
          "text": [
            "2023-05-12 22:18:13,834 [INFO] 75\t\t2.0\n"
          ]
        },
        {
          "output_type": "stream",
          "name": "stderr",
          "text": [
            "INFO:NEURONIOUtils:75\t\t2.0\n"
          ]
        },
        {
          "output_type": "stream",
          "name": "stdout",
          "text": [
            "2023-05-12 22:18:13,835 [INFO] 76\t\t2.0\n"
          ]
        },
        {
          "output_type": "stream",
          "name": "stderr",
          "text": [
            "INFO:NEURONIOUtils:76\t\t2.0\n"
          ]
        },
        {
          "output_type": "stream",
          "name": "stdout",
          "text": [
            "2023-05-12 22:18:13,837 [INFO] 77\t\t2.0\n"
          ]
        },
        {
          "output_type": "stream",
          "name": "stderr",
          "text": [
            "INFO:NEURONIOUtils:77\t\t2.0\n"
          ]
        },
        {
          "output_type": "stream",
          "name": "stdout",
          "text": [
            "2023-05-12 22:18:13,839 [INFO] 78\t\t2.0\n"
          ]
        },
        {
          "output_type": "stream",
          "name": "stderr",
          "text": [
            "INFO:NEURONIOUtils:78\t\t2.0\n"
          ]
        },
        {
          "output_type": "stream",
          "name": "stdout",
          "text": [
            "2023-05-12 22:18:13,841 [INFO] 79\t\t2.0\n"
          ]
        },
        {
          "output_type": "stream",
          "name": "stderr",
          "text": [
            "INFO:NEURONIOUtils:79\t\t2.0\n"
          ]
        },
        {
          "output_type": "stream",
          "name": "stdout",
          "text": [
            "2023-05-12 22:18:13,843 [INFO] PGN firing rate avg: 2.0 Hz\n"
          ]
        },
        {
          "output_type": "stream",
          "name": "stderr",
          "text": [
            "INFO:NEURONIOUtils:PGN firing rate avg: 2.0 Hz\n"
          ]
        },
        {
          "output_type": "stream",
          "name": "stdout",
          "text": [
            "2023-05-12 22:18:13,846 [INFO] Grill PGN fr = 1.492 Hz\n"
          ]
        },
        {
          "output_type": "stream",
          "name": "stderr",
          "text": [
            "INFO:NEURONIOUtils:Grill PGN fr = 1.492 Hz\n"
          ]
        },
        {
          "output_type": "stream",
          "name": "stdout",
          "text": [
            "2023-05-12 22:18:13,848 [INFO] IMG node_gid\t  Hz\n"
          ]
        },
        {
          "output_type": "stream",
          "name": "stderr",
          "text": [
            "INFO:NEURONIOUtils:IMG node_gid\t  Hz\n"
          ]
        },
        {
          "output_type": "stream",
          "name": "stdout",
          "text": [
            "2023-05-12 22:18:13,850 [INFO] IMG firing rate avg: 2.0 Hz\n"
          ]
        },
        {
          "output_type": "stream",
          "name": "stderr",
          "text": [
            "INFO:NEURONIOUtils:IMG firing rate avg: 2.0 Hz\n"
          ]
        },
        {
          "output_type": "stream",
          "name": "stdout",
          "text": [
            "2023-05-12 22:18:13,861 [INFO] PGN firing rate = 2.00 Hz\n"
          ]
        },
        {
          "output_type": "stream",
          "name": "stderr",
          "text": [
            "/usr/local/lib/python3.10/dist-packages/bmtk/utils/reports/spike_trains/spike_trains.py:183: RuntimeWarning: divide by zero encountered in double_scalars\n",
            "  interval = -np.log(1.0 - np.random.uniform()) / fr\n",
            "INFO:NEURONIOUtils:PGN firing rate = 2.00 Hz\n"
          ]
        },
        {
          "output_type": "stream",
          "name": "stdout",
          "text": [
            "2023-05-12 22:18:13,869 [INFO] Volume = 44.7917 ml\n"
          ]
        },
        {
          "output_type": "stream",
          "name": "stderr",
          "text": [
            "INFO:NEURONIOUtils:Volume = 44.7917 ml\n"
          ]
        },
        {
          "output_type": "stream",
          "name": "stdout",
          "text": [
            "2023-05-12 22:18:13,871 [INFO] Pressure = 7.37 mmHg\n"
          ]
        },
        {
          "output_type": "stream",
          "name": "stderr",
          "text": [
            "INFO:NEURONIOUtils:Pressure = 7.37 mmHg\n"
          ]
        },
        {
          "output_type": "stream",
          "name": "stdout",
          "text": [
            "2023-05-12 22:18:13,873 [INFO] Calculated bladder afferent firing rate for the next time step = 0.00 Hz \n",
            " \n",
            "\n"
          ]
        },
        {
          "output_type": "stream",
          "name": "stderr",
          "text": [
            "INFO:NEURONIOUtils:Calculated bladder afferent firing rate for the next time step = 0.00 Hz \n",
            " \n",
            "\n"
          ]
        },
        {
          "output_type": "stream",
          "name": "stdout",
          "text": [
            "2023-05-12 22:18:15,101 [INFO]     step:112500 t_sim:22500.00 ms\n"
          ]
        },
        {
          "output_type": "stream",
          "name": "stderr",
          "text": [
            "INFO:NEURONIOUtils:    step:112500 t_sim:22500.00 ms\n"
          ]
        },
        {
          "output_type": "stream",
          "name": "stdout",
          "text": [
            "2023-05-12 22:18:15,111 [INFO] Timestep 22000.0 to 22500.0 ms\n"
          ]
        },
        {
          "output_type": "stream",
          "name": "stderr",
          "text": [
            "INFO:NEURONIOUtils:Timestep 22000.0 to 22500.0 ms\n"
          ]
        },
        {
          "output_type": "stream",
          "name": "stdout",
          "text": [
            "2023-05-12 22:18:15,114 [INFO] PGN node_id\t  Hz\n"
          ]
        },
        {
          "output_type": "stream",
          "name": "stderr",
          "text": [
            "INFO:NEURONIOUtils:PGN node_id\t  Hz\n"
          ]
        },
        {
          "output_type": "stream",
          "name": "stdout",
          "text": [
            "2023-05-12 22:18:15,118 [INFO] 70\t\t4.0\n"
          ]
        },
        {
          "output_type": "stream",
          "name": "stderr",
          "text": [
            "INFO:NEURONIOUtils:70\t\t4.0\n"
          ]
        },
        {
          "output_type": "stream",
          "name": "stdout",
          "text": [
            "2023-05-12 22:18:15,122 [INFO] 71\t\t4.0\n"
          ]
        },
        {
          "output_type": "stream",
          "name": "stderr",
          "text": [
            "INFO:NEURONIOUtils:71\t\t4.0\n"
          ]
        },
        {
          "output_type": "stream",
          "name": "stdout",
          "text": [
            "2023-05-12 22:18:15,123 [INFO] 72\t\t4.0\n"
          ]
        },
        {
          "output_type": "stream",
          "name": "stderr",
          "text": [
            "INFO:NEURONIOUtils:72\t\t4.0\n"
          ]
        },
        {
          "output_type": "stream",
          "name": "stdout",
          "text": [
            "2023-05-12 22:18:15,125 [INFO] 73\t\t4.0\n"
          ]
        },
        {
          "output_type": "stream",
          "name": "stderr",
          "text": [
            "INFO:NEURONIOUtils:73\t\t4.0\n"
          ]
        },
        {
          "output_type": "stream",
          "name": "stdout",
          "text": [
            "2023-05-12 22:18:15,127 [INFO] 74\t\t4.0\n"
          ]
        },
        {
          "output_type": "stream",
          "name": "stderr",
          "text": [
            "INFO:NEURONIOUtils:74\t\t4.0\n"
          ]
        },
        {
          "output_type": "stream",
          "name": "stdout",
          "text": [
            "2023-05-12 22:18:15,129 [INFO] 75\t\t4.0\n"
          ]
        },
        {
          "output_type": "stream",
          "name": "stderr",
          "text": [
            "INFO:NEURONIOUtils:75\t\t4.0\n"
          ]
        },
        {
          "output_type": "stream",
          "name": "stdout",
          "text": [
            "2023-05-12 22:18:15,131 [INFO] 76\t\t4.0\n"
          ]
        },
        {
          "output_type": "stream",
          "name": "stderr",
          "text": [
            "INFO:NEURONIOUtils:76\t\t4.0\n"
          ]
        },
        {
          "output_type": "stream",
          "name": "stdout",
          "text": [
            "2023-05-12 22:18:15,133 [INFO] 77\t\t4.0\n"
          ]
        },
        {
          "output_type": "stream",
          "name": "stderr",
          "text": [
            "INFO:NEURONIOUtils:77\t\t4.0\n"
          ]
        },
        {
          "output_type": "stream",
          "name": "stdout",
          "text": [
            "2023-05-12 22:18:15,134 [INFO] 78\t\t4.0\n"
          ]
        },
        {
          "output_type": "stream",
          "name": "stderr",
          "text": [
            "INFO:NEURONIOUtils:78\t\t4.0\n"
          ]
        },
        {
          "output_type": "stream",
          "name": "stdout",
          "text": [
            "2023-05-12 22:18:15,136 [INFO] 79\t\t4.0\n"
          ]
        },
        {
          "output_type": "stream",
          "name": "stderr",
          "text": [
            "INFO:NEURONIOUtils:79\t\t4.0\n"
          ]
        },
        {
          "output_type": "stream",
          "name": "stdout",
          "text": [
            "2023-05-12 22:18:15,138 [INFO] PGN firing rate avg: 4.0 Hz\n"
          ]
        },
        {
          "output_type": "stream",
          "name": "stderr",
          "text": [
            "INFO:NEURONIOUtils:PGN firing rate avg: 4.0 Hz\n"
          ]
        },
        {
          "output_type": "stream",
          "name": "stdout",
          "text": [
            "2023-05-12 22:18:15,140 [INFO] Grill PGN fr = 3.15 Hz\n"
          ]
        },
        {
          "output_type": "stream",
          "name": "stderr",
          "text": [
            "INFO:NEURONIOUtils:Grill PGN fr = 3.15 Hz\n"
          ]
        },
        {
          "output_type": "stream",
          "name": "stdout",
          "text": [
            "2023-05-12 22:18:15,142 [INFO] IMG node_gid\t  Hz\n"
          ]
        },
        {
          "output_type": "stream",
          "name": "stderr",
          "text": [
            "INFO:NEURONIOUtils:IMG node_gid\t  Hz\n"
          ]
        },
        {
          "output_type": "stream",
          "name": "stdout",
          "text": [
            "2023-05-12 22:18:15,144 [INFO] IMG firing rate avg: 4.0 Hz\n"
          ]
        },
        {
          "output_type": "stream",
          "name": "stderr",
          "text": [
            "INFO:NEURONIOUtils:IMG firing rate avg: 4.0 Hz\n"
          ]
        },
        {
          "output_type": "stream",
          "name": "stdout",
          "text": [
            "2023-05-12 22:18:15,152 [INFO] PGN firing rate = 4.00 Hz\n"
          ]
        },
        {
          "output_type": "stream",
          "name": "stderr",
          "text": [
            "/usr/local/lib/python3.10/dist-packages/bmtk/utils/reports/spike_trains/spike_trains.py:183: RuntimeWarning: divide by zero encountered in double_scalars\n",
            "  interval = -np.log(1.0 - np.random.uniform()) / fr\n",
            "INFO:NEURONIOUtils:PGN firing rate = 4.00 Hz\n"
          ]
        },
        {
          "output_type": "stream",
          "name": "stdout",
          "text": [
            "2023-05-12 22:18:15,156 [INFO] Volume = 45.8333 ml\n"
          ]
        },
        {
          "output_type": "stream",
          "name": "stderr",
          "text": [
            "INFO:NEURONIOUtils:Volume = 45.8333 ml\n"
          ]
        },
        {
          "output_type": "stream",
          "name": "stdout",
          "text": [
            "2023-05-12 22:18:15,158 [INFO] Pressure = 7.79 mmHg\n"
          ]
        },
        {
          "output_type": "stream",
          "name": "stderr",
          "text": [
            "INFO:NEURONIOUtils:Pressure = 7.79 mmHg\n"
          ]
        },
        {
          "output_type": "stream",
          "name": "stdout",
          "text": [
            "2023-05-12 22:18:15,160 [INFO] Calculated bladder afferent firing rate for the next time step = 0.00 Hz \n",
            " \n",
            "\n"
          ]
        },
        {
          "output_type": "stream",
          "name": "stderr",
          "text": [
            "INFO:NEURONIOUtils:Calculated bladder afferent firing rate for the next time step = 0.00 Hz \n",
            " \n",
            "\n"
          ]
        },
        {
          "output_type": "stream",
          "name": "stdout",
          "text": [
            "2023-05-12 22:18:16,627 [INFO]     step:115000 t_sim:23000.00 ms\n"
          ]
        },
        {
          "output_type": "stream",
          "name": "stderr",
          "text": [
            "INFO:NEURONIOUtils:    step:115000 t_sim:23000.00 ms\n"
          ]
        },
        {
          "output_type": "stream",
          "name": "stdout",
          "text": [
            "2023-05-12 22:18:16,640 [INFO] Timestep 22500.0 to 23000.0 ms\n"
          ]
        },
        {
          "output_type": "stream",
          "name": "stderr",
          "text": [
            "INFO:NEURONIOUtils:Timestep 22500.0 to 23000.0 ms\n"
          ]
        },
        {
          "output_type": "stream",
          "name": "stdout",
          "text": [
            "2023-05-12 22:18:16,643 [INFO] PGN node_id\t  Hz\n"
          ]
        },
        {
          "output_type": "stream",
          "name": "stderr",
          "text": [
            "INFO:NEURONIOUtils:PGN node_id\t  Hz\n"
          ]
        },
        {
          "output_type": "stream",
          "name": "stdout",
          "text": [
            "2023-05-12 22:18:16,647 [INFO] 70\t\t4.0\n"
          ]
        },
        {
          "output_type": "stream",
          "name": "stderr",
          "text": [
            "INFO:NEURONIOUtils:70\t\t4.0\n"
          ]
        },
        {
          "output_type": "stream",
          "name": "stdout",
          "text": [
            "2023-05-12 22:18:16,651 [INFO] 71\t\t4.0\n"
          ]
        },
        {
          "output_type": "stream",
          "name": "stderr",
          "text": [
            "INFO:NEURONIOUtils:71\t\t4.0\n"
          ]
        },
        {
          "output_type": "stream",
          "name": "stdout",
          "text": [
            "2023-05-12 22:18:16,658 [INFO] 72\t\t4.0\n"
          ]
        },
        {
          "output_type": "stream",
          "name": "stderr",
          "text": [
            "INFO:NEURONIOUtils:72\t\t4.0\n"
          ]
        },
        {
          "output_type": "stream",
          "name": "stdout",
          "text": [
            "2023-05-12 22:18:16,665 [INFO] 73\t\t4.0\n"
          ]
        },
        {
          "output_type": "stream",
          "name": "stderr",
          "text": [
            "INFO:NEURONIOUtils:73\t\t4.0\n"
          ]
        },
        {
          "output_type": "stream",
          "name": "stdout",
          "text": [
            "2023-05-12 22:18:16,669 [INFO] 74\t\t4.0\n"
          ]
        },
        {
          "output_type": "stream",
          "name": "stderr",
          "text": [
            "INFO:NEURONIOUtils:74\t\t4.0\n"
          ]
        },
        {
          "output_type": "stream",
          "name": "stdout",
          "text": [
            "2023-05-12 22:18:16,672 [INFO] 75\t\t4.0\n"
          ]
        },
        {
          "output_type": "stream",
          "name": "stderr",
          "text": [
            "INFO:NEURONIOUtils:75\t\t4.0\n"
          ]
        },
        {
          "output_type": "stream",
          "name": "stdout",
          "text": [
            "2023-05-12 22:18:16,674 [INFO] 76\t\t4.0\n"
          ]
        },
        {
          "output_type": "stream",
          "name": "stderr",
          "text": [
            "INFO:NEURONIOUtils:76\t\t4.0\n"
          ]
        },
        {
          "output_type": "stream",
          "name": "stdout",
          "text": [
            "2023-05-12 22:18:16,676 [INFO] 77\t\t4.0\n"
          ]
        },
        {
          "output_type": "stream",
          "name": "stderr",
          "text": [
            "INFO:NEURONIOUtils:77\t\t4.0\n"
          ]
        },
        {
          "output_type": "stream",
          "name": "stdout",
          "text": [
            "2023-05-12 22:18:16,679 [INFO] 78\t\t4.0\n"
          ]
        },
        {
          "output_type": "stream",
          "name": "stderr",
          "text": [
            "INFO:NEURONIOUtils:78\t\t4.0\n"
          ]
        },
        {
          "output_type": "stream",
          "name": "stdout",
          "text": [
            "2023-05-12 22:18:16,682 [INFO] 79\t\t4.0\n"
          ]
        },
        {
          "output_type": "stream",
          "name": "stderr",
          "text": [
            "INFO:NEURONIOUtils:79\t\t4.0\n"
          ]
        },
        {
          "output_type": "stream",
          "name": "stdout",
          "text": [
            "2023-05-12 22:18:16,686 [INFO] PGN firing rate avg: 4.0 Hz\n"
          ]
        },
        {
          "output_type": "stream",
          "name": "stderr",
          "text": [
            "INFO:NEURONIOUtils:PGN firing rate avg: 4.0 Hz\n"
          ]
        },
        {
          "output_type": "stream",
          "name": "stdout",
          "text": [
            "2023-05-12 22:18:16,688 [INFO] Grill PGN fr = 3.15 Hz\n"
          ]
        },
        {
          "output_type": "stream",
          "name": "stderr",
          "text": [
            "INFO:NEURONIOUtils:Grill PGN fr = 3.15 Hz\n"
          ]
        },
        {
          "output_type": "stream",
          "name": "stdout",
          "text": [
            "2023-05-12 22:18:16,690 [INFO] IMG node_gid\t  Hz\n"
          ]
        },
        {
          "output_type": "stream",
          "name": "stderr",
          "text": [
            "INFO:NEURONIOUtils:IMG node_gid\t  Hz\n"
          ]
        },
        {
          "output_type": "stream",
          "name": "stdout",
          "text": [
            "2023-05-12 22:18:16,692 [INFO] IMG firing rate avg: 4.0 Hz\n"
          ]
        },
        {
          "output_type": "stream",
          "name": "stderr",
          "text": [
            "INFO:NEURONIOUtils:IMG firing rate avg: 4.0 Hz\n"
          ]
        },
        {
          "output_type": "stream",
          "name": "stdout",
          "text": [
            "2023-05-12 22:18:16,702 [INFO] PGN firing rate = 4.00 Hz\n"
          ]
        },
        {
          "output_type": "stream",
          "name": "stderr",
          "text": [
            "/usr/local/lib/python3.10/dist-packages/bmtk/utils/reports/spike_trains/spike_trains.py:183: RuntimeWarning: divide by zero encountered in double_scalars\n",
            "  interval = -np.log(1.0 - np.random.uniform()) / fr\n",
            "INFO:NEURONIOUtils:PGN firing rate = 4.00 Hz\n"
          ]
        },
        {
          "output_type": "stream",
          "name": "stdout",
          "text": [
            "2023-05-12 22:18:16,708 [INFO] Volume = 46.8750 ml\n"
          ]
        },
        {
          "output_type": "stream",
          "name": "stderr",
          "text": [
            "INFO:NEURONIOUtils:Volume = 46.8750 ml\n"
          ]
        },
        {
          "output_type": "stream",
          "name": "stdout",
          "text": [
            "2023-05-12 22:18:16,710 [INFO] Pressure = 7.79 mmHg\n"
          ]
        },
        {
          "output_type": "stream",
          "name": "stderr",
          "text": [
            "INFO:NEURONIOUtils:Pressure = 7.79 mmHg\n"
          ]
        },
        {
          "output_type": "stream",
          "name": "stdout",
          "text": [
            "2023-05-12 22:18:16,714 [INFO] Calculated bladder afferent firing rate for the next time step = 0.00 Hz \n",
            " \n",
            "\n"
          ]
        },
        {
          "output_type": "stream",
          "name": "stderr",
          "text": [
            "INFO:NEURONIOUtils:Calculated bladder afferent firing rate for the next time step = 0.00 Hz \n",
            " \n",
            "\n"
          ]
        },
        {
          "output_type": "stream",
          "name": "stdout",
          "text": [
            "2023-05-12 22:18:18,114 [INFO]     step:117500 t_sim:23500.00 ms\n"
          ]
        },
        {
          "output_type": "stream",
          "name": "stderr",
          "text": [
            "INFO:NEURONIOUtils:    step:117500 t_sim:23500.00 ms\n"
          ]
        },
        {
          "output_type": "stream",
          "name": "stdout",
          "text": [
            "2023-05-12 22:18:18,126 [INFO] Timestep 23000.0 to 23500.0 ms\n"
          ]
        },
        {
          "output_type": "stream",
          "name": "stderr",
          "text": [
            "INFO:NEURONIOUtils:Timestep 23000.0 to 23500.0 ms\n"
          ]
        },
        {
          "output_type": "stream",
          "name": "stdout",
          "text": [
            "2023-05-12 22:18:18,133 [INFO] PGN node_id\t  Hz\n"
          ]
        },
        {
          "output_type": "stream",
          "name": "stderr",
          "text": [
            "INFO:NEURONIOUtils:PGN node_id\t  Hz\n"
          ]
        },
        {
          "output_type": "stream",
          "name": "stdout",
          "text": [
            "2023-05-12 22:18:18,137 [INFO] 70\t\t8.0\n"
          ]
        },
        {
          "output_type": "stream",
          "name": "stderr",
          "text": [
            "INFO:NEURONIOUtils:70\t\t8.0\n"
          ]
        },
        {
          "output_type": "stream",
          "name": "stdout",
          "text": [
            "2023-05-12 22:18:18,141 [INFO] 71\t\t8.0\n"
          ]
        },
        {
          "output_type": "stream",
          "name": "stderr",
          "text": [
            "INFO:NEURONIOUtils:71\t\t8.0\n"
          ]
        },
        {
          "output_type": "stream",
          "name": "stdout",
          "text": [
            "2023-05-12 22:18:18,144 [INFO] 72\t\t8.0\n"
          ]
        },
        {
          "output_type": "stream",
          "name": "stderr",
          "text": [
            "INFO:NEURONIOUtils:72\t\t8.0\n"
          ]
        },
        {
          "output_type": "stream",
          "name": "stdout",
          "text": [
            "2023-05-12 22:18:18,148 [INFO] 73\t\t8.0\n"
          ]
        },
        {
          "output_type": "stream",
          "name": "stderr",
          "text": [
            "INFO:NEURONIOUtils:73\t\t8.0\n"
          ]
        },
        {
          "output_type": "stream",
          "name": "stdout",
          "text": [
            "2023-05-12 22:18:18,150 [INFO] 74\t\t8.0\n"
          ]
        },
        {
          "output_type": "stream",
          "name": "stderr",
          "text": [
            "INFO:NEURONIOUtils:74\t\t8.0\n"
          ]
        },
        {
          "output_type": "stream",
          "name": "stdout",
          "text": [
            "2023-05-12 22:18:18,152 [INFO] 75\t\t8.0\n"
          ]
        },
        {
          "output_type": "stream",
          "name": "stderr",
          "text": [
            "INFO:NEURONIOUtils:75\t\t8.0\n"
          ]
        },
        {
          "output_type": "stream",
          "name": "stdout",
          "text": [
            "2023-05-12 22:18:18,157 [INFO] 76\t\t8.0\n"
          ]
        },
        {
          "output_type": "stream",
          "name": "stderr",
          "text": [
            "INFO:NEURONIOUtils:76\t\t8.0\n"
          ]
        },
        {
          "output_type": "stream",
          "name": "stdout",
          "text": [
            "2023-05-12 22:18:18,159 [INFO] 77\t\t8.0\n"
          ]
        },
        {
          "output_type": "stream",
          "name": "stderr",
          "text": [
            "INFO:NEURONIOUtils:77\t\t8.0\n"
          ]
        },
        {
          "output_type": "stream",
          "name": "stdout",
          "text": [
            "2023-05-12 22:18:18,163 [INFO] 78\t\t8.0\n"
          ]
        },
        {
          "output_type": "stream",
          "name": "stderr",
          "text": [
            "INFO:NEURONIOUtils:78\t\t8.0\n"
          ]
        },
        {
          "output_type": "stream",
          "name": "stdout",
          "text": [
            "2023-05-12 22:18:18,165 [INFO] 79\t\t8.0\n"
          ]
        },
        {
          "output_type": "stream",
          "name": "stderr",
          "text": [
            "INFO:NEURONIOUtils:79\t\t8.0\n"
          ]
        },
        {
          "output_type": "stream",
          "name": "stdout",
          "text": [
            "2023-05-12 22:18:18,167 [INFO] PGN firing rate avg: 8.0 Hz\n"
          ]
        },
        {
          "output_type": "stream",
          "name": "stderr",
          "text": [
            "INFO:NEURONIOUtils:PGN firing rate avg: 8.0 Hz\n"
          ]
        },
        {
          "output_type": "stream",
          "name": "stdout",
          "text": [
            "2023-05-12 22:18:18,171 [INFO] Grill PGN fr = 6.406000000000001 Hz\n"
          ]
        },
        {
          "output_type": "stream",
          "name": "stderr",
          "text": [
            "INFO:NEURONIOUtils:Grill PGN fr = 6.406000000000001 Hz\n"
          ]
        },
        {
          "output_type": "stream",
          "name": "stdout",
          "text": [
            "2023-05-12 22:18:18,174 [INFO] IMG node_gid\t  Hz\n"
          ]
        },
        {
          "output_type": "stream",
          "name": "stderr",
          "text": [
            "INFO:NEURONIOUtils:IMG node_gid\t  Hz\n"
          ]
        },
        {
          "output_type": "stream",
          "name": "stdout",
          "text": [
            "2023-05-12 22:18:18,201 [INFO] IMG firing rate avg: 8.0 Hz\n"
          ]
        },
        {
          "output_type": "stream",
          "name": "stderr",
          "text": [
            "INFO:NEURONIOUtils:IMG firing rate avg: 8.0 Hz\n"
          ]
        },
        {
          "output_type": "stream",
          "name": "stdout",
          "text": [
            "2023-05-12 22:18:18,218 [INFO] PGN firing rate = 8.00 Hz\n"
          ]
        },
        {
          "output_type": "stream",
          "name": "stderr",
          "text": [
            "/usr/local/lib/python3.10/dist-packages/bmtk/utils/reports/spike_trains/spike_trains.py:183: RuntimeWarning: divide by zero encountered in double_scalars\n",
            "  interval = -np.log(1.0 - np.random.uniform()) / fr\n",
            "INFO:NEURONIOUtils:PGN firing rate = 8.00 Hz\n"
          ]
        },
        {
          "output_type": "stream",
          "name": "stdout",
          "text": [
            "2023-05-12 22:18:18,223 [INFO] Volume = 47.9167 ml\n"
          ]
        },
        {
          "output_type": "stream",
          "name": "stderr",
          "text": [
            "INFO:NEURONIOUtils:Volume = 47.9167 ml\n"
          ]
        },
        {
          "output_type": "stream",
          "name": "stdout",
          "text": [
            "2023-05-12 22:18:18,227 [INFO] Pressure = 8.60 mmHg\n"
          ]
        },
        {
          "output_type": "stream",
          "name": "stderr",
          "text": [
            "INFO:NEURONIOUtils:Pressure = 8.60 mmHg\n"
          ]
        },
        {
          "output_type": "stream",
          "name": "stdout",
          "text": [
            "2023-05-12 22:18:18,231 [INFO] Calculated bladder afferent firing rate for the next time step = 0.00 Hz \n",
            " \n",
            "\n"
          ]
        },
        {
          "output_type": "stream",
          "name": "stderr",
          "text": [
            "INFO:NEURONIOUtils:Calculated bladder afferent firing rate for the next time step = 0.00 Hz \n",
            " \n",
            "\n"
          ]
        },
        {
          "output_type": "stream",
          "name": "stdout",
          "text": [
            "2023-05-12 22:18:19,493 [INFO]     step:120000 t_sim:24000.00 ms\n"
          ]
        },
        {
          "output_type": "stream",
          "name": "stderr",
          "text": [
            "INFO:NEURONIOUtils:    step:120000 t_sim:24000.00 ms\n"
          ]
        },
        {
          "output_type": "stream",
          "name": "stdout",
          "text": [
            "2023-05-12 22:18:19,503 [INFO] Timestep 23500.0 to 24000.0 ms\n"
          ]
        },
        {
          "output_type": "stream",
          "name": "stderr",
          "text": [
            "INFO:NEURONIOUtils:Timestep 23500.0 to 24000.0 ms\n"
          ]
        },
        {
          "output_type": "stream",
          "name": "stdout",
          "text": [
            "2023-05-12 22:18:19,506 [INFO] PGN node_id\t  Hz\n"
          ]
        },
        {
          "output_type": "stream",
          "name": "stderr",
          "text": [
            "INFO:NEURONIOUtils:PGN node_id\t  Hz\n"
          ]
        },
        {
          "output_type": "stream",
          "name": "stdout",
          "text": [
            "2023-05-12 22:18:19,510 [INFO] 70\t\t4.0\n"
          ]
        },
        {
          "output_type": "stream",
          "name": "stderr",
          "text": [
            "INFO:NEURONIOUtils:70\t\t4.0\n"
          ]
        },
        {
          "output_type": "stream",
          "name": "stdout",
          "text": [
            "2023-05-12 22:18:19,513 [INFO] 71\t\t4.0\n"
          ]
        },
        {
          "output_type": "stream",
          "name": "stderr",
          "text": [
            "INFO:NEURONIOUtils:71\t\t4.0\n"
          ]
        },
        {
          "output_type": "stream",
          "name": "stdout",
          "text": [
            "2023-05-12 22:18:19,515 [INFO] 72\t\t4.0\n"
          ]
        },
        {
          "output_type": "stream",
          "name": "stderr",
          "text": [
            "INFO:NEURONIOUtils:72\t\t4.0\n"
          ]
        },
        {
          "output_type": "stream",
          "name": "stdout",
          "text": [
            "2023-05-12 22:18:19,517 [INFO] 73\t\t4.0\n"
          ]
        },
        {
          "output_type": "stream",
          "name": "stderr",
          "text": [
            "INFO:NEURONIOUtils:73\t\t4.0\n"
          ]
        },
        {
          "output_type": "stream",
          "name": "stdout",
          "text": [
            "2023-05-12 22:18:19,519 [INFO] 74\t\t4.0\n"
          ]
        },
        {
          "output_type": "stream",
          "name": "stderr",
          "text": [
            "INFO:NEURONIOUtils:74\t\t4.0\n"
          ]
        },
        {
          "output_type": "stream",
          "name": "stdout",
          "text": [
            "2023-05-12 22:18:19,521 [INFO] 75\t\t4.0\n"
          ]
        },
        {
          "output_type": "stream",
          "name": "stderr",
          "text": [
            "INFO:NEURONIOUtils:75\t\t4.0\n"
          ]
        },
        {
          "output_type": "stream",
          "name": "stdout",
          "text": [
            "2023-05-12 22:18:19,523 [INFO] 76\t\t4.0\n"
          ]
        },
        {
          "output_type": "stream",
          "name": "stderr",
          "text": [
            "INFO:NEURONIOUtils:76\t\t4.0\n"
          ]
        },
        {
          "output_type": "stream",
          "name": "stdout",
          "text": [
            "2023-05-12 22:18:19,524 [INFO] 77\t\t4.0\n"
          ]
        },
        {
          "output_type": "stream",
          "name": "stderr",
          "text": [
            "INFO:NEURONIOUtils:77\t\t4.0\n"
          ]
        },
        {
          "output_type": "stream",
          "name": "stdout",
          "text": [
            "2023-05-12 22:18:19,526 [INFO] 78\t\t4.0\n"
          ]
        },
        {
          "output_type": "stream",
          "name": "stderr",
          "text": [
            "INFO:NEURONIOUtils:78\t\t4.0\n"
          ]
        },
        {
          "output_type": "stream",
          "name": "stdout",
          "text": [
            "2023-05-12 22:18:19,528 [INFO] 79\t\t4.0\n"
          ]
        },
        {
          "output_type": "stream",
          "name": "stderr",
          "text": [
            "INFO:NEURONIOUtils:79\t\t4.0\n"
          ]
        },
        {
          "output_type": "stream",
          "name": "stdout",
          "text": [
            "2023-05-12 22:18:19,531 [INFO] PGN firing rate avg: 4.0 Hz\n"
          ]
        },
        {
          "output_type": "stream",
          "name": "stderr",
          "text": [
            "INFO:NEURONIOUtils:PGN firing rate avg: 4.0 Hz\n"
          ]
        },
        {
          "output_type": "stream",
          "name": "stdout",
          "text": [
            "2023-05-12 22:18:19,533 [INFO] Grill PGN fr = 3.15 Hz\n"
          ]
        },
        {
          "output_type": "stream",
          "name": "stderr",
          "text": [
            "INFO:NEURONIOUtils:Grill PGN fr = 3.15 Hz\n"
          ]
        },
        {
          "output_type": "stream",
          "name": "stdout",
          "text": [
            "2023-05-12 22:18:19,534 [INFO] IMG node_gid\t  Hz\n"
          ]
        },
        {
          "output_type": "stream",
          "name": "stderr",
          "text": [
            "INFO:NEURONIOUtils:IMG node_gid\t  Hz\n"
          ]
        },
        {
          "output_type": "stream",
          "name": "stdout",
          "text": [
            "2023-05-12 22:18:19,536 [INFO] IMG firing rate avg: 4.0 Hz\n"
          ]
        },
        {
          "output_type": "stream",
          "name": "stderr",
          "text": [
            "INFO:NEURONIOUtils:IMG firing rate avg: 4.0 Hz\n"
          ]
        },
        {
          "output_type": "stream",
          "name": "stdout",
          "text": [
            "2023-05-12 22:18:19,545 [INFO] PGN firing rate = 4.00 Hz\n"
          ]
        },
        {
          "output_type": "stream",
          "name": "stderr",
          "text": [
            "/usr/local/lib/python3.10/dist-packages/bmtk/utils/reports/spike_trains/spike_trains.py:183: RuntimeWarning: divide by zero encountered in double_scalars\n",
            "  interval = -np.log(1.0 - np.random.uniform()) / fr\n",
            "INFO:NEURONIOUtils:PGN firing rate = 4.00 Hz\n"
          ]
        },
        {
          "output_type": "stream",
          "name": "stdout",
          "text": [
            "2023-05-12 22:18:19,556 [INFO] Volume = 48.9583 ml\n"
          ]
        },
        {
          "output_type": "stream",
          "name": "stderr",
          "text": [
            "INFO:NEURONIOUtils:Volume = 48.9583 ml\n"
          ]
        },
        {
          "output_type": "stream",
          "name": "stdout",
          "text": [
            "2023-05-12 22:18:19,559 [INFO] Pressure = 7.79 mmHg\n"
          ]
        },
        {
          "output_type": "stream",
          "name": "stderr",
          "text": [
            "INFO:NEURONIOUtils:Pressure = 7.79 mmHg\n"
          ]
        },
        {
          "output_type": "stream",
          "name": "stdout",
          "text": [
            "2023-05-12 22:18:19,561 [INFO] Calculated bladder afferent firing rate for the next time step = 0.00 Hz \n",
            " \n",
            "\n"
          ]
        },
        {
          "output_type": "stream",
          "name": "stderr",
          "text": [
            "INFO:NEURONIOUtils:Calculated bladder afferent firing rate for the next time step = 0.00 Hz \n",
            " \n",
            "\n"
          ]
        },
        {
          "output_type": "stream",
          "name": "stdout",
          "text": [
            "2023-05-12 22:18:20,698 [INFO]     step:122500 t_sim:24500.00 ms\n"
          ]
        },
        {
          "output_type": "stream",
          "name": "stderr",
          "text": [
            "INFO:NEURONIOUtils:    step:122500 t_sim:24500.00 ms\n"
          ]
        },
        {
          "output_type": "stream",
          "name": "stdout",
          "text": [
            "2023-05-12 22:18:20,709 [INFO] Timestep 24000.0 to 24500.0 ms\n"
          ]
        },
        {
          "output_type": "stream",
          "name": "stderr",
          "text": [
            "INFO:NEURONIOUtils:Timestep 24000.0 to 24500.0 ms\n"
          ]
        },
        {
          "output_type": "stream",
          "name": "stdout",
          "text": [
            "2023-05-12 22:18:20,713 [INFO] PGN node_id\t  Hz\n"
          ]
        },
        {
          "output_type": "stream",
          "name": "stderr",
          "text": [
            "INFO:NEURONIOUtils:PGN node_id\t  Hz\n"
          ]
        },
        {
          "output_type": "stream",
          "name": "stdout",
          "text": [
            "2023-05-12 22:18:20,717 [INFO] 70\t\t2.0\n"
          ]
        },
        {
          "output_type": "stream",
          "name": "stderr",
          "text": [
            "INFO:NEURONIOUtils:70\t\t2.0\n"
          ]
        },
        {
          "output_type": "stream",
          "name": "stdout",
          "text": [
            "2023-05-12 22:18:20,720 [INFO] 71\t\t2.0\n"
          ]
        },
        {
          "output_type": "stream",
          "name": "stderr",
          "text": [
            "INFO:NEURONIOUtils:71\t\t2.0\n"
          ]
        },
        {
          "output_type": "stream",
          "name": "stdout",
          "text": [
            "2023-05-12 22:18:20,722 [INFO] 72\t\t2.0\n"
          ]
        },
        {
          "output_type": "stream",
          "name": "stderr",
          "text": [
            "INFO:NEURONIOUtils:72\t\t2.0\n"
          ]
        },
        {
          "output_type": "stream",
          "name": "stdout",
          "text": [
            "2023-05-12 22:18:20,724 [INFO] 73\t\t2.0\n"
          ]
        },
        {
          "output_type": "stream",
          "name": "stderr",
          "text": [
            "INFO:NEURONIOUtils:73\t\t2.0\n"
          ]
        },
        {
          "output_type": "stream",
          "name": "stdout",
          "text": [
            "2023-05-12 22:18:20,725 [INFO] 74\t\t2.0\n"
          ]
        },
        {
          "output_type": "stream",
          "name": "stderr",
          "text": [
            "INFO:NEURONIOUtils:74\t\t2.0\n"
          ]
        },
        {
          "output_type": "stream",
          "name": "stdout",
          "text": [
            "2023-05-12 22:18:20,727 [INFO] 75\t\t2.0\n"
          ]
        },
        {
          "output_type": "stream",
          "name": "stderr",
          "text": [
            "INFO:NEURONIOUtils:75\t\t2.0\n"
          ]
        },
        {
          "output_type": "stream",
          "name": "stdout",
          "text": [
            "2023-05-12 22:18:20,729 [INFO] 76\t\t2.0\n"
          ]
        },
        {
          "output_type": "stream",
          "name": "stderr",
          "text": [
            "INFO:NEURONIOUtils:76\t\t2.0\n"
          ]
        },
        {
          "output_type": "stream",
          "name": "stdout",
          "text": [
            "2023-05-12 22:18:20,731 [INFO] 77\t\t2.0\n"
          ]
        },
        {
          "output_type": "stream",
          "name": "stderr",
          "text": [
            "INFO:NEURONIOUtils:77\t\t2.0\n"
          ]
        },
        {
          "output_type": "stream",
          "name": "stdout",
          "text": [
            "2023-05-12 22:18:20,733 [INFO] 78\t\t2.0\n"
          ]
        },
        {
          "output_type": "stream",
          "name": "stderr",
          "text": [
            "INFO:NEURONIOUtils:78\t\t2.0\n"
          ]
        },
        {
          "output_type": "stream",
          "name": "stdout",
          "text": [
            "2023-05-12 22:18:20,735 [INFO] 79\t\t2.0\n"
          ]
        },
        {
          "output_type": "stream",
          "name": "stderr",
          "text": [
            "INFO:NEURONIOUtils:79\t\t2.0\n"
          ]
        },
        {
          "output_type": "stream",
          "name": "stdout",
          "text": [
            "2023-05-12 22:18:20,736 [INFO] PGN firing rate avg: 2.0 Hz\n"
          ]
        },
        {
          "output_type": "stream",
          "name": "stderr",
          "text": [
            "INFO:NEURONIOUtils:PGN firing rate avg: 2.0 Hz\n"
          ]
        },
        {
          "output_type": "stream",
          "name": "stdout",
          "text": [
            "2023-05-12 22:18:20,738 [INFO] Grill PGN fr = 1.492 Hz\n"
          ]
        },
        {
          "output_type": "stream",
          "name": "stderr",
          "text": [
            "INFO:NEURONIOUtils:Grill PGN fr = 1.492 Hz\n"
          ]
        },
        {
          "output_type": "stream",
          "name": "stdout",
          "text": [
            "2023-05-12 22:18:20,740 [INFO] IMG node_gid\t  Hz\n"
          ]
        },
        {
          "output_type": "stream",
          "name": "stderr",
          "text": [
            "INFO:NEURONIOUtils:IMG node_gid\t  Hz\n"
          ]
        },
        {
          "output_type": "stream",
          "name": "stdout",
          "text": [
            "2023-05-12 22:18:20,741 [INFO] IMG firing rate avg: 2.0 Hz\n"
          ]
        },
        {
          "output_type": "stream",
          "name": "stderr",
          "text": [
            "INFO:NEURONIOUtils:IMG firing rate avg: 2.0 Hz\n"
          ]
        },
        {
          "output_type": "stream",
          "name": "stdout",
          "text": [
            "2023-05-12 22:18:20,749 [INFO] PGN firing rate = 2.00 Hz\n"
          ]
        },
        {
          "output_type": "stream",
          "name": "stderr",
          "text": [
            "/usr/local/lib/python3.10/dist-packages/bmtk/utils/reports/spike_trains/spike_trains.py:183: RuntimeWarning: divide by zero encountered in double_scalars\n",
            "  interval = -np.log(1.0 - np.random.uniform()) / fr\n",
            "INFO:NEURONIOUtils:PGN firing rate = 2.00 Hz\n"
          ]
        },
        {
          "output_type": "stream",
          "name": "stdout",
          "text": [
            "2023-05-12 22:18:20,757 [INFO] Volume = 50.0000 ml\n"
          ]
        },
        {
          "output_type": "stream",
          "name": "stderr",
          "text": [
            "INFO:NEURONIOUtils:Volume = 50.0000 ml\n"
          ]
        },
        {
          "output_type": "stream",
          "name": "stdout",
          "text": [
            "2023-05-12 22:18:20,759 [INFO] Pressure = 7.37 mmHg\n"
          ]
        },
        {
          "output_type": "stream",
          "name": "stderr",
          "text": [
            "INFO:NEURONIOUtils:Pressure = 7.37 mmHg\n"
          ]
        },
        {
          "output_type": "stream",
          "name": "stdout",
          "text": [
            "2023-05-12 22:18:20,761 [INFO] Calculated bladder afferent firing rate for the next time step = 0.00 Hz \n",
            " \n",
            "\n"
          ]
        },
        {
          "output_type": "stream",
          "name": "stderr",
          "text": [
            "INFO:NEURONIOUtils:Calculated bladder afferent firing rate for the next time step = 0.00 Hz \n",
            " \n",
            "\n"
          ]
        },
        {
          "output_type": "stream",
          "name": "stdout",
          "text": [
            "2023-05-12 22:18:21,946 [INFO]     step:125000 t_sim:25000.00 ms\n"
          ]
        },
        {
          "output_type": "stream",
          "name": "stderr",
          "text": [
            "INFO:NEURONIOUtils:    step:125000 t_sim:25000.00 ms\n"
          ]
        },
        {
          "output_type": "stream",
          "name": "stdout",
          "text": [
            "2023-05-12 22:18:21,955 [INFO] Timestep 24500.0 to 25000.0 ms\n"
          ]
        },
        {
          "output_type": "stream",
          "name": "stderr",
          "text": [
            "INFO:NEURONIOUtils:Timestep 24500.0 to 25000.0 ms\n"
          ]
        },
        {
          "output_type": "stream",
          "name": "stdout",
          "text": [
            "2023-05-12 22:18:21,960 [INFO] PGN node_id\t  Hz\n"
          ]
        },
        {
          "output_type": "stream",
          "name": "stderr",
          "text": [
            "INFO:NEURONIOUtils:PGN node_id\t  Hz\n"
          ]
        },
        {
          "output_type": "stream",
          "name": "stdout",
          "text": [
            "2023-05-12 22:18:21,963 [INFO] 70\t\t4.0\n"
          ]
        },
        {
          "output_type": "stream",
          "name": "stderr",
          "text": [
            "INFO:NEURONIOUtils:70\t\t4.0\n"
          ]
        },
        {
          "output_type": "stream",
          "name": "stdout",
          "text": [
            "2023-05-12 22:18:21,967 [INFO] 71\t\t4.0\n"
          ]
        },
        {
          "output_type": "stream",
          "name": "stderr",
          "text": [
            "INFO:NEURONIOUtils:71\t\t4.0\n"
          ]
        },
        {
          "output_type": "stream",
          "name": "stdout",
          "text": [
            "2023-05-12 22:18:21,969 [INFO] 72\t\t4.0\n"
          ]
        },
        {
          "output_type": "stream",
          "name": "stderr",
          "text": [
            "INFO:NEURONIOUtils:72\t\t4.0\n"
          ]
        },
        {
          "output_type": "stream",
          "name": "stdout",
          "text": [
            "2023-05-12 22:18:21,973 [INFO] 73\t\t4.0\n"
          ]
        },
        {
          "output_type": "stream",
          "name": "stderr",
          "text": [
            "INFO:NEURONIOUtils:73\t\t4.0\n"
          ]
        },
        {
          "output_type": "stream",
          "name": "stdout",
          "text": [
            "2023-05-12 22:18:21,975 [INFO] 74\t\t4.0\n"
          ]
        },
        {
          "output_type": "stream",
          "name": "stderr",
          "text": [
            "INFO:NEURONIOUtils:74\t\t4.0\n"
          ]
        },
        {
          "output_type": "stream",
          "name": "stdout",
          "text": [
            "2023-05-12 22:18:21,977 [INFO] 75\t\t4.0\n"
          ]
        },
        {
          "output_type": "stream",
          "name": "stderr",
          "text": [
            "INFO:NEURONIOUtils:75\t\t4.0\n"
          ]
        },
        {
          "output_type": "stream",
          "name": "stdout",
          "text": [
            "2023-05-12 22:18:21,986 [INFO] 76\t\t4.0\n"
          ]
        },
        {
          "output_type": "stream",
          "name": "stderr",
          "text": [
            "INFO:NEURONIOUtils:76\t\t4.0\n"
          ]
        },
        {
          "output_type": "stream",
          "name": "stdout",
          "text": [
            "2023-05-12 22:18:21,988 [INFO] 77\t\t4.0\n"
          ]
        },
        {
          "output_type": "stream",
          "name": "stderr",
          "text": [
            "INFO:NEURONIOUtils:77\t\t4.0\n"
          ]
        },
        {
          "output_type": "stream",
          "name": "stdout",
          "text": [
            "2023-05-12 22:18:21,994 [INFO] 78\t\t4.0\n"
          ]
        },
        {
          "output_type": "stream",
          "name": "stderr",
          "text": [
            "INFO:NEURONIOUtils:78\t\t4.0\n"
          ]
        },
        {
          "output_type": "stream",
          "name": "stdout",
          "text": [
            "2023-05-12 22:18:21,997 [INFO] 79\t\t4.0\n"
          ]
        },
        {
          "output_type": "stream",
          "name": "stderr",
          "text": [
            "INFO:NEURONIOUtils:79\t\t4.0\n"
          ]
        },
        {
          "output_type": "stream",
          "name": "stdout",
          "text": [
            "2023-05-12 22:18:21,999 [INFO] PGN firing rate avg: 4.0 Hz\n"
          ]
        },
        {
          "output_type": "stream",
          "name": "stderr",
          "text": [
            "INFO:NEURONIOUtils:PGN firing rate avg: 4.0 Hz\n"
          ]
        },
        {
          "output_type": "stream",
          "name": "stdout",
          "text": [
            "2023-05-12 22:18:22,003 [INFO] Grill PGN fr = 3.15 Hz\n"
          ]
        },
        {
          "output_type": "stream",
          "name": "stderr",
          "text": [
            "INFO:NEURONIOUtils:Grill PGN fr = 3.15 Hz\n"
          ]
        },
        {
          "output_type": "stream",
          "name": "stdout",
          "text": [
            "2023-05-12 22:18:22,006 [INFO] IMG node_gid\t  Hz\n"
          ]
        },
        {
          "output_type": "stream",
          "name": "stderr",
          "text": [
            "INFO:NEURONIOUtils:IMG node_gid\t  Hz\n"
          ]
        },
        {
          "output_type": "stream",
          "name": "stdout",
          "text": [
            "2023-05-12 22:18:22,009 [INFO] IMG firing rate avg: 4.0 Hz\n"
          ]
        },
        {
          "output_type": "stream",
          "name": "stderr",
          "text": [
            "INFO:NEURONIOUtils:IMG firing rate avg: 4.0 Hz\n"
          ]
        },
        {
          "output_type": "stream",
          "name": "stdout",
          "text": [
            "2023-05-12 22:18:22,018 [INFO] PGN firing rate = 4.00 Hz\n"
          ]
        },
        {
          "output_type": "stream",
          "name": "stderr",
          "text": [
            "/usr/local/lib/python3.10/dist-packages/bmtk/utils/reports/spike_trains/spike_trains.py:183: RuntimeWarning: divide by zero encountered in double_scalars\n",
            "  interval = -np.log(1.0 - np.random.uniform()) / fr\n",
            "INFO:NEURONIOUtils:PGN firing rate = 4.00 Hz\n"
          ]
        },
        {
          "output_type": "stream",
          "name": "stdout",
          "text": [
            "2023-05-12 22:18:22,023 [INFO] Volume = 51.0417 ml\n"
          ]
        },
        {
          "output_type": "stream",
          "name": "stderr",
          "text": [
            "INFO:NEURONIOUtils:Volume = 51.0417 ml\n"
          ]
        },
        {
          "output_type": "stream",
          "name": "stdout",
          "text": [
            "2023-05-12 22:18:22,026 [INFO] Pressure = 7.79 mmHg\n"
          ]
        },
        {
          "output_type": "stream",
          "name": "stderr",
          "text": [
            "INFO:NEURONIOUtils:Pressure = 7.79 mmHg\n"
          ]
        },
        {
          "output_type": "stream",
          "name": "stdout",
          "text": [
            "2023-05-12 22:18:22,028 [INFO] Calculated bladder afferent firing rate for the next time step = 0.00 Hz \n",
            " \n",
            "\n"
          ]
        },
        {
          "output_type": "stream",
          "name": "stderr",
          "text": [
            "INFO:NEURONIOUtils:Calculated bladder afferent firing rate for the next time step = 0.00 Hz \n",
            " \n",
            "\n"
          ]
        },
        {
          "output_type": "stream",
          "name": "stdout",
          "text": [
            "2023-05-12 22:18:23,153 [INFO]     step:127500 t_sim:25500.00 ms\n"
          ]
        },
        {
          "output_type": "stream",
          "name": "stderr",
          "text": [
            "INFO:NEURONIOUtils:    step:127500 t_sim:25500.00 ms\n"
          ]
        },
        {
          "output_type": "stream",
          "name": "stdout",
          "text": [
            "2023-05-12 22:18:23,162 [INFO] Timestep 25000.0 to 25500.0 ms\n"
          ]
        },
        {
          "output_type": "stream",
          "name": "stderr",
          "text": [
            "INFO:NEURONIOUtils:Timestep 25000.0 to 25500.0 ms\n"
          ]
        },
        {
          "output_type": "stream",
          "name": "stdout",
          "text": [
            "2023-05-12 22:18:23,168 [INFO] PGN node_id\t  Hz\n"
          ]
        },
        {
          "output_type": "stream",
          "name": "stderr",
          "text": [
            "INFO:NEURONIOUtils:PGN node_id\t  Hz\n"
          ]
        },
        {
          "output_type": "stream",
          "name": "stdout",
          "text": [
            "2023-05-12 22:18:23,171 [INFO] 70\t\t2.0\n"
          ]
        },
        {
          "output_type": "stream",
          "name": "stderr",
          "text": [
            "INFO:NEURONIOUtils:70\t\t2.0\n"
          ]
        },
        {
          "output_type": "stream",
          "name": "stdout",
          "text": [
            "2023-05-12 22:18:23,172 [INFO] 71\t\t2.0\n"
          ]
        },
        {
          "output_type": "stream",
          "name": "stderr",
          "text": [
            "INFO:NEURONIOUtils:71\t\t2.0\n"
          ]
        },
        {
          "output_type": "stream",
          "name": "stdout",
          "text": [
            "2023-05-12 22:18:23,174 [INFO] 72\t\t2.0\n"
          ]
        },
        {
          "output_type": "stream",
          "name": "stderr",
          "text": [
            "INFO:NEURONIOUtils:72\t\t2.0\n"
          ]
        },
        {
          "output_type": "stream",
          "name": "stdout",
          "text": [
            "2023-05-12 22:18:23,176 [INFO] 73\t\t2.0\n"
          ]
        },
        {
          "output_type": "stream",
          "name": "stderr",
          "text": [
            "INFO:NEURONIOUtils:73\t\t2.0\n"
          ]
        },
        {
          "output_type": "stream",
          "name": "stdout",
          "text": [
            "2023-05-12 22:18:23,180 [INFO] 74\t\t2.0\n"
          ]
        },
        {
          "output_type": "stream",
          "name": "stderr",
          "text": [
            "INFO:NEURONIOUtils:74\t\t2.0\n"
          ]
        },
        {
          "output_type": "stream",
          "name": "stdout",
          "text": [
            "2023-05-12 22:18:23,181 [INFO] 75\t\t2.0\n"
          ]
        },
        {
          "output_type": "stream",
          "name": "stderr",
          "text": [
            "INFO:NEURONIOUtils:75\t\t2.0\n"
          ]
        },
        {
          "output_type": "stream",
          "name": "stdout",
          "text": [
            "2023-05-12 22:18:23,183 [INFO] 76\t\t2.0\n"
          ]
        },
        {
          "output_type": "stream",
          "name": "stderr",
          "text": [
            "INFO:NEURONIOUtils:76\t\t2.0\n"
          ]
        },
        {
          "output_type": "stream",
          "name": "stdout",
          "text": [
            "2023-05-12 22:18:23,185 [INFO] 77\t\t2.0\n"
          ]
        },
        {
          "output_type": "stream",
          "name": "stderr",
          "text": [
            "INFO:NEURONIOUtils:77\t\t2.0\n"
          ]
        },
        {
          "output_type": "stream",
          "name": "stdout",
          "text": [
            "2023-05-12 22:18:23,187 [INFO] 78\t\t2.0\n"
          ]
        },
        {
          "output_type": "stream",
          "name": "stderr",
          "text": [
            "INFO:NEURONIOUtils:78\t\t2.0\n"
          ]
        },
        {
          "output_type": "stream",
          "name": "stdout",
          "text": [
            "2023-05-12 22:18:23,189 [INFO] 79\t\t2.0\n"
          ]
        },
        {
          "output_type": "stream",
          "name": "stderr",
          "text": [
            "INFO:NEURONIOUtils:79\t\t2.0\n"
          ]
        },
        {
          "output_type": "stream",
          "name": "stdout",
          "text": [
            "2023-05-12 22:18:23,191 [INFO] PGN firing rate avg: 2.0 Hz\n"
          ]
        },
        {
          "output_type": "stream",
          "name": "stderr",
          "text": [
            "INFO:NEURONIOUtils:PGN firing rate avg: 2.0 Hz\n"
          ]
        },
        {
          "output_type": "stream",
          "name": "stdout",
          "text": [
            "2023-05-12 22:18:23,193 [INFO] Grill PGN fr = 1.492 Hz\n"
          ]
        },
        {
          "output_type": "stream",
          "name": "stderr",
          "text": [
            "INFO:NEURONIOUtils:Grill PGN fr = 1.492 Hz\n"
          ]
        },
        {
          "output_type": "stream",
          "name": "stdout",
          "text": [
            "2023-05-12 22:18:23,195 [INFO] IMG node_gid\t  Hz\n"
          ]
        },
        {
          "output_type": "stream",
          "name": "stderr",
          "text": [
            "INFO:NEURONIOUtils:IMG node_gid\t  Hz\n"
          ]
        },
        {
          "output_type": "stream",
          "name": "stdout",
          "text": [
            "2023-05-12 22:18:23,197 [INFO] IMG firing rate avg: 2.0 Hz\n"
          ]
        },
        {
          "output_type": "stream",
          "name": "stderr",
          "text": [
            "INFO:NEURONIOUtils:IMG firing rate avg: 2.0 Hz\n"
          ]
        },
        {
          "output_type": "stream",
          "name": "stdout",
          "text": [
            "2023-05-12 22:18:23,205 [INFO] PGN firing rate = 2.00 Hz\n"
          ]
        },
        {
          "output_type": "stream",
          "name": "stderr",
          "text": [
            "/usr/local/lib/python3.10/dist-packages/bmtk/utils/reports/spike_trains/spike_trains.py:183: RuntimeWarning: divide by zero encountered in double_scalars\n",
            "  interval = -np.log(1.0 - np.random.uniform()) / fr\n",
            "INFO:NEURONIOUtils:PGN firing rate = 2.00 Hz\n"
          ]
        },
        {
          "output_type": "stream",
          "name": "stdout",
          "text": [
            "2023-05-12 22:18:23,212 [INFO] Volume = 52.0833 ml\n"
          ]
        },
        {
          "output_type": "stream",
          "name": "stderr",
          "text": [
            "INFO:NEURONIOUtils:Volume = 52.0833 ml\n"
          ]
        },
        {
          "output_type": "stream",
          "name": "stdout",
          "text": [
            "2023-05-12 22:18:23,214 [INFO] Pressure = 7.37 mmHg\n"
          ]
        },
        {
          "output_type": "stream",
          "name": "stderr",
          "text": [
            "INFO:NEURONIOUtils:Pressure = 7.37 mmHg\n"
          ]
        },
        {
          "output_type": "stream",
          "name": "stdout",
          "text": [
            "2023-05-12 22:18:23,216 [INFO] Calculated bladder afferent firing rate for the next time step = 0.00 Hz \n",
            " \n",
            "\n"
          ]
        },
        {
          "output_type": "stream",
          "name": "stderr",
          "text": [
            "INFO:NEURONIOUtils:Calculated bladder afferent firing rate for the next time step = 0.00 Hz \n",
            " \n",
            "\n"
          ]
        },
        {
          "output_type": "stream",
          "name": "stdout",
          "text": [
            "2023-05-12 22:18:24,398 [INFO]     step:130000 t_sim:26000.00 ms\n"
          ]
        },
        {
          "output_type": "stream",
          "name": "stderr",
          "text": [
            "INFO:NEURONIOUtils:    step:130000 t_sim:26000.00 ms\n"
          ]
        },
        {
          "output_type": "stream",
          "name": "stdout",
          "text": [
            "2023-05-12 22:18:24,407 [INFO] Timestep 25500.0 to 26000.0 ms\n"
          ]
        },
        {
          "output_type": "stream",
          "name": "stderr",
          "text": [
            "INFO:NEURONIOUtils:Timestep 25500.0 to 26000.0 ms\n"
          ]
        },
        {
          "output_type": "stream",
          "name": "stdout",
          "text": [
            "2023-05-12 22:18:24,412 [INFO] PGN node_id\t  Hz\n"
          ]
        },
        {
          "output_type": "stream",
          "name": "stderr",
          "text": [
            "INFO:NEURONIOUtils:PGN node_id\t  Hz\n"
          ]
        },
        {
          "output_type": "stream",
          "name": "stdout",
          "text": [
            "2023-05-12 22:18:24,416 [INFO] 70\t\t2.0\n"
          ]
        },
        {
          "output_type": "stream",
          "name": "stderr",
          "text": [
            "INFO:NEURONIOUtils:70\t\t2.0\n"
          ]
        },
        {
          "output_type": "stream",
          "name": "stdout",
          "text": [
            "2023-05-12 22:18:24,419 [INFO] 71\t\t2.0\n"
          ]
        },
        {
          "output_type": "stream",
          "name": "stderr",
          "text": [
            "INFO:NEURONIOUtils:71\t\t2.0\n"
          ]
        },
        {
          "output_type": "stream",
          "name": "stdout",
          "text": [
            "2023-05-12 22:18:24,421 [INFO] 72\t\t2.0\n"
          ]
        },
        {
          "output_type": "stream",
          "name": "stderr",
          "text": [
            "INFO:NEURONIOUtils:72\t\t2.0\n"
          ]
        },
        {
          "output_type": "stream",
          "name": "stdout",
          "text": [
            "2023-05-12 22:18:24,423 [INFO] 73\t\t2.0\n"
          ]
        },
        {
          "output_type": "stream",
          "name": "stderr",
          "text": [
            "INFO:NEURONIOUtils:73\t\t2.0\n"
          ]
        },
        {
          "output_type": "stream",
          "name": "stdout",
          "text": [
            "2023-05-12 22:18:24,425 [INFO] 74\t\t2.0\n"
          ]
        },
        {
          "output_type": "stream",
          "name": "stderr",
          "text": [
            "INFO:NEURONIOUtils:74\t\t2.0\n"
          ]
        },
        {
          "output_type": "stream",
          "name": "stdout",
          "text": [
            "2023-05-12 22:18:24,427 [INFO] 75\t\t2.0\n"
          ]
        },
        {
          "output_type": "stream",
          "name": "stderr",
          "text": [
            "INFO:NEURONIOUtils:75\t\t2.0\n"
          ]
        },
        {
          "output_type": "stream",
          "name": "stdout",
          "text": [
            "2023-05-12 22:18:24,429 [INFO] 76\t\t2.0\n"
          ]
        },
        {
          "output_type": "stream",
          "name": "stderr",
          "text": [
            "INFO:NEURONIOUtils:76\t\t2.0\n"
          ]
        },
        {
          "output_type": "stream",
          "name": "stdout",
          "text": [
            "2023-05-12 22:18:24,431 [INFO] 77\t\t2.0\n"
          ]
        },
        {
          "output_type": "stream",
          "name": "stderr",
          "text": [
            "INFO:NEURONIOUtils:77\t\t2.0\n"
          ]
        },
        {
          "output_type": "stream",
          "name": "stdout",
          "text": [
            "2023-05-12 22:18:24,434 [INFO] 78\t\t2.0\n"
          ]
        },
        {
          "output_type": "stream",
          "name": "stderr",
          "text": [
            "INFO:NEURONIOUtils:78\t\t2.0\n"
          ]
        },
        {
          "output_type": "stream",
          "name": "stdout",
          "text": [
            "2023-05-12 22:18:24,437 [INFO] 79\t\t2.0\n"
          ]
        },
        {
          "output_type": "stream",
          "name": "stderr",
          "text": [
            "INFO:NEURONIOUtils:79\t\t2.0\n"
          ]
        },
        {
          "output_type": "stream",
          "name": "stdout",
          "text": [
            "2023-05-12 22:18:24,442 [INFO] PGN firing rate avg: 2.0 Hz\n"
          ]
        },
        {
          "output_type": "stream",
          "name": "stderr",
          "text": [
            "INFO:NEURONIOUtils:PGN firing rate avg: 2.0 Hz\n"
          ]
        },
        {
          "output_type": "stream",
          "name": "stdout",
          "text": [
            "2023-05-12 22:18:24,444 [INFO] Grill PGN fr = 1.492 Hz\n"
          ]
        },
        {
          "output_type": "stream",
          "name": "stderr",
          "text": [
            "INFO:NEURONIOUtils:Grill PGN fr = 1.492 Hz\n"
          ]
        },
        {
          "output_type": "stream",
          "name": "stdout",
          "text": [
            "2023-05-12 22:18:24,449 [INFO] IMG node_gid\t  Hz\n"
          ]
        },
        {
          "output_type": "stream",
          "name": "stderr",
          "text": [
            "INFO:NEURONIOUtils:IMG node_gid\t  Hz\n"
          ]
        },
        {
          "output_type": "stream",
          "name": "stdout",
          "text": [
            "2023-05-12 22:18:24,451 [INFO] IMG firing rate avg: 2.0 Hz\n"
          ]
        },
        {
          "output_type": "stream",
          "name": "stderr",
          "text": [
            "INFO:NEURONIOUtils:IMG firing rate avg: 2.0 Hz\n"
          ]
        },
        {
          "output_type": "stream",
          "name": "stdout",
          "text": [
            "2023-05-12 22:18:24,463 [INFO] PGN firing rate = 2.00 Hz\n"
          ]
        },
        {
          "output_type": "stream",
          "name": "stderr",
          "text": [
            "/usr/local/lib/python3.10/dist-packages/bmtk/utils/reports/spike_trains/spike_trains.py:183: RuntimeWarning: divide by zero encountered in double_scalars\n",
            "  interval = -np.log(1.0 - np.random.uniform()) / fr\n",
            "INFO:NEURONIOUtils:PGN firing rate = 2.00 Hz\n"
          ]
        },
        {
          "output_type": "stream",
          "name": "stdout",
          "text": [
            "2023-05-12 22:18:24,469 [INFO] Volume = 53.1250 ml\n"
          ]
        },
        {
          "output_type": "stream",
          "name": "stderr",
          "text": [
            "INFO:NEURONIOUtils:Volume = 53.1250 ml\n"
          ]
        },
        {
          "output_type": "stream",
          "name": "stdout",
          "text": [
            "2023-05-12 22:18:24,471 [INFO] Pressure = 7.37 mmHg\n"
          ]
        },
        {
          "output_type": "stream",
          "name": "stderr",
          "text": [
            "INFO:NEURONIOUtils:Pressure = 7.37 mmHg\n"
          ]
        },
        {
          "output_type": "stream",
          "name": "stdout",
          "text": [
            "2023-05-12 22:18:24,474 [INFO] Calculated bladder afferent firing rate for the next time step = 0.00 Hz \n",
            " \n",
            "\n"
          ]
        },
        {
          "output_type": "stream",
          "name": "stderr",
          "text": [
            "INFO:NEURONIOUtils:Calculated bladder afferent firing rate for the next time step = 0.00 Hz \n",
            " \n",
            "\n"
          ]
        },
        {
          "output_type": "stream",
          "name": "stdout",
          "text": [
            "2023-05-12 22:18:25,628 [INFO]     step:132500 t_sim:26500.00 ms\n"
          ]
        },
        {
          "output_type": "stream",
          "name": "stderr",
          "text": [
            "INFO:NEURONIOUtils:    step:132500 t_sim:26500.00 ms\n"
          ]
        },
        {
          "output_type": "stream",
          "name": "stdout",
          "text": [
            "2023-05-12 22:18:25,637 [INFO] Timestep 26000.0 to 26500.0 ms\n"
          ]
        },
        {
          "output_type": "stream",
          "name": "stderr",
          "text": [
            "INFO:NEURONIOUtils:Timestep 26000.0 to 26500.0 ms\n"
          ]
        },
        {
          "output_type": "stream",
          "name": "stdout",
          "text": [
            "2023-05-12 22:18:25,641 [INFO] PGN node_id\t  Hz\n"
          ]
        },
        {
          "output_type": "stream",
          "name": "stderr",
          "text": [
            "INFO:NEURONIOUtils:PGN node_id\t  Hz\n"
          ]
        },
        {
          "output_type": "stream",
          "name": "stdout",
          "text": [
            "2023-05-12 22:18:25,644 [INFO] 70\t\t2.0\n"
          ]
        },
        {
          "output_type": "stream",
          "name": "stderr",
          "text": [
            "INFO:NEURONIOUtils:70\t\t2.0\n"
          ]
        },
        {
          "output_type": "stream",
          "name": "stdout",
          "text": [
            "2023-05-12 22:18:25,646 [INFO] 71\t\t2.0\n"
          ]
        },
        {
          "output_type": "stream",
          "name": "stderr",
          "text": [
            "INFO:NEURONIOUtils:71\t\t2.0\n"
          ]
        },
        {
          "output_type": "stream",
          "name": "stdout",
          "text": [
            "2023-05-12 22:18:25,649 [INFO] 72\t\t2.0\n"
          ]
        },
        {
          "output_type": "stream",
          "name": "stderr",
          "text": [
            "INFO:NEURONIOUtils:72\t\t2.0\n"
          ]
        },
        {
          "output_type": "stream",
          "name": "stdout",
          "text": [
            "2023-05-12 22:18:25,651 [INFO] 73\t\t2.0\n"
          ]
        },
        {
          "output_type": "stream",
          "name": "stderr",
          "text": [
            "INFO:NEURONIOUtils:73\t\t2.0\n"
          ]
        },
        {
          "output_type": "stream",
          "name": "stdout",
          "text": [
            "2023-05-12 22:18:25,653 [INFO] 74\t\t2.0\n"
          ]
        },
        {
          "output_type": "stream",
          "name": "stderr",
          "text": [
            "INFO:NEURONIOUtils:74\t\t2.0\n"
          ]
        },
        {
          "output_type": "stream",
          "name": "stdout",
          "text": [
            "2023-05-12 22:18:25,655 [INFO] 75\t\t2.0\n"
          ]
        },
        {
          "output_type": "stream",
          "name": "stderr",
          "text": [
            "INFO:NEURONIOUtils:75\t\t2.0\n"
          ]
        },
        {
          "output_type": "stream",
          "name": "stdout",
          "text": [
            "2023-05-12 22:18:25,657 [INFO] 76\t\t2.0\n"
          ]
        },
        {
          "output_type": "stream",
          "name": "stderr",
          "text": [
            "INFO:NEURONIOUtils:76\t\t2.0\n"
          ]
        },
        {
          "output_type": "stream",
          "name": "stdout",
          "text": [
            "2023-05-12 22:18:25,659 [INFO] 77\t\t2.0\n"
          ]
        },
        {
          "output_type": "stream",
          "name": "stderr",
          "text": [
            "INFO:NEURONIOUtils:77\t\t2.0\n"
          ]
        },
        {
          "output_type": "stream",
          "name": "stdout",
          "text": [
            "2023-05-12 22:18:25,661 [INFO] 78\t\t2.0\n"
          ]
        },
        {
          "output_type": "stream",
          "name": "stderr",
          "text": [
            "INFO:NEURONIOUtils:78\t\t2.0\n"
          ]
        },
        {
          "output_type": "stream",
          "name": "stdout",
          "text": [
            "2023-05-12 22:18:25,663 [INFO] 79\t\t2.0\n"
          ]
        },
        {
          "output_type": "stream",
          "name": "stderr",
          "text": [
            "INFO:NEURONIOUtils:79\t\t2.0\n"
          ]
        },
        {
          "output_type": "stream",
          "name": "stdout",
          "text": [
            "2023-05-12 22:18:25,665 [INFO] PGN firing rate avg: 2.0 Hz\n"
          ]
        },
        {
          "output_type": "stream",
          "name": "stderr",
          "text": [
            "INFO:NEURONIOUtils:PGN firing rate avg: 2.0 Hz\n"
          ]
        },
        {
          "output_type": "stream",
          "name": "stdout",
          "text": [
            "2023-05-12 22:18:25,667 [INFO] Grill PGN fr = 1.492 Hz\n"
          ]
        },
        {
          "output_type": "stream",
          "name": "stderr",
          "text": [
            "INFO:NEURONIOUtils:Grill PGN fr = 1.492 Hz\n"
          ]
        },
        {
          "output_type": "stream",
          "name": "stdout",
          "text": [
            "2023-05-12 22:18:25,669 [INFO] IMG node_gid\t  Hz\n"
          ]
        },
        {
          "output_type": "stream",
          "name": "stderr",
          "text": [
            "INFO:NEURONIOUtils:IMG node_gid\t  Hz\n"
          ]
        },
        {
          "output_type": "stream",
          "name": "stdout",
          "text": [
            "2023-05-12 22:18:25,671 [INFO] IMG firing rate avg: 2.0 Hz\n"
          ]
        },
        {
          "output_type": "stream",
          "name": "stderr",
          "text": [
            "INFO:NEURONIOUtils:IMG firing rate avg: 2.0 Hz\n"
          ]
        },
        {
          "output_type": "stream",
          "name": "stdout",
          "text": [
            "2023-05-12 22:18:25,678 [INFO] PGN firing rate = 2.00 Hz\n"
          ]
        },
        {
          "output_type": "stream",
          "name": "stderr",
          "text": [
            "/usr/local/lib/python3.10/dist-packages/bmtk/utils/reports/spike_trains/spike_trains.py:183: RuntimeWarning: divide by zero encountered in double_scalars\n",
            "  interval = -np.log(1.0 - np.random.uniform()) / fr\n",
            "INFO:NEURONIOUtils:PGN firing rate = 2.00 Hz\n"
          ]
        },
        {
          "output_type": "stream",
          "name": "stdout",
          "text": [
            "2023-05-12 22:18:25,682 [INFO] Volume = 54.1667 ml\n"
          ]
        },
        {
          "output_type": "stream",
          "name": "stderr",
          "text": [
            "INFO:NEURONIOUtils:Volume = 54.1667 ml\n"
          ]
        },
        {
          "output_type": "stream",
          "name": "stdout",
          "text": [
            "2023-05-12 22:18:25,683 [INFO] Pressure = 7.37 mmHg\n"
          ]
        },
        {
          "output_type": "stream",
          "name": "stderr",
          "text": [
            "INFO:NEURONIOUtils:Pressure = 7.37 mmHg\n"
          ]
        },
        {
          "output_type": "stream",
          "name": "stdout",
          "text": [
            "2023-05-12 22:18:25,685 [INFO] Calculated bladder afferent firing rate for the next time step = 0.00 Hz \n",
            " \n",
            "\n"
          ]
        },
        {
          "output_type": "stream",
          "name": "stderr",
          "text": [
            "INFO:NEURONIOUtils:Calculated bladder afferent firing rate for the next time step = 0.00 Hz \n",
            " \n",
            "\n"
          ]
        },
        {
          "output_type": "stream",
          "name": "stdout",
          "text": [
            "2023-05-12 22:18:26,837 [INFO]     step:135000 t_sim:27000.00 ms\n"
          ]
        },
        {
          "output_type": "stream",
          "name": "stderr",
          "text": [
            "INFO:NEURONIOUtils:    step:135000 t_sim:27000.00 ms\n"
          ]
        },
        {
          "output_type": "stream",
          "name": "stdout",
          "text": [
            "2023-05-12 22:18:26,849 [INFO] Timestep 26500.0 to 27000.0 ms\n"
          ]
        },
        {
          "output_type": "stream",
          "name": "stderr",
          "text": [
            "INFO:NEURONIOUtils:Timestep 26500.0 to 27000.0 ms\n"
          ]
        },
        {
          "output_type": "stream",
          "name": "stdout",
          "text": [
            "2023-05-12 22:18:26,854 [INFO] PGN node_id\t  Hz\n"
          ]
        },
        {
          "output_type": "stream",
          "name": "stderr",
          "text": [
            "INFO:NEURONIOUtils:PGN node_id\t  Hz\n"
          ]
        },
        {
          "output_type": "stream",
          "name": "stdout",
          "text": [
            "2023-05-12 22:18:26,859 [INFO] 70\t\t6.0\n"
          ]
        },
        {
          "output_type": "stream",
          "name": "stderr",
          "text": [
            "INFO:NEURONIOUtils:70\t\t6.0\n"
          ]
        },
        {
          "output_type": "stream",
          "name": "stdout",
          "text": [
            "2023-05-12 22:18:26,861 [INFO] 71\t\t6.0\n"
          ]
        },
        {
          "output_type": "stream",
          "name": "stderr",
          "text": [
            "INFO:NEURONIOUtils:71\t\t6.0\n"
          ]
        },
        {
          "output_type": "stream",
          "name": "stdout",
          "text": [
            "2023-05-12 22:18:26,864 [INFO] 72\t\t6.0\n"
          ]
        },
        {
          "output_type": "stream",
          "name": "stderr",
          "text": [
            "INFO:NEURONIOUtils:72\t\t6.0\n"
          ]
        },
        {
          "output_type": "stream",
          "name": "stdout",
          "text": [
            "2023-05-12 22:18:26,866 [INFO] 73\t\t6.0\n"
          ]
        },
        {
          "output_type": "stream",
          "name": "stderr",
          "text": [
            "INFO:NEURONIOUtils:73\t\t6.0\n"
          ]
        },
        {
          "output_type": "stream",
          "name": "stdout",
          "text": [
            "2023-05-12 22:18:26,869 [INFO] 74\t\t6.0\n"
          ]
        },
        {
          "output_type": "stream",
          "name": "stderr",
          "text": [
            "INFO:NEURONIOUtils:74\t\t6.0\n"
          ]
        },
        {
          "output_type": "stream",
          "name": "stdout",
          "text": [
            "2023-05-12 22:18:26,871 [INFO] 75\t\t6.0\n"
          ]
        },
        {
          "output_type": "stream",
          "name": "stderr",
          "text": [
            "INFO:NEURONIOUtils:75\t\t6.0\n"
          ]
        },
        {
          "output_type": "stream",
          "name": "stdout",
          "text": [
            "2023-05-12 22:18:26,873 [INFO] 76\t\t6.0\n"
          ]
        },
        {
          "output_type": "stream",
          "name": "stderr",
          "text": [
            "INFO:NEURONIOUtils:76\t\t6.0\n"
          ]
        },
        {
          "output_type": "stream",
          "name": "stdout",
          "text": [
            "2023-05-12 22:18:26,875 [INFO] 77\t\t6.0\n"
          ]
        },
        {
          "output_type": "stream",
          "name": "stderr",
          "text": [
            "INFO:NEURONIOUtils:77\t\t6.0\n"
          ]
        },
        {
          "output_type": "stream",
          "name": "stdout",
          "text": [
            "2023-05-12 22:18:26,877 [INFO] 78\t\t6.0\n"
          ]
        },
        {
          "output_type": "stream",
          "name": "stderr",
          "text": [
            "INFO:NEURONIOUtils:78\t\t6.0\n"
          ]
        },
        {
          "output_type": "stream",
          "name": "stdout",
          "text": [
            "2023-05-12 22:18:26,879 [INFO] 79\t\t6.0\n"
          ]
        },
        {
          "output_type": "stream",
          "name": "stderr",
          "text": [
            "INFO:NEURONIOUtils:79\t\t6.0\n"
          ]
        },
        {
          "output_type": "stream",
          "name": "stdout",
          "text": [
            "2023-05-12 22:18:26,882 [INFO] PGN firing rate avg: 6.0 Hz\n"
          ]
        },
        {
          "output_type": "stream",
          "name": "stderr",
          "text": [
            "INFO:NEURONIOUtils:PGN firing rate avg: 6.0 Hz\n"
          ]
        },
        {
          "output_type": "stream",
          "name": "stdout",
          "text": [
            "2023-05-12 22:18:26,884 [INFO] Grill PGN fr = 4.772 Hz\n"
          ]
        },
        {
          "output_type": "stream",
          "name": "stderr",
          "text": [
            "INFO:NEURONIOUtils:Grill PGN fr = 4.772 Hz\n"
          ]
        },
        {
          "output_type": "stream",
          "name": "stdout",
          "text": [
            "2023-05-12 22:18:26,886 [INFO] IMG node_gid\t  Hz\n"
          ]
        },
        {
          "output_type": "stream",
          "name": "stderr",
          "text": [
            "INFO:NEURONIOUtils:IMG node_gid\t  Hz\n"
          ]
        },
        {
          "output_type": "stream",
          "name": "stdout",
          "text": [
            "2023-05-12 22:18:26,888 [INFO] IMG firing rate avg: 6.0 Hz\n"
          ]
        },
        {
          "output_type": "stream",
          "name": "stderr",
          "text": [
            "INFO:NEURONIOUtils:IMG firing rate avg: 6.0 Hz\n"
          ]
        },
        {
          "output_type": "stream",
          "name": "stdout",
          "text": [
            "2023-05-12 22:18:26,896 [INFO] PGN firing rate = 6.00 Hz\n"
          ]
        },
        {
          "output_type": "stream",
          "name": "stderr",
          "text": [
            "/usr/local/lib/python3.10/dist-packages/bmtk/utils/reports/spike_trains/spike_trains.py:183: RuntimeWarning: divide by zero encountered in double_scalars\n",
            "  interval = -np.log(1.0 - np.random.uniform()) / fr\n",
            "INFO:NEURONIOUtils:PGN firing rate = 6.00 Hz\n"
          ]
        },
        {
          "output_type": "stream",
          "name": "stdout",
          "text": [
            "2023-05-12 22:18:26,902 [INFO] Volume = 55.2083 ml\n"
          ]
        },
        {
          "output_type": "stream",
          "name": "stderr",
          "text": [
            "INFO:NEURONIOUtils:Volume = 55.2083 ml\n"
          ]
        },
        {
          "output_type": "stream",
          "name": "stdout",
          "text": [
            "2023-05-12 22:18:26,904 [INFO] Pressure = 8.19 mmHg\n"
          ]
        },
        {
          "output_type": "stream",
          "name": "stderr",
          "text": [
            "INFO:NEURONIOUtils:Pressure = 8.19 mmHg\n"
          ]
        },
        {
          "output_type": "stream",
          "name": "stdout",
          "text": [
            "2023-05-12 22:18:26,907 [INFO] Calculated bladder afferent firing rate for the next time step = 0.00 Hz \n",
            " \n",
            "\n"
          ]
        },
        {
          "output_type": "stream",
          "name": "stderr",
          "text": [
            "INFO:NEURONIOUtils:Calculated bladder afferent firing rate for the next time step = 0.00 Hz \n",
            " \n",
            "\n"
          ]
        },
        {
          "output_type": "stream",
          "name": "stdout",
          "text": [
            "2023-05-12 22:18:28,369 [INFO]     step:137500 t_sim:27500.00 ms\n"
          ]
        },
        {
          "output_type": "stream",
          "name": "stderr",
          "text": [
            "INFO:NEURONIOUtils:    step:137500 t_sim:27500.00 ms\n"
          ]
        },
        {
          "output_type": "stream",
          "name": "stdout",
          "text": [
            "2023-05-12 22:18:28,378 [INFO] Timestep 27000.0 to 27500.0 ms\n"
          ]
        },
        {
          "output_type": "stream",
          "name": "stderr",
          "text": [
            "INFO:NEURONIOUtils:Timestep 27000.0 to 27500.0 ms\n"
          ]
        },
        {
          "output_type": "stream",
          "name": "stdout",
          "text": [
            "2023-05-12 22:18:28,383 [INFO] PGN node_id\t  Hz\n"
          ]
        },
        {
          "output_type": "stream",
          "name": "stderr",
          "text": [
            "INFO:NEURONIOUtils:PGN node_id\t  Hz\n"
          ]
        },
        {
          "output_type": "stream",
          "name": "stdout",
          "text": [
            "2023-05-12 22:18:28,387 [INFO] 70\t\t4.0\n"
          ]
        },
        {
          "output_type": "stream",
          "name": "stderr",
          "text": [
            "INFO:NEURONIOUtils:70\t\t4.0\n"
          ]
        },
        {
          "output_type": "stream",
          "name": "stdout",
          "text": [
            "2023-05-12 22:18:28,391 [INFO] 71\t\t4.0\n"
          ]
        },
        {
          "output_type": "stream",
          "name": "stderr",
          "text": [
            "INFO:NEURONIOUtils:71\t\t4.0\n"
          ]
        },
        {
          "output_type": "stream",
          "name": "stdout",
          "text": [
            "2023-05-12 22:18:28,393 [INFO] 72\t\t4.0\n"
          ]
        },
        {
          "output_type": "stream",
          "name": "stderr",
          "text": [
            "INFO:NEURONIOUtils:72\t\t4.0\n"
          ]
        },
        {
          "output_type": "stream",
          "name": "stdout",
          "text": [
            "2023-05-12 22:18:28,402 [INFO] 73\t\t4.0\n"
          ]
        },
        {
          "output_type": "stream",
          "name": "stderr",
          "text": [
            "INFO:NEURONIOUtils:73\t\t4.0\n"
          ]
        },
        {
          "output_type": "stream",
          "name": "stdout",
          "text": [
            "2023-05-12 22:18:28,405 [INFO] 74\t\t4.0\n"
          ]
        },
        {
          "output_type": "stream",
          "name": "stderr",
          "text": [
            "INFO:NEURONIOUtils:74\t\t4.0\n"
          ]
        },
        {
          "output_type": "stream",
          "name": "stdout",
          "text": [
            "2023-05-12 22:18:28,408 [INFO] 75\t\t4.0\n"
          ]
        },
        {
          "output_type": "stream",
          "name": "stderr",
          "text": [
            "INFO:NEURONIOUtils:75\t\t4.0\n"
          ]
        },
        {
          "output_type": "stream",
          "name": "stdout",
          "text": [
            "2023-05-12 22:18:28,411 [INFO] 76\t\t4.0\n"
          ]
        },
        {
          "output_type": "stream",
          "name": "stderr",
          "text": [
            "INFO:NEURONIOUtils:76\t\t4.0\n"
          ]
        },
        {
          "output_type": "stream",
          "name": "stdout",
          "text": [
            "2023-05-12 22:18:28,417 [INFO] 77\t\t4.0\n"
          ]
        },
        {
          "output_type": "stream",
          "name": "stderr",
          "text": [
            "INFO:NEURONIOUtils:77\t\t4.0\n"
          ]
        },
        {
          "output_type": "stream",
          "name": "stdout",
          "text": [
            "2023-05-12 22:18:28,420 [INFO] 78\t\t4.0\n"
          ]
        },
        {
          "output_type": "stream",
          "name": "stderr",
          "text": [
            "INFO:NEURONIOUtils:78\t\t4.0\n"
          ]
        },
        {
          "output_type": "stream",
          "name": "stdout",
          "text": [
            "2023-05-12 22:18:28,426 [INFO] 79\t\t4.0\n"
          ]
        },
        {
          "output_type": "stream",
          "name": "stderr",
          "text": [
            "INFO:NEURONIOUtils:79\t\t4.0\n"
          ]
        },
        {
          "output_type": "stream",
          "name": "stdout",
          "text": [
            "2023-05-12 22:18:28,429 [INFO] PGN firing rate avg: 4.0 Hz\n"
          ]
        },
        {
          "output_type": "stream",
          "name": "stderr",
          "text": [
            "INFO:NEURONIOUtils:PGN firing rate avg: 4.0 Hz\n"
          ]
        },
        {
          "output_type": "stream",
          "name": "stdout",
          "text": [
            "2023-05-12 22:18:28,436 [INFO] Grill PGN fr = 3.15 Hz\n"
          ]
        },
        {
          "output_type": "stream",
          "name": "stderr",
          "text": [
            "INFO:NEURONIOUtils:Grill PGN fr = 3.15 Hz\n"
          ]
        },
        {
          "output_type": "stream",
          "name": "stdout",
          "text": [
            "2023-05-12 22:18:28,441 [INFO] IMG node_gid\t  Hz\n"
          ]
        },
        {
          "output_type": "stream",
          "name": "stderr",
          "text": [
            "INFO:NEURONIOUtils:IMG node_gid\t  Hz\n"
          ]
        },
        {
          "output_type": "stream",
          "name": "stdout",
          "text": [
            "2023-05-12 22:18:28,447 [INFO] IMG firing rate avg: 4.0 Hz\n"
          ]
        },
        {
          "output_type": "stream",
          "name": "stderr",
          "text": [
            "INFO:NEURONIOUtils:IMG firing rate avg: 4.0 Hz\n"
          ]
        },
        {
          "output_type": "stream",
          "name": "stdout",
          "text": [
            "2023-05-12 22:18:28,477 [INFO] PGN firing rate = 4.00 Hz\n"
          ]
        },
        {
          "output_type": "stream",
          "name": "stderr",
          "text": [
            "/usr/local/lib/python3.10/dist-packages/bmtk/utils/reports/spike_trains/spike_trains.py:183: RuntimeWarning: divide by zero encountered in double_scalars\n",
            "  interval = -np.log(1.0 - np.random.uniform()) / fr\n",
            "INFO:NEURONIOUtils:PGN firing rate = 4.00 Hz\n"
          ]
        },
        {
          "output_type": "stream",
          "name": "stdout",
          "text": [
            "2023-05-12 22:18:28,479 [INFO] Volume = 56.2500 ml\n"
          ]
        },
        {
          "output_type": "stream",
          "name": "stderr",
          "text": [
            "INFO:NEURONIOUtils:Volume = 56.2500 ml\n"
          ]
        },
        {
          "output_type": "stream",
          "name": "stdout",
          "text": [
            "2023-05-12 22:18:28,484 [INFO] Pressure = 7.79 mmHg\n"
          ]
        },
        {
          "output_type": "stream",
          "name": "stderr",
          "text": [
            "INFO:NEURONIOUtils:Pressure = 7.79 mmHg\n"
          ]
        },
        {
          "output_type": "stream",
          "name": "stdout",
          "text": [
            "2023-05-12 22:18:28,490 [INFO] Calculated bladder afferent firing rate for the next time step = 0.00 Hz \n",
            " \n",
            "\n"
          ]
        },
        {
          "output_type": "stream",
          "name": "stderr",
          "text": [
            "INFO:NEURONIOUtils:Calculated bladder afferent firing rate for the next time step = 0.00 Hz \n",
            " \n",
            "\n"
          ]
        },
        {
          "output_type": "stream",
          "name": "stdout",
          "text": [
            "2023-05-12 22:18:29,971 [INFO]     step:140000 t_sim:28000.00 ms\n"
          ]
        },
        {
          "output_type": "stream",
          "name": "stderr",
          "text": [
            "INFO:NEURONIOUtils:    step:140000 t_sim:28000.00 ms\n"
          ]
        },
        {
          "output_type": "stream",
          "name": "stdout",
          "text": [
            "2023-05-12 22:18:29,987 [INFO] Timestep 27500.0 to 28000.0 ms\n"
          ]
        },
        {
          "output_type": "stream",
          "name": "stderr",
          "text": [
            "INFO:NEURONIOUtils:Timestep 27500.0 to 28000.0 ms\n"
          ]
        },
        {
          "output_type": "stream",
          "name": "stdout",
          "text": [
            "2023-05-12 22:18:29,991 [INFO] PGN node_id\t  Hz\n"
          ]
        },
        {
          "output_type": "stream",
          "name": "stderr",
          "text": [
            "INFO:NEURONIOUtils:PGN node_id\t  Hz\n"
          ]
        },
        {
          "output_type": "stream",
          "name": "stdout",
          "text": [
            "2023-05-12 22:18:29,997 [INFO] 70\t\t2.0\n"
          ]
        },
        {
          "output_type": "stream",
          "name": "stderr",
          "text": [
            "INFO:NEURONIOUtils:70\t\t2.0\n"
          ]
        },
        {
          "output_type": "stream",
          "name": "stdout",
          "text": [
            "2023-05-12 22:18:30,006 [INFO] 71\t\t2.0\n"
          ]
        },
        {
          "output_type": "stream",
          "name": "stderr",
          "text": [
            "INFO:NEURONIOUtils:71\t\t2.0\n"
          ]
        },
        {
          "output_type": "stream",
          "name": "stdout",
          "text": [
            "2023-05-12 22:18:30,011 [INFO] 72\t\t2.0\n"
          ]
        },
        {
          "output_type": "stream",
          "name": "stderr",
          "text": [
            "INFO:NEURONIOUtils:72\t\t2.0\n"
          ]
        },
        {
          "output_type": "stream",
          "name": "stdout",
          "text": [
            "2023-05-12 22:18:30,016 [INFO] 73\t\t2.0\n"
          ]
        },
        {
          "output_type": "stream",
          "name": "stderr",
          "text": [
            "INFO:NEURONIOUtils:73\t\t2.0\n"
          ]
        },
        {
          "output_type": "stream",
          "name": "stdout",
          "text": [
            "2023-05-12 22:18:30,021 [INFO] 74\t\t2.0\n"
          ]
        },
        {
          "output_type": "stream",
          "name": "stderr",
          "text": [
            "INFO:NEURONIOUtils:74\t\t2.0\n"
          ]
        },
        {
          "output_type": "stream",
          "name": "stdout",
          "text": [
            "2023-05-12 22:18:30,028 [INFO] 75\t\t2.0\n"
          ]
        },
        {
          "output_type": "stream",
          "name": "stderr",
          "text": [
            "INFO:NEURONIOUtils:75\t\t2.0\n"
          ]
        },
        {
          "output_type": "stream",
          "name": "stdout",
          "text": [
            "2023-05-12 22:18:30,032 [INFO] 76\t\t2.0\n"
          ]
        },
        {
          "output_type": "stream",
          "name": "stderr",
          "text": [
            "INFO:NEURONIOUtils:76\t\t2.0\n"
          ]
        },
        {
          "output_type": "stream",
          "name": "stdout",
          "text": [
            "2023-05-12 22:18:30,037 [INFO] 77\t\t2.0\n"
          ]
        },
        {
          "output_type": "stream",
          "name": "stderr",
          "text": [
            "INFO:NEURONIOUtils:77\t\t2.0\n"
          ]
        },
        {
          "output_type": "stream",
          "name": "stdout",
          "text": [
            "2023-05-12 22:18:30,041 [INFO] 78\t\t2.0\n"
          ]
        },
        {
          "output_type": "stream",
          "name": "stderr",
          "text": [
            "INFO:NEURONIOUtils:78\t\t2.0\n"
          ]
        },
        {
          "output_type": "stream",
          "name": "stdout",
          "text": [
            "2023-05-12 22:18:30,044 [INFO] 79\t\t2.0\n"
          ]
        },
        {
          "output_type": "stream",
          "name": "stderr",
          "text": [
            "INFO:NEURONIOUtils:79\t\t2.0\n"
          ]
        },
        {
          "output_type": "stream",
          "name": "stdout",
          "text": [
            "2023-05-12 22:18:30,049 [INFO] PGN firing rate avg: 2.0 Hz\n"
          ]
        },
        {
          "output_type": "stream",
          "name": "stderr",
          "text": [
            "INFO:NEURONIOUtils:PGN firing rate avg: 2.0 Hz\n"
          ]
        },
        {
          "output_type": "stream",
          "name": "stdout",
          "text": [
            "2023-05-12 22:18:30,052 [INFO] Grill PGN fr = 1.492 Hz\n"
          ]
        },
        {
          "output_type": "stream",
          "name": "stderr",
          "text": [
            "INFO:NEURONIOUtils:Grill PGN fr = 1.492 Hz\n"
          ]
        },
        {
          "output_type": "stream",
          "name": "stdout",
          "text": [
            "2023-05-12 22:18:30,056 [INFO] IMG node_gid\t  Hz\n"
          ]
        },
        {
          "output_type": "stream",
          "name": "stderr",
          "text": [
            "INFO:NEURONIOUtils:IMG node_gid\t  Hz\n"
          ]
        },
        {
          "output_type": "stream",
          "name": "stdout",
          "text": [
            "2023-05-12 22:18:30,061 [INFO] IMG firing rate avg: 2.0 Hz\n"
          ]
        },
        {
          "output_type": "stream",
          "name": "stderr",
          "text": [
            "INFO:NEURONIOUtils:IMG firing rate avg: 2.0 Hz\n"
          ]
        },
        {
          "output_type": "stream",
          "name": "stdout",
          "text": [
            "2023-05-12 22:18:30,081 [INFO] PGN firing rate = 2.00 Hz\n"
          ]
        },
        {
          "output_type": "stream",
          "name": "stderr",
          "text": [
            "/usr/local/lib/python3.10/dist-packages/bmtk/utils/reports/spike_trains/spike_trains.py:183: RuntimeWarning: divide by zero encountered in double_scalars\n",
            "  interval = -np.log(1.0 - np.random.uniform()) / fr\n",
            "INFO:NEURONIOUtils:PGN firing rate = 2.00 Hz\n"
          ]
        },
        {
          "output_type": "stream",
          "name": "stdout",
          "text": [
            "2023-05-12 22:18:30,088 [INFO] Volume = 57.2917 ml\n"
          ]
        },
        {
          "output_type": "stream",
          "name": "stderr",
          "text": [
            "INFO:NEURONIOUtils:Volume = 57.2917 ml\n"
          ]
        },
        {
          "output_type": "stream",
          "name": "stdout",
          "text": [
            "2023-05-12 22:18:30,090 [INFO] Pressure = 7.37 mmHg\n"
          ]
        },
        {
          "output_type": "stream",
          "name": "stderr",
          "text": [
            "INFO:NEURONIOUtils:Pressure = 7.37 mmHg\n"
          ]
        },
        {
          "output_type": "stream",
          "name": "stdout",
          "text": [
            "2023-05-12 22:18:30,093 [INFO] Calculated bladder afferent firing rate for the next time step = 0.00 Hz \n",
            " \n",
            "\n"
          ]
        },
        {
          "output_type": "stream",
          "name": "stderr",
          "text": [
            "INFO:NEURONIOUtils:Calculated bladder afferent firing rate for the next time step = 0.00 Hz \n",
            " \n",
            "\n"
          ]
        },
        {
          "output_type": "stream",
          "name": "stdout",
          "text": [
            "2023-05-12 22:18:31,588 [INFO]     step:142500 t_sim:28500.00 ms\n"
          ]
        },
        {
          "output_type": "stream",
          "name": "stderr",
          "text": [
            "INFO:NEURONIOUtils:    step:142500 t_sim:28500.00 ms\n"
          ]
        },
        {
          "output_type": "stream",
          "name": "stdout",
          "text": [
            "2023-05-12 22:18:31,601 [INFO] Timestep 28000.0 to 28500.0 ms\n"
          ]
        },
        {
          "output_type": "stream",
          "name": "stderr",
          "text": [
            "INFO:NEURONIOUtils:Timestep 28000.0 to 28500.0 ms\n"
          ]
        },
        {
          "output_type": "stream",
          "name": "stdout",
          "text": [
            "2023-05-12 22:18:31,606 [INFO] PGN node_id\t  Hz\n"
          ]
        },
        {
          "output_type": "stream",
          "name": "stderr",
          "text": [
            "INFO:NEURONIOUtils:PGN node_id\t  Hz\n"
          ]
        },
        {
          "output_type": "stream",
          "name": "stdout",
          "text": [
            "2023-05-12 22:18:31,609 [INFO] 70\t\t4.0\n"
          ]
        },
        {
          "output_type": "stream",
          "name": "stderr",
          "text": [
            "INFO:NEURONIOUtils:70\t\t4.0\n"
          ]
        },
        {
          "output_type": "stream",
          "name": "stdout",
          "text": [
            "2023-05-12 22:18:31,614 [INFO] 71\t\t4.0\n"
          ]
        },
        {
          "output_type": "stream",
          "name": "stderr",
          "text": [
            "INFO:NEURONIOUtils:71\t\t4.0\n"
          ]
        },
        {
          "output_type": "stream",
          "name": "stdout",
          "text": [
            "2023-05-12 22:18:31,616 [INFO] 72\t\t4.0\n"
          ]
        },
        {
          "output_type": "stream",
          "name": "stderr",
          "text": [
            "INFO:NEURONIOUtils:72\t\t4.0\n"
          ]
        },
        {
          "output_type": "stream",
          "name": "stdout",
          "text": [
            "2023-05-12 22:18:31,619 [INFO] 73\t\t4.0\n"
          ]
        },
        {
          "output_type": "stream",
          "name": "stderr",
          "text": [
            "INFO:NEURONIOUtils:73\t\t4.0\n"
          ]
        },
        {
          "output_type": "stream",
          "name": "stdout",
          "text": [
            "2023-05-12 22:18:31,622 [INFO] 74\t\t4.0\n"
          ]
        },
        {
          "output_type": "stream",
          "name": "stderr",
          "text": [
            "INFO:NEURONIOUtils:74\t\t4.0\n"
          ]
        },
        {
          "output_type": "stream",
          "name": "stdout",
          "text": [
            "2023-05-12 22:18:31,627 [INFO] 75\t\t4.0\n"
          ]
        },
        {
          "output_type": "stream",
          "name": "stderr",
          "text": [
            "INFO:NEURONIOUtils:75\t\t4.0\n"
          ]
        },
        {
          "output_type": "stream",
          "name": "stdout",
          "text": [
            "2023-05-12 22:18:31,630 [INFO] 76\t\t4.0\n"
          ]
        },
        {
          "output_type": "stream",
          "name": "stderr",
          "text": [
            "INFO:NEURONIOUtils:76\t\t4.0\n"
          ]
        },
        {
          "output_type": "stream",
          "name": "stdout",
          "text": [
            "2023-05-12 22:18:31,634 [INFO] 77\t\t4.0\n"
          ]
        },
        {
          "output_type": "stream",
          "name": "stderr",
          "text": [
            "INFO:NEURONIOUtils:77\t\t4.0\n"
          ]
        },
        {
          "output_type": "stream",
          "name": "stdout",
          "text": [
            "2023-05-12 22:18:31,639 [INFO] 78\t\t4.0\n"
          ]
        },
        {
          "output_type": "stream",
          "name": "stderr",
          "text": [
            "INFO:NEURONIOUtils:78\t\t4.0\n"
          ]
        },
        {
          "output_type": "stream",
          "name": "stdout",
          "text": [
            "2023-05-12 22:18:31,643 [INFO] 79\t\t4.0\n"
          ]
        },
        {
          "output_type": "stream",
          "name": "stderr",
          "text": [
            "INFO:NEURONIOUtils:79\t\t4.0\n"
          ]
        },
        {
          "output_type": "stream",
          "name": "stdout",
          "text": [
            "2023-05-12 22:18:31,648 [INFO] PGN firing rate avg: 4.0 Hz\n"
          ]
        },
        {
          "output_type": "stream",
          "name": "stderr",
          "text": [
            "INFO:NEURONIOUtils:PGN firing rate avg: 4.0 Hz\n"
          ]
        },
        {
          "output_type": "stream",
          "name": "stdout",
          "text": [
            "2023-05-12 22:18:31,652 [INFO] Grill PGN fr = 3.15 Hz\n"
          ]
        },
        {
          "output_type": "stream",
          "name": "stderr",
          "text": [
            "INFO:NEURONIOUtils:Grill PGN fr = 3.15 Hz\n"
          ]
        },
        {
          "output_type": "stream",
          "name": "stdout",
          "text": [
            "2023-05-12 22:18:31,656 [INFO] IMG node_gid\t  Hz\n"
          ]
        },
        {
          "output_type": "stream",
          "name": "stderr",
          "text": [
            "INFO:NEURONIOUtils:IMG node_gid\t  Hz\n"
          ]
        },
        {
          "output_type": "stream",
          "name": "stdout",
          "text": [
            "2023-05-12 22:18:31,660 [INFO] IMG firing rate avg: 4.0 Hz\n"
          ]
        },
        {
          "output_type": "stream",
          "name": "stderr",
          "text": [
            "INFO:NEURONIOUtils:IMG firing rate avg: 4.0 Hz\n"
          ]
        },
        {
          "output_type": "stream",
          "name": "stdout",
          "text": [
            "2023-05-12 22:18:31,696 [INFO] PGN firing rate = 4.00 Hz\n"
          ]
        },
        {
          "output_type": "stream",
          "name": "stderr",
          "text": [
            "/usr/local/lib/python3.10/dist-packages/bmtk/utils/reports/spike_trains/spike_trains.py:183: RuntimeWarning: divide by zero encountered in double_scalars\n",
            "  interval = -np.log(1.0 - np.random.uniform()) / fr\n",
            "INFO:NEURONIOUtils:PGN firing rate = 4.00 Hz\n"
          ]
        },
        {
          "output_type": "stream",
          "name": "stdout",
          "text": [
            "2023-05-12 22:18:31,702 [INFO] Volume = 58.3333 ml\n"
          ]
        },
        {
          "output_type": "stream",
          "name": "stderr",
          "text": [
            "INFO:NEURONIOUtils:Volume = 58.3333 ml\n"
          ]
        },
        {
          "output_type": "stream",
          "name": "stdout",
          "text": [
            "2023-05-12 22:18:31,705 [INFO] Pressure = 7.79 mmHg\n"
          ]
        },
        {
          "output_type": "stream",
          "name": "stderr",
          "text": [
            "INFO:NEURONIOUtils:Pressure = 7.79 mmHg\n"
          ]
        },
        {
          "output_type": "stream",
          "name": "stdout",
          "text": [
            "2023-05-12 22:18:31,706 [INFO] Calculated bladder afferent firing rate for the next time step = 0.00 Hz \n",
            " \n",
            "\n"
          ]
        },
        {
          "output_type": "stream",
          "name": "stderr",
          "text": [
            "INFO:NEURONIOUtils:Calculated bladder afferent firing rate for the next time step = 0.00 Hz \n",
            " \n",
            "\n"
          ]
        },
        {
          "output_type": "stream",
          "name": "stdout",
          "text": [
            "2023-05-12 22:18:33,138 [INFO]     step:145000 t_sim:29000.00 ms\n"
          ]
        },
        {
          "output_type": "stream",
          "name": "stderr",
          "text": [
            "INFO:NEURONIOUtils:    step:145000 t_sim:29000.00 ms\n"
          ]
        },
        {
          "output_type": "stream",
          "name": "stdout",
          "text": [
            "2023-05-12 22:18:33,147 [INFO] Timestep 28500.0 to 29000.0 ms\n"
          ]
        },
        {
          "output_type": "stream",
          "name": "stderr",
          "text": [
            "INFO:NEURONIOUtils:Timestep 28500.0 to 29000.0 ms\n"
          ]
        },
        {
          "output_type": "stream",
          "name": "stdout",
          "text": [
            "2023-05-12 22:18:33,151 [INFO] PGN node_id\t  Hz\n"
          ]
        },
        {
          "output_type": "stream",
          "name": "stderr",
          "text": [
            "INFO:NEURONIOUtils:PGN node_id\t  Hz\n"
          ]
        },
        {
          "output_type": "stream",
          "name": "stdout",
          "text": [
            "2023-05-12 22:18:33,155 [INFO] 70\t\t6.0\n"
          ]
        },
        {
          "output_type": "stream",
          "name": "stderr",
          "text": [
            "INFO:NEURONIOUtils:70\t\t6.0\n"
          ]
        },
        {
          "output_type": "stream",
          "name": "stdout",
          "text": [
            "2023-05-12 22:18:33,158 [INFO] 71\t\t6.0\n"
          ]
        },
        {
          "output_type": "stream",
          "name": "stderr",
          "text": [
            "INFO:NEURONIOUtils:71\t\t6.0\n"
          ]
        },
        {
          "output_type": "stream",
          "name": "stdout",
          "text": [
            "2023-05-12 22:18:33,160 [INFO] 72\t\t6.0\n"
          ]
        },
        {
          "output_type": "stream",
          "name": "stderr",
          "text": [
            "INFO:NEURONIOUtils:72\t\t6.0\n"
          ]
        },
        {
          "output_type": "stream",
          "name": "stdout",
          "text": [
            "2023-05-12 22:18:33,162 [INFO] 73\t\t6.0\n"
          ]
        },
        {
          "output_type": "stream",
          "name": "stderr",
          "text": [
            "INFO:NEURONIOUtils:73\t\t6.0\n"
          ]
        },
        {
          "output_type": "stream",
          "name": "stdout",
          "text": [
            "2023-05-12 22:18:33,164 [INFO] 74\t\t6.0\n"
          ]
        },
        {
          "output_type": "stream",
          "name": "stderr",
          "text": [
            "INFO:NEURONIOUtils:74\t\t6.0\n"
          ]
        },
        {
          "output_type": "stream",
          "name": "stdout",
          "text": [
            "2023-05-12 22:18:33,166 [INFO] 75\t\t6.0\n"
          ]
        },
        {
          "output_type": "stream",
          "name": "stderr",
          "text": [
            "INFO:NEURONIOUtils:75\t\t6.0\n"
          ]
        },
        {
          "output_type": "stream",
          "name": "stdout",
          "text": [
            "2023-05-12 22:18:33,168 [INFO] 76\t\t6.0\n"
          ]
        },
        {
          "output_type": "stream",
          "name": "stderr",
          "text": [
            "INFO:NEURONIOUtils:76\t\t6.0\n"
          ]
        },
        {
          "output_type": "stream",
          "name": "stdout",
          "text": [
            "2023-05-12 22:18:33,169 [INFO] 77\t\t6.0\n"
          ]
        },
        {
          "output_type": "stream",
          "name": "stderr",
          "text": [
            "INFO:NEURONIOUtils:77\t\t6.0\n"
          ]
        },
        {
          "output_type": "stream",
          "name": "stdout",
          "text": [
            "2023-05-12 22:18:33,171 [INFO] 78\t\t6.0\n"
          ]
        },
        {
          "output_type": "stream",
          "name": "stderr",
          "text": [
            "INFO:NEURONIOUtils:78\t\t6.0\n"
          ]
        },
        {
          "output_type": "stream",
          "name": "stdout",
          "text": [
            "2023-05-12 22:18:33,173 [INFO] 79\t\t6.0\n"
          ]
        },
        {
          "output_type": "stream",
          "name": "stderr",
          "text": [
            "INFO:NEURONIOUtils:79\t\t6.0\n"
          ]
        },
        {
          "output_type": "stream",
          "name": "stdout",
          "text": [
            "2023-05-12 22:18:33,175 [INFO] PGN firing rate avg: 6.0 Hz\n"
          ]
        },
        {
          "output_type": "stream",
          "name": "stderr",
          "text": [
            "INFO:NEURONIOUtils:PGN firing rate avg: 6.0 Hz\n"
          ]
        },
        {
          "output_type": "stream",
          "name": "stdout",
          "text": [
            "2023-05-12 22:18:33,176 [INFO] Grill PGN fr = 4.772 Hz\n"
          ]
        },
        {
          "output_type": "stream",
          "name": "stderr",
          "text": [
            "INFO:NEURONIOUtils:Grill PGN fr = 4.772 Hz\n"
          ]
        },
        {
          "output_type": "stream",
          "name": "stdout",
          "text": [
            "2023-05-12 22:18:33,178 [INFO] IMG node_gid\t  Hz\n"
          ]
        },
        {
          "output_type": "stream",
          "name": "stderr",
          "text": [
            "INFO:NEURONIOUtils:IMG node_gid\t  Hz\n"
          ]
        },
        {
          "output_type": "stream",
          "name": "stdout",
          "text": [
            "2023-05-12 22:18:33,181 [INFO] IMG firing rate avg: 6.0 Hz\n"
          ]
        },
        {
          "output_type": "stream",
          "name": "stderr",
          "text": [
            "INFO:NEURONIOUtils:IMG firing rate avg: 6.0 Hz\n"
          ]
        },
        {
          "output_type": "stream",
          "name": "stdout",
          "text": [
            "2023-05-12 22:18:33,190 [INFO] PGN firing rate = 6.00 Hz\n"
          ]
        },
        {
          "output_type": "stream",
          "name": "stderr",
          "text": [
            "/usr/local/lib/python3.10/dist-packages/bmtk/utils/reports/spike_trains/spike_trains.py:183: RuntimeWarning: divide by zero encountered in double_scalars\n",
            "  interval = -np.log(1.0 - np.random.uniform()) / fr\n",
            "INFO:NEURONIOUtils:PGN firing rate = 6.00 Hz\n"
          ]
        },
        {
          "output_type": "stream",
          "name": "stdout",
          "text": [
            "2023-05-12 22:18:33,192 [INFO] Volume = 59.3750 ml\n"
          ]
        },
        {
          "output_type": "stream",
          "name": "stderr",
          "text": [
            "INFO:NEURONIOUtils:Volume = 59.3750 ml\n"
          ]
        },
        {
          "output_type": "stream",
          "name": "stdout",
          "text": [
            "2023-05-12 22:18:33,194 [INFO] Pressure = 8.19 mmHg\n"
          ]
        },
        {
          "output_type": "stream",
          "name": "stderr",
          "text": [
            "INFO:NEURONIOUtils:Pressure = 8.19 mmHg\n"
          ]
        },
        {
          "output_type": "stream",
          "name": "stdout",
          "text": [
            "2023-05-12 22:18:33,196 [INFO] Calculated bladder afferent firing rate for the next time step = 0.00 Hz \n",
            " \n",
            "\n"
          ]
        },
        {
          "output_type": "stream",
          "name": "stderr",
          "text": [
            "INFO:NEURONIOUtils:Calculated bladder afferent firing rate for the next time step = 0.00 Hz \n",
            " \n",
            "\n"
          ]
        },
        {
          "output_type": "stream",
          "name": "stdout",
          "text": [
            "2023-05-12 22:18:34,384 [INFO]     step:147500 t_sim:29500.00 ms\n"
          ]
        },
        {
          "output_type": "stream",
          "name": "stderr",
          "text": [
            "INFO:NEURONIOUtils:    step:147500 t_sim:29500.00 ms\n"
          ]
        },
        {
          "output_type": "stream",
          "name": "stdout",
          "text": [
            "2023-05-12 22:18:34,394 [INFO] Timestep 29000.0 to 29500.0 ms\n"
          ]
        },
        {
          "output_type": "stream",
          "name": "stderr",
          "text": [
            "INFO:NEURONIOUtils:Timestep 29000.0 to 29500.0 ms\n"
          ]
        },
        {
          "output_type": "stream",
          "name": "stdout",
          "text": [
            "2023-05-12 22:18:34,398 [INFO] PGN node_id\t  Hz\n"
          ]
        },
        {
          "output_type": "stream",
          "name": "stderr",
          "text": [
            "INFO:NEURONIOUtils:PGN node_id\t  Hz\n"
          ]
        },
        {
          "output_type": "stream",
          "name": "stdout",
          "text": [
            "2023-05-12 22:18:34,401 [INFO] 70\t\t4.0\n"
          ]
        },
        {
          "output_type": "stream",
          "name": "stderr",
          "text": [
            "INFO:NEURONIOUtils:70\t\t4.0\n"
          ]
        },
        {
          "output_type": "stream",
          "name": "stdout",
          "text": [
            "2023-05-12 22:18:34,404 [INFO] 71\t\t4.0\n"
          ]
        },
        {
          "output_type": "stream",
          "name": "stderr",
          "text": [
            "INFO:NEURONIOUtils:71\t\t4.0\n"
          ]
        },
        {
          "output_type": "stream",
          "name": "stdout",
          "text": [
            "2023-05-12 22:18:34,406 [INFO] 72\t\t4.0\n"
          ]
        },
        {
          "output_type": "stream",
          "name": "stderr",
          "text": [
            "INFO:NEURONIOUtils:72\t\t4.0\n"
          ]
        },
        {
          "output_type": "stream",
          "name": "stdout",
          "text": [
            "2023-05-12 22:18:34,408 [INFO] 73\t\t4.0\n"
          ]
        },
        {
          "output_type": "stream",
          "name": "stderr",
          "text": [
            "INFO:NEURONIOUtils:73\t\t4.0\n"
          ]
        },
        {
          "output_type": "stream",
          "name": "stdout",
          "text": [
            "2023-05-12 22:18:34,410 [INFO] 74\t\t4.0\n"
          ]
        },
        {
          "output_type": "stream",
          "name": "stderr",
          "text": [
            "INFO:NEURONIOUtils:74\t\t4.0\n"
          ]
        },
        {
          "output_type": "stream",
          "name": "stdout",
          "text": [
            "2023-05-12 22:18:34,412 [INFO] 75\t\t4.0\n"
          ]
        },
        {
          "output_type": "stream",
          "name": "stderr",
          "text": [
            "INFO:NEURONIOUtils:75\t\t4.0\n"
          ]
        },
        {
          "output_type": "stream",
          "name": "stdout",
          "text": [
            "2023-05-12 22:18:34,414 [INFO] 76\t\t4.0\n"
          ]
        },
        {
          "output_type": "stream",
          "name": "stderr",
          "text": [
            "INFO:NEURONIOUtils:76\t\t4.0\n"
          ]
        },
        {
          "output_type": "stream",
          "name": "stdout",
          "text": [
            "2023-05-12 22:18:34,416 [INFO] 77\t\t4.0\n"
          ]
        },
        {
          "output_type": "stream",
          "name": "stderr",
          "text": [
            "INFO:NEURONIOUtils:77\t\t4.0\n"
          ]
        },
        {
          "output_type": "stream",
          "name": "stdout",
          "text": [
            "2023-05-12 22:18:34,418 [INFO] 78\t\t4.0\n"
          ]
        },
        {
          "output_type": "stream",
          "name": "stderr",
          "text": [
            "INFO:NEURONIOUtils:78\t\t4.0\n"
          ]
        },
        {
          "output_type": "stream",
          "name": "stdout",
          "text": [
            "2023-05-12 22:18:34,420 [INFO] 79\t\t4.0\n"
          ]
        },
        {
          "output_type": "stream",
          "name": "stderr",
          "text": [
            "INFO:NEURONIOUtils:79\t\t4.0\n"
          ]
        },
        {
          "output_type": "stream",
          "name": "stdout",
          "text": [
            "2023-05-12 22:18:34,422 [INFO] PGN firing rate avg: 4.0 Hz\n"
          ]
        },
        {
          "output_type": "stream",
          "name": "stderr",
          "text": [
            "INFO:NEURONIOUtils:PGN firing rate avg: 4.0 Hz\n"
          ]
        },
        {
          "output_type": "stream",
          "name": "stdout",
          "text": [
            "2023-05-12 22:18:34,424 [INFO] Grill PGN fr = 3.15 Hz\n"
          ]
        },
        {
          "output_type": "stream",
          "name": "stderr",
          "text": [
            "INFO:NEURONIOUtils:Grill PGN fr = 3.15 Hz\n"
          ]
        },
        {
          "output_type": "stream",
          "name": "stdout",
          "text": [
            "2023-05-12 22:18:34,426 [INFO] IMG node_gid\t  Hz\n"
          ]
        },
        {
          "output_type": "stream",
          "name": "stderr",
          "text": [
            "INFO:NEURONIOUtils:IMG node_gid\t  Hz\n"
          ]
        },
        {
          "output_type": "stream",
          "name": "stdout",
          "text": [
            "2023-05-12 22:18:34,428 [INFO] IMG firing rate avg: 4.0 Hz\n"
          ]
        },
        {
          "output_type": "stream",
          "name": "stderr",
          "text": [
            "INFO:NEURONIOUtils:IMG firing rate avg: 4.0 Hz\n"
          ]
        },
        {
          "output_type": "stream",
          "name": "stdout",
          "text": [
            "2023-05-12 22:18:34,437 [INFO] PGN firing rate = 4.00 Hz\n"
          ]
        },
        {
          "output_type": "stream",
          "name": "stderr",
          "text": [
            "/usr/local/lib/python3.10/dist-packages/bmtk/utils/reports/spike_trains/spike_trains.py:183: RuntimeWarning: divide by zero encountered in double_scalars\n",
            "  interval = -np.log(1.0 - np.random.uniform()) / fr\n",
            "INFO:NEURONIOUtils:PGN firing rate = 4.00 Hz\n"
          ]
        },
        {
          "output_type": "stream",
          "name": "stdout",
          "text": [
            "2023-05-12 22:18:34,440 [INFO] Volume = 60.4167 ml\n"
          ]
        },
        {
          "output_type": "stream",
          "name": "stderr",
          "text": [
            "INFO:NEURONIOUtils:Volume = 60.4167 ml\n"
          ]
        },
        {
          "output_type": "stream",
          "name": "stdout",
          "text": [
            "2023-05-12 22:18:34,442 [INFO] Pressure = 7.79 mmHg\n"
          ]
        },
        {
          "output_type": "stream",
          "name": "stderr",
          "text": [
            "INFO:NEURONIOUtils:Pressure = 7.79 mmHg\n"
          ]
        },
        {
          "output_type": "stream",
          "name": "stdout",
          "text": [
            "2023-05-12 22:18:34,444 [INFO] Calculated bladder afferent firing rate for the next time step = 0.00 Hz \n",
            " \n",
            "\n"
          ]
        },
        {
          "output_type": "stream",
          "name": "stderr",
          "text": [
            "INFO:NEURONIOUtils:Calculated bladder afferent firing rate for the next time step = 0.00 Hz \n",
            " \n",
            "\n"
          ]
        },
        {
          "output_type": "stream",
          "name": "stdout",
          "text": [
            "2023-05-12 22:18:35,637 [INFO]     step:150000 t_sim:30000.00 ms\n"
          ]
        },
        {
          "output_type": "stream",
          "name": "stderr",
          "text": [
            "INFO:NEURONIOUtils:    step:150000 t_sim:30000.00 ms\n"
          ]
        },
        {
          "output_type": "stream",
          "name": "stdout",
          "text": [
            "2023-05-12 22:18:35,646 [INFO] Timestep 29500.0 to 30000.0 ms\n"
          ]
        },
        {
          "output_type": "stream",
          "name": "stderr",
          "text": [
            "INFO:NEURONIOUtils:Timestep 29500.0 to 30000.0 ms\n"
          ]
        },
        {
          "output_type": "stream",
          "name": "stdout",
          "text": [
            "2023-05-12 22:18:35,650 [INFO] PGN node_id\t  Hz\n"
          ]
        },
        {
          "output_type": "stream",
          "name": "stderr",
          "text": [
            "INFO:NEURONIOUtils:PGN node_id\t  Hz\n"
          ]
        },
        {
          "output_type": "stream",
          "name": "stdout",
          "text": [
            "2023-05-12 22:18:35,654 [INFO] 70\t\t4.0\n"
          ]
        },
        {
          "output_type": "stream",
          "name": "stderr",
          "text": [
            "INFO:NEURONIOUtils:70\t\t4.0\n"
          ]
        },
        {
          "output_type": "stream",
          "name": "stdout",
          "text": [
            "2023-05-12 22:18:35,656 [INFO] 71\t\t4.0\n"
          ]
        },
        {
          "output_type": "stream",
          "name": "stderr",
          "text": [
            "INFO:NEURONIOUtils:71\t\t4.0\n"
          ]
        },
        {
          "output_type": "stream",
          "name": "stdout",
          "text": [
            "2023-05-12 22:18:35,659 [INFO] 72\t\t4.0\n"
          ]
        },
        {
          "output_type": "stream",
          "name": "stderr",
          "text": [
            "INFO:NEURONIOUtils:72\t\t4.0\n"
          ]
        },
        {
          "output_type": "stream",
          "name": "stdout",
          "text": [
            "2023-05-12 22:18:35,661 [INFO] 73\t\t4.0\n"
          ]
        },
        {
          "output_type": "stream",
          "name": "stderr",
          "text": [
            "INFO:NEURONIOUtils:73\t\t4.0\n"
          ]
        },
        {
          "output_type": "stream",
          "name": "stdout",
          "text": [
            "2023-05-12 22:18:35,663 [INFO] 74\t\t4.0\n"
          ]
        },
        {
          "output_type": "stream",
          "name": "stderr",
          "text": [
            "INFO:NEURONIOUtils:74\t\t4.0\n"
          ]
        },
        {
          "output_type": "stream",
          "name": "stdout",
          "text": [
            "2023-05-12 22:18:35,665 [INFO] 75\t\t4.0\n"
          ]
        },
        {
          "output_type": "stream",
          "name": "stderr",
          "text": [
            "INFO:NEURONIOUtils:75\t\t4.0\n"
          ]
        },
        {
          "output_type": "stream",
          "name": "stdout",
          "text": [
            "2023-05-12 22:18:35,667 [INFO] 76\t\t4.0\n"
          ]
        },
        {
          "output_type": "stream",
          "name": "stderr",
          "text": [
            "INFO:NEURONIOUtils:76\t\t4.0\n"
          ]
        },
        {
          "output_type": "stream",
          "name": "stdout",
          "text": [
            "2023-05-12 22:18:35,669 [INFO] 77\t\t4.0\n"
          ]
        },
        {
          "output_type": "stream",
          "name": "stderr",
          "text": [
            "INFO:NEURONIOUtils:77\t\t4.0\n"
          ]
        },
        {
          "output_type": "stream",
          "name": "stdout",
          "text": [
            "2023-05-12 22:18:35,671 [INFO] 78\t\t4.0\n"
          ]
        },
        {
          "output_type": "stream",
          "name": "stderr",
          "text": [
            "INFO:NEURONIOUtils:78\t\t4.0\n"
          ]
        },
        {
          "output_type": "stream",
          "name": "stdout",
          "text": [
            "2023-05-12 22:18:35,674 [INFO] 79\t\t4.0\n"
          ]
        },
        {
          "output_type": "stream",
          "name": "stderr",
          "text": [
            "INFO:NEURONIOUtils:79\t\t4.0\n"
          ]
        },
        {
          "output_type": "stream",
          "name": "stdout",
          "text": [
            "2023-05-12 22:18:35,676 [INFO] PGN firing rate avg: 4.0 Hz\n"
          ]
        },
        {
          "output_type": "stream",
          "name": "stderr",
          "text": [
            "INFO:NEURONIOUtils:PGN firing rate avg: 4.0 Hz\n"
          ]
        },
        {
          "output_type": "stream",
          "name": "stdout",
          "text": [
            "2023-05-12 22:18:35,678 [INFO] Grill PGN fr = 3.15 Hz\n"
          ]
        },
        {
          "output_type": "stream",
          "name": "stderr",
          "text": [
            "INFO:NEURONIOUtils:Grill PGN fr = 3.15 Hz\n"
          ]
        },
        {
          "output_type": "stream",
          "name": "stdout",
          "text": [
            "2023-05-12 22:18:35,680 [INFO] IMG node_gid\t  Hz\n"
          ]
        },
        {
          "output_type": "stream",
          "name": "stderr",
          "text": [
            "INFO:NEURONIOUtils:IMG node_gid\t  Hz\n"
          ]
        },
        {
          "output_type": "stream",
          "name": "stdout",
          "text": [
            "2023-05-12 22:18:35,682 [INFO] IMG firing rate avg: 4.0 Hz\n"
          ]
        },
        {
          "output_type": "stream",
          "name": "stderr",
          "text": [
            "INFO:NEURONIOUtils:IMG firing rate avg: 4.0 Hz\n"
          ]
        },
        {
          "output_type": "stream",
          "name": "stdout",
          "text": [
            "2023-05-12 22:18:35,690 [INFO] PGN firing rate = 4.00 Hz\n"
          ]
        },
        {
          "output_type": "stream",
          "name": "stderr",
          "text": [
            "/usr/local/lib/python3.10/dist-packages/bmtk/utils/reports/spike_trains/spike_trains.py:183: RuntimeWarning: divide by zero encountered in double_scalars\n",
            "  interval = -np.log(1.0 - np.random.uniform()) / fr\n",
            "INFO:NEURONIOUtils:PGN firing rate = 4.00 Hz\n"
          ]
        },
        {
          "output_type": "stream",
          "name": "stdout",
          "text": [
            "2023-05-12 22:18:35,693 [INFO] Volume = 61.4583 ml\n"
          ]
        },
        {
          "output_type": "stream",
          "name": "stderr",
          "text": [
            "INFO:NEURONIOUtils:Volume = 61.4583 ml\n"
          ]
        },
        {
          "output_type": "stream",
          "name": "stdout",
          "text": [
            "2023-05-12 22:18:35,695 [INFO] Pressure = 7.79 mmHg\n"
          ]
        },
        {
          "output_type": "stream",
          "name": "stderr",
          "text": [
            "INFO:NEURONIOUtils:Pressure = 7.79 mmHg\n"
          ]
        },
        {
          "output_type": "stream",
          "name": "stdout",
          "text": [
            "2023-05-12 22:18:35,697 [INFO] Calculated bladder afferent firing rate for the next time step = 0.00 Hz \n",
            " \n",
            "\n"
          ]
        },
        {
          "output_type": "stream",
          "name": "stderr",
          "text": [
            "INFO:NEURONIOUtils:Calculated bladder afferent firing rate for the next time step = 0.00 Hz \n",
            " \n",
            "\n"
          ]
        },
        {
          "output_type": "stream",
          "name": "stdout",
          "text": [
            "2023-05-12 22:18:36,929 [INFO]     step:152500 t_sim:30500.00 ms\n"
          ]
        },
        {
          "output_type": "stream",
          "name": "stderr",
          "text": [
            "INFO:NEURONIOUtils:    step:152500 t_sim:30500.00 ms\n"
          ]
        },
        {
          "output_type": "stream",
          "name": "stdout",
          "text": [
            "2023-05-12 22:18:36,939 [INFO] Timestep 30000.0 to 30500.0 ms\n"
          ]
        },
        {
          "output_type": "stream",
          "name": "stderr",
          "text": [
            "INFO:NEURONIOUtils:Timestep 30000.0 to 30500.0 ms\n"
          ]
        },
        {
          "output_type": "stream",
          "name": "stdout",
          "text": [
            "2023-05-12 22:18:36,943 [INFO] PGN node_id\t  Hz\n"
          ]
        },
        {
          "output_type": "stream",
          "name": "stderr",
          "text": [
            "INFO:NEURONIOUtils:PGN node_id\t  Hz\n"
          ]
        },
        {
          "output_type": "stream",
          "name": "stdout",
          "text": [
            "2023-05-12 22:18:36,947 [INFO] 70\t\t2.0\n"
          ]
        },
        {
          "output_type": "stream",
          "name": "stderr",
          "text": [
            "INFO:NEURONIOUtils:70\t\t2.0\n"
          ]
        },
        {
          "output_type": "stream",
          "name": "stdout",
          "text": [
            "2023-05-12 22:18:36,949 [INFO] 71\t\t2.0\n"
          ]
        },
        {
          "output_type": "stream",
          "name": "stderr",
          "text": [
            "INFO:NEURONIOUtils:71\t\t2.0\n"
          ]
        },
        {
          "output_type": "stream",
          "name": "stdout",
          "text": [
            "2023-05-12 22:18:36,951 [INFO] 72\t\t2.0\n"
          ]
        },
        {
          "output_type": "stream",
          "name": "stderr",
          "text": [
            "INFO:NEURONIOUtils:72\t\t2.0\n"
          ]
        },
        {
          "output_type": "stream",
          "name": "stdout",
          "text": [
            "2023-05-12 22:18:36,953 [INFO] 73\t\t2.0\n"
          ]
        },
        {
          "output_type": "stream",
          "name": "stderr",
          "text": [
            "INFO:NEURONIOUtils:73\t\t2.0\n"
          ]
        },
        {
          "output_type": "stream",
          "name": "stdout",
          "text": [
            "2023-05-12 22:18:36,956 [INFO] 74\t\t2.0\n"
          ]
        },
        {
          "output_type": "stream",
          "name": "stderr",
          "text": [
            "INFO:NEURONIOUtils:74\t\t2.0\n"
          ]
        },
        {
          "output_type": "stream",
          "name": "stdout",
          "text": [
            "2023-05-12 22:18:36,958 [INFO] 75\t\t2.0\n"
          ]
        },
        {
          "output_type": "stream",
          "name": "stderr",
          "text": [
            "INFO:NEURONIOUtils:75\t\t2.0\n"
          ]
        },
        {
          "output_type": "stream",
          "name": "stdout",
          "text": [
            "2023-05-12 22:18:36,960 [INFO] 76\t\t2.0\n"
          ]
        },
        {
          "output_type": "stream",
          "name": "stderr",
          "text": [
            "INFO:NEURONIOUtils:76\t\t2.0\n"
          ]
        },
        {
          "output_type": "stream",
          "name": "stdout",
          "text": [
            "2023-05-12 22:18:36,962 [INFO] 77\t\t2.0\n"
          ]
        },
        {
          "output_type": "stream",
          "name": "stderr",
          "text": [
            "INFO:NEURONIOUtils:77\t\t2.0\n"
          ]
        },
        {
          "output_type": "stream",
          "name": "stdout",
          "text": [
            "2023-05-12 22:18:36,964 [INFO] 78\t\t2.0\n"
          ]
        },
        {
          "output_type": "stream",
          "name": "stderr",
          "text": [
            "INFO:NEURONIOUtils:78\t\t2.0\n"
          ]
        },
        {
          "output_type": "stream",
          "name": "stdout",
          "text": [
            "2023-05-12 22:18:36,966 [INFO] 79\t\t2.0\n"
          ]
        },
        {
          "output_type": "stream",
          "name": "stderr",
          "text": [
            "INFO:NEURONIOUtils:79\t\t2.0\n"
          ]
        },
        {
          "output_type": "stream",
          "name": "stdout",
          "text": [
            "2023-05-12 22:18:36,968 [INFO] PGN firing rate avg: 2.0 Hz\n"
          ]
        },
        {
          "output_type": "stream",
          "name": "stderr",
          "text": [
            "INFO:NEURONIOUtils:PGN firing rate avg: 2.0 Hz\n"
          ]
        },
        {
          "output_type": "stream",
          "name": "stdout",
          "text": [
            "2023-05-12 22:18:36,970 [INFO] Grill PGN fr = 1.492 Hz\n"
          ]
        },
        {
          "output_type": "stream",
          "name": "stderr",
          "text": [
            "INFO:NEURONIOUtils:Grill PGN fr = 1.492 Hz\n"
          ]
        },
        {
          "output_type": "stream",
          "name": "stdout",
          "text": [
            "2023-05-12 22:18:36,972 [INFO] IMG node_gid\t  Hz\n"
          ]
        },
        {
          "output_type": "stream",
          "name": "stderr",
          "text": [
            "INFO:NEURONIOUtils:IMG node_gid\t  Hz\n"
          ]
        },
        {
          "output_type": "stream",
          "name": "stdout",
          "text": [
            "2023-05-12 22:18:36,974 [INFO] IMG firing rate avg: 2.0 Hz\n"
          ]
        },
        {
          "output_type": "stream",
          "name": "stderr",
          "text": [
            "INFO:NEURONIOUtils:IMG firing rate avg: 2.0 Hz\n"
          ]
        },
        {
          "output_type": "stream",
          "name": "stdout",
          "text": [
            "2023-05-12 22:18:36,982 [INFO] PGN firing rate = 2.00 Hz\n"
          ]
        },
        {
          "output_type": "stream",
          "name": "stderr",
          "text": [
            "/usr/local/lib/python3.10/dist-packages/bmtk/utils/reports/spike_trains/spike_trains.py:183: RuntimeWarning: divide by zero encountered in double_scalars\n",
            "  interval = -np.log(1.0 - np.random.uniform()) / fr\n",
            "INFO:NEURONIOUtils:PGN firing rate = 2.00 Hz\n"
          ]
        },
        {
          "output_type": "stream",
          "name": "stdout",
          "text": [
            "2023-05-12 22:18:36,985 [INFO] Volume = 62.5000 ml\n"
          ]
        },
        {
          "output_type": "stream",
          "name": "stderr",
          "text": [
            "INFO:NEURONIOUtils:Volume = 62.5000 ml\n"
          ]
        },
        {
          "output_type": "stream",
          "name": "stdout",
          "text": [
            "2023-05-12 22:18:36,987 [INFO] Pressure = 7.37 mmHg\n"
          ]
        },
        {
          "output_type": "stream",
          "name": "stderr",
          "text": [
            "INFO:NEURONIOUtils:Pressure = 7.37 mmHg\n"
          ]
        },
        {
          "output_type": "stream",
          "name": "stdout",
          "text": [
            "2023-05-12 22:18:36,989 [INFO] Calculated bladder afferent firing rate for the next time step = 0.00 Hz \n",
            " \n",
            "\n"
          ]
        },
        {
          "output_type": "stream",
          "name": "stderr",
          "text": [
            "INFO:NEURONIOUtils:Calculated bladder afferent firing rate for the next time step = 0.00 Hz \n",
            " \n",
            "\n"
          ]
        },
        {
          "output_type": "stream",
          "name": "stdout",
          "text": [
            "2023-05-12 22:18:38,230 [INFO]     step:155000 t_sim:31000.00 ms\n"
          ]
        },
        {
          "output_type": "stream",
          "name": "stderr",
          "text": [
            "INFO:NEURONIOUtils:    step:155000 t_sim:31000.00 ms\n"
          ]
        },
        {
          "output_type": "stream",
          "name": "stdout",
          "text": [
            "2023-05-12 22:18:38,241 [INFO] Timestep 30500.0 to 31000.0 ms\n"
          ]
        },
        {
          "output_type": "stream",
          "name": "stderr",
          "text": [
            "INFO:NEURONIOUtils:Timestep 30500.0 to 31000.0 ms\n"
          ]
        },
        {
          "output_type": "stream",
          "name": "stdout",
          "text": [
            "2023-05-12 22:18:38,245 [INFO] PGN node_id\t  Hz\n"
          ]
        },
        {
          "output_type": "stream",
          "name": "stderr",
          "text": [
            "INFO:NEURONIOUtils:PGN node_id\t  Hz\n"
          ]
        },
        {
          "output_type": "stream",
          "name": "stdout",
          "text": [
            "2023-05-12 22:18:38,249 [INFO] 70\t\t2.0\n"
          ]
        },
        {
          "output_type": "stream",
          "name": "stderr",
          "text": [
            "INFO:NEURONIOUtils:70\t\t2.0\n"
          ]
        },
        {
          "output_type": "stream",
          "name": "stdout",
          "text": [
            "2023-05-12 22:18:38,251 [INFO] 71\t\t2.0\n"
          ]
        },
        {
          "output_type": "stream",
          "name": "stderr",
          "text": [
            "INFO:NEURONIOUtils:71\t\t2.0\n"
          ]
        },
        {
          "output_type": "stream",
          "name": "stdout",
          "text": [
            "2023-05-12 22:18:38,253 [INFO] 72\t\t2.0\n"
          ]
        },
        {
          "output_type": "stream",
          "name": "stderr",
          "text": [
            "INFO:NEURONIOUtils:72\t\t2.0\n"
          ]
        },
        {
          "output_type": "stream",
          "name": "stdout",
          "text": [
            "2023-05-12 22:18:38,255 [INFO] 73\t\t2.0\n"
          ]
        },
        {
          "output_type": "stream",
          "name": "stderr",
          "text": [
            "INFO:NEURONIOUtils:73\t\t2.0\n"
          ]
        },
        {
          "output_type": "stream",
          "name": "stdout",
          "text": [
            "2023-05-12 22:18:38,257 [INFO] 74\t\t2.0\n"
          ]
        },
        {
          "output_type": "stream",
          "name": "stderr",
          "text": [
            "INFO:NEURONIOUtils:74\t\t2.0\n"
          ]
        },
        {
          "output_type": "stream",
          "name": "stdout",
          "text": [
            "2023-05-12 22:18:38,259 [INFO] 75\t\t2.0\n"
          ]
        },
        {
          "output_type": "stream",
          "name": "stderr",
          "text": [
            "INFO:NEURONIOUtils:75\t\t2.0\n"
          ]
        },
        {
          "output_type": "stream",
          "name": "stdout",
          "text": [
            "2023-05-12 22:18:38,261 [INFO] 76\t\t2.0\n"
          ]
        },
        {
          "output_type": "stream",
          "name": "stderr",
          "text": [
            "INFO:NEURONIOUtils:76\t\t2.0\n"
          ]
        },
        {
          "output_type": "stream",
          "name": "stdout",
          "text": [
            "2023-05-12 22:18:38,263 [INFO] 77\t\t2.0\n"
          ]
        },
        {
          "output_type": "stream",
          "name": "stderr",
          "text": [
            "INFO:NEURONIOUtils:77\t\t2.0\n"
          ]
        },
        {
          "output_type": "stream",
          "name": "stdout",
          "text": [
            "2023-05-12 22:18:38,265 [INFO] 78\t\t2.0\n"
          ]
        },
        {
          "output_type": "stream",
          "name": "stderr",
          "text": [
            "INFO:NEURONIOUtils:78\t\t2.0\n"
          ]
        },
        {
          "output_type": "stream",
          "name": "stdout",
          "text": [
            "2023-05-12 22:18:38,267 [INFO] 79\t\t2.0\n"
          ]
        },
        {
          "output_type": "stream",
          "name": "stderr",
          "text": [
            "INFO:NEURONIOUtils:79\t\t2.0\n"
          ]
        },
        {
          "output_type": "stream",
          "name": "stdout",
          "text": [
            "2023-05-12 22:18:38,269 [INFO] PGN firing rate avg: 2.0 Hz\n"
          ]
        },
        {
          "output_type": "stream",
          "name": "stderr",
          "text": [
            "INFO:NEURONIOUtils:PGN firing rate avg: 2.0 Hz\n"
          ]
        },
        {
          "output_type": "stream",
          "name": "stdout",
          "text": [
            "2023-05-12 22:18:38,271 [INFO] Grill PGN fr = 1.492 Hz\n"
          ]
        },
        {
          "output_type": "stream",
          "name": "stderr",
          "text": [
            "INFO:NEURONIOUtils:Grill PGN fr = 1.492 Hz\n"
          ]
        },
        {
          "output_type": "stream",
          "name": "stdout",
          "text": [
            "2023-05-12 22:18:38,274 [INFO] IMG node_gid\t  Hz\n"
          ]
        },
        {
          "output_type": "stream",
          "name": "stderr",
          "text": [
            "INFO:NEURONIOUtils:IMG node_gid\t  Hz\n"
          ]
        },
        {
          "output_type": "stream",
          "name": "stdout",
          "text": [
            "2023-05-12 22:18:38,276 [INFO] IMG firing rate avg: 2.0 Hz\n"
          ]
        },
        {
          "output_type": "stream",
          "name": "stderr",
          "text": [
            "INFO:NEURONIOUtils:IMG firing rate avg: 2.0 Hz\n"
          ]
        },
        {
          "output_type": "stream",
          "name": "stdout",
          "text": [
            "2023-05-12 22:18:38,284 [INFO] PGN firing rate = 2.00 Hz\n"
          ]
        },
        {
          "output_type": "stream",
          "name": "stderr",
          "text": [
            "/usr/local/lib/python3.10/dist-packages/bmtk/utils/reports/spike_trains/spike_trains.py:183: RuntimeWarning: divide by zero encountered in double_scalars\n",
            "  interval = -np.log(1.0 - np.random.uniform()) / fr\n",
            "INFO:NEURONIOUtils:PGN firing rate = 2.00 Hz\n"
          ]
        },
        {
          "output_type": "stream",
          "name": "stdout",
          "text": [
            "2023-05-12 22:18:38,287 [INFO] Volume = 63.5417 ml\n"
          ]
        },
        {
          "output_type": "stream",
          "name": "stderr",
          "text": [
            "INFO:NEURONIOUtils:Volume = 63.5417 ml\n"
          ]
        },
        {
          "output_type": "stream",
          "name": "stdout",
          "text": [
            "2023-05-12 22:18:38,289 [INFO] Pressure = 7.37 mmHg\n"
          ]
        },
        {
          "output_type": "stream",
          "name": "stderr",
          "text": [
            "INFO:NEURONIOUtils:Pressure = 7.37 mmHg\n"
          ]
        },
        {
          "output_type": "stream",
          "name": "stdout",
          "text": [
            "2023-05-12 22:18:38,291 [INFO] Calculated bladder afferent firing rate for the next time step = 0.00 Hz \n",
            " \n",
            "\n"
          ]
        },
        {
          "output_type": "stream",
          "name": "stderr",
          "text": [
            "INFO:NEURONIOUtils:Calculated bladder afferent firing rate for the next time step = 0.00 Hz \n",
            " \n",
            "\n"
          ]
        },
        {
          "output_type": "stream",
          "name": "stdout",
          "text": [
            "2023-05-12 22:18:39,505 [INFO]     step:157500 t_sim:31500.00 ms\n"
          ]
        },
        {
          "output_type": "stream",
          "name": "stderr",
          "text": [
            "INFO:NEURONIOUtils:    step:157500 t_sim:31500.00 ms\n"
          ]
        },
        {
          "output_type": "stream",
          "name": "stdout",
          "text": [
            "2023-05-12 22:18:39,515 [INFO] Timestep 31000.0 to 31500.0 ms\n"
          ]
        },
        {
          "output_type": "stream",
          "name": "stderr",
          "text": [
            "INFO:NEURONIOUtils:Timestep 31000.0 to 31500.0 ms\n"
          ]
        },
        {
          "output_type": "stream",
          "name": "stdout",
          "text": [
            "2023-05-12 22:18:39,520 [INFO] PGN node_id\t  Hz\n"
          ]
        },
        {
          "output_type": "stream",
          "name": "stderr",
          "text": [
            "INFO:NEURONIOUtils:PGN node_id\t  Hz\n"
          ]
        },
        {
          "output_type": "stream",
          "name": "stdout",
          "text": [
            "2023-05-12 22:18:39,524 [INFO] 70\t\t2.0\n"
          ]
        },
        {
          "output_type": "stream",
          "name": "stderr",
          "text": [
            "INFO:NEURONIOUtils:70\t\t2.0\n"
          ]
        },
        {
          "output_type": "stream",
          "name": "stdout",
          "text": [
            "2023-05-12 22:18:39,526 [INFO] 71\t\t2.0\n"
          ]
        },
        {
          "output_type": "stream",
          "name": "stderr",
          "text": [
            "INFO:NEURONIOUtils:71\t\t2.0\n"
          ]
        },
        {
          "output_type": "stream",
          "name": "stdout",
          "text": [
            "2023-05-12 22:18:39,529 [INFO] 72\t\t2.0\n"
          ]
        },
        {
          "output_type": "stream",
          "name": "stderr",
          "text": [
            "INFO:NEURONIOUtils:72\t\t2.0\n"
          ]
        },
        {
          "output_type": "stream",
          "name": "stdout",
          "text": [
            "2023-05-12 22:18:39,531 [INFO] 73\t\t2.0\n"
          ]
        },
        {
          "output_type": "stream",
          "name": "stderr",
          "text": [
            "INFO:NEURONIOUtils:73\t\t2.0\n"
          ]
        },
        {
          "output_type": "stream",
          "name": "stdout",
          "text": [
            "2023-05-12 22:18:39,533 [INFO] 74\t\t2.0\n"
          ]
        },
        {
          "output_type": "stream",
          "name": "stderr",
          "text": [
            "INFO:NEURONIOUtils:74\t\t2.0\n"
          ]
        },
        {
          "output_type": "stream",
          "name": "stdout",
          "text": [
            "2023-05-12 22:18:39,535 [INFO] 75\t\t2.0\n"
          ]
        },
        {
          "output_type": "stream",
          "name": "stderr",
          "text": [
            "INFO:NEURONIOUtils:75\t\t2.0\n"
          ]
        },
        {
          "output_type": "stream",
          "name": "stdout",
          "text": [
            "2023-05-12 22:18:39,537 [INFO] 76\t\t2.0\n"
          ]
        },
        {
          "output_type": "stream",
          "name": "stderr",
          "text": [
            "INFO:NEURONIOUtils:76\t\t2.0\n"
          ]
        },
        {
          "output_type": "stream",
          "name": "stdout",
          "text": [
            "2023-05-12 22:18:39,539 [INFO] 77\t\t2.0\n"
          ]
        },
        {
          "output_type": "stream",
          "name": "stderr",
          "text": [
            "INFO:NEURONIOUtils:77\t\t2.0\n"
          ]
        },
        {
          "output_type": "stream",
          "name": "stdout",
          "text": [
            "2023-05-12 22:18:39,541 [INFO] 78\t\t2.0\n"
          ]
        },
        {
          "output_type": "stream",
          "name": "stderr",
          "text": [
            "INFO:NEURONIOUtils:78\t\t2.0\n"
          ]
        },
        {
          "output_type": "stream",
          "name": "stdout",
          "text": [
            "2023-05-12 22:18:39,543 [INFO] 79\t\t2.0\n"
          ]
        },
        {
          "output_type": "stream",
          "name": "stderr",
          "text": [
            "INFO:NEURONIOUtils:79\t\t2.0\n"
          ]
        },
        {
          "output_type": "stream",
          "name": "stdout",
          "text": [
            "2023-05-12 22:18:39,545 [INFO] PGN firing rate avg: 2.0 Hz\n"
          ]
        },
        {
          "output_type": "stream",
          "name": "stderr",
          "text": [
            "INFO:NEURONIOUtils:PGN firing rate avg: 2.0 Hz\n"
          ]
        },
        {
          "output_type": "stream",
          "name": "stdout",
          "text": [
            "2023-05-12 22:18:39,547 [INFO] Grill PGN fr = 1.492 Hz\n"
          ]
        },
        {
          "output_type": "stream",
          "name": "stderr",
          "text": [
            "INFO:NEURONIOUtils:Grill PGN fr = 1.492 Hz\n"
          ]
        },
        {
          "output_type": "stream",
          "name": "stdout",
          "text": [
            "2023-05-12 22:18:39,549 [INFO] IMG node_gid\t  Hz\n"
          ]
        },
        {
          "output_type": "stream",
          "name": "stderr",
          "text": [
            "INFO:NEURONIOUtils:IMG node_gid\t  Hz\n"
          ]
        },
        {
          "output_type": "stream",
          "name": "stdout",
          "text": [
            "2023-05-12 22:18:39,551 [INFO] IMG firing rate avg: 2.0 Hz\n"
          ]
        },
        {
          "output_type": "stream",
          "name": "stderr",
          "text": [
            "INFO:NEURONIOUtils:IMG firing rate avg: 2.0 Hz\n"
          ]
        },
        {
          "output_type": "stream",
          "name": "stdout",
          "text": [
            "2023-05-12 22:18:39,560 [INFO] PGN firing rate = 2.00 Hz\n"
          ]
        },
        {
          "output_type": "stream",
          "name": "stderr",
          "text": [
            "/usr/local/lib/python3.10/dist-packages/bmtk/utils/reports/spike_trains/spike_trains.py:183: RuntimeWarning: divide by zero encountered in double_scalars\n",
            "  interval = -np.log(1.0 - np.random.uniform()) / fr\n",
            "INFO:NEURONIOUtils:PGN firing rate = 2.00 Hz\n"
          ]
        },
        {
          "output_type": "stream",
          "name": "stdout",
          "text": [
            "2023-05-12 22:18:39,563 [INFO] Volume = 64.5833 ml\n"
          ]
        },
        {
          "output_type": "stream",
          "name": "stderr",
          "text": [
            "INFO:NEURONIOUtils:Volume = 64.5833 ml\n"
          ]
        },
        {
          "output_type": "stream",
          "name": "stdout",
          "text": [
            "2023-05-12 22:18:39,565 [INFO] Pressure = 7.37 mmHg\n"
          ]
        },
        {
          "output_type": "stream",
          "name": "stderr",
          "text": [
            "INFO:NEURONIOUtils:Pressure = 7.37 mmHg\n"
          ]
        },
        {
          "output_type": "stream",
          "name": "stdout",
          "text": [
            "2023-05-12 22:18:39,566 [INFO] Calculated bladder afferent firing rate for the next time step = 0.00 Hz \n",
            " \n",
            "\n"
          ]
        },
        {
          "output_type": "stream",
          "name": "stderr",
          "text": [
            "INFO:NEURONIOUtils:Calculated bladder afferent firing rate for the next time step = 0.00 Hz \n",
            " \n",
            "\n"
          ]
        },
        {
          "output_type": "stream",
          "name": "stdout",
          "text": [
            "2023-05-12 22:18:40,886 [INFO]     step:160000 t_sim:32000.00 ms\n"
          ]
        },
        {
          "output_type": "stream",
          "name": "stderr",
          "text": [
            "INFO:NEURONIOUtils:    step:160000 t_sim:32000.00 ms\n"
          ]
        },
        {
          "output_type": "stream",
          "name": "stdout",
          "text": [
            "2023-05-12 22:18:40,898 [INFO] Timestep 31500.0 to 32000.0 ms\n"
          ]
        },
        {
          "output_type": "stream",
          "name": "stderr",
          "text": [
            "INFO:NEURONIOUtils:Timestep 31500.0 to 32000.0 ms\n"
          ]
        },
        {
          "output_type": "stream",
          "name": "stdout",
          "text": [
            "2023-05-12 22:18:40,905 [INFO] PGN node_id\t  Hz\n"
          ]
        },
        {
          "output_type": "stream",
          "name": "stderr",
          "text": [
            "INFO:NEURONIOUtils:PGN node_id\t  Hz\n"
          ]
        },
        {
          "output_type": "stream",
          "name": "stdout",
          "text": [
            "2023-05-12 22:18:40,910 [INFO] 70\t\t4.0\n"
          ]
        },
        {
          "output_type": "stream",
          "name": "stderr",
          "text": [
            "INFO:NEURONIOUtils:70\t\t4.0\n"
          ]
        },
        {
          "output_type": "stream",
          "name": "stdout",
          "text": [
            "2023-05-12 22:18:40,914 [INFO] 71\t\t4.0\n"
          ]
        },
        {
          "output_type": "stream",
          "name": "stderr",
          "text": [
            "INFO:NEURONIOUtils:71\t\t4.0\n"
          ]
        },
        {
          "output_type": "stream",
          "name": "stdout",
          "text": [
            "2023-05-12 22:18:40,916 [INFO] 72\t\t4.0\n"
          ]
        },
        {
          "output_type": "stream",
          "name": "stderr",
          "text": [
            "INFO:NEURONIOUtils:72\t\t4.0\n"
          ]
        },
        {
          "output_type": "stream",
          "name": "stdout",
          "text": [
            "2023-05-12 22:18:40,918 [INFO] 73\t\t4.0\n"
          ]
        },
        {
          "output_type": "stream",
          "name": "stderr",
          "text": [
            "INFO:NEURONIOUtils:73\t\t4.0\n"
          ]
        },
        {
          "output_type": "stream",
          "name": "stdout",
          "text": [
            "2023-05-12 22:18:40,920 [INFO] 74\t\t4.0\n"
          ]
        },
        {
          "output_type": "stream",
          "name": "stderr",
          "text": [
            "INFO:NEURONIOUtils:74\t\t4.0\n"
          ]
        },
        {
          "output_type": "stream",
          "name": "stdout",
          "text": [
            "2023-05-12 22:18:40,924 [INFO] 75\t\t4.0\n"
          ]
        },
        {
          "output_type": "stream",
          "name": "stderr",
          "text": [
            "INFO:NEURONIOUtils:75\t\t4.0\n"
          ]
        },
        {
          "output_type": "stream",
          "name": "stdout",
          "text": [
            "2023-05-12 22:18:40,926 [INFO] 76\t\t4.0\n"
          ]
        },
        {
          "output_type": "stream",
          "name": "stderr",
          "text": [
            "INFO:NEURONIOUtils:76\t\t4.0\n"
          ]
        },
        {
          "output_type": "stream",
          "name": "stdout",
          "text": [
            "2023-05-12 22:18:40,928 [INFO] 77\t\t4.0\n"
          ]
        },
        {
          "output_type": "stream",
          "name": "stderr",
          "text": [
            "INFO:NEURONIOUtils:77\t\t4.0\n"
          ]
        },
        {
          "output_type": "stream",
          "name": "stdout",
          "text": [
            "2023-05-12 22:18:40,932 [INFO] 78\t\t4.0\n"
          ]
        },
        {
          "output_type": "stream",
          "name": "stderr",
          "text": [
            "INFO:NEURONIOUtils:78\t\t4.0\n"
          ]
        },
        {
          "output_type": "stream",
          "name": "stdout",
          "text": [
            "2023-05-12 22:18:40,935 [INFO] 79\t\t4.0\n"
          ]
        },
        {
          "output_type": "stream",
          "name": "stderr",
          "text": [
            "INFO:NEURONIOUtils:79\t\t4.0\n"
          ]
        },
        {
          "output_type": "stream",
          "name": "stdout",
          "text": [
            "2023-05-12 22:18:40,939 [INFO] PGN firing rate avg: 4.0 Hz\n"
          ]
        },
        {
          "output_type": "stream",
          "name": "stderr",
          "text": [
            "INFO:NEURONIOUtils:PGN firing rate avg: 4.0 Hz\n"
          ]
        },
        {
          "output_type": "stream",
          "name": "stdout",
          "text": [
            "2023-05-12 22:18:40,941 [INFO] Grill PGN fr = 3.15 Hz\n"
          ]
        },
        {
          "output_type": "stream",
          "name": "stderr",
          "text": [
            "INFO:NEURONIOUtils:Grill PGN fr = 3.15 Hz\n"
          ]
        },
        {
          "output_type": "stream",
          "name": "stdout",
          "text": [
            "2023-05-12 22:18:40,943 [INFO] IMG node_gid\t  Hz\n"
          ]
        },
        {
          "output_type": "stream",
          "name": "stderr",
          "text": [
            "INFO:NEURONIOUtils:IMG node_gid\t  Hz\n"
          ]
        },
        {
          "output_type": "stream",
          "name": "stdout",
          "text": [
            "2023-05-12 22:18:40,946 [INFO] IMG firing rate avg: 4.0 Hz\n"
          ]
        },
        {
          "output_type": "stream",
          "name": "stderr",
          "text": [
            "INFO:NEURONIOUtils:IMG firing rate avg: 4.0 Hz\n"
          ]
        },
        {
          "output_type": "stream",
          "name": "stdout",
          "text": [
            "2023-05-12 22:18:40,956 [INFO] PGN firing rate = 4.00 Hz\n"
          ]
        },
        {
          "output_type": "stream",
          "name": "stderr",
          "text": [
            "/usr/local/lib/python3.10/dist-packages/bmtk/utils/reports/spike_trains/spike_trains.py:183: RuntimeWarning: divide by zero encountered in double_scalars\n",
            "  interval = -np.log(1.0 - np.random.uniform()) / fr\n",
            "INFO:NEURONIOUtils:PGN firing rate = 4.00 Hz\n"
          ]
        },
        {
          "output_type": "stream",
          "name": "stdout",
          "text": [
            "2023-05-12 22:18:40,962 [INFO] Volume = 65.6250 ml\n"
          ]
        },
        {
          "output_type": "stream",
          "name": "stderr",
          "text": [
            "INFO:NEURONIOUtils:Volume = 65.6250 ml\n"
          ]
        },
        {
          "output_type": "stream",
          "name": "stdout",
          "text": [
            "2023-05-12 22:18:40,967 [INFO] Pressure = 7.79 mmHg\n"
          ]
        },
        {
          "output_type": "stream",
          "name": "stderr",
          "text": [
            "INFO:NEURONIOUtils:Pressure = 7.79 mmHg\n"
          ]
        },
        {
          "output_type": "stream",
          "name": "stdout",
          "text": [
            "2023-05-12 22:18:40,972 [INFO] Calculated bladder afferent firing rate for the next time step = 0.00 Hz \n",
            " \n",
            "\n"
          ]
        },
        {
          "output_type": "stream",
          "name": "stderr",
          "text": [
            "INFO:NEURONIOUtils:Calculated bladder afferent firing rate for the next time step = 0.00 Hz \n",
            " \n",
            "\n"
          ]
        },
        {
          "output_type": "stream",
          "name": "stdout",
          "text": [
            "2023-05-12 22:18:42,268 [INFO]     step:162500 t_sim:32500.00 ms\n"
          ]
        },
        {
          "output_type": "stream",
          "name": "stderr",
          "text": [
            "INFO:NEURONIOUtils:    step:162500 t_sim:32500.00 ms\n"
          ]
        },
        {
          "output_type": "stream",
          "name": "stdout",
          "text": [
            "2023-05-12 22:18:42,277 [INFO] Timestep 32000.0 to 32500.0 ms\n"
          ]
        },
        {
          "output_type": "stream",
          "name": "stderr",
          "text": [
            "INFO:NEURONIOUtils:Timestep 32000.0 to 32500.0 ms\n"
          ]
        },
        {
          "output_type": "stream",
          "name": "stdout",
          "text": [
            "2023-05-12 22:18:42,283 [INFO] PGN node_id\t  Hz\n"
          ]
        },
        {
          "output_type": "stream",
          "name": "stderr",
          "text": [
            "INFO:NEURONIOUtils:PGN node_id\t  Hz\n"
          ]
        },
        {
          "output_type": "stream",
          "name": "stdout",
          "text": [
            "2023-05-12 22:18:42,287 [INFO] 70\t\t2.0\n"
          ]
        },
        {
          "output_type": "stream",
          "name": "stderr",
          "text": [
            "INFO:NEURONIOUtils:70\t\t2.0\n"
          ]
        },
        {
          "output_type": "stream",
          "name": "stdout",
          "text": [
            "2023-05-12 22:18:42,289 [INFO] 71\t\t2.0\n"
          ]
        },
        {
          "output_type": "stream",
          "name": "stderr",
          "text": [
            "INFO:NEURONIOUtils:71\t\t2.0\n"
          ]
        },
        {
          "output_type": "stream",
          "name": "stdout",
          "text": [
            "2023-05-12 22:18:42,291 [INFO] 72\t\t2.0\n"
          ]
        },
        {
          "output_type": "stream",
          "name": "stderr",
          "text": [
            "INFO:NEURONIOUtils:72\t\t2.0\n"
          ]
        },
        {
          "output_type": "stream",
          "name": "stdout",
          "text": [
            "2023-05-12 22:18:42,293 [INFO] 73\t\t2.0\n"
          ]
        },
        {
          "output_type": "stream",
          "name": "stderr",
          "text": [
            "INFO:NEURONIOUtils:73\t\t2.0\n"
          ]
        },
        {
          "output_type": "stream",
          "name": "stdout",
          "text": [
            "2023-05-12 22:18:42,294 [INFO] 74\t\t2.0\n"
          ]
        },
        {
          "output_type": "stream",
          "name": "stderr",
          "text": [
            "INFO:NEURONIOUtils:74\t\t2.0\n"
          ]
        },
        {
          "output_type": "stream",
          "name": "stdout",
          "text": [
            "2023-05-12 22:18:42,296 [INFO] 75\t\t2.0\n"
          ]
        },
        {
          "output_type": "stream",
          "name": "stderr",
          "text": [
            "INFO:NEURONIOUtils:75\t\t2.0\n"
          ]
        },
        {
          "output_type": "stream",
          "name": "stdout",
          "text": [
            "2023-05-12 22:18:42,298 [INFO] 76\t\t2.0\n"
          ]
        },
        {
          "output_type": "stream",
          "name": "stderr",
          "text": [
            "INFO:NEURONIOUtils:76\t\t2.0\n"
          ]
        },
        {
          "output_type": "stream",
          "name": "stdout",
          "text": [
            "2023-05-12 22:18:42,300 [INFO] 77\t\t2.0\n"
          ]
        },
        {
          "output_type": "stream",
          "name": "stderr",
          "text": [
            "INFO:NEURONIOUtils:77\t\t2.0\n"
          ]
        },
        {
          "output_type": "stream",
          "name": "stdout",
          "text": [
            "2023-05-12 22:18:42,302 [INFO] 78\t\t2.0\n"
          ]
        },
        {
          "output_type": "stream",
          "name": "stderr",
          "text": [
            "INFO:NEURONIOUtils:78\t\t2.0\n"
          ]
        },
        {
          "output_type": "stream",
          "name": "stdout",
          "text": [
            "2023-05-12 22:18:42,304 [INFO] 79\t\t2.0\n"
          ]
        },
        {
          "output_type": "stream",
          "name": "stderr",
          "text": [
            "INFO:NEURONIOUtils:79\t\t2.0\n"
          ]
        },
        {
          "output_type": "stream",
          "name": "stdout",
          "text": [
            "2023-05-12 22:18:42,306 [INFO] PGN firing rate avg: 2.0 Hz\n"
          ]
        },
        {
          "output_type": "stream",
          "name": "stderr",
          "text": [
            "INFO:NEURONIOUtils:PGN firing rate avg: 2.0 Hz\n"
          ]
        },
        {
          "output_type": "stream",
          "name": "stdout",
          "text": [
            "2023-05-12 22:18:42,308 [INFO] Grill PGN fr = 1.492 Hz\n"
          ]
        },
        {
          "output_type": "stream",
          "name": "stderr",
          "text": [
            "INFO:NEURONIOUtils:Grill PGN fr = 1.492 Hz\n"
          ]
        },
        {
          "output_type": "stream",
          "name": "stdout",
          "text": [
            "2023-05-12 22:18:42,310 [INFO] IMG node_gid\t  Hz\n"
          ]
        },
        {
          "output_type": "stream",
          "name": "stderr",
          "text": [
            "INFO:NEURONIOUtils:IMG node_gid\t  Hz\n"
          ]
        },
        {
          "output_type": "stream",
          "name": "stdout",
          "text": [
            "2023-05-12 22:18:42,312 [INFO] IMG firing rate avg: 2.0 Hz\n"
          ]
        },
        {
          "output_type": "stream",
          "name": "stderr",
          "text": [
            "INFO:NEURONIOUtils:IMG firing rate avg: 2.0 Hz\n"
          ]
        },
        {
          "output_type": "stream",
          "name": "stdout",
          "text": [
            "2023-05-12 22:18:42,320 [INFO] !!!PAG FIRING ACTIVATED!!!\n"
          ]
        },
        {
          "output_type": "stream",
          "name": "stderr",
          "text": [
            "/usr/local/lib/python3.10/dist-packages/bmtk/utils/reports/spike_trains/spike_trains.py:183: RuntimeWarning: divide by zero encountered in double_scalars\n",
            "  interval = -np.log(1.0 - np.random.uniform()) / fr\n",
            "INFO:NEURONIOUtils:!!!PAG FIRING ACTIVATED!!!\n"
          ]
        },
        {
          "output_type": "stream",
          "name": "stdout",
          "text": [
            "2023-05-12 22:18:42,349 [INFO] PGN firing rate = 2.00 Hz\n"
          ]
        },
        {
          "output_type": "stream",
          "name": "stderr",
          "text": [
            "INFO:NEURONIOUtils:PGN firing rate = 2.00 Hz\n"
          ]
        },
        {
          "output_type": "stream",
          "name": "stdout",
          "text": [
            "2023-05-12 22:18:42,352 [INFO] Volume = 66.6667 ml\n"
          ]
        },
        {
          "output_type": "stream",
          "name": "stderr",
          "text": [
            "INFO:NEURONIOUtils:Volume = 66.6667 ml\n"
          ]
        },
        {
          "output_type": "stream",
          "name": "stdout",
          "text": [
            "2023-05-12 22:18:42,356 [INFO] Pressure = 7.37 mmHg\n"
          ]
        },
        {
          "output_type": "stream",
          "name": "stderr",
          "text": [
            "INFO:NEURONIOUtils:Pressure = 7.37 mmHg\n"
          ]
        },
        {
          "output_type": "stream",
          "name": "stdout",
          "text": [
            "2023-05-12 22:18:42,358 [INFO] Calculated bladder afferent firing rate for the next time step = 0.00 Hz \n",
            " \n",
            "\n"
          ]
        },
        {
          "output_type": "stream",
          "name": "stderr",
          "text": [
            "INFO:NEURONIOUtils:Calculated bladder afferent firing rate for the next time step = 0.00 Hz \n",
            " \n",
            "\n"
          ]
        },
        {
          "output_type": "stream",
          "name": "stdout",
          "text": [
            "2023-05-12 22:18:43,700 [INFO]     step:165000 t_sim:33000.00 ms\n"
          ]
        },
        {
          "output_type": "stream",
          "name": "stderr",
          "text": [
            "INFO:NEURONIOUtils:    step:165000 t_sim:33000.00 ms\n"
          ]
        },
        {
          "output_type": "stream",
          "name": "stdout",
          "text": [
            "2023-05-12 22:18:43,719 [INFO] Timestep 32500.0 to 33000.0 ms\n"
          ]
        },
        {
          "output_type": "stream",
          "name": "stderr",
          "text": [
            "INFO:NEURONIOUtils:Timestep 32500.0 to 33000.0 ms\n"
          ]
        },
        {
          "output_type": "stream",
          "name": "stdout",
          "text": [
            "2023-05-12 22:18:43,723 [INFO] PGN node_id\t  Hz\n"
          ]
        },
        {
          "output_type": "stream",
          "name": "stderr",
          "text": [
            "INFO:NEURONIOUtils:PGN node_id\t  Hz\n"
          ]
        },
        {
          "output_type": "stream",
          "name": "stdout",
          "text": [
            "2023-05-12 22:18:43,729 [INFO] 70\t\t24.0\n"
          ]
        },
        {
          "output_type": "stream",
          "name": "stderr",
          "text": [
            "INFO:NEURONIOUtils:70\t\t24.0\n"
          ]
        },
        {
          "output_type": "stream",
          "name": "stdout",
          "text": [
            "2023-05-12 22:18:43,731 [INFO] 71\t\t24.0\n"
          ]
        },
        {
          "output_type": "stream",
          "name": "stderr",
          "text": [
            "INFO:NEURONIOUtils:71\t\t24.0\n"
          ]
        },
        {
          "output_type": "stream",
          "name": "stdout",
          "text": [
            "2023-05-12 22:18:43,733 [INFO] 72\t\t24.0\n"
          ]
        },
        {
          "output_type": "stream",
          "name": "stderr",
          "text": [
            "INFO:NEURONIOUtils:72\t\t24.0\n"
          ]
        },
        {
          "output_type": "stream",
          "name": "stdout",
          "text": [
            "2023-05-12 22:18:43,735 [INFO] 73\t\t24.0\n"
          ]
        },
        {
          "output_type": "stream",
          "name": "stderr",
          "text": [
            "INFO:NEURONIOUtils:73\t\t24.0\n"
          ]
        },
        {
          "output_type": "stream",
          "name": "stdout",
          "text": [
            "2023-05-12 22:18:43,737 [INFO] 74\t\t24.0\n"
          ]
        },
        {
          "output_type": "stream",
          "name": "stderr",
          "text": [
            "INFO:NEURONIOUtils:74\t\t24.0\n"
          ]
        },
        {
          "output_type": "stream",
          "name": "stdout",
          "text": [
            "2023-05-12 22:18:43,741 [INFO] 75\t\t24.0\n"
          ]
        },
        {
          "output_type": "stream",
          "name": "stderr",
          "text": [
            "INFO:NEURONIOUtils:75\t\t24.0\n"
          ]
        },
        {
          "output_type": "stream",
          "name": "stdout",
          "text": [
            "2023-05-12 22:18:43,743 [INFO] 76\t\t24.0\n"
          ]
        },
        {
          "output_type": "stream",
          "name": "stderr",
          "text": [
            "INFO:NEURONIOUtils:76\t\t24.0\n"
          ]
        },
        {
          "output_type": "stream",
          "name": "stdout",
          "text": [
            "2023-05-12 22:18:43,747 [INFO] 77\t\t24.0\n"
          ]
        },
        {
          "output_type": "stream",
          "name": "stderr",
          "text": [
            "INFO:NEURONIOUtils:77\t\t24.0\n"
          ]
        },
        {
          "output_type": "stream",
          "name": "stdout",
          "text": [
            "2023-05-12 22:18:43,749 [INFO] 78\t\t24.0\n"
          ]
        },
        {
          "output_type": "stream",
          "name": "stderr",
          "text": [
            "INFO:NEURONIOUtils:78\t\t24.0\n"
          ]
        },
        {
          "output_type": "stream",
          "name": "stdout",
          "text": [
            "2023-05-12 22:18:43,751 [INFO] 79\t\t24.0\n"
          ]
        },
        {
          "output_type": "stream",
          "name": "stderr",
          "text": [
            "INFO:NEURONIOUtils:79\t\t24.0\n"
          ]
        },
        {
          "output_type": "stream",
          "name": "stdout",
          "text": [
            "2023-05-12 22:18:43,753 [INFO] PGN firing rate avg: 24.0 Hz\n"
          ]
        },
        {
          "output_type": "stream",
          "name": "stderr",
          "text": [
            "INFO:NEURONIOUtils:PGN firing rate avg: 24.0 Hz\n"
          ]
        },
        {
          "output_type": "stream",
          "name": "stdout",
          "text": [
            "2023-05-12 22:18:43,754 [INFO] Grill PGN fr = 51.34 Hz\n"
          ]
        },
        {
          "output_type": "stream",
          "name": "stderr",
          "text": [
            "INFO:NEURONIOUtils:Grill PGN fr = 51.34 Hz\n"
          ]
        },
        {
          "output_type": "stream",
          "name": "stdout",
          "text": [
            "2023-05-12 22:18:43,756 [INFO] IMG node_gid\t  Hz\n"
          ]
        },
        {
          "output_type": "stream",
          "name": "stderr",
          "text": [
            "INFO:NEURONIOUtils:IMG node_gid\t  Hz\n"
          ]
        },
        {
          "output_type": "stream",
          "name": "stdout",
          "text": [
            "2023-05-12 22:18:43,757 [INFO] IMG firing rate avg: 24.0 Hz\n"
          ]
        },
        {
          "output_type": "stream",
          "name": "stderr",
          "text": [
            "INFO:NEURONIOUtils:IMG firing rate avg: 24.0 Hz\n"
          ]
        },
        {
          "output_type": "stream",
          "name": "stdout",
          "text": [
            "2023-05-12 22:18:43,769 [INFO] !!!PAG FIRING ACTIVATED!!!\n"
          ]
        },
        {
          "output_type": "stream",
          "name": "stderr",
          "text": [
            "INFO:NEURONIOUtils:!!!PAG FIRING ACTIVATED!!!\n"
          ]
        },
        {
          "output_type": "stream",
          "name": "stdout",
          "text": [
            "2023-05-12 22:18:43,794 [INFO] PGN firing rate = 24.00 Hz\n"
          ]
        },
        {
          "output_type": "stream",
          "name": "stderr",
          "text": [
            "INFO:NEURONIOUtils:PGN firing rate = 24.00 Hz\n"
          ]
        },
        {
          "output_type": "stream",
          "name": "stdout",
          "text": [
            "2023-05-12 22:18:43,797 [INFO] Volume = 67.7083 ml\n"
          ]
        },
        {
          "output_type": "stream",
          "name": "stderr",
          "text": [
            "INFO:NEURONIOUtils:Volume = 67.7083 ml\n"
          ]
        },
        {
          "output_type": "stream",
          "name": "stdout",
          "text": [
            "2023-05-12 22:18:43,799 [INFO] Pressure = 19.84 mmHg\n"
          ]
        },
        {
          "output_type": "stream",
          "name": "stderr",
          "text": [
            "INFO:NEURONIOUtils:Pressure = 19.84 mmHg\n"
          ]
        },
        {
          "output_type": "stream",
          "name": "stdout",
          "text": [
            "2023-05-12 22:18:43,801 [INFO] Calculated bladder afferent firing rate for the next time step = 8.93 Hz \n",
            " \n",
            "\n"
          ]
        },
        {
          "output_type": "stream",
          "name": "stderr",
          "text": [
            "INFO:NEURONIOUtils:Calculated bladder afferent firing rate for the next time step = 8.93 Hz \n",
            " \n",
            "\n"
          ]
        },
        {
          "output_type": "stream",
          "name": "stdout",
          "text": [
            "2023-05-12 22:18:45,139 [INFO]     step:167500 t_sim:33500.00 ms\n"
          ]
        },
        {
          "output_type": "stream",
          "name": "stderr",
          "text": [
            "INFO:NEURONIOUtils:    step:167500 t_sim:33500.00 ms\n"
          ]
        },
        {
          "output_type": "stream",
          "name": "stdout",
          "text": [
            "2023-05-12 22:18:45,155 [INFO] Timestep 33000.0 to 33500.0 ms\n"
          ]
        },
        {
          "output_type": "stream",
          "name": "stderr",
          "text": [
            "INFO:NEURONIOUtils:Timestep 33000.0 to 33500.0 ms\n"
          ]
        },
        {
          "output_type": "stream",
          "name": "stdout",
          "text": [
            "2023-05-12 22:18:45,162 [INFO] PGN node_id\t  Hz\n"
          ]
        },
        {
          "output_type": "stream",
          "name": "stderr",
          "text": [
            "INFO:NEURONIOUtils:PGN node_id\t  Hz\n"
          ]
        },
        {
          "output_type": "stream",
          "name": "stdout",
          "text": [
            "2023-05-12 22:18:45,167 [INFO] 70\t\t26.0\n"
          ]
        },
        {
          "output_type": "stream",
          "name": "stderr",
          "text": [
            "INFO:NEURONIOUtils:70\t\t26.0\n"
          ]
        },
        {
          "output_type": "stream",
          "name": "stdout",
          "text": [
            "2023-05-12 22:18:45,171 [INFO] 71\t\t26.0\n"
          ]
        },
        {
          "output_type": "stream",
          "name": "stderr",
          "text": [
            "INFO:NEURONIOUtils:71\t\t26.0\n"
          ]
        },
        {
          "output_type": "stream",
          "name": "stdout",
          "text": [
            "2023-05-12 22:18:45,175 [INFO] 72\t\t26.0\n"
          ]
        },
        {
          "output_type": "stream",
          "name": "stderr",
          "text": [
            "INFO:NEURONIOUtils:72\t\t26.0\n"
          ]
        },
        {
          "output_type": "stream",
          "name": "stdout",
          "text": [
            "2023-05-12 22:18:45,180 [INFO] 73\t\t26.0\n"
          ]
        },
        {
          "output_type": "stream",
          "name": "stderr",
          "text": [
            "INFO:NEURONIOUtils:73\t\t26.0\n"
          ]
        },
        {
          "output_type": "stream",
          "name": "stdout",
          "text": [
            "2023-05-12 22:18:45,185 [INFO] 74\t\t26.0\n"
          ]
        },
        {
          "output_type": "stream",
          "name": "stderr",
          "text": [
            "INFO:NEURONIOUtils:74\t\t26.0\n"
          ]
        },
        {
          "output_type": "stream",
          "name": "stdout",
          "text": [
            "2023-05-12 22:18:45,188 [INFO] 75\t\t26.0\n"
          ]
        },
        {
          "output_type": "stream",
          "name": "stderr",
          "text": [
            "INFO:NEURONIOUtils:75\t\t26.0\n"
          ]
        },
        {
          "output_type": "stream",
          "name": "stdout",
          "text": [
            "2023-05-12 22:18:45,191 [INFO] 76\t\t26.0\n"
          ]
        },
        {
          "output_type": "stream",
          "name": "stderr",
          "text": [
            "INFO:NEURONIOUtils:76\t\t26.0\n"
          ]
        },
        {
          "output_type": "stream",
          "name": "stdout",
          "text": [
            "2023-05-12 22:18:45,210 [INFO] 77\t\t26.0\n"
          ]
        },
        {
          "output_type": "stream",
          "name": "stderr",
          "text": [
            "INFO:NEURONIOUtils:77\t\t26.0\n"
          ]
        },
        {
          "output_type": "stream",
          "name": "stdout",
          "text": [
            "2023-05-12 22:18:45,214 [INFO] 78\t\t26.0\n"
          ]
        },
        {
          "output_type": "stream",
          "name": "stderr",
          "text": [
            "INFO:NEURONIOUtils:78\t\t26.0\n"
          ]
        },
        {
          "output_type": "stream",
          "name": "stdout",
          "text": [
            "2023-05-12 22:18:45,219 [INFO] 79\t\t26.0\n"
          ]
        },
        {
          "output_type": "stream",
          "name": "stderr",
          "text": [
            "INFO:NEURONIOUtils:79\t\t26.0\n"
          ]
        },
        {
          "output_type": "stream",
          "name": "stdout",
          "text": [
            "2023-05-12 22:18:45,221 [INFO] PGN firing rate avg: 26.0 Hz\n"
          ]
        },
        {
          "output_type": "stream",
          "name": "stderr",
          "text": [
            "INFO:NEURONIOUtils:PGN firing rate avg: 26.0 Hz\n"
          ]
        },
        {
          "output_type": "stream",
          "name": "stdout",
          "text": [
            "2023-05-12 22:18:45,224 [INFO] Grill PGN fr = 59.144000000000005 Hz\n"
          ]
        },
        {
          "output_type": "stream",
          "name": "stderr",
          "text": [
            "INFO:NEURONIOUtils:Grill PGN fr = 59.144000000000005 Hz\n"
          ]
        },
        {
          "output_type": "stream",
          "name": "stdout",
          "text": [
            "2023-05-12 22:18:45,226 [INFO] IMG node_gid\t  Hz\n"
          ]
        },
        {
          "output_type": "stream",
          "name": "stderr",
          "text": [
            "INFO:NEURONIOUtils:IMG node_gid\t  Hz\n"
          ]
        },
        {
          "output_type": "stream",
          "name": "stdout",
          "text": [
            "2023-05-12 22:18:45,228 [INFO] IMG firing rate avg: 26.0 Hz\n"
          ]
        },
        {
          "output_type": "stream",
          "name": "stderr",
          "text": [
            "INFO:NEURONIOUtils:IMG firing rate avg: 26.0 Hz\n"
          ]
        },
        {
          "output_type": "stream",
          "name": "stdout",
          "text": [
            "2023-05-12 22:18:45,244 [INFO] !!!PAG FIRING ACTIVATED!!!\n"
          ]
        },
        {
          "output_type": "stream",
          "name": "stderr",
          "text": [
            "INFO:NEURONIOUtils:!!!PAG FIRING ACTIVATED!!!\n"
          ]
        },
        {
          "output_type": "stream",
          "name": "stdout",
          "text": [
            "2023-05-12 22:18:45,266 [INFO] PGN firing rate = 26.00 Hz\n"
          ]
        },
        {
          "output_type": "stream",
          "name": "stderr",
          "text": [
            "INFO:NEURONIOUtils:PGN firing rate = 26.00 Hz\n"
          ]
        },
        {
          "output_type": "stream",
          "name": "stdout",
          "text": [
            "2023-05-12 22:18:45,269 [INFO] Volume = 68.7500 ml\n"
          ]
        },
        {
          "output_type": "stream",
          "name": "stderr",
          "text": [
            "INFO:NEURONIOUtils:Volume = 68.7500 ml\n"
          ]
        },
        {
          "output_type": "stream",
          "name": "stdout",
          "text": [
            "2023-05-12 22:18:45,271 [INFO] Pressure = 21.79 mmHg\n"
          ]
        },
        {
          "output_type": "stream",
          "name": "stderr",
          "text": [
            "INFO:NEURONIOUtils:Pressure = 21.79 mmHg\n"
          ]
        },
        {
          "output_type": "stream",
          "name": "stdout",
          "text": [
            "2023-05-12 22:18:45,273 [INFO] Calculated bladder afferent firing rate for the next time step = 11.02 Hz \n",
            " \n",
            "\n"
          ]
        },
        {
          "output_type": "stream",
          "name": "stderr",
          "text": [
            "INFO:NEURONIOUtils:Calculated bladder afferent firing rate for the next time step = 11.02 Hz \n",
            " \n",
            "\n"
          ]
        },
        {
          "output_type": "stream",
          "name": "stdout",
          "text": [
            "2023-05-12 22:18:46,613 [INFO]     step:170000 t_sim:34000.00 ms\n"
          ]
        },
        {
          "output_type": "stream",
          "name": "stderr",
          "text": [
            "INFO:NEURONIOUtils:    step:170000 t_sim:34000.00 ms\n"
          ]
        },
        {
          "output_type": "stream",
          "name": "stdout",
          "text": [
            "2023-05-12 22:18:46,625 [INFO] Timestep 33500.0 to 34000.0 ms\n"
          ]
        },
        {
          "output_type": "stream",
          "name": "stderr",
          "text": [
            "INFO:NEURONIOUtils:Timestep 33500.0 to 34000.0 ms\n"
          ]
        },
        {
          "output_type": "stream",
          "name": "stdout",
          "text": [
            "2023-05-12 22:18:46,630 [INFO] PGN node_id\t  Hz\n"
          ]
        },
        {
          "output_type": "stream",
          "name": "stderr",
          "text": [
            "INFO:NEURONIOUtils:PGN node_id\t  Hz\n"
          ]
        },
        {
          "output_type": "stream",
          "name": "stdout",
          "text": [
            "2023-05-12 22:18:46,633 [INFO] 70\t\t24.0\n"
          ]
        },
        {
          "output_type": "stream",
          "name": "stderr",
          "text": [
            "INFO:NEURONIOUtils:70\t\t24.0\n"
          ]
        },
        {
          "output_type": "stream",
          "name": "stdout",
          "text": [
            "2023-05-12 22:18:46,636 [INFO] 71\t\t24.0\n"
          ]
        },
        {
          "output_type": "stream",
          "name": "stderr",
          "text": [
            "INFO:NEURONIOUtils:71\t\t24.0\n"
          ]
        },
        {
          "output_type": "stream",
          "name": "stdout",
          "text": [
            "2023-05-12 22:18:46,638 [INFO] 72\t\t24.0\n"
          ]
        },
        {
          "output_type": "stream",
          "name": "stderr",
          "text": [
            "INFO:NEURONIOUtils:72\t\t24.0\n"
          ]
        },
        {
          "output_type": "stream",
          "name": "stdout",
          "text": [
            "2023-05-12 22:18:46,639 [INFO] 73\t\t24.0\n"
          ]
        },
        {
          "output_type": "stream",
          "name": "stderr",
          "text": [
            "INFO:NEURONIOUtils:73\t\t24.0\n"
          ]
        },
        {
          "output_type": "stream",
          "name": "stdout",
          "text": [
            "2023-05-12 22:18:46,641 [INFO] 74\t\t24.0\n"
          ]
        },
        {
          "output_type": "stream",
          "name": "stderr",
          "text": [
            "INFO:NEURONIOUtils:74\t\t24.0\n"
          ]
        },
        {
          "output_type": "stream",
          "name": "stdout",
          "text": [
            "2023-05-12 22:18:46,643 [INFO] 75\t\t24.0\n"
          ]
        },
        {
          "output_type": "stream",
          "name": "stderr",
          "text": [
            "INFO:NEURONIOUtils:75\t\t24.0\n"
          ]
        },
        {
          "output_type": "stream",
          "name": "stdout",
          "text": [
            "2023-05-12 22:18:46,645 [INFO] 76\t\t24.0\n"
          ]
        },
        {
          "output_type": "stream",
          "name": "stderr",
          "text": [
            "INFO:NEURONIOUtils:76\t\t24.0\n"
          ]
        },
        {
          "output_type": "stream",
          "name": "stdout",
          "text": [
            "2023-05-12 22:18:46,647 [INFO] 77\t\t24.0\n"
          ]
        },
        {
          "output_type": "stream",
          "name": "stderr",
          "text": [
            "INFO:NEURONIOUtils:77\t\t24.0\n"
          ]
        },
        {
          "output_type": "stream",
          "name": "stdout",
          "text": [
            "2023-05-12 22:18:46,649 [INFO] 78\t\t24.0\n"
          ]
        },
        {
          "output_type": "stream",
          "name": "stderr",
          "text": [
            "INFO:NEURONIOUtils:78\t\t24.0\n"
          ]
        },
        {
          "output_type": "stream",
          "name": "stdout",
          "text": [
            "2023-05-12 22:18:46,651 [INFO] 79\t\t24.0\n"
          ]
        },
        {
          "output_type": "stream",
          "name": "stderr",
          "text": [
            "INFO:NEURONIOUtils:79\t\t24.0\n"
          ]
        },
        {
          "output_type": "stream",
          "name": "stdout",
          "text": [
            "2023-05-12 22:18:46,652 [INFO] PGN firing rate avg: 24.0 Hz\n"
          ]
        },
        {
          "output_type": "stream",
          "name": "stderr",
          "text": [
            "INFO:NEURONIOUtils:PGN firing rate avg: 24.0 Hz\n"
          ]
        },
        {
          "output_type": "stream",
          "name": "stdout",
          "text": [
            "2023-05-12 22:18:46,654 [INFO] Grill PGN fr = 51.34 Hz\n"
          ]
        },
        {
          "output_type": "stream",
          "name": "stderr",
          "text": [
            "INFO:NEURONIOUtils:Grill PGN fr = 51.34 Hz\n"
          ]
        },
        {
          "output_type": "stream",
          "name": "stdout",
          "text": [
            "2023-05-12 22:18:46,656 [INFO] IMG node_gid\t  Hz\n"
          ]
        },
        {
          "output_type": "stream",
          "name": "stderr",
          "text": [
            "INFO:NEURONIOUtils:IMG node_gid\t  Hz\n"
          ]
        },
        {
          "output_type": "stream",
          "name": "stdout",
          "text": [
            "2023-05-12 22:18:46,658 [INFO] IMG firing rate avg: 24.0 Hz\n"
          ]
        },
        {
          "output_type": "stream",
          "name": "stderr",
          "text": [
            "INFO:NEURONIOUtils:IMG firing rate avg: 24.0 Hz\n"
          ]
        },
        {
          "output_type": "stream",
          "name": "stdout",
          "text": [
            "2023-05-12 22:18:46,667 [INFO] !!!PAG FIRING ACTIVATED!!!\n"
          ]
        },
        {
          "output_type": "stream",
          "name": "stderr",
          "text": [
            "INFO:NEURONIOUtils:!!!PAG FIRING ACTIVATED!!!\n"
          ]
        },
        {
          "output_type": "stream",
          "name": "stdout",
          "text": [
            "2023-05-12 22:18:46,685 [INFO] PGN firing rate = 24.00 Hz\n"
          ]
        },
        {
          "output_type": "stream",
          "name": "stderr",
          "text": [
            "INFO:NEURONIOUtils:PGN firing rate = 24.00 Hz\n"
          ]
        },
        {
          "output_type": "stream",
          "name": "stdout",
          "text": [
            "2023-05-12 22:18:46,688 [INFO] Volume = 69.7917 ml\n"
          ]
        },
        {
          "output_type": "stream",
          "name": "stderr",
          "text": [
            "INFO:NEURONIOUtils:Volume = 69.7917 ml\n"
          ]
        },
        {
          "output_type": "stream",
          "name": "stdout",
          "text": [
            "2023-05-12 22:18:46,690 [INFO] Pressure = 19.84 mmHg\n"
          ]
        },
        {
          "output_type": "stream",
          "name": "stderr",
          "text": [
            "INFO:NEURONIOUtils:Pressure = 19.84 mmHg\n"
          ]
        },
        {
          "output_type": "stream",
          "name": "stdout",
          "text": [
            "2023-05-12 22:18:46,692 [INFO] Calculated bladder afferent firing rate for the next time step = 8.93 Hz \n",
            " \n",
            "\n"
          ]
        },
        {
          "output_type": "stream",
          "name": "stderr",
          "text": [
            "INFO:NEURONIOUtils:Calculated bladder afferent firing rate for the next time step = 8.93 Hz \n",
            " \n",
            "\n"
          ]
        },
        {
          "output_type": "stream",
          "name": "stdout",
          "text": [
            "2023-05-12 22:18:48,258 [INFO]     step:172500 t_sim:34500.00 ms\n"
          ]
        },
        {
          "output_type": "stream",
          "name": "stderr",
          "text": [
            "INFO:NEURONIOUtils:    step:172500 t_sim:34500.00 ms\n"
          ]
        },
        {
          "output_type": "stream",
          "name": "stdout",
          "text": [
            "2023-05-12 22:18:48,278 [INFO] Timestep 34000.0 to 34500.0 ms\n"
          ]
        },
        {
          "output_type": "stream",
          "name": "stderr",
          "text": [
            "INFO:NEURONIOUtils:Timestep 34000.0 to 34500.0 ms\n"
          ]
        },
        {
          "output_type": "stream",
          "name": "stdout",
          "text": [
            "2023-05-12 22:18:48,282 [INFO] PGN node_id\t  Hz\n"
          ]
        },
        {
          "output_type": "stream",
          "name": "stderr",
          "text": [
            "INFO:NEURONIOUtils:PGN node_id\t  Hz\n"
          ]
        },
        {
          "output_type": "stream",
          "name": "stdout",
          "text": [
            "2023-05-12 22:18:48,287 [INFO] 70\t\t24.0\n"
          ]
        },
        {
          "output_type": "stream",
          "name": "stderr",
          "text": [
            "INFO:NEURONIOUtils:70\t\t24.0\n"
          ]
        },
        {
          "output_type": "stream",
          "name": "stdout",
          "text": [
            "2023-05-12 22:18:48,292 [INFO] 71\t\t24.0\n"
          ]
        },
        {
          "output_type": "stream",
          "name": "stderr",
          "text": [
            "INFO:NEURONIOUtils:71\t\t24.0\n"
          ]
        },
        {
          "output_type": "stream",
          "name": "stdout",
          "text": [
            "2023-05-12 22:18:48,297 [INFO] 72\t\t24.0\n"
          ]
        },
        {
          "output_type": "stream",
          "name": "stderr",
          "text": [
            "INFO:NEURONIOUtils:72\t\t24.0\n"
          ]
        },
        {
          "output_type": "stream",
          "name": "stdout",
          "text": [
            "2023-05-12 22:18:48,301 [INFO] 73\t\t24.0\n"
          ]
        },
        {
          "output_type": "stream",
          "name": "stderr",
          "text": [
            "INFO:NEURONIOUtils:73\t\t24.0\n"
          ]
        },
        {
          "output_type": "stream",
          "name": "stdout",
          "text": [
            "2023-05-12 22:18:48,304 [INFO] 74\t\t24.0\n"
          ]
        },
        {
          "output_type": "stream",
          "name": "stderr",
          "text": [
            "INFO:NEURONIOUtils:74\t\t24.0\n"
          ]
        },
        {
          "output_type": "stream",
          "name": "stdout",
          "text": [
            "2023-05-12 22:18:48,311 [INFO] 75\t\t24.0\n"
          ]
        },
        {
          "output_type": "stream",
          "name": "stderr",
          "text": [
            "INFO:NEURONIOUtils:75\t\t24.0\n"
          ]
        },
        {
          "output_type": "stream",
          "name": "stdout",
          "text": [
            "2023-05-12 22:18:48,316 [INFO] 76\t\t24.0\n"
          ]
        },
        {
          "output_type": "stream",
          "name": "stderr",
          "text": [
            "INFO:NEURONIOUtils:76\t\t24.0\n"
          ]
        },
        {
          "output_type": "stream",
          "name": "stdout",
          "text": [
            "2023-05-12 22:18:48,321 [INFO] 77\t\t24.0\n"
          ]
        },
        {
          "output_type": "stream",
          "name": "stderr",
          "text": [
            "INFO:NEURONIOUtils:77\t\t24.0\n"
          ]
        },
        {
          "output_type": "stream",
          "name": "stdout",
          "text": [
            "2023-05-12 22:18:48,326 [INFO] 78\t\t24.0\n"
          ]
        },
        {
          "output_type": "stream",
          "name": "stderr",
          "text": [
            "INFO:NEURONIOUtils:78\t\t24.0\n"
          ]
        },
        {
          "output_type": "stream",
          "name": "stdout",
          "text": [
            "2023-05-12 22:18:48,330 [INFO] 79\t\t24.0\n"
          ]
        },
        {
          "output_type": "stream",
          "name": "stderr",
          "text": [
            "INFO:NEURONIOUtils:79\t\t24.0\n"
          ]
        },
        {
          "output_type": "stream",
          "name": "stdout",
          "text": [
            "2023-05-12 22:18:48,332 [INFO] PGN firing rate avg: 24.0 Hz\n"
          ]
        },
        {
          "output_type": "stream",
          "name": "stderr",
          "text": [
            "INFO:NEURONIOUtils:PGN firing rate avg: 24.0 Hz\n"
          ]
        },
        {
          "output_type": "stream",
          "name": "stdout",
          "text": [
            "2023-05-12 22:18:48,339 [INFO] Grill PGN fr = 51.34 Hz\n"
          ]
        },
        {
          "output_type": "stream",
          "name": "stderr",
          "text": [
            "INFO:NEURONIOUtils:Grill PGN fr = 51.34 Hz\n"
          ]
        },
        {
          "output_type": "stream",
          "name": "stdout",
          "text": [
            "2023-05-12 22:18:48,342 [INFO] IMG node_gid\t  Hz\n"
          ]
        },
        {
          "output_type": "stream",
          "name": "stderr",
          "text": [
            "INFO:NEURONIOUtils:IMG node_gid\t  Hz\n"
          ]
        },
        {
          "output_type": "stream",
          "name": "stdout",
          "text": [
            "2023-05-12 22:18:48,344 [INFO] IMG firing rate avg: 24.0 Hz\n"
          ]
        },
        {
          "output_type": "stream",
          "name": "stderr",
          "text": [
            "INFO:NEURONIOUtils:IMG firing rate avg: 24.0 Hz\n"
          ]
        },
        {
          "output_type": "stream",
          "name": "stdout",
          "text": [
            "2023-05-12 22:18:48,358 [INFO] !!!PAG FIRING ACTIVATED!!!\n"
          ]
        },
        {
          "output_type": "stream",
          "name": "stderr",
          "text": [
            "INFO:NEURONIOUtils:!!!PAG FIRING ACTIVATED!!!\n"
          ]
        },
        {
          "output_type": "stream",
          "name": "stdout",
          "text": [
            "2023-05-12 22:18:48,384 [INFO] PGN firing rate = 24.00 Hz\n"
          ]
        },
        {
          "output_type": "stream",
          "name": "stderr",
          "text": [
            "INFO:NEURONIOUtils:PGN firing rate = 24.00 Hz\n"
          ]
        },
        {
          "output_type": "stream",
          "name": "stdout",
          "text": [
            "2023-05-12 22:18:48,394 [INFO] Volume = 70.8333 ml\n"
          ]
        },
        {
          "output_type": "stream",
          "name": "stderr",
          "text": [
            "INFO:NEURONIOUtils:Volume = 70.8333 ml\n"
          ]
        },
        {
          "output_type": "stream",
          "name": "stdout",
          "text": [
            "2023-05-12 22:18:48,396 [INFO] Pressure = 19.84 mmHg\n"
          ]
        },
        {
          "output_type": "stream",
          "name": "stderr",
          "text": [
            "INFO:NEURONIOUtils:Pressure = 19.84 mmHg\n"
          ]
        },
        {
          "output_type": "stream",
          "name": "stdout",
          "text": [
            "2023-05-12 22:18:48,399 [INFO] Calculated bladder afferent firing rate for the next time step = 8.93 Hz \n",
            " \n",
            "\n"
          ]
        },
        {
          "output_type": "stream",
          "name": "stderr",
          "text": [
            "INFO:NEURONIOUtils:Calculated bladder afferent firing rate for the next time step = 8.93 Hz \n",
            " \n",
            "\n"
          ]
        },
        {
          "output_type": "stream",
          "name": "stdout",
          "text": [
            "2023-05-12 22:18:49,693 [INFO]     step:175000 t_sim:35000.00 ms\n"
          ]
        },
        {
          "output_type": "stream",
          "name": "stderr",
          "text": [
            "INFO:NEURONIOUtils:    step:175000 t_sim:35000.00 ms\n"
          ]
        },
        {
          "output_type": "stream",
          "name": "stdout",
          "text": [
            "2023-05-12 22:18:49,710 [INFO] Timestep 34500.0 to 35000.0 ms\n"
          ]
        },
        {
          "output_type": "stream",
          "name": "stderr",
          "text": [
            "INFO:NEURONIOUtils:Timestep 34500.0 to 35000.0 ms\n"
          ]
        },
        {
          "output_type": "stream",
          "name": "stdout",
          "text": [
            "2023-05-12 22:18:49,716 [INFO] PGN node_id\t  Hz\n"
          ]
        },
        {
          "output_type": "stream",
          "name": "stderr",
          "text": [
            "INFO:NEURONIOUtils:PGN node_id\t  Hz\n"
          ]
        },
        {
          "output_type": "stream",
          "name": "stdout",
          "text": [
            "2023-05-12 22:18:49,718 [INFO] 70\t\t24.0\n"
          ]
        },
        {
          "output_type": "stream",
          "name": "stderr",
          "text": [
            "INFO:NEURONIOUtils:70\t\t24.0\n"
          ]
        },
        {
          "output_type": "stream",
          "name": "stdout",
          "text": [
            "2023-05-12 22:18:49,722 [INFO] 71\t\t24.0\n"
          ]
        },
        {
          "output_type": "stream",
          "name": "stderr",
          "text": [
            "INFO:NEURONIOUtils:71\t\t24.0\n"
          ]
        },
        {
          "output_type": "stream",
          "name": "stdout",
          "text": [
            "2023-05-12 22:18:49,726 [INFO] 72\t\t24.0\n"
          ]
        },
        {
          "output_type": "stream",
          "name": "stderr",
          "text": [
            "INFO:NEURONIOUtils:72\t\t24.0\n"
          ]
        },
        {
          "output_type": "stream",
          "name": "stdout",
          "text": [
            "2023-05-12 22:18:49,729 [INFO] 73\t\t24.0\n"
          ]
        },
        {
          "output_type": "stream",
          "name": "stderr",
          "text": [
            "INFO:NEURONIOUtils:73\t\t24.0\n"
          ]
        },
        {
          "output_type": "stream",
          "name": "stdout",
          "text": [
            "2023-05-12 22:18:49,732 [INFO] 74\t\t24.0\n"
          ]
        },
        {
          "output_type": "stream",
          "name": "stderr",
          "text": [
            "INFO:NEURONIOUtils:74\t\t24.0\n"
          ]
        },
        {
          "output_type": "stream",
          "name": "stdout",
          "text": [
            "2023-05-12 22:18:49,737 [INFO] 75\t\t24.0\n"
          ]
        },
        {
          "output_type": "stream",
          "name": "stderr",
          "text": [
            "INFO:NEURONIOUtils:75\t\t24.0\n"
          ]
        },
        {
          "output_type": "stream",
          "name": "stdout",
          "text": [
            "2023-05-12 22:18:49,740 [INFO] 76\t\t24.0\n"
          ]
        },
        {
          "output_type": "stream",
          "name": "stderr",
          "text": [
            "INFO:NEURONIOUtils:76\t\t24.0\n"
          ]
        },
        {
          "output_type": "stream",
          "name": "stdout",
          "text": [
            "2023-05-12 22:18:49,742 [INFO] 77\t\t24.0\n"
          ]
        },
        {
          "output_type": "stream",
          "name": "stderr",
          "text": [
            "INFO:NEURONIOUtils:77\t\t24.0\n"
          ]
        },
        {
          "output_type": "stream",
          "name": "stdout",
          "text": [
            "2023-05-12 22:18:49,744 [INFO] 78\t\t24.0\n"
          ]
        },
        {
          "output_type": "stream",
          "name": "stderr",
          "text": [
            "INFO:NEURONIOUtils:78\t\t24.0\n"
          ]
        },
        {
          "output_type": "stream",
          "name": "stdout",
          "text": [
            "2023-05-12 22:18:49,746 [INFO] 79\t\t24.0\n"
          ]
        },
        {
          "output_type": "stream",
          "name": "stderr",
          "text": [
            "INFO:NEURONIOUtils:79\t\t24.0\n"
          ]
        },
        {
          "output_type": "stream",
          "name": "stdout",
          "text": [
            "2023-05-12 22:18:49,749 [INFO] PGN firing rate avg: 24.0 Hz\n"
          ]
        },
        {
          "output_type": "stream",
          "name": "stderr",
          "text": [
            "INFO:NEURONIOUtils:PGN firing rate avg: 24.0 Hz\n"
          ]
        },
        {
          "output_type": "stream",
          "name": "stdout",
          "text": [
            "2023-05-12 22:18:49,752 [INFO] Grill PGN fr = 51.34 Hz\n"
          ]
        },
        {
          "output_type": "stream",
          "name": "stderr",
          "text": [
            "INFO:NEURONIOUtils:Grill PGN fr = 51.34 Hz\n"
          ]
        },
        {
          "output_type": "stream",
          "name": "stdout",
          "text": [
            "2023-05-12 22:18:49,754 [INFO] IMG node_gid\t  Hz\n"
          ]
        },
        {
          "output_type": "stream",
          "name": "stderr",
          "text": [
            "INFO:NEURONIOUtils:IMG node_gid\t  Hz\n"
          ]
        },
        {
          "output_type": "stream",
          "name": "stdout",
          "text": [
            "2023-05-12 22:18:49,756 [INFO] IMG firing rate avg: 24.0 Hz\n"
          ]
        },
        {
          "output_type": "stream",
          "name": "stderr",
          "text": [
            "INFO:NEURONIOUtils:IMG firing rate avg: 24.0 Hz\n"
          ]
        },
        {
          "output_type": "stream",
          "name": "stdout",
          "text": [
            "2023-05-12 22:18:49,765 [INFO] PGN firing rate = 24.00 Hz\n"
          ]
        },
        {
          "output_type": "stream",
          "name": "stderr",
          "text": [
            "INFO:NEURONIOUtils:PGN firing rate = 24.00 Hz\n"
          ]
        },
        {
          "output_type": "stream",
          "name": "stdout",
          "text": [
            "2023-05-12 22:18:49,771 [INFO] Volume = 0.0000 ml\n"
          ]
        },
        {
          "output_type": "stream",
          "name": "stderr",
          "text": [
            "INFO:NEURONIOUtils:Volume = 0.0000 ml\n"
          ]
        },
        {
          "output_type": "stream",
          "name": "stdout",
          "text": [
            "2023-05-12 22:18:49,773 [INFO] Pressure = 19.84 mmHg\n"
          ]
        },
        {
          "output_type": "stream",
          "name": "stderr",
          "text": [
            "INFO:NEURONIOUtils:Pressure = 19.84 mmHg\n"
          ]
        },
        {
          "output_type": "stream",
          "name": "stdout",
          "text": [
            "2023-05-12 22:18:49,775 [INFO] Calculated bladder afferent firing rate for the next time step = 8.93 Hz \n",
            " \n",
            "\n"
          ]
        },
        {
          "output_type": "stream",
          "name": "stderr",
          "text": [
            "INFO:NEURONIOUtils:Calculated bladder afferent firing rate for the next time step = 8.93 Hz \n",
            " \n",
            "\n"
          ]
        },
        {
          "output_type": "stream",
          "name": "stdout",
          "text": [
            "2023-05-12 22:18:50,969 [INFO]     step:177500 t_sim:35500.00 ms\n"
          ]
        },
        {
          "output_type": "stream",
          "name": "stderr",
          "text": [
            "INFO:NEURONIOUtils:    step:177500 t_sim:35500.00 ms\n"
          ]
        },
        {
          "output_type": "stream",
          "name": "stdout",
          "text": [
            "2023-05-12 22:18:50,981 [INFO] Timestep 35000.0 to 35500.0 ms\n"
          ]
        },
        {
          "output_type": "stream",
          "name": "stderr",
          "text": [
            "INFO:NEURONIOUtils:Timestep 35000.0 to 35500.0 ms\n"
          ]
        },
        {
          "output_type": "stream",
          "name": "stdout",
          "text": [
            "2023-05-12 22:18:50,986 [INFO] PGN node_id\t  Hz\n"
          ]
        },
        {
          "output_type": "stream",
          "name": "stderr",
          "text": [
            "INFO:NEURONIOUtils:PGN node_id\t  Hz\n"
          ]
        },
        {
          "output_type": "stream",
          "name": "stdout",
          "text": [
            "2023-05-12 22:18:50,990 [INFO] 70\t\t4.0\n"
          ]
        },
        {
          "output_type": "stream",
          "name": "stderr",
          "text": [
            "INFO:NEURONIOUtils:70\t\t4.0\n"
          ]
        },
        {
          "output_type": "stream",
          "name": "stdout",
          "text": [
            "2023-05-12 22:18:50,993 [INFO] 71\t\t4.0\n"
          ]
        },
        {
          "output_type": "stream",
          "name": "stderr",
          "text": [
            "INFO:NEURONIOUtils:71\t\t4.0\n"
          ]
        },
        {
          "output_type": "stream",
          "name": "stdout",
          "text": [
            "2023-05-12 22:18:50,995 [INFO] 72\t\t4.0\n"
          ]
        },
        {
          "output_type": "stream",
          "name": "stderr",
          "text": [
            "INFO:NEURONIOUtils:72\t\t4.0\n"
          ]
        },
        {
          "output_type": "stream",
          "name": "stdout",
          "text": [
            "2023-05-12 22:18:50,997 [INFO] 73\t\t4.0\n"
          ]
        },
        {
          "output_type": "stream",
          "name": "stderr",
          "text": [
            "INFO:NEURONIOUtils:73\t\t4.0\n"
          ]
        },
        {
          "output_type": "stream",
          "name": "stdout",
          "text": [
            "2023-05-12 22:18:50,999 [INFO] 74\t\t4.0\n"
          ]
        },
        {
          "output_type": "stream",
          "name": "stderr",
          "text": [
            "INFO:NEURONIOUtils:74\t\t4.0\n"
          ]
        },
        {
          "output_type": "stream",
          "name": "stdout",
          "text": [
            "2023-05-12 22:18:51,001 [INFO] 75\t\t4.0\n"
          ]
        },
        {
          "output_type": "stream",
          "name": "stderr",
          "text": [
            "INFO:NEURONIOUtils:75\t\t4.0\n"
          ]
        },
        {
          "output_type": "stream",
          "name": "stdout",
          "text": [
            "2023-05-12 22:18:51,003 [INFO] 76\t\t4.0\n"
          ]
        },
        {
          "output_type": "stream",
          "name": "stderr",
          "text": [
            "INFO:NEURONIOUtils:76\t\t4.0\n"
          ]
        },
        {
          "output_type": "stream",
          "name": "stdout",
          "text": [
            "2023-05-12 22:18:51,005 [INFO] 77\t\t4.0\n"
          ]
        },
        {
          "output_type": "stream",
          "name": "stderr",
          "text": [
            "INFO:NEURONIOUtils:77\t\t4.0\n"
          ]
        },
        {
          "output_type": "stream",
          "name": "stdout",
          "text": [
            "2023-05-12 22:18:51,006 [INFO] 78\t\t4.0\n"
          ]
        },
        {
          "output_type": "stream",
          "name": "stderr",
          "text": [
            "INFO:NEURONIOUtils:78\t\t4.0\n"
          ]
        },
        {
          "output_type": "stream",
          "name": "stdout",
          "text": [
            "2023-05-12 22:18:51,008 [INFO] 79\t\t4.0\n"
          ]
        },
        {
          "output_type": "stream",
          "name": "stderr",
          "text": [
            "INFO:NEURONIOUtils:79\t\t4.0\n"
          ]
        },
        {
          "output_type": "stream",
          "name": "stdout",
          "text": [
            "2023-05-12 22:18:51,010 [INFO] PGN firing rate avg: 4.0 Hz\n"
          ]
        },
        {
          "output_type": "stream",
          "name": "stderr",
          "text": [
            "INFO:NEURONIOUtils:PGN firing rate avg: 4.0 Hz\n"
          ]
        },
        {
          "output_type": "stream",
          "name": "stdout",
          "text": [
            "2023-05-12 22:18:51,012 [INFO] Grill PGN fr = 3.15 Hz\n"
          ]
        },
        {
          "output_type": "stream",
          "name": "stderr",
          "text": [
            "INFO:NEURONIOUtils:Grill PGN fr = 3.15 Hz\n"
          ]
        },
        {
          "output_type": "stream",
          "name": "stdout",
          "text": [
            "2023-05-12 22:18:51,014 [INFO] IMG node_gid\t  Hz\n"
          ]
        },
        {
          "output_type": "stream",
          "name": "stderr",
          "text": [
            "INFO:NEURONIOUtils:IMG node_gid\t  Hz\n"
          ]
        },
        {
          "output_type": "stream",
          "name": "stdout",
          "text": [
            "2023-05-12 22:18:51,016 [INFO] IMG firing rate avg: 4.0 Hz\n"
          ]
        },
        {
          "output_type": "stream",
          "name": "stderr",
          "text": [
            "INFO:NEURONIOUtils:IMG firing rate avg: 4.0 Hz\n"
          ]
        },
        {
          "output_type": "stream",
          "name": "stdout",
          "text": [
            "2023-05-12 22:18:51,024 [INFO] PGN firing rate = 4.00 Hz\n"
          ]
        },
        {
          "output_type": "stream",
          "name": "stderr",
          "text": [
            "/usr/local/lib/python3.10/dist-packages/bmtk/utils/reports/spike_trains/spike_trains.py:183: RuntimeWarning: divide by zero encountered in double_scalars\n",
            "  interval = -np.log(1.0 - np.random.uniform()) / fr\n",
            "INFO:NEURONIOUtils:PGN firing rate = 4.00 Hz\n"
          ]
        },
        {
          "output_type": "stream",
          "name": "stdout",
          "text": [
            "2023-05-12 22:18:51,032 [INFO] Volume = 1.0417 ml\n"
          ]
        },
        {
          "output_type": "stream",
          "name": "stderr",
          "text": [
            "INFO:NEURONIOUtils:Volume = 1.0417 ml\n"
          ]
        },
        {
          "output_type": "stream",
          "name": "stdout",
          "text": [
            "2023-05-12 22:18:51,035 [INFO] Pressure = 7.00 mmHg\n"
          ]
        },
        {
          "output_type": "stream",
          "name": "stderr",
          "text": [
            "INFO:NEURONIOUtils:Pressure = 7.00 mmHg\n"
          ]
        },
        {
          "output_type": "stream",
          "name": "stdout",
          "text": [
            "2023-05-12 22:18:51,037 [INFO] Calculated bladder afferent firing rate for the next time step = 0.00 Hz \n",
            " \n",
            "\n"
          ]
        },
        {
          "output_type": "stream",
          "name": "stderr",
          "text": [
            "INFO:NEURONIOUtils:Calculated bladder afferent firing rate for the next time step = 0.00 Hz \n",
            " \n",
            "\n"
          ]
        },
        {
          "output_type": "stream",
          "name": "stdout",
          "text": [
            "2023-05-12 22:18:52,226 [INFO]     step:180000 t_sim:36000.00 ms\n"
          ]
        },
        {
          "output_type": "stream",
          "name": "stderr",
          "text": [
            "INFO:NEURONIOUtils:    step:180000 t_sim:36000.00 ms\n"
          ]
        },
        {
          "output_type": "stream",
          "name": "stdout",
          "text": [
            "2023-05-12 22:18:52,236 [INFO] Timestep 35500.0 to 36000.0 ms\n"
          ]
        },
        {
          "output_type": "stream",
          "name": "stderr",
          "text": [
            "INFO:NEURONIOUtils:Timestep 35500.0 to 36000.0 ms\n"
          ]
        },
        {
          "output_type": "stream",
          "name": "stdout",
          "text": [
            "2023-05-12 22:18:52,241 [INFO] PGN node_id\t  Hz\n"
          ]
        },
        {
          "output_type": "stream",
          "name": "stderr",
          "text": [
            "INFO:NEURONIOUtils:PGN node_id\t  Hz\n"
          ]
        },
        {
          "output_type": "stream",
          "name": "stdout",
          "text": [
            "2023-05-12 22:18:52,244 [INFO] 70\t\t2.0\n"
          ]
        },
        {
          "output_type": "stream",
          "name": "stderr",
          "text": [
            "INFO:NEURONIOUtils:70\t\t2.0\n"
          ]
        },
        {
          "output_type": "stream",
          "name": "stdout",
          "text": [
            "2023-05-12 22:18:52,247 [INFO] 71\t\t2.0\n"
          ]
        },
        {
          "output_type": "stream",
          "name": "stderr",
          "text": [
            "INFO:NEURONIOUtils:71\t\t2.0\n"
          ]
        },
        {
          "output_type": "stream",
          "name": "stdout",
          "text": [
            "2023-05-12 22:18:52,249 [INFO] 72\t\t2.0\n"
          ]
        },
        {
          "output_type": "stream",
          "name": "stderr",
          "text": [
            "INFO:NEURONIOUtils:72\t\t2.0\n"
          ]
        },
        {
          "output_type": "stream",
          "name": "stdout",
          "text": [
            "2023-05-12 22:18:52,251 [INFO] 73\t\t2.0\n"
          ]
        },
        {
          "output_type": "stream",
          "name": "stderr",
          "text": [
            "INFO:NEURONIOUtils:73\t\t2.0\n"
          ]
        },
        {
          "output_type": "stream",
          "name": "stdout",
          "text": [
            "2023-05-12 22:18:52,253 [INFO] 74\t\t2.0\n"
          ]
        },
        {
          "output_type": "stream",
          "name": "stderr",
          "text": [
            "INFO:NEURONIOUtils:74\t\t2.0\n"
          ]
        },
        {
          "output_type": "stream",
          "name": "stdout",
          "text": [
            "2023-05-12 22:18:52,255 [INFO] 75\t\t2.0\n"
          ]
        },
        {
          "output_type": "stream",
          "name": "stderr",
          "text": [
            "INFO:NEURONIOUtils:75\t\t2.0\n"
          ]
        },
        {
          "output_type": "stream",
          "name": "stdout",
          "text": [
            "2023-05-12 22:18:52,257 [INFO] 76\t\t2.0\n"
          ]
        },
        {
          "output_type": "stream",
          "name": "stderr",
          "text": [
            "INFO:NEURONIOUtils:76\t\t2.0\n"
          ]
        },
        {
          "output_type": "stream",
          "name": "stdout",
          "text": [
            "2023-05-12 22:18:52,259 [INFO] 77\t\t2.0\n"
          ]
        },
        {
          "output_type": "stream",
          "name": "stderr",
          "text": [
            "INFO:NEURONIOUtils:77\t\t2.0\n"
          ]
        },
        {
          "output_type": "stream",
          "name": "stdout",
          "text": [
            "2023-05-12 22:18:52,261 [INFO] 78\t\t2.0\n"
          ]
        },
        {
          "output_type": "stream",
          "name": "stderr",
          "text": [
            "INFO:NEURONIOUtils:78\t\t2.0\n"
          ]
        },
        {
          "output_type": "stream",
          "name": "stdout",
          "text": [
            "2023-05-12 22:18:52,263 [INFO] 79\t\t2.0\n"
          ]
        },
        {
          "output_type": "stream",
          "name": "stderr",
          "text": [
            "INFO:NEURONIOUtils:79\t\t2.0\n"
          ]
        },
        {
          "output_type": "stream",
          "name": "stdout",
          "text": [
            "2023-05-12 22:18:52,265 [INFO] PGN firing rate avg: 2.0 Hz\n"
          ]
        },
        {
          "output_type": "stream",
          "name": "stderr",
          "text": [
            "INFO:NEURONIOUtils:PGN firing rate avg: 2.0 Hz\n"
          ]
        },
        {
          "output_type": "stream",
          "name": "stdout",
          "text": [
            "2023-05-12 22:18:52,267 [INFO] Grill PGN fr = 1.492 Hz\n"
          ]
        },
        {
          "output_type": "stream",
          "name": "stderr",
          "text": [
            "INFO:NEURONIOUtils:Grill PGN fr = 1.492 Hz\n"
          ]
        },
        {
          "output_type": "stream",
          "name": "stdout",
          "text": [
            "2023-05-12 22:18:52,268 [INFO] IMG node_gid\t  Hz\n"
          ]
        },
        {
          "output_type": "stream",
          "name": "stderr",
          "text": [
            "INFO:NEURONIOUtils:IMG node_gid\t  Hz\n"
          ]
        },
        {
          "output_type": "stream",
          "name": "stdout",
          "text": [
            "2023-05-12 22:18:52,270 [INFO] IMG firing rate avg: 2.0 Hz\n"
          ]
        },
        {
          "output_type": "stream",
          "name": "stderr",
          "text": [
            "INFO:NEURONIOUtils:IMG firing rate avg: 2.0 Hz\n"
          ]
        },
        {
          "output_type": "stream",
          "name": "stdout",
          "text": [
            "2023-05-12 22:18:52,280 [INFO] PGN firing rate = 2.00 Hz\n"
          ]
        },
        {
          "output_type": "stream",
          "name": "stderr",
          "text": [
            "/usr/local/lib/python3.10/dist-packages/bmtk/utils/reports/spike_trains/spike_trains.py:183: RuntimeWarning: divide by zero encountered in double_scalars\n",
            "  interval = -np.log(1.0 - np.random.uniform()) / fr\n",
            "INFO:NEURONIOUtils:PGN firing rate = 2.00 Hz\n"
          ]
        },
        {
          "output_type": "stream",
          "name": "stdout",
          "text": [
            "2023-05-12 22:18:52,286 [INFO] Volume = 2.0833 ml\n"
          ]
        },
        {
          "output_type": "stream",
          "name": "stderr",
          "text": [
            "INFO:NEURONIOUtils:Volume = 2.0833 ml\n"
          ]
        },
        {
          "output_type": "stream",
          "name": "stdout",
          "text": [
            "2023-05-12 22:18:52,287 [INFO] Pressure = 7.37 mmHg\n"
          ]
        },
        {
          "output_type": "stream",
          "name": "stderr",
          "text": [
            "INFO:NEURONIOUtils:Pressure = 7.37 mmHg\n"
          ]
        },
        {
          "output_type": "stream",
          "name": "stdout",
          "text": [
            "2023-05-12 22:18:52,289 [INFO] Calculated bladder afferent firing rate for the next time step = 0.00 Hz \n",
            " \n",
            "\n"
          ]
        },
        {
          "output_type": "stream",
          "name": "stderr",
          "text": [
            "INFO:NEURONIOUtils:Calculated bladder afferent firing rate for the next time step = 0.00 Hz \n",
            " \n",
            "\n"
          ]
        },
        {
          "output_type": "stream",
          "name": "stdout",
          "text": [
            "2023-05-12 22:18:53,539 [INFO]     step:182500 t_sim:36500.00 ms\n"
          ]
        },
        {
          "output_type": "stream",
          "name": "stderr",
          "text": [
            "INFO:NEURONIOUtils:    step:182500 t_sim:36500.00 ms\n"
          ]
        },
        {
          "output_type": "stream",
          "name": "stdout",
          "text": [
            "2023-05-12 22:18:53,548 [INFO] Timestep 36000.0 to 36500.0 ms\n"
          ]
        },
        {
          "output_type": "stream",
          "name": "stderr",
          "text": [
            "INFO:NEURONIOUtils:Timestep 36000.0 to 36500.0 ms\n"
          ]
        },
        {
          "output_type": "stream",
          "name": "stdout",
          "text": [
            "2023-05-12 22:18:53,552 [INFO] PGN node_id\t  Hz\n"
          ]
        },
        {
          "output_type": "stream",
          "name": "stderr",
          "text": [
            "INFO:NEURONIOUtils:PGN node_id\t  Hz\n"
          ]
        },
        {
          "output_type": "stream",
          "name": "stdout",
          "text": [
            "2023-05-12 22:18:53,555 [INFO] 70\t\t2.0\n"
          ]
        },
        {
          "output_type": "stream",
          "name": "stderr",
          "text": [
            "INFO:NEURONIOUtils:70\t\t2.0\n"
          ]
        },
        {
          "output_type": "stream",
          "name": "stdout",
          "text": [
            "2023-05-12 22:18:53,558 [INFO] 71\t\t2.0\n"
          ]
        },
        {
          "output_type": "stream",
          "name": "stderr",
          "text": [
            "INFO:NEURONIOUtils:71\t\t2.0\n"
          ]
        },
        {
          "output_type": "stream",
          "name": "stdout",
          "text": [
            "2023-05-12 22:18:53,560 [INFO] 72\t\t2.0\n"
          ]
        },
        {
          "output_type": "stream",
          "name": "stderr",
          "text": [
            "INFO:NEURONIOUtils:72\t\t2.0\n"
          ]
        },
        {
          "output_type": "stream",
          "name": "stdout",
          "text": [
            "2023-05-12 22:18:53,562 [INFO] 73\t\t2.0\n"
          ]
        },
        {
          "output_type": "stream",
          "name": "stderr",
          "text": [
            "INFO:NEURONIOUtils:73\t\t2.0\n"
          ]
        },
        {
          "output_type": "stream",
          "name": "stdout",
          "text": [
            "2023-05-12 22:18:53,564 [INFO] 74\t\t2.0\n"
          ]
        },
        {
          "output_type": "stream",
          "name": "stderr",
          "text": [
            "INFO:NEURONIOUtils:74\t\t2.0\n"
          ]
        },
        {
          "output_type": "stream",
          "name": "stdout",
          "text": [
            "2023-05-12 22:18:53,566 [INFO] 75\t\t2.0\n"
          ]
        },
        {
          "output_type": "stream",
          "name": "stderr",
          "text": [
            "INFO:NEURONIOUtils:75\t\t2.0\n"
          ]
        },
        {
          "output_type": "stream",
          "name": "stdout",
          "text": [
            "2023-05-12 22:18:53,568 [INFO] 76\t\t2.0\n"
          ]
        },
        {
          "output_type": "stream",
          "name": "stderr",
          "text": [
            "INFO:NEURONIOUtils:76\t\t2.0\n"
          ]
        },
        {
          "output_type": "stream",
          "name": "stdout",
          "text": [
            "2023-05-12 22:18:53,570 [INFO] 77\t\t2.0\n"
          ]
        },
        {
          "output_type": "stream",
          "name": "stderr",
          "text": [
            "INFO:NEURONIOUtils:77\t\t2.0\n"
          ]
        },
        {
          "output_type": "stream",
          "name": "stdout",
          "text": [
            "2023-05-12 22:18:53,572 [INFO] 78\t\t2.0\n"
          ]
        },
        {
          "output_type": "stream",
          "name": "stderr",
          "text": [
            "INFO:NEURONIOUtils:78\t\t2.0\n"
          ]
        },
        {
          "output_type": "stream",
          "name": "stdout",
          "text": [
            "2023-05-12 22:18:53,574 [INFO] 79\t\t2.0\n"
          ]
        },
        {
          "output_type": "stream",
          "name": "stderr",
          "text": [
            "INFO:NEURONIOUtils:79\t\t2.0\n"
          ]
        },
        {
          "output_type": "stream",
          "name": "stdout",
          "text": [
            "2023-05-12 22:18:53,575 [INFO] PGN firing rate avg: 2.0 Hz\n"
          ]
        },
        {
          "output_type": "stream",
          "name": "stderr",
          "text": [
            "INFO:NEURONIOUtils:PGN firing rate avg: 2.0 Hz\n"
          ]
        },
        {
          "output_type": "stream",
          "name": "stdout",
          "text": [
            "2023-05-12 22:18:53,577 [INFO] Grill PGN fr = 1.492 Hz\n"
          ]
        },
        {
          "output_type": "stream",
          "name": "stderr",
          "text": [
            "INFO:NEURONIOUtils:Grill PGN fr = 1.492 Hz\n"
          ]
        },
        {
          "output_type": "stream",
          "name": "stdout",
          "text": [
            "2023-05-12 22:18:53,579 [INFO] IMG node_gid\t  Hz\n"
          ]
        },
        {
          "output_type": "stream",
          "name": "stderr",
          "text": [
            "INFO:NEURONIOUtils:IMG node_gid\t  Hz\n"
          ]
        },
        {
          "output_type": "stream",
          "name": "stdout",
          "text": [
            "2023-05-12 22:18:53,581 [INFO] IMG firing rate avg: 2.0 Hz\n"
          ]
        },
        {
          "output_type": "stream",
          "name": "stderr",
          "text": [
            "INFO:NEURONIOUtils:IMG firing rate avg: 2.0 Hz\n"
          ]
        },
        {
          "output_type": "stream",
          "name": "stdout",
          "text": [
            "2023-05-12 22:18:53,589 [INFO] PGN firing rate = 2.00 Hz\n"
          ]
        },
        {
          "output_type": "stream",
          "name": "stderr",
          "text": [
            "/usr/local/lib/python3.10/dist-packages/bmtk/utils/reports/spike_trains/spike_trains.py:183: RuntimeWarning: divide by zero encountered in double_scalars\n",
            "  interval = -np.log(1.0 - np.random.uniform()) / fr\n",
            "INFO:NEURONIOUtils:PGN firing rate = 2.00 Hz\n"
          ]
        },
        {
          "output_type": "stream",
          "name": "stdout",
          "text": [
            "2023-05-12 22:18:53,593 [INFO] Volume = 3.1250 ml\n"
          ]
        },
        {
          "output_type": "stream",
          "name": "stderr",
          "text": [
            "INFO:NEURONIOUtils:Volume = 3.1250 ml\n"
          ]
        },
        {
          "output_type": "stream",
          "name": "stdout",
          "text": [
            "2023-05-12 22:18:53,595 [INFO] Pressure = 7.37 mmHg\n"
          ]
        },
        {
          "output_type": "stream",
          "name": "stderr",
          "text": [
            "INFO:NEURONIOUtils:Pressure = 7.37 mmHg\n"
          ]
        },
        {
          "output_type": "stream",
          "name": "stdout",
          "text": [
            "2023-05-12 22:18:53,597 [INFO] Calculated bladder afferent firing rate for the next time step = 0.00 Hz \n",
            " \n",
            "\n"
          ]
        },
        {
          "output_type": "stream",
          "name": "stderr",
          "text": [
            "INFO:NEURONIOUtils:Calculated bladder afferent firing rate for the next time step = 0.00 Hz \n",
            " \n",
            "\n"
          ]
        },
        {
          "output_type": "stream",
          "name": "stdout",
          "text": [
            "2023-05-12 22:18:54,807 [INFO]     step:185000 t_sim:37000.00 ms\n"
          ]
        },
        {
          "output_type": "stream",
          "name": "stderr",
          "text": [
            "INFO:NEURONIOUtils:    step:185000 t_sim:37000.00 ms\n"
          ]
        },
        {
          "output_type": "stream",
          "name": "stdout",
          "text": [
            "2023-05-12 22:18:54,817 [INFO] Timestep 36500.0 to 37000.0 ms\n"
          ]
        },
        {
          "output_type": "stream",
          "name": "stderr",
          "text": [
            "INFO:NEURONIOUtils:Timestep 36500.0 to 37000.0 ms\n"
          ]
        },
        {
          "output_type": "stream",
          "name": "stdout",
          "text": [
            "2023-05-12 22:18:54,821 [INFO] PGN node_id\t  Hz\n"
          ]
        },
        {
          "output_type": "stream",
          "name": "stderr",
          "text": [
            "INFO:NEURONIOUtils:PGN node_id\t  Hz\n"
          ]
        },
        {
          "output_type": "stream",
          "name": "stdout",
          "text": [
            "2023-05-12 22:18:54,825 [INFO] 70\t\t6.0\n"
          ]
        },
        {
          "output_type": "stream",
          "name": "stderr",
          "text": [
            "INFO:NEURONIOUtils:70\t\t6.0\n"
          ]
        },
        {
          "output_type": "stream",
          "name": "stdout",
          "text": [
            "2023-05-12 22:18:54,830 [INFO] 71\t\t6.0\n"
          ]
        },
        {
          "output_type": "stream",
          "name": "stderr",
          "text": [
            "INFO:NEURONIOUtils:71\t\t6.0\n"
          ]
        },
        {
          "output_type": "stream",
          "name": "stdout",
          "text": [
            "2023-05-12 22:18:54,832 [INFO] 72\t\t6.0\n"
          ]
        },
        {
          "output_type": "stream",
          "name": "stderr",
          "text": [
            "INFO:NEURONIOUtils:72\t\t6.0\n"
          ]
        },
        {
          "output_type": "stream",
          "name": "stdout",
          "text": [
            "2023-05-12 22:18:54,834 [INFO] 73\t\t6.0\n"
          ]
        },
        {
          "output_type": "stream",
          "name": "stderr",
          "text": [
            "INFO:NEURONIOUtils:73\t\t6.0\n"
          ]
        },
        {
          "output_type": "stream",
          "name": "stdout",
          "text": [
            "2023-05-12 22:18:54,836 [INFO] 74\t\t6.0\n"
          ]
        },
        {
          "output_type": "stream",
          "name": "stderr",
          "text": [
            "INFO:NEURONIOUtils:74\t\t6.0\n"
          ]
        },
        {
          "output_type": "stream",
          "name": "stdout",
          "text": [
            "2023-05-12 22:18:54,838 [INFO] 75\t\t6.0\n"
          ]
        },
        {
          "output_type": "stream",
          "name": "stderr",
          "text": [
            "INFO:NEURONIOUtils:75\t\t6.0\n"
          ]
        },
        {
          "output_type": "stream",
          "name": "stdout",
          "text": [
            "2023-05-12 22:18:54,840 [INFO] 76\t\t6.0\n"
          ]
        },
        {
          "output_type": "stream",
          "name": "stderr",
          "text": [
            "INFO:NEURONIOUtils:76\t\t6.0\n"
          ]
        },
        {
          "output_type": "stream",
          "name": "stdout",
          "text": [
            "2023-05-12 22:18:54,842 [INFO] 77\t\t6.0\n"
          ]
        },
        {
          "output_type": "stream",
          "name": "stderr",
          "text": [
            "INFO:NEURONIOUtils:77\t\t6.0\n"
          ]
        },
        {
          "output_type": "stream",
          "name": "stdout",
          "text": [
            "2023-05-12 22:18:54,844 [INFO] 78\t\t6.0\n"
          ]
        },
        {
          "output_type": "stream",
          "name": "stderr",
          "text": [
            "INFO:NEURONIOUtils:78\t\t6.0\n"
          ]
        },
        {
          "output_type": "stream",
          "name": "stdout",
          "text": [
            "2023-05-12 22:18:54,846 [INFO] 79\t\t6.0\n"
          ]
        },
        {
          "output_type": "stream",
          "name": "stderr",
          "text": [
            "INFO:NEURONIOUtils:79\t\t6.0\n"
          ]
        },
        {
          "output_type": "stream",
          "name": "stdout",
          "text": [
            "2023-05-12 22:18:54,848 [INFO] PGN firing rate avg: 6.0 Hz\n"
          ]
        },
        {
          "output_type": "stream",
          "name": "stderr",
          "text": [
            "INFO:NEURONIOUtils:PGN firing rate avg: 6.0 Hz\n"
          ]
        },
        {
          "output_type": "stream",
          "name": "stdout",
          "text": [
            "2023-05-12 22:18:54,850 [INFO] Grill PGN fr = 4.772 Hz\n"
          ]
        },
        {
          "output_type": "stream",
          "name": "stderr",
          "text": [
            "INFO:NEURONIOUtils:Grill PGN fr = 4.772 Hz\n"
          ]
        },
        {
          "output_type": "stream",
          "name": "stdout",
          "text": [
            "2023-05-12 22:18:54,852 [INFO] IMG node_gid\t  Hz\n"
          ]
        },
        {
          "output_type": "stream",
          "name": "stderr",
          "text": [
            "INFO:NEURONIOUtils:IMG node_gid\t  Hz\n"
          ]
        },
        {
          "output_type": "stream",
          "name": "stdout",
          "text": [
            "2023-05-12 22:18:54,854 [INFO] IMG firing rate avg: 6.0 Hz\n"
          ]
        },
        {
          "output_type": "stream",
          "name": "stderr",
          "text": [
            "INFO:NEURONIOUtils:IMG firing rate avg: 6.0 Hz\n"
          ]
        },
        {
          "output_type": "stream",
          "name": "stdout",
          "text": [
            "2023-05-12 22:18:54,861 [INFO] PGN firing rate = 6.00 Hz\n"
          ]
        },
        {
          "output_type": "stream",
          "name": "stderr",
          "text": [
            "/usr/local/lib/python3.10/dist-packages/bmtk/utils/reports/spike_trains/spike_trains.py:183: RuntimeWarning: divide by zero encountered in double_scalars\n",
            "  interval = -np.log(1.0 - np.random.uniform()) / fr\n",
            "INFO:NEURONIOUtils:PGN firing rate = 6.00 Hz\n"
          ]
        },
        {
          "output_type": "stream",
          "name": "stdout",
          "text": [
            "2023-05-12 22:18:54,866 [INFO] Volume = 4.1667 ml\n"
          ]
        },
        {
          "output_type": "stream",
          "name": "stderr",
          "text": [
            "INFO:NEURONIOUtils:Volume = 4.1667 ml\n"
          ]
        },
        {
          "output_type": "stream",
          "name": "stdout",
          "text": [
            "2023-05-12 22:18:54,868 [INFO] Pressure = 8.19 mmHg\n"
          ]
        },
        {
          "output_type": "stream",
          "name": "stderr",
          "text": [
            "INFO:NEURONIOUtils:Pressure = 8.19 mmHg\n"
          ]
        },
        {
          "output_type": "stream",
          "name": "stdout",
          "text": [
            "2023-05-12 22:18:54,870 [INFO] Calculated bladder afferent firing rate for the next time step = 0.00 Hz \n",
            " \n",
            "\n"
          ]
        },
        {
          "output_type": "stream",
          "name": "stderr",
          "text": [
            "INFO:NEURONIOUtils:Calculated bladder afferent firing rate for the next time step = 0.00 Hz \n",
            " \n",
            "\n"
          ]
        },
        {
          "output_type": "stream",
          "name": "stdout",
          "text": [
            "2023-05-12 22:18:56,087 [INFO]     step:187500 t_sim:37500.00 ms\n"
          ]
        },
        {
          "output_type": "stream",
          "name": "stderr",
          "text": [
            "INFO:NEURONIOUtils:    step:187500 t_sim:37500.00 ms\n"
          ]
        },
        {
          "output_type": "stream",
          "name": "stdout",
          "text": [
            "2023-05-12 22:18:56,097 [INFO] Timestep 37000.0 to 37500.0 ms\n"
          ]
        },
        {
          "output_type": "stream",
          "name": "stderr",
          "text": [
            "INFO:NEURONIOUtils:Timestep 37000.0 to 37500.0 ms\n"
          ]
        },
        {
          "output_type": "stream",
          "name": "stdout",
          "text": [
            "2023-05-12 22:18:56,101 [INFO] PGN node_id\t  Hz\n"
          ]
        },
        {
          "output_type": "stream",
          "name": "stderr",
          "text": [
            "INFO:NEURONIOUtils:PGN node_id\t  Hz\n"
          ]
        },
        {
          "output_type": "stream",
          "name": "stdout",
          "text": [
            "2023-05-12 22:18:56,105 [INFO] 70\t\t2.0\n"
          ]
        },
        {
          "output_type": "stream",
          "name": "stderr",
          "text": [
            "INFO:NEURONIOUtils:70\t\t2.0\n"
          ]
        },
        {
          "output_type": "stream",
          "name": "stdout",
          "text": [
            "2023-05-12 22:18:56,108 [INFO] 71\t\t2.0\n"
          ]
        },
        {
          "output_type": "stream",
          "name": "stderr",
          "text": [
            "INFO:NEURONIOUtils:71\t\t2.0\n"
          ]
        },
        {
          "output_type": "stream",
          "name": "stdout",
          "text": [
            "2023-05-12 22:18:56,110 [INFO] 72\t\t2.0\n"
          ]
        },
        {
          "output_type": "stream",
          "name": "stderr",
          "text": [
            "INFO:NEURONIOUtils:72\t\t2.0\n"
          ]
        },
        {
          "output_type": "stream",
          "name": "stdout",
          "text": [
            "2023-05-12 22:18:56,112 [INFO] 73\t\t2.0\n"
          ]
        },
        {
          "output_type": "stream",
          "name": "stderr",
          "text": [
            "INFO:NEURONIOUtils:73\t\t2.0\n"
          ]
        },
        {
          "output_type": "stream",
          "name": "stdout",
          "text": [
            "2023-05-12 22:18:56,114 [INFO] 74\t\t2.0\n"
          ]
        },
        {
          "output_type": "stream",
          "name": "stderr",
          "text": [
            "INFO:NEURONIOUtils:74\t\t2.0\n"
          ]
        },
        {
          "output_type": "stream",
          "name": "stdout",
          "text": [
            "2023-05-12 22:18:56,116 [INFO] 75\t\t2.0\n"
          ]
        },
        {
          "output_type": "stream",
          "name": "stderr",
          "text": [
            "INFO:NEURONIOUtils:75\t\t2.0\n"
          ]
        },
        {
          "output_type": "stream",
          "name": "stdout",
          "text": [
            "2023-05-12 22:18:56,118 [INFO] 76\t\t2.0\n"
          ]
        },
        {
          "output_type": "stream",
          "name": "stderr",
          "text": [
            "INFO:NEURONIOUtils:76\t\t2.0\n"
          ]
        },
        {
          "output_type": "stream",
          "name": "stdout",
          "text": [
            "2023-05-12 22:18:56,119 [INFO] 77\t\t2.0\n"
          ]
        },
        {
          "output_type": "stream",
          "name": "stderr",
          "text": [
            "INFO:NEURONIOUtils:77\t\t2.0\n"
          ]
        },
        {
          "output_type": "stream",
          "name": "stdout",
          "text": [
            "2023-05-12 22:18:56,121 [INFO] 78\t\t2.0\n"
          ]
        },
        {
          "output_type": "stream",
          "name": "stderr",
          "text": [
            "INFO:NEURONIOUtils:78\t\t2.0\n"
          ]
        },
        {
          "output_type": "stream",
          "name": "stdout",
          "text": [
            "2023-05-12 22:18:56,123 [INFO] 79\t\t2.0\n"
          ]
        },
        {
          "output_type": "stream",
          "name": "stderr",
          "text": [
            "INFO:NEURONIOUtils:79\t\t2.0\n"
          ]
        },
        {
          "output_type": "stream",
          "name": "stdout",
          "text": [
            "2023-05-12 22:18:56,124 [INFO] PGN firing rate avg: 2.0 Hz\n"
          ]
        },
        {
          "output_type": "stream",
          "name": "stderr",
          "text": [
            "INFO:NEURONIOUtils:PGN firing rate avg: 2.0 Hz\n"
          ]
        },
        {
          "output_type": "stream",
          "name": "stdout",
          "text": [
            "2023-05-12 22:18:56,126 [INFO] Grill PGN fr = 1.492 Hz\n"
          ]
        },
        {
          "output_type": "stream",
          "name": "stderr",
          "text": [
            "INFO:NEURONIOUtils:Grill PGN fr = 1.492 Hz\n"
          ]
        },
        {
          "output_type": "stream",
          "name": "stdout",
          "text": [
            "2023-05-12 22:18:56,128 [INFO] IMG node_gid\t  Hz\n"
          ]
        },
        {
          "output_type": "stream",
          "name": "stderr",
          "text": [
            "INFO:NEURONIOUtils:IMG node_gid\t  Hz\n"
          ]
        },
        {
          "output_type": "stream",
          "name": "stdout",
          "text": [
            "2023-05-12 22:18:56,130 [INFO] IMG firing rate avg: 2.0 Hz\n"
          ]
        },
        {
          "output_type": "stream",
          "name": "stderr",
          "text": [
            "INFO:NEURONIOUtils:IMG firing rate avg: 2.0 Hz\n"
          ]
        },
        {
          "output_type": "stream",
          "name": "stdout",
          "text": [
            "2023-05-12 22:18:56,138 [INFO] PGN firing rate = 2.00 Hz\n"
          ]
        },
        {
          "output_type": "stream",
          "name": "stderr",
          "text": [
            "/usr/local/lib/python3.10/dist-packages/bmtk/utils/reports/spike_trains/spike_trains.py:183: RuntimeWarning: divide by zero encountered in double_scalars\n",
            "  interval = -np.log(1.0 - np.random.uniform()) / fr\n",
            "INFO:NEURONIOUtils:PGN firing rate = 2.00 Hz\n"
          ]
        },
        {
          "output_type": "stream",
          "name": "stdout",
          "text": [
            "2023-05-12 22:18:56,145 [INFO] Volume = 5.2083 ml\n"
          ]
        },
        {
          "output_type": "stream",
          "name": "stderr",
          "text": [
            "INFO:NEURONIOUtils:Volume = 5.2083 ml\n"
          ]
        },
        {
          "output_type": "stream",
          "name": "stdout",
          "text": [
            "2023-05-12 22:18:56,147 [INFO] Pressure = 7.37 mmHg\n"
          ]
        },
        {
          "output_type": "stream",
          "name": "stderr",
          "text": [
            "INFO:NEURONIOUtils:Pressure = 7.37 mmHg\n"
          ]
        },
        {
          "output_type": "stream",
          "name": "stdout",
          "text": [
            "2023-05-12 22:18:56,149 [INFO] Calculated bladder afferent firing rate for the next time step = 0.00 Hz \n",
            " \n",
            "\n"
          ]
        },
        {
          "output_type": "stream",
          "name": "stderr",
          "text": [
            "INFO:NEURONIOUtils:Calculated bladder afferent firing rate for the next time step = 0.00 Hz \n",
            " \n",
            "\n"
          ]
        },
        {
          "output_type": "stream",
          "name": "stdout",
          "text": [
            "2023-05-12 22:18:57,382 [INFO]     step:190000 t_sim:38000.00 ms\n"
          ]
        },
        {
          "output_type": "stream",
          "name": "stderr",
          "text": [
            "INFO:NEURONIOUtils:    step:190000 t_sim:38000.00 ms\n"
          ]
        },
        {
          "output_type": "stream",
          "name": "stdout",
          "text": [
            "2023-05-12 22:18:57,393 [INFO] Timestep 37500.0 to 38000.0 ms\n"
          ]
        },
        {
          "output_type": "stream",
          "name": "stderr",
          "text": [
            "INFO:NEURONIOUtils:Timestep 37500.0 to 38000.0 ms\n"
          ]
        },
        {
          "output_type": "stream",
          "name": "stdout",
          "text": [
            "2023-05-12 22:18:57,397 [INFO] PGN node_id\t  Hz\n"
          ]
        },
        {
          "output_type": "stream",
          "name": "stderr",
          "text": [
            "INFO:NEURONIOUtils:PGN node_id\t  Hz\n"
          ]
        },
        {
          "output_type": "stream",
          "name": "stdout",
          "text": [
            "2023-05-12 22:18:57,400 [INFO] 70\t\t4.0\n"
          ]
        },
        {
          "output_type": "stream",
          "name": "stderr",
          "text": [
            "INFO:NEURONIOUtils:70\t\t4.0\n"
          ]
        },
        {
          "output_type": "stream",
          "name": "stdout",
          "text": [
            "2023-05-12 22:18:57,404 [INFO] 71\t\t4.0\n"
          ]
        },
        {
          "output_type": "stream",
          "name": "stderr",
          "text": [
            "INFO:NEURONIOUtils:71\t\t4.0\n"
          ]
        },
        {
          "output_type": "stream",
          "name": "stdout",
          "text": [
            "2023-05-12 22:18:57,406 [INFO] 72\t\t4.0\n"
          ]
        },
        {
          "output_type": "stream",
          "name": "stderr",
          "text": [
            "INFO:NEURONIOUtils:72\t\t4.0\n"
          ]
        },
        {
          "output_type": "stream",
          "name": "stdout",
          "text": [
            "2023-05-12 22:18:57,408 [INFO] 73\t\t4.0\n"
          ]
        },
        {
          "output_type": "stream",
          "name": "stderr",
          "text": [
            "INFO:NEURONIOUtils:73\t\t4.0\n"
          ]
        },
        {
          "output_type": "stream",
          "name": "stdout",
          "text": [
            "2023-05-12 22:18:57,410 [INFO] 74\t\t4.0\n"
          ]
        },
        {
          "output_type": "stream",
          "name": "stderr",
          "text": [
            "INFO:NEURONIOUtils:74\t\t4.0\n"
          ]
        },
        {
          "output_type": "stream",
          "name": "stdout",
          "text": [
            "2023-05-12 22:18:57,412 [INFO] 75\t\t4.0\n"
          ]
        },
        {
          "output_type": "stream",
          "name": "stderr",
          "text": [
            "INFO:NEURONIOUtils:75\t\t4.0\n"
          ]
        },
        {
          "output_type": "stream",
          "name": "stdout",
          "text": [
            "2023-05-12 22:18:57,414 [INFO] 76\t\t4.0\n"
          ]
        },
        {
          "output_type": "stream",
          "name": "stderr",
          "text": [
            "INFO:NEURONIOUtils:76\t\t4.0\n"
          ]
        },
        {
          "output_type": "stream",
          "name": "stdout",
          "text": [
            "2023-05-12 22:18:57,416 [INFO] 77\t\t4.0\n"
          ]
        },
        {
          "output_type": "stream",
          "name": "stderr",
          "text": [
            "INFO:NEURONIOUtils:77\t\t4.0\n"
          ]
        },
        {
          "output_type": "stream",
          "name": "stdout",
          "text": [
            "2023-05-12 22:18:57,418 [INFO] 78\t\t4.0\n"
          ]
        },
        {
          "output_type": "stream",
          "name": "stderr",
          "text": [
            "INFO:NEURONIOUtils:78\t\t4.0\n"
          ]
        },
        {
          "output_type": "stream",
          "name": "stdout",
          "text": [
            "2023-05-12 22:18:57,420 [INFO] 79\t\t4.0\n"
          ]
        },
        {
          "output_type": "stream",
          "name": "stderr",
          "text": [
            "INFO:NEURONIOUtils:79\t\t4.0\n"
          ]
        },
        {
          "output_type": "stream",
          "name": "stdout",
          "text": [
            "2023-05-12 22:18:57,422 [INFO] PGN firing rate avg: 4.0 Hz\n"
          ]
        },
        {
          "output_type": "stream",
          "name": "stderr",
          "text": [
            "INFO:NEURONIOUtils:PGN firing rate avg: 4.0 Hz\n"
          ]
        },
        {
          "output_type": "stream",
          "name": "stdout",
          "text": [
            "2023-05-12 22:18:57,424 [INFO] Grill PGN fr = 3.15 Hz\n"
          ]
        },
        {
          "output_type": "stream",
          "name": "stderr",
          "text": [
            "INFO:NEURONIOUtils:Grill PGN fr = 3.15 Hz\n"
          ]
        },
        {
          "output_type": "stream",
          "name": "stdout",
          "text": [
            "2023-05-12 22:18:57,425 [INFO] IMG node_gid\t  Hz\n"
          ]
        },
        {
          "output_type": "stream",
          "name": "stderr",
          "text": [
            "INFO:NEURONIOUtils:IMG node_gid\t  Hz\n"
          ]
        },
        {
          "output_type": "stream",
          "name": "stdout",
          "text": [
            "2023-05-12 22:18:57,427 [INFO] IMG firing rate avg: 4.0 Hz\n"
          ]
        },
        {
          "output_type": "stream",
          "name": "stderr",
          "text": [
            "INFO:NEURONIOUtils:IMG firing rate avg: 4.0 Hz\n"
          ]
        },
        {
          "output_type": "stream",
          "name": "stdout",
          "text": [
            "2023-05-12 22:18:57,436 [INFO] PGN firing rate = 4.00 Hz\n"
          ]
        },
        {
          "output_type": "stream",
          "name": "stderr",
          "text": [
            "/usr/local/lib/python3.10/dist-packages/bmtk/utils/reports/spike_trains/spike_trains.py:183: RuntimeWarning: divide by zero encountered in double_scalars\n",
            "  interval = -np.log(1.0 - np.random.uniform()) / fr\n",
            "INFO:NEURONIOUtils:PGN firing rate = 4.00 Hz\n"
          ]
        },
        {
          "output_type": "stream",
          "name": "stdout",
          "text": [
            "2023-05-12 22:18:57,441 [INFO] Volume = 6.2500 ml\n"
          ]
        },
        {
          "output_type": "stream",
          "name": "stderr",
          "text": [
            "INFO:NEURONIOUtils:Volume = 6.2500 ml\n"
          ]
        },
        {
          "output_type": "stream",
          "name": "stdout",
          "text": [
            "2023-05-12 22:18:57,443 [INFO] Pressure = 7.79 mmHg\n"
          ]
        },
        {
          "output_type": "stream",
          "name": "stderr",
          "text": [
            "INFO:NEURONIOUtils:Pressure = 7.79 mmHg\n"
          ]
        },
        {
          "output_type": "stream",
          "name": "stdout",
          "text": [
            "2023-05-12 22:18:57,445 [INFO] Calculated bladder afferent firing rate for the next time step = 0.00 Hz \n",
            " \n",
            "\n"
          ]
        },
        {
          "output_type": "stream",
          "name": "stderr",
          "text": [
            "INFO:NEURONIOUtils:Calculated bladder afferent firing rate for the next time step = 0.00 Hz \n",
            " \n",
            "\n"
          ]
        },
        {
          "output_type": "stream",
          "name": "stdout",
          "text": [
            "2023-05-12 22:18:58,672 [INFO]     step:192500 t_sim:38500.00 ms\n"
          ]
        },
        {
          "output_type": "stream",
          "name": "stderr",
          "text": [
            "INFO:NEURONIOUtils:    step:192500 t_sim:38500.00 ms\n"
          ]
        },
        {
          "output_type": "stream",
          "name": "stdout",
          "text": [
            "2023-05-12 22:18:58,681 [INFO] Timestep 38000.0 to 38500.0 ms\n"
          ]
        },
        {
          "output_type": "stream",
          "name": "stderr",
          "text": [
            "INFO:NEURONIOUtils:Timestep 38000.0 to 38500.0 ms\n"
          ]
        },
        {
          "output_type": "stream",
          "name": "stdout",
          "text": [
            "2023-05-12 22:18:58,685 [INFO] PGN node_id\t  Hz\n"
          ]
        },
        {
          "output_type": "stream",
          "name": "stderr",
          "text": [
            "INFO:NEURONIOUtils:PGN node_id\t  Hz\n"
          ]
        },
        {
          "output_type": "stream",
          "name": "stdout",
          "text": [
            "2023-05-12 22:18:58,688 [INFO] 70\t\t4.0\n"
          ]
        },
        {
          "output_type": "stream",
          "name": "stderr",
          "text": [
            "INFO:NEURONIOUtils:70\t\t4.0\n"
          ]
        },
        {
          "output_type": "stream",
          "name": "stdout",
          "text": [
            "2023-05-12 22:18:58,692 [INFO] 71\t\t4.0\n"
          ]
        },
        {
          "output_type": "stream",
          "name": "stderr",
          "text": [
            "INFO:NEURONIOUtils:71\t\t4.0\n"
          ]
        },
        {
          "output_type": "stream",
          "name": "stdout",
          "text": [
            "2023-05-12 22:18:58,694 [INFO] 72\t\t4.0\n"
          ]
        },
        {
          "output_type": "stream",
          "name": "stderr",
          "text": [
            "INFO:NEURONIOUtils:72\t\t4.0\n"
          ]
        },
        {
          "output_type": "stream",
          "name": "stdout",
          "text": [
            "2023-05-12 22:18:58,695 [INFO] 73\t\t4.0\n"
          ]
        },
        {
          "output_type": "stream",
          "name": "stderr",
          "text": [
            "INFO:NEURONIOUtils:73\t\t4.0\n"
          ]
        },
        {
          "output_type": "stream",
          "name": "stdout",
          "text": [
            "2023-05-12 22:18:58,697 [INFO] 74\t\t4.0\n"
          ]
        },
        {
          "output_type": "stream",
          "name": "stderr",
          "text": [
            "INFO:NEURONIOUtils:74\t\t4.0\n"
          ]
        },
        {
          "output_type": "stream",
          "name": "stdout",
          "text": [
            "2023-05-12 22:18:58,699 [INFO] 75\t\t4.0\n"
          ]
        },
        {
          "output_type": "stream",
          "name": "stderr",
          "text": [
            "INFO:NEURONIOUtils:75\t\t4.0\n"
          ]
        },
        {
          "output_type": "stream",
          "name": "stdout",
          "text": [
            "2023-05-12 22:18:58,700 [INFO] 76\t\t4.0\n"
          ]
        },
        {
          "output_type": "stream",
          "name": "stderr",
          "text": [
            "INFO:NEURONIOUtils:76\t\t4.0\n"
          ]
        },
        {
          "output_type": "stream",
          "name": "stdout",
          "text": [
            "2023-05-12 22:18:58,702 [INFO] 77\t\t4.0\n"
          ]
        },
        {
          "output_type": "stream",
          "name": "stderr",
          "text": [
            "INFO:NEURONIOUtils:77\t\t4.0\n"
          ]
        },
        {
          "output_type": "stream",
          "name": "stdout",
          "text": [
            "2023-05-12 22:18:58,704 [INFO] 78\t\t4.0\n"
          ]
        },
        {
          "output_type": "stream",
          "name": "stderr",
          "text": [
            "INFO:NEURONIOUtils:78\t\t4.0\n"
          ]
        },
        {
          "output_type": "stream",
          "name": "stdout",
          "text": [
            "2023-05-12 22:18:58,706 [INFO] 79\t\t4.0\n"
          ]
        },
        {
          "output_type": "stream",
          "name": "stderr",
          "text": [
            "INFO:NEURONIOUtils:79\t\t4.0\n"
          ]
        },
        {
          "output_type": "stream",
          "name": "stdout",
          "text": [
            "2023-05-12 22:18:58,707 [INFO] PGN firing rate avg: 4.0 Hz\n"
          ]
        },
        {
          "output_type": "stream",
          "name": "stderr",
          "text": [
            "INFO:NEURONIOUtils:PGN firing rate avg: 4.0 Hz\n"
          ]
        },
        {
          "output_type": "stream",
          "name": "stdout",
          "text": [
            "2023-05-12 22:18:58,709 [INFO] Grill PGN fr = 3.15 Hz\n"
          ]
        },
        {
          "output_type": "stream",
          "name": "stderr",
          "text": [
            "INFO:NEURONIOUtils:Grill PGN fr = 3.15 Hz\n"
          ]
        },
        {
          "output_type": "stream",
          "name": "stdout",
          "text": [
            "2023-05-12 22:18:58,711 [INFO] IMG node_gid\t  Hz\n"
          ]
        },
        {
          "output_type": "stream",
          "name": "stderr",
          "text": [
            "INFO:NEURONIOUtils:IMG node_gid\t  Hz\n"
          ]
        },
        {
          "output_type": "stream",
          "name": "stdout",
          "text": [
            "2023-05-12 22:18:58,713 [INFO] IMG firing rate avg: 4.0 Hz\n"
          ]
        },
        {
          "output_type": "stream",
          "name": "stderr",
          "text": [
            "INFO:NEURONIOUtils:IMG firing rate avg: 4.0 Hz\n"
          ]
        },
        {
          "output_type": "stream",
          "name": "stdout",
          "text": [
            "2023-05-12 22:18:58,721 [INFO] PGN firing rate = 4.00 Hz\n"
          ]
        },
        {
          "output_type": "stream",
          "name": "stderr",
          "text": [
            "/usr/local/lib/python3.10/dist-packages/bmtk/utils/reports/spike_trains/spike_trains.py:183: RuntimeWarning: divide by zero encountered in double_scalars\n",
            "  interval = -np.log(1.0 - np.random.uniform()) / fr\n",
            "INFO:NEURONIOUtils:PGN firing rate = 4.00 Hz\n"
          ]
        },
        {
          "output_type": "stream",
          "name": "stdout",
          "text": [
            "2023-05-12 22:18:58,726 [INFO] Volume = 7.2917 ml\n"
          ]
        },
        {
          "output_type": "stream",
          "name": "stderr",
          "text": [
            "INFO:NEURONIOUtils:Volume = 7.2917 ml\n"
          ]
        },
        {
          "output_type": "stream",
          "name": "stdout",
          "text": [
            "2023-05-12 22:18:58,728 [INFO] Pressure = 7.79 mmHg\n"
          ]
        },
        {
          "output_type": "stream",
          "name": "stderr",
          "text": [
            "INFO:NEURONIOUtils:Pressure = 7.79 mmHg\n"
          ]
        },
        {
          "output_type": "stream",
          "name": "stdout",
          "text": [
            "2023-05-12 22:18:58,730 [INFO] Calculated bladder afferent firing rate for the next time step = 0.00 Hz \n",
            " \n",
            "\n"
          ]
        },
        {
          "output_type": "stream",
          "name": "stderr",
          "text": [
            "INFO:NEURONIOUtils:Calculated bladder afferent firing rate for the next time step = 0.00 Hz \n",
            " \n",
            "\n"
          ]
        },
        {
          "output_type": "stream",
          "name": "stdout",
          "text": [
            "2023-05-12 22:19:00,028 [INFO]     step:195000 t_sim:39000.00 ms\n"
          ]
        },
        {
          "output_type": "stream",
          "name": "stderr",
          "text": [
            "INFO:NEURONIOUtils:    step:195000 t_sim:39000.00 ms\n"
          ]
        },
        {
          "output_type": "stream",
          "name": "stdout",
          "text": [
            "2023-05-12 22:19:00,037 [INFO] Timestep 38500.0 to 39000.0 ms\n"
          ]
        },
        {
          "output_type": "stream",
          "name": "stderr",
          "text": [
            "INFO:NEURONIOUtils:Timestep 38500.0 to 39000.0 ms\n"
          ]
        },
        {
          "output_type": "stream",
          "name": "stdout",
          "text": [
            "2023-05-12 22:19:00,041 [INFO] PGN node_id\t  Hz\n"
          ]
        },
        {
          "output_type": "stream",
          "name": "stderr",
          "text": [
            "INFO:NEURONIOUtils:PGN node_id\t  Hz\n"
          ]
        },
        {
          "output_type": "stream",
          "name": "stdout",
          "text": [
            "2023-05-12 22:19:00,044 [INFO] 70\t\t4.0\n"
          ]
        },
        {
          "output_type": "stream",
          "name": "stderr",
          "text": [
            "INFO:NEURONIOUtils:70\t\t4.0\n"
          ]
        },
        {
          "output_type": "stream",
          "name": "stdout",
          "text": [
            "2023-05-12 22:19:00,047 [INFO] 71\t\t4.0\n"
          ]
        },
        {
          "output_type": "stream",
          "name": "stderr",
          "text": [
            "INFO:NEURONIOUtils:71\t\t4.0\n"
          ]
        },
        {
          "output_type": "stream",
          "name": "stdout",
          "text": [
            "2023-05-12 22:19:00,050 [INFO] 72\t\t4.0\n"
          ]
        },
        {
          "output_type": "stream",
          "name": "stderr",
          "text": [
            "INFO:NEURONIOUtils:72\t\t4.0\n"
          ]
        },
        {
          "output_type": "stream",
          "name": "stdout",
          "text": [
            "2023-05-12 22:19:00,052 [INFO] 73\t\t4.0\n"
          ]
        },
        {
          "output_type": "stream",
          "name": "stderr",
          "text": [
            "INFO:NEURONIOUtils:73\t\t4.0\n"
          ]
        },
        {
          "output_type": "stream",
          "name": "stdout",
          "text": [
            "2023-05-12 22:19:00,054 [INFO] 74\t\t4.0\n"
          ]
        },
        {
          "output_type": "stream",
          "name": "stderr",
          "text": [
            "INFO:NEURONIOUtils:74\t\t4.0\n"
          ]
        },
        {
          "output_type": "stream",
          "name": "stdout",
          "text": [
            "2023-05-12 22:19:00,056 [INFO] 75\t\t4.0\n"
          ]
        },
        {
          "output_type": "stream",
          "name": "stderr",
          "text": [
            "INFO:NEURONIOUtils:75\t\t4.0\n"
          ]
        },
        {
          "output_type": "stream",
          "name": "stdout",
          "text": [
            "2023-05-12 22:19:00,058 [INFO] 76\t\t4.0\n"
          ]
        },
        {
          "output_type": "stream",
          "name": "stderr",
          "text": [
            "INFO:NEURONIOUtils:76\t\t4.0\n"
          ]
        },
        {
          "output_type": "stream",
          "name": "stdout",
          "text": [
            "2023-05-12 22:19:00,060 [INFO] 77\t\t4.0\n"
          ]
        },
        {
          "output_type": "stream",
          "name": "stderr",
          "text": [
            "INFO:NEURONIOUtils:77\t\t4.0\n"
          ]
        },
        {
          "output_type": "stream",
          "name": "stdout",
          "text": [
            "2023-05-12 22:19:00,062 [INFO] 78\t\t4.0\n"
          ]
        },
        {
          "output_type": "stream",
          "name": "stderr",
          "text": [
            "INFO:NEURONIOUtils:78\t\t4.0\n"
          ]
        },
        {
          "output_type": "stream",
          "name": "stdout",
          "text": [
            "2023-05-12 22:19:00,064 [INFO] 79\t\t4.0\n"
          ]
        },
        {
          "output_type": "stream",
          "name": "stderr",
          "text": [
            "INFO:NEURONIOUtils:79\t\t4.0\n"
          ]
        },
        {
          "output_type": "stream",
          "name": "stdout",
          "text": [
            "2023-05-12 22:19:00,065 [INFO] PGN firing rate avg: 4.0 Hz\n"
          ]
        },
        {
          "output_type": "stream",
          "name": "stderr",
          "text": [
            "INFO:NEURONIOUtils:PGN firing rate avg: 4.0 Hz\n"
          ]
        },
        {
          "output_type": "stream",
          "name": "stdout",
          "text": [
            "2023-05-12 22:19:00,067 [INFO] Grill PGN fr = 3.15 Hz\n"
          ]
        },
        {
          "output_type": "stream",
          "name": "stderr",
          "text": [
            "INFO:NEURONIOUtils:Grill PGN fr = 3.15 Hz\n"
          ]
        },
        {
          "output_type": "stream",
          "name": "stdout",
          "text": [
            "2023-05-12 22:19:00,069 [INFO] IMG node_gid\t  Hz\n"
          ]
        },
        {
          "output_type": "stream",
          "name": "stderr",
          "text": [
            "INFO:NEURONIOUtils:IMG node_gid\t  Hz\n"
          ]
        },
        {
          "output_type": "stream",
          "name": "stdout",
          "text": [
            "2023-05-12 22:19:00,071 [INFO] IMG firing rate avg: 4.0 Hz\n"
          ]
        },
        {
          "output_type": "stream",
          "name": "stderr",
          "text": [
            "INFO:NEURONIOUtils:IMG firing rate avg: 4.0 Hz\n"
          ]
        },
        {
          "output_type": "stream",
          "name": "stdout",
          "text": [
            "2023-05-12 22:19:00,079 [INFO] PGN firing rate = 4.00 Hz\n"
          ]
        },
        {
          "output_type": "stream",
          "name": "stderr",
          "text": [
            "/usr/local/lib/python3.10/dist-packages/bmtk/utils/reports/spike_trains/spike_trains.py:183: RuntimeWarning: divide by zero encountered in double_scalars\n",
            "  interval = -np.log(1.0 - np.random.uniform()) / fr\n",
            "INFO:NEURONIOUtils:PGN firing rate = 4.00 Hz\n"
          ]
        },
        {
          "output_type": "stream",
          "name": "stdout",
          "text": [
            "2023-05-12 22:19:00,087 [INFO] Volume = 8.3333 ml\n"
          ]
        },
        {
          "output_type": "stream",
          "name": "stderr",
          "text": [
            "INFO:NEURONIOUtils:Volume = 8.3333 ml\n"
          ]
        },
        {
          "output_type": "stream",
          "name": "stdout",
          "text": [
            "2023-05-12 22:19:00,089 [INFO] Pressure = 7.79 mmHg\n"
          ]
        },
        {
          "output_type": "stream",
          "name": "stderr",
          "text": [
            "INFO:NEURONIOUtils:Pressure = 7.79 mmHg\n"
          ]
        },
        {
          "output_type": "stream",
          "name": "stdout",
          "text": [
            "2023-05-12 22:19:00,091 [INFO] Calculated bladder afferent firing rate for the next time step = 0.00 Hz \n",
            " \n",
            "\n"
          ]
        },
        {
          "output_type": "stream",
          "name": "stderr",
          "text": [
            "INFO:NEURONIOUtils:Calculated bladder afferent firing rate for the next time step = 0.00 Hz \n",
            " \n",
            "\n"
          ]
        },
        {
          "output_type": "stream",
          "name": "stdout",
          "text": [
            "2023-05-12 22:19:01,391 [INFO]     step:197500 t_sim:39500.00 ms\n"
          ]
        },
        {
          "output_type": "stream",
          "name": "stderr",
          "text": [
            "INFO:NEURONIOUtils:    step:197500 t_sim:39500.00 ms\n"
          ]
        },
        {
          "output_type": "stream",
          "name": "stdout",
          "text": [
            "2023-05-12 22:19:01,402 [INFO] Timestep 39000.0 to 39500.0 ms\n"
          ]
        },
        {
          "output_type": "stream",
          "name": "stderr",
          "text": [
            "INFO:NEURONIOUtils:Timestep 39000.0 to 39500.0 ms\n"
          ]
        },
        {
          "output_type": "stream",
          "name": "stdout",
          "text": [
            "2023-05-12 22:19:01,406 [INFO] PGN node_id\t  Hz\n"
          ]
        },
        {
          "output_type": "stream",
          "name": "stderr",
          "text": [
            "INFO:NEURONIOUtils:PGN node_id\t  Hz\n"
          ]
        },
        {
          "output_type": "stream",
          "name": "stdout",
          "text": [
            "2023-05-12 22:19:01,410 [INFO] 70\t\t4.0\n"
          ]
        },
        {
          "output_type": "stream",
          "name": "stderr",
          "text": [
            "INFO:NEURONIOUtils:70\t\t4.0\n"
          ]
        },
        {
          "output_type": "stream",
          "name": "stdout",
          "text": [
            "2023-05-12 22:19:01,413 [INFO] 71\t\t4.0\n"
          ]
        },
        {
          "output_type": "stream",
          "name": "stderr",
          "text": [
            "INFO:NEURONIOUtils:71\t\t4.0\n"
          ]
        },
        {
          "output_type": "stream",
          "name": "stdout",
          "text": [
            "2023-05-12 22:19:01,415 [INFO] 72\t\t4.0\n"
          ]
        },
        {
          "output_type": "stream",
          "name": "stderr",
          "text": [
            "INFO:NEURONIOUtils:72\t\t4.0\n"
          ]
        },
        {
          "output_type": "stream",
          "name": "stdout",
          "text": [
            "2023-05-12 22:19:01,417 [INFO] 73\t\t4.0\n"
          ]
        },
        {
          "output_type": "stream",
          "name": "stderr",
          "text": [
            "INFO:NEURONIOUtils:73\t\t4.0\n"
          ]
        },
        {
          "output_type": "stream",
          "name": "stdout",
          "text": [
            "2023-05-12 22:19:01,420 [INFO] 74\t\t4.0\n"
          ]
        },
        {
          "output_type": "stream",
          "name": "stderr",
          "text": [
            "INFO:NEURONIOUtils:74\t\t4.0\n"
          ]
        },
        {
          "output_type": "stream",
          "name": "stdout",
          "text": [
            "2023-05-12 22:19:01,422 [INFO] 75\t\t4.0\n"
          ]
        },
        {
          "output_type": "stream",
          "name": "stderr",
          "text": [
            "INFO:NEURONIOUtils:75\t\t4.0\n"
          ]
        },
        {
          "output_type": "stream",
          "name": "stdout",
          "text": [
            "2023-05-12 22:19:01,424 [INFO] 76\t\t4.0\n"
          ]
        },
        {
          "output_type": "stream",
          "name": "stderr",
          "text": [
            "INFO:NEURONIOUtils:76\t\t4.0\n"
          ]
        },
        {
          "output_type": "stream",
          "name": "stdout",
          "text": [
            "2023-05-12 22:19:01,426 [INFO] 77\t\t4.0\n"
          ]
        },
        {
          "output_type": "stream",
          "name": "stderr",
          "text": [
            "INFO:NEURONIOUtils:77\t\t4.0\n"
          ]
        },
        {
          "output_type": "stream",
          "name": "stdout",
          "text": [
            "2023-05-12 22:19:01,428 [INFO] 78\t\t4.0\n"
          ]
        },
        {
          "output_type": "stream",
          "name": "stderr",
          "text": [
            "INFO:NEURONIOUtils:78\t\t4.0\n"
          ]
        },
        {
          "output_type": "stream",
          "name": "stdout",
          "text": [
            "2023-05-12 22:19:01,430 [INFO] 79\t\t4.0\n"
          ]
        },
        {
          "output_type": "stream",
          "name": "stderr",
          "text": [
            "INFO:NEURONIOUtils:79\t\t4.0\n"
          ]
        },
        {
          "output_type": "stream",
          "name": "stdout",
          "text": [
            "2023-05-12 22:19:01,432 [INFO] PGN firing rate avg: 4.0 Hz\n"
          ]
        },
        {
          "output_type": "stream",
          "name": "stderr",
          "text": [
            "INFO:NEURONIOUtils:PGN firing rate avg: 4.0 Hz\n"
          ]
        },
        {
          "output_type": "stream",
          "name": "stdout",
          "text": [
            "2023-05-12 22:19:01,434 [INFO] Grill PGN fr = 3.15 Hz\n"
          ]
        },
        {
          "output_type": "stream",
          "name": "stderr",
          "text": [
            "INFO:NEURONIOUtils:Grill PGN fr = 3.15 Hz\n"
          ]
        },
        {
          "output_type": "stream",
          "name": "stdout",
          "text": [
            "2023-05-12 22:19:01,436 [INFO] IMG node_gid\t  Hz\n"
          ]
        },
        {
          "output_type": "stream",
          "name": "stderr",
          "text": [
            "INFO:NEURONIOUtils:IMG node_gid\t  Hz\n"
          ]
        },
        {
          "output_type": "stream",
          "name": "stdout",
          "text": [
            "2023-05-12 22:19:01,437 [INFO] IMG firing rate avg: 4.0 Hz\n"
          ]
        },
        {
          "output_type": "stream",
          "name": "stderr",
          "text": [
            "INFO:NEURONIOUtils:IMG firing rate avg: 4.0 Hz\n"
          ]
        },
        {
          "output_type": "stream",
          "name": "stdout",
          "text": [
            "2023-05-12 22:19:01,446 [INFO] PGN firing rate = 4.00 Hz\n"
          ]
        },
        {
          "output_type": "stream",
          "name": "stderr",
          "text": [
            "/usr/local/lib/python3.10/dist-packages/bmtk/utils/reports/spike_trains/spike_trains.py:183: RuntimeWarning: divide by zero encountered in double_scalars\n",
            "  interval = -np.log(1.0 - np.random.uniform()) / fr\n",
            "INFO:NEURONIOUtils:PGN firing rate = 4.00 Hz\n"
          ]
        },
        {
          "output_type": "stream",
          "name": "stdout",
          "text": [
            "2023-05-12 22:19:01,453 [INFO] Volume = 9.3750 ml\n"
          ]
        },
        {
          "output_type": "stream",
          "name": "stderr",
          "text": [
            "INFO:NEURONIOUtils:Volume = 9.3750 ml\n"
          ]
        },
        {
          "output_type": "stream",
          "name": "stdout",
          "text": [
            "2023-05-12 22:19:01,455 [INFO] Pressure = 7.79 mmHg\n"
          ]
        },
        {
          "output_type": "stream",
          "name": "stderr",
          "text": [
            "INFO:NEURONIOUtils:Pressure = 7.79 mmHg\n"
          ]
        },
        {
          "output_type": "stream",
          "name": "stdout",
          "text": [
            "2023-05-12 22:19:01,457 [INFO] Calculated bladder afferent firing rate for the next time step = 0.00 Hz \n",
            " \n",
            "\n"
          ]
        },
        {
          "output_type": "stream",
          "name": "stderr",
          "text": [
            "INFO:NEURONIOUtils:Calculated bladder afferent firing rate for the next time step = 0.00 Hz \n",
            " \n",
            "\n"
          ]
        },
        {
          "output_type": "stream",
          "name": "stdout",
          "text": [
            "2023-05-12 22:19:02,778 [INFO]     step:200000 t_sim:40000.00 ms\n"
          ]
        },
        {
          "output_type": "stream",
          "name": "stderr",
          "text": [
            "INFO:NEURONIOUtils:    step:200000 t_sim:40000.00 ms\n"
          ]
        },
        {
          "output_type": "stream",
          "name": "stdout",
          "text": [
            "2023-05-12 22:19:02,787 [INFO] Timestep 39500.0 to 40000.0 ms\n"
          ]
        },
        {
          "output_type": "stream",
          "name": "stderr",
          "text": [
            "INFO:NEURONIOUtils:Timestep 39500.0 to 40000.0 ms\n"
          ]
        },
        {
          "output_type": "stream",
          "name": "stdout",
          "text": [
            "2023-05-12 22:19:02,791 [INFO] PGN node_id\t  Hz\n"
          ]
        },
        {
          "output_type": "stream",
          "name": "stderr",
          "text": [
            "INFO:NEURONIOUtils:PGN node_id\t  Hz\n"
          ]
        },
        {
          "output_type": "stream",
          "name": "stdout",
          "text": [
            "2023-05-12 22:19:02,795 [INFO] 70\t\t4.0\n"
          ]
        },
        {
          "output_type": "stream",
          "name": "stderr",
          "text": [
            "INFO:NEURONIOUtils:70\t\t4.0\n"
          ]
        },
        {
          "output_type": "stream",
          "name": "stdout",
          "text": [
            "2023-05-12 22:19:02,798 [INFO] 71\t\t4.0\n"
          ]
        },
        {
          "output_type": "stream",
          "name": "stderr",
          "text": [
            "INFO:NEURONIOUtils:71\t\t4.0\n"
          ]
        },
        {
          "output_type": "stream",
          "name": "stdout",
          "text": [
            "2023-05-12 22:19:02,800 [INFO] 72\t\t4.0\n"
          ]
        },
        {
          "output_type": "stream",
          "name": "stderr",
          "text": [
            "INFO:NEURONIOUtils:72\t\t4.0\n"
          ]
        },
        {
          "output_type": "stream",
          "name": "stdout",
          "text": [
            "2023-05-12 22:19:02,802 [INFO] 73\t\t4.0\n"
          ]
        },
        {
          "output_type": "stream",
          "name": "stderr",
          "text": [
            "INFO:NEURONIOUtils:73\t\t4.0\n"
          ]
        },
        {
          "output_type": "stream",
          "name": "stdout",
          "text": [
            "2023-05-12 22:19:02,804 [INFO] 74\t\t4.0\n"
          ]
        },
        {
          "output_type": "stream",
          "name": "stderr",
          "text": [
            "INFO:NEURONIOUtils:74\t\t4.0\n"
          ]
        },
        {
          "output_type": "stream",
          "name": "stdout",
          "text": [
            "2023-05-12 22:19:02,806 [INFO] 75\t\t4.0\n"
          ]
        },
        {
          "output_type": "stream",
          "name": "stderr",
          "text": [
            "INFO:NEURONIOUtils:75\t\t4.0\n"
          ]
        },
        {
          "output_type": "stream",
          "name": "stdout",
          "text": [
            "2023-05-12 22:19:02,808 [INFO] 76\t\t4.0\n"
          ]
        },
        {
          "output_type": "stream",
          "name": "stderr",
          "text": [
            "INFO:NEURONIOUtils:76\t\t4.0\n"
          ]
        },
        {
          "output_type": "stream",
          "name": "stdout",
          "text": [
            "2023-05-12 22:19:02,810 [INFO] 77\t\t4.0\n"
          ]
        },
        {
          "output_type": "stream",
          "name": "stderr",
          "text": [
            "INFO:NEURONIOUtils:77\t\t4.0\n"
          ]
        },
        {
          "output_type": "stream",
          "name": "stdout",
          "text": [
            "2023-05-12 22:19:02,812 [INFO] 78\t\t4.0\n"
          ]
        },
        {
          "output_type": "stream",
          "name": "stderr",
          "text": [
            "INFO:NEURONIOUtils:78\t\t4.0\n"
          ]
        },
        {
          "output_type": "stream",
          "name": "stdout",
          "text": [
            "2023-05-12 22:19:02,813 [INFO] 79\t\t4.0\n"
          ]
        },
        {
          "output_type": "stream",
          "name": "stderr",
          "text": [
            "INFO:NEURONIOUtils:79\t\t4.0\n"
          ]
        },
        {
          "output_type": "stream",
          "name": "stdout",
          "text": [
            "2023-05-12 22:19:02,815 [INFO] PGN firing rate avg: 4.0 Hz\n"
          ]
        },
        {
          "output_type": "stream",
          "name": "stderr",
          "text": [
            "INFO:NEURONIOUtils:PGN firing rate avg: 4.0 Hz\n"
          ]
        },
        {
          "output_type": "stream",
          "name": "stdout",
          "text": [
            "2023-05-12 22:19:02,817 [INFO] Grill PGN fr = 3.15 Hz\n"
          ]
        },
        {
          "output_type": "stream",
          "name": "stderr",
          "text": [
            "INFO:NEURONIOUtils:Grill PGN fr = 3.15 Hz\n"
          ]
        },
        {
          "output_type": "stream",
          "name": "stdout",
          "text": [
            "2023-05-12 22:19:02,819 [INFO] IMG node_gid\t  Hz\n"
          ]
        },
        {
          "output_type": "stream",
          "name": "stderr",
          "text": [
            "INFO:NEURONIOUtils:IMG node_gid\t  Hz\n"
          ]
        },
        {
          "output_type": "stream",
          "name": "stdout",
          "text": [
            "2023-05-12 22:19:02,821 [INFO] IMG firing rate avg: 4.0 Hz\n"
          ]
        },
        {
          "output_type": "stream",
          "name": "stderr",
          "text": [
            "INFO:NEURONIOUtils:IMG firing rate avg: 4.0 Hz\n"
          ]
        },
        {
          "output_type": "stream",
          "name": "stdout",
          "text": [
            "2023-05-12 22:19:02,829 [INFO] PGN firing rate = 4.00 Hz\n"
          ]
        },
        {
          "output_type": "stream",
          "name": "stderr",
          "text": [
            "/usr/local/lib/python3.10/dist-packages/bmtk/utils/reports/spike_trains/spike_trains.py:183: RuntimeWarning: divide by zero encountered in double_scalars\n",
            "  interval = -np.log(1.0 - np.random.uniform()) / fr\n",
            "INFO:NEURONIOUtils:PGN firing rate = 4.00 Hz\n"
          ]
        },
        {
          "output_type": "stream",
          "name": "stdout",
          "text": [
            "2023-05-12 22:19:02,835 [INFO] Volume = 10.4167 ml\n"
          ]
        },
        {
          "output_type": "stream",
          "name": "stderr",
          "text": [
            "INFO:NEURONIOUtils:Volume = 10.4167 ml\n"
          ]
        },
        {
          "output_type": "stream",
          "name": "stdout",
          "text": [
            "2023-05-12 22:19:02,837 [INFO] Pressure = 7.79 mmHg\n"
          ]
        },
        {
          "output_type": "stream",
          "name": "stderr",
          "text": [
            "INFO:NEURONIOUtils:Pressure = 7.79 mmHg\n"
          ]
        },
        {
          "output_type": "stream",
          "name": "stdout",
          "text": [
            "2023-05-12 22:19:02,839 [INFO] Calculated bladder afferent firing rate for the next time step = 0.00 Hz \n",
            " \n",
            "\n"
          ]
        },
        {
          "output_type": "stream",
          "name": "stderr",
          "text": [
            "INFO:NEURONIOUtils:Calculated bladder afferent firing rate for the next time step = 0.00 Hz \n",
            " \n",
            "\n"
          ]
        },
        {
          "output_type": "stream",
          "name": "stdout",
          "text": [
            "2023-05-12 22:19:04,230 [INFO]     step:202500 t_sim:40500.00 ms\n"
          ]
        },
        {
          "output_type": "stream",
          "name": "stderr",
          "text": [
            "INFO:NEURONIOUtils:    step:202500 t_sim:40500.00 ms\n"
          ]
        },
        {
          "output_type": "stream",
          "name": "stdout",
          "text": [
            "2023-05-12 22:19:04,241 [INFO] Timestep 40000.0 to 40500.0 ms\n"
          ]
        },
        {
          "output_type": "stream",
          "name": "stderr",
          "text": [
            "INFO:NEURONIOUtils:Timestep 40000.0 to 40500.0 ms\n"
          ]
        },
        {
          "output_type": "stream",
          "name": "stdout",
          "text": [
            "2023-05-12 22:19:04,245 [INFO] PGN node_id\t  Hz\n"
          ]
        },
        {
          "output_type": "stream",
          "name": "stderr",
          "text": [
            "INFO:NEURONIOUtils:PGN node_id\t  Hz\n"
          ]
        },
        {
          "output_type": "stream",
          "name": "stdout",
          "text": [
            "2023-05-12 22:19:04,249 [INFO] 70\t\t4.0\n"
          ]
        },
        {
          "output_type": "stream",
          "name": "stderr",
          "text": [
            "INFO:NEURONIOUtils:70\t\t4.0\n"
          ]
        },
        {
          "output_type": "stream",
          "name": "stdout",
          "text": [
            "2023-05-12 22:19:04,251 [INFO] 71\t\t4.0\n"
          ]
        },
        {
          "output_type": "stream",
          "name": "stderr",
          "text": [
            "INFO:NEURONIOUtils:71\t\t4.0\n"
          ]
        },
        {
          "output_type": "stream",
          "name": "stdout",
          "text": [
            "2023-05-12 22:19:04,253 [INFO] 72\t\t4.0\n"
          ]
        },
        {
          "output_type": "stream",
          "name": "stderr",
          "text": [
            "INFO:NEURONIOUtils:72\t\t4.0\n"
          ]
        },
        {
          "output_type": "stream",
          "name": "stdout",
          "text": [
            "2023-05-12 22:19:04,255 [INFO] 73\t\t4.0\n"
          ]
        },
        {
          "output_type": "stream",
          "name": "stderr",
          "text": [
            "INFO:NEURONIOUtils:73\t\t4.0\n"
          ]
        },
        {
          "output_type": "stream",
          "name": "stdout",
          "text": [
            "2023-05-12 22:19:04,257 [INFO] 74\t\t4.0\n"
          ]
        },
        {
          "output_type": "stream",
          "name": "stderr",
          "text": [
            "INFO:NEURONIOUtils:74\t\t4.0\n"
          ]
        },
        {
          "output_type": "stream",
          "name": "stdout",
          "text": [
            "2023-05-12 22:19:04,259 [INFO] 75\t\t4.0\n"
          ]
        },
        {
          "output_type": "stream",
          "name": "stderr",
          "text": [
            "INFO:NEURONIOUtils:75\t\t4.0\n"
          ]
        },
        {
          "output_type": "stream",
          "name": "stdout",
          "text": [
            "2023-05-12 22:19:04,261 [INFO] 76\t\t4.0\n"
          ]
        },
        {
          "output_type": "stream",
          "name": "stderr",
          "text": [
            "INFO:NEURONIOUtils:76\t\t4.0\n"
          ]
        },
        {
          "output_type": "stream",
          "name": "stdout",
          "text": [
            "2023-05-12 22:19:04,263 [INFO] 77\t\t4.0\n"
          ]
        },
        {
          "output_type": "stream",
          "name": "stderr",
          "text": [
            "INFO:NEURONIOUtils:77\t\t4.0\n"
          ]
        },
        {
          "output_type": "stream",
          "name": "stdout",
          "text": [
            "2023-05-12 22:19:04,265 [INFO] 78\t\t4.0\n"
          ]
        },
        {
          "output_type": "stream",
          "name": "stderr",
          "text": [
            "INFO:NEURONIOUtils:78\t\t4.0\n"
          ]
        },
        {
          "output_type": "stream",
          "name": "stdout",
          "text": [
            "2023-05-12 22:19:04,267 [INFO] 79\t\t4.0\n"
          ]
        },
        {
          "output_type": "stream",
          "name": "stderr",
          "text": [
            "INFO:NEURONIOUtils:79\t\t4.0\n"
          ]
        },
        {
          "output_type": "stream",
          "name": "stdout",
          "text": [
            "2023-05-12 22:19:04,269 [INFO] PGN firing rate avg: 4.0 Hz\n"
          ]
        },
        {
          "output_type": "stream",
          "name": "stderr",
          "text": [
            "INFO:NEURONIOUtils:PGN firing rate avg: 4.0 Hz\n"
          ]
        },
        {
          "output_type": "stream",
          "name": "stdout",
          "text": [
            "2023-05-12 22:19:04,271 [INFO] Grill PGN fr = 3.15 Hz\n"
          ]
        },
        {
          "output_type": "stream",
          "name": "stderr",
          "text": [
            "INFO:NEURONIOUtils:Grill PGN fr = 3.15 Hz\n"
          ]
        },
        {
          "output_type": "stream",
          "name": "stdout",
          "text": [
            "2023-05-12 22:19:04,272 [INFO] IMG node_gid\t  Hz\n"
          ]
        },
        {
          "output_type": "stream",
          "name": "stderr",
          "text": [
            "INFO:NEURONIOUtils:IMG node_gid\t  Hz\n"
          ]
        },
        {
          "output_type": "stream",
          "name": "stdout",
          "text": [
            "2023-05-12 22:19:04,274 [INFO] IMG firing rate avg: 4.0 Hz\n"
          ]
        },
        {
          "output_type": "stream",
          "name": "stderr",
          "text": [
            "INFO:NEURONIOUtils:IMG firing rate avg: 4.0 Hz\n"
          ]
        },
        {
          "output_type": "stream",
          "name": "stdout",
          "text": [
            "2023-05-12 22:19:04,283 [INFO] PGN firing rate = 4.00 Hz\n"
          ]
        },
        {
          "output_type": "stream",
          "name": "stderr",
          "text": [
            "/usr/local/lib/python3.10/dist-packages/bmtk/utils/reports/spike_trains/spike_trains.py:183: RuntimeWarning: divide by zero encountered in double_scalars\n",
            "  interval = -np.log(1.0 - np.random.uniform()) / fr\n",
            "INFO:NEURONIOUtils:PGN firing rate = 4.00 Hz\n"
          ]
        },
        {
          "output_type": "stream",
          "name": "stdout",
          "text": [
            "2023-05-12 22:19:04,285 [INFO] Volume = 11.4583 ml\n"
          ]
        },
        {
          "output_type": "stream",
          "name": "stderr",
          "text": [
            "INFO:NEURONIOUtils:Volume = 11.4583 ml\n"
          ]
        },
        {
          "output_type": "stream",
          "name": "stdout",
          "text": [
            "2023-05-12 22:19:04,287 [INFO] Pressure = 7.79 mmHg\n"
          ]
        },
        {
          "output_type": "stream",
          "name": "stderr",
          "text": [
            "INFO:NEURONIOUtils:Pressure = 7.79 mmHg\n"
          ]
        },
        {
          "output_type": "stream",
          "name": "stdout",
          "text": [
            "2023-05-12 22:19:04,289 [INFO] Calculated bladder afferent firing rate for the next time step = 0.00 Hz \n",
            " \n",
            "\n"
          ]
        },
        {
          "output_type": "stream",
          "name": "stderr",
          "text": [
            "INFO:NEURONIOUtils:Calculated bladder afferent firing rate for the next time step = 0.00 Hz \n",
            " \n",
            "\n"
          ]
        },
        {
          "output_type": "stream",
          "name": "stdout",
          "text": [
            "2023-05-12 22:19:04,425 [INFO] Simulation completed in 113.9 seconds \n"
          ]
        },
        {
          "output_type": "stream",
          "name": "stderr",
          "text": [
            "INFO:NEURONIOUtils:Simulation completed in 113.9 seconds \n"
          ]
        },
        {
          "output_type": "stream",
          "name": "stdout",
          "text": [
            "202500 0.2\n",
            "[10 41 42 40 29 30 44 45 43 25 26 24 23 28 27 53 54 51 52 56 57 55 47 48\n",
            " 46 50 49 76 77 75 74 79  0  1 78 59 60 65 66 69 70 58  2 71 72 73  3 18\n",
            " 19 20 16 17 22 21 15  7  8  9  6  4  5 13 14 12 11 31 33 34 36 35 37]\n",
            "[1000.0, 1500.0, 2000.0, 2500.0, 3000.0, 3500.0, 4000.0, 4500.0, 5000.0, 5500.0, 6000.0, 6500.0, 7000.0, 7500.0, 8000.0, 8500.0, 9000.0, 9500.0, 10000.0, 10500.0, 11000.0, 11500.0, 12000.0, 12500.0, 13000.0, 13500.0, 14000.0, 14500.0, 15000.0, 15500.0, 16000.0, 16500.0, 17000.0, 17500.0, 18000.0, 18500.0, 19000.0, 19500.0, 20000.0, 20500.0, 21000.0, 21500.0, 22000.0, 22500.0, 23000.0, 23500.0, 24000.0, 24500.0, 25000.0, 25500.0, 26000.0, 26500.0, 27000.0, 27500.0, 28000.0, 28500.0, 29000.0, 29500.0, 30000.0, 30500.0, 31000.0, 31500.0, 32000.0, 32500.0, 33000.0, 33500.0, 34000.0, 34500.0, 35000.0, 35500.0, 36000.0, 36500.0, 37000.0, 37500.0, 38000.0, 38500.0, 39000.0, 39500.0, 40000.0, 40500.0, 41000.0]\n",
            "[500.0, 1000.0, 1500.0, 2000.0, 2500.0, 3000.0, 3500.0, 4000.0, 4500.0, 5000.0, 5500.0, 6000.0, 6500.0, 7000.0, 7500.0, 8000.0, 8500.0, 9000.0, 9500.0, 10000.0, 10500.0, 11000.0, 11500.0, 12000.0, 12500.0, 13000.0, 13500.0, 14000.0, 14500.0, 15000.0, 15500.0, 16000.0, 16500.0, 17000.0, 17500.0, 18000.0, 18500.0, 19000.0, 19500.0, 20000.0, 20500.0, 21000.0, 21500.0, 22000.0, 22500.0, 23000.0, 23500.0, 24000.0, 24500.0, 25000.0, 25500.0, 26000.0, 26500.0, 27000.0, 27500.0, 28000.0, 28500.0, 29000.0, 29500.0, 30000.0, 30500.0, 31000.0, 31500.0, 32000.0, 32500.0, 33000.0, 33500.0, 34000.0, 34500.0, 35000.0, 35500.0, 36000.0, 36500.0, 37000.0, 37500.0, 38000.0, 38500.0, 39000.0, 39500.0, 40000.0, 40500.0, 41000.0]\n",
            "[0.0, 500.0, 1000.0, 1500.0, 2000.0, 2500.0, 3000.0, 3500.0, 4000.0, 4500.0, 5000.0, 5500.0, 6000.0, 6500.0, 7000.0, 7500.0, 8000.0, 8500.0, 9000.0, 9500.0, 10000.0, 10500.0, 11000.0, 11500.0, 12000.0, 12500.0, 13000.0, 13500.0, 14000.0, 14500.0, 15000.0, 15500.0, 16000.0, 16500.0, 17000.0, 17500.0, 18000.0, 18500.0, 19000.0, 19500.0, 20000.0, 20500.0, 21000.0, 21500.0, 22000.0, 22500.0, 23000.0, 23500.0, 24000.0, 24500.0, 25000.0, 25500.0, 26000.0, 26500.0, 27000.0, 27500.0, 28000.0, 28500.0, 29000.0, 29500.0, 30000.0, 30500.0, 31000.0, 31500.0, 32000.0, 32500.0, 33000.0, 33500.0, 34000.0, 34500.0, 35000.0, 35500.0, 36000.0, 36500.0, 37000.0, 37500.0, 38000.0, 38500.0, 39000.0, 39500.0, 40000.0, 40500.0, 41000.0]\n",
            "[0.0, 500.0, 1000.0, 1500.0, 2000.0, 2500.0, 3000.0, 3500.0, 4000.0, 4500.0, 5000.0, 5500.0, 6000.0, 6500.0, 7000.0, 7500.0, 8000.0, 8500.0, 9000.0, 9500.0, 10000.0, 10500.0, 11000.0, 11500.0, 12000.0, 12500.0, 13000.0, 13500.0, 14000.0, 14500.0, 15000.0, 15500.0, 16000.0, 16500.0, 17000.0, 17500.0, 18000.0, 18500.0, 19000.0, 19500.0, 20000.0, 20500.0, 21000.0, 21500.0, 22000.0, 22500.0, 23000.0, 23500.0, 24000.0, 24500.0, 25000.0, 25500.0, 26000.0, 26500.0, 27000.0, 27500.0, 28000.0, 28500.0, 29000.0, 29500.0, 30000.0, 30500.0, 31000.0, 31500.0, 32000.0, 32500.0, 33000.0, 33500.0, 34000.0, 34500.0, 35000.0, 35500.0, 36000.0, 36500.0, 37000.0, 37500.0, 38000.0, 38500.0, 39000.0, 39500.0, 40000.0]\n",
            "[0.0, 1.0416666666666667, 2.0833333333333335, 3.125, 4.166666666666667, 5.208333333333334, 6.250000000000001, 7.291666666666668, 8.333333333333334, 9.375, 10.416666666666666, 11.458333333333332, 12.499999999999998, 13.541666666666664, 14.58333333333333, 15.624999999999996, 16.666666666666664, 17.708333333333332, 18.75, 19.791666666666668, 20.833333333333336, 21.875000000000004, 22.91666666666667, 23.95833333333334, 25.000000000000007, 26.041666666666675, 27.083333333333343, 28.12500000000001, 29.16666666666668, 30.208333333333346, 31.250000000000014, 32.29166666666668, 33.33333333333334, 34.37500000000001, 35.41666666666667, 36.458333333333336, 37.5, 38.541666666666664, 39.58333333333333, 40.62499999999999, 41.66666666666666, 42.70833333333332, 43.749999999999986, 44.79166666666665, 45.833333333333314, 46.87499999999998, 47.91666666666664, 48.95833333333331, 49.99999999999997, 51.041666666666636, 52.0833333333333, 53.124999999999964, 54.16666666666663, 55.20833333333329, 56.24999999999996, 57.29166666666662, 58.333333333333286, 59.37499999999995, 60.416666666666615, 61.45833333333328, 62.49999999999994, 63.54166666666661, 64.58333333333327, 65.62499999999994, 66.66666666666661, 67.70833333333329, 68.74999999999996, 69.79166666666663, 70.8333333333333, 0.0, 1.0416666666666667, 2.0833333333333335, 3.125, 4.166666666666667, 5.208333333333334, 6.250000000000001, 7.291666666666668, 8.333333333333334, 9.375, 10.416666666666666, 11.458333333333332]\n",
            "[0.0, 5.0, 10.0, 15.0, 20.0, 25.0, 30.0, 35.0, 40.0, 45.0, 50.0, 55.0, 60.0, 65.0, 70.0, 75.0, 80.0, 85.0, 90.0, 95.0, 100.0, 105.0, 110.0, 115.0, 120.0, 125.0, 130.0, 135.0, 140.0, 145.0, 150.0, 155.0, 160.0, 165.0, 170.0, 175.0, 180.0, 185.0, 190.0, 195.0, 200.0, 205.0, 210.0, 215.0, 220.0, 225.0, 230.0, 235.0, 240.0, 245.0, 250.0, 255.0, 260.0, 265.0, 270.0, 275.0, 280.0, 285.0, 290.0, 295.0, 300.0, 305.0, 310.0, 315.0, 320.0, 325.0, 330.0, 335.0, 340.0, 345.0, 350.0, 355.0, 360.0, 365.0, 370.0, 375.0, 380.0, 385.0, 390.0, 395.0, 400.0]\n",
            "[0, 50, 100, 150, 200, 250, 300, 350, 400]\n"
          ]
        },
        {
          "output_type": "display_data",
          "data": {
            "text/plain": [
              "<Figure size 1500x500 with 2 Axes>"
            ],
            "image/png": "[encoded data removed]"
          },
          "metadata": {}
        },
        {
          "output_type": "display_data",
          "data": {
            "text/plain": [
              "<Figure size 1500x500 with 1 Axes>"
            ],
            "image/png": "[encoded data removed]"
          },
          "metadata": {}
        }
      ]
    }
  ]
}