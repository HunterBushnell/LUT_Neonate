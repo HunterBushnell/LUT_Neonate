{
  "nbformat": 4,
  "nbformat_minor": 0,
  "metadata": {
    "colab": {
      "provenance": [],
      "authorship_tag": "ABX9TyP/yRZcbJVrdIy7jeH+toJh",
      "include_colab_link": true
    },
    "kernelspec": {
      "name": "python3",
      "display_name": "Python 3"
    },
    "language_info": {
      "name": "python"
    }
  },
  "cells": [
    {
      "cell_type": "markdown",
      "metadata": {
        "id": "view-in-github",
        "colab_type": "text"
      },
      "source": [
        "<a href=\"https://colab.research.google.com/github/HunterBushnell/LUT_Baseline/blob/main/LUT_Baseline.ipynb\" target=\"_parent\"><img src=\"https://colab.research.google.com/assets/colab-badge.svg\" alt=\"Open In Colab\"/></a>"
      ]
    },
    {
      "cell_type": "code",
      "source": [
        "# Install\n",
        "!pip install neuron==8.2.2\n",
        "!pip install bmtk==1.0.7"
      ],
      "metadata": {
        "colab": {
          "base_uri": "https://localhost:8080/"
        },
        "id": "EN3eGs0MVhJr",
        "outputId": "8b03f8d4-39e7-49c0-cf52-12354142dd53"
      },
      "execution_count": 1,
      "outputs": [
        {
          "output_type": "stream",
          "name": "stdout",
          "text": [
            "Looking in indexes: https://pypi.org/simple, https://us-python.pkg.dev/colab-wheels/public/simple/\n",
            "Requirement already satisfied: neuron==8.2.2 in /usr/local/lib/python3.9/dist-packages (8.2.2)\n",
            "Requirement already satisfied: numpy>=1.9.3 in /usr/local/lib/python3.9/dist-packages (from neuron==8.2.2) (1.22.4)\n",
            "Looking in indexes: https://pypi.org/simple, https://us-python.pkg.dev/colab-wheels/public/simple/\n",
            "Requirement already satisfied: bmtk==1.0.7 in /usr/local/lib/python3.9/dist-packages (1.0.7)\n",
            "Requirement already satisfied: numpy in /usr/local/lib/python3.9/dist-packages (from bmtk==1.0.7) (1.22.4)\n",
            "Requirement already satisfied: sympy in /usr/local/lib/python3.9/dist-packages (from bmtk==1.0.7) (1.11.1)\n",
            "Requirement already satisfied: scikit-image in /usr/local/lib/python3.9/dist-packages (from bmtk==1.0.7) (0.19.3)\n",
            "Requirement already satisfied: h5py in /usr/local/lib/python3.9/dist-packages (from bmtk==1.0.7) (3.8.0)\n",
            "Requirement already satisfied: pandas in /usr/local/lib/python3.9/dist-packages (from bmtk==1.0.7) (1.5.3)\n",
            "Requirement already satisfied: jsonschema in /usr/local/lib/python3.9/dist-packages (from bmtk==1.0.7) (4.3.3)\n",
            "Requirement already satisfied: six in /usr/local/lib/python3.9/dist-packages (from bmtk==1.0.7) (1.16.0)\n",
            "Requirement already satisfied: scipy in /usr/local/lib/python3.9/dist-packages (from bmtk==1.0.7) (1.10.1)\n",
            "Requirement already satisfied: matplotlib in /usr/local/lib/python3.9/dist-packages (from bmtk==1.0.7) (3.7.1)\n",
            "Requirement already satisfied: pyrsistent!=0.17.0,!=0.17.1,!=0.17.2,>=0.14.0 in /usr/local/lib/python3.9/dist-packages (from jsonschema->bmtk==1.0.7) (0.19.3)\n",
            "Requirement already satisfied: attrs>=17.4.0 in /usr/local/lib/python3.9/dist-packages (from jsonschema->bmtk==1.0.7) (23.1.0)\n",
            "Requirement already satisfied: kiwisolver>=1.0.1 in /usr/local/lib/python3.9/dist-packages (from matplotlib->bmtk==1.0.7) (1.4.4)\n",
            "Requirement already satisfied: pillow>=6.2.0 in /usr/local/lib/python3.9/dist-packages (from matplotlib->bmtk==1.0.7) (8.4.0)\n",
            "Requirement already satisfied: contourpy>=1.0.1 in /usr/local/lib/python3.9/dist-packages (from matplotlib->bmtk==1.0.7) (1.0.7)\n",
            "Requirement already satisfied: cycler>=0.10 in /usr/local/lib/python3.9/dist-packages (from matplotlib->bmtk==1.0.7) (0.11.0)\n",
            "Requirement already satisfied: python-dateutil>=2.7 in /usr/local/lib/python3.9/dist-packages (from matplotlib->bmtk==1.0.7) (2.8.2)\n",
            "Requirement already satisfied: importlib-resources>=3.2.0 in /usr/local/lib/python3.9/dist-packages (from matplotlib->bmtk==1.0.7) (5.12.0)\n",
            "Requirement already satisfied: pyparsing>=2.3.1 in /usr/local/lib/python3.9/dist-packages (from matplotlib->bmtk==1.0.7) (3.0.9)\n",
            "Requirement already satisfied: packaging>=20.0 in /usr/local/lib/python3.9/dist-packages (from matplotlib->bmtk==1.0.7) (23.1)\n",
            "Requirement already satisfied: fonttools>=4.22.0 in /usr/local/lib/python3.9/dist-packages (from matplotlib->bmtk==1.0.7) (4.39.3)\n",
            "Requirement already satisfied: pytz>=2020.1 in /usr/local/lib/python3.9/dist-packages (from pandas->bmtk==1.0.7) (2022.7.1)\n",
            "Requirement already satisfied: networkx>=2.2 in /usr/local/lib/python3.9/dist-packages (from scikit-image->bmtk==1.0.7) (3.1)\n",
            "Requirement already satisfied: imageio>=2.4.1 in /usr/local/lib/python3.9/dist-packages (from scikit-image->bmtk==1.0.7) (2.25.1)\n",
            "Requirement already satisfied: PyWavelets>=1.1.1 in /usr/local/lib/python3.9/dist-packages (from scikit-image->bmtk==1.0.7) (1.4.1)\n",
            "Requirement already satisfied: tifffile>=2019.7.26 in /usr/local/lib/python3.9/dist-packages (from scikit-image->bmtk==1.0.7) (2023.4.12)\n",
            "Requirement already satisfied: mpmath>=0.19 in /usr/local/lib/python3.9/dist-packages (from sympy->bmtk==1.0.7) (1.3.0)\n",
            "Requirement already satisfied: zipp>=3.1.0 in /usr/local/lib/python3.9/dist-packages (from importlib-resources>=3.2.0->matplotlib->bmtk==1.0.7) (3.15.0)\n"
          ]
        }
      ]
    },
    {
      "cell_type": "code",
      "source": [
        "# Download Files\n",
        "\n",
        "import os\n",
        "\n",
        "if os.path.basename(os.getcwd())!='LUT_Baseline':\n",
        "  !git clone https://github.com/HunterBushnell/LUT_Baseline\n",
        "  %cd LUT_Baseline/\n",
        "else:\n",
        "  print('Mod files have already been downloaded.')\n",
        "%ls"
      ],
      "metadata": {
        "colab": {
          "base_uri": "https://localhost:8080/"
        },
        "id": "-gSQxFa_L5V7",
        "outputId": "90cd0c59-2e3a-4902-81ff-8bea9fc407e4"
      },
      "execution_count": 2,
      "outputs": [
        {
          "output_type": "stream",
          "name": "stdout",
          "text": [
            "fatal: destination path 'LUT_Baseline' already exists and is not an empty directory.\n",
            "/content/LUT_Baseline\n",
            "\u001b[0m\u001b[01;34mbiophys_components\u001b[0m/  \u001b[01;34mgraphs\u001b[0m/             PAG_spikes.csv    run_bionet.py\n",
            "Blad_spikes.csv      \u001b[01;34mimages\u001b[0m/             plot_results.py   run.sh\n",
            "build_network.py     \u001b[01;34mjsons\u001b[0m/              plotting.pkl      spikes.csv\n",
            "\u001b[01;34merror_logs\u001b[0m/          LUT_Baseline.ipynb  plotting.py       spikes_pag.csv\n",
            "EUS_spikes.csv       \u001b[01;34mnetwork\u001b[0m/            \u001b[01;34m__pycache__\u001b[0m/      synapses.py\n",
            "feedback_loop.py     \u001b[01;34mnotes\u001b[0m/              README.md\n",
            "generate_input.py    \u001b[01;34moutput\u001b[0m/             requirements.txt\n"
          ]
        }
      ]
    },
    {
      "cell_type": "code",
      "source": [
        "# Compile Files\n",
        "\n",
        "import os \n",
        "# move to the mechanisms folder\n",
        "%cd biophys_components/mechanisms/\n",
        "os.system(\"rm -rf x86_64\") # deletes x86_64 if its there\n",
        "%ls # just to make sure its gone\n",
        "print(os.system('nrnivmodl modfiles')) # compile modfiles. Return 0 for success, 1 for failure.\n",
        "%ls # check to make sure the folder is there now\n",
        "%cd ../..\n",
        "%ls"
      ],
      "metadata": {
        "colab": {
          "base_uri": "https://localhost:8080/"
        },
        "id": "gYmb2C9NC_R0",
        "outputId": "dcd5fcb3-d205-4d75-9cb2-35bb25c70c0c"
      },
      "execution_count": 3,
      "outputs": [
        {
          "output_type": "stream",
          "name": "stdout",
          "text": [
            "/content/LUT_Baseline/biophys_components/mechanisms\n",
            "filess  \u001b[0m\u001b[01;34mmodfiles\u001b[0m/\n",
            "0\n",
            "filess  \u001b[0m\u001b[01;34mmodfiles\u001b[0m/  \u001b[01;34mx86_64\u001b[0m/\n",
            "/content/LUT_Baseline\n",
            "\u001b[0m\u001b[01;34mbiophys_components\u001b[0m/  \u001b[01;34mgraphs\u001b[0m/             PAG_spikes.csv    run_bionet.py\n",
            "Blad_spikes.csv      \u001b[01;34mimages\u001b[0m/             plot_results.py   run.sh\n",
            "build_network.py     \u001b[01;34mjsons\u001b[0m/              plotting.pkl      spikes.csv\n",
            "\u001b[01;34merror_logs\u001b[0m/          LUT_Baseline.ipynb  plotting.py       spikes_pag.csv\n",
            "EUS_spikes.csv       \u001b[01;34mnetwork\u001b[0m/            \u001b[01;34m__pycache__\u001b[0m/      synapses.py\n",
            "feedback_loop.py     \u001b[01;34mnotes\u001b[0m/              README.md\n",
            "generate_input.py    \u001b[01;34moutput\u001b[0m/             requirements.txt\n"
          ]
        }
      ]
    },
    {
      "cell_type": "code",
      "source": [
        "# Build Network\n",
        "\n",
        "import numpy as np\n",
        "from bmtk.builder.networks import NetworkBuilder\n",
        "import math\n",
        "import random\n",
        "\n",
        "random.seed(42)\n",
        "output_dir='network'\n",
        "\n",
        "#######################################################################\n",
        "##################### Create the cells ################################\n",
        "#######################################################################\n",
        "print(\"\\nCreating Cells\")\n",
        "\n",
        "# Build the main network\n",
        "net = NetworkBuilder('LUT')\n",
        "\n",
        "# Specify number of cells in each population #\n",
        "\n",
        "numBladaff  = 10\n",
        "numPAGaff   = 10\n",
        "numEUSaff   = 10\n",
        "numIND      = 10\n",
        "numHypo     = 10\n",
        "numINmplus  = 10\n",
        "numINmminus = 10\n",
        "numPGN      = 10\n",
        "numFB       = 10\n",
        "numIMG      = 10 \n",
        "numMPG      = 10\n",
        "numEUSmn    = 10\n",
        "numBladmn   = 10\n",
        "# Create the nodes ----------------------------------------\n",
        "net.add_nodes(N=numBladaff, level='high',pop_name='Bladaff',model_type='biophysical',model_template='hoc:PUD',morphology='blank.swc')\n",
        "net.add_nodes(N=numPAGaff, pop_name='PAGaff',model_type='biophysical',model_template='hoc:PUD',morphology='blank.swc')\n",
        "net.add_nodes(N=numEUSaff, level='high',pop_name='EUSaff',model_type='biophysical',model_template='hoc:PUD',morphology='blank.swc')\n",
        "net.add_nodes(N=numIND, pop_name='IND',model_type='biophysical',model_template='hoc:IND',morphology='blank.swc')\n",
        "net.add_nodes(N=numHypo, pop_name='Hypo',model_type='biophysical',model_template='hoc:HYPO',morphology='blank.swc')\n",
        "net.add_nodes(N=numINmplus, pop_name='INmplus',model_type='biophysical',model_template='hoc:INM',morphology='blank.swc')\n",
        "net.add_nodes(N=numINmminus, pop_name='INmminus',model_type='biophysical',model_template='hoc:INM',morphology='blank.swc')\n",
        "net.add_nodes(N=numPGN, level='low', pop_name='PGN',model_type='biophysical',model_template='hoc:PGN',morphology='blank.swc') \n",
        "net.add_nodes(N=numFB, pop_name='FB',model_type='biophysical',model_template='hoc:PUD',morphology='blank.swc')\n",
        "net.add_nodes(N=numIMG, pop_name='IMG',model_type='biophysical',model_template='hoc:IMG',morphology='blank.swc')\n",
        "net.add_nodes(N=numMPG, pop_name='MPG',model_type='biophysical',model_template='hoc:MPG',morphology='blank.swc') \n",
        "net.add_nodes(N=numEUSmn, pop_name='EUSmn',model_type='biophysical',model_template='hoc:PUD',morphology='blank.swc')\n",
        "net.add_nodes(N=numBladmn, pop_name='Bladmn',model_type='biophysical',model_template='hoc:PUD',morphology='blank.swc')\n",
        "\n",
        "##################################################################################\n",
        "####################### Connect the cells ########################################\n",
        "##################################################################################\n",
        "print(\"\\nConnecting Cells\")\n",
        "\n",
        "# Connectivity function\n",
        "# To use this function, the number of cells in the source population must be the same\n",
        "# as the number of cells in the target population.\n",
        "def one_to_one(source, target):\n",
        "    sid = source.node_id\n",
        "    tid = target.node_id\n",
        "    source_name = source['pop_name']\n",
        "    target_name = target['pop_name']\n",
        "    if source_name=='EUSaff':\n",
        "        sid = sid-(numBladaff)\n",
        "    if source_name=='PAGaff':\n",
        "        sid = sid-(numBladaff+numEUSaff)\n",
        "    if source_name=='IND':\n",
        "        sid = sid-(numBladaff+numEUSaff+numPAGaff)\n",
        "    if source_name=='Hypo':\n",
        "        sid = sid-(numBladaff+numEUSaff+numPAGaff+numIND)\n",
        "    if source_name=='INmplus':\n",
        "        sid = sid-(numBladaff+numEUSaff+numPAGaff+numIND+numHypo)\n",
        "    if source_name=='INmminus':\n",
        "        sid = sid-(numBladaff+numEUSaff+numPAGaff+numIND+numHypo+numINmplus)\n",
        "    if source_name=='PGN':\n",
        "        sid = sid-(numBladaff+numEUSaff+numPAGaff+numIND+numHypo+numINmplus+numINmminus)\n",
        "    if source_name=='FB':\n",
        "        sid = sid-(numBladaff+numEUSaff+numPAGaff+numIND+numHypo+numINmplus+numINmminus+numPGN)\n",
        "    if source_name=='IMG':\n",
        "        sid = sid-(numBladaff+numEUSaff+numPAGaff+numIND+numHypo+numINmplus+numINmminus+numPGN+numFB)\n",
        "    if source_name=='MPG':\n",
        "        sid = sid-(numBladaff+numEUSaff+numPAGaff+numIND+numHypo+numINmplus+numINmminus+numPGN+numFB+numIMG)\n",
        "    if source_name=='EUSmn':\n",
        "        sid = sid-(numBladaff+numEUSaff+numPAGaff+numIND+numHypo+numINmplus+numINmminus+numPGN+numFB+numIMG+numMPG)\n",
        "    if source_name=='Bladmn':\n",
        "        sid = sid-(numBladaff+numEUSaff+numPAGaff+numIND+numHypo+numINmplus+numINmminus+numPGN+numFB+numIMG+numMPG+numEUSmn)\n",
        "    \n",
        "    if target_name=='EUSaff':\n",
        "        tid = tid-(numBladaff)\n",
        "    if target_name=='PAGaff':\n",
        "        tid = tid-(numBladaff+numEUSaff)\n",
        "    if target_name=='IND':\n",
        "        tid = tid-(numBladaff+numEUSaff+numPAGaff)\n",
        "    if target_name=='Hypo':\n",
        "        tid = tid-(numBladaff+numEUSaff+numPAGaff+numIND)\n",
        "    if target_name=='INmplus':\n",
        "        tid = tid-(numBladaff+numEUSaff+numPAGaff+numIND+numHypo)\n",
        "    if target_name=='INmminus':\n",
        "        tid = tid-(numBladaff+numEUSaff+numPAGaff+numIND+numHypo+numINmplus)\n",
        "    if target_name=='PGN':\n",
        "        tid = tid-(numBladaff+numEUSaff+numPAGaff+numIND+numHypo+numINmplus+numINmminus)\n",
        "    if target_name=='FB':\n",
        "        tid = tid-(numBladaff+numEUSaff+numPAGaff+numIND+numHypo+numINmplus+numINmminus+numPGN)\n",
        "    if target_name=='IMG':\n",
        "        tid = tid-(numBladaff+numEUSaff+numPAGaff+numIND+numHypo+numINmplus+numINmminus+numPGN+numFB)\n",
        "    if target_name=='MPG':\n",
        "        tid = tid-(numBladaff+numEUSaff+numPAGaff+numIND+numHypo+numINmplus+numINmminus+numPGN+numFB+numIMG)\n",
        "    if target_name=='EUSmn':\n",
        "        tid = tid-(numBladaff+numEUSaff+numPAGaff+numIND+numHypo+numINmplus+numINmminus+numPGN+numFB+numIMG+numMPG)\n",
        "    if target_name=='Bladmn':\n",
        "        tid = tid-(numBladaff+numEUSaff+numPAGaff+numIND+numHypo+numINmplus+numINmminus+numPGN+numFB+numIMG+numMPG+numEUSmn)\n",
        "    \n",
        "    if sid == tid:\n",
        "        print(\"connecting {} cell {} to {} cell {}\".format(source_name,sid,target_name,tid))\n",
        "        tmp_nsyn = 1\n",
        "    else:\n",
        "        return None\n",
        "\n",
        "    return tmp_nsyn\n",
        "\n",
        "\n",
        "def percent_connector(source,target,percent):\n",
        "    \"\"\"\n",
        "    For connections where types don't have the same number of cells\n",
        "    And positions are undefined for one type\n",
        "    \"\"\"\n",
        "    sid = source.node_id\n",
        "    tid = target.node_id\n",
        "    source_name = source['pop_name']\n",
        "    target_name = target['pop_name']\n",
        "\n",
        "    if source_name=='EUSaff':\n",
        "        sid = sid-(numBladaff)\n",
        "    if source_name=='PAGaff':\n",
        "        sid = sid-(numBladaff+numEUSaff)\n",
        "    if source_name=='IND':\n",
        "        sid = sid-(numBladaff+numEUSaff+numPAGaff)\n",
        "    if source_name=='Hypo':\n",
        "        sid = sid-(numBladaff+numEUSaff+numPAGaff+numIND)\n",
        "    if source_name=='INmplus':\n",
        "        sid = sid-(numBladaff+numEUSaff+numPAGaff+numIND+numHypo)\n",
        "    if source_name=='INmminus':\n",
        "        sid = sid-(numBladaff+numEUSaff+numPAGaff+numIND+numHypo+numINmplus)\n",
        "    if source_name=='PGN':\n",
        "        sid = sid-(numBladaff+numEUSaff+numPAGaff+numIND+numHypo+numINmplus+numINmminus)\n",
        "    if source_name=='FB':\n",
        "        sid = sid-(numBladaff+numEUSaff+numPAGaff+numIND+numHypo+numINmplus+numINmminus+numPGN)\n",
        "    if source_name=='IMG':\n",
        "        sid = sid-(numBladaff+numEUSaff+numPAGaff+numIND+numHypo+numINmplus+numINmminus+numPGN+numFB)\n",
        "    if source_name=='MPG':\n",
        "        sid = sid-(numBladaff+numEUSaff+numPAGaff+numIND+numHypo+numINmplus+numINmminus+numPGN+numFB+numIMG)\n",
        "    if source_name=='EUSmn':\n",
        "        sid = sid-(numBladaff+numEUSaff+numPAGaff+numIND+numHypo+numINmplus+numINmminus+numPGN+numFB+numIMG+numMPG)\n",
        "    if source_name=='Bladmn':\n",
        "        sid = sid-(numBladaff+numEUSaff+numPAGaff+numIND+numHypo+numINmplus+numINmminus+numPGN+numFB+numIMG+numMPG+numEUSmn)\n",
        "    \n",
        "    if target_name=='EUSaff':\n",
        "        tid = tid-(numBladaff)\n",
        "    if target_name=='PAGaff':\n",
        "        tid = tid-(numBladaff+numEUSaff)\n",
        "    if target_name=='IND':\n",
        "        tid = tid-(numBladaff+numEUSaff+numPAGaff)\n",
        "    if target_name=='Hypo':\n",
        "        tid = tid-(numBladaff+numEUSaff+numPAGaff+numIND)\n",
        "    if target_name=='INmplus':\n",
        "        tid = tid-(numBladaff+numEUSaff+numPAGaff+numIND+numHypo)\n",
        "    if target_name=='INmminus':\n",
        "        tid = tid-(numBladaff+numEUSaff+numPAGaff+numIND+numHypo+numINmplus)\n",
        "    if target_name=='PGN':\n",
        "        tid = tid-(numBladaff+numEUSaff+numPAGaff+numIND+numHypo+numINmplus+numINmminus)\n",
        "    if target_name=='FB':\n",
        "        tid = tid-(numBladaff+numEUSaff+numPAGaff+numIND+numHypo+numINmplus+numINmminus+numPGN)\n",
        "    if target_name=='IMG':\n",
        "        tid = tid-(numBladaff+numEUSaff+numPAGaff+numIND+numHypo+numINmplus+numINmminus+numPGN+numFB)\n",
        "    if target_name=='MPG':\n",
        "        tid = tid-(numBladaff+numEUSaff+numPAGaff+numIND+numHypo+numINmplus+numINmminus+numPGN+numFB+numIMG)\n",
        "    if target_name=='EUSmn':\n",
        "        tid = tid-(numBladaff+numEUSaff+numPAGaff+numIND+numHypo+numINmplus+numINmminus+numPGN+numFB+numIMG+numMPG)\n",
        "    if target_name=='Bladmn':\n",
        "        tid = tid-(numBladaff+numEUSaff+numPAGaff+numIND+numHypo+numINmplus+numINmminus+numPGN+numFB+numIMG+numMPG+numEUSmn)\n",
        "\n",
        "    if random.random() < (float(percent)/100):\n",
        "        print(\"connecting {} cell {} to {} cell {}\".format(source_name,sid,target_name,tid))\n",
        "        return 1\n",
        "    else:\n",
        "        return 0\n",
        "\n",
        "def conn_props(source,target,mu,sigma):\n",
        "    \"\"\"\n",
        "    Simply add connection properties as normal\n",
        "    https://github.com/AllenInstitute/bmtk/blob/develop/docs/tutorial/NetworkBuilder_Intro.ipynb\n",
        "    Can also adjust weights before running the network.\n",
        "    See https://github.com/AllenInstitute/bmtk/blob/develop/docs/tutorial/02_single_cell_syn.ipynb\n",
        "    Section 5\n",
        "    If done this way the function will need to be imported in the run script, consider refactoring?\n",
        "    \"\"\"\n",
        "\n",
        "    #syn_weight = np.random.lognormal(mean=mu,sigma=sigma)\n",
        "    syn_weight = mu\n",
        "\n",
        "    return syn_weight,0,0.5\n",
        "\n",
        "\n",
        "# Add connections -----------------------------------------\n",
        "\n",
        "# Blad afferent --> INd (Grill et al. 2016)\n",
        "conn = net.add_edges(source=net.nodes(pop_name='Bladaff'), target=net.nodes(pop_name='IND'),\n",
        "                   connection_rule=percent_connector,\n",
        "                   connection_params={'percent':100.0}, \n",
        "\t\t\t\t   target_sections=['somatic'],\n",
        "                   delay=2.0,\n",
        "                   distance_range=[0.0, 300.0],\n",
        "                   dynamics_params='AMPA_ExcToExc.json',\n",
        "                   model_template='Exp2Syn')\n",
        "\t\t\t\t\n",
        "conn.add_properties(names=['syn_weight', 'sec_id', 'sec_x'],\n",
        "                    rule=conn_props,\n",
        "                    rule_params={'mu':10.0e-3,'sigma':1},\n",
        "                    dtypes=[np.float, np.int32, np.float])\n",
        "\n",
        " # Blad afferent --> Hypogastric (Hou et al. 2014)\n",
        "conn = net.add_edges(source=net.nodes(pop_name='Bladaff'), target=net.nodes(pop_name='Hypo'),\n",
        "                    connection_rule=percent_connector,\n",
        "                    connection_params={'percent':10.0},\n",
        "                    target_sections=['somatic'],\n",
        "                    delay=2.0,\n",
        "                    distance_range=[0.0, 300.0],\n",
        "                    dynamics_params='AMPA_ExcToExc.json',\n",
        "                    model_template='Exp2Syn')\n",
        "\n",
        "conn.add_properties(names=['syn_weight', 'sec_id', 'sec_x'],\n",
        "                     rule=conn_props,\n",
        "                     rule_params={'mu':12.0e-3,'sigma':1},\n",
        "                     dtypes=[np.float, np.int32, np.float])\n",
        "\n",
        "# EUS afferent --> INd (Grill et al. 2016)\n",
        "conn = net.add_edges(source=net.nodes(pop_name='EUSaff'), target=net.nodes(pop_name='IND'),\n",
        "                   connection_rule=percent_connector,\n",
        "                   connection_params={'percent':100.0},\n",
        "                   target_sections=['somatic'],\n",
        "                   delay=2.0,\n",
        "                   distance_range=[0.0, 300.0],\n",
        "                   dynamics_params='AMPA_ExcToExc.json',\n",
        "                   model_template='Exp2Syn')\n",
        "\n",
        "conn.add_properties(names=['syn_weight', 'sec_id', 'sec_x'],\n",
        "                    rule=conn_props,\n",
        "                    rule_params={'mu':1.0e-3,'sigma':1},\n",
        "                    dtypes=[np.float, np.int32, np.float])\n",
        "\n",
        "# PAG afferent --> INd (Grill et al. 2016)\n",
        "conn = net.add_edges(source=net.nodes(pop_name='PAGaff'), target=net.nodes(pop_name='IND'),\n",
        "                   connection_rule=percent_connector,\n",
        "                   connection_params={'percent':100.0},\n",
        "                   target_sections=['somatic'],\n",
        "                   delay=2.0,\n",
        "                   distance_range=[0.0, 300.0],\n",
        "                   dynamics_params='AMPA_ExcToExc.json',\n",
        "                   model_template='Exp2Syn')\n",
        "\n",
        "conn.add_properties(names=['syn_weight', 'sec_id', 'sec_x'],\n",
        "                    rule=conn_props,\n",
        "                    rule_params={'mu':20.0e-3,'sigma':1},  # was 20.0e-3\n",
        "                    dtypes=[np.float, np.int32, np.float])\n",
        "\n",
        "# INd --> PGN (Grill et al. 2016)\n",
        "conn = net.add_edges(source=net.nodes(pop_name='IND'), target=net.nodes(pop_name='PGN'),\n",
        "                   connection_rule=percent_connector,\n",
        "                   connection_params={'percent':100.0},\n",
        "                   target_sections=['somatic'],\n",
        "                   delay=2.0,\n",
        "                   distance_range=[0.0, 300.0],\n",
        "                   dynamics_params='AMPA_ExcToExc.json',\n",
        "                   model_template='Exp2Syn')\n",
        "\n",
        "conn.add_properties(names=['syn_weight', 'sec_id', 'sec_x'],\n",
        "                    rule=conn_props,\n",
        "                    rule_params={'mu':16.0e-3,'sigma':1},\n",
        "                    dtypes=[np.float, np.int32, np.float])\n",
        "\n",
        " # Hypogastric --> IMG (Beckel et al. 2015)\n",
        "conn = net.add_edges(source=net.nodes(pop_name='Hypo'), target=net.nodes(pop_name='IMG'),\n",
        "                    connection_rule=percent_connector,\n",
        "                    connection_params={'percent':10.0},\n",
        "                    target_sections=['somatic'],\n",
        "                    delay=2.0,\n",
        "                    distance_range=[0.0, 300.0],\n",
        "                    dynamics_params='AMPA_ExcToExc.json',\n",
        "                    model_template='Exp2Syn')\n",
        "\n",
        "conn.add_properties(names=['syn_weight', 'sec_id', 'sec_x'],\n",
        "                     rule=conn_props,\n",
        "                     rule_params={'mu':12.0e-3,'sigma':1},\n",
        "                     dtypes=[np.float, np.int32, np.float])\n",
        "\n",
        "## STSP synapse ##\n",
        "# # EUS afferent --> INm+ (Grill et al. 2016) **Low pass filter**\n",
        "# conn = net.add_edges(source=net.nodes(pop_name='EUSaff'), target=net.nodes(pop_name='INmplus'),\n",
        "                   # connection_rule=percent_connector,\n",
        "                   # connection_params={'percent':100.0},\n",
        "                   # target_sections=['somatic'],\n",
        "                   # delay=2.0,\n",
        "                   # distance_range=[0.0, 300.0],\n",
        "                   # dynamics_params='stsp.json', \n",
        "                   # model_template='Exp2Syn1_STSP')\n",
        "\n",
        "# conn.add_properties(names=['syn_weight', 'sec_id', 'sec_x'],\n",
        "                    # rule=conn_props,\n",
        "                    # rule_params={'mu':0.5,'sigma':1},\n",
        "                    # dtypes=[np.float, np.int32, np.float])\n",
        "\n",
        "# EUS afferent --> INm+(Grill et al. 2016)\n",
        "conn = net.add_edges(source=net.nodes(pop_name='EUSaff'), target=net.nodes(pop_name='INmplus'),\n",
        "                   connection_rule=percent_connector,\n",
        "                   connection_params={'percent':100.0},\n",
        "                   target_sections=['somatic'],\n",
        "                   delay=2.0,\n",
        "                   distance_range=[0.0, 300.0],\n",
        "                   dynamics_params='AMPA_ExcToExc.json',\n",
        "                   model_template='Exp2Syn')\n",
        "\n",
        "conn.add_properties(names=['syn_weight', 'sec_id', 'sec_x'],\n",
        "                    rule=conn_props,\n",
        "                    rule_params={'mu':16.5e-3,'sigma':1},\n",
        "                    dtypes=[np.float, np.int32, np.float])\n",
        "# PAG afferent --> INm+ (Source?)\n",
        "# Using this connection instead of synaptic depression for low pass filtering\n",
        "# conn = net.add_edges(source=net.nodes(pop_name='PAGaff'), target=net.nodes(pop_name='PGN'),\n",
        "                   # connection_rule=percent_connector,\n",
        "                   # connection_params={'percent':100.0},\n",
        "                   # target_sections=['somatic'],\n",
        "                   # delay=2.0,\n",
        "                   # distance_range=[0.0, 300.0],\n",
        "                   # dynamics_params='AMPA_ExcToExc.json',\n",
        "                   # model_template='Exp2Syn')\n",
        "\n",
        "# conn.add_properties(names=['syn_weight', 'sec_id', 'sec_x'],\n",
        "                    # rule=conn_props,\n",
        "                    # rule_params={'mu':11.0e-3,'sigma':1},\n",
        "                    # dtypes=[np.float, np.int32, np.float])\n",
        "\n",
        "# EUS afferent --> INm-(Grill et al. 2016)\n",
        "conn = net.add_edges(source=net.nodes(pop_name='EUSaff'), target=net.nodes(pop_name='INmminus'),\n",
        "                   connection_rule=percent_connector,\n",
        "                   connection_params={'percent':100.0},\n",
        "                   target_sections=['somatic'],\n",
        "                   delay=2.0,\n",
        "                   distance_range=[0.0, 300.0],\n",
        "                   dynamics_params='AMPA_ExcToExc.json',\n",
        "                   model_template='Exp2Syn')\n",
        "\n",
        "conn.add_properties(names=['syn_weight', 'sec_id', 'sec_x'],\n",
        "                    rule=conn_props,\n",
        "                    rule_params={'mu':16.0e-3,'sigma':1},\n",
        "                    dtypes=[np.float, np.int32, np.float])\n",
        "\n",
        "# INm+ --> PGN (Grill et al. 2016)\n",
        "conn = net.add_edges(source=net.nodes(pop_name='INmplus'), target=net.nodes(pop_name='PGN'),\n",
        "                   cconnection_rule=percent_connector,\n",
        "                   connection_params={'percent':10.0},\n",
        "                   target_sections=['somatic'],\n",
        "                   delay=2.0,\n",
        "                   distance_range=[0.0, 300.0],\n",
        "                   dynamics_params='AMPA_ExcToExc.json',\n",
        "                   model_template='Exp2Syn')\n",
        "\n",
        "conn.add_properties(names=['syn_weight', 'sec_id', 'sec_x'],\n",
        "                    rule=conn_props,\n",
        "                    rule_params={'mu':1.0e-3,'sigma':1},\n",
        "                    dtypes=[np.float, np.int32, np.float])\n",
        "\n",
        "# INm- --> PGN (Grill et al. 2016)\n",
        "conn = net.add_edges(source=net.nodes(pop_name='INmminus'), target=net.nodes(pop_name='PGN'),\n",
        "                   connection_rule=percent_connector,\n",
        "                   connection_params={'percent':10.0},\n",
        "                   target_sections=['somatic'],\n",
        "                   delay=2.0,\n",
        "                   distance_range=[0.0, 300.0],\n",
        "                   dynamics_params='GABA_InhToExc.json',\n",
        "                   model_template='Exp2Syn')\n",
        "\n",
        "conn.add_properties(names=['syn_weight', 'sec_id', 'sec_x'],\n",
        "                    rule=conn_props,\n",
        "                    rule_params={'mu':20.0e-3,'sigma':1},\n",
        "                    dtypes=[np.float, np.int32, np.float])\n",
        "\n",
        "# PGN --> MPG (Beckel et al. 2015)\n",
        "conn = net.add_edges(source=net.nodes(pop_name='PGN'), target=net.nodes(pop_name='MPG'),\n",
        "                   connection_rule=percent_connector,\n",
        "                   connection_params={'percent':100.0},\n",
        "                   target_sections=['somatic'],\n",
        "                   delay=2.0,\n",
        "                   distance_range=[0.0, 300.0],\n",
        "                   dynamics_params='AMPA_ExcToExc.json',\n",
        "                   model_template='Exp2Syn')\n",
        "\n",
        "conn.add_properties(names=['syn_weight', 'sec_id', 'sec_x'],\n",
        "                    rule=conn_props,\n",
        "                    rule_params={'mu':12.0e-3,'sigma':1},\n",
        "                    dtypes=[np.float, np.int32, np.float])\n",
        "\n",
        "# PGN --> FB (Grill et al. 2016)\n",
        "conn = net.add_edges(source=net.nodes(pop_name='PGN'), target=net.nodes(pop_name='FB'),\n",
        "                   connection_rule=percent_connector,\n",
        "                   connection_params={'percent':100.0},\n",
        "                   target_sections=['somatic'],\n",
        "                   delay=2.0,\n",
        "                   distance_range=[0.0, 300.0],\n",
        "                   dynamics_params='AMPA_ExcToExc.json',\n",
        "                   model_template='Exp2Syn')\n",
        "\n",
        "conn.add_properties(names=['syn_weight', 'sec_id', 'sec_x'],\n",
        "                    rule=conn_props,\n",
        "                    rule_params={'mu':12.0e-3,'sigma':1}, #was 12.0e-3\n",
        "                    dtypes=[np.float, np.int32, np.float])\n",
        "\n",
        "# FB --> INd (Grill et al. 2016)\n",
        "conn = net.add_edges(source=net.nodes(pop_name='FB'), target=net.nodes(pop_name='IND'),\n",
        "                   connection_rule=percent_connector,\n",
        "                   connection_params={'percent':100.0},\n",
        "                   target_sections=['somatic'],\n",
        "                   delay=2.0,\n",
        "                   distance_range=[0.0, 300.0],\n",
        "                   dynamics_params='GABA_InhToInh.json',\n",
        "                   model_template='Exp2Syn')\n",
        "\n",
        "conn.add_properties(names=['syn_weight', 'sec_id', 'sec_x'],\n",
        "                    rule=conn_props,\n",
        "                    rule_params={'mu':15.0e-3,'sigma':1},       # was 12.0e-3\n",
        "                    dtypes=[np.float, np.int32, np.float])\n",
        "\n",
        "# # MPG --> Bladder MN (Beckel et al. 2015)\n",
        "# conn = net.add_edges(source=net.nodes(pop_name='MPG'), target=net.nodes(pop_name='Bladmn'),\n",
        "                   # connection_rule=percent_connector,\n",
        "                   # connection_params={'percent':10.0},\n",
        "                   # target_sections=['somatic'],\n",
        "                   # delay=2.0,\n",
        "                   # distance_range=[0.0, 300.0],\n",
        "                   # dynamics_params='AMPA_ExcToExc.json',\n",
        "                   # model_template='Exp2Syn')\n",
        "\n",
        "# conn.add_properties(names=['syn_weight', 'sec_id', 'sec_x'],\n",
        "                    # rule=conn_props,\n",
        "                    # rule_params={'mu':16.0e-3,'sigma':1},\n",
        "                    # dtypes=[np.float, np.int32, np.float])\n",
        "\n",
        "# # IMG --> Bladder MN (Beckel et al. 2015)\n",
        "# conn = net.add_edges(source=net.nodes(pop_name='IMG'), target=net.nodes(pop_name='Bladmn'),\n",
        "                   # connection_rule=percent_connector,\n",
        "                   # connection_params={'percent':10.0},\n",
        "                   # target_sections=['somatic'],\n",
        "                   # delay=2.0,\n",
        "                   # distance_range=[0.0, 300.0],\n",
        "                   # dynamics_params='GABA_InhToInh.json',\n",
        "                   # model_template='Exp2Syn')\n",
        "\n",
        "# conn.add_properties(names=['syn_weight', 'sec_id', 'sec_x'],\n",
        "                    # rule=conn_props,\n",
        "                    # rule_params={'mu':10.0e-3,'sigma':1},\n",
        "                    # dtypes=[np.float, np.int32, np.float])\n",
        "\n",
        "# PAG aff --> Hypogastric (de Groat, et al. 2015)\n",
        "conn = net.add_edges(source=net.nodes(pop_name='PAGaff'), target=net.nodes(pop_name='Hypo'),\n",
        "                    connection_rule=percent_connector,\n",
        "                    connection_params={'percent':100.0},\n",
        "                    target_sections=['somatic'],\n",
        "                    delay=2.0,\n",
        "                    distance_range=[0.0, 300.0],\n",
        "                    dynamics_params='GABA_InhToInh.json',\n",
        "                    model_template='Exp2Syn')\n",
        "\n",
        "conn.add_properties(names=['syn_weight', 'sec_id', 'sec_x'],\n",
        "                     rule=conn_props,\n",
        "                     rule_params={'mu':12.0e-3,'sigma':1},\n",
        "                     dtypes=[np.float, np.int32, np.float])\n",
        "\n",
        "# PAG aff --> EUS MN (Shefchyk et al. 2001)\n",
        "# conn = net.add_edges(source=net.nodes(pop_name='PAGaff'), target=net.nodes(pop_name='EUSmn'),\n",
        "                   # connection_rule=percent_connector,\n",
        "                   # connection_params={'percent':100.0},\n",
        "                   # target_sections=['somatic'],\n",
        "                   # delay=2.0,\n",
        "                   # distance_range=[0.0, 300.0],\n",
        "                   # dynamics_params='GABA_InhToInh.json',\n",
        "                   # model_template='Exp2Syn')\n",
        "\n",
        "# conn.add_properties(names=['syn_weight', 'sec_id', 'sec_x'],\n",
        "                    # rule=conn_props,\n",
        "                    # rule_params={'mu':12.0e-3,'sigma':1},\n",
        "                    # dtypes=[np.float, np.int32, np.float])\n",
        "\n",
        "# EUS afferent --> EUS MN (Beckel et al. 2015)\n",
        "# conn = net.add_edges(source=net.nodes(pop_name='EUSaff'), target=net.nodes(pop_name='EUSmn'),\n",
        "                   # connection_rule=percent_connector,\n",
        "                   # connection_params={'percent':100.0},\n",
        "                   # target_sections=['somatic'],\n",
        "                   # delay=2.0,\n",
        "                   # distance_range=[0.0, 300.0],\n",
        "                   # dynamics_params='AMPA_ExcToExc.json',\n",
        "                   # model_template='Exp2Syn')\n",
        "\n",
        "# conn.add_properties(names=['syn_weight', 'sec_id', 'sec_x'],\n",
        "                    # rule=conn_props,\n",
        "                    # rule_params={'mu':12.0e-3,'sigma':1},\n",
        "                    # dtypes=[np.float, np.int32, np.float])\n",
        "\n",
        "# Connect virtual cells to EUS, Bladder, and PAG/PMC\n",
        "Blad_aff_virt = NetworkBuilder('Blad_aff_virt') # Virtual cells delivering input to Bladder\n",
        "EUS_aff_virt = NetworkBuilder('EUS_aff_virt')   # Virtual cells delivering input to EUS\n",
        "PAG_aff_virt = NetworkBuilder('PAG_aff_virt')   # Virtual cells delivering input to PAG/PMC\n",
        "\n",
        "Blad_aff_virt.add_nodes(N=numBladaff, pop_name = 'Blad_aff_virt', model_type='virtual', potential='exc')\n",
        "EUS_aff_virt.add_nodes(N=numEUSaff, pop_name = 'EUS_aff_virt', model_type='virtual', potential='exc')\n",
        "PAG_aff_virt.add_nodes(N=numPAGaff, pop_name = 'PAG_aff_virt', model_type='virtual', potential='exc')\n",
        "\n",
        "Blad_aff_virt.add_edges(source=Blad_aff_virt.nodes(), target=net.nodes(pop_name='Bladaff'),\n",
        "                   connection_rule=percent_connector,\n",
        "                   connection_params={'percent':100.0},\n",
        "                   syn_weight=12.0e-03,\n",
        "                   target_sections=['somatic'],\n",
        "\t\t\t\t   delay=2.0,\n",
        "                   distance_range=[0.0, 300.0],\n",
        "                   dynamics_params='AMPA_ExcToExc.json',\n",
        "                   model_template='Exp2Syn')\n",
        "\n",
        "\t\t\t\t\t\n",
        "EUS_aff_virt.add_edges(source=EUS_aff_virt.nodes(), target=net.nodes(pop_name='EUSaff'),\n",
        "                   connection_rule=percent_connector,\n",
        "                   connection_params={'percent':100.0},\n",
        "                   syn_weight=12.0e-03,\n",
        "                   target_sections=['somatic'],\n",
        "                   delay=2.0,\n",
        "                   distance_range=[0.0, 300.0],\n",
        "                   dynamics_params='AMPA_ExcToExc.json',\n",
        "                   model_template='Exp2Syn')\n",
        "\n",
        "PAG_aff_virt.add_edges(source=PAG_aff_virt.nodes(), target=net.nodes(pop_name='PAGaff'),\n",
        "                   connection_rule=percent_connector,\n",
        "                   connection_params={'percent':100.0},\n",
        "                   syn_weight=20.0e-03,\n",
        "                   target_sections=['somatic'],\n",
        "                   delay=2.0,\n",
        "                   distance_range=[0.0, 300.0],\n",
        "                   dynamics_params='AMPA_ExcToExc.json',\n",
        "                   model_template='Exp2Syn')\n",
        "\n",
        "####################################################################################\n",
        "########################## Build and save network ##################################\n",
        "####################################################################################\n",
        "\n",
        "print(\"\\nBuilding network and saving to directory \\\"\" + output_dir + \"\\\"\")\n",
        "net.build()\n",
        "Blad_aff_virt.build()\n",
        "EUS_aff_virt.build()\n",
        "PAG_aff_virt.build()\n",
        "\n",
        "net.save_nodes(output_dir=output_dir)\n",
        "net.save_edges(output_dir=output_dir)\n",
        "\n",
        "Blad_aff_virt.save_nodes(output_dir=output_dir)\n",
        "Blad_aff_virt.save_edges(output_dir=output_dir)\n",
        "\n",
        "EUS_aff_virt.save_nodes(output_dir=output_dir)\n",
        "EUS_aff_virt.save_edges(output_dir=output_dir)\n",
        "\n",
        "PAG_aff_virt.save_nodes(output_dir=output_dir)\n",
        "PAG_aff_virt.save_edges(output_dir=output_dir)\n",
        "\n",
        "print(\"Done\")"
      ],
      "metadata": {
        "colab": {
          "base_uri": "https://localhost:8080/"
        },
        "id": "OwFAcOVDTxGn",
        "outputId": "7b4feda0-ad51-4bff-bfa0-35a7728fc680"
      },
      "execution_count": 4,
      "outputs": [
        {
          "output_type": "stream",
          "name": "stdout",
          "text": [
            "\n",
            "Creating Cells\n",
            "\n",
            "Connecting Cells\n",
            "\n",
            "Building network and saving to directory \"network\"\n",
            "connecting Bladaff cell 0 to IND cell 0\n",
            "connecting Bladaff cell 0 to IND cell 1\n",
            "connecting Bladaff cell 0 to IND cell 2\n",
            "connecting Bladaff cell 0 to IND cell 3\n",
            "connecting Bladaff cell 0 to IND cell 4\n",
            "connecting Bladaff cell 0 to IND cell 5\n",
            "connecting Bladaff cell 0 to IND cell 6\n",
            "connecting Bladaff cell 0 to IND cell 7\n",
            "connecting Bladaff cell 0 to IND cell 8\n",
            "connecting Bladaff cell 0 to IND cell 9\n",
            "connecting Bladaff cell 1 to IND cell 0\n",
            "connecting Bladaff cell 1 to IND cell 1\n",
            "connecting Bladaff cell 1 to IND cell 2\n",
            "connecting Bladaff cell 1 to IND cell 3\n",
            "connecting Bladaff cell 1 to IND cell 4\n",
            "connecting Bladaff cell 1 to IND cell 5\n",
            "connecting Bladaff cell 1 to IND cell 6\n",
            "connecting Bladaff cell 1 to IND cell 7\n",
            "connecting Bladaff cell 1 to IND cell 8\n",
            "connecting Bladaff cell 1 to IND cell 9\n",
            "connecting Bladaff cell 2 to IND cell 0\n",
            "connecting Bladaff cell 2 to IND cell 1\n",
            "connecting Bladaff cell 2 to IND cell 2\n",
            "connecting Bladaff cell 2 to IND cell 3\n",
            "connecting Bladaff cell 2 to IND cell 4\n",
            "connecting Bladaff cell 2 to IND cell 5\n",
            "connecting Bladaff cell 2 to IND cell 6\n",
            "connecting Bladaff cell 2 to IND cell 7\n",
            "connecting Bladaff cell 2 to IND cell 8\n",
            "connecting Bladaff cell 2 to IND cell 9\n",
            "connecting Bladaff cell 3 to IND cell 0\n",
            "connecting Bladaff cell 3 to IND cell 1\n",
            "connecting Bladaff cell 3 to IND cell 2\n",
            "connecting Bladaff cell 3 to IND cell 3\n",
            "connecting Bladaff cell 3 to IND cell 4\n",
            "connecting Bladaff cell 3 to IND cell 5\n",
            "connecting Bladaff cell 3 to IND cell 6\n",
            "connecting Bladaff cell 3 to IND cell 7\n",
            "connecting Bladaff cell 3 to IND cell 8\n",
            "connecting Bladaff cell 3 to IND cell 9\n",
            "connecting Bladaff cell 4 to IND cell 0\n",
            "connecting Bladaff cell 4 to IND cell 1\n",
            "connecting Bladaff cell 4 to IND cell 2\n",
            "connecting Bladaff cell 4 to IND cell 3\n",
            "connecting Bladaff cell 4 to IND cell 4\n",
            "connecting Bladaff cell 4 to IND cell 5\n",
            "connecting Bladaff cell 4 to IND cell 6\n",
            "connecting Bladaff cell 4 to IND cell 7\n",
            "connecting Bladaff cell 4 to IND cell 8\n",
            "connecting Bladaff cell 4 to IND cell 9\n",
            "connecting Bladaff cell 5 to IND cell 0\n",
            "connecting Bladaff cell 5 to IND cell 1\n",
            "connecting Bladaff cell 5 to IND cell 2\n",
            "connecting Bladaff cell 5 to IND cell 3\n",
            "connecting Bladaff cell 5 to IND cell 4\n",
            "connecting Bladaff cell 5 to IND cell 5\n",
            "connecting Bladaff cell 5 to IND cell 6\n",
            "connecting Bladaff cell 5 to IND cell 7\n",
            "connecting Bladaff cell 5 to IND cell 8\n",
            "connecting Bladaff cell 5 to IND cell 9\n",
            "connecting Bladaff cell 6 to IND cell 0\n",
            "connecting Bladaff cell 6 to IND cell 1\n",
            "connecting Bladaff cell 6 to IND cell 2\n",
            "connecting Bladaff cell 6 to IND cell 3\n",
            "connecting Bladaff cell 6 to IND cell 4\n",
            "connecting Bladaff cell 6 to IND cell 5\n",
            "connecting Bladaff cell 6 to IND cell 6\n",
            "connecting Bladaff cell 6 to IND cell 7\n",
            "connecting Bladaff cell 6 to IND cell 8\n",
            "connecting Bladaff cell 6 to IND cell 9\n",
            "connecting Bladaff cell 7 to IND cell 0\n",
            "connecting Bladaff cell 7 to IND cell 1\n",
            "connecting Bladaff cell 7 to IND cell 2\n",
            "connecting Bladaff cell 7 to IND cell 3\n",
            "connecting Bladaff cell 7 to IND cell 4\n",
            "connecting Bladaff cell 7 to IND cell 5\n",
            "connecting Bladaff cell 7 to IND cell 6\n",
            "connecting Bladaff cell 7 to IND cell 7\n",
            "connecting Bladaff cell 7 to IND cell 8\n",
            "connecting Bladaff cell 7 to IND cell 9\n",
            "connecting Bladaff cell 8 to IND cell 0\n",
            "connecting Bladaff cell 8 to IND cell 1\n",
            "connecting Bladaff cell 8 to IND cell 2\n",
            "connecting Bladaff cell 8 to IND cell 3\n",
            "connecting Bladaff cell 8 to IND cell 4\n",
            "connecting Bladaff cell 8 to IND cell 5\n",
            "connecting Bladaff cell 8 to IND cell 6\n",
            "connecting Bladaff cell 8 to IND cell 7\n",
            "connecting Bladaff cell 8 to IND cell 8\n",
            "connecting Bladaff cell 8 to IND cell 9\n",
            "connecting Bladaff cell 9 to IND cell 0\n",
            "connecting Bladaff cell 9 to IND cell 1\n",
            "connecting Bladaff cell 9 to IND cell 2\n",
            "connecting Bladaff cell 9 to IND cell 3\n",
            "connecting Bladaff cell 9 to IND cell 4\n",
            "connecting Bladaff cell 9 to IND cell 5\n",
            "connecting Bladaff cell 9 to IND cell 6\n",
            "connecting Bladaff cell 9 to IND cell 7\n",
            "connecting Bladaff cell 9 to IND cell 8\n",
            "connecting Bladaff cell 9 to IND cell 9\n",
            "connecting Bladaff cell 0 to Hypo cell 0\n",
            "connecting Bladaff cell 2 to Hypo cell 4\n",
            "connecting Bladaff cell 2 to Hypo cell 6\n",
            "connecting Bladaff cell 3 to Hypo cell 1\n",
            "connecting Bladaff cell 3 to Hypo cell 4\n",
            "connecting Bladaff cell 3 to Hypo cell 6\n",
            "connecting Bladaff cell 6 to Hypo cell 0\n",
            "connecting Bladaff cell 6 to Hypo cell 5\n",
            "connecting Bladaff cell 7 to Hypo cell 6\n",
            "connecting Bladaff cell 8 to Hypo cell 3\n",
            "connecting Bladaff cell 9 to Hypo cell 7\n",
            "connecting EUSaff cell 10 to IND cell 0\n",
            "connecting EUSaff cell 10 to IND cell 1\n",
            "connecting EUSaff cell 10 to IND cell 2\n",
            "connecting EUSaff cell 10 to IND cell 3\n",
            "connecting EUSaff cell 10 to IND cell 4\n",
            "connecting EUSaff cell 10 to IND cell 5\n",
            "connecting EUSaff cell 10 to IND cell 6\n",
            "connecting EUSaff cell 10 to IND cell 7\n",
            "connecting EUSaff cell 10 to IND cell 8\n",
            "connecting EUSaff cell 10 to IND cell 9\n",
            "connecting EUSaff cell 11 to IND cell 0\n",
            "connecting EUSaff cell 11 to IND cell 1\n",
            "connecting EUSaff cell 11 to IND cell 2\n",
            "connecting EUSaff cell 11 to IND cell 3\n",
            "connecting EUSaff cell 11 to IND cell 4\n",
            "connecting EUSaff cell 11 to IND cell 5\n",
            "connecting EUSaff cell 11 to IND cell 6\n",
            "connecting EUSaff cell 11 to IND cell 7\n",
            "connecting EUSaff cell 11 to IND cell 8\n",
            "connecting EUSaff cell 11 to IND cell 9\n",
            "connecting EUSaff cell 12 to IND cell 0\n",
            "connecting EUSaff cell 12 to IND cell 1\n",
            "connecting EUSaff cell 12 to IND cell 2\n",
            "connecting EUSaff cell 12 to IND cell 3\n",
            "connecting EUSaff cell 12 to IND cell 4\n",
            "connecting EUSaff cell 12 to IND cell 5\n",
            "connecting EUSaff cell 12 to IND cell 6\n",
            "connecting EUSaff cell 12 to IND cell 7\n",
            "connecting EUSaff cell 12 to IND cell 8\n",
            "connecting EUSaff cell 12 to IND cell 9\n",
            "connecting EUSaff cell 13 to IND cell 0\n",
            "connecting EUSaff cell 13 to IND cell 1\n",
            "connecting EUSaff cell 13 to IND cell 2\n",
            "connecting EUSaff cell 13 to IND cell 3\n",
            "connecting EUSaff cell 13 to IND cell 4\n",
            "connecting EUSaff cell 13 to IND cell 5\n",
            "connecting EUSaff cell 13 to IND cell 6\n",
            "connecting EUSaff cell 13 to IND cell 7\n",
            "connecting EUSaff cell 13 to IND cell 8\n",
            "connecting EUSaff cell 13 to IND cell 9\n",
            "connecting EUSaff cell 14 to IND cell 0\n",
            "connecting EUSaff cell 14 to IND cell 1\n",
            "connecting EUSaff cell 14 to IND cell 2\n",
            "connecting EUSaff cell 14 to IND cell 3\n",
            "connecting EUSaff cell 14 to IND cell 4\n",
            "connecting EUSaff cell 14 to IND cell 5\n",
            "connecting EUSaff cell 14 to IND cell 6\n",
            "connecting EUSaff cell 14 to IND cell 7\n",
            "connecting EUSaff cell 14 to IND cell 8\n",
            "connecting EUSaff cell 14 to IND cell 9\n",
            "connecting EUSaff cell 15 to IND cell 0\n",
            "connecting EUSaff cell 15 to IND cell 1\n",
            "connecting EUSaff cell 15 to IND cell 2\n",
            "connecting EUSaff cell 15 to IND cell 3\n",
            "connecting EUSaff cell 15 to IND cell 4\n",
            "connecting EUSaff cell 15 to IND cell 5\n",
            "connecting EUSaff cell 15 to IND cell 6\n",
            "connecting EUSaff cell 15 to IND cell 7\n",
            "connecting EUSaff cell 15 to IND cell 8\n",
            "connecting EUSaff cell 15 to IND cell 9\n",
            "connecting EUSaff cell 16 to IND cell 0\n",
            "connecting EUSaff cell 16 to IND cell 1\n",
            "connecting EUSaff cell 16 to IND cell 2\n",
            "connecting EUSaff cell 16 to IND cell 3\n",
            "connecting EUSaff cell 16 to IND cell 4\n",
            "connecting EUSaff cell 16 to IND cell 5\n",
            "connecting EUSaff cell 16 to IND cell 6\n",
            "connecting EUSaff cell 16 to IND cell 7\n",
            "connecting EUSaff cell 16 to IND cell 8\n",
            "connecting EUSaff cell 16 to IND cell 9\n",
            "connecting EUSaff cell 17 to IND cell 0\n",
            "connecting EUSaff cell 17 to IND cell 1\n",
            "connecting EUSaff cell 17 to IND cell 2\n",
            "connecting EUSaff cell 17 to IND cell 3\n",
            "connecting EUSaff cell 17 to IND cell 4\n",
            "connecting EUSaff cell 17 to IND cell 5\n",
            "connecting EUSaff cell 17 to IND cell 6\n",
            "connecting EUSaff cell 17 to IND cell 7\n",
            "connecting EUSaff cell 17 to IND cell 8\n",
            "connecting EUSaff cell 17 to IND cell 9\n",
            "connecting EUSaff cell 18 to IND cell 0\n",
            "connecting EUSaff cell 18 to IND cell 1\n",
            "connecting EUSaff cell 18 to IND cell 2\n",
            "connecting EUSaff cell 18 to IND cell 3\n",
            "connecting EUSaff cell 18 to IND cell 4\n",
            "connecting EUSaff cell 18 to IND cell 5\n",
            "connecting EUSaff cell 18 to IND cell 6\n",
            "connecting EUSaff cell 18 to IND cell 7\n",
            "connecting EUSaff cell 18 to IND cell 8\n",
            "connecting EUSaff cell 18 to IND cell 9\n",
            "connecting EUSaff cell 19 to IND cell 0\n",
            "connecting EUSaff cell 19 to IND cell 1\n",
            "connecting EUSaff cell 19 to IND cell 2\n",
            "connecting EUSaff cell 19 to IND cell 3\n",
            "connecting EUSaff cell 19 to IND cell 4\n",
            "connecting EUSaff cell 19 to IND cell 5\n",
            "connecting EUSaff cell 19 to IND cell 6\n",
            "connecting EUSaff cell 19 to IND cell 7\n",
            "connecting EUSaff cell 19 to IND cell 8\n",
            "connecting EUSaff cell 19 to IND cell 9\n",
            "connecting PAGaff cell -10 to IND cell 0\n",
            "connecting PAGaff cell -10 to IND cell 1\n",
            "connecting PAGaff cell -10 to IND cell 2\n",
            "connecting PAGaff cell -10 to IND cell 3\n",
            "connecting PAGaff cell -10 to IND cell 4\n",
            "connecting PAGaff cell -10 to IND cell 5\n",
            "connecting PAGaff cell -10 to IND cell 6\n",
            "connecting PAGaff cell -10 to IND cell 7\n",
            "connecting PAGaff cell -10 to IND cell 8\n",
            "connecting PAGaff cell -10 to IND cell 9\n",
            "connecting PAGaff cell -9 to IND cell 0\n",
            "connecting PAGaff cell -9 to IND cell 1\n",
            "connecting PAGaff cell -9 to IND cell 2\n",
            "connecting PAGaff cell -9 to IND cell 3\n",
            "connecting PAGaff cell -9 to IND cell 4\n",
            "connecting PAGaff cell -9 to IND cell 5\n",
            "connecting PAGaff cell -9 to IND cell 6\n",
            "connecting PAGaff cell -9 to IND cell 7\n",
            "connecting PAGaff cell -9 to IND cell 8\n",
            "connecting PAGaff cell -9 to IND cell 9\n",
            "connecting PAGaff cell -8 to IND cell 0\n",
            "connecting PAGaff cell -8 to IND cell 1\n",
            "connecting PAGaff cell -8 to IND cell 2\n",
            "connecting PAGaff cell -8 to IND cell 3\n",
            "connecting PAGaff cell -8 to IND cell 4\n",
            "connecting PAGaff cell -8 to IND cell 5\n",
            "connecting PAGaff cell -8 to IND cell 6\n",
            "connecting PAGaff cell -8 to IND cell 7\n",
            "connecting PAGaff cell -8 to IND cell 8\n",
            "connecting PAGaff cell -8 to IND cell 9\n",
            "connecting PAGaff cell -7 to IND cell 0\n",
            "connecting PAGaff cell -7 to IND cell 1\n",
            "connecting PAGaff cell -7 to IND cell 2\n",
            "connecting PAGaff cell -7 to IND cell 3\n",
            "connecting PAGaff cell -7 to IND cell 4\n",
            "connecting PAGaff cell -7 to IND cell 5\n",
            "connecting PAGaff cell -7 to IND cell 6\n",
            "connecting PAGaff cell -7 to IND cell 7\n",
            "connecting PAGaff cell -7 to IND cell 8\n",
            "connecting PAGaff cell -7 to IND cell 9\n",
            "connecting PAGaff cell -6 to IND cell 0\n",
            "connecting PAGaff cell -6 to IND cell 1\n",
            "connecting PAGaff cell -6 to IND cell 2\n",
            "connecting PAGaff cell -6 to IND cell 3\n",
            "connecting PAGaff cell -6 to IND cell 4\n",
            "connecting PAGaff cell -6 to IND cell 5\n",
            "connecting PAGaff cell -6 to IND cell 6\n",
            "connecting PAGaff cell -6 to IND cell 7\n",
            "connecting PAGaff cell -6 to IND cell 8\n",
            "connecting PAGaff cell -6 to IND cell 9\n",
            "connecting PAGaff cell -5 to IND cell 0\n",
            "connecting PAGaff cell -5 to IND cell 1\n",
            "connecting PAGaff cell -5 to IND cell 2\n",
            "connecting PAGaff cell -5 to IND cell 3\n",
            "connecting PAGaff cell -5 to IND cell 4\n",
            "connecting PAGaff cell -5 to IND cell 5\n",
            "connecting PAGaff cell -5 to IND cell 6\n",
            "connecting PAGaff cell -5 to IND cell 7\n",
            "connecting PAGaff cell -5 to IND cell 8\n",
            "connecting PAGaff cell -5 to IND cell 9\n",
            "connecting PAGaff cell -4 to IND cell 0\n",
            "connecting PAGaff cell -4 to IND cell 1\n",
            "connecting PAGaff cell -4 to IND cell 2\n",
            "connecting PAGaff cell -4 to IND cell 3\n",
            "connecting PAGaff cell -4 to IND cell 4\n",
            "connecting PAGaff cell -4 to IND cell 5\n",
            "connecting PAGaff cell -4 to IND cell 6\n",
            "connecting PAGaff cell -4 to IND cell 7\n",
            "connecting PAGaff cell -4 to IND cell 8\n",
            "connecting PAGaff cell -4 to IND cell 9\n",
            "connecting PAGaff cell -3 to IND cell 0\n",
            "connecting PAGaff cell -3 to IND cell 1\n",
            "connecting PAGaff cell -3 to IND cell 2\n",
            "connecting PAGaff cell -3 to IND cell 3\n",
            "connecting PAGaff cell -3 to IND cell 4\n",
            "connecting PAGaff cell -3 to IND cell 5\n",
            "connecting PAGaff cell -3 to IND cell 6\n",
            "connecting PAGaff cell -3 to IND cell 7\n",
            "connecting PAGaff cell -3 to IND cell 8\n",
            "connecting PAGaff cell -3 to IND cell 9\n",
            "connecting PAGaff cell -2 to IND cell 0\n",
            "connecting PAGaff cell -2 to IND cell 1\n",
            "connecting PAGaff cell -2 to IND cell 2\n",
            "connecting PAGaff cell -2 to IND cell 3\n",
            "connecting PAGaff cell -2 to IND cell 4\n",
            "connecting PAGaff cell -2 to IND cell 5\n",
            "connecting PAGaff cell -2 to IND cell 6\n",
            "connecting PAGaff cell -2 to IND cell 7\n",
            "connecting PAGaff cell -2 to IND cell 8\n",
            "connecting PAGaff cell -2 to IND cell 9\n",
            "connecting PAGaff cell -1 to IND cell 0\n",
            "connecting PAGaff cell -1 to IND cell 1\n",
            "connecting PAGaff cell -1 to IND cell 2\n",
            "connecting PAGaff cell -1 to IND cell 3\n",
            "connecting PAGaff cell -1 to IND cell 4\n",
            "connecting PAGaff cell -1 to IND cell 5\n",
            "connecting PAGaff cell -1 to IND cell 6\n",
            "connecting PAGaff cell -1 to IND cell 7\n",
            "connecting PAGaff cell -1 to IND cell 8\n",
            "connecting PAGaff cell -1 to IND cell 9\n",
            "connecting IND cell 0 to PGN cell 0\n",
            "connecting IND cell 0 to PGN cell 1\n",
            "connecting IND cell 0 to PGN cell 2\n",
            "connecting IND cell 0 to PGN cell 3\n",
            "connecting IND cell 0 to PGN cell 4\n",
            "connecting IND cell 0 to PGN cell 5\n",
            "connecting IND cell 0 to PGN cell 6\n",
            "connecting IND cell 0 to PGN cell 7\n",
            "connecting IND cell 0 to PGN cell 8\n",
            "connecting IND cell 0 to PGN cell 9\n",
            "connecting IND cell 1 to PGN cell 0\n",
            "connecting IND cell 1 to PGN cell 1\n",
            "connecting IND cell 1 to PGN cell 2\n",
            "connecting IND cell 1 to PGN cell 3\n",
            "connecting IND cell 1 to PGN cell 4\n",
            "connecting IND cell 1 to PGN cell 5\n",
            "connecting IND cell 1 to PGN cell 6\n",
            "connecting IND cell 1 to PGN cell 7\n",
            "connecting IND cell 1 to PGN cell 8\n",
            "connecting IND cell 1 to PGN cell 9\n",
            "connecting IND cell 2 to PGN cell 0\n",
            "connecting IND cell 2 to PGN cell 1\n",
            "connecting IND cell 2 to PGN cell 2\n",
            "connecting IND cell 2 to PGN cell 3\n",
            "connecting IND cell 2 to PGN cell 4\n",
            "connecting IND cell 2 to PGN cell 5\n",
            "connecting IND cell 2 to PGN cell 6\n",
            "connecting IND cell 2 to PGN cell 7\n",
            "connecting IND cell 2 to PGN cell 8\n",
            "connecting IND cell 2 to PGN cell 9\n",
            "connecting IND cell 3 to PGN cell 0\n",
            "connecting IND cell 3 to PGN cell 1\n",
            "connecting IND cell 3 to PGN cell 2\n",
            "connecting IND cell 3 to PGN cell 3\n",
            "connecting IND cell 3 to PGN cell 4\n",
            "connecting IND cell 3 to PGN cell 5\n",
            "connecting IND cell 3 to PGN cell 6\n",
            "connecting IND cell 3 to PGN cell 7\n",
            "connecting IND cell 3 to PGN cell 8\n",
            "connecting IND cell 3 to PGN cell 9\n",
            "connecting IND cell 4 to PGN cell 0\n",
            "connecting IND cell 4 to PGN cell 1\n",
            "connecting IND cell 4 to PGN cell 2\n",
            "connecting IND cell 4 to PGN cell 3\n",
            "connecting IND cell 4 to PGN cell 4\n",
            "connecting IND cell 4 to PGN cell 5\n",
            "connecting IND cell 4 to PGN cell 6\n",
            "connecting IND cell 4 to PGN cell 7\n",
            "connecting IND cell 4 to PGN cell 8\n",
            "connecting IND cell 4 to PGN cell 9\n",
            "connecting IND cell 5 to PGN cell 0\n",
            "connecting IND cell 5 to PGN cell 1\n",
            "connecting IND cell 5 to PGN cell 2\n",
            "connecting IND cell 5 to PGN cell 3\n",
            "connecting IND cell 5 to PGN cell 4\n",
            "connecting IND cell 5 to PGN cell 5\n",
            "connecting IND cell 5 to PGN cell 6\n",
            "connecting IND cell 5 to PGN cell 7\n",
            "connecting IND cell 5 to PGN cell 8\n",
            "connecting IND cell 5 to PGN cell 9\n",
            "connecting IND cell 6 to PGN cell 0\n",
            "connecting IND cell 6 to PGN cell 1\n",
            "connecting IND cell 6 to PGN cell 2\n",
            "connecting IND cell 6 to PGN cell 3\n",
            "connecting IND cell 6 to PGN cell 4\n",
            "connecting IND cell 6 to PGN cell 5\n",
            "connecting IND cell 6 to PGN cell 6\n",
            "connecting IND cell 6 to PGN cell 7\n",
            "connecting IND cell 6 to PGN cell 8\n",
            "connecting IND cell 6 to PGN cell 9\n",
            "connecting IND cell 7 to PGN cell 0\n",
            "connecting IND cell 7 to PGN cell 1\n",
            "connecting IND cell 7 to PGN cell 2\n",
            "connecting IND cell 7 to PGN cell 3\n",
            "connecting IND cell 7 to PGN cell 4\n",
            "connecting IND cell 7 to PGN cell 5\n",
            "connecting IND cell 7 to PGN cell 6\n",
            "connecting IND cell 7 to PGN cell 7\n",
            "connecting IND cell 7 to PGN cell 8\n",
            "connecting IND cell 7 to PGN cell 9\n",
            "connecting IND cell 8 to PGN cell 0\n",
            "connecting IND cell 8 to PGN cell 1\n",
            "connecting IND cell 8 to PGN cell 2\n",
            "connecting IND cell 8 to PGN cell 3\n",
            "connecting IND cell 8 to PGN cell 4\n",
            "connecting IND cell 8 to PGN cell 5\n",
            "connecting IND cell 8 to PGN cell 6\n",
            "connecting IND cell 8 to PGN cell 7\n",
            "connecting IND cell 8 to PGN cell 8\n",
            "connecting IND cell 8 to PGN cell 9\n",
            "connecting IND cell 9 to PGN cell 0\n",
            "connecting IND cell 9 to PGN cell 1\n",
            "connecting IND cell 9 to PGN cell 2\n",
            "connecting IND cell 9 to PGN cell 3\n",
            "connecting IND cell 9 to PGN cell 4\n",
            "connecting IND cell 9 to PGN cell 5\n",
            "connecting IND cell 9 to PGN cell 6\n",
            "connecting IND cell 9 to PGN cell 7\n",
            "connecting IND cell 9 to PGN cell 8\n",
            "connecting IND cell 9 to PGN cell 9\n",
            "connecting Hypo cell 0 to IMG cell 1\n",
            "connecting Hypo cell 0 to IMG cell 4\n",
            "connecting Hypo cell 0 to IMG cell 8\n",
            "connecting Hypo cell 1 to IMG cell 7\n",
            "connecting Hypo cell 1 to IMG cell 8\n",
            "connecting Hypo cell 2 to IMG cell 8\n",
            "connecting Hypo cell 4 to IMG cell 3\n",
            "connecting Hypo cell 4 to IMG cell 9\n",
            "connecting Hypo cell 8 to IMG cell 3\n",
            "connecting Hypo cell 8 to IMG cell 9\n",
            "connecting Hypo cell 9 to IMG cell 8\n",
            "connecting EUSaff cell 10 to INmplus cell 0\n",
            "connecting EUSaff cell 10 to INmplus cell 1\n",
            "connecting EUSaff cell 10 to INmplus cell 2\n",
            "connecting EUSaff cell 10 to INmplus cell 3\n",
            "connecting EUSaff cell 10 to INmplus cell 4\n",
            "connecting EUSaff cell 10 to INmplus cell 5\n",
            "connecting EUSaff cell 10 to INmplus cell 6\n",
            "connecting EUSaff cell 10 to INmplus cell 7\n",
            "connecting EUSaff cell 10 to INmplus cell 8\n",
            "connecting EUSaff cell 10 to INmplus cell 9\n",
            "connecting EUSaff cell 11 to INmplus cell 0\n",
            "connecting EUSaff cell 11 to INmplus cell 1\n",
            "connecting EUSaff cell 11 to INmplus cell 2\n",
            "connecting EUSaff cell 11 to INmplus cell 3\n",
            "connecting EUSaff cell 11 to INmplus cell 4\n",
            "connecting EUSaff cell 11 to INmplus cell 5\n",
            "connecting EUSaff cell 11 to INmplus cell 6\n",
            "connecting EUSaff cell 11 to INmplus cell 7\n",
            "connecting EUSaff cell 11 to INmplus cell 8\n",
            "connecting EUSaff cell 11 to INmplus cell 9\n"
          ]
        },
        {
          "output_type": "stream",
          "name": "stderr",
          "text": [
            "<ipython-input-4-d4e0d51f6ceb>:218: DeprecationWarning: `np.float` is a deprecated alias for the builtin `float`. To silence this warning, use `float` by itself. Doing this will not modify any behavior and is safe. If you specifically wanted the numpy scalar type, use `np.float64` here.\n",
            "Deprecated in NumPy 1.20; for more details and guidance: https://numpy.org/devdocs/release/1.20.0-notes.html#deprecations\n",
            "  dtypes=[np.float, np.int32, np.float])\n",
            "<ipython-input-4-d4e0d51f6ceb>:233: DeprecationWarning: `np.float` is a deprecated alias for the builtin `float`. To silence this warning, use `float` by itself. Doing this will not modify any behavior and is safe. If you specifically wanted the numpy scalar type, use `np.float64` here.\n",
            "Deprecated in NumPy 1.20; for more details and guidance: https://numpy.org/devdocs/release/1.20.0-notes.html#deprecations\n",
            "  dtypes=[np.float, np.int32, np.float])\n",
            "<ipython-input-4-d4e0d51f6ceb>:248: DeprecationWarning: `np.float` is a deprecated alias for the builtin `float`. To silence this warning, use `float` by itself. Doing this will not modify any behavior and is safe. If you specifically wanted the numpy scalar type, use `np.float64` here.\n",
            "Deprecated in NumPy 1.20; for more details and guidance: https://numpy.org/devdocs/release/1.20.0-notes.html#deprecations\n",
            "  dtypes=[np.float, np.int32, np.float])\n",
            "<ipython-input-4-d4e0d51f6ceb>:263: DeprecationWarning: `np.float` is a deprecated alias for the builtin `float`. To silence this warning, use `float` by itself. Doing this will not modify any behavior and is safe. If you specifically wanted the numpy scalar type, use `np.float64` here.\n",
            "Deprecated in NumPy 1.20; for more details and guidance: https://numpy.org/devdocs/release/1.20.0-notes.html#deprecations\n",
            "  dtypes=[np.float, np.int32, np.float])\n",
            "<ipython-input-4-d4e0d51f6ceb>:278: DeprecationWarning: `np.float` is a deprecated alias for the builtin `float`. To silence this warning, use `float` by itself. Doing this will not modify any behavior and is safe. If you specifically wanted the numpy scalar type, use `np.float64` here.\n",
            "Deprecated in NumPy 1.20; for more details and guidance: https://numpy.org/devdocs/release/1.20.0-notes.html#deprecations\n",
            "  dtypes=[np.float, np.int32, np.float])\n",
            "<ipython-input-4-d4e0d51f6ceb>:293: DeprecationWarning: `np.float` is a deprecated alias for the builtin `float`. To silence this warning, use `float` by itself. Doing this will not modify any behavior and is safe. If you specifically wanted the numpy scalar type, use `np.float64` here.\n",
            "Deprecated in NumPy 1.20; for more details and guidance: https://numpy.org/devdocs/release/1.20.0-notes.html#deprecations\n",
            "  dtypes=[np.float, np.int32, np.float])\n",
            "<ipython-input-4-d4e0d51f6ceb>:324: DeprecationWarning: `np.float` is a deprecated alias for the builtin `float`. To silence this warning, use `float` by itself. Doing this will not modify any behavior and is safe. If you specifically wanted the numpy scalar type, use `np.float64` here.\n",
            "Deprecated in NumPy 1.20; for more details and guidance: https://numpy.org/devdocs/release/1.20.0-notes.html#deprecations\n",
            "  dtypes=[np.float, np.int32, np.float])\n",
            "<ipython-input-4-d4e0d51f6ceb>:354: DeprecationWarning: `np.float` is a deprecated alias for the builtin `float`. To silence this warning, use `float` by itself. Doing this will not modify any behavior and is safe. If you specifically wanted the numpy scalar type, use `np.float64` here.\n",
            "Deprecated in NumPy 1.20; for more details and guidance: https://numpy.org/devdocs/release/1.20.0-notes.html#deprecations\n",
            "  dtypes=[np.float, np.int32, np.float])\n",
            "<ipython-input-4-d4e0d51f6ceb>:369: DeprecationWarning: `np.float` is a deprecated alias for the builtin `float`. To silence this warning, use `float` by itself. Doing this will not modify any behavior and is safe. If you specifically wanted the numpy scalar type, use `np.float64` here.\n",
            "Deprecated in NumPy 1.20; for more details and guidance: https://numpy.org/devdocs/release/1.20.0-notes.html#deprecations\n",
            "  dtypes=[np.float, np.int32, np.float])\n",
            "<ipython-input-4-d4e0d51f6ceb>:384: DeprecationWarning: `np.float` is a deprecated alias for the builtin `float`. To silence this warning, use `float` by itself. Doing this will not modify any behavior and is safe. If you specifically wanted the numpy scalar type, use `np.float64` here.\n",
            "Deprecated in NumPy 1.20; for more details and guidance: https://numpy.org/devdocs/release/1.20.0-notes.html#deprecations\n",
            "  dtypes=[np.float, np.int32, np.float])\n",
            "<ipython-input-4-d4e0d51f6ceb>:399: DeprecationWarning: `np.float` is a deprecated alias for the builtin `float`. To silence this warning, use `float` by itself. Doing this will not modify any behavior and is safe. If you specifically wanted the numpy scalar type, use `np.float64` here.\n",
            "Deprecated in NumPy 1.20; for more details and guidance: https://numpy.org/devdocs/release/1.20.0-notes.html#deprecations\n",
            "  dtypes=[np.float, np.int32, np.float])\n",
            "<ipython-input-4-d4e0d51f6ceb>:414: DeprecationWarning: `np.float` is a deprecated alias for the builtin `float`. To silence this warning, use `float` by itself. Doing this will not modify any behavior and is safe. If you specifically wanted the numpy scalar type, use `np.float64` here.\n",
            "Deprecated in NumPy 1.20; for more details and guidance: https://numpy.org/devdocs/release/1.20.0-notes.html#deprecations\n",
            "  dtypes=[np.float, np.int32, np.float])\n",
            "<ipython-input-4-d4e0d51f6ceb>:429: DeprecationWarning: `np.float` is a deprecated alias for the builtin `float`. To silence this warning, use `float` by itself. Doing this will not modify any behavior and is safe. If you specifically wanted the numpy scalar type, use `np.float64` here.\n",
            "Deprecated in NumPy 1.20; for more details and guidance: https://numpy.org/devdocs/release/1.20.0-notes.html#deprecations\n",
            "  dtypes=[np.float, np.int32, np.float])\n",
            "<ipython-input-4-d4e0d51f6ceb>:474: DeprecationWarning: `np.float` is a deprecated alias for the builtin `float`. To silence this warning, use `float` by itself. Doing this will not modify any behavior and is safe. If you specifically wanted the numpy scalar type, use `np.float64` here.\n",
            "Deprecated in NumPy 1.20; for more details and guidance: https://numpy.org/devdocs/release/1.20.0-notes.html#deprecations\n",
            "  dtypes=[np.float, np.int32, np.float])\n"
          ]
        },
        {
          "output_type": "stream",
          "name": "stdout",
          "text": [
            "connecting EUSaff cell 12 to INmplus cell 0\n",
            "connecting EUSaff cell 12 to INmplus cell 1\n",
            "connecting EUSaff cell 12 to INmplus cell 2\n",
            "connecting EUSaff cell 12 to INmplus cell 3\n",
            "connecting EUSaff cell 12 to INmplus cell 4\n",
            "connecting EUSaff cell 12 to INmplus cell 5\n",
            "connecting EUSaff cell 12 to INmplus cell 6\n",
            "connecting EUSaff cell 12 to INmplus cell 7\n",
            "connecting EUSaff cell 12 to INmplus cell 8\n",
            "connecting EUSaff cell 12 to INmplus cell 9\n",
            "connecting EUSaff cell 13 to INmplus cell 0\n",
            "connecting EUSaff cell 13 to INmplus cell 1\n",
            "connecting EUSaff cell 13 to INmplus cell 2\n",
            "connecting EUSaff cell 13 to INmplus cell 3\n",
            "connecting EUSaff cell 13 to INmplus cell 4\n",
            "connecting EUSaff cell 13 to INmplus cell 5\n",
            "connecting EUSaff cell 13 to INmplus cell 6\n",
            "connecting EUSaff cell 13 to INmplus cell 7\n",
            "connecting EUSaff cell 13 to INmplus cell 8\n",
            "connecting EUSaff cell 13 to INmplus cell 9\n",
            "connecting EUSaff cell 14 to INmplus cell 0\n",
            "connecting EUSaff cell 14 to INmplus cell 1\n",
            "connecting EUSaff cell 14 to INmplus cell 2\n",
            "connecting EUSaff cell 14 to INmplus cell 3\n",
            "connecting EUSaff cell 14 to INmplus cell 4\n",
            "connecting EUSaff cell 14 to INmplus cell 5\n",
            "connecting EUSaff cell 14 to INmplus cell 6\n",
            "connecting EUSaff cell 14 to INmplus cell 7\n",
            "connecting EUSaff cell 14 to INmplus cell 8\n",
            "connecting EUSaff cell 14 to INmplus cell 9\n",
            "connecting EUSaff cell 15 to INmplus cell 0\n",
            "connecting EUSaff cell 15 to INmplus cell 1\n",
            "connecting EUSaff cell 15 to INmplus cell 2\n",
            "connecting EUSaff cell 15 to INmplus cell 3\n",
            "connecting EUSaff cell 15 to INmplus cell 4\n",
            "connecting EUSaff cell 15 to INmplus cell 5\n",
            "connecting EUSaff cell 15 to INmplus cell 6\n",
            "connecting EUSaff cell 15 to INmplus cell 7\n",
            "connecting EUSaff cell 15 to INmplus cell 8\n",
            "connecting EUSaff cell 15 to INmplus cell 9\n",
            "connecting EUSaff cell 16 to INmplus cell 0\n",
            "connecting EUSaff cell 16 to INmplus cell 1\n",
            "connecting EUSaff cell 16 to INmplus cell 2\n",
            "connecting EUSaff cell 16 to INmplus cell 3\n",
            "connecting EUSaff cell 16 to INmplus cell 4\n",
            "connecting EUSaff cell 16 to INmplus cell 5\n",
            "connecting EUSaff cell 16 to INmplus cell 6\n",
            "connecting EUSaff cell 16 to INmplus cell 7\n",
            "connecting EUSaff cell 16 to INmplus cell 8\n",
            "connecting EUSaff cell 16 to INmplus cell 9\n",
            "connecting EUSaff cell 17 to INmplus cell 0\n",
            "connecting EUSaff cell 17 to INmplus cell 1\n",
            "connecting EUSaff cell 17 to INmplus cell 2\n",
            "connecting EUSaff cell 17 to INmplus cell 3\n",
            "connecting EUSaff cell 17 to INmplus cell 4\n",
            "connecting EUSaff cell 17 to INmplus cell 5\n",
            "connecting EUSaff cell 17 to INmplus cell 6\n",
            "connecting EUSaff cell 17 to INmplus cell 7\n",
            "connecting EUSaff cell 17 to INmplus cell 8\n",
            "connecting EUSaff cell 17 to INmplus cell 9\n",
            "connecting EUSaff cell 18 to INmplus cell 0\n",
            "connecting EUSaff cell 18 to INmplus cell 1\n",
            "connecting EUSaff cell 18 to INmplus cell 2\n",
            "connecting EUSaff cell 18 to INmplus cell 3\n",
            "connecting EUSaff cell 18 to INmplus cell 4\n",
            "connecting EUSaff cell 18 to INmplus cell 5\n",
            "connecting EUSaff cell 18 to INmplus cell 6\n",
            "connecting EUSaff cell 18 to INmplus cell 7\n",
            "connecting EUSaff cell 18 to INmplus cell 8\n",
            "connecting EUSaff cell 18 to INmplus cell 9\n",
            "connecting EUSaff cell 19 to INmplus cell 0\n",
            "connecting EUSaff cell 19 to INmplus cell 1\n",
            "connecting EUSaff cell 19 to INmplus cell 2\n",
            "connecting EUSaff cell 19 to INmplus cell 3\n",
            "connecting EUSaff cell 19 to INmplus cell 4\n",
            "connecting EUSaff cell 19 to INmplus cell 5\n",
            "connecting EUSaff cell 19 to INmplus cell 6\n",
            "connecting EUSaff cell 19 to INmplus cell 7\n",
            "connecting EUSaff cell 19 to INmplus cell 8\n",
            "connecting EUSaff cell 19 to INmplus cell 9\n",
            "connecting EUSaff cell 10 to INmminus cell 0\n",
            "connecting EUSaff cell 10 to INmminus cell 1\n",
            "connecting EUSaff cell 10 to INmminus cell 2\n",
            "connecting EUSaff cell 10 to INmminus cell 3\n",
            "connecting EUSaff cell 10 to INmminus cell 4\n",
            "connecting EUSaff cell 10 to INmminus cell 5\n",
            "connecting EUSaff cell 10 to INmminus cell 6\n",
            "connecting EUSaff cell 10 to INmminus cell 7\n",
            "connecting EUSaff cell 10 to INmminus cell 8\n",
            "connecting EUSaff cell 10 to INmminus cell 9\n",
            "connecting EUSaff cell 11 to INmminus cell 0\n",
            "connecting EUSaff cell 11 to INmminus cell 1\n",
            "connecting EUSaff cell 11 to INmminus cell 2\n",
            "connecting EUSaff cell 11 to INmminus cell 3\n",
            "connecting EUSaff cell 11 to INmminus cell 4\n",
            "connecting EUSaff cell 11 to INmminus cell 5\n",
            "connecting EUSaff cell 11 to INmminus cell 6\n",
            "connecting EUSaff cell 11 to INmminus cell 7\n",
            "connecting EUSaff cell 11 to INmminus cell 8\n",
            "connecting EUSaff cell 11 to INmminus cell 9\n",
            "connecting EUSaff cell 12 to INmminus cell 0\n",
            "connecting EUSaff cell 12 to INmminus cell 1\n",
            "connecting EUSaff cell 12 to INmminus cell 2\n",
            "connecting EUSaff cell 12 to INmminus cell 3\n",
            "connecting EUSaff cell 12 to INmminus cell 4\n",
            "connecting EUSaff cell 12 to INmminus cell 5\n",
            "connecting EUSaff cell 12 to INmminus cell 6\n",
            "connecting EUSaff cell 12 to INmminus cell 7\n",
            "connecting EUSaff cell 12 to INmminus cell 8\n",
            "connecting EUSaff cell 12 to INmminus cell 9\n",
            "connecting EUSaff cell 13 to INmminus cell 0\n",
            "connecting EUSaff cell 13 to INmminus cell 1\n",
            "connecting EUSaff cell 13 to INmminus cell 2\n",
            "connecting EUSaff cell 13 to INmminus cell 3\n",
            "connecting EUSaff cell 13 to INmminus cell 4\n",
            "connecting EUSaff cell 13 to INmminus cell 5\n",
            "connecting EUSaff cell 13 to INmminus cell 6\n",
            "connecting EUSaff cell 13 to INmminus cell 7\n",
            "connecting EUSaff cell 13 to INmminus cell 8\n",
            "connecting EUSaff cell 13 to INmminus cell 9\n",
            "connecting EUSaff cell 14 to INmminus cell 0\n",
            "connecting EUSaff cell 14 to INmminus cell 1\n",
            "connecting EUSaff cell 14 to INmminus cell 2\n",
            "connecting EUSaff cell 14 to INmminus cell 3\n",
            "connecting EUSaff cell 14 to INmminus cell 4\n",
            "connecting EUSaff cell 14 to INmminus cell 5\n",
            "connecting EUSaff cell 14 to INmminus cell 6\n",
            "connecting EUSaff cell 14 to INmminus cell 7\n",
            "connecting EUSaff cell 14 to INmminus cell 8\n",
            "connecting EUSaff cell 14 to INmminus cell 9\n",
            "connecting EUSaff cell 15 to INmminus cell 0\n",
            "connecting EUSaff cell 15 to INmminus cell 1\n",
            "connecting EUSaff cell 15 to INmminus cell 2\n",
            "connecting EUSaff cell 15 to INmminus cell 3\n",
            "connecting EUSaff cell 15 to INmminus cell 4\n",
            "connecting EUSaff cell 15 to INmminus cell 5\n",
            "connecting EUSaff cell 15 to INmminus cell 6\n",
            "connecting EUSaff cell 15 to INmminus cell 7\n",
            "connecting EUSaff cell 15 to INmminus cell 8\n",
            "connecting EUSaff cell 15 to INmminus cell 9\n",
            "connecting EUSaff cell 16 to INmminus cell 0\n",
            "connecting EUSaff cell 16 to INmminus cell 1\n",
            "connecting EUSaff cell 16 to INmminus cell 2\n",
            "connecting EUSaff cell 16 to INmminus cell 3\n",
            "connecting EUSaff cell 16 to INmminus cell 4\n",
            "connecting EUSaff cell 16 to INmminus cell 5\n",
            "connecting EUSaff cell 16 to INmminus cell 6\n",
            "connecting EUSaff cell 16 to INmminus cell 7\n",
            "connecting EUSaff cell 16 to INmminus cell 8\n",
            "connecting EUSaff cell 16 to INmminus cell 9\n",
            "connecting EUSaff cell 17 to INmminus cell 0\n",
            "connecting EUSaff cell 17 to INmminus cell 1\n",
            "connecting EUSaff cell 17 to INmminus cell 2\n",
            "connecting EUSaff cell 17 to INmminus cell 3\n",
            "connecting EUSaff cell 17 to INmminus cell 4\n",
            "connecting EUSaff cell 17 to INmminus cell 5\n",
            "connecting EUSaff cell 17 to INmminus cell 6\n",
            "connecting EUSaff cell 17 to INmminus cell 7\n",
            "connecting EUSaff cell 17 to INmminus cell 8\n",
            "connecting EUSaff cell 17 to INmminus cell 9\n",
            "connecting EUSaff cell 18 to INmminus cell 0\n",
            "connecting EUSaff cell 18 to INmminus cell 1\n",
            "connecting EUSaff cell 18 to INmminus cell 2\n",
            "connecting EUSaff cell 18 to INmminus cell 3\n",
            "connecting EUSaff cell 18 to INmminus cell 4\n",
            "connecting EUSaff cell 18 to INmminus cell 5\n",
            "connecting EUSaff cell 18 to INmminus cell 6\n",
            "connecting EUSaff cell 18 to INmminus cell 7\n",
            "connecting EUSaff cell 18 to INmminus cell 8\n",
            "connecting EUSaff cell 18 to INmminus cell 9\n",
            "connecting EUSaff cell 19 to INmminus cell 0\n",
            "connecting EUSaff cell 19 to INmminus cell 1\n",
            "connecting EUSaff cell 19 to INmminus cell 2\n",
            "connecting EUSaff cell 19 to INmminus cell 3\n",
            "connecting EUSaff cell 19 to INmminus cell 4\n",
            "connecting EUSaff cell 19 to INmminus cell 5\n",
            "connecting EUSaff cell 19 to INmminus cell 6\n",
            "connecting EUSaff cell 19 to INmminus cell 7\n",
            "connecting EUSaff cell 19 to INmminus cell 8\n",
            "connecting EUSaff cell 19 to INmminus cell 9\n",
            "connecting INmminus cell 1 to PGN cell 7\n",
            "connecting INmminus cell 2 to PGN cell 6\n",
            "connecting INmminus cell 5 to PGN cell 1\n",
            "connecting INmminus cell 5 to PGN cell 2\n",
            "connecting INmminus cell 5 to PGN cell 8\n",
            "connecting INmminus cell 6 to PGN cell 4\n",
            "connecting INmminus cell 7 to PGN cell 3\n",
            "connecting INmminus cell 8 to PGN cell 2\n",
            "connecting PGN cell 0 to MPG cell 0\n",
            "connecting PGN cell 0 to MPG cell 1\n",
            "connecting PGN cell 0 to MPG cell 2\n",
            "connecting PGN cell 0 to MPG cell 3\n",
            "connecting PGN cell 0 to MPG cell 4\n",
            "connecting PGN cell 0 to MPG cell 5\n",
            "connecting PGN cell 0 to MPG cell 6\n",
            "connecting PGN cell 0 to MPG cell 7\n",
            "connecting PGN cell 0 to MPG cell 8\n",
            "connecting PGN cell 0 to MPG cell 9\n",
            "connecting PGN cell 1 to MPG cell 0\n",
            "connecting PGN cell 1 to MPG cell 1\n",
            "connecting PGN cell 1 to MPG cell 2\n",
            "connecting PGN cell 1 to MPG cell 3\n",
            "connecting PGN cell 1 to MPG cell 4\n",
            "connecting PGN cell 1 to MPG cell 5\n",
            "connecting PGN cell 1 to MPG cell 6\n",
            "connecting PGN cell 1 to MPG cell 7\n",
            "connecting PGN cell 1 to MPG cell 8\n",
            "connecting PGN cell 1 to MPG cell 9\n",
            "connecting PGN cell 2 to MPG cell 0\n",
            "connecting PGN cell 2 to MPG cell 1\n",
            "connecting PGN cell 2 to MPG cell 2\n",
            "connecting PGN cell 2 to MPG cell 3\n",
            "connecting PGN cell 2 to MPG cell 4\n",
            "connecting PGN cell 2 to MPG cell 5\n",
            "connecting PGN cell 2 to MPG cell 6\n",
            "connecting PGN cell 2 to MPG cell 7\n",
            "connecting PGN cell 2 to MPG cell 8\n",
            "connecting PGN cell 2 to MPG cell 9\n",
            "connecting PGN cell 3 to MPG cell 0\n",
            "connecting PGN cell 3 to MPG cell 1\n",
            "connecting PGN cell 3 to MPG cell 2\n",
            "connecting PGN cell 3 to MPG cell 3\n",
            "connecting PGN cell 3 to MPG cell 4\n",
            "connecting PGN cell 3 to MPG cell 5\n",
            "connecting PGN cell 3 to MPG cell 6\n",
            "connecting PGN cell 3 to MPG cell 7\n",
            "connecting PGN cell 3 to MPG cell 8\n",
            "connecting PGN cell 3 to MPG cell 9\n",
            "connecting PGN cell 4 to MPG cell 0\n",
            "connecting PGN cell 4 to MPG cell 1\n",
            "connecting PGN cell 4 to MPG cell 2\n",
            "connecting PGN cell 4 to MPG cell 3\n",
            "connecting PGN cell 4 to MPG cell 4\n",
            "connecting PGN cell 4 to MPG cell 5\n",
            "connecting PGN cell 4 to MPG cell 6\n",
            "connecting PGN cell 4 to MPG cell 7\n",
            "connecting PGN cell 4 to MPG cell 8\n",
            "connecting PGN cell 4 to MPG cell 9\n",
            "connecting PGN cell 5 to MPG cell 0\n",
            "connecting PGN cell 5 to MPG cell 1\n",
            "connecting PGN cell 5 to MPG cell 2\n",
            "connecting PGN cell 5 to MPG cell 3\n",
            "connecting PGN cell 5 to MPG cell 4\n",
            "connecting PGN cell 5 to MPG cell 5\n",
            "connecting PGN cell 5 to MPG cell 6\n",
            "connecting PGN cell 5 to MPG cell 7\n",
            "connecting PGN cell 5 to MPG cell 8\n",
            "connecting PGN cell 5 to MPG cell 9\n",
            "connecting PGN cell 6 to MPG cell 0\n",
            "connecting PGN cell 6 to MPG cell 1\n",
            "connecting PGN cell 6 to MPG cell 2\n",
            "connecting PGN cell 6 to MPG cell 3\n",
            "connecting PGN cell 6 to MPG cell 4\n",
            "connecting PGN cell 6 to MPG cell 5\n",
            "connecting PGN cell 6 to MPG cell 6\n",
            "connecting PGN cell 6 to MPG cell 7\n",
            "connecting PGN cell 6 to MPG cell 8\n",
            "connecting PGN cell 6 to MPG cell 9\n",
            "connecting PGN cell 7 to MPG cell 0\n",
            "connecting PGN cell 7 to MPG cell 1\n",
            "connecting PGN cell 7 to MPG cell 2\n",
            "connecting PGN cell 7 to MPG cell 3\n",
            "connecting PGN cell 7 to MPG cell 4\n",
            "connecting PGN cell 7 to MPG cell 5\n",
            "connecting PGN cell 7 to MPG cell 6\n",
            "connecting PGN cell 7 to MPG cell 7\n",
            "connecting PGN cell 7 to MPG cell 8\n",
            "connecting PGN cell 7 to MPG cell 9\n",
            "connecting PGN cell 8 to MPG cell 0\n",
            "connecting PGN cell 8 to MPG cell 1\n",
            "connecting PGN cell 8 to MPG cell 2\n",
            "connecting PGN cell 8 to MPG cell 3\n",
            "connecting PGN cell 8 to MPG cell 4\n",
            "connecting PGN cell 8 to MPG cell 5\n",
            "connecting PGN cell 8 to MPG cell 6\n",
            "connecting PGN cell 8 to MPG cell 7\n",
            "connecting PGN cell 8 to MPG cell 8\n",
            "connecting PGN cell 8 to MPG cell 9\n",
            "connecting PGN cell 9 to MPG cell 0\n",
            "connecting PGN cell 9 to MPG cell 1\n",
            "connecting PGN cell 9 to MPG cell 2\n",
            "connecting PGN cell 9 to MPG cell 3\n",
            "connecting PGN cell 9 to MPG cell 4\n",
            "connecting PGN cell 9 to MPG cell 5\n",
            "connecting PGN cell 9 to MPG cell 6\n",
            "connecting PGN cell 9 to MPG cell 7\n",
            "connecting PGN cell 9 to MPG cell 8\n",
            "connecting PGN cell 9 to MPG cell 9\n",
            "connecting PGN cell 0 to FB cell 0\n",
            "connecting PGN cell 0 to FB cell 1\n",
            "connecting PGN cell 0 to FB cell 2\n",
            "connecting PGN cell 0 to FB cell 3\n",
            "connecting PGN cell 0 to FB cell 4\n",
            "connecting PGN cell 0 to FB cell 5\n",
            "connecting PGN cell 0 to FB cell 6\n",
            "connecting PGN cell 0 to FB cell 7\n",
            "connecting PGN cell 0 to FB cell 8\n",
            "connecting PGN cell 0 to FB cell 9\n",
            "connecting PGN cell 1 to FB cell 0\n",
            "connecting PGN cell 1 to FB cell 1\n",
            "connecting PGN cell 1 to FB cell 2\n",
            "connecting PGN cell 1 to FB cell 3\n",
            "connecting PGN cell 1 to FB cell 4\n",
            "connecting PGN cell 1 to FB cell 5\n",
            "connecting PGN cell 1 to FB cell 6\n",
            "connecting PGN cell 1 to FB cell 7\n",
            "connecting PGN cell 1 to FB cell 8\n",
            "connecting PGN cell 1 to FB cell 9\n",
            "connecting PGN cell 2 to FB cell 0\n",
            "connecting PGN cell 2 to FB cell 1\n",
            "connecting PGN cell 2 to FB cell 2\n",
            "connecting PGN cell 2 to FB cell 3\n",
            "connecting PGN cell 2 to FB cell 4\n",
            "connecting PGN cell 2 to FB cell 5\n",
            "connecting PGN cell 2 to FB cell 6\n",
            "connecting PGN cell 2 to FB cell 7\n",
            "connecting PGN cell 2 to FB cell 8\n",
            "connecting PGN cell 2 to FB cell 9\n",
            "connecting PGN cell 3 to FB cell 0\n",
            "connecting PGN cell 3 to FB cell 1\n",
            "connecting PGN cell 3 to FB cell 2\n",
            "connecting PGN cell 3 to FB cell 3\n",
            "connecting PGN cell 3 to FB cell 4\n",
            "connecting PGN cell 3 to FB cell 5\n",
            "connecting PGN cell 3 to FB cell 6\n",
            "connecting PGN cell 3 to FB cell 7\n",
            "connecting PGN cell 3 to FB cell 8\n",
            "connecting PGN cell 3 to FB cell 9\n",
            "connecting PGN cell 4 to FB cell 0\n",
            "connecting PGN cell 4 to FB cell 1\n",
            "connecting PGN cell 4 to FB cell 2\n",
            "connecting PGN cell 4 to FB cell 3\n",
            "connecting PGN cell 4 to FB cell 4\n",
            "connecting PGN cell 4 to FB cell 5\n",
            "connecting PGN cell 4 to FB cell 6\n",
            "connecting PGN cell 4 to FB cell 7\n",
            "connecting PGN cell 4 to FB cell 8\n",
            "connecting PGN cell 4 to FB cell 9\n",
            "connecting PGN cell 5 to FB cell 0\n",
            "connecting PGN cell 5 to FB cell 1\n",
            "connecting PGN cell 5 to FB cell 2\n",
            "connecting PGN cell 5 to FB cell 3\n",
            "connecting PGN cell 5 to FB cell 4\n",
            "connecting PGN cell 5 to FB cell 5\n",
            "connecting PGN cell 5 to FB cell 6\n",
            "connecting PGN cell 5 to FB cell 7\n",
            "connecting PGN cell 5 to FB cell 8\n",
            "connecting PGN cell 5 to FB cell 9\n",
            "connecting PGN cell 6 to FB cell 0\n",
            "connecting PGN cell 6 to FB cell 1\n",
            "connecting PGN cell 6 to FB cell 2\n",
            "connecting PGN cell 6 to FB cell 3\n",
            "connecting PGN cell 6 to FB cell 4\n",
            "connecting PGN cell 6 to FB cell 5\n",
            "connecting PGN cell 6 to FB cell 6\n",
            "connecting PGN cell 6 to FB cell 7\n",
            "connecting PGN cell 6 to FB cell 8\n",
            "connecting PGN cell 6 to FB cell 9\n",
            "connecting PGN cell 7 to FB cell 0\n",
            "connecting PGN cell 7 to FB cell 1\n",
            "connecting PGN cell 7 to FB cell 2\n",
            "connecting PGN cell 7 to FB cell 3\n",
            "connecting PGN cell 7 to FB cell 4\n",
            "connecting PGN cell 7 to FB cell 5\n",
            "connecting PGN cell 7 to FB cell 6\n",
            "connecting PGN cell 7 to FB cell 7\n",
            "connecting PGN cell 7 to FB cell 8\n",
            "connecting PGN cell 7 to FB cell 9\n",
            "connecting PGN cell 8 to FB cell 0\n",
            "connecting PGN cell 8 to FB cell 1\n",
            "connecting PGN cell 8 to FB cell 2\n",
            "connecting PGN cell 8 to FB cell 3\n",
            "connecting PGN cell 8 to FB cell 4\n",
            "connecting PGN cell 8 to FB cell 5\n",
            "connecting PGN cell 8 to FB cell 6\n",
            "connecting PGN cell 8 to FB cell 7\n",
            "connecting PGN cell 8 to FB cell 8\n",
            "connecting PGN cell 8 to FB cell 9\n",
            "connecting PGN cell 9 to FB cell 0\n",
            "connecting PGN cell 9 to FB cell 1\n",
            "connecting PGN cell 9 to FB cell 2\n",
            "connecting PGN cell 9 to FB cell 3\n",
            "connecting PGN cell 9 to FB cell 4\n",
            "connecting PGN cell 9 to FB cell 5\n",
            "connecting PGN cell 9 to FB cell 6\n",
            "connecting PGN cell 9 to FB cell 7\n",
            "connecting PGN cell 9 to FB cell 8\n",
            "connecting PGN cell 9 to FB cell 9\n",
            "connecting FB cell 0 to IND cell 0\n",
            "connecting FB cell 0 to IND cell 1\n",
            "connecting FB cell 0 to IND cell 2\n",
            "connecting FB cell 0 to IND cell 3\n",
            "connecting FB cell 0 to IND cell 4\n",
            "connecting FB cell 0 to IND cell 5\n",
            "connecting FB cell 0 to IND cell 6\n",
            "connecting FB cell 0 to IND cell 7\n",
            "connecting FB cell 0 to IND cell 8\n",
            "connecting FB cell 0 to IND cell 9\n",
            "connecting FB cell 1 to IND cell 0\n",
            "connecting FB cell 1 to IND cell 1\n",
            "connecting FB cell 1 to IND cell 2\n",
            "connecting FB cell 1 to IND cell 3\n",
            "connecting FB cell 1 to IND cell 4\n",
            "connecting FB cell 1 to IND cell 5\n",
            "connecting FB cell 1 to IND cell 6\n",
            "connecting FB cell 1 to IND cell 7\n",
            "connecting FB cell 1 to IND cell 8\n",
            "connecting FB cell 1 to IND cell 9\n",
            "connecting FB cell 2 to IND cell 0\n",
            "connecting FB cell 2 to IND cell 1\n",
            "connecting FB cell 2 to IND cell 2\n",
            "connecting FB cell 2 to IND cell 3\n",
            "connecting FB cell 2 to IND cell 4\n",
            "connecting FB cell 2 to IND cell 5\n",
            "connecting FB cell 2 to IND cell 6\n",
            "connecting FB cell 2 to IND cell 7\n",
            "connecting FB cell 2 to IND cell 8\n",
            "connecting FB cell 2 to IND cell 9\n",
            "connecting FB cell 3 to IND cell 0\n",
            "connecting FB cell 3 to IND cell 1\n",
            "connecting FB cell 3 to IND cell 2\n",
            "connecting FB cell 3 to IND cell 3\n",
            "connecting FB cell 3 to IND cell 4\n",
            "connecting FB cell 3 to IND cell 5\n",
            "connecting FB cell 3 to IND cell 6\n",
            "connecting FB cell 3 to IND cell 7\n",
            "connecting FB cell 3 to IND cell 8\n",
            "connecting FB cell 3 to IND cell 9\n",
            "connecting FB cell 4 to IND cell 0\n",
            "connecting FB cell 4 to IND cell 1\n",
            "connecting FB cell 4 to IND cell 2\n",
            "connecting FB cell 4 to IND cell 3\n",
            "connecting FB cell 4 to IND cell 4\n",
            "connecting FB cell 4 to IND cell 5\n",
            "connecting FB cell 4 to IND cell 6\n",
            "connecting FB cell 4 to IND cell 7\n",
            "connecting FB cell 4 to IND cell 8\n",
            "connecting FB cell 4 to IND cell 9\n",
            "connecting FB cell 5 to IND cell 0\n",
            "connecting FB cell 5 to IND cell 1\n",
            "connecting FB cell 5 to IND cell 2\n",
            "connecting FB cell 5 to IND cell 3\n",
            "connecting FB cell 5 to IND cell 4\n",
            "connecting FB cell 5 to IND cell 5\n",
            "connecting FB cell 5 to IND cell 6\n",
            "connecting FB cell 5 to IND cell 7\n",
            "connecting FB cell 5 to IND cell 8\n",
            "connecting FB cell 5 to IND cell 9\n",
            "connecting FB cell 6 to IND cell 0\n",
            "connecting FB cell 6 to IND cell 1\n",
            "connecting FB cell 6 to IND cell 2\n",
            "connecting FB cell 6 to IND cell 3\n",
            "connecting FB cell 6 to IND cell 4\n",
            "connecting FB cell 6 to IND cell 5\n",
            "connecting FB cell 6 to IND cell 6\n",
            "connecting FB cell 6 to IND cell 7\n",
            "connecting FB cell 6 to IND cell 8\n",
            "connecting FB cell 6 to IND cell 9\n",
            "connecting FB cell 7 to IND cell 0\n",
            "connecting FB cell 7 to IND cell 1\n",
            "connecting FB cell 7 to IND cell 2\n",
            "connecting FB cell 7 to IND cell 3\n",
            "connecting FB cell 7 to IND cell 4\n",
            "connecting FB cell 7 to IND cell 5\n",
            "connecting FB cell 7 to IND cell 6\n",
            "connecting FB cell 7 to IND cell 7\n",
            "connecting FB cell 7 to IND cell 8\n",
            "connecting FB cell 7 to IND cell 9\n",
            "connecting FB cell 8 to IND cell 0\n",
            "connecting FB cell 8 to IND cell 1\n",
            "connecting FB cell 8 to IND cell 2\n",
            "connecting FB cell 8 to IND cell 3\n",
            "connecting FB cell 8 to IND cell 4\n",
            "connecting FB cell 8 to IND cell 5\n",
            "connecting FB cell 8 to IND cell 6\n",
            "connecting FB cell 8 to IND cell 7\n",
            "connecting FB cell 8 to IND cell 8\n",
            "connecting FB cell 8 to IND cell 9\n",
            "connecting FB cell 9 to IND cell 0\n",
            "connecting FB cell 9 to IND cell 1\n",
            "connecting FB cell 9 to IND cell 2\n",
            "connecting FB cell 9 to IND cell 3\n",
            "connecting FB cell 9 to IND cell 4\n",
            "connecting FB cell 9 to IND cell 5\n",
            "connecting FB cell 9 to IND cell 6\n",
            "connecting FB cell 9 to IND cell 7\n",
            "connecting FB cell 9 to IND cell 8\n",
            "connecting FB cell 9 to IND cell 9\n",
            "connecting PAGaff cell -10 to Hypo cell 0\n",
            "connecting PAGaff cell -10 to Hypo cell 1\n",
            "connecting PAGaff cell -10 to Hypo cell 2\n",
            "connecting PAGaff cell -10 to Hypo cell 3\n",
            "connecting PAGaff cell -10 to Hypo cell 4\n",
            "connecting PAGaff cell -10 to Hypo cell 5\n",
            "connecting PAGaff cell -10 to Hypo cell 6\n",
            "connecting PAGaff cell -10 to Hypo cell 7\n",
            "connecting PAGaff cell -10 to Hypo cell 8\n",
            "connecting PAGaff cell -10 to Hypo cell 9\n",
            "connecting PAGaff cell -9 to Hypo cell 0\n",
            "connecting PAGaff cell -9 to Hypo cell 1\n",
            "connecting PAGaff cell -9 to Hypo cell 2\n",
            "connecting PAGaff cell -9 to Hypo cell 3\n",
            "connecting PAGaff cell -9 to Hypo cell 4\n",
            "connecting PAGaff cell -9 to Hypo cell 5\n",
            "connecting PAGaff cell -9 to Hypo cell 6\n",
            "connecting PAGaff cell -9 to Hypo cell 7\n",
            "connecting PAGaff cell -9 to Hypo cell 8\n",
            "connecting PAGaff cell -9 to Hypo cell 9\n",
            "connecting PAGaff cell -8 to Hypo cell 0\n",
            "connecting PAGaff cell -8 to Hypo cell 1\n",
            "connecting PAGaff cell -8 to Hypo cell 2\n",
            "connecting PAGaff cell -8 to Hypo cell 3\n",
            "connecting PAGaff cell -8 to Hypo cell 4\n",
            "connecting PAGaff cell -8 to Hypo cell 5\n",
            "connecting PAGaff cell -8 to Hypo cell 6\n",
            "connecting PAGaff cell -8 to Hypo cell 7\n",
            "connecting PAGaff cell -8 to Hypo cell 8\n",
            "connecting PAGaff cell -8 to Hypo cell 9\n",
            "connecting PAGaff cell -7 to Hypo cell 0\n",
            "connecting PAGaff cell -7 to Hypo cell 1\n",
            "connecting PAGaff cell -7 to Hypo cell 2\n",
            "connecting PAGaff cell -7 to Hypo cell 3\n",
            "connecting PAGaff cell -7 to Hypo cell 4\n",
            "connecting PAGaff cell -7 to Hypo cell 5\n",
            "connecting PAGaff cell -7 to Hypo cell 6\n",
            "connecting PAGaff cell -7 to Hypo cell 7\n",
            "connecting PAGaff cell -7 to Hypo cell 8\n",
            "connecting PAGaff cell -7 to Hypo cell 9\n",
            "connecting PAGaff cell -6 to Hypo cell 0\n",
            "connecting PAGaff cell -6 to Hypo cell 1\n",
            "connecting PAGaff cell -6 to Hypo cell 2\n",
            "connecting PAGaff cell -6 to Hypo cell 3\n",
            "connecting PAGaff cell -6 to Hypo cell 4\n",
            "connecting PAGaff cell -6 to Hypo cell 5\n",
            "connecting PAGaff cell -6 to Hypo cell 6\n",
            "connecting PAGaff cell -6 to Hypo cell 7\n",
            "connecting PAGaff cell -6 to Hypo cell 8\n",
            "connecting PAGaff cell -6 to Hypo cell 9\n",
            "connecting PAGaff cell -5 to Hypo cell 0\n",
            "connecting PAGaff cell -5 to Hypo cell 1\n",
            "connecting PAGaff cell -5 to Hypo cell 2\n",
            "connecting PAGaff cell -5 to Hypo cell 3\n",
            "connecting PAGaff cell -5 to Hypo cell 4\n",
            "connecting PAGaff cell -5 to Hypo cell 5\n",
            "connecting PAGaff cell -5 to Hypo cell 6\n",
            "connecting PAGaff cell -5 to Hypo cell 7\n",
            "connecting PAGaff cell -5 to Hypo cell 8\n",
            "connecting PAGaff cell -5 to Hypo cell 9\n",
            "connecting PAGaff cell -4 to Hypo cell 0\n",
            "connecting PAGaff cell -4 to Hypo cell 1\n",
            "connecting PAGaff cell -4 to Hypo cell 2\n",
            "connecting PAGaff cell -4 to Hypo cell 3\n",
            "connecting PAGaff cell -4 to Hypo cell 4\n",
            "connecting PAGaff cell -4 to Hypo cell 5\n",
            "connecting PAGaff cell -4 to Hypo cell 6\n",
            "connecting PAGaff cell -4 to Hypo cell 7\n",
            "connecting PAGaff cell -4 to Hypo cell 8\n",
            "connecting PAGaff cell -4 to Hypo cell 9\n",
            "connecting PAGaff cell -3 to Hypo cell 0\n",
            "connecting PAGaff cell -3 to Hypo cell 1\n",
            "connecting PAGaff cell -3 to Hypo cell 2\n",
            "connecting PAGaff cell -3 to Hypo cell 3\n",
            "connecting PAGaff cell -3 to Hypo cell 4\n",
            "connecting PAGaff cell -3 to Hypo cell 5\n",
            "connecting PAGaff cell -3 to Hypo cell 6\n",
            "connecting PAGaff cell -3 to Hypo cell 7\n",
            "connecting PAGaff cell -3 to Hypo cell 8\n",
            "connecting PAGaff cell -3 to Hypo cell 9\n",
            "connecting PAGaff cell -2 to Hypo cell 0\n",
            "connecting PAGaff cell -2 to Hypo cell 1\n",
            "connecting PAGaff cell -2 to Hypo cell 2\n",
            "connecting PAGaff cell -2 to Hypo cell 3\n",
            "connecting PAGaff cell -2 to Hypo cell 4\n",
            "connecting PAGaff cell -2 to Hypo cell 5\n",
            "connecting PAGaff cell -2 to Hypo cell 6\n",
            "connecting PAGaff cell -2 to Hypo cell 7\n",
            "connecting PAGaff cell -2 to Hypo cell 8\n",
            "connecting PAGaff cell -2 to Hypo cell 9\n",
            "connecting PAGaff cell -1 to Hypo cell 0\n",
            "connecting PAGaff cell -1 to Hypo cell 1\n",
            "connecting PAGaff cell -1 to Hypo cell 2\n",
            "connecting PAGaff cell -1 to Hypo cell 3\n",
            "connecting PAGaff cell -1 to Hypo cell 4\n",
            "connecting PAGaff cell -1 to Hypo cell 5\n",
            "connecting PAGaff cell -1 to Hypo cell 6\n",
            "connecting PAGaff cell -1 to Hypo cell 7\n",
            "connecting PAGaff cell -1 to Hypo cell 8\n",
            "connecting PAGaff cell -1 to Hypo cell 9\n",
            "connecting Blad_aff_virt cell 0 to Bladaff cell 0\n",
            "connecting Blad_aff_virt cell 0 to Bladaff cell 1\n",
            "connecting Blad_aff_virt cell 0 to Bladaff cell 2\n",
            "connecting Blad_aff_virt cell 0 to Bladaff cell 3\n",
            "connecting Blad_aff_virt cell 0 to Bladaff cell 4\n",
            "connecting Blad_aff_virt cell 0 to Bladaff cell 5\n",
            "connecting Blad_aff_virt cell 0 to Bladaff cell 6\n",
            "connecting Blad_aff_virt cell 0 to Bladaff cell 7\n",
            "connecting Blad_aff_virt cell 0 to Bladaff cell 8\n",
            "connecting Blad_aff_virt cell 0 to Bladaff cell 9\n",
            "connecting Blad_aff_virt cell 1 to Bladaff cell 0\n",
            "connecting Blad_aff_virt cell 1 to Bladaff cell 1\n",
            "connecting Blad_aff_virt cell 1 to Bladaff cell 2\n",
            "connecting Blad_aff_virt cell 1 to Bladaff cell 3\n",
            "connecting Blad_aff_virt cell 1 to Bladaff cell 4\n",
            "connecting Blad_aff_virt cell 1 to Bladaff cell 5\n",
            "connecting Blad_aff_virt cell 1 to Bladaff cell 6\n",
            "connecting Blad_aff_virt cell 1 to Bladaff cell 7\n",
            "connecting Blad_aff_virt cell 1 to Bladaff cell 8\n",
            "connecting Blad_aff_virt cell 1 to Bladaff cell 9\n",
            "connecting Blad_aff_virt cell 2 to Bladaff cell 0\n",
            "connecting Blad_aff_virt cell 2 to Bladaff cell 1\n",
            "connecting Blad_aff_virt cell 2 to Bladaff cell 2\n",
            "connecting Blad_aff_virt cell 2 to Bladaff cell 3\n",
            "connecting Blad_aff_virt cell 2 to Bladaff cell 4\n",
            "connecting Blad_aff_virt cell 2 to Bladaff cell 5\n",
            "connecting Blad_aff_virt cell 2 to Bladaff cell 6\n",
            "connecting Blad_aff_virt cell 2 to Bladaff cell 7\n",
            "connecting Blad_aff_virt cell 2 to Bladaff cell 8\n",
            "connecting Blad_aff_virt cell 2 to Bladaff cell 9\n",
            "connecting Blad_aff_virt cell 3 to Bladaff cell 0\n",
            "connecting Blad_aff_virt cell 3 to Bladaff cell 1\n",
            "connecting Blad_aff_virt cell 3 to Bladaff cell 2\n",
            "connecting Blad_aff_virt cell 3 to Bladaff cell 3\n",
            "connecting Blad_aff_virt cell 3 to Bladaff cell 4\n",
            "connecting Blad_aff_virt cell 3 to Bladaff cell 5\n",
            "connecting Blad_aff_virt cell 3 to Bladaff cell 6\n",
            "connecting Blad_aff_virt cell 3 to Bladaff cell 7\n",
            "connecting Blad_aff_virt cell 3 to Bladaff cell 8\n",
            "connecting Blad_aff_virt cell 3 to Bladaff cell 9\n",
            "connecting Blad_aff_virt cell 4 to Bladaff cell 0\n",
            "connecting Blad_aff_virt cell 4 to Bladaff cell 1\n",
            "connecting Blad_aff_virt cell 4 to Bladaff cell 2\n",
            "connecting Blad_aff_virt cell 4 to Bladaff cell 3\n",
            "connecting Blad_aff_virt cell 4 to Bladaff cell 4\n",
            "connecting Blad_aff_virt cell 4 to Bladaff cell 5\n",
            "connecting Blad_aff_virt cell 4 to Bladaff cell 6\n",
            "connecting Blad_aff_virt cell 4 to Bladaff cell 7\n",
            "connecting Blad_aff_virt cell 4 to Bladaff cell 8\n",
            "connecting Blad_aff_virt cell 4 to Bladaff cell 9\n",
            "connecting Blad_aff_virt cell 5 to Bladaff cell 0\n",
            "connecting Blad_aff_virt cell 5 to Bladaff cell 1\n",
            "connecting Blad_aff_virt cell 5 to Bladaff cell 2\n",
            "connecting Blad_aff_virt cell 5 to Bladaff cell 3\n",
            "connecting Blad_aff_virt cell 5 to Bladaff cell 4\n",
            "connecting Blad_aff_virt cell 5 to Bladaff cell 5\n",
            "connecting Blad_aff_virt cell 5 to Bladaff cell 6\n",
            "connecting Blad_aff_virt cell 5 to Bladaff cell 7\n",
            "connecting Blad_aff_virt cell 5 to Bladaff cell 8\n",
            "connecting Blad_aff_virt cell 5 to Bladaff cell 9\n",
            "connecting Blad_aff_virt cell 6 to Bladaff cell 0\n",
            "connecting Blad_aff_virt cell 6 to Bladaff cell 1\n",
            "connecting Blad_aff_virt cell 6 to Bladaff cell 2\n",
            "connecting Blad_aff_virt cell 6 to Bladaff cell 3\n",
            "connecting Blad_aff_virt cell 6 to Bladaff cell 4\n",
            "connecting Blad_aff_virt cell 6 to Bladaff cell 5\n",
            "connecting Blad_aff_virt cell 6 to Bladaff cell 6\n",
            "connecting Blad_aff_virt cell 6 to Bladaff cell 7\n",
            "connecting Blad_aff_virt cell 6 to Bladaff cell 8\n",
            "connecting Blad_aff_virt cell 6 to Bladaff cell 9\n",
            "connecting Blad_aff_virt cell 7 to Bladaff cell 0\n",
            "connecting Blad_aff_virt cell 7 to Bladaff cell 1\n",
            "connecting Blad_aff_virt cell 7 to Bladaff cell 2\n",
            "connecting Blad_aff_virt cell 7 to Bladaff cell 3\n",
            "connecting Blad_aff_virt cell 7 to Bladaff cell 4\n",
            "connecting Blad_aff_virt cell 7 to Bladaff cell 5\n",
            "connecting Blad_aff_virt cell 7 to Bladaff cell 6\n",
            "connecting Blad_aff_virt cell 7 to Bladaff cell 7\n",
            "connecting Blad_aff_virt cell 7 to Bladaff cell 8\n",
            "connecting Blad_aff_virt cell 7 to Bladaff cell 9\n",
            "connecting Blad_aff_virt cell 8 to Bladaff cell 0\n",
            "connecting Blad_aff_virt cell 8 to Bladaff cell 1\n",
            "connecting Blad_aff_virt cell 8 to Bladaff cell 2\n",
            "connecting Blad_aff_virt cell 8 to Bladaff cell 3\n",
            "connecting Blad_aff_virt cell 8 to Bladaff cell 4\n",
            "connecting Blad_aff_virt cell 8 to Bladaff cell 5\n",
            "connecting Blad_aff_virt cell 8 to Bladaff cell 6\n",
            "connecting Blad_aff_virt cell 8 to Bladaff cell 7\n",
            "connecting Blad_aff_virt cell 8 to Bladaff cell 8\n",
            "connecting Blad_aff_virt cell 8 to Bladaff cell 9\n",
            "connecting Blad_aff_virt cell 9 to Bladaff cell 0\n",
            "connecting Blad_aff_virt cell 9 to Bladaff cell 1\n",
            "connecting Blad_aff_virt cell 9 to Bladaff cell 2\n",
            "connecting Blad_aff_virt cell 9 to Bladaff cell 3\n",
            "connecting Blad_aff_virt cell 9 to Bladaff cell 4\n",
            "connecting Blad_aff_virt cell 9 to Bladaff cell 5\n",
            "connecting Blad_aff_virt cell 9 to Bladaff cell 6\n",
            "connecting Blad_aff_virt cell 9 to Bladaff cell 7\n",
            "connecting Blad_aff_virt cell 9 to Bladaff cell 8\n",
            "connecting Blad_aff_virt cell 9 to Bladaff cell 9\n",
            "connecting EUS_aff_virt cell 0 to EUSaff cell 10\n",
            "connecting EUS_aff_virt cell 0 to EUSaff cell 11\n",
            "connecting EUS_aff_virt cell 0 to EUSaff cell 12\n",
            "connecting EUS_aff_virt cell 0 to EUSaff cell 13\n",
            "connecting EUS_aff_virt cell 0 to EUSaff cell 14\n",
            "connecting EUS_aff_virt cell 0 to EUSaff cell 15\n",
            "connecting EUS_aff_virt cell 0 to EUSaff cell 16\n",
            "connecting EUS_aff_virt cell 0 to EUSaff cell 17\n",
            "connecting EUS_aff_virt cell 0 to EUSaff cell 18\n",
            "connecting EUS_aff_virt cell 0 to EUSaff cell 19\n",
            "connecting EUS_aff_virt cell 1 to EUSaff cell 10\n",
            "connecting EUS_aff_virt cell 1 to EUSaff cell 11\n",
            "connecting EUS_aff_virt cell 1 to EUSaff cell 12\n",
            "connecting EUS_aff_virt cell 1 to EUSaff cell 13\n",
            "connecting EUS_aff_virt cell 1 to EUSaff cell 14\n",
            "connecting EUS_aff_virt cell 1 to EUSaff cell 15\n",
            "connecting EUS_aff_virt cell 1 to EUSaff cell 16\n",
            "connecting EUS_aff_virt cell 1 to EUSaff cell 17\n",
            "connecting EUS_aff_virt cell 1 to EUSaff cell 18\n",
            "connecting EUS_aff_virt cell 1 to EUSaff cell 19\n",
            "connecting EUS_aff_virt cell 2 to EUSaff cell 10\n",
            "connecting EUS_aff_virt cell 2 to EUSaff cell 11\n",
            "connecting EUS_aff_virt cell 2 to EUSaff cell 12\n",
            "connecting EUS_aff_virt cell 2 to EUSaff cell 13\n",
            "connecting EUS_aff_virt cell 2 to EUSaff cell 14\n",
            "connecting EUS_aff_virt cell 2 to EUSaff cell 15\n",
            "connecting EUS_aff_virt cell 2 to EUSaff cell 16\n",
            "connecting EUS_aff_virt cell 2 to EUSaff cell 17\n",
            "connecting EUS_aff_virt cell 2 to EUSaff cell 18\n",
            "connecting EUS_aff_virt cell 2 to EUSaff cell 19\n",
            "connecting EUS_aff_virt cell 3 to EUSaff cell 10\n",
            "connecting EUS_aff_virt cell 3 to EUSaff cell 11\n",
            "connecting EUS_aff_virt cell 3 to EUSaff cell 12\n",
            "connecting EUS_aff_virt cell 3 to EUSaff cell 13\n",
            "connecting EUS_aff_virt cell 3 to EUSaff cell 14\n",
            "connecting EUS_aff_virt cell 3 to EUSaff cell 15\n",
            "connecting EUS_aff_virt cell 3 to EUSaff cell 16\n",
            "connecting EUS_aff_virt cell 3 to EUSaff cell 17\n",
            "connecting EUS_aff_virt cell 3 to EUSaff cell 18\n",
            "connecting EUS_aff_virt cell 3 to EUSaff cell 19\n",
            "connecting EUS_aff_virt cell 4 to EUSaff cell 10\n",
            "connecting EUS_aff_virt cell 4 to EUSaff cell 11\n",
            "connecting EUS_aff_virt cell 4 to EUSaff cell 12\n",
            "connecting EUS_aff_virt cell 4 to EUSaff cell 13\n",
            "connecting EUS_aff_virt cell 4 to EUSaff cell 14\n",
            "connecting EUS_aff_virt cell 4 to EUSaff cell 15\n",
            "connecting EUS_aff_virt cell 4 to EUSaff cell 16\n",
            "connecting EUS_aff_virt cell 4 to EUSaff cell 17\n",
            "connecting EUS_aff_virt cell 4 to EUSaff cell 18\n",
            "connecting EUS_aff_virt cell 4 to EUSaff cell 19\n",
            "connecting EUS_aff_virt cell 5 to EUSaff cell 10\n",
            "connecting EUS_aff_virt cell 5 to EUSaff cell 11\n",
            "connecting EUS_aff_virt cell 5 to EUSaff cell 12\n",
            "connecting EUS_aff_virt cell 5 to EUSaff cell 13\n",
            "connecting EUS_aff_virt cell 5 to EUSaff cell 14\n",
            "connecting EUS_aff_virt cell 5 to EUSaff cell 15\n",
            "connecting EUS_aff_virt cell 5 to EUSaff cell 16\n",
            "connecting EUS_aff_virt cell 5 to EUSaff cell 17\n",
            "connecting EUS_aff_virt cell 5 to EUSaff cell 18\n",
            "connecting EUS_aff_virt cell 5 to EUSaff cell 19\n",
            "connecting EUS_aff_virt cell 6 to EUSaff cell 10\n",
            "connecting EUS_aff_virt cell 6 to EUSaff cell 11\n",
            "connecting EUS_aff_virt cell 6 to EUSaff cell 12\n",
            "connecting EUS_aff_virt cell 6 to EUSaff cell 13\n",
            "connecting EUS_aff_virt cell 6 to EUSaff cell 14\n",
            "connecting EUS_aff_virt cell 6 to EUSaff cell 15\n",
            "connecting EUS_aff_virt cell 6 to EUSaff cell 16\n",
            "connecting EUS_aff_virt cell 6 to EUSaff cell 17\n",
            "connecting EUS_aff_virt cell 6 to EUSaff cell 18\n",
            "connecting EUS_aff_virt cell 6 to EUSaff cell 19\n",
            "connecting EUS_aff_virt cell 7 to EUSaff cell 10\n",
            "connecting EUS_aff_virt cell 7 to EUSaff cell 11\n",
            "connecting EUS_aff_virt cell 7 to EUSaff cell 12\n",
            "connecting EUS_aff_virt cell 7 to EUSaff cell 13\n",
            "connecting EUS_aff_virt cell 7 to EUSaff cell 14\n",
            "connecting EUS_aff_virt cell 7 to EUSaff cell 15\n",
            "connecting EUS_aff_virt cell 7 to EUSaff cell 16\n",
            "connecting EUS_aff_virt cell 7 to EUSaff cell 17\n",
            "connecting EUS_aff_virt cell 7 to EUSaff cell 18\n",
            "connecting EUS_aff_virt cell 7 to EUSaff cell 19\n",
            "connecting EUS_aff_virt cell 8 to EUSaff cell 10\n",
            "connecting EUS_aff_virt cell 8 to EUSaff cell 11\n",
            "connecting EUS_aff_virt cell 8 to EUSaff cell 12\n",
            "connecting EUS_aff_virt cell 8 to EUSaff cell 13\n",
            "connecting EUS_aff_virt cell 8 to EUSaff cell 14\n",
            "connecting EUS_aff_virt cell 8 to EUSaff cell 15\n",
            "connecting EUS_aff_virt cell 8 to EUSaff cell 16\n",
            "connecting EUS_aff_virt cell 8 to EUSaff cell 17\n",
            "connecting EUS_aff_virt cell 8 to EUSaff cell 18\n",
            "connecting EUS_aff_virt cell 8 to EUSaff cell 19\n",
            "connecting EUS_aff_virt cell 9 to EUSaff cell 10\n",
            "connecting EUS_aff_virt cell 9 to EUSaff cell 11\n",
            "connecting EUS_aff_virt cell 9 to EUSaff cell 12\n",
            "connecting EUS_aff_virt cell 9 to EUSaff cell 13\n",
            "connecting EUS_aff_virt cell 9 to EUSaff cell 14\n",
            "connecting EUS_aff_virt cell 9 to EUSaff cell 15\n",
            "connecting EUS_aff_virt cell 9 to EUSaff cell 16\n",
            "connecting EUS_aff_virt cell 9 to EUSaff cell 17\n",
            "connecting EUS_aff_virt cell 9 to EUSaff cell 18\n",
            "connecting EUS_aff_virt cell 9 to EUSaff cell 19\n",
            "connecting PAG_aff_virt cell 0 to PAGaff cell -10\n",
            "connecting PAG_aff_virt cell 0 to PAGaff cell -9\n",
            "connecting PAG_aff_virt cell 0 to PAGaff cell -8\n",
            "connecting PAG_aff_virt cell 0 to PAGaff cell -7\n",
            "connecting PAG_aff_virt cell 0 to PAGaff cell -6\n",
            "connecting PAG_aff_virt cell 0 to PAGaff cell -5\n",
            "connecting PAG_aff_virt cell 0 to PAGaff cell -4\n",
            "connecting PAG_aff_virt cell 0 to PAGaff cell -3\n",
            "connecting PAG_aff_virt cell 0 to PAGaff cell -2\n",
            "connecting PAG_aff_virt cell 0 to PAGaff cell -1\n",
            "connecting PAG_aff_virt cell 1 to PAGaff cell -10\n",
            "connecting PAG_aff_virt cell 1 to PAGaff cell -9\n",
            "connecting PAG_aff_virt cell 1 to PAGaff cell -8\n",
            "connecting PAG_aff_virt cell 1 to PAGaff cell -7\n",
            "connecting PAG_aff_virt cell 1 to PAGaff cell -6\n",
            "connecting PAG_aff_virt cell 1 to PAGaff cell -5\n",
            "connecting PAG_aff_virt cell 1 to PAGaff cell -4\n",
            "connecting PAG_aff_virt cell 1 to PAGaff cell -3\n",
            "connecting PAG_aff_virt cell 1 to PAGaff cell -2\n",
            "connecting PAG_aff_virt cell 1 to PAGaff cell -1\n",
            "connecting PAG_aff_virt cell 2 to PAGaff cell -10\n",
            "connecting PAG_aff_virt cell 2 to PAGaff cell -9\n",
            "connecting PAG_aff_virt cell 2 to PAGaff cell -8\n",
            "connecting PAG_aff_virt cell 2 to PAGaff cell -7\n",
            "connecting PAG_aff_virt cell 2 to PAGaff cell -6\n",
            "connecting PAG_aff_virt cell 2 to PAGaff cell -5\n",
            "connecting PAG_aff_virt cell 2 to PAGaff cell -4\n",
            "connecting PAG_aff_virt cell 2 to PAGaff cell -3\n",
            "connecting PAG_aff_virt cell 2 to PAGaff cell -2\n",
            "connecting PAG_aff_virt cell 2 to PAGaff cell -1\n",
            "connecting PAG_aff_virt cell 3 to PAGaff cell -10\n",
            "connecting PAG_aff_virt cell 3 to PAGaff cell -9\n",
            "connecting PAG_aff_virt cell 3 to PAGaff cell -8\n",
            "connecting PAG_aff_virt cell 3 to PAGaff cell -7\n",
            "connecting PAG_aff_virt cell 3 to PAGaff cell -6\n",
            "connecting PAG_aff_virt cell 3 to PAGaff cell -5\n",
            "connecting PAG_aff_virt cell 3 to PAGaff cell -4\n",
            "connecting PAG_aff_virt cell 3 to PAGaff cell -3\n",
            "connecting PAG_aff_virt cell 3 to PAGaff cell -2\n",
            "connecting PAG_aff_virt cell 3 to PAGaff cell -1\n",
            "connecting PAG_aff_virt cell 4 to PAGaff cell -10\n",
            "connecting PAG_aff_virt cell 4 to PAGaff cell -9\n",
            "connecting PAG_aff_virt cell 4 to PAGaff cell -8\n",
            "connecting PAG_aff_virt cell 4 to PAGaff cell -7\n",
            "connecting PAG_aff_virt cell 4 to PAGaff cell -6\n",
            "connecting PAG_aff_virt cell 4 to PAGaff cell -5\n",
            "connecting PAG_aff_virt cell 4 to PAGaff cell -4\n",
            "connecting PAG_aff_virt cell 4 to PAGaff cell -3\n",
            "connecting PAG_aff_virt cell 4 to PAGaff cell -2\n",
            "connecting PAG_aff_virt cell 4 to PAGaff cell -1\n",
            "connecting PAG_aff_virt cell 5 to PAGaff cell -10\n",
            "connecting PAG_aff_virt cell 5 to PAGaff cell -9\n",
            "connecting PAG_aff_virt cell 5 to PAGaff cell -8\n",
            "connecting PAG_aff_virt cell 5 to PAGaff cell -7\n",
            "connecting PAG_aff_virt cell 5 to PAGaff cell -6\n",
            "connecting PAG_aff_virt cell 5 to PAGaff cell -5\n",
            "connecting PAG_aff_virt cell 5 to PAGaff cell -4\n",
            "connecting PAG_aff_virt cell 5 to PAGaff cell -3\n",
            "connecting PAG_aff_virt cell 5 to PAGaff cell -2\n",
            "connecting PAG_aff_virt cell 5 to PAGaff cell -1\n",
            "connecting PAG_aff_virt cell 6 to PAGaff cell -10\n",
            "connecting PAG_aff_virt cell 6 to PAGaff cell -9\n",
            "connecting PAG_aff_virt cell 6 to PAGaff cell -8\n",
            "connecting PAG_aff_virt cell 6 to PAGaff cell -7\n",
            "connecting PAG_aff_virt cell 6 to PAGaff cell -6\n",
            "connecting PAG_aff_virt cell 6 to PAGaff cell -5\n",
            "connecting PAG_aff_virt cell 6 to PAGaff cell -4\n",
            "connecting PAG_aff_virt cell 6 to PAGaff cell -3\n",
            "connecting PAG_aff_virt cell 6 to PAGaff cell -2\n",
            "connecting PAG_aff_virt cell 6 to PAGaff cell -1\n",
            "connecting PAG_aff_virt cell 7 to PAGaff cell -10\n",
            "connecting PAG_aff_virt cell 7 to PAGaff cell -9\n",
            "connecting PAG_aff_virt cell 7 to PAGaff cell -8\n",
            "connecting PAG_aff_virt cell 7 to PAGaff cell -7\n",
            "connecting PAG_aff_virt cell 7 to PAGaff cell -6\n",
            "connecting PAG_aff_virt cell 7 to PAGaff cell -5\n",
            "connecting PAG_aff_virt cell 7 to PAGaff cell -4\n",
            "connecting PAG_aff_virt cell 7 to PAGaff cell -3\n",
            "connecting PAG_aff_virt cell 7 to PAGaff cell -2\n",
            "connecting PAG_aff_virt cell 7 to PAGaff cell -1\n",
            "connecting PAG_aff_virt cell 8 to PAGaff cell -10\n",
            "connecting PAG_aff_virt cell 8 to PAGaff cell -9\n",
            "connecting PAG_aff_virt cell 8 to PAGaff cell -8\n",
            "connecting PAG_aff_virt cell 8 to PAGaff cell -7\n",
            "connecting PAG_aff_virt cell 8 to PAGaff cell -6\n",
            "connecting PAG_aff_virt cell 8 to PAGaff cell -5\n",
            "connecting PAG_aff_virt cell 8 to PAGaff cell -4\n",
            "connecting PAG_aff_virt cell 8 to PAGaff cell -3\n",
            "connecting PAG_aff_virt cell 8 to PAGaff cell -2\n",
            "connecting PAG_aff_virt cell 8 to PAGaff cell -1\n",
            "connecting PAG_aff_virt cell 9 to PAGaff cell -10\n",
            "connecting PAG_aff_virt cell 9 to PAGaff cell -9\n",
            "connecting PAG_aff_virt cell 9 to PAGaff cell -8\n",
            "connecting PAG_aff_virt cell 9 to PAGaff cell -7\n",
            "connecting PAG_aff_virt cell 9 to PAGaff cell -6\n",
            "connecting PAG_aff_virt cell 9 to PAGaff cell -5\n",
            "connecting PAG_aff_virt cell 9 to PAGaff cell -4\n",
            "connecting PAG_aff_virt cell 9 to PAGaff cell -3\n",
            "connecting PAG_aff_virt cell 9 to PAGaff cell -2\n",
            "connecting PAG_aff_virt cell 9 to PAGaff cell -1\n",
            "Done\n"
          ]
        }
      ]
    },
    {
      "cell_type": "code",
      "source": [
        "import os, sys, logging, faulthandler\n",
        "from bmtk.simulator import bionet\n",
        "from bmtk.simulator.bionet.default_setters.cell_models import loadHOC\n",
        "from bmtk.simulator.bionet.modules.sim_module import SimulatorMod\n",
        "from bmtk.utils.reports.spike_trains import SpikeTrains\n",
        "from bmtk.utils.reports.spike_trains import PoissonSpikeGenerator\n",
        "from bmtk.simulator.bionet.io_tools import io\n",
        "import numpy as np\n",
        "from neuron import h\n",
        "import pandas as pd\n",
        "# from bmtk.analyzer.cell_vars import plot_report\n",
        "from feedback_loop import FeedbackLoop\n",
        "from plotting import plot_figure, plotting_calculator\n",
        "# Import the synaptic depression/facilitation model\n",
        "import synapses\n",
        "\n",
        "import plot_results\n",
        "\n",
        "\n",
        "\"\"\"\n",
        "Basic Logging features, disable faulthandler if you don't want stacktraces printed\n",
        "logging determines the level and file to save logs to (might be worth moving location)\n",
        "\"\"\"\n",
        "faulthandler.enable()\n",
        "logging.basicConfig(filename='error_logs/debug_run.log', level=logging.DEBUG)\n",
        "\n",
        "synapses.load()\n",
        "logging.info('Synapses Loaded')\n",
        "\n",
        "press_thres = 17 # cm H20 #40\n",
        "                 # Lingala, et al. 2016\n",
        "change_thres = 10 # cm H20 #10\n",
        "                 # Need biological value for this\n",
        "\n",
        "bionet.pyfunction_cache.add_cell_model(loadHOC, directive='hoc', model_type='biophysical')\n",
        "logging.info('Cell model added')\n",
        "\n",
        "def run(config_file):\n",
        "\n",
        "    conf = bionet.Config.from_json(config_file, validate=True)\n",
        "    conf.build_env()\n",
        "\n",
        "    fbmod = FeedbackLoop()\n",
        "\n",
        "    graph = bionet.BioNetwork.from_config(conf)\n",
        "    sim = bionet.BioSimulator.from_config(conf, network=graph)\n",
        "    sim.add_mod(fbmod)  # Attach the above module to the simulator.\n",
        "    sim.run()\n",
        "\n",
        "    #fbmod.save_aff(conf.output_dir)\n",
        "    plot_results.run(sim=sim,conf=conf)\n",
        "\n",
        "# if __name__ == '__main__':\n",
        "#     if __file__ != sys.argv[-1]:\n",
        "#         run(sys.argv[-1])\n",
        "#     else:\n",
        "#         run('config.json')\n",
        "\n",
        "run(config_file='jsons/simulation_config.json')"
      ],
      "metadata": {
        "colab": {
          "base_uri": "https://localhost:8080/",
          "height": 1000
        },
        "id": "e_3NrK_WWFRx",
        "outputId": "0c5a62c9-95c4-487c-c781-d0c5f8a362ac"
      },
      "execution_count": 5,
      "outputs": [
        {
          "output_type": "stream",
          "name": "stdout",
          "text": [
            "2023-04-23 19:56:51,338 [INFO] Created log file\n"
          ]
        },
        {
          "output_type": "stream",
          "name": "stderr",
          "text": [
            "INFO:NEURONIOUtils:Created log file\n"
          ]
        },
        {
          "output_type": "stream",
          "name": "stdout",
          "text": [
            "2023-04-23 19:56:51,506 [INFO] Building cells.\n"
          ]
        },
        {
          "output_type": "stream",
          "name": "stderr",
          "text": [
            "INFO:NEURONIOUtils:Building cells.\n"
          ]
        },
        {
          "output_type": "stream",
          "name": "stdout",
          "text": [
            "2023-04-23 19:56:51,591 [INFO] Building recurrent connections\n"
          ]
        },
        {
          "output_type": "stream",
          "name": "stderr",
          "text": [
            "INFO:NEURONIOUtils:Building recurrent connections\n"
          ]
        },
        {
          "output_type": "stream",
          "name": "stdout",
          "text": [
            "2023-04-23 19:56:51,853 [INFO] Building virtual cell stimulations for Blad_spikes\n"
          ]
        },
        {
          "output_type": "stream",
          "name": "stderr",
          "text": [
            "INFO:NEURONIOUtils:Building virtual cell stimulations for Blad_spikes\n"
          ]
        },
        {
          "output_type": "stream",
          "name": "stdout",
          "text": [
            "2023-04-23 19:56:51,913 [INFO] Building virtual cell stimulations for EUS_spikes\n"
          ]
        },
        {
          "output_type": "stream",
          "name": "stderr",
          "text": [
            "INFO:NEURONIOUtils:Building virtual cell stimulations for EUS_spikes\n"
          ]
        },
        {
          "output_type": "stream",
          "name": "stdout",
          "text": [
            "2023-04-23 19:56:52,022 [INFO] Building virtual cell stimulations for PAG_spikes\n"
          ]
        },
        {
          "output_type": "stream",
          "name": "stderr",
          "text": [
            "INFO:NEURONIOUtils:Building virtual cell stimulations for PAG_spikes\n"
          ]
        },
        {
          "output_type": "stream",
          "name": "stdout",
          "text": [
            "2023-04-23 19:56:52,130 [INFO] Running simulation for 60500.000 ms with the time step 0.200 ms\n"
          ]
        },
        {
          "output_type": "stream",
          "name": "stderr",
          "text": [
            "INFO:NEURONIOUtils:Running simulation for 60500.000 ms with the time step 0.200 ms\n"
          ]
        },
        {
          "output_type": "stream",
          "name": "stdout",
          "text": [
            "2023-04-23 19:56:52,135 [INFO] Starting timestep: 0 at t_sim: 0.000 ms\n"
          ]
        },
        {
          "output_type": "stream",
          "name": "stderr",
          "text": [
            "INFO:NEURONIOUtils:Starting timestep: 0 at t_sim: 0.000 ms\n"
          ]
        },
        {
          "output_type": "stream",
          "name": "stdout",
          "text": [
            "2023-04-23 19:56:52,142 [INFO] Block save every 5000 steps\n"
          ]
        },
        {
          "output_type": "stream",
          "name": "stderr",
          "text": [
            "INFO:NEURONIOUtils:Block save every 5000 steps\n"
          ]
        },
        {
          "output_type": "stream",
          "name": "stdout",
          "text": [
            "2023-04-23 19:56:54,367 [INFO]     step:5000 t_sim:1000.00 ms\n"
          ]
        },
        {
          "output_type": "stream",
          "name": "stderr",
          "text": [
            "INFO:NEURONIOUtils:    step:5000 t_sim:1000.00 ms\n"
          ]
        },
        {
          "output_type": "stream",
          "name": "stdout",
          "text": [
            "2023-04-23 19:56:54,381 [INFO] Timestep 0.0 to 1000.0 ms\n"
          ]
        },
        {
          "output_type": "stream",
          "name": "stderr",
          "text": [
            "INFO:NEURONIOUtils:Timestep 0.0 to 1000.0 ms\n"
          ]
        },
        {
          "output_type": "stream",
          "name": "stdout",
          "text": [
            "2023-04-23 19:56:54,387 [INFO] PGN node_id\t  Hz\n"
          ]
        },
        {
          "output_type": "stream",
          "name": "stderr",
          "text": [
            "INFO:NEURONIOUtils:PGN node_id\t  Hz\n"
          ]
        },
        {
          "output_type": "stream",
          "name": "stdout",
          "text": [
            "2023-04-23 19:56:54,396 [INFO] 70\t\t3.0\n"
          ]
        },
        {
          "output_type": "stream",
          "name": "stderr",
          "text": [
            "INFO:NEURONIOUtils:70\t\t3.0\n"
          ]
        },
        {
          "output_type": "stream",
          "name": "stdout",
          "text": [
            "2023-04-23 19:56:54,401 [INFO] 71\t\t3.0\n"
          ]
        },
        {
          "output_type": "stream",
          "name": "stderr",
          "text": [
            "INFO:NEURONIOUtils:71\t\t3.0\n"
          ]
        },
        {
          "output_type": "stream",
          "name": "stdout",
          "text": [
            "2023-04-23 19:56:54,403 [INFO] 72\t\t3.0\n"
          ]
        },
        {
          "output_type": "stream",
          "name": "stderr",
          "text": [
            "INFO:NEURONIOUtils:72\t\t3.0\n"
          ]
        },
        {
          "output_type": "stream",
          "name": "stdout",
          "text": [
            "2023-04-23 19:56:54,405 [INFO] 73\t\t3.0\n"
          ]
        },
        {
          "output_type": "stream",
          "name": "stderr",
          "text": [
            "INFO:NEURONIOUtils:73\t\t3.0\n"
          ]
        },
        {
          "output_type": "stream",
          "name": "stdout",
          "text": [
            "2023-04-23 19:56:54,407 [INFO] 74\t\t3.0\n"
          ]
        },
        {
          "output_type": "stream",
          "name": "stderr",
          "text": [
            "INFO:NEURONIOUtils:74\t\t3.0\n"
          ]
        },
        {
          "output_type": "stream",
          "name": "stdout",
          "text": [
            "2023-04-23 19:56:54,410 [INFO] 75\t\t3.0\n"
          ]
        },
        {
          "output_type": "stream",
          "name": "stderr",
          "text": [
            "INFO:NEURONIOUtils:75\t\t3.0\n"
          ]
        },
        {
          "output_type": "stream",
          "name": "stdout",
          "text": [
            "2023-04-23 19:56:54,412 [INFO] 76\t\t3.0\n"
          ]
        },
        {
          "output_type": "stream",
          "name": "stderr",
          "text": [
            "INFO:NEURONIOUtils:76\t\t3.0\n"
          ]
        },
        {
          "output_type": "stream",
          "name": "stdout",
          "text": [
            "2023-04-23 19:56:54,415 [INFO] 77\t\t3.0\n"
          ]
        },
        {
          "output_type": "stream",
          "name": "stderr",
          "text": [
            "INFO:NEURONIOUtils:77\t\t3.0\n"
          ]
        },
        {
          "output_type": "stream",
          "name": "stdout",
          "text": [
            "2023-04-23 19:56:54,417 [INFO] 78\t\t3.0\n"
          ]
        },
        {
          "output_type": "stream",
          "name": "stderr",
          "text": [
            "INFO:NEURONIOUtils:78\t\t3.0\n"
          ]
        },
        {
          "output_type": "stream",
          "name": "stdout",
          "text": [
            "2023-04-23 19:56:54,419 [INFO] 79\t\t3.0\n"
          ]
        },
        {
          "output_type": "stream",
          "name": "stderr",
          "text": [
            "INFO:NEURONIOUtils:79\t\t3.0\n"
          ]
        },
        {
          "output_type": "stream",
          "name": "stdout",
          "text": [
            "2023-04-23 19:56:54,422 [INFO] PGN firing rate avg: 3.0 Hz\n"
          ]
        },
        {
          "output_type": "stream",
          "name": "stderr",
          "text": [
            "INFO:NEURONIOUtils:PGN firing rate avg: 3.0 Hz\n"
          ]
        },
        {
          "output_type": "stream",
          "name": "stdout",
          "text": [
            "2023-04-23 19:56:54,424 [INFO] Grill PGN fr = 4.657 Hz\n"
          ]
        },
        {
          "output_type": "stream",
          "name": "stderr",
          "text": [
            "INFO:NEURONIOUtils:Grill PGN fr = 4.657 Hz\n"
          ]
        },
        {
          "output_type": "stream",
          "name": "stdout",
          "text": [
            "2023-04-23 19:56:54,427 [INFO] IMG node_gid\t  Hz\n"
          ]
        },
        {
          "output_type": "stream",
          "name": "stderr",
          "text": [
            "INFO:NEURONIOUtils:IMG node_gid\t  Hz\n"
          ]
        },
        {
          "output_type": "stream",
          "name": "stdout",
          "text": [
            "2023-04-23 19:56:54,429 [INFO] 90\t\t0.0\n"
          ]
        },
        {
          "output_type": "stream",
          "name": "stderr",
          "text": [
            "INFO:NEURONIOUtils:90\t\t0.0\n"
          ]
        },
        {
          "output_type": "stream",
          "name": "stdout",
          "text": [
            "2023-04-23 19:56:54,431 [INFO] 91\t\t0.0\n"
          ]
        },
        {
          "output_type": "stream",
          "name": "stderr",
          "text": [
            "INFO:NEURONIOUtils:91\t\t0.0\n"
          ]
        },
        {
          "output_type": "stream",
          "name": "stdout",
          "text": [
            "2023-04-23 19:56:54,433 [INFO] 92\t\t0.0\n"
          ]
        },
        {
          "output_type": "stream",
          "name": "stderr",
          "text": [
            "INFO:NEURONIOUtils:92\t\t0.0\n"
          ]
        },
        {
          "output_type": "stream",
          "name": "stdout",
          "text": [
            "2023-04-23 19:56:54,436 [INFO] 93\t\t0.0\n"
          ]
        },
        {
          "output_type": "stream",
          "name": "stderr",
          "text": [
            "INFO:NEURONIOUtils:93\t\t0.0\n"
          ]
        },
        {
          "output_type": "stream",
          "name": "stdout",
          "text": [
            "2023-04-23 19:56:54,438 [INFO] 94\t\t0.0\n"
          ]
        },
        {
          "output_type": "stream",
          "name": "stderr",
          "text": [
            "INFO:NEURONIOUtils:94\t\t0.0\n"
          ]
        },
        {
          "output_type": "stream",
          "name": "stdout",
          "text": [
            "2023-04-23 19:56:54,440 [INFO] 95\t\t0.0\n"
          ]
        },
        {
          "output_type": "stream",
          "name": "stderr",
          "text": [
            "INFO:NEURONIOUtils:95\t\t0.0\n"
          ]
        },
        {
          "output_type": "stream",
          "name": "stdout",
          "text": [
            "2023-04-23 19:56:54,442 [INFO] 96\t\t0.0\n"
          ]
        },
        {
          "output_type": "stream",
          "name": "stderr",
          "text": [
            "INFO:NEURONIOUtils:96\t\t0.0\n"
          ]
        },
        {
          "output_type": "stream",
          "name": "stdout",
          "text": [
            "2023-04-23 19:56:54,445 [INFO] 97\t\t0.0\n"
          ]
        },
        {
          "output_type": "stream",
          "name": "stderr",
          "text": [
            "INFO:NEURONIOUtils:97\t\t0.0\n"
          ]
        },
        {
          "output_type": "stream",
          "name": "stdout",
          "text": [
            "2023-04-23 19:56:54,447 [INFO] 98\t\t0.0\n"
          ]
        },
        {
          "output_type": "stream",
          "name": "stderr",
          "text": [
            "INFO:NEURONIOUtils:98\t\t0.0\n"
          ]
        },
        {
          "output_type": "stream",
          "name": "stdout",
          "text": [
            "2023-04-23 19:56:54,449 [INFO] 99\t\t0.0\n"
          ]
        },
        {
          "output_type": "stream",
          "name": "stderr",
          "text": [
            "INFO:NEURONIOUtils:99\t\t0.0\n"
          ]
        },
        {
          "output_type": "stream",
          "name": "stdout",
          "text": [
            "2023-04-23 19:56:54,451 [INFO] IMG firing rate avg: 3.0 Hz\n"
          ]
        },
        {
          "output_type": "stream",
          "name": "stderr",
          "text": [
            "INFO:NEURONIOUtils:IMG firing rate avg: 3.0 Hz\n"
          ]
        },
        {
          "output_type": "stream",
          "name": "stdout",
          "text": [
            "2023-04-23 19:56:54,462 [INFO] Volume = 0.0000 ml\n"
          ]
        },
        {
          "output_type": "stream",
          "name": "stderr",
          "text": [
            "/usr/local/lib/python3.9/dist-packages/bmtk/utils/reports/spike_trains/spike_trains.py:183: RuntimeWarning: divide by zero encountered in double_scalars\n",
            "  interval = -np.log(1.0 - np.random.uniform()) / fr\n",
            "INFO:NEURONIOUtils:Volume = 0.0000 ml\n"
          ]
        },
        {
          "output_type": "stream",
          "name": "stdout",
          "text": [
            "2023-04-23 19:56:54,471 [INFO] Pressure = 0.00 mmHg\n"
          ]
        },
        {
          "output_type": "stream",
          "name": "stderr",
          "text": [
            "INFO:NEURONIOUtils:Pressure = 0.00 mmHg\n"
          ]
        },
        {
          "output_type": "stream",
          "name": "stdout",
          "text": [
            "2023-04-23 19:56:54,473 [INFO] Calculated bladder afferent firing rate for the next time step = 0.00 Hz \n",
            " \n",
            "\n"
          ]
        },
        {
          "output_type": "stream",
          "name": "stderr",
          "text": [
            "INFO:NEURONIOUtils:Calculated bladder afferent firing rate for the next time step = 0.00 Hz \n",
            " \n",
            "\n"
          ]
        },
        {
          "output_type": "stream",
          "name": "stdout",
          "text": [
            "2023-04-23 19:56:58,233 [INFO]     step:10000 t_sim:2000.00 ms\n"
          ]
        },
        {
          "output_type": "stream",
          "name": "stderr",
          "text": [
            "INFO:NEURONIOUtils:    step:10000 t_sim:2000.00 ms\n"
          ]
        },
        {
          "output_type": "stream",
          "name": "stdout",
          "text": [
            "2023-04-23 19:56:58,254 [INFO] Timestep 1000.0 to 2000.0 ms\n"
          ]
        },
        {
          "output_type": "stream",
          "name": "stderr",
          "text": [
            "INFO:NEURONIOUtils:Timestep 1000.0 to 2000.0 ms\n"
          ]
        },
        {
          "output_type": "stream",
          "name": "stdout",
          "text": [
            "2023-04-23 19:56:58,265 [INFO] PGN node_id\t  Hz\n"
          ]
        },
        {
          "output_type": "stream",
          "name": "stderr",
          "text": [
            "INFO:NEURONIOUtils:PGN node_id\t  Hz\n"
          ]
        },
        {
          "output_type": "stream",
          "name": "stdout",
          "text": [
            "2023-04-23 19:56:58,269 [INFO] 70\t\t2.0\n"
          ]
        },
        {
          "output_type": "stream",
          "name": "stderr",
          "text": [
            "INFO:NEURONIOUtils:70\t\t2.0\n"
          ]
        },
        {
          "output_type": "stream",
          "name": "stdout",
          "text": [
            "2023-04-23 19:56:58,271 [INFO] 71\t\t2.0\n"
          ]
        },
        {
          "output_type": "stream",
          "name": "stderr",
          "text": [
            "INFO:NEURONIOUtils:71\t\t2.0\n"
          ]
        },
        {
          "output_type": "stream",
          "name": "stdout",
          "text": [
            "2023-04-23 19:56:58,280 [INFO] 72\t\t2.0\n"
          ]
        },
        {
          "output_type": "stream",
          "name": "stderr",
          "text": [
            "INFO:NEURONIOUtils:72\t\t2.0\n"
          ]
        },
        {
          "output_type": "stream",
          "name": "stdout",
          "text": [
            "2023-04-23 19:56:58,283 [INFO] 73\t\t2.0\n"
          ]
        },
        {
          "output_type": "stream",
          "name": "stderr",
          "text": [
            "INFO:NEURONIOUtils:73\t\t2.0\n"
          ]
        },
        {
          "output_type": "stream",
          "name": "stdout",
          "text": [
            "2023-04-23 19:56:58,288 [INFO] 74\t\t2.0\n"
          ]
        },
        {
          "output_type": "stream",
          "name": "stderr",
          "text": [
            "INFO:NEURONIOUtils:74\t\t2.0\n"
          ]
        },
        {
          "output_type": "stream",
          "name": "stdout",
          "text": [
            "2023-04-23 19:56:58,293 [INFO] 75\t\t2.0\n"
          ]
        },
        {
          "output_type": "stream",
          "name": "stderr",
          "text": [
            "INFO:NEURONIOUtils:75\t\t2.0\n"
          ]
        },
        {
          "output_type": "stream",
          "name": "stdout",
          "text": [
            "2023-04-23 19:56:58,296 [INFO] 76\t\t2.0\n"
          ]
        },
        {
          "output_type": "stream",
          "name": "stderr",
          "text": [
            "INFO:NEURONIOUtils:76\t\t2.0\n"
          ]
        },
        {
          "output_type": "stream",
          "name": "stdout",
          "text": [
            "2023-04-23 19:56:58,301 [INFO] 77\t\t2.0\n"
          ]
        },
        {
          "output_type": "stream",
          "name": "stderr",
          "text": [
            "INFO:NEURONIOUtils:77\t\t2.0\n"
          ]
        },
        {
          "output_type": "stream",
          "name": "stdout",
          "text": [
            "2023-04-23 19:56:58,304 [INFO] 78\t\t2.0\n"
          ]
        },
        {
          "output_type": "stream",
          "name": "stderr",
          "text": [
            "INFO:NEURONIOUtils:78\t\t2.0\n"
          ]
        },
        {
          "output_type": "stream",
          "name": "stdout",
          "text": [
            "2023-04-23 19:56:58,309 [INFO] 79\t\t2.0\n"
          ]
        },
        {
          "output_type": "stream",
          "name": "stderr",
          "text": [
            "INFO:NEURONIOUtils:79\t\t2.0\n"
          ]
        },
        {
          "output_type": "stream",
          "name": "stdout",
          "text": [
            "2023-04-23 19:56:58,311 [INFO] PGN firing rate avg: 2.0 Hz\n"
          ]
        },
        {
          "output_type": "stream",
          "name": "stderr",
          "text": [
            "INFO:NEURONIOUtils:PGN firing rate avg: 2.0 Hz\n"
          ]
        },
        {
          "output_type": "stream",
          "name": "stdout",
          "text": [
            "2023-04-23 19:56:58,313 [INFO] Grill PGN fr = 2.984 Hz\n"
          ]
        },
        {
          "output_type": "stream",
          "name": "stderr",
          "text": [
            "INFO:NEURONIOUtils:Grill PGN fr = 2.984 Hz\n"
          ]
        },
        {
          "output_type": "stream",
          "name": "stdout",
          "text": [
            "2023-04-23 19:56:58,316 [INFO] IMG node_gid\t  Hz\n"
          ]
        },
        {
          "output_type": "stream",
          "name": "stderr",
          "text": [
            "INFO:NEURONIOUtils:IMG node_gid\t  Hz\n"
          ]
        },
        {
          "output_type": "stream",
          "name": "stdout",
          "text": [
            "2023-04-23 19:56:58,318 [INFO] 90\t\t0.0\n"
          ]
        },
        {
          "output_type": "stream",
          "name": "stderr",
          "text": [
            "INFO:NEURONIOUtils:90\t\t0.0\n"
          ]
        },
        {
          "output_type": "stream",
          "name": "stdout",
          "text": [
            "2023-04-23 19:56:58,320 [INFO] 91\t\t1.0\n"
          ]
        },
        {
          "output_type": "stream",
          "name": "stderr",
          "text": [
            "INFO:NEURONIOUtils:91\t\t1.0\n"
          ]
        },
        {
          "output_type": "stream",
          "name": "stdout",
          "text": [
            "2023-04-23 19:56:58,322 [INFO] 92\t\t0.0\n"
          ]
        },
        {
          "output_type": "stream",
          "name": "stderr",
          "text": [
            "INFO:NEURONIOUtils:92\t\t0.0\n"
          ]
        },
        {
          "output_type": "stream",
          "name": "stdout",
          "text": [
            "2023-04-23 19:56:58,324 [INFO] 93\t\t1.0\n"
          ]
        },
        {
          "output_type": "stream",
          "name": "stderr",
          "text": [
            "INFO:NEURONIOUtils:93\t\t1.0\n"
          ]
        },
        {
          "output_type": "stream",
          "name": "stdout",
          "text": [
            "2023-04-23 19:56:58,326 [INFO] 94\t\t1.0\n"
          ]
        },
        {
          "output_type": "stream",
          "name": "stderr",
          "text": [
            "INFO:NEURONIOUtils:94\t\t1.0\n"
          ]
        },
        {
          "output_type": "stream",
          "name": "stdout",
          "text": [
            "2023-04-23 19:56:58,329 [INFO] 95\t\t0.0\n"
          ]
        },
        {
          "output_type": "stream",
          "name": "stderr",
          "text": [
            "INFO:NEURONIOUtils:95\t\t0.0\n"
          ]
        },
        {
          "output_type": "stream",
          "name": "stdout",
          "text": [
            "2023-04-23 19:56:58,331 [INFO] 96\t\t0.0\n"
          ]
        },
        {
          "output_type": "stream",
          "name": "stderr",
          "text": [
            "INFO:NEURONIOUtils:96\t\t0.0\n"
          ]
        },
        {
          "output_type": "stream",
          "name": "stdout",
          "text": [
            "2023-04-23 19:56:58,333 [INFO] 97\t\t1.0\n"
          ]
        },
        {
          "output_type": "stream",
          "name": "stderr",
          "text": [
            "INFO:NEURONIOUtils:97\t\t1.0\n"
          ]
        },
        {
          "output_type": "stream",
          "name": "stdout",
          "text": [
            "2023-04-23 19:56:58,335 [INFO] 98\t\t1.0\n"
          ]
        },
        {
          "output_type": "stream",
          "name": "stderr",
          "text": [
            "INFO:NEURONIOUtils:98\t\t1.0\n"
          ]
        },
        {
          "output_type": "stream",
          "name": "stdout",
          "text": [
            "2023-04-23 19:56:58,337 [INFO] 99\t\t1.0\n"
          ]
        },
        {
          "output_type": "stream",
          "name": "stderr",
          "text": [
            "INFO:NEURONIOUtils:99\t\t1.0\n"
          ]
        },
        {
          "output_type": "stream",
          "name": "stdout",
          "text": [
            "2023-04-23 19:56:58,339 [INFO] IMG firing rate avg: 2.0 Hz\n"
          ]
        },
        {
          "output_type": "stream",
          "name": "stderr",
          "text": [
            "INFO:NEURONIOUtils:IMG firing rate avg: 2.0 Hz\n"
          ]
        },
        {
          "output_type": "stream",
          "name": "stdout",
          "text": [
            "2023-04-23 19:56:58,347 [INFO] Volume = 0.0292 ml\n"
          ]
        },
        {
          "output_type": "stream",
          "name": "stderr",
          "text": [
            "/usr/local/lib/python3.9/dist-packages/bmtk/utils/reports/spike_trains/spike_trains.py:183: RuntimeWarning: divide by zero encountered in double_scalars\n",
            "  interval = -np.log(1.0 - np.random.uniform()) / fr\n",
            "INFO:NEURONIOUtils:Volume = 0.0292 ml\n"
          ]
        },
        {
          "output_type": "stream",
          "name": "stdout",
          "text": [
            "2023-04-23 19:56:58,351 [INFO] Pressure = 0.00 mmHg\n"
          ]
        },
        {
          "output_type": "stream",
          "name": "stderr",
          "text": [
            "INFO:NEURONIOUtils:Pressure = 0.00 mmHg\n"
          ]
        },
        {
          "output_type": "stream",
          "name": "stdout",
          "text": [
            "2023-04-23 19:56:58,353 [INFO] Calculated bladder afferent firing rate for the next time step = 0.00 Hz \n",
            " \n",
            "\n"
          ]
        },
        {
          "output_type": "stream",
          "name": "stderr",
          "text": [
            "INFO:NEURONIOUtils:Calculated bladder afferent firing rate for the next time step = 0.00 Hz \n",
            " \n",
            "\n"
          ]
        },
        {
          "output_type": "stream",
          "name": "stdout",
          "text": [
            "2023-04-23 19:57:01,101 [INFO]     step:15000 t_sim:3000.00 ms\n"
          ]
        },
        {
          "output_type": "stream",
          "name": "stderr",
          "text": [
            "INFO:NEURONIOUtils:    step:15000 t_sim:3000.00 ms\n"
          ]
        },
        {
          "output_type": "stream",
          "name": "stdout",
          "text": [
            "2023-04-23 19:57:01,137 [INFO] Timestep 2000.0 to 3000.0 ms\n"
          ]
        },
        {
          "output_type": "stream",
          "name": "stderr",
          "text": [
            "INFO:NEURONIOUtils:Timestep 2000.0 to 3000.0 ms\n"
          ]
        },
        {
          "output_type": "stream",
          "name": "stdout",
          "text": [
            "2023-04-23 19:57:01,141 [INFO] PGN node_id\t  Hz\n"
          ]
        },
        {
          "output_type": "stream",
          "name": "stderr",
          "text": [
            "INFO:NEURONIOUtils:PGN node_id\t  Hz\n"
          ]
        },
        {
          "output_type": "stream",
          "name": "stdout",
          "text": [
            "2023-04-23 19:57:01,151 [INFO] 70\t\t3.0\n"
          ]
        },
        {
          "output_type": "stream",
          "name": "stderr",
          "text": [
            "INFO:NEURONIOUtils:70\t\t3.0\n"
          ]
        },
        {
          "output_type": "stream",
          "name": "stdout",
          "text": [
            "2023-04-23 19:57:01,158 [INFO] 71\t\t3.0\n"
          ]
        },
        {
          "output_type": "stream",
          "name": "stderr",
          "text": [
            "INFO:NEURONIOUtils:71\t\t3.0\n"
          ]
        },
        {
          "output_type": "stream",
          "name": "stdout",
          "text": [
            "2023-04-23 19:57:01,163 [INFO] 72\t\t3.0\n"
          ]
        },
        {
          "output_type": "stream",
          "name": "stderr",
          "text": [
            "INFO:NEURONIOUtils:72\t\t3.0\n"
          ]
        },
        {
          "output_type": "stream",
          "name": "stdout",
          "text": [
            "2023-04-23 19:57:01,171 [INFO] 73\t\t3.0\n"
          ]
        },
        {
          "output_type": "stream",
          "name": "stderr",
          "text": [
            "INFO:NEURONIOUtils:73\t\t3.0\n"
          ]
        },
        {
          "output_type": "stream",
          "name": "stdout",
          "text": [
            "2023-04-23 19:57:01,174 [INFO] 74\t\t3.0\n"
          ]
        },
        {
          "output_type": "stream",
          "name": "stderr",
          "text": [
            "INFO:NEURONIOUtils:74\t\t3.0\n"
          ]
        },
        {
          "output_type": "stream",
          "name": "stdout",
          "text": [
            "2023-04-23 19:57:01,177 [INFO] 75\t\t3.0\n"
          ]
        },
        {
          "output_type": "stream",
          "name": "stderr",
          "text": [
            "INFO:NEURONIOUtils:75\t\t3.0\n"
          ]
        },
        {
          "output_type": "stream",
          "name": "stdout",
          "text": [
            "2023-04-23 19:57:01,180 [INFO] 76\t\t3.0\n"
          ]
        },
        {
          "output_type": "stream",
          "name": "stderr",
          "text": [
            "INFO:NEURONIOUtils:76\t\t3.0\n"
          ]
        },
        {
          "output_type": "stream",
          "name": "stdout",
          "text": [
            "2023-04-23 19:57:01,183 [INFO] 77\t\t3.0\n"
          ]
        },
        {
          "output_type": "stream",
          "name": "stderr",
          "text": [
            "INFO:NEURONIOUtils:77\t\t3.0\n"
          ]
        },
        {
          "output_type": "stream",
          "name": "stdout",
          "text": [
            "2023-04-23 19:57:01,185 [INFO] 78\t\t3.0\n"
          ]
        },
        {
          "output_type": "stream",
          "name": "stderr",
          "text": [
            "INFO:NEURONIOUtils:78\t\t3.0\n"
          ]
        },
        {
          "output_type": "stream",
          "name": "stdout",
          "text": [
            "2023-04-23 19:57:01,188 [INFO] 79\t\t3.0\n"
          ]
        },
        {
          "output_type": "stream",
          "name": "stderr",
          "text": [
            "INFO:NEURONIOUtils:79\t\t3.0\n"
          ]
        },
        {
          "output_type": "stream",
          "name": "stdout",
          "text": [
            "2023-04-23 19:57:01,190 [INFO] PGN firing rate avg: 3.0 Hz\n"
          ]
        },
        {
          "output_type": "stream",
          "name": "stderr",
          "text": [
            "INFO:NEURONIOUtils:PGN firing rate avg: 3.0 Hz\n"
          ]
        },
        {
          "output_type": "stream",
          "name": "stdout",
          "text": [
            "2023-04-23 19:57:01,194 [INFO] Grill PGN fr = 4.657 Hz\n"
          ]
        },
        {
          "output_type": "stream",
          "name": "stderr",
          "text": [
            "INFO:NEURONIOUtils:Grill PGN fr = 4.657 Hz\n"
          ]
        },
        {
          "output_type": "stream",
          "name": "stdout",
          "text": [
            "2023-04-23 19:57:01,198 [INFO] IMG node_gid\t  Hz\n"
          ]
        },
        {
          "output_type": "stream",
          "name": "stderr",
          "text": [
            "INFO:NEURONIOUtils:IMG node_gid\t  Hz\n"
          ]
        },
        {
          "output_type": "stream",
          "name": "stdout",
          "text": [
            "2023-04-23 19:57:01,223 [INFO] 90\t\t0.0\n"
          ]
        },
        {
          "output_type": "stream",
          "name": "stderr",
          "text": [
            "INFO:NEURONIOUtils:90\t\t0.0\n"
          ]
        },
        {
          "output_type": "stream",
          "name": "stdout",
          "text": [
            "2023-04-23 19:57:01,235 [INFO] 91\t\t1.0\n"
          ]
        },
        {
          "output_type": "stream",
          "name": "stderr",
          "text": [
            "INFO:NEURONIOUtils:91\t\t1.0\n"
          ]
        },
        {
          "output_type": "stream",
          "name": "stdout",
          "text": [
            "2023-04-23 19:57:01,242 [INFO] 92\t\t0.0\n"
          ]
        },
        {
          "output_type": "stream",
          "name": "stderr",
          "text": [
            "INFO:NEURONIOUtils:92\t\t0.0\n"
          ]
        },
        {
          "output_type": "stream",
          "name": "stdout",
          "text": [
            "2023-04-23 19:57:01,246 [INFO] 93\t\t1.0\n"
          ]
        },
        {
          "output_type": "stream",
          "name": "stderr",
          "text": [
            "INFO:NEURONIOUtils:93\t\t1.0\n"
          ]
        },
        {
          "output_type": "stream",
          "name": "stdout",
          "text": [
            "2023-04-23 19:57:01,252 [INFO] 94\t\t1.0\n"
          ]
        },
        {
          "output_type": "stream",
          "name": "stderr",
          "text": [
            "INFO:NEURONIOUtils:94\t\t1.0\n"
          ]
        },
        {
          "output_type": "stream",
          "name": "stdout",
          "text": [
            "2023-04-23 19:57:01,258 [INFO] 95\t\t0.0\n"
          ]
        },
        {
          "output_type": "stream",
          "name": "stderr",
          "text": [
            "INFO:NEURONIOUtils:95\t\t0.0\n"
          ]
        },
        {
          "output_type": "stream",
          "name": "stdout",
          "text": [
            "2023-04-23 19:57:01,261 [INFO] 96\t\t0.0\n"
          ]
        },
        {
          "output_type": "stream",
          "name": "stderr",
          "text": [
            "INFO:NEURONIOUtils:96\t\t0.0\n"
          ]
        },
        {
          "output_type": "stream",
          "name": "stdout",
          "text": [
            "2023-04-23 19:57:01,263 [INFO] 97\t\t1.0\n"
          ]
        },
        {
          "output_type": "stream",
          "name": "stderr",
          "text": [
            "INFO:NEURONIOUtils:97\t\t1.0\n"
          ]
        },
        {
          "output_type": "stream",
          "name": "stdout",
          "text": [
            "2023-04-23 19:57:01,268 [INFO] 98\t\t1.0\n"
          ]
        },
        {
          "output_type": "stream",
          "name": "stderr",
          "text": [
            "INFO:NEURONIOUtils:98\t\t1.0\n"
          ]
        },
        {
          "output_type": "stream",
          "name": "stdout",
          "text": [
            "2023-04-23 19:57:01,273 [INFO] 99\t\t1.0\n"
          ]
        },
        {
          "output_type": "stream",
          "name": "stderr",
          "text": [
            "INFO:NEURONIOUtils:99\t\t1.0\n"
          ]
        },
        {
          "output_type": "stream",
          "name": "stdout",
          "text": [
            "2023-04-23 19:57:01,279 [INFO] IMG firing rate avg: 3.0 Hz\n"
          ]
        },
        {
          "output_type": "stream",
          "name": "stderr",
          "text": [
            "INFO:NEURONIOUtils:IMG firing rate avg: 3.0 Hz\n"
          ]
        },
        {
          "output_type": "stream",
          "name": "stdout",
          "text": [
            "2023-04-23 19:57:01,298 [INFO] Volume = 0.0583 ml\n"
          ]
        },
        {
          "output_type": "stream",
          "name": "stderr",
          "text": [
            "/usr/local/lib/python3.9/dist-packages/bmtk/utils/reports/spike_trains/spike_trains.py:183: RuntimeWarning: divide by zero encountered in double_scalars\n",
            "  interval = -np.log(1.0 - np.random.uniform()) / fr\n",
            "INFO:NEURONIOUtils:Volume = 0.0583 ml\n"
          ]
        },
        {
          "output_type": "stream",
          "name": "stdout",
          "text": [
            "2023-04-23 19:57:01,305 [INFO] Pressure = 0.00 mmHg\n"
          ]
        },
        {
          "output_type": "stream",
          "name": "stderr",
          "text": [
            "INFO:NEURONIOUtils:Pressure = 0.00 mmHg\n"
          ]
        },
        {
          "output_type": "stream",
          "name": "stdout",
          "text": [
            "2023-04-23 19:57:01,309 [INFO] Calculated bladder afferent firing rate for the next time step = 0.00 Hz \n",
            " \n",
            "\n"
          ]
        },
        {
          "output_type": "stream",
          "name": "stderr",
          "text": [
            "INFO:NEURONIOUtils:Calculated bladder afferent firing rate for the next time step = 0.00 Hz \n",
            " \n",
            "\n"
          ]
        },
        {
          "output_type": "stream",
          "name": "stdout",
          "text": [
            "2023-04-23 19:57:05,933 [INFO]     step:20000 t_sim:4000.00 ms\n"
          ]
        },
        {
          "output_type": "stream",
          "name": "stderr",
          "text": [
            "INFO:NEURONIOUtils:    step:20000 t_sim:4000.00 ms\n"
          ]
        },
        {
          "output_type": "stream",
          "name": "stdout",
          "text": [
            "2023-04-23 19:57:05,951 [INFO] Timestep 3000.0 to 4000.0 ms\n"
          ]
        },
        {
          "output_type": "stream",
          "name": "stderr",
          "text": [
            "INFO:NEURONIOUtils:Timestep 3000.0 to 4000.0 ms\n"
          ]
        },
        {
          "output_type": "stream",
          "name": "stdout",
          "text": [
            "2023-04-23 19:57:05,956 [INFO] PGN node_id\t  Hz\n"
          ]
        },
        {
          "output_type": "stream",
          "name": "stderr",
          "text": [
            "INFO:NEURONIOUtils:PGN node_id\t  Hz\n"
          ]
        },
        {
          "output_type": "stream",
          "name": "stdout",
          "text": [
            "2023-04-23 19:57:05,961 [INFO] 70\t\t4.0\n"
          ]
        },
        {
          "output_type": "stream",
          "name": "stderr",
          "text": [
            "INFO:NEURONIOUtils:70\t\t4.0\n"
          ]
        },
        {
          "output_type": "stream",
          "name": "stdout",
          "text": [
            "2023-04-23 19:57:05,964 [INFO] 71\t\t4.0\n"
          ]
        },
        {
          "output_type": "stream",
          "name": "stderr",
          "text": [
            "INFO:NEURONIOUtils:71\t\t4.0\n"
          ]
        },
        {
          "output_type": "stream",
          "name": "stdout",
          "text": [
            "2023-04-23 19:57:05,966 [INFO] 72\t\t4.0\n"
          ]
        },
        {
          "output_type": "stream",
          "name": "stderr",
          "text": [
            "INFO:NEURONIOUtils:72\t\t4.0\n"
          ]
        },
        {
          "output_type": "stream",
          "name": "stdout",
          "text": [
            "2023-04-23 19:57:05,968 [INFO] 73\t\t4.0\n"
          ]
        },
        {
          "output_type": "stream",
          "name": "stderr",
          "text": [
            "INFO:NEURONIOUtils:73\t\t4.0\n"
          ]
        },
        {
          "output_type": "stream",
          "name": "stdout",
          "text": [
            "2023-04-23 19:57:05,971 [INFO] 74\t\t4.0\n"
          ]
        },
        {
          "output_type": "stream",
          "name": "stderr",
          "text": [
            "INFO:NEURONIOUtils:74\t\t4.0\n"
          ]
        },
        {
          "output_type": "stream",
          "name": "stdout",
          "text": [
            "2023-04-23 19:57:05,974 [INFO] 75\t\t4.0\n"
          ]
        },
        {
          "output_type": "stream",
          "name": "stderr",
          "text": [
            "INFO:NEURONIOUtils:75\t\t4.0\n"
          ]
        },
        {
          "output_type": "stream",
          "name": "stdout",
          "text": [
            "2023-04-23 19:57:05,976 [INFO] 76\t\t4.0\n"
          ]
        },
        {
          "output_type": "stream",
          "name": "stderr",
          "text": [
            "INFO:NEURONIOUtils:76\t\t4.0\n"
          ]
        },
        {
          "output_type": "stream",
          "name": "stdout",
          "text": [
            "2023-04-23 19:57:05,978 [INFO] 77\t\t4.0\n"
          ]
        },
        {
          "output_type": "stream",
          "name": "stderr",
          "text": [
            "INFO:NEURONIOUtils:77\t\t4.0\n"
          ]
        },
        {
          "output_type": "stream",
          "name": "stdout",
          "text": [
            "2023-04-23 19:57:05,980 [INFO] 78\t\t4.0\n"
          ]
        },
        {
          "output_type": "stream",
          "name": "stderr",
          "text": [
            "INFO:NEURONIOUtils:78\t\t4.0\n"
          ]
        },
        {
          "output_type": "stream",
          "name": "stdout",
          "text": [
            "2023-04-23 19:57:05,982 [INFO] 79\t\t4.0\n"
          ]
        },
        {
          "output_type": "stream",
          "name": "stderr",
          "text": [
            "INFO:NEURONIOUtils:79\t\t4.0\n"
          ]
        },
        {
          "output_type": "stream",
          "name": "stdout",
          "text": [
            "2023-04-23 19:57:05,984 [INFO] PGN firing rate avg: 4.0 Hz\n"
          ]
        },
        {
          "output_type": "stream",
          "name": "stderr",
          "text": [
            "INFO:NEURONIOUtils:PGN firing rate avg: 4.0 Hz\n"
          ]
        },
        {
          "output_type": "stream",
          "name": "stdout",
          "text": [
            "2023-04-23 19:57:05,986 [INFO] Grill PGN fr = 6.3 Hz\n"
          ]
        },
        {
          "output_type": "stream",
          "name": "stderr",
          "text": [
            "INFO:NEURONIOUtils:Grill PGN fr = 6.3 Hz\n"
          ]
        },
        {
          "output_type": "stream",
          "name": "stdout",
          "text": [
            "2023-04-23 19:57:05,988 [INFO] IMG node_gid\t  Hz\n"
          ]
        },
        {
          "output_type": "stream",
          "name": "stderr",
          "text": [
            "INFO:NEURONIOUtils:IMG node_gid\t  Hz\n"
          ]
        },
        {
          "output_type": "stream",
          "name": "stdout",
          "text": [
            "2023-04-23 19:57:05,990 [INFO] 90\t\t0.0\n"
          ]
        },
        {
          "output_type": "stream",
          "name": "stderr",
          "text": [
            "INFO:NEURONIOUtils:90\t\t0.0\n"
          ]
        },
        {
          "output_type": "stream",
          "name": "stdout",
          "text": [
            "2023-04-23 19:57:05,992 [INFO] 91\t\t1.0\n"
          ]
        },
        {
          "output_type": "stream",
          "name": "stderr",
          "text": [
            "INFO:NEURONIOUtils:91\t\t1.0\n"
          ]
        },
        {
          "output_type": "stream",
          "name": "stdout",
          "text": [
            "2023-04-23 19:57:05,994 [INFO] 92\t\t0.0\n"
          ]
        },
        {
          "output_type": "stream",
          "name": "stderr",
          "text": [
            "INFO:NEURONIOUtils:92\t\t0.0\n"
          ]
        },
        {
          "output_type": "stream",
          "name": "stdout",
          "text": [
            "2023-04-23 19:57:05,996 [INFO] 93\t\t1.0\n"
          ]
        },
        {
          "output_type": "stream",
          "name": "stderr",
          "text": [
            "INFO:NEURONIOUtils:93\t\t1.0\n"
          ]
        },
        {
          "output_type": "stream",
          "name": "stdout",
          "text": [
            "2023-04-23 19:57:05,998 [INFO] 94\t\t1.0\n"
          ]
        },
        {
          "output_type": "stream",
          "name": "stderr",
          "text": [
            "INFO:NEURONIOUtils:94\t\t1.0\n"
          ]
        },
        {
          "output_type": "stream",
          "name": "stdout",
          "text": [
            "2023-04-23 19:57:06,000 [INFO] 95\t\t0.0\n"
          ]
        },
        {
          "output_type": "stream",
          "name": "stderr",
          "text": [
            "INFO:NEURONIOUtils:95\t\t0.0\n"
          ]
        },
        {
          "output_type": "stream",
          "name": "stdout",
          "text": [
            "2023-04-23 19:57:06,002 [INFO] 96\t\t0.0\n"
          ]
        },
        {
          "output_type": "stream",
          "name": "stderr",
          "text": [
            "INFO:NEURONIOUtils:96\t\t0.0\n"
          ]
        },
        {
          "output_type": "stream",
          "name": "stdout",
          "text": [
            "2023-04-23 19:57:06,004 [INFO] 97\t\t1.0\n"
          ]
        },
        {
          "output_type": "stream",
          "name": "stderr",
          "text": [
            "INFO:NEURONIOUtils:97\t\t1.0\n"
          ]
        },
        {
          "output_type": "stream",
          "name": "stdout",
          "text": [
            "2023-04-23 19:57:06,006 [INFO] 98\t\t1.0\n"
          ]
        },
        {
          "output_type": "stream",
          "name": "stderr",
          "text": [
            "INFO:NEURONIOUtils:98\t\t1.0\n"
          ]
        },
        {
          "output_type": "stream",
          "name": "stdout",
          "text": [
            "2023-04-23 19:57:06,009 [INFO] 99\t\t1.0\n"
          ]
        },
        {
          "output_type": "stream",
          "name": "stderr",
          "text": [
            "INFO:NEURONIOUtils:99\t\t1.0\n"
          ]
        },
        {
          "output_type": "stream",
          "name": "stdout",
          "text": [
            "2023-04-23 19:57:06,015 [INFO] IMG firing rate avg: 4.0 Hz\n"
          ]
        },
        {
          "output_type": "stream",
          "name": "stderr",
          "text": [
            "INFO:NEURONIOUtils:IMG firing rate avg: 4.0 Hz\n"
          ]
        },
        {
          "output_type": "stream",
          "name": "stdout",
          "text": [
            "2023-04-23 19:57:06,032 [INFO] Volume = 0.0875 ml\n"
          ]
        },
        {
          "output_type": "stream",
          "name": "stderr",
          "text": [
            "/usr/local/lib/python3.9/dist-packages/bmtk/utils/reports/spike_trains/spike_trains.py:183: RuntimeWarning: divide by zero encountered in double_scalars\n",
            "  interval = -np.log(1.0 - np.random.uniform()) / fr\n",
            "INFO:NEURONIOUtils:Volume = 0.0875 ml\n"
          ]
        },
        {
          "output_type": "stream",
          "name": "stdout",
          "text": [
            "2023-04-23 19:57:06,054 [INFO] Pressure = 0.00 mmHg\n"
          ]
        },
        {
          "output_type": "stream",
          "name": "stderr",
          "text": [
            "INFO:NEURONIOUtils:Pressure = 0.00 mmHg\n"
          ]
        },
        {
          "output_type": "stream",
          "name": "stdout",
          "text": [
            "2023-04-23 19:57:06,066 [INFO] Calculated bladder afferent firing rate for the next time step = 0.00 Hz \n",
            " \n",
            "\n"
          ]
        },
        {
          "output_type": "stream",
          "name": "stderr",
          "text": [
            "INFO:NEURONIOUtils:Calculated bladder afferent firing rate for the next time step = 0.00 Hz \n",
            " \n",
            "\n"
          ]
        },
        {
          "output_type": "stream",
          "name": "stdout",
          "text": [
            "2023-04-23 19:57:11,711 [INFO]     step:25000 t_sim:5000.00 ms\n"
          ]
        },
        {
          "output_type": "stream",
          "name": "stderr",
          "text": [
            "INFO:NEURONIOUtils:    step:25000 t_sim:5000.00 ms\n"
          ]
        },
        {
          "output_type": "stream",
          "name": "stdout",
          "text": [
            "2023-04-23 19:57:11,727 [INFO] Timestep 4000.0 to 5000.0 ms\n"
          ]
        },
        {
          "output_type": "stream",
          "name": "stderr",
          "text": [
            "INFO:NEURONIOUtils:Timestep 4000.0 to 5000.0 ms\n"
          ]
        },
        {
          "output_type": "stream",
          "name": "stdout",
          "text": [
            "2023-04-23 19:57:11,731 [INFO] PGN node_id\t  Hz\n"
          ]
        },
        {
          "output_type": "stream",
          "name": "stderr",
          "text": [
            "INFO:NEURONIOUtils:PGN node_id\t  Hz\n"
          ]
        },
        {
          "output_type": "stream",
          "name": "stdout",
          "text": [
            "2023-04-23 19:57:11,736 [INFO] 70\t\t4.0\n"
          ]
        },
        {
          "output_type": "stream",
          "name": "stderr",
          "text": [
            "INFO:NEURONIOUtils:70\t\t4.0\n"
          ]
        },
        {
          "output_type": "stream",
          "name": "stdout",
          "text": [
            "2023-04-23 19:57:11,740 [INFO] 71\t\t4.0\n"
          ]
        },
        {
          "output_type": "stream",
          "name": "stderr",
          "text": [
            "INFO:NEURONIOUtils:71\t\t4.0\n"
          ]
        },
        {
          "output_type": "stream",
          "name": "stdout",
          "text": [
            "2023-04-23 19:57:11,742 [INFO] 72\t\t4.0\n"
          ]
        },
        {
          "output_type": "stream",
          "name": "stderr",
          "text": [
            "INFO:NEURONIOUtils:72\t\t4.0\n"
          ]
        },
        {
          "output_type": "stream",
          "name": "stdout",
          "text": [
            "2023-04-23 19:57:11,743 [INFO] 73\t\t4.0\n"
          ]
        },
        {
          "output_type": "stream",
          "name": "stderr",
          "text": [
            "INFO:NEURONIOUtils:73\t\t4.0\n"
          ]
        },
        {
          "output_type": "stream",
          "name": "stdout",
          "text": [
            "2023-04-23 19:57:11,745 [INFO] 74\t\t4.0\n"
          ]
        },
        {
          "output_type": "stream",
          "name": "stderr",
          "text": [
            "INFO:NEURONIOUtils:74\t\t4.0\n"
          ]
        },
        {
          "output_type": "stream",
          "name": "stdout",
          "text": [
            "2023-04-23 19:57:11,747 [INFO] 75\t\t4.0\n"
          ]
        },
        {
          "output_type": "stream",
          "name": "stderr",
          "text": [
            "INFO:NEURONIOUtils:75\t\t4.0\n"
          ]
        },
        {
          "output_type": "stream",
          "name": "stdout",
          "text": [
            "2023-04-23 19:57:11,751 [INFO] 76\t\t4.0\n"
          ]
        },
        {
          "output_type": "stream",
          "name": "stderr",
          "text": [
            "INFO:NEURONIOUtils:76\t\t4.0\n"
          ]
        },
        {
          "output_type": "stream",
          "name": "stdout",
          "text": [
            "2023-04-23 19:57:11,753 [INFO] 77\t\t4.0\n"
          ]
        },
        {
          "output_type": "stream",
          "name": "stderr",
          "text": [
            "INFO:NEURONIOUtils:77\t\t4.0\n"
          ]
        },
        {
          "output_type": "stream",
          "name": "stdout",
          "text": [
            "2023-04-23 19:57:11,755 [INFO] 78\t\t4.0\n"
          ]
        },
        {
          "output_type": "stream",
          "name": "stderr",
          "text": [
            "INFO:NEURONIOUtils:78\t\t4.0\n"
          ]
        },
        {
          "output_type": "stream",
          "name": "stdout",
          "text": [
            "2023-04-23 19:57:11,757 [INFO] 79\t\t4.0\n"
          ]
        },
        {
          "output_type": "stream",
          "name": "stderr",
          "text": [
            "INFO:NEURONIOUtils:79\t\t4.0\n"
          ]
        },
        {
          "output_type": "stream",
          "name": "stdout",
          "text": [
            "2023-04-23 19:57:11,759 [INFO] PGN firing rate avg: 4.0 Hz\n"
          ]
        },
        {
          "output_type": "stream",
          "name": "stderr",
          "text": [
            "INFO:NEURONIOUtils:PGN firing rate avg: 4.0 Hz\n"
          ]
        },
        {
          "output_type": "stream",
          "name": "stdout",
          "text": [
            "2023-04-23 19:57:11,761 [INFO] Grill PGN fr = 6.3 Hz\n"
          ]
        },
        {
          "output_type": "stream",
          "name": "stderr",
          "text": [
            "INFO:NEURONIOUtils:Grill PGN fr = 6.3 Hz\n"
          ]
        },
        {
          "output_type": "stream",
          "name": "stdout",
          "text": [
            "2023-04-23 19:57:11,763 [INFO] IMG node_gid\t  Hz\n"
          ]
        },
        {
          "output_type": "stream",
          "name": "stderr",
          "text": [
            "INFO:NEURONIOUtils:IMG node_gid\t  Hz\n"
          ]
        },
        {
          "output_type": "stream",
          "name": "stdout",
          "text": [
            "2023-04-23 19:57:11,764 [INFO] 90\t\t0.0\n"
          ]
        },
        {
          "output_type": "stream",
          "name": "stderr",
          "text": [
            "INFO:NEURONIOUtils:90\t\t0.0\n"
          ]
        },
        {
          "output_type": "stream",
          "name": "stdout",
          "text": [
            "2023-04-23 19:57:11,767 [INFO] 91\t\t1.0\n"
          ]
        },
        {
          "output_type": "stream",
          "name": "stderr",
          "text": [
            "INFO:NEURONIOUtils:91\t\t1.0\n"
          ]
        },
        {
          "output_type": "stream",
          "name": "stdout",
          "text": [
            "2023-04-23 19:57:11,769 [INFO] 92\t\t0.0\n"
          ]
        },
        {
          "output_type": "stream",
          "name": "stderr",
          "text": [
            "INFO:NEURONIOUtils:92\t\t0.0\n"
          ]
        },
        {
          "output_type": "stream",
          "name": "stdout",
          "text": [
            "2023-04-23 19:57:11,772 [INFO] 93\t\t1.0\n"
          ]
        },
        {
          "output_type": "stream",
          "name": "stderr",
          "text": [
            "INFO:NEURONIOUtils:93\t\t1.0\n"
          ]
        },
        {
          "output_type": "stream",
          "name": "stdout",
          "text": [
            "2023-04-23 19:57:11,774 [INFO] 94\t\t1.0\n"
          ]
        },
        {
          "output_type": "stream",
          "name": "stderr",
          "text": [
            "INFO:NEURONIOUtils:94\t\t1.0\n"
          ]
        },
        {
          "output_type": "stream",
          "name": "stdout",
          "text": [
            "2023-04-23 19:57:11,776 [INFO] 95\t\t0.0\n"
          ]
        },
        {
          "output_type": "stream",
          "name": "stderr",
          "text": [
            "INFO:NEURONIOUtils:95\t\t0.0\n"
          ]
        },
        {
          "output_type": "stream",
          "name": "stdout",
          "text": [
            "2023-04-23 19:57:11,778 [INFO] 96\t\t0.0\n"
          ]
        },
        {
          "output_type": "stream",
          "name": "stderr",
          "text": [
            "INFO:NEURONIOUtils:96\t\t0.0\n"
          ]
        },
        {
          "output_type": "stream",
          "name": "stdout",
          "text": [
            "2023-04-23 19:57:11,780 [INFO] 97\t\t1.0\n"
          ]
        },
        {
          "output_type": "stream",
          "name": "stderr",
          "text": [
            "INFO:NEURONIOUtils:97\t\t1.0\n"
          ]
        },
        {
          "output_type": "stream",
          "name": "stdout",
          "text": [
            "2023-04-23 19:57:11,783 [INFO] 98\t\t1.0\n"
          ]
        },
        {
          "output_type": "stream",
          "name": "stderr",
          "text": [
            "INFO:NEURONIOUtils:98\t\t1.0\n"
          ]
        },
        {
          "output_type": "stream",
          "name": "stdout",
          "text": [
            "2023-04-23 19:57:11,785 [INFO] 99\t\t1.0\n"
          ]
        },
        {
          "output_type": "stream",
          "name": "stderr",
          "text": [
            "INFO:NEURONIOUtils:99\t\t1.0\n"
          ]
        },
        {
          "output_type": "stream",
          "name": "stdout",
          "text": [
            "2023-04-23 19:57:11,788 [INFO] IMG firing rate avg: 4.0 Hz\n"
          ]
        },
        {
          "output_type": "stream",
          "name": "stderr",
          "text": [
            "INFO:NEURONIOUtils:IMG firing rate avg: 4.0 Hz\n"
          ]
        },
        {
          "output_type": "stream",
          "name": "stdout",
          "text": [
            "2023-04-23 19:57:11,797 [INFO] Volume = 0.1167 ml\n"
          ]
        },
        {
          "output_type": "stream",
          "name": "stderr",
          "text": [
            "/usr/local/lib/python3.9/dist-packages/bmtk/utils/reports/spike_trains/spike_trains.py:183: RuntimeWarning: divide by zero encountered in double_scalars\n",
            "  interval = -np.log(1.0 - np.random.uniform()) / fr\n",
            "INFO:NEURONIOUtils:Volume = 0.1167 ml\n"
          ]
        },
        {
          "output_type": "stream",
          "name": "stdout",
          "text": [
            "2023-04-23 19:57:11,804 [INFO] Pressure = 0.00 mmHg\n"
          ]
        },
        {
          "output_type": "stream",
          "name": "stderr",
          "text": [
            "INFO:NEURONIOUtils:Pressure = 0.00 mmHg\n"
          ]
        },
        {
          "output_type": "stream",
          "name": "stdout",
          "text": [
            "2023-04-23 19:57:11,807 [INFO] Calculated bladder afferent firing rate for the next time step = 0.00 Hz \n",
            " \n",
            "\n"
          ]
        },
        {
          "output_type": "stream",
          "name": "stderr",
          "text": [
            "INFO:NEURONIOUtils:Calculated bladder afferent firing rate for the next time step = 0.00 Hz \n",
            " \n",
            "\n"
          ]
        },
        {
          "output_type": "stream",
          "name": "stdout",
          "text": [
            "2023-04-23 19:57:14,251 [INFO]     step:30000 t_sim:6000.00 ms\n"
          ]
        },
        {
          "output_type": "stream",
          "name": "stderr",
          "text": [
            "INFO:NEURONIOUtils:    step:30000 t_sim:6000.00 ms\n"
          ]
        },
        {
          "output_type": "stream",
          "name": "stdout",
          "text": [
            "2023-04-23 19:57:14,270 [INFO] Timestep 5000.0 to 6000.0 ms\n"
          ]
        },
        {
          "output_type": "stream",
          "name": "stderr",
          "text": [
            "INFO:NEURONIOUtils:Timestep 5000.0 to 6000.0 ms\n"
          ]
        },
        {
          "output_type": "stream",
          "name": "stdout",
          "text": [
            "2023-04-23 19:57:14,275 [INFO] PGN node_id\t  Hz\n"
          ]
        },
        {
          "output_type": "stream",
          "name": "stderr",
          "text": [
            "INFO:NEURONIOUtils:PGN node_id\t  Hz\n"
          ]
        },
        {
          "output_type": "stream",
          "name": "stdout",
          "text": [
            "2023-04-23 19:57:14,280 [INFO] 70\t\t2.0\n"
          ]
        },
        {
          "output_type": "stream",
          "name": "stderr",
          "text": [
            "INFO:NEURONIOUtils:70\t\t2.0\n"
          ]
        },
        {
          "output_type": "stream",
          "name": "stdout",
          "text": [
            "2023-04-23 19:57:14,282 [INFO] 71\t\t2.0\n"
          ]
        },
        {
          "output_type": "stream",
          "name": "stderr",
          "text": [
            "INFO:NEURONIOUtils:71\t\t2.0\n"
          ]
        },
        {
          "output_type": "stream",
          "name": "stdout",
          "text": [
            "2023-04-23 19:57:14,285 [INFO] 72\t\t2.0\n"
          ]
        },
        {
          "output_type": "stream",
          "name": "stderr",
          "text": [
            "INFO:NEURONIOUtils:72\t\t2.0\n"
          ]
        },
        {
          "output_type": "stream",
          "name": "stdout",
          "text": [
            "2023-04-23 19:57:14,287 [INFO] 73\t\t2.0\n"
          ]
        },
        {
          "output_type": "stream",
          "name": "stderr",
          "text": [
            "INFO:NEURONIOUtils:73\t\t2.0\n"
          ]
        },
        {
          "output_type": "stream",
          "name": "stdout",
          "text": [
            "2023-04-23 19:57:14,289 [INFO] 74\t\t2.0\n"
          ]
        },
        {
          "output_type": "stream",
          "name": "stderr",
          "text": [
            "INFO:NEURONIOUtils:74\t\t2.0\n"
          ]
        },
        {
          "output_type": "stream",
          "name": "stdout",
          "text": [
            "2023-04-23 19:57:14,292 [INFO] 75\t\t2.0\n"
          ]
        },
        {
          "output_type": "stream",
          "name": "stderr",
          "text": [
            "INFO:NEURONIOUtils:75\t\t2.0\n"
          ]
        },
        {
          "output_type": "stream",
          "name": "stdout",
          "text": [
            "2023-04-23 19:57:14,294 [INFO] 76\t\t2.0\n"
          ]
        },
        {
          "output_type": "stream",
          "name": "stderr",
          "text": [
            "INFO:NEURONIOUtils:76\t\t2.0\n"
          ]
        },
        {
          "output_type": "stream",
          "name": "stdout",
          "text": [
            "2023-04-23 19:57:14,296 [INFO] 77\t\t2.0\n"
          ]
        },
        {
          "output_type": "stream",
          "name": "stderr",
          "text": [
            "INFO:NEURONIOUtils:77\t\t2.0\n"
          ]
        },
        {
          "output_type": "stream",
          "name": "stdout",
          "text": [
            "2023-04-23 19:57:14,298 [INFO] 78\t\t2.0\n"
          ]
        },
        {
          "output_type": "stream",
          "name": "stderr",
          "text": [
            "INFO:NEURONIOUtils:78\t\t2.0\n"
          ]
        },
        {
          "output_type": "stream",
          "name": "stdout",
          "text": [
            "2023-04-23 19:57:14,300 [INFO] 79\t\t2.0\n"
          ]
        },
        {
          "output_type": "stream",
          "name": "stderr",
          "text": [
            "INFO:NEURONIOUtils:79\t\t2.0\n"
          ]
        },
        {
          "output_type": "stream",
          "name": "stdout",
          "text": [
            "2023-04-23 19:57:14,302 [INFO] PGN firing rate avg: 2.0 Hz\n"
          ]
        },
        {
          "output_type": "stream",
          "name": "stderr",
          "text": [
            "INFO:NEURONIOUtils:PGN firing rate avg: 2.0 Hz\n"
          ]
        },
        {
          "output_type": "stream",
          "name": "stdout",
          "text": [
            "2023-04-23 19:57:14,304 [INFO] Grill PGN fr = 2.984 Hz\n"
          ]
        },
        {
          "output_type": "stream",
          "name": "stderr",
          "text": [
            "INFO:NEURONIOUtils:Grill PGN fr = 2.984 Hz\n"
          ]
        },
        {
          "output_type": "stream",
          "name": "stdout",
          "text": [
            "2023-04-23 19:57:14,307 [INFO] IMG node_gid\t  Hz\n"
          ]
        },
        {
          "output_type": "stream",
          "name": "stderr",
          "text": [
            "INFO:NEURONIOUtils:IMG node_gid\t  Hz\n"
          ]
        },
        {
          "output_type": "stream",
          "name": "stdout",
          "text": [
            "2023-04-23 19:57:14,310 [INFO] 90\t\t0.0\n"
          ]
        },
        {
          "output_type": "stream",
          "name": "stderr",
          "text": [
            "INFO:NEURONIOUtils:90\t\t0.0\n"
          ]
        },
        {
          "output_type": "stream",
          "name": "stdout",
          "text": [
            "2023-04-23 19:57:14,312 [INFO] 91\t\t1.0\n"
          ]
        },
        {
          "output_type": "stream",
          "name": "stderr",
          "text": [
            "INFO:NEURONIOUtils:91\t\t1.0\n"
          ]
        },
        {
          "output_type": "stream",
          "name": "stdout",
          "text": [
            "2023-04-23 19:57:14,314 [INFO] 92\t\t0.0\n"
          ]
        },
        {
          "output_type": "stream",
          "name": "stderr",
          "text": [
            "INFO:NEURONIOUtils:92\t\t0.0\n"
          ]
        },
        {
          "output_type": "stream",
          "name": "stdout",
          "text": [
            "2023-04-23 19:57:14,316 [INFO] 93\t\t1.0\n"
          ]
        },
        {
          "output_type": "stream",
          "name": "stderr",
          "text": [
            "INFO:NEURONIOUtils:93\t\t1.0\n"
          ]
        },
        {
          "output_type": "stream",
          "name": "stdout",
          "text": [
            "2023-04-23 19:57:14,318 [INFO] 94\t\t1.0\n"
          ]
        },
        {
          "output_type": "stream",
          "name": "stderr",
          "text": [
            "INFO:NEURONIOUtils:94\t\t1.0\n"
          ]
        },
        {
          "output_type": "stream",
          "name": "stdout",
          "text": [
            "2023-04-23 19:57:14,321 [INFO] 95\t\t0.0\n"
          ]
        },
        {
          "output_type": "stream",
          "name": "stderr",
          "text": [
            "INFO:NEURONIOUtils:95\t\t0.0\n"
          ]
        },
        {
          "output_type": "stream",
          "name": "stdout",
          "text": [
            "2023-04-23 19:57:14,323 [INFO] 96\t\t0.0\n"
          ]
        },
        {
          "output_type": "stream",
          "name": "stderr",
          "text": [
            "INFO:NEURONIOUtils:96\t\t0.0\n"
          ]
        },
        {
          "output_type": "stream",
          "name": "stdout",
          "text": [
            "2023-04-23 19:57:14,325 [INFO] 97\t\t1.0\n"
          ]
        },
        {
          "output_type": "stream",
          "name": "stderr",
          "text": [
            "INFO:NEURONIOUtils:97\t\t1.0\n"
          ]
        },
        {
          "output_type": "stream",
          "name": "stdout",
          "text": [
            "2023-04-23 19:57:14,327 [INFO] 98\t\t1.0\n"
          ]
        },
        {
          "output_type": "stream",
          "name": "stderr",
          "text": [
            "INFO:NEURONIOUtils:98\t\t1.0\n"
          ]
        },
        {
          "output_type": "stream",
          "name": "stdout",
          "text": [
            "2023-04-23 19:57:14,329 [INFO] 99\t\t1.0\n"
          ]
        },
        {
          "output_type": "stream",
          "name": "stderr",
          "text": [
            "INFO:NEURONIOUtils:99\t\t1.0\n"
          ]
        },
        {
          "output_type": "stream",
          "name": "stdout",
          "text": [
            "2023-04-23 19:57:14,332 [INFO] IMG firing rate avg: 2.0 Hz\n"
          ]
        },
        {
          "output_type": "stream",
          "name": "stderr",
          "text": [
            "INFO:NEURONIOUtils:IMG firing rate avg: 2.0 Hz\n"
          ]
        },
        {
          "output_type": "stream",
          "name": "stdout",
          "text": [
            "2023-04-23 19:57:14,343 [INFO] Volume = 0.1458 ml\n"
          ]
        },
        {
          "output_type": "stream",
          "name": "stderr",
          "text": [
            "/usr/local/lib/python3.9/dist-packages/bmtk/utils/reports/spike_trains/spike_trains.py:183: RuntimeWarning: divide by zero encountered in double_scalars\n",
            "  interval = -np.log(1.0 - np.random.uniform()) / fr\n",
            "INFO:NEURONIOUtils:Volume = 0.1458 ml\n"
          ]
        },
        {
          "output_type": "stream",
          "name": "stdout",
          "text": [
            "2023-04-23 19:57:14,353 [INFO] Pressure = 0.00 mmHg\n"
          ]
        },
        {
          "output_type": "stream",
          "name": "stderr",
          "text": [
            "INFO:NEURONIOUtils:Pressure = 0.00 mmHg\n"
          ]
        },
        {
          "output_type": "stream",
          "name": "stdout",
          "text": [
            "2023-04-23 19:57:14,356 [INFO] Calculated bladder afferent firing rate for the next time step = 0.00 Hz \n",
            " \n",
            "\n"
          ]
        },
        {
          "output_type": "stream",
          "name": "stderr",
          "text": [
            "INFO:NEURONIOUtils:Calculated bladder afferent firing rate for the next time step = 0.00 Hz \n",
            " \n",
            "\n"
          ]
        },
        {
          "output_type": "stream",
          "name": "stdout",
          "text": [
            "2023-04-23 19:57:17,133 [INFO]     step:35000 t_sim:7000.00 ms\n"
          ]
        },
        {
          "output_type": "stream",
          "name": "stderr",
          "text": [
            "INFO:NEURONIOUtils:    step:35000 t_sim:7000.00 ms\n"
          ]
        },
        {
          "output_type": "stream",
          "name": "stdout",
          "text": [
            "2023-04-23 19:57:17,152 [INFO] Timestep 6000.0 to 7000.0 ms\n"
          ]
        },
        {
          "output_type": "stream",
          "name": "stderr",
          "text": [
            "INFO:NEURONIOUtils:Timestep 6000.0 to 7000.0 ms\n"
          ]
        },
        {
          "output_type": "stream",
          "name": "stdout",
          "text": [
            "2023-04-23 19:57:17,155 [INFO] PGN node_id\t  Hz\n"
          ]
        },
        {
          "output_type": "stream",
          "name": "stderr",
          "text": [
            "INFO:NEURONIOUtils:PGN node_id\t  Hz\n"
          ]
        },
        {
          "output_type": "stream",
          "name": "stdout",
          "text": [
            "2023-04-23 19:57:17,159 [INFO] 70\t\t2.0\n"
          ]
        },
        {
          "output_type": "stream",
          "name": "stderr",
          "text": [
            "INFO:NEURONIOUtils:70\t\t2.0\n"
          ]
        },
        {
          "output_type": "stream",
          "name": "stdout",
          "text": [
            "2023-04-23 19:57:17,162 [INFO] 71\t\t2.0\n"
          ]
        },
        {
          "output_type": "stream",
          "name": "stderr",
          "text": [
            "INFO:NEURONIOUtils:71\t\t2.0\n"
          ]
        },
        {
          "output_type": "stream",
          "name": "stdout",
          "text": [
            "2023-04-23 19:57:17,168 [INFO] 72\t\t2.0\n"
          ]
        },
        {
          "output_type": "stream",
          "name": "stderr",
          "text": [
            "INFO:NEURONIOUtils:72\t\t2.0\n"
          ]
        },
        {
          "output_type": "stream",
          "name": "stdout",
          "text": [
            "2023-04-23 19:57:17,176 [INFO] 73\t\t2.0\n"
          ]
        },
        {
          "output_type": "stream",
          "name": "stderr",
          "text": [
            "INFO:NEURONIOUtils:73\t\t2.0\n"
          ]
        },
        {
          "output_type": "stream",
          "name": "stdout",
          "text": [
            "2023-04-23 19:57:17,181 [INFO] 74\t\t2.0\n"
          ]
        },
        {
          "output_type": "stream",
          "name": "stderr",
          "text": [
            "INFO:NEURONIOUtils:74\t\t2.0\n"
          ]
        },
        {
          "output_type": "stream",
          "name": "stdout",
          "text": [
            "2023-04-23 19:57:17,187 [INFO] 75\t\t2.0\n"
          ]
        },
        {
          "output_type": "stream",
          "name": "stderr",
          "text": [
            "INFO:NEURONIOUtils:75\t\t2.0\n"
          ]
        },
        {
          "output_type": "stream",
          "name": "stdout",
          "text": [
            "2023-04-23 19:57:17,191 [INFO] 76\t\t2.0\n"
          ]
        },
        {
          "output_type": "stream",
          "name": "stderr",
          "text": [
            "INFO:NEURONIOUtils:76\t\t2.0\n"
          ]
        },
        {
          "output_type": "stream",
          "name": "stdout",
          "text": [
            "2023-04-23 19:57:17,195 [INFO] 77\t\t2.0\n"
          ]
        },
        {
          "output_type": "stream",
          "name": "stderr",
          "text": [
            "INFO:NEURONIOUtils:77\t\t2.0\n"
          ]
        },
        {
          "output_type": "stream",
          "name": "stdout",
          "text": [
            "2023-04-23 19:57:17,199 [INFO] 78\t\t2.0\n"
          ]
        },
        {
          "output_type": "stream",
          "name": "stderr",
          "text": [
            "INFO:NEURONIOUtils:78\t\t2.0\n"
          ]
        },
        {
          "output_type": "stream",
          "name": "stdout",
          "text": [
            "2023-04-23 19:57:17,205 [INFO] 79\t\t2.0\n"
          ]
        },
        {
          "output_type": "stream",
          "name": "stderr",
          "text": [
            "INFO:NEURONIOUtils:79\t\t2.0\n"
          ]
        },
        {
          "output_type": "stream",
          "name": "stdout",
          "text": [
            "2023-04-23 19:57:17,209 [INFO] PGN firing rate avg: 2.0 Hz\n"
          ]
        },
        {
          "output_type": "stream",
          "name": "stderr",
          "text": [
            "INFO:NEURONIOUtils:PGN firing rate avg: 2.0 Hz\n"
          ]
        },
        {
          "output_type": "stream",
          "name": "stdout",
          "text": [
            "2023-04-23 19:57:17,211 [INFO] Grill PGN fr = 2.984 Hz\n"
          ]
        },
        {
          "output_type": "stream",
          "name": "stderr",
          "text": [
            "INFO:NEURONIOUtils:Grill PGN fr = 2.984 Hz\n"
          ]
        },
        {
          "output_type": "stream",
          "name": "stdout",
          "text": [
            "2023-04-23 19:57:17,214 [INFO] IMG node_gid\t  Hz\n"
          ]
        },
        {
          "output_type": "stream",
          "name": "stderr",
          "text": [
            "INFO:NEURONIOUtils:IMG node_gid\t  Hz\n"
          ]
        },
        {
          "output_type": "stream",
          "name": "stdout",
          "text": [
            "2023-04-23 19:57:17,215 [INFO] 90\t\t0.0\n"
          ]
        },
        {
          "output_type": "stream",
          "name": "stderr",
          "text": [
            "INFO:NEURONIOUtils:90\t\t0.0\n"
          ]
        },
        {
          "output_type": "stream",
          "name": "stdout",
          "text": [
            "2023-04-23 19:57:17,220 [INFO] 91\t\t1.0\n"
          ]
        },
        {
          "output_type": "stream",
          "name": "stderr",
          "text": [
            "INFO:NEURONIOUtils:91\t\t1.0\n"
          ]
        },
        {
          "output_type": "stream",
          "name": "stdout",
          "text": [
            "2023-04-23 19:57:17,222 [INFO] 92\t\t0.0\n"
          ]
        },
        {
          "output_type": "stream",
          "name": "stderr",
          "text": [
            "INFO:NEURONIOUtils:92\t\t0.0\n"
          ]
        },
        {
          "output_type": "stream",
          "name": "stdout",
          "text": [
            "2023-04-23 19:57:17,223 [INFO] 93\t\t1.0\n"
          ]
        },
        {
          "output_type": "stream",
          "name": "stderr",
          "text": [
            "INFO:NEURONIOUtils:93\t\t1.0\n"
          ]
        },
        {
          "output_type": "stream",
          "name": "stdout",
          "text": [
            "2023-04-23 19:57:17,227 [INFO] 94\t\t1.0\n"
          ]
        },
        {
          "output_type": "stream",
          "name": "stderr",
          "text": [
            "INFO:NEURONIOUtils:94\t\t1.0\n"
          ]
        },
        {
          "output_type": "stream",
          "name": "stdout",
          "text": [
            "2023-04-23 19:57:17,229 [INFO] 95\t\t0.0\n"
          ]
        },
        {
          "output_type": "stream",
          "name": "stderr",
          "text": [
            "INFO:NEURONIOUtils:95\t\t0.0\n"
          ]
        },
        {
          "output_type": "stream",
          "name": "stdout",
          "text": [
            "2023-04-23 19:57:17,231 [INFO] 96\t\t0.0\n"
          ]
        },
        {
          "output_type": "stream",
          "name": "stderr",
          "text": [
            "INFO:NEURONIOUtils:96\t\t0.0\n"
          ]
        },
        {
          "output_type": "stream",
          "name": "stdout",
          "text": [
            "2023-04-23 19:57:17,234 [INFO] 97\t\t1.0\n"
          ]
        },
        {
          "output_type": "stream",
          "name": "stderr",
          "text": [
            "INFO:NEURONIOUtils:97\t\t1.0\n"
          ]
        },
        {
          "output_type": "stream",
          "name": "stdout",
          "text": [
            "2023-04-23 19:57:17,236 [INFO] 98\t\t1.0\n"
          ]
        },
        {
          "output_type": "stream",
          "name": "stderr",
          "text": [
            "INFO:NEURONIOUtils:98\t\t1.0\n"
          ]
        },
        {
          "output_type": "stream",
          "name": "stdout",
          "text": [
            "2023-04-23 19:57:17,241 [INFO] 99\t\t1.0\n"
          ]
        },
        {
          "output_type": "stream",
          "name": "stderr",
          "text": [
            "INFO:NEURONIOUtils:99\t\t1.0\n"
          ]
        },
        {
          "output_type": "stream",
          "name": "stdout",
          "text": [
            "2023-04-23 19:57:17,243 [INFO] IMG firing rate avg: 2.0 Hz\n"
          ]
        },
        {
          "output_type": "stream",
          "name": "stderr",
          "text": [
            "INFO:NEURONIOUtils:IMG firing rate avg: 2.0 Hz\n"
          ]
        },
        {
          "output_type": "stream",
          "name": "stdout",
          "text": [
            "2023-04-23 19:57:17,256 [INFO] Volume = 0.1750 ml\n"
          ]
        },
        {
          "output_type": "stream",
          "name": "stderr",
          "text": [
            "/usr/local/lib/python3.9/dist-packages/bmtk/utils/reports/spike_trains/spike_trains.py:183: RuntimeWarning: divide by zero encountered in double_scalars\n",
            "  interval = -np.log(1.0 - np.random.uniform()) / fr\n",
            "INFO:NEURONIOUtils:Volume = 0.1750 ml\n"
          ]
        },
        {
          "output_type": "stream",
          "name": "stdout",
          "text": [
            "2023-04-23 19:57:17,264 [INFO] Pressure = 0.00 mmHg\n"
          ]
        },
        {
          "output_type": "stream",
          "name": "stderr",
          "text": [
            "INFO:NEURONIOUtils:Pressure = 0.00 mmHg\n"
          ]
        },
        {
          "output_type": "stream",
          "name": "stdout",
          "text": [
            "2023-04-23 19:57:17,267 [INFO] Calculated bladder afferent firing rate for the next time step = 0.00 Hz \n",
            " \n",
            "\n"
          ]
        },
        {
          "output_type": "stream",
          "name": "stderr",
          "text": [
            "INFO:NEURONIOUtils:Calculated bladder afferent firing rate for the next time step = 0.00 Hz \n",
            " \n",
            "\n"
          ]
        },
        {
          "output_type": "stream",
          "name": "stdout",
          "text": [
            "2023-04-23 19:57:20,086 [INFO]     step:40000 t_sim:8000.00 ms\n"
          ]
        },
        {
          "output_type": "stream",
          "name": "stderr",
          "text": [
            "INFO:NEURONIOUtils:    step:40000 t_sim:8000.00 ms\n"
          ]
        },
        {
          "output_type": "stream",
          "name": "stdout",
          "text": [
            "2023-04-23 19:57:20,099 [INFO] Timestep 7000.0 to 8000.0 ms\n"
          ]
        },
        {
          "output_type": "stream",
          "name": "stderr",
          "text": [
            "INFO:NEURONIOUtils:Timestep 7000.0 to 8000.0 ms\n"
          ]
        },
        {
          "output_type": "stream",
          "name": "stdout",
          "text": [
            "2023-04-23 19:57:20,108 [INFO] PGN node_id\t  Hz\n"
          ]
        },
        {
          "output_type": "stream",
          "name": "stderr",
          "text": [
            "INFO:NEURONIOUtils:PGN node_id\t  Hz\n"
          ]
        },
        {
          "output_type": "stream",
          "name": "stdout",
          "text": [
            "2023-04-23 19:57:20,116 [INFO] 70\t\t2.0\n"
          ]
        },
        {
          "output_type": "stream",
          "name": "stderr",
          "text": [
            "INFO:NEURONIOUtils:70\t\t2.0\n"
          ]
        },
        {
          "output_type": "stream",
          "name": "stdout",
          "text": [
            "2023-04-23 19:57:20,119 [INFO] 71\t\t1.0\n"
          ]
        },
        {
          "output_type": "stream",
          "name": "stderr",
          "text": [
            "INFO:NEURONIOUtils:71\t\t1.0\n"
          ]
        },
        {
          "output_type": "stream",
          "name": "stdout",
          "text": [
            "2023-04-23 19:57:20,122 [INFO] 72\t\t1.0\n"
          ]
        },
        {
          "output_type": "stream",
          "name": "stderr",
          "text": [
            "INFO:NEURONIOUtils:72\t\t1.0\n"
          ]
        },
        {
          "output_type": "stream",
          "name": "stdout",
          "text": [
            "2023-04-23 19:57:20,129 [INFO] 73\t\t1.0\n"
          ]
        },
        {
          "output_type": "stream",
          "name": "stderr",
          "text": [
            "INFO:NEURONIOUtils:73\t\t1.0\n"
          ]
        },
        {
          "output_type": "stream",
          "name": "stdout",
          "text": [
            "2023-04-23 19:57:20,135 [INFO] 74\t\t1.0\n"
          ]
        },
        {
          "output_type": "stream",
          "name": "stderr",
          "text": [
            "INFO:NEURONIOUtils:74\t\t1.0\n"
          ]
        },
        {
          "output_type": "stream",
          "name": "stdout",
          "text": [
            "2023-04-23 19:57:20,139 [INFO] 75\t\t2.0\n"
          ]
        },
        {
          "output_type": "stream",
          "name": "stderr",
          "text": [
            "INFO:NEURONIOUtils:75\t\t2.0\n"
          ]
        },
        {
          "output_type": "stream",
          "name": "stdout",
          "text": [
            "2023-04-23 19:57:20,145 [INFO] 76\t\t1.0\n"
          ]
        },
        {
          "output_type": "stream",
          "name": "stderr",
          "text": [
            "INFO:NEURONIOUtils:76\t\t1.0\n"
          ]
        },
        {
          "output_type": "stream",
          "name": "stdout",
          "text": [
            "2023-04-23 19:57:20,147 [INFO] 77\t\t1.0\n"
          ]
        },
        {
          "output_type": "stream",
          "name": "stderr",
          "text": [
            "INFO:NEURONIOUtils:77\t\t1.0\n"
          ]
        },
        {
          "output_type": "stream",
          "name": "stdout",
          "text": [
            "2023-04-23 19:57:20,152 [INFO] 78\t\t1.0\n"
          ]
        },
        {
          "output_type": "stream",
          "name": "stderr",
          "text": [
            "INFO:NEURONIOUtils:78\t\t1.0\n"
          ]
        },
        {
          "output_type": "stream",
          "name": "stdout",
          "text": [
            "2023-04-23 19:57:20,157 [INFO] 79\t\t2.0\n"
          ]
        },
        {
          "output_type": "stream",
          "name": "stderr",
          "text": [
            "INFO:NEURONIOUtils:79\t\t2.0\n"
          ]
        },
        {
          "output_type": "stream",
          "name": "stdout",
          "text": [
            "2023-04-23 19:57:20,162 [INFO] PGN firing rate avg: 1.3 Hz\n"
          ]
        },
        {
          "output_type": "stream",
          "name": "stderr",
          "text": [
            "INFO:NEURONIOUtils:PGN firing rate avg: 1.3 Hz\n"
          ]
        },
        {
          "output_type": "stream",
          "name": "stdout",
          "text": [
            "2023-04-23 19:57:20,167 [INFO] Grill PGN fr = 1.7886240000000004 Hz\n"
          ]
        },
        {
          "output_type": "stream",
          "name": "stderr",
          "text": [
            "INFO:NEURONIOUtils:Grill PGN fr = 1.7886240000000004 Hz\n"
          ]
        },
        {
          "output_type": "stream",
          "name": "stdout",
          "text": [
            "2023-04-23 19:57:20,170 [INFO] IMG node_gid\t  Hz\n"
          ]
        },
        {
          "output_type": "stream",
          "name": "stderr",
          "text": [
            "INFO:NEURONIOUtils:IMG node_gid\t  Hz\n"
          ]
        },
        {
          "output_type": "stream",
          "name": "stdout",
          "text": [
            "2023-04-23 19:57:20,173 [INFO] 90\t\t0.0\n"
          ]
        },
        {
          "output_type": "stream",
          "name": "stderr",
          "text": [
            "INFO:NEURONIOUtils:90\t\t0.0\n"
          ]
        },
        {
          "output_type": "stream",
          "name": "stdout",
          "text": [
            "2023-04-23 19:57:20,175 [INFO] 91\t\t1.0\n"
          ]
        },
        {
          "output_type": "stream",
          "name": "stderr",
          "text": [
            "INFO:NEURONIOUtils:91\t\t1.0\n"
          ]
        },
        {
          "output_type": "stream",
          "name": "stdout",
          "text": [
            "2023-04-23 19:57:20,179 [INFO] 92\t\t0.0\n"
          ]
        },
        {
          "output_type": "stream",
          "name": "stderr",
          "text": [
            "INFO:NEURONIOUtils:92\t\t0.0\n"
          ]
        },
        {
          "output_type": "stream",
          "name": "stdout",
          "text": [
            "2023-04-23 19:57:20,183 [INFO] 93\t\t1.0\n"
          ]
        },
        {
          "output_type": "stream",
          "name": "stderr",
          "text": [
            "INFO:NEURONIOUtils:93\t\t1.0\n"
          ]
        },
        {
          "output_type": "stream",
          "name": "stdout",
          "text": [
            "2023-04-23 19:57:20,188 [INFO] 94\t\t1.0\n"
          ]
        },
        {
          "output_type": "stream",
          "name": "stderr",
          "text": [
            "INFO:NEURONIOUtils:94\t\t1.0\n"
          ]
        },
        {
          "output_type": "stream",
          "name": "stdout",
          "text": [
            "2023-04-23 19:57:20,197 [INFO] 95\t\t0.0\n"
          ]
        },
        {
          "output_type": "stream",
          "name": "stderr",
          "text": [
            "INFO:NEURONIOUtils:95\t\t0.0\n"
          ]
        },
        {
          "output_type": "stream",
          "name": "stdout",
          "text": [
            "2023-04-23 19:57:20,208 [INFO] 96\t\t0.0\n"
          ]
        },
        {
          "output_type": "stream",
          "name": "stderr",
          "text": [
            "INFO:NEURONIOUtils:96\t\t0.0\n"
          ]
        },
        {
          "output_type": "stream",
          "name": "stdout",
          "text": [
            "2023-04-23 19:57:20,214 [INFO] 97\t\t1.0\n"
          ]
        },
        {
          "output_type": "stream",
          "name": "stderr",
          "text": [
            "INFO:NEURONIOUtils:97\t\t1.0\n"
          ]
        },
        {
          "output_type": "stream",
          "name": "stdout",
          "text": [
            "2023-04-23 19:57:20,244 [INFO] 98\t\t1.0\n"
          ]
        },
        {
          "output_type": "stream",
          "name": "stderr",
          "text": [
            "INFO:NEURONIOUtils:98\t\t1.0\n"
          ]
        },
        {
          "output_type": "stream",
          "name": "stdout",
          "text": [
            "2023-04-23 19:57:20,246 [INFO] 99\t\t1.0\n"
          ]
        },
        {
          "output_type": "stream",
          "name": "stderr",
          "text": [
            "INFO:NEURONIOUtils:99\t\t1.0\n"
          ]
        },
        {
          "output_type": "stream",
          "name": "stdout",
          "text": [
            "2023-04-23 19:57:20,249 [INFO] IMG firing rate avg: 1.3 Hz\n"
          ]
        },
        {
          "output_type": "stream",
          "name": "stderr",
          "text": [
            "INFO:NEURONIOUtils:IMG firing rate avg: 1.3 Hz\n"
          ]
        },
        {
          "output_type": "stream",
          "name": "stdout",
          "text": [
            "2023-04-23 19:57:20,259 [INFO] Volume = 0.2042 ml\n"
          ]
        },
        {
          "output_type": "stream",
          "name": "stderr",
          "text": [
            "/usr/local/lib/python3.9/dist-packages/bmtk/utils/reports/spike_trains/spike_trains.py:183: RuntimeWarning: divide by zero encountered in double_scalars\n",
            "  interval = -np.log(1.0 - np.random.uniform()) / fr\n",
            "INFO:NEURONIOUtils:Volume = 0.2042 ml\n"
          ]
        },
        {
          "output_type": "stream",
          "name": "stdout",
          "text": [
            "2023-04-23 19:57:20,262 [INFO] Pressure = 0.00 mmHg\n"
          ]
        },
        {
          "output_type": "stream",
          "name": "stderr",
          "text": [
            "INFO:NEURONIOUtils:Pressure = 0.00 mmHg\n"
          ]
        },
        {
          "output_type": "stream",
          "name": "stdout",
          "text": [
            "2023-04-23 19:57:20,265 [INFO] Calculated bladder afferent firing rate for the next time step = 0.00 Hz \n",
            " \n",
            "\n"
          ]
        },
        {
          "output_type": "stream",
          "name": "stderr",
          "text": [
            "INFO:NEURONIOUtils:Calculated bladder afferent firing rate for the next time step = 0.00 Hz \n",
            " \n",
            "\n"
          ]
        },
        {
          "output_type": "stream",
          "name": "stdout",
          "text": [
            "2023-04-23 19:57:23,471 [INFO]     step:45000 t_sim:9000.00 ms\n"
          ]
        },
        {
          "output_type": "stream",
          "name": "stderr",
          "text": [
            "INFO:NEURONIOUtils:    step:45000 t_sim:9000.00 ms\n"
          ]
        },
        {
          "output_type": "stream",
          "name": "stdout",
          "text": [
            "2023-04-23 19:57:23,492 [INFO] Timestep 8000.0 to 9000.0 ms\n"
          ]
        },
        {
          "output_type": "stream",
          "name": "stderr",
          "text": [
            "INFO:NEURONIOUtils:Timestep 8000.0 to 9000.0 ms\n"
          ]
        },
        {
          "output_type": "stream",
          "name": "stdout",
          "text": [
            "2023-04-23 19:57:23,502 [INFO] PGN node_id\t  Hz\n"
          ]
        },
        {
          "output_type": "stream",
          "name": "stderr",
          "text": [
            "INFO:NEURONIOUtils:PGN node_id\t  Hz\n"
          ]
        },
        {
          "output_type": "stream",
          "name": "stdout",
          "text": [
            "2023-04-23 19:57:23,506 [INFO] 70\t\t2.0\n"
          ]
        },
        {
          "output_type": "stream",
          "name": "stderr",
          "text": [
            "INFO:NEURONIOUtils:70\t\t2.0\n"
          ]
        },
        {
          "output_type": "stream",
          "name": "stdout",
          "text": [
            "2023-04-23 19:57:23,512 [INFO] 71\t\t3.0\n"
          ]
        },
        {
          "output_type": "stream",
          "name": "stderr",
          "text": [
            "INFO:NEURONIOUtils:71\t\t3.0\n"
          ]
        },
        {
          "output_type": "stream",
          "name": "stdout",
          "text": [
            "2023-04-23 19:57:23,515 [INFO] 72\t\t3.0\n"
          ]
        },
        {
          "output_type": "stream",
          "name": "stderr",
          "text": [
            "INFO:NEURONIOUtils:72\t\t3.0\n"
          ]
        },
        {
          "output_type": "stream",
          "name": "stdout",
          "text": [
            "2023-04-23 19:57:23,517 [INFO] 73\t\t3.0\n"
          ]
        },
        {
          "output_type": "stream",
          "name": "stderr",
          "text": [
            "INFO:NEURONIOUtils:73\t\t3.0\n"
          ]
        },
        {
          "output_type": "stream",
          "name": "stdout",
          "text": [
            "2023-04-23 19:57:23,520 [INFO] 74\t\t3.0\n"
          ]
        },
        {
          "output_type": "stream",
          "name": "stderr",
          "text": [
            "INFO:NEURONIOUtils:74\t\t3.0\n"
          ]
        },
        {
          "output_type": "stream",
          "name": "stdout",
          "text": [
            "2023-04-23 19:57:23,522 [INFO] 75\t\t2.0\n"
          ]
        },
        {
          "output_type": "stream",
          "name": "stderr",
          "text": [
            "INFO:NEURONIOUtils:75\t\t2.0\n"
          ]
        },
        {
          "output_type": "stream",
          "name": "stdout",
          "text": [
            "2023-04-23 19:57:23,524 [INFO] 76\t\t3.0\n"
          ]
        },
        {
          "output_type": "stream",
          "name": "stderr",
          "text": [
            "INFO:NEURONIOUtils:76\t\t3.0\n"
          ]
        },
        {
          "output_type": "stream",
          "name": "stdout",
          "text": [
            "2023-04-23 19:57:23,526 [INFO] 77\t\t3.0\n"
          ]
        },
        {
          "output_type": "stream",
          "name": "stderr",
          "text": [
            "INFO:NEURONIOUtils:77\t\t3.0\n"
          ]
        },
        {
          "output_type": "stream",
          "name": "stdout",
          "text": [
            "2023-04-23 19:57:23,528 [INFO] 78\t\t3.0\n"
          ]
        },
        {
          "output_type": "stream",
          "name": "stderr",
          "text": [
            "INFO:NEURONIOUtils:78\t\t3.0\n"
          ]
        },
        {
          "output_type": "stream",
          "name": "stdout",
          "text": [
            "2023-04-23 19:57:23,533 [INFO] 79\t\t2.0\n"
          ]
        },
        {
          "output_type": "stream",
          "name": "stderr",
          "text": [
            "INFO:NEURONIOUtils:79\t\t2.0\n"
          ]
        },
        {
          "output_type": "stream",
          "name": "stdout",
          "text": [
            "2023-04-23 19:57:23,535 [INFO] PGN firing rate avg: 2.7 Hz\n"
          ]
        },
        {
          "output_type": "stream",
          "name": "stderr",
          "text": [
            "INFO:NEURONIOUtils:PGN firing rate avg: 2.7 Hz\n"
          ]
        },
        {
          "output_type": "stream",
          "name": "stdout",
          "text": [
            "2023-04-23 19:57:23,537 [INFO] Grill PGN fr = 4.158796000000001 Hz\n"
          ]
        },
        {
          "output_type": "stream",
          "name": "stderr",
          "text": [
            "INFO:NEURONIOUtils:Grill PGN fr = 4.158796000000001 Hz\n"
          ]
        },
        {
          "output_type": "stream",
          "name": "stdout",
          "text": [
            "2023-04-23 19:57:23,539 [INFO] IMG node_gid\t  Hz\n"
          ]
        },
        {
          "output_type": "stream",
          "name": "stderr",
          "text": [
            "INFO:NEURONIOUtils:IMG node_gid\t  Hz\n"
          ]
        },
        {
          "output_type": "stream",
          "name": "stdout",
          "text": [
            "2023-04-23 19:57:23,543 [INFO] 90\t\t0.0\n"
          ]
        },
        {
          "output_type": "stream",
          "name": "stderr",
          "text": [
            "INFO:NEURONIOUtils:90\t\t0.0\n"
          ]
        },
        {
          "output_type": "stream",
          "name": "stdout",
          "text": [
            "2023-04-23 19:57:23,547 [INFO] 91\t\t1.0\n"
          ]
        },
        {
          "output_type": "stream",
          "name": "stderr",
          "text": [
            "INFO:NEURONIOUtils:91\t\t1.0\n"
          ]
        },
        {
          "output_type": "stream",
          "name": "stdout",
          "text": [
            "2023-04-23 19:57:23,549 [INFO] 92\t\t0.0\n"
          ]
        },
        {
          "output_type": "stream",
          "name": "stderr",
          "text": [
            "INFO:NEURONIOUtils:92\t\t0.0\n"
          ]
        },
        {
          "output_type": "stream",
          "name": "stdout",
          "text": [
            "2023-04-23 19:57:23,551 [INFO] 93\t\t1.0\n"
          ]
        },
        {
          "output_type": "stream",
          "name": "stderr",
          "text": [
            "INFO:NEURONIOUtils:93\t\t1.0\n"
          ]
        },
        {
          "output_type": "stream",
          "name": "stdout",
          "text": [
            "2023-04-23 19:57:23,552 [INFO] 94\t\t1.0\n"
          ]
        },
        {
          "output_type": "stream",
          "name": "stderr",
          "text": [
            "INFO:NEURONIOUtils:94\t\t1.0\n"
          ]
        },
        {
          "output_type": "stream",
          "name": "stdout",
          "text": [
            "2023-04-23 19:57:23,554 [INFO] 95\t\t0.0\n"
          ]
        },
        {
          "output_type": "stream",
          "name": "stderr",
          "text": [
            "INFO:NEURONIOUtils:95\t\t0.0\n"
          ]
        },
        {
          "output_type": "stream",
          "name": "stdout",
          "text": [
            "2023-04-23 19:57:23,556 [INFO] 96\t\t0.0\n"
          ]
        },
        {
          "output_type": "stream",
          "name": "stderr",
          "text": [
            "INFO:NEURONIOUtils:96\t\t0.0\n"
          ]
        },
        {
          "output_type": "stream",
          "name": "stdout",
          "text": [
            "2023-04-23 19:57:23,558 [INFO] 97\t\t1.0\n"
          ]
        },
        {
          "output_type": "stream",
          "name": "stderr",
          "text": [
            "INFO:NEURONIOUtils:97\t\t1.0\n"
          ]
        },
        {
          "output_type": "stream",
          "name": "stdout",
          "text": [
            "2023-04-23 19:57:23,561 [INFO] 98\t\t1.0\n"
          ]
        },
        {
          "output_type": "stream",
          "name": "stderr",
          "text": [
            "INFO:NEURONIOUtils:98\t\t1.0\n"
          ]
        },
        {
          "output_type": "stream",
          "name": "stdout",
          "text": [
            "2023-04-23 19:57:23,564 [INFO] 99\t\t1.0\n"
          ]
        },
        {
          "output_type": "stream",
          "name": "stderr",
          "text": [
            "INFO:NEURONIOUtils:99\t\t1.0\n"
          ]
        },
        {
          "output_type": "stream",
          "name": "stdout",
          "text": [
            "2023-04-23 19:57:23,566 [INFO] IMG firing rate avg: 2.7 Hz\n"
          ]
        },
        {
          "output_type": "stream",
          "name": "stderr",
          "text": [
            "INFO:NEURONIOUtils:IMG firing rate avg: 2.7 Hz\n"
          ]
        },
        {
          "output_type": "stream",
          "name": "stdout",
          "text": [
            "2023-04-23 19:57:23,579 [INFO] Volume = 0.2333 ml\n"
          ]
        },
        {
          "output_type": "stream",
          "name": "stderr",
          "text": [
            "/usr/local/lib/python3.9/dist-packages/bmtk/utils/reports/spike_trains/spike_trains.py:183: RuntimeWarning: divide by zero encountered in double_scalars\n",
            "  interval = -np.log(1.0 - np.random.uniform()) / fr\n",
            "INFO:NEURONIOUtils:Volume = 0.2333 ml\n"
          ]
        },
        {
          "output_type": "stream",
          "name": "stdout",
          "text": [
            "2023-04-23 19:57:23,583 [INFO] Pressure = 0.00 mmHg\n"
          ]
        },
        {
          "output_type": "stream",
          "name": "stderr",
          "text": [
            "INFO:NEURONIOUtils:Pressure = 0.00 mmHg\n"
          ]
        },
        {
          "output_type": "stream",
          "name": "stdout",
          "text": [
            "2023-04-23 19:57:23,586 [INFO] Calculated bladder afferent firing rate for the next time step = 0.00 Hz \n",
            " \n",
            "\n"
          ]
        },
        {
          "output_type": "stream",
          "name": "stderr",
          "text": [
            "INFO:NEURONIOUtils:Calculated bladder afferent firing rate for the next time step = 0.00 Hz \n",
            " \n",
            "\n"
          ]
        },
        {
          "output_type": "stream",
          "name": "stdout",
          "text": [
            "2023-04-23 19:57:26,564 [INFO]     step:50000 t_sim:10000.00 ms\n"
          ]
        },
        {
          "output_type": "stream",
          "name": "stderr",
          "text": [
            "INFO:NEURONIOUtils:    step:50000 t_sim:10000.00 ms\n"
          ]
        },
        {
          "output_type": "stream",
          "name": "stdout",
          "text": [
            "2023-04-23 19:57:26,579 [INFO] Timestep 9000.0 to 10000.0 ms\n"
          ]
        },
        {
          "output_type": "stream",
          "name": "stderr",
          "text": [
            "INFO:NEURONIOUtils:Timestep 9000.0 to 10000.0 ms\n"
          ]
        },
        {
          "output_type": "stream",
          "name": "stdout",
          "text": [
            "2023-04-23 19:57:26,584 [INFO] PGN node_id\t  Hz\n"
          ]
        },
        {
          "output_type": "stream",
          "name": "stderr",
          "text": [
            "INFO:NEURONIOUtils:PGN node_id\t  Hz\n"
          ]
        },
        {
          "output_type": "stream",
          "name": "stdout",
          "text": [
            "2023-04-23 19:57:26,589 [INFO] 70\t\t2.0\n"
          ]
        },
        {
          "output_type": "stream",
          "name": "stderr",
          "text": [
            "INFO:NEURONIOUtils:70\t\t2.0\n"
          ]
        },
        {
          "output_type": "stream",
          "name": "stdout",
          "text": [
            "2023-04-23 19:57:26,593 [INFO] 71\t\t2.0\n"
          ]
        },
        {
          "output_type": "stream",
          "name": "stderr",
          "text": [
            "INFO:NEURONIOUtils:71\t\t2.0\n"
          ]
        },
        {
          "output_type": "stream",
          "name": "stdout",
          "text": [
            "2023-04-23 19:57:26,596 [INFO] 72\t\t2.0\n"
          ]
        },
        {
          "output_type": "stream",
          "name": "stderr",
          "text": [
            "INFO:NEURONIOUtils:72\t\t2.0\n"
          ]
        },
        {
          "output_type": "stream",
          "name": "stdout",
          "text": [
            "2023-04-23 19:57:26,598 [INFO] 73\t\t2.0\n"
          ]
        },
        {
          "output_type": "stream",
          "name": "stderr",
          "text": [
            "INFO:NEURONIOUtils:73\t\t2.0\n"
          ]
        },
        {
          "output_type": "stream",
          "name": "stdout",
          "text": [
            "2023-04-23 19:57:26,601 [INFO] 74\t\t2.0\n"
          ]
        },
        {
          "output_type": "stream",
          "name": "stderr",
          "text": [
            "INFO:NEURONIOUtils:74\t\t2.0\n"
          ]
        },
        {
          "output_type": "stream",
          "name": "stdout",
          "text": [
            "2023-04-23 19:57:26,603 [INFO] 75\t\t2.0\n"
          ]
        },
        {
          "output_type": "stream",
          "name": "stderr",
          "text": [
            "INFO:NEURONIOUtils:75\t\t2.0\n"
          ]
        },
        {
          "output_type": "stream",
          "name": "stdout",
          "text": [
            "2023-04-23 19:57:26,606 [INFO] 76\t\t2.0\n"
          ]
        },
        {
          "output_type": "stream",
          "name": "stderr",
          "text": [
            "INFO:NEURONIOUtils:76\t\t2.0\n"
          ]
        },
        {
          "output_type": "stream",
          "name": "stdout",
          "text": [
            "2023-04-23 19:57:26,608 [INFO] 77\t\t2.0\n"
          ]
        },
        {
          "output_type": "stream",
          "name": "stderr",
          "text": [
            "INFO:NEURONIOUtils:77\t\t2.0\n"
          ]
        },
        {
          "output_type": "stream",
          "name": "stdout",
          "text": [
            "2023-04-23 19:57:26,611 [INFO] 78\t\t2.0\n"
          ]
        },
        {
          "output_type": "stream",
          "name": "stderr",
          "text": [
            "INFO:NEURONIOUtils:78\t\t2.0\n"
          ]
        },
        {
          "output_type": "stream",
          "name": "stdout",
          "text": [
            "2023-04-23 19:57:26,613 [INFO] 79\t\t2.0\n"
          ]
        },
        {
          "output_type": "stream",
          "name": "stderr",
          "text": [
            "INFO:NEURONIOUtils:79\t\t2.0\n"
          ]
        },
        {
          "output_type": "stream",
          "name": "stdout",
          "text": [
            "2023-04-23 19:57:26,619 [INFO] PGN firing rate avg: 2.0 Hz\n"
          ]
        },
        {
          "output_type": "stream",
          "name": "stderr",
          "text": [
            "INFO:NEURONIOUtils:PGN firing rate avg: 2.0 Hz\n"
          ]
        },
        {
          "output_type": "stream",
          "name": "stdout",
          "text": [
            "2023-04-23 19:57:26,621 [INFO] Grill PGN fr = 2.984 Hz\n"
          ]
        },
        {
          "output_type": "stream",
          "name": "stderr",
          "text": [
            "INFO:NEURONIOUtils:Grill PGN fr = 2.984 Hz\n"
          ]
        },
        {
          "output_type": "stream",
          "name": "stdout",
          "text": [
            "2023-04-23 19:57:26,624 [INFO] IMG node_gid\t  Hz\n"
          ]
        },
        {
          "output_type": "stream",
          "name": "stderr",
          "text": [
            "INFO:NEURONIOUtils:IMG node_gid\t  Hz\n"
          ]
        },
        {
          "output_type": "stream",
          "name": "stdout",
          "text": [
            "2023-04-23 19:57:26,627 [INFO] 90\t\t0.0\n"
          ]
        },
        {
          "output_type": "stream",
          "name": "stderr",
          "text": [
            "INFO:NEURONIOUtils:90\t\t0.0\n"
          ]
        },
        {
          "output_type": "stream",
          "name": "stdout",
          "text": [
            "2023-04-23 19:57:26,631 [INFO] 91\t\t1.0\n"
          ]
        },
        {
          "output_type": "stream",
          "name": "stderr",
          "text": [
            "INFO:NEURONIOUtils:91\t\t1.0\n"
          ]
        },
        {
          "output_type": "stream",
          "name": "stdout",
          "text": [
            "2023-04-23 19:57:26,635 [INFO] 92\t\t0.0\n"
          ]
        },
        {
          "output_type": "stream",
          "name": "stderr",
          "text": [
            "INFO:NEURONIOUtils:92\t\t0.0\n"
          ]
        },
        {
          "output_type": "stream",
          "name": "stdout",
          "text": [
            "2023-04-23 19:57:26,639 [INFO] 93\t\t1.0\n"
          ]
        },
        {
          "output_type": "stream",
          "name": "stderr",
          "text": [
            "INFO:NEURONIOUtils:93\t\t1.0\n"
          ]
        },
        {
          "output_type": "stream",
          "name": "stdout",
          "text": [
            "2023-04-23 19:57:26,643 [INFO] 94\t\t1.0\n"
          ]
        },
        {
          "output_type": "stream",
          "name": "stderr",
          "text": [
            "INFO:NEURONIOUtils:94\t\t1.0\n"
          ]
        },
        {
          "output_type": "stream",
          "name": "stdout",
          "text": [
            "2023-04-23 19:57:26,646 [INFO] 95\t\t0.0\n"
          ]
        },
        {
          "output_type": "stream",
          "name": "stderr",
          "text": [
            "INFO:NEURONIOUtils:95\t\t0.0\n"
          ]
        },
        {
          "output_type": "stream",
          "name": "stdout",
          "text": [
            "2023-04-23 19:57:26,649 [INFO] 96\t\t0.0\n"
          ]
        },
        {
          "output_type": "stream",
          "name": "stderr",
          "text": [
            "INFO:NEURONIOUtils:96\t\t0.0\n"
          ]
        },
        {
          "output_type": "stream",
          "name": "stdout",
          "text": [
            "2023-04-23 19:57:26,653 [INFO] 97\t\t1.0\n"
          ]
        },
        {
          "output_type": "stream",
          "name": "stderr",
          "text": [
            "INFO:NEURONIOUtils:97\t\t1.0\n"
          ]
        },
        {
          "output_type": "stream",
          "name": "stdout",
          "text": [
            "2023-04-23 19:57:26,657 [INFO] 98\t\t1.0\n"
          ]
        },
        {
          "output_type": "stream",
          "name": "stderr",
          "text": [
            "INFO:NEURONIOUtils:98\t\t1.0\n"
          ]
        },
        {
          "output_type": "stream",
          "name": "stdout",
          "text": [
            "2023-04-23 19:57:26,659 [INFO] 99\t\t1.0\n"
          ]
        },
        {
          "output_type": "stream",
          "name": "stderr",
          "text": [
            "INFO:NEURONIOUtils:99\t\t1.0\n"
          ]
        },
        {
          "output_type": "stream",
          "name": "stdout",
          "text": [
            "2023-04-23 19:57:26,665 [INFO] IMG firing rate avg: 2.0 Hz\n"
          ]
        },
        {
          "output_type": "stream",
          "name": "stderr",
          "text": [
            "INFO:NEURONIOUtils:IMG firing rate avg: 2.0 Hz\n"
          ]
        },
        {
          "output_type": "stream",
          "name": "stdout",
          "text": [
            "2023-04-23 19:57:26,675 [INFO] Volume = 0.2625 ml\n"
          ]
        },
        {
          "output_type": "stream",
          "name": "stderr",
          "text": [
            "/usr/local/lib/python3.9/dist-packages/bmtk/utils/reports/spike_trains/spike_trains.py:183: RuntimeWarning: divide by zero encountered in double_scalars\n",
            "  interval = -np.log(1.0 - np.random.uniform()) / fr\n",
            "INFO:NEURONIOUtils:Volume = 0.2625 ml\n"
          ]
        },
        {
          "output_type": "stream",
          "name": "stdout",
          "text": [
            "2023-04-23 19:57:26,686 [INFO] Pressure = 0.00 mmHg\n"
          ]
        },
        {
          "output_type": "stream",
          "name": "stderr",
          "text": [
            "INFO:NEURONIOUtils:Pressure = 0.00 mmHg\n"
          ]
        },
        {
          "output_type": "stream",
          "name": "stdout",
          "text": [
            "2023-04-23 19:57:26,690 [INFO] Calculated bladder afferent firing rate for the next time step = 0.00 Hz \n",
            " \n",
            "\n"
          ]
        },
        {
          "output_type": "stream",
          "name": "stderr",
          "text": [
            "INFO:NEURONIOUtils:Calculated bladder afferent firing rate for the next time step = 0.00 Hz \n",
            " \n",
            "\n"
          ]
        },
        {
          "output_type": "stream",
          "name": "stdout",
          "text": [
            "2023-04-23 19:57:29,375 [INFO]     step:55000 t_sim:11000.00 ms\n"
          ]
        },
        {
          "output_type": "stream",
          "name": "stderr",
          "text": [
            "INFO:NEURONIOUtils:    step:55000 t_sim:11000.00 ms\n"
          ]
        },
        {
          "output_type": "stream",
          "name": "stdout",
          "text": [
            "2023-04-23 19:57:29,393 [INFO] Timestep 10000.0 to 11000.0 ms\n"
          ]
        },
        {
          "output_type": "stream",
          "name": "stderr",
          "text": [
            "INFO:NEURONIOUtils:Timestep 10000.0 to 11000.0 ms\n"
          ]
        },
        {
          "output_type": "stream",
          "name": "stdout",
          "text": [
            "2023-04-23 19:57:29,397 [INFO] PGN node_id\t  Hz\n"
          ]
        },
        {
          "output_type": "stream",
          "name": "stderr",
          "text": [
            "INFO:NEURONIOUtils:PGN node_id\t  Hz\n"
          ]
        },
        {
          "output_type": "stream",
          "name": "stdout",
          "text": [
            "2023-04-23 19:57:29,402 [INFO] 70\t\t3.0\n"
          ]
        },
        {
          "output_type": "stream",
          "name": "stderr",
          "text": [
            "INFO:NEURONIOUtils:70\t\t3.0\n"
          ]
        },
        {
          "output_type": "stream",
          "name": "stdout",
          "text": [
            "2023-04-23 19:57:29,405 [INFO] 71\t\t3.0\n"
          ]
        },
        {
          "output_type": "stream",
          "name": "stderr",
          "text": [
            "INFO:NEURONIOUtils:71\t\t3.0\n"
          ]
        },
        {
          "output_type": "stream",
          "name": "stdout",
          "text": [
            "2023-04-23 19:57:29,407 [INFO] 72\t\t3.0\n"
          ]
        },
        {
          "output_type": "stream",
          "name": "stderr",
          "text": [
            "INFO:NEURONIOUtils:72\t\t3.0\n"
          ]
        },
        {
          "output_type": "stream",
          "name": "stdout",
          "text": [
            "2023-04-23 19:57:29,415 [INFO] 73\t\t3.0\n"
          ]
        },
        {
          "output_type": "stream",
          "name": "stderr",
          "text": [
            "INFO:NEURONIOUtils:73\t\t3.0\n"
          ]
        },
        {
          "output_type": "stream",
          "name": "stdout",
          "text": [
            "2023-04-23 19:57:29,419 [INFO] 74\t\t3.0\n"
          ]
        },
        {
          "output_type": "stream",
          "name": "stderr",
          "text": [
            "INFO:NEURONIOUtils:74\t\t3.0\n"
          ]
        },
        {
          "output_type": "stream",
          "name": "stdout",
          "text": [
            "2023-04-23 19:57:29,432 [INFO] 75\t\t3.0\n"
          ]
        },
        {
          "output_type": "stream",
          "name": "stderr",
          "text": [
            "INFO:NEURONIOUtils:75\t\t3.0\n"
          ]
        },
        {
          "output_type": "stream",
          "name": "stdout",
          "text": [
            "2023-04-23 19:57:29,436 [INFO] 76\t\t3.0\n"
          ]
        },
        {
          "output_type": "stream",
          "name": "stderr",
          "text": [
            "INFO:NEURONIOUtils:76\t\t3.0\n"
          ]
        },
        {
          "output_type": "stream",
          "name": "stdout",
          "text": [
            "2023-04-23 19:57:29,441 [INFO] 77\t\t3.0\n"
          ]
        },
        {
          "output_type": "stream",
          "name": "stderr",
          "text": [
            "INFO:NEURONIOUtils:77\t\t3.0\n"
          ]
        },
        {
          "output_type": "stream",
          "name": "stdout",
          "text": [
            "2023-04-23 19:57:29,444 [INFO] 78\t\t3.0\n"
          ]
        },
        {
          "output_type": "stream",
          "name": "stderr",
          "text": [
            "INFO:NEURONIOUtils:78\t\t3.0\n"
          ]
        },
        {
          "output_type": "stream",
          "name": "stdout",
          "text": [
            "2023-04-23 19:57:29,448 [INFO] 79\t\t3.0\n"
          ]
        },
        {
          "output_type": "stream",
          "name": "stderr",
          "text": [
            "INFO:NEURONIOUtils:79\t\t3.0\n"
          ]
        },
        {
          "output_type": "stream",
          "name": "stdout",
          "text": [
            "2023-04-23 19:57:29,455 [INFO] PGN firing rate avg: 3.0 Hz\n"
          ]
        },
        {
          "output_type": "stream",
          "name": "stderr",
          "text": [
            "INFO:NEURONIOUtils:PGN firing rate avg: 3.0 Hz\n"
          ]
        },
        {
          "output_type": "stream",
          "name": "stdout",
          "text": [
            "2023-04-23 19:57:29,457 [INFO] Grill PGN fr = 4.657 Hz\n"
          ]
        },
        {
          "output_type": "stream",
          "name": "stderr",
          "text": [
            "INFO:NEURONIOUtils:Grill PGN fr = 4.657 Hz\n"
          ]
        },
        {
          "output_type": "stream",
          "name": "stdout",
          "text": [
            "2023-04-23 19:57:29,460 [INFO] IMG node_gid\t  Hz\n"
          ]
        },
        {
          "output_type": "stream",
          "name": "stderr",
          "text": [
            "INFO:NEURONIOUtils:IMG node_gid\t  Hz\n"
          ]
        },
        {
          "output_type": "stream",
          "name": "stdout",
          "text": [
            "2023-04-23 19:57:29,462 [INFO] 90\t\t0.0\n"
          ]
        },
        {
          "output_type": "stream",
          "name": "stderr",
          "text": [
            "INFO:NEURONIOUtils:90\t\t0.0\n"
          ]
        },
        {
          "output_type": "stream",
          "name": "stdout",
          "text": [
            "2023-04-23 19:57:29,465 [INFO] 91\t\t1.0\n"
          ]
        },
        {
          "output_type": "stream",
          "name": "stderr",
          "text": [
            "INFO:NEURONIOUtils:91\t\t1.0\n"
          ]
        },
        {
          "output_type": "stream",
          "name": "stdout",
          "text": [
            "2023-04-23 19:57:29,467 [INFO] 92\t\t0.0\n"
          ]
        },
        {
          "output_type": "stream",
          "name": "stderr",
          "text": [
            "INFO:NEURONIOUtils:92\t\t0.0\n"
          ]
        },
        {
          "output_type": "stream",
          "name": "stdout",
          "text": [
            "2023-04-23 19:57:29,469 [INFO] 93\t\t1.0\n"
          ]
        },
        {
          "output_type": "stream",
          "name": "stderr",
          "text": [
            "INFO:NEURONIOUtils:93\t\t1.0\n"
          ]
        },
        {
          "output_type": "stream",
          "name": "stdout",
          "text": [
            "2023-04-23 19:57:29,471 [INFO] 94\t\t1.0\n"
          ]
        },
        {
          "output_type": "stream",
          "name": "stderr",
          "text": [
            "INFO:NEURONIOUtils:94\t\t1.0\n"
          ]
        },
        {
          "output_type": "stream",
          "name": "stdout",
          "text": [
            "2023-04-23 19:57:29,474 [INFO] 95\t\t0.0\n"
          ]
        },
        {
          "output_type": "stream",
          "name": "stderr",
          "text": [
            "INFO:NEURONIOUtils:95\t\t0.0\n"
          ]
        },
        {
          "output_type": "stream",
          "name": "stdout",
          "text": [
            "2023-04-23 19:57:29,476 [INFO] 96\t\t0.0\n"
          ]
        },
        {
          "output_type": "stream",
          "name": "stderr",
          "text": [
            "INFO:NEURONIOUtils:96\t\t0.0\n"
          ]
        },
        {
          "output_type": "stream",
          "name": "stdout",
          "text": [
            "2023-04-23 19:57:29,478 [INFO] 97\t\t1.0\n"
          ]
        },
        {
          "output_type": "stream",
          "name": "stderr",
          "text": [
            "INFO:NEURONIOUtils:97\t\t1.0\n"
          ]
        },
        {
          "output_type": "stream",
          "name": "stdout",
          "text": [
            "2023-04-23 19:57:29,482 [INFO] 98\t\t1.0\n"
          ]
        },
        {
          "output_type": "stream",
          "name": "stderr",
          "text": [
            "INFO:NEURONIOUtils:98\t\t1.0\n"
          ]
        },
        {
          "output_type": "stream",
          "name": "stdout",
          "text": [
            "2023-04-23 19:57:29,485 [INFO] 99\t\t1.0\n"
          ]
        },
        {
          "output_type": "stream",
          "name": "stderr",
          "text": [
            "INFO:NEURONIOUtils:99\t\t1.0\n"
          ]
        },
        {
          "output_type": "stream",
          "name": "stdout",
          "text": [
            "2023-04-23 19:57:29,488 [INFO] IMG firing rate avg: 3.0 Hz\n"
          ]
        },
        {
          "output_type": "stream",
          "name": "stderr",
          "text": [
            "INFO:NEURONIOUtils:IMG firing rate avg: 3.0 Hz\n"
          ]
        },
        {
          "output_type": "stream",
          "name": "stdout",
          "text": [
            "2023-04-23 19:57:29,497 [INFO] Volume = 0.2917 ml\n"
          ]
        },
        {
          "output_type": "stream",
          "name": "stderr",
          "text": [
            "/usr/local/lib/python3.9/dist-packages/bmtk/utils/reports/spike_trains/spike_trains.py:183: RuntimeWarning: divide by zero encountered in double_scalars\n",
            "  interval = -np.log(1.0 - np.random.uniform()) / fr\n",
            "INFO:NEURONIOUtils:Volume = 0.2917 ml\n"
          ]
        },
        {
          "output_type": "stream",
          "name": "stdout",
          "text": [
            "2023-04-23 19:57:29,503 [INFO] Pressure = 0.00 mmHg\n"
          ]
        },
        {
          "output_type": "stream",
          "name": "stderr",
          "text": [
            "INFO:NEURONIOUtils:Pressure = 0.00 mmHg\n"
          ]
        },
        {
          "output_type": "stream",
          "name": "stdout",
          "text": [
            "2023-04-23 19:57:29,505 [INFO] Calculated bladder afferent firing rate for the next time step = 0.00 Hz \n",
            " \n",
            "\n"
          ]
        },
        {
          "output_type": "stream",
          "name": "stderr",
          "text": [
            "INFO:NEURONIOUtils:Calculated bladder afferent firing rate for the next time step = 0.00 Hz \n",
            " \n",
            "\n"
          ]
        },
        {
          "output_type": "stream",
          "name": "stdout",
          "text": [
            "2023-04-23 19:57:32,461 [INFO]     step:60000 t_sim:12000.00 ms\n"
          ]
        },
        {
          "output_type": "stream",
          "name": "stderr",
          "text": [
            "INFO:NEURONIOUtils:    step:60000 t_sim:12000.00 ms\n"
          ]
        },
        {
          "output_type": "stream",
          "name": "stdout",
          "text": [
            "2023-04-23 19:57:32,473 [INFO] Timestep 11000.0 to 12000.0 ms\n"
          ]
        },
        {
          "output_type": "stream",
          "name": "stderr",
          "text": [
            "INFO:NEURONIOUtils:Timestep 11000.0 to 12000.0 ms\n"
          ]
        },
        {
          "output_type": "stream",
          "name": "stdout",
          "text": [
            "2023-04-23 19:57:32,487 [INFO] PGN node_id\t  Hz\n"
          ]
        },
        {
          "output_type": "stream",
          "name": "stderr",
          "text": [
            "INFO:NEURONIOUtils:PGN node_id\t  Hz\n"
          ]
        },
        {
          "output_type": "stream",
          "name": "stdout",
          "text": [
            "2023-04-23 19:57:32,491 [INFO] 70\t\t2.0\n"
          ]
        },
        {
          "output_type": "stream",
          "name": "stderr",
          "text": [
            "INFO:NEURONIOUtils:70\t\t2.0\n"
          ]
        },
        {
          "output_type": "stream",
          "name": "stdout",
          "text": [
            "2023-04-23 19:57:32,493 [INFO] 71\t\t2.0\n"
          ]
        },
        {
          "output_type": "stream",
          "name": "stderr",
          "text": [
            "INFO:NEURONIOUtils:71\t\t2.0\n"
          ]
        },
        {
          "output_type": "stream",
          "name": "stdout",
          "text": [
            "2023-04-23 19:57:32,495 [INFO] 72\t\t2.0\n"
          ]
        },
        {
          "output_type": "stream",
          "name": "stderr",
          "text": [
            "INFO:NEURONIOUtils:72\t\t2.0\n"
          ]
        },
        {
          "output_type": "stream",
          "name": "stdout",
          "text": [
            "2023-04-23 19:57:32,498 [INFO] 73\t\t2.0\n"
          ]
        },
        {
          "output_type": "stream",
          "name": "stderr",
          "text": [
            "INFO:NEURONIOUtils:73\t\t2.0\n"
          ]
        },
        {
          "output_type": "stream",
          "name": "stdout",
          "text": [
            "2023-04-23 19:57:32,500 [INFO] 74\t\t2.0\n"
          ]
        },
        {
          "output_type": "stream",
          "name": "stderr",
          "text": [
            "INFO:NEURONIOUtils:74\t\t2.0\n"
          ]
        },
        {
          "output_type": "stream",
          "name": "stdout",
          "text": [
            "2023-04-23 19:57:32,502 [INFO] 75\t\t2.0\n"
          ]
        },
        {
          "output_type": "stream",
          "name": "stderr",
          "text": [
            "INFO:NEURONIOUtils:75\t\t2.0\n"
          ]
        },
        {
          "output_type": "stream",
          "name": "stdout",
          "text": [
            "2023-04-23 19:57:32,504 [INFO] 76\t\t2.0\n"
          ]
        },
        {
          "output_type": "stream",
          "name": "stderr",
          "text": [
            "INFO:NEURONIOUtils:76\t\t2.0\n"
          ]
        },
        {
          "output_type": "stream",
          "name": "stdout",
          "text": [
            "2023-04-23 19:57:32,506 [INFO] 77\t\t2.0\n"
          ]
        },
        {
          "output_type": "stream",
          "name": "stderr",
          "text": [
            "INFO:NEURONIOUtils:77\t\t2.0\n"
          ]
        },
        {
          "output_type": "stream",
          "name": "stdout",
          "text": [
            "2023-04-23 19:57:32,508 [INFO] 78\t\t2.0\n"
          ]
        },
        {
          "output_type": "stream",
          "name": "stderr",
          "text": [
            "INFO:NEURONIOUtils:78\t\t2.0\n"
          ]
        },
        {
          "output_type": "stream",
          "name": "stdout",
          "text": [
            "2023-04-23 19:57:32,511 [INFO] 79\t\t2.0\n"
          ]
        },
        {
          "output_type": "stream",
          "name": "stderr",
          "text": [
            "INFO:NEURONIOUtils:79\t\t2.0\n"
          ]
        },
        {
          "output_type": "stream",
          "name": "stdout",
          "text": [
            "2023-04-23 19:57:32,513 [INFO] PGN firing rate avg: 2.0 Hz\n"
          ]
        },
        {
          "output_type": "stream",
          "name": "stderr",
          "text": [
            "INFO:NEURONIOUtils:PGN firing rate avg: 2.0 Hz\n"
          ]
        },
        {
          "output_type": "stream",
          "name": "stdout",
          "text": [
            "2023-04-23 19:57:32,516 [INFO] Grill PGN fr = 2.984 Hz\n"
          ]
        },
        {
          "output_type": "stream",
          "name": "stderr",
          "text": [
            "INFO:NEURONIOUtils:Grill PGN fr = 2.984 Hz\n"
          ]
        },
        {
          "output_type": "stream",
          "name": "stdout",
          "text": [
            "2023-04-23 19:57:32,518 [INFO] IMG node_gid\t  Hz\n"
          ]
        },
        {
          "output_type": "stream",
          "name": "stderr",
          "text": [
            "INFO:NEURONIOUtils:IMG node_gid\t  Hz\n"
          ]
        },
        {
          "output_type": "stream",
          "name": "stdout",
          "text": [
            "2023-04-23 19:57:32,521 [INFO] 90\t\t0.0\n"
          ]
        },
        {
          "output_type": "stream",
          "name": "stderr",
          "text": [
            "INFO:NEURONIOUtils:90\t\t0.0\n"
          ]
        },
        {
          "output_type": "stream",
          "name": "stdout",
          "text": [
            "2023-04-23 19:57:32,524 [INFO] 91\t\t1.0\n"
          ]
        },
        {
          "output_type": "stream",
          "name": "stderr",
          "text": [
            "INFO:NEURONIOUtils:91\t\t1.0\n"
          ]
        },
        {
          "output_type": "stream",
          "name": "stdout",
          "text": [
            "2023-04-23 19:57:32,526 [INFO] 92\t\t0.0\n"
          ]
        },
        {
          "output_type": "stream",
          "name": "stderr",
          "text": [
            "INFO:NEURONIOUtils:92\t\t0.0\n"
          ]
        },
        {
          "output_type": "stream",
          "name": "stdout",
          "text": [
            "2023-04-23 19:57:32,528 [INFO] 93\t\t1.0\n"
          ]
        },
        {
          "output_type": "stream",
          "name": "stderr",
          "text": [
            "INFO:NEURONIOUtils:93\t\t1.0\n"
          ]
        },
        {
          "output_type": "stream",
          "name": "stdout",
          "text": [
            "2023-04-23 19:57:32,530 [INFO] 94\t\t1.0\n"
          ]
        },
        {
          "output_type": "stream",
          "name": "stderr",
          "text": [
            "INFO:NEURONIOUtils:94\t\t1.0\n"
          ]
        },
        {
          "output_type": "stream",
          "name": "stdout",
          "text": [
            "2023-04-23 19:57:32,536 [INFO] 95\t\t0.0\n"
          ]
        },
        {
          "output_type": "stream",
          "name": "stderr",
          "text": [
            "INFO:NEURONIOUtils:95\t\t0.0\n"
          ]
        },
        {
          "output_type": "stream",
          "name": "stdout",
          "text": [
            "2023-04-23 19:57:32,538 [INFO] 96\t\t0.0\n"
          ]
        },
        {
          "output_type": "stream",
          "name": "stderr",
          "text": [
            "INFO:NEURONIOUtils:96\t\t0.0\n"
          ]
        },
        {
          "output_type": "stream",
          "name": "stdout",
          "text": [
            "2023-04-23 19:57:32,540 [INFO] 97\t\t1.0\n"
          ]
        },
        {
          "output_type": "stream",
          "name": "stderr",
          "text": [
            "INFO:NEURONIOUtils:97\t\t1.0\n"
          ]
        },
        {
          "output_type": "stream",
          "name": "stdout",
          "text": [
            "2023-04-23 19:57:32,545 [INFO] 98\t\t1.0\n"
          ]
        },
        {
          "output_type": "stream",
          "name": "stderr",
          "text": [
            "INFO:NEURONIOUtils:98\t\t1.0\n"
          ]
        },
        {
          "output_type": "stream",
          "name": "stdout",
          "text": [
            "2023-04-23 19:57:32,547 [INFO] 99\t\t1.0\n"
          ]
        },
        {
          "output_type": "stream",
          "name": "stderr",
          "text": [
            "INFO:NEURONIOUtils:99\t\t1.0\n"
          ]
        },
        {
          "output_type": "stream",
          "name": "stdout",
          "text": [
            "2023-04-23 19:57:32,549 [INFO] IMG firing rate avg: 2.0 Hz\n"
          ]
        },
        {
          "output_type": "stream",
          "name": "stderr",
          "text": [
            "INFO:NEURONIOUtils:IMG firing rate avg: 2.0 Hz\n"
          ]
        },
        {
          "output_type": "stream",
          "name": "stdout",
          "text": [
            "2023-04-23 19:57:32,559 [INFO] Volume = 0.3208 ml\n"
          ]
        },
        {
          "output_type": "stream",
          "name": "stderr",
          "text": [
            "/usr/local/lib/python3.9/dist-packages/bmtk/utils/reports/spike_trains/spike_trains.py:183: RuntimeWarning: divide by zero encountered in double_scalars\n",
            "  interval = -np.log(1.0 - np.random.uniform()) / fr\n",
            "INFO:NEURONIOUtils:Volume = 0.3208 ml\n"
          ]
        },
        {
          "output_type": "stream",
          "name": "stdout",
          "text": [
            "2023-04-23 19:57:32,565 [INFO] Pressure = 0.00 mmHg\n"
          ]
        },
        {
          "output_type": "stream",
          "name": "stderr",
          "text": [
            "INFO:NEURONIOUtils:Pressure = 0.00 mmHg\n"
          ]
        },
        {
          "output_type": "stream",
          "name": "stdout",
          "text": [
            "2023-04-23 19:57:32,567 [INFO] Calculated bladder afferent firing rate for the next time step = 0.00 Hz \n",
            " \n",
            "\n"
          ]
        },
        {
          "output_type": "stream",
          "name": "stderr",
          "text": [
            "INFO:NEURONIOUtils:Calculated bladder afferent firing rate for the next time step = 0.00 Hz \n",
            " \n",
            "\n"
          ]
        },
        {
          "output_type": "stream",
          "name": "stdout",
          "text": [
            "2023-04-23 19:57:35,831 [INFO]     step:65000 t_sim:13000.00 ms\n"
          ]
        },
        {
          "output_type": "stream",
          "name": "stderr",
          "text": [
            "INFO:NEURONIOUtils:    step:65000 t_sim:13000.00 ms\n"
          ]
        },
        {
          "output_type": "stream",
          "name": "stdout",
          "text": [
            "2023-04-23 19:57:35,851 [INFO] Timestep 12000.0 to 13000.0 ms\n"
          ]
        },
        {
          "output_type": "stream",
          "name": "stderr",
          "text": [
            "INFO:NEURONIOUtils:Timestep 12000.0 to 13000.0 ms\n"
          ]
        },
        {
          "output_type": "stream",
          "name": "stdout",
          "text": [
            "2023-04-23 19:57:35,857 [INFO] PGN node_id\t  Hz\n"
          ]
        },
        {
          "output_type": "stream",
          "name": "stderr",
          "text": [
            "INFO:NEURONIOUtils:PGN node_id\t  Hz\n"
          ]
        },
        {
          "output_type": "stream",
          "name": "stdout",
          "text": [
            "2023-04-23 19:57:35,863 [INFO] 70\t\t4.0\n"
          ]
        },
        {
          "output_type": "stream",
          "name": "stderr",
          "text": [
            "INFO:NEURONIOUtils:70\t\t4.0\n"
          ]
        },
        {
          "output_type": "stream",
          "name": "stdout",
          "text": [
            "2023-04-23 19:57:35,870 [INFO] 71\t\t4.0\n"
          ]
        },
        {
          "output_type": "stream",
          "name": "stderr",
          "text": [
            "INFO:NEURONIOUtils:71\t\t4.0\n"
          ]
        },
        {
          "output_type": "stream",
          "name": "stdout",
          "text": [
            "2023-04-23 19:57:35,878 [INFO] 72\t\t4.0\n"
          ]
        },
        {
          "output_type": "stream",
          "name": "stderr",
          "text": [
            "INFO:NEURONIOUtils:72\t\t4.0\n"
          ]
        },
        {
          "output_type": "stream",
          "name": "stdout",
          "text": [
            "2023-04-23 19:57:35,883 [INFO] 73\t\t4.0\n"
          ]
        },
        {
          "output_type": "stream",
          "name": "stderr",
          "text": [
            "INFO:NEURONIOUtils:73\t\t4.0\n"
          ]
        },
        {
          "output_type": "stream",
          "name": "stdout",
          "text": [
            "2023-04-23 19:57:35,889 [INFO] 74\t\t4.0\n"
          ]
        },
        {
          "output_type": "stream",
          "name": "stderr",
          "text": [
            "INFO:NEURONIOUtils:74\t\t4.0\n"
          ]
        },
        {
          "output_type": "stream",
          "name": "stdout",
          "text": [
            "2023-04-23 19:57:35,894 [INFO] 75\t\t4.0\n"
          ]
        },
        {
          "output_type": "stream",
          "name": "stderr",
          "text": [
            "INFO:NEURONIOUtils:75\t\t4.0\n"
          ]
        },
        {
          "output_type": "stream",
          "name": "stdout",
          "text": [
            "2023-04-23 19:57:35,899 [INFO] 76\t\t4.0\n"
          ]
        },
        {
          "output_type": "stream",
          "name": "stderr",
          "text": [
            "INFO:NEURONIOUtils:76\t\t4.0\n"
          ]
        },
        {
          "output_type": "stream",
          "name": "stdout",
          "text": [
            "2023-04-23 19:57:35,902 [INFO] 77\t\t4.0\n"
          ]
        },
        {
          "output_type": "stream",
          "name": "stderr",
          "text": [
            "INFO:NEURONIOUtils:77\t\t4.0\n"
          ]
        },
        {
          "output_type": "stream",
          "name": "stdout",
          "text": [
            "2023-04-23 19:57:35,904 [INFO] 78\t\t4.0\n"
          ]
        },
        {
          "output_type": "stream",
          "name": "stderr",
          "text": [
            "INFO:NEURONIOUtils:78\t\t4.0\n"
          ]
        },
        {
          "output_type": "stream",
          "name": "stdout",
          "text": [
            "2023-04-23 19:57:35,908 [INFO] 79\t\t4.0\n"
          ]
        },
        {
          "output_type": "stream",
          "name": "stderr",
          "text": [
            "INFO:NEURONIOUtils:79\t\t4.0\n"
          ]
        },
        {
          "output_type": "stream",
          "name": "stdout",
          "text": [
            "2023-04-23 19:57:35,915 [INFO] PGN firing rate avg: 4.0 Hz\n"
          ]
        },
        {
          "output_type": "stream",
          "name": "stderr",
          "text": [
            "INFO:NEURONIOUtils:PGN firing rate avg: 4.0 Hz\n"
          ]
        },
        {
          "output_type": "stream",
          "name": "stdout",
          "text": [
            "2023-04-23 19:57:35,919 [INFO] Grill PGN fr = 6.3 Hz\n"
          ]
        },
        {
          "output_type": "stream",
          "name": "stderr",
          "text": [
            "INFO:NEURONIOUtils:Grill PGN fr = 6.3 Hz\n"
          ]
        },
        {
          "output_type": "stream",
          "name": "stdout",
          "text": [
            "2023-04-23 19:57:35,923 [INFO] IMG node_gid\t  Hz\n"
          ]
        },
        {
          "output_type": "stream",
          "name": "stderr",
          "text": [
            "INFO:NEURONIOUtils:IMG node_gid\t  Hz\n"
          ]
        },
        {
          "output_type": "stream",
          "name": "stdout",
          "text": [
            "2023-04-23 19:57:35,926 [INFO] 90\t\t0.0\n"
          ]
        },
        {
          "output_type": "stream",
          "name": "stderr",
          "text": [
            "INFO:NEURONIOUtils:90\t\t0.0\n"
          ]
        },
        {
          "output_type": "stream",
          "name": "stdout",
          "text": [
            "2023-04-23 19:57:35,930 [INFO] 91\t\t1.0\n"
          ]
        },
        {
          "output_type": "stream",
          "name": "stderr",
          "text": [
            "INFO:NEURONIOUtils:91\t\t1.0\n"
          ]
        },
        {
          "output_type": "stream",
          "name": "stdout",
          "text": [
            "2023-04-23 19:57:35,934 [INFO] 92\t\t0.0\n"
          ]
        },
        {
          "output_type": "stream",
          "name": "stderr",
          "text": [
            "INFO:NEURONIOUtils:92\t\t0.0\n"
          ]
        },
        {
          "output_type": "stream",
          "name": "stdout",
          "text": [
            "2023-04-23 19:57:35,939 [INFO] 93\t\t1.0\n"
          ]
        },
        {
          "output_type": "stream",
          "name": "stderr",
          "text": [
            "INFO:NEURONIOUtils:93\t\t1.0\n"
          ]
        },
        {
          "output_type": "stream",
          "name": "stdout",
          "text": [
            "2023-04-23 19:57:35,943 [INFO] 94\t\t1.0\n"
          ]
        },
        {
          "output_type": "stream",
          "name": "stderr",
          "text": [
            "INFO:NEURONIOUtils:94\t\t1.0\n"
          ]
        },
        {
          "output_type": "stream",
          "name": "stdout",
          "text": [
            "2023-04-23 19:57:35,946 [INFO] 95\t\t0.0\n"
          ]
        },
        {
          "output_type": "stream",
          "name": "stderr",
          "text": [
            "INFO:NEURONIOUtils:95\t\t0.0\n"
          ]
        },
        {
          "output_type": "stream",
          "name": "stdout",
          "text": [
            "2023-04-23 19:57:35,948 [INFO] 96\t\t0.0\n"
          ]
        },
        {
          "output_type": "stream",
          "name": "stderr",
          "text": [
            "INFO:NEURONIOUtils:96\t\t0.0\n"
          ]
        },
        {
          "output_type": "stream",
          "name": "stdout",
          "text": [
            "2023-04-23 19:57:35,951 [INFO] 97\t\t1.0\n"
          ]
        },
        {
          "output_type": "stream",
          "name": "stderr",
          "text": [
            "INFO:NEURONIOUtils:97\t\t1.0\n"
          ]
        },
        {
          "output_type": "stream",
          "name": "stdout",
          "text": [
            "2023-04-23 19:57:35,953 [INFO] 98\t\t1.0\n"
          ]
        },
        {
          "output_type": "stream",
          "name": "stderr",
          "text": [
            "INFO:NEURONIOUtils:98\t\t1.0\n"
          ]
        },
        {
          "output_type": "stream",
          "name": "stdout",
          "text": [
            "2023-04-23 19:57:35,956 [INFO] 99\t\t1.0\n"
          ]
        },
        {
          "output_type": "stream",
          "name": "stderr",
          "text": [
            "INFO:NEURONIOUtils:99\t\t1.0\n"
          ]
        },
        {
          "output_type": "stream",
          "name": "stdout",
          "text": [
            "2023-04-23 19:57:35,958 [INFO] IMG firing rate avg: 4.0 Hz\n"
          ]
        },
        {
          "output_type": "stream",
          "name": "stderr",
          "text": [
            "INFO:NEURONIOUtils:IMG firing rate avg: 4.0 Hz\n"
          ]
        },
        {
          "output_type": "stream",
          "name": "stdout",
          "text": [
            "2023-04-23 19:57:35,969 [INFO] Volume = 0.3500 ml\n"
          ]
        },
        {
          "output_type": "stream",
          "name": "stderr",
          "text": [
            "/usr/local/lib/python3.9/dist-packages/bmtk/utils/reports/spike_trains/spike_trains.py:183: RuntimeWarning: divide by zero encountered in double_scalars\n",
            "  interval = -np.log(1.0 - np.random.uniform()) / fr\n",
            "INFO:NEURONIOUtils:Volume = 0.3500 ml\n"
          ]
        },
        {
          "output_type": "stream",
          "name": "stdout",
          "text": [
            "2023-04-23 19:57:35,975 [INFO] Pressure = 0.49 mmHg\n"
          ]
        },
        {
          "output_type": "stream",
          "name": "stderr",
          "text": [
            "INFO:NEURONIOUtils:Pressure = 0.49 mmHg\n"
          ]
        },
        {
          "output_type": "stream",
          "name": "stdout",
          "text": [
            "2023-04-23 19:57:35,978 [INFO] Calculated bladder afferent firing rate for the next time step = 0.00 Hz \n",
            " \n",
            "\n"
          ]
        },
        {
          "output_type": "stream",
          "name": "stderr",
          "text": [
            "INFO:NEURONIOUtils:Calculated bladder afferent firing rate for the next time step = 0.00 Hz \n",
            " \n",
            "\n"
          ]
        },
        {
          "output_type": "stream",
          "name": "stdout",
          "text": [
            "2023-04-23 19:57:39,569 [INFO]     step:70000 t_sim:14000.00 ms\n"
          ]
        },
        {
          "output_type": "stream",
          "name": "stderr",
          "text": [
            "INFO:NEURONIOUtils:    step:70000 t_sim:14000.00 ms\n"
          ]
        },
        {
          "output_type": "stream",
          "name": "stdout",
          "text": [
            "2023-04-23 19:57:39,583 [INFO] Timestep 13000.0 to 14000.0 ms\n"
          ]
        },
        {
          "output_type": "stream",
          "name": "stderr",
          "text": [
            "INFO:NEURONIOUtils:Timestep 13000.0 to 14000.0 ms\n"
          ]
        },
        {
          "output_type": "stream",
          "name": "stdout",
          "text": [
            "2023-04-23 19:57:39,590 [INFO] PGN node_id\t  Hz\n"
          ]
        },
        {
          "output_type": "stream",
          "name": "stderr",
          "text": [
            "INFO:NEURONIOUtils:PGN node_id\t  Hz\n"
          ]
        },
        {
          "output_type": "stream",
          "name": "stdout",
          "text": [
            "2023-04-23 19:57:39,597 [INFO] 70\t\t3.0\n"
          ]
        },
        {
          "output_type": "stream",
          "name": "stderr",
          "text": [
            "INFO:NEURONIOUtils:70\t\t3.0\n"
          ]
        },
        {
          "output_type": "stream",
          "name": "stdout",
          "text": [
            "2023-04-23 19:57:39,601 [INFO] 71\t\t3.0\n"
          ]
        },
        {
          "output_type": "stream",
          "name": "stderr",
          "text": [
            "INFO:NEURONIOUtils:71\t\t3.0\n"
          ]
        },
        {
          "output_type": "stream",
          "name": "stdout",
          "text": [
            "2023-04-23 19:57:39,603 [INFO] 72\t\t3.0\n"
          ]
        },
        {
          "output_type": "stream",
          "name": "stderr",
          "text": [
            "INFO:NEURONIOUtils:72\t\t3.0\n"
          ]
        },
        {
          "output_type": "stream",
          "name": "stdout",
          "text": [
            "2023-04-23 19:57:39,605 [INFO] 73\t\t3.0\n"
          ]
        },
        {
          "output_type": "stream",
          "name": "stderr",
          "text": [
            "INFO:NEURONIOUtils:73\t\t3.0\n"
          ]
        },
        {
          "output_type": "stream",
          "name": "stdout",
          "text": [
            "2023-04-23 19:57:39,607 [INFO] 74\t\t3.0\n"
          ]
        },
        {
          "output_type": "stream",
          "name": "stderr",
          "text": [
            "INFO:NEURONIOUtils:74\t\t3.0\n"
          ]
        },
        {
          "output_type": "stream",
          "name": "stdout",
          "text": [
            "2023-04-23 19:57:39,608 [INFO] 75\t\t3.0\n"
          ]
        },
        {
          "output_type": "stream",
          "name": "stderr",
          "text": [
            "INFO:NEURONIOUtils:75\t\t3.0\n"
          ]
        },
        {
          "output_type": "stream",
          "name": "stdout",
          "text": [
            "2023-04-23 19:57:39,610 [INFO] 76\t\t3.0\n"
          ]
        },
        {
          "output_type": "stream",
          "name": "stderr",
          "text": [
            "INFO:NEURONIOUtils:76\t\t3.0\n"
          ]
        },
        {
          "output_type": "stream",
          "name": "stdout",
          "text": [
            "2023-04-23 19:57:39,612 [INFO] 77\t\t3.0\n"
          ]
        },
        {
          "output_type": "stream",
          "name": "stderr",
          "text": [
            "INFO:NEURONIOUtils:77\t\t3.0\n"
          ]
        },
        {
          "output_type": "stream",
          "name": "stdout",
          "text": [
            "2023-04-23 19:57:39,614 [INFO] 78\t\t3.0\n"
          ]
        },
        {
          "output_type": "stream",
          "name": "stderr",
          "text": [
            "INFO:NEURONIOUtils:78\t\t3.0\n"
          ]
        },
        {
          "output_type": "stream",
          "name": "stdout",
          "text": [
            "2023-04-23 19:57:39,616 [INFO] 79\t\t3.0\n"
          ]
        },
        {
          "output_type": "stream",
          "name": "stderr",
          "text": [
            "INFO:NEURONIOUtils:79\t\t3.0\n"
          ]
        },
        {
          "output_type": "stream",
          "name": "stdout",
          "text": [
            "2023-04-23 19:57:39,618 [INFO] PGN firing rate avg: 3.0 Hz\n"
          ]
        },
        {
          "output_type": "stream",
          "name": "stderr",
          "text": [
            "INFO:NEURONIOUtils:PGN firing rate avg: 3.0 Hz\n"
          ]
        },
        {
          "output_type": "stream",
          "name": "stdout",
          "text": [
            "2023-04-23 19:57:39,619 [INFO] Grill PGN fr = 4.657 Hz\n"
          ]
        },
        {
          "output_type": "stream",
          "name": "stderr",
          "text": [
            "INFO:NEURONIOUtils:Grill PGN fr = 4.657 Hz\n"
          ]
        },
        {
          "output_type": "stream",
          "name": "stdout",
          "text": [
            "2023-04-23 19:57:39,621 [INFO] IMG node_gid\t  Hz\n"
          ]
        },
        {
          "output_type": "stream",
          "name": "stderr",
          "text": [
            "INFO:NEURONIOUtils:IMG node_gid\t  Hz\n"
          ]
        },
        {
          "output_type": "stream",
          "name": "stdout",
          "text": [
            "2023-04-23 19:57:39,623 [INFO] 90\t\t0.0\n"
          ]
        },
        {
          "output_type": "stream",
          "name": "stderr",
          "text": [
            "INFO:NEURONIOUtils:90\t\t0.0\n"
          ]
        },
        {
          "output_type": "stream",
          "name": "stdout",
          "text": [
            "2023-04-23 19:57:39,625 [INFO] 91\t\t1.0\n"
          ]
        },
        {
          "output_type": "stream",
          "name": "stderr",
          "text": [
            "INFO:NEURONIOUtils:91\t\t1.0\n"
          ]
        },
        {
          "output_type": "stream",
          "name": "stdout",
          "text": [
            "2023-04-23 19:57:39,626 [INFO] 92\t\t0.0\n"
          ]
        },
        {
          "output_type": "stream",
          "name": "stderr",
          "text": [
            "INFO:NEURONIOUtils:92\t\t0.0\n"
          ]
        },
        {
          "output_type": "stream",
          "name": "stdout",
          "text": [
            "2023-04-23 19:57:39,628 [INFO] 93\t\t1.0\n"
          ]
        },
        {
          "output_type": "stream",
          "name": "stderr",
          "text": [
            "INFO:NEURONIOUtils:93\t\t1.0\n"
          ]
        },
        {
          "output_type": "stream",
          "name": "stdout",
          "text": [
            "2023-04-23 19:57:39,630 [INFO] 94\t\t1.0\n"
          ]
        },
        {
          "output_type": "stream",
          "name": "stderr",
          "text": [
            "INFO:NEURONIOUtils:94\t\t1.0\n"
          ]
        },
        {
          "output_type": "stream",
          "name": "stdout",
          "text": [
            "2023-04-23 19:57:39,632 [INFO] 95\t\t0.0\n"
          ]
        },
        {
          "output_type": "stream",
          "name": "stderr",
          "text": [
            "INFO:NEURONIOUtils:95\t\t0.0\n"
          ]
        },
        {
          "output_type": "stream",
          "name": "stdout",
          "text": [
            "2023-04-23 19:57:39,634 [INFO] 96\t\t0.0\n"
          ]
        },
        {
          "output_type": "stream",
          "name": "stderr",
          "text": [
            "INFO:NEURONIOUtils:96\t\t0.0\n"
          ]
        },
        {
          "output_type": "stream",
          "name": "stdout",
          "text": [
            "2023-04-23 19:57:39,635 [INFO] 97\t\t1.0\n"
          ]
        },
        {
          "output_type": "stream",
          "name": "stderr",
          "text": [
            "INFO:NEURONIOUtils:97\t\t1.0\n"
          ]
        },
        {
          "output_type": "stream",
          "name": "stdout",
          "text": [
            "2023-04-23 19:57:39,637 [INFO] 98\t\t1.0\n"
          ]
        },
        {
          "output_type": "stream",
          "name": "stderr",
          "text": [
            "INFO:NEURONIOUtils:98\t\t1.0\n"
          ]
        },
        {
          "output_type": "stream",
          "name": "stdout",
          "text": [
            "2023-04-23 19:57:39,639 [INFO] 99\t\t1.0\n"
          ]
        },
        {
          "output_type": "stream",
          "name": "stderr",
          "text": [
            "INFO:NEURONIOUtils:99\t\t1.0\n"
          ]
        },
        {
          "output_type": "stream",
          "name": "stdout",
          "text": [
            "2023-04-23 19:57:39,641 [INFO] IMG firing rate avg: 3.0 Hz\n"
          ]
        },
        {
          "output_type": "stream",
          "name": "stderr",
          "text": [
            "INFO:NEURONIOUtils:IMG firing rate avg: 3.0 Hz\n"
          ]
        },
        {
          "output_type": "stream",
          "name": "stdout",
          "text": [
            "2023-04-23 19:57:39,649 [INFO] Volume = 0.3792 ml\n"
          ]
        },
        {
          "output_type": "stream",
          "name": "stderr",
          "text": [
            "/usr/local/lib/python3.9/dist-packages/bmtk/utils/reports/spike_trains/spike_trains.py:183: RuntimeWarning: divide by zero encountered in double_scalars\n",
            "  interval = -np.log(1.0 - np.random.uniform()) / fr\n",
            "INFO:NEURONIOUtils:Volume = 0.3792 ml\n"
          ]
        },
        {
          "output_type": "stream",
          "name": "stdout",
          "text": [
            "2023-04-23 19:57:39,657 [INFO] Pressure = 0.00 mmHg\n"
          ]
        },
        {
          "output_type": "stream",
          "name": "stderr",
          "text": [
            "INFO:NEURONIOUtils:Pressure = 0.00 mmHg\n"
          ]
        },
        {
          "output_type": "stream",
          "name": "stdout",
          "text": [
            "2023-04-23 19:57:39,659 [INFO] Calculated bladder afferent firing rate for the next time step = 0.00 Hz \n",
            " \n",
            "\n"
          ]
        },
        {
          "output_type": "stream",
          "name": "stderr",
          "text": [
            "INFO:NEURONIOUtils:Calculated bladder afferent firing rate for the next time step = 0.00 Hz \n",
            " \n",
            "\n"
          ]
        },
        {
          "output_type": "stream",
          "name": "stdout",
          "text": [
            "2023-04-23 19:57:42,845 [INFO]     step:75000 t_sim:15000.00 ms\n"
          ]
        },
        {
          "output_type": "stream",
          "name": "stderr",
          "text": [
            "INFO:NEURONIOUtils:    step:75000 t_sim:15000.00 ms\n"
          ]
        },
        {
          "output_type": "stream",
          "name": "stdout",
          "text": [
            "2023-04-23 19:57:42,858 [INFO] Timestep 14000.0 to 15000.0 ms\n"
          ]
        },
        {
          "output_type": "stream",
          "name": "stderr",
          "text": [
            "INFO:NEURONIOUtils:Timestep 14000.0 to 15000.0 ms\n"
          ]
        },
        {
          "output_type": "stream",
          "name": "stdout",
          "text": [
            "2023-04-23 19:57:42,863 [INFO] PGN node_id\t  Hz\n"
          ]
        },
        {
          "output_type": "stream",
          "name": "stderr",
          "text": [
            "INFO:NEURONIOUtils:PGN node_id\t  Hz\n"
          ]
        },
        {
          "output_type": "stream",
          "name": "stdout",
          "text": [
            "2023-04-23 19:57:42,867 [INFO] 70\t\t1.0\n"
          ]
        },
        {
          "output_type": "stream",
          "name": "stderr",
          "text": [
            "INFO:NEURONIOUtils:70\t\t1.0\n"
          ]
        },
        {
          "output_type": "stream",
          "name": "stdout",
          "text": [
            "2023-04-23 19:57:42,870 [INFO] 71\t\t1.0\n"
          ]
        },
        {
          "output_type": "stream",
          "name": "stderr",
          "text": [
            "INFO:NEURONIOUtils:71\t\t1.0\n"
          ]
        },
        {
          "output_type": "stream",
          "name": "stdout",
          "text": [
            "2023-04-23 19:57:42,873 [INFO] 72\t\t1.0\n"
          ]
        },
        {
          "output_type": "stream",
          "name": "stderr",
          "text": [
            "INFO:NEURONIOUtils:72\t\t1.0\n"
          ]
        },
        {
          "output_type": "stream",
          "name": "stdout",
          "text": [
            "2023-04-23 19:57:42,875 [INFO] 73\t\t1.0\n"
          ]
        },
        {
          "output_type": "stream",
          "name": "stderr",
          "text": [
            "INFO:NEURONIOUtils:73\t\t1.0\n"
          ]
        },
        {
          "output_type": "stream",
          "name": "stdout",
          "text": [
            "2023-04-23 19:57:42,876 [INFO] 74\t\t1.0\n"
          ]
        },
        {
          "output_type": "stream",
          "name": "stderr",
          "text": [
            "INFO:NEURONIOUtils:74\t\t1.0\n"
          ]
        },
        {
          "output_type": "stream",
          "name": "stdout",
          "text": [
            "2023-04-23 19:57:42,878 [INFO] 75\t\t1.0\n"
          ]
        },
        {
          "output_type": "stream",
          "name": "stderr",
          "text": [
            "INFO:NEURONIOUtils:75\t\t1.0\n"
          ]
        },
        {
          "output_type": "stream",
          "name": "stdout",
          "text": [
            "2023-04-23 19:57:42,880 [INFO] 76\t\t1.0\n"
          ]
        },
        {
          "output_type": "stream",
          "name": "stderr",
          "text": [
            "INFO:NEURONIOUtils:76\t\t1.0\n"
          ]
        },
        {
          "output_type": "stream",
          "name": "stdout",
          "text": [
            "2023-04-23 19:57:42,882 [INFO] 77\t\t1.0\n"
          ]
        },
        {
          "output_type": "stream",
          "name": "stderr",
          "text": [
            "INFO:NEURONIOUtils:77\t\t1.0\n"
          ]
        },
        {
          "output_type": "stream",
          "name": "stdout",
          "text": [
            "2023-04-23 19:57:42,884 [INFO] 78\t\t1.0\n"
          ]
        },
        {
          "output_type": "stream",
          "name": "stderr",
          "text": [
            "INFO:NEURONIOUtils:78\t\t1.0\n"
          ]
        },
        {
          "output_type": "stream",
          "name": "stdout",
          "text": [
            "2023-04-23 19:57:42,887 [INFO] 79\t\t1.0\n"
          ]
        },
        {
          "output_type": "stream",
          "name": "stderr",
          "text": [
            "INFO:NEURONIOUtils:79\t\t1.0\n"
          ]
        },
        {
          "output_type": "stream",
          "name": "stdout",
          "text": [
            "2023-04-23 19:57:42,889 [INFO] PGN firing rate avg: 1.0 Hz\n"
          ]
        },
        {
          "output_type": "stream",
          "name": "stderr",
          "text": [
            "INFO:NEURONIOUtils:PGN firing rate avg: 1.0 Hz\n"
          ]
        },
        {
          "output_type": "stream",
          "name": "stdout",
          "text": [
            "2023-04-23 19:57:42,890 [INFO] Grill PGN fr = 1.2690000000000001 Hz\n"
          ]
        },
        {
          "output_type": "stream",
          "name": "stderr",
          "text": [
            "INFO:NEURONIOUtils:Grill PGN fr = 1.2690000000000001 Hz\n"
          ]
        },
        {
          "output_type": "stream",
          "name": "stdout",
          "text": [
            "2023-04-23 19:57:42,892 [INFO] IMG node_gid\t  Hz\n"
          ]
        },
        {
          "output_type": "stream",
          "name": "stderr",
          "text": [
            "INFO:NEURONIOUtils:IMG node_gid\t  Hz\n"
          ]
        },
        {
          "output_type": "stream",
          "name": "stdout",
          "text": [
            "2023-04-23 19:57:42,894 [INFO] 90\t\t0.0\n"
          ]
        },
        {
          "output_type": "stream",
          "name": "stderr",
          "text": [
            "INFO:NEURONIOUtils:90\t\t0.0\n"
          ]
        },
        {
          "output_type": "stream",
          "name": "stdout",
          "text": [
            "2023-04-23 19:57:42,896 [INFO] 91\t\t1.0\n"
          ]
        },
        {
          "output_type": "stream",
          "name": "stderr",
          "text": [
            "INFO:NEURONIOUtils:91\t\t1.0\n"
          ]
        },
        {
          "output_type": "stream",
          "name": "stdout",
          "text": [
            "2023-04-23 19:57:42,898 [INFO] 92\t\t0.0\n"
          ]
        },
        {
          "output_type": "stream",
          "name": "stderr",
          "text": [
            "INFO:NEURONIOUtils:92\t\t0.0\n"
          ]
        },
        {
          "output_type": "stream",
          "name": "stdout",
          "text": [
            "2023-04-23 19:57:42,899 [INFO] 93\t\t1.0\n"
          ]
        },
        {
          "output_type": "stream",
          "name": "stderr",
          "text": [
            "INFO:NEURONIOUtils:93\t\t1.0\n"
          ]
        },
        {
          "output_type": "stream",
          "name": "stdout",
          "text": [
            "2023-04-23 19:57:42,901 [INFO] 94\t\t1.0\n"
          ]
        },
        {
          "output_type": "stream",
          "name": "stderr",
          "text": [
            "INFO:NEURONIOUtils:94\t\t1.0\n"
          ]
        },
        {
          "output_type": "stream",
          "name": "stdout",
          "text": [
            "2023-04-23 19:57:42,903 [INFO] 95\t\t0.0\n"
          ]
        },
        {
          "output_type": "stream",
          "name": "stderr",
          "text": [
            "INFO:NEURONIOUtils:95\t\t0.0\n"
          ]
        },
        {
          "output_type": "stream",
          "name": "stdout",
          "text": [
            "2023-04-23 19:57:42,905 [INFO] 96\t\t0.0\n"
          ]
        },
        {
          "output_type": "stream",
          "name": "stderr",
          "text": [
            "INFO:NEURONIOUtils:96\t\t0.0\n"
          ]
        },
        {
          "output_type": "stream",
          "name": "stdout",
          "text": [
            "2023-04-23 19:57:42,907 [INFO] 97\t\t1.0\n"
          ]
        },
        {
          "output_type": "stream",
          "name": "stderr",
          "text": [
            "INFO:NEURONIOUtils:97\t\t1.0\n"
          ]
        },
        {
          "output_type": "stream",
          "name": "stdout",
          "text": [
            "2023-04-23 19:57:42,910 [INFO] 98\t\t1.0\n"
          ]
        },
        {
          "output_type": "stream",
          "name": "stderr",
          "text": [
            "INFO:NEURONIOUtils:98\t\t1.0\n"
          ]
        },
        {
          "output_type": "stream",
          "name": "stdout",
          "text": [
            "2023-04-23 19:57:42,911 [INFO] 99\t\t1.0\n"
          ]
        },
        {
          "output_type": "stream",
          "name": "stderr",
          "text": [
            "INFO:NEURONIOUtils:99\t\t1.0\n"
          ]
        },
        {
          "output_type": "stream",
          "name": "stdout",
          "text": [
            "2023-04-23 19:57:42,913 [INFO] IMG firing rate avg: 1.0 Hz\n"
          ]
        },
        {
          "output_type": "stream",
          "name": "stderr",
          "text": [
            "INFO:NEURONIOUtils:IMG firing rate avg: 1.0 Hz\n"
          ]
        },
        {
          "output_type": "stream",
          "name": "stdout",
          "text": [
            "2023-04-23 19:57:42,931 [INFO] Volume = 0.4083 ml\n"
          ]
        },
        {
          "output_type": "stream",
          "name": "stderr",
          "text": [
            "/usr/local/lib/python3.9/dist-packages/bmtk/utils/reports/spike_trains/spike_trains.py:183: RuntimeWarning: divide by zero encountered in double_scalars\n",
            "  interval = -np.log(1.0 - np.random.uniform()) / fr\n",
            "INFO:NEURONIOUtils:Volume = 0.4083 ml\n"
          ]
        },
        {
          "output_type": "stream",
          "name": "stdout",
          "text": [
            "2023-04-23 19:57:42,934 [INFO] Pressure = 0.00 mmHg\n"
          ]
        },
        {
          "output_type": "stream",
          "name": "stderr",
          "text": [
            "INFO:NEURONIOUtils:Pressure = 0.00 mmHg\n"
          ]
        },
        {
          "output_type": "stream",
          "name": "stdout",
          "text": [
            "2023-04-23 19:57:42,936 [INFO] Calculated bladder afferent firing rate for the next time step = 0.00 Hz \n",
            " \n",
            "\n"
          ]
        },
        {
          "output_type": "stream",
          "name": "stderr",
          "text": [
            "INFO:NEURONIOUtils:Calculated bladder afferent firing rate for the next time step = 0.00 Hz \n",
            " \n",
            "\n"
          ]
        },
        {
          "output_type": "stream",
          "name": "stdout",
          "text": [
            "2023-04-23 19:57:46,661 [INFO]     step:80000 t_sim:16000.00 ms\n"
          ]
        },
        {
          "output_type": "stream",
          "name": "stderr",
          "text": [
            "INFO:NEURONIOUtils:    step:80000 t_sim:16000.00 ms\n"
          ]
        },
        {
          "output_type": "stream",
          "name": "stdout",
          "text": [
            "2023-04-23 19:57:46,683 [INFO] Timestep 15000.0 to 16000.0 ms\n"
          ]
        },
        {
          "output_type": "stream",
          "name": "stderr",
          "text": [
            "INFO:NEURONIOUtils:Timestep 15000.0 to 16000.0 ms\n"
          ]
        },
        {
          "output_type": "stream",
          "name": "stdout",
          "text": [
            "2023-04-23 19:57:46,691 [INFO] PGN node_id\t  Hz\n"
          ]
        },
        {
          "output_type": "stream",
          "name": "stderr",
          "text": [
            "INFO:NEURONIOUtils:PGN node_id\t  Hz\n"
          ]
        },
        {
          "output_type": "stream",
          "name": "stdout",
          "text": [
            "2023-04-23 19:57:46,698 [INFO] 70\t\t1.0\n"
          ]
        },
        {
          "output_type": "stream",
          "name": "stderr",
          "text": [
            "INFO:NEURONIOUtils:70\t\t1.0\n"
          ]
        },
        {
          "output_type": "stream",
          "name": "stdout",
          "text": [
            "2023-04-23 19:57:46,703 [INFO] 71\t\t1.0\n"
          ]
        },
        {
          "output_type": "stream",
          "name": "stderr",
          "text": [
            "INFO:NEURONIOUtils:71\t\t1.0\n"
          ]
        },
        {
          "output_type": "stream",
          "name": "stdout",
          "text": [
            "2023-04-23 19:57:46,705 [INFO] 72\t\t1.0\n"
          ]
        },
        {
          "output_type": "stream",
          "name": "stderr",
          "text": [
            "INFO:NEURONIOUtils:72\t\t1.0\n"
          ]
        },
        {
          "output_type": "stream",
          "name": "stdout",
          "text": [
            "2023-04-23 19:57:46,711 [INFO] 73\t\t1.0\n"
          ]
        },
        {
          "output_type": "stream",
          "name": "stderr",
          "text": [
            "INFO:NEURONIOUtils:73\t\t1.0\n"
          ]
        },
        {
          "output_type": "stream",
          "name": "stdout",
          "text": [
            "2023-04-23 19:57:46,714 [INFO] 74\t\t1.0\n"
          ]
        },
        {
          "output_type": "stream",
          "name": "stderr",
          "text": [
            "INFO:NEURONIOUtils:74\t\t1.0\n"
          ]
        },
        {
          "output_type": "stream",
          "name": "stdout",
          "text": [
            "2023-04-23 19:57:46,719 [INFO] 75\t\t1.0\n"
          ]
        },
        {
          "output_type": "stream",
          "name": "stderr",
          "text": [
            "INFO:NEURONIOUtils:75\t\t1.0\n"
          ]
        },
        {
          "output_type": "stream",
          "name": "stdout",
          "text": [
            "2023-04-23 19:57:46,721 [INFO] 76\t\t1.0\n"
          ]
        },
        {
          "output_type": "stream",
          "name": "stderr",
          "text": [
            "INFO:NEURONIOUtils:76\t\t1.0\n"
          ]
        },
        {
          "output_type": "stream",
          "name": "stdout",
          "text": [
            "2023-04-23 19:57:46,723 [INFO] 77\t\t1.0\n"
          ]
        },
        {
          "output_type": "stream",
          "name": "stderr",
          "text": [
            "INFO:NEURONIOUtils:77\t\t1.0\n"
          ]
        },
        {
          "output_type": "stream",
          "name": "stdout",
          "text": [
            "2023-04-23 19:57:46,728 [INFO] 78\t\t1.0\n"
          ]
        },
        {
          "output_type": "stream",
          "name": "stderr",
          "text": [
            "INFO:NEURONIOUtils:78\t\t1.0\n"
          ]
        },
        {
          "output_type": "stream",
          "name": "stdout",
          "text": [
            "2023-04-23 19:57:46,730 [INFO] 79\t\t1.0\n"
          ]
        },
        {
          "output_type": "stream",
          "name": "stderr",
          "text": [
            "INFO:NEURONIOUtils:79\t\t1.0\n"
          ]
        },
        {
          "output_type": "stream",
          "name": "stdout",
          "text": [
            "2023-04-23 19:57:46,732 [INFO] PGN firing rate avg: 1.0 Hz\n"
          ]
        },
        {
          "output_type": "stream",
          "name": "stderr",
          "text": [
            "INFO:NEURONIOUtils:PGN firing rate avg: 1.0 Hz\n"
          ]
        },
        {
          "output_type": "stream",
          "name": "stdout",
          "text": [
            "2023-04-23 19:57:46,736 [INFO] Grill PGN fr = 1.2690000000000001 Hz\n"
          ]
        },
        {
          "output_type": "stream",
          "name": "stderr",
          "text": [
            "INFO:NEURONIOUtils:Grill PGN fr = 1.2690000000000001 Hz\n"
          ]
        },
        {
          "output_type": "stream",
          "name": "stdout",
          "text": [
            "2023-04-23 19:57:46,738 [INFO] IMG node_gid\t  Hz\n"
          ]
        },
        {
          "output_type": "stream",
          "name": "stderr",
          "text": [
            "INFO:NEURONIOUtils:IMG node_gid\t  Hz\n"
          ]
        },
        {
          "output_type": "stream",
          "name": "stdout",
          "text": [
            "2023-04-23 19:57:46,740 [INFO] 90\t\t0.0\n"
          ]
        },
        {
          "output_type": "stream",
          "name": "stderr",
          "text": [
            "INFO:NEURONIOUtils:90\t\t0.0\n"
          ]
        },
        {
          "output_type": "stream",
          "name": "stdout",
          "text": [
            "2023-04-23 19:57:46,745 [INFO] 91\t\t1.0\n"
          ]
        },
        {
          "output_type": "stream",
          "name": "stderr",
          "text": [
            "INFO:NEURONIOUtils:91\t\t1.0\n"
          ]
        },
        {
          "output_type": "stream",
          "name": "stdout",
          "text": [
            "2023-04-23 19:57:46,747 [INFO] 92\t\t0.0\n"
          ]
        },
        {
          "output_type": "stream",
          "name": "stderr",
          "text": [
            "INFO:NEURONIOUtils:92\t\t0.0\n"
          ]
        },
        {
          "output_type": "stream",
          "name": "stdout",
          "text": [
            "2023-04-23 19:57:46,750 [INFO] 93\t\t1.0\n"
          ]
        },
        {
          "output_type": "stream",
          "name": "stderr",
          "text": [
            "INFO:NEURONIOUtils:93\t\t1.0\n"
          ]
        },
        {
          "output_type": "stream",
          "name": "stdout",
          "text": [
            "2023-04-23 19:57:46,752 [INFO] 94\t\t1.0\n"
          ]
        },
        {
          "output_type": "stream",
          "name": "stderr",
          "text": [
            "INFO:NEURONIOUtils:94\t\t1.0\n"
          ]
        },
        {
          "output_type": "stream",
          "name": "stdout",
          "text": [
            "2023-04-23 19:57:46,754 [INFO] 95\t\t0.0\n"
          ]
        },
        {
          "output_type": "stream",
          "name": "stderr",
          "text": [
            "INFO:NEURONIOUtils:95\t\t0.0\n"
          ]
        },
        {
          "output_type": "stream",
          "name": "stdout",
          "text": [
            "2023-04-23 19:57:46,756 [INFO] 96\t\t0.0\n"
          ]
        },
        {
          "output_type": "stream",
          "name": "stderr",
          "text": [
            "INFO:NEURONIOUtils:96\t\t0.0\n"
          ]
        },
        {
          "output_type": "stream",
          "name": "stdout",
          "text": [
            "2023-04-23 19:57:46,764 [INFO] 97\t\t1.0\n"
          ]
        },
        {
          "output_type": "stream",
          "name": "stderr",
          "text": [
            "INFO:NEURONIOUtils:97\t\t1.0\n"
          ]
        },
        {
          "output_type": "stream",
          "name": "stdout",
          "text": [
            "2023-04-23 19:57:46,766 [INFO] 98\t\t1.0\n"
          ]
        },
        {
          "output_type": "stream",
          "name": "stderr",
          "text": [
            "INFO:NEURONIOUtils:98\t\t1.0\n"
          ]
        },
        {
          "output_type": "stream",
          "name": "stdout",
          "text": [
            "2023-04-23 19:57:46,768 [INFO] 99\t\t1.0\n"
          ]
        },
        {
          "output_type": "stream",
          "name": "stderr",
          "text": [
            "INFO:NEURONIOUtils:99\t\t1.0\n"
          ]
        },
        {
          "output_type": "stream",
          "name": "stdout",
          "text": [
            "2023-04-23 19:57:46,770 [INFO] IMG firing rate avg: 1.0 Hz\n"
          ]
        },
        {
          "output_type": "stream",
          "name": "stderr",
          "text": [
            "INFO:NEURONIOUtils:IMG firing rate avg: 1.0 Hz\n"
          ]
        },
        {
          "output_type": "stream",
          "name": "stdout",
          "text": [
            "2023-04-23 19:57:46,780 [INFO] Volume = 0.4375 ml\n"
          ]
        },
        {
          "output_type": "stream",
          "name": "stderr",
          "text": [
            "/usr/local/lib/python3.9/dist-packages/bmtk/utils/reports/spike_trains/spike_trains.py:183: RuntimeWarning: divide by zero encountered in double_scalars\n",
            "  interval = -np.log(1.0 - np.random.uniform()) / fr\n",
            "INFO:NEURONIOUtils:Volume = 0.4375 ml\n"
          ]
        },
        {
          "output_type": "stream",
          "name": "stdout",
          "text": [
            "2023-04-23 19:57:46,784 [INFO] Pressure = 0.00 mmHg\n"
          ]
        },
        {
          "output_type": "stream",
          "name": "stderr",
          "text": [
            "INFO:NEURONIOUtils:Pressure = 0.00 mmHg\n"
          ]
        },
        {
          "output_type": "stream",
          "name": "stdout",
          "text": [
            "2023-04-23 19:57:46,786 [INFO] Calculated bladder afferent firing rate for the next time step = 0.00 Hz \n",
            " \n",
            "\n"
          ]
        },
        {
          "output_type": "stream",
          "name": "stderr",
          "text": [
            "INFO:NEURONIOUtils:Calculated bladder afferent firing rate for the next time step = 0.00 Hz \n",
            " \n",
            "\n"
          ]
        },
        {
          "output_type": "stream",
          "name": "stdout",
          "text": [
            "2023-04-23 19:57:50,276 [INFO]     step:85000 t_sim:17000.00 ms\n"
          ]
        },
        {
          "output_type": "stream",
          "name": "stderr",
          "text": [
            "INFO:NEURONIOUtils:    step:85000 t_sim:17000.00 ms\n"
          ]
        },
        {
          "output_type": "stream",
          "name": "stdout",
          "text": [
            "2023-04-23 19:57:50,297 [INFO] Timestep 16000.0 to 17000.0 ms\n"
          ]
        },
        {
          "output_type": "stream",
          "name": "stderr",
          "text": [
            "INFO:NEURONIOUtils:Timestep 16000.0 to 17000.0 ms\n"
          ]
        },
        {
          "output_type": "stream",
          "name": "stdout",
          "text": [
            "2023-04-23 19:57:50,302 [INFO] PGN node_id\t  Hz\n"
          ]
        },
        {
          "output_type": "stream",
          "name": "stderr",
          "text": [
            "INFO:NEURONIOUtils:PGN node_id\t  Hz\n"
          ]
        },
        {
          "output_type": "stream",
          "name": "stdout",
          "text": [
            "2023-04-23 19:57:50,308 [INFO] 70\t\t2.0\n"
          ]
        },
        {
          "output_type": "stream",
          "name": "stderr",
          "text": [
            "INFO:NEURONIOUtils:70\t\t2.0\n"
          ]
        },
        {
          "output_type": "stream",
          "name": "stdout",
          "text": [
            "2023-04-23 19:57:50,311 [INFO] 71\t\t2.0\n"
          ]
        },
        {
          "output_type": "stream",
          "name": "stderr",
          "text": [
            "INFO:NEURONIOUtils:71\t\t2.0\n"
          ]
        },
        {
          "output_type": "stream",
          "name": "stdout",
          "text": [
            "2023-04-23 19:57:50,315 [INFO] 72\t\t2.0\n"
          ]
        },
        {
          "output_type": "stream",
          "name": "stderr",
          "text": [
            "INFO:NEURONIOUtils:72\t\t2.0\n"
          ]
        },
        {
          "output_type": "stream",
          "name": "stdout",
          "text": [
            "2023-04-23 19:57:50,317 [INFO] 73\t\t2.0\n"
          ]
        },
        {
          "output_type": "stream",
          "name": "stderr",
          "text": [
            "INFO:NEURONIOUtils:73\t\t2.0\n"
          ]
        },
        {
          "output_type": "stream",
          "name": "stdout",
          "text": [
            "2023-04-23 19:57:50,319 [INFO] 74\t\t2.0\n"
          ]
        },
        {
          "output_type": "stream",
          "name": "stderr",
          "text": [
            "INFO:NEURONIOUtils:74\t\t2.0\n"
          ]
        },
        {
          "output_type": "stream",
          "name": "stdout",
          "text": [
            "2023-04-23 19:57:50,321 [INFO] 75\t\t2.0\n"
          ]
        },
        {
          "output_type": "stream",
          "name": "stderr",
          "text": [
            "INFO:NEURONIOUtils:75\t\t2.0\n"
          ]
        },
        {
          "output_type": "stream",
          "name": "stdout",
          "text": [
            "2023-04-23 19:57:50,325 [INFO] 76\t\t2.0\n"
          ]
        },
        {
          "output_type": "stream",
          "name": "stderr",
          "text": [
            "INFO:NEURONIOUtils:76\t\t2.0\n"
          ]
        },
        {
          "output_type": "stream",
          "name": "stdout",
          "text": [
            "2023-04-23 19:57:50,327 [INFO] 77\t\t2.0\n"
          ]
        },
        {
          "output_type": "stream",
          "name": "stderr",
          "text": [
            "INFO:NEURONIOUtils:77\t\t2.0\n"
          ]
        },
        {
          "output_type": "stream",
          "name": "stdout",
          "text": [
            "2023-04-23 19:57:50,329 [INFO] 78\t\t2.0\n"
          ]
        },
        {
          "output_type": "stream",
          "name": "stderr",
          "text": [
            "INFO:NEURONIOUtils:78\t\t2.0\n"
          ]
        },
        {
          "output_type": "stream",
          "name": "stdout",
          "text": [
            "2023-04-23 19:57:50,331 [INFO] 79\t\t2.0\n"
          ]
        },
        {
          "output_type": "stream",
          "name": "stderr",
          "text": [
            "INFO:NEURONIOUtils:79\t\t2.0\n"
          ]
        },
        {
          "output_type": "stream",
          "name": "stdout",
          "text": [
            "2023-04-23 19:57:50,333 [INFO] PGN firing rate avg: 2.0 Hz\n"
          ]
        },
        {
          "output_type": "stream",
          "name": "stderr",
          "text": [
            "INFO:NEURONIOUtils:PGN firing rate avg: 2.0 Hz\n"
          ]
        },
        {
          "output_type": "stream",
          "name": "stdout",
          "text": [
            "2023-04-23 19:57:50,335 [INFO] Grill PGN fr = 2.984 Hz\n"
          ]
        },
        {
          "output_type": "stream",
          "name": "stderr",
          "text": [
            "INFO:NEURONIOUtils:Grill PGN fr = 2.984 Hz\n"
          ]
        },
        {
          "output_type": "stream",
          "name": "stdout",
          "text": [
            "2023-04-23 19:57:50,337 [INFO] IMG node_gid\t  Hz\n"
          ]
        },
        {
          "output_type": "stream",
          "name": "stderr",
          "text": [
            "INFO:NEURONIOUtils:IMG node_gid\t  Hz\n"
          ]
        },
        {
          "output_type": "stream",
          "name": "stdout",
          "text": [
            "2023-04-23 19:57:50,339 [INFO] 90\t\t0.0\n"
          ]
        },
        {
          "output_type": "stream",
          "name": "stderr",
          "text": [
            "INFO:NEURONIOUtils:90\t\t0.0\n"
          ]
        },
        {
          "output_type": "stream",
          "name": "stdout",
          "text": [
            "2023-04-23 19:57:50,341 [INFO] 91\t\t1.0\n"
          ]
        },
        {
          "output_type": "stream",
          "name": "stderr",
          "text": [
            "INFO:NEURONIOUtils:91\t\t1.0\n"
          ]
        },
        {
          "output_type": "stream",
          "name": "stdout",
          "text": [
            "2023-04-23 19:57:50,343 [INFO] 92\t\t0.0\n"
          ]
        },
        {
          "output_type": "stream",
          "name": "stderr",
          "text": [
            "INFO:NEURONIOUtils:92\t\t0.0\n"
          ]
        },
        {
          "output_type": "stream",
          "name": "stdout",
          "text": [
            "2023-04-23 19:57:50,345 [INFO] 93\t\t1.0\n"
          ]
        },
        {
          "output_type": "stream",
          "name": "stderr",
          "text": [
            "INFO:NEURONIOUtils:93\t\t1.0\n"
          ]
        },
        {
          "output_type": "stream",
          "name": "stdout",
          "text": [
            "2023-04-23 19:57:50,347 [INFO] 94\t\t1.0\n"
          ]
        },
        {
          "output_type": "stream",
          "name": "stderr",
          "text": [
            "INFO:NEURONIOUtils:94\t\t1.0\n"
          ]
        },
        {
          "output_type": "stream",
          "name": "stdout",
          "text": [
            "2023-04-23 19:57:50,349 [INFO] 95\t\t0.0\n"
          ]
        },
        {
          "output_type": "stream",
          "name": "stderr",
          "text": [
            "INFO:NEURONIOUtils:95\t\t0.0\n"
          ]
        },
        {
          "output_type": "stream",
          "name": "stdout",
          "text": [
            "2023-04-23 19:57:50,351 [INFO] 96\t\t0.0\n"
          ]
        },
        {
          "output_type": "stream",
          "name": "stderr",
          "text": [
            "INFO:NEURONIOUtils:96\t\t0.0\n"
          ]
        },
        {
          "output_type": "stream",
          "name": "stdout",
          "text": [
            "2023-04-23 19:57:50,353 [INFO] 97\t\t1.0\n"
          ]
        },
        {
          "output_type": "stream",
          "name": "stderr",
          "text": [
            "INFO:NEURONIOUtils:97\t\t1.0\n"
          ]
        },
        {
          "output_type": "stream",
          "name": "stdout",
          "text": [
            "2023-04-23 19:57:50,355 [INFO] 98\t\t1.0\n"
          ]
        },
        {
          "output_type": "stream",
          "name": "stderr",
          "text": [
            "INFO:NEURONIOUtils:98\t\t1.0\n"
          ]
        },
        {
          "output_type": "stream",
          "name": "stdout",
          "text": [
            "2023-04-23 19:57:50,357 [INFO] 99\t\t1.0\n"
          ]
        },
        {
          "output_type": "stream",
          "name": "stderr",
          "text": [
            "INFO:NEURONIOUtils:99\t\t1.0\n"
          ]
        },
        {
          "output_type": "stream",
          "name": "stdout",
          "text": [
            "2023-04-23 19:57:50,358 [INFO] IMG firing rate avg: 2.0 Hz\n"
          ]
        },
        {
          "output_type": "stream",
          "name": "stderr",
          "text": [
            "INFO:NEURONIOUtils:IMG firing rate avg: 2.0 Hz\n"
          ]
        },
        {
          "output_type": "stream",
          "name": "stdout",
          "text": [
            "2023-04-23 19:57:50,367 [INFO] Volume = 0.4667 ml\n"
          ]
        },
        {
          "output_type": "stream",
          "name": "stderr",
          "text": [
            "/usr/local/lib/python3.9/dist-packages/bmtk/utils/reports/spike_trains/spike_trains.py:183: RuntimeWarning: divide by zero encountered in double_scalars\n",
            "  interval = -np.log(1.0 - np.random.uniform()) / fr\n",
            "INFO:NEURONIOUtils:Volume = 0.4667 ml\n"
          ]
        },
        {
          "output_type": "stream",
          "name": "stdout",
          "text": [
            "2023-04-23 19:57:50,370 [INFO] Pressure = 0.00 mmHg\n"
          ]
        },
        {
          "output_type": "stream",
          "name": "stderr",
          "text": [
            "INFO:NEURONIOUtils:Pressure = 0.00 mmHg\n"
          ]
        },
        {
          "output_type": "stream",
          "name": "stdout",
          "text": [
            "2023-04-23 19:57:50,372 [INFO] Calculated bladder afferent firing rate for the next time step = 0.00 Hz \n",
            " \n",
            "\n"
          ]
        },
        {
          "output_type": "stream",
          "name": "stderr",
          "text": [
            "INFO:NEURONIOUtils:Calculated bladder afferent firing rate for the next time step = 0.00 Hz \n",
            " \n",
            "\n"
          ]
        },
        {
          "output_type": "stream",
          "name": "stdout",
          "text": [
            "2023-04-23 19:57:54,161 [INFO]     step:90000 t_sim:18000.00 ms\n"
          ]
        },
        {
          "output_type": "stream",
          "name": "stderr",
          "text": [
            "INFO:NEURONIOUtils:    step:90000 t_sim:18000.00 ms\n"
          ]
        },
        {
          "output_type": "stream",
          "name": "stdout",
          "text": [
            "2023-04-23 19:57:54,181 [INFO] Timestep 17000.0 to 18000.0 ms\n"
          ]
        },
        {
          "output_type": "stream",
          "name": "stderr",
          "text": [
            "INFO:NEURONIOUtils:Timestep 17000.0 to 18000.0 ms\n"
          ]
        },
        {
          "output_type": "stream",
          "name": "stdout",
          "text": [
            "2023-04-23 19:57:54,187 [INFO] PGN node_id\t  Hz\n"
          ]
        },
        {
          "output_type": "stream",
          "name": "stderr",
          "text": [
            "INFO:NEURONIOUtils:PGN node_id\t  Hz\n"
          ]
        },
        {
          "output_type": "stream",
          "name": "stdout",
          "text": [
            "2023-04-23 19:57:54,193 [INFO] 70\t\t2.0\n"
          ]
        },
        {
          "output_type": "stream",
          "name": "stderr",
          "text": [
            "INFO:NEURONIOUtils:70\t\t2.0\n"
          ]
        },
        {
          "output_type": "stream",
          "name": "stdout",
          "text": [
            "2023-04-23 19:57:54,196 [INFO] 71\t\t2.0\n"
          ]
        },
        {
          "output_type": "stream",
          "name": "stderr",
          "text": [
            "INFO:NEURONIOUtils:71\t\t2.0\n"
          ]
        },
        {
          "output_type": "stream",
          "name": "stdout",
          "text": [
            "2023-04-23 19:57:54,203 [INFO] 72\t\t2.0\n"
          ]
        },
        {
          "output_type": "stream",
          "name": "stderr",
          "text": [
            "INFO:NEURONIOUtils:72\t\t2.0\n"
          ]
        },
        {
          "output_type": "stream",
          "name": "stdout",
          "text": [
            "2023-04-23 19:57:54,212 [INFO] 73\t\t2.0\n"
          ]
        },
        {
          "output_type": "stream",
          "name": "stderr",
          "text": [
            "INFO:NEURONIOUtils:73\t\t2.0\n"
          ]
        },
        {
          "output_type": "stream",
          "name": "stdout",
          "text": [
            "2023-04-23 19:57:54,220 [INFO] 74\t\t2.0\n"
          ]
        },
        {
          "output_type": "stream",
          "name": "stderr",
          "text": [
            "INFO:NEURONIOUtils:74\t\t2.0\n"
          ]
        },
        {
          "output_type": "stream",
          "name": "stdout",
          "text": [
            "2023-04-23 19:57:54,224 [INFO] 75\t\t2.0\n"
          ]
        },
        {
          "output_type": "stream",
          "name": "stderr",
          "text": [
            "INFO:NEURONIOUtils:75\t\t2.0\n"
          ]
        },
        {
          "output_type": "stream",
          "name": "stdout",
          "text": [
            "2023-04-23 19:57:54,237 [INFO] 76\t\t2.0\n"
          ]
        },
        {
          "output_type": "stream",
          "name": "stderr",
          "text": [
            "INFO:NEURONIOUtils:76\t\t2.0\n"
          ]
        },
        {
          "output_type": "stream",
          "name": "stdout",
          "text": [
            "2023-04-23 19:57:54,240 [INFO] 77\t\t2.0\n"
          ]
        },
        {
          "output_type": "stream",
          "name": "stderr",
          "text": [
            "INFO:NEURONIOUtils:77\t\t2.0\n"
          ]
        },
        {
          "output_type": "stream",
          "name": "stdout",
          "text": [
            "2023-04-23 19:57:54,250 [INFO] 78\t\t2.0\n"
          ]
        },
        {
          "output_type": "stream",
          "name": "stderr",
          "text": [
            "INFO:NEURONIOUtils:78\t\t2.0\n"
          ]
        },
        {
          "output_type": "stream",
          "name": "stdout",
          "text": [
            "2023-04-23 19:57:54,257 [INFO] 79\t\t2.0\n"
          ]
        },
        {
          "output_type": "stream",
          "name": "stderr",
          "text": [
            "INFO:NEURONIOUtils:79\t\t2.0\n"
          ]
        },
        {
          "output_type": "stream",
          "name": "stdout",
          "text": [
            "2023-04-23 19:57:54,264 [INFO] PGN firing rate avg: 2.0 Hz\n"
          ]
        },
        {
          "output_type": "stream",
          "name": "stderr",
          "text": [
            "INFO:NEURONIOUtils:PGN firing rate avg: 2.0 Hz\n"
          ]
        },
        {
          "output_type": "stream",
          "name": "stdout",
          "text": [
            "2023-04-23 19:57:54,267 [INFO] Grill PGN fr = 2.984 Hz\n"
          ]
        },
        {
          "output_type": "stream",
          "name": "stderr",
          "text": [
            "INFO:NEURONIOUtils:Grill PGN fr = 2.984 Hz\n"
          ]
        },
        {
          "output_type": "stream",
          "name": "stdout",
          "text": [
            "2023-04-23 19:57:54,272 [INFO] IMG node_gid\t  Hz\n"
          ]
        },
        {
          "output_type": "stream",
          "name": "stderr",
          "text": [
            "INFO:NEURONIOUtils:IMG node_gid\t  Hz\n"
          ]
        },
        {
          "output_type": "stream",
          "name": "stdout",
          "text": [
            "2023-04-23 19:57:54,276 [INFO] 90\t\t0.0\n"
          ]
        },
        {
          "output_type": "stream",
          "name": "stderr",
          "text": [
            "INFO:NEURONIOUtils:90\t\t0.0\n"
          ]
        },
        {
          "output_type": "stream",
          "name": "stdout",
          "text": [
            "2023-04-23 19:57:54,280 [INFO] 91\t\t1.0\n"
          ]
        },
        {
          "output_type": "stream",
          "name": "stderr",
          "text": [
            "INFO:NEURONIOUtils:91\t\t1.0\n"
          ]
        },
        {
          "output_type": "stream",
          "name": "stdout",
          "text": [
            "2023-04-23 19:57:54,283 [INFO] 92\t\t0.0\n"
          ]
        },
        {
          "output_type": "stream",
          "name": "stderr",
          "text": [
            "INFO:NEURONIOUtils:92\t\t0.0\n"
          ]
        },
        {
          "output_type": "stream",
          "name": "stdout",
          "text": [
            "2023-04-23 19:57:54,285 [INFO] 93\t\t1.0\n"
          ]
        },
        {
          "output_type": "stream",
          "name": "stderr",
          "text": [
            "INFO:NEURONIOUtils:93\t\t1.0\n"
          ]
        },
        {
          "output_type": "stream",
          "name": "stdout",
          "text": [
            "2023-04-23 19:57:54,291 [INFO] 94\t\t1.0\n"
          ]
        },
        {
          "output_type": "stream",
          "name": "stderr",
          "text": [
            "INFO:NEURONIOUtils:94\t\t1.0\n"
          ]
        },
        {
          "output_type": "stream",
          "name": "stdout",
          "text": [
            "2023-04-23 19:57:54,294 [INFO] 95\t\t0.0\n"
          ]
        },
        {
          "output_type": "stream",
          "name": "stderr",
          "text": [
            "INFO:NEURONIOUtils:95\t\t0.0\n"
          ]
        },
        {
          "output_type": "stream",
          "name": "stdout",
          "text": [
            "2023-04-23 19:57:54,298 [INFO] 96\t\t0.0\n"
          ]
        },
        {
          "output_type": "stream",
          "name": "stderr",
          "text": [
            "INFO:NEURONIOUtils:96\t\t0.0\n"
          ]
        },
        {
          "output_type": "stream",
          "name": "stdout",
          "text": [
            "2023-04-23 19:57:54,310 [INFO] 97\t\t1.0\n"
          ]
        },
        {
          "output_type": "stream",
          "name": "stderr",
          "text": [
            "INFO:NEURONIOUtils:97\t\t1.0\n"
          ]
        },
        {
          "output_type": "stream",
          "name": "stdout",
          "text": [
            "2023-04-23 19:57:54,313 [INFO] 98\t\t1.0\n"
          ]
        },
        {
          "output_type": "stream",
          "name": "stderr",
          "text": [
            "INFO:NEURONIOUtils:98\t\t1.0\n"
          ]
        },
        {
          "output_type": "stream",
          "name": "stdout",
          "text": [
            "2023-04-23 19:57:54,315 [INFO] 99\t\t1.0\n"
          ]
        },
        {
          "output_type": "stream",
          "name": "stderr",
          "text": [
            "INFO:NEURONIOUtils:99\t\t1.0\n"
          ]
        },
        {
          "output_type": "stream",
          "name": "stdout",
          "text": [
            "2023-04-23 19:57:54,317 [INFO] IMG firing rate avg: 2.0 Hz\n"
          ]
        },
        {
          "output_type": "stream",
          "name": "stderr",
          "text": [
            "INFO:NEURONIOUtils:IMG firing rate avg: 2.0 Hz\n"
          ]
        },
        {
          "output_type": "stream",
          "name": "stdout",
          "text": [
            "2023-04-23 19:57:54,326 [INFO] Volume = 0.4958 ml\n"
          ]
        },
        {
          "output_type": "stream",
          "name": "stderr",
          "text": [
            "/usr/local/lib/python3.9/dist-packages/bmtk/utils/reports/spike_trains/spike_trains.py:183: RuntimeWarning: divide by zero encountered in double_scalars\n",
            "  interval = -np.log(1.0 - np.random.uniform()) / fr\n",
            "INFO:NEURONIOUtils:Volume = 0.4958 ml\n"
          ]
        },
        {
          "output_type": "stream",
          "name": "stdout",
          "text": [
            "2023-04-23 19:57:54,330 [INFO] Pressure = 0.00 mmHg\n"
          ]
        },
        {
          "output_type": "stream",
          "name": "stderr",
          "text": [
            "INFO:NEURONIOUtils:Pressure = 0.00 mmHg\n"
          ]
        },
        {
          "output_type": "stream",
          "name": "stdout",
          "text": [
            "2023-04-23 19:57:54,332 [INFO] Calculated bladder afferent firing rate for the next time step = 0.00 Hz \n",
            " \n",
            "\n"
          ]
        },
        {
          "output_type": "stream",
          "name": "stderr",
          "text": [
            "INFO:NEURONIOUtils:Calculated bladder afferent firing rate for the next time step = 0.00 Hz \n",
            " \n",
            "\n"
          ]
        },
        {
          "output_type": "stream",
          "name": "stdout",
          "text": [
            "2023-04-23 19:57:57,174 [INFO]     step:95000 t_sim:19000.00 ms\n"
          ]
        },
        {
          "output_type": "stream",
          "name": "stderr",
          "text": [
            "INFO:NEURONIOUtils:    step:95000 t_sim:19000.00 ms\n"
          ]
        },
        {
          "output_type": "stream",
          "name": "stdout",
          "text": [
            "2023-04-23 19:57:57,191 [INFO] Timestep 18000.0 to 19000.0 ms\n"
          ]
        },
        {
          "output_type": "stream",
          "name": "stderr",
          "text": [
            "INFO:NEURONIOUtils:Timestep 18000.0 to 19000.0 ms\n"
          ]
        },
        {
          "output_type": "stream",
          "name": "stdout",
          "text": [
            "2023-04-23 19:57:57,200 [INFO] PGN node_id\t  Hz\n"
          ]
        },
        {
          "output_type": "stream",
          "name": "stderr",
          "text": [
            "INFO:NEURONIOUtils:PGN node_id\t  Hz\n"
          ]
        },
        {
          "output_type": "stream",
          "name": "stdout",
          "text": [
            "2023-04-23 19:57:57,205 [INFO] 70\t\t4.0\n"
          ]
        },
        {
          "output_type": "stream",
          "name": "stderr",
          "text": [
            "INFO:NEURONIOUtils:70\t\t4.0\n"
          ]
        },
        {
          "output_type": "stream",
          "name": "stdout",
          "text": [
            "2023-04-23 19:57:57,210 [INFO] 71\t\t4.0\n"
          ]
        },
        {
          "output_type": "stream",
          "name": "stderr",
          "text": [
            "INFO:NEURONIOUtils:71\t\t4.0\n"
          ]
        },
        {
          "output_type": "stream",
          "name": "stdout",
          "text": [
            "2023-04-23 19:57:57,212 [INFO] 72\t\t4.0\n"
          ]
        },
        {
          "output_type": "stream",
          "name": "stderr",
          "text": [
            "INFO:NEURONIOUtils:72\t\t4.0\n"
          ]
        },
        {
          "output_type": "stream",
          "name": "stdout",
          "text": [
            "2023-04-23 19:57:57,215 [INFO] 73\t\t4.0\n"
          ]
        },
        {
          "output_type": "stream",
          "name": "stderr",
          "text": [
            "INFO:NEURONIOUtils:73\t\t4.0\n"
          ]
        },
        {
          "output_type": "stream",
          "name": "stdout",
          "text": [
            "2023-04-23 19:57:57,218 [INFO] 74\t\t4.0\n"
          ]
        },
        {
          "output_type": "stream",
          "name": "stderr",
          "text": [
            "INFO:NEURONIOUtils:74\t\t4.0\n"
          ]
        },
        {
          "output_type": "stream",
          "name": "stdout",
          "text": [
            "2023-04-23 19:57:57,220 [INFO] 75\t\t4.0\n"
          ]
        },
        {
          "output_type": "stream",
          "name": "stderr",
          "text": [
            "INFO:NEURONIOUtils:75\t\t4.0\n"
          ]
        },
        {
          "output_type": "stream",
          "name": "stdout",
          "text": [
            "2023-04-23 19:57:57,222 [INFO] 76\t\t4.0\n"
          ]
        },
        {
          "output_type": "stream",
          "name": "stderr",
          "text": [
            "INFO:NEURONIOUtils:76\t\t4.0\n"
          ]
        },
        {
          "output_type": "stream",
          "name": "stdout",
          "text": [
            "2023-04-23 19:57:57,225 [INFO] 77\t\t4.0\n"
          ]
        },
        {
          "output_type": "stream",
          "name": "stderr",
          "text": [
            "INFO:NEURONIOUtils:77\t\t4.0\n"
          ]
        },
        {
          "output_type": "stream",
          "name": "stdout",
          "text": [
            "2023-04-23 19:57:57,228 [INFO] 78\t\t4.0\n"
          ]
        },
        {
          "output_type": "stream",
          "name": "stderr",
          "text": [
            "INFO:NEURONIOUtils:78\t\t4.0\n"
          ]
        },
        {
          "output_type": "stream",
          "name": "stdout",
          "text": [
            "2023-04-23 19:57:57,230 [INFO] 79\t\t4.0\n"
          ]
        },
        {
          "output_type": "stream",
          "name": "stderr",
          "text": [
            "INFO:NEURONIOUtils:79\t\t4.0\n"
          ]
        },
        {
          "output_type": "stream",
          "name": "stdout",
          "text": [
            "2023-04-23 19:57:57,233 [INFO] PGN firing rate avg: 4.0 Hz\n"
          ]
        },
        {
          "output_type": "stream",
          "name": "stderr",
          "text": [
            "INFO:NEURONIOUtils:PGN firing rate avg: 4.0 Hz\n"
          ]
        },
        {
          "output_type": "stream",
          "name": "stdout",
          "text": [
            "2023-04-23 19:57:57,235 [INFO] Grill PGN fr = 6.3 Hz\n"
          ]
        },
        {
          "output_type": "stream",
          "name": "stderr",
          "text": [
            "INFO:NEURONIOUtils:Grill PGN fr = 6.3 Hz\n"
          ]
        },
        {
          "output_type": "stream",
          "name": "stdout",
          "text": [
            "2023-04-23 19:57:57,237 [INFO] IMG node_gid\t  Hz\n"
          ]
        },
        {
          "output_type": "stream",
          "name": "stderr",
          "text": [
            "INFO:NEURONIOUtils:IMG node_gid\t  Hz\n"
          ]
        },
        {
          "output_type": "stream",
          "name": "stdout",
          "text": [
            "2023-04-23 19:57:57,240 [INFO] 90\t\t0.0\n"
          ]
        },
        {
          "output_type": "stream",
          "name": "stderr",
          "text": [
            "INFO:NEURONIOUtils:90\t\t0.0\n"
          ]
        },
        {
          "output_type": "stream",
          "name": "stdout",
          "text": [
            "2023-04-23 19:57:57,243 [INFO] 91\t\t1.0\n"
          ]
        },
        {
          "output_type": "stream",
          "name": "stderr",
          "text": [
            "INFO:NEURONIOUtils:91\t\t1.0\n"
          ]
        },
        {
          "output_type": "stream",
          "name": "stdout",
          "text": [
            "2023-04-23 19:57:57,246 [INFO] 92\t\t0.0\n"
          ]
        },
        {
          "output_type": "stream",
          "name": "stderr",
          "text": [
            "INFO:NEURONIOUtils:92\t\t0.0\n"
          ]
        },
        {
          "output_type": "stream",
          "name": "stdout",
          "text": [
            "2023-04-23 19:57:57,248 [INFO] 93\t\t1.0\n"
          ]
        },
        {
          "output_type": "stream",
          "name": "stderr",
          "text": [
            "INFO:NEURONIOUtils:93\t\t1.0\n"
          ]
        },
        {
          "output_type": "stream",
          "name": "stdout",
          "text": [
            "2023-04-23 19:57:57,251 [INFO] 94\t\t1.0\n"
          ]
        },
        {
          "output_type": "stream",
          "name": "stderr",
          "text": [
            "INFO:NEURONIOUtils:94\t\t1.0\n"
          ]
        },
        {
          "output_type": "stream",
          "name": "stdout",
          "text": [
            "2023-04-23 19:57:57,253 [INFO] 95\t\t0.0\n"
          ]
        },
        {
          "output_type": "stream",
          "name": "stderr",
          "text": [
            "INFO:NEURONIOUtils:95\t\t0.0\n"
          ]
        },
        {
          "output_type": "stream",
          "name": "stdout",
          "text": [
            "2023-04-23 19:57:57,255 [INFO] 96\t\t0.0\n"
          ]
        },
        {
          "output_type": "stream",
          "name": "stderr",
          "text": [
            "INFO:NEURONIOUtils:96\t\t0.0\n"
          ]
        },
        {
          "output_type": "stream",
          "name": "stdout",
          "text": [
            "2023-04-23 19:57:57,257 [INFO] 97\t\t1.0\n"
          ]
        },
        {
          "output_type": "stream",
          "name": "stderr",
          "text": [
            "INFO:NEURONIOUtils:97\t\t1.0\n"
          ]
        },
        {
          "output_type": "stream",
          "name": "stdout",
          "text": [
            "2023-04-23 19:57:57,259 [INFO] 98\t\t1.0\n"
          ]
        },
        {
          "output_type": "stream",
          "name": "stderr",
          "text": [
            "INFO:NEURONIOUtils:98\t\t1.0\n"
          ]
        },
        {
          "output_type": "stream",
          "name": "stdout",
          "text": [
            "2023-04-23 19:57:57,261 [INFO] 99\t\t1.0\n"
          ]
        },
        {
          "output_type": "stream",
          "name": "stderr",
          "text": [
            "INFO:NEURONIOUtils:99\t\t1.0\n"
          ]
        },
        {
          "output_type": "stream",
          "name": "stdout",
          "text": [
            "2023-04-23 19:57:57,263 [INFO] IMG firing rate avg: 4.0 Hz\n"
          ]
        },
        {
          "output_type": "stream",
          "name": "stderr",
          "text": [
            "INFO:NEURONIOUtils:IMG firing rate avg: 4.0 Hz\n"
          ]
        },
        {
          "output_type": "stream",
          "name": "stdout",
          "text": [
            "2023-04-23 19:57:57,274 [INFO] Volume = 0.5250 ml\n"
          ]
        },
        {
          "output_type": "stream",
          "name": "stderr",
          "text": [
            "/usr/local/lib/python3.9/dist-packages/bmtk/utils/reports/spike_trains/spike_trains.py:183: RuntimeWarning: divide by zero encountered in double_scalars\n",
            "  interval = -np.log(1.0 - np.random.uniform()) / fr\n",
            "INFO:NEURONIOUtils:Volume = 0.5250 ml\n"
          ]
        },
        {
          "output_type": "stream",
          "name": "stdout",
          "text": [
            "2023-04-23 19:57:57,277 [INFO] Pressure = 1.84 mmHg\n"
          ]
        },
        {
          "output_type": "stream",
          "name": "stderr",
          "text": [
            "INFO:NEURONIOUtils:Pressure = 1.84 mmHg\n"
          ]
        },
        {
          "output_type": "stream",
          "name": "stdout",
          "text": [
            "2023-04-23 19:57:57,280 [INFO] Calculated bladder afferent firing rate for the next time step = 0.00 Hz \n",
            " \n",
            "\n"
          ]
        },
        {
          "output_type": "stream",
          "name": "stderr",
          "text": [
            "INFO:NEURONIOUtils:Calculated bladder afferent firing rate for the next time step = 0.00 Hz \n",
            " \n",
            "\n"
          ]
        },
        {
          "output_type": "stream",
          "name": "stdout",
          "text": [
            "2023-04-23 19:58:00,370 [INFO]     step:100000 t_sim:20000.00 ms\n"
          ]
        },
        {
          "output_type": "stream",
          "name": "stderr",
          "text": [
            "INFO:NEURONIOUtils:    step:100000 t_sim:20000.00 ms\n"
          ]
        },
        {
          "output_type": "stream",
          "name": "stdout",
          "text": [
            "2023-04-23 19:58:00,393 [INFO] Timestep 19000.0 to 20000.0 ms\n"
          ]
        },
        {
          "output_type": "stream",
          "name": "stderr",
          "text": [
            "INFO:NEURONIOUtils:Timestep 19000.0 to 20000.0 ms\n"
          ]
        },
        {
          "output_type": "stream",
          "name": "stdout",
          "text": [
            "2023-04-23 19:58:00,399 [INFO] PGN node_id\t  Hz\n"
          ]
        },
        {
          "output_type": "stream",
          "name": "stderr",
          "text": [
            "INFO:NEURONIOUtils:PGN node_id\t  Hz\n"
          ]
        },
        {
          "output_type": "stream",
          "name": "stdout",
          "text": [
            "2023-04-23 19:58:00,403 [INFO] 70\t\t2.0\n"
          ]
        },
        {
          "output_type": "stream",
          "name": "stderr",
          "text": [
            "INFO:NEURONIOUtils:70\t\t2.0\n"
          ]
        },
        {
          "output_type": "stream",
          "name": "stdout",
          "text": [
            "2023-04-23 19:58:00,408 [INFO] 71\t\t2.0\n"
          ]
        },
        {
          "output_type": "stream",
          "name": "stderr",
          "text": [
            "INFO:NEURONIOUtils:71\t\t2.0\n"
          ]
        },
        {
          "output_type": "stream",
          "name": "stdout",
          "text": [
            "2023-04-23 19:58:00,416 [INFO] 72\t\t2.0\n"
          ]
        },
        {
          "output_type": "stream",
          "name": "stderr",
          "text": [
            "INFO:NEURONIOUtils:72\t\t2.0\n"
          ]
        },
        {
          "output_type": "stream",
          "name": "stdout",
          "text": [
            "2023-04-23 19:58:00,422 [INFO] 73\t\t2.0\n"
          ]
        },
        {
          "output_type": "stream",
          "name": "stderr",
          "text": [
            "INFO:NEURONIOUtils:73\t\t2.0\n"
          ]
        },
        {
          "output_type": "stream",
          "name": "stdout",
          "text": [
            "2023-04-23 19:58:00,426 [INFO] 74\t\t2.0\n"
          ]
        },
        {
          "output_type": "stream",
          "name": "stderr",
          "text": [
            "INFO:NEURONIOUtils:74\t\t2.0\n"
          ]
        },
        {
          "output_type": "stream",
          "name": "stdout",
          "text": [
            "2023-04-23 19:58:00,431 [INFO] 75\t\t2.0\n"
          ]
        },
        {
          "output_type": "stream",
          "name": "stderr",
          "text": [
            "INFO:NEURONIOUtils:75\t\t2.0\n"
          ]
        },
        {
          "output_type": "stream",
          "name": "stdout",
          "text": [
            "2023-04-23 19:58:00,435 [INFO] 76\t\t2.0\n"
          ]
        },
        {
          "output_type": "stream",
          "name": "stderr",
          "text": [
            "INFO:NEURONIOUtils:76\t\t2.0\n"
          ]
        },
        {
          "output_type": "stream",
          "name": "stdout",
          "text": [
            "2023-04-23 19:58:00,442 [INFO] 77\t\t2.0\n"
          ]
        },
        {
          "output_type": "stream",
          "name": "stderr",
          "text": [
            "INFO:NEURONIOUtils:77\t\t2.0\n"
          ]
        },
        {
          "output_type": "stream",
          "name": "stdout",
          "text": [
            "2023-04-23 19:58:00,445 [INFO] 78\t\t2.0\n"
          ]
        },
        {
          "output_type": "stream",
          "name": "stderr",
          "text": [
            "INFO:NEURONIOUtils:78\t\t2.0\n"
          ]
        },
        {
          "output_type": "stream",
          "name": "stdout",
          "text": [
            "2023-04-23 19:58:00,449 [INFO] 79\t\t2.0\n"
          ]
        },
        {
          "output_type": "stream",
          "name": "stderr",
          "text": [
            "INFO:NEURONIOUtils:79\t\t2.0\n"
          ]
        },
        {
          "output_type": "stream",
          "name": "stdout",
          "text": [
            "2023-04-23 19:58:00,453 [INFO] PGN firing rate avg: 2.0 Hz\n"
          ]
        },
        {
          "output_type": "stream",
          "name": "stderr",
          "text": [
            "INFO:NEURONIOUtils:PGN firing rate avg: 2.0 Hz\n"
          ]
        },
        {
          "output_type": "stream",
          "name": "stdout",
          "text": [
            "2023-04-23 19:58:00,457 [INFO] Grill PGN fr = 2.984 Hz\n"
          ]
        },
        {
          "output_type": "stream",
          "name": "stderr",
          "text": [
            "INFO:NEURONIOUtils:Grill PGN fr = 2.984 Hz\n"
          ]
        },
        {
          "output_type": "stream",
          "name": "stdout",
          "text": [
            "2023-04-23 19:58:00,459 [INFO] IMG node_gid\t  Hz\n"
          ]
        },
        {
          "output_type": "stream",
          "name": "stderr",
          "text": [
            "INFO:NEURONIOUtils:IMG node_gid\t  Hz\n"
          ]
        },
        {
          "output_type": "stream",
          "name": "stdout",
          "text": [
            "2023-04-23 19:58:00,462 [INFO] 90\t\t0.0\n"
          ]
        },
        {
          "output_type": "stream",
          "name": "stderr",
          "text": [
            "INFO:NEURONIOUtils:90\t\t0.0\n"
          ]
        },
        {
          "output_type": "stream",
          "name": "stdout",
          "text": [
            "2023-04-23 19:58:00,465 [INFO] 91\t\t1.0\n"
          ]
        },
        {
          "output_type": "stream",
          "name": "stderr",
          "text": [
            "INFO:NEURONIOUtils:91\t\t1.0\n"
          ]
        },
        {
          "output_type": "stream",
          "name": "stdout",
          "text": [
            "2023-04-23 19:58:00,467 [INFO] 92\t\t0.0\n"
          ]
        },
        {
          "output_type": "stream",
          "name": "stderr",
          "text": [
            "INFO:NEURONIOUtils:92\t\t0.0\n"
          ]
        },
        {
          "output_type": "stream",
          "name": "stdout",
          "text": [
            "2023-04-23 19:58:00,476 [INFO] 93\t\t1.0\n"
          ]
        },
        {
          "output_type": "stream",
          "name": "stderr",
          "text": [
            "INFO:NEURONIOUtils:93\t\t1.0\n"
          ]
        },
        {
          "output_type": "stream",
          "name": "stdout",
          "text": [
            "2023-04-23 19:58:00,481 [INFO] 94\t\t1.0\n"
          ]
        },
        {
          "output_type": "stream",
          "name": "stderr",
          "text": [
            "INFO:NEURONIOUtils:94\t\t1.0\n"
          ]
        },
        {
          "output_type": "stream",
          "name": "stdout",
          "text": [
            "2023-04-23 19:58:00,484 [INFO] 95\t\t0.0\n"
          ]
        },
        {
          "output_type": "stream",
          "name": "stderr",
          "text": [
            "INFO:NEURONIOUtils:95\t\t0.0\n"
          ]
        },
        {
          "output_type": "stream",
          "name": "stdout",
          "text": [
            "2023-04-23 19:58:00,488 [INFO] 96\t\t0.0\n"
          ]
        },
        {
          "output_type": "stream",
          "name": "stderr",
          "text": [
            "INFO:NEURONIOUtils:96\t\t0.0\n"
          ]
        },
        {
          "output_type": "stream",
          "name": "stdout",
          "text": [
            "2023-04-23 19:58:00,491 [INFO] 97\t\t1.0\n"
          ]
        },
        {
          "output_type": "stream",
          "name": "stderr",
          "text": [
            "INFO:NEURONIOUtils:97\t\t1.0\n"
          ]
        },
        {
          "output_type": "stream",
          "name": "stdout",
          "text": [
            "2023-04-23 19:58:00,493 [INFO] 98\t\t1.0\n"
          ]
        },
        {
          "output_type": "stream",
          "name": "stderr",
          "text": [
            "INFO:NEURONIOUtils:98\t\t1.0\n"
          ]
        },
        {
          "output_type": "stream",
          "name": "stdout",
          "text": [
            "2023-04-23 19:58:00,497 [INFO] 99\t\t1.0\n"
          ]
        },
        {
          "output_type": "stream",
          "name": "stderr",
          "text": [
            "INFO:NEURONIOUtils:99\t\t1.0\n"
          ]
        },
        {
          "output_type": "stream",
          "name": "stdout",
          "text": [
            "2023-04-23 19:58:00,500 [INFO] IMG firing rate avg: 2.0 Hz\n"
          ]
        },
        {
          "output_type": "stream",
          "name": "stderr",
          "text": [
            "INFO:NEURONIOUtils:IMG firing rate avg: 2.0 Hz\n"
          ]
        },
        {
          "output_type": "stream",
          "name": "stdout",
          "text": [
            "2023-04-23 19:58:00,519 [INFO] Volume = 0.5542 ml\n"
          ]
        },
        {
          "output_type": "stream",
          "name": "stderr",
          "text": [
            "/usr/local/lib/python3.9/dist-packages/bmtk/utils/reports/spike_trains/spike_trains.py:183: RuntimeWarning: divide by zero encountered in double_scalars\n",
            "  interval = -np.log(1.0 - np.random.uniform()) / fr\n",
            "INFO:NEURONIOUtils:Volume = 0.5542 ml\n"
          ]
        },
        {
          "output_type": "stream",
          "name": "stdout",
          "text": [
            "2023-04-23 19:58:00,522 [INFO] Pressure = 0.36 mmHg\n"
          ]
        },
        {
          "output_type": "stream",
          "name": "stderr",
          "text": [
            "INFO:NEURONIOUtils:Pressure = 0.36 mmHg\n"
          ]
        },
        {
          "output_type": "stream",
          "name": "stdout",
          "text": [
            "2023-04-23 19:58:00,524 [INFO] Calculated bladder afferent firing rate for the next time step = 0.00 Hz \n",
            " \n",
            "\n"
          ]
        },
        {
          "output_type": "stream",
          "name": "stderr",
          "text": [
            "INFO:NEURONIOUtils:Calculated bladder afferent firing rate for the next time step = 0.00 Hz \n",
            " \n",
            "\n"
          ]
        },
        {
          "output_type": "stream",
          "name": "stdout",
          "text": [
            "2023-04-23 19:58:03,338 [INFO]     step:105000 t_sim:21000.00 ms\n"
          ]
        },
        {
          "output_type": "stream",
          "name": "stderr",
          "text": [
            "INFO:NEURONIOUtils:    step:105000 t_sim:21000.00 ms\n"
          ]
        },
        {
          "output_type": "stream",
          "name": "stdout",
          "text": [
            "2023-04-23 19:58:03,359 [INFO] Timestep 20000.0 to 21000.0 ms\n"
          ]
        },
        {
          "output_type": "stream",
          "name": "stderr",
          "text": [
            "INFO:NEURONIOUtils:Timestep 20000.0 to 21000.0 ms\n"
          ]
        },
        {
          "output_type": "stream",
          "name": "stdout",
          "text": [
            "2023-04-23 19:58:03,367 [INFO] PGN node_id\t  Hz\n"
          ]
        },
        {
          "output_type": "stream",
          "name": "stderr",
          "text": [
            "INFO:NEURONIOUtils:PGN node_id\t  Hz\n"
          ]
        },
        {
          "output_type": "stream",
          "name": "stdout",
          "text": [
            "2023-04-23 19:58:03,376 [INFO] 70\t\t3.0\n"
          ]
        },
        {
          "output_type": "stream",
          "name": "stderr",
          "text": [
            "INFO:NEURONIOUtils:70\t\t3.0\n"
          ]
        },
        {
          "output_type": "stream",
          "name": "stdout",
          "text": [
            "2023-04-23 19:58:03,379 [INFO] 71\t\t3.0\n"
          ]
        },
        {
          "output_type": "stream",
          "name": "stderr",
          "text": [
            "INFO:NEURONIOUtils:71\t\t3.0\n"
          ]
        },
        {
          "output_type": "stream",
          "name": "stdout",
          "text": [
            "2023-04-23 19:58:03,385 [INFO] 72\t\t3.0\n"
          ]
        },
        {
          "output_type": "stream",
          "name": "stderr",
          "text": [
            "INFO:NEURONIOUtils:72\t\t3.0\n"
          ]
        },
        {
          "output_type": "stream",
          "name": "stdout",
          "text": [
            "2023-04-23 19:58:03,387 [INFO] 73\t\t3.0\n"
          ]
        },
        {
          "output_type": "stream",
          "name": "stderr",
          "text": [
            "INFO:NEURONIOUtils:73\t\t3.0\n"
          ]
        },
        {
          "output_type": "stream",
          "name": "stdout",
          "text": [
            "2023-04-23 19:58:03,389 [INFO] 74\t\t3.0\n"
          ]
        },
        {
          "output_type": "stream",
          "name": "stderr",
          "text": [
            "INFO:NEURONIOUtils:74\t\t3.0\n"
          ]
        },
        {
          "output_type": "stream",
          "name": "stdout",
          "text": [
            "2023-04-23 19:58:03,391 [INFO] 75\t\t3.0\n"
          ]
        },
        {
          "output_type": "stream",
          "name": "stderr",
          "text": [
            "INFO:NEURONIOUtils:75\t\t3.0\n"
          ]
        },
        {
          "output_type": "stream",
          "name": "stdout",
          "text": [
            "2023-04-23 19:58:03,399 [INFO] 76\t\t3.0\n"
          ]
        },
        {
          "output_type": "stream",
          "name": "stderr",
          "text": [
            "INFO:NEURONIOUtils:76\t\t3.0\n"
          ]
        },
        {
          "output_type": "stream",
          "name": "stdout",
          "text": [
            "2023-04-23 19:58:03,402 [INFO] 77\t\t3.0\n"
          ]
        },
        {
          "output_type": "stream",
          "name": "stderr",
          "text": [
            "INFO:NEURONIOUtils:77\t\t3.0\n"
          ]
        },
        {
          "output_type": "stream",
          "name": "stdout",
          "text": [
            "2023-04-23 19:58:03,409 [INFO] 78\t\t3.0\n"
          ]
        },
        {
          "output_type": "stream",
          "name": "stderr",
          "text": [
            "INFO:NEURONIOUtils:78\t\t3.0\n"
          ]
        },
        {
          "output_type": "stream",
          "name": "stdout",
          "text": [
            "2023-04-23 19:58:03,411 [INFO] 79\t\t3.0\n"
          ]
        },
        {
          "output_type": "stream",
          "name": "stderr",
          "text": [
            "INFO:NEURONIOUtils:79\t\t3.0\n"
          ]
        },
        {
          "output_type": "stream",
          "name": "stdout",
          "text": [
            "2023-04-23 19:58:03,414 [INFO] PGN firing rate avg: 3.0 Hz\n"
          ]
        },
        {
          "output_type": "stream",
          "name": "stderr",
          "text": [
            "INFO:NEURONIOUtils:PGN firing rate avg: 3.0 Hz\n"
          ]
        },
        {
          "output_type": "stream",
          "name": "stdout",
          "text": [
            "2023-04-23 19:58:03,420 [INFO] Grill PGN fr = 4.657 Hz\n"
          ]
        },
        {
          "output_type": "stream",
          "name": "stderr",
          "text": [
            "INFO:NEURONIOUtils:Grill PGN fr = 4.657 Hz\n"
          ]
        },
        {
          "output_type": "stream",
          "name": "stdout",
          "text": [
            "2023-04-23 19:58:03,423 [INFO] IMG node_gid\t  Hz\n"
          ]
        },
        {
          "output_type": "stream",
          "name": "stderr",
          "text": [
            "INFO:NEURONIOUtils:IMG node_gid\t  Hz\n"
          ]
        },
        {
          "output_type": "stream",
          "name": "stdout",
          "text": [
            "2023-04-23 19:58:03,425 [INFO] 90\t\t0.0\n"
          ]
        },
        {
          "output_type": "stream",
          "name": "stderr",
          "text": [
            "INFO:NEURONIOUtils:90\t\t0.0\n"
          ]
        },
        {
          "output_type": "stream",
          "name": "stdout",
          "text": [
            "2023-04-23 19:58:03,427 [INFO] 91\t\t1.0\n"
          ]
        },
        {
          "output_type": "stream",
          "name": "stderr",
          "text": [
            "INFO:NEURONIOUtils:91\t\t1.0\n"
          ]
        },
        {
          "output_type": "stream",
          "name": "stdout",
          "text": [
            "2023-04-23 19:58:03,429 [INFO] 92\t\t0.0\n"
          ]
        },
        {
          "output_type": "stream",
          "name": "stderr",
          "text": [
            "INFO:NEURONIOUtils:92\t\t0.0\n"
          ]
        },
        {
          "output_type": "stream",
          "name": "stdout",
          "text": [
            "2023-04-23 19:58:03,435 [INFO] 93\t\t1.0\n"
          ]
        },
        {
          "output_type": "stream",
          "name": "stderr",
          "text": [
            "INFO:NEURONIOUtils:93\t\t1.0\n"
          ]
        },
        {
          "output_type": "stream",
          "name": "stdout",
          "text": [
            "2023-04-23 19:58:03,437 [INFO] 94\t\t1.0\n"
          ]
        },
        {
          "output_type": "stream",
          "name": "stderr",
          "text": [
            "INFO:NEURONIOUtils:94\t\t1.0\n"
          ]
        },
        {
          "output_type": "stream",
          "name": "stdout",
          "text": [
            "2023-04-23 19:58:03,439 [INFO] 95\t\t0.0\n"
          ]
        },
        {
          "output_type": "stream",
          "name": "stderr",
          "text": [
            "INFO:NEURONIOUtils:95\t\t0.0\n"
          ]
        },
        {
          "output_type": "stream",
          "name": "stdout",
          "text": [
            "2023-04-23 19:58:03,441 [INFO] 96\t\t0.0\n"
          ]
        },
        {
          "output_type": "stream",
          "name": "stderr",
          "text": [
            "INFO:NEURONIOUtils:96\t\t0.0\n"
          ]
        },
        {
          "output_type": "stream",
          "name": "stdout",
          "text": [
            "2023-04-23 19:58:03,443 [INFO] 97\t\t1.0\n"
          ]
        },
        {
          "output_type": "stream",
          "name": "stderr",
          "text": [
            "INFO:NEURONIOUtils:97\t\t1.0\n"
          ]
        },
        {
          "output_type": "stream",
          "name": "stdout",
          "text": [
            "2023-04-23 19:58:03,445 [INFO] 98\t\t1.0\n"
          ]
        },
        {
          "output_type": "stream",
          "name": "stderr",
          "text": [
            "INFO:NEURONIOUtils:98\t\t1.0\n"
          ]
        },
        {
          "output_type": "stream",
          "name": "stdout",
          "text": [
            "2023-04-23 19:58:03,447 [INFO] 99\t\t1.0\n"
          ]
        },
        {
          "output_type": "stream",
          "name": "stderr",
          "text": [
            "INFO:NEURONIOUtils:99\t\t1.0\n"
          ]
        },
        {
          "output_type": "stream",
          "name": "stdout",
          "text": [
            "2023-04-23 19:58:03,450 [INFO] IMG firing rate avg: 3.0 Hz\n"
          ]
        },
        {
          "output_type": "stream",
          "name": "stderr",
          "text": [
            "INFO:NEURONIOUtils:IMG firing rate avg: 3.0 Hz\n"
          ]
        },
        {
          "output_type": "stream",
          "name": "stdout",
          "text": [
            "2023-04-23 19:58:03,461 [INFO] Volume = 0.5833 ml\n"
          ]
        },
        {
          "output_type": "stream",
          "name": "stderr",
          "text": [
            "/usr/local/lib/python3.9/dist-packages/bmtk/utils/reports/spike_trains/spike_trains.py:183: RuntimeWarning: divide by zero encountered in double_scalars\n",
            "  interval = -np.log(1.0 - np.random.uniform()) / fr\n",
            "INFO:NEURONIOUtils:Volume = 0.5833 ml\n"
          ]
        },
        {
          "output_type": "stream",
          "name": "stdout",
          "text": [
            "2023-04-23 19:58:03,466 [INFO] Pressure = 1.45 mmHg\n"
          ]
        },
        {
          "output_type": "stream",
          "name": "stderr",
          "text": [
            "INFO:NEURONIOUtils:Pressure = 1.45 mmHg\n"
          ]
        },
        {
          "output_type": "stream",
          "name": "stdout",
          "text": [
            "2023-04-23 19:58:03,468 [INFO] Calculated bladder afferent firing rate for the next time step = 0.00 Hz \n",
            " \n",
            "\n"
          ]
        },
        {
          "output_type": "stream",
          "name": "stderr",
          "text": [
            "INFO:NEURONIOUtils:Calculated bladder afferent firing rate for the next time step = 0.00 Hz \n",
            " \n",
            "\n"
          ]
        },
        {
          "output_type": "stream",
          "name": "stdout",
          "text": [
            "2023-04-23 19:58:07,322 [INFO]     step:110000 t_sim:22000.00 ms\n"
          ]
        },
        {
          "output_type": "stream",
          "name": "stderr",
          "text": [
            "INFO:NEURONIOUtils:    step:110000 t_sim:22000.00 ms\n"
          ]
        },
        {
          "output_type": "stream",
          "name": "stdout",
          "text": [
            "2023-04-23 19:58:07,340 [INFO] Timestep 21000.0 to 22000.0 ms\n"
          ]
        },
        {
          "output_type": "stream",
          "name": "stderr",
          "text": [
            "INFO:NEURONIOUtils:Timestep 21000.0 to 22000.0 ms\n"
          ]
        },
        {
          "output_type": "stream",
          "name": "stdout",
          "text": [
            "2023-04-23 19:58:07,347 [INFO] PGN node_id\t  Hz\n"
          ]
        },
        {
          "output_type": "stream",
          "name": "stderr",
          "text": [
            "INFO:NEURONIOUtils:PGN node_id\t  Hz\n"
          ]
        },
        {
          "output_type": "stream",
          "name": "stdout",
          "text": [
            "2023-04-23 19:58:07,354 [INFO] 70\t\t4.0\n"
          ]
        },
        {
          "output_type": "stream",
          "name": "stderr",
          "text": [
            "INFO:NEURONIOUtils:70\t\t4.0\n"
          ]
        },
        {
          "output_type": "stream",
          "name": "stdout",
          "text": [
            "2023-04-23 19:58:07,357 [INFO] 71\t\t4.0\n"
          ]
        },
        {
          "output_type": "stream",
          "name": "stderr",
          "text": [
            "INFO:NEURONIOUtils:71\t\t4.0\n"
          ]
        },
        {
          "output_type": "stream",
          "name": "stdout",
          "text": [
            "2023-04-23 19:58:07,359 [INFO] 72\t\t4.0\n"
          ]
        },
        {
          "output_type": "stream",
          "name": "stderr",
          "text": [
            "INFO:NEURONIOUtils:72\t\t4.0\n"
          ]
        },
        {
          "output_type": "stream",
          "name": "stdout",
          "text": [
            "2023-04-23 19:58:07,361 [INFO] 73\t\t4.0\n"
          ]
        },
        {
          "output_type": "stream",
          "name": "stderr",
          "text": [
            "INFO:NEURONIOUtils:73\t\t4.0\n"
          ]
        },
        {
          "output_type": "stream",
          "name": "stdout",
          "text": [
            "2023-04-23 19:58:07,367 [INFO] 74\t\t4.0\n"
          ]
        },
        {
          "output_type": "stream",
          "name": "stderr",
          "text": [
            "INFO:NEURONIOUtils:74\t\t4.0\n"
          ]
        },
        {
          "output_type": "stream",
          "name": "stdout",
          "text": [
            "2023-04-23 19:58:07,369 [INFO] 75\t\t4.0\n"
          ]
        },
        {
          "output_type": "stream",
          "name": "stderr",
          "text": [
            "INFO:NEURONIOUtils:75\t\t4.0\n"
          ]
        },
        {
          "output_type": "stream",
          "name": "stdout",
          "text": [
            "2023-04-23 19:58:07,371 [INFO] 76\t\t4.0\n"
          ]
        },
        {
          "output_type": "stream",
          "name": "stderr",
          "text": [
            "INFO:NEURONIOUtils:76\t\t4.0\n"
          ]
        },
        {
          "output_type": "stream",
          "name": "stdout",
          "text": [
            "2023-04-23 19:58:07,376 [INFO] 77\t\t4.0\n"
          ]
        },
        {
          "output_type": "stream",
          "name": "stderr",
          "text": [
            "INFO:NEURONIOUtils:77\t\t4.0\n"
          ]
        },
        {
          "output_type": "stream",
          "name": "stdout",
          "text": [
            "2023-04-23 19:58:07,378 [INFO] 78\t\t4.0\n"
          ]
        },
        {
          "output_type": "stream",
          "name": "stderr",
          "text": [
            "INFO:NEURONIOUtils:78\t\t4.0\n"
          ]
        },
        {
          "output_type": "stream",
          "name": "stdout",
          "text": [
            "2023-04-23 19:58:07,380 [INFO] 79\t\t4.0\n"
          ]
        },
        {
          "output_type": "stream",
          "name": "stderr",
          "text": [
            "INFO:NEURONIOUtils:79\t\t4.0\n"
          ]
        },
        {
          "output_type": "stream",
          "name": "stdout",
          "text": [
            "2023-04-23 19:58:07,382 [INFO] PGN firing rate avg: 4.0 Hz\n"
          ]
        },
        {
          "output_type": "stream",
          "name": "stderr",
          "text": [
            "INFO:NEURONIOUtils:PGN firing rate avg: 4.0 Hz\n"
          ]
        },
        {
          "output_type": "stream",
          "name": "stdout",
          "text": [
            "2023-04-23 19:58:07,387 [INFO] Grill PGN fr = 6.3 Hz\n"
          ]
        },
        {
          "output_type": "stream",
          "name": "stderr",
          "text": [
            "INFO:NEURONIOUtils:Grill PGN fr = 6.3 Hz\n"
          ]
        },
        {
          "output_type": "stream",
          "name": "stdout",
          "text": [
            "2023-04-23 19:58:07,390 [INFO] IMG node_gid\t  Hz\n"
          ]
        },
        {
          "output_type": "stream",
          "name": "stderr",
          "text": [
            "INFO:NEURONIOUtils:IMG node_gid\t  Hz\n"
          ]
        },
        {
          "output_type": "stream",
          "name": "stdout",
          "text": [
            "2023-04-23 19:58:07,392 [INFO] 90\t\t0.0\n"
          ]
        },
        {
          "output_type": "stream",
          "name": "stderr",
          "text": [
            "INFO:NEURONIOUtils:90\t\t0.0\n"
          ]
        },
        {
          "output_type": "stream",
          "name": "stdout",
          "text": [
            "2023-04-23 19:58:07,395 [INFO] 91\t\t1.0\n"
          ]
        },
        {
          "output_type": "stream",
          "name": "stderr",
          "text": [
            "INFO:NEURONIOUtils:91\t\t1.0\n"
          ]
        },
        {
          "output_type": "stream",
          "name": "stdout",
          "text": [
            "2023-04-23 19:58:07,396 [INFO] 92\t\t0.0\n"
          ]
        },
        {
          "output_type": "stream",
          "name": "stderr",
          "text": [
            "INFO:NEURONIOUtils:92\t\t0.0\n"
          ]
        },
        {
          "output_type": "stream",
          "name": "stdout",
          "text": [
            "2023-04-23 19:58:07,398 [INFO] 93\t\t1.0\n"
          ]
        },
        {
          "output_type": "stream",
          "name": "stderr",
          "text": [
            "INFO:NEURONIOUtils:93\t\t1.0\n"
          ]
        },
        {
          "output_type": "stream",
          "name": "stdout",
          "text": [
            "2023-04-23 19:58:07,400 [INFO] 94\t\t1.0\n"
          ]
        },
        {
          "output_type": "stream",
          "name": "stderr",
          "text": [
            "INFO:NEURONIOUtils:94\t\t1.0\n"
          ]
        },
        {
          "output_type": "stream",
          "name": "stdout",
          "text": [
            "2023-04-23 19:58:07,402 [INFO] 95\t\t0.0\n"
          ]
        },
        {
          "output_type": "stream",
          "name": "stderr",
          "text": [
            "INFO:NEURONIOUtils:95\t\t0.0\n"
          ]
        },
        {
          "output_type": "stream",
          "name": "stdout",
          "text": [
            "2023-04-23 19:58:07,406 [INFO] 96\t\t0.0\n"
          ]
        },
        {
          "output_type": "stream",
          "name": "stderr",
          "text": [
            "INFO:NEURONIOUtils:96\t\t0.0\n"
          ]
        },
        {
          "output_type": "stream",
          "name": "stdout",
          "text": [
            "2023-04-23 19:58:07,409 [INFO] 97\t\t1.0\n"
          ]
        },
        {
          "output_type": "stream",
          "name": "stderr",
          "text": [
            "INFO:NEURONIOUtils:97\t\t1.0\n"
          ]
        },
        {
          "output_type": "stream",
          "name": "stdout",
          "text": [
            "2023-04-23 19:58:07,412 [INFO] 98\t\t1.0\n"
          ]
        },
        {
          "output_type": "stream",
          "name": "stderr",
          "text": [
            "INFO:NEURONIOUtils:98\t\t1.0\n"
          ]
        },
        {
          "output_type": "stream",
          "name": "stdout",
          "text": [
            "2023-04-23 19:58:07,415 [INFO] 99\t\t1.0\n"
          ]
        },
        {
          "output_type": "stream",
          "name": "stderr",
          "text": [
            "INFO:NEURONIOUtils:99\t\t1.0\n"
          ]
        },
        {
          "output_type": "stream",
          "name": "stdout",
          "text": [
            "2023-04-23 19:58:07,417 [INFO] IMG firing rate avg: 4.0 Hz\n"
          ]
        },
        {
          "output_type": "stream",
          "name": "stderr",
          "text": [
            "INFO:NEURONIOUtils:IMG firing rate avg: 4.0 Hz\n"
          ]
        },
        {
          "output_type": "stream",
          "name": "stdout",
          "text": [
            "2023-04-23 19:58:07,426 [INFO] Volume = 0.6125 ml\n"
          ]
        },
        {
          "output_type": "stream",
          "name": "stderr",
          "text": [
            "/usr/local/lib/python3.9/dist-packages/bmtk/utils/reports/spike_trains/spike_trains.py:183: RuntimeWarning: divide by zero encountered in double_scalars\n",
            "  interval = -np.log(1.0 - np.random.uniform()) / fr\n",
            "INFO:NEURONIOUtils:Volume = 0.6125 ml\n"
          ]
        },
        {
          "output_type": "stream",
          "name": "stdout",
          "text": [
            "2023-04-23 19:58:07,435 [INFO] Pressure = 2.52 mmHg\n"
          ]
        },
        {
          "output_type": "stream",
          "name": "stderr",
          "text": [
            "INFO:NEURONIOUtils:Pressure = 2.52 mmHg\n"
          ]
        },
        {
          "output_type": "stream",
          "name": "stdout",
          "text": [
            "2023-04-23 19:58:07,437 [INFO] Calculated bladder afferent firing rate for the next time step = 0.00 Hz \n",
            " \n",
            "\n"
          ]
        },
        {
          "output_type": "stream",
          "name": "stderr",
          "text": [
            "INFO:NEURONIOUtils:Calculated bladder afferent firing rate for the next time step = 0.00 Hz \n",
            " \n",
            "\n"
          ]
        },
        {
          "output_type": "stream",
          "name": "stdout",
          "text": [
            "2023-04-23 19:58:10,380 [INFO]     step:115000 t_sim:23000.00 ms\n"
          ]
        },
        {
          "output_type": "stream",
          "name": "stderr",
          "text": [
            "INFO:NEURONIOUtils:    step:115000 t_sim:23000.00 ms\n"
          ]
        },
        {
          "output_type": "stream",
          "name": "stdout",
          "text": [
            "2023-04-23 19:58:10,402 [INFO] Timestep 22000.0 to 23000.0 ms\n"
          ]
        },
        {
          "output_type": "stream",
          "name": "stderr",
          "text": [
            "INFO:NEURONIOUtils:Timestep 22000.0 to 23000.0 ms\n"
          ]
        },
        {
          "output_type": "stream",
          "name": "stdout",
          "text": [
            "2023-04-23 19:58:10,407 [INFO] PGN node_id\t  Hz\n"
          ]
        },
        {
          "output_type": "stream",
          "name": "stderr",
          "text": [
            "INFO:NEURONIOUtils:PGN node_id\t  Hz\n"
          ]
        },
        {
          "output_type": "stream",
          "name": "stdout",
          "text": [
            "2023-04-23 19:58:10,410 [INFO] 70\t\t2.0\n"
          ]
        },
        {
          "output_type": "stream",
          "name": "stderr",
          "text": [
            "INFO:NEURONIOUtils:70\t\t2.0\n"
          ]
        },
        {
          "output_type": "stream",
          "name": "stdout",
          "text": [
            "2023-04-23 19:58:10,412 [INFO] 71\t\t2.0\n"
          ]
        },
        {
          "output_type": "stream",
          "name": "stderr",
          "text": [
            "INFO:NEURONIOUtils:71\t\t2.0\n"
          ]
        },
        {
          "output_type": "stream",
          "name": "stdout",
          "text": [
            "2023-04-23 19:58:10,417 [INFO] 72\t\t2.0\n"
          ]
        },
        {
          "output_type": "stream",
          "name": "stderr",
          "text": [
            "INFO:NEURONIOUtils:72\t\t2.0\n"
          ]
        },
        {
          "output_type": "stream",
          "name": "stdout",
          "text": [
            "2023-04-23 19:58:10,419 [INFO] 73\t\t2.0\n"
          ]
        },
        {
          "output_type": "stream",
          "name": "stderr",
          "text": [
            "INFO:NEURONIOUtils:73\t\t2.0\n"
          ]
        },
        {
          "output_type": "stream",
          "name": "stdout",
          "text": [
            "2023-04-23 19:58:10,427 [INFO] 74\t\t2.0\n"
          ]
        },
        {
          "output_type": "stream",
          "name": "stderr",
          "text": [
            "INFO:NEURONIOUtils:74\t\t2.0\n"
          ]
        },
        {
          "output_type": "stream",
          "name": "stdout",
          "text": [
            "2023-04-23 19:58:10,430 [INFO] 75\t\t2.0\n"
          ]
        },
        {
          "output_type": "stream",
          "name": "stderr",
          "text": [
            "INFO:NEURONIOUtils:75\t\t2.0\n"
          ]
        },
        {
          "output_type": "stream",
          "name": "stdout",
          "text": [
            "2023-04-23 19:58:10,432 [INFO] 76\t\t2.0\n"
          ]
        },
        {
          "output_type": "stream",
          "name": "stderr",
          "text": [
            "INFO:NEURONIOUtils:76\t\t2.0\n"
          ]
        },
        {
          "output_type": "stream",
          "name": "stdout",
          "text": [
            "2023-04-23 19:58:10,437 [INFO] 77\t\t2.0\n"
          ]
        },
        {
          "output_type": "stream",
          "name": "stderr",
          "text": [
            "INFO:NEURONIOUtils:77\t\t2.0\n"
          ]
        },
        {
          "output_type": "stream",
          "name": "stdout",
          "text": [
            "2023-04-23 19:58:10,440 [INFO] 78\t\t2.0\n"
          ]
        },
        {
          "output_type": "stream",
          "name": "stderr",
          "text": [
            "INFO:NEURONIOUtils:78\t\t2.0\n"
          ]
        },
        {
          "output_type": "stream",
          "name": "stdout",
          "text": [
            "2023-04-23 19:58:10,442 [INFO] 79\t\t2.0\n"
          ]
        },
        {
          "output_type": "stream",
          "name": "stderr",
          "text": [
            "INFO:NEURONIOUtils:79\t\t2.0\n"
          ]
        },
        {
          "output_type": "stream",
          "name": "stdout",
          "text": [
            "2023-04-23 19:58:10,447 [INFO] PGN firing rate avg: 2.0 Hz\n"
          ]
        },
        {
          "output_type": "stream",
          "name": "stderr",
          "text": [
            "INFO:NEURONIOUtils:PGN firing rate avg: 2.0 Hz\n"
          ]
        },
        {
          "output_type": "stream",
          "name": "stdout",
          "text": [
            "2023-04-23 19:58:10,449 [INFO] Grill PGN fr = 2.984 Hz\n"
          ]
        },
        {
          "output_type": "stream",
          "name": "stderr",
          "text": [
            "INFO:NEURONIOUtils:Grill PGN fr = 2.984 Hz\n"
          ]
        },
        {
          "output_type": "stream",
          "name": "stdout",
          "text": [
            "2023-04-23 19:58:10,451 [INFO] IMG node_gid\t  Hz\n"
          ]
        },
        {
          "output_type": "stream",
          "name": "stderr",
          "text": [
            "INFO:NEURONIOUtils:IMG node_gid\t  Hz\n"
          ]
        },
        {
          "output_type": "stream",
          "name": "stdout",
          "text": [
            "2023-04-23 19:58:10,455 [INFO] 90\t\t0.0\n"
          ]
        },
        {
          "output_type": "stream",
          "name": "stderr",
          "text": [
            "INFO:NEURONIOUtils:90\t\t0.0\n"
          ]
        },
        {
          "output_type": "stream",
          "name": "stdout",
          "text": [
            "2023-04-23 19:58:10,457 [INFO] 91\t\t0.0\n"
          ]
        },
        {
          "output_type": "stream",
          "name": "stderr",
          "text": [
            "INFO:NEURONIOUtils:91\t\t0.0\n"
          ]
        },
        {
          "output_type": "stream",
          "name": "stdout",
          "text": [
            "2023-04-23 19:58:10,462 [INFO] 92\t\t0.0\n"
          ]
        },
        {
          "output_type": "stream",
          "name": "stderr",
          "text": [
            "INFO:NEURONIOUtils:92\t\t0.0\n"
          ]
        },
        {
          "output_type": "stream",
          "name": "stdout",
          "text": [
            "2023-04-23 19:58:10,465 [INFO] 93\t\t0.0\n"
          ]
        },
        {
          "output_type": "stream",
          "name": "stderr",
          "text": [
            "INFO:NEURONIOUtils:93\t\t0.0\n"
          ]
        },
        {
          "output_type": "stream",
          "name": "stdout",
          "text": [
            "2023-04-23 19:58:10,467 [INFO] 94\t\t0.0\n"
          ]
        },
        {
          "output_type": "stream",
          "name": "stderr",
          "text": [
            "INFO:NEURONIOUtils:94\t\t0.0\n"
          ]
        },
        {
          "output_type": "stream",
          "name": "stdout",
          "text": [
            "2023-04-23 19:58:10,473 [INFO] 95\t\t0.0\n"
          ]
        },
        {
          "output_type": "stream",
          "name": "stderr",
          "text": [
            "INFO:NEURONIOUtils:95\t\t0.0\n"
          ]
        },
        {
          "output_type": "stream",
          "name": "stdout",
          "text": [
            "2023-04-23 19:58:10,477 [INFO] 96\t\t0.0\n"
          ]
        },
        {
          "output_type": "stream",
          "name": "stderr",
          "text": [
            "INFO:NEURONIOUtils:96\t\t0.0\n"
          ]
        },
        {
          "output_type": "stream",
          "name": "stdout",
          "text": [
            "2023-04-23 19:58:10,480 [INFO] 97\t\t0.0\n"
          ]
        },
        {
          "output_type": "stream",
          "name": "stderr",
          "text": [
            "INFO:NEURONIOUtils:97\t\t0.0\n"
          ]
        },
        {
          "output_type": "stream",
          "name": "stdout",
          "text": [
            "2023-04-23 19:58:10,487 [INFO] 98\t\t0.0\n"
          ]
        },
        {
          "output_type": "stream",
          "name": "stderr",
          "text": [
            "INFO:NEURONIOUtils:98\t\t0.0\n"
          ]
        },
        {
          "output_type": "stream",
          "name": "stdout",
          "text": [
            "2023-04-23 19:58:10,497 [INFO] 99\t\t0.0\n"
          ]
        },
        {
          "output_type": "stream",
          "name": "stderr",
          "text": [
            "INFO:NEURONIOUtils:99\t\t0.0\n"
          ]
        },
        {
          "output_type": "stream",
          "name": "stdout",
          "text": [
            "2023-04-23 19:58:10,501 [INFO] IMG firing rate avg: 2.0 Hz\n"
          ]
        },
        {
          "output_type": "stream",
          "name": "stderr",
          "text": [
            "INFO:NEURONIOUtils:IMG firing rate avg: 2.0 Hz\n"
          ]
        },
        {
          "output_type": "stream",
          "name": "stdout",
          "text": [
            "2023-04-23 19:58:10,550 [INFO] Volume = 0.6417 ml\n"
          ]
        },
        {
          "output_type": "stream",
          "name": "stderr",
          "text": [
            "/usr/local/lib/python3.9/dist-packages/bmtk/utils/reports/spike_trains/spike_trains.py:183: RuntimeWarning: divide by zero encountered in double_scalars\n",
            "  interval = -np.log(1.0 - np.random.uniform()) / fr\n",
            "INFO:NEURONIOUtils:Volume = 0.6417 ml\n"
          ]
        },
        {
          "output_type": "stream",
          "name": "stdout",
          "text": [
            "2023-04-23 19:58:10,553 [INFO] Pressure = 1.34 mmHg\n"
          ]
        },
        {
          "output_type": "stream",
          "name": "stderr",
          "text": [
            "INFO:NEURONIOUtils:Pressure = 1.34 mmHg\n"
          ]
        },
        {
          "output_type": "stream",
          "name": "stdout",
          "text": [
            "2023-04-23 19:58:10,555 [INFO] Calculated bladder afferent firing rate for the next time step = 0.00 Hz \n",
            " \n",
            "\n"
          ]
        },
        {
          "output_type": "stream",
          "name": "stderr",
          "text": [
            "INFO:NEURONIOUtils:Calculated bladder afferent firing rate for the next time step = 0.00 Hz \n",
            " \n",
            "\n"
          ]
        },
        {
          "output_type": "stream",
          "name": "stdout",
          "text": [
            "2023-04-23 19:58:13,230 [INFO]     step:120000 t_sim:24000.00 ms\n"
          ]
        },
        {
          "output_type": "stream",
          "name": "stderr",
          "text": [
            "INFO:NEURONIOUtils:    step:120000 t_sim:24000.00 ms\n"
          ]
        },
        {
          "output_type": "stream",
          "name": "stdout",
          "text": [
            "2023-04-23 19:58:13,252 [INFO] Timestep 23000.0 to 24000.0 ms\n"
          ]
        },
        {
          "output_type": "stream",
          "name": "stderr",
          "text": [
            "INFO:NEURONIOUtils:Timestep 23000.0 to 24000.0 ms\n"
          ]
        },
        {
          "output_type": "stream",
          "name": "stdout",
          "text": [
            "2023-04-23 19:58:13,260 [INFO] PGN node_id\t  Hz\n"
          ]
        },
        {
          "output_type": "stream",
          "name": "stderr",
          "text": [
            "INFO:NEURONIOUtils:PGN node_id\t  Hz\n"
          ]
        },
        {
          "output_type": "stream",
          "name": "stdout",
          "text": [
            "2023-04-23 19:58:13,266 [INFO] 70\t\t4.0\n"
          ]
        },
        {
          "output_type": "stream",
          "name": "stderr",
          "text": [
            "INFO:NEURONIOUtils:70\t\t4.0\n"
          ]
        },
        {
          "output_type": "stream",
          "name": "stdout",
          "text": [
            "2023-04-23 19:58:13,272 [INFO] 71\t\t4.0\n"
          ]
        },
        {
          "output_type": "stream",
          "name": "stderr",
          "text": [
            "INFO:NEURONIOUtils:71\t\t4.0\n"
          ]
        },
        {
          "output_type": "stream",
          "name": "stdout",
          "text": [
            "2023-04-23 19:58:13,274 [INFO] 72\t\t4.0\n"
          ]
        },
        {
          "output_type": "stream",
          "name": "stderr",
          "text": [
            "INFO:NEURONIOUtils:72\t\t4.0\n"
          ]
        },
        {
          "output_type": "stream",
          "name": "stdout",
          "text": [
            "2023-04-23 19:58:13,276 [INFO] 73\t\t4.0\n"
          ]
        },
        {
          "output_type": "stream",
          "name": "stderr",
          "text": [
            "INFO:NEURONIOUtils:73\t\t4.0\n"
          ]
        },
        {
          "output_type": "stream",
          "name": "stdout",
          "text": [
            "2023-04-23 19:58:13,281 [INFO] 74\t\t4.0\n"
          ]
        },
        {
          "output_type": "stream",
          "name": "stderr",
          "text": [
            "INFO:NEURONIOUtils:74\t\t4.0\n"
          ]
        },
        {
          "output_type": "stream",
          "name": "stdout",
          "text": [
            "2023-04-23 19:58:13,283 [INFO] 75\t\t4.0\n"
          ]
        },
        {
          "output_type": "stream",
          "name": "stderr",
          "text": [
            "INFO:NEURONIOUtils:75\t\t4.0\n"
          ]
        },
        {
          "output_type": "stream",
          "name": "stdout",
          "text": [
            "2023-04-23 19:58:13,291 [INFO] 76\t\t4.0\n"
          ]
        },
        {
          "output_type": "stream",
          "name": "stderr",
          "text": [
            "INFO:NEURONIOUtils:76\t\t4.0\n"
          ]
        },
        {
          "output_type": "stream",
          "name": "stdout",
          "text": [
            "2023-04-23 19:58:13,293 [INFO] 77\t\t4.0\n"
          ]
        },
        {
          "output_type": "stream",
          "name": "stderr",
          "text": [
            "INFO:NEURONIOUtils:77\t\t4.0\n"
          ]
        },
        {
          "output_type": "stream",
          "name": "stdout",
          "text": [
            "2023-04-23 19:58:13,295 [INFO] 78\t\t4.0\n"
          ]
        },
        {
          "output_type": "stream",
          "name": "stderr",
          "text": [
            "INFO:NEURONIOUtils:78\t\t4.0\n"
          ]
        },
        {
          "output_type": "stream",
          "name": "stdout",
          "text": [
            "2023-04-23 19:58:13,297 [INFO] 79\t\t4.0\n"
          ]
        },
        {
          "output_type": "stream",
          "name": "stderr",
          "text": [
            "INFO:NEURONIOUtils:79\t\t4.0\n"
          ]
        },
        {
          "output_type": "stream",
          "name": "stdout",
          "text": [
            "2023-04-23 19:58:13,299 [INFO] PGN firing rate avg: 4.0 Hz\n"
          ]
        },
        {
          "output_type": "stream",
          "name": "stderr",
          "text": [
            "INFO:NEURONIOUtils:PGN firing rate avg: 4.0 Hz\n"
          ]
        },
        {
          "output_type": "stream",
          "name": "stdout",
          "text": [
            "2023-04-23 19:58:13,300 [INFO] Grill PGN fr = 6.3 Hz\n"
          ]
        },
        {
          "output_type": "stream",
          "name": "stderr",
          "text": [
            "INFO:NEURONIOUtils:Grill PGN fr = 6.3 Hz\n"
          ]
        },
        {
          "output_type": "stream",
          "name": "stdout",
          "text": [
            "2023-04-23 19:58:13,302 [INFO] IMG node_gid\t  Hz\n"
          ]
        },
        {
          "output_type": "stream",
          "name": "stderr",
          "text": [
            "INFO:NEURONIOUtils:IMG node_gid\t  Hz\n"
          ]
        },
        {
          "output_type": "stream",
          "name": "stdout",
          "text": [
            "2023-04-23 19:58:13,304 [INFO] 90\t\t0.0\n"
          ]
        },
        {
          "output_type": "stream",
          "name": "stderr",
          "text": [
            "INFO:NEURONIOUtils:90\t\t0.0\n"
          ]
        },
        {
          "output_type": "stream",
          "name": "stdout",
          "text": [
            "2023-04-23 19:58:13,306 [INFO] 91\t\t1.0\n"
          ]
        },
        {
          "output_type": "stream",
          "name": "stderr",
          "text": [
            "INFO:NEURONIOUtils:91\t\t1.0\n"
          ]
        },
        {
          "output_type": "stream",
          "name": "stdout",
          "text": [
            "2023-04-23 19:58:13,308 [INFO] 92\t\t0.0\n"
          ]
        },
        {
          "output_type": "stream",
          "name": "stderr",
          "text": [
            "INFO:NEURONIOUtils:92\t\t0.0\n"
          ]
        },
        {
          "output_type": "stream",
          "name": "stdout",
          "text": [
            "2023-04-23 19:58:13,310 [INFO] 93\t\t1.0\n"
          ]
        },
        {
          "output_type": "stream",
          "name": "stderr",
          "text": [
            "INFO:NEURONIOUtils:93\t\t1.0\n"
          ]
        },
        {
          "output_type": "stream",
          "name": "stdout",
          "text": [
            "2023-04-23 19:58:13,312 [INFO] 94\t\t1.0\n"
          ]
        },
        {
          "output_type": "stream",
          "name": "stderr",
          "text": [
            "INFO:NEURONIOUtils:94\t\t1.0\n"
          ]
        },
        {
          "output_type": "stream",
          "name": "stdout",
          "text": [
            "2023-04-23 19:58:13,314 [INFO] 95\t\t0.0\n"
          ]
        },
        {
          "output_type": "stream",
          "name": "stderr",
          "text": [
            "INFO:NEURONIOUtils:95\t\t0.0\n"
          ]
        },
        {
          "output_type": "stream",
          "name": "stdout",
          "text": [
            "2023-04-23 19:58:13,316 [INFO] 96\t\t0.0\n"
          ]
        },
        {
          "output_type": "stream",
          "name": "stderr",
          "text": [
            "INFO:NEURONIOUtils:96\t\t0.0\n"
          ]
        },
        {
          "output_type": "stream",
          "name": "stdout",
          "text": [
            "2023-04-23 19:58:13,318 [INFO] 97\t\t1.0\n"
          ]
        },
        {
          "output_type": "stream",
          "name": "stderr",
          "text": [
            "INFO:NEURONIOUtils:97\t\t1.0\n"
          ]
        },
        {
          "output_type": "stream",
          "name": "stdout",
          "text": [
            "2023-04-23 19:58:13,320 [INFO] 98\t\t1.0\n"
          ]
        },
        {
          "output_type": "stream",
          "name": "stderr",
          "text": [
            "INFO:NEURONIOUtils:98\t\t1.0\n"
          ]
        },
        {
          "output_type": "stream",
          "name": "stdout",
          "text": [
            "2023-04-23 19:58:13,322 [INFO] 99\t\t1.0\n"
          ]
        },
        {
          "output_type": "stream",
          "name": "stderr",
          "text": [
            "INFO:NEURONIOUtils:99\t\t1.0\n"
          ]
        },
        {
          "output_type": "stream",
          "name": "stdout",
          "text": [
            "2023-04-23 19:58:13,324 [INFO] IMG firing rate avg: 4.0 Hz\n"
          ]
        },
        {
          "output_type": "stream",
          "name": "stderr",
          "text": [
            "INFO:NEURONIOUtils:IMG firing rate avg: 4.0 Hz\n"
          ]
        },
        {
          "output_type": "stream",
          "name": "stdout",
          "text": [
            "2023-04-23 19:58:13,335 [INFO] Volume = 0.6708 ml\n"
          ]
        },
        {
          "output_type": "stream",
          "name": "stderr",
          "text": [
            "/usr/local/lib/python3.9/dist-packages/bmtk/utils/reports/spike_trains/spike_trains.py:183: RuntimeWarning: divide by zero encountered in double_scalars\n",
            "  interval = -np.log(1.0 - np.random.uniform()) / fr\n",
            "INFO:NEURONIOUtils:Volume = 0.6708 ml\n"
          ]
        },
        {
          "output_type": "stream",
          "name": "stdout",
          "text": [
            "2023-04-23 19:58:13,338 [INFO] Pressure = 2.97 mmHg\n"
          ]
        },
        {
          "output_type": "stream",
          "name": "stderr",
          "text": [
            "INFO:NEURONIOUtils:Pressure = 2.97 mmHg\n"
          ]
        },
        {
          "output_type": "stream",
          "name": "stdout",
          "text": [
            "2023-04-23 19:58:13,340 [INFO] Calculated bladder afferent firing rate for the next time step = 0.00 Hz \n",
            " \n",
            "\n"
          ]
        },
        {
          "output_type": "stream",
          "name": "stderr",
          "text": [
            "INFO:NEURONIOUtils:Calculated bladder afferent firing rate for the next time step = 0.00 Hz \n",
            " \n",
            "\n"
          ]
        },
        {
          "output_type": "stream",
          "name": "stdout",
          "text": [
            "2023-04-23 19:58:16,281 [INFO]     step:125000 t_sim:25000.00 ms\n"
          ]
        },
        {
          "output_type": "stream",
          "name": "stderr",
          "text": [
            "INFO:NEURONIOUtils:    step:125000 t_sim:25000.00 ms\n"
          ]
        },
        {
          "output_type": "stream",
          "name": "stdout",
          "text": [
            "2023-04-23 19:58:16,299 [INFO] Timestep 24000.0 to 25000.0 ms\n"
          ]
        },
        {
          "output_type": "stream",
          "name": "stderr",
          "text": [
            "INFO:NEURONIOUtils:Timestep 24000.0 to 25000.0 ms\n"
          ]
        },
        {
          "output_type": "stream",
          "name": "stdout",
          "text": [
            "2023-04-23 19:58:16,304 [INFO] PGN node_id\t  Hz\n"
          ]
        },
        {
          "output_type": "stream",
          "name": "stderr",
          "text": [
            "INFO:NEURONIOUtils:PGN node_id\t  Hz\n"
          ]
        },
        {
          "output_type": "stream",
          "name": "stdout",
          "text": [
            "2023-04-23 19:58:16,307 [INFO] 70\t\t2.0\n"
          ]
        },
        {
          "output_type": "stream",
          "name": "stderr",
          "text": [
            "INFO:NEURONIOUtils:70\t\t2.0\n"
          ]
        },
        {
          "output_type": "stream",
          "name": "stdout",
          "text": [
            "2023-04-23 19:58:16,311 [INFO] 71\t\t2.0\n"
          ]
        },
        {
          "output_type": "stream",
          "name": "stderr",
          "text": [
            "INFO:NEURONIOUtils:71\t\t2.0\n"
          ]
        },
        {
          "output_type": "stream",
          "name": "stdout",
          "text": [
            "2023-04-23 19:58:16,313 [INFO] 72\t\t2.0\n"
          ]
        },
        {
          "output_type": "stream",
          "name": "stderr",
          "text": [
            "INFO:NEURONIOUtils:72\t\t2.0\n"
          ]
        },
        {
          "output_type": "stream",
          "name": "stdout",
          "text": [
            "2023-04-23 19:58:16,315 [INFO] 73\t\t2.0\n"
          ]
        },
        {
          "output_type": "stream",
          "name": "stderr",
          "text": [
            "INFO:NEURONIOUtils:73\t\t2.0\n"
          ]
        },
        {
          "output_type": "stream",
          "name": "stdout",
          "text": [
            "2023-04-23 19:58:16,317 [INFO] 74\t\t2.0\n"
          ]
        },
        {
          "output_type": "stream",
          "name": "stderr",
          "text": [
            "INFO:NEURONIOUtils:74\t\t2.0\n"
          ]
        },
        {
          "output_type": "stream",
          "name": "stdout",
          "text": [
            "2023-04-23 19:58:16,320 [INFO] 75\t\t2.0\n"
          ]
        },
        {
          "output_type": "stream",
          "name": "stderr",
          "text": [
            "INFO:NEURONIOUtils:75\t\t2.0\n"
          ]
        },
        {
          "output_type": "stream",
          "name": "stdout",
          "text": [
            "2023-04-23 19:58:16,322 [INFO] 76\t\t2.0\n"
          ]
        },
        {
          "output_type": "stream",
          "name": "stderr",
          "text": [
            "INFO:NEURONIOUtils:76\t\t2.0\n"
          ]
        },
        {
          "output_type": "stream",
          "name": "stdout",
          "text": [
            "2023-04-23 19:58:16,324 [INFO] 77\t\t2.0\n"
          ]
        },
        {
          "output_type": "stream",
          "name": "stderr",
          "text": [
            "INFO:NEURONIOUtils:77\t\t2.0\n"
          ]
        },
        {
          "output_type": "stream",
          "name": "stdout",
          "text": [
            "2023-04-23 19:58:16,325 [INFO] 78\t\t2.0\n"
          ]
        },
        {
          "output_type": "stream",
          "name": "stderr",
          "text": [
            "INFO:NEURONIOUtils:78\t\t2.0\n"
          ]
        },
        {
          "output_type": "stream",
          "name": "stdout",
          "text": [
            "2023-04-23 19:58:16,328 [INFO] 79\t\t2.0\n"
          ]
        },
        {
          "output_type": "stream",
          "name": "stderr",
          "text": [
            "INFO:NEURONIOUtils:79\t\t2.0\n"
          ]
        },
        {
          "output_type": "stream",
          "name": "stdout",
          "text": [
            "2023-04-23 19:58:16,329 [INFO] PGN firing rate avg: 2.0 Hz\n"
          ]
        },
        {
          "output_type": "stream",
          "name": "stderr",
          "text": [
            "INFO:NEURONIOUtils:PGN firing rate avg: 2.0 Hz\n"
          ]
        },
        {
          "output_type": "stream",
          "name": "stdout",
          "text": [
            "2023-04-23 19:58:16,331 [INFO] Grill PGN fr = 2.984 Hz\n"
          ]
        },
        {
          "output_type": "stream",
          "name": "stderr",
          "text": [
            "INFO:NEURONIOUtils:Grill PGN fr = 2.984 Hz\n"
          ]
        },
        {
          "output_type": "stream",
          "name": "stdout",
          "text": [
            "2023-04-23 19:58:16,333 [INFO] IMG node_gid\t  Hz\n"
          ]
        },
        {
          "output_type": "stream",
          "name": "stderr",
          "text": [
            "INFO:NEURONIOUtils:IMG node_gid\t  Hz\n"
          ]
        },
        {
          "output_type": "stream",
          "name": "stdout",
          "text": [
            "2023-04-23 19:58:16,336 [INFO] 90\t\t0.0\n"
          ]
        },
        {
          "output_type": "stream",
          "name": "stderr",
          "text": [
            "INFO:NEURONIOUtils:90\t\t0.0\n"
          ]
        },
        {
          "output_type": "stream",
          "name": "stdout",
          "text": [
            "2023-04-23 19:58:16,338 [INFO] 91\t\t1.0\n"
          ]
        },
        {
          "output_type": "stream",
          "name": "stderr",
          "text": [
            "INFO:NEURONIOUtils:91\t\t1.0\n"
          ]
        },
        {
          "output_type": "stream",
          "name": "stdout",
          "text": [
            "2023-04-23 19:58:16,340 [INFO] 92\t\t0.0\n"
          ]
        },
        {
          "output_type": "stream",
          "name": "stderr",
          "text": [
            "INFO:NEURONIOUtils:92\t\t0.0\n"
          ]
        },
        {
          "output_type": "stream",
          "name": "stdout",
          "text": [
            "2023-04-23 19:58:16,342 [INFO] 93\t\t1.0\n"
          ]
        },
        {
          "output_type": "stream",
          "name": "stderr",
          "text": [
            "INFO:NEURONIOUtils:93\t\t1.0\n"
          ]
        },
        {
          "output_type": "stream",
          "name": "stdout",
          "text": [
            "2023-04-23 19:58:16,344 [INFO] 94\t\t1.0\n"
          ]
        },
        {
          "output_type": "stream",
          "name": "stderr",
          "text": [
            "INFO:NEURONIOUtils:94\t\t1.0\n"
          ]
        },
        {
          "output_type": "stream",
          "name": "stdout",
          "text": [
            "2023-04-23 19:58:16,347 [INFO] 95\t\t0.0\n"
          ]
        },
        {
          "output_type": "stream",
          "name": "stderr",
          "text": [
            "INFO:NEURONIOUtils:95\t\t0.0\n"
          ]
        },
        {
          "output_type": "stream",
          "name": "stdout",
          "text": [
            "2023-04-23 19:58:16,349 [INFO] 96\t\t0.0\n"
          ]
        },
        {
          "output_type": "stream",
          "name": "stderr",
          "text": [
            "INFO:NEURONIOUtils:96\t\t0.0\n"
          ]
        },
        {
          "output_type": "stream",
          "name": "stdout",
          "text": [
            "2023-04-23 19:58:16,351 [INFO] 97\t\t1.0\n"
          ]
        },
        {
          "output_type": "stream",
          "name": "stderr",
          "text": [
            "INFO:NEURONIOUtils:97\t\t1.0\n"
          ]
        },
        {
          "output_type": "stream",
          "name": "stdout",
          "text": [
            "2023-04-23 19:58:16,352 [INFO] 98\t\t1.0\n"
          ]
        },
        {
          "output_type": "stream",
          "name": "stderr",
          "text": [
            "INFO:NEURONIOUtils:98\t\t1.0\n"
          ]
        },
        {
          "output_type": "stream",
          "name": "stdout",
          "text": [
            "2023-04-23 19:58:16,355 [INFO] 99\t\t1.0\n"
          ]
        },
        {
          "output_type": "stream",
          "name": "stderr",
          "text": [
            "INFO:NEURONIOUtils:99\t\t1.0\n"
          ]
        },
        {
          "output_type": "stream",
          "name": "stdout",
          "text": [
            "2023-04-23 19:58:16,357 [INFO] IMG firing rate avg: 2.0 Hz\n"
          ]
        },
        {
          "output_type": "stream",
          "name": "stderr",
          "text": [
            "INFO:NEURONIOUtils:IMG firing rate avg: 2.0 Hz\n"
          ]
        },
        {
          "output_type": "stream",
          "name": "stdout",
          "text": [
            "2023-04-23 19:58:16,367 [INFO] Volume = 0.7000 ml\n"
          ]
        },
        {
          "output_type": "stream",
          "name": "stderr",
          "text": [
            "/usr/local/lib/python3.9/dist-packages/bmtk/utils/reports/spike_trains/spike_trains.py:183: RuntimeWarning: divide by zero encountered in double_scalars\n",
            "  interval = -np.log(1.0 - np.random.uniform()) / fr\n",
            "INFO:NEURONIOUtils:Volume = 0.7000 ml\n"
          ]
        },
        {
          "output_type": "stream",
          "name": "stdout",
          "text": [
            "2023-04-23 19:58:16,374 [INFO] Pressure = 1.48 mmHg\n"
          ]
        },
        {
          "output_type": "stream",
          "name": "stderr",
          "text": [
            "INFO:NEURONIOUtils:Pressure = 1.48 mmHg\n"
          ]
        },
        {
          "output_type": "stream",
          "name": "stdout",
          "text": [
            "2023-04-23 19:58:16,377 [INFO] Calculated bladder afferent firing rate for the next time step = 0.00 Hz \n",
            " \n",
            "\n"
          ]
        },
        {
          "output_type": "stream",
          "name": "stderr",
          "text": [
            "INFO:NEURONIOUtils:Calculated bladder afferent firing rate for the next time step = 0.00 Hz \n",
            " \n",
            "\n"
          ]
        },
        {
          "output_type": "stream",
          "name": "stdout",
          "text": [
            "2023-04-23 19:58:20,116 [INFO]     step:130000 t_sim:26000.00 ms\n"
          ]
        },
        {
          "output_type": "stream",
          "name": "stderr",
          "text": [
            "INFO:NEURONIOUtils:    step:130000 t_sim:26000.00 ms\n"
          ]
        },
        {
          "output_type": "stream",
          "name": "stdout",
          "text": [
            "2023-04-23 19:58:20,129 [INFO] Timestep 25000.0 to 26000.0 ms\n"
          ]
        },
        {
          "output_type": "stream",
          "name": "stderr",
          "text": [
            "INFO:NEURONIOUtils:Timestep 25000.0 to 26000.0 ms\n"
          ]
        },
        {
          "output_type": "stream",
          "name": "stdout",
          "text": [
            "2023-04-23 19:58:20,139 [INFO] PGN node_id\t  Hz\n"
          ]
        },
        {
          "output_type": "stream",
          "name": "stderr",
          "text": [
            "INFO:NEURONIOUtils:PGN node_id\t  Hz\n"
          ]
        },
        {
          "output_type": "stream",
          "name": "stdout",
          "text": [
            "2023-04-23 19:58:20,146 [INFO] 70\t\t1.0\n"
          ]
        },
        {
          "output_type": "stream",
          "name": "stderr",
          "text": [
            "INFO:NEURONIOUtils:70\t\t1.0\n"
          ]
        },
        {
          "output_type": "stream",
          "name": "stdout",
          "text": [
            "2023-04-23 19:58:20,149 [INFO] 71\t\t1.0\n"
          ]
        },
        {
          "output_type": "stream",
          "name": "stderr",
          "text": [
            "INFO:NEURONIOUtils:71\t\t1.0\n"
          ]
        },
        {
          "output_type": "stream",
          "name": "stdout",
          "text": [
            "2023-04-23 19:58:20,154 [INFO] 72\t\t1.0\n"
          ]
        },
        {
          "output_type": "stream",
          "name": "stderr",
          "text": [
            "INFO:NEURONIOUtils:72\t\t1.0\n"
          ]
        },
        {
          "output_type": "stream",
          "name": "stdout",
          "text": [
            "2023-04-23 19:58:20,157 [INFO] 73\t\t1.0\n"
          ]
        },
        {
          "output_type": "stream",
          "name": "stderr",
          "text": [
            "INFO:NEURONIOUtils:73\t\t1.0\n"
          ]
        },
        {
          "output_type": "stream",
          "name": "stdout",
          "text": [
            "2023-04-23 19:58:20,160 [INFO] 74\t\t1.0\n"
          ]
        },
        {
          "output_type": "stream",
          "name": "stderr",
          "text": [
            "INFO:NEURONIOUtils:74\t\t1.0\n"
          ]
        },
        {
          "output_type": "stream",
          "name": "stdout",
          "text": [
            "2023-04-23 19:58:20,162 [INFO] 75\t\t1.0\n"
          ]
        },
        {
          "output_type": "stream",
          "name": "stderr",
          "text": [
            "INFO:NEURONIOUtils:75\t\t1.0\n"
          ]
        },
        {
          "output_type": "stream",
          "name": "stdout",
          "text": [
            "2023-04-23 19:58:20,167 [INFO] 76\t\t1.0\n"
          ]
        },
        {
          "output_type": "stream",
          "name": "stderr",
          "text": [
            "INFO:NEURONIOUtils:76\t\t1.0\n"
          ]
        },
        {
          "output_type": "stream",
          "name": "stdout",
          "text": [
            "2023-04-23 19:58:20,169 [INFO] 77\t\t1.0\n"
          ]
        },
        {
          "output_type": "stream",
          "name": "stderr",
          "text": [
            "INFO:NEURONIOUtils:77\t\t1.0\n"
          ]
        },
        {
          "output_type": "stream",
          "name": "stdout",
          "text": [
            "2023-04-23 19:58:20,170 [INFO] 78\t\t1.0\n"
          ]
        },
        {
          "output_type": "stream",
          "name": "stderr",
          "text": [
            "INFO:NEURONIOUtils:78\t\t1.0\n"
          ]
        },
        {
          "output_type": "stream",
          "name": "stdout",
          "text": [
            "2023-04-23 19:58:20,174 [INFO] 79\t\t1.0\n"
          ]
        },
        {
          "output_type": "stream",
          "name": "stderr",
          "text": [
            "INFO:NEURONIOUtils:79\t\t1.0\n"
          ]
        },
        {
          "output_type": "stream",
          "name": "stdout",
          "text": [
            "2023-04-23 19:58:20,177 [INFO] PGN firing rate avg: 1.0 Hz\n"
          ]
        },
        {
          "output_type": "stream",
          "name": "stderr",
          "text": [
            "INFO:NEURONIOUtils:PGN firing rate avg: 1.0 Hz\n"
          ]
        },
        {
          "output_type": "stream",
          "name": "stdout",
          "text": [
            "2023-04-23 19:58:20,179 [INFO] Grill PGN fr = 1.2690000000000001 Hz\n"
          ]
        },
        {
          "output_type": "stream",
          "name": "stderr",
          "text": [
            "INFO:NEURONIOUtils:Grill PGN fr = 1.2690000000000001 Hz\n"
          ]
        },
        {
          "output_type": "stream",
          "name": "stdout",
          "text": [
            "2023-04-23 19:58:20,181 [INFO] IMG node_gid\t  Hz\n"
          ]
        },
        {
          "output_type": "stream",
          "name": "stderr",
          "text": [
            "INFO:NEURONIOUtils:IMG node_gid\t  Hz\n"
          ]
        },
        {
          "output_type": "stream",
          "name": "stdout",
          "text": [
            "2023-04-23 19:58:20,183 [INFO] 90\t\t0.0\n"
          ]
        },
        {
          "output_type": "stream",
          "name": "stderr",
          "text": [
            "INFO:NEURONIOUtils:90\t\t0.0\n"
          ]
        },
        {
          "output_type": "stream",
          "name": "stdout",
          "text": [
            "2023-04-23 19:58:20,185 [INFO] 91\t\t1.0\n"
          ]
        },
        {
          "output_type": "stream",
          "name": "stderr",
          "text": [
            "INFO:NEURONIOUtils:91\t\t1.0\n"
          ]
        },
        {
          "output_type": "stream",
          "name": "stdout",
          "text": [
            "2023-04-23 19:58:20,187 [INFO] 92\t\t0.0\n"
          ]
        },
        {
          "output_type": "stream",
          "name": "stderr",
          "text": [
            "INFO:NEURONIOUtils:92\t\t0.0\n"
          ]
        },
        {
          "output_type": "stream",
          "name": "stdout",
          "text": [
            "2023-04-23 19:58:20,189 [INFO] 93\t\t1.0\n"
          ]
        },
        {
          "output_type": "stream",
          "name": "stderr",
          "text": [
            "INFO:NEURONIOUtils:93\t\t1.0\n"
          ]
        },
        {
          "output_type": "stream",
          "name": "stdout",
          "text": [
            "2023-04-23 19:58:20,191 [INFO] 94\t\t1.0\n"
          ]
        },
        {
          "output_type": "stream",
          "name": "stderr",
          "text": [
            "INFO:NEURONIOUtils:94\t\t1.0\n"
          ]
        },
        {
          "output_type": "stream",
          "name": "stdout",
          "text": [
            "2023-04-23 19:58:20,193 [INFO] 95\t\t0.0\n"
          ]
        },
        {
          "output_type": "stream",
          "name": "stderr",
          "text": [
            "INFO:NEURONIOUtils:95\t\t0.0\n"
          ]
        },
        {
          "output_type": "stream",
          "name": "stdout",
          "text": [
            "2023-04-23 19:58:20,195 [INFO] 96\t\t0.0\n"
          ]
        },
        {
          "output_type": "stream",
          "name": "stderr",
          "text": [
            "INFO:NEURONIOUtils:96\t\t0.0\n"
          ]
        },
        {
          "output_type": "stream",
          "name": "stdout",
          "text": [
            "2023-04-23 19:58:20,197 [INFO] 97\t\t1.0\n"
          ]
        },
        {
          "output_type": "stream",
          "name": "stderr",
          "text": [
            "INFO:NEURONIOUtils:97\t\t1.0\n"
          ]
        },
        {
          "output_type": "stream",
          "name": "stdout",
          "text": [
            "2023-04-23 19:58:20,198 [INFO] 98\t\t1.0\n"
          ]
        },
        {
          "output_type": "stream",
          "name": "stderr",
          "text": [
            "INFO:NEURONIOUtils:98\t\t1.0\n"
          ]
        },
        {
          "output_type": "stream",
          "name": "stdout",
          "text": [
            "2023-04-23 19:58:20,200 [INFO] 99\t\t1.0\n"
          ]
        },
        {
          "output_type": "stream",
          "name": "stderr",
          "text": [
            "INFO:NEURONIOUtils:99\t\t1.0\n"
          ]
        },
        {
          "output_type": "stream",
          "name": "stdout",
          "text": [
            "2023-04-23 19:58:20,202 [INFO] IMG firing rate avg: 1.0 Hz\n"
          ]
        },
        {
          "output_type": "stream",
          "name": "stderr",
          "text": [
            "INFO:NEURONIOUtils:IMG firing rate avg: 1.0 Hz\n"
          ]
        },
        {
          "output_type": "stream",
          "name": "stdout",
          "text": [
            "2023-04-23 19:58:20,214 [INFO] Volume = 0.7292 ml\n"
          ]
        },
        {
          "output_type": "stream",
          "name": "stderr",
          "text": [
            "/usr/local/lib/python3.9/dist-packages/bmtk/utils/reports/spike_trains/spike_trains.py:183: RuntimeWarning: divide by zero encountered in double_scalars\n",
            "  interval = -np.log(1.0 - np.random.uniform()) / fr\n",
            "INFO:NEURONIOUtils:Volume = 0.7292 ml\n"
          ]
        },
        {
          "output_type": "stream",
          "name": "stdout",
          "text": [
            "2023-04-23 19:58:20,217 [INFO] Pressure = 0.83 mmHg\n"
          ]
        },
        {
          "output_type": "stream",
          "name": "stderr",
          "text": [
            "INFO:NEURONIOUtils:Pressure = 0.83 mmHg\n"
          ]
        },
        {
          "output_type": "stream",
          "name": "stdout",
          "text": [
            "2023-04-23 19:58:20,221 [INFO] Calculated bladder afferent firing rate for the next time step = 0.00 Hz \n",
            " \n",
            "\n"
          ]
        },
        {
          "output_type": "stream",
          "name": "stderr",
          "text": [
            "INFO:NEURONIOUtils:Calculated bladder afferent firing rate for the next time step = 0.00 Hz \n",
            " \n",
            "\n"
          ]
        },
        {
          "output_type": "stream",
          "name": "stdout",
          "text": [
            "2023-04-23 19:58:23,930 [INFO]     step:135000 t_sim:27000.00 ms\n"
          ]
        },
        {
          "output_type": "stream",
          "name": "stderr",
          "text": [
            "INFO:NEURONIOUtils:    step:135000 t_sim:27000.00 ms\n"
          ]
        },
        {
          "output_type": "stream",
          "name": "stdout",
          "text": [
            "2023-04-23 19:58:23,949 [INFO] Timestep 26000.0 to 27000.0 ms\n"
          ]
        },
        {
          "output_type": "stream",
          "name": "stderr",
          "text": [
            "INFO:NEURONIOUtils:Timestep 26000.0 to 27000.0 ms\n"
          ]
        },
        {
          "output_type": "stream",
          "name": "stdout",
          "text": [
            "2023-04-23 19:58:23,956 [INFO] PGN node_id\t  Hz\n"
          ]
        },
        {
          "output_type": "stream",
          "name": "stderr",
          "text": [
            "INFO:NEURONIOUtils:PGN node_id\t  Hz\n"
          ]
        },
        {
          "output_type": "stream",
          "name": "stdout",
          "text": [
            "2023-04-23 19:58:23,959 [INFO] 70\t\t3.0\n"
          ]
        },
        {
          "output_type": "stream",
          "name": "stderr",
          "text": [
            "INFO:NEURONIOUtils:70\t\t3.0\n"
          ]
        },
        {
          "output_type": "stream",
          "name": "stdout",
          "text": [
            "2023-04-23 19:58:23,961 [INFO] 71\t\t3.0\n"
          ]
        },
        {
          "output_type": "stream",
          "name": "stderr",
          "text": [
            "INFO:NEURONIOUtils:71\t\t3.0\n"
          ]
        },
        {
          "output_type": "stream",
          "name": "stdout",
          "text": [
            "2023-04-23 19:58:23,962 [INFO] 72\t\t3.0\n"
          ]
        },
        {
          "output_type": "stream",
          "name": "stderr",
          "text": [
            "INFO:NEURONIOUtils:72\t\t3.0\n"
          ]
        },
        {
          "output_type": "stream",
          "name": "stdout",
          "text": [
            "2023-04-23 19:58:23,967 [INFO] 73\t\t3.0\n"
          ]
        },
        {
          "output_type": "stream",
          "name": "stderr",
          "text": [
            "INFO:NEURONIOUtils:73\t\t3.0\n"
          ]
        },
        {
          "output_type": "stream",
          "name": "stdout",
          "text": [
            "2023-04-23 19:58:23,968 [INFO] 74\t\t3.0\n"
          ]
        },
        {
          "output_type": "stream",
          "name": "stderr",
          "text": [
            "INFO:NEURONIOUtils:74\t\t3.0\n"
          ]
        },
        {
          "output_type": "stream",
          "name": "stdout",
          "text": [
            "2023-04-23 19:58:23,971 [INFO] 75\t\t3.0\n"
          ]
        },
        {
          "output_type": "stream",
          "name": "stderr",
          "text": [
            "INFO:NEURONIOUtils:75\t\t3.0\n"
          ]
        },
        {
          "output_type": "stream",
          "name": "stdout",
          "text": [
            "2023-04-23 19:58:23,973 [INFO] 76\t\t3.0\n"
          ]
        },
        {
          "output_type": "stream",
          "name": "stderr",
          "text": [
            "INFO:NEURONIOUtils:76\t\t3.0\n"
          ]
        },
        {
          "output_type": "stream",
          "name": "stdout",
          "text": [
            "2023-04-23 19:58:23,975 [INFO] 77\t\t3.0\n"
          ]
        },
        {
          "output_type": "stream",
          "name": "stderr",
          "text": [
            "INFO:NEURONIOUtils:77\t\t3.0\n"
          ]
        },
        {
          "output_type": "stream",
          "name": "stdout",
          "text": [
            "2023-04-23 19:58:23,977 [INFO] 78\t\t3.0\n"
          ]
        },
        {
          "output_type": "stream",
          "name": "stderr",
          "text": [
            "INFO:NEURONIOUtils:78\t\t3.0\n"
          ]
        },
        {
          "output_type": "stream",
          "name": "stdout",
          "text": [
            "2023-04-23 19:58:23,979 [INFO] 79\t\t3.0\n"
          ]
        },
        {
          "output_type": "stream",
          "name": "stderr",
          "text": [
            "INFO:NEURONIOUtils:79\t\t3.0\n"
          ]
        },
        {
          "output_type": "stream",
          "name": "stdout",
          "text": [
            "2023-04-23 19:58:23,980 [INFO] PGN firing rate avg: 3.0 Hz\n"
          ]
        },
        {
          "output_type": "stream",
          "name": "stderr",
          "text": [
            "INFO:NEURONIOUtils:PGN firing rate avg: 3.0 Hz\n"
          ]
        },
        {
          "output_type": "stream",
          "name": "stdout",
          "text": [
            "2023-04-23 19:58:23,982 [INFO] Grill PGN fr = 4.657 Hz\n"
          ]
        },
        {
          "output_type": "stream",
          "name": "stderr",
          "text": [
            "INFO:NEURONIOUtils:Grill PGN fr = 4.657 Hz\n"
          ]
        },
        {
          "output_type": "stream",
          "name": "stdout",
          "text": [
            "2023-04-23 19:58:23,985 [INFO] IMG node_gid\t  Hz\n"
          ]
        },
        {
          "output_type": "stream",
          "name": "stderr",
          "text": [
            "INFO:NEURONIOUtils:IMG node_gid\t  Hz\n"
          ]
        },
        {
          "output_type": "stream",
          "name": "stdout",
          "text": [
            "2023-04-23 19:58:23,987 [INFO] 90\t\t0.0\n"
          ]
        },
        {
          "output_type": "stream",
          "name": "stderr",
          "text": [
            "INFO:NEURONIOUtils:90\t\t0.0\n"
          ]
        },
        {
          "output_type": "stream",
          "name": "stdout",
          "text": [
            "2023-04-23 19:58:23,989 [INFO] 91\t\t1.0\n"
          ]
        },
        {
          "output_type": "stream",
          "name": "stderr",
          "text": [
            "INFO:NEURONIOUtils:91\t\t1.0\n"
          ]
        },
        {
          "output_type": "stream",
          "name": "stdout",
          "text": [
            "2023-04-23 19:58:23,992 [INFO] 92\t\t0.0\n"
          ]
        },
        {
          "output_type": "stream",
          "name": "stderr",
          "text": [
            "INFO:NEURONIOUtils:92\t\t0.0\n"
          ]
        },
        {
          "output_type": "stream",
          "name": "stdout",
          "text": [
            "2023-04-23 19:58:23,994 [INFO] 93\t\t1.0\n"
          ]
        },
        {
          "output_type": "stream",
          "name": "stderr",
          "text": [
            "INFO:NEURONIOUtils:93\t\t1.0\n"
          ]
        },
        {
          "output_type": "stream",
          "name": "stdout",
          "text": [
            "2023-04-23 19:58:23,996 [INFO] 94\t\t1.0\n"
          ]
        },
        {
          "output_type": "stream",
          "name": "stderr",
          "text": [
            "INFO:NEURONIOUtils:94\t\t1.0\n"
          ]
        },
        {
          "output_type": "stream",
          "name": "stdout",
          "text": [
            "2023-04-23 19:58:23,997 [INFO] 95\t\t0.0\n"
          ]
        },
        {
          "output_type": "stream",
          "name": "stderr",
          "text": [
            "INFO:NEURONIOUtils:95\t\t0.0\n"
          ]
        },
        {
          "output_type": "stream",
          "name": "stdout",
          "text": [
            "2023-04-23 19:58:23,999 [INFO] 96\t\t0.0\n"
          ]
        },
        {
          "output_type": "stream",
          "name": "stderr",
          "text": [
            "INFO:NEURONIOUtils:96\t\t0.0\n"
          ]
        },
        {
          "output_type": "stream",
          "name": "stdout",
          "text": [
            "2023-04-23 19:58:24,001 [INFO] 97\t\t1.0\n"
          ]
        },
        {
          "output_type": "stream",
          "name": "stderr",
          "text": [
            "INFO:NEURONIOUtils:97\t\t1.0\n"
          ]
        },
        {
          "output_type": "stream",
          "name": "stdout",
          "text": [
            "2023-04-23 19:58:24,003 [INFO] 98\t\t1.0\n"
          ]
        },
        {
          "output_type": "stream",
          "name": "stderr",
          "text": [
            "INFO:NEURONIOUtils:98\t\t1.0\n"
          ]
        },
        {
          "output_type": "stream",
          "name": "stdout",
          "text": [
            "2023-04-23 19:58:24,005 [INFO] 99\t\t1.0\n"
          ]
        },
        {
          "output_type": "stream",
          "name": "stderr",
          "text": [
            "INFO:NEURONIOUtils:99\t\t1.0\n"
          ]
        },
        {
          "output_type": "stream",
          "name": "stdout",
          "text": [
            "2023-04-23 19:58:24,011 [INFO] IMG firing rate avg: 3.0 Hz\n"
          ]
        },
        {
          "output_type": "stream",
          "name": "stderr",
          "text": [
            "INFO:NEURONIOUtils:IMG firing rate avg: 3.0 Hz\n"
          ]
        },
        {
          "output_type": "stream",
          "name": "stdout",
          "text": [
            "2023-04-23 19:58:24,023 [INFO] Volume = 0.7583 ml\n"
          ]
        },
        {
          "output_type": "stream",
          "name": "stderr",
          "text": [
            "/usr/local/lib/python3.9/dist-packages/bmtk/utils/reports/spike_trains/spike_trains.py:183: RuntimeWarning: divide by zero encountered in double_scalars\n",
            "  interval = -np.log(1.0 - np.random.uniform()) / fr\n",
            "INFO:NEURONIOUtils:Volume = 0.7583 ml\n"
          ]
        },
        {
          "output_type": "stream",
          "name": "stdout",
          "text": [
            "2023-04-23 19:58:24,033 [INFO] Pressure = 2.80 mmHg\n"
          ]
        },
        {
          "output_type": "stream",
          "name": "stderr",
          "text": [
            "INFO:NEURONIOUtils:Pressure = 2.80 mmHg\n"
          ]
        },
        {
          "output_type": "stream",
          "name": "stdout",
          "text": [
            "2023-04-23 19:58:24,036 [INFO] Calculated bladder afferent firing rate for the next time step = 0.00 Hz \n",
            " \n",
            "\n"
          ]
        },
        {
          "output_type": "stream",
          "name": "stderr",
          "text": [
            "INFO:NEURONIOUtils:Calculated bladder afferent firing rate for the next time step = 0.00 Hz \n",
            " \n",
            "\n"
          ]
        },
        {
          "output_type": "stream",
          "name": "stdout",
          "text": [
            "2023-04-23 19:58:27,139 [INFO]     step:140000 t_sim:28000.00 ms\n"
          ]
        },
        {
          "output_type": "stream",
          "name": "stderr",
          "text": [
            "INFO:NEURONIOUtils:    step:140000 t_sim:28000.00 ms\n"
          ]
        },
        {
          "output_type": "stream",
          "name": "stdout",
          "text": [
            "2023-04-23 19:58:27,157 [INFO] Timestep 27000.0 to 28000.0 ms\n"
          ]
        },
        {
          "output_type": "stream",
          "name": "stderr",
          "text": [
            "INFO:NEURONIOUtils:Timestep 27000.0 to 28000.0 ms\n"
          ]
        },
        {
          "output_type": "stream",
          "name": "stdout",
          "text": [
            "2023-04-23 19:58:27,162 [INFO] PGN node_id\t  Hz\n"
          ]
        },
        {
          "output_type": "stream",
          "name": "stderr",
          "text": [
            "INFO:NEURONIOUtils:PGN node_id\t  Hz\n"
          ]
        },
        {
          "output_type": "stream",
          "name": "stdout",
          "text": [
            "2023-04-23 19:58:27,167 [INFO] 70\t\t2.0\n"
          ]
        },
        {
          "output_type": "stream",
          "name": "stderr",
          "text": [
            "INFO:NEURONIOUtils:70\t\t2.0\n"
          ]
        },
        {
          "output_type": "stream",
          "name": "stdout",
          "text": [
            "2023-04-23 19:58:27,170 [INFO] 71\t\t2.0\n"
          ]
        },
        {
          "output_type": "stream",
          "name": "stderr",
          "text": [
            "INFO:NEURONIOUtils:71\t\t2.0\n"
          ]
        },
        {
          "output_type": "stream",
          "name": "stdout",
          "text": [
            "2023-04-23 19:58:27,173 [INFO] 72\t\t2.0\n"
          ]
        },
        {
          "output_type": "stream",
          "name": "stderr",
          "text": [
            "INFO:NEURONIOUtils:72\t\t2.0\n"
          ]
        },
        {
          "output_type": "stream",
          "name": "stdout",
          "text": [
            "2023-04-23 19:58:27,175 [INFO] 73\t\t2.0\n"
          ]
        },
        {
          "output_type": "stream",
          "name": "stderr",
          "text": [
            "INFO:NEURONIOUtils:73\t\t2.0\n"
          ]
        },
        {
          "output_type": "stream",
          "name": "stdout",
          "text": [
            "2023-04-23 19:58:27,177 [INFO] 74\t\t2.0\n"
          ]
        },
        {
          "output_type": "stream",
          "name": "stderr",
          "text": [
            "INFO:NEURONIOUtils:74\t\t2.0\n"
          ]
        },
        {
          "output_type": "stream",
          "name": "stdout",
          "text": [
            "2023-04-23 19:58:27,178 [INFO] 75\t\t2.0\n"
          ]
        },
        {
          "output_type": "stream",
          "name": "stderr",
          "text": [
            "INFO:NEURONIOUtils:75\t\t2.0\n"
          ]
        },
        {
          "output_type": "stream",
          "name": "stdout",
          "text": [
            "2023-04-23 19:58:27,180 [INFO] 76\t\t2.0\n"
          ]
        },
        {
          "output_type": "stream",
          "name": "stderr",
          "text": [
            "INFO:NEURONIOUtils:76\t\t2.0\n"
          ]
        },
        {
          "output_type": "stream",
          "name": "stdout",
          "text": [
            "2023-04-23 19:58:27,183 [INFO] 77\t\t2.0\n"
          ]
        },
        {
          "output_type": "stream",
          "name": "stderr",
          "text": [
            "INFO:NEURONIOUtils:77\t\t2.0\n"
          ]
        },
        {
          "output_type": "stream",
          "name": "stdout",
          "text": [
            "2023-04-23 19:58:27,185 [INFO] 78\t\t2.0\n"
          ]
        },
        {
          "output_type": "stream",
          "name": "stderr",
          "text": [
            "INFO:NEURONIOUtils:78\t\t2.0\n"
          ]
        },
        {
          "output_type": "stream",
          "name": "stdout",
          "text": [
            "2023-04-23 19:58:27,187 [INFO] 79\t\t2.0\n"
          ]
        },
        {
          "output_type": "stream",
          "name": "stderr",
          "text": [
            "INFO:NEURONIOUtils:79\t\t2.0\n"
          ]
        },
        {
          "output_type": "stream",
          "name": "stdout",
          "text": [
            "2023-04-23 19:58:27,189 [INFO] PGN firing rate avg: 2.0 Hz\n"
          ]
        },
        {
          "output_type": "stream",
          "name": "stderr",
          "text": [
            "INFO:NEURONIOUtils:PGN firing rate avg: 2.0 Hz\n"
          ]
        },
        {
          "output_type": "stream",
          "name": "stdout",
          "text": [
            "2023-04-23 19:58:27,191 [INFO] Grill PGN fr = 2.984 Hz\n"
          ]
        },
        {
          "output_type": "stream",
          "name": "stderr",
          "text": [
            "INFO:NEURONIOUtils:Grill PGN fr = 2.984 Hz\n"
          ]
        },
        {
          "output_type": "stream",
          "name": "stdout",
          "text": [
            "2023-04-23 19:58:27,193 [INFO] IMG node_gid\t  Hz\n"
          ]
        },
        {
          "output_type": "stream",
          "name": "stderr",
          "text": [
            "INFO:NEURONIOUtils:IMG node_gid\t  Hz\n"
          ]
        },
        {
          "output_type": "stream",
          "name": "stdout",
          "text": [
            "2023-04-23 19:58:27,195 [INFO] 90\t\t0.0\n"
          ]
        },
        {
          "output_type": "stream",
          "name": "stderr",
          "text": [
            "INFO:NEURONIOUtils:90\t\t0.0\n"
          ]
        },
        {
          "output_type": "stream",
          "name": "stdout",
          "text": [
            "2023-04-23 19:58:27,196 [INFO] 91\t\t1.0\n"
          ]
        },
        {
          "output_type": "stream",
          "name": "stderr",
          "text": [
            "INFO:NEURONIOUtils:91\t\t1.0\n"
          ]
        },
        {
          "output_type": "stream",
          "name": "stdout",
          "text": [
            "2023-04-23 19:58:27,198 [INFO] 92\t\t0.0\n"
          ]
        },
        {
          "output_type": "stream",
          "name": "stderr",
          "text": [
            "INFO:NEURONIOUtils:92\t\t0.0\n"
          ]
        },
        {
          "output_type": "stream",
          "name": "stdout",
          "text": [
            "2023-04-23 19:58:27,200 [INFO] 93\t\t1.0\n"
          ]
        },
        {
          "output_type": "stream",
          "name": "stderr",
          "text": [
            "INFO:NEURONIOUtils:93\t\t1.0\n"
          ]
        },
        {
          "output_type": "stream",
          "name": "stdout",
          "text": [
            "2023-04-23 19:58:27,202 [INFO] 94\t\t1.0\n"
          ]
        },
        {
          "output_type": "stream",
          "name": "stderr",
          "text": [
            "INFO:NEURONIOUtils:94\t\t1.0\n"
          ]
        },
        {
          "output_type": "stream",
          "name": "stdout",
          "text": [
            "2023-04-23 19:58:27,204 [INFO] 95\t\t0.0\n"
          ]
        },
        {
          "output_type": "stream",
          "name": "stderr",
          "text": [
            "INFO:NEURONIOUtils:95\t\t0.0\n"
          ]
        },
        {
          "output_type": "stream",
          "name": "stdout",
          "text": [
            "2023-04-23 19:58:27,206 [INFO] 96\t\t0.0\n"
          ]
        },
        {
          "output_type": "stream",
          "name": "stderr",
          "text": [
            "INFO:NEURONIOUtils:96\t\t0.0\n"
          ]
        },
        {
          "output_type": "stream",
          "name": "stdout",
          "text": [
            "2023-04-23 19:58:27,208 [INFO] 97\t\t1.0\n"
          ]
        },
        {
          "output_type": "stream",
          "name": "stderr",
          "text": [
            "INFO:NEURONIOUtils:97\t\t1.0\n"
          ]
        },
        {
          "output_type": "stream",
          "name": "stdout",
          "text": [
            "2023-04-23 19:58:27,210 [INFO] 98\t\t1.0\n"
          ]
        },
        {
          "output_type": "stream",
          "name": "stderr",
          "text": [
            "INFO:NEURONIOUtils:98\t\t1.0\n"
          ]
        },
        {
          "output_type": "stream",
          "name": "stdout",
          "text": [
            "2023-04-23 19:58:27,212 [INFO] 99\t\t1.0\n"
          ]
        },
        {
          "output_type": "stream",
          "name": "stderr",
          "text": [
            "INFO:NEURONIOUtils:99\t\t1.0\n"
          ]
        },
        {
          "output_type": "stream",
          "name": "stdout",
          "text": [
            "2023-04-23 19:58:27,214 [INFO] IMG firing rate avg: 2.0 Hz\n"
          ]
        },
        {
          "output_type": "stream",
          "name": "stderr",
          "text": [
            "INFO:NEURONIOUtils:IMG firing rate avg: 2.0 Hz\n"
          ]
        },
        {
          "output_type": "stream",
          "name": "stdout",
          "text": [
            "2023-04-23 19:58:27,222 [INFO] Volume = 0.7875 ml\n"
          ]
        },
        {
          "output_type": "stream",
          "name": "stderr",
          "text": [
            "/usr/local/lib/python3.9/dist-packages/bmtk/utils/reports/spike_trains/spike_trains.py:183: RuntimeWarning: divide by zero encountered in double_scalars\n",
            "  interval = -np.log(1.0 - np.random.uniform()) / fr\n",
            "INFO:NEURONIOUtils:Volume = 0.7875 ml\n"
          ]
        },
        {
          "output_type": "stream",
          "name": "stdout",
          "text": [
            "2023-04-23 19:58:27,227 [INFO] Pressure = 2.16 mmHg\n"
          ]
        },
        {
          "output_type": "stream",
          "name": "stderr",
          "text": [
            "INFO:NEURONIOUtils:Pressure = 2.16 mmHg\n"
          ]
        },
        {
          "output_type": "stream",
          "name": "stdout",
          "text": [
            "2023-04-23 19:58:27,229 [INFO] Calculated bladder afferent firing rate for the next time step = 0.00 Hz \n",
            " \n",
            "\n"
          ]
        },
        {
          "output_type": "stream",
          "name": "stderr",
          "text": [
            "INFO:NEURONIOUtils:Calculated bladder afferent firing rate for the next time step = 0.00 Hz \n",
            " \n",
            "\n"
          ]
        },
        {
          "output_type": "stream",
          "name": "stdout",
          "text": [
            "2023-04-23 19:58:30,146 [INFO]     step:145000 t_sim:29000.00 ms\n"
          ]
        },
        {
          "output_type": "stream",
          "name": "stderr",
          "text": [
            "INFO:NEURONIOUtils:    step:145000 t_sim:29000.00 ms\n"
          ]
        },
        {
          "output_type": "stream",
          "name": "stdout",
          "text": [
            "2023-04-23 19:58:30,159 [INFO] Timestep 28000.0 to 29000.0 ms\n"
          ]
        },
        {
          "output_type": "stream",
          "name": "stderr",
          "text": [
            "INFO:NEURONIOUtils:Timestep 28000.0 to 29000.0 ms\n"
          ]
        },
        {
          "output_type": "stream",
          "name": "stdout",
          "text": [
            "2023-04-23 19:58:30,163 [INFO] PGN node_id\t  Hz\n"
          ]
        },
        {
          "output_type": "stream",
          "name": "stderr",
          "text": [
            "INFO:NEURONIOUtils:PGN node_id\t  Hz\n"
          ]
        },
        {
          "output_type": "stream",
          "name": "stdout",
          "text": [
            "2023-04-23 19:58:30,167 [INFO] 70\t\t5.0\n"
          ]
        },
        {
          "output_type": "stream",
          "name": "stderr",
          "text": [
            "INFO:NEURONIOUtils:70\t\t5.0\n"
          ]
        },
        {
          "output_type": "stream",
          "name": "stdout",
          "text": [
            "2023-04-23 19:58:30,171 [INFO] 71\t\t5.0\n"
          ]
        },
        {
          "output_type": "stream",
          "name": "stderr",
          "text": [
            "INFO:NEURONIOUtils:71\t\t5.0\n"
          ]
        },
        {
          "output_type": "stream",
          "name": "stdout",
          "text": [
            "2023-04-23 19:58:30,172 [INFO] 72\t\t5.0\n"
          ]
        },
        {
          "output_type": "stream",
          "name": "stderr",
          "text": [
            "INFO:NEURONIOUtils:72\t\t5.0\n"
          ]
        },
        {
          "output_type": "stream",
          "name": "stdout",
          "text": [
            "2023-04-23 19:58:30,174 [INFO] 73\t\t5.0\n"
          ]
        },
        {
          "output_type": "stream",
          "name": "stderr",
          "text": [
            "INFO:NEURONIOUtils:73\t\t5.0\n"
          ]
        },
        {
          "output_type": "stream",
          "name": "stdout",
          "text": [
            "2023-04-23 19:58:30,176 [INFO] 74\t\t5.0\n"
          ]
        },
        {
          "output_type": "stream",
          "name": "stderr",
          "text": [
            "INFO:NEURONIOUtils:74\t\t5.0\n"
          ]
        },
        {
          "output_type": "stream",
          "name": "stdout",
          "text": [
            "2023-04-23 19:58:30,180 [INFO] 75\t\t5.0\n"
          ]
        },
        {
          "output_type": "stream",
          "name": "stderr",
          "text": [
            "INFO:NEURONIOUtils:75\t\t5.0\n"
          ]
        },
        {
          "output_type": "stream",
          "name": "stdout",
          "text": [
            "2023-04-23 19:58:30,184 [INFO] 76\t\t5.0\n"
          ]
        },
        {
          "output_type": "stream",
          "name": "stderr",
          "text": [
            "INFO:NEURONIOUtils:76\t\t5.0\n"
          ]
        },
        {
          "output_type": "stream",
          "name": "stdout",
          "text": [
            "2023-04-23 19:58:30,188 [INFO] 77\t\t5.0\n"
          ]
        },
        {
          "output_type": "stream",
          "name": "stderr",
          "text": [
            "INFO:NEURONIOUtils:77\t\t5.0\n"
          ]
        },
        {
          "output_type": "stream",
          "name": "stdout",
          "text": [
            "2023-04-23 19:58:30,192 [INFO] 78\t\t5.0\n"
          ]
        },
        {
          "output_type": "stream",
          "name": "stderr",
          "text": [
            "INFO:NEURONIOUtils:78\t\t5.0\n"
          ]
        },
        {
          "output_type": "stream",
          "name": "stdout",
          "text": [
            "2023-04-23 19:58:30,194 [INFO] 79\t\t5.0\n"
          ]
        },
        {
          "output_type": "stream",
          "name": "stderr",
          "text": [
            "INFO:NEURONIOUtils:79\t\t5.0\n"
          ]
        },
        {
          "output_type": "stream",
          "name": "stdout",
          "text": [
            "2023-04-23 19:58:30,198 [INFO] PGN firing rate avg: 5.0 Hz\n"
          ]
        },
        {
          "output_type": "stream",
          "name": "stderr",
          "text": [
            "INFO:NEURONIOUtils:PGN firing rate avg: 5.0 Hz\n"
          ]
        },
        {
          "output_type": "stream",
          "name": "stdout",
          "text": [
            "2023-04-23 19:58:30,204 [INFO] Grill PGN fr = 7.925000000000001 Hz\n"
          ]
        },
        {
          "output_type": "stream",
          "name": "stderr",
          "text": [
            "INFO:NEURONIOUtils:Grill PGN fr = 7.925000000000001 Hz\n"
          ]
        },
        {
          "output_type": "stream",
          "name": "stdout",
          "text": [
            "2023-04-23 19:58:30,207 [INFO] IMG node_gid\t  Hz\n"
          ]
        },
        {
          "output_type": "stream",
          "name": "stderr",
          "text": [
            "INFO:NEURONIOUtils:IMG node_gid\t  Hz\n"
          ]
        },
        {
          "output_type": "stream",
          "name": "stdout",
          "text": [
            "2023-04-23 19:58:30,209 [INFO] 90\t\t0.0\n"
          ]
        },
        {
          "output_type": "stream",
          "name": "stderr",
          "text": [
            "INFO:NEURONIOUtils:90\t\t0.0\n"
          ]
        },
        {
          "output_type": "stream",
          "name": "stdout",
          "text": [
            "2023-04-23 19:58:30,211 [INFO] 91\t\t1.0\n"
          ]
        },
        {
          "output_type": "stream",
          "name": "stderr",
          "text": [
            "INFO:NEURONIOUtils:91\t\t1.0\n"
          ]
        },
        {
          "output_type": "stream",
          "name": "stdout",
          "text": [
            "2023-04-23 19:58:30,213 [INFO] 92\t\t0.0\n"
          ]
        },
        {
          "output_type": "stream",
          "name": "stderr",
          "text": [
            "INFO:NEURONIOUtils:92\t\t0.0\n"
          ]
        },
        {
          "output_type": "stream",
          "name": "stdout",
          "text": [
            "2023-04-23 19:58:30,215 [INFO] 93\t\t1.0\n"
          ]
        },
        {
          "output_type": "stream",
          "name": "stderr",
          "text": [
            "INFO:NEURONIOUtils:93\t\t1.0\n"
          ]
        },
        {
          "output_type": "stream",
          "name": "stdout",
          "text": [
            "2023-04-23 19:58:30,217 [INFO] 94\t\t1.0\n"
          ]
        },
        {
          "output_type": "stream",
          "name": "stderr",
          "text": [
            "INFO:NEURONIOUtils:94\t\t1.0\n"
          ]
        },
        {
          "output_type": "stream",
          "name": "stdout",
          "text": [
            "2023-04-23 19:58:30,219 [INFO] 95\t\t0.0\n"
          ]
        },
        {
          "output_type": "stream",
          "name": "stderr",
          "text": [
            "INFO:NEURONIOUtils:95\t\t0.0\n"
          ]
        },
        {
          "output_type": "stream",
          "name": "stdout",
          "text": [
            "2023-04-23 19:58:30,220 [INFO] 96\t\t0.0\n"
          ]
        },
        {
          "output_type": "stream",
          "name": "stderr",
          "text": [
            "INFO:NEURONIOUtils:96\t\t0.0\n"
          ]
        },
        {
          "output_type": "stream",
          "name": "stdout",
          "text": [
            "2023-04-23 19:58:30,222 [INFO] 97\t\t1.0\n"
          ]
        },
        {
          "output_type": "stream",
          "name": "stderr",
          "text": [
            "INFO:NEURONIOUtils:97\t\t1.0\n"
          ]
        },
        {
          "output_type": "stream",
          "name": "stdout",
          "text": [
            "2023-04-23 19:58:30,224 [INFO] 98\t\t1.0\n"
          ]
        },
        {
          "output_type": "stream",
          "name": "stderr",
          "text": [
            "INFO:NEURONIOUtils:98\t\t1.0\n"
          ]
        },
        {
          "output_type": "stream",
          "name": "stdout",
          "text": [
            "2023-04-23 19:58:30,225 [INFO] 99\t\t1.0\n"
          ]
        },
        {
          "output_type": "stream",
          "name": "stderr",
          "text": [
            "INFO:NEURONIOUtils:99\t\t1.0\n"
          ]
        },
        {
          "output_type": "stream",
          "name": "stdout",
          "text": [
            "2023-04-23 19:58:30,227 [INFO] IMG firing rate avg: 5.0 Hz\n"
          ]
        },
        {
          "output_type": "stream",
          "name": "stderr",
          "text": [
            "INFO:NEURONIOUtils:IMG firing rate avg: 5.0 Hz\n"
          ]
        },
        {
          "output_type": "stream",
          "name": "stdout",
          "text": [
            "2023-04-23 19:58:30,236 [INFO] Volume = 0.8167 ml\n"
          ]
        },
        {
          "output_type": "stream",
          "name": "stderr",
          "text": [
            "/usr/local/lib/python3.9/dist-packages/bmtk/utils/reports/spike_trains/spike_trains.py:183: RuntimeWarning: divide by zero encountered in double_scalars\n",
            "  interval = -np.log(1.0 - np.random.uniform()) / fr\n",
            "INFO:NEURONIOUtils:Volume = 0.8167 ml\n"
          ]
        },
        {
          "output_type": "stream",
          "name": "stdout",
          "text": [
            "2023-04-23 19:58:30,242 [INFO] Pressure = 4.93 mmHg\n"
          ]
        },
        {
          "output_type": "stream",
          "name": "stderr",
          "text": [
            "INFO:NEURONIOUtils:Pressure = 4.93 mmHg\n"
          ]
        },
        {
          "output_type": "stream",
          "name": "stdout",
          "text": [
            "2023-04-23 19:58:30,245 [INFO] Calculated bladder afferent firing rate for the next time step = 0.00 Hz \n",
            " \n",
            "\n"
          ]
        },
        {
          "output_type": "stream",
          "name": "stderr",
          "text": [
            "INFO:NEURONIOUtils:Calculated bladder afferent firing rate for the next time step = 0.00 Hz \n",
            " \n",
            "\n"
          ]
        },
        {
          "output_type": "stream",
          "name": "stdout",
          "text": [
            "2023-04-23 19:58:33,783 [INFO]     step:150000 t_sim:30000.00 ms\n"
          ]
        },
        {
          "output_type": "stream",
          "name": "stderr",
          "text": [
            "INFO:NEURONIOUtils:    step:150000 t_sim:30000.00 ms\n"
          ]
        },
        {
          "output_type": "stream",
          "name": "stdout",
          "text": [
            "2023-04-23 19:58:33,797 [INFO] Timestep 29000.0 to 30000.0 ms\n"
          ]
        },
        {
          "output_type": "stream",
          "name": "stderr",
          "text": [
            "INFO:NEURONIOUtils:Timestep 29000.0 to 30000.0 ms\n"
          ]
        },
        {
          "output_type": "stream",
          "name": "stdout",
          "text": [
            "2023-04-23 19:58:33,801 [INFO] PGN node_id\t  Hz\n"
          ]
        },
        {
          "output_type": "stream",
          "name": "stderr",
          "text": [
            "INFO:NEURONIOUtils:PGN node_id\t  Hz\n"
          ]
        },
        {
          "output_type": "stream",
          "name": "stdout",
          "text": [
            "2023-04-23 19:58:33,805 [INFO] 70\t\t2.0\n"
          ]
        },
        {
          "output_type": "stream",
          "name": "stderr",
          "text": [
            "INFO:NEURONIOUtils:70\t\t2.0\n"
          ]
        },
        {
          "output_type": "stream",
          "name": "stdout",
          "text": [
            "2023-04-23 19:58:33,809 [INFO] 71\t\t2.0\n"
          ]
        },
        {
          "output_type": "stream",
          "name": "stderr",
          "text": [
            "INFO:NEURONIOUtils:71\t\t2.0\n"
          ]
        },
        {
          "output_type": "stream",
          "name": "stdout",
          "text": [
            "2023-04-23 19:58:33,811 [INFO] 72\t\t2.0\n"
          ]
        },
        {
          "output_type": "stream",
          "name": "stderr",
          "text": [
            "INFO:NEURONIOUtils:72\t\t2.0\n"
          ]
        },
        {
          "output_type": "stream",
          "name": "stdout",
          "text": [
            "2023-04-23 19:58:33,812 [INFO] 73\t\t2.0\n"
          ]
        },
        {
          "output_type": "stream",
          "name": "stderr",
          "text": [
            "INFO:NEURONIOUtils:73\t\t2.0\n"
          ]
        },
        {
          "output_type": "stream",
          "name": "stdout",
          "text": [
            "2023-04-23 19:58:33,815 [INFO] 74\t\t2.0\n"
          ]
        },
        {
          "output_type": "stream",
          "name": "stderr",
          "text": [
            "INFO:NEURONIOUtils:74\t\t2.0\n"
          ]
        },
        {
          "output_type": "stream",
          "name": "stdout",
          "text": [
            "2023-04-23 19:58:33,817 [INFO] 75\t\t2.0\n"
          ]
        },
        {
          "output_type": "stream",
          "name": "stderr",
          "text": [
            "INFO:NEURONIOUtils:75\t\t2.0\n"
          ]
        },
        {
          "output_type": "stream",
          "name": "stdout",
          "text": [
            "2023-04-23 19:58:33,819 [INFO] 76\t\t2.0\n"
          ]
        },
        {
          "output_type": "stream",
          "name": "stderr",
          "text": [
            "INFO:NEURONIOUtils:76\t\t2.0\n"
          ]
        },
        {
          "output_type": "stream",
          "name": "stdout",
          "text": [
            "2023-04-23 19:58:33,820 [INFO] 77\t\t2.0\n"
          ]
        },
        {
          "output_type": "stream",
          "name": "stderr",
          "text": [
            "INFO:NEURONIOUtils:77\t\t2.0\n"
          ]
        },
        {
          "output_type": "stream",
          "name": "stdout",
          "text": [
            "2023-04-23 19:58:33,823 [INFO] 78\t\t2.0\n"
          ]
        },
        {
          "output_type": "stream",
          "name": "stderr",
          "text": [
            "INFO:NEURONIOUtils:78\t\t2.0\n"
          ]
        },
        {
          "output_type": "stream",
          "name": "stdout",
          "text": [
            "2023-04-23 19:58:33,828 [INFO] 79\t\t2.0\n"
          ]
        },
        {
          "output_type": "stream",
          "name": "stderr",
          "text": [
            "INFO:NEURONIOUtils:79\t\t2.0\n"
          ]
        },
        {
          "output_type": "stream",
          "name": "stdout",
          "text": [
            "2023-04-23 19:58:33,830 [INFO] PGN firing rate avg: 2.0 Hz\n"
          ]
        },
        {
          "output_type": "stream",
          "name": "stderr",
          "text": [
            "INFO:NEURONIOUtils:PGN firing rate avg: 2.0 Hz\n"
          ]
        },
        {
          "output_type": "stream",
          "name": "stdout",
          "text": [
            "2023-04-23 19:58:33,832 [INFO] Grill PGN fr = 2.984 Hz\n"
          ]
        },
        {
          "output_type": "stream",
          "name": "stderr",
          "text": [
            "INFO:NEURONIOUtils:Grill PGN fr = 2.984 Hz\n"
          ]
        },
        {
          "output_type": "stream",
          "name": "stdout",
          "text": [
            "2023-04-23 19:58:33,834 [INFO] IMG node_gid\t  Hz\n"
          ]
        },
        {
          "output_type": "stream",
          "name": "stderr",
          "text": [
            "INFO:NEURONIOUtils:IMG node_gid\t  Hz\n"
          ]
        },
        {
          "output_type": "stream",
          "name": "stdout",
          "text": [
            "2023-04-23 19:58:33,836 [INFO] 90\t\t0.0\n"
          ]
        },
        {
          "output_type": "stream",
          "name": "stderr",
          "text": [
            "INFO:NEURONIOUtils:90\t\t0.0\n"
          ]
        },
        {
          "output_type": "stream",
          "name": "stdout",
          "text": [
            "2023-04-23 19:58:33,838 [INFO] 91\t\t0.0\n"
          ]
        },
        {
          "output_type": "stream",
          "name": "stderr",
          "text": [
            "INFO:NEURONIOUtils:91\t\t0.0\n"
          ]
        },
        {
          "output_type": "stream",
          "name": "stdout",
          "text": [
            "2023-04-23 19:58:33,846 [INFO] 92\t\t0.0\n"
          ]
        },
        {
          "output_type": "stream",
          "name": "stderr",
          "text": [
            "INFO:NEURONIOUtils:92\t\t0.0\n"
          ]
        },
        {
          "output_type": "stream",
          "name": "stdout",
          "text": [
            "2023-04-23 19:58:33,849 [INFO] 93\t\t0.0\n"
          ]
        },
        {
          "output_type": "stream",
          "name": "stderr",
          "text": [
            "INFO:NEURONIOUtils:93\t\t0.0\n"
          ]
        },
        {
          "output_type": "stream",
          "name": "stdout",
          "text": [
            "2023-04-23 19:58:33,852 [INFO] 94\t\t0.0\n"
          ]
        },
        {
          "output_type": "stream",
          "name": "stderr",
          "text": [
            "INFO:NEURONIOUtils:94\t\t0.0\n"
          ]
        },
        {
          "output_type": "stream",
          "name": "stdout",
          "text": [
            "2023-04-23 19:58:33,857 [INFO] 95\t\t0.0\n"
          ]
        },
        {
          "output_type": "stream",
          "name": "stderr",
          "text": [
            "INFO:NEURONIOUtils:95\t\t0.0\n"
          ]
        },
        {
          "output_type": "stream",
          "name": "stdout",
          "text": [
            "2023-04-23 19:58:33,860 [INFO] 96\t\t0.0\n"
          ]
        },
        {
          "output_type": "stream",
          "name": "stderr",
          "text": [
            "INFO:NEURONIOUtils:96\t\t0.0\n"
          ]
        },
        {
          "output_type": "stream",
          "name": "stdout",
          "text": [
            "2023-04-23 19:58:33,862 [INFO] 97\t\t0.0\n"
          ]
        },
        {
          "output_type": "stream",
          "name": "stderr",
          "text": [
            "INFO:NEURONIOUtils:97\t\t0.0\n"
          ]
        },
        {
          "output_type": "stream",
          "name": "stdout",
          "text": [
            "2023-04-23 19:58:33,866 [INFO] 98\t\t0.0\n"
          ]
        },
        {
          "output_type": "stream",
          "name": "stderr",
          "text": [
            "INFO:NEURONIOUtils:98\t\t0.0\n"
          ]
        },
        {
          "output_type": "stream",
          "name": "stdout",
          "text": [
            "2023-04-23 19:58:33,871 [INFO] 99\t\t0.0\n"
          ]
        },
        {
          "output_type": "stream",
          "name": "stderr",
          "text": [
            "INFO:NEURONIOUtils:99\t\t0.0\n"
          ]
        },
        {
          "output_type": "stream",
          "name": "stdout",
          "text": [
            "2023-04-23 19:58:33,874 [INFO] IMG firing rate avg: 2.0 Hz\n"
          ]
        },
        {
          "output_type": "stream",
          "name": "stderr",
          "text": [
            "INFO:NEURONIOUtils:IMG firing rate avg: 2.0 Hz\n"
          ]
        },
        {
          "output_type": "stream",
          "name": "stdout",
          "text": [
            "2023-04-23 19:58:33,884 [INFO] Volume = 0.8458 ml\n"
          ]
        },
        {
          "output_type": "stream",
          "name": "stderr",
          "text": [
            "/usr/local/lib/python3.9/dist-packages/bmtk/utils/reports/spike_trains/spike_trains.py:183: RuntimeWarning: divide by zero encountered in double_scalars\n",
            "  interval = -np.log(1.0 - np.random.uniform()) / fr\n",
            "INFO:NEURONIOUtils:Volume = 0.8458 ml\n"
          ]
        },
        {
          "output_type": "stream",
          "name": "stdout",
          "text": [
            "2023-04-23 19:58:33,894 [INFO] Pressure = 2.92 mmHg\n"
          ]
        },
        {
          "output_type": "stream",
          "name": "stderr",
          "text": [
            "INFO:NEURONIOUtils:Pressure = 2.92 mmHg\n"
          ]
        },
        {
          "output_type": "stream",
          "name": "stdout",
          "text": [
            "2023-04-23 19:58:33,899 [INFO] Calculated bladder afferent firing rate for the next time step = 0.00 Hz \n",
            " \n",
            "\n"
          ]
        },
        {
          "output_type": "stream",
          "name": "stderr",
          "text": [
            "INFO:NEURONIOUtils:Calculated bladder afferent firing rate for the next time step = 0.00 Hz \n",
            " \n",
            "\n"
          ]
        },
        {
          "output_type": "stream",
          "name": "stdout",
          "text": [
            "2023-04-23 19:58:37,690 [INFO]     step:155000 t_sim:31000.00 ms\n"
          ]
        },
        {
          "output_type": "stream",
          "name": "stderr",
          "text": [
            "INFO:NEURONIOUtils:    step:155000 t_sim:31000.00 ms\n"
          ]
        },
        {
          "output_type": "stream",
          "name": "stdout",
          "text": [
            "2023-04-23 19:58:37,717 [INFO] Timestep 30000.0 to 31000.0 ms\n"
          ]
        },
        {
          "output_type": "stream",
          "name": "stderr",
          "text": [
            "INFO:NEURONIOUtils:Timestep 30000.0 to 31000.0 ms\n"
          ]
        },
        {
          "output_type": "stream",
          "name": "stdout",
          "text": [
            "2023-04-23 19:58:37,722 [INFO] PGN node_id\t  Hz\n"
          ]
        },
        {
          "output_type": "stream",
          "name": "stderr",
          "text": [
            "INFO:NEURONIOUtils:PGN node_id\t  Hz\n"
          ]
        },
        {
          "output_type": "stream",
          "name": "stdout",
          "text": [
            "2023-04-23 19:58:37,726 [INFO] 70\t\t1.0\n"
          ]
        },
        {
          "output_type": "stream",
          "name": "stderr",
          "text": [
            "INFO:NEURONIOUtils:70\t\t1.0\n"
          ]
        },
        {
          "output_type": "stream",
          "name": "stdout",
          "text": [
            "2023-04-23 19:58:37,730 [INFO] 71\t\t1.0\n"
          ]
        },
        {
          "output_type": "stream",
          "name": "stderr",
          "text": [
            "INFO:NEURONIOUtils:71\t\t1.0\n"
          ]
        },
        {
          "output_type": "stream",
          "name": "stdout",
          "text": [
            "2023-04-23 19:58:37,732 [INFO] 72\t\t1.0\n"
          ]
        },
        {
          "output_type": "stream",
          "name": "stderr",
          "text": [
            "INFO:NEURONIOUtils:72\t\t1.0\n"
          ]
        },
        {
          "output_type": "stream",
          "name": "stdout",
          "text": [
            "2023-04-23 19:58:37,734 [INFO] 73\t\t1.0\n"
          ]
        },
        {
          "output_type": "stream",
          "name": "stderr",
          "text": [
            "INFO:NEURONIOUtils:73\t\t1.0\n"
          ]
        },
        {
          "output_type": "stream",
          "name": "stdout",
          "text": [
            "2023-04-23 19:58:37,736 [INFO] 74\t\t1.0\n"
          ]
        },
        {
          "output_type": "stream",
          "name": "stderr",
          "text": [
            "INFO:NEURONIOUtils:74\t\t1.0\n"
          ]
        },
        {
          "output_type": "stream",
          "name": "stdout",
          "text": [
            "2023-04-23 19:58:37,738 [INFO] 75\t\t1.0\n"
          ]
        },
        {
          "output_type": "stream",
          "name": "stderr",
          "text": [
            "INFO:NEURONIOUtils:75\t\t1.0\n"
          ]
        },
        {
          "output_type": "stream",
          "name": "stdout",
          "text": [
            "2023-04-23 19:58:37,740 [INFO] 76\t\t1.0\n"
          ]
        },
        {
          "output_type": "stream",
          "name": "stderr",
          "text": [
            "INFO:NEURONIOUtils:76\t\t1.0\n"
          ]
        },
        {
          "output_type": "stream",
          "name": "stdout",
          "text": [
            "2023-04-23 19:58:37,742 [INFO] 77\t\t1.0\n"
          ]
        },
        {
          "output_type": "stream",
          "name": "stderr",
          "text": [
            "INFO:NEURONIOUtils:77\t\t1.0\n"
          ]
        },
        {
          "output_type": "stream",
          "name": "stdout",
          "text": [
            "2023-04-23 19:58:37,744 [INFO] 78\t\t1.0\n"
          ]
        },
        {
          "output_type": "stream",
          "name": "stderr",
          "text": [
            "INFO:NEURONIOUtils:78\t\t1.0\n"
          ]
        },
        {
          "output_type": "stream",
          "name": "stdout",
          "text": [
            "2023-04-23 19:58:37,747 [INFO] 79\t\t1.0\n"
          ]
        },
        {
          "output_type": "stream",
          "name": "stderr",
          "text": [
            "INFO:NEURONIOUtils:79\t\t1.0\n"
          ]
        },
        {
          "output_type": "stream",
          "name": "stdout",
          "text": [
            "2023-04-23 19:58:37,752 [INFO] PGN firing rate avg: 1.0 Hz\n"
          ]
        },
        {
          "output_type": "stream",
          "name": "stderr",
          "text": [
            "INFO:NEURONIOUtils:PGN firing rate avg: 1.0 Hz\n"
          ]
        },
        {
          "output_type": "stream",
          "name": "stdout",
          "text": [
            "2023-04-23 19:58:37,753 [INFO] Grill PGN fr = 1.2690000000000001 Hz\n"
          ]
        },
        {
          "output_type": "stream",
          "name": "stderr",
          "text": [
            "INFO:NEURONIOUtils:Grill PGN fr = 1.2690000000000001 Hz\n"
          ]
        },
        {
          "output_type": "stream",
          "name": "stdout",
          "text": [
            "2023-04-23 19:58:37,755 [INFO] IMG node_gid\t  Hz\n"
          ]
        },
        {
          "output_type": "stream",
          "name": "stderr",
          "text": [
            "INFO:NEURONIOUtils:IMG node_gid\t  Hz\n"
          ]
        },
        {
          "output_type": "stream",
          "name": "stdout",
          "text": [
            "2023-04-23 19:58:37,757 [INFO] 90\t\t0.0\n"
          ]
        },
        {
          "output_type": "stream",
          "name": "stderr",
          "text": [
            "INFO:NEURONIOUtils:90\t\t0.0\n"
          ]
        },
        {
          "output_type": "stream",
          "name": "stdout",
          "text": [
            "2023-04-23 19:58:37,759 [INFO] 91\t\t1.0\n"
          ]
        },
        {
          "output_type": "stream",
          "name": "stderr",
          "text": [
            "INFO:NEURONIOUtils:91\t\t1.0\n"
          ]
        },
        {
          "output_type": "stream",
          "name": "stdout",
          "text": [
            "2023-04-23 19:58:37,761 [INFO] 92\t\t0.0\n"
          ]
        },
        {
          "output_type": "stream",
          "name": "stderr",
          "text": [
            "INFO:NEURONIOUtils:92\t\t0.0\n"
          ]
        },
        {
          "output_type": "stream",
          "name": "stdout",
          "text": [
            "2023-04-23 19:58:37,763 [INFO] 93\t\t1.0\n"
          ]
        },
        {
          "output_type": "stream",
          "name": "stderr",
          "text": [
            "INFO:NEURONIOUtils:93\t\t1.0\n"
          ]
        },
        {
          "output_type": "stream",
          "name": "stdout",
          "text": [
            "2023-04-23 19:58:37,766 [INFO] 94\t\t1.0\n"
          ]
        },
        {
          "output_type": "stream",
          "name": "stderr",
          "text": [
            "INFO:NEURONIOUtils:94\t\t1.0\n"
          ]
        },
        {
          "output_type": "stream",
          "name": "stdout",
          "text": [
            "2023-04-23 19:58:37,768 [INFO] 95\t\t0.0\n"
          ]
        },
        {
          "output_type": "stream",
          "name": "stderr",
          "text": [
            "INFO:NEURONIOUtils:95\t\t0.0\n"
          ]
        },
        {
          "output_type": "stream",
          "name": "stdout",
          "text": [
            "2023-04-23 19:58:37,770 [INFO] 96\t\t0.0\n"
          ]
        },
        {
          "output_type": "stream",
          "name": "stderr",
          "text": [
            "INFO:NEURONIOUtils:96\t\t0.0\n"
          ]
        },
        {
          "output_type": "stream",
          "name": "stdout",
          "text": [
            "2023-04-23 19:58:37,772 [INFO] 97\t\t1.0\n"
          ]
        },
        {
          "output_type": "stream",
          "name": "stderr",
          "text": [
            "INFO:NEURONIOUtils:97\t\t1.0\n"
          ]
        },
        {
          "output_type": "stream",
          "name": "stdout",
          "text": [
            "2023-04-23 19:58:37,774 [INFO] 98\t\t1.0\n"
          ]
        },
        {
          "output_type": "stream",
          "name": "stderr",
          "text": [
            "INFO:NEURONIOUtils:98\t\t1.0\n"
          ]
        },
        {
          "output_type": "stream",
          "name": "stdout",
          "text": [
            "2023-04-23 19:58:37,776 [INFO] 99\t\t1.0\n"
          ]
        },
        {
          "output_type": "stream",
          "name": "stderr",
          "text": [
            "INFO:NEURONIOUtils:99\t\t1.0\n"
          ]
        },
        {
          "output_type": "stream",
          "name": "stdout",
          "text": [
            "2023-04-23 19:58:37,778 [INFO] IMG firing rate avg: 1.0 Hz\n"
          ]
        },
        {
          "output_type": "stream",
          "name": "stderr",
          "text": [
            "INFO:NEURONIOUtils:IMG firing rate avg: 1.0 Hz\n"
          ]
        },
        {
          "output_type": "stream",
          "name": "stdout",
          "text": [
            "2023-04-23 19:58:37,786 [INFO] Volume = 0.8750 ml\n"
          ]
        },
        {
          "output_type": "stream",
          "name": "stderr",
          "text": [
            "/usr/local/lib/python3.9/dist-packages/bmtk/utils/reports/spike_trains/spike_trains.py:183: RuntimeWarning: divide by zero encountered in double_scalars\n",
            "  interval = -np.log(1.0 - np.random.uniform()) / fr\n",
            "INFO:NEURONIOUtils:Volume = 0.8750 ml\n"
          ]
        },
        {
          "output_type": "stream",
          "name": "stdout",
          "text": [
            "2023-04-23 19:58:37,792 [INFO] Pressure = 1.95 mmHg\n"
          ]
        },
        {
          "output_type": "stream",
          "name": "stderr",
          "text": [
            "INFO:NEURONIOUtils:Pressure = 1.95 mmHg\n"
          ]
        },
        {
          "output_type": "stream",
          "name": "stdout",
          "text": [
            "2023-04-23 19:58:37,795 [INFO] Calculated bladder afferent firing rate for the next time step = 0.00 Hz \n",
            " \n",
            "\n"
          ]
        },
        {
          "output_type": "stream",
          "name": "stderr",
          "text": [
            "INFO:NEURONIOUtils:Calculated bladder afferent firing rate for the next time step = 0.00 Hz \n",
            " \n",
            "\n"
          ]
        },
        {
          "output_type": "stream",
          "name": "stdout",
          "text": [
            "2023-04-23 19:58:40,994 [INFO]     step:160000 t_sim:32000.00 ms\n"
          ]
        },
        {
          "output_type": "stream",
          "name": "stderr",
          "text": [
            "INFO:NEURONIOUtils:    step:160000 t_sim:32000.00 ms\n"
          ]
        },
        {
          "output_type": "stream",
          "name": "stdout",
          "text": [
            "2023-04-23 19:58:41,008 [INFO] Timestep 31000.0 to 32000.0 ms\n"
          ]
        },
        {
          "output_type": "stream",
          "name": "stderr",
          "text": [
            "INFO:NEURONIOUtils:Timestep 31000.0 to 32000.0 ms\n"
          ]
        },
        {
          "output_type": "stream",
          "name": "stdout",
          "text": [
            "2023-04-23 19:58:41,012 [INFO] PGN node_id\t  Hz\n"
          ]
        },
        {
          "output_type": "stream",
          "name": "stderr",
          "text": [
            "INFO:NEURONIOUtils:PGN node_id\t  Hz\n"
          ]
        },
        {
          "output_type": "stream",
          "name": "stdout",
          "text": [
            "2023-04-23 19:58:41,016 [INFO] 70\t\t2.0\n"
          ]
        },
        {
          "output_type": "stream",
          "name": "stderr",
          "text": [
            "INFO:NEURONIOUtils:70\t\t2.0\n"
          ]
        },
        {
          "output_type": "stream",
          "name": "stdout",
          "text": [
            "2023-04-23 19:58:41,020 [INFO] 71\t\t2.0\n"
          ]
        },
        {
          "output_type": "stream",
          "name": "stderr",
          "text": [
            "INFO:NEURONIOUtils:71\t\t2.0\n"
          ]
        },
        {
          "output_type": "stream",
          "name": "stdout",
          "text": [
            "2023-04-23 19:58:41,022 [INFO] 72\t\t2.0\n"
          ]
        },
        {
          "output_type": "stream",
          "name": "stderr",
          "text": [
            "INFO:NEURONIOUtils:72\t\t2.0\n"
          ]
        },
        {
          "output_type": "stream",
          "name": "stdout",
          "text": [
            "2023-04-23 19:58:41,024 [INFO] 73\t\t2.0\n"
          ]
        },
        {
          "output_type": "stream",
          "name": "stderr",
          "text": [
            "INFO:NEURONIOUtils:73\t\t2.0\n"
          ]
        },
        {
          "output_type": "stream",
          "name": "stdout",
          "text": [
            "2023-04-23 19:58:41,026 [INFO] 74\t\t2.0\n"
          ]
        },
        {
          "output_type": "stream",
          "name": "stderr",
          "text": [
            "INFO:NEURONIOUtils:74\t\t2.0\n"
          ]
        },
        {
          "output_type": "stream",
          "name": "stdout",
          "text": [
            "2023-04-23 19:58:41,028 [INFO] 75\t\t2.0\n"
          ]
        },
        {
          "output_type": "stream",
          "name": "stderr",
          "text": [
            "INFO:NEURONIOUtils:75\t\t2.0\n"
          ]
        },
        {
          "output_type": "stream",
          "name": "stdout",
          "text": [
            "2023-04-23 19:58:41,030 [INFO] 76\t\t2.0\n"
          ]
        },
        {
          "output_type": "stream",
          "name": "stderr",
          "text": [
            "INFO:NEURONIOUtils:76\t\t2.0\n"
          ]
        },
        {
          "output_type": "stream",
          "name": "stdout",
          "text": [
            "2023-04-23 19:58:41,031 [INFO] 77\t\t2.0\n"
          ]
        },
        {
          "output_type": "stream",
          "name": "stderr",
          "text": [
            "INFO:NEURONIOUtils:77\t\t2.0\n"
          ]
        },
        {
          "output_type": "stream",
          "name": "stdout",
          "text": [
            "2023-04-23 19:58:41,033 [INFO] 78\t\t2.0\n"
          ]
        },
        {
          "output_type": "stream",
          "name": "stderr",
          "text": [
            "INFO:NEURONIOUtils:78\t\t2.0\n"
          ]
        },
        {
          "output_type": "stream",
          "name": "stdout",
          "text": [
            "2023-04-23 19:58:41,035 [INFO] 79\t\t2.0\n"
          ]
        },
        {
          "output_type": "stream",
          "name": "stderr",
          "text": [
            "INFO:NEURONIOUtils:79\t\t2.0\n"
          ]
        },
        {
          "output_type": "stream",
          "name": "stdout",
          "text": [
            "2023-04-23 19:58:41,037 [INFO] PGN firing rate avg: 2.0 Hz\n"
          ]
        },
        {
          "output_type": "stream",
          "name": "stderr",
          "text": [
            "INFO:NEURONIOUtils:PGN firing rate avg: 2.0 Hz\n"
          ]
        },
        {
          "output_type": "stream",
          "name": "stdout",
          "text": [
            "2023-04-23 19:58:41,038 [INFO] Grill PGN fr = 2.984 Hz\n"
          ]
        },
        {
          "output_type": "stream",
          "name": "stderr",
          "text": [
            "INFO:NEURONIOUtils:Grill PGN fr = 2.984 Hz\n"
          ]
        },
        {
          "output_type": "stream",
          "name": "stdout",
          "text": [
            "2023-04-23 19:58:41,041 [INFO] IMG node_gid\t  Hz\n"
          ]
        },
        {
          "output_type": "stream",
          "name": "stderr",
          "text": [
            "INFO:NEURONIOUtils:IMG node_gid\t  Hz\n"
          ]
        },
        {
          "output_type": "stream",
          "name": "stdout",
          "text": [
            "2023-04-23 19:58:41,043 [INFO] 90\t\t0.0\n"
          ]
        },
        {
          "output_type": "stream",
          "name": "stderr",
          "text": [
            "INFO:NEURONIOUtils:90\t\t0.0\n"
          ]
        },
        {
          "output_type": "stream",
          "name": "stdout",
          "text": [
            "2023-04-23 19:58:41,045 [INFO] 91\t\t1.0\n"
          ]
        },
        {
          "output_type": "stream",
          "name": "stderr",
          "text": [
            "INFO:NEURONIOUtils:91\t\t1.0\n"
          ]
        },
        {
          "output_type": "stream",
          "name": "stdout",
          "text": [
            "2023-04-23 19:58:41,047 [INFO] 92\t\t0.0\n"
          ]
        },
        {
          "output_type": "stream",
          "name": "stderr",
          "text": [
            "INFO:NEURONIOUtils:92\t\t0.0\n"
          ]
        },
        {
          "output_type": "stream",
          "name": "stdout",
          "text": [
            "2023-04-23 19:58:41,048 [INFO] 93\t\t1.0\n"
          ]
        },
        {
          "output_type": "stream",
          "name": "stderr",
          "text": [
            "INFO:NEURONIOUtils:93\t\t1.0\n"
          ]
        },
        {
          "output_type": "stream",
          "name": "stdout",
          "text": [
            "2023-04-23 19:58:41,050 [INFO] 94\t\t1.0\n"
          ]
        },
        {
          "output_type": "stream",
          "name": "stderr",
          "text": [
            "INFO:NEURONIOUtils:94\t\t1.0\n"
          ]
        },
        {
          "output_type": "stream",
          "name": "stdout",
          "text": [
            "2023-04-23 19:58:41,052 [INFO] 95\t\t0.0\n"
          ]
        },
        {
          "output_type": "stream",
          "name": "stderr",
          "text": [
            "INFO:NEURONIOUtils:95\t\t0.0\n"
          ]
        },
        {
          "output_type": "stream",
          "name": "stdout",
          "text": [
            "2023-04-23 19:58:41,054 [INFO] 96\t\t0.0\n"
          ]
        },
        {
          "output_type": "stream",
          "name": "stderr",
          "text": [
            "INFO:NEURONIOUtils:96\t\t0.0\n"
          ]
        },
        {
          "output_type": "stream",
          "name": "stdout",
          "text": [
            "2023-04-23 19:58:41,056 [INFO] 97\t\t1.0\n"
          ]
        },
        {
          "output_type": "stream",
          "name": "stderr",
          "text": [
            "INFO:NEURONIOUtils:97\t\t1.0\n"
          ]
        },
        {
          "output_type": "stream",
          "name": "stdout",
          "text": [
            "2023-04-23 19:58:41,058 [INFO] 98\t\t1.0\n"
          ]
        },
        {
          "output_type": "stream",
          "name": "stderr",
          "text": [
            "INFO:NEURONIOUtils:98\t\t1.0\n"
          ]
        },
        {
          "output_type": "stream",
          "name": "stdout",
          "text": [
            "2023-04-23 19:58:41,059 [INFO] 99\t\t1.0\n"
          ]
        },
        {
          "output_type": "stream",
          "name": "stderr",
          "text": [
            "INFO:NEURONIOUtils:99\t\t1.0\n"
          ]
        },
        {
          "output_type": "stream",
          "name": "stdout",
          "text": [
            "2023-04-23 19:58:41,061 [INFO] IMG firing rate avg: 2.0 Hz\n"
          ]
        },
        {
          "output_type": "stream",
          "name": "stderr",
          "text": [
            "INFO:NEURONIOUtils:IMG firing rate avg: 2.0 Hz\n"
          ]
        },
        {
          "output_type": "stream",
          "name": "stdout",
          "text": [
            "2023-04-23 19:58:41,070 [INFO] Volume = 0.9042 ml\n"
          ]
        },
        {
          "output_type": "stream",
          "name": "stderr",
          "text": [
            "/usr/local/lib/python3.9/dist-packages/bmtk/utils/reports/spike_trains/spike_trains.py:183: RuntimeWarning: divide by zero encountered in double_scalars\n",
            "  interval = -np.log(1.0 - np.random.uniform()) / fr\n",
            "INFO:NEURONIOUtils:Volume = 0.9042 ml\n"
          ]
        },
        {
          "output_type": "stream",
          "name": "stdout",
          "text": [
            "2023-04-23 19:58:41,078 [INFO] Pressure = 3.06 mmHg\n"
          ]
        },
        {
          "output_type": "stream",
          "name": "stderr",
          "text": [
            "INFO:NEURONIOUtils:Pressure = 3.06 mmHg\n"
          ]
        },
        {
          "output_type": "stream",
          "name": "stdout",
          "text": [
            "2023-04-23 19:58:41,082 [INFO] Calculated bladder afferent firing rate for the next time step = 0.00 Hz \n",
            " \n",
            "\n"
          ]
        },
        {
          "output_type": "stream",
          "name": "stderr",
          "text": [
            "INFO:NEURONIOUtils:Calculated bladder afferent firing rate for the next time step = 0.00 Hz \n",
            " \n",
            "\n"
          ]
        },
        {
          "output_type": "stream",
          "name": "stdout",
          "text": [
            "2023-04-23 19:58:43,994 [INFO]     step:165000 t_sim:33000.00 ms\n"
          ]
        },
        {
          "output_type": "stream",
          "name": "stderr",
          "text": [
            "INFO:NEURONIOUtils:    step:165000 t_sim:33000.00 ms\n"
          ]
        },
        {
          "output_type": "stream",
          "name": "stdout",
          "text": [
            "2023-04-23 19:58:44,010 [INFO] Timestep 32000.0 to 33000.0 ms\n"
          ]
        },
        {
          "output_type": "stream",
          "name": "stderr",
          "text": [
            "INFO:NEURONIOUtils:Timestep 32000.0 to 33000.0 ms\n"
          ]
        },
        {
          "output_type": "stream",
          "name": "stdout",
          "text": [
            "2023-04-23 19:58:44,014 [INFO] PGN node_id\t  Hz\n"
          ]
        },
        {
          "output_type": "stream",
          "name": "stderr",
          "text": [
            "INFO:NEURONIOUtils:PGN node_id\t  Hz\n"
          ]
        },
        {
          "output_type": "stream",
          "name": "stdout",
          "text": [
            "2023-04-23 19:58:44,018 [INFO] 70\t\t3.0\n"
          ]
        },
        {
          "output_type": "stream",
          "name": "stderr",
          "text": [
            "INFO:NEURONIOUtils:70\t\t3.0\n"
          ]
        },
        {
          "output_type": "stream",
          "name": "stdout",
          "text": [
            "2023-04-23 19:58:44,022 [INFO] 71\t\t3.0\n"
          ]
        },
        {
          "output_type": "stream",
          "name": "stderr",
          "text": [
            "INFO:NEURONIOUtils:71\t\t3.0\n"
          ]
        },
        {
          "output_type": "stream",
          "name": "stdout",
          "text": [
            "2023-04-23 19:58:44,024 [INFO] 72\t\t3.0\n"
          ]
        },
        {
          "output_type": "stream",
          "name": "stderr",
          "text": [
            "INFO:NEURONIOUtils:72\t\t3.0\n"
          ]
        },
        {
          "output_type": "stream",
          "name": "stdout",
          "text": [
            "2023-04-23 19:58:44,025 [INFO] 73\t\t3.0\n"
          ]
        },
        {
          "output_type": "stream",
          "name": "stderr",
          "text": [
            "INFO:NEURONIOUtils:73\t\t3.0\n"
          ]
        },
        {
          "output_type": "stream",
          "name": "stdout",
          "text": [
            "2023-04-23 19:58:44,027 [INFO] 74\t\t3.0\n"
          ]
        },
        {
          "output_type": "stream",
          "name": "stderr",
          "text": [
            "INFO:NEURONIOUtils:74\t\t3.0\n"
          ]
        },
        {
          "output_type": "stream",
          "name": "stdout",
          "text": [
            "2023-04-23 19:58:44,029 [INFO] 75\t\t3.0\n"
          ]
        },
        {
          "output_type": "stream",
          "name": "stderr",
          "text": [
            "INFO:NEURONIOUtils:75\t\t3.0\n"
          ]
        },
        {
          "output_type": "stream",
          "name": "stdout",
          "text": [
            "2023-04-23 19:58:44,031 [INFO] 76\t\t3.0\n"
          ]
        },
        {
          "output_type": "stream",
          "name": "stderr",
          "text": [
            "INFO:NEURONIOUtils:76\t\t3.0\n"
          ]
        },
        {
          "output_type": "stream",
          "name": "stdout",
          "text": [
            "2023-04-23 19:58:44,033 [INFO] 77\t\t3.0\n"
          ]
        },
        {
          "output_type": "stream",
          "name": "stderr",
          "text": [
            "INFO:NEURONIOUtils:77\t\t3.0\n"
          ]
        },
        {
          "output_type": "stream",
          "name": "stdout",
          "text": [
            "2023-04-23 19:58:44,036 [INFO] 78\t\t3.0\n"
          ]
        },
        {
          "output_type": "stream",
          "name": "stderr",
          "text": [
            "INFO:NEURONIOUtils:78\t\t3.0\n"
          ]
        },
        {
          "output_type": "stream",
          "name": "stdout",
          "text": [
            "2023-04-23 19:58:44,038 [INFO] 79\t\t3.0\n"
          ]
        },
        {
          "output_type": "stream",
          "name": "stderr",
          "text": [
            "INFO:NEURONIOUtils:79\t\t3.0\n"
          ]
        },
        {
          "output_type": "stream",
          "name": "stdout",
          "text": [
            "2023-04-23 19:58:44,039 [INFO] PGN firing rate avg: 3.0 Hz\n"
          ]
        },
        {
          "output_type": "stream",
          "name": "stderr",
          "text": [
            "INFO:NEURONIOUtils:PGN firing rate avg: 3.0 Hz\n"
          ]
        },
        {
          "output_type": "stream",
          "name": "stdout",
          "text": [
            "2023-04-23 19:58:44,041 [INFO] Grill PGN fr = 4.657 Hz\n"
          ]
        },
        {
          "output_type": "stream",
          "name": "stderr",
          "text": [
            "INFO:NEURONIOUtils:Grill PGN fr = 4.657 Hz\n"
          ]
        },
        {
          "output_type": "stream",
          "name": "stdout",
          "text": [
            "2023-04-23 19:58:44,043 [INFO] IMG node_gid\t  Hz\n"
          ]
        },
        {
          "output_type": "stream",
          "name": "stderr",
          "text": [
            "INFO:NEURONIOUtils:IMG node_gid\t  Hz\n"
          ]
        },
        {
          "output_type": "stream",
          "name": "stdout",
          "text": [
            "2023-04-23 19:58:44,045 [INFO] 90\t\t0.0\n"
          ]
        },
        {
          "output_type": "stream",
          "name": "stderr",
          "text": [
            "INFO:NEURONIOUtils:90\t\t0.0\n"
          ]
        },
        {
          "output_type": "stream",
          "name": "stdout",
          "text": [
            "2023-04-23 19:58:44,047 [INFO] 91\t\t1.0\n"
          ]
        },
        {
          "output_type": "stream",
          "name": "stderr",
          "text": [
            "INFO:NEURONIOUtils:91\t\t1.0\n"
          ]
        },
        {
          "output_type": "stream",
          "name": "stdout",
          "text": [
            "2023-04-23 19:58:44,049 [INFO] 92\t\t0.0\n"
          ]
        },
        {
          "output_type": "stream",
          "name": "stderr",
          "text": [
            "INFO:NEURONIOUtils:92\t\t0.0\n"
          ]
        },
        {
          "output_type": "stream",
          "name": "stdout",
          "text": [
            "2023-04-23 19:58:44,051 [INFO] 93\t\t1.0\n"
          ]
        },
        {
          "output_type": "stream",
          "name": "stderr",
          "text": [
            "INFO:NEURONIOUtils:93\t\t1.0\n"
          ]
        },
        {
          "output_type": "stream",
          "name": "stdout",
          "text": [
            "2023-04-23 19:58:44,053 [INFO] 94\t\t1.0\n"
          ]
        },
        {
          "output_type": "stream",
          "name": "stderr",
          "text": [
            "INFO:NEURONIOUtils:94\t\t1.0\n"
          ]
        },
        {
          "output_type": "stream",
          "name": "stdout",
          "text": [
            "2023-04-23 19:58:44,055 [INFO] 95\t\t0.0\n"
          ]
        },
        {
          "output_type": "stream",
          "name": "stderr",
          "text": [
            "INFO:NEURONIOUtils:95\t\t0.0\n"
          ]
        },
        {
          "output_type": "stream",
          "name": "stdout",
          "text": [
            "2023-04-23 19:58:44,057 [INFO] 96\t\t0.0\n"
          ]
        },
        {
          "output_type": "stream",
          "name": "stderr",
          "text": [
            "INFO:NEURONIOUtils:96\t\t0.0\n"
          ]
        },
        {
          "output_type": "stream",
          "name": "stdout",
          "text": [
            "2023-04-23 19:58:44,059 [INFO] 97\t\t1.0\n"
          ]
        },
        {
          "output_type": "stream",
          "name": "stderr",
          "text": [
            "INFO:NEURONIOUtils:97\t\t1.0\n"
          ]
        },
        {
          "output_type": "stream",
          "name": "stdout",
          "text": [
            "2023-04-23 19:58:44,060 [INFO] 98\t\t1.0\n"
          ]
        },
        {
          "output_type": "stream",
          "name": "stderr",
          "text": [
            "INFO:NEURONIOUtils:98\t\t1.0\n"
          ]
        },
        {
          "output_type": "stream",
          "name": "stdout",
          "text": [
            "2023-04-23 19:58:44,062 [INFO] 99\t\t1.0\n"
          ]
        },
        {
          "output_type": "stream",
          "name": "stderr",
          "text": [
            "INFO:NEURONIOUtils:99\t\t1.0\n"
          ]
        },
        {
          "output_type": "stream",
          "name": "stdout",
          "text": [
            "2023-04-23 19:58:44,064 [INFO] IMG firing rate avg: 3.0 Hz\n"
          ]
        },
        {
          "output_type": "stream",
          "name": "stderr",
          "text": [
            "INFO:NEURONIOUtils:IMG firing rate avg: 3.0 Hz\n"
          ]
        },
        {
          "output_type": "stream",
          "name": "stdout",
          "text": [
            "2023-04-23 19:58:44,076 [INFO] Volume = 0.9333 ml\n"
          ]
        },
        {
          "output_type": "stream",
          "name": "stderr",
          "text": [
            "/usr/local/lib/python3.9/dist-packages/bmtk/utils/reports/spike_trains/spike_trains.py:183: RuntimeWarning: divide by zero encountered in double_scalars\n",
            "  interval = -np.log(1.0 - np.random.uniform()) / fr\n",
            "INFO:NEURONIOUtils:Volume = 0.9333 ml\n"
          ]
        },
        {
          "output_type": "stream",
          "name": "stdout",
          "text": [
            "2023-04-23 19:58:44,085 [INFO] Pressure = 4.15 mmHg\n"
          ]
        },
        {
          "output_type": "stream",
          "name": "stderr",
          "text": [
            "INFO:NEURONIOUtils:Pressure = 4.15 mmHg\n"
          ]
        },
        {
          "output_type": "stream",
          "name": "stdout",
          "text": [
            "2023-04-23 19:58:44,087 [INFO] Calculated bladder afferent firing rate for the next time step = 0.00 Hz \n",
            " \n",
            "\n"
          ]
        },
        {
          "output_type": "stream",
          "name": "stderr",
          "text": [
            "INFO:NEURONIOUtils:Calculated bladder afferent firing rate for the next time step = 0.00 Hz \n",
            " \n",
            "\n"
          ]
        },
        {
          "output_type": "stream",
          "name": "stdout",
          "text": [
            "2023-04-23 19:58:48,132 [INFO]     step:170000 t_sim:34000.00 ms\n"
          ]
        },
        {
          "output_type": "stream",
          "name": "stderr",
          "text": [
            "INFO:NEURONIOUtils:    step:170000 t_sim:34000.00 ms\n"
          ]
        },
        {
          "output_type": "stream",
          "name": "stdout",
          "text": [
            "2023-04-23 19:58:48,148 [INFO] Timestep 33000.0 to 34000.0 ms\n"
          ]
        },
        {
          "output_type": "stream",
          "name": "stderr",
          "text": [
            "INFO:NEURONIOUtils:Timestep 33000.0 to 34000.0 ms\n"
          ]
        },
        {
          "output_type": "stream",
          "name": "stdout",
          "text": [
            "2023-04-23 19:58:48,156 [INFO] PGN node_id\t  Hz\n"
          ]
        },
        {
          "output_type": "stream",
          "name": "stderr",
          "text": [
            "INFO:NEURONIOUtils:PGN node_id\t  Hz\n"
          ]
        },
        {
          "output_type": "stream",
          "name": "stdout",
          "text": [
            "2023-04-23 19:58:48,160 [INFO] 70\t\t2.0\n"
          ]
        },
        {
          "output_type": "stream",
          "name": "stderr",
          "text": [
            "INFO:NEURONIOUtils:70\t\t2.0\n"
          ]
        },
        {
          "output_type": "stream",
          "name": "stdout",
          "text": [
            "2023-04-23 19:58:48,163 [INFO] 71\t\t2.0\n"
          ]
        },
        {
          "output_type": "stream",
          "name": "stderr",
          "text": [
            "INFO:NEURONIOUtils:71\t\t2.0\n"
          ]
        },
        {
          "output_type": "stream",
          "name": "stdout",
          "text": [
            "2023-04-23 19:58:48,166 [INFO] 72\t\t2.0\n"
          ]
        },
        {
          "output_type": "stream",
          "name": "stderr",
          "text": [
            "INFO:NEURONIOUtils:72\t\t2.0\n"
          ]
        },
        {
          "output_type": "stream",
          "name": "stdout",
          "text": [
            "2023-04-23 19:58:48,168 [INFO] 73\t\t2.0\n"
          ]
        },
        {
          "output_type": "stream",
          "name": "stderr",
          "text": [
            "INFO:NEURONIOUtils:73\t\t2.0\n"
          ]
        },
        {
          "output_type": "stream",
          "name": "stdout",
          "text": [
            "2023-04-23 19:58:48,170 [INFO] 74\t\t2.0\n"
          ]
        },
        {
          "output_type": "stream",
          "name": "stderr",
          "text": [
            "INFO:NEURONIOUtils:74\t\t2.0\n"
          ]
        },
        {
          "output_type": "stream",
          "name": "stdout",
          "text": [
            "2023-04-23 19:58:48,171 [INFO] 75\t\t2.0\n"
          ]
        },
        {
          "output_type": "stream",
          "name": "stderr",
          "text": [
            "INFO:NEURONIOUtils:75\t\t2.0\n"
          ]
        },
        {
          "output_type": "stream",
          "name": "stdout",
          "text": [
            "2023-04-23 19:58:48,173 [INFO] 76\t\t2.0\n"
          ]
        },
        {
          "output_type": "stream",
          "name": "stderr",
          "text": [
            "INFO:NEURONIOUtils:76\t\t2.0\n"
          ]
        },
        {
          "output_type": "stream",
          "name": "stdout",
          "text": [
            "2023-04-23 19:58:48,175 [INFO] 77\t\t2.0\n"
          ]
        },
        {
          "output_type": "stream",
          "name": "stderr",
          "text": [
            "INFO:NEURONIOUtils:77\t\t2.0\n"
          ]
        },
        {
          "output_type": "stream",
          "name": "stdout",
          "text": [
            "2023-04-23 19:58:48,178 [INFO] 78\t\t2.0\n"
          ]
        },
        {
          "output_type": "stream",
          "name": "stderr",
          "text": [
            "INFO:NEURONIOUtils:78\t\t2.0\n"
          ]
        },
        {
          "output_type": "stream",
          "name": "stdout",
          "text": [
            "2023-04-23 19:58:48,179 [INFO] 79\t\t2.0\n"
          ]
        },
        {
          "output_type": "stream",
          "name": "stderr",
          "text": [
            "INFO:NEURONIOUtils:79\t\t2.0\n"
          ]
        },
        {
          "output_type": "stream",
          "name": "stdout",
          "text": [
            "2023-04-23 19:58:48,181 [INFO] PGN firing rate avg: 2.0 Hz\n"
          ]
        },
        {
          "output_type": "stream",
          "name": "stderr",
          "text": [
            "INFO:NEURONIOUtils:PGN firing rate avg: 2.0 Hz\n"
          ]
        },
        {
          "output_type": "stream",
          "name": "stdout",
          "text": [
            "2023-04-23 19:58:48,183 [INFO] Grill PGN fr = 2.984 Hz\n"
          ]
        },
        {
          "output_type": "stream",
          "name": "stderr",
          "text": [
            "INFO:NEURONIOUtils:Grill PGN fr = 2.984 Hz\n"
          ]
        },
        {
          "output_type": "stream",
          "name": "stdout",
          "text": [
            "2023-04-23 19:58:48,185 [INFO] IMG node_gid\t  Hz\n"
          ]
        },
        {
          "output_type": "stream",
          "name": "stderr",
          "text": [
            "INFO:NEURONIOUtils:IMG node_gid\t  Hz\n"
          ]
        },
        {
          "output_type": "stream",
          "name": "stdout",
          "text": [
            "2023-04-23 19:58:48,187 [INFO] 90\t\t0.0\n"
          ]
        },
        {
          "output_type": "stream",
          "name": "stderr",
          "text": [
            "INFO:NEURONIOUtils:90\t\t0.0\n"
          ]
        },
        {
          "output_type": "stream",
          "name": "stdout",
          "text": [
            "2023-04-23 19:58:48,189 [INFO] 91\t\t1.0\n"
          ]
        },
        {
          "output_type": "stream",
          "name": "stderr",
          "text": [
            "INFO:NEURONIOUtils:91\t\t1.0\n"
          ]
        },
        {
          "output_type": "stream",
          "name": "stdout",
          "text": [
            "2023-04-23 19:58:48,191 [INFO] 92\t\t0.0\n"
          ]
        },
        {
          "output_type": "stream",
          "name": "stderr",
          "text": [
            "INFO:NEURONIOUtils:92\t\t0.0\n"
          ]
        },
        {
          "output_type": "stream",
          "name": "stdout",
          "text": [
            "2023-04-23 19:58:48,193 [INFO] 93\t\t1.0\n"
          ]
        },
        {
          "output_type": "stream",
          "name": "stderr",
          "text": [
            "INFO:NEURONIOUtils:93\t\t1.0\n"
          ]
        },
        {
          "output_type": "stream",
          "name": "stdout",
          "text": [
            "2023-04-23 19:58:48,195 [INFO] 94\t\t1.0\n"
          ]
        },
        {
          "output_type": "stream",
          "name": "stderr",
          "text": [
            "INFO:NEURONIOUtils:94\t\t1.0\n"
          ]
        },
        {
          "output_type": "stream",
          "name": "stdout",
          "text": [
            "2023-04-23 19:58:48,197 [INFO] 95\t\t0.0\n"
          ]
        },
        {
          "output_type": "stream",
          "name": "stderr",
          "text": [
            "INFO:NEURONIOUtils:95\t\t0.0\n"
          ]
        },
        {
          "output_type": "stream",
          "name": "stdout",
          "text": [
            "2023-04-23 19:58:48,199 [INFO] 96\t\t0.0\n"
          ]
        },
        {
          "output_type": "stream",
          "name": "stderr",
          "text": [
            "INFO:NEURONIOUtils:96\t\t0.0\n"
          ]
        },
        {
          "output_type": "stream",
          "name": "stdout",
          "text": [
            "2023-04-23 19:58:48,201 [INFO] 97\t\t1.0\n"
          ]
        },
        {
          "output_type": "stream",
          "name": "stderr",
          "text": [
            "INFO:NEURONIOUtils:97\t\t1.0\n"
          ]
        },
        {
          "output_type": "stream",
          "name": "stdout",
          "text": [
            "2023-04-23 19:58:48,203 [INFO] 98\t\t1.0\n"
          ]
        },
        {
          "output_type": "stream",
          "name": "stderr",
          "text": [
            "INFO:NEURONIOUtils:98\t\t1.0\n"
          ]
        },
        {
          "output_type": "stream",
          "name": "stdout",
          "text": [
            "2023-04-23 19:58:48,206 [INFO] 99\t\t1.0\n"
          ]
        },
        {
          "output_type": "stream",
          "name": "stderr",
          "text": [
            "INFO:NEURONIOUtils:99\t\t1.0\n"
          ]
        },
        {
          "output_type": "stream",
          "name": "stdout",
          "text": [
            "2023-04-23 19:58:48,208 [INFO] IMG firing rate avg: 2.0 Hz\n"
          ]
        },
        {
          "output_type": "stream",
          "name": "stderr",
          "text": [
            "INFO:NEURONIOUtils:IMG firing rate avg: 2.0 Hz\n"
          ]
        },
        {
          "output_type": "stream",
          "name": "stdout",
          "text": [
            "2023-04-23 19:58:48,217 [INFO] Volume = 0.9625 ml\n"
          ]
        },
        {
          "output_type": "stream",
          "name": "stderr",
          "text": [
            "/usr/local/lib/python3.9/dist-packages/bmtk/utils/reports/spike_trains/spike_trains.py:183: RuntimeWarning: divide by zero encountered in double_scalars\n",
            "  interval = -np.log(1.0 - np.random.uniform()) / fr\n",
            "INFO:NEURONIOUtils:Volume = 0.9625 ml\n"
          ]
        },
        {
          "output_type": "stream",
          "name": "stdout",
          "text": [
            "2023-04-23 19:58:48,226 [INFO] Pressure = 3.51 mmHg\n"
          ]
        },
        {
          "output_type": "stream",
          "name": "stderr",
          "text": [
            "INFO:NEURONIOUtils:Pressure = 3.51 mmHg\n"
          ]
        },
        {
          "output_type": "stream",
          "name": "stdout",
          "text": [
            "2023-04-23 19:58:48,228 [INFO] Calculated bladder afferent firing rate for the next time step = 0.00 Hz \n",
            " \n",
            "\n"
          ]
        },
        {
          "output_type": "stream",
          "name": "stderr",
          "text": [
            "INFO:NEURONIOUtils:Calculated bladder afferent firing rate for the next time step = 0.00 Hz \n",
            " \n",
            "\n"
          ]
        },
        {
          "output_type": "stream",
          "name": "stdout",
          "text": [
            "2023-04-23 19:58:52,114 [INFO]     step:175000 t_sim:35000.00 ms\n"
          ]
        },
        {
          "output_type": "stream",
          "name": "stderr",
          "text": [
            "INFO:NEURONIOUtils:    step:175000 t_sim:35000.00 ms\n"
          ]
        },
        {
          "output_type": "stream",
          "name": "stdout",
          "text": [
            "2023-04-23 19:58:52,133 [INFO] Timestep 34000.0 to 35000.0 ms\n"
          ]
        },
        {
          "output_type": "stream",
          "name": "stderr",
          "text": [
            "INFO:NEURONIOUtils:Timestep 34000.0 to 35000.0 ms\n"
          ]
        },
        {
          "output_type": "stream",
          "name": "stdout",
          "text": [
            "2023-04-23 19:58:52,140 [INFO] PGN node_id\t  Hz\n"
          ]
        },
        {
          "output_type": "stream",
          "name": "stderr",
          "text": [
            "INFO:NEURONIOUtils:PGN node_id\t  Hz\n"
          ]
        },
        {
          "output_type": "stream",
          "name": "stdout",
          "text": [
            "2023-04-23 19:58:52,145 [INFO] 70\t\t2.0\n"
          ]
        },
        {
          "output_type": "stream",
          "name": "stderr",
          "text": [
            "INFO:NEURONIOUtils:70\t\t2.0\n"
          ]
        },
        {
          "output_type": "stream",
          "name": "stdout",
          "text": [
            "2023-04-23 19:58:52,149 [INFO] 71\t\t2.0\n"
          ]
        },
        {
          "output_type": "stream",
          "name": "stderr",
          "text": [
            "INFO:NEURONIOUtils:71\t\t2.0\n"
          ]
        },
        {
          "output_type": "stream",
          "name": "stdout",
          "text": [
            "2023-04-23 19:58:52,151 [INFO] 72\t\t2.0\n"
          ]
        },
        {
          "output_type": "stream",
          "name": "stderr",
          "text": [
            "INFO:NEURONIOUtils:72\t\t2.0\n"
          ]
        },
        {
          "output_type": "stream",
          "name": "stdout",
          "text": [
            "2023-04-23 19:58:52,153 [INFO] 73\t\t2.0\n"
          ]
        },
        {
          "output_type": "stream",
          "name": "stderr",
          "text": [
            "INFO:NEURONIOUtils:73\t\t2.0\n"
          ]
        },
        {
          "output_type": "stream",
          "name": "stdout",
          "text": [
            "2023-04-23 19:58:52,160 [INFO] 74\t\t2.0\n"
          ]
        },
        {
          "output_type": "stream",
          "name": "stderr",
          "text": [
            "INFO:NEURONIOUtils:74\t\t2.0\n"
          ]
        },
        {
          "output_type": "stream",
          "name": "stdout",
          "text": [
            "2023-04-23 19:58:52,162 [INFO] 75\t\t2.0\n"
          ]
        },
        {
          "output_type": "stream",
          "name": "stderr",
          "text": [
            "INFO:NEURONIOUtils:75\t\t2.0\n"
          ]
        },
        {
          "output_type": "stream",
          "name": "stdout",
          "text": [
            "2023-04-23 19:58:52,164 [INFO] 76\t\t2.0\n"
          ]
        },
        {
          "output_type": "stream",
          "name": "stderr",
          "text": [
            "INFO:NEURONIOUtils:76\t\t2.0\n"
          ]
        },
        {
          "output_type": "stream",
          "name": "stdout",
          "text": [
            "2023-04-23 19:58:52,166 [INFO] 77\t\t2.0\n"
          ]
        },
        {
          "output_type": "stream",
          "name": "stderr",
          "text": [
            "INFO:NEURONIOUtils:77\t\t2.0\n"
          ]
        },
        {
          "output_type": "stream",
          "name": "stdout",
          "text": [
            "2023-04-23 19:58:52,169 [INFO] 78\t\t2.0\n"
          ]
        },
        {
          "output_type": "stream",
          "name": "stderr",
          "text": [
            "INFO:NEURONIOUtils:78\t\t2.0\n"
          ]
        },
        {
          "output_type": "stream",
          "name": "stdout",
          "text": [
            "2023-04-23 19:58:52,171 [INFO] 79\t\t2.0\n"
          ]
        },
        {
          "output_type": "stream",
          "name": "stderr",
          "text": [
            "INFO:NEURONIOUtils:79\t\t2.0\n"
          ]
        },
        {
          "output_type": "stream",
          "name": "stdout",
          "text": [
            "2023-04-23 19:58:52,174 [INFO] PGN firing rate avg: 2.0 Hz\n"
          ]
        },
        {
          "output_type": "stream",
          "name": "stderr",
          "text": [
            "INFO:NEURONIOUtils:PGN firing rate avg: 2.0 Hz\n"
          ]
        },
        {
          "output_type": "stream",
          "name": "stdout",
          "text": [
            "2023-04-23 19:58:52,176 [INFO] Grill PGN fr = 2.984 Hz\n"
          ]
        },
        {
          "output_type": "stream",
          "name": "stderr",
          "text": [
            "INFO:NEURONIOUtils:Grill PGN fr = 2.984 Hz\n"
          ]
        },
        {
          "output_type": "stream",
          "name": "stdout",
          "text": [
            "2023-04-23 19:58:52,178 [INFO] IMG node_gid\t  Hz\n"
          ]
        },
        {
          "output_type": "stream",
          "name": "stderr",
          "text": [
            "INFO:NEURONIOUtils:IMG node_gid\t  Hz\n"
          ]
        },
        {
          "output_type": "stream",
          "name": "stdout",
          "text": [
            "2023-04-23 19:58:52,180 [INFO] 90\t\t0.0\n"
          ]
        },
        {
          "output_type": "stream",
          "name": "stderr",
          "text": [
            "INFO:NEURONIOUtils:90\t\t0.0\n"
          ]
        },
        {
          "output_type": "stream",
          "name": "stdout",
          "text": [
            "2023-04-23 19:58:52,183 [INFO] 91\t\t1.0\n"
          ]
        },
        {
          "output_type": "stream",
          "name": "stderr",
          "text": [
            "INFO:NEURONIOUtils:91\t\t1.0\n"
          ]
        },
        {
          "output_type": "stream",
          "name": "stdout",
          "text": [
            "2023-04-23 19:58:52,186 [INFO] 92\t\t0.0\n"
          ]
        },
        {
          "output_type": "stream",
          "name": "stderr",
          "text": [
            "INFO:NEURONIOUtils:92\t\t0.0\n"
          ]
        },
        {
          "output_type": "stream",
          "name": "stdout",
          "text": [
            "2023-04-23 19:58:52,188 [INFO] 93\t\t1.0\n"
          ]
        },
        {
          "output_type": "stream",
          "name": "stderr",
          "text": [
            "INFO:NEURONIOUtils:93\t\t1.0\n"
          ]
        },
        {
          "output_type": "stream",
          "name": "stdout",
          "text": [
            "2023-04-23 19:58:52,190 [INFO] 94\t\t1.0\n"
          ]
        },
        {
          "output_type": "stream",
          "name": "stderr",
          "text": [
            "INFO:NEURONIOUtils:94\t\t1.0\n"
          ]
        },
        {
          "output_type": "stream",
          "name": "stdout",
          "text": [
            "2023-04-23 19:58:52,192 [INFO] 95\t\t0.0\n"
          ]
        },
        {
          "output_type": "stream",
          "name": "stderr",
          "text": [
            "INFO:NEURONIOUtils:95\t\t0.0\n"
          ]
        },
        {
          "output_type": "stream",
          "name": "stdout",
          "text": [
            "2023-04-23 19:58:52,194 [INFO] 96\t\t0.0\n"
          ]
        },
        {
          "output_type": "stream",
          "name": "stderr",
          "text": [
            "INFO:NEURONIOUtils:96\t\t0.0\n"
          ]
        },
        {
          "output_type": "stream",
          "name": "stdout",
          "text": [
            "2023-04-23 19:58:52,195 [INFO] 97\t\t1.0\n"
          ]
        },
        {
          "output_type": "stream",
          "name": "stderr",
          "text": [
            "INFO:NEURONIOUtils:97\t\t1.0\n"
          ]
        },
        {
          "output_type": "stream",
          "name": "stdout",
          "text": [
            "2023-04-23 19:58:52,197 [INFO] 98\t\t1.0\n"
          ]
        },
        {
          "output_type": "stream",
          "name": "stderr",
          "text": [
            "INFO:NEURONIOUtils:98\t\t1.0\n"
          ]
        },
        {
          "output_type": "stream",
          "name": "stdout",
          "text": [
            "2023-04-23 19:58:52,200 [INFO] 99\t\t1.0\n"
          ]
        },
        {
          "output_type": "stream",
          "name": "stderr",
          "text": [
            "INFO:NEURONIOUtils:99\t\t1.0\n"
          ]
        },
        {
          "output_type": "stream",
          "name": "stdout",
          "text": [
            "2023-04-23 19:58:52,202 [INFO] IMG firing rate avg: 2.0 Hz\n"
          ]
        },
        {
          "output_type": "stream",
          "name": "stderr",
          "text": [
            "INFO:NEURONIOUtils:IMG firing rate avg: 2.0 Hz\n"
          ]
        },
        {
          "output_type": "stream",
          "name": "stdout",
          "text": [
            "2023-04-23 19:58:52,210 [INFO] Volume = 0.9917 ml\n"
          ]
        },
        {
          "output_type": "stream",
          "name": "stderr",
          "text": [
            "/usr/local/lib/python3.9/dist-packages/bmtk/utils/reports/spike_trains/spike_trains.py:183: RuntimeWarning: divide by zero encountered in double_scalars\n",
            "  interval = -np.log(1.0 - np.random.uniform()) / fr\n",
            "INFO:NEURONIOUtils:Volume = 0.9917 ml\n"
          ]
        },
        {
          "output_type": "stream",
          "name": "stdout",
          "text": [
            "2023-04-23 19:58:52,213 [INFO] Pressure = 3.74 mmHg\n"
          ]
        },
        {
          "output_type": "stream",
          "name": "stderr",
          "text": [
            "INFO:NEURONIOUtils:Pressure = 3.74 mmHg\n"
          ]
        },
        {
          "output_type": "stream",
          "name": "stdout",
          "text": [
            "2023-04-23 19:58:52,215 [INFO] Calculated bladder afferent firing rate for the next time step = 0.00 Hz \n",
            " \n",
            "\n"
          ]
        },
        {
          "output_type": "stream",
          "name": "stderr",
          "text": [
            "INFO:NEURONIOUtils:Calculated bladder afferent firing rate for the next time step = 0.00 Hz \n",
            " \n",
            "\n"
          ]
        },
        {
          "output_type": "stream",
          "name": "stdout",
          "text": [
            "2023-04-23 19:58:55,770 [INFO]     step:180000 t_sim:36000.00 ms\n"
          ]
        },
        {
          "output_type": "stream",
          "name": "stderr",
          "text": [
            "INFO:NEURONIOUtils:    step:180000 t_sim:36000.00 ms\n"
          ]
        },
        {
          "output_type": "stream",
          "name": "stdout",
          "text": [
            "2023-04-23 19:58:55,787 [INFO] Timestep 35000.0 to 36000.0 ms\n"
          ]
        },
        {
          "output_type": "stream",
          "name": "stderr",
          "text": [
            "INFO:NEURONIOUtils:Timestep 35000.0 to 36000.0 ms\n"
          ]
        },
        {
          "output_type": "stream",
          "name": "stdout",
          "text": [
            "2023-04-23 19:58:55,795 [INFO] PGN node_id\t  Hz\n"
          ]
        },
        {
          "output_type": "stream",
          "name": "stderr",
          "text": [
            "INFO:NEURONIOUtils:PGN node_id\t  Hz\n"
          ]
        },
        {
          "output_type": "stream",
          "name": "stdout",
          "text": [
            "2023-04-23 19:58:55,801 [INFO] 70\t\t2.0\n"
          ]
        },
        {
          "output_type": "stream",
          "name": "stderr",
          "text": [
            "INFO:NEURONIOUtils:70\t\t2.0\n"
          ]
        },
        {
          "output_type": "stream",
          "name": "stdout",
          "text": [
            "2023-04-23 19:58:55,805 [INFO] 71\t\t2.0\n"
          ]
        },
        {
          "output_type": "stream",
          "name": "stderr",
          "text": [
            "INFO:NEURONIOUtils:71\t\t2.0\n"
          ]
        },
        {
          "output_type": "stream",
          "name": "stdout",
          "text": [
            "2023-04-23 19:58:55,807 [INFO] 72\t\t2.0\n"
          ]
        },
        {
          "output_type": "stream",
          "name": "stderr",
          "text": [
            "INFO:NEURONIOUtils:72\t\t2.0\n"
          ]
        },
        {
          "output_type": "stream",
          "name": "stdout",
          "text": [
            "2023-04-23 19:58:55,810 [INFO] 73\t\t2.0\n"
          ]
        },
        {
          "output_type": "stream",
          "name": "stderr",
          "text": [
            "INFO:NEURONIOUtils:73\t\t2.0\n"
          ]
        },
        {
          "output_type": "stream",
          "name": "stdout",
          "text": [
            "2023-04-23 19:58:55,814 [INFO] 74\t\t2.0\n"
          ]
        },
        {
          "output_type": "stream",
          "name": "stderr",
          "text": [
            "INFO:NEURONIOUtils:74\t\t2.0\n"
          ]
        },
        {
          "output_type": "stream",
          "name": "stdout",
          "text": [
            "2023-04-23 19:58:55,819 [INFO] 75\t\t2.0\n"
          ]
        },
        {
          "output_type": "stream",
          "name": "stderr",
          "text": [
            "INFO:NEURONIOUtils:75\t\t2.0\n"
          ]
        },
        {
          "output_type": "stream",
          "name": "stdout",
          "text": [
            "2023-04-23 19:58:55,824 [INFO] 76\t\t2.0\n"
          ]
        },
        {
          "output_type": "stream",
          "name": "stderr",
          "text": [
            "INFO:NEURONIOUtils:76\t\t2.0\n"
          ]
        },
        {
          "output_type": "stream",
          "name": "stdout",
          "text": [
            "2023-04-23 19:58:55,828 [INFO] 77\t\t2.0\n"
          ]
        },
        {
          "output_type": "stream",
          "name": "stderr",
          "text": [
            "INFO:NEURONIOUtils:77\t\t2.0\n"
          ]
        },
        {
          "output_type": "stream",
          "name": "stdout",
          "text": [
            "2023-04-23 19:58:55,832 [INFO] 78\t\t2.0\n"
          ]
        },
        {
          "output_type": "stream",
          "name": "stderr",
          "text": [
            "INFO:NEURONIOUtils:78\t\t2.0\n"
          ]
        },
        {
          "output_type": "stream",
          "name": "stdout",
          "text": [
            "2023-04-23 19:58:55,836 [INFO] 79\t\t2.0\n"
          ]
        },
        {
          "output_type": "stream",
          "name": "stderr",
          "text": [
            "INFO:NEURONIOUtils:79\t\t2.0\n"
          ]
        },
        {
          "output_type": "stream",
          "name": "stdout",
          "text": [
            "2023-04-23 19:58:55,841 [INFO] PGN firing rate avg: 2.0 Hz\n"
          ]
        },
        {
          "output_type": "stream",
          "name": "stderr",
          "text": [
            "INFO:NEURONIOUtils:PGN firing rate avg: 2.0 Hz\n"
          ]
        },
        {
          "output_type": "stream",
          "name": "stdout",
          "text": [
            "2023-04-23 19:58:55,845 [INFO] Grill PGN fr = 2.984 Hz\n"
          ]
        },
        {
          "output_type": "stream",
          "name": "stderr",
          "text": [
            "INFO:NEURONIOUtils:Grill PGN fr = 2.984 Hz\n"
          ]
        },
        {
          "output_type": "stream",
          "name": "stdout",
          "text": [
            "2023-04-23 19:58:55,852 [INFO] IMG node_gid\t  Hz\n"
          ]
        },
        {
          "output_type": "stream",
          "name": "stderr",
          "text": [
            "INFO:NEURONIOUtils:IMG node_gid\t  Hz\n"
          ]
        },
        {
          "output_type": "stream",
          "name": "stdout",
          "text": [
            "2023-04-23 19:58:55,856 [INFO] 90\t\t0.0\n"
          ]
        },
        {
          "output_type": "stream",
          "name": "stderr",
          "text": [
            "INFO:NEURONIOUtils:90\t\t0.0\n"
          ]
        },
        {
          "output_type": "stream",
          "name": "stdout",
          "text": [
            "2023-04-23 19:58:55,859 [INFO] 91\t\t1.0\n"
          ]
        },
        {
          "output_type": "stream",
          "name": "stderr",
          "text": [
            "INFO:NEURONIOUtils:91\t\t1.0\n"
          ]
        },
        {
          "output_type": "stream",
          "name": "stdout",
          "text": [
            "2023-04-23 19:58:55,863 [INFO] 92\t\t0.0\n"
          ]
        },
        {
          "output_type": "stream",
          "name": "stderr",
          "text": [
            "INFO:NEURONIOUtils:92\t\t0.0\n"
          ]
        },
        {
          "output_type": "stream",
          "name": "stdout",
          "text": [
            "2023-04-23 19:58:55,868 [INFO] 93\t\t1.0\n"
          ]
        },
        {
          "output_type": "stream",
          "name": "stderr",
          "text": [
            "INFO:NEURONIOUtils:93\t\t1.0\n"
          ]
        },
        {
          "output_type": "stream",
          "name": "stdout",
          "text": [
            "2023-04-23 19:58:55,875 [INFO] 94\t\t1.0\n"
          ]
        },
        {
          "output_type": "stream",
          "name": "stderr",
          "text": [
            "INFO:NEURONIOUtils:94\t\t1.0\n"
          ]
        },
        {
          "output_type": "stream",
          "name": "stdout",
          "text": [
            "2023-04-23 19:58:55,877 [INFO] 95\t\t0.0\n"
          ]
        },
        {
          "output_type": "stream",
          "name": "stderr",
          "text": [
            "INFO:NEURONIOUtils:95\t\t0.0\n"
          ]
        },
        {
          "output_type": "stream",
          "name": "stdout",
          "text": [
            "2023-04-23 19:58:55,880 [INFO] 96\t\t0.0\n"
          ]
        },
        {
          "output_type": "stream",
          "name": "stderr",
          "text": [
            "INFO:NEURONIOUtils:96\t\t0.0\n"
          ]
        },
        {
          "output_type": "stream",
          "name": "stdout",
          "text": [
            "2023-04-23 19:58:55,882 [INFO] 97\t\t1.0\n"
          ]
        },
        {
          "output_type": "stream",
          "name": "stderr",
          "text": [
            "INFO:NEURONIOUtils:97\t\t1.0\n"
          ]
        },
        {
          "output_type": "stream",
          "name": "stdout",
          "text": [
            "2023-04-23 19:58:55,884 [INFO] 98\t\t1.0\n"
          ]
        },
        {
          "output_type": "stream",
          "name": "stderr",
          "text": [
            "INFO:NEURONIOUtils:98\t\t1.0\n"
          ]
        },
        {
          "output_type": "stream",
          "name": "stdout",
          "text": [
            "2023-04-23 19:58:55,886 [INFO] 99\t\t1.0\n"
          ]
        },
        {
          "output_type": "stream",
          "name": "stderr",
          "text": [
            "INFO:NEURONIOUtils:99\t\t1.0\n"
          ]
        },
        {
          "output_type": "stream",
          "name": "stdout",
          "text": [
            "2023-04-23 19:58:55,888 [INFO] IMG firing rate avg: 2.0 Hz\n"
          ]
        },
        {
          "output_type": "stream",
          "name": "stderr",
          "text": [
            "INFO:NEURONIOUtils:IMG firing rate avg: 2.0 Hz\n"
          ]
        },
        {
          "output_type": "stream",
          "name": "stdout",
          "text": [
            "2023-04-23 19:58:55,896 [INFO] Volume = 1.0208 ml\n"
          ]
        },
        {
          "output_type": "stream",
          "name": "stderr",
          "text": [
            "/usr/local/lib/python3.9/dist-packages/bmtk/utils/reports/spike_trains/spike_trains.py:183: RuntimeWarning: divide by zero encountered in double_scalars\n",
            "  interval = -np.log(1.0 - np.random.uniform()) / fr\n",
            "INFO:NEURONIOUtils:Volume = 1.0208 ml\n"
          ]
        },
        {
          "output_type": "stream",
          "name": "stdout",
          "text": [
            "2023-04-23 19:58:55,904 [INFO] Pressure = 3.96 mmHg\n"
          ]
        },
        {
          "output_type": "stream",
          "name": "stderr",
          "text": [
            "INFO:NEURONIOUtils:Pressure = 3.96 mmHg\n"
          ]
        },
        {
          "output_type": "stream",
          "name": "stdout",
          "text": [
            "2023-04-23 19:58:55,906 [INFO] Calculated bladder afferent firing rate for the next time step = 0.00 Hz \n",
            " \n",
            "\n"
          ]
        },
        {
          "output_type": "stream",
          "name": "stderr",
          "text": [
            "INFO:NEURONIOUtils:Calculated bladder afferent firing rate for the next time step = 0.00 Hz \n",
            " \n",
            "\n"
          ]
        },
        {
          "output_type": "stream",
          "name": "stdout",
          "text": [
            "2023-04-23 19:58:59,477 [INFO]     step:185000 t_sim:37000.00 ms\n"
          ]
        },
        {
          "output_type": "stream",
          "name": "stderr",
          "text": [
            "INFO:NEURONIOUtils:    step:185000 t_sim:37000.00 ms\n"
          ]
        },
        {
          "output_type": "stream",
          "name": "stdout",
          "text": [
            "2023-04-23 19:58:59,505 [INFO] Timestep 36000.0 to 37000.0 ms\n"
          ]
        },
        {
          "output_type": "stream",
          "name": "stderr",
          "text": [
            "INFO:NEURONIOUtils:Timestep 36000.0 to 37000.0 ms\n"
          ]
        },
        {
          "output_type": "stream",
          "name": "stdout",
          "text": [
            "2023-04-23 19:58:59,510 [INFO] PGN node_id\t  Hz\n"
          ]
        },
        {
          "output_type": "stream",
          "name": "stderr",
          "text": [
            "INFO:NEURONIOUtils:PGN node_id\t  Hz\n"
          ]
        },
        {
          "output_type": "stream",
          "name": "stdout",
          "text": [
            "2023-04-23 19:58:59,517 [INFO] 70\t\t3.0\n"
          ]
        },
        {
          "output_type": "stream",
          "name": "stderr",
          "text": [
            "INFO:NEURONIOUtils:70\t\t3.0\n"
          ]
        },
        {
          "output_type": "stream",
          "name": "stdout",
          "text": [
            "2023-04-23 19:58:59,520 [INFO] 71\t\t3.0\n"
          ]
        },
        {
          "output_type": "stream",
          "name": "stderr",
          "text": [
            "INFO:NEURONIOUtils:71\t\t3.0\n"
          ]
        },
        {
          "output_type": "stream",
          "name": "stdout",
          "text": [
            "2023-04-23 19:58:59,522 [INFO] 72\t\t3.0\n"
          ]
        },
        {
          "output_type": "stream",
          "name": "stderr",
          "text": [
            "INFO:NEURONIOUtils:72\t\t3.0\n"
          ]
        },
        {
          "output_type": "stream",
          "name": "stdout",
          "text": [
            "2023-04-23 19:58:59,524 [INFO] 73\t\t3.0\n"
          ]
        },
        {
          "output_type": "stream",
          "name": "stderr",
          "text": [
            "INFO:NEURONIOUtils:73\t\t3.0\n"
          ]
        },
        {
          "output_type": "stream",
          "name": "stdout",
          "text": [
            "2023-04-23 19:58:59,526 [INFO] 74\t\t3.0\n"
          ]
        },
        {
          "output_type": "stream",
          "name": "stderr",
          "text": [
            "INFO:NEURONIOUtils:74\t\t3.0\n"
          ]
        },
        {
          "output_type": "stream",
          "name": "stdout",
          "text": [
            "2023-04-23 19:58:59,528 [INFO] 75\t\t3.0\n"
          ]
        },
        {
          "output_type": "stream",
          "name": "stderr",
          "text": [
            "INFO:NEURONIOUtils:75\t\t3.0\n"
          ]
        },
        {
          "output_type": "stream",
          "name": "stdout",
          "text": [
            "2023-04-23 19:58:59,535 [INFO] 76\t\t3.0\n"
          ]
        },
        {
          "output_type": "stream",
          "name": "stderr",
          "text": [
            "INFO:NEURONIOUtils:76\t\t3.0\n"
          ]
        },
        {
          "output_type": "stream",
          "name": "stdout",
          "text": [
            "2023-04-23 19:58:59,540 [INFO] 77\t\t3.0\n"
          ]
        },
        {
          "output_type": "stream",
          "name": "stderr",
          "text": [
            "INFO:NEURONIOUtils:77\t\t3.0\n"
          ]
        },
        {
          "output_type": "stream",
          "name": "stdout",
          "text": [
            "2023-04-23 19:58:59,542 [INFO] 78\t\t3.0\n"
          ]
        },
        {
          "output_type": "stream",
          "name": "stderr",
          "text": [
            "INFO:NEURONIOUtils:78\t\t3.0\n"
          ]
        },
        {
          "output_type": "stream",
          "name": "stdout",
          "text": [
            "2023-04-23 19:58:59,546 [INFO] 79\t\t3.0\n"
          ]
        },
        {
          "output_type": "stream",
          "name": "stderr",
          "text": [
            "INFO:NEURONIOUtils:79\t\t3.0\n"
          ]
        },
        {
          "output_type": "stream",
          "name": "stdout",
          "text": [
            "2023-04-23 19:58:59,549 [INFO] PGN firing rate avg: 3.0 Hz\n"
          ]
        },
        {
          "output_type": "stream",
          "name": "stderr",
          "text": [
            "INFO:NEURONIOUtils:PGN firing rate avg: 3.0 Hz\n"
          ]
        },
        {
          "output_type": "stream",
          "name": "stdout",
          "text": [
            "2023-04-23 19:58:59,552 [INFO] Grill PGN fr = 4.657 Hz\n"
          ]
        },
        {
          "output_type": "stream",
          "name": "stderr",
          "text": [
            "INFO:NEURONIOUtils:Grill PGN fr = 4.657 Hz\n"
          ]
        },
        {
          "output_type": "stream",
          "name": "stdout",
          "text": [
            "2023-04-23 19:58:59,556 [INFO] IMG node_gid\t  Hz\n"
          ]
        },
        {
          "output_type": "stream",
          "name": "stderr",
          "text": [
            "INFO:NEURONIOUtils:IMG node_gid\t  Hz\n"
          ]
        },
        {
          "output_type": "stream",
          "name": "stdout",
          "text": [
            "2023-04-23 19:58:59,558 [INFO] 90\t\t0.0\n"
          ]
        },
        {
          "output_type": "stream",
          "name": "stderr",
          "text": [
            "INFO:NEURONIOUtils:90\t\t0.0\n"
          ]
        },
        {
          "output_type": "stream",
          "name": "stdout",
          "text": [
            "2023-04-23 19:58:59,561 [INFO] 91\t\t1.0\n"
          ]
        },
        {
          "output_type": "stream",
          "name": "stderr",
          "text": [
            "INFO:NEURONIOUtils:91\t\t1.0\n"
          ]
        },
        {
          "output_type": "stream",
          "name": "stdout",
          "text": [
            "2023-04-23 19:58:59,564 [INFO] 92\t\t0.0\n"
          ]
        },
        {
          "output_type": "stream",
          "name": "stderr",
          "text": [
            "INFO:NEURONIOUtils:92\t\t0.0\n"
          ]
        },
        {
          "output_type": "stream",
          "name": "stdout",
          "text": [
            "2023-04-23 19:58:59,565 [INFO] 93\t\t1.0\n"
          ]
        },
        {
          "output_type": "stream",
          "name": "stderr",
          "text": [
            "INFO:NEURONIOUtils:93\t\t1.0\n"
          ]
        },
        {
          "output_type": "stream",
          "name": "stdout",
          "text": [
            "2023-04-23 19:58:59,567 [INFO] 94\t\t1.0\n"
          ]
        },
        {
          "output_type": "stream",
          "name": "stderr",
          "text": [
            "INFO:NEURONIOUtils:94\t\t1.0\n"
          ]
        },
        {
          "output_type": "stream",
          "name": "stdout",
          "text": [
            "2023-04-23 19:58:59,569 [INFO] 95\t\t0.0\n"
          ]
        },
        {
          "output_type": "stream",
          "name": "stderr",
          "text": [
            "INFO:NEURONIOUtils:95\t\t0.0\n"
          ]
        },
        {
          "output_type": "stream",
          "name": "stdout",
          "text": [
            "2023-04-23 19:58:59,571 [INFO] 96\t\t0.0\n"
          ]
        },
        {
          "output_type": "stream",
          "name": "stderr",
          "text": [
            "INFO:NEURONIOUtils:96\t\t0.0\n"
          ]
        },
        {
          "output_type": "stream",
          "name": "stdout",
          "text": [
            "2023-04-23 19:58:59,574 [INFO] 97\t\t1.0\n"
          ]
        },
        {
          "output_type": "stream",
          "name": "stderr",
          "text": [
            "INFO:NEURONIOUtils:97\t\t1.0\n"
          ]
        },
        {
          "output_type": "stream",
          "name": "stdout",
          "text": [
            "2023-04-23 19:58:59,576 [INFO] 98\t\t1.0\n"
          ]
        },
        {
          "output_type": "stream",
          "name": "stderr",
          "text": [
            "INFO:NEURONIOUtils:98\t\t1.0\n"
          ]
        },
        {
          "output_type": "stream",
          "name": "stdout",
          "text": [
            "2023-04-23 19:58:59,577 [INFO] 99\t\t1.0\n"
          ]
        },
        {
          "output_type": "stream",
          "name": "stderr",
          "text": [
            "INFO:NEURONIOUtils:99\t\t1.0\n"
          ]
        },
        {
          "output_type": "stream",
          "name": "stdout",
          "text": [
            "2023-04-23 19:58:59,583 [INFO] IMG firing rate avg: 3.0 Hz\n"
          ]
        },
        {
          "output_type": "stream",
          "name": "stderr",
          "text": [
            "INFO:NEURONIOUtils:IMG firing rate avg: 3.0 Hz\n"
          ]
        },
        {
          "output_type": "stream",
          "name": "stdout",
          "text": [
            "2023-04-23 19:58:59,593 [INFO] Volume = 1.0500 ml\n"
          ]
        },
        {
          "output_type": "stream",
          "name": "stderr",
          "text": [
            "/usr/local/lib/python3.9/dist-packages/bmtk/utils/reports/spike_trains/spike_trains.py:183: RuntimeWarning: divide by zero encountered in double_scalars\n",
            "  interval = -np.log(1.0 - np.random.uniform()) / fr\n",
            "INFO:NEURONIOUtils:Volume = 1.0500 ml\n"
          ]
        },
        {
          "output_type": "stream",
          "name": "stdout",
          "text": [
            "2023-04-23 19:58:59,596 [INFO] Pressure = 5.05 mmHg\n"
          ]
        },
        {
          "output_type": "stream",
          "name": "stderr",
          "text": [
            "INFO:NEURONIOUtils:Pressure = 5.05 mmHg\n"
          ]
        },
        {
          "output_type": "stream",
          "name": "stdout",
          "text": [
            "2023-04-23 19:58:59,599 [INFO] Calculated bladder afferent firing rate for the next time step = 0.00 Hz \n",
            " \n",
            "\n"
          ]
        },
        {
          "output_type": "stream",
          "name": "stderr",
          "text": [
            "INFO:NEURONIOUtils:Calculated bladder afferent firing rate for the next time step = 0.00 Hz \n",
            " \n",
            "\n"
          ]
        },
        {
          "output_type": "stream",
          "name": "stdout",
          "text": [
            "2023-04-23 19:59:03,415 [INFO]     step:190000 t_sim:38000.00 ms\n"
          ]
        },
        {
          "output_type": "stream",
          "name": "stderr",
          "text": [
            "INFO:NEURONIOUtils:    step:190000 t_sim:38000.00 ms\n"
          ]
        },
        {
          "output_type": "stream",
          "name": "stdout",
          "text": [
            "2023-04-23 19:59:03,430 [INFO] Timestep 37000.0 to 38000.0 ms\n"
          ]
        },
        {
          "output_type": "stream",
          "name": "stderr",
          "text": [
            "INFO:NEURONIOUtils:Timestep 37000.0 to 38000.0 ms\n"
          ]
        },
        {
          "output_type": "stream",
          "name": "stdout",
          "text": [
            "2023-04-23 19:59:03,434 [INFO] PGN node_id\t  Hz\n"
          ]
        },
        {
          "output_type": "stream",
          "name": "stderr",
          "text": [
            "INFO:NEURONIOUtils:PGN node_id\t  Hz\n"
          ]
        },
        {
          "output_type": "stream",
          "name": "stdout",
          "text": [
            "2023-04-23 19:59:03,440 [INFO] 70\t\t2.0\n"
          ]
        },
        {
          "output_type": "stream",
          "name": "stderr",
          "text": [
            "INFO:NEURONIOUtils:70\t\t2.0\n"
          ]
        },
        {
          "output_type": "stream",
          "name": "stdout",
          "text": [
            "2023-04-23 19:59:03,442 [INFO] 71\t\t2.0\n"
          ]
        },
        {
          "output_type": "stream",
          "name": "stderr",
          "text": [
            "INFO:NEURONIOUtils:71\t\t2.0\n"
          ]
        },
        {
          "output_type": "stream",
          "name": "stdout",
          "text": [
            "2023-04-23 19:59:03,445 [INFO] 72\t\t2.0\n"
          ]
        },
        {
          "output_type": "stream",
          "name": "stderr",
          "text": [
            "INFO:NEURONIOUtils:72\t\t2.0\n"
          ]
        },
        {
          "output_type": "stream",
          "name": "stdout",
          "text": [
            "2023-04-23 19:59:03,449 [INFO] 73\t\t2.0\n"
          ]
        },
        {
          "output_type": "stream",
          "name": "stderr",
          "text": [
            "INFO:NEURONIOUtils:73\t\t2.0\n"
          ]
        },
        {
          "output_type": "stream",
          "name": "stdout",
          "text": [
            "2023-04-23 19:59:03,451 [INFO] 74\t\t2.0\n"
          ]
        },
        {
          "output_type": "stream",
          "name": "stderr",
          "text": [
            "INFO:NEURONIOUtils:74\t\t2.0\n"
          ]
        },
        {
          "output_type": "stream",
          "name": "stdout",
          "text": [
            "2023-04-23 19:59:03,454 [INFO] 75\t\t2.0\n"
          ]
        },
        {
          "output_type": "stream",
          "name": "stderr",
          "text": [
            "INFO:NEURONIOUtils:75\t\t2.0\n"
          ]
        },
        {
          "output_type": "stream",
          "name": "stdout",
          "text": [
            "2023-04-23 19:59:03,458 [INFO] 76\t\t2.0\n"
          ]
        },
        {
          "output_type": "stream",
          "name": "stderr",
          "text": [
            "INFO:NEURONIOUtils:76\t\t2.0\n"
          ]
        },
        {
          "output_type": "stream",
          "name": "stdout",
          "text": [
            "2023-04-23 19:59:03,462 [INFO] 77\t\t2.0\n"
          ]
        },
        {
          "output_type": "stream",
          "name": "stderr",
          "text": [
            "INFO:NEURONIOUtils:77\t\t2.0\n"
          ]
        },
        {
          "output_type": "stream",
          "name": "stdout",
          "text": [
            "2023-04-23 19:59:03,464 [INFO] 78\t\t2.0\n"
          ]
        },
        {
          "output_type": "stream",
          "name": "stderr",
          "text": [
            "INFO:NEURONIOUtils:78\t\t2.0\n"
          ]
        },
        {
          "output_type": "stream",
          "name": "stdout",
          "text": [
            "2023-04-23 19:59:03,466 [INFO] 79\t\t2.0\n"
          ]
        },
        {
          "output_type": "stream",
          "name": "stderr",
          "text": [
            "INFO:NEURONIOUtils:79\t\t2.0\n"
          ]
        },
        {
          "output_type": "stream",
          "name": "stdout",
          "text": [
            "2023-04-23 19:59:03,468 [INFO] PGN firing rate avg: 2.0 Hz\n"
          ]
        },
        {
          "output_type": "stream",
          "name": "stderr",
          "text": [
            "INFO:NEURONIOUtils:PGN firing rate avg: 2.0 Hz\n"
          ]
        },
        {
          "output_type": "stream",
          "name": "stdout",
          "text": [
            "2023-04-23 19:59:03,470 [INFO] Grill PGN fr = 2.984 Hz\n"
          ]
        },
        {
          "output_type": "stream",
          "name": "stderr",
          "text": [
            "INFO:NEURONIOUtils:Grill PGN fr = 2.984 Hz\n"
          ]
        },
        {
          "output_type": "stream",
          "name": "stdout",
          "text": [
            "2023-04-23 19:59:03,475 [INFO] IMG node_gid\t  Hz\n"
          ]
        },
        {
          "output_type": "stream",
          "name": "stderr",
          "text": [
            "INFO:NEURONIOUtils:IMG node_gid\t  Hz\n"
          ]
        },
        {
          "output_type": "stream",
          "name": "stdout",
          "text": [
            "2023-04-23 19:59:03,477 [INFO] 90\t\t0.0\n"
          ]
        },
        {
          "output_type": "stream",
          "name": "stderr",
          "text": [
            "INFO:NEURONIOUtils:90\t\t0.0\n"
          ]
        },
        {
          "output_type": "stream",
          "name": "stdout",
          "text": [
            "2023-04-23 19:59:03,481 [INFO] 91\t\t1.0\n"
          ]
        },
        {
          "output_type": "stream",
          "name": "stderr",
          "text": [
            "INFO:NEURONIOUtils:91\t\t1.0\n"
          ]
        },
        {
          "output_type": "stream",
          "name": "stdout",
          "text": [
            "2023-04-23 19:59:03,486 [INFO] 92\t\t0.0\n"
          ]
        },
        {
          "output_type": "stream",
          "name": "stderr",
          "text": [
            "INFO:NEURONIOUtils:92\t\t0.0\n"
          ]
        },
        {
          "output_type": "stream",
          "name": "stdout",
          "text": [
            "2023-04-23 19:59:03,491 [INFO] 93\t\t1.0\n"
          ]
        },
        {
          "output_type": "stream",
          "name": "stderr",
          "text": [
            "INFO:NEURONIOUtils:93\t\t1.0\n"
          ]
        },
        {
          "output_type": "stream",
          "name": "stdout",
          "text": [
            "2023-04-23 19:59:03,494 [INFO] 94\t\t1.0\n"
          ]
        },
        {
          "output_type": "stream",
          "name": "stderr",
          "text": [
            "INFO:NEURONIOUtils:94\t\t1.0\n"
          ]
        },
        {
          "output_type": "stream",
          "name": "stdout",
          "text": [
            "2023-04-23 19:59:03,497 [INFO] 95\t\t0.0\n"
          ]
        },
        {
          "output_type": "stream",
          "name": "stderr",
          "text": [
            "INFO:NEURONIOUtils:95\t\t0.0\n"
          ]
        },
        {
          "output_type": "stream",
          "name": "stdout",
          "text": [
            "2023-04-23 19:59:03,499 [INFO] 96\t\t0.0\n"
          ]
        },
        {
          "output_type": "stream",
          "name": "stderr",
          "text": [
            "INFO:NEURONIOUtils:96\t\t0.0\n"
          ]
        },
        {
          "output_type": "stream",
          "name": "stdout",
          "text": [
            "2023-04-23 19:59:03,506 [INFO] 97\t\t1.0\n"
          ]
        },
        {
          "output_type": "stream",
          "name": "stderr",
          "text": [
            "INFO:NEURONIOUtils:97\t\t1.0\n"
          ]
        },
        {
          "output_type": "stream",
          "name": "stdout",
          "text": [
            "2023-04-23 19:59:03,508 [INFO] 98\t\t1.0\n"
          ]
        },
        {
          "output_type": "stream",
          "name": "stderr",
          "text": [
            "INFO:NEURONIOUtils:98\t\t1.0\n"
          ]
        },
        {
          "output_type": "stream",
          "name": "stdout",
          "text": [
            "2023-04-23 19:59:03,510 [INFO] 99\t\t1.0\n"
          ]
        },
        {
          "output_type": "stream",
          "name": "stderr",
          "text": [
            "INFO:NEURONIOUtils:99\t\t1.0\n"
          ]
        },
        {
          "output_type": "stream",
          "name": "stdout",
          "text": [
            "2023-04-23 19:59:03,515 [INFO] IMG firing rate avg: 2.0 Hz\n"
          ]
        },
        {
          "output_type": "stream",
          "name": "stderr",
          "text": [
            "INFO:NEURONIOUtils:IMG firing rate avg: 2.0 Hz\n"
          ]
        },
        {
          "output_type": "stream",
          "name": "stdout",
          "text": [
            "2023-04-23 19:59:03,528 [INFO] Volume = 1.0792 ml\n"
          ]
        },
        {
          "output_type": "stream",
          "name": "stderr",
          "text": [
            "/usr/local/lib/python3.9/dist-packages/bmtk/utils/reports/spike_trains/spike_trains.py:183: RuntimeWarning: divide by zero encountered in double_scalars\n",
            "  interval = -np.log(1.0 - np.random.uniform()) / fr\n",
            "INFO:NEURONIOUtils:Volume = 1.0792 ml\n"
          ]
        },
        {
          "output_type": "stream",
          "name": "stdout",
          "text": [
            "2023-04-23 19:59:03,535 [INFO] Pressure = 4.41 mmHg\n"
          ]
        },
        {
          "output_type": "stream",
          "name": "stderr",
          "text": [
            "INFO:NEURONIOUtils:Pressure = 4.41 mmHg\n"
          ]
        },
        {
          "output_type": "stream",
          "name": "stdout",
          "text": [
            "2023-04-23 19:59:03,538 [INFO] Calculated bladder afferent firing rate for the next time step = 0.00 Hz \n",
            " \n",
            "\n"
          ]
        },
        {
          "output_type": "stream",
          "name": "stderr",
          "text": [
            "INFO:NEURONIOUtils:Calculated bladder afferent firing rate for the next time step = 0.00 Hz \n",
            " \n",
            "\n"
          ]
        },
        {
          "output_type": "stream",
          "name": "stdout",
          "text": [
            "2023-04-23 19:59:07,239 [INFO]     step:195000 t_sim:39000.00 ms\n"
          ]
        },
        {
          "output_type": "stream",
          "name": "stderr",
          "text": [
            "INFO:NEURONIOUtils:    step:195000 t_sim:39000.00 ms\n"
          ]
        },
        {
          "output_type": "stream",
          "name": "stdout",
          "text": [
            "2023-04-23 19:59:07,253 [INFO] Timestep 38000.0 to 39000.0 ms\n"
          ]
        },
        {
          "output_type": "stream",
          "name": "stderr",
          "text": [
            "INFO:NEURONIOUtils:Timestep 38000.0 to 39000.0 ms\n"
          ]
        },
        {
          "output_type": "stream",
          "name": "stdout",
          "text": [
            "2023-04-23 19:59:07,257 [INFO] PGN node_id\t  Hz\n"
          ]
        },
        {
          "output_type": "stream",
          "name": "stderr",
          "text": [
            "INFO:NEURONIOUtils:PGN node_id\t  Hz\n"
          ]
        },
        {
          "output_type": "stream",
          "name": "stdout",
          "text": [
            "2023-04-23 19:59:07,261 [INFO] 70\t\t4.0\n"
          ]
        },
        {
          "output_type": "stream",
          "name": "stderr",
          "text": [
            "INFO:NEURONIOUtils:70\t\t4.0\n"
          ]
        },
        {
          "output_type": "stream",
          "name": "stdout",
          "text": [
            "2023-04-23 19:59:07,264 [INFO] 71\t\t4.0\n"
          ]
        },
        {
          "output_type": "stream",
          "name": "stderr",
          "text": [
            "INFO:NEURONIOUtils:71\t\t4.0\n"
          ]
        },
        {
          "output_type": "stream",
          "name": "stdout",
          "text": [
            "2023-04-23 19:59:07,266 [INFO] 72\t\t4.0\n"
          ]
        },
        {
          "output_type": "stream",
          "name": "stderr",
          "text": [
            "INFO:NEURONIOUtils:72\t\t4.0\n"
          ]
        },
        {
          "output_type": "stream",
          "name": "stdout",
          "text": [
            "2023-04-23 19:59:07,268 [INFO] 73\t\t4.0\n"
          ]
        },
        {
          "output_type": "stream",
          "name": "stderr",
          "text": [
            "INFO:NEURONIOUtils:73\t\t4.0\n"
          ]
        },
        {
          "output_type": "stream",
          "name": "stdout",
          "text": [
            "2023-04-23 19:59:07,270 [INFO] 74\t\t4.0\n"
          ]
        },
        {
          "output_type": "stream",
          "name": "stderr",
          "text": [
            "INFO:NEURONIOUtils:74\t\t4.0\n"
          ]
        },
        {
          "output_type": "stream",
          "name": "stdout",
          "text": [
            "2023-04-23 19:59:07,272 [INFO] 75\t\t4.0\n"
          ]
        },
        {
          "output_type": "stream",
          "name": "stderr",
          "text": [
            "INFO:NEURONIOUtils:75\t\t4.0\n"
          ]
        },
        {
          "output_type": "stream",
          "name": "stdout",
          "text": [
            "2023-04-23 19:59:07,274 [INFO] 76\t\t4.0\n"
          ]
        },
        {
          "output_type": "stream",
          "name": "stderr",
          "text": [
            "INFO:NEURONIOUtils:76\t\t4.0\n"
          ]
        },
        {
          "output_type": "stream",
          "name": "stdout",
          "text": [
            "2023-04-23 19:59:07,276 [INFO] 77\t\t4.0\n"
          ]
        },
        {
          "output_type": "stream",
          "name": "stderr",
          "text": [
            "INFO:NEURONIOUtils:77\t\t4.0\n"
          ]
        },
        {
          "output_type": "stream",
          "name": "stdout",
          "text": [
            "2023-04-23 19:59:07,278 [INFO] 78\t\t4.0\n"
          ]
        },
        {
          "output_type": "stream",
          "name": "stderr",
          "text": [
            "INFO:NEURONIOUtils:78\t\t4.0\n"
          ]
        },
        {
          "output_type": "stream",
          "name": "stdout",
          "text": [
            "2023-04-23 19:59:07,280 [INFO] 79\t\t4.0\n"
          ]
        },
        {
          "output_type": "stream",
          "name": "stderr",
          "text": [
            "INFO:NEURONIOUtils:79\t\t4.0\n"
          ]
        },
        {
          "output_type": "stream",
          "name": "stdout",
          "text": [
            "2023-04-23 19:59:07,282 [INFO] PGN firing rate avg: 4.0 Hz\n"
          ]
        },
        {
          "output_type": "stream",
          "name": "stderr",
          "text": [
            "INFO:NEURONIOUtils:PGN firing rate avg: 4.0 Hz\n"
          ]
        },
        {
          "output_type": "stream",
          "name": "stdout",
          "text": [
            "2023-04-23 19:59:07,284 [INFO] Grill PGN fr = 6.3 Hz\n"
          ]
        },
        {
          "output_type": "stream",
          "name": "stderr",
          "text": [
            "INFO:NEURONIOUtils:Grill PGN fr = 6.3 Hz\n"
          ]
        },
        {
          "output_type": "stream",
          "name": "stdout",
          "text": [
            "2023-04-23 19:59:07,286 [INFO] IMG node_gid\t  Hz\n"
          ]
        },
        {
          "output_type": "stream",
          "name": "stderr",
          "text": [
            "INFO:NEURONIOUtils:IMG node_gid\t  Hz\n"
          ]
        },
        {
          "output_type": "stream",
          "name": "stdout",
          "text": [
            "2023-04-23 19:59:07,289 [INFO] 90\t\t0.0\n"
          ]
        },
        {
          "output_type": "stream",
          "name": "stderr",
          "text": [
            "INFO:NEURONIOUtils:90\t\t0.0\n"
          ]
        },
        {
          "output_type": "stream",
          "name": "stdout",
          "text": [
            "2023-04-23 19:59:07,291 [INFO] 91\t\t1.0\n"
          ]
        },
        {
          "output_type": "stream",
          "name": "stderr",
          "text": [
            "INFO:NEURONIOUtils:91\t\t1.0\n"
          ]
        },
        {
          "output_type": "stream",
          "name": "stdout",
          "text": [
            "2023-04-23 19:59:07,293 [INFO] 92\t\t0.0\n"
          ]
        },
        {
          "output_type": "stream",
          "name": "stderr",
          "text": [
            "INFO:NEURONIOUtils:92\t\t0.0\n"
          ]
        },
        {
          "output_type": "stream",
          "name": "stdout",
          "text": [
            "2023-04-23 19:59:07,294 [INFO] 93\t\t1.0\n"
          ]
        },
        {
          "output_type": "stream",
          "name": "stderr",
          "text": [
            "INFO:NEURONIOUtils:93\t\t1.0\n"
          ]
        },
        {
          "output_type": "stream",
          "name": "stdout",
          "text": [
            "2023-04-23 19:59:07,296 [INFO] 94\t\t1.0\n"
          ]
        },
        {
          "output_type": "stream",
          "name": "stderr",
          "text": [
            "INFO:NEURONIOUtils:94\t\t1.0\n"
          ]
        },
        {
          "output_type": "stream",
          "name": "stdout",
          "text": [
            "2023-04-23 19:59:07,299 [INFO] 95\t\t0.0\n"
          ]
        },
        {
          "output_type": "stream",
          "name": "stderr",
          "text": [
            "INFO:NEURONIOUtils:95\t\t0.0\n"
          ]
        },
        {
          "output_type": "stream",
          "name": "stdout",
          "text": [
            "2023-04-23 19:59:07,301 [INFO] 96\t\t0.0\n"
          ]
        },
        {
          "output_type": "stream",
          "name": "stderr",
          "text": [
            "INFO:NEURONIOUtils:96\t\t0.0\n"
          ]
        },
        {
          "output_type": "stream",
          "name": "stdout",
          "text": [
            "2023-04-23 19:59:07,303 [INFO] 97\t\t1.0\n"
          ]
        },
        {
          "output_type": "stream",
          "name": "stderr",
          "text": [
            "INFO:NEURONIOUtils:97\t\t1.0\n"
          ]
        },
        {
          "output_type": "stream",
          "name": "stdout",
          "text": [
            "2023-04-23 19:59:07,309 [INFO] 98\t\t1.0\n"
          ]
        },
        {
          "output_type": "stream",
          "name": "stderr",
          "text": [
            "INFO:NEURONIOUtils:98\t\t1.0\n"
          ]
        },
        {
          "output_type": "stream",
          "name": "stdout",
          "text": [
            "2023-04-23 19:59:07,311 [INFO] 99\t\t1.0\n"
          ]
        },
        {
          "output_type": "stream",
          "name": "stderr",
          "text": [
            "INFO:NEURONIOUtils:99\t\t1.0\n"
          ]
        },
        {
          "output_type": "stream",
          "name": "stdout",
          "text": [
            "2023-04-23 19:59:07,313 [INFO] IMG firing rate avg: 4.0 Hz\n"
          ]
        },
        {
          "output_type": "stream",
          "name": "stderr",
          "text": [
            "INFO:NEURONIOUtils:IMG firing rate avg: 4.0 Hz\n"
          ]
        },
        {
          "output_type": "stream",
          "name": "stdout",
          "text": [
            "2023-04-23 19:59:07,328 [INFO] Volume = 1.1083 ml\n"
          ]
        },
        {
          "output_type": "stream",
          "name": "stderr",
          "text": [
            "/usr/local/lib/python3.9/dist-packages/bmtk/utils/reports/spike_trains/spike_trains.py:183: RuntimeWarning: divide by zero encountered in double_scalars\n",
            "  interval = -np.log(1.0 - np.random.uniform()) / fr\n",
            "INFO:NEURONIOUtils:Volume = 1.1083 ml\n"
          ]
        },
        {
          "output_type": "stream",
          "name": "stdout",
          "text": [
            "2023-04-23 19:59:07,332 [INFO] Pressure = 6.35 mmHg\n"
          ]
        },
        {
          "output_type": "stream",
          "name": "stderr",
          "text": [
            "INFO:NEURONIOUtils:Pressure = 6.35 mmHg\n"
          ]
        },
        {
          "output_type": "stream",
          "name": "stdout",
          "text": [
            "2023-04-23 19:59:07,334 [INFO] Calculated bladder afferent firing rate for the next time step = 0.00 Hz \n",
            " \n",
            "\n"
          ]
        },
        {
          "output_type": "stream",
          "name": "stderr",
          "text": [
            "INFO:NEURONIOUtils:Calculated bladder afferent firing rate for the next time step = 0.00 Hz \n",
            " \n",
            "\n"
          ]
        },
        {
          "output_type": "stream",
          "name": "stdout",
          "text": [
            "2023-04-23 19:59:10,669 [INFO]     step:200000 t_sim:40000.00 ms\n"
          ]
        },
        {
          "output_type": "stream",
          "name": "stderr",
          "text": [
            "INFO:NEURONIOUtils:    step:200000 t_sim:40000.00 ms\n"
          ]
        },
        {
          "output_type": "stream",
          "name": "stdout",
          "text": [
            "2023-04-23 19:59:10,688 [INFO] Timestep 39000.0 to 40000.0 ms\n"
          ]
        },
        {
          "output_type": "stream",
          "name": "stderr",
          "text": [
            "INFO:NEURONIOUtils:Timestep 39000.0 to 40000.0 ms\n"
          ]
        },
        {
          "output_type": "stream",
          "name": "stdout",
          "text": [
            "2023-04-23 19:59:10,694 [INFO] PGN node_id\t  Hz\n"
          ]
        },
        {
          "output_type": "stream",
          "name": "stderr",
          "text": [
            "INFO:NEURONIOUtils:PGN node_id\t  Hz\n"
          ]
        },
        {
          "output_type": "stream",
          "name": "stdout",
          "text": [
            "2023-04-23 19:59:10,696 [INFO] 70\t\t3.0\n"
          ]
        },
        {
          "output_type": "stream",
          "name": "stderr",
          "text": [
            "INFO:NEURONIOUtils:70\t\t3.0\n"
          ]
        },
        {
          "output_type": "stream",
          "name": "stdout",
          "text": [
            "2023-04-23 19:59:10,703 [INFO] 71\t\t3.0\n"
          ]
        },
        {
          "output_type": "stream",
          "name": "stderr",
          "text": [
            "INFO:NEURONIOUtils:71\t\t3.0\n"
          ]
        },
        {
          "output_type": "stream",
          "name": "stdout",
          "text": [
            "2023-04-23 19:59:10,705 [INFO] 72\t\t3.0\n"
          ]
        },
        {
          "output_type": "stream",
          "name": "stderr",
          "text": [
            "INFO:NEURONIOUtils:72\t\t3.0\n"
          ]
        },
        {
          "output_type": "stream",
          "name": "stdout",
          "text": [
            "2023-04-23 19:59:10,707 [INFO] 73\t\t3.0\n"
          ]
        },
        {
          "output_type": "stream",
          "name": "stderr",
          "text": [
            "INFO:NEURONIOUtils:73\t\t3.0\n"
          ]
        },
        {
          "output_type": "stream",
          "name": "stdout",
          "text": [
            "2023-04-23 19:59:10,710 [INFO] 74\t\t3.0\n"
          ]
        },
        {
          "output_type": "stream",
          "name": "stderr",
          "text": [
            "INFO:NEURONIOUtils:74\t\t3.0\n"
          ]
        },
        {
          "output_type": "stream",
          "name": "stdout",
          "text": [
            "2023-04-23 19:59:10,712 [INFO] 75\t\t3.0\n"
          ]
        },
        {
          "output_type": "stream",
          "name": "stderr",
          "text": [
            "INFO:NEURONIOUtils:75\t\t3.0\n"
          ]
        },
        {
          "output_type": "stream",
          "name": "stdout",
          "text": [
            "2023-04-23 19:59:10,715 [INFO] 76\t\t3.0\n"
          ]
        },
        {
          "output_type": "stream",
          "name": "stderr",
          "text": [
            "INFO:NEURONIOUtils:76\t\t3.0\n"
          ]
        },
        {
          "output_type": "stream",
          "name": "stdout",
          "text": [
            "2023-04-23 19:59:10,717 [INFO] 77\t\t3.0\n"
          ]
        },
        {
          "output_type": "stream",
          "name": "stderr",
          "text": [
            "INFO:NEURONIOUtils:77\t\t3.0\n"
          ]
        },
        {
          "output_type": "stream",
          "name": "stdout",
          "text": [
            "2023-04-23 19:59:10,720 [INFO] 78\t\t3.0\n"
          ]
        },
        {
          "output_type": "stream",
          "name": "stderr",
          "text": [
            "INFO:NEURONIOUtils:78\t\t3.0\n"
          ]
        },
        {
          "output_type": "stream",
          "name": "stdout",
          "text": [
            "2023-04-23 19:59:10,722 [INFO] 79\t\t3.0\n"
          ]
        },
        {
          "output_type": "stream",
          "name": "stderr",
          "text": [
            "INFO:NEURONIOUtils:79\t\t3.0\n"
          ]
        },
        {
          "output_type": "stream",
          "name": "stdout",
          "text": [
            "2023-04-23 19:59:10,724 [INFO] PGN firing rate avg: 3.0 Hz\n"
          ]
        },
        {
          "output_type": "stream",
          "name": "stderr",
          "text": [
            "INFO:NEURONIOUtils:PGN firing rate avg: 3.0 Hz\n"
          ]
        },
        {
          "output_type": "stream",
          "name": "stdout",
          "text": [
            "2023-04-23 19:59:10,727 [INFO] Grill PGN fr = 4.657 Hz\n"
          ]
        },
        {
          "output_type": "stream",
          "name": "stderr",
          "text": [
            "INFO:NEURONIOUtils:Grill PGN fr = 4.657 Hz\n"
          ]
        },
        {
          "output_type": "stream",
          "name": "stdout",
          "text": [
            "2023-04-23 19:59:10,729 [INFO] IMG node_gid\t  Hz\n"
          ]
        },
        {
          "output_type": "stream",
          "name": "stderr",
          "text": [
            "INFO:NEURONIOUtils:IMG node_gid\t  Hz\n"
          ]
        },
        {
          "output_type": "stream",
          "name": "stdout",
          "text": [
            "2023-04-23 19:59:10,731 [INFO] 90\t\t0.0\n"
          ]
        },
        {
          "output_type": "stream",
          "name": "stderr",
          "text": [
            "INFO:NEURONIOUtils:90\t\t0.0\n"
          ]
        },
        {
          "output_type": "stream",
          "name": "stdout",
          "text": [
            "2023-04-23 19:59:10,733 [INFO] 91\t\t1.0\n"
          ]
        },
        {
          "output_type": "stream",
          "name": "stderr",
          "text": [
            "INFO:NEURONIOUtils:91\t\t1.0\n"
          ]
        },
        {
          "output_type": "stream",
          "name": "stdout",
          "text": [
            "2023-04-23 19:59:10,736 [INFO] 92\t\t0.0\n"
          ]
        },
        {
          "output_type": "stream",
          "name": "stderr",
          "text": [
            "INFO:NEURONIOUtils:92\t\t0.0\n"
          ]
        },
        {
          "output_type": "stream",
          "name": "stdout",
          "text": [
            "2023-04-23 19:59:10,738 [INFO] 93\t\t1.0\n"
          ]
        },
        {
          "output_type": "stream",
          "name": "stderr",
          "text": [
            "INFO:NEURONIOUtils:93\t\t1.0\n"
          ]
        },
        {
          "output_type": "stream",
          "name": "stdout",
          "text": [
            "2023-04-23 19:59:10,741 [INFO] 94\t\t1.0\n"
          ]
        },
        {
          "output_type": "stream",
          "name": "stderr",
          "text": [
            "INFO:NEURONIOUtils:94\t\t1.0\n"
          ]
        },
        {
          "output_type": "stream",
          "name": "stdout",
          "text": [
            "2023-04-23 19:59:10,745 [INFO] 95\t\t0.0\n"
          ]
        },
        {
          "output_type": "stream",
          "name": "stderr",
          "text": [
            "INFO:NEURONIOUtils:95\t\t0.0\n"
          ]
        },
        {
          "output_type": "stream",
          "name": "stdout",
          "text": [
            "2023-04-23 19:59:10,747 [INFO] 96\t\t0.0\n"
          ]
        },
        {
          "output_type": "stream",
          "name": "stderr",
          "text": [
            "INFO:NEURONIOUtils:96\t\t0.0\n"
          ]
        },
        {
          "output_type": "stream",
          "name": "stdout",
          "text": [
            "2023-04-23 19:59:10,749 [INFO] 97\t\t1.0\n"
          ]
        },
        {
          "output_type": "stream",
          "name": "stderr",
          "text": [
            "INFO:NEURONIOUtils:97\t\t1.0\n"
          ]
        },
        {
          "output_type": "stream",
          "name": "stdout",
          "text": [
            "2023-04-23 19:59:10,752 [INFO] 98\t\t1.0\n"
          ]
        },
        {
          "output_type": "stream",
          "name": "stderr",
          "text": [
            "INFO:NEURONIOUtils:98\t\t1.0\n"
          ]
        },
        {
          "output_type": "stream",
          "name": "stdout",
          "text": [
            "2023-04-23 19:59:10,754 [INFO] 99\t\t1.0\n"
          ]
        },
        {
          "output_type": "stream",
          "name": "stderr",
          "text": [
            "INFO:NEURONIOUtils:99\t\t1.0\n"
          ]
        },
        {
          "output_type": "stream",
          "name": "stdout",
          "text": [
            "2023-04-23 19:59:10,756 [INFO] IMG firing rate avg: 3.0 Hz\n"
          ]
        },
        {
          "output_type": "stream",
          "name": "stderr",
          "text": [
            "INFO:NEURONIOUtils:IMG firing rate avg: 3.0 Hz\n"
          ]
        },
        {
          "output_type": "stream",
          "name": "stdout",
          "text": [
            "2023-04-23 19:59:10,766 [INFO] Volume = 1.1375 ml\n"
          ]
        },
        {
          "output_type": "stream",
          "name": "stderr",
          "text": [
            "/usr/local/lib/python3.9/dist-packages/bmtk/utils/reports/spike_trains/spike_trains.py:183: RuntimeWarning: divide by zero encountered in double_scalars\n",
            "  interval = -np.log(1.0 - np.random.uniform()) / fr\n",
            "INFO:NEURONIOUtils:Volume = 1.1375 ml\n"
          ]
        },
        {
          "output_type": "stream",
          "name": "stdout",
          "text": [
            "2023-04-23 19:59:10,770 [INFO] Pressure = 5.73 mmHg\n"
          ]
        },
        {
          "output_type": "stream",
          "name": "stderr",
          "text": [
            "INFO:NEURONIOUtils:Pressure = 5.73 mmHg\n"
          ]
        },
        {
          "output_type": "stream",
          "name": "stdout",
          "text": [
            "2023-04-23 19:59:10,772 [INFO] Calculated bladder afferent firing rate for the next time step = 0.00 Hz \n",
            " \n",
            "\n"
          ]
        },
        {
          "output_type": "stream",
          "name": "stderr",
          "text": [
            "INFO:NEURONIOUtils:Calculated bladder afferent firing rate for the next time step = 0.00 Hz \n",
            " \n",
            "\n"
          ]
        },
        {
          "output_type": "stream",
          "name": "stdout",
          "text": [
            "2023-04-23 19:59:14,011 [INFO]     step:205000 t_sim:41000.00 ms\n"
          ]
        },
        {
          "output_type": "stream",
          "name": "stderr",
          "text": [
            "INFO:NEURONIOUtils:    step:205000 t_sim:41000.00 ms\n"
          ]
        },
        {
          "output_type": "stream",
          "name": "stdout",
          "text": [
            "2023-04-23 19:59:14,026 [INFO] Timestep 40000.0 to 41000.0 ms\n"
          ]
        },
        {
          "output_type": "stream",
          "name": "stderr",
          "text": [
            "INFO:NEURONIOUtils:Timestep 40000.0 to 41000.0 ms\n"
          ]
        },
        {
          "output_type": "stream",
          "name": "stdout",
          "text": [
            "2023-04-23 19:59:14,032 [INFO] PGN node_id\t  Hz\n"
          ]
        },
        {
          "output_type": "stream",
          "name": "stderr",
          "text": [
            "INFO:NEURONIOUtils:PGN node_id\t  Hz\n"
          ]
        },
        {
          "output_type": "stream",
          "name": "stdout",
          "text": [
            "2023-04-23 19:59:14,036 [INFO] 70\t\t2.0\n"
          ]
        },
        {
          "output_type": "stream",
          "name": "stderr",
          "text": [
            "INFO:NEURONIOUtils:70\t\t2.0\n"
          ]
        },
        {
          "output_type": "stream",
          "name": "stdout",
          "text": [
            "2023-04-23 19:59:14,039 [INFO] 71\t\t2.0\n"
          ]
        },
        {
          "output_type": "stream",
          "name": "stderr",
          "text": [
            "INFO:NEURONIOUtils:71\t\t2.0\n"
          ]
        },
        {
          "output_type": "stream",
          "name": "stdout",
          "text": [
            "2023-04-23 19:59:14,041 [INFO] 72\t\t2.0\n"
          ]
        },
        {
          "output_type": "stream",
          "name": "stderr",
          "text": [
            "INFO:NEURONIOUtils:72\t\t2.0\n"
          ]
        },
        {
          "output_type": "stream",
          "name": "stdout",
          "text": [
            "2023-04-23 19:59:14,046 [INFO] 73\t\t2.0\n"
          ]
        },
        {
          "output_type": "stream",
          "name": "stderr",
          "text": [
            "INFO:NEURONIOUtils:73\t\t2.0\n"
          ]
        },
        {
          "output_type": "stream",
          "name": "stdout",
          "text": [
            "2023-04-23 19:59:14,048 [INFO] 74\t\t2.0\n"
          ]
        },
        {
          "output_type": "stream",
          "name": "stderr",
          "text": [
            "INFO:NEURONIOUtils:74\t\t2.0\n"
          ]
        },
        {
          "output_type": "stream",
          "name": "stdout",
          "text": [
            "2023-04-23 19:59:14,050 [INFO] 75\t\t2.0\n"
          ]
        },
        {
          "output_type": "stream",
          "name": "stderr",
          "text": [
            "INFO:NEURONIOUtils:75\t\t2.0\n"
          ]
        },
        {
          "output_type": "stream",
          "name": "stdout",
          "text": [
            "2023-04-23 19:59:14,053 [INFO] 76\t\t2.0\n"
          ]
        },
        {
          "output_type": "stream",
          "name": "stderr",
          "text": [
            "INFO:NEURONIOUtils:76\t\t2.0\n"
          ]
        },
        {
          "output_type": "stream",
          "name": "stdout",
          "text": [
            "2023-04-23 19:59:14,055 [INFO] 77\t\t2.0\n"
          ]
        },
        {
          "output_type": "stream",
          "name": "stderr",
          "text": [
            "INFO:NEURONIOUtils:77\t\t2.0\n"
          ]
        },
        {
          "output_type": "stream",
          "name": "stdout",
          "text": [
            "2023-04-23 19:59:14,057 [INFO] 78\t\t2.0\n"
          ]
        },
        {
          "output_type": "stream",
          "name": "stderr",
          "text": [
            "INFO:NEURONIOUtils:78\t\t2.0\n"
          ]
        },
        {
          "output_type": "stream",
          "name": "stdout",
          "text": [
            "2023-04-23 19:59:14,059 [INFO] 79\t\t2.0\n"
          ]
        },
        {
          "output_type": "stream",
          "name": "stderr",
          "text": [
            "INFO:NEURONIOUtils:79\t\t2.0\n"
          ]
        },
        {
          "output_type": "stream",
          "name": "stdout",
          "text": [
            "2023-04-23 19:59:14,062 [INFO] PGN firing rate avg: 2.0 Hz\n"
          ]
        },
        {
          "output_type": "stream",
          "name": "stderr",
          "text": [
            "INFO:NEURONIOUtils:PGN firing rate avg: 2.0 Hz\n"
          ]
        },
        {
          "output_type": "stream",
          "name": "stdout",
          "text": [
            "2023-04-23 19:59:14,064 [INFO] Grill PGN fr = 2.984 Hz\n"
          ]
        },
        {
          "output_type": "stream",
          "name": "stderr",
          "text": [
            "INFO:NEURONIOUtils:Grill PGN fr = 2.984 Hz\n"
          ]
        },
        {
          "output_type": "stream",
          "name": "stdout",
          "text": [
            "2023-04-23 19:59:14,066 [INFO] IMG node_gid\t  Hz\n"
          ]
        },
        {
          "output_type": "stream",
          "name": "stderr",
          "text": [
            "INFO:NEURONIOUtils:IMG node_gid\t  Hz\n"
          ]
        },
        {
          "output_type": "stream",
          "name": "stdout",
          "text": [
            "2023-04-23 19:59:14,068 [INFO] 90\t\t0.0\n"
          ]
        },
        {
          "output_type": "stream",
          "name": "stderr",
          "text": [
            "INFO:NEURONIOUtils:90\t\t0.0\n"
          ]
        },
        {
          "output_type": "stream",
          "name": "stdout",
          "text": [
            "2023-04-23 19:59:14,070 [INFO] 91\t\t1.0\n"
          ]
        },
        {
          "output_type": "stream",
          "name": "stderr",
          "text": [
            "INFO:NEURONIOUtils:91\t\t1.0\n"
          ]
        },
        {
          "output_type": "stream",
          "name": "stdout",
          "text": [
            "2023-04-23 19:59:14,072 [INFO] 92\t\t0.0\n"
          ]
        },
        {
          "output_type": "stream",
          "name": "stderr",
          "text": [
            "INFO:NEURONIOUtils:92\t\t0.0\n"
          ]
        },
        {
          "output_type": "stream",
          "name": "stdout",
          "text": [
            "2023-04-23 19:59:14,074 [INFO] 93\t\t1.0\n"
          ]
        },
        {
          "output_type": "stream",
          "name": "stderr",
          "text": [
            "INFO:NEURONIOUtils:93\t\t1.0\n"
          ]
        },
        {
          "output_type": "stream",
          "name": "stdout",
          "text": [
            "2023-04-23 19:59:14,077 [INFO] 94\t\t1.0\n"
          ]
        },
        {
          "output_type": "stream",
          "name": "stderr",
          "text": [
            "INFO:NEURONIOUtils:94\t\t1.0\n"
          ]
        },
        {
          "output_type": "stream",
          "name": "stdout",
          "text": [
            "2023-04-23 19:59:14,079 [INFO] 95\t\t0.0\n"
          ]
        },
        {
          "output_type": "stream",
          "name": "stderr",
          "text": [
            "INFO:NEURONIOUtils:95\t\t0.0\n"
          ]
        },
        {
          "output_type": "stream",
          "name": "stdout",
          "text": [
            "2023-04-23 19:59:14,081 [INFO] 96\t\t0.0\n"
          ]
        },
        {
          "output_type": "stream",
          "name": "stderr",
          "text": [
            "INFO:NEURONIOUtils:96\t\t0.0\n"
          ]
        },
        {
          "output_type": "stream",
          "name": "stdout",
          "text": [
            "2023-04-23 19:59:14,085 [INFO] 97\t\t1.0\n"
          ]
        },
        {
          "output_type": "stream",
          "name": "stderr",
          "text": [
            "INFO:NEURONIOUtils:97\t\t1.0\n"
          ]
        },
        {
          "output_type": "stream",
          "name": "stdout",
          "text": [
            "2023-04-23 19:59:14,091 [INFO] 98\t\t1.0\n"
          ]
        },
        {
          "output_type": "stream",
          "name": "stderr",
          "text": [
            "INFO:NEURONIOUtils:98\t\t1.0\n"
          ]
        },
        {
          "output_type": "stream",
          "name": "stdout",
          "text": [
            "2023-04-23 19:59:14,093 [INFO] 99\t\t1.0\n"
          ]
        },
        {
          "output_type": "stream",
          "name": "stderr",
          "text": [
            "INFO:NEURONIOUtils:99\t\t1.0\n"
          ]
        },
        {
          "output_type": "stream",
          "name": "stdout",
          "text": [
            "2023-04-23 19:59:14,095 [INFO] IMG firing rate avg: 2.0 Hz\n"
          ]
        },
        {
          "output_type": "stream",
          "name": "stderr",
          "text": [
            "INFO:NEURONIOUtils:IMG firing rate avg: 2.0 Hz\n"
          ]
        },
        {
          "output_type": "stream",
          "name": "stdout",
          "text": [
            "2023-04-23 19:59:14,104 [INFO] Volume = 1.1667 ml\n"
          ]
        },
        {
          "output_type": "stream",
          "name": "stderr",
          "text": [
            "/usr/local/lib/python3.9/dist-packages/bmtk/utils/reports/spike_trains/spike_trains.py:183: RuntimeWarning: divide by zero encountered in double_scalars\n",
            "  interval = -np.log(1.0 - np.random.uniform()) / fr\n",
            "INFO:NEURONIOUtils:Volume = 1.1667 ml\n"
          ]
        },
        {
          "output_type": "stream",
          "name": "stdout",
          "text": [
            "2023-04-23 19:59:14,110 [INFO] Pressure = 5.09 mmHg\n"
          ]
        },
        {
          "output_type": "stream",
          "name": "stderr",
          "text": [
            "INFO:NEURONIOUtils:Pressure = 5.09 mmHg\n"
          ]
        },
        {
          "output_type": "stream",
          "name": "stdout",
          "text": [
            "2023-04-23 19:59:14,112 [INFO] Calculated bladder afferent firing rate for the next time step = 0.00 Hz \n",
            " \n",
            "\n"
          ]
        },
        {
          "output_type": "stream",
          "name": "stderr",
          "text": [
            "INFO:NEURONIOUtils:Calculated bladder afferent firing rate for the next time step = 0.00 Hz \n",
            " \n",
            "\n"
          ]
        },
        {
          "output_type": "stream",
          "name": "stdout",
          "text": [
            "2023-04-23 19:59:18,040 [INFO]     step:210000 t_sim:42000.00 ms\n"
          ]
        },
        {
          "output_type": "stream",
          "name": "stderr",
          "text": [
            "INFO:NEURONIOUtils:    step:210000 t_sim:42000.00 ms\n"
          ]
        },
        {
          "output_type": "stream",
          "name": "stdout",
          "text": [
            "2023-04-23 19:59:18,054 [INFO] Timestep 41000.0 to 42000.0 ms\n"
          ]
        },
        {
          "output_type": "stream",
          "name": "stderr",
          "text": [
            "INFO:NEURONIOUtils:Timestep 41000.0 to 42000.0 ms\n"
          ]
        },
        {
          "output_type": "stream",
          "name": "stdout",
          "text": [
            "2023-04-23 19:59:18,059 [INFO] PGN node_id\t  Hz\n"
          ]
        },
        {
          "output_type": "stream",
          "name": "stderr",
          "text": [
            "INFO:NEURONIOUtils:PGN node_id\t  Hz\n"
          ]
        },
        {
          "output_type": "stream",
          "name": "stdout",
          "text": [
            "2023-04-23 19:59:18,063 [INFO] 70\t\t2.0\n"
          ]
        },
        {
          "output_type": "stream",
          "name": "stderr",
          "text": [
            "INFO:NEURONIOUtils:70\t\t2.0\n"
          ]
        },
        {
          "output_type": "stream",
          "name": "stdout",
          "text": [
            "2023-04-23 19:59:18,067 [INFO] 71\t\t2.0\n"
          ]
        },
        {
          "output_type": "stream",
          "name": "stderr",
          "text": [
            "INFO:NEURONIOUtils:71\t\t2.0\n"
          ]
        },
        {
          "output_type": "stream",
          "name": "stdout",
          "text": [
            "2023-04-23 19:59:18,069 [INFO] 72\t\t2.0\n"
          ]
        },
        {
          "output_type": "stream",
          "name": "stderr",
          "text": [
            "INFO:NEURONIOUtils:72\t\t2.0\n"
          ]
        },
        {
          "output_type": "stream",
          "name": "stdout",
          "text": [
            "2023-04-23 19:59:18,071 [INFO] 73\t\t2.0\n"
          ]
        },
        {
          "output_type": "stream",
          "name": "stderr",
          "text": [
            "INFO:NEURONIOUtils:73\t\t2.0\n"
          ]
        },
        {
          "output_type": "stream",
          "name": "stdout",
          "text": [
            "2023-04-23 19:59:18,073 [INFO] 74\t\t2.0\n"
          ]
        },
        {
          "output_type": "stream",
          "name": "stderr",
          "text": [
            "INFO:NEURONIOUtils:74\t\t2.0\n"
          ]
        },
        {
          "output_type": "stream",
          "name": "stdout",
          "text": [
            "2023-04-23 19:59:18,075 [INFO] 75\t\t2.0\n"
          ]
        },
        {
          "output_type": "stream",
          "name": "stderr",
          "text": [
            "INFO:NEURONIOUtils:75\t\t2.0\n"
          ]
        },
        {
          "output_type": "stream",
          "name": "stdout",
          "text": [
            "2023-04-23 19:59:18,077 [INFO] 76\t\t2.0\n"
          ]
        },
        {
          "output_type": "stream",
          "name": "stderr",
          "text": [
            "INFO:NEURONIOUtils:76\t\t2.0\n"
          ]
        },
        {
          "output_type": "stream",
          "name": "stdout",
          "text": [
            "2023-04-23 19:59:18,079 [INFO] 77\t\t2.0\n"
          ]
        },
        {
          "output_type": "stream",
          "name": "stderr",
          "text": [
            "INFO:NEURONIOUtils:77\t\t2.0\n"
          ]
        },
        {
          "output_type": "stream",
          "name": "stdout",
          "text": [
            "2023-04-23 19:59:18,081 [INFO] 78\t\t2.0\n"
          ]
        },
        {
          "output_type": "stream",
          "name": "stderr",
          "text": [
            "INFO:NEURONIOUtils:78\t\t2.0\n"
          ]
        },
        {
          "output_type": "stream",
          "name": "stdout",
          "text": [
            "2023-04-23 19:59:18,083 [INFO] 79\t\t2.0\n"
          ]
        },
        {
          "output_type": "stream",
          "name": "stderr",
          "text": [
            "INFO:NEURONIOUtils:79\t\t2.0\n"
          ]
        },
        {
          "output_type": "stream",
          "name": "stdout",
          "text": [
            "2023-04-23 19:59:18,086 [INFO] PGN firing rate avg: 2.0 Hz\n"
          ]
        },
        {
          "output_type": "stream",
          "name": "stderr",
          "text": [
            "INFO:NEURONIOUtils:PGN firing rate avg: 2.0 Hz\n"
          ]
        },
        {
          "output_type": "stream",
          "name": "stdout",
          "text": [
            "2023-04-23 19:59:18,089 [INFO] Grill PGN fr = 2.984 Hz\n"
          ]
        },
        {
          "output_type": "stream",
          "name": "stderr",
          "text": [
            "INFO:NEURONIOUtils:Grill PGN fr = 2.984 Hz\n"
          ]
        },
        {
          "output_type": "stream",
          "name": "stdout",
          "text": [
            "2023-04-23 19:59:18,091 [INFO] IMG node_gid\t  Hz\n"
          ]
        },
        {
          "output_type": "stream",
          "name": "stderr",
          "text": [
            "INFO:NEURONIOUtils:IMG node_gid\t  Hz\n"
          ]
        },
        {
          "output_type": "stream",
          "name": "stdout",
          "text": [
            "2023-04-23 19:59:18,093 [INFO] 90\t\t0.0\n"
          ]
        },
        {
          "output_type": "stream",
          "name": "stderr",
          "text": [
            "INFO:NEURONIOUtils:90\t\t0.0\n"
          ]
        },
        {
          "output_type": "stream",
          "name": "stdout",
          "text": [
            "2023-04-23 19:59:18,098 [INFO] 91\t\t1.0\n"
          ]
        },
        {
          "output_type": "stream",
          "name": "stderr",
          "text": [
            "INFO:NEURONIOUtils:91\t\t1.0\n"
          ]
        },
        {
          "output_type": "stream",
          "name": "stdout",
          "text": [
            "2023-04-23 19:59:18,102 [INFO] 92\t\t0.0\n"
          ]
        },
        {
          "output_type": "stream",
          "name": "stderr",
          "text": [
            "INFO:NEURONIOUtils:92\t\t0.0\n"
          ]
        },
        {
          "output_type": "stream",
          "name": "stdout",
          "text": [
            "2023-04-23 19:59:18,109 [INFO] 93\t\t1.0\n"
          ]
        },
        {
          "output_type": "stream",
          "name": "stderr",
          "text": [
            "INFO:NEURONIOUtils:93\t\t1.0\n"
          ]
        },
        {
          "output_type": "stream",
          "name": "stdout",
          "text": [
            "2023-04-23 19:59:18,112 [INFO] 94\t\t1.0\n"
          ]
        },
        {
          "output_type": "stream",
          "name": "stderr",
          "text": [
            "INFO:NEURONIOUtils:94\t\t1.0\n"
          ]
        },
        {
          "output_type": "stream",
          "name": "stdout",
          "text": [
            "2023-04-23 19:59:18,114 [INFO] 95\t\t0.0\n"
          ]
        },
        {
          "output_type": "stream",
          "name": "stderr",
          "text": [
            "INFO:NEURONIOUtils:95\t\t0.0\n"
          ]
        },
        {
          "output_type": "stream",
          "name": "stdout",
          "text": [
            "2023-04-23 19:59:18,118 [INFO] 96\t\t0.0\n"
          ]
        },
        {
          "output_type": "stream",
          "name": "stderr",
          "text": [
            "INFO:NEURONIOUtils:96\t\t0.0\n"
          ]
        },
        {
          "output_type": "stream",
          "name": "stdout",
          "text": [
            "2023-04-23 19:59:18,120 [INFO] 97\t\t1.0\n"
          ]
        },
        {
          "output_type": "stream",
          "name": "stderr",
          "text": [
            "INFO:NEURONIOUtils:97\t\t1.0\n"
          ]
        },
        {
          "output_type": "stream",
          "name": "stdout",
          "text": [
            "2023-04-23 19:59:18,125 [INFO] 98\t\t1.0\n"
          ]
        },
        {
          "output_type": "stream",
          "name": "stderr",
          "text": [
            "INFO:NEURONIOUtils:98\t\t1.0\n"
          ]
        },
        {
          "output_type": "stream",
          "name": "stdout",
          "text": [
            "2023-04-23 19:59:18,128 [INFO] 99\t\t1.0\n"
          ]
        },
        {
          "output_type": "stream",
          "name": "stderr",
          "text": [
            "INFO:NEURONIOUtils:99\t\t1.0\n"
          ]
        },
        {
          "output_type": "stream",
          "name": "stdout",
          "text": [
            "2023-04-23 19:59:18,130 [INFO] IMG firing rate avg: 2.0 Hz\n"
          ]
        },
        {
          "output_type": "stream",
          "name": "stderr",
          "text": [
            "INFO:NEURONIOUtils:IMG firing rate avg: 2.0 Hz\n"
          ]
        },
        {
          "output_type": "stream",
          "name": "stdout",
          "text": [
            "2023-04-23 19:59:18,146 [INFO] Volume = 1.1958 ml\n"
          ]
        },
        {
          "output_type": "stream",
          "name": "stderr",
          "text": [
            "/usr/local/lib/python3.9/dist-packages/bmtk/utils/reports/spike_trains/spike_trains.py:183: RuntimeWarning: divide by zero encountered in double_scalars\n",
            "  interval = -np.log(1.0 - np.random.uniform()) / fr\n",
            "INFO:NEURONIOUtils:Volume = 1.1958 ml\n"
          ]
        },
        {
          "output_type": "stream",
          "name": "stdout",
          "text": [
            "2023-04-23 19:59:18,155 [INFO] Pressure = 5.31 mmHg\n"
          ]
        },
        {
          "output_type": "stream",
          "name": "stderr",
          "text": [
            "INFO:NEURONIOUtils:Pressure = 5.31 mmHg\n"
          ]
        },
        {
          "output_type": "stream",
          "name": "stdout",
          "text": [
            "2023-04-23 19:59:18,158 [INFO] Calculated bladder afferent firing rate for the next time step = 0.00 Hz \n",
            " \n",
            "\n"
          ]
        },
        {
          "output_type": "stream",
          "name": "stderr",
          "text": [
            "INFO:NEURONIOUtils:Calculated bladder afferent firing rate for the next time step = 0.00 Hz \n",
            " \n",
            "\n"
          ]
        },
        {
          "output_type": "stream",
          "name": "stdout",
          "text": [
            "2023-04-23 19:59:22,076 [INFO]     step:215000 t_sim:43000.00 ms\n"
          ]
        },
        {
          "output_type": "stream",
          "name": "stderr",
          "text": [
            "INFO:NEURONIOUtils:    step:215000 t_sim:43000.00 ms\n"
          ]
        },
        {
          "output_type": "stream",
          "name": "stdout",
          "text": [
            "2023-04-23 19:59:22,089 [INFO] Timestep 42000.0 to 43000.0 ms\n"
          ]
        },
        {
          "output_type": "stream",
          "name": "stderr",
          "text": [
            "INFO:NEURONIOUtils:Timestep 42000.0 to 43000.0 ms\n"
          ]
        },
        {
          "output_type": "stream",
          "name": "stdout",
          "text": [
            "2023-04-23 19:59:22,095 [INFO] PGN node_id\t  Hz\n"
          ]
        },
        {
          "output_type": "stream",
          "name": "stderr",
          "text": [
            "INFO:NEURONIOUtils:PGN node_id\t  Hz\n"
          ]
        },
        {
          "output_type": "stream",
          "name": "stdout",
          "text": [
            "2023-04-23 19:59:22,100 [INFO] 70\t\t2.0\n"
          ]
        },
        {
          "output_type": "stream",
          "name": "stderr",
          "text": [
            "INFO:NEURONIOUtils:70\t\t2.0\n"
          ]
        },
        {
          "output_type": "stream",
          "name": "stdout",
          "text": [
            "2023-04-23 19:59:22,107 [INFO] 71\t\t2.0\n"
          ]
        },
        {
          "output_type": "stream",
          "name": "stderr",
          "text": [
            "INFO:NEURONIOUtils:71\t\t2.0\n"
          ]
        },
        {
          "output_type": "stream",
          "name": "stdout",
          "text": [
            "2023-04-23 19:59:22,109 [INFO] 72\t\t2.0\n"
          ]
        },
        {
          "output_type": "stream",
          "name": "stderr",
          "text": [
            "INFO:NEURONIOUtils:72\t\t2.0\n"
          ]
        },
        {
          "output_type": "stream",
          "name": "stdout",
          "text": [
            "2023-04-23 19:59:22,114 [INFO] 73\t\t2.0\n"
          ]
        },
        {
          "output_type": "stream",
          "name": "stderr",
          "text": [
            "INFO:NEURONIOUtils:73\t\t2.0\n"
          ]
        },
        {
          "output_type": "stream",
          "name": "stdout",
          "text": [
            "2023-04-23 19:59:22,116 [INFO] 74\t\t2.0\n"
          ]
        },
        {
          "output_type": "stream",
          "name": "stderr",
          "text": [
            "INFO:NEURONIOUtils:74\t\t2.0\n"
          ]
        },
        {
          "output_type": "stream",
          "name": "stdout",
          "text": [
            "2023-04-23 19:59:22,120 [INFO] 75\t\t2.0\n"
          ]
        },
        {
          "output_type": "stream",
          "name": "stderr",
          "text": [
            "INFO:NEURONIOUtils:75\t\t2.0\n"
          ]
        },
        {
          "output_type": "stream",
          "name": "stdout",
          "text": [
            "2023-04-23 19:59:22,122 [INFO] 76\t\t2.0\n"
          ]
        },
        {
          "output_type": "stream",
          "name": "stderr",
          "text": [
            "INFO:NEURONIOUtils:76\t\t2.0\n"
          ]
        },
        {
          "output_type": "stream",
          "name": "stdout",
          "text": [
            "2023-04-23 19:59:22,125 [INFO] 77\t\t2.0\n"
          ]
        },
        {
          "output_type": "stream",
          "name": "stderr",
          "text": [
            "INFO:NEURONIOUtils:77\t\t2.0\n"
          ]
        },
        {
          "output_type": "stream",
          "name": "stdout",
          "text": [
            "2023-04-23 19:59:22,127 [INFO] 78\t\t2.0\n"
          ]
        },
        {
          "output_type": "stream",
          "name": "stderr",
          "text": [
            "INFO:NEURONIOUtils:78\t\t2.0\n"
          ]
        },
        {
          "output_type": "stream",
          "name": "stdout",
          "text": [
            "2023-04-23 19:59:22,129 [INFO] 79\t\t2.0\n"
          ]
        },
        {
          "output_type": "stream",
          "name": "stderr",
          "text": [
            "INFO:NEURONIOUtils:79\t\t2.0\n"
          ]
        },
        {
          "output_type": "stream",
          "name": "stdout",
          "text": [
            "2023-04-23 19:59:22,132 [INFO] PGN firing rate avg: 2.0 Hz\n"
          ]
        },
        {
          "output_type": "stream",
          "name": "stderr",
          "text": [
            "INFO:NEURONIOUtils:PGN firing rate avg: 2.0 Hz\n"
          ]
        },
        {
          "output_type": "stream",
          "name": "stdout",
          "text": [
            "2023-04-23 19:59:22,134 [INFO] Grill PGN fr = 2.984 Hz\n"
          ]
        },
        {
          "output_type": "stream",
          "name": "stderr",
          "text": [
            "INFO:NEURONIOUtils:Grill PGN fr = 2.984 Hz\n"
          ]
        },
        {
          "output_type": "stream",
          "name": "stdout",
          "text": [
            "2023-04-23 19:59:22,136 [INFO] IMG node_gid\t  Hz\n"
          ]
        },
        {
          "output_type": "stream",
          "name": "stderr",
          "text": [
            "INFO:NEURONIOUtils:IMG node_gid\t  Hz\n"
          ]
        },
        {
          "output_type": "stream",
          "name": "stdout",
          "text": [
            "2023-04-23 19:59:22,138 [INFO] 90\t\t0.0\n"
          ]
        },
        {
          "output_type": "stream",
          "name": "stderr",
          "text": [
            "INFO:NEURONIOUtils:90\t\t0.0\n"
          ]
        },
        {
          "output_type": "stream",
          "name": "stdout",
          "text": [
            "2023-04-23 19:59:22,141 [INFO] 91\t\t1.0\n"
          ]
        },
        {
          "output_type": "stream",
          "name": "stderr",
          "text": [
            "INFO:NEURONIOUtils:91\t\t1.0\n"
          ]
        },
        {
          "output_type": "stream",
          "name": "stdout",
          "text": [
            "2023-04-23 19:59:22,143 [INFO] 92\t\t0.0\n"
          ]
        },
        {
          "output_type": "stream",
          "name": "stderr",
          "text": [
            "INFO:NEURONIOUtils:92\t\t0.0\n"
          ]
        },
        {
          "output_type": "stream",
          "name": "stdout",
          "text": [
            "2023-04-23 19:59:22,145 [INFO] 93\t\t1.0\n"
          ]
        },
        {
          "output_type": "stream",
          "name": "stderr",
          "text": [
            "INFO:NEURONIOUtils:93\t\t1.0\n"
          ]
        },
        {
          "output_type": "stream",
          "name": "stdout",
          "text": [
            "2023-04-23 19:59:22,148 [INFO] 94\t\t1.0\n"
          ]
        },
        {
          "output_type": "stream",
          "name": "stderr",
          "text": [
            "INFO:NEURONIOUtils:94\t\t1.0\n"
          ]
        },
        {
          "output_type": "stream",
          "name": "stdout",
          "text": [
            "2023-04-23 19:59:22,150 [INFO] 95\t\t0.0\n"
          ]
        },
        {
          "output_type": "stream",
          "name": "stderr",
          "text": [
            "INFO:NEURONIOUtils:95\t\t0.0\n"
          ]
        },
        {
          "output_type": "stream",
          "name": "stdout",
          "text": [
            "2023-04-23 19:59:22,151 [INFO] 96\t\t0.0\n"
          ]
        },
        {
          "output_type": "stream",
          "name": "stderr",
          "text": [
            "INFO:NEURONIOUtils:96\t\t0.0\n"
          ]
        },
        {
          "output_type": "stream",
          "name": "stdout",
          "text": [
            "2023-04-23 19:59:22,153 [INFO] 97\t\t1.0\n"
          ]
        },
        {
          "output_type": "stream",
          "name": "stderr",
          "text": [
            "INFO:NEURONIOUtils:97\t\t1.0\n"
          ]
        },
        {
          "output_type": "stream",
          "name": "stdout",
          "text": [
            "2023-04-23 19:59:22,155 [INFO] 98\t\t1.0\n"
          ]
        },
        {
          "output_type": "stream",
          "name": "stderr",
          "text": [
            "INFO:NEURONIOUtils:98\t\t1.0\n"
          ]
        },
        {
          "output_type": "stream",
          "name": "stdout",
          "text": [
            "2023-04-23 19:59:22,157 [INFO] 99\t\t1.0\n"
          ]
        },
        {
          "output_type": "stream",
          "name": "stderr",
          "text": [
            "INFO:NEURONIOUtils:99\t\t1.0\n"
          ]
        },
        {
          "output_type": "stream",
          "name": "stdout",
          "text": [
            "2023-04-23 19:59:22,159 [INFO] IMG firing rate avg: 2.0 Hz\n"
          ]
        },
        {
          "output_type": "stream",
          "name": "stderr",
          "text": [
            "INFO:NEURONIOUtils:IMG firing rate avg: 2.0 Hz\n"
          ]
        },
        {
          "output_type": "stream",
          "name": "stdout",
          "text": [
            "2023-04-23 19:59:22,169 [INFO] Volume = 1.2250 ml\n"
          ]
        },
        {
          "output_type": "stream",
          "name": "stderr",
          "text": [
            "/usr/local/lib/python3.9/dist-packages/bmtk/utils/reports/spike_trains/spike_trains.py:183: RuntimeWarning: divide by zero encountered in double_scalars\n",
            "  interval = -np.log(1.0 - np.random.uniform()) / fr\n",
            "INFO:NEURONIOUtils:Volume = 1.2250 ml\n"
          ]
        },
        {
          "output_type": "stream",
          "name": "stdout",
          "text": [
            "2023-04-23 19:59:22,178 [INFO] Pressure = 5.54 mmHg\n"
          ]
        },
        {
          "output_type": "stream",
          "name": "stderr",
          "text": [
            "INFO:NEURONIOUtils:Pressure = 5.54 mmHg\n"
          ]
        },
        {
          "output_type": "stream",
          "name": "stdout",
          "text": [
            "2023-04-23 19:59:22,181 [INFO] Calculated bladder afferent firing rate for the next time step = 0.00 Hz \n",
            " \n",
            "\n"
          ]
        },
        {
          "output_type": "stream",
          "name": "stderr",
          "text": [
            "INFO:NEURONIOUtils:Calculated bladder afferent firing rate for the next time step = 0.00 Hz \n",
            " \n",
            "\n"
          ]
        },
        {
          "output_type": "stream",
          "name": "stdout",
          "text": [
            "2023-04-23 19:59:25,697 [INFO]     step:220000 t_sim:44000.00 ms\n"
          ]
        },
        {
          "output_type": "stream",
          "name": "stderr",
          "text": [
            "INFO:NEURONIOUtils:    step:220000 t_sim:44000.00 ms\n"
          ]
        },
        {
          "output_type": "stream",
          "name": "stdout",
          "text": [
            "2023-04-23 19:59:25,711 [INFO] Timestep 43000.0 to 44000.0 ms\n"
          ]
        },
        {
          "output_type": "stream",
          "name": "stderr",
          "text": [
            "INFO:NEURONIOUtils:Timestep 43000.0 to 44000.0 ms\n"
          ]
        },
        {
          "output_type": "stream",
          "name": "stdout",
          "text": [
            "2023-04-23 19:59:25,716 [INFO] PGN node_id\t  Hz\n"
          ]
        },
        {
          "output_type": "stream",
          "name": "stderr",
          "text": [
            "INFO:NEURONIOUtils:PGN node_id\t  Hz\n"
          ]
        },
        {
          "output_type": "stream",
          "name": "stdout",
          "text": [
            "2023-04-23 19:59:25,721 [INFO] 70\t\t2.0\n"
          ]
        },
        {
          "output_type": "stream",
          "name": "stderr",
          "text": [
            "INFO:NEURONIOUtils:70\t\t2.0\n"
          ]
        },
        {
          "output_type": "stream",
          "name": "stdout",
          "text": [
            "2023-04-23 19:59:25,724 [INFO] 71\t\t2.0\n"
          ]
        },
        {
          "output_type": "stream",
          "name": "stderr",
          "text": [
            "INFO:NEURONIOUtils:71\t\t2.0\n"
          ]
        },
        {
          "output_type": "stream",
          "name": "stdout",
          "text": [
            "2023-04-23 19:59:25,725 [INFO] 72\t\t2.0\n"
          ]
        },
        {
          "output_type": "stream",
          "name": "stderr",
          "text": [
            "INFO:NEURONIOUtils:72\t\t2.0\n"
          ]
        },
        {
          "output_type": "stream",
          "name": "stdout",
          "text": [
            "2023-04-23 19:59:25,727 [INFO] 73\t\t2.0\n"
          ]
        },
        {
          "output_type": "stream",
          "name": "stderr",
          "text": [
            "INFO:NEURONIOUtils:73\t\t2.0\n"
          ]
        },
        {
          "output_type": "stream",
          "name": "stdout",
          "text": [
            "2023-04-23 19:59:25,730 [INFO] 74\t\t2.0\n"
          ]
        },
        {
          "output_type": "stream",
          "name": "stderr",
          "text": [
            "INFO:NEURONIOUtils:74\t\t2.0\n"
          ]
        },
        {
          "output_type": "stream",
          "name": "stdout",
          "text": [
            "2023-04-23 19:59:25,734 [INFO] 75\t\t2.0\n"
          ]
        },
        {
          "output_type": "stream",
          "name": "stderr",
          "text": [
            "INFO:NEURONIOUtils:75\t\t2.0\n"
          ]
        },
        {
          "output_type": "stream",
          "name": "stdout",
          "text": [
            "2023-04-23 19:59:25,736 [INFO] 76\t\t2.0\n"
          ]
        },
        {
          "output_type": "stream",
          "name": "stderr",
          "text": [
            "INFO:NEURONIOUtils:76\t\t2.0\n"
          ]
        },
        {
          "output_type": "stream",
          "name": "stdout",
          "text": [
            "2023-04-23 19:59:25,738 [INFO] 77\t\t2.0\n"
          ]
        },
        {
          "output_type": "stream",
          "name": "stderr",
          "text": [
            "INFO:NEURONIOUtils:77\t\t2.0\n"
          ]
        },
        {
          "output_type": "stream",
          "name": "stdout",
          "text": [
            "2023-04-23 19:59:25,743 [INFO] 78\t\t2.0\n"
          ]
        },
        {
          "output_type": "stream",
          "name": "stderr",
          "text": [
            "INFO:NEURONIOUtils:78\t\t2.0\n"
          ]
        },
        {
          "output_type": "stream",
          "name": "stdout",
          "text": [
            "2023-04-23 19:59:25,745 [INFO] 79\t\t2.0\n"
          ]
        },
        {
          "output_type": "stream",
          "name": "stderr",
          "text": [
            "INFO:NEURONIOUtils:79\t\t2.0\n"
          ]
        },
        {
          "output_type": "stream",
          "name": "stdout",
          "text": [
            "2023-04-23 19:59:25,747 [INFO] PGN firing rate avg: 2.0 Hz\n"
          ]
        },
        {
          "output_type": "stream",
          "name": "stderr",
          "text": [
            "INFO:NEURONIOUtils:PGN firing rate avg: 2.0 Hz\n"
          ]
        },
        {
          "output_type": "stream",
          "name": "stdout",
          "text": [
            "2023-04-23 19:59:25,749 [INFO] Grill PGN fr = 2.984 Hz\n"
          ]
        },
        {
          "output_type": "stream",
          "name": "stderr",
          "text": [
            "INFO:NEURONIOUtils:Grill PGN fr = 2.984 Hz\n"
          ]
        },
        {
          "output_type": "stream",
          "name": "stdout",
          "text": [
            "2023-04-23 19:59:25,754 [INFO] IMG node_gid\t  Hz\n"
          ]
        },
        {
          "output_type": "stream",
          "name": "stderr",
          "text": [
            "INFO:NEURONIOUtils:IMG node_gid\t  Hz\n"
          ]
        },
        {
          "output_type": "stream",
          "name": "stdout",
          "text": [
            "2023-04-23 19:59:25,757 [INFO] 90\t\t0.0\n"
          ]
        },
        {
          "output_type": "stream",
          "name": "stderr",
          "text": [
            "INFO:NEURONIOUtils:90\t\t0.0\n"
          ]
        },
        {
          "output_type": "stream",
          "name": "stdout",
          "text": [
            "2023-04-23 19:59:25,759 [INFO] 91\t\t1.0\n"
          ]
        },
        {
          "output_type": "stream",
          "name": "stderr",
          "text": [
            "INFO:NEURONIOUtils:91\t\t1.0\n"
          ]
        },
        {
          "output_type": "stream",
          "name": "stdout",
          "text": [
            "2023-04-23 19:59:25,760 [INFO] 92\t\t0.0\n"
          ]
        },
        {
          "output_type": "stream",
          "name": "stderr",
          "text": [
            "INFO:NEURONIOUtils:92\t\t0.0\n"
          ]
        },
        {
          "output_type": "stream",
          "name": "stdout",
          "text": [
            "2023-04-23 19:59:25,762 [INFO] 93\t\t1.0\n"
          ]
        },
        {
          "output_type": "stream",
          "name": "stderr",
          "text": [
            "INFO:NEURONIOUtils:93\t\t1.0\n"
          ]
        },
        {
          "output_type": "stream",
          "name": "stdout",
          "text": [
            "2023-04-23 19:59:25,768 [INFO] 94\t\t1.0\n"
          ]
        },
        {
          "output_type": "stream",
          "name": "stderr",
          "text": [
            "INFO:NEURONIOUtils:94\t\t1.0\n"
          ]
        },
        {
          "output_type": "stream",
          "name": "stdout",
          "text": [
            "2023-04-23 19:59:25,770 [INFO] 95\t\t0.0\n"
          ]
        },
        {
          "output_type": "stream",
          "name": "stderr",
          "text": [
            "INFO:NEURONIOUtils:95\t\t0.0\n"
          ]
        },
        {
          "output_type": "stream",
          "name": "stdout",
          "text": [
            "2023-04-23 19:59:25,773 [INFO] 96\t\t0.0\n"
          ]
        },
        {
          "output_type": "stream",
          "name": "stderr",
          "text": [
            "INFO:NEURONIOUtils:96\t\t0.0\n"
          ]
        },
        {
          "output_type": "stream",
          "name": "stdout",
          "text": [
            "2023-04-23 19:59:25,779 [INFO] 97\t\t1.0\n"
          ]
        },
        {
          "output_type": "stream",
          "name": "stderr",
          "text": [
            "INFO:NEURONIOUtils:97\t\t1.0\n"
          ]
        },
        {
          "output_type": "stream",
          "name": "stdout",
          "text": [
            "2023-04-23 19:59:25,783 [INFO] 98\t\t1.0\n"
          ]
        },
        {
          "output_type": "stream",
          "name": "stderr",
          "text": [
            "INFO:NEURONIOUtils:98\t\t1.0\n"
          ]
        },
        {
          "output_type": "stream",
          "name": "stdout",
          "text": [
            "2023-04-23 19:59:25,786 [INFO] 99\t\t1.0\n"
          ]
        },
        {
          "output_type": "stream",
          "name": "stderr",
          "text": [
            "INFO:NEURONIOUtils:99\t\t1.0\n"
          ]
        },
        {
          "output_type": "stream",
          "name": "stdout",
          "text": [
            "2023-04-23 19:59:25,788 [INFO] IMG firing rate avg: 2.0 Hz\n"
          ]
        },
        {
          "output_type": "stream",
          "name": "stderr",
          "text": [
            "INFO:NEURONIOUtils:IMG firing rate avg: 2.0 Hz\n"
          ]
        },
        {
          "output_type": "stream",
          "name": "stdout",
          "text": [
            "2023-04-23 19:59:25,859 [INFO] Volume = 1.2542 ml\n"
          ]
        },
        {
          "output_type": "stream",
          "name": "stderr",
          "text": [
            "/usr/local/lib/python3.9/dist-packages/bmtk/utils/reports/spike_trains/spike_trains.py:183: RuntimeWarning: divide by zero encountered in double_scalars\n",
            "  interval = -np.log(1.0 - np.random.uniform()) / fr\n",
            "INFO:NEURONIOUtils:Volume = 1.2542 ml\n"
          ]
        },
        {
          "output_type": "stream",
          "name": "stdout",
          "text": [
            "2023-04-23 19:59:25,863 [INFO] Pressure = 5.76 mmHg\n"
          ]
        },
        {
          "output_type": "stream",
          "name": "stderr",
          "text": [
            "INFO:NEURONIOUtils:Pressure = 5.76 mmHg\n"
          ]
        },
        {
          "output_type": "stream",
          "name": "stdout",
          "text": [
            "2023-04-23 19:59:25,866 [INFO] Calculated bladder afferent firing rate for the next time step = 0.00 Hz \n",
            " \n",
            "\n"
          ]
        },
        {
          "output_type": "stream",
          "name": "stderr",
          "text": [
            "INFO:NEURONIOUtils:Calculated bladder afferent firing rate for the next time step = 0.00 Hz \n",
            " \n",
            "\n"
          ]
        },
        {
          "output_type": "stream",
          "name": "stdout",
          "text": [
            "2023-04-23 19:59:28,913 [INFO]     step:225000 t_sim:45000.00 ms\n"
          ]
        },
        {
          "output_type": "stream",
          "name": "stderr",
          "text": [
            "INFO:NEURONIOUtils:    step:225000 t_sim:45000.00 ms\n"
          ]
        },
        {
          "output_type": "stream",
          "name": "stdout",
          "text": [
            "2023-04-23 19:59:28,929 [INFO] Timestep 44000.0 to 45000.0 ms\n"
          ]
        },
        {
          "output_type": "stream",
          "name": "stderr",
          "text": [
            "INFO:NEURONIOUtils:Timestep 44000.0 to 45000.0 ms\n"
          ]
        },
        {
          "output_type": "stream",
          "name": "stdout",
          "text": [
            "2023-04-23 19:59:28,940 [INFO] PGN node_id\t  Hz\n"
          ]
        },
        {
          "output_type": "stream",
          "name": "stderr",
          "text": [
            "INFO:NEURONIOUtils:PGN node_id\t  Hz\n"
          ]
        },
        {
          "output_type": "stream",
          "name": "stdout",
          "text": [
            "2023-04-23 19:59:28,945 [INFO] 70\t\t2.0\n"
          ]
        },
        {
          "output_type": "stream",
          "name": "stderr",
          "text": [
            "INFO:NEURONIOUtils:70\t\t2.0\n"
          ]
        },
        {
          "output_type": "stream",
          "name": "stdout",
          "text": [
            "2023-04-23 19:59:28,949 [INFO] 71\t\t2.0\n"
          ]
        },
        {
          "output_type": "stream",
          "name": "stderr",
          "text": [
            "INFO:NEURONIOUtils:71\t\t2.0\n"
          ]
        },
        {
          "output_type": "stream",
          "name": "stdout",
          "text": [
            "2023-04-23 19:59:28,957 [INFO] 72\t\t2.0\n"
          ]
        },
        {
          "output_type": "stream",
          "name": "stderr",
          "text": [
            "INFO:NEURONIOUtils:72\t\t2.0\n"
          ]
        },
        {
          "output_type": "stream",
          "name": "stdout",
          "text": [
            "2023-04-23 19:59:28,963 [INFO] 73\t\t2.0\n"
          ]
        },
        {
          "output_type": "stream",
          "name": "stderr",
          "text": [
            "INFO:NEURONIOUtils:73\t\t2.0\n"
          ]
        },
        {
          "output_type": "stream",
          "name": "stdout",
          "text": [
            "2023-04-23 19:59:28,969 [INFO] 74\t\t2.0\n"
          ]
        },
        {
          "output_type": "stream",
          "name": "stderr",
          "text": [
            "INFO:NEURONIOUtils:74\t\t2.0\n"
          ]
        },
        {
          "output_type": "stream",
          "name": "stdout",
          "text": [
            "2023-04-23 19:59:28,974 [INFO] 75\t\t2.0\n"
          ]
        },
        {
          "output_type": "stream",
          "name": "stderr",
          "text": [
            "INFO:NEURONIOUtils:75\t\t2.0\n"
          ]
        },
        {
          "output_type": "stream",
          "name": "stdout",
          "text": [
            "2023-04-23 19:59:28,978 [INFO] 76\t\t2.0\n"
          ]
        },
        {
          "output_type": "stream",
          "name": "stderr",
          "text": [
            "INFO:NEURONIOUtils:76\t\t2.0\n"
          ]
        },
        {
          "output_type": "stream",
          "name": "stdout",
          "text": [
            "2023-04-23 19:59:28,983 [INFO] 77\t\t2.0\n"
          ]
        },
        {
          "output_type": "stream",
          "name": "stderr",
          "text": [
            "INFO:NEURONIOUtils:77\t\t2.0\n"
          ]
        },
        {
          "output_type": "stream",
          "name": "stdout",
          "text": [
            "2023-04-23 19:59:28,986 [INFO] 78\t\t2.0\n"
          ]
        },
        {
          "output_type": "stream",
          "name": "stderr",
          "text": [
            "INFO:NEURONIOUtils:78\t\t2.0\n"
          ]
        },
        {
          "output_type": "stream",
          "name": "stdout",
          "text": [
            "2023-04-23 19:59:28,989 [INFO] 79\t\t2.0\n"
          ]
        },
        {
          "output_type": "stream",
          "name": "stderr",
          "text": [
            "INFO:NEURONIOUtils:79\t\t2.0\n"
          ]
        },
        {
          "output_type": "stream",
          "name": "stdout",
          "text": [
            "2023-04-23 19:59:28,992 [INFO] PGN firing rate avg: 2.0 Hz\n"
          ]
        },
        {
          "output_type": "stream",
          "name": "stderr",
          "text": [
            "INFO:NEURONIOUtils:PGN firing rate avg: 2.0 Hz\n"
          ]
        },
        {
          "output_type": "stream",
          "name": "stdout",
          "text": [
            "2023-04-23 19:59:28,994 [INFO] Grill PGN fr = 2.984 Hz\n"
          ]
        },
        {
          "output_type": "stream",
          "name": "stderr",
          "text": [
            "INFO:NEURONIOUtils:Grill PGN fr = 2.984 Hz\n"
          ]
        },
        {
          "output_type": "stream",
          "name": "stdout",
          "text": [
            "2023-04-23 19:59:28,999 [INFO] IMG node_gid\t  Hz\n"
          ]
        },
        {
          "output_type": "stream",
          "name": "stderr",
          "text": [
            "INFO:NEURONIOUtils:IMG node_gid\t  Hz\n"
          ]
        },
        {
          "output_type": "stream",
          "name": "stdout",
          "text": [
            "2023-04-23 19:59:29,003 [INFO] 90\t\t0.0\n"
          ]
        },
        {
          "output_type": "stream",
          "name": "stderr",
          "text": [
            "INFO:NEURONIOUtils:90\t\t0.0\n"
          ]
        },
        {
          "output_type": "stream",
          "name": "stdout",
          "text": [
            "2023-04-23 19:59:29,008 [INFO] 91\t\t1.0\n"
          ]
        },
        {
          "output_type": "stream",
          "name": "stderr",
          "text": [
            "INFO:NEURONIOUtils:91\t\t1.0\n"
          ]
        },
        {
          "output_type": "stream",
          "name": "stdout",
          "text": [
            "2023-04-23 19:59:29,012 [INFO] 92\t\t0.0\n"
          ]
        },
        {
          "output_type": "stream",
          "name": "stderr",
          "text": [
            "INFO:NEURONIOUtils:92\t\t0.0\n"
          ]
        },
        {
          "output_type": "stream",
          "name": "stdout",
          "text": [
            "2023-04-23 19:59:29,017 [INFO] 93\t\t1.0\n"
          ]
        },
        {
          "output_type": "stream",
          "name": "stderr",
          "text": [
            "INFO:NEURONIOUtils:93\t\t1.0\n"
          ]
        },
        {
          "output_type": "stream",
          "name": "stdout",
          "text": [
            "2023-04-23 19:59:29,020 [INFO] 94\t\t1.0\n"
          ]
        },
        {
          "output_type": "stream",
          "name": "stderr",
          "text": [
            "INFO:NEURONIOUtils:94\t\t1.0\n"
          ]
        },
        {
          "output_type": "stream",
          "name": "stdout",
          "text": [
            "2023-04-23 19:59:29,023 [INFO] 95\t\t0.0\n"
          ]
        },
        {
          "output_type": "stream",
          "name": "stderr",
          "text": [
            "INFO:NEURONIOUtils:95\t\t0.0\n"
          ]
        },
        {
          "output_type": "stream",
          "name": "stdout",
          "text": [
            "2023-04-23 19:59:29,045 [INFO] 96\t\t0.0\n"
          ]
        },
        {
          "output_type": "stream",
          "name": "stderr",
          "text": [
            "INFO:NEURONIOUtils:96\t\t0.0\n"
          ]
        },
        {
          "output_type": "stream",
          "name": "stdout",
          "text": [
            "2023-04-23 19:59:29,051 [INFO] 97\t\t1.0\n"
          ]
        },
        {
          "output_type": "stream",
          "name": "stderr",
          "text": [
            "INFO:NEURONIOUtils:97\t\t1.0\n"
          ]
        },
        {
          "output_type": "stream",
          "name": "stdout",
          "text": [
            "2023-04-23 19:59:29,055 [INFO] 98\t\t1.0\n"
          ]
        },
        {
          "output_type": "stream",
          "name": "stderr",
          "text": [
            "INFO:NEURONIOUtils:98\t\t1.0\n"
          ]
        },
        {
          "output_type": "stream",
          "name": "stdout",
          "text": [
            "2023-04-23 19:59:29,059 [INFO] 99\t\t1.0\n"
          ]
        },
        {
          "output_type": "stream",
          "name": "stderr",
          "text": [
            "INFO:NEURONIOUtils:99\t\t1.0\n"
          ]
        },
        {
          "output_type": "stream",
          "name": "stdout",
          "text": [
            "2023-04-23 19:59:29,063 [INFO] IMG firing rate avg: 2.0 Hz\n"
          ]
        },
        {
          "output_type": "stream",
          "name": "stderr",
          "text": [
            "INFO:NEURONIOUtils:IMG firing rate avg: 2.0 Hz\n"
          ]
        },
        {
          "output_type": "stream",
          "name": "stdout",
          "text": [
            "2023-04-23 19:59:29,086 [INFO] Volume = 1.2833 ml\n"
          ]
        },
        {
          "output_type": "stream",
          "name": "stderr",
          "text": [
            "/usr/local/lib/python3.9/dist-packages/bmtk/utils/reports/spike_trains/spike_trains.py:183: RuntimeWarning: divide by zero encountered in double_scalars\n",
            "  interval = -np.log(1.0 - np.random.uniform()) / fr\n",
            "INFO:NEURONIOUtils:Volume = 1.2833 ml\n"
          ]
        },
        {
          "output_type": "stream",
          "name": "stdout",
          "text": [
            "2023-04-23 19:59:29,094 [INFO] Pressure = 5.99 mmHg\n"
          ]
        },
        {
          "output_type": "stream",
          "name": "stderr",
          "text": [
            "INFO:NEURONIOUtils:Pressure = 5.99 mmHg\n"
          ]
        },
        {
          "output_type": "stream",
          "name": "stdout",
          "text": [
            "2023-04-23 19:59:29,096 [INFO] Calculated bladder afferent firing rate for the next time step = 0.00 Hz \n",
            " \n",
            "\n"
          ]
        },
        {
          "output_type": "stream",
          "name": "stderr",
          "text": [
            "INFO:NEURONIOUtils:Calculated bladder afferent firing rate for the next time step = 0.00 Hz \n",
            " \n",
            "\n"
          ]
        },
        {
          "output_type": "stream",
          "name": "stdout",
          "text": [
            "2023-04-23 19:59:33,104 [INFO]     step:230000 t_sim:46000.00 ms\n"
          ]
        },
        {
          "output_type": "stream",
          "name": "stderr",
          "text": [
            "INFO:NEURONIOUtils:    step:230000 t_sim:46000.00 ms\n"
          ]
        },
        {
          "output_type": "stream",
          "name": "stdout",
          "text": [
            "2023-04-23 19:59:33,116 [INFO] Timestep 45000.0 to 46000.0 ms\n"
          ]
        },
        {
          "output_type": "stream",
          "name": "stderr",
          "text": [
            "INFO:NEURONIOUtils:Timestep 45000.0 to 46000.0 ms\n"
          ]
        },
        {
          "output_type": "stream",
          "name": "stdout",
          "text": [
            "2023-04-23 19:59:33,121 [INFO] PGN node_id\t  Hz\n"
          ]
        },
        {
          "output_type": "stream",
          "name": "stderr",
          "text": [
            "INFO:NEURONIOUtils:PGN node_id\t  Hz\n"
          ]
        },
        {
          "output_type": "stream",
          "name": "stdout",
          "text": [
            "2023-04-23 19:59:33,125 [INFO] 70\t\t1.0\n"
          ]
        },
        {
          "output_type": "stream",
          "name": "stderr",
          "text": [
            "INFO:NEURONIOUtils:70\t\t1.0\n"
          ]
        },
        {
          "output_type": "stream",
          "name": "stdout",
          "text": [
            "2023-04-23 19:59:33,128 [INFO] 71\t\t1.0\n"
          ]
        },
        {
          "output_type": "stream",
          "name": "stderr",
          "text": [
            "INFO:NEURONIOUtils:71\t\t1.0\n"
          ]
        },
        {
          "output_type": "stream",
          "name": "stdout",
          "text": [
            "2023-04-23 19:59:33,130 [INFO] 72\t\t1.0\n"
          ]
        },
        {
          "output_type": "stream",
          "name": "stderr",
          "text": [
            "INFO:NEURONIOUtils:72\t\t1.0\n"
          ]
        },
        {
          "output_type": "stream",
          "name": "stdout",
          "text": [
            "2023-04-23 19:59:33,132 [INFO] 73\t\t1.0\n"
          ]
        },
        {
          "output_type": "stream",
          "name": "stderr",
          "text": [
            "INFO:NEURONIOUtils:73\t\t1.0\n"
          ]
        },
        {
          "output_type": "stream",
          "name": "stdout",
          "text": [
            "2023-04-23 19:59:33,134 [INFO] 74\t\t1.0\n"
          ]
        },
        {
          "output_type": "stream",
          "name": "stderr",
          "text": [
            "INFO:NEURONIOUtils:74\t\t1.0\n"
          ]
        },
        {
          "output_type": "stream",
          "name": "stdout",
          "text": [
            "2023-04-23 19:59:33,136 [INFO] 75\t\t1.0\n"
          ]
        },
        {
          "output_type": "stream",
          "name": "stderr",
          "text": [
            "INFO:NEURONIOUtils:75\t\t1.0\n"
          ]
        },
        {
          "output_type": "stream",
          "name": "stdout",
          "text": [
            "2023-04-23 19:59:33,139 [INFO] 76\t\t1.0\n"
          ]
        },
        {
          "output_type": "stream",
          "name": "stderr",
          "text": [
            "INFO:NEURONIOUtils:76\t\t1.0\n"
          ]
        },
        {
          "output_type": "stream",
          "name": "stdout",
          "text": [
            "2023-04-23 19:59:33,141 [INFO] 77\t\t1.0\n"
          ]
        },
        {
          "output_type": "stream",
          "name": "stderr",
          "text": [
            "INFO:NEURONIOUtils:77\t\t1.0\n"
          ]
        },
        {
          "output_type": "stream",
          "name": "stdout",
          "text": [
            "2023-04-23 19:59:33,143 [INFO] 78\t\t1.0\n"
          ]
        },
        {
          "output_type": "stream",
          "name": "stderr",
          "text": [
            "INFO:NEURONIOUtils:78\t\t1.0\n"
          ]
        },
        {
          "output_type": "stream",
          "name": "stdout",
          "text": [
            "2023-04-23 19:59:33,145 [INFO] 79\t\t1.0\n"
          ]
        },
        {
          "output_type": "stream",
          "name": "stderr",
          "text": [
            "INFO:NEURONIOUtils:79\t\t1.0\n"
          ]
        },
        {
          "output_type": "stream",
          "name": "stdout",
          "text": [
            "2023-04-23 19:59:33,148 [INFO] PGN firing rate avg: 1.0 Hz\n"
          ]
        },
        {
          "output_type": "stream",
          "name": "stderr",
          "text": [
            "INFO:NEURONIOUtils:PGN firing rate avg: 1.0 Hz\n"
          ]
        },
        {
          "output_type": "stream",
          "name": "stdout",
          "text": [
            "2023-04-23 19:59:33,150 [INFO] Grill PGN fr = 1.2690000000000001 Hz\n"
          ]
        },
        {
          "output_type": "stream",
          "name": "stderr",
          "text": [
            "INFO:NEURONIOUtils:Grill PGN fr = 1.2690000000000001 Hz\n"
          ]
        },
        {
          "output_type": "stream",
          "name": "stdout",
          "text": [
            "2023-04-23 19:59:33,152 [INFO] IMG node_gid\t  Hz\n"
          ]
        },
        {
          "output_type": "stream",
          "name": "stderr",
          "text": [
            "INFO:NEURONIOUtils:IMG node_gid\t  Hz\n"
          ]
        },
        {
          "output_type": "stream",
          "name": "stdout",
          "text": [
            "2023-04-23 19:59:33,154 [INFO] 90\t\t0.0\n"
          ]
        },
        {
          "output_type": "stream",
          "name": "stderr",
          "text": [
            "INFO:NEURONIOUtils:90\t\t0.0\n"
          ]
        },
        {
          "output_type": "stream",
          "name": "stdout",
          "text": [
            "2023-04-23 19:59:33,156 [INFO] 91\t\t1.0\n"
          ]
        },
        {
          "output_type": "stream",
          "name": "stderr",
          "text": [
            "INFO:NEURONIOUtils:91\t\t1.0\n"
          ]
        },
        {
          "output_type": "stream",
          "name": "stdout",
          "text": [
            "2023-04-23 19:59:33,164 [INFO] 92\t\t0.0\n"
          ]
        },
        {
          "output_type": "stream",
          "name": "stderr",
          "text": [
            "INFO:NEURONIOUtils:92\t\t0.0\n"
          ]
        },
        {
          "output_type": "stream",
          "name": "stdout",
          "text": [
            "2023-04-23 19:59:33,166 [INFO] 93\t\t1.0\n"
          ]
        },
        {
          "output_type": "stream",
          "name": "stderr",
          "text": [
            "INFO:NEURONIOUtils:93\t\t1.0\n"
          ]
        },
        {
          "output_type": "stream",
          "name": "stdout",
          "text": [
            "2023-04-23 19:59:33,168 [INFO] 94\t\t1.0\n"
          ]
        },
        {
          "output_type": "stream",
          "name": "stderr",
          "text": [
            "INFO:NEURONIOUtils:94\t\t1.0\n"
          ]
        },
        {
          "output_type": "stream",
          "name": "stdout",
          "text": [
            "2023-04-23 19:59:33,173 [INFO] 95\t\t0.0\n"
          ]
        },
        {
          "output_type": "stream",
          "name": "stderr",
          "text": [
            "INFO:NEURONIOUtils:95\t\t0.0\n"
          ]
        },
        {
          "output_type": "stream",
          "name": "stdout",
          "text": [
            "2023-04-23 19:59:33,175 [INFO] 96\t\t0.0\n"
          ]
        },
        {
          "output_type": "stream",
          "name": "stderr",
          "text": [
            "INFO:NEURONIOUtils:96\t\t0.0\n"
          ]
        },
        {
          "output_type": "stream",
          "name": "stdout",
          "text": [
            "2023-04-23 19:59:33,179 [INFO] 97\t\t1.0\n"
          ]
        },
        {
          "output_type": "stream",
          "name": "stderr",
          "text": [
            "INFO:NEURONIOUtils:97\t\t1.0\n"
          ]
        },
        {
          "output_type": "stream",
          "name": "stdout",
          "text": [
            "2023-04-23 19:59:33,186 [INFO] 98\t\t1.0\n"
          ]
        },
        {
          "output_type": "stream",
          "name": "stderr",
          "text": [
            "INFO:NEURONIOUtils:98\t\t1.0\n"
          ]
        },
        {
          "output_type": "stream",
          "name": "stdout",
          "text": [
            "2023-04-23 19:59:33,189 [INFO] 99\t\t1.0\n"
          ]
        },
        {
          "output_type": "stream",
          "name": "stderr",
          "text": [
            "INFO:NEURONIOUtils:99\t\t1.0\n"
          ]
        },
        {
          "output_type": "stream",
          "name": "stdout",
          "text": [
            "2023-04-23 19:59:33,191 [INFO] IMG firing rate avg: 1.0 Hz\n"
          ]
        },
        {
          "output_type": "stream",
          "name": "stderr",
          "text": [
            "INFO:NEURONIOUtils:IMG firing rate avg: 1.0 Hz\n"
          ]
        },
        {
          "output_type": "stream",
          "name": "stdout",
          "text": [
            "2023-04-23 19:59:33,205 [INFO] Volume = 1.3125 ml\n"
          ]
        },
        {
          "output_type": "stream",
          "name": "stderr",
          "text": [
            "/usr/local/lib/python3.9/dist-packages/bmtk/utils/reports/spike_trains/spike_trains.py:183: RuntimeWarning: divide by zero encountered in double_scalars\n",
            "  interval = -np.log(1.0 - np.random.uniform()) / fr\n",
            "INFO:NEURONIOUtils:Volume = 1.3125 ml\n"
          ]
        },
        {
          "output_type": "stream",
          "name": "stdout",
          "text": [
            "2023-04-23 19:59:33,210 [INFO] Pressure = 5.33 mmHg\n"
          ]
        },
        {
          "output_type": "stream",
          "name": "stderr",
          "text": [
            "INFO:NEURONIOUtils:Pressure = 5.33 mmHg\n"
          ]
        },
        {
          "output_type": "stream",
          "name": "stdout",
          "text": [
            "2023-04-23 19:59:33,212 [INFO] Calculated bladder afferent firing rate for the next time step = 0.00 Hz \n",
            " \n",
            "\n"
          ]
        },
        {
          "output_type": "stream",
          "name": "stderr",
          "text": [
            "INFO:NEURONIOUtils:Calculated bladder afferent firing rate for the next time step = 0.00 Hz \n",
            " \n",
            "\n"
          ]
        },
        {
          "output_type": "stream",
          "name": "stdout",
          "text": [
            "2023-04-23 19:59:37,074 [INFO]     step:235000 t_sim:47000.00 ms\n"
          ]
        },
        {
          "output_type": "stream",
          "name": "stderr",
          "text": [
            "INFO:NEURONIOUtils:    step:235000 t_sim:47000.00 ms\n"
          ]
        },
        {
          "output_type": "stream",
          "name": "stdout",
          "text": [
            "2023-04-23 19:59:37,091 [INFO] Timestep 46000.0 to 47000.0 ms\n"
          ]
        },
        {
          "output_type": "stream",
          "name": "stderr",
          "text": [
            "INFO:NEURONIOUtils:Timestep 46000.0 to 47000.0 ms\n"
          ]
        },
        {
          "output_type": "stream",
          "name": "stdout",
          "text": [
            "2023-04-23 19:59:37,100 [INFO] PGN node_id\t  Hz\n"
          ]
        },
        {
          "output_type": "stream",
          "name": "stderr",
          "text": [
            "INFO:NEURONIOUtils:PGN node_id\t  Hz\n"
          ]
        },
        {
          "output_type": "stream",
          "name": "stdout",
          "text": [
            "2023-04-23 19:59:37,107 [INFO] 70\t\t2.0\n"
          ]
        },
        {
          "output_type": "stream",
          "name": "stderr",
          "text": [
            "INFO:NEURONIOUtils:70\t\t2.0\n"
          ]
        },
        {
          "output_type": "stream",
          "name": "stdout",
          "text": [
            "2023-04-23 19:59:37,114 [INFO] 71\t\t2.0\n"
          ]
        },
        {
          "output_type": "stream",
          "name": "stderr",
          "text": [
            "INFO:NEURONIOUtils:71\t\t2.0\n"
          ]
        },
        {
          "output_type": "stream",
          "name": "stdout",
          "text": [
            "2023-04-23 19:59:37,116 [INFO] 72\t\t2.0\n"
          ]
        },
        {
          "output_type": "stream",
          "name": "stderr",
          "text": [
            "INFO:NEURONIOUtils:72\t\t2.0\n"
          ]
        },
        {
          "output_type": "stream",
          "name": "stdout",
          "text": [
            "2023-04-23 19:59:37,118 [INFO] 73\t\t2.0\n"
          ]
        },
        {
          "output_type": "stream",
          "name": "stderr",
          "text": [
            "INFO:NEURONIOUtils:73\t\t2.0\n"
          ]
        },
        {
          "output_type": "stream",
          "name": "stdout",
          "text": [
            "2023-04-23 19:59:37,124 [INFO] 74\t\t2.0\n"
          ]
        },
        {
          "output_type": "stream",
          "name": "stderr",
          "text": [
            "INFO:NEURONIOUtils:74\t\t2.0\n"
          ]
        },
        {
          "output_type": "stream",
          "name": "stdout",
          "text": [
            "2023-04-23 19:59:37,125 [INFO] 75\t\t2.0\n"
          ]
        },
        {
          "output_type": "stream",
          "name": "stderr",
          "text": [
            "INFO:NEURONIOUtils:75\t\t2.0\n"
          ]
        },
        {
          "output_type": "stream",
          "name": "stdout",
          "text": [
            "2023-04-23 19:59:37,127 [INFO] 76\t\t2.0\n"
          ]
        },
        {
          "output_type": "stream",
          "name": "stderr",
          "text": [
            "INFO:NEURONIOUtils:76\t\t2.0\n"
          ]
        },
        {
          "output_type": "stream",
          "name": "stdout",
          "text": [
            "2023-04-23 19:59:37,133 [INFO] 77\t\t2.0\n"
          ]
        },
        {
          "output_type": "stream",
          "name": "stderr",
          "text": [
            "INFO:NEURONIOUtils:77\t\t2.0\n"
          ]
        },
        {
          "output_type": "stream",
          "name": "stdout",
          "text": [
            "2023-04-23 19:59:37,136 [INFO] 78\t\t2.0\n"
          ]
        },
        {
          "output_type": "stream",
          "name": "stderr",
          "text": [
            "INFO:NEURONIOUtils:78\t\t2.0\n"
          ]
        },
        {
          "output_type": "stream",
          "name": "stdout",
          "text": [
            "2023-04-23 19:59:37,138 [INFO] 79\t\t2.0\n"
          ]
        },
        {
          "output_type": "stream",
          "name": "stderr",
          "text": [
            "INFO:NEURONIOUtils:79\t\t2.0\n"
          ]
        },
        {
          "output_type": "stream",
          "name": "stdout",
          "text": [
            "2023-04-23 19:59:37,140 [INFO] PGN firing rate avg: 2.0 Hz\n"
          ]
        },
        {
          "output_type": "stream",
          "name": "stderr",
          "text": [
            "INFO:NEURONIOUtils:PGN firing rate avg: 2.0 Hz\n"
          ]
        },
        {
          "output_type": "stream",
          "name": "stdout",
          "text": [
            "2023-04-23 19:59:37,142 [INFO] Grill PGN fr = 2.984 Hz\n"
          ]
        },
        {
          "output_type": "stream",
          "name": "stderr",
          "text": [
            "INFO:NEURONIOUtils:Grill PGN fr = 2.984 Hz\n"
          ]
        },
        {
          "output_type": "stream",
          "name": "stdout",
          "text": [
            "2023-04-23 19:59:37,144 [INFO] IMG node_gid\t  Hz\n"
          ]
        },
        {
          "output_type": "stream",
          "name": "stderr",
          "text": [
            "INFO:NEURONIOUtils:IMG node_gid\t  Hz\n"
          ]
        },
        {
          "output_type": "stream",
          "name": "stdout",
          "text": [
            "2023-04-23 19:59:37,146 [INFO] 90\t\t0.0\n"
          ]
        },
        {
          "output_type": "stream",
          "name": "stderr",
          "text": [
            "INFO:NEURONIOUtils:90\t\t0.0\n"
          ]
        },
        {
          "output_type": "stream",
          "name": "stdout",
          "text": [
            "2023-04-23 19:59:37,149 [INFO] 91\t\t1.0\n"
          ]
        },
        {
          "output_type": "stream",
          "name": "stderr",
          "text": [
            "INFO:NEURONIOUtils:91\t\t1.0\n"
          ]
        },
        {
          "output_type": "stream",
          "name": "stdout",
          "text": [
            "2023-04-23 19:59:37,151 [INFO] 92\t\t0.0\n"
          ]
        },
        {
          "output_type": "stream",
          "name": "stderr",
          "text": [
            "INFO:NEURONIOUtils:92\t\t0.0\n"
          ]
        },
        {
          "output_type": "stream",
          "name": "stdout",
          "text": [
            "2023-04-23 19:59:37,154 [INFO] 93\t\t1.0\n"
          ]
        },
        {
          "output_type": "stream",
          "name": "stderr",
          "text": [
            "INFO:NEURONIOUtils:93\t\t1.0\n"
          ]
        },
        {
          "output_type": "stream",
          "name": "stdout",
          "text": [
            "2023-04-23 19:59:37,156 [INFO] 94\t\t1.0\n"
          ]
        },
        {
          "output_type": "stream",
          "name": "stderr",
          "text": [
            "INFO:NEURONIOUtils:94\t\t1.0\n"
          ]
        },
        {
          "output_type": "stream",
          "name": "stdout",
          "text": [
            "2023-04-23 19:59:37,159 [INFO] 95\t\t0.0\n"
          ]
        },
        {
          "output_type": "stream",
          "name": "stderr",
          "text": [
            "INFO:NEURONIOUtils:95\t\t0.0\n"
          ]
        },
        {
          "output_type": "stream",
          "name": "stdout",
          "text": [
            "2023-04-23 19:59:37,161 [INFO] 96\t\t0.0\n"
          ]
        },
        {
          "output_type": "stream",
          "name": "stderr",
          "text": [
            "INFO:NEURONIOUtils:96\t\t0.0\n"
          ]
        },
        {
          "output_type": "stream",
          "name": "stdout",
          "text": [
            "2023-04-23 19:59:37,163 [INFO] 97\t\t1.0\n"
          ]
        },
        {
          "output_type": "stream",
          "name": "stderr",
          "text": [
            "INFO:NEURONIOUtils:97\t\t1.0\n"
          ]
        },
        {
          "output_type": "stream",
          "name": "stdout",
          "text": [
            "2023-04-23 19:59:37,165 [INFO] 98\t\t1.0\n"
          ]
        },
        {
          "output_type": "stream",
          "name": "stderr",
          "text": [
            "INFO:NEURONIOUtils:98\t\t1.0\n"
          ]
        },
        {
          "output_type": "stream",
          "name": "stdout",
          "text": [
            "2023-04-23 19:59:37,167 [INFO] 99\t\t1.0\n"
          ]
        },
        {
          "output_type": "stream",
          "name": "stderr",
          "text": [
            "INFO:NEURONIOUtils:99\t\t1.0\n"
          ]
        },
        {
          "output_type": "stream",
          "name": "stdout",
          "text": [
            "2023-04-23 19:59:37,169 [INFO] IMG firing rate avg: 2.0 Hz\n"
          ]
        },
        {
          "output_type": "stream",
          "name": "stderr",
          "text": [
            "INFO:NEURONIOUtils:IMG firing rate avg: 2.0 Hz\n"
          ]
        },
        {
          "output_type": "stream",
          "name": "stdout",
          "text": [
            "2023-04-23 19:59:37,178 [INFO] Volume = 1.3417 ml\n"
          ]
        },
        {
          "output_type": "stream",
          "name": "stderr",
          "text": [
            "/usr/local/lib/python3.9/dist-packages/bmtk/utils/reports/spike_trains/spike_trains.py:183: RuntimeWarning: divide by zero encountered in double_scalars\n",
            "  interval = -np.log(1.0 - np.random.uniform()) / fr\n",
            "INFO:NEURONIOUtils:Volume = 1.3417 ml\n"
          ]
        },
        {
          "output_type": "stream",
          "name": "stdout",
          "text": [
            "2023-04-23 19:59:37,181 [INFO] Pressure = 6.44 mmHg\n"
          ]
        },
        {
          "output_type": "stream",
          "name": "stderr",
          "text": [
            "INFO:NEURONIOUtils:Pressure = 6.44 mmHg\n"
          ]
        },
        {
          "output_type": "stream",
          "name": "stdout",
          "text": [
            "2023-04-23 19:59:37,183 [INFO] Calculated bladder afferent firing rate for the next time step = 0.00 Hz \n",
            " \n",
            "\n"
          ]
        },
        {
          "output_type": "stream",
          "name": "stderr",
          "text": [
            "INFO:NEURONIOUtils:Calculated bladder afferent firing rate for the next time step = 0.00 Hz \n",
            " \n",
            "\n"
          ]
        },
        {
          "output_type": "stream",
          "name": "stdout",
          "text": [
            "2023-04-23 19:59:40,223 [INFO]     step:240000 t_sim:48000.00 ms\n"
          ]
        },
        {
          "output_type": "stream",
          "name": "stderr",
          "text": [
            "INFO:NEURONIOUtils:    step:240000 t_sim:48000.00 ms\n"
          ]
        },
        {
          "output_type": "stream",
          "name": "stdout",
          "text": [
            "2023-04-23 19:59:40,237 [INFO] Timestep 47000.0 to 48000.0 ms\n"
          ]
        },
        {
          "output_type": "stream",
          "name": "stderr",
          "text": [
            "INFO:NEURONIOUtils:Timestep 47000.0 to 48000.0 ms\n"
          ]
        },
        {
          "output_type": "stream",
          "name": "stdout",
          "text": [
            "2023-04-23 19:59:40,243 [INFO] PGN node_id\t  Hz\n"
          ]
        },
        {
          "output_type": "stream",
          "name": "stderr",
          "text": [
            "INFO:NEURONIOUtils:PGN node_id\t  Hz\n"
          ]
        },
        {
          "output_type": "stream",
          "name": "stdout",
          "text": [
            "2023-04-23 19:59:40,247 [INFO] 70\t\t4.0\n"
          ]
        },
        {
          "output_type": "stream",
          "name": "stderr",
          "text": [
            "INFO:NEURONIOUtils:70\t\t4.0\n"
          ]
        },
        {
          "output_type": "stream",
          "name": "stdout",
          "text": [
            "2023-04-23 19:59:40,249 [INFO] 71\t\t4.0\n"
          ]
        },
        {
          "output_type": "stream",
          "name": "stderr",
          "text": [
            "INFO:NEURONIOUtils:71\t\t4.0\n"
          ]
        },
        {
          "output_type": "stream",
          "name": "stdout",
          "text": [
            "2023-04-23 19:59:40,251 [INFO] 72\t\t4.0\n"
          ]
        },
        {
          "output_type": "stream",
          "name": "stderr",
          "text": [
            "INFO:NEURONIOUtils:72\t\t4.0\n"
          ]
        },
        {
          "output_type": "stream",
          "name": "stdout",
          "text": [
            "2023-04-23 19:59:40,253 [INFO] 73\t\t4.0\n"
          ]
        },
        {
          "output_type": "stream",
          "name": "stderr",
          "text": [
            "INFO:NEURONIOUtils:73\t\t4.0\n"
          ]
        },
        {
          "output_type": "stream",
          "name": "stdout",
          "text": [
            "2023-04-23 19:59:40,255 [INFO] 74\t\t4.0\n"
          ]
        },
        {
          "output_type": "stream",
          "name": "stderr",
          "text": [
            "INFO:NEURONIOUtils:74\t\t4.0\n"
          ]
        },
        {
          "output_type": "stream",
          "name": "stdout",
          "text": [
            "2023-04-23 19:59:40,257 [INFO] 75\t\t4.0\n"
          ]
        },
        {
          "output_type": "stream",
          "name": "stderr",
          "text": [
            "INFO:NEURONIOUtils:75\t\t4.0\n"
          ]
        },
        {
          "output_type": "stream",
          "name": "stdout",
          "text": [
            "2023-04-23 19:59:40,259 [INFO] 76\t\t4.0\n"
          ]
        },
        {
          "output_type": "stream",
          "name": "stderr",
          "text": [
            "INFO:NEURONIOUtils:76\t\t4.0\n"
          ]
        },
        {
          "output_type": "stream",
          "name": "stdout",
          "text": [
            "2023-04-23 19:59:40,261 [INFO] 77\t\t4.0\n"
          ]
        },
        {
          "output_type": "stream",
          "name": "stderr",
          "text": [
            "INFO:NEURONIOUtils:77\t\t4.0\n"
          ]
        },
        {
          "output_type": "stream",
          "name": "stdout",
          "text": [
            "2023-04-23 19:59:40,263 [INFO] 78\t\t4.0\n"
          ]
        },
        {
          "output_type": "stream",
          "name": "stderr",
          "text": [
            "INFO:NEURONIOUtils:78\t\t4.0\n"
          ]
        },
        {
          "output_type": "stream",
          "name": "stdout",
          "text": [
            "2023-04-23 19:59:40,265 [INFO] 79\t\t4.0\n"
          ]
        },
        {
          "output_type": "stream",
          "name": "stderr",
          "text": [
            "INFO:NEURONIOUtils:79\t\t4.0\n"
          ]
        },
        {
          "output_type": "stream",
          "name": "stdout",
          "text": [
            "2023-04-23 19:59:40,267 [INFO] PGN firing rate avg: 4.0 Hz\n"
          ]
        },
        {
          "output_type": "stream",
          "name": "stderr",
          "text": [
            "INFO:NEURONIOUtils:PGN firing rate avg: 4.0 Hz\n"
          ]
        },
        {
          "output_type": "stream",
          "name": "stdout",
          "text": [
            "2023-04-23 19:59:40,269 [INFO] Grill PGN fr = 6.3 Hz\n"
          ]
        },
        {
          "output_type": "stream",
          "name": "stderr",
          "text": [
            "INFO:NEURONIOUtils:Grill PGN fr = 6.3 Hz\n"
          ]
        },
        {
          "output_type": "stream",
          "name": "stdout",
          "text": [
            "2023-04-23 19:59:40,272 [INFO] IMG node_gid\t  Hz\n"
          ]
        },
        {
          "output_type": "stream",
          "name": "stderr",
          "text": [
            "INFO:NEURONIOUtils:IMG node_gid\t  Hz\n"
          ]
        },
        {
          "output_type": "stream",
          "name": "stdout",
          "text": [
            "2023-04-23 19:59:40,274 [INFO] 90\t\t0.0\n"
          ]
        },
        {
          "output_type": "stream",
          "name": "stderr",
          "text": [
            "INFO:NEURONIOUtils:90\t\t0.0\n"
          ]
        },
        {
          "output_type": "stream",
          "name": "stdout",
          "text": [
            "2023-04-23 19:59:40,276 [INFO] 91\t\t1.0\n"
          ]
        },
        {
          "output_type": "stream",
          "name": "stderr",
          "text": [
            "INFO:NEURONIOUtils:91\t\t1.0\n"
          ]
        },
        {
          "output_type": "stream",
          "name": "stdout",
          "text": [
            "2023-04-23 19:59:40,278 [INFO] 92\t\t0.0\n"
          ]
        },
        {
          "output_type": "stream",
          "name": "stderr",
          "text": [
            "INFO:NEURONIOUtils:92\t\t0.0\n"
          ]
        },
        {
          "output_type": "stream",
          "name": "stdout",
          "text": [
            "2023-04-23 19:59:40,280 [INFO] 93\t\t1.0\n"
          ]
        },
        {
          "output_type": "stream",
          "name": "stderr",
          "text": [
            "INFO:NEURONIOUtils:93\t\t1.0\n"
          ]
        },
        {
          "output_type": "stream",
          "name": "stdout",
          "text": [
            "2023-04-23 19:59:40,282 [INFO] 94\t\t1.0\n"
          ]
        },
        {
          "output_type": "stream",
          "name": "stderr",
          "text": [
            "INFO:NEURONIOUtils:94\t\t1.0\n"
          ]
        },
        {
          "output_type": "stream",
          "name": "stdout",
          "text": [
            "2023-04-23 19:59:40,284 [INFO] 95\t\t0.0\n"
          ]
        },
        {
          "output_type": "stream",
          "name": "stderr",
          "text": [
            "INFO:NEURONIOUtils:95\t\t0.0\n"
          ]
        },
        {
          "output_type": "stream",
          "name": "stdout",
          "text": [
            "2023-04-23 19:59:40,285 [INFO] 96\t\t0.0\n"
          ]
        },
        {
          "output_type": "stream",
          "name": "stderr",
          "text": [
            "INFO:NEURONIOUtils:96\t\t0.0\n"
          ]
        },
        {
          "output_type": "stream",
          "name": "stdout",
          "text": [
            "2023-04-23 19:59:40,287 [INFO] 97\t\t1.0\n"
          ]
        },
        {
          "output_type": "stream",
          "name": "stderr",
          "text": [
            "INFO:NEURONIOUtils:97\t\t1.0\n"
          ]
        },
        {
          "output_type": "stream",
          "name": "stdout",
          "text": [
            "2023-04-23 19:59:40,289 [INFO] 98\t\t1.0\n"
          ]
        },
        {
          "output_type": "stream",
          "name": "stderr",
          "text": [
            "INFO:NEURONIOUtils:98\t\t1.0\n"
          ]
        },
        {
          "output_type": "stream",
          "name": "stdout",
          "text": [
            "2023-04-23 19:59:40,291 [INFO] 99\t\t1.0\n"
          ]
        },
        {
          "output_type": "stream",
          "name": "stderr",
          "text": [
            "INFO:NEURONIOUtils:99\t\t1.0\n"
          ]
        },
        {
          "output_type": "stream",
          "name": "stdout",
          "text": [
            "2023-04-23 19:59:40,293 [INFO] IMG firing rate avg: 4.0 Hz\n"
          ]
        },
        {
          "output_type": "stream",
          "name": "stderr",
          "text": [
            "INFO:NEURONIOUtils:IMG firing rate avg: 4.0 Hz\n"
          ]
        },
        {
          "output_type": "stream",
          "name": "stdout",
          "text": [
            "2023-04-23 19:59:40,301 [INFO] Volume = 1.3708 ml\n"
          ]
        },
        {
          "output_type": "stream",
          "name": "stderr",
          "text": [
            "INFO:NEURONIOUtils:Volume = 1.3708 ml\n"
          ]
        },
        {
          "output_type": "stream",
          "name": "stdout",
          "text": [
            "2023-04-23 19:59:40,305 [INFO] Pressure = 8.37 mmHg\n"
          ]
        },
        {
          "output_type": "stream",
          "name": "stderr",
          "text": [
            "INFO:NEURONIOUtils:Pressure = 8.37 mmHg\n"
          ]
        },
        {
          "output_type": "stream",
          "name": "stdout",
          "text": [
            "2023-04-23 19:59:40,307 [INFO] Calculated bladder afferent firing rate for the next time step = 1.36 Hz \n",
            " \n",
            "\n"
          ]
        },
        {
          "output_type": "stream",
          "name": "stderr",
          "text": [
            "INFO:NEURONIOUtils:Calculated bladder afferent firing rate for the next time step = 1.36 Hz \n",
            " \n",
            "\n"
          ]
        },
        {
          "output_type": "stream",
          "name": "stdout",
          "text": [
            "2023-04-23 19:59:43,322 [INFO]     step:245000 t_sim:49000.00 ms\n"
          ]
        },
        {
          "output_type": "stream",
          "name": "stderr",
          "text": [
            "INFO:NEURONIOUtils:    step:245000 t_sim:49000.00 ms\n"
          ]
        },
        {
          "output_type": "stream",
          "name": "stdout",
          "text": [
            "2023-04-23 19:59:43,350 [INFO] Timestep 48000.0 to 49000.0 ms\n"
          ]
        },
        {
          "output_type": "stream",
          "name": "stderr",
          "text": [
            "INFO:NEURONIOUtils:Timestep 48000.0 to 49000.0 ms\n"
          ]
        },
        {
          "output_type": "stream",
          "name": "stdout",
          "text": [
            "2023-04-23 19:59:43,355 [INFO] PGN node_id\t  Hz\n"
          ]
        },
        {
          "output_type": "stream",
          "name": "stderr",
          "text": [
            "INFO:NEURONIOUtils:PGN node_id\t  Hz\n"
          ]
        },
        {
          "output_type": "stream",
          "name": "stdout",
          "text": [
            "2023-04-23 19:59:43,359 [INFO] 70\t\t11.0\n"
          ]
        },
        {
          "output_type": "stream",
          "name": "stderr",
          "text": [
            "INFO:NEURONIOUtils:70\t\t11.0\n"
          ]
        },
        {
          "output_type": "stream",
          "name": "stdout",
          "text": [
            "2023-04-23 19:59:43,362 [INFO] 71\t\t11.0\n"
          ]
        },
        {
          "output_type": "stream",
          "name": "stderr",
          "text": [
            "INFO:NEURONIOUtils:71\t\t11.0\n"
          ]
        },
        {
          "output_type": "stream",
          "name": "stdout",
          "text": [
            "2023-04-23 19:59:43,364 [INFO] 72\t\t11.0\n"
          ]
        },
        {
          "output_type": "stream",
          "name": "stderr",
          "text": [
            "INFO:NEURONIOUtils:72\t\t11.0\n"
          ]
        },
        {
          "output_type": "stream",
          "name": "stdout",
          "text": [
            "2023-04-23 19:59:43,366 [INFO] 73\t\t11.0\n"
          ]
        },
        {
          "output_type": "stream",
          "name": "stderr",
          "text": [
            "INFO:NEURONIOUtils:73\t\t11.0\n"
          ]
        },
        {
          "output_type": "stream",
          "name": "stdout",
          "text": [
            "2023-04-23 19:59:43,368 [INFO] 74\t\t11.0\n"
          ]
        },
        {
          "output_type": "stream",
          "name": "stderr",
          "text": [
            "INFO:NEURONIOUtils:74\t\t11.0\n"
          ]
        },
        {
          "output_type": "stream",
          "name": "stdout",
          "text": [
            "2023-04-23 19:59:43,371 [INFO] 75\t\t11.0\n"
          ]
        },
        {
          "output_type": "stream",
          "name": "stderr",
          "text": [
            "INFO:NEURONIOUtils:75\t\t11.0\n"
          ]
        },
        {
          "output_type": "stream",
          "name": "stdout",
          "text": [
            "2023-04-23 19:59:43,373 [INFO] 76\t\t11.0\n"
          ]
        },
        {
          "output_type": "stream",
          "name": "stderr",
          "text": [
            "INFO:NEURONIOUtils:76\t\t11.0\n"
          ]
        },
        {
          "output_type": "stream",
          "name": "stdout",
          "text": [
            "2023-04-23 19:59:43,375 [INFO] 77\t\t11.0\n"
          ]
        },
        {
          "output_type": "stream",
          "name": "stderr",
          "text": [
            "INFO:NEURONIOUtils:77\t\t11.0\n"
          ]
        },
        {
          "output_type": "stream",
          "name": "stdout",
          "text": [
            "2023-04-23 19:59:43,377 [INFO] 78\t\t11.0\n"
          ]
        },
        {
          "output_type": "stream",
          "name": "stderr",
          "text": [
            "INFO:NEURONIOUtils:78\t\t11.0\n"
          ]
        },
        {
          "output_type": "stream",
          "name": "stdout",
          "text": [
            "2023-04-23 19:59:43,379 [INFO] 79\t\t11.0\n"
          ]
        },
        {
          "output_type": "stream",
          "name": "stderr",
          "text": [
            "INFO:NEURONIOUtils:79\t\t11.0\n"
          ]
        },
        {
          "output_type": "stream",
          "name": "stdout",
          "text": [
            "2023-04-23 19:59:43,381 [INFO] PGN firing rate avg: 11.0 Hz\n"
          ]
        },
        {
          "output_type": "stream",
          "name": "stderr",
          "text": [
            "INFO:NEURONIOUtils:PGN firing rate avg: 11.0 Hz\n"
          ]
        },
        {
          "output_type": "stream",
          "name": "stdout",
          "text": [
            "2023-04-23 19:59:43,383 [INFO] Grill PGN fr = 17.969 Hz\n"
          ]
        },
        {
          "output_type": "stream",
          "name": "stderr",
          "text": [
            "INFO:NEURONIOUtils:Grill PGN fr = 17.969 Hz\n"
          ]
        },
        {
          "output_type": "stream",
          "name": "stdout",
          "text": [
            "2023-04-23 19:59:43,386 [INFO] IMG node_gid\t  Hz\n"
          ]
        },
        {
          "output_type": "stream",
          "name": "stderr",
          "text": [
            "INFO:NEURONIOUtils:IMG node_gid\t  Hz\n"
          ]
        },
        {
          "output_type": "stream",
          "name": "stdout",
          "text": [
            "2023-04-23 19:59:43,388 [INFO] 90\t\t0.0\n"
          ]
        },
        {
          "output_type": "stream",
          "name": "stderr",
          "text": [
            "INFO:NEURONIOUtils:90\t\t0.0\n"
          ]
        },
        {
          "output_type": "stream",
          "name": "stdout",
          "text": [
            "2023-04-23 19:59:43,390 [INFO] 91\t\t3.0\n"
          ]
        },
        {
          "output_type": "stream",
          "name": "stderr",
          "text": [
            "INFO:NEURONIOUtils:91\t\t3.0\n"
          ]
        },
        {
          "output_type": "stream",
          "name": "stdout",
          "text": [
            "2023-04-23 19:59:43,392 [INFO] 92\t\t0.0\n"
          ]
        },
        {
          "output_type": "stream",
          "name": "stderr",
          "text": [
            "INFO:NEURONIOUtils:92\t\t0.0\n"
          ]
        },
        {
          "output_type": "stream",
          "name": "stdout",
          "text": [
            "2023-04-23 19:59:43,394 [INFO] 93\t\t3.0\n"
          ]
        },
        {
          "output_type": "stream",
          "name": "stderr",
          "text": [
            "INFO:NEURONIOUtils:93\t\t3.0\n"
          ]
        },
        {
          "output_type": "stream",
          "name": "stdout",
          "text": [
            "2023-04-23 19:59:43,396 [INFO] 94\t\t3.0\n"
          ]
        },
        {
          "output_type": "stream",
          "name": "stderr",
          "text": [
            "INFO:NEURONIOUtils:94\t\t3.0\n"
          ]
        },
        {
          "output_type": "stream",
          "name": "stdout",
          "text": [
            "2023-04-23 19:59:43,397 [INFO] 95\t\t0.0\n"
          ]
        },
        {
          "output_type": "stream",
          "name": "stderr",
          "text": [
            "INFO:NEURONIOUtils:95\t\t0.0\n"
          ]
        },
        {
          "output_type": "stream",
          "name": "stdout",
          "text": [
            "2023-04-23 19:59:43,399 [INFO] 96\t\t0.0\n"
          ]
        },
        {
          "output_type": "stream",
          "name": "stderr",
          "text": [
            "INFO:NEURONIOUtils:96\t\t0.0\n"
          ]
        },
        {
          "output_type": "stream",
          "name": "stdout",
          "text": [
            "2023-04-23 19:59:43,401 [INFO] 97\t\t1.0\n"
          ]
        },
        {
          "output_type": "stream",
          "name": "stderr",
          "text": [
            "INFO:NEURONIOUtils:97\t\t1.0\n"
          ]
        },
        {
          "output_type": "stream",
          "name": "stdout",
          "text": [
            "2023-04-23 19:59:43,403 [INFO] 98\t\t3.0\n"
          ]
        },
        {
          "output_type": "stream",
          "name": "stderr",
          "text": [
            "INFO:NEURONIOUtils:98\t\t3.0\n"
          ]
        },
        {
          "output_type": "stream",
          "name": "stdout",
          "text": [
            "2023-04-23 19:59:43,405 [INFO] 99\t\t3.0\n"
          ]
        },
        {
          "output_type": "stream",
          "name": "stderr",
          "text": [
            "INFO:NEURONIOUtils:99\t\t3.0\n"
          ]
        },
        {
          "output_type": "stream",
          "name": "stdout",
          "text": [
            "2023-04-23 19:59:43,407 [INFO] IMG firing rate avg: 11.0 Hz\n"
          ]
        },
        {
          "output_type": "stream",
          "name": "stderr",
          "text": [
            "INFO:NEURONIOUtils:IMG firing rate avg: 11.0 Hz\n"
          ]
        },
        {
          "output_type": "stream",
          "name": "stdout",
          "text": [
            "2023-04-23 19:59:43,421 [INFO] Volume = 1.4000 ml\n"
          ]
        },
        {
          "output_type": "stream",
          "name": "stderr",
          "text": [
            "INFO:NEURONIOUtils:Volume = 1.4000 ml\n"
          ]
        },
        {
          "output_type": "stream",
          "name": "stdout",
          "text": [
            "2023-04-23 19:59:43,424 [INFO] Pressure = 14.09 mmHg\n"
          ]
        },
        {
          "output_type": "stream",
          "name": "stderr",
          "text": [
            "INFO:NEURONIOUtils:Pressure = 14.09 mmHg\n"
          ]
        },
        {
          "output_type": "stream",
          "name": "stdout",
          "text": [
            "2023-04-23 19:59:43,426 [INFO] Calculated bladder afferent firing rate for the next time step = 8.22 Hz \n",
            " \n",
            "\n"
          ]
        },
        {
          "output_type": "stream",
          "name": "stderr",
          "text": [
            "INFO:NEURONIOUtils:Calculated bladder afferent firing rate for the next time step = 8.22 Hz \n",
            " \n",
            "\n"
          ]
        },
        {
          "output_type": "stream",
          "name": "stdout",
          "text": [
            "2023-04-23 19:59:47,185 [INFO]     step:250000 t_sim:50000.00 ms\n"
          ]
        },
        {
          "output_type": "stream",
          "name": "stderr",
          "text": [
            "INFO:NEURONIOUtils:    step:250000 t_sim:50000.00 ms\n"
          ]
        },
        {
          "output_type": "stream",
          "name": "stdout",
          "text": [
            "2023-04-23 19:59:47,204 [INFO] Timestep 49000.0 to 50000.0 ms\n"
          ]
        },
        {
          "output_type": "stream",
          "name": "stderr",
          "text": [
            "INFO:NEURONIOUtils:Timestep 49000.0 to 50000.0 ms\n"
          ]
        },
        {
          "output_type": "stream",
          "name": "stdout",
          "text": [
            "2023-04-23 19:59:47,209 [INFO] PGN node_id\t  Hz\n"
          ]
        },
        {
          "output_type": "stream",
          "name": "stderr",
          "text": [
            "INFO:NEURONIOUtils:PGN node_id\t  Hz\n"
          ]
        },
        {
          "output_type": "stream",
          "name": "stdout",
          "text": [
            "2023-04-23 19:59:47,212 [INFO] 70\t\t21.0\n"
          ]
        },
        {
          "output_type": "stream",
          "name": "stderr",
          "text": [
            "INFO:NEURONIOUtils:70\t\t21.0\n"
          ]
        },
        {
          "output_type": "stream",
          "name": "stdout",
          "text": [
            "2023-04-23 19:59:47,215 [INFO] 71\t\t21.0\n"
          ]
        },
        {
          "output_type": "stream",
          "name": "stderr",
          "text": [
            "INFO:NEURONIOUtils:71\t\t21.0\n"
          ]
        },
        {
          "output_type": "stream",
          "name": "stdout",
          "text": [
            "2023-04-23 19:59:47,217 [INFO] 72\t\t21.0\n"
          ]
        },
        {
          "output_type": "stream",
          "name": "stderr",
          "text": [
            "INFO:NEURONIOUtils:72\t\t21.0\n"
          ]
        },
        {
          "output_type": "stream",
          "name": "stdout",
          "text": [
            "2023-04-23 19:59:47,219 [INFO] 73\t\t21.0\n"
          ]
        },
        {
          "output_type": "stream",
          "name": "stderr",
          "text": [
            "INFO:NEURONIOUtils:73\t\t21.0\n"
          ]
        },
        {
          "output_type": "stream",
          "name": "stdout",
          "text": [
            "2023-04-23 19:59:47,221 [INFO] 74\t\t21.0\n"
          ]
        },
        {
          "output_type": "stream",
          "name": "stderr",
          "text": [
            "INFO:NEURONIOUtils:74\t\t21.0\n"
          ]
        },
        {
          "output_type": "stream",
          "name": "stdout",
          "text": [
            "2023-04-23 19:59:47,223 [INFO] 75\t\t21.0\n"
          ]
        },
        {
          "output_type": "stream",
          "name": "stderr",
          "text": [
            "INFO:NEURONIOUtils:75\t\t21.0\n"
          ]
        },
        {
          "output_type": "stream",
          "name": "stdout",
          "text": [
            "2023-04-23 19:59:47,225 [INFO] 76\t\t21.0\n"
          ]
        },
        {
          "output_type": "stream",
          "name": "stderr",
          "text": [
            "INFO:NEURONIOUtils:76\t\t21.0\n"
          ]
        },
        {
          "output_type": "stream",
          "name": "stdout",
          "text": [
            "2023-04-23 19:59:47,227 [INFO] 77\t\t21.0\n"
          ]
        },
        {
          "output_type": "stream",
          "name": "stderr",
          "text": [
            "INFO:NEURONIOUtils:77\t\t21.0\n"
          ]
        },
        {
          "output_type": "stream",
          "name": "stdout",
          "text": [
            "2023-04-23 19:59:47,229 [INFO] 78\t\t21.0\n"
          ]
        },
        {
          "output_type": "stream",
          "name": "stderr",
          "text": [
            "INFO:NEURONIOUtils:78\t\t21.0\n"
          ]
        },
        {
          "output_type": "stream",
          "name": "stdout",
          "text": [
            "2023-04-23 19:59:47,231 [INFO] 79\t\t21.0\n"
          ]
        },
        {
          "output_type": "stream",
          "name": "stderr",
          "text": [
            "INFO:NEURONIOUtils:79\t\t21.0\n"
          ]
        },
        {
          "output_type": "stream",
          "name": "stdout",
          "text": [
            "2023-04-23 19:59:47,233 [INFO] PGN firing rate avg: 21.0 Hz\n"
          ]
        },
        {
          "output_type": "stream",
          "name": "stderr",
          "text": [
            "INFO:NEURONIOUtils:PGN firing rate avg: 21.0 Hz\n"
          ]
        },
        {
          "output_type": "stream",
          "name": "stdout",
          "text": [
            "2023-04-23 19:59:47,235 [INFO] Grill PGN fr = 41.269000000000005 Hz\n"
          ]
        },
        {
          "output_type": "stream",
          "name": "stderr",
          "text": [
            "INFO:NEURONIOUtils:Grill PGN fr = 41.269000000000005 Hz\n"
          ]
        },
        {
          "output_type": "stream",
          "name": "stdout",
          "text": [
            "2023-04-23 19:59:47,237 [INFO] IMG node_gid\t  Hz\n"
          ]
        },
        {
          "output_type": "stream",
          "name": "stderr",
          "text": [
            "INFO:NEURONIOUtils:IMG node_gid\t  Hz\n"
          ]
        },
        {
          "output_type": "stream",
          "name": "stdout",
          "text": [
            "2023-04-23 19:59:47,239 [INFO] 90\t\t0.0\n"
          ]
        },
        {
          "output_type": "stream",
          "name": "stderr",
          "text": [
            "INFO:NEURONIOUtils:90\t\t0.0\n"
          ]
        },
        {
          "output_type": "stream",
          "name": "stdout",
          "text": [
            "2023-04-23 19:59:47,241 [INFO] 91\t\t10.0\n"
          ]
        },
        {
          "output_type": "stream",
          "name": "stderr",
          "text": [
            "INFO:NEURONIOUtils:91\t\t10.0\n"
          ]
        },
        {
          "output_type": "stream",
          "name": "stdout",
          "text": [
            "2023-04-23 19:59:47,243 [INFO] 92\t\t0.0\n"
          ]
        },
        {
          "output_type": "stream",
          "name": "stderr",
          "text": [
            "INFO:NEURONIOUtils:92\t\t0.0\n"
          ]
        },
        {
          "output_type": "stream",
          "name": "stdout",
          "text": [
            "2023-04-23 19:59:47,245 [INFO] 93\t\t12.0\n"
          ]
        },
        {
          "output_type": "stream",
          "name": "stderr",
          "text": [
            "INFO:NEURONIOUtils:93\t\t12.0\n"
          ]
        },
        {
          "output_type": "stream",
          "name": "stdout",
          "text": [
            "2023-04-23 19:59:47,247 [INFO] 94\t\t10.0\n"
          ]
        },
        {
          "output_type": "stream",
          "name": "stderr",
          "text": [
            "INFO:NEURONIOUtils:94\t\t10.0\n"
          ]
        },
        {
          "output_type": "stream",
          "name": "stdout",
          "text": [
            "2023-04-23 19:59:47,249 [INFO] 95\t\t0.0\n"
          ]
        },
        {
          "output_type": "stream",
          "name": "stderr",
          "text": [
            "INFO:NEURONIOUtils:95\t\t0.0\n"
          ]
        },
        {
          "output_type": "stream",
          "name": "stdout",
          "text": [
            "2023-04-23 19:59:47,251 [INFO] 96\t\t0.0\n"
          ]
        },
        {
          "output_type": "stream",
          "name": "stderr",
          "text": [
            "INFO:NEURONIOUtils:96\t\t0.0\n"
          ]
        },
        {
          "output_type": "stream",
          "name": "stdout",
          "text": [
            "2023-04-23 19:59:47,253 [INFO] 97\t\t6.0\n"
          ]
        },
        {
          "output_type": "stream",
          "name": "stderr",
          "text": [
            "INFO:NEURONIOUtils:97\t\t6.0\n"
          ]
        },
        {
          "output_type": "stream",
          "name": "stdout",
          "text": [
            "2023-04-23 19:59:47,255 [INFO] 98\t\t10.0\n"
          ]
        },
        {
          "output_type": "stream",
          "name": "stderr",
          "text": [
            "INFO:NEURONIOUtils:98\t\t10.0\n"
          ]
        },
        {
          "output_type": "stream",
          "name": "stdout",
          "text": [
            "2023-04-23 19:59:47,257 [INFO] 99\t\t12.0\n"
          ]
        },
        {
          "output_type": "stream",
          "name": "stderr",
          "text": [
            "INFO:NEURONIOUtils:99\t\t12.0\n"
          ]
        },
        {
          "output_type": "stream",
          "name": "stdout",
          "text": [
            "2023-04-23 19:59:47,259 [INFO] IMG firing rate avg: 21.0 Hz\n"
          ]
        },
        {
          "output_type": "stream",
          "name": "stderr",
          "text": [
            "INFO:NEURONIOUtils:IMG firing rate avg: 21.0 Hz\n"
          ]
        },
        {
          "output_type": "stream",
          "name": "stdout",
          "text": [
            "2023-04-23 19:59:47,279 [INFO] !!!PAG FIRING ACTIVATED!!!\n"
          ]
        },
        {
          "output_type": "stream",
          "name": "stderr",
          "text": [
            "INFO:NEURONIOUtils:!!!PAG FIRING ACTIVATED!!!\n"
          ]
        },
        {
          "output_type": "stream",
          "name": "stdout",
          "text": [
            "2023-04-23 19:59:47,301 [INFO] Volume = 1.4292 ml\n"
          ]
        },
        {
          "output_type": "stream",
          "name": "stderr",
          "text": [
            "INFO:NEURONIOUtils:Volume = 1.4292 ml\n"
          ]
        },
        {
          "output_type": "stream",
          "name": "stdout",
          "text": [
            "2023-04-23 19:59:47,303 [INFO] Pressure = 24.05 mmHg\n"
          ]
        },
        {
          "output_type": "stream",
          "name": "stderr",
          "text": [
            "INFO:NEURONIOUtils:Pressure = 24.05 mmHg\n"
          ]
        },
        {
          "output_type": "stream",
          "name": "stdout",
          "text": [
            "2023-04-23 19:59:47,306 [INFO] Calculated bladder afferent firing rate for the next time step = 22.71 Hz \n",
            " \n",
            "\n"
          ]
        },
        {
          "output_type": "stream",
          "name": "stderr",
          "text": [
            "INFO:NEURONIOUtils:Calculated bladder afferent firing rate for the next time step = 22.71 Hz \n",
            " \n",
            "\n"
          ]
        },
        {
          "output_type": "stream",
          "name": "stdout",
          "text": [
            "2023-04-23 19:59:51,317 [INFO]     step:255000 t_sim:51000.00 ms\n"
          ]
        },
        {
          "output_type": "stream",
          "name": "stderr",
          "text": [
            "INFO:NEURONIOUtils:    step:255000 t_sim:51000.00 ms\n"
          ]
        },
        {
          "output_type": "stream",
          "name": "stdout",
          "text": [
            "2023-04-23 19:59:51,339 [INFO] Timestep 50000.0 to 51000.0 ms\n"
          ]
        },
        {
          "output_type": "stream",
          "name": "stderr",
          "text": [
            "INFO:NEURONIOUtils:Timestep 50000.0 to 51000.0 ms\n"
          ]
        },
        {
          "output_type": "stream",
          "name": "stdout",
          "text": [
            "2023-04-23 19:59:51,344 [INFO] PGN node_id\t  Hz\n"
          ]
        },
        {
          "output_type": "stream",
          "name": "stderr",
          "text": [
            "INFO:NEURONIOUtils:PGN node_id\t  Hz\n"
          ]
        },
        {
          "output_type": "stream",
          "name": "stdout",
          "text": [
            "2023-04-23 19:59:51,349 [INFO] 70\t\t34.0\n"
          ]
        },
        {
          "output_type": "stream",
          "name": "stderr",
          "text": [
            "INFO:NEURONIOUtils:70\t\t34.0\n"
          ]
        },
        {
          "output_type": "stream",
          "name": "stdout",
          "text": [
            "2023-04-23 19:59:51,352 [INFO] 71\t\t34.0\n"
          ]
        },
        {
          "output_type": "stream",
          "name": "stderr",
          "text": [
            "INFO:NEURONIOUtils:71\t\t34.0\n"
          ]
        },
        {
          "output_type": "stream",
          "name": "stdout",
          "text": [
            "2023-04-23 19:59:51,354 [INFO] 72\t\t34.0\n"
          ]
        },
        {
          "output_type": "stream",
          "name": "stderr",
          "text": [
            "INFO:NEURONIOUtils:72\t\t34.0\n"
          ]
        },
        {
          "output_type": "stream",
          "name": "stdout",
          "text": [
            "2023-04-23 19:59:51,356 [INFO] 73\t\t34.0\n"
          ]
        },
        {
          "output_type": "stream",
          "name": "stderr",
          "text": [
            "INFO:NEURONIOUtils:73\t\t34.0\n"
          ]
        },
        {
          "output_type": "stream",
          "name": "stdout",
          "text": [
            "2023-04-23 19:59:51,358 [INFO] 74\t\t34.0\n"
          ]
        },
        {
          "output_type": "stream",
          "name": "stderr",
          "text": [
            "INFO:NEURONIOUtils:74\t\t34.0\n"
          ]
        },
        {
          "output_type": "stream",
          "name": "stdout",
          "text": [
            "2023-04-23 19:59:51,360 [INFO] 75\t\t34.0\n"
          ]
        },
        {
          "output_type": "stream",
          "name": "stderr",
          "text": [
            "INFO:NEURONIOUtils:75\t\t34.0\n"
          ]
        },
        {
          "output_type": "stream",
          "name": "stdout",
          "text": [
            "2023-04-23 19:59:51,362 [INFO] 76\t\t34.0\n"
          ]
        },
        {
          "output_type": "stream",
          "name": "stderr",
          "text": [
            "INFO:NEURONIOUtils:76\t\t34.0\n"
          ]
        },
        {
          "output_type": "stream",
          "name": "stdout",
          "text": [
            "2023-04-23 19:59:51,364 [INFO] 77\t\t34.0\n"
          ]
        },
        {
          "output_type": "stream",
          "name": "stderr",
          "text": [
            "INFO:NEURONIOUtils:77\t\t34.0\n"
          ]
        },
        {
          "output_type": "stream",
          "name": "stdout",
          "text": [
            "2023-04-23 19:59:51,366 [INFO] 78\t\t34.0\n"
          ]
        },
        {
          "output_type": "stream",
          "name": "stderr",
          "text": [
            "INFO:NEURONIOUtils:78\t\t34.0\n"
          ]
        },
        {
          "output_type": "stream",
          "name": "stdout",
          "text": [
            "2023-04-23 19:59:51,368 [INFO] 79\t\t34.0\n"
          ]
        },
        {
          "output_type": "stream",
          "name": "stderr",
          "text": [
            "INFO:NEURONIOUtils:79\t\t34.0\n"
          ]
        },
        {
          "output_type": "stream",
          "name": "stdout",
          "text": [
            "2023-04-23 19:59:51,371 [INFO] PGN firing rate avg: 34.0 Hz\n"
          ]
        },
        {
          "output_type": "stream",
          "name": "stderr",
          "text": [
            "INFO:NEURONIOUtils:PGN firing rate avg: 34.0 Hz\n"
          ]
        },
        {
          "output_type": "stream",
          "name": "stdout",
          "text": [
            "2023-04-23 19:59:51,373 [INFO] Grill PGN fr = 101.16 Hz\n"
          ]
        },
        {
          "output_type": "stream",
          "name": "stderr",
          "text": [
            "INFO:NEURONIOUtils:Grill PGN fr = 101.16 Hz\n"
          ]
        },
        {
          "output_type": "stream",
          "name": "stdout",
          "text": [
            "2023-04-23 19:59:51,375 [INFO] IMG node_gid\t  Hz\n"
          ]
        },
        {
          "output_type": "stream",
          "name": "stderr",
          "text": [
            "INFO:NEURONIOUtils:IMG node_gid\t  Hz\n"
          ]
        },
        {
          "output_type": "stream",
          "name": "stdout",
          "text": [
            "2023-04-23 19:59:51,377 [INFO] 90\t\t0.0\n"
          ]
        },
        {
          "output_type": "stream",
          "name": "stderr",
          "text": [
            "INFO:NEURONIOUtils:90\t\t0.0\n"
          ]
        },
        {
          "output_type": "stream",
          "name": "stdout",
          "text": [
            "2023-04-23 19:59:51,379 [INFO] 91\t\t8.0\n"
          ]
        },
        {
          "output_type": "stream",
          "name": "stderr",
          "text": [
            "INFO:NEURONIOUtils:91\t\t8.0\n"
          ]
        },
        {
          "output_type": "stream",
          "name": "stdout",
          "text": [
            "2023-04-23 19:59:51,381 [INFO] 92\t\t0.0\n"
          ]
        },
        {
          "output_type": "stream",
          "name": "stderr",
          "text": [
            "INFO:NEURONIOUtils:92\t\t0.0\n"
          ]
        },
        {
          "output_type": "stream",
          "name": "stdout",
          "text": [
            "2023-04-23 19:59:51,383 [INFO] 93\t\t8.0\n"
          ]
        },
        {
          "output_type": "stream",
          "name": "stderr",
          "text": [
            "INFO:NEURONIOUtils:93\t\t8.0\n"
          ]
        },
        {
          "output_type": "stream",
          "name": "stdout",
          "text": [
            "2023-04-23 19:59:51,385 [INFO] 94\t\t8.0\n"
          ]
        },
        {
          "output_type": "stream",
          "name": "stderr",
          "text": [
            "INFO:NEURONIOUtils:94\t\t8.0\n"
          ]
        },
        {
          "output_type": "stream",
          "name": "stdout",
          "text": [
            "2023-04-23 19:59:51,387 [INFO] 95\t\t0.0\n"
          ]
        },
        {
          "output_type": "stream",
          "name": "stderr",
          "text": [
            "INFO:NEURONIOUtils:95\t\t0.0\n"
          ]
        },
        {
          "output_type": "stream",
          "name": "stdout",
          "text": [
            "2023-04-23 19:59:51,389 [INFO] 96\t\t0.0\n"
          ]
        },
        {
          "output_type": "stream",
          "name": "stderr",
          "text": [
            "INFO:NEURONIOUtils:96\t\t0.0\n"
          ]
        },
        {
          "output_type": "stream",
          "name": "stdout",
          "text": [
            "2023-04-23 19:59:51,391 [INFO] 97\t\t6.0\n"
          ]
        },
        {
          "output_type": "stream",
          "name": "stderr",
          "text": [
            "INFO:NEURONIOUtils:97\t\t6.0\n"
          ]
        },
        {
          "output_type": "stream",
          "name": "stdout",
          "text": [
            "2023-04-23 19:59:51,394 [INFO] 98\t\t10.0\n"
          ]
        },
        {
          "output_type": "stream",
          "name": "stderr",
          "text": [
            "INFO:NEURONIOUtils:98\t\t10.0\n"
          ]
        },
        {
          "output_type": "stream",
          "name": "stdout",
          "text": [
            "2023-04-23 19:59:51,396 [INFO] 99\t\t8.0\n"
          ]
        },
        {
          "output_type": "stream",
          "name": "stderr",
          "text": [
            "INFO:NEURONIOUtils:99\t\t8.0\n"
          ]
        },
        {
          "output_type": "stream",
          "name": "stdout",
          "text": [
            "2023-04-23 19:59:51,398 [INFO] IMG firing rate avg: 34.0 Hz\n"
          ]
        },
        {
          "output_type": "stream",
          "name": "stderr",
          "text": [
            "INFO:NEURONIOUtils:IMG firing rate avg: 34.0 Hz\n"
          ]
        },
        {
          "output_type": "stream",
          "name": "stdout",
          "text": [
            "2023-04-23 19:59:51,418 [INFO] Volume = 0.6625 ml\n"
          ]
        },
        {
          "output_type": "stream",
          "name": "stderr",
          "text": [
            "INFO:NEURONIOUtils:Volume = 0.6625 ml\n"
          ]
        },
        {
          "output_type": "stream",
          "name": "stdout",
          "text": [
            "2023-04-23 19:59:51,421 [INFO] Pressure = 49.58 mmHg\n"
          ]
        },
        {
          "output_type": "stream",
          "name": "stderr",
          "text": [
            "INFO:NEURONIOUtils:Pressure = 49.58 mmHg\n"
          ]
        },
        {
          "output_type": "stream",
          "name": "stdout",
          "text": [
            "2023-04-23 19:59:51,423 [INFO] Calculated bladder afferent firing rate for the next time step = 23.79 Hz \n",
            " \n",
            "\n"
          ]
        },
        {
          "output_type": "stream",
          "name": "stderr",
          "text": [
            "INFO:NEURONIOUtils:Calculated bladder afferent firing rate for the next time step = 23.79 Hz \n",
            " \n",
            "\n"
          ]
        },
        {
          "output_type": "stream",
          "name": "stdout",
          "text": [
            "2023-04-23 19:59:54,955 [INFO]     step:260000 t_sim:52000.00 ms\n"
          ]
        },
        {
          "output_type": "stream",
          "name": "stderr",
          "text": [
            "INFO:NEURONIOUtils:    step:260000 t_sim:52000.00 ms\n"
          ]
        },
        {
          "output_type": "stream",
          "name": "stdout",
          "text": [
            "2023-04-23 19:59:54,979 [INFO] Timestep 51000.0 to 52000.0 ms\n"
          ]
        },
        {
          "output_type": "stream",
          "name": "stderr",
          "text": [
            "INFO:NEURONIOUtils:Timestep 51000.0 to 52000.0 ms\n"
          ]
        },
        {
          "output_type": "stream",
          "name": "stdout",
          "text": [
            "2023-04-23 19:59:54,983 [INFO] PGN node_id\t  Hz\n"
          ]
        },
        {
          "output_type": "stream",
          "name": "stderr",
          "text": [
            "INFO:NEURONIOUtils:PGN node_id\t  Hz\n"
          ]
        },
        {
          "output_type": "stream",
          "name": "stdout",
          "text": [
            "2023-04-23 19:59:54,986 [INFO] 70\t\t26.0\n"
          ]
        },
        {
          "output_type": "stream",
          "name": "stderr",
          "text": [
            "INFO:NEURONIOUtils:70\t\t26.0\n"
          ]
        },
        {
          "output_type": "stream",
          "name": "stdout",
          "text": [
            "2023-04-23 19:59:54,988 [INFO] 71\t\t26.0\n"
          ]
        },
        {
          "output_type": "stream",
          "name": "stderr",
          "text": [
            "INFO:NEURONIOUtils:71\t\t26.0\n"
          ]
        },
        {
          "output_type": "stream",
          "name": "stdout",
          "text": [
            "2023-04-23 19:59:54,990 [INFO] 72\t\t26.0\n"
          ]
        },
        {
          "output_type": "stream",
          "name": "stderr",
          "text": [
            "INFO:NEURONIOUtils:72\t\t26.0\n"
          ]
        },
        {
          "output_type": "stream",
          "name": "stdout",
          "text": [
            "2023-04-23 19:59:54,992 [INFO] 73\t\t26.0\n"
          ]
        },
        {
          "output_type": "stream",
          "name": "stderr",
          "text": [
            "INFO:NEURONIOUtils:73\t\t26.0\n"
          ]
        },
        {
          "output_type": "stream",
          "name": "stdout",
          "text": [
            "2023-04-23 19:59:54,995 [INFO] 74\t\t26.0\n"
          ]
        },
        {
          "output_type": "stream",
          "name": "stderr",
          "text": [
            "INFO:NEURONIOUtils:74\t\t26.0\n"
          ]
        },
        {
          "output_type": "stream",
          "name": "stdout",
          "text": [
            "2023-04-23 19:59:54,997 [INFO] 75\t\t26.0\n"
          ]
        },
        {
          "output_type": "stream",
          "name": "stderr",
          "text": [
            "INFO:NEURONIOUtils:75\t\t26.0\n"
          ]
        },
        {
          "output_type": "stream",
          "name": "stdout",
          "text": [
            "2023-04-23 19:59:55,000 [INFO] 76\t\t26.0\n"
          ]
        },
        {
          "output_type": "stream",
          "name": "stderr",
          "text": [
            "INFO:NEURONIOUtils:76\t\t26.0\n"
          ]
        },
        {
          "output_type": "stream",
          "name": "stdout",
          "text": [
            "2023-04-23 19:59:55,002 [INFO] 77\t\t26.0\n"
          ]
        },
        {
          "output_type": "stream",
          "name": "stderr",
          "text": [
            "INFO:NEURONIOUtils:77\t\t26.0\n"
          ]
        },
        {
          "output_type": "stream",
          "name": "stdout",
          "text": [
            "2023-04-23 19:59:55,004 [INFO] 78\t\t26.0\n"
          ]
        },
        {
          "output_type": "stream",
          "name": "stderr",
          "text": [
            "INFO:NEURONIOUtils:78\t\t26.0\n"
          ]
        },
        {
          "output_type": "stream",
          "name": "stdout",
          "text": [
            "2023-04-23 19:59:55,006 [INFO] 79\t\t26.0\n"
          ]
        },
        {
          "output_type": "stream",
          "name": "stderr",
          "text": [
            "INFO:NEURONIOUtils:79\t\t26.0\n"
          ]
        },
        {
          "output_type": "stream",
          "name": "stdout",
          "text": [
            "2023-04-23 19:59:55,008 [INFO] PGN firing rate avg: 26.0 Hz\n"
          ]
        },
        {
          "output_type": "stream",
          "name": "stderr",
          "text": [
            "INFO:NEURONIOUtils:PGN firing rate avg: 26.0 Hz\n"
          ]
        },
        {
          "output_type": "stream",
          "name": "stdout",
          "text": [
            "2023-04-23 19:59:55,010 [INFO] Grill PGN fr = 59.144000000000005 Hz\n"
          ]
        },
        {
          "output_type": "stream",
          "name": "stderr",
          "text": [
            "INFO:NEURONIOUtils:Grill PGN fr = 59.144000000000005 Hz\n"
          ]
        },
        {
          "output_type": "stream",
          "name": "stdout",
          "text": [
            "2023-04-23 19:59:55,012 [INFO] IMG node_gid\t  Hz\n"
          ]
        },
        {
          "output_type": "stream",
          "name": "stderr",
          "text": [
            "INFO:NEURONIOUtils:IMG node_gid\t  Hz\n"
          ]
        },
        {
          "output_type": "stream",
          "name": "stdout",
          "text": [
            "2023-04-23 19:59:55,014 [INFO] 90\t\t0.0\n"
          ]
        },
        {
          "output_type": "stream",
          "name": "stderr",
          "text": [
            "INFO:NEURONIOUtils:90\t\t0.0\n"
          ]
        },
        {
          "output_type": "stream",
          "name": "stdout",
          "text": [
            "2023-04-23 19:59:55,017 [INFO] 91\t\t17.0\n"
          ]
        },
        {
          "output_type": "stream",
          "name": "stderr",
          "text": [
            "INFO:NEURONIOUtils:91\t\t17.0\n"
          ]
        },
        {
          "output_type": "stream",
          "name": "stdout",
          "text": [
            "2023-04-23 19:59:55,019 [INFO] 92\t\t0.0\n"
          ]
        },
        {
          "output_type": "stream",
          "name": "stderr",
          "text": [
            "INFO:NEURONIOUtils:92\t\t0.0\n"
          ]
        },
        {
          "output_type": "stream",
          "name": "stdout",
          "text": [
            "2023-04-23 19:59:55,021 [INFO] 93\t\t16.0\n"
          ]
        },
        {
          "output_type": "stream",
          "name": "stderr",
          "text": [
            "INFO:NEURONIOUtils:93\t\t16.0\n"
          ]
        },
        {
          "output_type": "stream",
          "name": "stdout",
          "text": [
            "2023-04-23 19:59:55,023 [INFO] 94\t\t17.0\n"
          ]
        },
        {
          "output_type": "stream",
          "name": "stderr",
          "text": [
            "INFO:NEURONIOUtils:94\t\t17.0\n"
          ]
        },
        {
          "output_type": "stream",
          "name": "stdout",
          "text": [
            "2023-04-23 19:59:55,025 [INFO] 95\t\t0.0\n"
          ]
        },
        {
          "output_type": "stream",
          "name": "stderr",
          "text": [
            "INFO:NEURONIOUtils:95\t\t0.0\n"
          ]
        },
        {
          "output_type": "stream",
          "name": "stdout",
          "text": [
            "2023-04-23 19:59:55,027 [INFO] 96\t\t0.0\n"
          ]
        },
        {
          "output_type": "stream",
          "name": "stderr",
          "text": [
            "INFO:NEURONIOUtils:96\t\t0.0\n"
          ]
        },
        {
          "output_type": "stream",
          "name": "stdout",
          "text": [
            "2023-04-23 19:59:55,029 [INFO] 97\t\t13.0\n"
          ]
        },
        {
          "output_type": "stream",
          "name": "stderr",
          "text": [
            "INFO:NEURONIOUtils:97\t\t13.0\n"
          ]
        },
        {
          "output_type": "stream",
          "name": "stdout",
          "text": [
            "2023-04-23 19:59:55,032 [INFO] 98\t\t19.0\n"
          ]
        },
        {
          "output_type": "stream",
          "name": "stderr",
          "text": [
            "INFO:NEURONIOUtils:98\t\t19.0\n"
          ]
        },
        {
          "output_type": "stream",
          "name": "stdout",
          "text": [
            "2023-04-23 19:59:55,034 [INFO] 99\t\t16.0\n"
          ]
        },
        {
          "output_type": "stream",
          "name": "stderr",
          "text": [
            "INFO:NEURONIOUtils:99\t\t16.0\n"
          ]
        },
        {
          "output_type": "stream",
          "name": "stdout",
          "text": [
            "2023-04-23 19:59:55,036 [INFO] IMG firing rate avg: 26.0 Hz\n"
          ]
        },
        {
          "output_type": "stream",
          "name": "stderr",
          "text": [
            "INFO:NEURONIOUtils:IMG firing rate avg: 26.0 Hz\n"
          ]
        },
        {
          "output_type": "stream",
          "name": "stdout",
          "text": [
            "2023-04-23 19:59:55,053 [INFO] Volume = 0.0000 ml\n"
          ]
        },
        {
          "output_type": "stream",
          "name": "stderr",
          "text": [
            "INFO:NEURONIOUtils:Volume = 0.0000 ml\n"
          ]
        },
        {
          "output_type": "stream",
          "name": "stdout",
          "text": [
            "2023-04-23 19:59:55,056 [INFO] Pressure = 20.26 mmHg\n"
          ]
        },
        {
          "output_type": "stream",
          "name": "stderr",
          "text": [
            "INFO:NEURONIOUtils:Pressure = 20.26 mmHg\n"
          ]
        },
        {
          "output_type": "stream",
          "name": "stdout",
          "text": [
            "2023-04-23 19:59:55,058 [INFO] Calculated bladder afferent firing rate for the next time step = 17.34 Hz \n",
            " \n",
            "\n"
          ]
        },
        {
          "output_type": "stream",
          "name": "stderr",
          "text": [
            "INFO:NEURONIOUtils:Calculated bladder afferent firing rate for the next time step = 17.34 Hz \n",
            " \n",
            "\n"
          ]
        },
        {
          "output_type": "stream",
          "name": "stdout",
          "text": [
            "2023-04-23 19:59:58,379 [INFO]     step:265000 t_sim:53000.00 ms\n"
          ]
        },
        {
          "output_type": "stream",
          "name": "stderr",
          "text": [
            "INFO:NEURONIOUtils:    step:265000 t_sim:53000.00 ms\n"
          ]
        },
        {
          "output_type": "stream",
          "name": "stdout",
          "text": [
            "2023-04-23 19:59:58,412 [INFO] Timestep 52000.0 to 53000.0 ms\n"
          ]
        },
        {
          "output_type": "stream",
          "name": "stderr",
          "text": [
            "INFO:NEURONIOUtils:Timestep 52000.0 to 53000.0 ms\n"
          ]
        },
        {
          "output_type": "stream",
          "name": "stdout",
          "text": [
            "2023-04-23 19:59:58,421 [INFO] PGN node_id\t  Hz\n"
          ]
        },
        {
          "output_type": "stream",
          "name": "stderr",
          "text": [
            "INFO:NEURONIOUtils:PGN node_id\t  Hz\n"
          ]
        },
        {
          "output_type": "stream",
          "name": "stdout",
          "text": [
            "2023-04-23 19:59:58,425 [INFO] 70\t\t21.0\n"
          ]
        },
        {
          "output_type": "stream",
          "name": "stderr",
          "text": [
            "INFO:NEURONIOUtils:70\t\t21.0\n"
          ]
        },
        {
          "output_type": "stream",
          "name": "stdout",
          "text": [
            "2023-04-23 19:59:58,431 [INFO] 71\t\t21.0\n"
          ]
        },
        {
          "output_type": "stream",
          "name": "stderr",
          "text": [
            "INFO:NEURONIOUtils:71\t\t21.0\n"
          ]
        },
        {
          "output_type": "stream",
          "name": "stdout",
          "text": [
            "2023-04-23 19:59:58,433 [INFO] 72\t\t21.0\n"
          ]
        },
        {
          "output_type": "stream",
          "name": "stderr",
          "text": [
            "INFO:NEURONIOUtils:72\t\t21.0\n"
          ]
        },
        {
          "output_type": "stream",
          "name": "stdout",
          "text": [
            "2023-04-23 19:59:58,436 [INFO] 73\t\t21.0\n"
          ]
        },
        {
          "output_type": "stream",
          "name": "stderr",
          "text": [
            "INFO:NEURONIOUtils:73\t\t21.0\n"
          ]
        },
        {
          "output_type": "stream",
          "name": "stdout",
          "text": [
            "2023-04-23 19:59:58,439 [INFO] 74\t\t21.0\n"
          ]
        },
        {
          "output_type": "stream",
          "name": "stderr",
          "text": [
            "INFO:NEURONIOUtils:74\t\t21.0\n"
          ]
        },
        {
          "output_type": "stream",
          "name": "stdout",
          "text": [
            "2023-04-23 19:59:58,441 [INFO] 75\t\t21.0\n"
          ]
        },
        {
          "output_type": "stream",
          "name": "stderr",
          "text": [
            "INFO:NEURONIOUtils:75\t\t21.0\n"
          ]
        },
        {
          "output_type": "stream",
          "name": "stdout",
          "text": [
            "2023-04-23 19:59:58,444 [INFO] 76\t\t21.0\n"
          ]
        },
        {
          "output_type": "stream",
          "name": "stderr",
          "text": [
            "INFO:NEURONIOUtils:76\t\t21.0\n"
          ]
        },
        {
          "output_type": "stream",
          "name": "stdout",
          "text": [
            "2023-04-23 19:59:58,447 [INFO] 77\t\t21.0\n"
          ]
        },
        {
          "output_type": "stream",
          "name": "stderr",
          "text": [
            "INFO:NEURONIOUtils:77\t\t21.0\n"
          ]
        },
        {
          "output_type": "stream",
          "name": "stdout",
          "text": [
            "2023-04-23 19:59:58,452 [INFO] 78\t\t21.0\n"
          ]
        },
        {
          "output_type": "stream",
          "name": "stderr",
          "text": [
            "INFO:NEURONIOUtils:78\t\t21.0\n"
          ]
        },
        {
          "output_type": "stream",
          "name": "stdout",
          "text": [
            "2023-04-23 19:59:58,454 [INFO] 79\t\t21.0\n"
          ]
        },
        {
          "output_type": "stream",
          "name": "stderr",
          "text": [
            "INFO:NEURONIOUtils:79\t\t21.0\n"
          ]
        },
        {
          "output_type": "stream",
          "name": "stdout",
          "text": [
            "2023-04-23 19:59:58,457 [INFO] PGN firing rate avg: 21.0 Hz\n"
          ]
        },
        {
          "output_type": "stream",
          "name": "stderr",
          "text": [
            "INFO:NEURONIOUtils:PGN firing rate avg: 21.0 Hz\n"
          ]
        },
        {
          "output_type": "stream",
          "name": "stdout",
          "text": [
            "2023-04-23 19:59:58,464 [INFO] Grill PGN fr = 41.269000000000005 Hz\n"
          ]
        },
        {
          "output_type": "stream",
          "name": "stderr",
          "text": [
            "INFO:NEURONIOUtils:Grill PGN fr = 41.269000000000005 Hz\n"
          ]
        },
        {
          "output_type": "stream",
          "name": "stdout",
          "text": [
            "2023-04-23 19:59:58,467 [INFO] IMG node_gid\t  Hz\n"
          ]
        },
        {
          "output_type": "stream",
          "name": "stderr",
          "text": [
            "INFO:NEURONIOUtils:IMG node_gid\t  Hz\n"
          ]
        },
        {
          "output_type": "stream",
          "name": "stdout",
          "text": [
            "2023-04-23 19:59:58,470 [INFO] 90\t\t0.0\n"
          ]
        },
        {
          "output_type": "stream",
          "name": "stderr",
          "text": [
            "INFO:NEURONIOUtils:90\t\t0.0\n"
          ]
        },
        {
          "output_type": "stream",
          "name": "stdout",
          "text": [
            "2023-04-23 19:59:58,473 [INFO] 91\t\t13.0\n"
          ]
        },
        {
          "output_type": "stream",
          "name": "stderr",
          "text": [
            "INFO:NEURONIOUtils:91\t\t13.0\n"
          ]
        },
        {
          "output_type": "stream",
          "name": "stdout",
          "text": [
            "2023-04-23 19:59:58,475 [INFO] 92\t\t0.0\n"
          ]
        },
        {
          "output_type": "stream",
          "name": "stderr",
          "text": [
            "INFO:NEURONIOUtils:92\t\t0.0\n"
          ]
        },
        {
          "output_type": "stream",
          "name": "stdout",
          "text": [
            "2023-04-23 19:59:58,477 [INFO] 93\t\t14.0\n"
          ]
        },
        {
          "output_type": "stream",
          "name": "stderr",
          "text": [
            "INFO:NEURONIOUtils:93\t\t14.0\n"
          ]
        },
        {
          "output_type": "stream",
          "name": "stdout",
          "text": [
            "2023-04-23 19:59:58,479 [INFO] 94\t\t13.0\n"
          ]
        },
        {
          "output_type": "stream",
          "name": "stderr",
          "text": [
            "INFO:NEURONIOUtils:94\t\t13.0\n"
          ]
        },
        {
          "output_type": "stream",
          "name": "stdout",
          "text": [
            "2023-04-23 19:59:58,482 [INFO] 95\t\t0.0\n"
          ]
        },
        {
          "output_type": "stream",
          "name": "stderr",
          "text": [
            "INFO:NEURONIOUtils:95\t\t0.0\n"
          ]
        },
        {
          "output_type": "stream",
          "name": "stdout",
          "text": [
            "2023-04-23 19:59:58,487 [INFO] 96\t\t0.0\n"
          ]
        },
        {
          "output_type": "stream",
          "name": "stderr",
          "text": [
            "INFO:NEURONIOUtils:96\t\t0.0\n"
          ]
        },
        {
          "output_type": "stream",
          "name": "stdout",
          "text": [
            "2023-04-23 19:59:58,489 [INFO] 97\t\t12.0\n"
          ]
        },
        {
          "output_type": "stream",
          "name": "stderr",
          "text": [
            "INFO:NEURONIOUtils:97\t\t12.0\n"
          ]
        },
        {
          "output_type": "stream",
          "name": "stdout",
          "text": [
            "2023-04-23 19:59:58,492 [INFO] 98\t\t14.0\n"
          ]
        },
        {
          "output_type": "stream",
          "name": "stderr",
          "text": [
            "INFO:NEURONIOUtils:98\t\t14.0\n"
          ]
        },
        {
          "output_type": "stream",
          "name": "stdout",
          "text": [
            "2023-04-23 19:59:58,495 [INFO] 99\t\t14.0\n"
          ]
        },
        {
          "output_type": "stream",
          "name": "stderr",
          "text": [
            "INFO:NEURONIOUtils:99\t\t14.0\n"
          ]
        },
        {
          "output_type": "stream",
          "name": "stdout",
          "text": [
            "2023-04-23 19:59:58,497 [INFO] IMG firing rate avg: 21.0 Hz\n"
          ]
        },
        {
          "output_type": "stream",
          "name": "stderr",
          "text": [
            "INFO:NEURONIOUtils:IMG firing rate avg: 21.0 Hz\n"
          ]
        },
        {
          "output_type": "stream",
          "name": "stdout",
          "text": [
            "2023-04-23 19:59:58,506 [INFO] Volume = 0.0292 ml\n"
          ]
        },
        {
          "output_type": "stream",
          "name": "stderr",
          "text": [
            "INFO:NEURONIOUtils:Volume = 0.0292 ml\n"
          ]
        },
        {
          "output_type": "stream",
          "name": "stdout",
          "text": [
            "2023-04-23 19:59:58,515 [INFO] Pressure = 12.21 mmHg\n"
          ]
        },
        {
          "output_type": "stream",
          "name": "stderr",
          "text": [
            "INFO:NEURONIOUtils:Pressure = 12.21 mmHg\n"
          ]
        },
        {
          "output_type": "stream",
          "name": "stdout",
          "text": [
            "2023-04-23 19:59:58,518 [INFO] Calculated bladder afferent firing rate for the next time step = 5.66 Hz \n",
            " \n",
            "\n"
          ]
        },
        {
          "output_type": "stream",
          "name": "stderr",
          "text": [
            "INFO:NEURONIOUtils:Calculated bladder afferent firing rate for the next time step = 5.66 Hz \n",
            " \n",
            "\n"
          ]
        },
        {
          "output_type": "stream",
          "name": "stdout",
          "text": [
            "2023-04-23 20:00:02,522 [INFO]     step:270000 t_sim:54000.00 ms\n"
          ]
        },
        {
          "output_type": "stream",
          "name": "stderr",
          "text": [
            "INFO:NEURONIOUtils:    step:270000 t_sim:54000.00 ms\n"
          ]
        },
        {
          "output_type": "stream",
          "name": "stdout",
          "text": [
            "2023-04-23 20:00:02,540 [INFO] Timestep 53000.0 to 54000.0 ms\n"
          ]
        },
        {
          "output_type": "stream",
          "name": "stderr",
          "text": [
            "INFO:NEURONIOUtils:Timestep 53000.0 to 54000.0 ms\n"
          ]
        },
        {
          "output_type": "stream",
          "name": "stdout",
          "text": [
            "2023-04-23 20:00:02,545 [INFO] PGN node_id\t  Hz\n"
          ]
        },
        {
          "output_type": "stream",
          "name": "stderr",
          "text": [
            "INFO:NEURONIOUtils:PGN node_id\t  Hz\n"
          ]
        },
        {
          "output_type": "stream",
          "name": "stdout",
          "text": [
            "2023-04-23 20:00:02,549 [INFO] 70\t\t17.0\n"
          ]
        },
        {
          "output_type": "stream",
          "name": "stderr",
          "text": [
            "INFO:NEURONIOUtils:70\t\t17.0\n"
          ]
        },
        {
          "output_type": "stream",
          "name": "stdout",
          "text": [
            "2023-04-23 20:00:02,552 [INFO] 71\t\t17.0\n"
          ]
        },
        {
          "output_type": "stream",
          "name": "stderr",
          "text": [
            "INFO:NEURONIOUtils:71\t\t17.0\n"
          ]
        },
        {
          "output_type": "stream",
          "name": "stdout",
          "text": [
            "2023-04-23 20:00:02,555 [INFO] 72\t\t17.0\n"
          ]
        },
        {
          "output_type": "stream",
          "name": "stderr",
          "text": [
            "INFO:NEURONIOUtils:72\t\t17.0\n"
          ]
        },
        {
          "output_type": "stream",
          "name": "stdout",
          "text": [
            "2023-04-23 20:00:02,557 [INFO] 73\t\t17.0\n"
          ]
        },
        {
          "output_type": "stream",
          "name": "stderr",
          "text": [
            "INFO:NEURONIOUtils:73\t\t17.0\n"
          ]
        },
        {
          "output_type": "stream",
          "name": "stdout",
          "text": [
            "2023-04-23 20:00:02,559 [INFO] 74\t\t17.0\n"
          ]
        },
        {
          "output_type": "stream",
          "name": "stderr",
          "text": [
            "INFO:NEURONIOUtils:74\t\t17.0\n"
          ]
        },
        {
          "output_type": "stream",
          "name": "stdout",
          "text": [
            "2023-04-23 20:00:02,561 [INFO] 75\t\t17.0\n"
          ]
        },
        {
          "output_type": "stream",
          "name": "stderr",
          "text": [
            "INFO:NEURONIOUtils:75\t\t17.0\n"
          ]
        },
        {
          "output_type": "stream",
          "name": "stdout",
          "text": [
            "2023-04-23 20:00:02,563 [INFO] 76\t\t17.0\n"
          ]
        },
        {
          "output_type": "stream",
          "name": "stderr",
          "text": [
            "INFO:NEURONIOUtils:76\t\t17.0\n"
          ]
        },
        {
          "output_type": "stream",
          "name": "stdout",
          "text": [
            "2023-04-23 20:00:02,565 [INFO] 77\t\t17.0\n"
          ]
        },
        {
          "output_type": "stream",
          "name": "stderr",
          "text": [
            "INFO:NEURONIOUtils:77\t\t17.0\n"
          ]
        },
        {
          "output_type": "stream",
          "name": "stdout",
          "text": [
            "2023-04-23 20:00:02,567 [INFO] 78\t\t17.0\n"
          ]
        },
        {
          "output_type": "stream",
          "name": "stderr",
          "text": [
            "INFO:NEURONIOUtils:78\t\t17.0\n"
          ]
        },
        {
          "output_type": "stream",
          "name": "stdout",
          "text": [
            "2023-04-23 20:00:02,570 [INFO] 79\t\t17.0\n"
          ]
        },
        {
          "output_type": "stream",
          "name": "stderr",
          "text": [
            "INFO:NEURONIOUtils:79\t\t17.0\n"
          ]
        },
        {
          "output_type": "stream",
          "name": "stdout",
          "text": [
            "2023-04-23 20:00:02,572 [INFO] PGN firing rate avg: 17.0 Hz\n"
          ]
        },
        {
          "output_type": "stream",
          "name": "stderr",
          "text": [
            "INFO:NEURONIOUtils:PGN firing rate avg: 17.0 Hz\n"
          ]
        },
        {
          "output_type": "stream",
          "name": "stdout",
          "text": [
            "2023-04-23 20:00:02,575 [INFO] Grill PGN fr = 30.389000000000003 Hz\n"
          ]
        },
        {
          "output_type": "stream",
          "name": "stderr",
          "text": [
            "INFO:NEURONIOUtils:Grill PGN fr = 30.389000000000003 Hz\n"
          ]
        },
        {
          "output_type": "stream",
          "name": "stdout",
          "text": [
            "2023-04-23 20:00:02,578 [INFO] IMG node_gid\t  Hz\n"
          ]
        },
        {
          "output_type": "stream",
          "name": "stderr",
          "text": [
            "INFO:NEURONIOUtils:IMG node_gid\t  Hz\n"
          ]
        },
        {
          "output_type": "stream",
          "name": "stdout",
          "text": [
            "2023-04-23 20:00:02,580 [INFO] 90\t\t0.0\n"
          ]
        },
        {
          "output_type": "stream",
          "name": "stderr",
          "text": [
            "INFO:NEURONIOUtils:90\t\t0.0\n"
          ]
        },
        {
          "output_type": "stream",
          "name": "stdout",
          "text": [
            "2023-04-23 20:00:02,583 [INFO] 91\t\t8.0\n"
          ]
        },
        {
          "output_type": "stream",
          "name": "stderr",
          "text": [
            "INFO:NEURONIOUtils:91\t\t8.0\n"
          ]
        },
        {
          "output_type": "stream",
          "name": "stdout",
          "text": [
            "2023-04-23 20:00:02,585 [INFO] 92\t\t0.0\n"
          ]
        },
        {
          "output_type": "stream",
          "name": "stderr",
          "text": [
            "INFO:NEURONIOUtils:92\t\t0.0\n"
          ]
        },
        {
          "output_type": "stream",
          "name": "stdout",
          "text": [
            "2023-04-23 20:00:02,588 [INFO] 93\t\t10.0\n"
          ]
        },
        {
          "output_type": "stream",
          "name": "stderr",
          "text": [
            "INFO:NEURONIOUtils:93\t\t10.0\n"
          ]
        },
        {
          "output_type": "stream",
          "name": "stdout",
          "text": [
            "2023-04-23 20:00:02,590 [INFO] 94\t\t8.0\n"
          ]
        },
        {
          "output_type": "stream",
          "name": "stderr",
          "text": [
            "INFO:NEURONIOUtils:94\t\t8.0\n"
          ]
        },
        {
          "output_type": "stream",
          "name": "stdout",
          "text": [
            "2023-04-23 20:00:02,593 [INFO] 95\t\t0.0\n"
          ]
        },
        {
          "output_type": "stream",
          "name": "stderr",
          "text": [
            "INFO:NEURONIOUtils:95\t\t0.0\n"
          ]
        },
        {
          "output_type": "stream",
          "name": "stdout",
          "text": [
            "2023-04-23 20:00:02,595 [INFO] 96\t\t0.0\n"
          ]
        },
        {
          "output_type": "stream",
          "name": "stderr",
          "text": [
            "INFO:NEURONIOUtils:96\t\t0.0\n"
          ]
        },
        {
          "output_type": "stream",
          "name": "stdout",
          "text": [
            "2023-04-23 20:00:02,597 [INFO] 97\t\t4.0\n"
          ]
        },
        {
          "output_type": "stream",
          "name": "stderr",
          "text": [
            "INFO:NEURONIOUtils:97\t\t4.0\n"
          ]
        },
        {
          "output_type": "stream",
          "name": "stdout",
          "text": [
            "2023-04-23 20:00:02,600 [INFO] 98\t\t10.0\n"
          ]
        },
        {
          "output_type": "stream",
          "name": "stderr",
          "text": [
            "INFO:NEURONIOUtils:98\t\t10.0\n"
          ]
        },
        {
          "output_type": "stream",
          "name": "stdout",
          "text": [
            "2023-04-23 20:00:02,602 [INFO] 99\t\t10.0\n"
          ]
        },
        {
          "output_type": "stream",
          "name": "stderr",
          "text": [
            "INFO:NEURONIOUtils:99\t\t10.0\n"
          ]
        },
        {
          "output_type": "stream",
          "name": "stdout",
          "text": [
            "2023-04-23 20:00:02,604 [INFO] IMG firing rate avg: 17.0 Hz\n"
          ]
        },
        {
          "output_type": "stream",
          "name": "stderr",
          "text": [
            "INFO:NEURONIOUtils:IMG firing rate avg: 17.0 Hz\n"
          ]
        },
        {
          "output_type": "stream",
          "name": "stdout",
          "text": [
            "2023-04-23 20:00:02,630 [INFO] Volume = 0.0583 ml\n"
          ]
        },
        {
          "output_type": "stream",
          "name": "stderr",
          "text": [
            "INFO:NEURONIOUtils:Volume = 0.0583 ml\n"
          ]
        },
        {
          "output_type": "stream",
          "name": "stdout",
          "text": [
            "2023-04-23 20:00:02,634 [INFO] Pressure = 8.37 mmHg\n"
          ]
        },
        {
          "output_type": "stream",
          "name": "stderr",
          "text": [
            "INFO:NEURONIOUtils:Pressure = 8.37 mmHg\n"
          ]
        },
        {
          "output_type": "stream",
          "name": "stdout",
          "text": [
            "2023-04-23 20:00:02,637 [INFO] Calculated bladder afferent firing rate for the next time step = 1.36 Hz \n",
            " \n",
            "\n"
          ]
        },
        {
          "output_type": "stream",
          "name": "stderr",
          "text": [
            "INFO:NEURONIOUtils:Calculated bladder afferent firing rate for the next time step = 1.36 Hz \n",
            " \n",
            "\n"
          ]
        },
        {
          "output_type": "stream",
          "name": "stdout",
          "text": [
            "2023-04-23 20:00:07,134 [INFO]     step:275000 t_sim:55000.00 ms\n"
          ]
        },
        {
          "output_type": "stream",
          "name": "stderr",
          "text": [
            "INFO:NEURONIOUtils:    step:275000 t_sim:55000.00 ms\n"
          ]
        },
        {
          "output_type": "stream",
          "name": "stdout",
          "text": [
            "2023-04-23 20:00:07,156 [INFO] Timestep 54000.0 to 55000.0 ms\n"
          ]
        },
        {
          "output_type": "stream",
          "name": "stderr",
          "text": [
            "INFO:NEURONIOUtils:Timestep 54000.0 to 55000.0 ms\n"
          ]
        },
        {
          "output_type": "stream",
          "name": "stdout",
          "text": [
            "2023-04-23 20:00:07,168 [INFO] PGN node_id\t  Hz\n"
          ]
        },
        {
          "output_type": "stream",
          "name": "stderr",
          "text": [
            "INFO:NEURONIOUtils:PGN node_id\t  Hz\n"
          ]
        },
        {
          "output_type": "stream",
          "name": "stdout",
          "text": [
            "2023-04-23 20:00:07,172 [INFO] 70\t\t7.0\n"
          ]
        },
        {
          "output_type": "stream",
          "name": "stderr",
          "text": [
            "INFO:NEURONIOUtils:70\t\t7.0\n"
          ]
        },
        {
          "output_type": "stream",
          "name": "stdout",
          "text": [
            "2023-04-23 20:00:07,175 [INFO] 71\t\t7.0\n"
          ]
        },
        {
          "output_type": "stream",
          "name": "stderr",
          "text": [
            "INFO:NEURONIOUtils:71\t\t7.0\n"
          ]
        },
        {
          "output_type": "stream",
          "name": "stdout",
          "text": [
            "2023-04-23 20:00:07,178 [INFO] 72\t\t7.0\n"
          ]
        },
        {
          "output_type": "stream",
          "name": "stderr",
          "text": [
            "INFO:NEURONIOUtils:72\t\t7.0\n"
          ]
        },
        {
          "output_type": "stream",
          "name": "stdout",
          "text": [
            "2023-04-23 20:00:07,180 [INFO] 73\t\t7.0\n"
          ]
        },
        {
          "output_type": "stream",
          "name": "stderr",
          "text": [
            "INFO:NEURONIOUtils:73\t\t7.0\n"
          ]
        },
        {
          "output_type": "stream",
          "name": "stdout",
          "text": [
            "2023-04-23 20:00:07,183 [INFO] 74\t\t7.0\n"
          ]
        },
        {
          "output_type": "stream",
          "name": "stderr",
          "text": [
            "INFO:NEURONIOUtils:74\t\t7.0\n"
          ]
        },
        {
          "output_type": "stream",
          "name": "stdout",
          "text": [
            "2023-04-23 20:00:07,185 [INFO] 75\t\t7.0\n"
          ]
        },
        {
          "output_type": "stream",
          "name": "stderr",
          "text": [
            "INFO:NEURONIOUtils:75\t\t7.0\n"
          ]
        },
        {
          "output_type": "stream",
          "name": "stdout",
          "text": [
            "2023-04-23 20:00:07,188 [INFO] 76\t\t7.0\n"
          ]
        },
        {
          "output_type": "stream",
          "name": "stderr",
          "text": [
            "INFO:NEURONIOUtils:76\t\t7.0\n"
          ]
        },
        {
          "output_type": "stream",
          "name": "stdout",
          "text": [
            "2023-04-23 20:00:07,191 [INFO] 77\t\t7.0\n"
          ]
        },
        {
          "output_type": "stream",
          "name": "stderr",
          "text": [
            "INFO:NEURONIOUtils:77\t\t7.0\n"
          ]
        },
        {
          "output_type": "stream",
          "name": "stdout",
          "text": [
            "2023-04-23 20:00:07,194 [INFO] 78\t\t7.0\n"
          ]
        },
        {
          "output_type": "stream",
          "name": "stderr",
          "text": [
            "INFO:NEURONIOUtils:78\t\t7.0\n"
          ]
        },
        {
          "output_type": "stream",
          "name": "stdout",
          "text": [
            "2023-04-23 20:00:07,196 [INFO] 79\t\t7.0\n"
          ]
        },
        {
          "output_type": "stream",
          "name": "stderr",
          "text": [
            "INFO:NEURONIOUtils:79\t\t7.0\n"
          ]
        },
        {
          "output_type": "stream",
          "name": "stdout",
          "text": [
            "2023-04-23 20:00:07,198 [INFO] PGN firing rate avg: 7.0 Hz\n"
          ]
        },
        {
          "output_type": "stream",
          "name": "stderr",
          "text": [
            "INFO:NEURONIOUtils:PGN firing rate avg: 7.0 Hz\n"
          ]
        },
        {
          "output_type": "stream",
          "name": "stdout",
          "text": [
            "2023-04-23 20:00:07,200 [INFO] Grill PGN fr = 11.169 Hz\n"
          ]
        },
        {
          "output_type": "stream",
          "name": "stderr",
          "text": [
            "INFO:NEURONIOUtils:Grill PGN fr = 11.169 Hz\n"
          ]
        },
        {
          "output_type": "stream",
          "name": "stdout",
          "text": [
            "2023-04-23 20:00:07,202 [INFO] IMG node_gid\t  Hz\n"
          ]
        },
        {
          "output_type": "stream",
          "name": "stderr",
          "text": [
            "INFO:NEURONIOUtils:IMG node_gid\t  Hz\n"
          ]
        },
        {
          "output_type": "stream",
          "name": "stdout",
          "text": [
            "2023-04-23 20:00:07,204 [INFO] 90\t\t0.0\n"
          ]
        },
        {
          "output_type": "stream",
          "name": "stderr",
          "text": [
            "INFO:NEURONIOUtils:90\t\t0.0\n"
          ]
        },
        {
          "output_type": "stream",
          "name": "stdout",
          "text": [
            "2023-04-23 20:00:07,208 [INFO] 91\t\t3.0\n"
          ]
        },
        {
          "output_type": "stream",
          "name": "stderr",
          "text": [
            "INFO:NEURONIOUtils:91\t\t3.0\n"
          ]
        },
        {
          "output_type": "stream",
          "name": "stdout",
          "text": [
            "2023-04-23 20:00:07,215 [INFO] 92\t\t0.0\n"
          ]
        },
        {
          "output_type": "stream",
          "name": "stderr",
          "text": [
            "INFO:NEURONIOUtils:92\t\t0.0\n"
          ]
        },
        {
          "output_type": "stream",
          "name": "stdout",
          "text": [
            "2023-04-23 20:00:07,217 [INFO] 93\t\t2.0\n"
          ]
        },
        {
          "output_type": "stream",
          "name": "stderr",
          "text": [
            "INFO:NEURONIOUtils:93\t\t2.0\n"
          ]
        },
        {
          "output_type": "stream",
          "name": "stdout",
          "text": [
            "2023-04-23 20:00:07,219 [INFO] 94\t\t3.0\n"
          ]
        },
        {
          "output_type": "stream",
          "name": "stderr",
          "text": [
            "INFO:NEURONIOUtils:94\t\t3.0\n"
          ]
        },
        {
          "output_type": "stream",
          "name": "stdout",
          "text": [
            "2023-04-23 20:00:07,224 [INFO] 95\t\t0.0\n"
          ]
        },
        {
          "output_type": "stream",
          "name": "stderr",
          "text": [
            "INFO:NEURONIOUtils:95\t\t0.0\n"
          ]
        },
        {
          "output_type": "stream",
          "name": "stdout",
          "text": [
            "2023-04-23 20:00:07,226 [INFO] 96\t\t0.0\n"
          ]
        },
        {
          "output_type": "stream",
          "name": "stderr",
          "text": [
            "INFO:NEURONIOUtils:96\t\t0.0\n"
          ]
        },
        {
          "output_type": "stream",
          "name": "stdout",
          "text": [
            "2023-04-23 20:00:07,228 [INFO] 97\t\t2.0\n"
          ]
        },
        {
          "output_type": "stream",
          "name": "stderr",
          "text": [
            "INFO:NEURONIOUtils:97\t\t2.0\n"
          ]
        },
        {
          "output_type": "stream",
          "name": "stdout",
          "text": [
            "2023-04-23 20:00:07,230 [INFO] 98\t\t4.0\n"
          ]
        },
        {
          "output_type": "stream",
          "name": "stderr",
          "text": [
            "INFO:NEURONIOUtils:98\t\t4.0\n"
          ]
        },
        {
          "output_type": "stream",
          "name": "stdout",
          "text": [
            "2023-04-23 20:00:07,235 [INFO] 99\t\t2.0\n"
          ]
        },
        {
          "output_type": "stream",
          "name": "stderr",
          "text": [
            "INFO:NEURONIOUtils:99\t\t2.0\n"
          ]
        },
        {
          "output_type": "stream",
          "name": "stdout",
          "text": [
            "2023-04-23 20:00:07,236 [INFO] IMG firing rate avg: 7.0 Hz\n"
          ]
        },
        {
          "output_type": "stream",
          "name": "stderr",
          "text": [
            "INFO:NEURONIOUtils:IMG firing rate avg: 7.0 Hz\n"
          ]
        },
        {
          "output_type": "stream",
          "name": "stdout",
          "text": [
            "2023-04-23 20:00:07,246 [INFO] Volume = 0.0875 ml\n"
          ]
        },
        {
          "output_type": "stream",
          "name": "stderr",
          "text": [
            "/usr/local/lib/python3.9/dist-packages/bmtk/utils/reports/spike_trains/spike_trains.py:183: RuntimeWarning: divide by zero encountered in double_scalars\n",
            "  interval = -np.log(1.0 - np.random.uniform()) / fr\n",
            "INFO:NEURONIOUtils:Volume = 0.0875 ml\n"
          ]
        },
        {
          "output_type": "stream",
          "name": "stdout",
          "text": [
            "2023-04-23 20:00:07,253 [INFO] Pressure = 0.45 mmHg\n"
          ]
        },
        {
          "output_type": "stream",
          "name": "stderr",
          "text": [
            "INFO:NEURONIOUtils:Pressure = 0.45 mmHg\n"
          ]
        },
        {
          "output_type": "stream",
          "name": "stdout",
          "text": [
            "2023-04-23 20:00:07,259 [INFO] Calculated bladder afferent firing rate for the next time step = 0.00 Hz \n",
            " \n",
            "\n"
          ]
        },
        {
          "output_type": "stream",
          "name": "stderr",
          "text": [
            "INFO:NEURONIOUtils:Calculated bladder afferent firing rate for the next time step = 0.00 Hz \n",
            " \n",
            "\n"
          ]
        },
        {
          "output_type": "stream",
          "name": "stdout",
          "text": [
            "2023-04-23 20:00:11,281 [INFO]     step:280000 t_sim:56000.00 ms\n"
          ]
        },
        {
          "output_type": "stream",
          "name": "stderr",
          "text": [
            "INFO:NEURONIOUtils:    step:280000 t_sim:56000.00 ms\n"
          ]
        },
        {
          "output_type": "stream",
          "name": "stdout",
          "text": [
            "2023-04-23 20:00:11,296 [INFO] Timestep 55000.0 to 56000.0 ms\n"
          ]
        },
        {
          "output_type": "stream",
          "name": "stderr",
          "text": [
            "INFO:NEURONIOUtils:Timestep 55000.0 to 56000.0 ms\n"
          ]
        },
        {
          "output_type": "stream",
          "name": "stdout",
          "text": [
            "2023-04-23 20:00:11,301 [INFO] PGN node_id\t  Hz\n"
          ]
        },
        {
          "output_type": "stream",
          "name": "stderr",
          "text": [
            "INFO:NEURONIOUtils:PGN node_id\t  Hz\n"
          ]
        },
        {
          "output_type": "stream",
          "name": "stdout",
          "text": [
            "2023-04-23 20:00:11,305 [INFO] 70\t\t1.0\n"
          ]
        },
        {
          "output_type": "stream",
          "name": "stderr",
          "text": [
            "INFO:NEURONIOUtils:70\t\t1.0\n"
          ]
        },
        {
          "output_type": "stream",
          "name": "stdout",
          "text": [
            "2023-04-23 20:00:11,307 [INFO] 71\t\t1.0\n"
          ]
        },
        {
          "output_type": "stream",
          "name": "stderr",
          "text": [
            "INFO:NEURONIOUtils:71\t\t1.0\n"
          ]
        },
        {
          "output_type": "stream",
          "name": "stdout",
          "text": [
            "2023-04-23 20:00:11,309 [INFO] 72\t\t1.0\n"
          ]
        },
        {
          "output_type": "stream",
          "name": "stderr",
          "text": [
            "INFO:NEURONIOUtils:72\t\t1.0\n"
          ]
        },
        {
          "output_type": "stream",
          "name": "stdout",
          "text": [
            "2023-04-23 20:00:11,311 [INFO] 73\t\t1.0\n"
          ]
        },
        {
          "output_type": "stream",
          "name": "stderr",
          "text": [
            "INFO:NEURONIOUtils:73\t\t1.0\n"
          ]
        },
        {
          "output_type": "stream",
          "name": "stdout",
          "text": [
            "2023-04-23 20:00:11,314 [INFO] 74\t\t1.0\n"
          ]
        },
        {
          "output_type": "stream",
          "name": "stderr",
          "text": [
            "INFO:NEURONIOUtils:74\t\t1.0\n"
          ]
        },
        {
          "output_type": "stream",
          "name": "stdout",
          "text": [
            "2023-04-23 20:00:11,316 [INFO] 75\t\t1.0\n"
          ]
        },
        {
          "output_type": "stream",
          "name": "stderr",
          "text": [
            "INFO:NEURONIOUtils:75\t\t1.0\n"
          ]
        },
        {
          "output_type": "stream",
          "name": "stdout",
          "text": [
            "2023-04-23 20:00:11,318 [INFO] 76\t\t1.0\n"
          ]
        },
        {
          "output_type": "stream",
          "name": "stderr",
          "text": [
            "INFO:NEURONIOUtils:76\t\t1.0\n"
          ]
        },
        {
          "output_type": "stream",
          "name": "stdout",
          "text": [
            "2023-04-23 20:00:11,320 [INFO] 77\t\t1.0\n"
          ]
        },
        {
          "output_type": "stream",
          "name": "stderr",
          "text": [
            "INFO:NEURONIOUtils:77\t\t1.0\n"
          ]
        },
        {
          "output_type": "stream",
          "name": "stdout",
          "text": [
            "2023-04-23 20:00:11,322 [INFO] 78\t\t1.0\n"
          ]
        },
        {
          "output_type": "stream",
          "name": "stderr",
          "text": [
            "INFO:NEURONIOUtils:78\t\t1.0\n"
          ]
        },
        {
          "output_type": "stream",
          "name": "stdout",
          "text": [
            "2023-04-23 20:00:11,324 [INFO] 79\t\t1.0\n"
          ]
        },
        {
          "output_type": "stream",
          "name": "stderr",
          "text": [
            "INFO:NEURONIOUtils:79\t\t1.0\n"
          ]
        },
        {
          "output_type": "stream",
          "name": "stdout",
          "text": [
            "2023-04-23 20:00:11,326 [INFO] PGN firing rate avg: 1.0 Hz\n"
          ]
        },
        {
          "output_type": "stream",
          "name": "stderr",
          "text": [
            "INFO:NEURONIOUtils:PGN firing rate avg: 1.0 Hz\n"
          ]
        },
        {
          "output_type": "stream",
          "name": "stdout",
          "text": [
            "2023-04-23 20:00:11,328 [INFO] Grill PGN fr = 1.2690000000000001 Hz\n"
          ]
        },
        {
          "output_type": "stream",
          "name": "stderr",
          "text": [
            "INFO:NEURONIOUtils:Grill PGN fr = 1.2690000000000001 Hz\n"
          ]
        },
        {
          "output_type": "stream",
          "name": "stdout",
          "text": [
            "2023-04-23 20:00:11,330 [INFO] IMG node_gid\t  Hz\n"
          ]
        },
        {
          "output_type": "stream",
          "name": "stderr",
          "text": [
            "INFO:NEURONIOUtils:IMG node_gid\t  Hz\n"
          ]
        },
        {
          "output_type": "stream",
          "name": "stdout",
          "text": [
            "2023-04-23 20:00:11,332 [INFO] 90\t\t0.0\n"
          ]
        },
        {
          "output_type": "stream",
          "name": "stderr",
          "text": [
            "INFO:NEURONIOUtils:90\t\t0.0\n"
          ]
        },
        {
          "output_type": "stream",
          "name": "stdout",
          "text": [
            "2023-04-23 20:00:11,335 [INFO] 91\t\t0.0\n"
          ]
        },
        {
          "output_type": "stream",
          "name": "stderr",
          "text": [
            "INFO:NEURONIOUtils:91\t\t0.0\n"
          ]
        },
        {
          "output_type": "stream",
          "name": "stdout",
          "text": [
            "2023-04-23 20:00:11,337 [INFO] 92\t\t0.0\n"
          ]
        },
        {
          "output_type": "stream",
          "name": "stderr",
          "text": [
            "INFO:NEURONIOUtils:92\t\t0.0\n"
          ]
        },
        {
          "output_type": "stream",
          "name": "stdout",
          "text": [
            "2023-04-23 20:00:11,339 [INFO] 93\t\t1.0\n"
          ]
        },
        {
          "output_type": "stream",
          "name": "stderr",
          "text": [
            "INFO:NEURONIOUtils:93\t\t1.0\n"
          ]
        },
        {
          "output_type": "stream",
          "name": "stdout",
          "text": [
            "2023-04-23 20:00:11,341 [INFO] 94\t\t0.0\n"
          ]
        },
        {
          "output_type": "stream",
          "name": "stderr",
          "text": [
            "INFO:NEURONIOUtils:94\t\t0.0\n"
          ]
        },
        {
          "output_type": "stream",
          "name": "stdout",
          "text": [
            "2023-04-23 20:00:11,343 [INFO] 95\t\t0.0\n"
          ]
        },
        {
          "output_type": "stream",
          "name": "stderr",
          "text": [
            "INFO:NEURONIOUtils:95\t\t0.0\n"
          ]
        },
        {
          "output_type": "stream",
          "name": "stdout",
          "text": [
            "2023-04-23 20:00:11,346 [INFO] 96\t\t0.0\n"
          ]
        },
        {
          "output_type": "stream",
          "name": "stderr",
          "text": [
            "INFO:NEURONIOUtils:96\t\t0.0\n"
          ]
        },
        {
          "output_type": "stream",
          "name": "stdout",
          "text": [
            "2023-04-23 20:00:11,348 [INFO] 97\t\t1.0\n"
          ]
        },
        {
          "output_type": "stream",
          "name": "stderr",
          "text": [
            "INFO:NEURONIOUtils:97\t\t1.0\n"
          ]
        },
        {
          "output_type": "stream",
          "name": "stdout",
          "text": [
            "2023-04-23 20:00:11,349 [INFO] 98\t\t1.0\n"
          ]
        },
        {
          "output_type": "stream",
          "name": "stderr",
          "text": [
            "INFO:NEURONIOUtils:98\t\t1.0\n"
          ]
        },
        {
          "output_type": "stream",
          "name": "stdout",
          "text": [
            "2023-04-23 20:00:11,352 [INFO] 99\t\t1.0\n"
          ]
        },
        {
          "output_type": "stream",
          "name": "stderr",
          "text": [
            "INFO:NEURONIOUtils:99\t\t1.0\n"
          ]
        },
        {
          "output_type": "stream",
          "name": "stdout",
          "text": [
            "2023-04-23 20:00:11,354 [INFO] IMG firing rate avg: 1.0 Hz\n"
          ]
        },
        {
          "output_type": "stream",
          "name": "stderr",
          "text": [
            "INFO:NEURONIOUtils:IMG firing rate avg: 1.0 Hz\n"
          ]
        },
        {
          "output_type": "stream",
          "name": "stdout",
          "text": [
            "2023-04-23 20:00:11,363 [INFO] Volume = 0.1167 ml\n"
          ]
        },
        {
          "output_type": "stream",
          "name": "stderr",
          "text": [
            "/usr/local/lib/python3.9/dist-packages/bmtk/utils/reports/spike_trains/spike_trains.py:183: RuntimeWarning: divide by zero encountered in double_scalars\n",
            "  interval = -np.log(1.0 - np.random.uniform()) / fr\n",
            "INFO:NEURONIOUtils:Volume = 0.1167 ml\n"
          ]
        },
        {
          "output_type": "stream",
          "name": "stdout",
          "text": [
            "2023-04-23 20:00:11,367 [INFO] Pressure = 0.00 mmHg\n"
          ]
        },
        {
          "output_type": "stream",
          "name": "stderr",
          "text": [
            "INFO:NEURONIOUtils:Pressure = 0.00 mmHg\n"
          ]
        },
        {
          "output_type": "stream",
          "name": "stdout",
          "text": [
            "2023-04-23 20:00:11,370 [INFO] Calculated bladder afferent firing rate for the next time step = 0.00 Hz \n",
            " \n",
            "\n"
          ]
        },
        {
          "output_type": "stream",
          "name": "stderr",
          "text": [
            "INFO:NEURONIOUtils:Calculated bladder afferent firing rate for the next time step = 0.00 Hz \n",
            " \n",
            "\n"
          ]
        },
        {
          "output_type": "stream",
          "name": "stdout",
          "text": [
            "2023-04-23 20:00:14,836 [INFO]     step:285000 t_sim:57000.00 ms\n"
          ]
        },
        {
          "output_type": "stream",
          "name": "stderr",
          "text": [
            "INFO:NEURONIOUtils:    step:285000 t_sim:57000.00 ms\n"
          ]
        },
        {
          "output_type": "stream",
          "name": "stdout",
          "text": [
            "2023-04-23 20:00:14,855 [INFO] Timestep 56000.0 to 57000.0 ms\n"
          ]
        },
        {
          "output_type": "stream",
          "name": "stderr",
          "text": [
            "INFO:NEURONIOUtils:Timestep 56000.0 to 57000.0 ms\n"
          ]
        },
        {
          "output_type": "stream",
          "name": "stdout",
          "text": [
            "2023-04-23 20:00:14,863 [INFO] PGN node_id\t  Hz\n"
          ]
        },
        {
          "output_type": "stream",
          "name": "stderr",
          "text": [
            "INFO:NEURONIOUtils:PGN node_id\t  Hz\n"
          ]
        },
        {
          "output_type": "stream",
          "name": "stdout",
          "text": [
            "2023-04-23 20:00:14,868 [INFO] 70\t\t3.0\n"
          ]
        },
        {
          "output_type": "stream",
          "name": "stderr",
          "text": [
            "INFO:NEURONIOUtils:70\t\t3.0\n"
          ]
        },
        {
          "output_type": "stream",
          "name": "stdout",
          "text": [
            "2023-04-23 20:00:14,874 [INFO] 71\t\t3.0\n"
          ]
        },
        {
          "output_type": "stream",
          "name": "stderr",
          "text": [
            "INFO:NEURONIOUtils:71\t\t3.0\n"
          ]
        },
        {
          "output_type": "stream",
          "name": "stdout",
          "text": [
            "2023-04-23 20:00:14,882 [INFO] 72\t\t3.0\n"
          ]
        },
        {
          "output_type": "stream",
          "name": "stderr",
          "text": [
            "INFO:NEURONIOUtils:72\t\t3.0\n"
          ]
        },
        {
          "output_type": "stream",
          "name": "stdout",
          "text": [
            "2023-04-23 20:00:14,887 [INFO] 73\t\t3.0\n"
          ]
        },
        {
          "output_type": "stream",
          "name": "stderr",
          "text": [
            "INFO:NEURONIOUtils:73\t\t3.0\n"
          ]
        },
        {
          "output_type": "stream",
          "name": "stdout",
          "text": [
            "2023-04-23 20:00:14,889 [INFO] 74\t\t3.0\n"
          ]
        },
        {
          "output_type": "stream",
          "name": "stderr",
          "text": [
            "INFO:NEURONIOUtils:74\t\t3.0\n"
          ]
        },
        {
          "output_type": "stream",
          "name": "stdout",
          "text": [
            "2023-04-23 20:00:14,893 [INFO] 75\t\t3.0\n"
          ]
        },
        {
          "output_type": "stream",
          "name": "stderr",
          "text": [
            "INFO:NEURONIOUtils:75\t\t3.0\n"
          ]
        },
        {
          "output_type": "stream",
          "name": "stdout",
          "text": [
            "2023-04-23 20:00:14,900 [INFO] 76\t\t3.0\n"
          ]
        },
        {
          "output_type": "stream",
          "name": "stderr",
          "text": [
            "INFO:NEURONIOUtils:76\t\t3.0\n"
          ]
        },
        {
          "output_type": "stream",
          "name": "stdout",
          "text": [
            "2023-04-23 20:00:14,903 [INFO] 77\t\t3.0\n"
          ]
        },
        {
          "output_type": "stream",
          "name": "stderr",
          "text": [
            "INFO:NEURONIOUtils:77\t\t3.0\n"
          ]
        },
        {
          "output_type": "stream",
          "name": "stdout",
          "text": [
            "2023-04-23 20:00:14,907 [INFO] 78\t\t3.0\n"
          ]
        },
        {
          "output_type": "stream",
          "name": "stderr",
          "text": [
            "INFO:NEURONIOUtils:78\t\t3.0\n"
          ]
        },
        {
          "output_type": "stream",
          "name": "stdout",
          "text": [
            "2023-04-23 20:00:14,911 [INFO] 79\t\t3.0\n"
          ]
        },
        {
          "output_type": "stream",
          "name": "stderr",
          "text": [
            "INFO:NEURONIOUtils:79\t\t3.0\n"
          ]
        },
        {
          "output_type": "stream",
          "name": "stdout",
          "text": [
            "2023-04-23 20:00:14,918 [INFO] PGN firing rate avg: 3.0 Hz\n"
          ]
        },
        {
          "output_type": "stream",
          "name": "stderr",
          "text": [
            "INFO:NEURONIOUtils:PGN firing rate avg: 3.0 Hz\n"
          ]
        },
        {
          "output_type": "stream",
          "name": "stdout",
          "text": [
            "2023-04-23 20:00:14,920 [INFO] Grill PGN fr = 4.657 Hz\n"
          ]
        },
        {
          "output_type": "stream",
          "name": "stderr",
          "text": [
            "INFO:NEURONIOUtils:Grill PGN fr = 4.657 Hz\n"
          ]
        },
        {
          "output_type": "stream",
          "name": "stdout",
          "text": [
            "2023-04-23 20:00:14,922 [INFO] IMG node_gid\t  Hz\n"
          ]
        },
        {
          "output_type": "stream",
          "name": "stderr",
          "text": [
            "INFO:NEURONIOUtils:IMG node_gid\t  Hz\n"
          ]
        },
        {
          "output_type": "stream",
          "name": "stdout",
          "text": [
            "2023-04-23 20:00:14,925 [INFO] 90\t\t0.0\n"
          ]
        },
        {
          "output_type": "stream",
          "name": "stderr",
          "text": [
            "INFO:NEURONIOUtils:90\t\t0.0\n"
          ]
        },
        {
          "output_type": "stream",
          "name": "stdout",
          "text": [
            "2023-04-23 20:00:14,927 [INFO] 91\t\t1.0\n"
          ]
        },
        {
          "output_type": "stream",
          "name": "stderr",
          "text": [
            "INFO:NEURONIOUtils:91\t\t1.0\n"
          ]
        },
        {
          "output_type": "stream",
          "name": "stdout",
          "text": [
            "2023-04-23 20:00:14,930 [INFO] 92\t\t0.0\n"
          ]
        },
        {
          "output_type": "stream",
          "name": "stderr",
          "text": [
            "INFO:NEURONIOUtils:92\t\t0.0\n"
          ]
        },
        {
          "output_type": "stream",
          "name": "stdout",
          "text": [
            "2023-04-23 20:00:14,932 [INFO] 93\t\t1.0\n"
          ]
        },
        {
          "output_type": "stream",
          "name": "stderr",
          "text": [
            "INFO:NEURONIOUtils:93\t\t1.0\n"
          ]
        },
        {
          "output_type": "stream",
          "name": "stdout",
          "text": [
            "2023-04-23 20:00:14,935 [INFO] 94\t\t1.0\n"
          ]
        },
        {
          "output_type": "stream",
          "name": "stderr",
          "text": [
            "INFO:NEURONIOUtils:94\t\t1.0\n"
          ]
        },
        {
          "output_type": "stream",
          "name": "stdout",
          "text": [
            "2023-04-23 20:00:14,937 [INFO] 95\t\t0.0\n"
          ]
        },
        {
          "output_type": "stream",
          "name": "stderr",
          "text": [
            "INFO:NEURONIOUtils:95\t\t0.0\n"
          ]
        },
        {
          "output_type": "stream",
          "name": "stdout",
          "text": [
            "2023-04-23 20:00:14,939 [INFO] 96\t\t0.0\n"
          ]
        },
        {
          "output_type": "stream",
          "name": "stderr",
          "text": [
            "INFO:NEURONIOUtils:96\t\t0.0\n"
          ]
        },
        {
          "output_type": "stream",
          "name": "stdout",
          "text": [
            "2023-04-23 20:00:14,941 [INFO] 97\t\t1.0\n"
          ]
        },
        {
          "output_type": "stream",
          "name": "stderr",
          "text": [
            "INFO:NEURONIOUtils:97\t\t1.0\n"
          ]
        },
        {
          "output_type": "stream",
          "name": "stdout",
          "text": [
            "2023-04-23 20:00:14,944 [INFO] 98\t\t1.0\n"
          ]
        },
        {
          "output_type": "stream",
          "name": "stderr",
          "text": [
            "INFO:NEURONIOUtils:98\t\t1.0\n"
          ]
        },
        {
          "output_type": "stream",
          "name": "stdout",
          "text": [
            "2023-04-23 20:00:14,946 [INFO] 99\t\t1.0\n"
          ]
        },
        {
          "output_type": "stream",
          "name": "stderr",
          "text": [
            "INFO:NEURONIOUtils:99\t\t1.0\n"
          ]
        },
        {
          "output_type": "stream",
          "name": "stdout",
          "text": [
            "2023-04-23 20:00:14,948 [INFO] IMG firing rate avg: 3.0 Hz\n"
          ]
        },
        {
          "output_type": "stream",
          "name": "stderr",
          "text": [
            "INFO:NEURONIOUtils:IMG firing rate avg: 3.0 Hz\n"
          ]
        },
        {
          "output_type": "stream",
          "name": "stdout",
          "text": [
            "2023-04-23 20:00:14,956 [INFO] Volume = 0.1458 ml\n"
          ]
        },
        {
          "output_type": "stream",
          "name": "stderr",
          "text": [
            "/usr/local/lib/python3.9/dist-packages/bmtk/utils/reports/spike_trains/spike_trains.py:183: RuntimeWarning: divide by zero encountered in double_scalars\n",
            "  interval = -np.log(1.0 - np.random.uniform()) / fr\n",
            "INFO:NEURONIOUtils:Volume = 0.1458 ml\n"
          ]
        },
        {
          "output_type": "stream",
          "name": "stdout",
          "text": [
            "2023-04-23 20:00:14,960 [INFO] Pressure = 0.00 mmHg\n"
          ]
        },
        {
          "output_type": "stream",
          "name": "stderr",
          "text": [
            "INFO:NEURONIOUtils:Pressure = 0.00 mmHg\n"
          ]
        },
        {
          "output_type": "stream",
          "name": "stdout",
          "text": [
            "2023-04-23 20:00:14,962 [INFO] Calculated bladder afferent firing rate for the next time step = 0.00 Hz \n",
            " \n",
            "\n"
          ]
        },
        {
          "output_type": "stream",
          "name": "stderr",
          "text": [
            "INFO:NEURONIOUtils:Calculated bladder afferent firing rate for the next time step = 0.00 Hz \n",
            " \n",
            "\n"
          ]
        },
        {
          "output_type": "stream",
          "name": "stdout",
          "text": [
            "2023-04-23 20:00:19,347 [INFO]     step:290000 t_sim:58000.00 ms\n"
          ]
        },
        {
          "output_type": "stream",
          "name": "stderr",
          "text": [
            "INFO:NEURONIOUtils:    step:290000 t_sim:58000.00 ms\n"
          ]
        },
        {
          "output_type": "stream",
          "name": "stdout",
          "text": [
            "2023-04-23 20:00:19,368 [INFO] Timestep 57000.0 to 58000.0 ms\n"
          ]
        },
        {
          "output_type": "stream",
          "name": "stderr",
          "text": [
            "INFO:NEURONIOUtils:Timestep 57000.0 to 58000.0 ms\n"
          ]
        },
        {
          "output_type": "stream",
          "name": "stdout",
          "text": [
            "2023-04-23 20:00:19,379 [INFO] PGN node_id\t  Hz\n"
          ]
        },
        {
          "output_type": "stream",
          "name": "stderr",
          "text": [
            "INFO:NEURONIOUtils:PGN node_id\t  Hz\n"
          ]
        },
        {
          "output_type": "stream",
          "name": "stdout",
          "text": [
            "2023-04-23 20:00:19,383 [INFO] 70\t\t3.0\n"
          ]
        },
        {
          "output_type": "stream",
          "name": "stderr",
          "text": [
            "INFO:NEURONIOUtils:70\t\t3.0\n"
          ]
        },
        {
          "output_type": "stream",
          "name": "stdout",
          "text": [
            "2023-04-23 20:00:19,391 [INFO] 71\t\t3.0\n"
          ]
        },
        {
          "output_type": "stream",
          "name": "stderr",
          "text": [
            "INFO:NEURONIOUtils:71\t\t3.0\n"
          ]
        },
        {
          "output_type": "stream",
          "name": "stdout",
          "text": [
            "2023-04-23 20:00:19,398 [INFO] 72\t\t3.0\n"
          ]
        },
        {
          "output_type": "stream",
          "name": "stderr",
          "text": [
            "INFO:NEURONIOUtils:72\t\t3.0\n"
          ]
        },
        {
          "output_type": "stream",
          "name": "stdout",
          "text": [
            "2023-04-23 20:00:19,404 [INFO] 73\t\t3.0\n"
          ]
        },
        {
          "output_type": "stream",
          "name": "stderr",
          "text": [
            "INFO:NEURONIOUtils:73\t\t3.0\n"
          ]
        },
        {
          "output_type": "stream",
          "name": "stdout",
          "text": [
            "2023-04-23 20:00:19,409 [INFO] 74\t\t3.0\n"
          ]
        },
        {
          "output_type": "stream",
          "name": "stderr",
          "text": [
            "INFO:NEURONIOUtils:74\t\t3.0\n"
          ]
        },
        {
          "output_type": "stream",
          "name": "stdout",
          "text": [
            "2023-04-23 20:00:19,414 [INFO] 75\t\t3.0\n"
          ]
        },
        {
          "output_type": "stream",
          "name": "stderr",
          "text": [
            "INFO:NEURONIOUtils:75\t\t3.0\n"
          ]
        },
        {
          "output_type": "stream",
          "name": "stdout",
          "text": [
            "2023-04-23 20:00:19,419 [INFO] 76\t\t3.0\n"
          ]
        },
        {
          "output_type": "stream",
          "name": "stderr",
          "text": [
            "INFO:NEURONIOUtils:76\t\t3.0\n"
          ]
        },
        {
          "output_type": "stream",
          "name": "stdout",
          "text": [
            "2023-04-23 20:00:19,422 [INFO] 77\t\t3.0\n"
          ]
        },
        {
          "output_type": "stream",
          "name": "stderr",
          "text": [
            "INFO:NEURONIOUtils:77\t\t3.0\n"
          ]
        },
        {
          "output_type": "stream",
          "name": "stdout",
          "text": [
            "2023-04-23 20:00:19,428 [INFO] 78\t\t3.0\n"
          ]
        },
        {
          "output_type": "stream",
          "name": "stderr",
          "text": [
            "INFO:NEURONIOUtils:78\t\t3.0\n"
          ]
        },
        {
          "output_type": "stream",
          "name": "stdout",
          "text": [
            "2023-04-23 20:00:19,433 [INFO] 79\t\t3.0\n"
          ]
        },
        {
          "output_type": "stream",
          "name": "stderr",
          "text": [
            "INFO:NEURONIOUtils:79\t\t3.0\n"
          ]
        },
        {
          "output_type": "stream",
          "name": "stdout",
          "text": [
            "2023-04-23 20:00:19,436 [INFO] PGN firing rate avg: 3.0 Hz\n"
          ]
        },
        {
          "output_type": "stream",
          "name": "stderr",
          "text": [
            "INFO:NEURONIOUtils:PGN firing rate avg: 3.0 Hz\n"
          ]
        },
        {
          "output_type": "stream",
          "name": "stdout",
          "text": [
            "2023-04-23 20:00:19,441 [INFO] Grill PGN fr = 4.657 Hz\n"
          ]
        },
        {
          "output_type": "stream",
          "name": "stderr",
          "text": [
            "INFO:NEURONIOUtils:Grill PGN fr = 4.657 Hz\n"
          ]
        },
        {
          "output_type": "stream",
          "name": "stdout",
          "text": [
            "2023-04-23 20:00:19,446 [INFO] IMG node_gid\t  Hz\n"
          ]
        },
        {
          "output_type": "stream",
          "name": "stderr",
          "text": [
            "INFO:NEURONIOUtils:IMG node_gid\t  Hz\n"
          ]
        },
        {
          "output_type": "stream",
          "name": "stdout",
          "text": [
            "2023-04-23 20:00:19,451 [INFO] 90\t\t0.0\n"
          ]
        },
        {
          "output_type": "stream",
          "name": "stderr",
          "text": [
            "INFO:NEURONIOUtils:90\t\t0.0\n"
          ]
        },
        {
          "output_type": "stream",
          "name": "stdout",
          "text": [
            "2023-04-23 20:00:19,454 [INFO] 91\t\t1.0\n"
          ]
        },
        {
          "output_type": "stream",
          "name": "stderr",
          "text": [
            "INFO:NEURONIOUtils:91\t\t1.0\n"
          ]
        },
        {
          "output_type": "stream",
          "name": "stdout",
          "text": [
            "2023-04-23 20:00:19,474 [INFO] 92\t\t0.0\n"
          ]
        },
        {
          "output_type": "stream",
          "name": "stderr",
          "text": [
            "INFO:NEURONIOUtils:92\t\t0.0\n"
          ]
        },
        {
          "output_type": "stream",
          "name": "stdout",
          "text": [
            "2023-04-23 20:00:19,479 [INFO] 93\t\t1.0\n"
          ]
        },
        {
          "output_type": "stream",
          "name": "stderr",
          "text": [
            "INFO:NEURONIOUtils:93\t\t1.0\n"
          ]
        },
        {
          "output_type": "stream",
          "name": "stdout",
          "text": [
            "2023-04-23 20:00:19,499 [INFO] 94\t\t1.0\n"
          ]
        },
        {
          "output_type": "stream",
          "name": "stderr",
          "text": [
            "INFO:NEURONIOUtils:94\t\t1.0\n"
          ]
        },
        {
          "output_type": "stream",
          "name": "stdout",
          "text": [
            "2023-04-23 20:00:19,509 [INFO] 95\t\t0.0\n"
          ]
        },
        {
          "output_type": "stream",
          "name": "stderr",
          "text": [
            "INFO:NEURONIOUtils:95\t\t0.0\n"
          ]
        },
        {
          "output_type": "stream",
          "name": "stdout",
          "text": [
            "2023-04-23 20:00:19,512 [INFO] 96\t\t0.0\n"
          ]
        },
        {
          "output_type": "stream",
          "name": "stderr",
          "text": [
            "INFO:NEURONIOUtils:96\t\t0.0\n"
          ]
        },
        {
          "output_type": "stream",
          "name": "stdout",
          "text": [
            "2023-04-23 20:00:19,515 [INFO] 97\t\t1.0\n"
          ]
        },
        {
          "output_type": "stream",
          "name": "stderr",
          "text": [
            "INFO:NEURONIOUtils:97\t\t1.0\n"
          ]
        },
        {
          "output_type": "stream",
          "name": "stdout",
          "text": [
            "2023-04-23 20:00:19,517 [INFO] 98\t\t1.0\n"
          ]
        },
        {
          "output_type": "stream",
          "name": "stderr",
          "text": [
            "INFO:NEURONIOUtils:98\t\t1.0\n"
          ]
        },
        {
          "output_type": "stream",
          "name": "stdout",
          "text": [
            "2023-04-23 20:00:19,519 [INFO] 99\t\t1.0\n"
          ]
        },
        {
          "output_type": "stream",
          "name": "stderr",
          "text": [
            "INFO:NEURONIOUtils:99\t\t1.0\n"
          ]
        },
        {
          "output_type": "stream",
          "name": "stdout",
          "text": [
            "2023-04-23 20:00:19,524 [INFO] IMG firing rate avg: 3.0 Hz\n"
          ]
        },
        {
          "output_type": "stream",
          "name": "stderr",
          "text": [
            "INFO:NEURONIOUtils:IMG firing rate avg: 3.0 Hz\n"
          ]
        },
        {
          "output_type": "stream",
          "name": "stdout",
          "text": [
            "2023-04-23 20:00:19,536 [INFO] Volume = 0.1750 ml\n"
          ]
        },
        {
          "output_type": "stream",
          "name": "stderr",
          "text": [
            "/usr/local/lib/python3.9/dist-packages/bmtk/utils/reports/spike_trains/spike_trains.py:183: RuntimeWarning: divide by zero encountered in double_scalars\n",
            "  interval = -np.log(1.0 - np.random.uniform()) / fr\n",
            "INFO:NEURONIOUtils:Volume = 0.1750 ml\n"
          ]
        },
        {
          "output_type": "stream",
          "name": "stdout",
          "text": [
            "2023-04-23 20:00:19,539 [INFO] Pressure = 0.00 mmHg\n"
          ]
        },
        {
          "output_type": "stream",
          "name": "stderr",
          "text": [
            "INFO:NEURONIOUtils:Pressure = 0.00 mmHg\n"
          ]
        },
        {
          "output_type": "stream",
          "name": "stdout",
          "text": [
            "2023-04-23 20:00:19,542 [INFO] Calculated bladder afferent firing rate for the next time step = 0.00 Hz \n",
            " \n",
            "\n"
          ]
        },
        {
          "output_type": "stream",
          "name": "stderr",
          "text": [
            "INFO:NEURONIOUtils:Calculated bladder afferent firing rate for the next time step = 0.00 Hz \n",
            " \n",
            "\n"
          ]
        },
        {
          "output_type": "stream",
          "name": "stdout",
          "text": [
            "2023-04-23 20:00:23,209 [INFO]     step:295000 t_sim:59000.00 ms\n"
          ]
        },
        {
          "output_type": "stream",
          "name": "stderr",
          "text": [
            "INFO:NEURONIOUtils:    step:295000 t_sim:59000.00 ms\n"
          ]
        },
        {
          "output_type": "stream",
          "name": "stdout",
          "text": [
            "2023-04-23 20:00:23,229 [INFO] Timestep 58000.0 to 59000.0 ms\n"
          ]
        },
        {
          "output_type": "stream",
          "name": "stderr",
          "text": [
            "INFO:NEURONIOUtils:Timestep 58000.0 to 59000.0 ms\n"
          ]
        },
        {
          "output_type": "stream",
          "name": "stdout",
          "text": [
            "2023-04-23 20:00:23,233 [INFO] PGN node_id\t  Hz\n"
          ]
        },
        {
          "output_type": "stream",
          "name": "stderr",
          "text": [
            "INFO:NEURONIOUtils:PGN node_id\t  Hz\n"
          ]
        },
        {
          "output_type": "stream",
          "name": "stdout",
          "text": [
            "2023-04-23 20:00:23,238 [INFO] 70\t\t3.0\n"
          ]
        },
        {
          "output_type": "stream",
          "name": "stderr",
          "text": [
            "INFO:NEURONIOUtils:70\t\t3.0\n"
          ]
        },
        {
          "output_type": "stream",
          "name": "stdout",
          "text": [
            "2023-04-23 20:00:23,241 [INFO] 71\t\t3.0\n"
          ]
        },
        {
          "output_type": "stream",
          "name": "stderr",
          "text": [
            "INFO:NEURONIOUtils:71\t\t3.0\n"
          ]
        },
        {
          "output_type": "stream",
          "name": "stdout",
          "text": [
            "2023-04-23 20:00:23,243 [INFO] 72\t\t3.0\n"
          ]
        },
        {
          "output_type": "stream",
          "name": "stderr",
          "text": [
            "INFO:NEURONIOUtils:72\t\t3.0\n"
          ]
        },
        {
          "output_type": "stream",
          "name": "stdout",
          "text": [
            "2023-04-23 20:00:23,246 [INFO] 73\t\t3.0\n"
          ]
        },
        {
          "output_type": "stream",
          "name": "stderr",
          "text": [
            "INFO:NEURONIOUtils:73\t\t3.0\n"
          ]
        },
        {
          "output_type": "stream",
          "name": "stdout",
          "text": [
            "2023-04-23 20:00:23,248 [INFO] 74\t\t3.0\n"
          ]
        },
        {
          "output_type": "stream",
          "name": "stderr",
          "text": [
            "INFO:NEURONIOUtils:74\t\t3.0\n"
          ]
        },
        {
          "output_type": "stream",
          "name": "stdout",
          "text": [
            "2023-04-23 20:00:23,250 [INFO] 75\t\t3.0\n"
          ]
        },
        {
          "output_type": "stream",
          "name": "stderr",
          "text": [
            "INFO:NEURONIOUtils:75\t\t3.0\n"
          ]
        },
        {
          "output_type": "stream",
          "name": "stdout",
          "text": [
            "2023-04-23 20:00:23,252 [INFO] 76\t\t3.0\n"
          ]
        },
        {
          "output_type": "stream",
          "name": "stderr",
          "text": [
            "INFO:NEURONIOUtils:76\t\t3.0\n"
          ]
        },
        {
          "output_type": "stream",
          "name": "stdout",
          "text": [
            "2023-04-23 20:00:23,254 [INFO] 77\t\t3.0\n"
          ]
        },
        {
          "output_type": "stream",
          "name": "stderr",
          "text": [
            "INFO:NEURONIOUtils:77\t\t3.0\n"
          ]
        },
        {
          "output_type": "stream",
          "name": "stdout",
          "text": [
            "2023-04-23 20:00:23,258 [INFO] 78\t\t3.0\n"
          ]
        },
        {
          "output_type": "stream",
          "name": "stderr",
          "text": [
            "INFO:NEURONIOUtils:78\t\t3.0\n"
          ]
        },
        {
          "output_type": "stream",
          "name": "stdout",
          "text": [
            "2023-04-23 20:00:23,260 [INFO] 79\t\t3.0\n"
          ]
        },
        {
          "output_type": "stream",
          "name": "stderr",
          "text": [
            "INFO:NEURONIOUtils:79\t\t3.0\n"
          ]
        },
        {
          "output_type": "stream",
          "name": "stdout",
          "text": [
            "2023-04-23 20:00:23,266 [INFO] PGN firing rate avg: 3.0 Hz\n"
          ]
        },
        {
          "output_type": "stream",
          "name": "stderr",
          "text": [
            "INFO:NEURONIOUtils:PGN firing rate avg: 3.0 Hz\n"
          ]
        },
        {
          "output_type": "stream",
          "name": "stdout",
          "text": [
            "2023-04-23 20:00:23,269 [INFO] Grill PGN fr = 4.657 Hz\n"
          ]
        },
        {
          "output_type": "stream",
          "name": "stderr",
          "text": [
            "INFO:NEURONIOUtils:Grill PGN fr = 4.657 Hz\n"
          ]
        },
        {
          "output_type": "stream",
          "name": "stdout",
          "text": [
            "2023-04-23 20:00:23,272 [INFO] IMG node_gid\t  Hz\n"
          ]
        },
        {
          "output_type": "stream",
          "name": "stderr",
          "text": [
            "INFO:NEURONIOUtils:IMG node_gid\t  Hz\n"
          ]
        },
        {
          "output_type": "stream",
          "name": "stdout",
          "text": [
            "2023-04-23 20:00:23,275 [INFO] 90\t\t0.0\n"
          ]
        },
        {
          "output_type": "stream",
          "name": "stderr",
          "text": [
            "INFO:NEURONIOUtils:90\t\t0.0\n"
          ]
        },
        {
          "output_type": "stream",
          "name": "stdout",
          "text": [
            "2023-04-23 20:00:23,278 [INFO] 91\t\t1.0\n"
          ]
        },
        {
          "output_type": "stream",
          "name": "stderr",
          "text": [
            "INFO:NEURONIOUtils:91\t\t1.0\n"
          ]
        },
        {
          "output_type": "stream",
          "name": "stdout",
          "text": [
            "2023-04-23 20:00:23,280 [INFO] 92\t\t0.0\n"
          ]
        },
        {
          "output_type": "stream",
          "name": "stderr",
          "text": [
            "INFO:NEURONIOUtils:92\t\t0.0\n"
          ]
        },
        {
          "output_type": "stream",
          "name": "stdout",
          "text": [
            "2023-04-23 20:00:23,282 [INFO] 93\t\t1.0\n"
          ]
        },
        {
          "output_type": "stream",
          "name": "stderr",
          "text": [
            "INFO:NEURONIOUtils:93\t\t1.0\n"
          ]
        },
        {
          "output_type": "stream",
          "name": "stdout",
          "text": [
            "2023-04-23 20:00:23,285 [INFO] 94\t\t1.0\n"
          ]
        },
        {
          "output_type": "stream",
          "name": "stderr",
          "text": [
            "INFO:NEURONIOUtils:94\t\t1.0\n"
          ]
        },
        {
          "output_type": "stream",
          "name": "stdout",
          "text": [
            "2023-04-23 20:00:23,293 [INFO] 95\t\t0.0\n"
          ]
        },
        {
          "output_type": "stream",
          "name": "stderr",
          "text": [
            "INFO:NEURONIOUtils:95\t\t0.0\n"
          ]
        },
        {
          "output_type": "stream",
          "name": "stdout",
          "text": [
            "2023-04-23 20:00:23,299 [INFO] 96\t\t0.0\n"
          ]
        },
        {
          "output_type": "stream",
          "name": "stderr",
          "text": [
            "INFO:NEURONIOUtils:96\t\t0.0\n"
          ]
        },
        {
          "output_type": "stream",
          "name": "stdout",
          "text": [
            "2023-04-23 20:00:23,301 [INFO] 97\t\t1.0\n"
          ]
        },
        {
          "output_type": "stream",
          "name": "stderr",
          "text": [
            "INFO:NEURONIOUtils:97\t\t1.0\n"
          ]
        },
        {
          "output_type": "stream",
          "name": "stdout",
          "text": [
            "2023-04-23 20:00:23,306 [INFO] 98\t\t1.0\n"
          ]
        },
        {
          "output_type": "stream",
          "name": "stderr",
          "text": [
            "INFO:NEURONIOUtils:98\t\t1.0\n"
          ]
        },
        {
          "output_type": "stream",
          "name": "stdout",
          "text": [
            "2023-04-23 20:00:23,308 [INFO] 99\t\t1.0\n"
          ]
        },
        {
          "output_type": "stream",
          "name": "stderr",
          "text": [
            "INFO:NEURONIOUtils:99\t\t1.0\n"
          ]
        },
        {
          "output_type": "stream",
          "name": "stdout",
          "text": [
            "2023-04-23 20:00:23,310 [INFO] IMG firing rate avg: 3.0 Hz\n"
          ]
        },
        {
          "output_type": "stream",
          "name": "stderr",
          "text": [
            "INFO:NEURONIOUtils:IMG firing rate avg: 3.0 Hz\n"
          ]
        },
        {
          "output_type": "stream",
          "name": "stdout",
          "text": [
            "2023-04-23 20:00:23,323 [INFO] Volume = 0.2042 ml\n"
          ]
        },
        {
          "output_type": "stream",
          "name": "stderr",
          "text": [
            "/usr/local/lib/python3.9/dist-packages/bmtk/utils/reports/spike_trains/spike_trains.py:183: RuntimeWarning: divide by zero encountered in double_scalars\n",
            "  interval = -np.log(1.0 - np.random.uniform()) / fr\n",
            "INFO:NEURONIOUtils:Volume = 0.2042 ml\n"
          ]
        },
        {
          "output_type": "stream",
          "name": "stdout",
          "text": [
            "2023-04-23 20:00:23,326 [INFO] Pressure = 0.00 mmHg\n"
          ]
        },
        {
          "output_type": "stream",
          "name": "stderr",
          "text": [
            "INFO:NEURONIOUtils:Pressure = 0.00 mmHg\n"
          ]
        },
        {
          "output_type": "stream",
          "name": "stdout",
          "text": [
            "2023-04-23 20:00:23,328 [INFO] Calculated bladder afferent firing rate for the next time step = 0.00 Hz \n",
            " \n",
            "\n"
          ]
        },
        {
          "output_type": "stream",
          "name": "stderr",
          "text": [
            "INFO:NEURONIOUtils:Calculated bladder afferent firing rate for the next time step = 0.00 Hz \n",
            " \n",
            "\n"
          ]
        },
        {
          "output_type": "stream",
          "name": "stdout",
          "text": [
            "2023-04-23 20:00:26,975 [INFO]     step:300000 t_sim:60000.00 ms\n"
          ]
        },
        {
          "output_type": "stream",
          "name": "stderr",
          "text": [
            "INFO:NEURONIOUtils:    step:300000 t_sim:60000.00 ms\n"
          ]
        },
        {
          "output_type": "stream",
          "name": "stdout",
          "text": [
            "2023-04-23 20:00:26,991 [INFO] Timestep 59000.0 to 60000.0 ms\n"
          ]
        },
        {
          "output_type": "stream",
          "name": "stderr",
          "text": [
            "INFO:NEURONIOUtils:Timestep 59000.0 to 60000.0 ms\n"
          ]
        },
        {
          "output_type": "stream",
          "name": "stdout",
          "text": [
            "2023-04-23 20:00:26,995 [INFO] PGN node_id\t  Hz\n"
          ]
        },
        {
          "output_type": "stream",
          "name": "stderr",
          "text": [
            "INFO:NEURONIOUtils:PGN node_id\t  Hz\n"
          ]
        },
        {
          "output_type": "stream",
          "name": "stdout",
          "text": [
            "2023-04-23 20:00:26,999 [INFO] 70\t\t3.0\n"
          ]
        },
        {
          "output_type": "stream",
          "name": "stderr",
          "text": [
            "INFO:NEURONIOUtils:70\t\t3.0\n"
          ]
        },
        {
          "output_type": "stream",
          "name": "stdout",
          "text": [
            "2023-04-23 20:00:27,003 [INFO] 71\t\t3.0\n"
          ]
        },
        {
          "output_type": "stream",
          "name": "stderr",
          "text": [
            "INFO:NEURONIOUtils:71\t\t3.0\n"
          ]
        },
        {
          "output_type": "stream",
          "name": "stdout",
          "text": [
            "2023-04-23 20:00:27,005 [INFO] 72\t\t3.0\n"
          ]
        },
        {
          "output_type": "stream",
          "name": "stderr",
          "text": [
            "INFO:NEURONIOUtils:72\t\t3.0\n"
          ]
        },
        {
          "output_type": "stream",
          "name": "stdout",
          "text": [
            "2023-04-23 20:00:27,007 [INFO] 73\t\t3.0\n"
          ]
        },
        {
          "output_type": "stream",
          "name": "stderr",
          "text": [
            "INFO:NEURONIOUtils:73\t\t3.0\n"
          ]
        },
        {
          "output_type": "stream",
          "name": "stdout",
          "text": [
            "2023-04-23 20:00:27,009 [INFO] 74\t\t3.0\n"
          ]
        },
        {
          "output_type": "stream",
          "name": "stderr",
          "text": [
            "INFO:NEURONIOUtils:74\t\t3.0\n"
          ]
        },
        {
          "output_type": "stream",
          "name": "stdout",
          "text": [
            "2023-04-23 20:00:27,011 [INFO] 75\t\t3.0\n"
          ]
        },
        {
          "output_type": "stream",
          "name": "stderr",
          "text": [
            "INFO:NEURONIOUtils:75\t\t3.0\n"
          ]
        },
        {
          "output_type": "stream",
          "name": "stdout",
          "text": [
            "2023-04-23 20:00:27,012 [INFO] 76\t\t3.0\n"
          ]
        },
        {
          "output_type": "stream",
          "name": "stderr",
          "text": [
            "INFO:NEURONIOUtils:76\t\t3.0\n"
          ]
        },
        {
          "output_type": "stream",
          "name": "stdout",
          "text": [
            "2023-04-23 20:00:27,014 [INFO] 77\t\t3.0\n"
          ]
        },
        {
          "output_type": "stream",
          "name": "stderr",
          "text": [
            "INFO:NEURONIOUtils:77\t\t3.0\n"
          ]
        },
        {
          "output_type": "stream",
          "name": "stdout",
          "text": [
            "2023-04-23 20:00:27,016 [INFO] 78\t\t3.0\n"
          ]
        },
        {
          "output_type": "stream",
          "name": "stderr",
          "text": [
            "INFO:NEURONIOUtils:78\t\t3.0\n"
          ]
        },
        {
          "output_type": "stream",
          "name": "stdout",
          "text": [
            "2023-04-23 20:00:27,018 [INFO] 79\t\t3.0\n"
          ]
        },
        {
          "output_type": "stream",
          "name": "stderr",
          "text": [
            "INFO:NEURONIOUtils:79\t\t3.0\n"
          ]
        },
        {
          "output_type": "stream",
          "name": "stdout",
          "text": [
            "2023-04-23 20:00:27,020 [INFO] PGN firing rate avg: 3.0 Hz\n"
          ]
        },
        {
          "output_type": "stream",
          "name": "stderr",
          "text": [
            "INFO:NEURONIOUtils:PGN firing rate avg: 3.0 Hz\n"
          ]
        },
        {
          "output_type": "stream",
          "name": "stdout",
          "text": [
            "2023-04-23 20:00:27,022 [INFO] Grill PGN fr = 4.657 Hz\n"
          ]
        },
        {
          "output_type": "stream",
          "name": "stderr",
          "text": [
            "INFO:NEURONIOUtils:Grill PGN fr = 4.657 Hz\n"
          ]
        },
        {
          "output_type": "stream",
          "name": "stdout",
          "text": [
            "2023-04-23 20:00:27,024 [INFO] IMG node_gid\t  Hz\n"
          ]
        },
        {
          "output_type": "stream",
          "name": "stderr",
          "text": [
            "INFO:NEURONIOUtils:IMG node_gid\t  Hz\n"
          ]
        },
        {
          "output_type": "stream",
          "name": "stdout",
          "text": [
            "2023-04-23 20:00:27,026 [INFO] 90\t\t0.0\n"
          ]
        },
        {
          "output_type": "stream",
          "name": "stderr",
          "text": [
            "INFO:NEURONIOUtils:90\t\t0.0\n"
          ]
        },
        {
          "output_type": "stream",
          "name": "stdout",
          "text": [
            "2023-04-23 20:00:27,028 [INFO] 91\t\t1.0\n"
          ]
        },
        {
          "output_type": "stream",
          "name": "stderr",
          "text": [
            "INFO:NEURONIOUtils:91\t\t1.0\n"
          ]
        },
        {
          "output_type": "stream",
          "name": "stdout",
          "text": [
            "2023-04-23 20:00:27,030 [INFO] 92\t\t0.0\n"
          ]
        },
        {
          "output_type": "stream",
          "name": "stderr",
          "text": [
            "INFO:NEURONIOUtils:92\t\t0.0\n"
          ]
        },
        {
          "output_type": "stream",
          "name": "stdout",
          "text": [
            "2023-04-23 20:00:27,032 [INFO] 93\t\t1.0\n"
          ]
        },
        {
          "output_type": "stream",
          "name": "stderr",
          "text": [
            "INFO:NEURONIOUtils:93\t\t1.0\n"
          ]
        },
        {
          "output_type": "stream",
          "name": "stdout",
          "text": [
            "2023-04-23 20:00:27,033 [INFO] 94\t\t1.0\n"
          ]
        },
        {
          "output_type": "stream",
          "name": "stderr",
          "text": [
            "INFO:NEURONIOUtils:94\t\t1.0\n"
          ]
        },
        {
          "output_type": "stream",
          "name": "stdout",
          "text": [
            "2023-04-23 20:00:27,035 [INFO] 95\t\t0.0\n"
          ]
        },
        {
          "output_type": "stream",
          "name": "stderr",
          "text": [
            "INFO:NEURONIOUtils:95\t\t0.0\n"
          ]
        },
        {
          "output_type": "stream",
          "name": "stdout",
          "text": [
            "2023-04-23 20:00:27,037 [INFO] 96\t\t0.0\n"
          ]
        },
        {
          "output_type": "stream",
          "name": "stderr",
          "text": [
            "INFO:NEURONIOUtils:96\t\t0.0\n"
          ]
        },
        {
          "output_type": "stream",
          "name": "stdout",
          "text": [
            "2023-04-23 20:00:27,039 [INFO] 97\t\t1.0\n"
          ]
        },
        {
          "output_type": "stream",
          "name": "stderr",
          "text": [
            "INFO:NEURONIOUtils:97\t\t1.0\n"
          ]
        },
        {
          "output_type": "stream",
          "name": "stdout",
          "text": [
            "2023-04-23 20:00:27,041 [INFO] 98\t\t1.0\n"
          ]
        },
        {
          "output_type": "stream",
          "name": "stderr",
          "text": [
            "INFO:NEURONIOUtils:98\t\t1.0\n"
          ]
        },
        {
          "output_type": "stream",
          "name": "stdout",
          "text": [
            "2023-04-23 20:00:27,043 [INFO] 99\t\t1.0\n"
          ]
        },
        {
          "output_type": "stream",
          "name": "stderr",
          "text": [
            "INFO:NEURONIOUtils:99\t\t1.0\n"
          ]
        },
        {
          "output_type": "stream",
          "name": "stdout",
          "text": [
            "2023-04-23 20:00:27,045 [INFO] IMG firing rate avg: 3.0 Hz\n"
          ]
        },
        {
          "output_type": "stream",
          "name": "stderr",
          "text": [
            "INFO:NEURONIOUtils:IMG firing rate avg: 3.0 Hz\n"
          ]
        },
        {
          "output_type": "stream",
          "name": "stdout",
          "text": [
            "2023-04-23 20:00:27,053 [INFO] Volume = 0.2333 ml\n"
          ]
        },
        {
          "output_type": "stream",
          "name": "stderr",
          "text": [
            "/usr/local/lib/python3.9/dist-packages/bmtk/utils/reports/spike_trains/spike_trains.py:183: RuntimeWarning: divide by zero encountered in double_scalars\n",
            "  interval = -np.log(1.0 - np.random.uniform()) / fr\n",
            "INFO:NEURONIOUtils:Volume = 0.2333 ml\n"
          ]
        },
        {
          "output_type": "stream",
          "name": "stdout",
          "text": [
            "2023-04-23 20:00:27,062 [INFO] Pressure = 0.00 mmHg\n"
          ]
        },
        {
          "output_type": "stream",
          "name": "stderr",
          "text": [
            "INFO:NEURONIOUtils:Pressure = 0.00 mmHg\n"
          ]
        },
        {
          "output_type": "stream",
          "name": "stdout",
          "text": [
            "2023-04-23 20:00:27,063 [INFO] Calculated bladder afferent firing rate for the next time step = 0.00 Hz \n",
            " \n",
            "\n"
          ]
        },
        {
          "output_type": "stream",
          "name": "stderr",
          "text": [
            "INFO:NEURONIOUtils:Calculated bladder afferent firing rate for the next time step = 0.00 Hz \n",
            " \n",
            "\n"
          ]
        },
        {
          "output_type": "stream",
          "name": "stdout",
          "text": [
            "2023-04-23 20:00:28,846 [INFO]     step:302500 t_sim:60500.00 ms\n"
          ]
        },
        {
          "output_type": "stream",
          "name": "stderr",
          "text": [
            "INFO:NEURONIOUtils:    step:302500 t_sim:60500.00 ms\n"
          ]
        },
        {
          "output_type": "stream",
          "name": "stdout",
          "text": [
            "2023-04-23 20:00:28,861 [INFO] Timestep 60000.0 to 60500.0 ms\n"
          ]
        },
        {
          "output_type": "stream",
          "name": "stderr",
          "text": [
            "INFO:NEURONIOUtils:Timestep 60000.0 to 60500.0 ms\n"
          ]
        },
        {
          "output_type": "stream",
          "name": "stdout",
          "text": [
            "2023-04-23 20:00:28,869 [INFO] PGN node_id\t  Hz\n"
          ]
        },
        {
          "output_type": "stream",
          "name": "stderr",
          "text": [
            "INFO:NEURONIOUtils:PGN node_id\t  Hz\n"
          ]
        },
        {
          "output_type": "stream",
          "name": "stdout",
          "text": [
            "2023-04-23 20:00:28,872 [INFO] 70\t\t2.0\n"
          ]
        },
        {
          "output_type": "stream",
          "name": "stderr",
          "text": [
            "INFO:NEURONIOUtils:70\t\t2.0\n"
          ]
        },
        {
          "output_type": "stream",
          "name": "stdout",
          "text": [
            "2023-04-23 20:00:28,876 [INFO] 71\t\t2.0\n"
          ]
        },
        {
          "output_type": "stream",
          "name": "stderr",
          "text": [
            "INFO:NEURONIOUtils:71\t\t2.0\n"
          ]
        },
        {
          "output_type": "stream",
          "name": "stdout",
          "text": [
            "2023-04-23 20:00:28,878 [INFO] 72\t\t2.0\n"
          ]
        },
        {
          "output_type": "stream",
          "name": "stderr",
          "text": [
            "INFO:NEURONIOUtils:72\t\t2.0\n"
          ]
        },
        {
          "output_type": "stream",
          "name": "stdout",
          "text": [
            "2023-04-23 20:00:28,880 [INFO] 73\t\t2.0\n"
          ]
        },
        {
          "output_type": "stream",
          "name": "stderr",
          "text": [
            "INFO:NEURONIOUtils:73\t\t2.0\n"
          ]
        },
        {
          "output_type": "stream",
          "name": "stdout",
          "text": [
            "2023-04-23 20:00:28,882 [INFO] 74\t\t2.0\n"
          ]
        },
        {
          "output_type": "stream",
          "name": "stderr",
          "text": [
            "INFO:NEURONIOUtils:74\t\t2.0\n"
          ]
        },
        {
          "output_type": "stream",
          "name": "stdout",
          "text": [
            "2023-04-23 20:00:28,883 [INFO] 75\t\t2.0\n"
          ]
        },
        {
          "output_type": "stream",
          "name": "stderr",
          "text": [
            "INFO:NEURONIOUtils:75\t\t2.0\n"
          ]
        },
        {
          "output_type": "stream",
          "name": "stdout",
          "text": [
            "2023-04-23 20:00:28,885 [INFO] 76\t\t2.0\n"
          ]
        },
        {
          "output_type": "stream",
          "name": "stderr",
          "text": [
            "INFO:NEURONIOUtils:76\t\t2.0\n"
          ]
        },
        {
          "output_type": "stream",
          "name": "stdout",
          "text": [
            "2023-04-23 20:00:28,887 [INFO] 77\t\t2.0\n"
          ]
        },
        {
          "output_type": "stream",
          "name": "stderr",
          "text": [
            "INFO:NEURONIOUtils:77\t\t2.0\n"
          ]
        },
        {
          "output_type": "stream",
          "name": "stdout",
          "text": [
            "2023-04-23 20:00:28,889 [INFO] 78\t\t2.0\n"
          ]
        },
        {
          "output_type": "stream",
          "name": "stderr",
          "text": [
            "INFO:NEURONIOUtils:78\t\t2.0\n"
          ]
        },
        {
          "output_type": "stream",
          "name": "stdout",
          "text": [
            "2023-04-23 20:00:28,891 [INFO] 79\t\t2.0\n"
          ]
        },
        {
          "output_type": "stream",
          "name": "stderr",
          "text": [
            "INFO:NEURONIOUtils:79\t\t2.0\n"
          ]
        },
        {
          "output_type": "stream",
          "name": "stdout",
          "text": [
            "2023-04-23 20:00:28,893 [INFO] PGN firing rate avg: 2.0 Hz\n"
          ]
        },
        {
          "output_type": "stream",
          "name": "stderr",
          "text": [
            "INFO:NEURONIOUtils:PGN firing rate avg: 2.0 Hz\n"
          ]
        },
        {
          "output_type": "stream",
          "name": "stdout",
          "text": [
            "2023-04-23 20:00:28,895 [INFO] Grill PGN fr = 2.984 Hz\n"
          ]
        },
        {
          "output_type": "stream",
          "name": "stderr",
          "text": [
            "INFO:NEURONIOUtils:Grill PGN fr = 2.984 Hz\n"
          ]
        },
        {
          "output_type": "stream",
          "name": "stdout",
          "text": [
            "2023-04-23 20:00:28,901 [INFO] IMG node_gid\t  Hz\n"
          ]
        },
        {
          "output_type": "stream",
          "name": "stderr",
          "text": [
            "INFO:NEURONIOUtils:IMG node_gid\t  Hz\n"
          ]
        },
        {
          "output_type": "stream",
          "name": "stdout",
          "text": [
            "2023-04-23 20:00:28,905 [INFO] 90\t\t0.0\n"
          ]
        },
        {
          "output_type": "stream",
          "name": "stderr",
          "text": [
            "INFO:NEURONIOUtils:90\t\t0.0\n"
          ]
        },
        {
          "output_type": "stream",
          "name": "stdout",
          "text": [
            "2023-04-23 20:00:28,907 [INFO] 91\t\t1.0\n"
          ]
        },
        {
          "output_type": "stream",
          "name": "stderr",
          "text": [
            "INFO:NEURONIOUtils:91\t\t1.0\n"
          ]
        },
        {
          "output_type": "stream",
          "name": "stdout",
          "text": [
            "2023-04-23 20:00:28,909 [INFO] 92\t\t0.0\n"
          ]
        },
        {
          "output_type": "stream",
          "name": "stderr",
          "text": [
            "INFO:NEURONIOUtils:92\t\t0.0\n"
          ]
        },
        {
          "output_type": "stream",
          "name": "stdout",
          "text": [
            "2023-04-23 20:00:28,913 [INFO] 93\t\t1.0\n"
          ]
        },
        {
          "output_type": "stream",
          "name": "stderr",
          "text": [
            "INFO:NEURONIOUtils:93\t\t1.0\n"
          ]
        },
        {
          "output_type": "stream",
          "name": "stdout",
          "text": [
            "2023-04-23 20:00:28,915 [INFO] 94\t\t1.0\n"
          ]
        },
        {
          "output_type": "stream",
          "name": "stderr",
          "text": [
            "INFO:NEURONIOUtils:94\t\t1.0\n"
          ]
        },
        {
          "output_type": "stream",
          "name": "stdout",
          "text": [
            "2023-04-23 20:00:28,917 [INFO] 95\t\t0.0\n"
          ]
        },
        {
          "output_type": "stream",
          "name": "stderr",
          "text": [
            "INFO:NEURONIOUtils:95\t\t0.0\n"
          ]
        },
        {
          "output_type": "stream",
          "name": "stdout",
          "text": [
            "2023-04-23 20:00:28,919 [INFO] 96\t\t0.0\n"
          ]
        },
        {
          "output_type": "stream",
          "name": "stderr",
          "text": [
            "INFO:NEURONIOUtils:96\t\t0.0\n"
          ]
        },
        {
          "output_type": "stream",
          "name": "stdout",
          "text": [
            "2023-04-23 20:00:28,921 [INFO] 97\t\t1.0\n"
          ]
        },
        {
          "output_type": "stream",
          "name": "stderr",
          "text": [
            "INFO:NEURONIOUtils:97\t\t1.0\n"
          ]
        },
        {
          "output_type": "stream",
          "name": "stdout",
          "text": [
            "2023-04-23 20:00:28,923 [INFO] 98\t\t1.0\n"
          ]
        },
        {
          "output_type": "stream",
          "name": "stderr",
          "text": [
            "INFO:NEURONIOUtils:98\t\t1.0\n"
          ]
        },
        {
          "output_type": "stream",
          "name": "stdout",
          "text": [
            "2023-04-23 20:00:28,928 [INFO] 99\t\t1.0\n"
          ]
        },
        {
          "output_type": "stream",
          "name": "stderr",
          "text": [
            "INFO:NEURONIOUtils:99\t\t1.0\n"
          ]
        },
        {
          "output_type": "stream",
          "name": "stdout",
          "text": [
            "2023-04-23 20:00:28,931 [INFO] IMG firing rate avg: 2.0 Hz\n"
          ]
        },
        {
          "output_type": "stream",
          "name": "stderr",
          "text": [
            "INFO:NEURONIOUtils:IMG firing rate avg: 2.0 Hz\n"
          ]
        },
        {
          "output_type": "stream",
          "name": "stdout",
          "text": [
            "2023-04-23 20:00:28,940 [INFO] Volume = 0.2625 ml\n"
          ]
        },
        {
          "output_type": "stream",
          "name": "stderr",
          "text": [
            "/usr/local/lib/python3.9/dist-packages/bmtk/utils/reports/spike_trains/spike_trains.py:183: RuntimeWarning: divide by zero encountered in double_scalars\n",
            "  interval = -np.log(1.0 - np.random.uniform()) / fr\n",
            "INFO:NEURONIOUtils:Volume = 0.2625 ml\n"
          ]
        },
        {
          "output_type": "stream",
          "name": "stdout",
          "text": [
            "2023-04-23 20:00:28,947 [INFO] Pressure = 0.00 mmHg\n"
          ]
        },
        {
          "output_type": "stream",
          "name": "stderr",
          "text": [
            "INFO:NEURONIOUtils:Pressure = 0.00 mmHg\n"
          ]
        },
        {
          "output_type": "stream",
          "name": "stdout",
          "text": [
            "2023-04-23 20:00:28,949 [INFO] Calculated bladder afferent firing rate for the next time step = 0.00 Hz \n",
            " \n",
            "\n"
          ]
        },
        {
          "output_type": "stream",
          "name": "stderr",
          "text": [
            "INFO:NEURONIOUtils:Calculated bladder afferent firing rate for the next time step = 0.00 Hz \n",
            " \n",
            "\n"
          ]
        },
        {
          "output_type": "stream",
          "name": "stdout",
          "text": [
            "2023-04-23 20:00:29,152 [INFO] Simulation completed in 3.0 minutes, 37.02 seconds \n"
          ]
        },
        {
          "output_type": "stream",
          "name": "stderr",
          "text": [
            "INFO:NEURONIOUtils:Simulation completed in 3.0 minutes, 37.02 seconds \n"
          ]
        },
        {
          "output_type": "stream",
          "name": "stdout",
          "text": [
            "302500 0.2\n",
            "[ 10  87  88  86  89  91  83  84  82  85 103 104 102 105  98  99 100  93\n",
            "  94  97 101  72  73  71  74  75  43  44  45  46  47  70  39  40  41  80\n",
            "  81  79  76  77  78 106  36  37  35  38  69  68  66  50  51  52  53  54\n",
            "  55  56  57  58  59  60  61  62  63  64  65  67   1   2 109   0   3   4\n",
            "   5   6 107 108  32  33  30  31  34   7   8   9  24  25  26  27  28  29\n",
            "  23  22  21  20  11  12  13  14  15  16  17  18  19]\n"
          ]
        },
        {
          "output_type": "display_data",
          "data": {
            "text/plain": [
              "<Figure size 640x480 with 2 Axes>"
            ],
            "image/png": "[encoded data removed]"
          },
          "metadata": {}
        },
        {
          "output_type": "display_data",
          "data": {
            "text/plain": [
              "<Figure size 640x480 with 1 Axes>"
            ],
            "image/png": "[encoded data removed]"
          },
          "metadata": {}
        },
        {
          "output_type": "display_data",
          "data": {
            "text/plain": [
              "<Figure size 640x480 with 1 Axes>"
            ],
            "image/png": "[encoded data removed]"
          },
          "metadata": {}
        }
      ]
    }
  ]
}