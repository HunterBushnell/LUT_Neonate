{
  "nbformat": 4,
  "nbformat_minor": 0,
  "metadata": {
    "colab": {
      "provenance": [],
      "authorship_tag": "ABX9TyOAZMer7xT4pJOTqlWBpbT6",
      "include_colab_link": true
    },
    "kernelspec": {
      "name": "python3",
      "display_name": "Python 3"
    },
    "language_info": {
      "name": "python"
    }
  },
  "cells": [
    {
      "cell_type": "markdown",
      "metadata": {
        "id": "view-in-github",
        "colab_type": "text"
      },
      "source": [
        "<a href=\"https://colab.research.google.com/github/HunterBushnell/LUT_Neonate/blob/main/LUT_Neonate.ipynb\" target=\"_parent\"><img src=\"https://colab.research.google.com/assets/colab-badge.svg\" alt=\"Open In Colab\"/></a>"
      ]
    },
    {
      "cell_type": "code",
      "source": [
        "# Install\n",
        "!pip install neuron==8.2.2\n",
        "!pip install bmtk==1.0.7"
      ],
      "metadata": {
        "colab": {
          "base_uri": "https://localhost:8080/"
        },
        "id": "EN3eGs0MVhJr",
        "outputId": "c0b89c0f-30be-4eb0-87e4-549d70285284"
      },
      "execution_count": 1,
      "outputs": [
        {
          "output_type": "stream",
          "name": "stdout",
          "text": [
            "Looking in indexes: https://pypi.org/simple, https://us-python.pkg.dev/colab-wheels/public/simple/\n",
            "Requirement already satisfied: neuron==8.2.2 in /usr/local/lib/python3.10/dist-packages (8.2.2)\n",
            "Requirement already satisfied: numpy>=1.9.3 in /usr/local/lib/python3.10/dist-packages (from neuron==8.2.2) (1.22.4)\n",
            "Looking in indexes: https://pypi.org/simple, https://us-python.pkg.dev/colab-wheels/public/simple/\n",
            "Requirement already satisfied: bmtk==1.0.7 in /usr/local/lib/python3.10/dist-packages (1.0.7)\n",
            "Requirement already satisfied: jsonschema in /usr/local/lib/python3.10/dist-packages (from bmtk==1.0.7) (4.3.3)\n",
            "Requirement already satisfied: pandas in /usr/local/lib/python3.10/dist-packages (from bmtk==1.0.7) (1.5.3)\n",
            "Requirement already satisfied: numpy in /usr/local/lib/python3.10/dist-packages (from bmtk==1.0.7) (1.22.4)\n",
            "Requirement already satisfied: six in /usr/local/lib/python3.10/dist-packages (from bmtk==1.0.7) (1.16.0)\n",
            "Requirement already satisfied: h5py in /usr/local/lib/python3.10/dist-packages (from bmtk==1.0.7) (3.8.0)\n",
            "Requirement already satisfied: matplotlib in /usr/local/lib/python3.10/dist-packages (from bmtk==1.0.7) (3.7.1)\n",
            "Requirement already satisfied: scipy in /usr/local/lib/python3.10/dist-packages (from bmtk==1.0.7) (1.10.1)\n",
            "Requirement already satisfied: scikit-image in /usr/local/lib/python3.10/dist-packages (from bmtk==1.0.7) (0.19.3)\n",
            "Requirement already satisfied: sympy in /usr/local/lib/python3.10/dist-packages (from bmtk==1.0.7) (1.11.1)\n",
            "Requirement already satisfied: attrs>=17.4.0 in /usr/local/lib/python3.10/dist-packages (from jsonschema->bmtk==1.0.7) (23.1.0)\n",
            "Requirement already satisfied: pyrsistent!=0.17.0,!=0.17.1,!=0.17.2,>=0.14.0 in /usr/local/lib/python3.10/dist-packages (from jsonschema->bmtk==1.0.7) (0.19.3)\n",
            "Requirement already satisfied: contourpy>=1.0.1 in /usr/local/lib/python3.10/dist-packages (from matplotlib->bmtk==1.0.7) (1.0.7)\n",
            "Requirement already satisfied: cycler>=0.10 in /usr/local/lib/python3.10/dist-packages (from matplotlib->bmtk==1.0.7) (0.11.0)\n",
            "Requirement already satisfied: fonttools>=4.22.0 in /usr/local/lib/python3.10/dist-packages (from matplotlib->bmtk==1.0.7) (4.39.3)\n",
            "Requirement already satisfied: kiwisolver>=1.0.1 in /usr/local/lib/python3.10/dist-packages (from matplotlib->bmtk==1.0.7) (1.4.4)\n",
            "Requirement already satisfied: packaging>=20.0 in /usr/local/lib/python3.10/dist-packages (from matplotlib->bmtk==1.0.7) (23.1)\n",
            "Requirement already satisfied: pillow>=6.2.0 in /usr/local/lib/python3.10/dist-packages (from matplotlib->bmtk==1.0.7) (8.4.0)\n",
            "Requirement already satisfied: pyparsing>=2.3.1 in /usr/local/lib/python3.10/dist-packages (from matplotlib->bmtk==1.0.7) (3.0.9)\n",
            "Requirement already satisfied: python-dateutil>=2.7 in /usr/local/lib/python3.10/dist-packages (from matplotlib->bmtk==1.0.7) (2.8.2)\n",
            "Requirement already satisfied: pytz>=2020.1 in /usr/local/lib/python3.10/dist-packages (from pandas->bmtk==1.0.7) (2022.7.1)\n",
            "Requirement already satisfied: networkx>=2.2 in /usr/local/lib/python3.10/dist-packages (from scikit-image->bmtk==1.0.7) (3.1)\n",
            "Requirement already satisfied: imageio>=2.4.1 in /usr/local/lib/python3.10/dist-packages (from scikit-image->bmtk==1.0.7) (2.25.1)\n",
            "Requirement already satisfied: tifffile>=2019.7.26 in /usr/local/lib/python3.10/dist-packages (from scikit-image->bmtk==1.0.7) (2023.4.12)\n",
            "Requirement already satisfied: PyWavelets>=1.1.1 in /usr/local/lib/python3.10/dist-packages (from scikit-image->bmtk==1.0.7) (1.4.1)\n",
            "Requirement already satisfied: mpmath>=0.19 in /usr/local/lib/python3.10/dist-packages (from sympy->bmtk==1.0.7) (1.3.0)\n"
          ]
        }
      ]
    },
    {
      "cell_type": "code",
      "source": [
        "# Download Files\n",
        "\n",
        "import os\n",
        "\n",
        "if os.path.basename(os.getcwd())!='LUT_Neonate':\n",
        "  !git clone https://github.com/HunterBushnell/LUT_Neonate\n",
        "  %cd LUT_Neonate/\n",
        "else:\n",
        "  print('Mod files have already been downloaded.')\n",
        "%ls"
      ],
      "metadata": {
        "colab": {
          "base_uri": "https://localhost:8080/"
        },
        "id": "-gSQxFa_L5V7",
        "outputId": "3b303aca-ca8c-4ae1-afdf-b76462cf6ff9"
      },
      "execution_count": 2,
      "outputs": [
        {
          "output_type": "stream",
          "name": "stdout",
          "text": [
            "fatal: destination path 'LUT_Neonate' already exists and is not an empty directory.\n",
            "/content/LUT_Neonate\n",
            "\u001b[0m\u001b[01;34mbiophys_components\u001b[0m/  \u001b[01;34mgraphs\u001b[0m/             PAG_spikes.csv    run_bionet.py\n",
            "Blad_spikes.csv      \u001b[01;34mimages\u001b[0m/             plot_results.py   run.sh\n",
            "build_network.py     \u001b[01;34mjsons\u001b[0m/              plotting.pkl      spikes.csv\n",
            "\u001b[01;34merror_logs\u001b[0m/          LUT_Baseline.ipynb  plotting.py       spikes_pag.csv\n",
            "EUS_spikes.csv       \u001b[01;34mnetwork\u001b[0m/            \u001b[01;34m__pycache__\u001b[0m/      synapses.py\n",
            "feedback_loop.py     \u001b[01;34mnotes\u001b[0m/              README.md\n",
            "generate_input.py    \u001b[01;34moutput\u001b[0m/             requirements.txt\n"
          ]
        }
      ]
    },
    {
      "cell_type": "code",
      "source": [
        "# Compile Files\n",
        "\n",
        "import os \n",
        "# move to the mechanisms folder\n",
        "%cd biophys_components/mechanisms/\n",
        "os.system(\"rm -rf x86_64\") # deletes x86_64 if its there\n",
        "%ls # just to make sure its gone\n",
        "print(os.system('nrnivmodl modfiles')) # compile modfiles. Return 0 for success, 1 for failure.\n",
        "%ls # check to make sure the folder is there now\n",
        "%cd ../..\n",
        "%ls"
      ],
      "metadata": {
        "colab": {
          "base_uri": "https://localhost:8080/"
        },
        "id": "gYmb2C9NC_R0",
        "outputId": "ec4b433a-e4f9-4e67-d9c0-ce1056ac9c88"
      },
      "execution_count": 3,
      "outputs": [
        {
          "output_type": "stream",
          "name": "stdout",
          "text": [
            "/content/LUT_Neonate/biophys_components/mechanisms\n",
            "filess  \u001b[0m\u001b[01;34mmodfiles\u001b[0m/\n",
            "0\n",
            "filess  \u001b[0m\u001b[01;34mmodfiles\u001b[0m/  \u001b[01;34mx86_64\u001b[0m/\n",
            "/content/LUT_Neonate\n",
            "\u001b[0m\u001b[01;34mbiophys_components\u001b[0m/  \u001b[01;34mgraphs\u001b[0m/             PAG_spikes.csv    run_bionet.py\n",
            "Blad_spikes.csv      \u001b[01;34mimages\u001b[0m/             plot_results.py   run.sh\n",
            "build_network.py     \u001b[01;34mjsons\u001b[0m/              plotting.pkl      spikes.csv\n",
            "\u001b[01;34merror_logs\u001b[0m/          LUT_Baseline.ipynb  plotting.py       spikes_pag.csv\n",
            "EUS_spikes.csv       \u001b[01;34mnetwork\u001b[0m/            \u001b[01;34m__pycache__\u001b[0m/      synapses.py\n",
            "feedback_loop.py     \u001b[01;34mnotes\u001b[0m/              README.md\n",
            "generate_input.py    \u001b[01;34moutput\u001b[0m/             requirements.txt\n"
          ]
        }
      ]
    },
    {
      "cell_type": "code",
      "source": [
        "# Build Network\n",
        "\n",
        "import numpy as np\n",
        "from bmtk.builder.networks import NetworkBuilder\n",
        "import math\n",
        "import random\n",
        "\n",
        "random.seed(42)\n",
        "output_dir='network'\n",
        "\n",
        "#######################################################################\n",
        "##################### Create the cells ################################\n",
        "#######################################################################\n",
        "print(\"\\nCreating Cells\")\n",
        "\n",
        "# Build the main network\n",
        "net = NetworkBuilder('LUT')\n",
        "\n",
        "# Specify number of cells in each population #\n",
        "\n",
        "numBladaff  = 10\n",
        "numPAGaff   = 10\n",
        "#numEUSaff   = 10\n",
        "numIND      = 10\n",
        "numHypo     = 10\n",
        "#numINmplus  = 10\n",
        "#numINmminus = 10\n",
        "numPGN      = 10\n",
        "numFB       = 10\n",
        "numIMG      = 10 \n",
        "numMPG      = 10\n",
        "#numEUSmn    = 10\n",
        "#numBladmn   = 10\n",
        "# Create the nodes ----------------------------------------\n",
        "net.add_nodes(N=numBladaff, level='high',pop_name='Bladaff',model_type='biophysical',model_template='hoc:PUD',morphology='blank.swc')\n",
        "net.add_nodes(N=numPAGaff, pop_name='PAGaff',model_type='biophysical',model_template='hoc:PUD',morphology='blank.swc')\n",
        "# net.add_nodes(N=numEUSaff, level='high',pop_name='EUSaff',model_type='biophysical',model_template='hoc:PUD',morphology='blank.swc')\n",
        "net.add_nodes(N=numIND, pop_name='IND',model_type='biophysical',model_template='hoc:IND',morphology='blank.swc')\n",
        "net.add_nodes(N=numHypo, pop_name='Hypo',model_type='biophysical',model_template='hoc:HYPO',morphology='blank.swc')\n",
        "# net.add_nodes(N=numINmplus, pop_name='INmplus',model_type='biophysical',model_template='hoc:INM',morphology='blank.swc')\n",
        "# net.add_nodes(N=numINmminus, pop_name='INmminus',model_type='biophysical',model_template='hoc:INM',morphology='blank.swc')\n",
        "net.add_nodes(N=numPGN, level='low', pop_name='PGN',model_type='biophysical',model_template='hoc:PGN',morphology='blank.swc') \n",
        "net.add_nodes(N=numFB, pop_name='FB',model_type='biophysical',model_template='hoc:PUD',morphology='blank.swc')\n",
        "net.add_nodes(N=numIMG, pop_name='IMG',model_type='biophysical',model_template='hoc:IMG',morphology='blank.swc')\n",
        "net.add_nodes(N=numMPG, pop_name='MPG',model_type='biophysical',model_template='hoc:MPG',morphology='blank.swc') \n",
        "# net.add_nodes(N=numEUSmn, pop_name='EUSmn',model_type='biophysical',model_template='hoc:PUD',morphology='blank.swc')\n",
        "# net.add_nodes(N=numBladmn, pop_name='Bladmn',model_type='biophysical',model_template='hoc:PUD',morphology='blank.swc')\n",
        "\n",
        "##################################################################################\n",
        "####################### Connect the cells ########################################\n",
        "##################################################################################\n",
        "print(\"\\nConnecting Cells\")\n",
        "\n",
        "# Connectivity function\n",
        "# To use this function, the number of cells in the source population must be the same\n",
        "# as the number of cells in the target population.\n",
        "def one_to_one(source, target):\n",
        "    sid = source.node_id\n",
        "    tid = target.node_id\n",
        "    source_name = source['pop_name']\n",
        "    target_name = target['pop_name']\n",
        "    # if source_name=='EUSaff':\n",
        "    #     sid = sid-(numBladaff)\n",
        "    if source_name=='PAGaff':\n",
        "        sid = sid-(numBladaff)\n",
        "    if source_name=='IND':\n",
        "        sid = sid-(numBladaff+numPAGaff)\n",
        "    if source_name=='Hypo':\n",
        "        sid = sid-(numBladaff+numPAGaff+numIND)\n",
        "    # if source_name=='INmplus':\n",
        "        # sid = sid-(numBladaff+numEUSaff+numPAGaff+numIND+numHypo)\n",
        "    # if source_name=='INmminus':\n",
        "        # sid = sid-(numBladaff+numEUSaff+numPAGaff+numIND+numHypo+numINmplus)\n",
        "    if source_name=='PGN':\n",
        "        sid = sid-(numBladaff+numPAGaff+numIND+numHypo)\n",
        "    if source_name=='FB':\n",
        "        sid = sid-(numBladaff+numPAGaff+numIND+numHypo+numPGN)\n",
        "    if source_name=='IMG':\n",
        "        sid = sid-(numBladaff+numPAGaff+numIND+numHypo+numPGN+numFB)\n",
        "    if source_name=='MPG':\n",
        "        sid = sid-(numBladaff+numPAGaff+numIND+numHypo+numPGN+numFB+numIMG)\n",
        "    # if source_name=='EUSmn':\n",
        "        # sid = sid-(numBladaff+numEUSaff+numPAGaff+numIND+numHypo+numINmplus+numINmminus+numPGN+numFB+numIMG+numMPG)\n",
        "    # if source_name=='Bladmn':\n",
        "        # sid = sid-(numBladaff+numEUSaff+numPAGaff+numIND+numHypo+numINmplus+numINmminus+numPGN+numFB+numIMG+numMPG+numEUSmn)\n",
        "    \n",
        "    # if target_name=='EUSaff':\n",
        "        # tid = tid-(numBladaff)\n",
        "    if target_name=='PAGaff':\n",
        "        tid = tid-(numBladaff)\n",
        "    if target_name=='IND':\n",
        "        tid = tid-(numBladaff+numPAGaff)\n",
        "    if target_name=='Hypo':\n",
        "        tid = tid-(numBladaff+numPAGaff+numIND)\n",
        "    # if target_name=='INmplus':\n",
        "    #     tid = tid-(numBladaff+numEUSaff+numPAGaff+numIND+numHypo)\n",
        "    # if target_name=='INmminus':\n",
        "    #     tid = tid-(numBladaff+numEUSaff+numPAGaff+numIND+numHypo+numINmplus)\n",
        "    if target_name=='PGN':\n",
        "        tid = tid-(numBladaff+numPAGaff+numIND+numHypo)\n",
        "    if target_name=='FB':\n",
        "        tid = tid-(numBladaff+numPAGaff+numIND+numHypo+numPGN)\n",
        "    if target_name=='IMG':\n",
        "        tid = tid-(numBladaff+numPAGaff+numIND+numHypo+numPGN+numFB)\n",
        "    if target_name=='MPG':\n",
        "        tid = tid-(numBladaff+numPAGaff+numIND+numHypo+numPGN+numFB+numIMG)\n",
        "    # if target_name=='EUSmn':\n",
        "    #     tid = tid-(numBladaff+numEUSaff+numPAGaff+numIND+numHypo+numINmplus+numINmminus+numPGN+numFB+numIMG+numMPG)\n",
        "    # if target_name=='Bladmn':\n",
        "    #     tid = tid-(numBladaff+numEUSaff+numPAGaff+numIND+numHypo+numINmplus+numINmminus+numPGN+numFB+numIMG+numMPG+numEUSmn)\n",
        "    \n",
        "    if sid == tid:\n",
        "        print(\"connecting {} cell {} to {} cell {}\".format(source_name,sid,target_name,tid))\n",
        "        tmp_nsyn = 1\n",
        "    else:\n",
        "        return None\n",
        "\n",
        "    return tmp_nsyn\n",
        "\n",
        "\n",
        "def percent_connector(source,target,percent):\n",
        "    \"\"\"\n",
        "    For connections where types don't have the same number of cells\n",
        "    And positions are undefined for one type\n",
        "    \"\"\"\n",
        "    sid = source.node_id\n",
        "    tid = target.node_id\n",
        "    source_name = source['pop_name']\n",
        "    target_name = target['pop_name']\n",
        "\n",
        "    # if source_name=='EUSaff':\n",
        "    #     sid = sid-(numBladaff)\n",
        "    if source_name=='PAGaff':\n",
        "        sid = sid-(numBladaff)\n",
        "    if source_name=='IND':\n",
        "        sid = sid-(numBladaff+numPAGaff)\n",
        "    if source_name=='Hypo':\n",
        "        sid = sid-(numBladaff+numPAGaff+numIND)\n",
        "    # if source_name=='INmplus':\n",
        "        # sid = sid-(numBladaff+numEUSaff+numPAGaff+numIND+numHypo)\n",
        "    # if source_name=='INmminus':\n",
        "        # sid = sid-(numBladaff+numEUSaff+numPAGaff+numIND+numHypo+numINmplus)\n",
        "    if source_name=='PGN':\n",
        "        sid = sid-(numBladaff+numPAGaff+numIND+numHypo)\n",
        "    if source_name=='FB':\n",
        "        sid = sid-(numBladaff+numPAGaff+numIND+numHypo+numPGN)\n",
        "    if source_name=='IMG':\n",
        "        sid = sid-(numBladaff+numPAGaff+numIND+numHypo+numPGN+numFB)\n",
        "    if source_name=='MPG':\n",
        "        sid = sid-(numBladaff+numPAGaff+numIND+numHypo+numPGN+numFB+numIMG)\n",
        "    # if source_name=='EUSmn':\n",
        "        # sid = sid-(numBladaff+numEUSaff+numPAGaff+numIND+numHypo+numINmplus+numINmminus+numPGN+numFB+numIMG+numMPG)\n",
        "    # if source_name=='Bladmn':\n",
        "        # sid = sid-(numBladaff+numEUSaff+numPAGaff+numIND+numHypo+numINmplus+numINmminus+numPGN+numFB+numIMG+numMPG+numEUSmn)\n",
        "    \n",
        "    # if target_name=='EUSaff':\n",
        "        # tid = tid-(numBladaff)\n",
        "    if target_name=='PAGaff':\n",
        "        tid = tid-(numBladaff)\n",
        "    if target_name=='IND':\n",
        "        tid = tid-(numBladaff+numPAGaff)\n",
        "    if target_name=='Hypo':\n",
        "        tid = tid-(numBladaff+numPAGaff+numIND)\n",
        "    # if target_name=='INmplus':\n",
        "    #     tid = tid-(numBladaff+numEUSaff+numPAGaff+numIND+numHypo)\n",
        "    # if target_name=='INmminus':\n",
        "    #     tid = tid-(numBladaff+numEUSaff+numPAGaff+numIND+numHypo+numINmplus)\n",
        "    if target_name=='PGN':\n",
        "        tid = tid-(numBladaff+numPAGaff+numIND+numHypo)\n",
        "    if target_name=='FB':\n",
        "        tid = tid-(numBladaff+numPAGaff+numIND+numHypo+numPGN)\n",
        "    if target_name=='IMG':\n",
        "        tid = tid-(numBladaff+numPAGaff+numIND+numHypo+numPGN+numFB)\n",
        "    if target_name=='MPG':\n",
        "        tid = tid-(numBladaff+numPAGaff+numIND+numHypo+numPGN+numFB+numIMG)\n",
        "    # if target_name=='EUSmn':\n",
        "    #     tid = tid-(numBladaff+numEUSaff+numPAGaff+numIND+numHypo+numINmplus+numINmminus+numPGN+numFB+numIMG+numMPG)\n",
        "    # if target_name=='Bladmn':\n",
        "    #     tid = tid-(numBladaff+numEUSaff+numPAGaff+numIND+numHypo+numINmplus+numINmminus+numPGN+numFB+numIMG+numMPG+numEUSmn)\n",
        "\n",
        "    # if source_name=='EUSaff':\n",
        "    #     sid = sid-(numBladaff)\n",
        "    # if source_name=='PAGaff':\n",
        "    #     sid = sid-(numBladaff+numEUSaff)\n",
        "    # if source_name=='IND':\n",
        "    #     sid = sid-(numBladaff+numEUSaff+numPAGaff)\n",
        "    # if source_name=='Hypo':\n",
        "    #     sid = sid-(numBladaff+numEUSaff+numPAGaff+numIND)\n",
        "    # if source_name=='INmplus':\n",
        "    #     sid = sid-(numBladaff+numEUSaff+numPAGaff+numIND+numHypo)\n",
        "    # if source_name=='INmminus':\n",
        "    #     sid = sid-(numBladaff+numEUSaff+numPAGaff+numIND+numHypo+numINmplus)\n",
        "    # if source_name=='PGN':\n",
        "    #     sid = sid-(numBladaff+numEUSaff+numPAGaff+numIND+numHypo+numINmplus+numINmminus)\n",
        "    # if source_name=='FB':\n",
        "    #     sid = sid-(numBladaff+numEUSaff+numPAGaff+numIND+numHypo+numINmplus+numINmminus+numPGN)\n",
        "    # if source_name=='IMG':\n",
        "    #     sid = sid-(numBladaff+numEUSaff+numPAGaff+numIND+numHypo+numINmplus+numINmminus+numPGN+numFB)\n",
        "    # if source_name=='MPG':\n",
        "    #     sid = sid-(numBladaff+numEUSaff+numPAGaff+numIND+numHypo+numINmplus+numINmminus+numPGN+numFB+numIMG)\n",
        "    # if source_name=='EUSmn':\n",
        "    #     sid = sid-(numBladaff+numEUSaff+numPAGaff+numIND+numHypo+numINmplus+numINmminus+numPGN+numFB+numIMG+numMPG)\n",
        "    # if source_name=='Bladmn':\n",
        "    #     sid = sid-(numBladaff+numEUSaff+numPAGaff+numIND+numHypo+numINmplus+numINmminus+numPGN+numFB+numIMG+numMPG+numEUSmn)\n",
        "    \n",
        "    # if target_name=='EUSaff':\n",
        "    #     tid = tid-(numBladaff)\n",
        "    # if target_name=='PAGaff':\n",
        "    #     tid = tid-(numBladaff+numEUSaff)\n",
        "    # if target_name=='IND':\n",
        "    #     tid = tid-(numBladaff+numEUSaff+numPAGaff)\n",
        "    # if target_name=='Hypo':\n",
        "    #     tid = tid-(numBladaff+numEUSaff+numPAGaff+numIND)\n",
        "    # if target_name=='INmplus':\n",
        "    #     tid = tid-(numBladaff+numEUSaff+numPAGaff+numIND+numHypo)\n",
        "    # if target_name=='INmminus':\n",
        "    #     tid = tid-(numBladaff+numEUSaff+numPAGaff+numIND+numHypo+numINmplus)\n",
        "    # if target_name=='PGN':\n",
        "    #     tid = tid-(numBladaff+numEUSaff+numPAGaff+numIND+numHypo+numINmplus+numINmminus)\n",
        "    # if target_name=='FB':\n",
        "    #     tid = tid-(numBladaff+numEUSaff+numPAGaff+numIND+numHypo+numINmplus+numINmminus+numPGN)\n",
        "    # if target_name=='IMG':\n",
        "    #     tid = tid-(numBladaff+numEUSaff+numPAGaff+numIND+numHypo+numINmplus+numINmminus+numPGN+numFB)\n",
        "    # if target_name=='MPG':\n",
        "    #     tid = tid-(numBladaff+numEUSaff+numPAGaff+numIND+numHypo+numINmplus+numINmminus+numPGN+numFB+numIMG)\n",
        "    # if target_name=='EUSmn':\n",
        "    #     tid = tid-(numBladaff+numEUSaff+numPAGaff+numIND+numHypo+numINmplus+numINmminus+numPGN+numFB+numIMG+numMPG)\n",
        "    # if target_name=='Bladmn':\n",
        "    #     tid = tid-(numBladaff+numEUSaff+numPAGaff+numIND+numHypo+numINmplus+numINmminus+numPGN+numFB+numIMG+numMPG+numEUSmn)\n",
        "\n",
        "    if random.random() < (float(percent)/100):\n",
        "        print(\"connecting {} cell {} to {} cell {}\".format(source_name,sid,target_name,tid))\n",
        "        return 1\n",
        "    else:\n",
        "        return 0\n",
        "\n",
        "def conn_props(source,target,mu,sigma):\n",
        "    \"\"\"\n",
        "    Simply add connection properties as normal\n",
        "    https://github.com/AllenInstitute/bmtk/blob/develop/docs/tutorial/NetworkBuilder_Intro.ipynb\n",
        "    Can also adjust weights before running the network.\n",
        "    See https://github.com/AllenInstitute/bmtk/blob/develop/docs/tutorial/02_single_cell_syn.ipynb\n",
        "    Section 5\n",
        "    If done this way the function will need to be imported in the run script, consider refactoring?\n",
        "    \"\"\"\n",
        "\n",
        "    #syn_weight = np.random.lognormal(mean=mu,sigma=sigma)\n",
        "    syn_weight = mu\n",
        "\n",
        "    return syn_weight,0,0.5\n",
        "\n",
        "\n",
        "# Add connections -----------------------------------------\n",
        "\n",
        "# Blad afferent --> INd (Grill et al. 2016)\n",
        "conn = net.add_edges(source=net.nodes(pop_name='Bladaff'), target=net.nodes(pop_name='IND'),\n",
        "                   connection_rule=percent_connector,\n",
        "                   connection_params={'percent':100.0}, \n",
        "\t\t\t\t   target_sections=['somatic'],\n",
        "                   delay=2.0,\n",
        "                   distance_range=[0.0, 300.0],\n",
        "                   dynamics_params='AMPA_ExcToExc.json',\n",
        "                   model_template='Exp2Syn')\n",
        "\t\t\t\t\n",
        "conn.add_properties(names=['syn_weight', 'sec_id', 'sec_x'],\n",
        "                    rule=conn_props,\n",
        "                    rule_params={'mu':6.0e-3,'sigma':1},\n",
        "                    dtypes=[np.float, np.int32, np.float])\n",
        "\n",
        " # Blad afferent --> Hypogastric (Hou et al. 2014)\n",
        "conn = net.add_edges(source=net.nodes(pop_name='Bladaff'), target=net.nodes(pop_name='Hypo'),\n",
        "                    connection_rule=percent_connector,\n",
        "                    connection_params={'percent':10.0},\n",
        "                    target_sections=['somatic'],\n",
        "                    delay=2.0,\n",
        "                    distance_range=[0.0, 300.0],\n",
        "                    dynamics_params='AMPA_ExcToExc.json',\n",
        "                    model_template='Exp2Syn')\n",
        "\n",
        "conn.add_properties(names=['syn_weight', 'sec_id', 'sec_x'],\n",
        "                     rule=conn_props,\n",
        "                     rule_params={'mu':12.0e-3,'sigma':1},\n",
        "                     dtypes=[np.float, np.int32, np.float])\n",
        "\n",
        "######## EUS afferent --> INd (Grill et al. 2016)\n",
        "# conn = net.add_edges(source=net.nodes(pop_name='EUSaff'), target=net.nodes(pop_name='IND'),\n",
        "#                    connection_rule=percent_connector,\n",
        "#                    connection_params={'percent':100.0},\n",
        "#                    target_sections=['somatic'],\n",
        "#                    delay=2.0,\n",
        "#                    distance_range=[0.0, 300.0],\n",
        "#                    dynamics_params='AMPA_ExcToExc.json',\n",
        "#                    model_template='Exp2Syn')\n",
        "\n",
        "# conn.add_properties(names=['syn_weight', 'sec_id', 'sec_x'],\n",
        "#                     rule=conn_props,\n",
        "#                     rule_params={'mu':1.0e-3,'sigma':1},\n",
        "#                     dtypes=[np.float, np.int32, np.float])\n",
        "\n",
        "# PAG afferent --> INd (Grill et al. 2016)\n",
        "conn = net.add_edges(source=net.nodes(pop_name='PAGaff'), target=net.nodes(pop_name='IND'),\n",
        "                   connection_rule=percent_connector,\n",
        "                   connection_params={'percent':100.0},\n",
        "                   target_sections=['somatic'],\n",
        "                   delay=2.0,\n",
        "                   distance_range=[0.0, 300.0],\n",
        "                   dynamics_params='AMPA_ExcToExc.json',\n",
        "                   model_template='Exp2Syn')\n",
        "\n",
        "conn.add_properties(names=['syn_weight', 'sec_id', 'sec_x'],\n",
        "                    rule=conn_props,\n",
        "                    rule_params={'mu':20.0e-3,'sigma':1},  # was 20.0e-3\n",
        "                    dtypes=[np.float, np.int32, np.float])\n",
        "\n",
        "# INd --> PGN (Grill et al. 2016)\n",
        "conn = net.add_edges(source=net.nodes(pop_name='IND'), target=net.nodes(pop_name='PGN'),\n",
        "                   connection_rule=percent_connector,\n",
        "                   connection_params={'percent':100.0},\n",
        "                   target_sections=['somatic'],\n",
        "                   delay=2.0,\n",
        "                   distance_range=[0.0, 300.0],\n",
        "                   dynamics_params='AMPA_ExcToExc.json',\n",
        "                   model_template='Exp2Syn')\n",
        "\n",
        "conn.add_properties(names=['syn_weight', 'sec_id', 'sec_x'],\n",
        "                    rule=conn_props,\n",
        "                    rule_params={'mu':12.0e-3,'sigma':1},\n",
        "                    dtypes=[np.float, np.int32, np.float])\n",
        "\n",
        " # Hypogastric --> IMG (Beckel et al. 2015)\n",
        "conn = net.add_edges(source=net.nodes(pop_name='Hypo'), target=net.nodes(pop_name='IMG'),\n",
        "                    connection_rule=percent_connector,\n",
        "                    connection_params={'percent':10.0},\n",
        "                    target_sections=['somatic'],\n",
        "                    delay=2.0,\n",
        "                    distance_range=[0.0, 300.0],\n",
        "                    dynamics_params='AMPA_ExcToExc.json',\n",
        "                    model_template='Exp2Syn')\n",
        "\n",
        "conn.add_properties(names=['syn_weight', 'sec_id', 'sec_x'],\n",
        "                     rule=conn_props,\n",
        "                     rule_params={'mu':12.0e-3,'sigma':1},\n",
        "                     dtypes=[np.float, np.int32, np.float])\n",
        "\n",
        "## STSP synapse ##\n",
        "# # EUS afferent --> INm+ (Grill et al. 2016) **Low pass filter**\n",
        "# conn = net.add_edges(source=net.nodes(pop_name='EUSaff'), target=net.nodes(pop_name='INmplus'),\n",
        "                   # connection_rule=percent_connector,\n",
        "                   # connection_params={'percent':100.0},\n",
        "                   # target_sections=['somatic'],\n",
        "                   # delay=2.0,\n",
        "                   # distance_range=[0.0, 300.0],\n",
        "                   # dynamics_params='stsp.json', \n",
        "                   # model_template='Exp2Syn1_STSP')\n",
        "\n",
        "# conn.add_properties(names=['syn_weight', 'sec_id', 'sec_x'],\n",
        "                    # rule=conn_props,\n",
        "                    # rule_params={'mu':0.5,'sigma':1},\n",
        "                    # dtypes=[np.float, np.int32, np.float])\n",
        "\n",
        "######## EUS afferent --> INm+(Grill et al. 2016)\n",
        "# conn = net.add_edges(source=net.nodes(pop_name='EUSaff'), target=net.nodes(pop_name='INmplus'),\n",
        "#                    connection_rule=percent_connector,\n",
        "#                    connection_params={'percent':100.0},\n",
        "#                    target_sections=['somatic'],\n",
        "#                    delay=2.0,\n",
        "#                    distance_range=[0.0, 300.0],\n",
        "#                    dynamics_params='AMPA_ExcToExc.json',\n",
        "#                    model_template='Exp2Syn')\n",
        "\n",
        "# conn.add_properties(names=['syn_weight', 'sec_id', 'sec_x'],\n",
        "#                     rule=conn_props,\n",
        "#                     rule_params={'mu':16.5e-3,'sigma':1},\n",
        "#                     dtypes=[np.float, np.int32, np.float])\n",
        "# PAG afferent --> INm+ (Source?)\n",
        "# Using this connection instead of synaptic depression for low pass filtering\n",
        "# conn = net.add_edges(source=net.nodes(pop_name='PAGaff'), target=net.nodes(pop_name='PGN'),\n",
        "                   # connection_rule=percent_connector,\n",
        "                   # connection_params={'percent':100.0},\n",
        "                   # target_sections=['somatic'],\n",
        "                   # delay=2.0,\n",
        "                   # distance_range=[0.0, 300.0],\n",
        "                   # dynamics_params='AMPA_ExcToExc.json',\n",
        "                   # model_template='Exp2Syn')\n",
        "\n",
        "# conn.add_properties(names=['syn_weight', 'sec_id', 'sec_x'],\n",
        "                    # rule=conn_props,\n",
        "                    # rule_params={'mu':11.0e-3,'sigma':1},\n",
        "                    # dtypes=[np.float, np.int32, np.float])\n",
        "\n",
        "######## EUS afferent --> INm-(Grill et al. 2016)\n",
        "# conn = net.add_edges(source=net.nodes(pop_name='EUSaff'), target=net.nodes(pop_name='INmminus'),\n",
        "#                    connection_rule=percent_connector,\n",
        "#                    connection_params={'percent':100.0},\n",
        "#                    target_sections=['somatic'],\n",
        "#                    delay=2.0,\n",
        "#                    distance_range=[0.0, 300.0],\n",
        "#                    dynamics_params='AMPA_ExcToExc.json',\n",
        "#                    model_template='Exp2Syn')\n",
        "\n",
        "# conn.add_properties(names=['syn_weight', 'sec_id', 'sec_x'],\n",
        "#                     rule=conn_props,\n",
        "#                     rule_params={'mu':16.0e-3,'sigma':1},\n",
        "#                     dtypes=[np.float, np.int32, np.float])\n",
        "\n",
        "######## INm+ --> PGN (Grill et al. 2016)\n",
        "# conn = net.add_edges(source=net.nodes(pop_name='INmplus'), target=net.nodes(pop_name='PGN'),\n",
        "#                    cconnection_rule=percent_connector,\n",
        "#                    connection_params={'percent':10.0},\n",
        "#                    target_sections=['somatic'],\n",
        "#                    delay=2.0,\n",
        "#                    distance_range=[0.0, 300.0],\n",
        "#                    dynamics_params='AMPA_ExcToExc.json',\n",
        "#                    model_template='Exp2Syn')\n",
        "\n",
        "# conn.add_properties(names=['syn_weight', 'sec_id', 'sec_x'],\n",
        "#                     rule=conn_props,\n",
        "#                     rule_params={'mu':1.0e-3,'sigma':1},\n",
        "#                     dtypes=[np.float, np.int32, np.float])\n",
        "\n",
        "######## INm- --> PGN (Grill et al. 2016)\n",
        "# conn = net.add_edges(source=net.nodes(pop_name='INmminus'), target=net.nodes(pop_name='PGN'),\n",
        "#                    connection_rule=percent_connector,\n",
        "#                    connection_params={'percent':10.0},\n",
        "#                    target_sections=['somatic'],\n",
        "#                    delay=2.0,\n",
        "#                    distance_range=[0.0, 300.0],\n",
        "#                    dynamics_params='GABA_InhToExc.json',\n",
        "#                    model_template='Exp2Syn')\n",
        "\n",
        "# conn.add_properties(names=['syn_weight', 'sec_id', 'sec_x'],\n",
        "#                     rule=conn_props,\n",
        "#                     rule_params={'mu':20.0e-3,'sigma':1},\n",
        "#                     dtypes=[np.float, np.int32, np.float])\n",
        "\n",
        "# PGN --> MPG (Beckel et al. 2015)\n",
        "conn = net.add_edges(source=net.nodes(pop_name='PGN'), target=net.nodes(pop_name='MPG'),\n",
        "                   connection_rule=percent_connector,\n",
        "                   connection_params={'percent':100.0},\n",
        "                   target_sections=['somatic'],\n",
        "                   delay=2.0,\n",
        "                   distance_range=[0.0, 300.0],\n",
        "                   dynamics_params='AMPA_ExcToExc.json',\n",
        "                   model_template='Exp2Syn')\n",
        "\n",
        "conn.add_properties(names=['syn_weight', 'sec_id', 'sec_x'],\n",
        "                    rule=conn_props,\n",
        "                    rule_params={'mu':12.0e-3,'sigma':1},\n",
        "                    dtypes=[np.float, np.int32, np.float])\n",
        "\n",
        "# PGN --> FB (Grill et al. 2016)\n",
        "conn = net.add_edges(source=net.nodes(pop_name='PGN'), target=net.nodes(pop_name='FB'),\n",
        "                   connection_rule=percent_connector,\n",
        "                   connection_params={'percent':100.0},\n",
        "                   target_sections=['somatic'],\n",
        "                   delay=2.0,\n",
        "                   distance_range=[0.0, 300.0],\n",
        "                   dynamics_params='AMPA_ExcToExc.json',\n",
        "                   model_template='Exp2Syn')\n",
        "\n",
        "conn.add_properties(names=['syn_weight', 'sec_id', 'sec_x'],\n",
        "                    rule=conn_props,\n",
        "                    rule_params={'mu':16.0e-3,'sigma':1}, #was 12.0e-3\n",
        "                    dtypes=[np.float, np.int32, np.float])\n",
        "\n",
        "# FB --> INd (Grill et al. 2016)\n",
        "conn = net.add_edges(source=net.nodes(pop_name='FB'), target=net.nodes(pop_name='IND'),\n",
        "                   connection_rule=percent_connector,\n",
        "                   connection_params={'percent':100.0},\n",
        "                   target_sections=['somatic'],\n",
        "                   delay=2.0,\n",
        "                   distance_range=[0.0, 300.0],\n",
        "                   dynamics_params='GABA_InhToInh.json',\n",
        "                   model_template='Exp2Syn')\n",
        "\n",
        "conn.add_properties(names=['syn_weight', 'sec_id', 'sec_x'],\n",
        "                    rule=conn_props,\n",
        "                    rule_params={'mu':20.0e-3,'sigma':1},       # was 12.0e-3\n",
        "                    dtypes=[np.float, np.int32, np.float])\n",
        "\n",
        "# # MPG --> Bladder MN (Beckel et al. 2015)\n",
        "# conn = net.add_edges(source=net.nodes(pop_name='MPG'), target=net.nodes(pop_name='Bladmn'),\n",
        "                   # connection_rule=percent_connector,\n",
        "                   # connection_params={'percent':10.0},\n",
        "                   # target_sections=['somatic'],\n",
        "                   # delay=2.0,\n",
        "                   # distance_range=[0.0, 300.0],\n",
        "                   # dynamics_params='AMPA_ExcToExc.json',\n",
        "                   # model_template='Exp2Syn')\n",
        "\n",
        "# conn.add_properties(names=['syn_weight', 'sec_id', 'sec_x'],\n",
        "                    # rule=conn_props,\n",
        "                    # rule_params={'mu':16.0e-3,'sigma':1},\n",
        "                    # dtypes=[np.float, np.int32, np.float])\n",
        "\n",
        "# # IMG --> Bladder MN (Beckel et al. 2015)\n",
        "# conn = net.add_edges(source=net.nodes(pop_name='IMG'), target=net.nodes(pop_name='Bladmn'),\n",
        "                   # connection_rule=percent_connector,\n",
        "                   # connection_params={'percent':10.0},\n",
        "                   # target_sections=['somatic'],\n",
        "                   # delay=2.0,\n",
        "                   # distance_range=[0.0, 300.0],\n",
        "                   # dynamics_params='GABA_InhToInh.json',\n",
        "                   # model_template='Exp2Syn')\n",
        "\n",
        "# conn.add_properties(names=['syn_weight', 'sec_id', 'sec_x'],\n",
        "                    # rule=conn_props,\n",
        "                    # rule_params={'mu':10.0e-3,'sigma':1},\n",
        "                    # dtypes=[np.float, np.int32, np.float])\n",
        "\n",
        "# PAG aff --> Hypogastric (de Groat, et al. 2015)\n",
        "conn = net.add_edges(source=net.nodes(pop_name='PAGaff'), target=net.nodes(pop_name='Hypo'),\n",
        "                    connection_rule=percent_connector,\n",
        "                    connection_params={'percent':100.0},\n",
        "                    target_sections=['somatic'],\n",
        "                    delay=2.0,\n",
        "                    distance_range=[0.0, 300.0],\n",
        "                    dynamics_params='GABA_InhToInh.json',\n",
        "                    model_template='Exp2Syn')\n",
        "\n",
        "conn.add_properties(names=['syn_weight', 'sec_id', 'sec_x'],\n",
        "                     rule=conn_props,\n",
        "                     rule_params={'mu':12.0e-3,'sigma':1},\n",
        "                     dtypes=[np.float, np.int32, np.float])\n",
        "\n",
        "# PAG aff --> EUS MN (Shefchyk et al. 2001)\n",
        "# conn = net.add_edges(source=net.nodes(pop_name='PAGaff'), target=net.nodes(pop_name='EUSmn'),\n",
        "                   # connection_rule=percent_connector,\n",
        "                   # connection_params={'percent':100.0},\n",
        "                   # target_sections=['somatic'],\n",
        "                   # delay=2.0,\n",
        "                   # distance_range=[0.0, 300.0],\n",
        "                   # dynamics_params='GABA_InhToInh.json',\n",
        "                   # model_template='Exp2Syn')\n",
        "\n",
        "# conn.add_properties(names=['syn_weight', 'sec_id', 'sec_x'],\n",
        "                    # rule=conn_props,\n",
        "                    # rule_params={'mu':12.0e-3,'sigma':1},\n",
        "                    # dtypes=[np.float, np.int32, np.float])\n",
        "\n",
        "# EUS afferent --> EUS MN (Beckel et al. 2015)\n",
        "# conn = net.add_edges(source=net.nodes(pop_name='EUSaff'), target=net.nodes(pop_name='EUSmn'),\n",
        "                   # connection_rule=percent_connector,\n",
        "                   # connection_params={'percent':100.0},\n",
        "                   # target_sections=['somatic'],\n",
        "                   # delay=2.0,\n",
        "                   # distance_range=[0.0, 300.0],\n",
        "                   # dynamics_params='AMPA_ExcToExc.json',\n",
        "                   # model_template='Exp2Syn')\n",
        "\n",
        "# conn.add_properties(names=['syn_weight', 'sec_id', 'sec_x'],\n",
        "                    # rule=conn_props,\n",
        "                    # rule_params={'mu':12.0e-3,'sigma':1},\n",
        "                    # dtypes=[np.float, np.int32, np.float])\n",
        "\n",
        "# Connect virtual cells to EUS, Bladder, and PAG/PMC\n",
        "Blad_aff_virt = NetworkBuilder('Blad_aff_virt') # Virtual cells delivering input to Bladder\n",
        "# EUS_aff_virt = NetworkBuilder('EUS_aff_virt')   # Virtual cells delivering input to EUS\n",
        "PAG_aff_virt = NetworkBuilder('PAG_aff_virt')   # Virtual cells delivering input to PAG/PMC\n",
        "\n",
        "Blad_aff_virt.add_nodes(N=numBladaff, pop_name = 'Blad_aff_virt', model_type='virtual', potential='exc')\n",
        "# EUS_aff_virt.add_nodes(N=numEUSaff, pop_name = 'EUS_aff_virt', model_type='virtual', potential='exc')\n",
        "PAG_aff_virt.add_nodes(N=numPAGaff, pop_name = 'PAG_aff_virt', model_type='virtual', potential='exc')\n",
        "\n",
        "Blad_aff_virt.add_edges(source=Blad_aff_virt.nodes(), target=net.nodes(pop_name='Bladaff'),\n",
        "                   connection_rule=percent_connector,\n",
        "                   connection_params={'percent':100.0},\n",
        "                   syn_weight=12.0e-03,\n",
        "                   target_sections=['somatic'],\n",
        "\t\t\t\t   delay=2.0,\n",
        "                   distance_range=[0.0, 300.0],\n",
        "                   dynamics_params='AMPA_ExcToExc.json',\n",
        "                   model_template='Exp2Syn')\n",
        "\n",
        "\t\t\t\t\t\n",
        "# EUS_aff_virt.add_edges(source=EUS_aff_virt.nodes(), target=net.nodes(pop_name='EUSaff'),\n",
        "#                    connection_rule=percent_connector,\n",
        "#                    connection_params={'percent':100.0},\n",
        "#                    syn_weight=12.0e-03,\n",
        "#                    target_sections=['somatic'],\n",
        "#                    delay=2.0,\n",
        "#                    distance_range=[0.0, 300.0],\n",
        "#                    dynamics_params='AMPA_ExcToExc.json',\n",
        "#                    model_template='Exp2Syn')\n",
        "\n",
        "PAG_aff_virt.add_edges(source=PAG_aff_virt.nodes(), target=net.nodes(pop_name='PAGaff'),\n",
        "                   connection_rule=percent_connector,\n",
        "                   connection_params={'percent':100.0},\n",
        "                   syn_weight=20.0e-03,\n",
        "                   target_sections=['somatic'],\n",
        "                   delay=2.0,\n",
        "                   distance_range=[0.0, 300.0],\n",
        "                   dynamics_params='AMPA_ExcToExc.json',\n",
        "                   model_template='Exp2Syn')\n",
        "\n",
        "####################################################################################\n",
        "########################## Build and save network ##################################\n",
        "####################################################################################\n",
        "\n",
        "print(\"\\nBuilding network and saving to directory \\\"\" + output_dir + \"\\\"\")\n",
        "net.build()\n",
        "Blad_aff_virt.build()\n",
        "# EUS_aff_virt.build()\n",
        "PAG_aff_virt.build()\n",
        "\n",
        "net.save_nodes(output_dir=output_dir)\n",
        "net.save_edges(output_dir=output_dir)\n",
        "\n",
        "Blad_aff_virt.save_nodes(output_dir=output_dir)\n",
        "Blad_aff_virt.save_edges(output_dir=output_dir)\n",
        "\n",
        "# EUS_aff_virt.save_nodes(output_dir=output_dir)\n",
        "# EUS_aff_virt.save_edges(output_dir=output_dir)\n",
        "\n",
        "PAG_aff_virt.save_nodes(output_dir=output_dir)\n",
        "PAG_aff_virt.save_edges(output_dir=output_dir)\n",
        "\n",
        "print(\"Done\")"
      ],
      "metadata": {
        "colab": {
          "base_uri": "https://localhost:8080/"
        },
        "id": "OwFAcOVDTxGn",
        "outputId": "9290b60f-06b7-475f-fc02-2efc4eac6f42"
      },
      "execution_count": 4,
      "outputs": [
        {
          "output_type": "stream",
          "name": "stdout",
          "text": [
            "\n",
            "Creating Cells\n",
            "\n",
            "Connecting Cells\n",
            "\n",
            "Building network and saving to directory \"network\"\n",
            "connecting Bladaff cell 0 to IND cell 0\n",
            "connecting Bladaff cell 0 to IND cell 1\n",
            "connecting Bladaff cell 0 to IND cell 2\n",
            "connecting Bladaff cell 0 to IND cell 3\n",
            "connecting Bladaff cell 0 to IND cell 4\n",
            "connecting Bladaff cell 0 to IND cell 5\n",
            "connecting Bladaff cell 0 to IND cell 6\n",
            "connecting Bladaff cell 0 to IND cell 7\n",
            "connecting Bladaff cell 0 to IND cell 8\n",
            "connecting Bladaff cell 0 to IND cell 9\n",
            "connecting Bladaff cell 1 to IND cell 0\n",
            "connecting Bladaff cell 1 to IND cell 1\n",
            "connecting Bladaff cell 1 to IND cell 2\n",
            "connecting Bladaff cell 1 to IND cell 3\n",
            "connecting Bladaff cell 1 to IND cell 4\n",
            "connecting Bladaff cell 1 to IND cell 5\n",
            "connecting Bladaff cell 1 to IND cell 6\n",
            "connecting Bladaff cell 1 to IND cell 7\n",
            "connecting Bladaff cell 1 to IND cell 8\n",
            "connecting Bladaff cell 1 to IND cell 9\n",
            "connecting Bladaff cell 2 to IND cell 0\n",
            "connecting Bladaff cell 2 to IND cell 1\n",
            "connecting Bladaff cell 2 to IND cell 2\n",
            "connecting Bladaff cell 2 to IND cell 3\n",
            "connecting Bladaff cell 2 to IND cell 4\n",
            "connecting Bladaff cell 2 to IND cell 5\n",
            "connecting Bladaff cell 2 to IND cell 6\n",
            "connecting Bladaff cell 2 to IND cell 7\n",
            "connecting Bladaff cell 2 to IND cell 8\n",
            "connecting Bladaff cell 2 to IND cell 9\n",
            "connecting Bladaff cell 3 to IND cell 0\n",
            "connecting Bladaff cell 3 to IND cell 1\n",
            "connecting Bladaff cell 3 to IND cell 2\n",
            "connecting Bladaff cell 3 to IND cell 3\n",
            "connecting Bladaff cell 3 to IND cell 4\n",
            "connecting Bladaff cell 3 to IND cell 5\n",
            "connecting Bladaff cell 3 to IND cell 6\n",
            "connecting Bladaff cell 3 to IND cell 7\n",
            "connecting Bladaff cell 3 to IND cell 8\n",
            "connecting Bladaff cell 3 to IND cell 9\n",
            "connecting Bladaff cell 4 to IND cell 0\n",
            "connecting Bladaff cell 4 to IND cell 1\n",
            "connecting Bladaff cell 4 to IND cell 2\n",
            "connecting Bladaff cell 4 to IND cell 3\n",
            "connecting Bladaff cell 4 to IND cell 4\n",
            "connecting Bladaff cell 4 to IND cell 5\n",
            "connecting Bladaff cell 4 to IND cell 6\n",
            "connecting Bladaff cell 4 to IND cell 7\n",
            "connecting Bladaff cell 4 to IND cell 8\n",
            "connecting Bladaff cell 4 to IND cell 9\n",
            "connecting Bladaff cell 5 to IND cell 0\n",
            "connecting Bladaff cell 5 to IND cell 1\n",
            "connecting Bladaff cell 5 to IND cell 2\n",
            "connecting Bladaff cell 5 to IND cell 3\n",
            "connecting Bladaff cell 5 to IND cell 4\n",
            "connecting Bladaff cell 5 to IND cell 5\n",
            "connecting Bladaff cell 5 to IND cell 6\n",
            "connecting Bladaff cell 5 to IND cell 7\n",
            "connecting Bladaff cell 5 to IND cell 8\n",
            "connecting Bladaff cell 5 to IND cell 9\n",
            "connecting Bladaff cell 6 to IND cell 0\n",
            "connecting Bladaff cell 6 to IND cell 1\n",
            "connecting Bladaff cell 6 to IND cell 2\n",
            "connecting Bladaff cell 6 to IND cell 3\n",
            "connecting Bladaff cell 6 to IND cell 4\n",
            "connecting Bladaff cell 6 to IND cell 5\n",
            "connecting Bladaff cell 6 to IND cell 6\n",
            "connecting Bladaff cell 6 to IND cell 7\n",
            "connecting Bladaff cell 6 to IND cell 8\n",
            "connecting Bladaff cell 6 to IND cell 9\n",
            "connecting Bladaff cell 7 to IND cell 0\n",
            "connecting Bladaff cell 7 to IND cell 1\n",
            "connecting Bladaff cell 7 to IND cell 2\n",
            "connecting Bladaff cell 7 to IND cell 3\n",
            "connecting Bladaff cell 7 to IND cell 4\n",
            "connecting Bladaff cell 7 to IND cell 5\n",
            "connecting Bladaff cell 7 to IND cell 6\n",
            "connecting Bladaff cell 7 to IND cell 7\n",
            "connecting Bladaff cell 7 to IND cell 8\n",
            "connecting Bladaff cell 7 to IND cell 9\n",
            "connecting Bladaff cell 8 to IND cell 0\n",
            "connecting Bladaff cell 8 to IND cell 1\n",
            "connecting Bladaff cell 8 to IND cell 2\n",
            "connecting Bladaff cell 8 to IND cell 3\n",
            "connecting Bladaff cell 8 to IND cell 4\n",
            "connecting Bladaff cell 8 to IND cell 5\n",
            "connecting Bladaff cell 8 to IND cell 6\n",
            "connecting Bladaff cell 8 to IND cell 7\n",
            "connecting Bladaff cell 8 to IND cell 8\n",
            "connecting Bladaff cell 8 to IND cell 9\n",
            "connecting Bladaff cell 9 to IND cell 0\n",
            "connecting Bladaff cell 9 to IND cell 1\n",
            "connecting Bladaff cell 9 to IND cell 2\n",
            "connecting Bladaff cell 9 to IND cell 3\n",
            "connecting Bladaff cell 9 to IND cell 4\n",
            "connecting Bladaff cell 9 to IND cell 5\n",
            "connecting Bladaff cell 9 to IND cell 6\n",
            "connecting Bladaff cell 9 to IND cell 7\n",
            "connecting Bladaff cell 9 to IND cell 8\n",
            "connecting Bladaff cell 9 to IND cell 9\n",
            "connecting Bladaff cell 0 to Hypo cell 0\n",
            "connecting Bladaff cell 2 to Hypo cell 4\n",
            "connecting Bladaff cell 2 to Hypo cell 6\n",
            "connecting Bladaff cell 3 to Hypo cell 1\n",
            "connecting Bladaff cell 3 to Hypo cell 4\n",
            "connecting Bladaff cell 3 to Hypo cell 6\n",
            "connecting Bladaff cell 6 to Hypo cell 0\n",
            "connecting Bladaff cell 6 to Hypo cell 5\n",
            "connecting Bladaff cell 7 to Hypo cell 6\n",
            "connecting Bladaff cell 8 to Hypo cell 3\n",
            "connecting Bladaff cell 9 to Hypo cell 7\n",
            "connecting PAGaff cell 0 to IND cell 0\n",
            "connecting PAGaff cell 0 to IND cell 1\n",
            "connecting PAGaff cell 0 to IND cell 2\n",
            "connecting PAGaff cell 0 to IND cell 3\n",
            "connecting PAGaff cell 0 to IND cell 4\n",
            "connecting PAGaff cell 0 to IND cell 5\n",
            "connecting PAGaff cell 0 to IND cell 6\n",
            "connecting PAGaff cell 0 to IND cell 7\n",
            "connecting PAGaff cell 0 to IND cell 8\n",
            "connecting PAGaff cell 0 to IND cell 9\n",
            "connecting PAGaff cell 1 to IND cell 0\n",
            "connecting PAGaff cell 1 to IND cell 1\n",
            "connecting PAGaff cell 1 to IND cell 2\n",
            "connecting PAGaff cell 1 to IND cell 3\n",
            "connecting PAGaff cell 1 to IND cell 4\n",
            "connecting PAGaff cell 1 to IND cell 5\n",
            "connecting PAGaff cell 1 to IND cell 6\n",
            "connecting PAGaff cell 1 to IND cell 7\n",
            "connecting PAGaff cell 1 to IND cell 8\n",
            "connecting PAGaff cell 1 to IND cell 9\n",
            "connecting PAGaff cell 2 to IND cell 0\n",
            "connecting PAGaff cell 2 to IND cell 1\n",
            "connecting PAGaff cell 2 to IND cell 2\n",
            "connecting PAGaff cell 2 to IND cell 3\n",
            "connecting PAGaff cell 2 to IND cell 4\n",
            "connecting PAGaff cell 2 to IND cell 5\n",
            "connecting PAGaff cell 2 to IND cell 6\n",
            "connecting PAGaff cell 2 to IND cell 7\n",
            "connecting PAGaff cell 2 to IND cell 8\n",
            "connecting PAGaff cell 2 to IND cell 9\n",
            "connecting PAGaff cell 3 to IND cell 0\n",
            "connecting PAGaff cell 3 to IND cell 1\n",
            "connecting PAGaff cell 3 to IND cell 2\n",
            "connecting PAGaff cell 3 to IND cell 3\n",
            "connecting PAGaff cell 3 to IND cell 4\n",
            "connecting PAGaff cell 3 to IND cell 5\n",
            "connecting PAGaff cell 3 to IND cell 6\n",
            "connecting PAGaff cell 3 to IND cell 7\n",
            "connecting PAGaff cell 3 to IND cell 8\n",
            "connecting PAGaff cell 3 to IND cell 9\n",
            "connecting PAGaff cell 4 to IND cell 0\n",
            "connecting PAGaff cell 4 to IND cell 1\n",
            "connecting PAGaff cell 4 to IND cell 2\n",
            "connecting PAGaff cell 4 to IND cell 3\n",
            "connecting PAGaff cell 4 to IND cell 4\n",
            "connecting PAGaff cell 4 to IND cell 5\n",
            "connecting PAGaff cell 4 to IND cell 6\n",
            "connecting PAGaff cell 4 to IND cell 7\n",
            "connecting PAGaff cell 4 to IND cell 8\n",
            "connecting PAGaff cell 4 to IND cell 9\n",
            "connecting PAGaff cell 5 to IND cell 0\n",
            "connecting PAGaff cell 5 to IND cell 1\n",
            "connecting PAGaff cell 5 to IND cell 2\n",
            "connecting PAGaff cell 5 to IND cell 3\n",
            "connecting PAGaff cell 5 to IND cell 4\n",
            "connecting PAGaff cell 5 to IND cell 5\n",
            "connecting PAGaff cell 5 to IND cell 6\n",
            "connecting PAGaff cell 5 to IND cell 7\n",
            "connecting PAGaff cell 5 to IND cell 8\n",
            "connecting PAGaff cell 5 to IND cell 9\n",
            "connecting PAGaff cell 6 to IND cell 0\n",
            "connecting PAGaff cell 6 to IND cell 1\n",
            "connecting PAGaff cell 6 to IND cell 2\n",
            "connecting PAGaff cell 6 to IND cell 3\n",
            "connecting PAGaff cell 6 to IND cell 4\n",
            "connecting PAGaff cell 6 to IND cell 5\n",
            "connecting PAGaff cell 6 to IND cell 6\n",
            "connecting PAGaff cell 6 to IND cell 7\n",
            "connecting PAGaff cell 6 to IND cell 8\n",
            "connecting PAGaff cell 6 to IND cell 9\n",
            "connecting PAGaff cell 7 to IND cell 0\n",
            "connecting PAGaff cell 7 to IND cell 1\n",
            "connecting PAGaff cell 7 to IND cell 2\n",
            "connecting PAGaff cell 7 to IND cell 3\n",
            "connecting PAGaff cell 7 to IND cell 4\n",
            "connecting PAGaff cell 7 to IND cell 5\n",
            "connecting PAGaff cell 7 to IND cell 6\n",
            "connecting PAGaff cell 7 to IND cell 7\n",
            "connecting PAGaff cell 7 to IND cell 8\n",
            "connecting PAGaff cell 7 to IND cell 9\n",
            "connecting PAGaff cell 8 to IND cell 0\n",
            "connecting PAGaff cell 8 to IND cell 1\n",
            "connecting PAGaff cell 8 to IND cell 2\n",
            "connecting PAGaff cell 8 to IND cell 3\n",
            "connecting PAGaff cell 8 to IND cell 4\n",
            "connecting PAGaff cell 8 to IND cell 5\n",
            "connecting PAGaff cell 8 to IND cell 6\n",
            "connecting PAGaff cell 8 to IND cell 7\n",
            "connecting PAGaff cell 8 to IND cell 8\n",
            "connecting PAGaff cell 8 to IND cell 9\n",
            "connecting PAGaff cell 9 to IND cell 0\n",
            "connecting PAGaff cell 9 to IND cell 1\n",
            "connecting PAGaff cell 9 to IND cell 2\n",
            "connecting PAGaff cell 9 to IND cell 3\n",
            "connecting PAGaff cell 9 to IND cell 4\n",
            "connecting PAGaff cell 9 to IND cell 5\n",
            "connecting PAGaff cell 9 to IND cell 6\n",
            "connecting PAGaff cell 9 to IND cell 7\n",
            "connecting PAGaff cell 9 to IND cell 8\n",
            "connecting PAGaff cell 9 to IND cell 9\n",
            "connecting IND cell 0 to PGN cell 0\n",
            "connecting IND cell 0 to PGN cell 1\n",
            "connecting IND cell 0 to PGN cell 2\n",
            "connecting IND cell 0 to PGN cell 3\n",
            "connecting IND cell 0 to PGN cell 4\n",
            "connecting IND cell 0 to PGN cell 5\n",
            "connecting IND cell 0 to PGN cell 6\n",
            "connecting IND cell 0 to PGN cell 7\n",
            "connecting IND cell 0 to PGN cell 8\n",
            "connecting IND cell 0 to PGN cell 9\n",
            "connecting IND cell 1 to PGN cell 0\n",
            "connecting IND cell 1 to PGN cell 1\n",
            "connecting IND cell 1 to PGN cell 2\n",
            "connecting IND cell 1 to PGN cell 3\n",
            "connecting IND cell 1 to PGN cell 4\n",
            "connecting IND cell 1 to PGN cell 5\n",
            "connecting IND cell 1 to PGN cell 6\n",
            "connecting IND cell 1 to PGN cell 7\n",
            "connecting IND cell 1 to PGN cell 8\n",
            "connecting IND cell 1 to PGN cell 9\n",
            "connecting IND cell 2 to PGN cell 0\n",
            "connecting IND cell 2 to PGN cell 1\n",
            "connecting IND cell 2 to PGN cell 2\n",
            "connecting IND cell 2 to PGN cell 3\n",
            "connecting IND cell 2 to PGN cell 4\n",
            "connecting IND cell 2 to PGN cell 5\n",
            "connecting IND cell 2 to PGN cell 6\n",
            "connecting IND cell 2 to PGN cell 7\n",
            "connecting IND cell 2 to PGN cell 8\n",
            "connecting IND cell 2 to PGN cell 9\n",
            "connecting IND cell 3 to PGN cell 0\n",
            "connecting IND cell 3 to PGN cell 1\n",
            "connecting IND cell 3 to PGN cell 2\n",
            "connecting IND cell 3 to PGN cell 3\n",
            "connecting IND cell 3 to PGN cell 4\n",
            "connecting IND cell 3 to PGN cell 5\n",
            "connecting IND cell 3 to PGN cell 6\n",
            "connecting IND cell 3 to PGN cell 7\n",
            "connecting IND cell 3 to PGN cell 8\n",
            "connecting IND cell 3 to PGN cell 9\n",
            "connecting IND cell 4 to PGN cell 0\n",
            "connecting IND cell 4 to PGN cell 1\n",
            "connecting IND cell 4 to PGN cell 2\n",
            "connecting IND cell 4 to PGN cell 3\n",
            "connecting IND cell 4 to PGN cell 4\n",
            "connecting IND cell 4 to PGN cell 5\n",
            "connecting IND cell 4 to PGN cell 6\n",
            "connecting IND cell 4 to PGN cell 7\n",
            "connecting IND cell 4 to PGN cell 8\n",
            "connecting IND cell 4 to PGN cell 9\n",
            "connecting IND cell 5 to PGN cell 0\n",
            "connecting IND cell 5 to PGN cell 1\n",
            "connecting IND cell 5 to PGN cell 2\n",
            "connecting IND cell 5 to PGN cell 3\n",
            "connecting IND cell 5 to PGN cell 4\n",
            "connecting IND cell 5 to PGN cell 5\n",
            "connecting IND cell 5 to PGN cell 6\n",
            "connecting IND cell 5 to PGN cell 7\n",
            "connecting IND cell 5 to PGN cell 8\n",
            "connecting IND cell 5 to PGN cell 9\n",
            "connecting IND cell 6 to PGN cell 0\n",
            "connecting IND cell 6 to PGN cell 1\n",
            "connecting IND cell 6 to PGN cell 2\n",
            "connecting IND cell 6 to PGN cell 3\n",
            "connecting IND cell 6 to PGN cell 4\n",
            "connecting IND cell 6 to PGN cell 5\n",
            "connecting IND cell 6 to PGN cell 6\n",
            "connecting IND cell 6 to PGN cell 7\n",
            "connecting IND cell 6 to PGN cell 8\n",
            "connecting IND cell 6 to PGN cell 9\n",
            "connecting IND cell 7 to PGN cell 0\n",
            "connecting IND cell 7 to PGN cell 1\n",
            "connecting IND cell 7 to PGN cell 2\n",
            "connecting IND cell 7 to PGN cell 3\n",
            "connecting IND cell 7 to PGN cell 4\n",
            "connecting IND cell 7 to PGN cell 5\n",
            "connecting IND cell 7 to PGN cell 6\n",
            "connecting IND cell 7 to PGN cell 7\n",
            "connecting IND cell 7 to PGN cell 8\n",
            "connecting IND cell 7 to PGN cell 9\n",
            "connecting IND cell 8 to PGN cell 0\n",
            "connecting IND cell 8 to PGN cell 1\n",
            "connecting IND cell 8 to PGN cell 2\n",
            "connecting IND cell 8 to PGN cell 3\n",
            "connecting IND cell 8 to PGN cell 4\n",
            "connecting IND cell 8 to PGN cell 5\n",
            "connecting IND cell 8 to PGN cell 6\n",
            "connecting IND cell 8 to PGN cell 7\n",
            "connecting IND cell 8 to PGN cell 8\n",
            "connecting IND cell 8 to PGN cell 9\n",
            "connecting IND cell 9 to PGN cell 0\n",
            "connecting IND cell 9 to PGN cell 1\n",
            "connecting IND cell 9 to PGN cell 2\n",
            "connecting IND cell 9 to PGN cell 3\n",
            "connecting IND cell 9 to PGN cell 4\n",
            "connecting IND cell 9 to PGN cell 5\n",
            "connecting IND cell 9 to PGN cell 6\n",
            "connecting IND cell 9 to PGN cell 7\n",
            "connecting IND cell 9 to PGN cell 8\n",
            "connecting IND cell 9 to PGN cell 9\n",
            "connecting Hypo cell 0 to IMG cell 6\n",
            "connecting Hypo cell 1 to IMG cell 5\n",
            "connecting Hypo cell 1 to IMG cell 9\n",
            "connecting Hypo cell 2 to IMG cell 7\n",
            "connecting Hypo cell 3 to IMG cell 5\n",
            "connecting Hypo cell 6 to IMG cell 0\n",
            "connecting Hypo cell 6 to IMG cell 9\n",
            "connecting Hypo cell 8 to IMG cell 1\n",
            "connecting Hypo cell 9 to IMG cell 3\n",
            "connecting PGN cell 0 to MPG cell 0\n",
            "connecting PGN cell 0 to MPG cell 1\n",
            "connecting PGN cell 0 to MPG cell 2\n",
            "connecting PGN cell 0 to MPG cell 3\n",
            "connecting PGN cell 0 to MPG cell 4\n",
            "connecting PGN cell 0 to MPG cell 5\n",
            "connecting PGN cell 0 to MPG cell 6\n",
            "connecting PGN cell 0 to MPG cell 7\n",
            "connecting PGN cell 0 to MPG cell 8\n",
            "connecting PGN cell 0 to MPG cell 9\n",
            "connecting PGN cell 1 to MPG cell 0\n",
            "connecting PGN cell 1 to MPG cell 1\n",
            "connecting PGN cell 1 to MPG cell 2\n",
            "connecting PGN cell 1 to MPG cell 3\n",
            "connecting PGN cell 1 to MPG cell 4\n",
            "connecting PGN cell 1 to MPG cell 5\n",
            "connecting PGN cell 1 to MPG cell 6\n",
            "connecting PGN cell 1 to MPG cell 7\n",
            "connecting PGN cell 1 to MPG cell 8\n",
            "connecting PGN cell 1 to MPG cell 9\n",
            "connecting PGN cell 2 to MPG cell 0\n",
            "connecting PGN cell 2 to MPG cell 1\n",
            "connecting PGN cell 2 to MPG cell 2\n",
            "connecting PGN cell 2 to MPG cell 3\n",
            "connecting PGN cell 2 to MPG cell 4\n",
            "connecting PGN cell 2 to MPG cell 5\n",
            "connecting PGN cell 2 to MPG cell 6\n",
            "connecting PGN cell 2 to MPG cell 7\n",
            "connecting PGN cell 2 to MPG cell 8\n",
            "connecting PGN cell 2 to MPG cell 9\n",
            "connecting PGN cell 3 to MPG cell 0\n",
            "connecting PGN cell 3 to MPG cell 1\n",
            "connecting PGN cell 3 to MPG cell 2\n",
            "connecting PGN cell 3 to MPG cell 3\n",
            "connecting PGN cell 3 to MPG cell 4\n",
            "connecting PGN cell 3 to MPG cell 5\n",
            "connecting PGN cell 3 to MPG cell 6\n",
            "connecting PGN cell 3 to MPG cell 7\n",
            "connecting PGN cell 3 to MPG cell 8\n",
            "connecting PGN cell 3 to MPG cell 9\n",
            "connecting PGN cell 4 to MPG cell 0\n",
            "connecting PGN cell 4 to MPG cell 1\n",
            "connecting PGN cell 4 to MPG cell 2\n",
            "connecting PGN cell 4 to MPG cell 3\n",
            "connecting PGN cell 4 to MPG cell 4\n",
            "connecting PGN cell 4 to MPG cell 5\n",
            "connecting PGN cell 4 to MPG cell 6\n",
            "connecting PGN cell 4 to MPG cell 7\n",
            "connecting PGN cell 4 to MPG cell 8\n",
            "connecting PGN cell 4 to MPG cell 9\n",
            "connecting PGN cell 5 to MPG cell 0\n",
            "connecting PGN cell 5 to MPG cell 1\n",
            "connecting PGN cell 5 to MPG cell 2\n",
            "connecting PGN cell 5 to MPG cell 3\n",
            "connecting PGN cell 5 to MPG cell 4\n",
            "connecting PGN cell 5 to MPG cell 5\n",
            "connecting PGN cell 5 to MPG cell 6\n",
            "connecting PGN cell 5 to MPG cell 7\n",
            "connecting PGN cell 5 to MPG cell 8\n",
            "connecting PGN cell 5 to MPG cell 9\n",
            "connecting PGN cell 6 to MPG cell 0\n",
            "connecting PGN cell 6 to MPG cell 1\n",
            "connecting PGN cell 6 to MPG cell 2\n",
            "connecting PGN cell 6 to MPG cell 3\n",
            "connecting PGN cell 6 to MPG cell 4\n",
            "connecting PGN cell 6 to MPG cell 5\n",
            "connecting PGN cell 6 to MPG cell 6\n",
            "connecting PGN cell 6 to MPG cell 7\n",
            "connecting PGN cell 6 to MPG cell 8\n",
            "connecting PGN cell 6 to MPG cell 9\n",
            "connecting PGN cell 7 to MPG cell 0\n",
            "connecting PGN cell 7 to MPG cell 1\n",
            "connecting PGN cell 7 to MPG cell 2\n",
            "connecting PGN cell 7 to MPG cell 3\n",
            "connecting PGN cell 7 to MPG cell 4\n",
            "connecting PGN cell 7 to MPG cell 5\n",
            "connecting PGN cell 7 to MPG cell 6\n",
            "connecting PGN cell 7 to MPG cell 7\n",
            "connecting PGN cell 7 to MPG cell 8\n",
            "connecting PGN cell 7 to MPG cell 9\n",
            "connecting PGN cell 8 to MPG cell 0\n",
            "connecting PGN cell 8 to MPG cell 1\n",
            "connecting PGN cell 8 to MPG cell 2\n",
            "connecting PGN cell 8 to MPG cell 3\n",
            "connecting PGN cell 8 to MPG cell 4\n",
            "connecting PGN cell 8 to MPG cell 5\n",
            "connecting PGN cell 8 to MPG cell 6\n",
            "connecting PGN cell 8 to MPG cell 7\n",
            "connecting PGN cell 8 to MPG cell 8\n",
            "connecting PGN cell 8 to MPG cell 9\n",
            "connecting PGN cell 9 to MPG cell 0\n",
            "connecting PGN cell 9 to MPG cell 1\n",
            "connecting PGN cell 9 to MPG cell 2\n",
            "connecting PGN cell 9 to MPG cell 3\n",
            "connecting PGN cell 9 to MPG cell 4\n",
            "connecting PGN cell 9 to MPG cell 5\n",
            "connecting PGN cell 9 to MPG cell 6\n",
            "connecting PGN cell 9 to MPG cell 7\n",
            "connecting PGN cell 9 to MPG cell 8\n",
            "connecting PGN cell 9 to MPG cell 9\n",
            "connecting PGN cell 0 to FB cell 0\n",
            "connecting PGN cell 0 to FB cell 1\n",
            "connecting PGN cell 0 to FB cell 2\n",
            "connecting PGN cell 0 to FB cell 3\n",
            "connecting PGN cell 0 to FB cell 4\n",
            "connecting PGN cell 0 to FB cell 5\n",
            "connecting PGN cell 0 to FB cell 6\n",
            "connecting PGN cell 0 to FB cell 7\n",
            "connecting PGN cell 0 to FB cell 8\n",
            "connecting PGN cell 0 to FB cell 9\n",
            "connecting PGN cell 1 to FB cell 0\n",
            "connecting PGN cell 1 to FB cell 1\n",
            "connecting PGN cell 1 to FB cell 2\n",
            "connecting PGN cell 1 to FB cell 3\n",
            "connecting PGN cell 1 to FB cell 4\n",
            "connecting PGN cell 1 to FB cell 5\n",
            "connecting PGN cell 1 to FB cell 6\n",
            "connecting PGN cell 1 to FB cell 7\n",
            "connecting PGN cell 1 to FB cell 8\n",
            "connecting PGN cell 1 to FB cell 9\n",
            "connecting PGN cell 2 to FB cell 0\n",
            "connecting PGN cell 2 to FB cell 1\n",
            "connecting PGN cell 2 to FB cell 2\n",
            "connecting PGN cell 2 to FB cell 3\n",
            "connecting PGN cell 2 to FB cell 4\n",
            "connecting PGN cell 2 to FB cell 5\n",
            "connecting PGN cell 2 to FB cell 6\n",
            "connecting PGN cell 2 to FB cell 7\n",
            "connecting PGN cell 2 to FB cell 8\n",
            "connecting PGN cell 2 to FB cell 9\n",
            "connecting PGN cell 3 to FB cell 0\n",
            "connecting PGN cell 3 to FB cell 1\n",
            "connecting PGN cell 3 to FB cell 2\n",
            "connecting PGN cell 3 to FB cell 3\n",
            "connecting PGN cell 3 to FB cell 4\n",
            "connecting PGN cell 3 to FB cell 5\n",
            "connecting PGN cell 3 to FB cell 6\n",
            "connecting PGN cell 3 to FB cell 7\n",
            "connecting PGN cell 3 to FB cell 8\n",
            "connecting PGN cell 3 to FB cell 9\n",
            "connecting PGN cell 4 to FB cell 0\n",
            "connecting PGN cell 4 to FB cell 1\n",
            "connecting PGN cell 4 to FB cell 2\n",
            "connecting PGN cell 4 to FB cell 3\n",
            "connecting PGN cell 4 to FB cell 4\n",
            "connecting PGN cell 4 to FB cell 5\n",
            "connecting PGN cell 4 to FB cell 6\n",
            "connecting PGN cell 4 to FB cell 7\n",
            "connecting PGN cell 4 to FB cell 8\n",
            "connecting PGN cell 4 to FB cell 9\n",
            "connecting PGN cell 5 to FB cell 0\n",
            "connecting PGN cell 5 to FB cell 1\n",
            "connecting PGN cell 5 to FB cell 2\n",
            "connecting PGN cell 5 to FB cell 3\n",
            "connecting PGN cell 5 to FB cell 4\n",
            "connecting PGN cell 5 to FB cell 5\n",
            "connecting PGN cell 5 to FB cell 6\n",
            "connecting PGN cell 5 to FB cell 7\n",
            "connecting PGN cell 5 to FB cell 8\n",
            "connecting PGN cell 5 to FB cell 9\n",
            "connecting PGN cell 6 to FB cell 0\n",
            "connecting PGN cell 6 to FB cell 1\n",
            "connecting PGN cell 6 to FB cell 2\n",
            "connecting PGN cell 6 to FB cell 3\n",
            "connecting PGN cell 6 to FB cell 4\n",
            "connecting PGN cell 6 to FB cell 5\n",
            "connecting PGN cell 6 to FB cell 6\n",
            "connecting PGN cell 6 to FB cell 7\n",
            "connecting PGN cell 6 to FB cell 8\n",
            "connecting PGN cell 6 to FB cell 9\n",
            "connecting PGN cell 7 to FB cell 0\n",
            "connecting PGN cell 7 to FB cell 1\n",
            "connecting PGN cell 7 to FB cell 2\n",
            "connecting PGN cell 7 to FB cell 3\n",
            "connecting PGN cell 7 to FB cell 4\n",
            "connecting PGN cell 7 to FB cell 5\n",
            "connecting PGN cell 7 to FB cell 6\n",
            "connecting PGN cell 7 to FB cell 7\n",
            "connecting PGN cell 7 to FB cell 8\n",
            "connecting PGN cell 7 to FB cell 9\n",
            "connecting PGN cell 8 to FB cell 0\n",
            "connecting PGN cell 8 to FB cell 1\n",
            "connecting PGN cell 8 to FB cell 2\n",
            "connecting PGN cell 8 to FB cell 3\n",
            "connecting PGN cell 8 to FB cell 4\n",
            "connecting PGN cell 8 to FB cell 5\n",
            "connecting PGN cell 8 to FB cell 6\n",
            "connecting PGN cell 8 to FB cell 7\n",
            "connecting PGN cell 8 to FB cell 8\n",
            "connecting PGN cell 8 to FB cell 9\n",
            "connecting PGN cell 9 to FB cell 0\n",
            "connecting PGN cell 9 to FB cell 1\n",
            "connecting PGN cell 9 to FB cell 2\n",
            "connecting PGN cell 9 to FB cell 3\n",
            "connecting PGN cell 9 to FB cell 4\n",
            "connecting PGN cell 9 to FB cell 5\n",
            "connecting PGN cell 9 to FB cell 6\n",
            "connecting PGN cell 9 to FB cell 7\n",
            "connecting PGN cell 9 to FB cell 8\n",
            "connecting PGN cell 9 to FB cell 9\n",
            "connecting FB cell 0 to IND cell 0\n",
            "connecting FB cell 0 to IND cell 1\n",
            "connecting FB cell 0 to IND cell 2\n",
            "connecting FB cell 0 to IND cell 3\n",
            "connecting FB cell 0 to IND cell 4\n",
            "connecting FB cell 0 to IND cell 5\n",
            "connecting FB cell 0 to IND cell 6\n",
            "connecting FB cell 0 to IND cell 7\n",
            "connecting FB cell 0 to IND cell 8\n",
            "connecting FB cell 0 to IND cell 9\n",
            "connecting FB cell 1 to IND cell 0\n",
            "connecting FB cell 1 to IND cell 1\n",
            "connecting FB cell 1 to IND cell 2\n",
            "connecting FB cell 1 to IND cell 3\n",
            "connecting FB cell 1 to IND cell 4\n",
            "connecting FB cell 1 to IND cell 5\n",
            "connecting FB cell 1 to IND cell 6\n",
            "connecting FB cell 1 to IND cell 7\n",
            "connecting FB cell 1 to IND cell 8\n",
            "connecting FB cell 1 to IND cell 9\n",
            "connecting FB cell 2 to IND cell 0\n",
            "connecting FB cell 2 to IND cell 1\n",
            "connecting FB cell 2 to IND cell 2\n",
            "connecting FB cell 2 to IND cell 3\n",
            "connecting FB cell 2 to IND cell 4"
          ]
        },
        {
          "output_type": "stream",
          "name": "stderr",
          "text": [
            "<ipython-input-4-9f08abc5c5a7>:268: DeprecationWarning: `np.float` is a deprecated alias for the builtin `float`. To silence this warning, use `float` by itself. Doing this will not modify any behavior and is safe. If you specifically wanted the numpy scalar type, use `np.float64` here.\n",
            "Deprecated in NumPy 1.20; for more details and guidance: https://numpy.org/devdocs/release/1.20.0-notes.html#deprecations\n",
            "  dtypes=[np.float, np.int32, np.float])\n",
            "<ipython-input-4-9f08abc5c5a7>:283: DeprecationWarning: `np.float` is a deprecated alias for the builtin `float`. To silence this warning, use `float` by itself. Doing this will not modify any behavior and is safe. If you specifically wanted the numpy scalar type, use `np.float64` here.\n",
            "Deprecated in NumPy 1.20; for more details and guidance: https://numpy.org/devdocs/release/1.20.0-notes.html#deprecations\n",
            "  dtypes=[np.float, np.int32, np.float])\n",
            "<ipython-input-4-9f08abc5c5a7>:313: DeprecationWarning: `np.float` is a deprecated alias for the builtin `float`. To silence this warning, use `float` by itself. Doing this will not modify any behavior and is safe. If you specifically wanted the numpy scalar type, use `np.float64` here.\n",
            "Deprecated in NumPy 1.20; for more details and guidance: https://numpy.org/devdocs/release/1.20.0-notes.html#deprecations\n",
            "  dtypes=[np.float, np.int32, np.float])\n",
            "<ipython-input-4-9f08abc5c5a7>:328: DeprecationWarning: `np.float` is a deprecated alias for the builtin `float`. To silence this warning, use `float` by itself. Doing this will not modify any behavior and is safe. If you specifically wanted the numpy scalar type, use `np.float64` here.\n",
            "Deprecated in NumPy 1.20; for more details and guidance: https://numpy.org/devdocs/release/1.20.0-notes.html#deprecations\n",
            "  dtypes=[np.float, np.int32, np.float])\n",
            "<ipython-input-4-9f08abc5c5a7>:343: DeprecationWarning: `np.float` is a deprecated alias for the builtin `float`. To silence this warning, use `float` by itself. Doing this will not modify any behavior and is safe. If you specifically wanted the numpy scalar type, use `np.float64` here.\n",
            "Deprecated in NumPy 1.20; for more details and guidance: https://numpy.org/devdocs/release/1.20.0-notes.html#deprecations\n",
            "  dtypes=[np.float, np.int32, np.float])\n",
            "<ipython-input-4-9f08abc5c5a7>:449: DeprecationWarning: `np.float` is a deprecated alias for the builtin `float`. To silence this warning, use `float` by itself. Doing this will not modify any behavior and is safe. If you specifically wanted the numpy scalar type, use `np.float64` here.\n",
            "Deprecated in NumPy 1.20; for more details and guidance: https://numpy.org/devdocs/release/1.20.0-notes.html#deprecations\n",
            "  dtypes=[np.float, np.int32, np.float])\n",
            "<ipython-input-4-9f08abc5c5a7>:464: DeprecationWarning: `np.float` is a deprecated alias for the builtin `float`. To silence this warning, use `float` by itself. Doing this will not modify any behavior and is safe. If you specifically wanted the numpy scalar type, use `np.float64` here.\n",
            "Deprecated in NumPy 1.20; for more details and guidance: https://numpy.org/devdocs/release/1.20.0-notes.html#deprecations\n",
            "  dtypes=[np.float, np.int32, np.float])\n",
            "<ipython-input-4-9f08abc5c5a7>:479: DeprecationWarning: `np.float` is a deprecated alias for the builtin `float`. To silence this warning, use `float` by itself. Doing this will not modify any behavior and is safe. If you specifically wanted the numpy scalar type, use `np.float64` here.\n",
            "Deprecated in NumPy 1.20; for more details and guidance: https://numpy.org/devdocs/release/1.20.0-notes.html#deprecations\n",
            "  dtypes=[np.float, np.int32, np.float])\n",
            "<ipython-input-4-9f08abc5c5a7>:524: DeprecationWarning: `np.float` is a deprecated alias for the builtin `float`. To silence this warning, use `float` by itself. Doing this will not modify any behavior and is safe. If you specifically wanted the numpy scalar type, use `np.float64` here.\n",
            "Deprecated in NumPy 1.20; for more details and guidance: https://numpy.org/devdocs/release/1.20.0-notes.html#deprecations\n",
            "  dtypes=[np.float, np.int32, np.float])\n"
          ]
        },
        {
          "output_type": "stream",
          "name": "stdout",
          "text": [
            "\n",
            "connecting FB cell 2 to IND cell 5\n",
            "connecting FB cell 2 to IND cell 6\n",
            "connecting FB cell 2 to IND cell 7\n",
            "connecting FB cell 2 to IND cell 8\n",
            "connecting FB cell 2 to IND cell 9\n",
            "connecting FB cell 3 to IND cell 0\n",
            "connecting FB cell 3 to IND cell 1\n",
            "connecting FB cell 3 to IND cell 2\n",
            "connecting FB cell 3 to IND cell 3\n",
            "connecting FB cell 3 to IND cell 4\n",
            "connecting FB cell 3 to IND cell 5\n",
            "connecting FB cell 3 to IND cell 6\n",
            "connecting FB cell 3 to IND cell 7\n",
            "connecting FB cell 3 to IND cell 8\n",
            "connecting FB cell 3 to IND cell 9\n",
            "connecting FB cell 4 to IND cell 0\n",
            "connecting FB cell 4 to IND cell 1\n",
            "connecting FB cell 4 to IND cell 2\n",
            "connecting FB cell 4 to IND cell 3\n",
            "connecting FB cell 4 to IND cell 4\n",
            "connecting FB cell 4 to IND cell 5\n",
            "connecting FB cell 4 to IND cell 6\n",
            "connecting FB cell 4 to IND cell 7\n",
            "connecting FB cell 4 to IND cell 8\n",
            "connecting FB cell 4 to IND cell 9\n",
            "connecting FB cell 5 to IND cell 0\n",
            "connecting FB cell 5 to IND cell 1\n",
            "connecting FB cell 5 to IND cell 2\n",
            "connecting FB cell 5 to IND cell 3\n",
            "connecting FB cell 5 to IND cell 4\n",
            "connecting FB cell 5 to IND cell 5\n",
            "connecting FB cell 5 to IND cell 6\n",
            "connecting FB cell 5 to IND cell 7\n",
            "connecting FB cell 5 to IND cell 8\n",
            "connecting FB cell 5 to IND cell 9\n",
            "connecting FB cell 6 to IND cell 0\n",
            "connecting FB cell 6 to IND cell 1\n",
            "connecting FB cell 6 to IND cell 2\n",
            "connecting FB cell 6 to IND cell 3\n",
            "connecting FB cell 6 to IND cell 4\n",
            "connecting FB cell 6 to IND cell 5\n",
            "connecting FB cell 6 to IND cell 6\n",
            "connecting FB cell 6 to IND cell 7\n",
            "connecting FB cell 6 to IND cell 8\n",
            "connecting FB cell 6 to IND cell 9\n",
            "connecting FB cell 7 to IND cell 0\n",
            "connecting FB cell 7 to IND cell 1\n",
            "connecting FB cell 7 to IND cell 2\n",
            "connecting FB cell 7 to IND cell 3\n",
            "connecting FB cell 7 to IND cell 4\n",
            "connecting FB cell 7 to IND cell 5\n",
            "connecting FB cell 7 to IND cell 6\n",
            "connecting FB cell 7 to IND cell 7\n",
            "connecting FB cell 7 to IND cell 8\n",
            "connecting FB cell 7 to IND cell 9\n",
            "connecting FB cell 8 to IND cell 0\n",
            "connecting FB cell 8 to IND cell 1\n",
            "connecting FB cell 8 to IND cell 2\n",
            "connecting FB cell 8 to IND cell 3\n",
            "connecting FB cell 8 to IND cell 4\n",
            "connecting FB cell 8 to IND cell 5\n",
            "connecting FB cell 8 to IND cell 6\n",
            "connecting FB cell 8 to IND cell 7\n",
            "connecting FB cell 8 to IND cell 8\n",
            "connecting FB cell 8 to IND cell 9\n",
            "connecting FB cell 9 to IND cell 0\n",
            "connecting FB cell 9 to IND cell 1\n",
            "connecting FB cell 9 to IND cell 2\n",
            "connecting FB cell 9 to IND cell 3\n",
            "connecting FB cell 9 to IND cell 4\n",
            "connecting FB cell 9 to IND cell 5\n",
            "connecting FB cell 9 to IND cell 6\n",
            "connecting FB cell 9 to IND cell 7\n",
            "connecting FB cell 9 to IND cell 8\n",
            "connecting FB cell 9 to IND cell 9\n",
            "connecting PAGaff cell 0 to Hypo cell 0\n",
            "connecting PAGaff cell 0 to Hypo cell 1\n",
            "connecting PAGaff cell 0 to Hypo cell 2\n",
            "connecting PAGaff cell 0 to Hypo cell 3\n",
            "connecting PAGaff cell 0 to Hypo cell 4\n",
            "connecting PAGaff cell 0 to Hypo cell 5\n",
            "connecting PAGaff cell 0 to Hypo cell 6\n",
            "connecting PAGaff cell 0 to Hypo cell 7\n",
            "connecting PAGaff cell 0 to Hypo cell 8\n",
            "connecting PAGaff cell 0 to Hypo cell 9\n",
            "connecting PAGaff cell 1 to Hypo cell 0\n",
            "connecting PAGaff cell 1 to Hypo cell 1\n",
            "connecting PAGaff cell 1 to Hypo cell 2\n",
            "connecting PAGaff cell 1 to Hypo cell 3\n",
            "connecting PAGaff cell 1 to Hypo cell 4\n",
            "connecting PAGaff cell 1 to Hypo cell 5\n",
            "connecting PAGaff cell 1 to Hypo cell 6\n",
            "connecting PAGaff cell 1 to Hypo cell 7\n",
            "connecting PAGaff cell 1 to Hypo cell 8\n",
            "connecting PAGaff cell 1 to Hypo cell 9\n",
            "connecting PAGaff cell 2 to Hypo cell 0\n",
            "connecting PAGaff cell 2 to Hypo cell 1\n",
            "connecting PAGaff cell 2 to Hypo cell 2\n",
            "connecting PAGaff cell 2 to Hypo cell 3\n",
            "connecting PAGaff cell 2 to Hypo cell 4\n",
            "connecting PAGaff cell 2 to Hypo cell 5\n",
            "connecting PAGaff cell 2 to Hypo cell 6\n",
            "connecting PAGaff cell 2 to Hypo cell 7\n",
            "connecting PAGaff cell 2 to Hypo cell 8\n",
            "connecting PAGaff cell 2 to Hypo cell 9\n",
            "connecting PAGaff cell 3 to Hypo cell 0\n",
            "connecting PAGaff cell 3 to Hypo cell 1\n",
            "connecting PAGaff cell 3 to Hypo cell 2\n",
            "connecting PAGaff cell 3 to Hypo cell 3\n",
            "connecting PAGaff cell 3 to Hypo cell 4\n",
            "connecting PAGaff cell 3 to Hypo cell 5\n",
            "connecting PAGaff cell 3 to Hypo cell 6\n",
            "connecting PAGaff cell 3 to Hypo cell 7\n",
            "connecting PAGaff cell 3 to Hypo cell 8\n",
            "connecting PAGaff cell 3 to Hypo cell 9\n",
            "connecting PAGaff cell 4 to Hypo cell 0\n",
            "connecting PAGaff cell 4 to Hypo cell 1\n",
            "connecting PAGaff cell 4 to Hypo cell 2\n",
            "connecting PAGaff cell 4 to Hypo cell 3\n",
            "connecting PAGaff cell 4 to Hypo cell 4\n",
            "connecting PAGaff cell 4 to Hypo cell 5\n",
            "connecting PAGaff cell 4 to Hypo cell 6\n",
            "connecting PAGaff cell 4 to Hypo cell 7\n",
            "connecting PAGaff cell 4 to Hypo cell 8\n",
            "connecting PAGaff cell 4 to Hypo cell 9\n",
            "connecting PAGaff cell 5 to Hypo cell 0\n",
            "connecting PAGaff cell 5 to Hypo cell 1\n",
            "connecting PAGaff cell 5 to Hypo cell 2\n",
            "connecting PAGaff cell 5 to Hypo cell 3\n",
            "connecting PAGaff cell 5 to Hypo cell 4\n",
            "connecting PAGaff cell 5 to Hypo cell 5\n",
            "connecting PAGaff cell 5 to Hypo cell 6\n",
            "connecting PAGaff cell 5 to Hypo cell 7\n",
            "connecting PAGaff cell 5 to Hypo cell 8\n",
            "connecting PAGaff cell 5 to Hypo cell 9\n",
            "connecting PAGaff cell 6 to Hypo cell 0\n",
            "connecting PAGaff cell 6 to Hypo cell 1\n",
            "connecting PAGaff cell 6 to Hypo cell 2\n",
            "connecting PAGaff cell 6 to Hypo cell 3\n",
            "connecting PAGaff cell 6 to Hypo cell 4\n",
            "connecting PAGaff cell 6 to Hypo cell 5\n",
            "connecting PAGaff cell 6 to Hypo cell 6\n",
            "connecting PAGaff cell 6 to Hypo cell 7\n",
            "connecting PAGaff cell 6 to Hypo cell 8\n",
            "connecting PAGaff cell 6 to Hypo cell 9\n",
            "connecting PAGaff cell 7 to Hypo cell 0\n",
            "connecting PAGaff cell 7 to Hypo cell 1\n",
            "connecting PAGaff cell 7 to Hypo cell 2\n",
            "connecting PAGaff cell 7 to Hypo cell 3\n",
            "connecting PAGaff cell 7 to Hypo cell 4\n",
            "connecting PAGaff cell 7 to Hypo cell 5\n",
            "connecting PAGaff cell 7 to Hypo cell 6\n",
            "connecting PAGaff cell 7 to Hypo cell 7\n",
            "connecting PAGaff cell 7 to Hypo cell 8\n",
            "connecting PAGaff cell 7 to Hypo cell 9\n",
            "connecting PAGaff cell 8 to Hypo cell 0\n",
            "connecting PAGaff cell 8 to Hypo cell 1\n",
            "connecting PAGaff cell 8 to Hypo cell 2\n",
            "connecting PAGaff cell 8 to Hypo cell 3\n",
            "connecting PAGaff cell 8 to Hypo cell 4\n",
            "connecting PAGaff cell 8 to Hypo cell 5\n",
            "connecting PAGaff cell 8 to Hypo cell 6\n",
            "connecting PAGaff cell 8 to Hypo cell 7\n",
            "connecting PAGaff cell 8 to Hypo cell 8\n",
            "connecting PAGaff cell 8 to Hypo cell 9\n",
            "connecting PAGaff cell 9 to Hypo cell 0\n",
            "connecting PAGaff cell 9 to Hypo cell 1\n",
            "connecting PAGaff cell 9 to Hypo cell 2\n",
            "connecting PAGaff cell 9 to Hypo cell 3\n",
            "connecting PAGaff cell 9 to Hypo cell 4\n",
            "connecting PAGaff cell 9 to Hypo cell 5\n",
            "connecting PAGaff cell 9 to Hypo cell 6\n",
            "connecting PAGaff cell 9 to Hypo cell 7\n",
            "connecting PAGaff cell 9 to Hypo cell 8\n",
            "connecting PAGaff cell 9 to Hypo cell 9\n",
            "connecting Blad_aff_virt cell 0 to Bladaff cell 0\n",
            "connecting Blad_aff_virt cell 0 to Bladaff cell 1\n",
            "connecting Blad_aff_virt cell 0 to Bladaff cell 2\n",
            "connecting Blad_aff_virt cell 0 to Bladaff cell 3\n",
            "connecting Blad_aff_virt cell 0 to Bladaff cell 4\n",
            "connecting Blad_aff_virt cell 0 to Bladaff cell 5\n",
            "connecting Blad_aff_virt cell 0 to Bladaff cell 6\n",
            "connecting Blad_aff_virt cell 0 to Bladaff cell 7\n",
            "connecting Blad_aff_virt cell 0 to Bladaff cell 8\n",
            "connecting Blad_aff_virt cell 0 to Bladaff cell 9\n",
            "connecting Blad_aff_virt cell 1 to Bladaff cell 0\n",
            "connecting Blad_aff_virt cell 1 to Bladaff cell 1\n",
            "connecting Blad_aff_virt cell 1 to Bladaff cell 2\n",
            "connecting Blad_aff_virt cell 1 to Bladaff cell 3\n",
            "connecting Blad_aff_virt cell 1 to Bladaff cell 4\n",
            "connecting Blad_aff_virt cell 1 to Bladaff cell 5\n",
            "connecting Blad_aff_virt cell 1 to Bladaff cell 6\n",
            "connecting Blad_aff_virt cell 1 to Bladaff cell 7\n",
            "connecting Blad_aff_virt cell 1 to Bladaff cell 8\n",
            "connecting Blad_aff_virt cell 1 to Bladaff cell 9\n",
            "connecting Blad_aff_virt cell 2 to Bladaff cell 0\n",
            "connecting Blad_aff_virt cell 2 to Bladaff cell 1\n",
            "connecting Blad_aff_virt cell 2 to Bladaff cell 2\n",
            "connecting Blad_aff_virt cell 2 to Bladaff cell 3\n",
            "connecting Blad_aff_virt cell 2 to Bladaff cell 4\n",
            "connecting Blad_aff_virt cell 2 to Bladaff cell 5\n",
            "connecting Blad_aff_virt cell 2 to Bladaff cell 6\n",
            "connecting Blad_aff_virt cell 2 to Bladaff cell 7\n",
            "connecting Blad_aff_virt cell 2 to Bladaff cell 8\n",
            "connecting Blad_aff_virt cell 2 to Bladaff cell 9\n",
            "connecting Blad_aff_virt cell 3 to Bladaff cell 0\n",
            "connecting Blad_aff_virt cell 3 to Bladaff cell 1\n",
            "connecting Blad_aff_virt cell 3 to Bladaff cell 2\n",
            "connecting Blad_aff_virt cell 3 to Bladaff cell 3\n",
            "connecting Blad_aff_virt cell 3 to Bladaff cell 4\n",
            "connecting Blad_aff_virt cell 3 to Bladaff cell 5\n",
            "connecting Blad_aff_virt cell 3 to Bladaff cell 6\n",
            "connecting Blad_aff_virt cell 3 to Bladaff cell 7\n",
            "connecting Blad_aff_virt cell 3 to Bladaff cell 8\n",
            "connecting Blad_aff_virt cell 3 to Bladaff cell 9\n",
            "connecting Blad_aff_virt cell 4 to Bladaff cell 0\n",
            "connecting Blad_aff_virt cell 4 to Bladaff cell 1\n",
            "connecting Blad_aff_virt cell 4 to Bladaff cell 2\n",
            "connecting Blad_aff_virt cell 4 to Bladaff cell 3\n",
            "connecting Blad_aff_virt cell 4 to Bladaff cell 4\n",
            "connecting Blad_aff_virt cell 4 to Bladaff cell 5\n",
            "connecting Blad_aff_virt cell 4 to Bladaff cell 6\n",
            "connecting Blad_aff_virt cell 4 to Bladaff cell 7\n",
            "connecting Blad_aff_virt cell 4 to Bladaff cell 8\n",
            "connecting Blad_aff_virt cell 4 to Bladaff cell 9\n",
            "connecting Blad_aff_virt cell 5 to Bladaff cell 0\n",
            "connecting Blad_aff_virt cell 5 to Bladaff cell 1\n",
            "connecting Blad_aff_virt cell 5 to Bladaff cell 2\n",
            "connecting Blad_aff_virt cell 5 to Bladaff cell 3\n",
            "connecting Blad_aff_virt cell 5 to Bladaff cell 4\n",
            "connecting Blad_aff_virt cell 5 to Bladaff cell 5\n",
            "connecting Blad_aff_virt cell 5 to Bladaff cell 6\n",
            "connecting Blad_aff_virt cell 5 to Bladaff cell 7\n",
            "connecting Blad_aff_virt cell 5 to Bladaff cell 8\n",
            "connecting Blad_aff_virt cell 5 to Bladaff cell 9\n",
            "connecting Blad_aff_virt cell 6 to Bladaff cell 0\n",
            "connecting Blad_aff_virt cell 6 to Bladaff cell 1\n",
            "connecting Blad_aff_virt cell 6 to Bladaff cell 2\n",
            "connecting Blad_aff_virt cell 6 to Bladaff cell 3\n",
            "connecting Blad_aff_virt cell 6 to Bladaff cell 4\n",
            "connecting Blad_aff_virt cell 6 to Bladaff cell 5\n",
            "connecting Blad_aff_virt cell 6 to Bladaff cell 6\n",
            "connecting Blad_aff_virt cell 6 to Bladaff cell 7\n",
            "connecting Blad_aff_virt cell 6 to Bladaff cell 8\n",
            "connecting Blad_aff_virt cell 6 to Bladaff cell 9\n",
            "connecting Blad_aff_virt cell 7 to Bladaff cell 0\n",
            "connecting Blad_aff_virt cell 7 to Bladaff cell 1\n",
            "connecting Blad_aff_virt cell 7 to Bladaff cell 2\n",
            "connecting Blad_aff_virt cell 7 to Bladaff cell 3\n",
            "connecting Blad_aff_virt cell 7 to Bladaff cell 4\n",
            "connecting Blad_aff_virt cell 7 to Bladaff cell 5\n",
            "connecting Blad_aff_virt cell 7 to Bladaff cell 6\n",
            "connecting Blad_aff_virt cell 7 to Bladaff cell 7\n",
            "connecting Blad_aff_virt cell 7 to Bladaff cell 8\n",
            "connecting Blad_aff_virt cell 7 to Bladaff cell 9\n",
            "connecting Blad_aff_virt cell 8 to Bladaff cell 0\n",
            "connecting Blad_aff_virt cell 8 to Bladaff cell 1\n",
            "connecting Blad_aff_virt cell 8 to Bladaff cell 2\n",
            "connecting Blad_aff_virt cell 8 to Bladaff cell 3\n",
            "connecting Blad_aff_virt cell 8 to Bladaff cell 4\n",
            "connecting Blad_aff_virt cell 8 to Bladaff cell 5\n",
            "connecting Blad_aff_virt cell 8 to Bladaff cell 6\n",
            "connecting Blad_aff_virt cell 8 to Bladaff cell 7\n",
            "connecting Blad_aff_virt cell 8 to Bladaff cell 8\n",
            "connecting Blad_aff_virt cell 8 to Bladaff cell 9\n",
            "connecting Blad_aff_virt cell 9 to Bladaff cell 0\n",
            "connecting Blad_aff_virt cell 9 to Bladaff cell 1\n",
            "connecting Blad_aff_virt cell 9 to Bladaff cell 2\n",
            "connecting Blad_aff_virt cell 9 to Bladaff cell 3\n",
            "connecting Blad_aff_virt cell 9 to Bladaff cell 4\n",
            "connecting Blad_aff_virt cell 9 to Bladaff cell 5\n",
            "connecting Blad_aff_virt cell 9 to Bladaff cell 6\n",
            "connecting Blad_aff_virt cell 9 to Bladaff cell 7\n",
            "connecting Blad_aff_virt cell 9 to Bladaff cell 8\n",
            "connecting Blad_aff_virt cell 9 to Bladaff cell 9\n",
            "connecting PAG_aff_virt cell 0 to PAGaff cell 0\n",
            "connecting PAG_aff_virt cell 0 to PAGaff cell 1\n",
            "connecting PAG_aff_virt cell 0 to PAGaff cell 2\n",
            "connecting PAG_aff_virt cell 0 to PAGaff cell 3\n",
            "connecting PAG_aff_virt cell 0 to PAGaff cell 4\n",
            "connecting PAG_aff_virt cell 0 to PAGaff cell 5\n",
            "connecting PAG_aff_virt cell 0 to PAGaff cell 6\n",
            "connecting PAG_aff_virt cell 0 to PAGaff cell 7\n",
            "connecting PAG_aff_virt cell 0 to PAGaff cell 8\n",
            "connecting PAG_aff_virt cell 0 to PAGaff cell 9\n",
            "connecting PAG_aff_virt cell 1 to PAGaff cell 0\n",
            "connecting PAG_aff_virt cell 1 to PAGaff cell 1\n",
            "connecting PAG_aff_virt cell 1 to PAGaff cell 2\n",
            "connecting PAG_aff_virt cell 1 to PAGaff cell 3\n",
            "connecting PAG_aff_virt cell 1 to PAGaff cell 4\n",
            "connecting PAG_aff_virt cell 1 to PAGaff cell 5\n",
            "connecting PAG_aff_virt cell 1 to PAGaff cell 6\n",
            "connecting PAG_aff_virt cell 1 to PAGaff cell 7\n",
            "connecting PAG_aff_virt cell 1 to PAGaff cell 8\n",
            "connecting PAG_aff_virt cell 1 to PAGaff cell 9\n",
            "connecting PAG_aff_virt cell 2 to PAGaff cell 0\n",
            "connecting PAG_aff_virt cell 2 to PAGaff cell 1\n",
            "connecting PAG_aff_virt cell 2 to PAGaff cell 2\n",
            "connecting PAG_aff_virt cell 2 to PAGaff cell 3\n",
            "connecting PAG_aff_virt cell 2 to PAGaff cell 4\n",
            "connecting PAG_aff_virt cell 2 to PAGaff cell 5\n",
            "connecting PAG_aff_virt cell 2 to PAGaff cell 6\n",
            "connecting PAG_aff_virt cell 2 to PAGaff cell 7\n",
            "connecting PAG_aff_virt cell 2 to PAGaff cell 8\n",
            "connecting PAG_aff_virt cell 2 to PAGaff cell 9\n",
            "connecting PAG_aff_virt cell 3 to PAGaff cell 0\n",
            "connecting PAG_aff_virt cell 3 to PAGaff cell 1\n",
            "connecting PAG_aff_virt cell 3 to PAGaff cell 2\n",
            "connecting PAG_aff_virt cell 3 to PAGaff cell 3\n",
            "connecting PAG_aff_virt cell 3 to PAGaff cell 4\n",
            "connecting PAG_aff_virt cell 3 to PAGaff cell 5\n",
            "connecting PAG_aff_virt cell 3 to PAGaff cell 6\n",
            "connecting PAG_aff_virt cell 3 to PAGaff cell 7\n",
            "connecting PAG_aff_virt cell 3 to PAGaff cell 8\n",
            "connecting PAG_aff_virt cell 3 to PAGaff cell 9\n",
            "connecting PAG_aff_virt cell 4 to PAGaff cell 0\n",
            "connecting PAG_aff_virt cell 4 to PAGaff cell 1\n",
            "connecting PAG_aff_virt cell 4 to PAGaff cell 2\n",
            "connecting PAG_aff_virt cell 4 to PAGaff cell 3\n",
            "connecting PAG_aff_virt cell 4 to PAGaff cell 4\n",
            "connecting PAG_aff_virt cell 4 to PAGaff cell 5\n",
            "connecting PAG_aff_virt cell 4 to PAGaff cell 6\n",
            "connecting PAG_aff_virt cell 4 to PAGaff cell 7\n",
            "connecting PAG_aff_virt cell 4 to PAGaff cell 8\n",
            "connecting PAG_aff_virt cell 4 to PAGaff cell 9\n",
            "connecting PAG_aff_virt cell 5 to PAGaff cell 0\n",
            "connecting PAG_aff_virt cell 5 to PAGaff cell 1\n",
            "connecting PAG_aff_virt cell 5 to PAGaff cell 2\n",
            "connecting PAG_aff_virt cell 5 to PAGaff cell 3\n",
            "connecting PAG_aff_virt cell 5 to PAGaff cell 4\n",
            "connecting PAG_aff_virt cell 5 to PAGaff cell 5\n",
            "connecting PAG_aff_virt cell 5 to PAGaff cell 6\n",
            "connecting PAG_aff_virt cell 5 to PAGaff cell 7\n",
            "connecting PAG_aff_virt cell 5 to PAGaff cell 8\n",
            "connecting PAG_aff_virt cell 5 to PAGaff cell 9\n",
            "connecting PAG_aff_virt cell 6 to PAGaff cell 0\n",
            "connecting PAG_aff_virt cell 6 to PAGaff cell 1\n",
            "connecting PAG_aff_virt cell 6 to PAGaff cell 2\n",
            "connecting PAG_aff_virt cell 6 to PAGaff cell 3\n",
            "connecting PAG_aff_virt cell 6 to PAGaff cell 4\n",
            "connecting PAG_aff_virt cell 6 to PAGaff cell 5\n",
            "connecting PAG_aff_virt cell 6 to PAGaff cell 6\n",
            "connecting PAG_aff_virt cell 6 to PAGaff cell 7\n",
            "connecting PAG_aff_virt cell 6 to PAGaff cell 8\n",
            "connecting PAG_aff_virt cell 6 to PAGaff cell 9\n",
            "connecting PAG_aff_virt cell 7 to PAGaff cell 0\n",
            "connecting PAG_aff_virt cell 7 to PAGaff cell 1\n",
            "connecting PAG_aff_virt cell 7 to PAGaff cell 2\n",
            "connecting PAG_aff_virt cell 7 to PAGaff cell 3\n",
            "connecting PAG_aff_virt cell 7 to PAGaff cell 4\n",
            "connecting PAG_aff_virt cell 7 to PAGaff cell 5\n",
            "connecting PAG_aff_virt cell 7 to PAGaff cell 6\n",
            "connecting PAG_aff_virt cell 7 to PAGaff cell 7\n",
            "connecting PAG_aff_virt cell 7 to PAGaff cell 8\n",
            "connecting PAG_aff_virt cell 7 to PAGaff cell 9\n",
            "connecting PAG_aff_virt cell 8 to PAGaff cell 0\n",
            "connecting PAG_aff_virt cell 8 to PAGaff cell 1\n",
            "connecting PAG_aff_virt cell 8 to PAGaff cell 2\n",
            "connecting PAG_aff_virt cell 8 to PAGaff cell 3\n",
            "connecting PAG_aff_virt cell 8 to PAGaff cell 4\n",
            "connecting PAG_aff_virt cell 8 to PAGaff cell 5\n",
            "connecting PAG_aff_virt cell 8 to PAGaff cell 6\n",
            "connecting PAG_aff_virt cell 8 to PAGaff cell 7\n",
            "connecting PAG_aff_virt cell 8 to PAGaff cell 8\n",
            "connecting PAG_aff_virt cell 8 to PAGaff cell 9\n",
            "connecting PAG_aff_virt cell 9 to PAGaff cell 0\n",
            "connecting PAG_aff_virt cell 9 to PAGaff cell 1\n",
            "connecting PAG_aff_virt cell 9 to PAGaff cell 2\n",
            "connecting PAG_aff_virt cell 9 to PAGaff cell 3\n",
            "connecting PAG_aff_virt cell 9 to PAGaff cell 4\n",
            "connecting PAG_aff_virt cell 9 to PAGaff cell 5\n",
            "connecting PAG_aff_virt cell 9 to PAGaff cell 6\n",
            "connecting PAG_aff_virt cell 9 to PAGaff cell 7\n",
            "connecting PAG_aff_virt cell 9 to PAGaff cell 8\n",
            "connecting PAG_aff_virt cell 9 to PAGaff cell 9\n",
            "Done\n"
          ]
        }
      ]
    },
    {
      "cell_type": "code",
      "source": [
        "import os, sys, logging, faulthandler\n",
        "from bmtk.simulator import bionet\n",
        "from bmtk.simulator.bionet.default_setters.cell_models import loadHOC\n",
        "from bmtk.simulator.bionet.modules.sim_module import SimulatorMod\n",
        "from bmtk.utils.reports.spike_trains import SpikeTrains\n",
        "from bmtk.utils.reports.spike_trains import PoissonSpikeGenerator\n",
        "from bmtk.simulator.bionet.io_tools import io\n",
        "import numpy as np\n",
        "from neuron import h\n",
        "import pandas as pd\n",
        "# from bmtk.analyzer.cell_vars import plot_report\n",
        "from feedback_loop import FeedbackLoop\n",
        "from plotting import plot_figure, plotting_calculator\n",
        "# Import the synaptic depression/facilitation model\n",
        "import synapses\n",
        "\n",
        "import plot_results\n",
        "\n",
        "\n",
        "\"\"\"\n",
        "Basic Logging features, disable faulthandler if you don't want stacktraces printed\n",
        "logging determines the level and file to save logs to (might be worth moving location)\n",
        "\"\"\"\n",
        "faulthandler.enable()\n",
        "logging.basicConfig(filename='error_logs/debug_run.log', level=logging.DEBUG)\n",
        "\n",
        "synapses.load()\n",
        "logging.info('Synapses Loaded')\n",
        "\n",
        "press_thres = 17 #17 # cm H20 #40\n",
        "                 # Lingala, et al. 2016\n",
        "change_thres = 10 #10 # cm H20 #10\n",
        "                 # Need biological value for this\n",
        "\n",
        "bionet.pyfunction_cache.add_cell_model(loadHOC, directive='hoc', model_type='biophysical')\n",
        "logging.info('Cell model added')\n",
        "\n",
        "def run(config_file):\n",
        "\n",
        "    conf = bionet.Config.from_json(config_file, validate=True)\n",
        "    conf.build_env()\n",
        "\n",
        "    fbmod = FeedbackLoop()\n",
        "\n",
        "    graph = bionet.BioNetwork.from_config(conf)\n",
        "    sim = bionet.BioSimulator.from_config(conf, network=graph)\n",
        "    sim.add_mod(fbmod)  # Attach the above module to the simulator.\n",
        "    sim.run()\n",
        "\n",
        "    #fbmod.save_aff(conf.output_dir)\n",
        "    plot_results.run(sim=sim,conf=conf)\n",
        "\n",
        "# if __name__ == '__main__':\n",
        "#     if __file__ != sys.argv[-1]:\n",
        "#         run(sys.argv[-1])\n",
        "#     else:\n",
        "#         run('config.json')\n",
        "\n",
        "run(config_file='jsons/simulation_config.json')"
      ],
      "metadata": {
        "colab": {
          "base_uri": "https://localhost:8080/",
          "height": 1000
        },
        "id": "e_3NrK_WWFRx",
        "outputId": "1d838473-1d8c-4db1-cddf-1932983d7ca1"
      },
      "execution_count": 5,
      "outputs": [
        {
          "output_type": "stream",
          "name": "stdout",
          "text": [
            "2023-05-11 03:29:29,824 [INFO] Created log file\n"
          ]
        },
        {
          "output_type": "stream",
          "name": "stderr",
          "text": [
            "INFO:NEURONIOUtils:Created log file\n"
          ]
        },
        {
          "output_type": "stream",
          "name": "stdout",
          "text": [
            "2023-05-11 03:29:29,969 [INFO] Building cells.\n"
          ]
        },
        {
          "output_type": "stream",
          "name": "stderr",
          "text": [
            "INFO:NEURONIOUtils:Building cells.\n"
          ]
        },
        {
          "output_type": "stream",
          "name": "stdout",
          "text": [
            "2023-05-11 03:29:30,017 [INFO] Building recurrent connections\n"
          ]
        },
        {
          "output_type": "stream",
          "name": "stderr",
          "text": [
            "INFO:NEURONIOUtils:Building recurrent connections\n"
          ]
        },
        {
          "output_type": "stream",
          "name": "stdout",
          "text": [
            "2023-05-11 03:29:30,150 [INFO] Building virtual cell stimulations for Blad_spikes\n"
          ]
        },
        {
          "output_type": "stream",
          "name": "stderr",
          "text": [
            "INFO:NEURONIOUtils:Building virtual cell stimulations for Blad_spikes\n"
          ]
        },
        {
          "output_type": "stream",
          "name": "stdout",
          "text": [
            "2023-05-11 03:29:30,202 [INFO] Building virtual cell stimulations for EUS_spikes\n"
          ]
        },
        {
          "output_type": "stream",
          "name": "stderr",
          "text": [
            "INFO:NEURONIOUtils:Building virtual cell stimulations for EUS_spikes\n"
          ]
        },
        {
          "output_type": "stream",
          "name": "stdout",
          "text": [
            "2023-05-11 03:29:30,256 [INFO] Building virtual cell stimulations for PAG_spikes\n"
          ]
        },
        {
          "output_type": "stream",
          "name": "stderr",
          "text": [
            "INFO:NEURONIOUtils:Building virtual cell stimulations for PAG_spikes\n"
          ]
        },
        {
          "output_type": "stream",
          "name": "stdout",
          "text": [
            "2023-05-11 03:29:30,315 [INFO] Running simulation for 50000.000 ms with the time step 0.200 ms\n"
          ]
        },
        {
          "output_type": "stream",
          "name": "stderr",
          "text": [
            "INFO:NEURONIOUtils:Running simulation for 50000.000 ms with the time step 0.200 ms\n"
          ]
        },
        {
          "output_type": "stream",
          "name": "stdout",
          "text": [
            "2023-05-11 03:29:30,319 [INFO] Starting timestep: 0 at t_sim: 0.000 ms\n"
          ]
        },
        {
          "output_type": "stream",
          "name": "stderr",
          "text": [
            "INFO:NEURONIOUtils:Starting timestep: 0 at t_sim: 0.000 ms\n"
          ]
        },
        {
          "output_type": "stream",
          "name": "stdout",
          "text": [
            "2023-05-11 03:29:30,323 [INFO] Block save every 50000 steps\n"
          ]
        },
        {
          "output_type": "stream",
          "name": "stderr",
          "text": [
            "INFO:NEURONIOUtils:Block save every 50000 steps\n"
          ]
        },
        {
          "output_type": "stream",
          "name": "stdout",
          "text": [
            "2023-05-11 03:29:54,356 [INFO]     step:50000 t_sim:10000.00 ms\n"
          ]
        },
        {
          "output_type": "stream",
          "name": "stderr",
          "text": [
            "INFO:NEURONIOUtils:    step:50000 t_sim:10000.00 ms\n"
          ]
        },
        {
          "output_type": "stream",
          "name": "stdout",
          "text": [
            "2023-05-11 03:29:54,424 [INFO] Timestep 0.0 to 10000.0 ms\n"
          ]
        },
        {
          "output_type": "stream",
          "name": "stderr",
          "text": [
            "INFO:NEURONIOUtils:Timestep 0.0 to 10000.0 ms\n"
          ]
        },
        {
          "output_type": "stream",
          "name": "stdout",
          "text": [
            "2023-05-11 03:29:54,443 [INFO] PGN node_id\t  Hz\n"
          ]
        },
        {
          "output_type": "stream",
          "name": "stderr",
          "text": [
            "INFO:NEURONIOUtils:PGN node_id\t  Hz\n"
          ]
        },
        {
          "output_type": "stream",
          "name": "stdout",
          "text": [
            "2023-05-11 03:29:54,450 [INFO] PGN n_spikes: 19\n"
          ]
        },
        {
          "output_type": "stream",
          "name": "stderr",
          "text": [
            "INFO:NEURONIOUtils:PGN n_spikes: 19\n"
          ]
        },
        {
          "output_type": "stream",
          "name": "stdout",
          "text": [
            "2023-05-11 03:29:54,452 [INFO] 70\t\t19.0\n"
          ]
        },
        {
          "output_type": "stream",
          "name": "stderr",
          "text": [
            "INFO:NEURONIOUtils:70\t\t19.0\n"
          ]
        },
        {
          "output_type": "stream",
          "name": "stdout",
          "text": [
            "2023-05-11 03:29:54,477 [INFO] PGN n_spikes: 19\n"
          ]
        },
        {
          "output_type": "stream",
          "name": "stderr",
          "text": [
            "INFO:NEURONIOUtils:PGN n_spikes: 19\n"
          ]
        },
        {
          "output_type": "stream",
          "name": "stdout",
          "text": [
            "2023-05-11 03:29:54,493 [INFO] 71\t\t19.0\n"
          ]
        },
        {
          "output_type": "stream",
          "name": "stderr",
          "text": [
            "INFO:NEURONIOUtils:71\t\t19.0\n"
          ]
        },
        {
          "output_type": "stream",
          "name": "stdout",
          "text": [
            "2023-05-11 03:29:54,501 [INFO] PGN n_spikes: 19\n"
          ]
        },
        {
          "output_type": "stream",
          "name": "stderr",
          "text": [
            "INFO:NEURONIOUtils:PGN n_spikes: 19\n"
          ]
        },
        {
          "output_type": "stream",
          "name": "stdout",
          "text": [
            "2023-05-11 03:29:54,533 [INFO] 72\t\t19.0\n"
          ]
        },
        {
          "output_type": "stream",
          "name": "stderr",
          "text": [
            "INFO:NEURONIOUtils:72\t\t19.0\n"
          ]
        },
        {
          "output_type": "stream",
          "name": "stdout",
          "text": [
            "2023-05-11 03:29:54,539 [INFO] PGN n_spikes: 19\n"
          ]
        },
        {
          "output_type": "stream",
          "name": "stderr",
          "text": [
            "INFO:NEURONIOUtils:PGN n_spikes: 19\n"
          ]
        },
        {
          "output_type": "stream",
          "name": "stdout",
          "text": [
            "2023-05-11 03:29:54,542 [INFO] 73\t\t19.0\n"
          ]
        },
        {
          "output_type": "stream",
          "name": "stderr",
          "text": [
            "INFO:NEURONIOUtils:73\t\t19.0\n"
          ]
        },
        {
          "output_type": "stream",
          "name": "stdout",
          "text": [
            "2023-05-11 03:29:54,548 [INFO] PGN n_spikes: 19\n"
          ]
        },
        {
          "output_type": "stream",
          "name": "stderr",
          "text": [
            "INFO:NEURONIOUtils:PGN n_spikes: 19\n"
          ]
        },
        {
          "output_type": "stream",
          "name": "stdout",
          "text": [
            "2023-05-11 03:29:54,550 [INFO] 74\t\t19.0\n"
          ]
        },
        {
          "output_type": "stream",
          "name": "stderr",
          "text": [
            "INFO:NEURONIOUtils:74\t\t19.0\n"
          ]
        },
        {
          "output_type": "stream",
          "name": "stdout",
          "text": [
            "2023-05-11 03:29:54,556 [INFO] PGN n_spikes: 19\n"
          ]
        },
        {
          "output_type": "stream",
          "name": "stderr",
          "text": [
            "INFO:NEURONIOUtils:PGN n_spikes: 19\n"
          ]
        },
        {
          "output_type": "stream",
          "name": "stdout",
          "text": [
            "2023-05-11 03:29:54,561 [INFO] 75\t\t19.0\n"
          ]
        },
        {
          "output_type": "stream",
          "name": "stderr",
          "text": [
            "INFO:NEURONIOUtils:75\t\t19.0\n"
          ]
        },
        {
          "output_type": "stream",
          "name": "stdout",
          "text": [
            "2023-05-11 03:29:54,563 [INFO] PGN n_spikes: 19\n"
          ]
        },
        {
          "output_type": "stream",
          "name": "stderr",
          "text": [
            "INFO:NEURONIOUtils:PGN n_spikes: 19\n"
          ]
        },
        {
          "output_type": "stream",
          "name": "stdout",
          "text": [
            "2023-05-11 03:29:54,570 [INFO] 76\t\t19.0\n"
          ]
        },
        {
          "output_type": "stream",
          "name": "stderr",
          "text": [
            "INFO:NEURONIOUtils:76\t\t19.0\n"
          ]
        },
        {
          "output_type": "stream",
          "name": "stdout",
          "text": [
            "2023-05-11 03:29:54,574 [INFO] PGN n_spikes: 19\n"
          ]
        },
        {
          "output_type": "stream",
          "name": "stderr",
          "text": [
            "INFO:NEURONIOUtils:PGN n_spikes: 19\n"
          ]
        },
        {
          "output_type": "stream",
          "name": "stdout",
          "text": [
            "2023-05-11 03:29:54,581 [INFO] 77\t\t19.0\n"
          ]
        },
        {
          "output_type": "stream",
          "name": "stderr",
          "text": [
            "INFO:NEURONIOUtils:77\t\t19.0\n"
          ]
        },
        {
          "output_type": "stream",
          "name": "stdout",
          "text": [
            "2023-05-11 03:29:54,586 [INFO] PGN n_spikes: 19\n"
          ]
        },
        {
          "output_type": "stream",
          "name": "stderr",
          "text": [
            "INFO:NEURONIOUtils:PGN n_spikes: 19\n"
          ]
        },
        {
          "output_type": "stream",
          "name": "stdout",
          "text": [
            "2023-05-11 03:29:54,589 [INFO] 78\t\t19.0\n"
          ]
        },
        {
          "output_type": "stream",
          "name": "stderr",
          "text": [
            "INFO:NEURONIOUtils:78\t\t19.0\n"
          ]
        },
        {
          "output_type": "stream",
          "name": "stdout",
          "text": [
            "2023-05-11 03:29:54,594 [INFO] PGN n_spikes: 19\n"
          ]
        },
        {
          "output_type": "stream",
          "name": "stderr",
          "text": [
            "INFO:NEURONIOUtils:PGN n_spikes: 19\n"
          ]
        },
        {
          "output_type": "stream",
          "name": "stdout",
          "text": [
            "2023-05-11 03:29:54,600 [INFO] 79\t\t19.0\n"
          ]
        },
        {
          "output_type": "stream",
          "name": "stderr",
          "text": [
            "INFO:NEURONIOUtils:79\t\t19.0\n"
          ]
        },
        {
          "output_type": "stream",
          "name": "stdout",
          "text": [
            "2023-05-11 03:29:54,605 [INFO] PGN firing rate avg: 19.0 Hz\n"
          ]
        },
        {
          "output_type": "stream",
          "name": "stderr",
          "text": [
            "INFO:NEURONIOUtils:PGN firing rate avg: 19.0 Hz\n"
          ]
        },
        {
          "output_type": "stream",
          "name": "stdout",
          "text": [
            "2023-05-11 03:29:54,607 [INFO] Grill PGN fr = 5 Hz\n"
          ]
        },
        {
          "output_type": "stream",
          "name": "stderr",
          "text": [
            "INFO:NEURONIOUtils:Grill PGN fr = 5 Hz\n"
          ]
        },
        {
          "output_type": "stream",
          "name": "stdout",
          "text": [
            "2023-05-11 03:29:54,614 [INFO] IMG node_gid\t  Hz\n"
          ]
        },
        {
          "output_type": "stream",
          "name": "stderr",
          "text": [
            "INFO:NEURONIOUtils:IMG node_gid\t  Hz\n"
          ]
        },
        {
          "output_type": "stream",
          "name": "stdout",
          "text": [
            "2023-05-11 03:29:54,618 [INFO] IMG firing rate avg: 19.0 Hz\n"
          ]
        },
        {
          "output_type": "stream",
          "name": "stderr",
          "text": [
            "INFO:NEURONIOUtils:IMG firing rate avg: 19.0 Hz\n"
          ]
        },
        {
          "output_type": "stream",
          "name": "stdout",
          "text": [
            "2023-05-11 03:29:54,643 [INFO] PGN firing rate = 19.00 Hz\n"
          ]
        },
        {
          "output_type": "stream",
          "name": "stderr",
          "text": [
            "/usr/local/lib/python3.10/dist-packages/bmtk/utils/reports/spike_trains/spike_trains.py:183: RuntimeWarning: divide by zero encountered in double_scalars\n",
            "  interval = -np.log(1.0 - np.random.uniform()) / fr\n",
            "INFO:NEURONIOUtils:PGN firing rate = 19.00 Hz\n"
          ]
        },
        {
          "output_type": "stream",
          "name": "stdout",
          "text": [
            "2023-05-11 03:29:54,650 [INFO] Volume = 0.0000 ml\n"
          ]
        },
        {
          "output_type": "stream",
          "name": "stderr",
          "text": [
            "INFO:NEURONIOUtils:Volume = 0.0000 ml\n"
          ]
        },
        {
          "output_type": "stream",
          "name": "stdout",
          "text": [
            "2023-05-11 03:29:54,656 [INFO] Pressure = 0.00 mmHg\n"
          ]
        },
        {
          "output_type": "stream",
          "name": "stderr",
          "text": [
            "INFO:NEURONIOUtils:Pressure = 0.00 mmHg\n"
          ]
        },
        {
          "output_type": "stream",
          "name": "stdout",
          "text": [
            "2023-05-11 03:29:54,661 [INFO] Calculated bladder afferent firing rate for the next time step = 0.00 Hz \n",
            " \n",
            "\n"
          ]
        },
        {
          "output_type": "stream",
          "name": "stderr",
          "text": [
            "INFO:NEURONIOUtils:Calculated bladder afferent firing rate for the next time step = 0.00 Hz \n",
            " \n",
            "\n"
          ]
        },
        {
          "output_type": "stream",
          "name": "stdout",
          "text": [
            "2023-05-11 03:29:54,666 [INFO] t value: \n"
          ]
        },
        {
          "output_type": "stream",
          "name": "stderr",
          "text": [
            "INFO:NEURONIOUtils:t value: \n"
          ]
        },
        {
          "output_type": "stream",
          "name": "stdout",
          "text": [
            "2023-05-11 03:30:22,820 [INFO]     step:100000 t_sim:20000.00 ms\n"
          ]
        },
        {
          "output_type": "stream",
          "name": "stderr",
          "text": [
            "INFO:NEURONIOUtils:    step:100000 t_sim:20000.00 ms\n"
          ]
        },
        {
          "output_type": "stream",
          "name": "stdout",
          "text": [
            "2023-05-11 03:30:22,849 [INFO] Timestep 10000.0 to 20000.0 ms\n"
          ]
        },
        {
          "output_type": "stream",
          "name": "stderr",
          "text": [
            "INFO:NEURONIOUtils:Timestep 10000.0 to 20000.0 ms\n"
          ]
        },
        {
          "output_type": "stream",
          "name": "stdout",
          "text": [
            "2023-05-11 03:30:22,857 [INFO] PGN node_id\t  Hz\n"
          ]
        },
        {
          "output_type": "stream",
          "name": "stderr",
          "text": [
            "INFO:NEURONIOUtils:PGN node_id\t  Hz\n"
          ]
        },
        {
          "output_type": "stream",
          "name": "stdout",
          "text": [
            "2023-05-11 03:30:22,864 [INFO] PGN n_spikes: 15\n"
          ]
        },
        {
          "output_type": "stream",
          "name": "stderr",
          "text": [
            "INFO:NEURONIOUtils:PGN n_spikes: 15\n"
          ]
        },
        {
          "output_type": "stream",
          "name": "stdout",
          "text": [
            "2023-05-11 03:30:22,870 [INFO] 70\t\t15.0\n"
          ]
        },
        {
          "output_type": "stream",
          "name": "stderr",
          "text": [
            "INFO:NEURONIOUtils:70\t\t15.0\n"
          ]
        },
        {
          "output_type": "stream",
          "name": "stdout",
          "text": [
            "2023-05-11 03:30:22,873 [INFO] PGN n_spikes: 15\n"
          ]
        },
        {
          "output_type": "stream",
          "name": "stderr",
          "text": [
            "INFO:NEURONIOUtils:PGN n_spikes: 15\n"
          ]
        },
        {
          "output_type": "stream",
          "name": "stdout",
          "text": [
            "2023-05-11 03:30:22,875 [INFO] 71\t\t15.0\n"
          ]
        },
        {
          "output_type": "stream",
          "name": "stderr",
          "text": [
            "INFO:NEURONIOUtils:71\t\t15.0\n"
          ]
        },
        {
          "output_type": "stream",
          "name": "stdout",
          "text": [
            "2023-05-11 03:30:22,877 [INFO] PGN n_spikes: 15\n"
          ]
        },
        {
          "output_type": "stream",
          "name": "stderr",
          "text": [
            "INFO:NEURONIOUtils:PGN n_spikes: 15\n"
          ]
        },
        {
          "output_type": "stream",
          "name": "stdout",
          "text": [
            "2023-05-11 03:30:22,879 [INFO] 72\t\t15.0\n"
          ]
        },
        {
          "output_type": "stream",
          "name": "stderr",
          "text": [
            "INFO:NEURONIOUtils:72\t\t15.0\n"
          ]
        },
        {
          "output_type": "stream",
          "name": "stdout",
          "text": [
            "2023-05-11 03:30:22,884 [INFO] PGN n_spikes: 15\n"
          ]
        },
        {
          "output_type": "stream",
          "name": "stderr",
          "text": [
            "INFO:NEURONIOUtils:PGN n_spikes: 15\n"
          ]
        },
        {
          "output_type": "stream",
          "name": "stdout",
          "text": [
            "2023-05-11 03:30:22,886 [INFO] 73\t\t15.0\n"
          ]
        },
        {
          "output_type": "stream",
          "name": "stderr",
          "text": [
            "INFO:NEURONIOUtils:73\t\t15.0\n"
          ]
        },
        {
          "output_type": "stream",
          "name": "stdout",
          "text": [
            "2023-05-11 03:30:22,892 [INFO] PGN n_spikes: 15\n"
          ]
        },
        {
          "output_type": "stream",
          "name": "stderr",
          "text": [
            "INFO:NEURONIOUtils:PGN n_spikes: 15\n"
          ]
        },
        {
          "output_type": "stream",
          "name": "stdout",
          "text": [
            "2023-05-11 03:30:22,895 [INFO] 74\t\t15.0\n"
          ]
        },
        {
          "output_type": "stream",
          "name": "stderr",
          "text": [
            "INFO:NEURONIOUtils:74\t\t15.0\n"
          ]
        },
        {
          "output_type": "stream",
          "name": "stdout",
          "text": [
            "2023-05-11 03:30:22,897 [INFO] PGN n_spikes: 15\n"
          ]
        },
        {
          "output_type": "stream",
          "name": "stderr",
          "text": [
            "INFO:NEURONIOUtils:PGN n_spikes: 15\n"
          ]
        },
        {
          "output_type": "stream",
          "name": "stdout",
          "text": [
            "2023-05-11 03:30:22,899 [INFO] 75\t\t15.0\n"
          ]
        },
        {
          "output_type": "stream",
          "name": "stderr",
          "text": [
            "INFO:NEURONIOUtils:75\t\t15.0\n"
          ]
        },
        {
          "output_type": "stream",
          "name": "stdout",
          "text": [
            "2023-05-11 03:30:22,904 [INFO] PGN n_spikes: 15\n"
          ]
        },
        {
          "output_type": "stream",
          "name": "stderr",
          "text": [
            "INFO:NEURONIOUtils:PGN n_spikes: 15\n"
          ]
        },
        {
          "output_type": "stream",
          "name": "stdout",
          "text": [
            "2023-05-11 03:30:22,906 [INFO] 76\t\t15.0\n"
          ]
        },
        {
          "output_type": "stream",
          "name": "stderr",
          "text": [
            "INFO:NEURONIOUtils:76\t\t15.0\n"
          ]
        },
        {
          "output_type": "stream",
          "name": "stdout",
          "text": [
            "2023-05-11 03:30:22,908 [INFO] PGN n_spikes: 15\n"
          ]
        },
        {
          "output_type": "stream",
          "name": "stderr",
          "text": [
            "INFO:NEURONIOUtils:PGN n_spikes: 15\n"
          ]
        },
        {
          "output_type": "stream",
          "name": "stdout",
          "text": [
            "2023-05-11 03:30:22,910 [INFO] 77\t\t15.0\n"
          ]
        },
        {
          "output_type": "stream",
          "name": "stderr",
          "text": [
            "INFO:NEURONIOUtils:77\t\t15.0\n"
          ]
        },
        {
          "output_type": "stream",
          "name": "stdout",
          "text": [
            "2023-05-11 03:30:22,913 [INFO] PGN n_spikes: 15\n"
          ]
        },
        {
          "output_type": "stream",
          "name": "stderr",
          "text": [
            "INFO:NEURONIOUtils:PGN n_spikes: 15\n"
          ]
        },
        {
          "output_type": "stream",
          "name": "stdout",
          "text": [
            "2023-05-11 03:30:22,916 [INFO] 78\t\t15.0\n"
          ]
        },
        {
          "output_type": "stream",
          "name": "stderr",
          "text": [
            "INFO:NEURONIOUtils:78\t\t15.0\n"
          ]
        },
        {
          "output_type": "stream",
          "name": "stdout",
          "text": [
            "2023-05-11 03:30:22,918 [INFO] PGN n_spikes: 15\n"
          ]
        },
        {
          "output_type": "stream",
          "name": "stderr",
          "text": [
            "INFO:NEURONIOUtils:PGN n_spikes: 15\n"
          ]
        },
        {
          "output_type": "stream",
          "name": "stdout",
          "text": [
            "2023-05-11 03:30:22,920 [INFO] 79\t\t15.0\n"
          ]
        },
        {
          "output_type": "stream",
          "name": "stderr",
          "text": [
            "INFO:NEURONIOUtils:79\t\t15.0\n"
          ]
        },
        {
          "output_type": "stream",
          "name": "stdout",
          "text": [
            "2023-05-11 03:30:22,922 [INFO] PGN firing rate avg: 15.0 Hz\n"
          ]
        },
        {
          "output_type": "stream",
          "name": "stderr",
          "text": [
            "INFO:NEURONIOUtils:PGN firing rate avg: 15.0 Hz\n"
          ]
        },
        {
          "output_type": "stream",
          "name": "stdout",
          "text": [
            "2023-05-11 03:30:22,924 [INFO] Grill PGN fr = 5 Hz\n"
          ]
        },
        {
          "output_type": "stream",
          "name": "stderr",
          "text": [
            "INFO:NEURONIOUtils:Grill PGN fr = 5 Hz\n"
          ]
        },
        {
          "output_type": "stream",
          "name": "stdout",
          "text": [
            "2023-05-11 03:30:22,927 [INFO] IMG node_gid\t  Hz\n"
          ]
        },
        {
          "output_type": "stream",
          "name": "stderr",
          "text": [
            "INFO:NEURONIOUtils:IMG node_gid\t  Hz\n"
          ]
        },
        {
          "output_type": "stream",
          "name": "stdout",
          "text": [
            "2023-05-11 03:30:22,929 [INFO] IMG firing rate avg: 15.0 Hz\n"
          ]
        },
        {
          "output_type": "stream",
          "name": "stderr",
          "text": [
            "INFO:NEURONIOUtils:IMG firing rate avg: 15.0 Hz\n"
          ]
        },
        {
          "output_type": "stream",
          "name": "stdout",
          "text": [
            "2023-05-11 03:30:22,937 [INFO] PGN firing rate = 15.00 Hz\n"
          ]
        },
        {
          "output_type": "stream",
          "name": "stderr",
          "text": [
            "/usr/local/lib/python3.10/dist-packages/bmtk/utils/reports/spike_trains/spike_trains.py:183: RuntimeWarning: divide by zero encountered in double_scalars\n",
            "  interval = -np.log(1.0 - np.random.uniform()) / fr\n",
            "INFO:NEURONIOUtils:PGN firing rate = 15.00 Hz\n"
          ]
        },
        {
          "output_type": "stream",
          "name": "stdout",
          "text": [
            "2023-05-11 03:30:22,940 [INFO] Volume = 2.0833 ml\n"
          ]
        },
        {
          "output_type": "stream",
          "name": "stderr",
          "text": [
            "INFO:NEURONIOUtils:Volume = 2.0833 ml\n"
          ]
        },
        {
          "output_type": "stream",
          "name": "stdout",
          "text": [
            "2023-05-11 03:30:22,942 [INFO] Pressure = 0.00 mmHg\n"
          ]
        },
        {
          "output_type": "stream",
          "name": "stderr",
          "text": [
            "INFO:NEURONIOUtils:Pressure = 0.00 mmHg\n"
          ]
        },
        {
          "output_type": "stream",
          "name": "stdout",
          "text": [
            "2023-05-11 03:30:22,944 [INFO] Calculated bladder afferent firing rate for the next time step = 0.00 Hz \n",
            " \n",
            "\n"
          ]
        },
        {
          "output_type": "stream",
          "name": "stderr",
          "text": [
            "INFO:NEURONIOUtils:Calculated bladder afferent firing rate for the next time step = 0.00 Hz \n",
            " \n",
            "\n"
          ]
        },
        {
          "output_type": "stream",
          "name": "stdout",
          "text": [
            "2023-05-11 03:30:22,947 [INFO] t value: \n"
          ]
        },
        {
          "output_type": "stream",
          "name": "stderr",
          "text": [
            "INFO:NEURONIOUtils:t value: \n"
          ]
        },
        {
          "output_type": "stream",
          "name": "stdout",
          "text": [
            "2023-05-11 03:30:44,967 [INFO]     step:150000 t_sim:30000.00 ms\n"
          ]
        },
        {
          "output_type": "stream",
          "name": "stderr",
          "text": [
            "INFO:NEURONIOUtils:    step:150000 t_sim:30000.00 ms\n"
          ]
        },
        {
          "output_type": "stream",
          "name": "stdout",
          "text": [
            "2023-05-11 03:30:44,989 [INFO] Timestep 20000.0 to 30000.0 ms\n"
          ]
        },
        {
          "output_type": "stream",
          "name": "stderr",
          "text": [
            "INFO:NEURONIOUtils:Timestep 20000.0 to 30000.0 ms\n"
          ]
        },
        {
          "output_type": "stream",
          "name": "stdout",
          "text": [
            "2023-05-11 03:30:44,993 [INFO] PGN node_id\t  Hz\n"
          ]
        },
        {
          "output_type": "stream",
          "name": "stderr",
          "text": [
            "INFO:NEURONIOUtils:PGN node_id\t  Hz\n"
          ]
        },
        {
          "output_type": "stream",
          "name": "stdout",
          "text": [
            "2023-05-11 03:30:44,998 [INFO] PGN n_spikes: 23\n"
          ]
        },
        {
          "output_type": "stream",
          "name": "stderr",
          "text": [
            "INFO:NEURONIOUtils:PGN n_spikes: 23\n"
          ]
        },
        {
          "output_type": "stream",
          "name": "stdout",
          "text": [
            "2023-05-11 03:30:45,005 [INFO] 70\t\t23.0\n"
          ]
        },
        {
          "output_type": "stream",
          "name": "stderr",
          "text": [
            "INFO:NEURONIOUtils:70\t\t23.0\n"
          ]
        },
        {
          "output_type": "stream",
          "name": "stdout",
          "text": [
            "2023-05-11 03:30:45,008 [INFO] PGN n_spikes: 23\n"
          ]
        },
        {
          "output_type": "stream",
          "name": "stderr",
          "text": [
            "INFO:NEURONIOUtils:PGN n_spikes: 23\n"
          ]
        },
        {
          "output_type": "stream",
          "name": "stdout",
          "text": [
            "2023-05-11 03:30:45,010 [INFO] 71\t\t23.0\n"
          ]
        },
        {
          "output_type": "stream",
          "name": "stderr",
          "text": [
            "INFO:NEURONIOUtils:71\t\t23.0\n"
          ]
        },
        {
          "output_type": "stream",
          "name": "stdout",
          "text": [
            "2023-05-11 03:30:45,017 [INFO] PGN n_spikes: 23\n"
          ]
        },
        {
          "output_type": "stream",
          "name": "stderr",
          "text": [
            "INFO:NEURONIOUtils:PGN n_spikes: 23\n"
          ]
        },
        {
          "output_type": "stream",
          "name": "stdout",
          "text": [
            "2023-05-11 03:30:45,019 [INFO] 72\t\t23.0\n"
          ]
        },
        {
          "output_type": "stream",
          "name": "stderr",
          "text": [
            "INFO:NEURONIOUtils:72\t\t23.0\n"
          ]
        },
        {
          "output_type": "stream",
          "name": "stdout",
          "text": [
            "2023-05-11 03:30:45,023 [INFO] PGN n_spikes: 23\n"
          ]
        },
        {
          "output_type": "stream",
          "name": "stderr",
          "text": [
            "INFO:NEURONIOUtils:PGN n_spikes: 23\n"
          ]
        },
        {
          "output_type": "stream",
          "name": "stdout",
          "text": [
            "2023-05-11 03:30:45,026 [INFO] 73\t\t23.0\n"
          ]
        },
        {
          "output_type": "stream",
          "name": "stderr",
          "text": [
            "INFO:NEURONIOUtils:73\t\t23.0\n"
          ]
        },
        {
          "output_type": "stream",
          "name": "stdout",
          "text": [
            "2023-05-11 03:30:45,028 [INFO] PGN n_spikes: 23\n"
          ]
        },
        {
          "output_type": "stream",
          "name": "stderr",
          "text": [
            "INFO:NEURONIOUtils:PGN n_spikes: 23\n"
          ]
        },
        {
          "output_type": "stream",
          "name": "stdout",
          "text": [
            "2023-05-11 03:30:45,032 [INFO] 74\t\t23.0\n"
          ]
        },
        {
          "output_type": "stream",
          "name": "stderr",
          "text": [
            "INFO:NEURONIOUtils:74\t\t23.0\n"
          ]
        },
        {
          "output_type": "stream",
          "name": "stdout",
          "text": [
            "2023-05-11 03:30:45,034 [INFO] PGN n_spikes: 23\n"
          ]
        },
        {
          "output_type": "stream",
          "name": "stderr",
          "text": [
            "INFO:NEURONIOUtils:PGN n_spikes: 23\n"
          ]
        },
        {
          "output_type": "stream",
          "name": "stdout",
          "text": [
            "2023-05-11 03:30:45,036 [INFO] 75\t\t23.0\n"
          ]
        },
        {
          "output_type": "stream",
          "name": "stderr",
          "text": [
            "INFO:NEURONIOUtils:75\t\t23.0\n"
          ]
        },
        {
          "output_type": "stream",
          "name": "stdout",
          "text": [
            "2023-05-11 03:30:45,040 [INFO] PGN n_spikes: 23\n"
          ]
        },
        {
          "output_type": "stream",
          "name": "stderr",
          "text": [
            "INFO:NEURONIOUtils:PGN n_spikes: 23\n"
          ]
        },
        {
          "output_type": "stream",
          "name": "stdout",
          "text": [
            "2023-05-11 03:30:45,042 [INFO] 76\t\t23.0\n"
          ]
        },
        {
          "output_type": "stream",
          "name": "stderr",
          "text": [
            "INFO:NEURONIOUtils:76\t\t23.0\n"
          ]
        },
        {
          "output_type": "stream",
          "name": "stdout",
          "text": [
            "2023-05-11 03:30:45,044 [INFO] PGN n_spikes: 23\n"
          ]
        },
        {
          "output_type": "stream",
          "name": "stderr",
          "text": [
            "INFO:NEURONIOUtils:PGN n_spikes: 23\n"
          ]
        },
        {
          "output_type": "stream",
          "name": "stdout",
          "text": [
            "2023-05-11 03:30:45,046 [INFO] 77\t\t23.0\n"
          ]
        },
        {
          "output_type": "stream",
          "name": "stderr",
          "text": [
            "INFO:NEURONIOUtils:77\t\t23.0\n"
          ]
        },
        {
          "output_type": "stream",
          "name": "stdout",
          "text": [
            "2023-05-11 03:30:45,051 [INFO] PGN n_spikes: 23\n"
          ]
        },
        {
          "output_type": "stream",
          "name": "stderr",
          "text": [
            "INFO:NEURONIOUtils:PGN n_spikes: 23\n"
          ]
        },
        {
          "output_type": "stream",
          "name": "stdout",
          "text": [
            "2023-05-11 03:30:45,053 [INFO] 78\t\t23.0\n"
          ]
        },
        {
          "output_type": "stream",
          "name": "stderr",
          "text": [
            "INFO:NEURONIOUtils:78\t\t23.0\n"
          ]
        },
        {
          "output_type": "stream",
          "name": "stdout",
          "text": [
            "2023-05-11 03:30:45,055 [INFO] PGN n_spikes: 23\n"
          ]
        },
        {
          "output_type": "stream",
          "name": "stderr",
          "text": [
            "INFO:NEURONIOUtils:PGN n_spikes: 23\n"
          ]
        },
        {
          "output_type": "stream",
          "name": "stdout",
          "text": [
            "2023-05-11 03:30:45,057 [INFO] 79\t\t23.0\n"
          ]
        },
        {
          "output_type": "stream",
          "name": "stderr",
          "text": [
            "INFO:NEURONIOUtils:79\t\t23.0\n"
          ]
        },
        {
          "output_type": "stream",
          "name": "stdout",
          "text": [
            "2023-05-11 03:30:45,059 [INFO] PGN firing rate avg: 23.0 Hz\n"
          ]
        },
        {
          "output_type": "stream",
          "name": "stderr",
          "text": [
            "INFO:NEURONIOUtils:PGN firing rate avg: 23.0 Hz\n"
          ]
        },
        {
          "output_type": "stream",
          "name": "stdout",
          "text": [
            "2023-05-11 03:30:45,061 [INFO] Grill PGN fr = 5 Hz\n"
          ]
        },
        {
          "output_type": "stream",
          "name": "stderr",
          "text": [
            "INFO:NEURONIOUtils:Grill PGN fr = 5 Hz\n"
          ]
        },
        {
          "output_type": "stream",
          "name": "stdout",
          "text": [
            "2023-05-11 03:30:45,063 [INFO] IMG node_gid\t  Hz\n"
          ]
        },
        {
          "output_type": "stream",
          "name": "stderr",
          "text": [
            "INFO:NEURONIOUtils:IMG node_gid\t  Hz\n"
          ]
        },
        {
          "output_type": "stream",
          "name": "stdout",
          "text": [
            "2023-05-11 03:30:45,066 [INFO] IMG firing rate avg: 23.0 Hz\n"
          ]
        },
        {
          "output_type": "stream",
          "name": "stderr",
          "text": [
            "INFO:NEURONIOUtils:IMG firing rate avg: 23.0 Hz\n"
          ]
        },
        {
          "output_type": "stream",
          "name": "stdout",
          "text": [
            "2023-05-11 03:30:45,074 [INFO] PGN firing rate = 23.00 Hz\n"
          ]
        },
        {
          "output_type": "stream",
          "name": "stderr",
          "text": [
            "/usr/local/lib/python3.10/dist-packages/bmtk/utils/reports/spike_trains/spike_trains.py:183: RuntimeWarning: divide by zero encountered in double_scalars\n",
            "  interval = -np.log(1.0 - np.random.uniform()) / fr\n",
            "INFO:NEURONIOUtils:PGN firing rate = 23.00 Hz\n"
          ]
        },
        {
          "output_type": "stream",
          "name": "stdout",
          "text": [
            "2023-05-11 03:30:45,077 [INFO] Volume = 4.1667 ml\n"
          ]
        },
        {
          "output_type": "stream",
          "name": "stderr",
          "text": [
            "INFO:NEURONIOUtils:Volume = 4.1667 ml\n"
          ]
        },
        {
          "output_type": "stream",
          "name": "stdout",
          "text": [
            "2023-05-11 03:30:45,080 [INFO] Pressure = 5.00 mmHg\n"
          ]
        },
        {
          "output_type": "stream",
          "name": "stderr",
          "text": [
            "INFO:NEURONIOUtils:Pressure = 5.00 mmHg\n"
          ]
        },
        {
          "output_type": "stream",
          "name": "stdout",
          "text": [
            "2023-05-11 03:30:45,082 [INFO] Calculated bladder afferent firing rate for the next time step = 0.00 Hz \n",
            " \n",
            "\n"
          ]
        },
        {
          "output_type": "stream",
          "name": "stderr",
          "text": [
            "INFO:NEURONIOUtils:Calculated bladder afferent firing rate for the next time step = 0.00 Hz \n",
            " \n",
            "\n"
          ]
        },
        {
          "output_type": "stream",
          "name": "stdout",
          "text": [
            "2023-05-11 03:30:45,084 [INFO] t value: \n"
          ]
        },
        {
          "output_type": "stream",
          "name": "stderr",
          "text": [
            "INFO:NEURONIOUtils:t value: \n"
          ]
        },
        {
          "output_type": "stream",
          "name": "stdout",
          "text": [
            "2023-05-11 03:31:07,916 [INFO]     step:200000 t_sim:40000.00 ms\n"
          ]
        },
        {
          "output_type": "stream",
          "name": "stderr",
          "text": [
            "INFO:NEURONIOUtils:    step:200000 t_sim:40000.00 ms\n"
          ]
        },
        {
          "output_type": "stream",
          "name": "stdout",
          "text": [
            "2023-05-11 03:31:07,934 [INFO] Timestep 30000.0 to 40000.0 ms\n"
          ]
        },
        {
          "output_type": "stream",
          "name": "stderr",
          "text": [
            "INFO:NEURONIOUtils:Timestep 30000.0 to 40000.0 ms\n"
          ]
        },
        {
          "output_type": "stream",
          "name": "stdout",
          "text": [
            "2023-05-11 03:31:07,938 [INFO] PGN node_id\t  Hz\n"
          ]
        },
        {
          "output_type": "stream",
          "name": "stderr",
          "text": [
            "INFO:NEURONIOUtils:PGN node_id\t  Hz\n"
          ]
        },
        {
          "output_type": "stream",
          "name": "stdout",
          "text": [
            "2023-05-11 03:31:07,942 [INFO] PGN n_spikes: 15\n"
          ]
        },
        {
          "output_type": "stream",
          "name": "stderr",
          "text": [
            "INFO:NEURONIOUtils:PGN n_spikes: 15\n"
          ]
        },
        {
          "output_type": "stream",
          "name": "stdout",
          "text": [
            "2023-05-11 03:31:07,946 [INFO] 70\t\t15.0\n"
          ]
        },
        {
          "output_type": "stream",
          "name": "stderr",
          "text": [
            "INFO:NEURONIOUtils:70\t\t15.0\n"
          ]
        },
        {
          "output_type": "stream",
          "name": "stdout",
          "text": [
            "2023-05-11 03:31:07,948 [INFO] PGN n_spikes: 15\n"
          ]
        },
        {
          "output_type": "stream",
          "name": "stderr",
          "text": [
            "INFO:NEURONIOUtils:PGN n_spikes: 15\n"
          ]
        },
        {
          "output_type": "stream",
          "name": "stdout",
          "text": [
            "2023-05-11 03:31:07,950 [INFO] 71\t\t15.0\n"
          ]
        },
        {
          "output_type": "stream",
          "name": "stderr",
          "text": [
            "INFO:NEURONIOUtils:71\t\t15.0\n"
          ]
        },
        {
          "output_type": "stream",
          "name": "stdout",
          "text": [
            "2023-05-11 03:31:07,952 [INFO] PGN n_spikes: 15\n"
          ]
        },
        {
          "output_type": "stream",
          "name": "stderr",
          "text": [
            "INFO:NEURONIOUtils:PGN n_spikes: 15\n"
          ]
        },
        {
          "output_type": "stream",
          "name": "stdout",
          "text": [
            "2023-05-11 03:31:07,954 [INFO] 72\t\t15.0\n"
          ]
        },
        {
          "output_type": "stream",
          "name": "stderr",
          "text": [
            "INFO:NEURONIOUtils:72\t\t15.0\n"
          ]
        },
        {
          "output_type": "stream",
          "name": "stdout",
          "text": [
            "2023-05-11 03:31:07,956 [INFO] PGN n_spikes: 15\n"
          ]
        },
        {
          "output_type": "stream",
          "name": "stderr",
          "text": [
            "INFO:NEURONIOUtils:PGN n_spikes: 15\n"
          ]
        },
        {
          "output_type": "stream",
          "name": "stdout",
          "text": [
            "2023-05-11 03:31:07,958 [INFO] 73\t\t15.0\n"
          ]
        },
        {
          "output_type": "stream",
          "name": "stderr",
          "text": [
            "INFO:NEURONIOUtils:73\t\t15.0\n"
          ]
        },
        {
          "output_type": "stream",
          "name": "stdout",
          "text": [
            "2023-05-11 03:31:07,960 [INFO] PGN n_spikes: 15\n"
          ]
        },
        {
          "output_type": "stream",
          "name": "stderr",
          "text": [
            "INFO:NEURONIOUtils:PGN n_spikes: 15\n"
          ]
        },
        {
          "output_type": "stream",
          "name": "stdout",
          "text": [
            "2023-05-11 03:31:07,962 [INFO] 74\t\t15.0\n"
          ]
        },
        {
          "output_type": "stream",
          "name": "stderr",
          "text": [
            "INFO:NEURONIOUtils:74\t\t15.0\n"
          ]
        },
        {
          "output_type": "stream",
          "name": "stdout",
          "text": [
            "2023-05-11 03:31:07,965 [INFO] PGN n_spikes: 15\n"
          ]
        },
        {
          "output_type": "stream",
          "name": "stderr",
          "text": [
            "INFO:NEURONIOUtils:PGN n_spikes: 15\n"
          ]
        },
        {
          "output_type": "stream",
          "name": "stdout",
          "text": [
            "2023-05-11 03:31:07,967 [INFO] 75\t\t15.0\n"
          ]
        },
        {
          "output_type": "stream",
          "name": "stderr",
          "text": [
            "INFO:NEURONIOUtils:75\t\t15.0\n"
          ]
        },
        {
          "output_type": "stream",
          "name": "stdout",
          "text": [
            "2023-05-11 03:31:07,969 [INFO] PGN n_spikes: 15\n"
          ]
        },
        {
          "output_type": "stream",
          "name": "stderr",
          "text": [
            "INFO:NEURONIOUtils:PGN n_spikes: 15\n"
          ]
        },
        {
          "output_type": "stream",
          "name": "stdout",
          "text": [
            "2023-05-11 03:31:07,971 [INFO] 76\t\t15.0\n"
          ]
        },
        {
          "output_type": "stream",
          "name": "stderr",
          "text": [
            "INFO:NEURONIOUtils:76\t\t15.0\n"
          ]
        },
        {
          "output_type": "stream",
          "name": "stdout",
          "text": [
            "2023-05-11 03:31:07,976 [INFO] PGN n_spikes: 15\n"
          ]
        },
        {
          "output_type": "stream",
          "name": "stderr",
          "text": [
            "INFO:NEURONIOUtils:PGN n_spikes: 15\n"
          ]
        },
        {
          "output_type": "stream",
          "name": "stdout",
          "text": [
            "2023-05-11 03:31:07,979 [INFO] 77\t\t15.0\n"
          ]
        },
        {
          "output_type": "stream",
          "name": "stderr",
          "text": [
            "INFO:NEURONIOUtils:77\t\t15.0\n"
          ]
        },
        {
          "output_type": "stream",
          "name": "stdout",
          "text": [
            "2023-05-11 03:31:07,983 [INFO] PGN n_spikes: 15\n"
          ]
        },
        {
          "output_type": "stream",
          "name": "stderr",
          "text": [
            "INFO:NEURONIOUtils:PGN n_spikes: 15\n"
          ]
        },
        {
          "output_type": "stream",
          "name": "stdout",
          "text": [
            "2023-05-11 03:31:07,985 [INFO] 78\t\t15.0\n"
          ]
        },
        {
          "output_type": "stream",
          "name": "stderr",
          "text": [
            "INFO:NEURONIOUtils:78\t\t15.0\n"
          ]
        },
        {
          "output_type": "stream",
          "name": "stdout",
          "text": [
            "2023-05-11 03:31:07,988 [INFO] PGN n_spikes: 15\n"
          ]
        },
        {
          "output_type": "stream",
          "name": "stderr",
          "text": [
            "INFO:NEURONIOUtils:PGN n_spikes: 15\n"
          ]
        },
        {
          "output_type": "stream",
          "name": "stdout",
          "text": [
            "2023-05-11 03:31:07,993 [INFO] 79\t\t15.0\n"
          ]
        },
        {
          "output_type": "stream",
          "name": "stderr",
          "text": [
            "INFO:NEURONIOUtils:79\t\t15.0\n"
          ]
        },
        {
          "output_type": "stream",
          "name": "stdout",
          "text": [
            "2023-05-11 03:31:07,995 [INFO] PGN firing rate avg: 15.0 Hz\n"
          ]
        },
        {
          "output_type": "stream",
          "name": "stderr",
          "text": [
            "INFO:NEURONIOUtils:PGN firing rate avg: 15.0 Hz\n"
          ]
        },
        {
          "output_type": "stream",
          "name": "stdout",
          "text": [
            "2023-05-11 03:31:07,997 [INFO] Grill PGN fr = 5 Hz\n"
          ]
        },
        {
          "output_type": "stream",
          "name": "stderr",
          "text": [
            "INFO:NEURONIOUtils:Grill PGN fr = 5 Hz\n"
          ]
        },
        {
          "output_type": "stream",
          "name": "stdout",
          "text": [
            "2023-05-11 03:31:08,000 [INFO] IMG node_gid\t  Hz\n"
          ]
        },
        {
          "output_type": "stream",
          "name": "stderr",
          "text": [
            "INFO:NEURONIOUtils:IMG node_gid\t  Hz\n"
          ]
        },
        {
          "output_type": "stream",
          "name": "stdout",
          "text": [
            "2023-05-11 03:31:08,002 [INFO] IMG firing rate avg: 15.0 Hz\n"
          ]
        },
        {
          "output_type": "stream",
          "name": "stderr",
          "text": [
            "INFO:NEURONIOUtils:IMG firing rate avg: 15.0 Hz\n"
          ]
        },
        {
          "output_type": "stream",
          "name": "stdout",
          "text": [
            "2023-05-11 03:31:08,010 [INFO] PGN firing rate = 15.00 Hz\n"
          ]
        },
        {
          "output_type": "stream",
          "name": "stderr",
          "text": [
            "/usr/local/lib/python3.10/dist-packages/bmtk/utils/reports/spike_trains/spike_trains.py:183: RuntimeWarning: divide by zero encountered in double_scalars\n",
            "  interval = -np.log(1.0 - np.random.uniform()) / fr\n",
            "INFO:NEURONIOUtils:PGN firing rate = 15.00 Hz\n"
          ]
        },
        {
          "output_type": "stream",
          "name": "stdout",
          "text": [
            "2023-05-11 03:31:08,020 [INFO] Volume = 6.2500 ml\n"
          ]
        },
        {
          "output_type": "stream",
          "name": "stderr",
          "text": [
            "INFO:NEURONIOUtils:Volume = 6.2500 ml\n"
          ]
        },
        {
          "output_type": "stream",
          "name": "stdout",
          "text": [
            "2023-05-11 03:31:08,022 [INFO] Pressure = 5.00 mmHg\n"
          ]
        },
        {
          "output_type": "stream",
          "name": "stderr",
          "text": [
            "INFO:NEURONIOUtils:Pressure = 5.00 mmHg\n"
          ]
        },
        {
          "output_type": "stream",
          "name": "stdout",
          "text": [
            "2023-05-11 03:31:08,024 [INFO] Calculated bladder afferent firing rate for the next time step = 0.00 Hz \n",
            " \n",
            "\n"
          ]
        },
        {
          "output_type": "stream",
          "name": "stderr",
          "text": [
            "INFO:NEURONIOUtils:Calculated bladder afferent firing rate for the next time step = 0.00 Hz \n",
            " \n",
            "\n"
          ]
        },
        {
          "output_type": "stream",
          "name": "stdout",
          "text": [
            "2023-05-11 03:31:08,026 [INFO] t value: \n"
          ]
        },
        {
          "output_type": "stream",
          "name": "stderr",
          "text": [
            "INFO:NEURONIOUtils:t value: \n"
          ]
        },
        {
          "output_type": "stream",
          "name": "stdout",
          "text": [
            "2023-05-11 03:31:30,846 [INFO]     step:250000 t_sim:50000.00 ms\n"
          ]
        },
        {
          "output_type": "stream",
          "name": "stderr",
          "text": [
            "INFO:NEURONIOUtils:    step:250000 t_sim:50000.00 ms\n"
          ]
        },
        {
          "output_type": "stream",
          "name": "stdout",
          "text": [
            "2023-05-11 03:31:30,870 [INFO] Timestep 40000.0 to 50000.0 ms\n"
          ]
        },
        {
          "output_type": "stream",
          "name": "stderr",
          "text": [
            "INFO:NEURONIOUtils:Timestep 40000.0 to 50000.0 ms\n"
          ]
        },
        {
          "output_type": "stream",
          "name": "stdout",
          "text": [
            "2023-05-11 03:31:30,874 [INFO] PGN node_id\t  Hz\n"
          ]
        },
        {
          "output_type": "stream",
          "name": "stderr",
          "text": [
            "INFO:NEURONIOUtils:PGN node_id\t  Hz\n"
          ]
        },
        {
          "output_type": "stream",
          "name": "stdout",
          "text": [
            "2023-05-11 03:31:30,878 [INFO] PGN n_spikes: 18\n"
          ]
        },
        {
          "output_type": "stream",
          "name": "stderr",
          "text": [
            "INFO:NEURONIOUtils:PGN n_spikes: 18\n"
          ]
        },
        {
          "output_type": "stream",
          "name": "stdout",
          "text": [
            "2023-05-11 03:31:30,881 [INFO] 70\t\t18.0\n"
          ]
        },
        {
          "output_type": "stream",
          "name": "stderr",
          "text": [
            "INFO:NEURONIOUtils:70\t\t18.0\n"
          ]
        },
        {
          "output_type": "stream",
          "name": "stdout",
          "text": [
            "2023-05-11 03:31:30,883 [INFO] PGN n_spikes: 18\n"
          ]
        },
        {
          "output_type": "stream",
          "name": "stderr",
          "text": [
            "INFO:NEURONIOUtils:PGN n_spikes: 18\n"
          ]
        },
        {
          "output_type": "stream",
          "name": "stdout",
          "text": [
            "2023-05-11 03:31:30,886 [INFO] 71\t\t18.0\n"
          ]
        },
        {
          "output_type": "stream",
          "name": "stderr",
          "text": [
            "INFO:NEURONIOUtils:71\t\t18.0\n"
          ]
        },
        {
          "output_type": "stream",
          "name": "stdout",
          "text": [
            "2023-05-11 03:31:30,888 [INFO] PGN n_spikes: 18\n"
          ]
        },
        {
          "output_type": "stream",
          "name": "stderr",
          "text": [
            "INFO:NEURONIOUtils:PGN n_spikes: 18\n"
          ]
        },
        {
          "output_type": "stream",
          "name": "stdout",
          "text": [
            "2023-05-11 03:31:30,890 [INFO] 72\t\t18.0\n"
          ]
        },
        {
          "output_type": "stream",
          "name": "stderr",
          "text": [
            "INFO:NEURONIOUtils:72\t\t18.0\n"
          ]
        },
        {
          "output_type": "stream",
          "name": "stdout",
          "text": [
            "2023-05-11 03:31:30,892 [INFO] PGN n_spikes: 18\n"
          ]
        },
        {
          "output_type": "stream",
          "name": "stderr",
          "text": [
            "INFO:NEURONIOUtils:PGN n_spikes: 18\n"
          ]
        },
        {
          "output_type": "stream",
          "name": "stdout",
          "text": [
            "2023-05-11 03:31:30,894 [INFO] 73\t\t18.0\n"
          ]
        },
        {
          "output_type": "stream",
          "name": "stderr",
          "text": [
            "INFO:NEURONIOUtils:73\t\t18.0\n"
          ]
        },
        {
          "output_type": "stream",
          "name": "stdout",
          "text": [
            "2023-05-11 03:31:30,896 [INFO] PGN n_spikes: 18\n"
          ]
        },
        {
          "output_type": "stream",
          "name": "stderr",
          "text": [
            "INFO:NEURONIOUtils:PGN n_spikes: 18\n"
          ]
        },
        {
          "output_type": "stream",
          "name": "stdout",
          "text": [
            "2023-05-11 03:31:30,898 [INFO] 74\t\t18.0\n"
          ]
        },
        {
          "output_type": "stream",
          "name": "stderr",
          "text": [
            "INFO:NEURONIOUtils:74\t\t18.0\n"
          ]
        },
        {
          "output_type": "stream",
          "name": "stdout",
          "text": [
            "2023-05-11 03:31:30,900 [INFO] PGN n_spikes: 18\n"
          ]
        },
        {
          "output_type": "stream",
          "name": "stderr",
          "text": [
            "INFO:NEURONIOUtils:PGN n_spikes: 18\n"
          ]
        },
        {
          "output_type": "stream",
          "name": "stdout",
          "text": [
            "2023-05-11 03:31:30,905 [INFO] 75\t\t18.0\n"
          ]
        },
        {
          "output_type": "stream",
          "name": "stderr",
          "text": [
            "INFO:NEURONIOUtils:75\t\t18.0\n"
          ]
        },
        {
          "output_type": "stream",
          "name": "stdout",
          "text": [
            "2023-05-11 03:31:30,907 [INFO] PGN n_spikes: 18\n"
          ]
        },
        {
          "output_type": "stream",
          "name": "stderr",
          "text": [
            "INFO:NEURONIOUtils:PGN n_spikes: 18\n"
          ]
        },
        {
          "output_type": "stream",
          "name": "stdout",
          "text": [
            "2023-05-11 03:31:30,909 [INFO] 76\t\t18.0\n"
          ]
        },
        {
          "output_type": "stream",
          "name": "stderr",
          "text": [
            "INFO:NEURONIOUtils:76\t\t18.0\n"
          ]
        },
        {
          "output_type": "stream",
          "name": "stdout",
          "text": [
            "2023-05-11 03:31:30,914 [INFO] PGN n_spikes: 18\n"
          ]
        },
        {
          "output_type": "stream",
          "name": "stderr",
          "text": [
            "INFO:NEURONIOUtils:PGN n_spikes: 18\n"
          ]
        },
        {
          "output_type": "stream",
          "name": "stdout",
          "text": [
            "2023-05-11 03:31:30,916 [INFO] 77\t\t18.0\n"
          ]
        },
        {
          "output_type": "stream",
          "name": "stderr",
          "text": [
            "INFO:NEURONIOUtils:77\t\t18.0\n"
          ]
        },
        {
          "output_type": "stream",
          "name": "stdout",
          "text": [
            "2023-05-11 03:31:30,917 [INFO] PGN n_spikes: 18\n"
          ]
        },
        {
          "output_type": "stream",
          "name": "stderr",
          "text": [
            "INFO:NEURONIOUtils:PGN n_spikes: 18\n"
          ]
        },
        {
          "output_type": "stream",
          "name": "stdout",
          "text": [
            "2023-05-11 03:31:30,919 [INFO] 78\t\t18.0\n"
          ]
        },
        {
          "output_type": "stream",
          "name": "stderr",
          "text": [
            "INFO:NEURONIOUtils:78\t\t18.0\n"
          ]
        },
        {
          "output_type": "stream",
          "name": "stdout",
          "text": [
            "2023-05-11 03:31:30,921 [INFO] PGN n_spikes: 18\n"
          ]
        },
        {
          "output_type": "stream",
          "name": "stderr",
          "text": [
            "INFO:NEURONIOUtils:PGN n_spikes: 18\n"
          ]
        },
        {
          "output_type": "stream",
          "name": "stdout",
          "text": [
            "2023-05-11 03:31:30,923 [INFO] 79\t\t18.0\n"
          ]
        },
        {
          "output_type": "stream",
          "name": "stderr",
          "text": [
            "INFO:NEURONIOUtils:79\t\t18.0\n"
          ]
        },
        {
          "output_type": "stream",
          "name": "stdout",
          "text": [
            "2023-05-11 03:31:30,928 [INFO] PGN firing rate avg: 18.0 Hz\n"
          ]
        },
        {
          "output_type": "stream",
          "name": "stderr",
          "text": [
            "INFO:NEURONIOUtils:PGN firing rate avg: 18.0 Hz\n"
          ]
        },
        {
          "output_type": "stream",
          "name": "stdout",
          "text": [
            "2023-05-11 03:31:30,930 [INFO] Grill PGN fr = 5 Hz\n"
          ]
        },
        {
          "output_type": "stream",
          "name": "stderr",
          "text": [
            "INFO:NEURONIOUtils:Grill PGN fr = 5 Hz\n"
          ]
        },
        {
          "output_type": "stream",
          "name": "stdout",
          "text": [
            "2023-05-11 03:31:30,932 [INFO] IMG node_gid\t  Hz\n"
          ]
        },
        {
          "output_type": "stream",
          "name": "stderr",
          "text": [
            "INFO:NEURONIOUtils:IMG node_gid\t  Hz\n"
          ]
        },
        {
          "output_type": "stream",
          "name": "stdout",
          "text": [
            "2023-05-11 03:31:30,934 [INFO] IMG firing rate avg: 18.0 Hz\n"
          ]
        },
        {
          "output_type": "stream",
          "name": "stderr",
          "text": [
            "INFO:NEURONIOUtils:IMG firing rate avg: 18.0 Hz\n"
          ]
        },
        {
          "output_type": "stream",
          "name": "stdout",
          "text": [
            "2023-05-11 03:31:30,944 [INFO] PGN firing rate = 18.00 Hz\n"
          ]
        },
        {
          "output_type": "stream",
          "name": "stderr",
          "text": [
            "/usr/local/lib/python3.10/dist-packages/bmtk/utils/reports/spike_trains/spike_trains.py:183: RuntimeWarning: divide by zero encountered in double_scalars\n",
            "  interval = -np.log(1.0 - np.random.uniform()) / fr\n",
            "INFO:NEURONIOUtils:PGN firing rate = 18.00 Hz\n"
          ]
        },
        {
          "output_type": "stream",
          "name": "stdout",
          "text": [
            "2023-05-11 03:31:30,950 [INFO] Volume = 8.3333 ml\n"
          ]
        },
        {
          "output_type": "stream",
          "name": "stderr",
          "text": [
            "INFO:NEURONIOUtils:Volume = 8.3333 ml\n"
          ]
        },
        {
          "output_type": "stream",
          "name": "stdout",
          "text": [
            "2023-05-11 03:31:30,953 [INFO] Pressure = 5.00 mmHg\n"
          ]
        },
        {
          "output_type": "stream",
          "name": "stderr",
          "text": [
            "INFO:NEURONIOUtils:Pressure = 5.00 mmHg\n"
          ]
        },
        {
          "output_type": "stream",
          "name": "stdout",
          "text": [
            "2023-05-11 03:31:30,955 [INFO] Calculated bladder afferent firing rate for the next time step = 0.00 Hz \n",
            " \n",
            "\n"
          ]
        },
        {
          "output_type": "stream",
          "name": "stderr",
          "text": [
            "INFO:NEURONIOUtils:Calculated bladder afferent firing rate for the next time step = 0.00 Hz \n",
            " \n",
            "\n"
          ]
        },
        {
          "output_type": "stream",
          "name": "stdout",
          "text": [
            "2023-05-11 03:31:30,957 [INFO] t value: \n"
          ]
        },
        {
          "output_type": "stream",
          "name": "stderr",
          "text": [
            "INFO:NEURONIOUtils:t value: \n"
          ]
        },
        {
          "output_type": "stream",
          "name": "stdout",
          "text": [
            "2023-05-11 03:31:31,069 [INFO] Simulation completed in 2.0 minutes, 0.7545 seconds \n"
          ]
        },
        {
          "output_type": "stream",
          "name": "stderr",
          "text": [
            "INFO:NEURONIOUtils:Simulation completed in 2.0 minutes, 0.7545 seconds \n"
          ]
        },
        {
          "output_type": "stream",
          "name": "stdout",
          "text": [
            "250000 0.2\n",
            "[ 0 25 26 27 23 24 29 30 31 33 34 35 36 40 37 28 22  2  3  4  5  6  7  8\n",
            "  9 10 11 12 13 14  1 79 78 15 21 20 16 17 18 19 41 51 52 53 49 50 55 56\n",
            " 57 54 43 44 45 42 47 48 46 74 75 73 77 76 59 60 65 66 69 70 58 71 72]\n"
          ]
        },
        {
          "output_type": "display_data",
          "data": {
            "text/plain": [
              "<Figure size 640x480 with 2 Axes>"
            ],
            "image/png": "[encoded data removed]"
          },
          "metadata": {}
        },
        {
          "output_type": "display_data",
          "data": {
            "text/plain": [
              "<Figure size 640x480 with 1 Axes>"
            ],
            "image/png": "[encoded data removed]"
          },
          "metadata": {}
        }
      ]
    }
  ]
}